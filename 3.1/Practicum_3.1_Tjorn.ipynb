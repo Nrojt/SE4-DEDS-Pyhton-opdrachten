{
 "cells": [
  {
   "cell_type": "markdown",
   "source": [
    "# Practicumopdrachten Week 3.1 (eerste kans)"
   ],
   "metadata": {
    "collapsed": false
   },
   "id": "6ff0c220d5595026"
  },
  {
   "cell_type": "markdown",
   "source": [
    "## Dependencies importeren "
   ],
   "metadata": {
    "collapsed": false
   },
   "id": "8c3dc231ecd2e905"
  },
  {
   "cell_type": "code",
   "outputs": [],
   "source": [
    "import random\n",
    "import time\n",
    "import pandas as pd"
   ],
   "metadata": {
    "collapsed": false,
    "ExecuteTime": {
     "end_time": "2024-02-27T14:26:27.754050Z",
     "start_time": "2024-02-27T14:26:27.750308Z"
    }
   },
   "id": "da9cf7b601be2a35",
   "execution_count": 76
  },
  {
   "cell_type": "markdown",
   "source": [
    "### Functie om lijst van random integers te maken"
   ],
   "metadata": {
    "collapsed": false
   },
   "id": "29f8215c32e1ce7b"
  },
  {
   "cell_type": "code",
   "outputs": [],
   "source": [
    "def generate_random_integer_list(length : int):\n",
    "    tempList = []\n",
    "    \n",
    "    for x in range (0, length):\n",
    "     tempList.append(int(random.random()*100)) # doing times 100 cause random returns a value between 0 and 1\n",
    "     \n",
    "    return tempList   "
   ],
   "metadata": {
    "collapsed": false,
    "ExecuteTime": {
     "end_time": "2024-02-27T14:26:27.809051Z",
     "start_time": "2024-02-27T14:26:27.805413Z"
    }
   },
   "id": "7230f55ea9d4a7ac",
   "execution_count": 77
  },
  {
   "cell_type": "markdown",
   "source": [
    "### Het definiëren en vullen van lijsten met random getallen"
   ],
   "metadata": {
    "collapsed": false
   },
   "id": "73a39160bd5e818a"
  },
  {
   "cell_type": "code",
   "outputs": [],
   "source": [
    "# existing algorithms\n",
    "mergeList = generate_random_integer_list(69420)\n",
    "bubbleList = generate_random_integer_list(420)\n",
    "quickList = generate_random_integer_list(69420)\n",
    "selectionList = generate_random_integer_list(69420)\n",
    "\n",
    "# bogo sort just for fun\n",
    "bogoList = generate_random_integer_list(360)\n",
    "\n",
    "# own experiment\n",
    "splitUpBubbleList = generate_random_integer_list(420)"
   ],
   "metadata": {
    "collapsed": false,
    "ExecuteTime": {
     "end_time": "2024-02-27T14:26:27.842207Z",
     "start_time": "2024-02-27T14:26:27.818566Z"
    }
   },
   "id": "e2fe684caefd647a",
   "execution_count": 78
  },
  {
   "cell_type": "markdown",
   "source": [
    "### Helper functie om te checken of een lijst gesorteerd is"
   ],
   "metadata": {
    "collapsed": false
   },
   "id": "c5cd3258e3a052ae"
  },
  {
   "cell_type": "code",
   "outputs": [],
   "source": [
    "# to check if the list are sorted\n",
    "def is_sorted(data) -> bool:\n",
    "    # looping through the list and checking if the current element is greater than the next element\n",
    "    for i in range(len(data) - 1):\n",
    "        if data[i] > data[i + 1]:\n",
    "            return False\n",
    "    return True"
   ],
   "metadata": {
    "collapsed": false,
    "ExecuteTime": {
     "end_time": "2024-02-27T14:26:27.847728Z",
     "start_time": "2024-02-27T14:26:27.844223Z"
    }
   },
   "id": "1e3ebcae1c190c49",
   "execution_count": 79
  },
  {
   "cell_type": "markdown",
   "source": [
    "## Sorteer algoritmen"
   ],
   "metadata": {
    "collapsed": false
   },
   "id": "74a18e546328b9c5"
  },
  {
   "cell_type": "markdown",
   "source": [
    "### Merge Sort\n",
    "![Gif showing merge sorting](https://upload.wikimedia.org/wikipedia/commons/c/cc/Merge-sort-example-300px.gif)"
   ],
   "metadata": {
    "collapsed": false
   },
   "id": "420fb5063e9cc041"
  },
  {
   "cell_type": "markdown",
   "source": [
    "Merge sort is een sorteeralgoritme dat de lijst in tweeën splitst en vervolgens de twee helften sorteert. Dit wordt gedaan totdat de lijsten nog maar één element bevatten. Vervolgens worden de lijsten samengevoegd en gesorteerd. Dit proces wordt recursief uitgevoerd totdat de lijst gesorteerd is.\n",
    "Bij helften van een lijst met één element is de lijst al gesorteerd.\n",
    "Bij het samenvoegen van helften met meer dan één element weet je dat de linker elementen het kleinst zijn. Dit betekent dat je de elementen van de linker en rechter helft kan vergelijken en de kleinste elementen als eerste aan de gesorteerde lijst kan toevoegen."
   ],
   "metadata": {
    "collapsed": false
   },
   "id": "267da553d0595aba"
  },
  {
   "cell_type": "code",
   "outputs": [],
   "source": [
    "# method to split the list in half\n",
    "def split_list(input_list):\n",
    "    middle_index = len(input_list) // 2\n",
    "    left_half = input_list[:middle_index]\n",
    "    right_half = input_list[middle_index:]\n",
    "    return left_half, right_half\n",
    "\n",
    "def merge_sort(input_list):\n",
    "    # if the input list is empty or has only one element, it is already sorted\n",
    "    if len(input_list) <= 1:\n",
    "        return\n",
    "    \n",
    "    # splitting the list in half to get the left and right halves\n",
    "    middle_index = len(input_list) // 2\n",
    "    left_half, right_half = split_list(input_list)\n",
    "    \n",
    "    # calling the merge_sort function recursively. This means all code below these two lines will have a input_list with a length of 1\n",
    "    merge_sort(left_half)\n",
    "    merge_sort(right_half)\n",
    "    \n",
    "    # merge the sorted halves\n",
    "    sorted_list = [] # create an empty list to store the sorted elements. Cannot use input_list as it will be overwritten\n",
    "    left_index = 0\n",
    "    right_index = 0\n",
    "    \n",
    "    while left_index < len(left_half) and right_index < len(right_half):\n",
    "        # if the element in the left half is smaller than the element in the right half, append the left element to the sorted list (since it is the smallest element)\n",
    "        if left_half[left_index] < right_half[right_index]:\n",
    "            sorted_list.append(left_half[left_index])\n",
    "            left_index += 1\n",
    "        # if the element in the right half is smaller than the element in the left half, append the right element to the sorted list (since it is the smallest element)\n",
    "        else:\n",
    "            sorted_list.append(right_half[right_index])\n",
    "            right_index += 1\n",
    "            \n",
    "    # if there are remaining elements in either half, append them to the result. This is because the previous while loop will stop when one of the halves is empty\n",
    "    while left_index < len(left_half):\n",
    "        sorted_list.append(left_half[left_index])\n",
    "        left_index += 1\n",
    "\n",
    "    while right_index < len(right_half):\n",
    "        sorted_list.append(right_half[right_index])\n",
    "        right_index += 1\n",
    "    \n",
    "    # copy the sorted list to the input list\n",
    "    input_list[:] = sorted_list"
   ],
   "metadata": {
    "collapsed": false,
    "ExecuteTime": {
     "end_time": "2024-02-27T14:26:27.857820Z",
     "start_time": "2024-02-27T14:26:27.848734Z"
    }
   },
   "id": "8c91ccf48a829ac",
   "execution_count": 80
  },
  {
   "cell_type": "markdown",
   "source": [
    "### Bubble Sort\n",
    "![Gif showing bubble sorting](https://upload.wikimedia.org/wikipedia/commons/c/c8/Bubble-sort-example-300px.gif)"
   ],
   "metadata": {
    "collapsed": false
   },
   "id": "805a87a40a28f54a"
  },
  {
   "cell_type": "markdown",
   "source": [
    "Bubble sort is een sorteeralgoritme dat de lijst doorloopt en steeds twee opeenvolgende elementen vergelijkt. Als het eerste element groter is dan het tweede element, worden de elementen omgewisseld. Dit proces wordt herhaald totdat de lijst gesorteerd is."
   ],
   "metadata": {
    "collapsed": false
   },
   "id": "e2fb4d3113d415f"
  },
  {
   "cell_type": "code",
   "outputs": [],
   "source": [
    "def bubble_sort(input_list):\n",
    "    # looping through the list. i is the amount of elements that are already sorted\n",
    "    for i in range (len(input_list)):\n",
    "        # looping through the list again, but only until the last i element (so sorted elements are not checked again). The -1 is because we are comparing the current element with the next element. To avoid trying to read values outside the array length, we stop at the second to last element\n",
    "        for j in range (0, len(input_list)-i-1):\n",
    "            # if the current element is greater than the next element, swap them\n",
    "            # works cause Python tuples are immutable so the values are not lost\n",
    "            if input_list[j] > input_list[j+1]:\n",
    "                input_list[j], input_list[j+1] = input_list[j+1], input_list[j]"
   ],
   "metadata": {
    "collapsed": false,
    "ExecuteTime": {
     "end_time": "2024-02-27T14:26:27.869205Z",
     "start_time": "2024-02-27T14:26:27.859844Z"
    }
   },
   "id": "4a97da34ceba7959",
   "execution_count": 81
  },
  {
   "cell_type": "markdown",
   "source": [
    "### Quick Sort\n",
    "![Gif showing quick sorting](https://upload.wikimedia.org/wikipedia/commons/6/6a/Sorting_quicksort_anim.gif)"
   ],
   "metadata": {
    "collapsed": false
   },
   "id": "52020f0e46f2556b"
  },
  {
   "cell_type": "markdown",
   "source": [
    "Quick sort is een sorteeralgoritme dat de lijst in tweeën splitst en vervolgens de twee helften sorteert. Dit wordt gedaan totdat de lijsten nog maar één element bevatten. Vervolgens worden de lijsten samengevoegd en gesorteerd. Dit proces wordt recursief uitgevoerd totdat de lijst gesorteerd is.\n",
    "De lijst wordt gesplitst door een pivot te kiezen en de elementen te sorteren op basis van de pivot. De pivot is hier het laatste element van de lijst. Vervolgens worden de elementen kleiner dan de pivot aan de linkerkant van de pivot geplaatst en de elementen groter dan de pivot aan de rechterkant van de pivot geplaatst. Dit wordt gedaan door de elementen te vergelijken met de pivot en ze te verplaatsen naar de juiste kant van de pivot. Vervolgens wordt de lijst in tweeën gesplitst en wordt het proces herhaald totdat de lijst gesorteerd is."
   ],
   "metadata": {
    "collapsed": false
   },
   "id": "c34e72607842b1d1"
  },
  {
   "cell_type": "code",
   "outputs": [],
   "source": [
    "def partition(input_list, start, end):\n",
    "    # setting the pivot to the last element of the list\n",
    "    pivot = input_list[end]\n",
    "    \n",
    "    index = start - 1\n",
    "    \n",
    "    for j in range(start, end):\n",
    "        # if the current element is smaller than the pivot, move the index of the smaller elements up by 1 and swap the current element with the element at the index\n",
    "        if input_list[j] < pivot:\n",
    "            index += 1\n",
    "            # works cause it creates a tuple with the values of the two elements and then unpacks them into the two elements\n",
    "            input_list[index], input_list[j] = input_list[j], input_list[index]\n",
    "       \n",
    "    # move the index up by 1     \n",
    "    index += 1\n",
    "\n",
    "    # swap the pivot with the element at the index\n",
    "    input_list[index], input_list[end] = input_list[end], input_list[index]\n",
    "    \n",
    "    return (index)\n",
    "\n",
    "def quick_sort(input_list, start=0, end=None):\n",
    "    # if end is not given, set it to the last index of the list. This is used on the first call of the function. Recursive calls will have the end parameter set.\n",
    "    if end is None:\n",
    "        end = len(input_list) - 1\n",
    "        \n",
    "    # if the start index is greater than or equal to the end index, the list is already sorted\n",
    "    if start >= end:\n",
    "        return\n",
    "        \n",
    "    # getting the pivot index\n",
    "    pivot = partition(input_list, start, end)\n",
    "    \n",
    "    # recursively calling the quick_sort function with the left and right halves of the pivot\n",
    "    quick_sort(input_list, start, pivot - 1)\n",
    "    quick_sort(input_list, pivot + 1, end)"
   ],
   "metadata": {
    "collapsed": false,
    "ExecuteTime": {
     "end_time": "2024-02-27T14:26:27.881633Z",
     "start_time": "2024-02-27T14:26:27.870216Z"
    }
   },
   "id": "a0c4a5cb272a82b0",
   "execution_count": 82
  },
  {
   "cell_type": "markdown",
   "source": [
    "### Bogo Sort\n",
    "![Gif showing bogo sorting](https://i.makeagif.com/media/12-07-2015/zEk2rW.gif)"
   ],
   "metadata": {
    "collapsed": false
   },
   "id": "6d8944c0a028bbd3"
  },
  {
   "cell_type": "markdown",
   "source": [
    "Bogo sort is geen serieus sorteeralgoritme. Het sorteert een lijst door de elementen te blijven shuffelen totdat de lijst gesorteerd is. Dit kan theoretisch gezien oneindig lang duren. Daarom is er een max_tries parameter toegevoegd om te voorkomen dat het programma oneindig lang blijft draaien. De bogo sort lijst zal dan ook vaak niet gesorteerd zijn."
   ],
   "metadata": {
    "collapsed": false
   },
   "id": "632afc321c44facf"
  },
  {
   "cell_type": "code",
   "outputs": [],
   "source": [
    "def bogo_sort(input_list, max_tries : int):\n",
    "    # max_tries because bogo sort can theoretically take forever\n",
    "    for x in range(max_tries):\n",
    "        if is_sorted(input_list):\n",
    "            return\n",
    "        random.shuffle(input_list)"
   ],
   "metadata": {
    "collapsed": false,
    "ExecuteTime": {
     "end_time": "2024-02-27T14:26:27.890831Z",
     "start_time": "2024-02-27T14:26:27.882651Z"
    }
   },
   "id": "f73285ba90e101ee",
   "execution_count": 83
  },
  {
   "cell_type": "markdown",
   "source": [
    "### Selection sort\n",
    "![Gif met een voorbeeld van Selection sort](https://upload.wikimedia.org/wikipedia/commons/9/94/Selection-Sort-Animation.gif)"
   ],
   "metadata": {
    "collapsed": false
   },
   "id": "668ddbd4057055e0"
  },
  {
   "cell_type": "markdown",
   "source": [
    "Selection sort is een sorteeralgoritme dat de lijst doorloopt en steeds het kleinste element van de lijst pakt en toevoegt aan een nieuwe lijst. Dit proces wordt herhaald totdat de lijst gesorteerd is."
   ],
   "metadata": {
    "collapsed": false
   },
   "id": "976c96a5bbbaea63"
  },
  {
   "cell_type": "code",
   "outputs": [],
   "source": [
    "def search_lowest(input_list) -> (int, int):\n",
    "    # setting the lowest number to the first element of the list\n",
    "    lowest_number = input_list[0]\n",
    "    index = 0\n",
    "    \n",
    "    # looping through the list\n",
    "    for i in range(1, len(input_list)):\n",
    "        # if the current element is smaller than the lowest number, set the lowest number to the current element\n",
    "        if input_list[i] < lowest_number:\n",
    "            lowest_number = input_list[i]\n",
    "            index = i\n",
    "    \n",
    "    return (lowest_number, index)\n",
    "    \n",
    "# sorting by using binary search to get the lowest number \n",
    "def selection_sort(input_list):\n",
    "    sorted_list = []\n",
    "    \n",
    "    for i in range(len(input_list)):\n",
    "        # if the list is empty or only contains one item, break the loop\n",
    "        if len(input_list) <= 1:\n",
    "            sorted_list.append(input_list[0])\n",
    "            break\n",
    "            \n",
    "        # get the lowest number and its index. Add the number to the sorted list and remove it from the input list\n",
    "        lowest_number, index = search_lowest(input_list)\n",
    "        sorted_list.append(lowest_number)\n",
    "        input_list.pop(index)\n",
    "    \n",
    "    # copy the sorted list to the input list\n",
    "    input_list[:] = sorted_list\n",
    "    \n",
    "    "
   ],
   "metadata": {
    "collapsed": false,
    "ExecuteTime": {
     "end_time": "2024-02-27T14:26:27.902615Z",
     "start_time": "2024-02-27T14:26:27.891844Z"
    }
   },
   "id": "a57faa8a32d7076",
   "execution_count": 84
  },
  {
   "cell_type": "markdown",
   "source": [
    "## Split up bubble sort (eigen idee)"
   ],
   "metadata": {
    "collapsed": false
   },
   "id": "e3940da66bd08640"
  },
  {
   "cell_type": "markdown",
   "source": [
    "Bij dit sorteer algoritme wordt de lijst opgesplitst zoals bij merge en quick sort. Vervolgens wordt de lijst gesorteerd met bubble sort. Dit is gedaan om te kijken of het mogelijk is om de snelheid van bubble sort te verbeteren door de lijst op te splitsen."
   ],
   "metadata": {
    "collapsed": false
   },
   "id": "7aa253161bcd3df9"
  },
  {
   "cell_type": "code",
   "outputs": [],
   "source": [
    "def split_up_bubble_sort(input_list):\n",
    "    # if the input list is empty or has only one element, it is already sorted\n",
    "    if len(input_list) <= 1:\n",
    "        return\n",
    "    \n",
    "    # splitting the list in half to get the left and right halves\n",
    "    middle_index = len(input_list) // 2\n",
    "    left_half, right_half = split_list(input_list)\n",
    "    \n",
    "    # calling the merge_sort function recursively. This means all code below these two lines will have a input_list with a length of 1\n",
    "    split_up_bubble_sort(left_half)\n",
    "    split_up_bubble_sort(right_half)\n",
    "    \n",
    "    # bubble sort the left and right halves\n",
    "    bubble_sort(left_half)\n",
    "    bubble_sort(right_half)\n",
    "    \n",
    "    # merge the sorted halves using merge sort\n",
    "    sorted_list = []\n",
    "    while left_half and right_half:\n",
    "        if left_half[0] < right_half[0]:\n",
    "            sorted_list.append(left_half.pop(0))\n",
    "        else:\n",
    "            sorted_list.append(right_half.pop(0))\n",
    "    while left_half:\n",
    "        sorted_list.append(left_half.pop(0))\n",
    "    while right_half:\n",
    "        sorted_list.append(right_half.pop(0))\n",
    "        \n",
    "    # copy the sorted list to the input list\n",
    "    input_list[:] = sorted_list\n",
    "    \n",
    "    print(input_list)"
   ],
   "metadata": {
    "collapsed": false,
    "ExecuteTime": {
     "end_time": "2024-02-27T14:26:27.926693Z",
     "start_time": "2024-02-27T14:26:27.920681Z"
    }
   },
   "id": "8848787f7857da23",
   "execution_count": 85
  },
  {
   "cell_type": "markdown",
   "source": [
    "## Resultaten"
   ],
   "metadata": {
    "collapsed": false
   },
   "id": "fc8992f05fa0f4ac"
  },
  {
   "cell_type": "markdown",
   "source": [
    "### Sorteren van de lijsten"
   ],
   "metadata": {
    "collapsed": false
   },
   "id": "f9683f4e0e4ef9e1"
  },
  {
   "cell_type": "markdown",
   "source": [
    "Hier worden de lijsten gesorteerd en wordt de tijd gemeten die het kost om de lijsten te sorteren. Dit wordt gedaan door de tijd te meten voordat de lijst gesorteerd wordt en de tijd te meten nadat de lijst gesorteerd is. De tijd die het kost om de lijst te sorteren wordt berekend door het eindtijd van het sorteren af te trekken van de starttijd van het sorteren."
   ],
   "metadata": {
    "collapsed": false
   },
   "id": "aa6dfcfef7e186e8"
  },
  {
   "cell_type": "code",
   "outputs": [
    {
     "name": "stdout",
     "output_type": "stream",
     "text": [
      "[30, 82]\n",
      "[30, 33, 82]\n",
      "[46, 72]\n",
      "[23, 46, 72]\n",
      "[23, 30, 33, 46, 72, 82]\n",
      "[74, 81]\n",
      "[0, 74, 81]\n",
      "[0, 11]\n",
      "[41, 70]\n",
      "[0, 11, 41, 70]\n",
      "[0, 0, 11, 41, 70, 74, 81]\n",
      "[0, 0, 11, 23, 30, 33, 41, 46, 70, 72, 74, 81, 82]\n",
      "[7, 83]\n",
      "[7, 9, 83]\n",
      "[11, 64]\n",
      "[11, 64, 78]\n",
      "[7, 9, 11, 64, 78, 83]\n",
      "[21, 83]\n",
      "[21, 62, 83]\n",
      "[42, 99]\n",
      "[46, 98]\n",
      "[42, 46, 98, 99]\n",
      "[21, 42, 46, 62, 83, 98, 99]\n",
      "[7, 9, 11, 21, 42, 46, 62, 64, 78, 83, 83, 98, 99]\n",
      "[0, 0, 7, 9, 11, 11, 21, 23, 30, 33, 41, 42, 46, 46, 62, 64, 70, 72, 74, 78, 81, 82, 83, 83, 98, 99]\n",
      "[17, 73]\n",
      "[17, 53, 73]\n",
      "[13, 27]\n",
      "[2, 13, 27]\n",
      "[2, 13, 17, 27, 53, 73]\n",
      "[2, 4]\n",
      "[2, 4, 34]\n",
      "[80, 82]\n",
      "[9, 33]\n",
      "[9, 33, 80, 82]\n",
      "[2, 4, 9, 33, 34, 80, 82]\n",
      "[2, 2, 4, 9, 13, 17, 27, 33, 34, 53, 73, 80, 82]\n",
      "[54, 76]\n",
      "[37, 54, 76]\n",
      "[12, 96]\n",
      "[12, 94, 96]\n",
      "[12, 37, 54, 76, 94, 96]\n",
      "[7, 53]\n",
      "[7, 12, 53]\n",
      "[43, 88]\n",
      "[39, 45]\n",
      "[39, 43, 45, 88]\n",
      "[7, 12, 39, 43, 45, 53, 88]\n",
      "[7, 12, 12, 37, 39, 43, 45, 53, 54, 76, 88, 94, 96]\n",
      "[2, 2, 4, 7, 9, 12, 12, 13, 17, 27, 33, 34, 37, 39, 43, 45, 53, 53, 54, 73, 76, 80, 82, 88, 94, 96]\n",
      "[0, 0, 2, 2, 4, 7, 7, 9, 9, 11, 11, 12, 12, 13, 17, 21, 23, 27, 30, 33, 33, 34, 37, 39, 41, 42, 43, 45, 46, 46, 53, 53, 54, 62, 64, 70, 72, 73, 74, 76, 78, 80, 81, 82, 82, 83, 83, 88, 94, 96, 98, 99]\n",
      "[46, 62]\n",
      "[0, 46, 62]\n",
      "[77, 99]\n",
      "[77, 98, 99]\n",
      "[0, 46, 62, 77, 98, 99]\n",
      "[17, 77]\n",
      "[17, 77, 98]\n",
      "[34, 40]\n",
      "[5, 75]\n",
      "[5, 34, 40, 75]\n",
      "[5, 17, 34, 40, 75, 77, 98]\n",
      "[0, 5, 17, 34, 40, 46, 62, 75, 77, 77, 98, 98, 99]\n",
      "[15, 85]\n",
      "[15, 20, 85]\n",
      "[52, 54]\n",
      "[32, 52, 54]\n",
      "[15, 20, 32, 52, 54, 85]\n",
      "[24, 31]\n",
      "[0, 24, 31]\n",
      "[4, 11]\n",
      "[7, 86]\n",
      "[4, 7, 11, 86]\n",
      "[0, 4, 7, 11, 24, 31, 86]\n",
      "[0, 4, 7, 11, 15, 20, 24, 31, 32, 52, 54, 85, 86]\n",
      "[0, 0, 4, 5, 7, 11, 15, 17, 20, 24, 31, 32, 34, 40, 46, 52, 54, 62, 75, 77, 77, 85, 86, 98, 98, 99]\n",
      "[17, 67]\n",
      "[17, 50, 67]\n",
      "[20, 23]\n",
      "[20, 23, 23]\n",
      "[17, 20, 23, 23, 50, 67]\n",
      "[17, 18]\n",
      "[17, 18, 23]\n",
      "[19, 54]\n",
      "[45, 81]\n",
      "[19, 45, 54, 81]\n",
      "[17, 18, 19, 23, 45, 54, 81]\n",
      "[17, 17, 18, 19, 20, 23, 23, 23, 45, 50, 54, 67, 81]\n",
      "[13, 15]\n",
      "[13, 15, 19]\n",
      "[9, 87]\n",
      "[5, 65]\n",
      "[5, 9, 65, 87]\n",
      "[5, 9, 13, 15, 19, 65, 87]\n",
      "[7, 49]\n",
      "[7, 49, 57]\n",
      "[23, 63]\n",
      "[8, 25]\n",
      "[8, 23, 25, 63]\n",
      "[7, 8, 23, 25, 49, 57, 63]\n",
      "[5, 7, 8, 9, 13, 15, 19, 23, 25, 49, 57, 63, 65, 87]\n",
      "[5, 7, 8, 9, 13, 15, 17, 17, 18, 19, 19, 20, 23, 23, 23, 23, 25, 45, 49, 50, 54, 57, 63, 65, 67, 81, 87]\n",
      "[0, 0, 4, 5, 5, 7, 7, 8, 9, 11, 13, 15, 15, 17, 17, 17, 18, 19, 19, 20, 20, 23, 23, 23, 23, 24, 25, 31, 32, 34, 40, 45, 46, 49, 50, 52, 54, 54, 57, 62, 63, 65, 67, 75, 77, 77, 81, 85, 86, 87, 98, 98, 99]\n",
      "[0, 0, 0, 0, 2, 2, 4, 4, 5, 5, 7, 7, 7, 7, 8, 9, 9, 9, 11, 11, 11, 12, 12, 13, 13, 15, 15, 17, 17, 17, 17, 18, 19, 19, 20, 20, 21, 23, 23, 23, 23, 23, 24, 25, 27, 30, 31, 32, 33, 33, 34, 34, 37, 39, 40, 41, 42, 43, 45, 45, 46, 46, 46, 49, 50, 52, 53, 53, 54, 54, 54, 57, 62, 62, 63, 64, 65, 67, 70, 72, 73, 74, 75, 76, 77, 77, 78, 80, 81, 81, 82, 82, 83, 83, 85, 86, 87, 88, 94, 96, 98, 98, 98, 99, 99]\n",
      "[2, 77]\n",
      "[2, 22, 77]\n",
      "[5, 67]\n",
      "[5, 67, 90]\n",
      "[2, 5, 22, 67, 77, 90]\n",
      "[10, 61]\n",
      "[10, 61, 95]\n",
      "[2, 6]\n",
      "[3, 55]\n",
      "[2, 3, 6, 55]\n",
      "[2, 3, 6, 10, 55, 61, 95]\n",
      "[2, 2, 3, 5, 6, 10, 22, 55, 61, 67, 77, 90, 95]\n",
      "[18, 44]\n",
      "[18, 22, 44]\n",
      "[24, 42]\n",
      "[24, 42, 48]\n",
      "[18, 22, 24, 42, 44, 48]\n",
      "[22, 34]\n",
      "[22, 34, 63]\n",
      "[23, 98]\n",
      "[32, 45]\n",
      "[23, 32, 45, 98]\n",
      "[22, 23, 32, 34, 45, 63, 98]\n",
      "[18, 22, 22, 23, 24, 32, 34, 42, 44, 45, 48, 63, 98]\n",
      "[2, 2, 3, 5, 6, 10, 18, 22, 22, 22, 23, 24, 32, 34, 42, 44, 45, 48, 55, 61, 63, 67, 77, 90, 95, 98]\n",
      "[12, 54]\n",
      "[12, 19, 54]\n",
      "[15, 35]\n",
      "[15, 35, 78]\n",
      "[12, 15, 19, 35, 54, 78]\n",
      "[57, 57]\n",
      "[19, 57, 57]\n",
      "[35, 49]\n",
      "[47, 94]\n",
      "[35, 47, 49, 94]\n",
      "[19, 35, 47, 49, 57, 57, 94]\n",
      "[12, 15, 19, 19, 35, 35, 47, 49, 54, 57, 57, 78, 94]\n",
      "[71, 88]\n",
      "[42, 71, 88]\n",
      "[0, 13]\n",
      "[0, 7, 13]\n",
      "[0, 7, 13, 42, 71, 88]\n",
      "[9, 41]\n",
      "[9, 41, 56]\n",
      "[14, 76]\n",
      "[1, 91]\n",
      "[1, 14, 76, 91]\n",
      "[1, 9, 14, 41, 56, 76, 91]\n",
      "[0, 1, 7, 9, 13, 14, 41, 42, 56, 71, 76, 88, 91]\n",
      "[0, 1, 7, 9, 12, 13, 14, 15, 19, 19, 35, 35, 41, 42, 47, 49, 54, 56, 57, 57, 71, 76, 78, 88, 91, 94]\n",
      "[0, 1, 2, 2, 3, 5, 6, 7, 9, 10, 12, 13, 14, 15, 18, 19, 19, 22, 22, 22, 23, 24, 32, 34, 35, 35, 41, 42, 42, 44, 45, 47, 48, 49, 54, 55, 56, 57, 57, 61, 63, 67, 71, 76, 77, 78, 88, 90, 91, 94, 95, 98]\n",
      "[10, 67]\n",
      "[10, 30, 67]\n",
      "[18, 65]\n",
      "[18, 65, 79]\n",
      "[10, 18, 30, 65, 67, 79]\n",
      "[0, 41]\n",
      "[0, 41, 73]\n",
      "[3, 57]\n",
      "[6, 70]\n",
      "[3, 6, 57, 70]\n",
      "[0, 3, 6, 41, 57, 70, 73]\n",
      "[0, 3, 6, 10, 18, 30, 41, 57, 65, 67, 70, 73, 79]\n",
      "[8, 32]\n",
      "[8, 32, 82]\n",
      "[36, 44]\n",
      "[20, 36, 44]\n",
      "[8, 20, 32, 36, 44, 82]\n",
      "[2, 60]\n",
      "[2, 27, 60]\n",
      "[18, 31]\n",
      "[12, 76]\n",
      "[12, 18, 31, 76]\n",
      "[2, 12, 18, 27, 31, 60, 76]\n",
      "[2, 8, 12, 18, 20, 27, 31, 32, 36, 44, 60, 76, 82]\n",
      "[0, 2, 3, 6, 8, 10, 12, 18, 18, 20, 27, 30, 31, 32, 36, 41, 44, 57, 60, 65, 67, 70, 73, 76, 79, 82]\n",
      "[32, 66]\n",
      "[5, 32, 66]\n",
      "[17, 85]\n",
      "[17, 70, 85]\n",
      "[5, 17, 32, 66, 70, 85]\n",
      "[68, 71]\n",
      "[11, 68, 71]\n",
      "[92, 97]\n",
      "[25, 51]\n",
      "[25, 51, 92, 97]\n",
      "[11, 25, 51, 68, 71, 92, 97]\n",
      "[5, 11, 17, 25, 32, 51, 66, 68, 70, 71, 85, 92, 97]\n",
      "[27, 93]\n",
      "[27, 73, 93]\n",
      "[77, 94]\n",
      "[21, 88]\n",
      "[21, 77, 88, 94]\n",
      "[21, 27, 73, 77, 88, 93, 94]\n",
      "[27, 68]\n",
      "[27, 65, 68]\n",
      "[5, 80]\n",
      "[16, 25]\n",
      "[5, 16, 25, 80]\n",
      "[5, 16, 25, 27, 65, 68, 80]\n",
      "[5, 16, 21, 25, 27, 27, 65, 68, 73, 77, 80, 88, 93, 94]\n",
      "[5, 5, 11, 16, 17, 21, 25, 25, 27, 27, 32, 51, 65, 66, 68, 68, 70, 71, 73, 77, 80, 85, 88, 92, 93, 94, 97]\n",
      "[0, 2, 3, 5, 5, 6, 8, 10, 11, 12, 16, 17, 18, 18, 20, 21, 25, 25, 27, 27, 27, 30, 31, 32, 32, 36, 41, 44, 51, 57, 60, 65, 65, 66, 67, 68, 68, 70, 70, 71, 73, 73, 76, 77, 79, 80, 82, 85, 88, 92, 93, 94, 97]\n",
      "[0, 0, 1, 2, 2, 2, 3, 3, 5, 5, 5, 6, 6, 7, 8, 9, 10, 10, 11, 12, 12, 13, 14, 15, 16, 17, 18, 18, 18, 19, 19, 20, 21, 22, 22, 22, 23, 24, 25, 25, 27, 27, 27, 30, 31, 32, 32, 32, 34, 35, 35, 36, 41, 41, 42, 42, 44, 44, 45, 47, 48, 49, 51, 54, 55, 56, 57, 57, 57, 60, 61, 63, 65, 65, 66, 67, 67, 68, 68, 70, 70, 71, 71, 73, 73, 76, 76, 77, 77, 78, 79, 80, 82, 85, 88, 88, 90, 91, 92, 93, 94, 94, 95, 97, 98]\n",
      "[0, 0, 0, 0, 0, 0, 1, 2, 2, 2, 2, 2, 3, 3, 4, 4, 5, 5, 5, 5, 5, 6, 6, 7, 7, 7, 7, 7, 8, 8, 9, 9, 9, 9, 10, 10, 11, 11, 11, 11, 12, 12, 12, 12, 13, 13, 13, 14, 15, 15, 15, 16, 17, 17, 17, 17, 17, 18, 18, 18, 18, 19, 19, 19, 19, 20, 20, 20, 21, 21, 22, 22, 22, 23, 23, 23, 23, 23, 23, 24, 24, 25, 25, 25, 27, 27, 27, 27, 30, 30, 31, 31, 32, 32, 32, 32, 33, 33, 34, 34, 34, 35, 35, 36, 37, 39, 40, 41, 41, 41, 42, 42, 42, 43, 44, 44, 45, 45, 45, 46, 46, 46, 47, 48, 49, 49, 50, 51, 52, 53, 53, 54, 54, 54, 54, 55, 56, 57, 57, 57, 57, 60, 61, 62, 62, 63, 63, 64, 65, 65, 65, 66, 67, 67, 67, 68, 68, 70, 70, 70, 71, 71, 72, 73, 73, 73, 74, 75, 76, 76, 76, 77, 77, 77, 77, 78, 78, 79, 80, 80, 81, 81, 82, 82, 82, 83, 83, 85, 85, 86, 87, 88, 88, 88, 90, 91, 92, 93, 94, 94, 94, 95, 96, 97, 98, 98, 98, 98, 99, 99]\n",
      "[70, 73]\n",
      "[22, 70, 73]\n",
      "[14, 40]\n",
      "[14, 40, 55]\n",
      "[14, 22, 40, 55, 70, 73]\n",
      "[29, 38]\n",
      "[7, 29, 38]\n",
      "[0, 52]\n",
      "[17, 40]\n",
      "[0, 17, 40, 52]\n",
      "[0, 7, 17, 29, 38, 40, 52]\n",
      "[0, 7, 14, 17, 22, 29, 38, 40, 40, 52, 55, 70, 73]\n",
      "[15, 47]\n",
      "[15, 47, 76]\n",
      "[25, 93]\n",
      "[25, 53, 93]\n",
      "[15, 25, 47, 53, 76, 93]\n",
      "[75, 82]\n",
      "[11, 75, 82]\n",
      "[27, 73]\n",
      "[55, 74]\n",
      "[27, 55, 73, 74]\n",
      "[11, 27, 55, 73, 74, 75, 82]\n",
      "[11, 15, 25, 27, 47, 53, 55, 73, 74, 75, 76, 82, 93]\n",
      "[0, 7, 11, 14, 15, 17, 22, 25, 27, 29, 38, 40, 40, 47, 52, 53, 55, 55, 70, 73, 73, 74, 75, 76, 82, 93]\n",
      "[37, 80]\n",
      "[37, 45, 80]\n",
      "[34, 75]\n",
      "[0, 34, 75]\n",
      "[0, 34, 37, 45, 75, 80]\n",
      "[52, 72]\n",
      "[41, 52, 72]\n",
      "[44, 77]\n",
      "[3, 16]\n",
      "[3, 16, 44, 77]\n",
      "[3, 16, 41, 44, 52, 72, 77]\n",
      "[0, 3, 16, 34, 37, 41, 44, 45, 52, 72, 75, 77, 80]\n",
      "[20, 74]\n",
      "[20, 74, 82]\n",
      "[29, 73]\n",
      "[17, 29, 73]\n",
      "[17, 20, 29, 73, 74, 82]\n",
      "[0, 45]\n",
      "[0, 45, 85]\n",
      "[50, 68]\n",
      "[6, 72]\n",
      "[6, 50, 68, 72]\n",
      "[0, 6, 45, 50, 68, 72, 85]\n",
      "[0, 6, 17, 20, 29, 45, 50, 68, 72, 73, 74, 82, 85]\n",
      "[0, 0, 3, 6, 16, 17, 20, 29, 34, 37, 41, 44, 45, 45, 50, 52, 68, 72, 72, 73, 74, 75, 77, 80, 82, 85]\n",
      "[0, 0, 0, 3, 6, 7, 11, 14, 15, 16, 17, 17, 20, 22, 25, 27, 29, 29, 34, 37, 38, 40, 40, 41, 44, 45, 45, 47, 50, 52, 52, 53, 55, 55, 68, 70, 72, 72, 73, 73, 73, 74, 74, 75, 75, 76, 77, 80, 82, 82, 85, 93]\n",
      "[46, 66]\n",
      "[46, 66, 75]\n",
      "[94, 96]\n",
      "[94, 96, 97]\n",
      "[46, 66, 75, 94, 96, 97]\n",
      "[59, 73]\n",
      "[59, 73, 76]\n",
      "[49, 52]\n",
      "[11, 74]\n",
      "[11, 49, 52, 74]\n",
      "[11, 49, 52, 59, 73, 74, 76]\n",
      "[11, 46, 49, 52, 59, 66, 73, 74, 75, 76, 94, 96, 97]\n",
      "[2, 22]\n",
      "[2, 3, 22]\n",
      "[37, 55]\n",
      "[37, 39, 55]\n",
      "[2, 3, 22, 37, 39, 55]\n",
      "[13, 38]\n",
      "[13, 38, 57]\n",
      "[79, 83]\n",
      "[28, 63]\n",
      "[28, 63, 79, 83]\n",
      "[13, 28, 38, 57, 63, 79, 83]\n",
      "[2, 3, 13, 22, 28, 37, 38, 39, 55, 57, 63, 79, 83]\n",
      "[2, 3, 11, 13, 22, 28, 37, 38, 39, 46, 49, 52, 55, 57, 59, 63, 66, 73, 74, 75, 76, 79, 83, 94, 96, 97]\n",
      "[3, 17]\n",
      "[3, 5, 17]\n",
      "[29, 92]\n",
      "[29, 43, 92]\n",
      "[3, 5, 17, 29, 43, 92]\n",
      "[44, 86]\n",
      "[38, 44, 86]\n",
      "[8, 48]\n",
      "[84, 88]\n",
      "[8, 48, 84, 88]\n",
      "[8, 38, 44, 48, 84, 86, 88]\n",
      "[3, 5, 8, 17, 29, 38, 43, 44, 48, 84, 86, 88, 92]\n",
      "[4, 18]\n",
      "[4, 18, 86]\n",
      "[46, 55]\n",
      "[58, 72]\n",
      "[46, 55, 58, 72]\n",
      "[4, 18, 46, 55, 58, 72, 86]\n",
      "[71, 96]\n",
      "[51, 71, 96]\n",
      "[59, 76]\n",
      "[1, 69]\n",
      "[1, 59, 69, 76]\n",
      "[1, 51, 59, 69, 71, 76, 96]\n",
      "[1, 4, 18, 46, 51, 55, 58, 59, 69, 71, 72, 76, 86, 96]\n",
      "[1, 3, 4, 5, 8, 17, 18, 29, 38, 43, 44, 46, 48, 51, 55, 58, 59, 69, 71, 72, 76, 84, 86, 86, 88, 92, 96]\n",
      "[1, 2, 3, 3, 4, 5, 8, 11, 13, 17, 18, 22, 28, 29, 37, 38, 38, 39, 43, 44, 46, 46, 48, 49, 51, 52, 55, 55, 57, 58, 59, 59, 63, 66, 69, 71, 72, 73, 74, 75, 76, 76, 79, 83, 84, 86, 86, 88, 92, 94, 96, 96, 97]\n",
      "[0, 0, 0, 1, 2, 3, 3, 3, 4, 5, 6, 7, 8, 11, 11, 13, 14, 15, 16, 17, 17, 17, 18, 20, 22, 22, 25, 27, 28, 29, 29, 29, 34, 37, 37, 38, 38, 38, 39, 40, 40, 41, 43, 44, 44, 45, 45, 46, 46, 47, 48, 49, 50, 51, 52, 52, 52, 53, 55, 55, 55, 55, 57, 58, 59, 59, 63, 66, 68, 69, 70, 71, 72, 72, 72, 73, 73, 73, 73, 74, 74, 74, 75, 75, 75, 76, 76, 76, 77, 79, 80, 82, 82, 83, 84, 85, 86, 86, 88, 92, 93, 94, 96, 96, 97]\n",
      "[57, 72]\n",
      "[7, 57, 72]\n",
      "[25, 29]\n",
      "[25, 29, 40]\n",
      "[7, 25, 29, 40, 57, 72]\n",
      "[15, 27]\n",
      "[15, 27, 30]\n",
      "[9, 91]\n",
      "[17, 47]\n",
      "[9, 17, 47, 91]\n",
      "[9, 15, 17, 27, 30, 47, 91]\n",
      "[7, 9, 15, 17, 25, 27, 29, 30, 40, 47, 57, 72, 91]\n",
      "[21, 52]\n",
      "[21, 52, 73]\n",
      "[44, 78]\n",
      "[44, 63, 78]\n",
      "[21, 44, 52, 63, 73, 78]\n",
      "[4, 98]\n",
      "[4, 58, 98]\n",
      "[35, 63]\n",
      "[23, 85]\n",
      "[23, 35, 63, 85]\n",
      "[4, 23, 35, 58, 63, 85, 98]\n",
      "[4, 21, 23, 35, 44, 52, 58, 63, 63, 73, 78, 85, 98]\n",
      "[4, 7, 9, 15, 17, 21, 23, 25, 27, 29, 30, 35, 40, 44, 47, 52, 57, 58, 63, 63, 72, 73, 78, 85, 91, 98]\n",
      "[0, 98]\n",
      "[0, 0, 98]\n",
      "[63, 66]\n",
      "[63, 66, 91]\n",
      "[0, 0, 63, 66, 91, 98]\n",
      "[3, 22]\n",
      "[3, 22, 46]\n",
      "[0, 5]\n",
      "[10, 64]\n",
      "[0, 5, 10, 64]\n",
      "[0, 3, 5, 10, 22, 46, 64]\n",
      "[0, 0, 0, 3, 5, 10, 22, 46, 63, 64, 66, 91, 98]\n",
      "[6, 61]\n",
      "[6, 61, 84]\n",
      "[3, 41]\n",
      "[3, 21, 41]\n",
      "[3, 6, 21, 41, 61, 84]\n",
      "[33, 64]\n",
      "[33, 64, 92]\n",
      "[16, 48]\n",
      "[51, 59]\n",
      "[16, 48, 51, 59]\n",
      "[16, 33, 48, 51, 59, 64, 92]\n",
      "[3, 6, 16, 21, 33, 41, 48, 51, 59, 61, 64, 84, 92]\n",
      "[0, 0, 0, 3, 3, 5, 6, 10, 16, 21, 22, 33, 41, 46, 48, 51, 59, 61, 63, 64, 64, 66, 84, 91, 92, 98]\n",
      "[0, 0, 0, 3, 3, 4, 5, 6, 7, 9, 10, 15, 16, 17, 21, 21, 22, 23, 25, 27, 29, 30, 33, 35, 40, 41, 44, 46, 47, 48, 51, 52, 57, 58, 59, 61, 63, 63, 63, 64, 64, 66, 72, 73, 78, 84, 85, 91, 91, 92, 98, 98]\n",
      "[17, 54]\n",
      "[15, 17, 54]\n",
      "[12, 62]\n",
      "[12, 22, 62]\n",
      "[12, 15, 17, 22, 54, 62]\n",
      "[29, 69]\n",
      "[22, 29, 69]\n",
      "[16, 27]\n",
      "[18, 29]\n",
      "[16, 18, 27, 29]\n",
      "[16, 18, 22, 27, 29, 29, 69]\n",
      "[12, 15, 16, 17, 18, 22, 22, 27, 29, 29, 54, 62, 69]\n",
      "[22, 34]\n",
      "[22, 34, 53]\n",
      "[66, 77]\n",
      "[66, 69, 77]\n",
      "[22, 34, 53, 66, 69, 77]\n",
      "[50, 52]\n",
      "[50, 52, 82]\n",
      "[28, 50]\n",
      "[64, 94]\n",
      "[28, 50, 64, 94]\n",
      "[28, 50, 50, 52, 64, 82, 94]\n",
      "[22, 28, 34, 50, 50, 52, 53, 64, 66, 69, 77, 82, 94]\n",
      "[12, 15, 16, 17, 18, 22, 22, 22, 27, 28, 29, 29, 34, 50, 50, 52, 53, 54, 62, 64, 66, 69, 69, 77, 82, 94]\n",
      "[28, 84]\n",
      "[28, 84, 90]\n",
      "[25, 83]\n",
      "[25, 34, 83]\n",
      "[25, 28, 34, 83, 84, 90]\n",
      "[53, 99]\n",
      "[40, 53, 99]\n",
      "[4, 96]\n",
      "[36, 57]\n",
      "[4, 36, 57, 96]\n",
      "[4, 36, 40, 53, 57, 96, 99]\n",
      "[4, 25, 28, 34, 36, 40, 53, 57, 83, 84, 90, 96, 99]\n",
      "[35, 65]\n",
      "[1, 35, 65]\n",
      "[30, 74]\n",
      "[6, 80]\n",
      "[6, 30, 74, 80]\n",
      "[1, 6, 30, 35, 65, 74, 80]\n",
      "[38, 60]\n",
      "[38, 60, 73]\n",
      "[11, 42]\n",
      "[0, 95]\n",
      "[0, 11, 42, 95]\n",
      "[0, 11, 38, 42, 60, 73, 95]\n",
      "[0, 1, 6, 11, 30, 35, 38, 42, 60, 65, 73, 74, 80, 95]\n",
      "[0, 1, 4, 6, 11, 25, 28, 30, 34, 35, 36, 38, 40, 42, 53, 57, 60, 65, 73, 74, 80, 83, 84, 90, 95, 96, 99]\n",
      "[0, 1, 4, 6, 11, 12, 15, 16, 17, 18, 22, 22, 22, 25, 27, 28, 28, 29, 29, 30, 34, 34, 35, 36, 38, 40, 42, 50, 50, 52, 53, 53, 54, 57, 60, 62, 64, 65, 66, 69, 69, 73, 74, 77, 80, 82, 83, 84, 90, 94, 95, 96, 99]\n",
      "[0, 0, 0, 0, 1, 3, 3, 4, 4, 5, 6, 6, 7, 9, 10, 11, 12, 15, 15, 16, 16, 17, 17, 18, 21, 21, 22, 22, 22, 22, 23, 25, 25, 27, 27, 28, 28, 29, 29, 29, 30, 30, 33, 34, 34, 35, 35, 36, 38, 40, 40, 41, 42, 44, 46, 47, 48, 50, 50, 51, 52, 52, 53, 53, 54, 57, 57, 58, 59, 60, 61, 62, 63, 63, 63, 64, 64, 64, 65, 66, 66, 69, 69, 72, 73, 73, 74, 77, 78, 80, 82, 83, 84, 84, 85, 90, 91, 91, 92, 94, 95, 96, 98, 98, 99]\n",
      "[0, 0, 0, 0, 0, 0, 0, 1, 1, 2, 3, 3, 3, 3, 3, 4, 4, 4, 5, 5, 6, 6, 6, 7, 7, 8, 9, 10, 11, 11, 11, 12, 13, 14, 15, 15, 15, 16, 16, 16, 17, 17, 17, 17, 17, 18, 18, 20, 21, 21, 22, 22, 22, 22, 22, 22, 23, 25, 25, 25, 27, 27, 27, 28, 28, 28, 29, 29, 29, 29, 29, 29, 30, 30, 33, 34, 34, 34, 35, 35, 36, 37, 37, 38, 38, 38, 38, 39, 40, 40, 40, 40, 41, 41, 42, 43, 44, 44, 44, 45, 45, 46, 46, 46, 47, 47, 48, 48, 49, 50, 50, 50, 51, 51, 52, 52, 52, 52, 52, 53, 53, 53, 54, 55, 55, 55, 55, 57, 57, 57, 58, 58, 59, 59, 59, 60, 61, 62, 63, 63, 63, 63, 64, 64, 64, 65, 66, 66, 66, 68, 69, 69, 69, 70, 71, 72, 72, 72, 72, 73, 73, 73, 73, 73, 73, 74, 74, 74, 74, 75, 75, 75, 76, 76, 76, 77, 77, 78, 79, 80, 80, 82, 82, 82, 83, 83, 84, 84, 84, 85, 85, 86, 86, 88, 90, 91, 91, 92, 92, 93, 94, 94, 95, 96, 96, 96, 97, 98, 98, 99]\n",
      "[0, 0, 0, 0, 0, 0, 0, 0, 0, 0, 0, 0, 0, 1, 1, 1, 2, 2, 2, 2, 2, 2, 3, 3, 3, 3, 3, 3, 3, 4, 4, 4, 4, 4, 5, 5, 5, 5, 5, 5, 5, 6, 6, 6, 6, 6, 7, 7, 7, 7, 7, 7, 7, 8, 8, 8, 9, 9, 9, 9, 9, 10, 10, 10, 11, 11, 11, 11, 11, 11, 11, 12, 12, 12, 12, 12, 13, 13, 13, 13, 14, 14, 15, 15, 15, 15, 15, 15, 16, 16, 16, 16, 17, 17, 17, 17, 17, 17, 17, 17, 17, 17, 18, 18, 18, 18, 18, 18, 19, 19, 19, 19, 20, 20, 20, 20, 21, 21, 21, 21, 22, 22, 22, 22, 22, 22, 22, 22, 22, 23, 23, 23, 23, 23, 23, 23, 24, 24, 25, 25, 25, 25, 25, 25, 27, 27, 27, 27, 27, 27, 27, 28, 28, 28, 29, 29, 29, 29, 29, 29, 30, 30, 30, 30, 31, 31, 32, 32, 32, 32, 33, 33, 33, 34, 34, 34, 34, 34, 34, 35, 35, 35, 35, 36, 36, 37, 37, 37, 38, 38, 38, 38, 39, 39, 40, 40, 40, 40, 40, 41, 41, 41, 41, 41, 42, 42, 42, 42, 43, 43, 44, 44, 44, 44, 44, 45, 45, 45, 45, 45, 46, 46, 46, 46, 46, 46, 47, 47, 47, 48, 48, 48, 49, 49, 49, 50, 50, 50, 50, 51, 51, 51, 52, 52, 52, 52, 52, 52, 53, 53, 53, 53, 53, 54, 54, 54, 54, 54, 55, 55, 55, 55, 55, 56, 57, 57, 57, 57, 57, 57, 57, 58, 58, 59, 59, 59, 60, 60, 61, 61, 62, 62, 62, 63, 63, 63, 63, 63, 63, 64, 64, 64, 64, 65, 65, 65, 65, 66, 66, 66, 66, 67, 67, 67, 68, 68, 68, 69, 69, 69, 70, 70, 70, 70, 71, 71, 71, 72, 72, 72, 72, 72, 73, 73, 73, 73, 73, 73, 73, 73, 73, 74, 74, 74, 74, 74, 75, 75, 75, 75, 76, 76, 76, 76, 76, 76, 77, 77, 77, 77, 77, 77, 78, 78, 78, 79, 79, 80, 80, 80, 80, 81, 81, 82, 82, 82, 82, 82, 82, 83, 83, 83, 83, 84, 84, 84, 85, 85, 85, 85, 86, 86, 86, 87, 88, 88, 88, 88, 90, 90, 91, 91, 91, 92, 92, 92, 93, 93, 94, 94, 94, 94, 94, 95, 95, 96, 96, 96, 96, 97, 97, 98, 98, 98, 98, 98, 98, 99, 99, 99]\n"
     ]
    }
   ],
   "source": [
    "# merge sort\n",
    "merge_sort_start_time = time.time()\n",
    "merge_sort(mergeList)\n",
    "merge_sort_end_time = time.time()\n",
    "\n",
    "# bubble sort\n",
    "bubble_sort_start_time = time.time()\n",
    "bubble_sort(bubbleList)\n",
    "bubble_sort_end_time = time.time()\n",
    "\n",
    "# quick sort\n",
    "quick_sort_start_time = time.time()\n",
    "quick_sort(quickList)\n",
    "quick_sort_end_time = time.time()\n",
    "\n",
    "# bogo sort\n",
    "bogo_sort_start_time = time.time()\n",
    "bogo_sort(bogoList, 100000)\n",
    "bogo_sort_end_time = time.time()\n",
    "\n",
    "# selection sort\n",
    "selection_sort_start_time = time.time()\n",
    "selection_sort(selectionList)\n",
    "selection_sort_end_time = time.time()\n",
    "\n",
    "# split up bubble sort\n",
    "split_up_bubble_sort_start_time = time.time()\n",
    "split_up_bubble_sort(splitUpBubbleList)\n",
    "split_up_bubble_sort_end_time = time.time()\n"
   ],
   "metadata": {
    "collapsed": false,
    "ExecuteTime": {
     "end_time": "2024-02-27T14:27:34.785617Z",
     "start_time": "2024-02-27T14:26:27.954654Z"
    }
   },
   "id": "c1557805f8b1bc68",
   "execution_count": 86
  },
  {
   "cell_type": "markdown",
   "source": [
    "### Resultaten in een dataframe"
   ],
   "metadata": {
    "collapsed": false
   },
   "id": "2a9724f7d37409b8"
  },
  {
   "cell_type": "markdown",
   "source": [
    "Om het er een beetje mooi uit te laten zien, zet ik de resultaten in een dataframe. Zo kunnen de resultaten gemakkelijk bekeken en vergeleken worden."
   ],
   "metadata": {
    "collapsed": false
   },
   "id": "78cb75e5d32477d8"
  },
  {
   "cell_type": "code",
   "outputs": [
    {
     "data": {
      "text/plain": "              Sort Type Start Time  End Time  List Length       Time  \\\n0            Merge Sort   15:26:27  15:26:28        69420   0.168326   \n1           Bubble Sort   15:26:28  15:26:28          420   0.006515   \n2            Quick Sort   15:26:28  15:26:28        69420   0.776611   \n3             Bogo Sort   15:26:28  15:26:34          360   5.170487   \n4        Selection Sort   15:26:34  15:27:34        69420  60.699675   \n5  Split Up Bubble Sort   15:27:34  15:27:34          420   0.005065   \n\n   Time per List Length  Is Sorted  \n0              0.000002       True  \n1              0.000016       True  \n2              0.000011       True  \n3              0.014362      False  \n4              0.000874       True  \n5              0.000012       True  ",
      "text/html": "<div>\n<style scoped>\n    .dataframe tbody tr th:only-of-type {\n        vertical-align: middle;\n    }\n\n    .dataframe tbody tr th {\n        vertical-align: top;\n    }\n\n    .dataframe thead th {\n        text-align: right;\n    }\n</style>\n<table border=\"1\" class=\"dataframe\">\n  <thead>\n    <tr style=\"text-align: right;\">\n      <th></th>\n      <th>Sort Type</th>\n      <th>Start Time</th>\n      <th>End Time</th>\n      <th>List Length</th>\n      <th>Time</th>\n      <th>Time per List Length</th>\n      <th>Is Sorted</th>\n    </tr>\n  </thead>\n  <tbody>\n    <tr>\n      <th>0</th>\n      <td>Merge Sort</td>\n      <td>15:26:27</td>\n      <td>15:26:28</td>\n      <td>69420</td>\n      <td>0.168326</td>\n      <td>0.000002</td>\n      <td>True</td>\n    </tr>\n    <tr>\n      <th>1</th>\n      <td>Bubble Sort</td>\n      <td>15:26:28</td>\n      <td>15:26:28</td>\n      <td>420</td>\n      <td>0.006515</td>\n      <td>0.000016</td>\n      <td>True</td>\n    </tr>\n    <tr>\n      <th>2</th>\n      <td>Quick Sort</td>\n      <td>15:26:28</td>\n      <td>15:26:28</td>\n      <td>69420</td>\n      <td>0.776611</td>\n      <td>0.000011</td>\n      <td>True</td>\n    </tr>\n    <tr>\n      <th>3</th>\n      <td>Bogo Sort</td>\n      <td>15:26:28</td>\n      <td>15:26:34</td>\n      <td>360</td>\n      <td>5.170487</td>\n      <td>0.014362</td>\n      <td>False</td>\n    </tr>\n    <tr>\n      <th>4</th>\n      <td>Selection Sort</td>\n      <td>15:26:34</td>\n      <td>15:27:34</td>\n      <td>69420</td>\n      <td>60.699675</td>\n      <td>0.000874</td>\n      <td>True</td>\n    </tr>\n    <tr>\n      <th>5</th>\n      <td>Split Up Bubble Sort</td>\n      <td>15:27:34</td>\n      <td>15:27:34</td>\n      <td>420</td>\n      <td>0.005065</td>\n      <td>0.000012</td>\n      <td>True</td>\n    </tr>\n  </tbody>\n</table>\n</div>"
     },
     "execution_count": 87,
     "metadata": {},
     "output_type": "execute_result"
    }
   ],
   "source": [
    "# creating and filling a dataframe with the results\n",
    "results = pd.DataFrame({\n",
    "    \"Sort Type\": [\"Merge Sort\", \"Bubble Sort\", \"Quick Sort\", \"Bogo Sort\", \"Selection Sort\", \"Split Up Bubble Sort\"],\n",
    "    \"Start Time\": [merge_sort_start_time, bubble_sort_start_time, quick_sort_start_time, bogo_sort_start_time, selection_sort_start_time, split_up_bubble_sort_start_time],\n",
    "    \"End Time\": [merge_sort_end_time, bubble_sort_end_time, quick_sort_end_time, bogo_sort_end_time, selection_sort_end_time, split_up_bubble_sort_end_time]\n",
    "})\n",
    "\n",
    "# adding a column to display the length of the lists\n",
    "results[\"List Length\"] = [len(mergeList), len(bubbleList), len(quickList), len(bogoList), len(selectionList), len(splitUpBubbleList)]\n",
    "\n",
    "# calculating the time it took to sort the list in seconds\n",
    "results[\"Time\"] = results[\"End Time\"] - results[\"Start Time\"]\n",
    "\n",
    "# converting the start and end time to a more readable format\n",
    "results[\"Start Time\"] = results[\"Start Time\"].apply(lambda x: time.strftime('%H:%M:%S', time.localtime(x)))\n",
    "results[\"End Time\"] = results[\"End Time\"].apply(lambda x: time.strftime('%H:%M:%S', time.localtime(x)))\n",
    "\n",
    "# adding a time per list length column\n",
    "results[\"Time per List Length\"] = results[\"Time\"] / results[\"List Length\"]\n",
    "\n",
    "# checking the lists are actually sorted and adding that to the dataframe\n",
    "results[\"Is Sorted\"] = [\n",
    "    is_sorted(mergeList),\n",
    "    is_sorted(bubbleList),\n",
    "    is_sorted(quickList),\n",
    "    is_sorted(bogoList),\n",
    "    is_sorted(selectionList),\n",
    "    is_sorted(splitUpBubbleList)\n",
    "]\n",
    "\n",
    "# displaying the results\n",
    "results"
   ],
   "metadata": {
    "collapsed": false,
    "ExecuteTime": {
     "end_time": "2024-02-27T14:27:34.806341Z",
     "start_time": "2024-02-27T14:27:34.787137Z"
    }
   },
   "id": "2e75cb0eefd0b45b",
   "execution_count": 87
  },
  {
   "cell_type": "markdown",
   "source": [],
   "metadata": {
    "collapsed": false
   },
   "id": "348b222459ecde36"
  }
 ],
 "metadata": {
  "kernelspec": {
   "display_name": "Python 3",
   "language": "python",
   "name": "python3"
  },
  "language_info": {
   "codemirror_mode": {
    "name": "ipython",
    "version": 2
   },
   "file_extension": ".py",
   "mimetype": "text/x-python",
   "name": "python",
   "nbconvert_exporter": "python",
   "pygments_lexer": "ipython2",
   "version": "2.7.6"
  }
 },
 "nbformat": 4,
 "nbformat_minor": 5
}
