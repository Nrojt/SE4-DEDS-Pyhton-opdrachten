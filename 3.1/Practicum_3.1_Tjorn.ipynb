{
 "cells": [
  {
   "cell_type": "markdown",
   "source": [
    "# Practicumopdrachten Week 3.1 (eerste kans)"
   ],
   "metadata": {
    "collapsed": false
   },
   "id": "6ff0c220d5595026"
  },
  {
   "cell_type": "markdown",
   "source": [
    "## Dependencies importeren "
   ],
   "metadata": {
    "collapsed": false
   },
   "id": "8c3dc231ecd2e905"
  },
  {
   "cell_type": "code",
   "outputs": [],
   "source": [
    "import random\n",
    "import time\n",
    "import pandas as pd"
   ],
   "metadata": {
    "collapsed": false,
    "ExecuteTime": {
     "end_time": "2024-02-26T14:16:01.955039100Z",
     "start_time": "2024-02-26T14:16:01.935647100Z"
    }
   },
   "id": "da9cf7b601be2a35",
   "execution_count": 150
  },
  {
   "cell_type": "markdown",
   "source": [
    "Functie om lijst van random integers te maken"
   ],
   "metadata": {
    "collapsed": false
   },
   "id": "29f8215c32e1ce7b"
  },
  {
   "cell_type": "code",
   "outputs": [],
   "source": [
    "def generate_random_integer_list(length : int):\n",
    "    tempList = []\n",
    "    \n",
    "    for x in range (0, length):\n",
    "     tempList.append(int(random.random()*100)) # doing times 100 cause random returns a value between 0 and 1\n",
    "     \n",
    "    return tempList   "
   ],
   "metadata": {
    "collapsed": false,
    "ExecuteTime": {
     "end_time": "2024-02-26T14:16:01.963164800Z",
     "start_time": "2024-02-26T14:16:01.959039400Z"
    }
   },
   "id": "7230f55ea9d4a7ac",
   "execution_count": 151
  },
  {
   "cell_type": "markdown",
   "source": [
    "Het definiëren en vullen van lijsten met random getallen"
   ],
   "metadata": {
    "collapsed": false
   },
   "id": "73a39160bd5e818a"
  },
  {
   "cell_type": "code",
   "outputs": [],
   "source": [
    "mergeList = generate_random_integer_list(69420)\n",
    "bubbleList = generate_random_integer_list(420)\n",
    "quickList = generate_random_integer_list(69420)\n",
    "\n",
    "# bogo sort just for fun\n",
    "bogoList = generate_random_integer_list(360)"
   ],
   "metadata": {
    "collapsed": false,
    "ExecuteTime": {
     "end_time": "2024-02-26T14:16:02.016515800Z",
     "start_time": "2024-02-26T14:16:01.964164700Z"
    }
   },
   "id": "e2fe684caefd647a",
   "execution_count": 152
  },
  {
   "cell_type": "markdown",
   "source": [
    "Helper functie om te checken of een lijst gesorteerd is"
   ],
   "metadata": {
    "collapsed": false
   },
   "id": "c5cd3258e3a052ae"
  },
  {
   "cell_type": "code",
   "outputs": [],
   "source": [
    "# to check if the list are sorted\n",
    "def is_sorted(data) -> bool:\n",
    "    # looping through the list and checking if the current element is greater than the next element\n",
    "    for i in range(len(data) - 1):\n",
    "        if data[i] > data[i + 1]:\n",
    "            return False\n",
    "    return True"
   ],
   "metadata": {
    "collapsed": false,
    "ExecuteTime": {
     "end_time": "2024-02-26T14:16:02.016515800Z",
     "start_time": "2024-02-26T14:16:01.985451100Z"
    }
   },
   "id": "1e3ebcae1c190c49",
   "execution_count": 153
  },
  {
   "cell_type": "markdown",
   "source": [
    "# Merge Sort\n",
    "![Gif showing merge sorting](https://upload.wikimedia.org/wikipedia/commons/c/cc/Merge-sort-example-300px.gif)"
   ],
   "metadata": {
    "collapsed": false
   },
   "id": "420fb5063e9cc041"
  },
  {
   "cell_type": "code",
   "outputs": [],
   "source": [
    "def merge_sort(input_list):\n",
    "    # if the input list is empty or has only one element, it is already sorted\n",
    "    if len(input_list) <= 1:\n",
    "        return\n",
    "    \n",
    "    # splitting the list in half to get the left and right halves\n",
    "    middle_index = len(input_list) // 2\n",
    "    left_half = input_list[:middle_index]\n",
    "    right_half = input_list[middle_index:]\n",
    "    \n",
    "    # calling the merge_sort function recursively. This means all code below these two lines will have a input_list with a length of 1\n",
    "    merge_sort(left_half)\n",
    "    merge_sort(right_half)\n",
    "    \n",
    "    # merge the sorted halves\n",
    "    sorted_list = [] # create an empty list to store the sorted elements. Cannot use input_list as it will be overwritten\n",
    "    left_index = 0\n",
    "    right_index = 0\n",
    "    \n",
    "    while left_index < len(left_half) and right_index < len(right_half):\n",
    "        # if the element in the left half is smaller than the element in the right half, append the left element to the sorted list (since it is the smallest element)\n",
    "        if left_half[left_index] < right_half[right_index]:\n",
    "            sorted_list.append(left_half[left_index])\n",
    "            left_index += 1\n",
    "        # if the element in the right half is smaller than the element in the left half, append the right element to the sorted list (since it is the smallest element)\n",
    "        else:\n",
    "            sorted_list.append(right_half[right_index])\n",
    "            right_index += 1\n",
    "            \n",
    "    # if there are remaining elements in either half, append them to the result. This is because the previous while loop will stop when one of the halves is empty\n",
    "    while left_index < len(left_half):\n",
    "        sorted_list.append(left_half[left_index])\n",
    "        left_index += 1\n",
    "\n",
    "    while right_index < len(right_half):\n",
    "        sorted_list.append(right_half[right_index])\n",
    "        right_index += 1\n",
    "    \n",
    "    # copy the sorted list to the input list\n",
    "    input_list[:] = sorted_list"
   ],
   "metadata": {
    "collapsed": false,
    "ExecuteTime": {
     "end_time": "2024-02-26T14:16:02.017956300Z",
     "start_time": "2024-02-26T14:16:01.995328500Z"
    }
   },
   "id": "8c91ccf48a829ac",
   "execution_count": 154
  },
  {
   "cell_type": "markdown",
   "source": [
    "# Bubble Sort\n",
    "![Gif showing bubble sorting](https://upload.wikimedia.org/wikipedia/commons/c/c8/Bubble-sort-example-300px.gif)"
   ],
   "metadata": {
    "collapsed": false
   },
   "id": "805a87a40a28f54a"
  },
  {
   "cell_type": "code",
   "outputs": [],
   "source": [
    "def bubble_sort(input_list):\n",
    "    # looping through the list. i is the amount of elements that are already sorted\n",
    "    for i in range (len(input_list)):\n",
    "        # looping through the list again, but only until the last i element (so sorted elements are not checked again). The -1 is because we are comparing the current element with the next element. To avoid trying to read values outside the array length, we stop at the second to last element\n",
    "        for j in range (0, len(input_list)-i-1):\n",
    "            # if the current element is greater than the next element, swap them\n",
    "            # works cause Python tuples are immutable so the values are not lost\n",
    "            if input_list[j] > input_list[j+1]:\n",
    "                input_list[j], input_list[j+1] = input_list[j+1], input_list[j]"
   ],
   "metadata": {
    "collapsed": false,
    "ExecuteTime": {
     "end_time": "2024-02-26T14:16:02.017956300Z",
     "start_time": "2024-02-26T14:16:02.003978Z"
    }
   },
   "id": "4a97da34ceba7959",
   "execution_count": 155
  },
  {
   "cell_type": "markdown",
   "source": [
    "# Quick Sort\n",
    "![Gif showing quick sorting](https://upload.wikimedia.org/wikipedia/commons/6/6a/Sorting_quicksort_anim.gif)"
   ],
   "metadata": {
    "collapsed": false
   },
   "id": "52020f0e46f2556b"
  },
  {
   "cell_type": "code",
   "outputs": [],
   "source": [
    "def partition(input_list, start, end):\n",
    "    # setting the pivot to the last element of the list\n",
    "    pivot = input_list[end]\n",
    "    \n",
    "    index = start - 1\n",
    "    \n",
    "    for j in range(start, end):\n",
    "        # if the current element is smaller than the pivot, move the index of the smaller elements up by 1 and swap the current element with the element at the index\n",
    "        if input_list[j] < pivot:\n",
    "            index += 1\n",
    "            # works cause it creates a tuple with the values of the two elements and then unpacks them into the two elements\n",
    "            input_list[index], input_list[j] = input_list[j], input_list[index]\n",
    "       \n",
    "    # move the index up by 1     \n",
    "    index += 1\n",
    "\n",
    "    # swap the pivot with the element at the index\n",
    "    input_list[index], input_list[end] = input_list[end], input_list[index]\n",
    "    \n",
    "    return (index)\n",
    "\n",
    "def quick_sort(input_list, start=0, end=None):\n",
    "    # if end is not given, set it to the last index of the list. This is used on the first call of the function. Recursive calls will have the end parameter set.\n",
    "    if end is None:\n",
    "        end = len(input_list) - 1\n",
    "        \n",
    "    # if the start index is greater than or equal to the end index, the list is already sorted\n",
    "    if start >= end:\n",
    "        return\n",
    "        \n",
    "    # getting the pivot index\n",
    "    pivot = partition(input_list, start, end)\n",
    "    \n",
    "    # recursively calling the quick_sort function with the left and right halves of the pivot\n",
    "    quick_sort(input_list, start, pivot - 1)\n",
    "    quick_sort(input_list, pivot + 1, end)"
   ],
   "metadata": {
    "collapsed": false,
    "ExecuteTime": {
     "end_time": "2024-02-26T14:16:02.039637400Z",
     "start_time": "2024-02-26T14:16:02.014513300Z"
    }
   },
   "id": "a0c4a5cb272a82b0",
   "execution_count": 156
  },
  {
   "cell_type": "markdown",
   "source": [
    "# Bogo Sort\n",
    "![Gif showing bogo sorting](https://i.makeagif.com/media/12-07-2015/zEk2rW.gif)"
   ],
   "metadata": {
    "collapsed": false
   },
   "id": "6d8944c0a028bbd3"
  },
  {
   "cell_type": "code",
   "outputs": [],
   "source": [
    "def bogo_sort(input_list, max_tries : int):\n",
    "    # max_tries because bogo sort can theoretically take forever\n",
    "    for x in range(max_tries):\n",
    "        if is_sorted(input_list):\n",
    "            return\n",
    "        random.shuffle(input_list)"
   ],
   "metadata": {
    "collapsed": false,
    "ExecuteTime": {
     "end_time": "2024-02-26T14:16:02.039637400Z",
     "start_time": "2024-02-26T14:16:02.022654400Z"
    }
   },
   "id": "f73285ba90e101ee",
   "execution_count": 157
  },
  {
   "cell_type": "markdown",
   "source": [
    "# Resultaten"
   ],
   "metadata": {
    "collapsed": false
   },
   "id": "fc8992f05fa0f4ac"
  },
  {
   "cell_type": "code",
   "outputs": [],
   "source": [
    "# merge sort\n",
    "merge_sort_start_time = time.time()\n",
    "merge_sort(mergeList)\n",
    "merge_sort_end_time = time.time()\n",
    "\n",
    "# bubble sort\n",
    "bubble_sort_start_time = time.time()\n",
    "bubble_sort(bubbleList)\n",
    "bubble_sort_end_time = time.time()\n",
    "\n",
    "# quick sort\n",
    "quick_sort_start_time = time.time()\n",
    "quick_sort(quickList)\n",
    "quick_sort_end_time = time.time()\n",
    "\n",
    "# bogo sort\n",
    "bogo_sort_start_time = time.time()\n",
    "bogo_sort(bogoList, 100000)\n",
    "bogo_sort_end_time = time.time()"
   ],
   "metadata": {
    "collapsed": false,
    "ExecuteTime": {
     "end_time": "2024-02-26T14:16:07.893114800Z",
     "start_time": "2024-02-26T14:16:02.031479400Z"
    }
   },
   "id": "c1557805f8b1bc68",
   "execution_count": 158
  },
  {
   "cell_type": "markdown",
   "source": [
    "## Resultaten in een dataframe"
   ],
   "metadata": {
    "collapsed": false
   },
   "id": "2a9724f7d37409b8"
  },
  {
   "cell_type": "code",
   "outputs": [
    {
     "data": {
      "text/plain": "     Sort Type Start Time  End Time      Time  Is Sorted\n0   Merge Sort   15:16:02  15:16:02  0.115802       True\n1  Bubble Sort   15:16:02  15:16:02  0.003998       True\n2   Quick Sort   15:16:02  15:16:02  0.590754       True\n3    Bogo Sort   15:16:02  15:16:07  5.142077      False",
      "text/html": "<div>\n<style scoped>\n    .dataframe tbody tr th:only-of-type {\n        vertical-align: middle;\n    }\n\n    .dataframe tbody tr th {\n        vertical-align: top;\n    }\n\n    .dataframe thead th {\n        text-align: right;\n    }\n</style>\n<table border=\"1\" class=\"dataframe\">\n  <thead>\n    <tr style=\"text-align: right;\">\n      <th></th>\n      <th>Sort Type</th>\n      <th>Start Time</th>\n      <th>End Time</th>\n      <th>Time</th>\n      <th>Is Sorted</th>\n    </tr>\n  </thead>\n  <tbody>\n    <tr>\n      <th>0</th>\n      <td>Merge Sort</td>\n      <td>15:16:02</td>\n      <td>15:16:02</td>\n      <td>0.115802</td>\n      <td>True</td>\n    </tr>\n    <tr>\n      <th>1</th>\n      <td>Bubble Sort</td>\n      <td>15:16:02</td>\n      <td>15:16:02</td>\n      <td>0.003998</td>\n      <td>True</td>\n    </tr>\n    <tr>\n      <th>2</th>\n      <td>Quick Sort</td>\n      <td>15:16:02</td>\n      <td>15:16:02</td>\n      <td>0.590754</td>\n      <td>True</td>\n    </tr>\n    <tr>\n      <th>3</th>\n      <td>Bogo Sort</td>\n      <td>15:16:02</td>\n      <td>15:16:07</td>\n      <td>5.142077</td>\n      <td>False</td>\n    </tr>\n  </tbody>\n</table>\n</div>"
     },
     "execution_count": 159,
     "metadata": {},
     "output_type": "execute_result"
    }
   ],
   "source": [
    "# creating and filling a dataframe with the results\n",
    "results = pd.DataFrame({\n",
    "    \"Sort Type\": [\"Merge Sort\", \"Bubble Sort\", \"Quick Sort\", \"Bogo Sort\"],\n",
    "    \"Start Time\": [merge_sort_start_time, bubble_sort_start_time, quick_sort_start_time, bogo_sort_start_time],\n",
    "    \"End Time\": [merge_sort_end_time, bubble_sort_end_time, quick_sort_end_time, bogo_sort_end_time]\n",
    "})\n",
    "\n",
    "# calculating the time it took to sort the list\n",
    "results[\"Time\"] = results[\"End Time\"] - results[\"Start Time\"]\n",
    "\n",
    "# converting the start and end time to a more readable format\n",
    "results[\"Start Time\"] = results[\"Start Time\"].apply(lambda x: time.strftime('%H:%M:%S', time.localtime(x)))\n",
    "results[\"End Time\"] = results[\"End Time\"].apply(lambda x: time.strftime('%H:%M:%S', time.localtime(x)))\n",
    "\n",
    "# checking the lists are actually sorted and adding that to the dataframe\n",
    "results[\"Is Sorted\"] = [\n",
    "    is_sorted(mergeList),\n",
    "    is_sorted(bubbleList),\n",
    "    is_sorted(quickList),\n",
    "    is_sorted(bogoList)\n",
    "]\n",
    "\n",
    "# displaying the results\n",
    "results"
   ],
   "metadata": {
    "collapsed": false,
    "ExecuteTime": {
     "end_time": "2024-02-26T14:16:07.912531600Z",
     "start_time": "2024-02-26T14:16:07.894115400Z"
    }
   },
   "id": "2e75cb0eefd0b45b",
   "execution_count": 159
  },
  {
   "cell_type": "markdown",
   "source": [],
   "metadata": {
    "collapsed": false
   },
   "id": "348b222459ecde36"
  }
 ],
 "metadata": {
  "kernelspec": {
   "display_name": "Python 3",
   "language": "python",
   "name": "python3"
  },
  "language_info": {
   "codemirror_mode": {
    "name": "ipython",
    "version": 2
   },
   "file_extension": ".py",
   "mimetype": "text/x-python",
   "name": "python",
   "nbconvert_exporter": "python",
   "pygments_lexer": "ipython2",
   "version": "2.7.6"
  }
 },
 "nbformat": 4,
 "nbformat_minor": 5
}
