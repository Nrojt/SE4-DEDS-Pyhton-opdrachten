{
 "cells": [
  {
   "cell_type": "markdown",
   "source": [
    "# Practicumopdrachten Week 3.1 (eerste kans)"
   ],
   "metadata": {
    "collapsed": false
   },
   "id": "6ff0c220d5595026"
  },
  {
   "cell_type": "markdown",
   "source": [
    "## Dependencies importeren "
   ],
   "metadata": {
    "collapsed": false
   },
   "id": "8c3dc231ecd2e905"
  },
  {
   "cell_type": "code",
   "outputs": [],
   "source": [
    "import random\n",
    "import time\n",
    "import pandas as pd"
   ],
   "metadata": {
    "collapsed": false,
    "ExecuteTime": {
     "end_time": "2024-02-26T15:22:24.687995400Z",
     "start_time": "2024-02-26T15:22:24.616943900Z"
    }
   },
   "id": "da9cf7b601be2a35",
   "execution_count": 60
  },
  {
   "cell_type": "markdown",
   "source": [
    "Functie om lijst van random integers te maken"
   ],
   "metadata": {
    "collapsed": false
   },
   "id": "29f8215c32e1ce7b"
  },
  {
   "cell_type": "code",
   "outputs": [],
   "source": [
    "def generate_random_integer_list(length : int):\n",
    "    tempList = []\n",
    "    \n",
    "    for x in range (0, length):\n",
    "     tempList.append(int(random.random()*100)) # doing times 100 cause random returns a value between 0 and 1\n",
    "     \n",
    "    return tempList   "
   ],
   "metadata": {
    "collapsed": false,
    "ExecuteTime": {
     "end_time": "2024-02-26T15:22:24.703669100Z",
     "start_time": "2024-02-26T15:22:24.692400600Z"
    }
   },
   "id": "7230f55ea9d4a7ac",
   "execution_count": 61
  },
  {
   "cell_type": "markdown",
   "source": [
    "Het definiëren en vullen van lijsten met random getallen"
   ],
   "metadata": {
    "collapsed": false
   },
   "id": "73a39160bd5e818a"
  },
  {
   "cell_type": "code",
   "outputs": [],
   "source": [
    "mergeList = generate_random_integer_list(69420)\n",
    "bubbleList = generate_random_integer_list(420)\n",
    "quickList = generate_random_integer_list(69420)\n",
    "\n",
    "# bogo sort just for fun\n",
    "bogoList = generate_random_integer_list(360)\n",
    "\n",
    "# own test\n",
    "linearSearchList = generate_random_integer_list(420)"
   ],
   "metadata": {
    "collapsed": false,
    "ExecuteTime": {
     "end_time": "2024-02-26T15:22:24.789664800Z",
     "start_time": "2024-02-26T15:22:24.708670500Z"
    }
   },
   "id": "e2fe684caefd647a",
   "execution_count": 62
  },
  {
   "cell_type": "markdown",
   "source": [
    "Helper functie om te checken of een lijst gesorteerd is"
   ],
   "metadata": {
    "collapsed": false
   },
   "id": "c5cd3258e3a052ae"
  },
  {
   "cell_type": "code",
   "outputs": [],
   "source": [
    "# to check if the list are sorted\n",
    "def is_sorted(data) -> bool:\n",
    "    # looping through the list and checking if the current element is greater than the next element\n",
    "    for i in range(len(data) - 1):\n",
    "        if data[i] > data[i + 1]:\n",
    "            return False\n",
    "    return True"
   ],
   "metadata": {
    "collapsed": false,
    "ExecuteTime": {
     "end_time": "2024-02-26T15:22:24.790669300Z",
     "start_time": "2024-02-26T15:22:24.750454200Z"
    }
   },
   "id": "1e3ebcae1c190c49",
   "execution_count": 63
  },
  {
   "cell_type": "markdown",
   "source": [
    "# Merge Sort\n",
    "![Gif showing merge sorting](https://upload.wikimedia.org/wikipedia/commons/c/cc/Merge-sort-example-300px.gif)"
   ],
   "metadata": {
    "collapsed": false
   },
   "id": "420fb5063e9cc041"
  },
  {
   "cell_type": "code",
   "outputs": [],
   "source": [
    "def merge_sort(input_list):\n",
    "    # if the input list is empty or has only one element, it is already sorted\n",
    "    if len(input_list) <= 1:\n",
    "        return\n",
    "    \n",
    "    # splitting the list in half to get the left and right halves\n",
    "    middle_index = len(input_list) // 2\n",
    "    left_half = input_list[:middle_index]\n",
    "    right_half = input_list[middle_index:]\n",
    "    \n",
    "    # calling the merge_sort function recursively. This means all code below these two lines will have a input_list with a length of 1\n",
    "    merge_sort(left_half)\n",
    "    merge_sort(right_half)\n",
    "    \n",
    "    # merge the sorted halves\n",
    "    sorted_list = [] # create an empty list to store the sorted elements. Cannot use input_list as it will be overwritten\n",
    "    left_index = 0\n",
    "    right_index = 0\n",
    "    \n",
    "    while left_index < len(left_half) and right_index < len(right_half):\n",
    "        # if the element in the left half is smaller than the element in the right half, append the left element to the sorted list (since it is the smallest element)\n",
    "        if left_half[left_index] < right_half[right_index]:\n",
    "            sorted_list.append(left_half[left_index])\n",
    "            left_index += 1\n",
    "        # if the element in the right half is smaller than the element in the left half, append the right element to the sorted list (since it is the smallest element)\n",
    "        else:\n",
    "            sorted_list.append(right_half[right_index])\n",
    "            right_index += 1\n",
    "            \n",
    "    # if there are remaining elements in either half, append them to the result. This is because the previous while loop will stop when one of the halves is empty\n",
    "    while left_index < len(left_half):\n",
    "        sorted_list.append(left_half[left_index])\n",
    "        left_index += 1\n",
    "\n",
    "    while right_index < len(right_half):\n",
    "        sorted_list.append(right_half[right_index])\n",
    "        right_index += 1\n",
    "    \n",
    "    # copy the sorted list to the input list\n",
    "    input_list[:] = sorted_list"
   ],
   "metadata": {
    "collapsed": false,
    "ExecuteTime": {
     "end_time": "2024-02-26T15:22:24.846916100Z",
     "start_time": "2024-02-26T15:22:24.758088400Z"
    }
   },
   "id": "8c91ccf48a829ac",
   "execution_count": 64
  },
  {
   "cell_type": "markdown",
   "source": [
    "# Bubble Sort\n",
    "![Gif showing bubble sorting](https://upload.wikimedia.org/wikipedia/commons/c/c8/Bubble-sort-example-300px.gif)"
   ],
   "metadata": {
    "collapsed": false
   },
   "id": "805a87a40a28f54a"
  },
  {
   "cell_type": "code",
   "outputs": [],
   "source": [
    "def bubble_sort(input_list):\n",
    "    # looping through the list. i is the amount of elements that are already sorted\n",
    "    for i in range (len(input_list)):\n",
    "        # looping through the list again, but only until the last i element (so sorted elements are not checked again). The -1 is because we are comparing the current element with the next element. To avoid trying to read values outside the array length, we stop at the second to last element\n",
    "        for j in range (0, len(input_list)-i-1):\n",
    "            # if the current element is greater than the next element, swap them\n",
    "            # works cause Python tuples are immutable so the values are not lost\n",
    "            if input_list[j] > input_list[j+1]:\n",
    "                input_list[j], input_list[j+1] = input_list[j+1], input_list[j]"
   ],
   "metadata": {
    "collapsed": false,
    "ExecuteTime": {
     "end_time": "2024-02-26T15:22:24.891779600Z",
     "start_time": "2024-02-26T15:22:24.773883400Z"
    }
   },
   "id": "4a97da34ceba7959",
   "execution_count": 65
  },
  {
   "cell_type": "markdown",
   "source": [
    "# Quick Sort\n",
    "![Gif showing quick sorting](https://upload.wikimedia.org/wikipedia/commons/6/6a/Sorting_quicksort_anim.gif)"
   ],
   "metadata": {
    "collapsed": false
   },
   "id": "52020f0e46f2556b"
  },
  {
   "cell_type": "code",
   "outputs": [],
   "source": [
    "def partition(input_list, start, end):\n",
    "    # setting the pivot to the last element of the list\n",
    "    pivot = input_list[end]\n",
    "    \n",
    "    index = start - 1\n",
    "    \n",
    "    for j in range(start, end):\n",
    "        # if the current element is smaller than the pivot, move the index of the smaller elements up by 1 and swap the current element with the element at the index\n",
    "        if input_list[j] < pivot:\n",
    "            index += 1\n",
    "            # works cause it creates a tuple with the values of the two elements and then unpacks them into the two elements\n",
    "            input_list[index], input_list[j] = input_list[j], input_list[index]\n",
    "       \n",
    "    # move the index up by 1     \n",
    "    index += 1\n",
    "\n",
    "    # swap the pivot with the element at the index\n",
    "    input_list[index], input_list[end] = input_list[end], input_list[index]\n",
    "    \n",
    "    return (index)\n",
    "\n",
    "def quick_sort(input_list, start=0, end=None):\n",
    "    # if end is not given, set it to the last index of the list. This is used on the first call of the function. Recursive calls will have the end parameter set.\n",
    "    if end is None:\n",
    "        end = len(input_list) - 1\n",
    "        \n",
    "    # if the start index is greater than or equal to the end index, the list is already sorted\n",
    "    if start >= end:\n",
    "        return\n",
    "        \n",
    "    # getting the pivot index\n",
    "    pivot = partition(input_list, start, end)\n",
    "    \n",
    "    # recursively calling the quick_sort function with the left and right halves of the pivot\n",
    "    quick_sort(input_list, start, pivot - 1)\n",
    "    quick_sort(input_list, pivot + 1, end)"
   ],
   "metadata": {
    "collapsed": false,
    "ExecuteTime": {
     "end_time": "2024-02-26T15:22:24.895779300Z",
     "start_time": "2024-02-26T15:22:24.851436100Z"
    }
   },
   "id": "a0c4a5cb272a82b0",
   "execution_count": 66
  },
  {
   "cell_type": "markdown",
   "source": [
    "# Bogo Sort\n",
    "![Gif showing bogo sorting](https://i.makeagif.com/media/12-07-2015/zEk2rW.gif)"
   ],
   "metadata": {
    "collapsed": false
   },
   "id": "6d8944c0a028bbd3"
  },
  {
   "cell_type": "code",
   "outputs": [],
   "source": [
    "def bogo_sort(input_list, max_tries : int):\n",
    "    # max_tries because bogo sort can theoretically take forever\n",
    "    for x in range(max_tries):\n",
    "        if is_sorted(input_list):\n",
    "            return\n",
    "        random.shuffle(input_list)"
   ],
   "metadata": {
    "collapsed": false,
    "ExecuteTime": {
     "end_time": "2024-02-26T15:22:24.932422600Z",
     "start_time": "2024-02-26T15:22:24.901784700Z"
    }
   },
   "id": "f73285ba90e101ee",
   "execution_count": 67
  },
  {
   "cell_type": "markdown",
   "source": [
    "# Linear search sort (own idea)"
   ],
   "metadata": {
    "collapsed": false
   },
   "id": "668ddbd4057055e0"
  },
  {
   "cell_type": "code",
   "outputs": [],
   "source": [
    "def search_lowest(input_list) -> (int, int):\n",
    "    # setting the lowest number to the first element of the list\n",
    "    lowest_number = input_list[0]\n",
    "    index = 0\n",
    "    \n",
    "    # looping through the list\n",
    "    for i in range(1, len(input_list)):\n",
    "        # if the current element is smaller than the lowest number, set the lowest number to the current element\n",
    "        if input_list[i] < lowest_number:\n",
    "            lowest_number = input_list[i]\n",
    "            index = i\n",
    "    \n",
    "    return (lowest_number, index)\n",
    "    \n",
    "# sorting by using binary search to get the lowest number \n",
    "def linear_search_sort(input_list):\n",
    "    sorted_list = []\n",
    "    \n",
    "    for i in range(len(input_list)):\n",
    "        # if the list is empty or only contains one item, break the loop\n",
    "        if len(input_list) <= 1:\n",
    "            sorted_list.append(input_list[0])\n",
    "            break\n",
    "            \n",
    "        # get the lowest number and its index. Add the number to the sorted list and remove it from the input list\n",
    "        lowest_number, index = search_lowest(input_list)\n",
    "        sorted_list.append(lowest_number)\n",
    "        input_list.pop(index)\n",
    "    \n",
    "    # copy the sorted list to the input list\n",
    "    print(sorted_list)\n",
    "    input_list[:] = sorted_list\n",
    "    print(len(input_list))\n",
    "    \n",
    "    "
   ],
   "metadata": {
    "collapsed": false,
    "ExecuteTime": {
     "end_time": "2024-02-26T15:22:24.965579200Z",
     "start_time": "2024-02-26T15:22:24.938438500Z"
    }
   },
   "id": "a57faa8a32d7076",
   "execution_count": 68
  },
  {
   "cell_type": "markdown",
   "source": [
    "# Resultaten"
   ],
   "metadata": {
    "collapsed": false
   },
   "id": "fc8992f05fa0f4ac"
  },
  {
   "cell_type": "code",
   "outputs": [
    {
     "ename": "KeyboardInterrupt",
     "evalue": "",
     "output_type": "error",
     "traceback": [
      "\u001B[1;31m---------------------------------------------------------------------------\u001B[0m",
      "\u001B[1;31mKeyboardInterrupt\u001B[0m                         Traceback (most recent call last)",
      "Cell \u001B[1;32mIn[69], line 23\u001B[0m\n\u001B[0;32m     21\u001B[0m \u001B[38;5;66;03m# linear search sort\u001B[39;00m\n\u001B[0;32m     22\u001B[0m linear_search_sort_start_time \u001B[38;5;241m=\u001B[39m time\u001B[38;5;241m.\u001B[39mtime()\n\u001B[1;32m---> 23\u001B[0m \u001B[43mlinear_search_sort\u001B[49m\u001B[43m(\u001B[49m\u001B[43mlinearSearchList\u001B[49m\u001B[43m)\u001B[49m\n\u001B[0;32m     24\u001B[0m linear_search_sort_end_time \u001B[38;5;241m=\u001B[39m time\u001B[38;5;241m.\u001B[39mtime()\n",
      "Cell \u001B[1;32mIn[68], line 25\u001B[0m, in \u001B[0;36mlinear_search_sort\u001B[1;34m(input_list)\u001B[0m\n\u001B[0;32m     22\u001B[0m     sorted_list\u001B[38;5;241m.\u001B[39mappend(input_list[\u001B[38;5;241m0\u001B[39m])\n\u001B[0;32m     23\u001B[0m     \u001B[38;5;28;01mbreak\u001B[39;00m\n\u001B[1;32m---> 25\u001B[0m lowest_number, index \u001B[38;5;241m=\u001B[39m \u001B[43msearch_lowest\u001B[49m\u001B[43m(\u001B[49m\u001B[43minput_list\u001B[49m\u001B[43m)\u001B[49m\n\u001B[0;32m     26\u001B[0m sorted_list\u001B[38;5;241m.\u001B[39mappend(lowest_number)\n\u001B[0;32m     27\u001B[0m input_list\u001B[38;5;241m.\u001B[39mpop(index)\n",
      "Cell \u001B[1;32mIn[68], line 9\u001B[0m, in \u001B[0;36msearch_lowest\u001B[1;34m(input_list)\u001B[0m\n\u001B[0;32m      6\u001B[0m \u001B[38;5;66;03m# looping through the list\u001B[39;00m\n\u001B[0;32m      7\u001B[0m \u001B[38;5;28;01mfor\u001B[39;00m i \u001B[38;5;129;01min\u001B[39;00m \u001B[38;5;28mrange\u001B[39m(\u001B[38;5;241m1\u001B[39m, \u001B[38;5;28mlen\u001B[39m(input_list)):\n\u001B[0;32m      8\u001B[0m     \u001B[38;5;66;03m# if the current element is smaller than the lowest number, set the lowest number to the current element\u001B[39;00m\n\u001B[1;32m----> 9\u001B[0m     \u001B[38;5;28;01mif\u001B[39;00m input_list[i] \u001B[38;5;241m<\u001B[39m lowest_number:\n\u001B[0;32m     10\u001B[0m         lowest_number \u001B[38;5;241m=\u001B[39m input_list[i]\n\u001B[0;32m     11\u001B[0m         index \u001B[38;5;241m=\u001B[39m i\n",
      "\u001B[1;31mKeyboardInterrupt\u001B[0m: "
     ]
    }
   ],
   "source": [
    "# merge sort\n",
    "merge_sort_start_time = time.time()\n",
    "merge_sort(mergeList)\n",
    "merge_sort_end_time = time.time()\n",
    "\n",
    "# bubble sort\n",
    "bubble_sort_start_time = time.time()\n",
    "bubble_sort(bubbleList)\n",
    "bubble_sort_end_time = time.time()\n",
    "\n",
    "# quick sort\n",
    "quick_sort_start_time = time.time()\n",
    "quick_sort(quickList)\n",
    "quick_sort_end_time = time.time()\n",
    "\n",
    "# bogo sort\n",
    "bogo_sort_start_time = time.time()\n",
    "bogo_sort(bogoList, 100000)\n",
    "bogo_sort_end_time = time.time()\n",
    "\n",
    "# linear search sort\n",
    "linear_search_sort_start_time = time.time()\n",
    "linear_search_sort(linearSearchList)\n",
    "linear_search_sort_end_time = time.time()\n"
   ],
   "metadata": {
    "collapsed": false,
    "ExecuteTime": {
     "end_time": "2024-02-26T15:25:15.393340300Z",
     "start_time": "2024-02-26T15:22:24.971578Z"
    }
   },
   "id": "c1557805f8b1bc68",
   "execution_count": 69
  },
  {
   "cell_type": "markdown",
   "source": [
    "## Resultaten in een dataframe"
   ],
   "metadata": {
    "collapsed": false
   },
   "id": "2a9724f7d37409b8"
  },
  {
   "cell_type": "code",
   "outputs": [],
   "source": [
    "# creating and filling a dataframe with the results\n",
    "results = pd.DataFrame({\n",
    "    \"Sort Type\": [\"Merge Sort\", \"Bubble Sort\", \"Quick Sort\", \"Bogo Sort\", \"Linear Search Sort\"],\n",
    "    \"Start Time\": [merge_sort_start_time, bubble_sort_start_time, quick_sort_start_time, bogo_sort_start_time, linear_search_sort_start_time],\n",
    "    \"End Time\": [merge_sort_end_time, bubble_sort_end_time, quick_sort_end_time, bogo_sort_end_time, linear_search_sort_end_time]\n",
    "})\n",
    "\n",
    "# calculating the time it took to sort the list\n",
    "results[\"Time\"] = results[\"End Time\"] - results[\"Start Time\"]\n",
    "\n",
    "# converting the start and end time to a more readable format\n",
    "results[\"Start Time\"] = results[\"Start Time\"].apply(lambda x: time.strftime('%H:%M:%S', time.localtime(x)))\n",
    "results[\"End Time\"] = results[\"End Time\"].apply(lambda x: time.strftime('%H:%M:%S', time.localtime(x)))\n",
    "\n",
    "# checking the lists are actually sorted and adding that to the dataframe\n",
    "results[\"Is Sorted\"] = [\n",
    "    is_sorted(mergeList),\n",
    "    is_sorted(bubbleList),\n",
    "    is_sorted(quickList),\n",
    "    is_sorted(bogoList),\n",
    "    is_sorted(linearSearchList)\n",
    "]\n",
    "\n",
    "# displaying the results\n",
    "results"
   ],
   "metadata": {
    "collapsed": false,
    "ExecuteTime": {
     "start_time": "2024-02-26T15:25:15.396344900Z"
    }
   },
   "id": "2e75cb0eefd0b45b",
   "execution_count": null
  },
  {
   "cell_type": "markdown",
   "source": [],
   "metadata": {
    "collapsed": false
   },
   "id": "348b222459ecde36"
  }
 ],
 "metadata": {
  "kernelspec": {
   "display_name": "Python 3",
   "language": "python",
   "name": "python3"
  },
  "language_info": {
   "codemirror_mode": {
    "name": "ipython",
    "version": 2
   },
   "file_extension": ".py",
   "mimetype": "text/x-python",
   "name": "python",
   "nbconvert_exporter": "python",
   "pygments_lexer": "ipython2",
   "version": "2.7.6"
  }
 },
 "nbformat": 4,
 "nbformat_minor": 5
}
