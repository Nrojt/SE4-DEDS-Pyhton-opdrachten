{
 "cells": [
  {
   "cell_type": "markdown",
   "metadata": {},
   "source": [
    "## Bubblesort\n",
    "Vergelijkt aangrenzende elementen en ruilt ze als ze in de verkeerde volgorde staan.\n",
    "Herhaalt dit proces totdat de lijst gesorteerd is."
   ]
  },
  {
   "cell_type": "code",
   "execution_count": 1,
   "metadata": {},
   "outputs": [
    {
     "name": "stdout",
     "output_type": "stream",
     "text": [
      "[1, 2, 3, 4, 5, 6, 7, 8, 9, 10, 11, 12, 13, 14, 15, 16, 17, 18, 19, 20]\n"
     ]
    }
   ],
   "source": [
    "def bubble(list):\n",
    "    indexing_length = len(list) - 1  # -1 omdat je op het laatste item geen vergelijking kan maken\n",
    "    sorted = False\n",
    "\n",
    "    while not sorted:\n",
    "        sorted = True\n",
    "        for i in range(0, indexing_length):\n",
    "            if list[i] > list[i+1]:\n",
    "                sorted = False\n",
    "                list[i], list[i+1] = list[i+1], list[i] # wissel getallen om\n",
    "    return list\n",
    "\n",
    "print(bubble([1, 5, 3, 7, 2, 8, 4, 9, 6, 10, 12, 45, 43, 68, 86, 67, 73, 16, 67]))"
   ]
  },
  {
   "cell_type": "markdown",
   "metadata": {},
   "source": [
    "## Bogosort\n",
    "Husselt de getallen op een random manier en hoopt dat het op volgorde ligt, zo niet: nog een keer. (Onderstaande heb ik maar gestopt na een halfuur)"
   ]
  },
  {
   "cell_type": "code",
   "execution_count": 12,
   "metadata": {},
   "outputs": [
    {
     "ename": "KeyboardInterrupt",
     "evalue": "",
     "output_type": "error",
     "traceback": [
      "\u001b[1;31m---------------------------------------------------------------------------\u001b[0m",
      "\u001b[1;31mKeyboardInterrupt\u001b[0m                         Traceback (most recent call last)",
      "Cell \u001b[1;32mIn[12], line 15\u001b[0m\n\u001b[0;32m     12\u001b[0m     \u001b[38;5;28;01mwhile\u001b[39;00m \u001b[38;5;129;01mnot\u001b[39;00m is_sorted(lst):\n\u001b[0;32m     13\u001b[0m         random\u001b[38;5;241m.\u001b[39mshuffle(lst)\n\u001b[1;32m---> 15\u001b[0m \u001b[38;5;28mprint\u001b[39m(\u001b[43mbogosort\u001b[49m\u001b[43m(\u001b[49m\u001b[43marray2\u001b[49m\u001b[43m)\u001b[49m)\n",
      "Cell \u001b[1;32mIn[12], line 13\u001b[0m, in \u001b[0;36mbogosort\u001b[1;34m(lst)\u001b[0m\n\u001b[0;32m     11\u001b[0m \u001b[38;5;28;01mdef\u001b[39;00m \u001b[38;5;21mbogosort\u001b[39m(lst):\n\u001b[0;32m     12\u001b[0m     \u001b[38;5;28;01mwhile\u001b[39;00m \u001b[38;5;129;01mnot\u001b[39;00m is_sorted(lst):\n\u001b[1;32m---> 13\u001b[0m         \u001b[43mrandom\u001b[49m\u001b[38;5;241;43m.\u001b[39;49m\u001b[43mshuffle\u001b[49m\u001b[43m(\u001b[49m\u001b[43mlst\u001b[49m\u001b[43m)\u001b[49m\n",
      "File \u001b[1;32m~\\AppData\\Local\\Programs\\Python\\Python312\\Lib\\random.py:350\u001b[0m, in \u001b[0;36mRandom.shuffle\u001b[1;34m(self, x)\u001b[0m\n\u001b[0;32m    347\u001b[0m         \u001b[38;5;28;01mraise\u001b[39;00m \u001b[38;5;167;01mIndexError\u001b[39;00m(\u001b[38;5;124m'\u001b[39m\u001b[38;5;124mCannot choose from an empty sequence\u001b[39m\u001b[38;5;124m'\u001b[39m)\n\u001b[0;32m    348\u001b[0m     \u001b[38;5;28;01mreturn\u001b[39;00m seq[\u001b[38;5;28mself\u001b[39m\u001b[38;5;241m.\u001b[39m_randbelow(\u001b[38;5;28mlen\u001b[39m(seq))]\n\u001b[1;32m--> 350\u001b[0m \u001b[38;5;28;01mdef\u001b[39;00m \u001b[38;5;21mshuffle\u001b[39m(\u001b[38;5;28mself\u001b[39m, x):\n\u001b[0;32m    351\u001b[0m \u001b[38;5;250m    \u001b[39m\u001b[38;5;124;03m\"\"\"Shuffle list x in place, and return None.\"\"\"\u001b[39;00m\n\u001b[0;32m    353\u001b[0m     randbelow \u001b[38;5;241m=\u001b[39m \u001b[38;5;28mself\u001b[39m\u001b[38;5;241m.\u001b[39m_randbelow\n",
      "\u001b[1;31mKeyboardInterrupt\u001b[0m: "
     ]
    }
   ],
   "source": [
    "import random\n",
    "\n",
    "array2 = [25, 9, 33, 7, 18, 12, 29, 4, 21, 15, 27, 8, 30, 11, 23, 6, 19, 14, 31, 5, 22, 13, 26, 10, 17]\n",
    "\n",
    "\n",
    "# Functie om te controleren of de lijst is gesorteerd\n",
    "def is_sorted(lst):\n",
    "    return all(lst[i] <= lst[i+1] for i in range(len(lst)-1))\n",
    "\n",
    "# Functie voor het bogosort-algoritme\n",
    "def bogosort(lst):\n",
    "    while not is_sorted(lst):\n",
    "        random.shuffle(lst)\n",
    "\n",
    "print(bogosort(array2))"
   ]
  },
  {
   "cell_type": "markdown",
   "metadata": {},
   "source": [
    "## Selection sort\n",
    "\n",
    "Het verdeelt de array in een gesorteerd en een ongesorteerd deel.\n",
    "Selecteert herhaaldelijk het kleinste element uit het ongesorteerde deel en ruilt het met het eerste element van het ongesorteerde deel. Selection soort is beter dan bubble sort, want minder wisselingen van getallen nodig (minder stappen) "
   ]
  },
  {
   "cell_type": "code",
   "execution_count": 1,
   "metadata": {},
   "outputs": [
    {
     "name": "stdout",
     "output_type": "stream",
     "text": [
      "[14, 16, 17, 19, 21, 22, 23, 26, 28, 29, 30, 31, 33, 35, 36, 38, 39, 40, 42, 44, 45, 47, 48, 49, 50]\n",
      "[1, 2, 3, 4, 5, 6, 7, 8, 9, 10, 12, 16, 43, 45, 67, 67, 68, 73, 86]\n"
     ]
    }
   ],
   "source": [
    "array3 = [45, 28, 14, 39, 23, 36, 42, 31, 19, 50, 26, 47, 38, 17, 49, 33, 22, 40, 30, 16, 44, 21, 35, 48, 29]\n",
    "\n",
    "def selection_sort(arr):\n",
    "    n = len(arr)\n",
    "\n",
    "    # Loop door alle elementen in de array\n",
    "    for i in range(n):\n",
    "        # Vind de minimale waarde in het resterende deel van de array\n",
    "        min_index = i\n",
    "        for j in range(i + 1, n):\n",
    "            if arr[j] < arr[min_index]:\n",
    "                min_index = j\n",
    "\n",
    "        # Wissel de gevonden minimale waarde met het eerste element\n",
    "        arr[i], arr[min_index] = arr[min_index], arr[i]\n",
    "\n",
    "selection_sort(array3)\n",
    "print(array3)\n",
    "\n",
    "\n",
    "\n",
    "def selection_sort(list):\n",
    "    indexing_length = range(0, len(list)-1) # -1 omdat je op het laatste item geen vergelijking kan maken, wss ook hoogste getal\n",
    "\n",
    "    # Loop door alle elementen in de array\n",
    "    for i in indexing_length:\n",
    "        # Vind de minimale waarde in het resterende deel van de array\n",
    "        min_value = i\n",
    "\n",
    "        for j in range(i+1, len(list)):\n",
    "            if list[j] < list[min_value]:\n",
    "                min_value = j\n",
    "\n",
    "        \n",
    "        if min_value != i: # Breek de loop af \n",
    "            # Wissel de gevonden minimale waarde met het eerste element\n",
    "            list[min_value], list[i] = list[i], list[min_value]\n",
    "\n",
    "    return list \n",
    "\n",
    "print(selection_sort([1, 5, 3, 7, 2, 8, 4, 9, 6, 10, 12, 45, 43, 68, 86, 67, 73, 16, 67]))"
   ]
  },
  {
   "cell_type": "markdown",
   "metadata": {},
   "source": [
    "## Quick Sort\n",
    "Je haalt een getal (de pivot) uit de oorspronkelijke lijst (in onderstaand geval het laatste item) en vergelijkt de rest van de oorspronkelijke lijst met dit getal. De getallen worden gesorteerd in 2 andere lijsten; groter en kleiner dan de het pivot getal. Op deze 2 lijsten wordt hetzelfde nog een keer gedaan en vervolgens wordt de lijsten met de pivot aan elkaar geplakt."
   ]
  },
  {
   "cell_type": "code",
   "execution_count": null,
   "metadata": {},
   "outputs": [],
   "source": [
    "def quick_sort(arr):\n",
    "    length = len(arr)\n",
    "    if length <= 1:\n",
    "        return arr\n",
    "    else:\n",
    "        # Verwijder het laatste element van de lijst en sla het op in de variabele pivot (pop() verwijdert het laatste element van de lijst en retourneert het) \n",
    "        pivot = arr.pop() \n",
    "\n",
    "    items_greater = []\n",
    "    items_lower = []\n",
    "\n",
    "    for item in arr:\n",
    "        # Voeg het item toe aan de items_greater lijst als het groter is dan de pivot\n",
    "        if item > pivot:\n",
    "            items_greater.append(item)  \n",
    "        \n",
    "        # Voeg het item toe aan de items_lower lijst als het kleiner is dan de pivot\n",
    "        else:\n",
    "            items_lower.append(item) \n",
    "    \n",
    "    # Voer de quick_sort functie uit op de items_lower en items_greater lijsten en voeg de pivot ertussen\n",
    "    return quick_sort(items_lower) + [pivot] + quick_sort(items_greater) \n",
    "\n",
    "print(quick_sort([1, 5, 3, 7, 2, 8, 4, 9, 6, 10, 12, 45, 43, 68, 86, 67, 73, 16, 67]))"
   ]
  }
 ],
 "metadata": {
  "kernelspec": {
   "display_name": "deds-portfolio-Vreb6D9J-py3.12",
   "language": "python",
   "name": "python3"
  },
  "language_info": {
   "codemirror_mode": {
    "name": "ipython",
    "version": 3
   },
   "file_extension": ".py",
   "mimetype": "text/x-python",
   "name": "python",
   "nbconvert_exporter": "python",
   "pygments_lexer": "ipython3",
   "version": "3.12.2"
  }
 },
 "nbformat": 4,
 "nbformat_minor": 2
}
