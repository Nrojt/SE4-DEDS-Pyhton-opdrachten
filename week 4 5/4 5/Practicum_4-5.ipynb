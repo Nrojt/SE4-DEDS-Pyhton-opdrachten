{
 "cells": [
  {
   "cell_type": "markdown",
   "id": "d086cc99c4d69011",
   "metadata": {
    "collapsed": false
   },
   "source": [
    "Practicumopdrachten Week 4.3 (eerste kans)"
   ]
  },
  {
   "cell_type": "code",
   "id": "53ceadd40e419431",
   "metadata": {
    "collapsed": false,
    "ExecuteTime": {
     "end_time": "2024-04-22T13:54:03.573901Z",
     "start_time": "2024-04-22T13:54:03.027595Z"
    }
   },
   "source": [
    "import pandas as pd\n",
    "import pyodbc\n",
    "import sqlite3\n",
    "import numpy as np\n",
    "import re\n",
    "import sys"
   ],
   "outputs": [],
   "execution_count": 1
  },
  {
   "cell_type": "markdown",
   "id": "823d7a97f719ddcb",
   "metadata": {
    "collapsed": false
   },
   "source": [
    "# Mssql database\n",
    "Mssql server database"
   ]
  },
  {
   "cell_type": "code",
   "id": "150761955324b009",
   "metadata": {
    "collapsed": false,
    "ExecuteTime": {
     "end_time": "2024-04-22T13:54:04.559932Z",
     "start_time": "2024-04-22T13:54:04.555815Z"
    }
   },
   "source": [
    "# database name\n",
    "DB = {\n",
    "    'servername': '(local)\\\\SQLEXPRESS',\n",
    "    'database': 'DEDS_DataWarehouse'}"
   ],
   "outputs": [],
   "execution_count": 2
  },
  {
   "cell_type": "markdown",
   "id": "2786f3955bc198b8",
   "metadata": {
    "collapsed": false
   },
   "source": [
    "## Database aanmaken"
   ]
  },
  {
   "cell_type": "code",
   "id": "47dcfac02c67d8e9",
   "metadata": {
    "collapsed": false,
    "ExecuteTime": {
     "end_time": "2024-04-22T13:54:05.205418Z",
     "start_time": "2024-04-22T13:54:04.618980Z"
    }
   },
   "source": [
    "# Connect to the SQL Server database, not a specific database but the master\n",
    "conn = pyodbc.connect('DRIVER={SQL Server};SERVER=' + DB['servername'] + ';DATABASE=master;Trusted_Connection=yes')\n",
    "\n",
    "# Create a cursor object\n",
    "cur = conn.cursor()\n",
    "\n",
    "try:\n",
    "    # Kill all active connections to the database\n",
    "    cur.execute(\"\"\"\n",
    "        DECLARE @kill varchar(8000) = '';\n",
    "        SELECT @kill = @kill + 'kill ' + convert(varchar, spid) + ';'\n",
    "        FROM master.dbo.sysprocesses\n",
    "        WHERE dbid = db_id('{database}')\n",
    "        AND spid <> @@spid;\n",
    "        EXEC(@kill);\n",
    "    \"\"\".format(database=DB['database']))\n",
    "    conn.commit()\n",
    "\n",
    "    # Close the current connection\n",
    "    cur.close()\n",
    "    conn.close()\n",
    "\n",
    "    # Reconnect to the SQL Server database\n",
    "    conn = pyodbc.connect('DRIVER={SQL Server};SERVER=' + DB['servername'] + ';DATABASE=master;Trusted_Connection=yes')\n",
    "    cur = conn.cursor()\n",
    "\n",
    "    # Read the SQL script file\n",
    "    with open('src/DEDS_DataWarehouse_Creation_Script.sql', 'r') as file:\n",
    "        sql_script = file.read()\n",
    "\n",
    "    # Split the SQL script into individual statements\n",
    "    sql_statements = re.split(r'GO\\n', sql_script)\n",
    "\n",
    "    # Execute the DROP DATABASE statement\n",
    "    drop_database_stmt = sql_statements[0]\n",
    "    cur.execute(drop_database_stmt)\n",
    "\n",
    "    # Execute the CREATE DATABASE statement\n",
    "    create_database_stmt = sql_statements[1]\n",
    "    cur.execute(create_database_stmt)\n",
    "\n",
    "    # Start a new transaction\n",
    "    conn.autocommit = False\n",
    "\n",
    "    # Execute the remaining SQL statements within the transaction\n",
    "    for sql_statement in sql_statements[2:]:\n",
    "        cur.execute(sql_statement)\n",
    "    # Commit the transaction\n",
    "    conn.commit()\n",
    "\n",
    "except pyodbc.Error as e:\n",
    "    print(f\"Error: {e}\")\n",
    "    conn.rollback()\n",
    "    sys.exit(1)\n",
    "\n",
    "finally:\n",
    "    # Close the cursor\n",
    "    cur.close()\n",
    "\n",
    "    # Close the connection\n",
    "    conn.close()"
   ],
   "outputs": [],
   "execution_count": 3
  },
  {
   "cell_type": "markdown",
   "id": "8ad6ccb5da326445",
   "metadata": {
    "collapsed": false
   },
   "source": [
    "## Database connectie"
   ]
  },
  {
   "cell_type": "code",
   "id": "948252c29b10a629",
   "metadata": {
    "collapsed": false,
    "ExecuteTime": {
     "end_time": "2024-04-22T13:54:05.265587Z",
     "start_time": "2024-04-22T13:54:05.206425Z"
    }
   },
   "source": [
    "export_conn = pyodbc.connect('DRIVER={SQL Server};SERVER=' + DB['servername'] + ';DATABASE=' + DB['database'] + ';Trusted_Connection=yes')\n",
    "\n",
    "\n",
    "# Create a cursor from the connection\n",
    "export_cursor = export_conn.cursor()\n",
    "\n",
    "# check if connection is successful, else throw an error\n",
    "if export_conn:\n",
    "    print(\"Connection with database is established\")\n",
    "    # setting the autocommit to True\n",
    "    export_conn.autocommit = True\n",
    "else:\n",
    "    print(\"Connection with database is not established\")\n",
    "    raise Exception(\"Connection with database is not established\")\n"
   ],
   "outputs": [
    {
     "name": "stdout",
     "output_type": "stream",
     "text": [
      "Connection with database is established\n"
     ]
    }
   ],
   "execution_count": 4
  },
  {
   "cell_type": "markdown",
   "id": "9c06294903211408",
   "metadata": {
    "collapsed": false
   },
   "source": [
    "# Brontabellen\n",
    "importeer de brontabellen uit de brondata folder"
   ]
  },
  {
   "cell_type": "code",
   "id": "7e3485e0d80801c9",
   "metadata": {
    "collapsed": false,
    "ExecuteTime": {
     "end_time": "2024-04-22T13:54:05.272329Z",
     "start_time": "2024-04-22T13:54:05.266595Z"
    }
   },
   "source": [
    "# Connectie met sqlite databases\n",
    "go_crm_connection = sqlite3.connect('data/raw/go_crm.sqlite')\n",
    "go_sales_connection = sqlite3.connect('data/raw/go_sales.sqlite')\n",
    "go_staff_connection = sqlite3.connect('data/raw/go_staff.sqlite')\n"
   ],
   "outputs": [],
   "execution_count": 5
  },
  {
   "cell_type": "code",
   "id": "80afb12db9f862d",
   "metadata": {
    "collapsed": false,
    "ExecuteTime": {
     "end_time": "2024-04-22T13:54:05.289337Z",
     "start_time": "2024-04-22T13:54:05.273336Z"
    }
   },
   "source": [
    "# inlezen csv bestanden\n",
    "go_sales_inventory_levels = pd.read_csv('data/raw/GO_SALES_INVENTORY_LEVELSData.csv')\n",
    "go_sales_product_forcast = pd.read_csv('data/raw/GO_SALES_PRODUCT_FORECASTData.csv')"
   ],
   "outputs": [],
   "execution_count": 6
  },
  {
   "cell_type": "markdown",
   "id": "e4ca8a748b700495",
   "metadata": {
    "collapsed": false
   },
   "source": [
    "## Inlezen van de sqlite tabellen"
   ]
  },
  {
   "cell_type": "markdown",
   "id": "94c4cad4f19bfd1e",
   "metadata": {
    "collapsed": false
   },
   "source": [
    "### go_crm"
   ]
  },
  {
   "cell_type": "code",
   "id": "689787d21e2dd6f3",
   "metadata": {
    "collapsed": false,
    "ExecuteTime": {
     "end_time": "2024-04-22T13:54:05.321955Z",
     "start_time": "2024-04-22T13:54:05.291344Z"
    }
   },
   "source": [
    "go_crm_age_group = pd.read_sql_query(\"SELECT * FROM age_group\", go_crm_connection)\n",
    "go_crm_country = pd.read_sql_query(\"SELECT * FROM country\", go_crm_connection)\n",
    "go_crm_retailer = pd.read_sql_query(\"SELECT * FROM retailer\", go_crm_connection)\n",
    "go_crm_retailer_contact = pd.read_sql_query(\"SELECT * FROM retailer_contact\", go_crm_connection)\n",
    "go_crm_retailer_headquarters = pd.read_sql_query(\"SELECT * FROM retailer_headquarters\", go_crm_connection)\n",
    "go_crm_retailer_segment = pd.read_sql_query(\"SELECT * FROM retailer_segment\", go_crm_connection)\n",
    "go_crm_retailer_site = pd.read_sql_query(\"SELECT * FROM retailer_site\", go_crm_connection)\n",
    "go_crm_retailer_type = pd.read_sql_query(\"SELECT * FROM retailer_type\", go_crm_connection)\n",
    "go_crm_sales_demographic = pd.read_sql_query(\"SELECT * FROM sales_demographic\", go_crm_connection)\n",
    "go_crm_sales_territory = pd.read_sql_query(\"SELECT * FROM sales_territory\", go_crm_connection)"
   ],
   "outputs": [],
   "execution_count": 7
  },
  {
   "cell_type": "markdown",
   "id": "169a4aba88468c64",
   "metadata": {
    "collapsed": false
   },
   "source": [
    "### go_staff"
   ]
  },
  {
   "cell_type": "code",
   "id": "2f2206ef6f8f73ef",
   "metadata": {
    "collapsed": false,
    "ExecuteTime": {
     "end_time": "2024-04-22T13:54:05.335303Z",
     "start_time": "2024-04-22T13:54:05.322969Z"
    }
   },
   "source": [
    "go_staff_course = pd.read_sql_query(\"SELECT * FROM course\", go_staff_connection)\n",
    "go_staff_sales_branch = pd.read_sql_query(\"SELECT * FROM sales_branch\", go_staff_connection)\n",
    "go_staff_sales_staff = pd.read_sql_query(\"SELECT * FROM sales_staff\", go_staff_connection)\n",
    "go_staff_satisfaction = pd.read_sql_query(\"SELECT * FROM satisfaction\", go_staff_connection)\n",
    "go_staff_satisfaction_type = pd.read_sql_query(\"SELECT * FROM satisfaction_type\", go_staff_connection)\n",
    "go_staff_training = pd.read_sql_query(\"SELECT * FROM training\", go_staff_connection)"
   ],
   "outputs": [],
   "execution_count": 8
  },
  {
   "cell_type": "markdown",
   "source": [
    "### go_sales"
   ],
   "metadata": {
    "collapsed": false
   },
   "id": "68ef4598d3eae6d5"
  },
  {
   "cell_type": "code",
   "source": [
    "go_sales_country = pd.read_sql_query(\"SELECT * FROM country\", go_sales_connection)\n",
    "go_sales_order_details = pd.read_sql_query(\"SELECT * FROM order_details\", go_sales_connection)\n",
    "go_sales_order_header = pd.read_sql_query(\"SELECT * FROM order_header\", go_sales_connection)\n",
    "go_sales_order_method = pd.read_sql_query(\"SELECT * FROM order_method\", go_sales_connection)\n",
    "go_sales_product = pd.read_sql_query(\"SELECT * FROM product\", go_sales_connection)\n",
    "go_sales_product_line = pd.read_sql_query(\"SELECT * FROM product_line\", go_sales_connection)\n",
    "go_sales_product_type = pd.read_sql_query(\"SELECT * FROM product_type\", go_sales_connection)\n",
    "go_sales_retailer_site = pd.read_sql_query(\"SELECT * FROM retailer_site\", go_sales_connection)\n",
    "go_sales_return_reason = pd.read_sql_query(\"SELECT * FROM return_reason\", go_sales_connection)\n",
    "go_sales_returned_item = pd.read_sql_query(\"SELECT * FROM returned_item\", go_sales_connection)\n",
    "go_sales_sales_branch = pd.read_sql_query(\"SELECT * FROM sales_branch\", go_sales_connection)\n",
    "go_sales_sales_staff = pd.read_sql_query(\"SELECT * FROM sales_staff\", go_sales_connection)\n",
    "go_sales_sales_target_data = pd.read_sql(\"SELECT * FROM SALES_TARGETData\", go_sales_connection)"
   ],
   "metadata": {
    "collapsed": false,
    "ExecuteTime": {
     "end_time": "2024-04-22T13:54:05.794025Z",
     "start_time": "2024-04-22T13:54:05.336317Z"
    }
   },
   "id": "57ccae2b6fd7637c",
   "outputs": [],
   "execution_count": 9
  },
  {
   "cell_type": "markdown",
   "id": "650835d0566406ab",
   "metadata": {
    "collapsed": false
   },
   "source": []
  },
  {
   "cell_type": "markdown",
   "id": "9519bb1f61aa945f",
   "metadata": {
    "collapsed": false
   },
   "source": [
    "# Combineren van de tabellen\n",
    "Combineren van de brondata om tot ons ETL te komen"
   ]
  },
  {
   "cell_type": "code",
   "id": "a9d599b20a6c25c0",
   "metadata": {
    "collapsed": false,
    "ExecuteTime": {
     "end_time": "2024-04-22T13:54:05.803362Z",
     "start_time": "2024-04-22T13:54:05.797097Z"
    }
   },
   "source": [
    "all_dataframes = []"
   ],
   "outputs": [],
   "execution_count": 10
  },
  {
   "metadata": {},
   "cell_type": "markdown",
   "source": "### Sales_demographic",
   "id": "5067b78339a581a0"
  },
  {
   "metadata": {
    "ExecuteTime": {
     "end_time": "2024-04-22T13:54:05.854776Z",
     "start_time": "2024-04-22T13:54:05.806390Z"
    }
   },
   "cell_type": "code",
   "source": [
    "# merging sales_demographic and age_group\n",
    "sales_demographic = pd.merge(go_crm_sales_demographic, go_crm_age_group, left_on='AGE_GROUP_CODE', right_on='AGE_GROUP_CODE')\n",
    "\n",
    "# renaming the columns\n",
    "sales_demographic = sales_demographic.rename(columns={'DEMOGRAPHIC_CODE': 'SALES_DEMOGRAPHIC_code', 'AGE_GROUP_CODE': 'SALES_DEMOGRAPHIC_AGE_GROUP_CODE', 'RETAILER_CODEMR': 'SALES_DEMOGRAPHIC_RETAILER_CODE', 'SALES_PERCENT' : 'SALES_DEMOGRAPHIC_SALES_PERCENT', 'UPPER_AGE': 'SALES_DEMOGRAPHIC_UPPER_AGE', 'LOWER_AGE': 'SALES_DEMOGRAPHIC_LOWER_AGE'})\n",
    "\n",
    "all_dataframes.append(sales_demographic)\n",
    "\n",
    "sales_demographic.head()"
   ],
   "id": "c397b7095dd730e",
   "outputs": [
    {
     "data": {
      "text/plain": [
       "  SALES_DEMOGRAPHIC_code SALES_DEMOGRAPHIC_RETAILER_CODE  \\\n",
       "0                      1                               1   \n",
       "1                     10                               2   \n",
       "2                    100                              17   \n",
       "3                   1000                             164   \n",
       "4                   1001                             164   \n",
       "\n",
       "  SALES_DEMOGRAPHIC_AGE_GROUP_CODE SALES_DEMOGRAPHIC_SALES_PERCENT TRIAL222  \\\n",
       "0                                1                              52        T   \n",
       "1                                4                              16        T   \n",
       "2                                4                              11        T   \n",
       "3                                3                               6        T   \n",
       "4                                4                               9        T   \n",
       "\n",
       "  SALES_DEMOGRAPHIC_UPPER_AGE SALES_DEMOGRAPHIC_LOWER_AGE TRIAL219  \n",
       "0                          20                           0        T  \n",
       "1                          50                          41        T  \n",
       "2                          50                          41        T  \n",
       "3                          40                          31        T  \n",
       "4                          50                          41        T  "
      ],
      "text/html": [
       "<div>\n",
       "<style scoped>\n",
       "    .dataframe tbody tr th:only-of-type {\n",
       "        vertical-align: middle;\n",
       "    }\n",
       "\n",
       "    .dataframe tbody tr th {\n",
       "        vertical-align: top;\n",
       "    }\n",
       "\n",
       "    .dataframe thead th {\n",
       "        text-align: right;\n",
       "    }\n",
       "</style>\n",
       "<table border=\"1\" class=\"dataframe\">\n",
       "  <thead>\n",
       "    <tr style=\"text-align: right;\">\n",
       "      <th></th>\n",
       "      <th>SALES_DEMOGRAPHIC_code</th>\n",
       "      <th>SALES_DEMOGRAPHIC_RETAILER_CODE</th>\n",
       "      <th>SALES_DEMOGRAPHIC_AGE_GROUP_CODE</th>\n",
       "      <th>SALES_DEMOGRAPHIC_SALES_PERCENT</th>\n",
       "      <th>TRIAL222</th>\n",
       "      <th>SALES_DEMOGRAPHIC_UPPER_AGE</th>\n",
       "      <th>SALES_DEMOGRAPHIC_LOWER_AGE</th>\n",
       "      <th>TRIAL219</th>\n",
       "    </tr>\n",
       "  </thead>\n",
       "  <tbody>\n",
       "    <tr>\n",
       "      <th>0</th>\n",
       "      <td>1</td>\n",
       "      <td>1</td>\n",
       "      <td>1</td>\n",
       "      <td>52</td>\n",
       "      <td>T</td>\n",
       "      <td>20</td>\n",
       "      <td>0</td>\n",
       "      <td>T</td>\n",
       "    </tr>\n",
       "    <tr>\n",
       "      <th>1</th>\n",
       "      <td>10</td>\n",
       "      <td>2</td>\n",
       "      <td>4</td>\n",
       "      <td>16</td>\n",
       "      <td>T</td>\n",
       "      <td>50</td>\n",
       "      <td>41</td>\n",
       "      <td>T</td>\n",
       "    </tr>\n",
       "    <tr>\n",
       "      <th>2</th>\n",
       "      <td>100</td>\n",
       "      <td>17</td>\n",
       "      <td>4</td>\n",
       "      <td>11</td>\n",
       "      <td>T</td>\n",
       "      <td>50</td>\n",
       "      <td>41</td>\n",
       "      <td>T</td>\n",
       "    </tr>\n",
       "    <tr>\n",
       "      <th>3</th>\n",
       "      <td>1000</td>\n",
       "      <td>164</td>\n",
       "      <td>3</td>\n",
       "      <td>6</td>\n",
       "      <td>T</td>\n",
       "      <td>40</td>\n",
       "      <td>31</td>\n",
       "      <td>T</td>\n",
       "    </tr>\n",
       "    <tr>\n",
       "      <th>4</th>\n",
       "      <td>1001</td>\n",
       "      <td>164</td>\n",
       "      <td>4</td>\n",
       "      <td>9</td>\n",
       "      <td>T</td>\n",
       "      <td>50</td>\n",
       "      <td>41</td>\n",
       "      <td>T</td>\n",
       "    </tr>\n",
       "  </tbody>\n",
       "</table>\n",
       "</div>"
      ]
     },
     "execution_count": 11,
     "metadata": {},
     "output_type": "execute_result"
    }
   ],
   "execution_count": 11
  },
  {
   "cell_type": "markdown",
   "id": "e50f788702cce510",
   "metadata": {
    "collapsed": false
   },
   "source": [
    "### returned_item"
   ]
  },
  {
   "cell_type": "code",
   "id": "5ef006f254269ef",
   "metadata": {
    "collapsed": false,
    "ExecuteTime": {
     "end_time": "2024-04-22T13:54:05.913394Z",
     "start_time": "2024-04-22T13:54:05.859820Z"
    }
   },
   "source": [
    "# to be used in order details\n",
    "returned_item_columns = ['RETURN_CODE', 'RETURN_DATE', 'RETURN_QUANTITY', 'ORDER_DETAIL_CODE', 'RETURN_REASON_CODE', 'RETURN_DESCRIPTION_EN']\n",
    "returned_item = pd.merge(go_sales_returned_item, go_sales_return_reason, left_on='RETURN_REASON_CODE', right_on='RETURN_REASON_CODE')\n",
    "returned_item = pd.merge(returned_item, go_sales_order_details, left_on='ORDER_DETAIL_CODE', right_on='ORDER_DETAIL_CODE')\n",
    "\n",
    "# filtering the columns\n",
    "returned_item = returned_item[returned_item_columns]\n",
    "\n",
    "# renaming the columns\n",
    "returned_item = returned_item.rename(columns={'RETURN_CODE': 'RETURNED_ITEM_code', 'RETURN_DATE': 'RETURNED_ITEM_DATE', 'RETURN_QUANTITY': 'RETURNED_ITEM_QUANTITY', 'ORDER_DETAIL_CODE': 'RETURNED_ITEM_ORDER_DETAIL_CODE', 'RETURN_REASON_CODE': 'RETURNED_ITEM_RETURN_REASON_code', 'RETURN_DESCRIPTION_EN': 'RETURNED_ITEM_RETURN_REASON_description_en'})\n",
    "\n",
    "all_dataframes.append(returned_item)\n",
    "\n",
    "returned_item.head()"
   ],
   "outputs": [
    {
     "data": {
      "text/plain": [
       "  RETURNED_ITEM_code  RETURNED_ITEM_DATE RETURNED_ITEM_QUANTITY  \\\n",
       "0               1491   1-8-2021 04:10:24                      8   \n",
       "1               1492  6-12-2020 18:46:19                      2   \n",
       "2               1493  24-6-2021 09:23:14                     22   \n",
       "3               1494  21-7-2021 00:00:09                     20   \n",
       "4               1496  7-10-2020 05:13:58                      2   \n",
       "\n",
       "  RETURNED_ITEM_ORDER_DETAIL_CODE RETURNED_ITEM_RETURN_REASON_code  \\\n",
       "0                           84858                                5   \n",
       "1                           84440                                2   \n",
       "2                           84867                                4   \n",
       "3                           84873                                3   \n",
       "4                           84488                                1   \n",
       "\n",
       "  RETURNED_ITEM_RETURN_REASON_description_en  \n",
       "0                     Unsatisfactory product  \n",
       "1                         Incomplete product  \n",
       "2                      Wrong product shipped  \n",
       "3                      Wrong product ordered  \n",
       "4                          Defective product  "
      ],
      "text/html": [
       "<div>\n",
       "<style scoped>\n",
       "    .dataframe tbody tr th:only-of-type {\n",
       "        vertical-align: middle;\n",
       "    }\n",
       "\n",
       "    .dataframe tbody tr th {\n",
       "        vertical-align: top;\n",
       "    }\n",
       "\n",
       "    .dataframe thead th {\n",
       "        text-align: right;\n",
       "    }\n",
       "</style>\n",
       "<table border=\"1\" class=\"dataframe\">\n",
       "  <thead>\n",
       "    <tr style=\"text-align: right;\">\n",
       "      <th></th>\n",
       "      <th>RETURNED_ITEM_code</th>\n",
       "      <th>RETURNED_ITEM_DATE</th>\n",
       "      <th>RETURNED_ITEM_QUANTITY</th>\n",
       "      <th>RETURNED_ITEM_ORDER_DETAIL_CODE</th>\n",
       "      <th>RETURNED_ITEM_RETURN_REASON_code</th>\n",
       "      <th>RETURNED_ITEM_RETURN_REASON_description_en</th>\n",
       "    </tr>\n",
       "  </thead>\n",
       "  <tbody>\n",
       "    <tr>\n",
       "      <th>0</th>\n",
       "      <td>1491</td>\n",
       "      <td>1-8-2021 04:10:24</td>\n",
       "      <td>8</td>\n",
       "      <td>84858</td>\n",
       "      <td>5</td>\n",
       "      <td>Unsatisfactory product</td>\n",
       "    </tr>\n",
       "    <tr>\n",
       "      <th>1</th>\n",
       "      <td>1492</td>\n",
       "      <td>6-12-2020 18:46:19</td>\n",
       "      <td>2</td>\n",
       "      <td>84440</td>\n",
       "      <td>2</td>\n",
       "      <td>Incomplete product</td>\n",
       "    </tr>\n",
       "    <tr>\n",
       "      <th>2</th>\n",
       "      <td>1493</td>\n",
       "      <td>24-6-2021 09:23:14</td>\n",
       "      <td>22</td>\n",
       "      <td>84867</td>\n",
       "      <td>4</td>\n",
       "      <td>Wrong product shipped</td>\n",
       "    </tr>\n",
       "    <tr>\n",
       "      <th>3</th>\n",
       "      <td>1494</td>\n",
       "      <td>21-7-2021 00:00:09</td>\n",
       "      <td>20</td>\n",
       "      <td>84873</td>\n",
       "      <td>3</td>\n",
       "      <td>Wrong product ordered</td>\n",
       "    </tr>\n",
       "    <tr>\n",
       "      <th>4</th>\n",
       "      <td>1496</td>\n",
       "      <td>7-10-2020 05:13:58</td>\n",
       "      <td>2</td>\n",
       "      <td>84488</td>\n",
       "      <td>1</td>\n",
       "      <td>Defective product</td>\n",
       "    </tr>\n",
       "  </tbody>\n",
       "</table>\n",
       "</div>"
      ]
     },
     "execution_count": 12,
     "metadata": {},
     "output_type": "execute_result"
    }
   ],
   "execution_count": 12
  },
  {
   "cell_type": "markdown",
   "id": "1dff53c750360829",
   "metadata": {
    "collapsed": false
   },
   "source": [
    "### Unit"
   ]
  },
  {
   "cell_type": "code",
   "id": "39396863b4c33a84",
   "metadata": {
    "collapsed": false,
    "ExecuteTime": {
     "end_time": "2024-04-22T13:54:05.938385Z",
     "start_time": "2024-04-22T13:54:05.915462Z"
    }
   },
   "source": [
    "unit_columns = ['UNIT_COST', 'UNIT_PRICE', 'UNIT_SALE_PRICE', 'UNIT_id', 'ORDER_DETAIL_CODE']\n",
    "unit = go_sales_order_details\n",
    "\n",
    "# make unit_id autoincrement\n",
    "unit['UNIT_id'] = range(1, len(unit) + 1)\n",
    "\n",
    "# filtering the columns\n",
    "unit = unit[unit_columns]\n",
    "\n",
    "# renaming the columns\n",
    "unit = unit.rename(columns={'UNIT_COST': 'UNIT_COST_cost', 'UNIT_PRICE': 'UNIT_PRICE_price', 'UNIT_SALE_PRICE': 'UNIT_SALE_sale'})\n",
    "\n",
    "all_dataframes.append(unit)\n",
    "\n",
    "unit.head()"
   ],
   "outputs": [
    {
     "data": {
      "text/plain": [
       "  UNIT_COST_cost UNIT_PRICE_price UNIT_SALE_sale  UNIT_id ORDER_DETAIL_CODE\n",
       "0           16.1            22.54          22.54        1            100000\n",
       "1           16.1            22.54          22.54        2            100001\n",
       "2           16.1            22.54          22.54        3            100002\n",
       "3           16.1            22.54          22.54        4            100003\n",
       "4           16.1            22.54          22.54        5            100004"
      ],
      "text/html": [
       "<div>\n",
       "<style scoped>\n",
       "    .dataframe tbody tr th:only-of-type {\n",
       "        vertical-align: middle;\n",
       "    }\n",
       "\n",
       "    .dataframe tbody tr th {\n",
       "        vertical-align: top;\n",
       "    }\n",
       "\n",
       "    .dataframe thead th {\n",
       "        text-align: right;\n",
       "    }\n",
       "</style>\n",
       "<table border=\"1\" class=\"dataframe\">\n",
       "  <thead>\n",
       "    <tr style=\"text-align: right;\">\n",
       "      <th></th>\n",
       "      <th>UNIT_COST_cost</th>\n",
       "      <th>UNIT_PRICE_price</th>\n",
       "      <th>UNIT_SALE_sale</th>\n",
       "      <th>UNIT_id</th>\n",
       "      <th>ORDER_DETAIL_CODE</th>\n",
       "    </tr>\n",
       "  </thead>\n",
       "  <tbody>\n",
       "    <tr>\n",
       "      <th>0</th>\n",
       "      <td>16.1</td>\n",
       "      <td>22.54</td>\n",
       "      <td>22.54</td>\n",
       "      <td>1</td>\n",
       "      <td>100000</td>\n",
       "    </tr>\n",
       "    <tr>\n",
       "      <th>1</th>\n",
       "      <td>16.1</td>\n",
       "      <td>22.54</td>\n",
       "      <td>22.54</td>\n",
       "      <td>2</td>\n",
       "      <td>100001</td>\n",
       "    </tr>\n",
       "    <tr>\n",
       "      <th>2</th>\n",
       "      <td>16.1</td>\n",
       "      <td>22.54</td>\n",
       "      <td>22.54</td>\n",
       "      <td>3</td>\n",
       "      <td>100002</td>\n",
       "    </tr>\n",
       "    <tr>\n",
       "      <th>3</th>\n",
       "      <td>16.1</td>\n",
       "      <td>22.54</td>\n",
       "      <td>22.54</td>\n",
       "      <td>4</td>\n",
       "      <td>100003</td>\n",
       "    </tr>\n",
       "    <tr>\n",
       "      <th>4</th>\n",
       "      <td>16.1</td>\n",
       "      <td>22.54</td>\n",
       "      <td>22.54</td>\n",
       "      <td>5</td>\n",
       "      <td>100004</td>\n",
       "    </tr>\n",
       "  </tbody>\n",
       "</table>\n",
       "</div>"
      ]
     },
     "execution_count": 13,
     "metadata": {},
     "output_type": "execute_result"
    }
   ],
   "execution_count": 13
  },
  {
   "cell_type": "markdown",
   "id": "8527a5738e28b03",
   "metadata": {
    "collapsed": false
   },
   "source": [
    "### Sales_staff"
   ]
  },
  {
   "cell_type": "code",
   "id": "a2a698c093a007aa",
   "metadata": {
    "collapsed": false,
    "ExecuteTime": {
     "end_time": "2024-04-22T13:54:05.963489Z",
     "start_time": "2024-04-22T13:54:05.940446Z"
    }
   },
   "source": [
    "sales_staff_columns = ['SALES_STAFF_CODE', 'EMAIL', 'EXTENSION', 'POSITION_EN', 'WORK_PHONE', 'DATE_HIRED', 'MANAGER_CODE', 'FAX', 'FIRST_NAME', 'LAST_NAME',  'ADDRESS1', 'ADDRESS2', 'SALES_BRANCH_CODE']\n",
    "\n",
    "sales_staff = pd.merge(go_staff_sales_staff, go_staff_sales_branch, left_on='SALES_BRANCH_CODE', right_on='SALES_BRANCH_CODE')\n",
    "\n",
    "# filtering the columns\n",
    "sales_staff = sales_staff[sales_staff_columns]\n",
    "\n",
    "# renaming the columns\n",
    "sales_staff = sales_staff.rename(columns={'SALES_STAFF_CODE': 'SALES_STAFF_code', 'EMAIL': 'SALES_STAFF_email', 'EXTENSION': 'SALES_STAFF_extension', 'POSITION_EN': 'SALES_STAFF_POSITION_EN_position', 'WORK_PHONE': 'SALES_STAFF_WORK_PHONE_work_phone', 'DATE_HIRED': 'SALES_STAFF_DATE_HIRED_hired', 'MANAGER_CODE': 'SALES_STAFF_MANAGER_CODE_manager', 'FAX': 'SALES_STAFF_FAX', 'FIRST_NAME': 'SALES_STAFF_FIRST_NAME_first_name', 'LAST_NAME': 'SALES_STAFF_LAST_NAME_last_name', 'ADDRESS1': 'SALES_STAFF_SALES_BRANCH_ADDRESS1_address', 'ADDRESS2': 'SALES_STAFF_SALES_BRANCH_ADDRESS2_address', 'SALES_BRANCH_CODE' : 'SALES_STAFF_SALES_BRANCH_CODE_branch_code'})\n",
    "\n",
    "all_dataframes.append(sales_staff)\n",
    "\n",
    "sales_staff.head()"
   ],
   "outputs": [
    {
     "data": {
      "text/plain": [
       "  SALES_STAFF_code        SALES_STAFF_email SALES_STAFF_extension  \\\n",
       "0              100  TSavolainen@grtd123.com                   825   \n",
       "1              101         CKim@grtd123.com                  1228   \n",
       "2              102        JChoi@grtd123.com                  2641   \n",
       "3              103        KKwao@grtd123.com                  1541   \n",
       "4              104         CFon@grtd123.com                  2311   \n",
       "\n",
       "  SALES_STAFF_POSITION_EN_position SALES_STAFF_WORK_PHONE_work_phone  \\\n",
       "0     Level 2 Sales Representative               +358(0)17 - 433 127   \n",
       "1     Level 2 Sales Representative                     82-2-778-6587   \n",
       "2     Level 3 Sales Representative                     82-2-778-6587   \n",
       "3     Level 2 Sales Representative                   886-2-2975-1988   \n",
       "4     Level 3 Sales Representative                   886-2-2975-1988   \n",
       "\n",
       "  SALES_STAFF_DATE_HIRED_hired SALES_STAFF_MANAGER_CODE_manager  \\\n",
       "0      23-Jul-1998 12:00:00 AM                               18   \n",
       "1      15-Dec-1998 12:00:00 AM                               87   \n",
       "2      27-Nov-1998 12:00:00 AM                               87   \n",
       "3      07-Oct-1998 12:00:00 AM                               87   \n",
       "4      08-May-1996 12:00:00 AM                               87   \n",
       "\n",
       "       SALES_STAFF_FAX SALES_STAFF_FIRST_NAME_first_name  \\\n",
       "0  +358(0)17 - 433 129                            Tuomas   \n",
       "1        82-2-778-6586                          Chang-ho   \n",
       "2        82-2-778-6586                           Jung-ho   \n",
       "3      886-2-2989-4978                         Kwei-Ping   \n",
       "4      886-2-2989-4978                         Chin-Tsai   \n",
       "\n",
       "  SALES_STAFF_LAST_NAME_last_name SALES_STAFF_SALES_BRANCH_ADDRESS1_address  \\\n",
       "0                      Savolainen                             Kauppakatu 33   \n",
       "1                             Kim                     234-12, Kongdeok-Dong   \n",
       "2                            Choi                     234-12, Kongdeok-Dong   \n",
       "3                             Kao              154, Choung-Cheng South Road   \n",
       "4                            Fang              154, Choung-Cheng South Road   \n",
       "\n",
       "  SALES_STAFF_SALES_BRANCH_ADDRESS2_address  \\\n",
       "0                                      None   \n",
       "1                                   Mapo-Ku   \n",
       "2                                   Mapo-Ku   \n",
       "3                                      None   \n",
       "4                                      None   \n",
       "\n",
       "  SALES_STAFF_SALES_BRANCH_CODE_branch_code  \n",
       "0                                        31  \n",
       "1                                        32  \n",
       "2                                        32  \n",
       "3                                        33  \n",
       "4                                        33  "
      ],
      "text/html": [
       "<div>\n",
       "<style scoped>\n",
       "    .dataframe tbody tr th:only-of-type {\n",
       "        vertical-align: middle;\n",
       "    }\n",
       "\n",
       "    .dataframe tbody tr th {\n",
       "        vertical-align: top;\n",
       "    }\n",
       "\n",
       "    .dataframe thead th {\n",
       "        text-align: right;\n",
       "    }\n",
       "</style>\n",
       "<table border=\"1\" class=\"dataframe\">\n",
       "  <thead>\n",
       "    <tr style=\"text-align: right;\">\n",
       "      <th></th>\n",
       "      <th>SALES_STAFF_code</th>\n",
       "      <th>SALES_STAFF_email</th>\n",
       "      <th>SALES_STAFF_extension</th>\n",
       "      <th>SALES_STAFF_POSITION_EN_position</th>\n",
       "      <th>SALES_STAFF_WORK_PHONE_work_phone</th>\n",
       "      <th>SALES_STAFF_DATE_HIRED_hired</th>\n",
       "      <th>SALES_STAFF_MANAGER_CODE_manager</th>\n",
       "      <th>SALES_STAFF_FAX</th>\n",
       "      <th>SALES_STAFF_FIRST_NAME_first_name</th>\n",
       "      <th>SALES_STAFF_LAST_NAME_last_name</th>\n",
       "      <th>SALES_STAFF_SALES_BRANCH_ADDRESS1_address</th>\n",
       "      <th>SALES_STAFF_SALES_BRANCH_ADDRESS2_address</th>\n",
       "      <th>SALES_STAFF_SALES_BRANCH_CODE_branch_code</th>\n",
       "    </tr>\n",
       "  </thead>\n",
       "  <tbody>\n",
       "    <tr>\n",
       "      <th>0</th>\n",
       "      <td>100</td>\n",
       "      <td>TSavolainen@grtd123.com</td>\n",
       "      <td>825</td>\n",
       "      <td>Level 2 Sales Representative</td>\n",
       "      <td>+358(0)17 - 433 127</td>\n",
       "      <td>23-Jul-1998 12:00:00 AM</td>\n",
       "      <td>18</td>\n",
       "      <td>+358(0)17 - 433 129</td>\n",
       "      <td>Tuomas</td>\n",
       "      <td>Savolainen</td>\n",
       "      <td>Kauppakatu 33</td>\n",
       "      <td>None</td>\n",
       "      <td>31</td>\n",
       "    </tr>\n",
       "    <tr>\n",
       "      <th>1</th>\n",
       "      <td>101</td>\n",
       "      <td>CKim@grtd123.com</td>\n",
       "      <td>1228</td>\n",
       "      <td>Level 2 Sales Representative</td>\n",
       "      <td>82-2-778-6587</td>\n",
       "      <td>15-Dec-1998 12:00:00 AM</td>\n",
       "      <td>87</td>\n",
       "      <td>82-2-778-6586</td>\n",
       "      <td>Chang-ho</td>\n",
       "      <td>Kim</td>\n",
       "      <td>234-12, Kongdeok-Dong</td>\n",
       "      <td>Mapo-Ku</td>\n",
       "      <td>32</td>\n",
       "    </tr>\n",
       "    <tr>\n",
       "      <th>2</th>\n",
       "      <td>102</td>\n",
       "      <td>JChoi@grtd123.com</td>\n",
       "      <td>2641</td>\n",
       "      <td>Level 3 Sales Representative</td>\n",
       "      <td>82-2-778-6587</td>\n",
       "      <td>27-Nov-1998 12:00:00 AM</td>\n",
       "      <td>87</td>\n",
       "      <td>82-2-778-6586</td>\n",
       "      <td>Jung-ho</td>\n",
       "      <td>Choi</td>\n",
       "      <td>234-12, Kongdeok-Dong</td>\n",
       "      <td>Mapo-Ku</td>\n",
       "      <td>32</td>\n",
       "    </tr>\n",
       "    <tr>\n",
       "      <th>3</th>\n",
       "      <td>103</td>\n",
       "      <td>KKwao@grtd123.com</td>\n",
       "      <td>1541</td>\n",
       "      <td>Level 2 Sales Representative</td>\n",
       "      <td>886-2-2975-1988</td>\n",
       "      <td>07-Oct-1998 12:00:00 AM</td>\n",
       "      <td>87</td>\n",
       "      <td>886-2-2989-4978</td>\n",
       "      <td>Kwei-Ping</td>\n",
       "      <td>Kao</td>\n",
       "      <td>154, Choung-Cheng South Road</td>\n",
       "      <td>None</td>\n",
       "      <td>33</td>\n",
       "    </tr>\n",
       "    <tr>\n",
       "      <th>4</th>\n",
       "      <td>104</td>\n",
       "      <td>CFon@grtd123.com</td>\n",
       "      <td>2311</td>\n",
       "      <td>Level 3 Sales Representative</td>\n",
       "      <td>886-2-2975-1988</td>\n",
       "      <td>08-May-1996 12:00:00 AM</td>\n",
       "      <td>87</td>\n",
       "      <td>886-2-2989-4978</td>\n",
       "      <td>Chin-Tsai</td>\n",
       "      <td>Fang</td>\n",
       "      <td>154, Choung-Cheng South Road</td>\n",
       "      <td>None</td>\n",
       "      <td>33</td>\n",
       "    </tr>\n",
       "  </tbody>\n",
       "</table>\n",
       "</div>"
      ]
     },
     "execution_count": 14,
     "metadata": {},
     "output_type": "execute_result"
    }
   ],
   "execution_count": 14
  },
  {
   "cell_type": "markdown",
   "id": "b8305c040ff09ac7",
   "metadata": {
    "collapsed": false
   },
   "source": [
    "### Satisfaction_type"
   ]
  },
  {
   "cell_type": "code",
   "id": "b8cd201811c4486a",
   "metadata": {
    "collapsed": false,
    "ExecuteTime": {
     "end_time": "2024-04-22T13:54:05.978514Z",
     "start_time": "2024-04-22T13:54:05.964574Z"
    }
   },
   "source": [
    "satisfaction_type = go_staff_satisfaction_type\n",
    "\n",
    "# rename the columns\n",
    "satisfaction_type = satisfaction_type.rename(columns={'SATISFACTION_TYPE_CODE': 'SATISFACTION_TYPE_code', 'DESCRIPTION': 'SATISFACTION_TYPE_description'})\n",
    "\n",
    "all_dataframes.append(satisfaction_type)\n",
    "\n",
    "satisfaction_type.head()"
   ],
   "outputs": [
    {
     "data": {
      "text/plain": [
       "  SATISFACTION_TYPE_code SATISFACTION_TYPE_DESCRIPTION TRIAL633\n",
       "0                      1                 Not satisfied        T\n",
       "1                      2           Less than satisfied        T\n",
       "2                      3                     Satisfied        T\n",
       "3                      4                Very Satisfied        T\n",
       "4                      5           More than satisfied        T"
      ],
      "text/html": [
       "<div>\n",
       "<style scoped>\n",
       "    .dataframe tbody tr th:only-of-type {\n",
       "        vertical-align: middle;\n",
       "    }\n",
       "\n",
       "    .dataframe tbody tr th {\n",
       "        vertical-align: top;\n",
       "    }\n",
       "\n",
       "    .dataframe thead th {\n",
       "        text-align: right;\n",
       "    }\n",
       "</style>\n",
       "<table border=\"1\" class=\"dataframe\">\n",
       "  <thead>\n",
       "    <tr style=\"text-align: right;\">\n",
       "      <th></th>\n",
       "      <th>SATISFACTION_TYPE_code</th>\n",
       "      <th>SATISFACTION_TYPE_DESCRIPTION</th>\n",
       "      <th>TRIAL633</th>\n",
       "    </tr>\n",
       "  </thead>\n",
       "  <tbody>\n",
       "    <tr>\n",
       "      <th>0</th>\n",
       "      <td>1</td>\n",
       "      <td>Not satisfied</td>\n",
       "      <td>T</td>\n",
       "    </tr>\n",
       "    <tr>\n",
       "      <th>1</th>\n",
       "      <td>2</td>\n",
       "      <td>Less than satisfied</td>\n",
       "      <td>T</td>\n",
       "    </tr>\n",
       "    <tr>\n",
       "      <th>2</th>\n",
       "      <td>3</td>\n",
       "      <td>Satisfied</td>\n",
       "      <td>T</td>\n",
       "    </tr>\n",
       "    <tr>\n",
       "      <th>3</th>\n",
       "      <td>4</td>\n",
       "      <td>Very Satisfied</td>\n",
       "      <td>T</td>\n",
       "    </tr>\n",
       "    <tr>\n",
       "      <th>4</th>\n",
       "      <td>5</td>\n",
       "      <td>More than satisfied</td>\n",
       "      <td>T</td>\n",
       "    </tr>\n",
       "  </tbody>\n",
       "</table>\n",
       "</div>"
      ]
     },
     "execution_count": 15,
     "metadata": {},
     "output_type": "execute_result"
    }
   ],
   "execution_count": 15
  },
  {
   "cell_type": "markdown",
   "id": "8b30a420eb8b3f9c",
   "metadata": {
    "collapsed": false
   },
   "source": [
    "### Course"
   ]
  },
  {
   "cell_type": "code",
   "id": "9a9a6afb42d95ce5",
   "metadata": {
    "collapsed": false,
    "ExecuteTime": {
     "end_time": "2024-04-22T13:54:05.999790Z",
     "start_time": "2024-04-22T13:54:05.982578Z"
    }
   },
   "source": [
    "course = go_staff_course\n",
    "\n",
    "# rename the columns\n",
    "course = course.rename(columns={'COURSE_CODE': 'COURSE_code', 'DESCRIPTION': 'COURSE_description'})\n",
    "\n",
    "all_dataframes.append(course)\n",
    "\n",
    "course.head()"
   ],
   "outputs": [
    {
     "data": {
      "text/plain": [
       "  COURSE_code COURSE_DESCRIPTION TRIAL633\n",
       "0           1     GO Orientation        T\n",
       "1           2   GO Communication        T\n",
       "2           3         GO Sales 1        T\n",
       "3           4         GO Sales 2        T\n",
       "4           5     GO Marketing 1        T"
      ],
      "text/html": [
       "<div>\n",
       "<style scoped>\n",
       "    .dataframe tbody tr th:only-of-type {\n",
       "        vertical-align: middle;\n",
       "    }\n",
       "\n",
       "    .dataframe tbody tr th {\n",
       "        vertical-align: top;\n",
       "    }\n",
       "\n",
       "    .dataframe thead th {\n",
       "        text-align: right;\n",
       "    }\n",
       "</style>\n",
       "<table border=\"1\" class=\"dataframe\">\n",
       "  <thead>\n",
       "    <tr style=\"text-align: right;\">\n",
       "      <th></th>\n",
       "      <th>COURSE_code</th>\n",
       "      <th>COURSE_DESCRIPTION</th>\n",
       "      <th>TRIAL633</th>\n",
       "    </tr>\n",
       "  </thead>\n",
       "  <tbody>\n",
       "    <tr>\n",
       "      <th>0</th>\n",
       "      <td>1</td>\n",
       "      <td>GO Orientation</td>\n",
       "      <td>T</td>\n",
       "    </tr>\n",
       "    <tr>\n",
       "      <th>1</th>\n",
       "      <td>2</td>\n",
       "      <td>GO Communication</td>\n",
       "      <td>T</td>\n",
       "    </tr>\n",
       "    <tr>\n",
       "      <th>2</th>\n",
       "      <td>3</td>\n",
       "      <td>GO Sales 1</td>\n",
       "      <td>T</td>\n",
       "    </tr>\n",
       "    <tr>\n",
       "      <th>3</th>\n",
       "      <td>4</td>\n",
       "      <td>GO Sales 2</td>\n",
       "      <td>T</td>\n",
       "    </tr>\n",
       "    <tr>\n",
       "      <th>4</th>\n",
       "      <td>5</td>\n",
       "      <td>GO Marketing 1</td>\n",
       "      <td>T</td>\n",
       "    </tr>\n",
       "  </tbody>\n",
       "</table>\n",
       "</div>"
      ]
     },
     "execution_count": 16,
     "metadata": {},
     "output_type": "execute_result"
    }
   ],
   "execution_count": 16
  },
  {
   "cell_type": "markdown",
   "id": "de6db3d986555551",
   "metadata": {
    "collapsed": false
   },
   "source": [
    "### Year"
   ]
  },
  {
   "cell_type": "code",
   "id": "c116ecb70b6f2ec7",
   "metadata": {
    "collapsed": false,
    "ExecuteTime": {
     "end_time": "2024-04-22T13:54:06.039478Z",
     "start_time": "2024-04-22T13:54:06.003861Z"
    }
   },
   "source": [
    "# to be used in training and satisfaction\n",
    "# making year dataframe with year as the primary key\n",
    "year = pd.DataFrame({'YEAR': pd.date_range(start='1/1/1900', end='1/1/2200').year})\n",
    "\n",
    "# Drop duplicates based on 'YEAR' column\n",
    "year = year.drop_duplicates()\n",
    "\n",
    "# Set 'YEAR' as the index again\n",
    "year = year.set_index('YEAR')\n",
    "\n",
    "all_dataframes.append(year)\n",
    "\n",
    "year.head()"
   ],
   "outputs": [
    {
     "data": {
      "text/plain": [
       "Empty DataFrame\n",
       "Columns: []\n",
       "Index: [1900, 1901, 1902, 1903, 1904]"
      ],
      "text/html": [
       "<div>\n",
       "<style scoped>\n",
       "    .dataframe tbody tr th:only-of-type {\n",
       "        vertical-align: middle;\n",
       "    }\n",
       "\n",
       "    .dataframe tbody tr th {\n",
       "        vertical-align: top;\n",
       "    }\n",
       "\n",
       "    .dataframe thead th {\n",
       "        text-align: right;\n",
       "    }\n",
       "</style>\n",
       "<table border=\"1\" class=\"dataframe\">\n",
       "  <thead>\n",
       "    <tr style=\"text-align: right;\">\n",
       "      <th></th>\n",
       "    </tr>\n",
       "    <tr>\n",
       "      <th>YEAR</th>\n",
       "    </tr>\n",
       "  </thead>\n",
       "  <tbody>\n",
       "    <tr>\n",
       "      <th>1900</th>\n",
       "    </tr>\n",
       "    <tr>\n",
       "      <th>1901</th>\n",
       "    </tr>\n",
       "    <tr>\n",
       "      <th>1902</th>\n",
       "    </tr>\n",
       "    <tr>\n",
       "      <th>1903</th>\n",
       "    </tr>\n",
       "    <tr>\n",
       "      <th>1904</th>\n",
       "    </tr>\n",
       "  </tbody>\n",
       "</table>\n",
       "</div>"
      ]
     },
     "execution_count": 17,
     "metadata": {},
     "output_type": "execute_result"
    }
   ],
   "execution_count": 17
  },
  {
   "cell_type": "markdown",
   "id": "ce00e33771b2020c",
   "metadata": {
    "collapsed": false
   },
   "source": [
    "### Date"
   ]
  },
  {
   "cell_type": "code",
   "id": "69d3a65350544b07",
   "metadata": {
    "collapsed": false,
    "ExecuteTime": {
     "end_time": "2024-04-22T13:54:06.069422Z",
     "start_time": "2024-04-22T13:54:06.042506Z"
    }
   },
   "source": [
    "# to be used in order header\n",
    "date = pd.DataFrame({'DATE_date': pd.date_range(start='1/1/1900', end='1/1/2200')})\n",
    "\n",
    "# drop duplicates\n",
    "date = date.drop_duplicates()\n",
    "\n",
    "date = date.set_index('DATE_date')\n",
    "\n",
    "all_dataframes.append(date)\n",
    "\n",
    "date.head()"
   ],
   "outputs": [
    {
     "data": {
      "text/plain": [
       "Empty DataFrame\n",
       "Columns: []\n",
       "Index: [1900-01-01 00:00:00, 1900-01-02 00:00:00, 1900-01-03 00:00:00, 1900-01-04 00:00:00, 1900-01-05 00:00:00]"
      ],
      "text/html": [
       "<div>\n",
       "<style scoped>\n",
       "    .dataframe tbody tr th:only-of-type {\n",
       "        vertical-align: middle;\n",
       "    }\n",
       "\n",
       "    .dataframe tbody tr th {\n",
       "        vertical-align: top;\n",
       "    }\n",
       "\n",
       "    .dataframe thead th {\n",
       "        text-align: right;\n",
       "    }\n",
       "</style>\n",
       "<table border=\"1\" class=\"dataframe\">\n",
       "  <thead>\n",
       "    <tr style=\"text-align: right;\">\n",
       "      <th></th>\n",
       "    </tr>\n",
       "    <tr>\n",
       "      <th>DATE_date</th>\n",
       "    </tr>\n",
       "  </thead>\n",
       "  <tbody>\n",
       "    <tr>\n",
       "      <th>1900-01-01</th>\n",
       "    </tr>\n",
       "    <tr>\n",
       "      <th>1900-01-02</th>\n",
       "    </tr>\n",
       "    <tr>\n",
       "      <th>1900-01-03</th>\n",
       "    </tr>\n",
       "    <tr>\n",
       "      <th>1900-01-04</th>\n",
       "    </tr>\n",
       "    <tr>\n",
       "      <th>1900-01-05</th>\n",
       "    </tr>\n",
       "  </tbody>\n",
       "</table>\n",
       "</div>"
      ]
     },
     "execution_count": 18,
     "metadata": {},
     "output_type": "execute_result"
    }
   ],
   "execution_count": 18
  },
  {
   "cell_type": "markdown",
   "id": "2bc3e5abc438a754",
   "metadata": {
    "collapsed": false
   },
   "source": [
    "### Order"
   ]
  },
  {
   "cell_type": "code",
   "id": "8886223a9425e744",
   "metadata": {
    "collapsed": false,
    "ExecuteTime": {
     "end_time": "2024-04-22T13:54:06.100817Z",
     "start_time": "2024-04-22T13:54:06.072444Z"
    }
   },
   "source": [
    "# to be used in order header\n",
    "order_columns = ['ORDER_METHOD_CODE', 'ORDER_NUMBER', 'ORDER_METHOD_EN']\n",
    "order = pd.merge(go_sales_order_header, go_sales_order_method, left_on='ORDER_METHOD_CODE', right_on='ORDER_METHOD_CODE')\n",
    "\n",
    "#filtering the columns\n",
    "order = order[order_columns]\n",
    "\n",
    "# renaming the columns\n",
    "order = order.rename(columns={'ORDER_METHOD_CODE': 'ORDER_ORDER_METHOD_CODE_method_code', 'ORDER_NUMBER': 'ORDER_order_number', 'ORDER_METHOD_EN': 'ORDER_ORDER_METHOD_EN_method'})\n",
    "\n",
    "\n",
    "all_dataframes.append(order)\n",
    "\n",
    "order.head()"
   ],
   "outputs": [
    {
     "data": {
      "text/plain": [
       "  ORDER_ORDER_METHOD_CODE_method_code ORDER_order_number  \\\n",
       "0                                   7               1153   \n",
       "1                                   4               1154   \n",
       "2                                   7               1155   \n",
       "3                                   5               1156   \n",
       "4                                   2               1157   \n",
       "\n",
       "  ORDER_ORDER_METHOD_EN_method  \n",
       "0                  Sales visit  \n",
       "1                       E-mail  \n",
       "2                  Sales visit  \n",
       "3                          Web  \n",
       "4                    Telephone  "
      ],
      "text/html": [
       "<div>\n",
       "<style scoped>\n",
       "    .dataframe tbody tr th:only-of-type {\n",
       "        vertical-align: middle;\n",
       "    }\n",
       "\n",
       "    .dataframe tbody tr th {\n",
       "        vertical-align: top;\n",
       "    }\n",
       "\n",
       "    .dataframe thead th {\n",
       "        text-align: right;\n",
       "    }\n",
       "</style>\n",
       "<table border=\"1\" class=\"dataframe\">\n",
       "  <thead>\n",
       "    <tr style=\"text-align: right;\">\n",
       "      <th></th>\n",
       "      <th>ORDER_ORDER_METHOD_CODE_method_code</th>\n",
       "      <th>ORDER_order_number</th>\n",
       "      <th>ORDER_ORDER_METHOD_EN_method</th>\n",
       "    </tr>\n",
       "  </thead>\n",
       "  <tbody>\n",
       "    <tr>\n",
       "      <th>0</th>\n",
       "      <td>7</td>\n",
       "      <td>1153</td>\n",
       "      <td>Sales visit</td>\n",
       "    </tr>\n",
       "    <tr>\n",
       "      <th>1</th>\n",
       "      <td>4</td>\n",
       "      <td>1154</td>\n",
       "      <td>E-mail</td>\n",
       "    </tr>\n",
       "    <tr>\n",
       "      <th>2</th>\n",
       "      <td>7</td>\n",
       "      <td>1155</td>\n",
       "      <td>Sales visit</td>\n",
       "    </tr>\n",
       "    <tr>\n",
       "      <th>3</th>\n",
       "      <td>5</td>\n",
       "      <td>1156</td>\n",
       "      <td>Web</td>\n",
       "    </tr>\n",
       "    <tr>\n",
       "      <th>4</th>\n",
       "      <td>2</td>\n",
       "      <td>1157</td>\n",
       "      <td>Telephone</td>\n",
       "    </tr>\n",
       "  </tbody>\n",
       "</table>\n",
       "</div>"
      ]
     },
     "execution_count": 19,
     "metadata": {},
     "output_type": "execute_result"
    }
   ],
   "execution_count": 19
  },
  {
   "cell_type": "markdown",
   "id": "3781ed63e51a8050",
   "metadata": {
    "collapsed": false
   },
   "source": [
    "### Retailer_site"
   ]
  },
  {
   "cell_type": "code",
   "id": "c7039eac9d768041",
   "metadata": {
    "collapsed": false,
    "ExecuteTime": {
     "end_time": "2024-04-22T13:54:06.130003Z",
     "start_time": "2024-04-22T13:54:06.103899Z"
    }
   },
   "source": [
    "retailer_site = go_sales_retailer_site\n",
    "\n",
    "# rename the columns\n",
    "retailer_site = retailer_site.rename(columns={'RETAILER_SITE_CODE': 'RETAILER_SITE_code', 'COUNTRY_CODE': 'RETAILER_SITE_COUNTRY_CODE_country', 'CITY': 'RETAILER_SITE_CITY_city', 'REGION': 'RETAILER_SITE_REGION_region', 'POSTAL_ZONE': 'RETAILER_SITE_POSTAL_ZONE_postal_zone', 'RETAILER_CODE': 'RETAILER_SITE_RETAILER_CODE_retailer_code', 'ACTIVE_INDICATOR': 'RETAILER_SITE_ACTIVE_INDICATOR_indicator', 'ADDRESS1': 'RETAILER_SITE_ADDRESS1_address', 'ADDRESS2': 'RETAILER_SITE_ADDRESS2_address'})\n",
    "\n",
    "all_dataframes.append(retailer_site)\n",
    "\n",
    "retailer_site.head()"
   ],
   "outputs": [
    {
     "data": {
      "text/plain": [
       "  RETAILER_SITE_code RETAILER_SITE_RETAILER_CODE_retailer_code  \\\n",
       "0                  1                                        89   \n",
       "1                 10                                        92   \n",
       "2                100                                        95   \n",
       "3                101                                        95   \n",
       "4                102                                       108   \n",
       "\n",
       "     RETAILER_SITE_ADDRESS1_address RETAILER_SITE_ADDRESS2_address  \\\n",
       "0                1117 Franklin Blvd                           None   \n",
       "1  Suite 1500, 802 Docklands Street                           None   \n",
       "2                    4830 Princeton                         Unit 2   \n",
       "3                  6630 Burnet Road                           None   \n",
       "4              2189 Louisville Road                           None   \n",
       "\n",
       "  RETAILER_SITE_CITY_city RETAILER_SITE_REGION_region  \\\n",
       "0                Winnipeg                    Manitoba   \n",
       "1               Vancouver            British Columbia   \n",
       "2             Albuquerque                  New Mexico   \n",
       "3                  Austin                       Texas   \n",
       "4            Independence                    Kentucky   \n",
       "\n",
       "  RETAILER_SITE_POSTAL_ZONE_postal_zone RETAILER_SITE_COUNTRY_CODE_country  \\\n",
       "0                               R2C 0M5                                  4   \n",
       "1                               V6E 3Z3                                  4   \n",
       "2                                 87186                                  3   \n",
       "3                                 78769                                  3   \n",
       "4                                 41051                                  3   \n",
       "\n",
       "  RETAILER_SITE_ACTIVE_INDICATOR_indicator TRIAL888  \n",
       "0                                        1        T  \n",
       "1                                        1        T  \n",
       "2                                        1        T  \n",
       "3                                        1        T  \n",
       "4                                        0        T  "
      ],
      "text/html": [
       "<div>\n",
       "<style scoped>\n",
       "    .dataframe tbody tr th:only-of-type {\n",
       "        vertical-align: middle;\n",
       "    }\n",
       "\n",
       "    .dataframe tbody tr th {\n",
       "        vertical-align: top;\n",
       "    }\n",
       "\n",
       "    .dataframe thead th {\n",
       "        text-align: right;\n",
       "    }\n",
       "</style>\n",
       "<table border=\"1\" class=\"dataframe\">\n",
       "  <thead>\n",
       "    <tr style=\"text-align: right;\">\n",
       "      <th></th>\n",
       "      <th>RETAILER_SITE_code</th>\n",
       "      <th>RETAILER_SITE_RETAILER_CODE_retailer_code</th>\n",
       "      <th>RETAILER_SITE_ADDRESS1_address</th>\n",
       "      <th>RETAILER_SITE_ADDRESS2_address</th>\n",
       "      <th>RETAILER_SITE_CITY_city</th>\n",
       "      <th>RETAILER_SITE_REGION_region</th>\n",
       "      <th>RETAILER_SITE_POSTAL_ZONE_postal_zone</th>\n",
       "      <th>RETAILER_SITE_COUNTRY_CODE_country</th>\n",
       "      <th>RETAILER_SITE_ACTIVE_INDICATOR_indicator</th>\n",
       "      <th>TRIAL888</th>\n",
       "    </tr>\n",
       "  </thead>\n",
       "  <tbody>\n",
       "    <tr>\n",
       "      <th>0</th>\n",
       "      <td>1</td>\n",
       "      <td>89</td>\n",
       "      <td>1117 Franklin Blvd</td>\n",
       "      <td>None</td>\n",
       "      <td>Winnipeg</td>\n",
       "      <td>Manitoba</td>\n",
       "      <td>R2C 0M5</td>\n",
       "      <td>4</td>\n",
       "      <td>1</td>\n",
       "      <td>T</td>\n",
       "    </tr>\n",
       "    <tr>\n",
       "      <th>1</th>\n",
       "      <td>10</td>\n",
       "      <td>92</td>\n",
       "      <td>Suite 1500, 802 Docklands Street</td>\n",
       "      <td>None</td>\n",
       "      <td>Vancouver</td>\n",
       "      <td>British Columbia</td>\n",
       "      <td>V6E 3Z3</td>\n",
       "      <td>4</td>\n",
       "      <td>1</td>\n",
       "      <td>T</td>\n",
       "    </tr>\n",
       "    <tr>\n",
       "      <th>2</th>\n",
       "      <td>100</td>\n",
       "      <td>95</td>\n",
       "      <td>4830 Princeton</td>\n",
       "      <td>Unit 2</td>\n",
       "      <td>Albuquerque</td>\n",
       "      <td>New Mexico</td>\n",
       "      <td>87186</td>\n",
       "      <td>3</td>\n",
       "      <td>1</td>\n",
       "      <td>T</td>\n",
       "    </tr>\n",
       "    <tr>\n",
       "      <th>3</th>\n",
       "      <td>101</td>\n",
       "      <td>95</td>\n",
       "      <td>6630 Burnet Road</td>\n",
       "      <td>None</td>\n",
       "      <td>Austin</td>\n",
       "      <td>Texas</td>\n",
       "      <td>78769</td>\n",
       "      <td>3</td>\n",
       "      <td>1</td>\n",
       "      <td>T</td>\n",
       "    </tr>\n",
       "    <tr>\n",
       "      <th>4</th>\n",
       "      <td>102</td>\n",
       "      <td>108</td>\n",
       "      <td>2189 Louisville Road</td>\n",
       "      <td>None</td>\n",
       "      <td>Independence</td>\n",
       "      <td>Kentucky</td>\n",
       "      <td>41051</td>\n",
       "      <td>3</td>\n",
       "      <td>0</td>\n",
       "      <td>T</td>\n",
       "    </tr>\n",
       "  </tbody>\n",
       "</table>\n",
       "</div>"
      ]
     },
     "execution_count": 20,
     "metadata": {},
     "output_type": "execute_result"
    }
   ],
   "execution_count": 20
  },
  {
   "cell_type": "markdown",
   "id": "a37a2a29eafdf0bd",
   "metadata": {
    "collapsed": false
   },
   "source": [
    "### Sales_branch"
   ]
  },
  {
   "cell_type": "code",
   "id": "a48bae69916fd694",
   "metadata": {
    "collapsed": false,
    "ExecuteTime": {
     "end_time": "2024-04-22T13:54:06.148576Z",
     "start_time": "2024-04-22T13:54:06.132069Z"
    }
   },
   "source": [
    "sales_branch = go_sales_sales_branch\n",
    "\n",
    "# rename the columns\n",
    "sales_branch = sales_branch.rename(columns={'SALES_BRANCH_CODE': 'SALES_BRANCH_code', 'COUNTRY_CODE': 'SALES_BRANCH_COUNTRY_CODE_country', 'REGION': 'SALES_BRANCH_REGION_region', 'CITY': 'SALES_BRANCH_CITY_city', 'POSTAL_ZONE': 'SALES_BRANCH_POSTAL_ZONE_postal_zone', 'ADDRESS1': 'SALES_BRANCH_ADDRESS1_address', 'ADDRESS2': 'SALES_BRANCH_ADDRESS2_address', 'MAIN_ADDRESS': 'SALES_BRANCH_MAIN_ADDRESS_address'})\n",
    "\n",
    "all_dataframes.append(sales_branch)\n",
    "\n",
    "sales_branch.head()"
   ],
   "outputs": [
    {
     "data": {
      "text/plain": [
       "  SALES_BRANCH_code SALES_BRANCH_ADDRESS1_address  \\\n",
       "0                13                Schwabentor 35   \n",
       "1                14              Leopoldstraße 36   \n",
       "2                15           Isafjordsgatan 30 C   \n",
       "3                17  7800, 756 - 6th Avenue. S.W.   \n",
       "4                18              789 Yonge Street   \n",
       "\n",
       "  SALES_BRANCH_ADDRESS2_address SALES_BRANCH_CITY_city  \\\n",
       "0                          None                Hamburg   \n",
       "1                          None                München   \n",
       "2                          None                  Kista   \n",
       "3                          None                Calgary   \n",
       "4                          None                Toronto   \n",
       "\n",
       "  SALES_BRANCH_REGION_region SALES_BRANCH_POSTAL_ZONE_postal_zone  \\\n",
       "0                       None                              D-22529   \n",
       "1                       None                              D-81241   \n",
       "2                       None                             S-164 40   \n",
       "3                    Alberta                              T2P 3Z0   \n",
       "4                    Ontario                              M2M 4K8   \n",
       "\n",
       "  SALES_BRANCH_COUNTRY_CODE_country TRIAL888  \n",
       "0                                 2        T  \n",
       "1                                 2        T  \n",
       "2                                10        T  \n",
       "3                                 4        T  \n",
       "4                                 4        T  "
      ],
      "text/html": [
       "<div>\n",
       "<style scoped>\n",
       "    .dataframe tbody tr th:only-of-type {\n",
       "        vertical-align: middle;\n",
       "    }\n",
       "\n",
       "    .dataframe tbody tr th {\n",
       "        vertical-align: top;\n",
       "    }\n",
       "\n",
       "    .dataframe thead th {\n",
       "        text-align: right;\n",
       "    }\n",
       "</style>\n",
       "<table border=\"1\" class=\"dataframe\">\n",
       "  <thead>\n",
       "    <tr style=\"text-align: right;\">\n",
       "      <th></th>\n",
       "      <th>SALES_BRANCH_code</th>\n",
       "      <th>SALES_BRANCH_ADDRESS1_address</th>\n",
       "      <th>SALES_BRANCH_ADDRESS2_address</th>\n",
       "      <th>SALES_BRANCH_CITY_city</th>\n",
       "      <th>SALES_BRANCH_REGION_region</th>\n",
       "      <th>SALES_BRANCH_POSTAL_ZONE_postal_zone</th>\n",
       "      <th>SALES_BRANCH_COUNTRY_CODE_country</th>\n",
       "      <th>TRIAL888</th>\n",
       "    </tr>\n",
       "  </thead>\n",
       "  <tbody>\n",
       "    <tr>\n",
       "      <th>0</th>\n",
       "      <td>13</td>\n",
       "      <td>Schwabentor 35</td>\n",
       "      <td>None</td>\n",
       "      <td>Hamburg</td>\n",
       "      <td>None</td>\n",
       "      <td>D-22529</td>\n",
       "      <td>2</td>\n",
       "      <td>T</td>\n",
       "    </tr>\n",
       "    <tr>\n",
       "      <th>1</th>\n",
       "      <td>14</td>\n",
       "      <td>Leopoldstraße 36</td>\n",
       "      <td>None</td>\n",
       "      <td>München</td>\n",
       "      <td>None</td>\n",
       "      <td>D-81241</td>\n",
       "      <td>2</td>\n",
       "      <td>T</td>\n",
       "    </tr>\n",
       "    <tr>\n",
       "      <th>2</th>\n",
       "      <td>15</td>\n",
       "      <td>Isafjordsgatan 30 C</td>\n",
       "      <td>None</td>\n",
       "      <td>Kista</td>\n",
       "      <td>None</td>\n",
       "      <td>S-164 40</td>\n",
       "      <td>10</td>\n",
       "      <td>T</td>\n",
       "    </tr>\n",
       "    <tr>\n",
       "      <th>3</th>\n",
       "      <td>17</td>\n",
       "      <td>7800, 756 - 6th Avenue. S.W.</td>\n",
       "      <td>None</td>\n",
       "      <td>Calgary</td>\n",
       "      <td>Alberta</td>\n",
       "      <td>T2P 3Z0</td>\n",
       "      <td>4</td>\n",
       "      <td>T</td>\n",
       "    </tr>\n",
       "    <tr>\n",
       "      <th>4</th>\n",
       "      <td>18</td>\n",
       "      <td>789 Yonge Street</td>\n",
       "      <td>None</td>\n",
       "      <td>Toronto</td>\n",
       "      <td>Ontario</td>\n",
       "      <td>M2M 4K8</td>\n",
       "      <td>4</td>\n",
       "      <td>T</td>\n",
       "    </tr>\n",
       "  </tbody>\n",
       "</table>\n",
       "</div>"
      ]
     },
     "execution_count": 21,
     "metadata": {},
     "output_type": "execute_result"
    }
   ],
   "execution_count": 21
  },
  {
   "cell_type": "markdown",
   "id": "9f351715913d1fe1",
   "metadata": {
    "collapsed": false
   },
   "source": [
    "### Retailer_contact"
   ]
  },
  {
   "cell_type": "code",
   "id": "225ad64b29a0ebd3",
   "metadata": {
    "collapsed": false,
    "ExecuteTime": {
     "end_time": "2024-04-22T13:54:06.167195Z",
     "start_time": "2024-04-22T13:54:06.150585Z"
    }
   },
   "source": [
    "retailer_contact = go_crm_retailer_contact\n",
    "\n",
    "# rename the columns\n",
    "retailer_contact = retailer_contact.rename(columns={'RETAILER_CONTACT_CODE': 'RETAILER_CONTACT_code', 'E_MAIL': 'RETAILER_CONTACT_email', 'RETAILER_SITE_CODE': 'RETAILER_CONTACT_RETAILER_SITE_CODE_site_code', 'JOB_POSITION_EN': 'RETAILER_CONTACT_JOB_POSITION_EN_position', 'EXTENSION': 'RETAILER_CONTACT_EXTENSION_extension', 'FAX': 'RETAILER_CONTACT_FAX_fax', 'GENDER' : 'RETAILER_CONTACT_GENDER_gender', 'FIRST_NAME': 'RETAILER_CONTACT_FIRST_NAME_first_name', 'LAST_NAME': 'RETAILER_CONTACT_LAST_NAME_last_name'})\n",
    "\n",
    "all_dataframes.append(retailer_contact)\n",
    "\n",
    "retailer_contact.head()"
   ],
   "outputs": [
    {
     "data": {
      "text/plain": [
       "  RETAILER_CONTACT_code RETAILER_CONTACT_RETAILER_SITE_CODE_site_code  \\\n",
       "0                    10                                            14   \n",
       "1                   100                                            85   \n",
       "2                   101                                            84   \n",
       "3                   102                                            88   \n",
       "4                   103                                            92   \n",
       "\n",
       "  RETAILER_CONTACT_FIRST_NAME_first_name RETAILER_CONTACT_LAST_NAME_last_name  \\\n",
       "0                                  Frank                                Smith   \n",
       "1                                 Amanda                                Yates   \n",
       "2                                  Paula                              Schmidt   \n",
       "3                                Micheal                                  Tao   \n",
       "4                                   Jack                               Murphy   \n",
       "\n",
       "  RETAILER_CONTACT_JOB_POSITION_EN_position  \\\n",
       "0                           Chief Purchaser   \n",
       "1                             Stock Manager   \n",
       "2                       Assistant Purchaser   \n",
       "3                          District Manager   \n",
       "4                          District Manager   \n",
       "\n",
       "  RETAILER_CONTACT_EXTENSION_extension RETAILER_CONTACT_FAX_fax  \\\n",
       "0                                 2489         1 (514) 741-1610   \n",
       "1                                 None         1 (702) 369-2274   \n",
       "2                                 None         1 (702) 882-0978   \n",
       "3                                  445         1 (713) 524-3215   \n",
       "4                                 None         1 (305) 557-5478   \n",
       "\n",
       "      RETAILER_CONTACT_email RETAILER_CONTACT_GENDER_gender TRIAL222  \n",
       "0    FSmith@legolfeurinc.com                              M        T  \n",
       "1          Y2883@emertxe.com                              F        T  \n",
       "2          S8832@emertxe.com                              F        T  \n",
       "3          T8839@emertxe.com                              M        T  \n",
       "4  Murphy@eyedimensions3.com                              M        T  "
      ],
      "text/html": [
       "<div>\n",
       "<style scoped>\n",
       "    .dataframe tbody tr th:only-of-type {\n",
       "        vertical-align: middle;\n",
       "    }\n",
       "\n",
       "    .dataframe tbody tr th {\n",
       "        vertical-align: top;\n",
       "    }\n",
       "\n",
       "    .dataframe thead th {\n",
       "        text-align: right;\n",
       "    }\n",
       "</style>\n",
       "<table border=\"1\" class=\"dataframe\">\n",
       "  <thead>\n",
       "    <tr style=\"text-align: right;\">\n",
       "      <th></th>\n",
       "      <th>RETAILER_CONTACT_code</th>\n",
       "      <th>RETAILER_CONTACT_RETAILER_SITE_CODE_site_code</th>\n",
       "      <th>RETAILER_CONTACT_FIRST_NAME_first_name</th>\n",
       "      <th>RETAILER_CONTACT_LAST_NAME_last_name</th>\n",
       "      <th>RETAILER_CONTACT_JOB_POSITION_EN_position</th>\n",
       "      <th>RETAILER_CONTACT_EXTENSION_extension</th>\n",
       "      <th>RETAILER_CONTACT_FAX_fax</th>\n",
       "      <th>RETAILER_CONTACT_email</th>\n",
       "      <th>RETAILER_CONTACT_GENDER_gender</th>\n",
       "      <th>TRIAL222</th>\n",
       "    </tr>\n",
       "  </thead>\n",
       "  <tbody>\n",
       "    <tr>\n",
       "      <th>0</th>\n",
       "      <td>10</td>\n",
       "      <td>14</td>\n",
       "      <td>Frank</td>\n",
       "      <td>Smith</td>\n",
       "      <td>Chief Purchaser</td>\n",
       "      <td>2489</td>\n",
       "      <td>1 (514) 741-1610</td>\n",
       "      <td>FSmith@legolfeurinc.com</td>\n",
       "      <td>M</td>\n",
       "      <td>T</td>\n",
       "    </tr>\n",
       "    <tr>\n",
       "      <th>1</th>\n",
       "      <td>100</td>\n",
       "      <td>85</td>\n",
       "      <td>Amanda</td>\n",
       "      <td>Yates</td>\n",
       "      <td>Stock Manager</td>\n",
       "      <td>None</td>\n",
       "      <td>1 (702) 369-2274</td>\n",
       "      <td>Y2883@emertxe.com</td>\n",
       "      <td>F</td>\n",
       "      <td>T</td>\n",
       "    </tr>\n",
       "    <tr>\n",
       "      <th>2</th>\n",
       "      <td>101</td>\n",
       "      <td>84</td>\n",
       "      <td>Paula</td>\n",
       "      <td>Schmidt</td>\n",
       "      <td>Assistant Purchaser</td>\n",
       "      <td>None</td>\n",
       "      <td>1 (702) 882-0978</td>\n",
       "      <td>S8832@emertxe.com</td>\n",
       "      <td>F</td>\n",
       "      <td>T</td>\n",
       "    </tr>\n",
       "    <tr>\n",
       "      <th>3</th>\n",
       "      <td>102</td>\n",
       "      <td>88</td>\n",
       "      <td>Micheal</td>\n",
       "      <td>Tao</td>\n",
       "      <td>District Manager</td>\n",
       "      <td>445</td>\n",
       "      <td>1 (713) 524-3215</td>\n",
       "      <td>T8839@emertxe.com</td>\n",
       "      <td>M</td>\n",
       "      <td>T</td>\n",
       "    </tr>\n",
       "    <tr>\n",
       "      <th>4</th>\n",
       "      <td>103</td>\n",
       "      <td>92</td>\n",
       "      <td>Jack</td>\n",
       "      <td>Murphy</td>\n",
       "      <td>District Manager</td>\n",
       "      <td>None</td>\n",
       "      <td>1 (305) 557-5478</td>\n",
       "      <td>Murphy@eyedimensions3.com</td>\n",
       "      <td>M</td>\n",
       "      <td>T</td>\n",
       "    </tr>\n",
       "  </tbody>\n",
       "</table>\n",
       "</div>"
      ]
     },
     "execution_count": 22,
     "metadata": {},
     "output_type": "execute_result"
    }
   ],
   "execution_count": 22
  },
  {
   "cell_type": "markdown",
   "id": "5440ce379eadccf3",
   "metadata": {
    "collapsed": false
   },
   "source": [
    "### Retailer"
   ]
  },
  {
   "cell_type": "markdown",
   "id": "8b73e9b4b1cca021",
   "metadata": {
    "collapsed": false
   },
   "source": [
    "### Training"
   ]
  },
  {
   "cell_type": "code",
   "id": "71d9483bff7d0752",
   "metadata": {
    "collapsed": false,
    "ExecuteTime": {
     "end_time": "2024-04-22T13:54:06.190687Z",
     "start_time": "2024-04-22T13:54:06.169268Z"
    }
   },
   "source": [
    "retailer = pd.merge(go_crm_retailer, go_crm_retailer_type, left_on='RETAILER_TYPE_CODE', right_on='RETAILER_TYPE_CODE')\n",
    "\n",
    "# rename the columns\n",
    "retailer = retailer.rename(columns={'RETAILER_CODE': 'RETAILER_code', 'COMPANY_NAME': 'RETAILER_name', 'RETAILER_CODEMR': 'RETAILER_COMPANY_CODE_MR_company', 'RETAILER_TYPE_CODE': 'RETAILER_RETAILER_TYPE_code', 'RETAILER_TYPE_EN': 'RETAILER_RETAILER_TYPE_EN'})\n",
    "\n",
    "all_dataframes.append(retailer)\n",
    "\n",
    "retailer.head()"
   ],
   "outputs": [
    {
     "data": {
      "text/plain": [
       "  RETAILER_code RETAILER_COMPANY_CODE_MR_company               RETAILER_name  \\\n",
       "0             1                             None                   ActiForme   \n",
       "1           100                               70                Golf Masters   \n",
       "2           101                               71             The Marketplace   \n",
       "3           102                               72    Camping Equipment Online   \n",
       "4           103                               73  Tamarack Outfitter Rentals   \n",
       "\n",
       "  RETAILER_RETAILER_TYPE_code TRIAL219 RETAILER_RETAILER_TYPE_EN TRIAL222  \n",
       "0                           5        T    Equipment Rental Store        T  \n",
       "1                           1        T                 Golf Shop        T  \n",
       "2                           2        T          Department Store        T  \n",
       "3                           3        T          Direct Marketing        T  \n",
       "4                           5        T    Equipment Rental Store        T  "
      ],
      "text/html": [
       "<div>\n",
       "<style scoped>\n",
       "    .dataframe tbody tr th:only-of-type {\n",
       "        vertical-align: middle;\n",
       "    }\n",
       "\n",
       "    .dataframe tbody tr th {\n",
       "        vertical-align: top;\n",
       "    }\n",
       "\n",
       "    .dataframe thead th {\n",
       "        text-align: right;\n",
       "    }\n",
       "</style>\n",
       "<table border=\"1\" class=\"dataframe\">\n",
       "  <thead>\n",
       "    <tr style=\"text-align: right;\">\n",
       "      <th></th>\n",
       "      <th>RETAILER_code</th>\n",
       "      <th>RETAILER_COMPANY_CODE_MR_company</th>\n",
       "      <th>RETAILER_name</th>\n",
       "      <th>RETAILER_RETAILER_TYPE_code</th>\n",
       "      <th>TRIAL219</th>\n",
       "      <th>RETAILER_RETAILER_TYPE_EN</th>\n",
       "      <th>TRIAL222</th>\n",
       "    </tr>\n",
       "  </thead>\n",
       "  <tbody>\n",
       "    <tr>\n",
       "      <th>0</th>\n",
       "      <td>1</td>\n",
       "      <td>None</td>\n",
       "      <td>ActiForme</td>\n",
       "      <td>5</td>\n",
       "      <td>T</td>\n",
       "      <td>Equipment Rental Store</td>\n",
       "      <td>T</td>\n",
       "    </tr>\n",
       "    <tr>\n",
       "      <th>1</th>\n",
       "      <td>100</td>\n",
       "      <td>70</td>\n",
       "      <td>Golf Masters</td>\n",
       "      <td>1</td>\n",
       "      <td>T</td>\n",
       "      <td>Golf Shop</td>\n",
       "      <td>T</td>\n",
       "    </tr>\n",
       "    <tr>\n",
       "      <th>2</th>\n",
       "      <td>101</td>\n",
       "      <td>71</td>\n",
       "      <td>The Marketplace</td>\n",
       "      <td>2</td>\n",
       "      <td>T</td>\n",
       "      <td>Department Store</td>\n",
       "      <td>T</td>\n",
       "    </tr>\n",
       "    <tr>\n",
       "      <th>3</th>\n",
       "      <td>102</td>\n",
       "      <td>72</td>\n",
       "      <td>Camping Equipment Online</td>\n",
       "      <td>3</td>\n",
       "      <td>T</td>\n",
       "      <td>Direct Marketing</td>\n",
       "      <td>T</td>\n",
       "    </tr>\n",
       "    <tr>\n",
       "      <th>4</th>\n",
       "      <td>103</td>\n",
       "      <td>73</td>\n",
       "      <td>Tamarack Outfitter Rentals</td>\n",
       "      <td>5</td>\n",
       "      <td>T</td>\n",
       "      <td>Equipment Rental Store</td>\n",
       "      <td>T</td>\n",
       "    </tr>\n",
       "  </tbody>\n",
       "</table>\n",
       "</div>"
      ]
     },
     "execution_count": 23,
     "metadata": {},
     "output_type": "execute_result"
    }
   ],
   "execution_count": 23
  },
  {
   "cell_type": "markdown",
   "id": "4294143c48572b68",
   "metadata": {
    "collapsed": false
   },
   "source": [
    "### Product"
   ]
  },
  {
   "cell_type": "code",
   "id": "edddbd324315ff8e",
   "metadata": {
    "collapsed": false,
    "ExecuteTime": {
     "end_time": "2024-04-22T13:54:06.222612Z",
     "start_time": "2024-04-22T13:54:06.192771Z"
    }
   },
   "source": [
    "product = pd.merge(go_sales_product, go_sales_product_type, left_on='PRODUCT_TYPE_CODE', right_on='PRODUCT_TYPE_CODE')\n",
    "product = pd.merge(product, go_sales_product_line, left_on='PRODUCT_LINE_CODE', right_on='PRODUCT_LINE_CODE')\n",
    "\n",
    "# rename the columns\n",
    "product = product.rename(columns={'PRODUCT_NUMBER': 'PRODUCT_number', 'PRODUCT_NAME': 'PRODUCT_name_product', 'DESCRIPTION': 'PRODUCT_description_description', 'PRODUCT_IMAGE': 'PRODUCT_image_image', 'INTRODUCTION_DATE': 'PRODUCT_INTRODUCTION_DATE_introduced', 'PRODUCTION_COST': 'PRODUCT_PRODUCTION_COST_cost', 'MARGIN': 'PRODUCT_MARGIN_margin', 'LANGUAGE': 'PRODUCT_LANGUAGE_language',  'PRODUCT_TYPE_CODE': 'PRODUCT_PRODUCT_TYPE_code', 'PRODUCT_TYPE_EN': 'PRODUCT_PRODUCT_TYPE_code_en', 'PRODUCT_LINE_CODE': 'PRODUCT_PRODUCT_LINE_code', 'PRODUCT_LINE_EN': 'PRODUCT_PRODUCT_LINE_code_en'})\n",
    "\n",
    "all_dataframes.append(product)\n",
    "\n",
    "product.head()"
   ],
   "outputs": [
    {
     "data": {
      "text/plain": [
       "  PRODUCT_number PRODUCT_INTRODUCTION_DATE_introduced  \\\n",
       "0              1                            15-2-2011   \n",
       "1             10                            15-2-2011   \n",
       "2            100                            15-2-2011   \n",
       "3            101                           15-12-2019   \n",
       "4            102                           10-12-2019   \n",
       "\n",
       "  PRODUCT_PRODUCT_TYPE_code PRODUCT_PRODUCTION_COST_cost  \\\n",
       "0                         1                            4   \n",
       "1                         1                           10   \n",
       "2                        17                            3   \n",
       "3                        18                       305.54   \n",
       "4                        18                       380.95   \n",
       "\n",
       "  PRODUCT_MARGIN_margin PRODUCT_image_image PRODUCT_LANGUAGE_language  \\\n",
       "0                   .33       P01CE1CG1.jpg                        EN   \n",
       "1                    .4       P10CE1CG1.jpg                        EN   \n",
       "2                    .5     P100OP4FA17.jpg                        EN   \n",
       "3                   .43     P101GE5IR18.jpg                        EN   \n",
       "4                   .51     P102GE5IR18.jpg                        EN   \n",
       "\n",
       "       PRODUCT_name_product  \\\n",
       "0       TrailChef Water Bag   \n",
       "1        TrailChef Utensils   \n",
       "2        Insect Bite Relief   \n",
       "3     Hailstorm Steel Irons   \n",
       "4  Hailstorm Titanium Irons   \n",
       "\n",
       "                     PRODUCT_description_description TRIAL888_x  \\\n",
       "0  Lightweight, collapsible bag to carry liquids ...          T   \n",
       "1  Spoon, fork and knife set made of a light yet ...          T   \n",
       "2  The Insect Bite Relief helps the itching and s...          T   \n",
       "3  Iron is 17-4 stainless steel.  Shafts are grap...          T   \n",
       "4  Made entirely of pure titanium. The ultimate i...          T   \n",
       "\n",
       "  PRODUCT_PRODUCT_LINE_code PRODUCT_PRODUCT_TYPE_code_en TRIAL888_y  \\\n",
       "0                         1                 Cooking Gear          T   \n",
       "1                         1                 Cooking Gear          T   \n",
       "2                         4                    First Aid          T   \n",
       "3                         5                        Irons          T   \n",
       "4                         5                        Irons          T   \n",
       "\n",
       "  PRODUCT_PRODUCT_LINE_code_en TRIAL888  \n",
       "0            Camping Equipment        T  \n",
       "1            Camping Equipment        T  \n",
       "2           Outdoor Protection        T  \n",
       "3               Golf Equipment        T  \n",
       "4               Golf Equipment        T  "
      ],
      "text/html": [
       "<div>\n",
       "<style scoped>\n",
       "    .dataframe tbody tr th:only-of-type {\n",
       "        vertical-align: middle;\n",
       "    }\n",
       "\n",
       "    .dataframe tbody tr th {\n",
       "        vertical-align: top;\n",
       "    }\n",
       "\n",
       "    .dataframe thead th {\n",
       "        text-align: right;\n",
       "    }\n",
       "</style>\n",
       "<table border=\"1\" class=\"dataframe\">\n",
       "  <thead>\n",
       "    <tr style=\"text-align: right;\">\n",
       "      <th></th>\n",
       "      <th>PRODUCT_number</th>\n",
       "      <th>PRODUCT_INTRODUCTION_DATE_introduced</th>\n",
       "      <th>PRODUCT_PRODUCT_TYPE_code</th>\n",
       "      <th>PRODUCT_PRODUCTION_COST_cost</th>\n",
       "      <th>PRODUCT_MARGIN_margin</th>\n",
       "      <th>PRODUCT_image_image</th>\n",
       "      <th>PRODUCT_LANGUAGE_language</th>\n",
       "      <th>PRODUCT_name_product</th>\n",
       "      <th>PRODUCT_description_description</th>\n",
       "      <th>TRIAL888_x</th>\n",
       "      <th>PRODUCT_PRODUCT_LINE_code</th>\n",
       "      <th>PRODUCT_PRODUCT_TYPE_code_en</th>\n",
       "      <th>TRIAL888_y</th>\n",
       "      <th>PRODUCT_PRODUCT_LINE_code_en</th>\n",
       "      <th>TRIAL888</th>\n",
       "    </tr>\n",
       "  </thead>\n",
       "  <tbody>\n",
       "    <tr>\n",
       "      <th>0</th>\n",
       "      <td>1</td>\n",
       "      <td>15-2-2011</td>\n",
       "      <td>1</td>\n",
       "      <td>4</td>\n",
       "      <td>.33</td>\n",
       "      <td>P01CE1CG1.jpg</td>\n",
       "      <td>EN</td>\n",
       "      <td>TrailChef Water Bag</td>\n",
       "      <td>Lightweight, collapsible bag to carry liquids ...</td>\n",
       "      <td>T</td>\n",
       "      <td>1</td>\n",
       "      <td>Cooking Gear</td>\n",
       "      <td>T</td>\n",
       "      <td>Camping Equipment</td>\n",
       "      <td>T</td>\n",
       "    </tr>\n",
       "    <tr>\n",
       "      <th>1</th>\n",
       "      <td>10</td>\n",
       "      <td>15-2-2011</td>\n",
       "      <td>1</td>\n",
       "      <td>10</td>\n",
       "      <td>.4</td>\n",
       "      <td>P10CE1CG1.jpg</td>\n",
       "      <td>EN</td>\n",
       "      <td>TrailChef Utensils</td>\n",
       "      <td>Spoon, fork and knife set made of a light yet ...</td>\n",
       "      <td>T</td>\n",
       "      <td>1</td>\n",
       "      <td>Cooking Gear</td>\n",
       "      <td>T</td>\n",
       "      <td>Camping Equipment</td>\n",
       "      <td>T</td>\n",
       "    </tr>\n",
       "    <tr>\n",
       "      <th>2</th>\n",
       "      <td>100</td>\n",
       "      <td>15-2-2011</td>\n",
       "      <td>17</td>\n",
       "      <td>3</td>\n",
       "      <td>.5</td>\n",
       "      <td>P100OP4FA17.jpg</td>\n",
       "      <td>EN</td>\n",
       "      <td>Insect Bite Relief</td>\n",
       "      <td>The Insect Bite Relief helps the itching and s...</td>\n",
       "      <td>T</td>\n",
       "      <td>4</td>\n",
       "      <td>First Aid</td>\n",
       "      <td>T</td>\n",
       "      <td>Outdoor Protection</td>\n",
       "      <td>T</td>\n",
       "    </tr>\n",
       "    <tr>\n",
       "      <th>3</th>\n",
       "      <td>101</td>\n",
       "      <td>15-12-2019</td>\n",
       "      <td>18</td>\n",
       "      <td>305.54</td>\n",
       "      <td>.43</td>\n",
       "      <td>P101GE5IR18.jpg</td>\n",
       "      <td>EN</td>\n",
       "      <td>Hailstorm Steel Irons</td>\n",
       "      <td>Iron is 17-4 stainless steel.  Shafts are grap...</td>\n",
       "      <td>T</td>\n",
       "      <td>5</td>\n",
       "      <td>Irons</td>\n",
       "      <td>T</td>\n",
       "      <td>Golf Equipment</td>\n",
       "      <td>T</td>\n",
       "    </tr>\n",
       "    <tr>\n",
       "      <th>4</th>\n",
       "      <td>102</td>\n",
       "      <td>10-12-2019</td>\n",
       "      <td>18</td>\n",
       "      <td>380.95</td>\n",
       "      <td>.51</td>\n",
       "      <td>P102GE5IR18.jpg</td>\n",
       "      <td>EN</td>\n",
       "      <td>Hailstorm Titanium Irons</td>\n",
       "      <td>Made entirely of pure titanium. The ultimate i...</td>\n",
       "      <td>T</td>\n",
       "      <td>5</td>\n",
       "      <td>Irons</td>\n",
       "      <td>T</td>\n",
       "      <td>Golf Equipment</td>\n",
       "      <td>T</td>\n",
       "    </tr>\n",
       "  </tbody>\n",
       "</table>\n",
       "</div>"
      ]
     },
     "execution_count": 24,
     "metadata": {},
     "output_type": "execute_result"
    }
   ],
   "execution_count": 24
  },
  {
   "cell_type": "markdown",
   "id": "3dd3f1237cd6217f",
   "metadata": {
    "collapsed": false
   },
   "source": [
    "### Order_details"
   ]
  },
  {
   "cell_type": "code",
   "id": "9709a31ccd988768",
   "metadata": {
    "collapsed": false,
    "ExecuteTime": {
     "end_time": "2024-04-22T13:54:06.329110Z",
     "start_time": "2024-04-22T13:54:06.223726Z"
    }
   },
   "source": [
    "order_details = go_sales_order_details\n",
    "\n",
    "# merging unit and order_details\n",
    "order_details = pd.merge(order_details, unit, left_on=['ORDER_DETAIL_CODE', 'UNIT_id'], right_on=['ORDER_DETAIL_CODE', 'UNIT_id'])\n",
    "\n",
    "# dropping the columns replaced by unit and returned_item\n",
    "order_details = order_details.drop(columns=['UNIT_COST', 'UNIT_PRICE', 'UNIT_SALE_PRICE']) \n",
    "\n",
    "# rename the columns\n",
    "order_details = order_details.rename(columns={'QUANTITY': 'ORDER_DETAILS_QUANTITY_quantity', 'ORDER_NUMBER': 'ORDER_DETAILS_ORDER_NUMBER_order', 'PRODUCT_NUMBER': 'ORDER_DETAILS_PRODUCT_NUMBER_product', 'UNIT_ID': 'ORDER_DETAILS_UNIT_ID_unit', 'ORDER_DETAIL_CODE' : 'ORDER_DETAIL_code'})\n",
    "\n",
    "all_dataframes.append(order_details)\n",
    "\n",
    "order_details.head()"
   ],
   "outputs": [
    {
     "data": {
      "text/plain": [
       "  ORDER_DETAIL_code ORDER_DETAILS_ORDER_NUMBER_order  \\\n",
       "0            100000                             8462   \n",
       "1            100001                             9111   \n",
       "2            100002                             8451   \n",
       "3            100003                             8453   \n",
       "4            100004                             8439   \n",
       "\n",
       "  ORDER_DETAILS_PRODUCT_NUMBER_product  ORDER_DETAILS_QUANTITY_quantity  \\\n",
       "0                                   96                               16   \n",
       "1                                   96                               20   \n",
       "2                                   96                               24   \n",
       "3                                   96                               18   \n",
       "4                                   96                               20   \n",
       "\n",
       "  TRIAL879  UNIT_id UNIT_COST_cost UNIT_PRICE_price UNIT_SALE_sale  \n",
       "0        T        1           16.1            22.54          22.54  \n",
       "1        T        2           16.1            22.54          22.54  \n",
       "2        T        3           16.1            22.54          22.54  \n",
       "3        T        4           16.1            22.54          22.54  \n",
       "4        T        5           16.1            22.54          22.54  "
      ],
      "text/html": [
       "<div>\n",
       "<style scoped>\n",
       "    .dataframe tbody tr th:only-of-type {\n",
       "        vertical-align: middle;\n",
       "    }\n",
       "\n",
       "    .dataframe tbody tr th {\n",
       "        vertical-align: top;\n",
       "    }\n",
       "\n",
       "    .dataframe thead th {\n",
       "        text-align: right;\n",
       "    }\n",
       "</style>\n",
       "<table border=\"1\" class=\"dataframe\">\n",
       "  <thead>\n",
       "    <tr style=\"text-align: right;\">\n",
       "      <th></th>\n",
       "      <th>ORDER_DETAIL_code</th>\n",
       "      <th>ORDER_DETAILS_ORDER_NUMBER_order</th>\n",
       "      <th>ORDER_DETAILS_PRODUCT_NUMBER_product</th>\n",
       "      <th>ORDER_DETAILS_QUANTITY_quantity</th>\n",
       "      <th>TRIAL879</th>\n",
       "      <th>UNIT_id</th>\n",
       "      <th>UNIT_COST_cost</th>\n",
       "      <th>UNIT_PRICE_price</th>\n",
       "      <th>UNIT_SALE_sale</th>\n",
       "    </tr>\n",
       "  </thead>\n",
       "  <tbody>\n",
       "    <tr>\n",
       "      <th>0</th>\n",
       "      <td>100000</td>\n",
       "      <td>8462</td>\n",
       "      <td>96</td>\n",
       "      <td>16</td>\n",
       "      <td>T</td>\n",
       "      <td>1</td>\n",
       "      <td>16.1</td>\n",
       "      <td>22.54</td>\n",
       "      <td>22.54</td>\n",
       "    </tr>\n",
       "    <tr>\n",
       "      <th>1</th>\n",
       "      <td>100001</td>\n",
       "      <td>9111</td>\n",
       "      <td>96</td>\n",
       "      <td>20</td>\n",
       "      <td>T</td>\n",
       "      <td>2</td>\n",
       "      <td>16.1</td>\n",
       "      <td>22.54</td>\n",
       "      <td>22.54</td>\n",
       "    </tr>\n",
       "    <tr>\n",
       "      <th>2</th>\n",
       "      <td>100002</td>\n",
       "      <td>8451</td>\n",
       "      <td>96</td>\n",
       "      <td>24</td>\n",
       "      <td>T</td>\n",
       "      <td>3</td>\n",
       "      <td>16.1</td>\n",
       "      <td>22.54</td>\n",
       "      <td>22.54</td>\n",
       "    </tr>\n",
       "    <tr>\n",
       "      <th>3</th>\n",
       "      <td>100003</td>\n",
       "      <td>8453</td>\n",
       "      <td>96</td>\n",
       "      <td>18</td>\n",
       "      <td>T</td>\n",
       "      <td>4</td>\n",
       "      <td>16.1</td>\n",
       "      <td>22.54</td>\n",
       "      <td>22.54</td>\n",
       "    </tr>\n",
       "    <tr>\n",
       "      <th>4</th>\n",
       "      <td>100004</td>\n",
       "      <td>8439</td>\n",
       "      <td>96</td>\n",
       "      <td>20</td>\n",
       "      <td>T</td>\n",
       "      <td>5</td>\n",
       "      <td>16.1</td>\n",
       "      <td>22.54</td>\n",
       "      <td>22.54</td>\n",
       "    </tr>\n",
       "  </tbody>\n",
       "</table>\n",
       "</div>"
      ]
     },
     "execution_count": 25,
     "metadata": {},
     "output_type": "execute_result"
    }
   ],
   "execution_count": 25
  },
  {
   "cell_type": "markdown",
   "id": "b87647db90f16e71",
   "metadata": {
    "collapsed": false
   },
   "source": [
    "## training"
   ]
  },
  {
   "cell_type": "code",
   "id": "25a1efa0fab720ea",
   "metadata": {
    "collapsed": false,
    "ExecuteTime": {
     "end_time": "2024-04-22T13:54:06.350777Z",
     "start_time": "2024-04-22T13:54:06.331124Z"
    }
   },
   "source": [
    "training = go_staff_training\n",
    "\n",
    "# converting the year to int 32\n",
    "training['YEAR'] = training['YEAR'].astype('int32')\n",
    "\n",
    "# replacing the original columns with year and course\n",
    "# merging the year and course\n",
    "training = pd.merge(training, year, left_on='YEAR', right_on='YEAR')\n",
    "training = pd.merge(training, course, left_on='COURSE_CODE', right_on='COURSE_code')\n",
    "\n",
    "# rename the columns\n",
    "training = training.rename(columns={'SALES_STAFF_CODE': 'TRAINING_SALES_STAFF_CODE', 'COURSE_CODE': 'TRAINING_COURSE_CODE', 'YEAR': 'TRAINING_YEAR'})\n",
    "\n",
    "all_dataframes.append(training)\n",
    "\n",
    "training.head()"
   ],
   "outputs": [
    {
     "data": {
      "text/plain": [
       "   TRAINING_YEAR TRAINING_SALES_STAFF_CODE TRAINING_COURSE_CODE TRIAL633_x  \\\n",
       "0           2004                       100                    2          T   \n",
       "1           2004                       100                    3          T   \n",
       "2           2004                       100                    4          T   \n",
       "3           2005                       100                    5          T   \n",
       "4           2006                       100                    6          T   \n",
       "\n",
       "  COURSE_code COURSE_DESCRIPTION TRIAL633_y  \n",
       "0           2   GO Communication          T  \n",
       "1           3         GO Sales 1          T  \n",
       "2           4         GO Sales 2          T  \n",
       "3           5     GO Marketing 1          T  \n",
       "4           6     GO Marketing 2          T  "
      ],
      "text/html": [
       "<div>\n",
       "<style scoped>\n",
       "    .dataframe tbody tr th:only-of-type {\n",
       "        vertical-align: middle;\n",
       "    }\n",
       "\n",
       "    .dataframe tbody tr th {\n",
       "        vertical-align: top;\n",
       "    }\n",
       "\n",
       "    .dataframe thead th {\n",
       "        text-align: right;\n",
       "    }\n",
       "</style>\n",
       "<table border=\"1\" class=\"dataframe\">\n",
       "  <thead>\n",
       "    <tr style=\"text-align: right;\">\n",
       "      <th></th>\n",
       "      <th>TRAINING_YEAR</th>\n",
       "      <th>TRAINING_SALES_STAFF_CODE</th>\n",
       "      <th>TRAINING_COURSE_CODE</th>\n",
       "      <th>TRIAL633_x</th>\n",
       "      <th>COURSE_code</th>\n",
       "      <th>COURSE_DESCRIPTION</th>\n",
       "      <th>TRIAL633_y</th>\n",
       "    </tr>\n",
       "  </thead>\n",
       "  <tbody>\n",
       "    <tr>\n",
       "      <th>0</th>\n",
       "      <td>2004</td>\n",
       "      <td>100</td>\n",
       "      <td>2</td>\n",
       "      <td>T</td>\n",
       "      <td>2</td>\n",
       "      <td>GO Communication</td>\n",
       "      <td>T</td>\n",
       "    </tr>\n",
       "    <tr>\n",
       "      <th>1</th>\n",
       "      <td>2004</td>\n",
       "      <td>100</td>\n",
       "      <td>3</td>\n",
       "      <td>T</td>\n",
       "      <td>3</td>\n",
       "      <td>GO Sales 1</td>\n",
       "      <td>T</td>\n",
       "    </tr>\n",
       "    <tr>\n",
       "      <th>2</th>\n",
       "      <td>2004</td>\n",
       "      <td>100</td>\n",
       "      <td>4</td>\n",
       "      <td>T</td>\n",
       "      <td>4</td>\n",
       "      <td>GO Sales 2</td>\n",
       "      <td>T</td>\n",
       "    </tr>\n",
       "    <tr>\n",
       "      <th>3</th>\n",
       "      <td>2005</td>\n",
       "      <td>100</td>\n",
       "      <td>5</td>\n",
       "      <td>T</td>\n",
       "      <td>5</td>\n",
       "      <td>GO Marketing 1</td>\n",
       "      <td>T</td>\n",
       "    </tr>\n",
       "    <tr>\n",
       "      <th>4</th>\n",
       "      <td>2006</td>\n",
       "      <td>100</td>\n",
       "      <td>6</td>\n",
       "      <td>T</td>\n",
       "      <td>6</td>\n",
       "      <td>GO Marketing 2</td>\n",
       "      <td>T</td>\n",
       "    </tr>\n",
       "  </tbody>\n",
       "</table>\n",
       "</div>"
      ]
     },
     "execution_count": 26,
     "metadata": {},
     "output_type": "execute_result"
    }
   ],
   "execution_count": 26
  },
  {
   "cell_type": "markdown",
   "id": "fafe9322068f9bcb",
   "metadata": {
    "collapsed": false
   },
   "source": [
    "### Satisfaction"
   ]
  },
  {
   "cell_type": "code",
   "id": "1f79b295694d9060",
   "metadata": {
    "collapsed": false,
    "ExecuteTime": {
     "end_time": "2024-04-22T13:54:06.384414Z",
     "start_time": "2024-04-22T13:54:06.356801Z"
    }
   },
   "source": [
    "satisfaction = go_staff_satisfaction\n",
    "\n",
    "# converting the year to int 32\n",
    "satisfaction['YEAR'] = satisfaction['YEAR'].astype('int32')\n",
    "\n",
    "# replacing the original columns with year and satisfaction_type\n",
    "# merging the year and satisfaction_type\n",
    "satisfaction = pd.merge(satisfaction, year, left_on='YEAR', right_on='YEAR')\n",
    "satisfaction = pd.merge(satisfaction, satisfaction_type, left_on='SATISFACTION_TYPE_CODE', right_on='SATISFACTION_TYPE_code')\n",
    "\n",
    "# rename the columns\n",
    "satisfaction = satisfaction.rename(columns={'SALES_STAFF_CODE': 'SATISFACTION_SALES_STAFF_CODE', 'SATISFACTION_TYPE_CODE': 'SATISFACTION_SATISFACTION_TYPE_CODE', 'YEAR': 'SATISFACTION_YEAR'})\n",
    "\n",
    "all_dataframes.append(satisfaction)\n",
    "\n",
    "satisfaction.head()"
   ],
   "outputs": [
    {
     "data": {
      "text/plain": [
       "   SATISFACTION_YEAR SATISFACTION_SALES_STAFF_CODE  \\\n",
       "0               2004                           100   \n",
       "1               2004                           101   \n",
       "2               2004                           102   \n",
       "3               2004                           103   \n",
       "4               2004                           104   \n",
       "\n",
       "  SATISFACTION_SATISFACTION_TYPE_CODE TRIAL633_x SATISFACTION_TYPE_code  \\\n",
       "0                                   1          T                      1   \n",
       "1                                   4          T                      4   \n",
       "2                                   4          T                      4   \n",
       "3                                   3          T                      3   \n",
       "4                                   4          T                      4   \n",
       "\n",
       "  SATISFACTION_TYPE_DESCRIPTION TRIAL633_y  \n",
       "0                 Not satisfied          T  \n",
       "1                Very Satisfied          T  \n",
       "2                Very Satisfied          T  \n",
       "3                     Satisfied          T  \n",
       "4                Very Satisfied          T  "
      ],
      "text/html": [
       "<div>\n",
       "<style scoped>\n",
       "    .dataframe tbody tr th:only-of-type {\n",
       "        vertical-align: middle;\n",
       "    }\n",
       "\n",
       "    .dataframe tbody tr th {\n",
       "        vertical-align: top;\n",
       "    }\n",
       "\n",
       "    .dataframe thead th {\n",
       "        text-align: right;\n",
       "    }\n",
       "</style>\n",
       "<table border=\"1\" class=\"dataframe\">\n",
       "  <thead>\n",
       "    <tr style=\"text-align: right;\">\n",
       "      <th></th>\n",
       "      <th>SATISFACTION_YEAR</th>\n",
       "      <th>SATISFACTION_SALES_STAFF_CODE</th>\n",
       "      <th>SATISFACTION_SATISFACTION_TYPE_CODE</th>\n",
       "      <th>TRIAL633_x</th>\n",
       "      <th>SATISFACTION_TYPE_code</th>\n",
       "      <th>SATISFACTION_TYPE_DESCRIPTION</th>\n",
       "      <th>TRIAL633_y</th>\n",
       "    </tr>\n",
       "  </thead>\n",
       "  <tbody>\n",
       "    <tr>\n",
       "      <th>0</th>\n",
       "      <td>2004</td>\n",
       "      <td>100</td>\n",
       "      <td>1</td>\n",
       "      <td>T</td>\n",
       "      <td>1</td>\n",
       "      <td>Not satisfied</td>\n",
       "      <td>T</td>\n",
       "    </tr>\n",
       "    <tr>\n",
       "      <th>1</th>\n",
       "      <td>2004</td>\n",
       "      <td>101</td>\n",
       "      <td>4</td>\n",
       "      <td>T</td>\n",
       "      <td>4</td>\n",
       "      <td>Very Satisfied</td>\n",
       "      <td>T</td>\n",
       "    </tr>\n",
       "    <tr>\n",
       "      <th>2</th>\n",
       "      <td>2004</td>\n",
       "      <td>102</td>\n",
       "      <td>4</td>\n",
       "      <td>T</td>\n",
       "      <td>4</td>\n",
       "      <td>Very Satisfied</td>\n",
       "      <td>T</td>\n",
       "    </tr>\n",
       "    <tr>\n",
       "      <th>3</th>\n",
       "      <td>2004</td>\n",
       "      <td>103</td>\n",
       "      <td>3</td>\n",
       "      <td>T</td>\n",
       "      <td>3</td>\n",
       "      <td>Satisfied</td>\n",
       "      <td>T</td>\n",
       "    </tr>\n",
       "    <tr>\n",
       "      <th>4</th>\n",
       "      <td>2004</td>\n",
       "      <td>104</td>\n",
       "      <td>4</td>\n",
       "      <td>T</td>\n",
       "      <td>4</td>\n",
       "      <td>Very Satisfied</td>\n",
       "      <td>T</td>\n",
       "    </tr>\n",
       "  </tbody>\n",
       "</table>\n",
       "</div>"
      ]
     },
     "execution_count": 27,
     "metadata": {},
     "output_type": "execute_result"
    }
   ],
   "execution_count": 27
  },
  {
   "cell_type": "markdown",
   "id": "a2de04bb43925941",
   "metadata": {
    "collapsed": false
   },
   "source": [
    "### Order_header"
   ]
  },
  {
   "cell_type": "code",
   "id": "1b4956744dca5608",
   "metadata": {
    "collapsed": false,
    "ExecuteTime": {
     "end_time": "2024-04-22T13:54:06.505571Z",
     "start_time": "2024-04-22T13:54:06.388453Z"
    }
   },
   "source": [
    "order_header = pd.merge(go_sales_order_header, retailer, left_on='RETAILER_NAME', right_on='RETAILER_name')\n",
    "\n",
    "# converting the date to datetime\n",
    "order_header['ORDER_DATE'] = pd.to_datetime(order_header['ORDER_DATE'], format='mixed')\n",
    "\n",
    "# replacing the original columns with date, sales_staff, retailer_site and retailer_contact\n",
    "# merging the date, sales_staff, retailer_site and retailer_contact\n",
    "order_header = pd.merge(order_header, date, left_on='ORDER_DATE', right_on='DATE_date')\n",
    "order_header = pd.merge(order_header, sales_staff, left_on='SALES_STAFF_CODE', right_on='SALES_STAFF_code')\n",
    "order_header = pd.merge(order_header, retailer_site, left_on='RETAILER_SITE_CODE', right_on='RETAILER_SITE_code')\n",
    "order_header = pd.merge(order_header, retailer_contact, left_on='RETAILER_CONTACT_CODE', right_on='RETAILER_CONTACT_code')\n",
    "\n",
    "# rename the columns\n",
    "order_header = order_header.rename(columns={'ORDER_NUMBER': 'ORDER_HEADER_number', 'SALES_STAFF_CODE': 'ORDER_HEADER_SALES_STAFF_CODE', 'SALES_BRANCH_CODE': 'ORDER_HEADER_SALES_BRANCH_CODE', 'ORDER_DATE': 'ORDER_HEADER_ORDER_DATE', 'RETAILER_SITE_CODE': 'ORDER_HEADER_RETAILER_SITE_CODE', 'RETAILER_CONTACT_CODE': 'ORDER_HEADER_RETAILER_CONTACT_CODE', 'RETAILER_CODE': 'ORDER_HEADER_RETAILER_CODE'})\n",
    "\n",
    "all_dataframes.append(order_header)\n",
    "\n",
    "order_header.head()"
   ],
   "outputs": [
    {
     "data": {
      "text/plain": [
       "  ORDER_HEADER_number RETAILER_NAME ORDER_HEADER_RETAILER_SITE_CODE  \\\n",
       "0                1153  Ultra Sports                               4   \n",
       "1                1154  Ultra Sports                               4   \n",
       "2                1155  Ultra Sports                               5   \n",
       "3                1156  Ultra Sports                               5   \n",
       "4                1157  Ultra Sports                               6   \n",
       "\n",
       "  ORDER_HEADER_RETAILER_CONTACT_CODE ORDER_HEADER_SALES_STAFF_CODE  \\\n",
       "0                                  6                            50   \n",
       "1                                  6                            50   \n",
       "2                                 65                            49   \n",
       "3                                 65                            49   \n",
       "4                                 66                            50   \n",
       "\n",
       "  ORDER_HEADER_SALES_BRANCH_CODE ORDER_HEADER_ORDER_DATE ORDER_METHOD_CODE  \\\n",
       "0                             18              2020-04-14                 7   \n",
       "1                             18              2020-10-01                 4   \n",
       "2                             18              2020-04-21                 7   \n",
       "3                             18              2020-09-09                 5   \n",
       "4                             18              2020-04-10                 2   \n",
       "\n",
       "  TRIAL885 RETAILER_code  ... RETAILER_CONTACT_code  \\\n",
       "0        T            90  ...                     6   \n",
       "1        T            90  ...                     6   \n",
       "2        T            90  ...                    65   \n",
       "3        T            90  ...                    65   \n",
       "4        T            90  ...                    66   \n",
       "\n",
       "  RETAILER_CONTACT_RETAILER_SITE_CODE_site_code  \\\n",
       "0                                             4   \n",
       "1                                             4   \n",
       "2                                             5   \n",
       "3                                             5   \n",
       "4                                             6   \n",
       "\n",
       "  RETAILER_CONTACT_FIRST_NAME_first_name RETAILER_CONTACT_LAST_NAME_last_name  \\\n",
       "0                                  Marie                             Turcotte   \n",
       "1                                  Marie                             Turcotte   \n",
       "2                                 Andrea                              Martens   \n",
       "3                                 Andrea                              Martens   \n",
       "4                                   Bill                              Follett   \n",
       "\n",
       "  RETAILER_CONTACT_JOB_POSITION_EN_position  \\\n",
       "0                       Assistant Purchaser   \n",
       "1                       Assistant Purchaser   \n",
       "2                             Stock Manager   \n",
       "3                             Stock Manager   \n",
       "4                    Site Assistant Manager   \n",
       "\n",
       "  RETAILER_CONTACT_EXTENSION_extension RETAILER_CONTACT_FAX_fax  \\\n",
       "0                                  635         1 (514) 747-2582   \n",
       "1                                  635         1 (514) 747-2582   \n",
       "2                                 None         1 (705) 675-9848   \n",
       "3                                 None         1 (705) 675-9848   \n",
       "4                                 None         1 (819) 427-4397   \n",
       "\n",
       "    RETAILER_CONTACT_email RETAILER_CONTACT_GENDER_gender TRIAL222_y  \n",
       "0  MTurcotte@cybserv19.com                              F          T  \n",
       "1  MTurcotte@cybserv19.com                              F          T  \n",
       "2   AMartens@cybserv19.com                              F          T  \n",
       "3   AMartens@cybserv19.com                              F          T  \n",
       "4   BFollett@cybserv19.com                              M          T  \n",
       "\n",
       "[5 rows x 49 columns]"
      ],
      "text/html": [
       "<div>\n",
       "<style scoped>\n",
       "    .dataframe tbody tr th:only-of-type {\n",
       "        vertical-align: middle;\n",
       "    }\n",
       "\n",
       "    .dataframe tbody tr th {\n",
       "        vertical-align: top;\n",
       "    }\n",
       "\n",
       "    .dataframe thead th {\n",
       "        text-align: right;\n",
       "    }\n",
       "</style>\n",
       "<table border=\"1\" class=\"dataframe\">\n",
       "  <thead>\n",
       "    <tr style=\"text-align: right;\">\n",
       "      <th></th>\n",
       "      <th>ORDER_HEADER_number</th>\n",
       "      <th>RETAILER_NAME</th>\n",
       "      <th>ORDER_HEADER_RETAILER_SITE_CODE</th>\n",
       "      <th>ORDER_HEADER_RETAILER_CONTACT_CODE</th>\n",
       "      <th>ORDER_HEADER_SALES_STAFF_CODE</th>\n",
       "      <th>ORDER_HEADER_SALES_BRANCH_CODE</th>\n",
       "      <th>ORDER_HEADER_ORDER_DATE</th>\n",
       "      <th>ORDER_METHOD_CODE</th>\n",
       "      <th>TRIAL885</th>\n",
       "      <th>RETAILER_code</th>\n",
       "      <th>...</th>\n",
       "      <th>RETAILER_CONTACT_code</th>\n",
       "      <th>RETAILER_CONTACT_RETAILER_SITE_CODE_site_code</th>\n",
       "      <th>RETAILER_CONTACT_FIRST_NAME_first_name</th>\n",
       "      <th>RETAILER_CONTACT_LAST_NAME_last_name</th>\n",
       "      <th>RETAILER_CONTACT_JOB_POSITION_EN_position</th>\n",
       "      <th>RETAILER_CONTACT_EXTENSION_extension</th>\n",
       "      <th>RETAILER_CONTACT_FAX_fax</th>\n",
       "      <th>RETAILER_CONTACT_email</th>\n",
       "      <th>RETAILER_CONTACT_GENDER_gender</th>\n",
       "      <th>TRIAL222_y</th>\n",
       "    </tr>\n",
       "  </thead>\n",
       "  <tbody>\n",
       "    <tr>\n",
       "      <th>0</th>\n",
       "      <td>1153</td>\n",
       "      <td>Ultra Sports</td>\n",
       "      <td>4</td>\n",
       "      <td>6</td>\n",
       "      <td>50</td>\n",
       "      <td>18</td>\n",
       "      <td>2020-04-14</td>\n",
       "      <td>7</td>\n",
       "      <td>T</td>\n",
       "      <td>90</td>\n",
       "      <td>...</td>\n",
       "      <td>6</td>\n",
       "      <td>4</td>\n",
       "      <td>Marie</td>\n",
       "      <td>Turcotte</td>\n",
       "      <td>Assistant Purchaser</td>\n",
       "      <td>635</td>\n",
       "      <td>1 (514) 747-2582</td>\n",
       "      <td>MTurcotte@cybserv19.com</td>\n",
       "      <td>F</td>\n",
       "      <td>T</td>\n",
       "    </tr>\n",
       "    <tr>\n",
       "      <th>1</th>\n",
       "      <td>1154</td>\n",
       "      <td>Ultra Sports</td>\n",
       "      <td>4</td>\n",
       "      <td>6</td>\n",
       "      <td>50</td>\n",
       "      <td>18</td>\n",
       "      <td>2020-10-01</td>\n",
       "      <td>4</td>\n",
       "      <td>T</td>\n",
       "      <td>90</td>\n",
       "      <td>...</td>\n",
       "      <td>6</td>\n",
       "      <td>4</td>\n",
       "      <td>Marie</td>\n",
       "      <td>Turcotte</td>\n",
       "      <td>Assistant Purchaser</td>\n",
       "      <td>635</td>\n",
       "      <td>1 (514) 747-2582</td>\n",
       "      <td>MTurcotte@cybserv19.com</td>\n",
       "      <td>F</td>\n",
       "      <td>T</td>\n",
       "    </tr>\n",
       "    <tr>\n",
       "      <th>2</th>\n",
       "      <td>1155</td>\n",
       "      <td>Ultra Sports</td>\n",
       "      <td>5</td>\n",
       "      <td>65</td>\n",
       "      <td>49</td>\n",
       "      <td>18</td>\n",
       "      <td>2020-04-21</td>\n",
       "      <td>7</td>\n",
       "      <td>T</td>\n",
       "      <td>90</td>\n",
       "      <td>...</td>\n",
       "      <td>65</td>\n",
       "      <td>5</td>\n",
       "      <td>Andrea</td>\n",
       "      <td>Martens</td>\n",
       "      <td>Stock Manager</td>\n",
       "      <td>None</td>\n",
       "      <td>1 (705) 675-9848</td>\n",
       "      <td>AMartens@cybserv19.com</td>\n",
       "      <td>F</td>\n",
       "      <td>T</td>\n",
       "    </tr>\n",
       "    <tr>\n",
       "      <th>3</th>\n",
       "      <td>1156</td>\n",
       "      <td>Ultra Sports</td>\n",
       "      <td>5</td>\n",
       "      <td>65</td>\n",
       "      <td>49</td>\n",
       "      <td>18</td>\n",
       "      <td>2020-09-09</td>\n",
       "      <td>5</td>\n",
       "      <td>T</td>\n",
       "      <td>90</td>\n",
       "      <td>...</td>\n",
       "      <td>65</td>\n",
       "      <td>5</td>\n",
       "      <td>Andrea</td>\n",
       "      <td>Martens</td>\n",
       "      <td>Stock Manager</td>\n",
       "      <td>None</td>\n",
       "      <td>1 (705) 675-9848</td>\n",
       "      <td>AMartens@cybserv19.com</td>\n",
       "      <td>F</td>\n",
       "      <td>T</td>\n",
       "    </tr>\n",
       "    <tr>\n",
       "      <th>4</th>\n",
       "      <td>1157</td>\n",
       "      <td>Ultra Sports</td>\n",
       "      <td>6</td>\n",
       "      <td>66</td>\n",
       "      <td>50</td>\n",
       "      <td>18</td>\n",
       "      <td>2020-04-10</td>\n",
       "      <td>2</td>\n",
       "      <td>T</td>\n",
       "      <td>90</td>\n",
       "      <td>...</td>\n",
       "      <td>66</td>\n",
       "      <td>6</td>\n",
       "      <td>Bill</td>\n",
       "      <td>Follett</td>\n",
       "      <td>Site Assistant Manager</td>\n",
       "      <td>None</td>\n",
       "      <td>1 (819) 427-4397</td>\n",
       "      <td>BFollett@cybserv19.com</td>\n",
       "      <td>M</td>\n",
       "      <td>T</td>\n",
       "    </tr>\n",
       "  </tbody>\n",
       "</table>\n",
       "<p>5 rows × 49 columns</p>\n",
       "</div>"
      ]
     },
     "execution_count": 28,
     "metadata": {},
     "output_type": "execute_result"
    }
   ],
   "execution_count": 28
  },
  {
   "cell_type": "markdown",
   "id": "dc092095fec002b",
   "metadata": {
    "collapsed": false
   },
   "source": [
    "### GO_SALES_INVENTORY_LEVELS"
   ]
  },
  {
   "cell_type": "code",
   "id": "9ab2574dc17f0c43",
   "metadata": {
    "collapsed": false,
    "ExecuteTime": {
     "end_time": "2024-04-22T13:54:06.533170Z",
     "start_time": "2024-04-22T13:54:06.510676Z"
    }
   },
   "source": [
    "# adding a leading 0 to the month if it is a single digit\n",
    "go_sales_inventory_levels['INVENTORY_MONTH'] = go_sales_inventory_levels['INVENTORY_MONTH'].astype(str).str.zfill(2)\n",
    "\n",
    "# combine year and month to one column\n",
    "go_sales_inventory_levels['YEAR_MONTH'] = go_sales_inventory_levels['INVENTORY_YEAR'].astype(str) + '-' + go_sales_inventory_levels['INVENTORY_MONTH'].astype(str)\n",
    "\n",
    "# dropping the original columns\n",
    "go_sales_inventory_levels = go_sales_inventory_levels.drop(columns=['INVENTORY_YEAR', 'INVENTORY_MONTH'])\n",
    "\n",
    "go_sales_inventory_levels = go_sales_inventory_levels.rename(columns={'INVENTORY_COUNT': 'GO_SALES_INVENTORY_LEVELS_INVENTORY_COUNT', 'PRODUCT_NUMBER': 'GO_SALES_INVENTORY_LEVELS_PRODUCT_NUMBER', 'YEAR_MONTH': 'GO_SALES_INVENTORY_LEVELS_YEAR_MONTH'})\n",
    "\n",
    "all_dataframes.append(go_sales_inventory_levels)\n",
    "\n",
    "go_sales_inventory_levels.head()"
   ],
   "outputs": [
    {
     "data": {
      "text/plain": [
       "   GO_SALES_INVENTORY_LEVELS_PRODUCT_NUMBER  \\\n",
       "0                                        48   \n",
       "1                                        49   \n",
       "2                                        50   \n",
       "3                                        51   \n",
       "4                                        52   \n",
       "\n",
       "   GO_SALES_INVENTORY_LEVELS_INVENTORY_COUNT  \\\n",
       "0                                       1932   \n",
       "1                                       1400   \n",
       "2                                      21705   \n",
       "3                                       9710   \n",
       "4                                       5616   \n",
       "\n",
       "  GO_SALES_INVENTORY_LEVELS_YEAR_MONTH  \n",
       "0                              2021-04  \n",
       "1                              2021-04  \n",
       "2                              2021-04  \n",
       "3                              2021-04  \n",
       "4                              2021-04  "
      ],
      "text/html": [
       "<div>\n",
       "<style scoped>\n",
       "    .dataframe tbody tr th:only-of-type {\n",
       "        vertical-align: middle;\n",
       "    }\n",
       "\n",
       "    .dataframe tbody tr th {\n",
       "        vertical-align: top;\n",
       "    }\n",
       "\n",
       "    .dataframe thead th {\n",
       "        text-align: right;\n",
       "    }\n",
       "</style>\n",
       "<table border=\"1\" class=\"dataframe\">\n",
       "  <thead>\n",
       "    <tr style=\"text-align: right;\">\n",
       "      <th></th>\n",
       "      <th>GO_SALES_INVENTORY_LEVELS_PRODUCT_NUMBER</th>\n",
       "      <th>GO_SALES_INVENTORY_LEVELS_INVENTORY_COUNT</th>\n",
       "      <th>GO_SALES_INVENTORY_LEVELS_YEAR_MONTH</th>\n",
       "    </tr>\n",
       "  </thead>\n",
       "  <tbody>\n",
       "    <tr>\n",
       "      <th>0</th>\n",
       "      <td>48</td>\n",
       "      <td>1932</td>\n",
       "      <td>2021-04</td>\n",
       "    </tr>\n",
       "    <tr>\n",
       "      <th>1</th>\n",
       "      <td>49</td>\n",
       "      <td>1400</td>\n",
       "      <td>2021-04</td>\n",
       "    </tr>\n",
       "    <tr>\n",
       "      <th>2</th>\n",
       "      <td>50</td>\n",
       "      <td>21705</td>\n",
       "      <td>2021-04</td>\n",
       "    </tr>\n",
       "    <tr>\n",
       "      <th>3</th>\n",
       "      <td>51</td>\n",
       "      <td>9710</td>\n",
       "      <td>2021-04</td>\n",
       "    </tr>\n",
       "    <tr>\n",
       "      <th>4</th>\n",
       "      <td>52</td>\n",
       "      <td>5616</td>\n",
       "      <td>2021-04</td>\n",
       "    </tr>\n",
       "  </tbody>\n",
       "</table>\n",
       "</div>"
      ]
     },
     "execution_count": 29,
     "metadata": {},
     "output_type": "execute_result"
    }
   ],
   "execution_count": 29
  },
  {
   "cell_type": "markdown",
   "id": "63ea2b3ff0c095ae",
   "metadata": {
    "collapsed": false
   },
   "source": [
    "### GO_SALES_PRODUCT_FORECAST"
   ]
  },
  {
   "cell_type": "code",
   "id": "288d7bec80d4571",
   "metadata": {
    "collapsed": false,
    "ExecuteTime": {
     "end_time": "2024-04-22T13:54:07.215704Z",
     "start_time": "2024-04-22T13:54:06.536187Z"
    }
   },
   "source": [
    "# merging the product and go_sales_product_forecast\n",
    "product['PRODUCT_number'] = product['PRODUCT_number'].astype('int')\n",
    "sales_product_forcast = pd.merge(go_sales_product_forcast, product, left_on='PRODUCT_NUMBER', right_on='PRODUCT_number')\n",
    "\n",
    "# adding a leading zero to the month if it is a single digit\n",
    "sales_product_forcast['MONTH'] = sales_product_forcast['MONTH'].astype(str).str.zfill(2)\n",
    "\n",
    "#combine year and month to one column\n",
    "sales_product_forcast['YEAR_MONTH'] = sales_product_forcast['YEAR'].astype(str) + '-' + sales_product_forcast['MONTH'].astype(str)\n",
    "\n",
    "# dropping the original columns\n",
    "sales_product_forcast = sales_product_forcast.drop(columns=['YEAR', 'MONTH'])\n",
    "\n",
    "sales_product_forecast = sales_product_forcast.rename(columns={'EXPECTED_VOLUME': 'GO_SALES_PRODUCT_FORECAST_EXPECTED_VOLUME', 'EXPECTED_COST': 'GO_SALES_PRODUCT_FORECAST_EXPECTED_COST', 'EXPECTED_MARGIN': 'GO_SALES_PRODUCT_FORECAST_EXPECTED_MARGIN', 'PRODUCT_NUMBER': 'GO_SALES_PRODUCT_FORECAST_PRODUCT_NUMBER', 'YEAR_MONTH': 'GO_SALES_PRODUCT_FORECAST_YEAR_MONTH'})\n",
    "\n",
    "all_dataframes.append(sales_product_forecast)\n",
    "\n",
    "sales_product_forecast.head()"
   ],
   "outputs": [
    {
     "data": {
      "text/plain": [
       "   GO_SALES_PRODUCT_FORECAST_PRODUCT_NUMBER  \\\n",
       "0                                        44   \n",
       "1                                        45   \n",
       "2                                        45   \n",
       "3                                        45   \n",
       "4                                        45   \n",
       "\n",
       "   GO_SALES_PRODUCT_FORECAST_EXPECTED_VOLUME  PRODUCT_number  \\\n",
       "0                                        383              44   \n",
       "1                                         80              45   \n",
       "2                                         51              45   \n",
       "3                                        214              45   \n",
       "4                                        300              45   \n",
       "\n",
       "  PRODUCT_INTRODUCTION_DATE_introduced PRODUCT_PRODUCT_TYPE_code  \\\n",
       "0                            10-1-2021                         6   \n",
       "1                            10-1-2021                         6   \n",
       "2                            10-1-2021                         6   \n",
       "3                            10-1-2021                         6   \n",
       "4                            10-1-2021                         6   \n",
       "\n",
       "  PRODUCT_PRODUCTION_COST_cost PRODUCT_MARGIN_margin PRODUCT_image_image  \\\n",
       "0                       231.11                   .33       P44ME2RP6.jpg   \n",
       "1                       383.32                   .33       P44ME2RP6.jpg   \n",
       "2                       383.32                   .33       P44ME2RP6.jpg   \n",
       "3                       383.32                   .33       P44ME2RP6.jpg   \n",
       "4                       383.32                   .33       P44ME2RP6.jpg   \n",
       "\n",
       "  PRODUCT_LANGUAGE_language PRODUCT_name_product  \\\n",
       "0                        EN       Husky Rope 100   \n",
       "1                        EN       Husky Rope 200   \n",
       "2                        EN       Husky Rope 200   \n",
       "3                        EN       Husky Rope 200   \n",
       "4                        EN       Husky Rope 200   \n",
       "\n",
       "                     PRODUCT_description_description TRIAL888_x  \\\n",
       "0  11 mm diameter standard rope. Length: 100 m.  ...          T   \n",
       "1  11 mm diameter standard rope. Length: 200 m.  ...          T   \n",
       "2  11 mm diameter standard rope. Length: 200 m.  ...          T   \n",
       "3  11 mm diameter standard rope. Length: 200 m.  ...          T   \n",
       "4  11 mm diameter standard rope. Length: 200 m.  ...          T   \n",
       "\n",
       "  PRODUCT_PRODUCT_LINE_code PRODUCT_PRODUCT_TYPE_code_en TRIAL888_y  \\\n",
       "0                         2                         Rope          T   \n",
       "1                         2                         Rope          T   \n",
       "2                         2                         Rope          T   \n",
       "3                         2                         Rope          T   \n",
       "4                         2                         Rope          T   \n",
       "\n",
       "  PRODUCT_PRODUCT_LINE_code_en TRIAL888 GO_SALES_PRODUCT_FORECAST_YEAR_MONTH  \n",
       "0     Mountaineering Equipment        T                              2022-12  \n",
       "1     Mountaineering Equipment        T                              2021-01  \n",
       "2     Mountaineering Equipment        T                              2021-02  \n",
       "3     Mountaineering Equipment        T                              2021-03  \n",
       "4     Mountaineering Equipment        T                              2021-04  "
      ],
      "text/html": [
       "<div>\n",
       "<style scoped>\n",
       "    .dataframe tbody tr th:only-of-type {\n",
       "        vertical-align: middle;\n",
       "    }\n",
       "\n",
       "    .dataframe tbody tr th {\n",
       "        vertical-align: top;\n",
       "    }\n",
       "\n",
       "    .dataframe thead th {\n",
       "        text-align: right;\n",
       "    }\n",
       "</style>\n",
       "<table border=\"1\" class=\"dataframe\">\n",
       "  <thead>\n",
       "    <tr style=\"text-align: right;\">\n",
       "      <th></th>\n",
       "      <th>GO_SALES_PRODUCT_FORECAST_PRODUCT_NUMBER</th>\n",
       "      <th>GO_SALES_PRODUCT_FORECAST_EXPECTED_VOLUME</th>\n",
       "      <th>PRODUCT_number</th>\n",
       "      <th>PRODUCT_INTRODUCTION_DATE_introduced</th>\n",
       "      <th>PRODUCT_PRODUCT_TYPE_code</th>\n",
       "      <th>PRODUCT_PRODUCTION_COST_cost</th>\n",
       "      <th>PRODUCT_MARGIN_margin</th>\n",
       "      <th>PRODUCT_image_image</th>\n",
       "      <th>PRODUCT_LANGUAGE_language</th>\n",
       "      <th>PRODUCT_name_product</th>\n",
       "      <th>PRODUCT_description_description</th>\n",
       "      <th>TRIAL888_x</th>\n",
       "      <th>PRODUCT_PRODUCT_LINE_code</th>\n",
       "      <th>PRODUCT_PRODUCT_TYPE_code_en</th>\n",
       "      <th>TRIAL888_y</th>\n",
       "      <th>PRODUCT_PRODUCT_LINE_code_en</th>\n",
       "      <th>TRIAL888</th>\n",
       "      <th>GO_SALES_PRODUCT_FORECAST_YEAR_MONTH</th>\n",
       "    </tr>\n",
       "  </thead>\n",
       "  <tbody>\n",
       "    <tr>\n",
       "      <th>0</th>\n",
       "      <td>44</td>\n",
       "      <td>383</td>\n",
       "      <td>44</td>\n",
       "      <td>10-1-2021</td>\n",
       "      <td>6</td>\n",
       "      <td>231.11</td>\n",
       "      <td>.33</td>\n",
       "      <td>P44ME2RP6.jpg</td>\n",
       "      <td>EN</td>\n",
       "      <td>Husky Rope 100</td>\n",
       "      <td>11 mm diameter standard rope. Length: 100 m.  ...</td>\n",
       "      <td>T</td>\n",
       "      <td>2</td>\n",
       "      <td>Rope</td>\n",
       "      <td>T</td>\n",
       "      <td>Mountaineering Equipment</td>\n",
       "      <td>T</td>\n",
       "      <td>2022-12</td>\n",
       "    </tr>\n",
       "    <tr>\n",
       "      <th>1</th>\n",
       "      <td>45</td>\n",
       "      <td>80</td>\n",
       "      <td>45</td>\n",
       "      <td>10-1-2021</td>\n",
       "      <td>6</td>\n",
       "      <td>383.32</td>\n",
       "      <td>.33</td>\n",
       "      <td>P44ME2RP6.jpg</td>\n",
       "      <td>EN</td>\n",
       "      <td>Husky Rope 200</td>\n",
       "      <td>11 mm diameter standard rope. Length: 200 m.  ...</td>\n",
       "      <td>T</td>\n",
       "      <td>2</td>\n",
       "      <td>Rope</td>\n",
       "      <td>T</td>\n",
       "      <td>Mountaineering Equipment</td>\n",
       "      <td>T</td>\n",
       "      <td>2021-01</td>\n",
       "    </tr>\n",
       "    <tr>\n",
       "      <th>2</th>\n",
       "      <td>45</td>\n",
       "      <td>51</td>\n",
       "      <td>45</td>\n",
       "      <td>10-1-2021</td>\n",
       "      <td>6</td>\n",
       "      <td>383.32</td>\n",
       "      <td>.33</td>\n",
       "      <td>P44ME2RP6.jpg</td>\n",
       "      <td>EN</td>\n",
       "      <td>Husky Rope 200</td>\n",
       "      <td>11 mm diameter standard rope. Length: 200 m.  ...</td>\n",
       "      <td>T</td>\n",
       "      <td>2</td>\n",
       "      <td>Rope</td>\n",
       "      <td>T</td>\n",
       "      <td>Mountaineering Equipment</td>\n",
       "      <td>T</td>\n",
       "      <td>2021-02</td>\n",
       "    </tr>\n",
       "    <tr>\n",
       "      <th>3</th>\n",
       "      <td>45</td>\n",
       "      <td>214</td>\n",
       "      <td>45</td>\n",
       "      <td>10-1-2021</td>\n",
       "      <td>6</td>\n",
       "      <td>383.32</td>\n",
       "      <td>.33</td>\n",
       "      <td>P44ME2RP6.jpg</td>\n",
       "      <td>EN</td>\n",
       "      <td>Husky Rope 200</td>\n",
       "      <td>11 mm diameter standard rope. Length: 200 m.  ...</td>\n",
       "      <td>T</td>\n",
       "      <td>2</td>\n",
       "      <td>Rope</td>\n",
       "      <td>T</td>\n",
       "      <td>Mountaineering Equipment</td>\n",
       "      <td>T</td>\n",
       "      <td>2021-03</td>\n",
       "    </tr>\n",
       "    <tr>\n",
       "      <th>4</th>\n",
       "      <td>45</td>\n",
       "      <td>300</td>\n",
       "      <td>45</td>\n",
       "      <td>10-1-2021</td>\n",
       "      <td>6</td>\n",
       "      <td>383.32</td>\n",
       "      <td>.33</td>\n",
       "      <td>P44ME2RP6.jpg</td>\n",
       "      <td>EN</td>\n",
       "      <td>Husky Rope 200</td>\n",
       "      <td>11 mm diameter standard rope. Length: 200 m.  ...</td>\n",
       "      <td>T</td>\n",
       "      <td>2</td>\n",
       "      <td>Rope</td>\n",
       "      <td>T</td>\n",
       "      <td>Mountaineering Equipment</td>\n",
       "      <td>T</td>\n",
       "      <td>2021-04</td>\n",
       "    </tr>\n",
       "  </tbody>\n",
       "</table>\n",
       "</div>"
      ]
     },
     "execution_count": 30,
     "metadata": {},
     "output_type": "execute_result"
    }
   ],
   "execution_count": 30
  },
  {
   "cell_type": "markdown",
   "id": "bbc4cad433e188d7",
   "metadata": {
    "collapsed": false
   },
   "source": [
    "###  SALES_TARGETData"
   ]
  },
  {
   "cell_type": "code",
   "id": "c2f565e0160b4bc5",
   "metadata": {
    "collapsed": false,
    "ExecuteTime": {
     "end_time": "2024-04-22T13:54:07.336275Z",
     "start_time": "2024-04-22T13:54:07.216712Z"
    }
   },
   "source": [
    "# merge product, retailer and sales_staff\n",
    "product['PRODUCT_number'] = product['PRODUCT_number'].astype('int')\n",
    "\n",
    "go_sales_sales_target_data['PRODUCT_NUMBER'] = go_sales_sales_target_data['PRODUCT_NUMBER'].astype('int')\n",
    "\n",
    "sales_sales_target_data = pd.merge(go_sales_sales_target_data, product, left_on='PRODUCT_NUMBER', right_on='PRODUCT_number', suffixes=('_product', '_retailer'))\n",
    "\n",
    "sales_sales_target_data = pd.merge(sales_sales_target_data, retailer, left_on='RETAILER_CODE', right_on='RETAILER_code', suffixes=('_retailer', '_sales_staff'))\n",
    "\n",
    "# delete the original columns that are replaced by product, retailer and sales_staff\n",
    "sales_sales_target_data = sales_sales_target_data.drop(columns=['PRODUCT_NUMBER', 'RETAILER_CODE', 'RETAILER_name', 'RETAILER_COMPANY_CODE_MR_company', 'RETAILER_RETAILER_TYPE_code', 'RETAILER_RETAILER_TYPE_EN'])\n",
    "\n",
    "sales_target_data = sales_sales_target_data.rename(columns={'SALES_YEAR': 'SALES_TARGETDATA_SALES_YEAR', 'SALES_PERIOD': 'SALES_TARGETDATA_SALES_PERIOD', 'RETAILER_NAME': 'SALES_TARGETDATA_RETAILER_NAME', 'SALES_TARGET': 'SALES_TARGETDATA_SALES_TARGET', 'TARGET_COST': 'SALES_TARGETDATA_TARGET_COST', 'TARGET_MARGIN': 'SALES_TARGETDATA_TARGET_MARGIN', 'SALES_STAFF_CODE': 'SALES_TARGETDATA_SALES_STAFF_CODE', 'PRODUCT_NUMBER': 'SALES_TARGETDATA_PRODUCT_NUMBER', 'RETAILER_CODE': 'SALES_TARGETDATA_RETAILER_CODE'})\n",
    "\n",
    "all_dataframes.append(sales_target_data)\n",
    "\n",
    "sales_target_data.head()"
   ],
   "outputs": [
    {
     "data": {
      "text/plain": [
       "   Id SALES_TARGETDATA_SALES_STAFF_CODE SALES_TARGETDATA_SALES_YEAR  \\\n",
       "0   1                                 6                        2021   \n",
       "1   2                                 6                        2021   \n",
       "2   3                                 6                        2021   \n",
       "3   4                                 6                        2021   \n",
       "4   5                                 6                        2021   \n",
       "\n",
       "  SALES_TARGETDATA_SALES_PERIOD SALES_TARGETDATA_RETAILER_NAME  \\\n",
       "0                             5             Altitudes extrêmes   \n",
       "1                             5             Altitudes extrêmes   \n",
       "2                             5             Altitudes extrêmes   \n",
       "3                             5                Camping Sauvage   \n",
       "4                             5                Camping Sauvage   \n",
       "\n",
       "  SALES_TARGETDATA_SALES_TARGET TRIAL888_product  PRODUCT_number  \\\n",
       "0                           489                T              53   \n",
       "1                           666                T              55   \n",
       "2                           682                T              56   \n",
       "3                          3193                T              76   \n",
       "4                          7236                T              85   \n",
       "\n",
       "  PRODUCT_INTRODUCTION_DATE_introduced PRODUCT_PRODUCT_TYPE_code  ...  \\\n",
       "0                            10-1-2021                         8  ...   \n",
       "1                            10-1-2021                         8  ...   \n",
       "2                            10-1-2021                         8  ...   \n",
       "3                            15-2-2011                        12  ...   \n",
       "4                            12-6-2015                        14  ...   \n",
       "\n",
       "                     PRODUCT_description_description TRIAL888_x  \\\n",
       "0  This climbing lamp is water-resistant. It come...          T   \n",
       "1  Rechargeable battery pack for the Firefly Clim...          T   \n",
       "2  Nylon web bag perfect for holding several stic...          T   \n",
       "3  Knife is 33 cm long with a 20 cm blade made of...          T   \n",
       "4  Hand held GPS receiver with color display. Inc...          T   \n",
       "\n",
       "  PRODUCT_PRODUCT_LINE_code PRODUCT_PRODUCT_TYPE_code_en TRIAL888_y  \\\n",
       "0                         2         Climbing Accessories          T   \n",
       "1                         2         Climbing Accessories          T   \n",
       "2                         2         Climbing Accessories          T   \n",
       "3                         3                       Knives          T   \n",
       "4                         3                   Navigation          T   \n",
       "\n",
       "  PRODUCT_PRODUCT_LINE_code_en TRIAL888_retailer RETAILER_code TRIAL219  \\\n",
       "0     Mountaineering Equipment                 T            33        T   \n",
       "1     Mountaineering Equipment                 T            33        T   \n",
       "2     Mountaineering Equipment                 T            33        T   \n",
       "3         Personal Accessories                 T            35        T   \n",
       "4         Personal Accessories                 T            35        T   \n",
       "\n",
       "  TRIAL222  \n",
       "0        T  \n",
       "1        T  \n",
       "2        T  \n",
       "3        T  \n",
       "4        T  \n",
       "\n",
       "[5 rows x 25 columns]"
      ],
      "text/html": [
       "<div>\n",
       "<style scoped>\n",
       "    .dataframe tbody tr th:only-of-type {\n",
       "        vertical-align: middle;\n",
       "    }\n",
       "\n",
       "    .dataframe tbody tr th {\n",
       "        vertical-align: top;\n",
       "    }\n",
       "\n",
       "    .dataframe thead th {\n",
       "        text-align: right;\n",
       "    }\n",
       "</style>\n",
       "<table border=\"1\" class=\"dataframe\">\n",
       "  <thead>\n",
       "    <tr style=\"text-align: right;\">\n",
       "      <th></th>\n",
       "      <th>Id</th>\n",
       "      <th>SALES_TARGETDATA_SALES_STAFF_CODE</th>\n",
       "      <th>SALES_TARGETDATA_SALES_YEAR</th>\n",
       "      <th>SALES_TARGETDATA_SALES_PERIOD</th>\n",
       "      <th>SALES_TARGETDATA_RETAILER_NAME</th>\n",
       "      <th>SALES_TARGETDATA_SALES_TARGET</th>\n",
       "      <th>TRIAL888_product</th>\n",
       "      <th>PRODUCT_number</th>\n",
       "      <th>PRODUCT_INTRODUCTION_DATE_introduced</th>\n",
       "      <th>PRODUCT_PRODUCT_TYPE_code</th>\n",
       "      <th>...</th>\n",
       "      <th>PRODUCT_description_description</th>\n",
       "      <th>TRIAL888_x</th>\n",
       "      <th>PRODUCT_PRODUCT_LINE_code</th>\n",
       "      <th>PRODUCT_PRODUCT_TYPE_code_en</th>\n",
       "      <th>TRIAL888_y</th>\n",
       "      <th>PRODUCT_PRODUCT_LINE_code_en</th>\n",
       "      <th>TRIAL888_retailer</th>\n",
       "      <th>RETAILER_code</th>\n",
       "      <th>TRIAL219</th>\n",
       "      <th>TRIAL222</th>\n",
       "    </tr>\n",
       "  </thead>\n",
       "  <tbody>\n",
       "    <tr>\n",
       "      <th>0</th>\n",
       "      <td>1</td>\n",
       "      <td>6</td>\n",
       "      <td>2021</td>\n",
       "      <td>5</td>\n",
       "      <td>Altitudes extrêmes</td>\n",
       "      <td>489</td>\n",
       "      <td>T</td>\n",
       "      <td>53</td>\n",
       "      <td>10-1-2021</td>\n",
       "      <td>8</td>\n",
       "      <td>...</td>\n",
       "      <td>This climbing lamp is water-resistant. It come...</td>\n",
       "      <td>T</td>\n",
       "      <td>2</td>\n",
       "      <td>Climbing Accessories</td>\n",
       "      <td>T</td>\n",
       "      <td>Mountaineering Equipment</td>\n",
       "      <td>T</td>\n",
       "      <td>33</td>\n",
       "      <td>T</td>\n",
       "      <td>T</td>\n",
       "    </tr>\n",
       "    <tr>\n",
       "      <th>1</th>\n",
       "      <td>2</td>\n",
       "      <td>6</td>\n",
       "      <td>2021</td>\n",
       "      <td>5</td>\n",
       "      <td>Altitudes extrêmes</td>\n",
       "      <td>666</td>\n",
       "      <td>T</td>\n",
       "      <td>55</td>\n",
       "      <td>10-1-2021</td>\n",
       "      <td>8</td>\n",
       "      <td>...</td>\n",
       "      <td>Rechargeable battery pack for the Firefly Clim...</td>\n",
       "      <td>T</td>\n",
       "      <td>2</td>\n",
       "      <td>Climbing Accessories</td>\n",
       "      <td>T</td>\n",
       "      <td>Mountaineering Equipment</td>\n",
       "      <td>T</td>\n",
       "      <td>33</td>\n",
       "      <td>T</td>\n",
       "      <td>T</td>\n",
       "    </tr>\n",
       "    <tr>\n",
       "      <th>2</th>\n",
       "      <td>3</td>\n",
       "      <td>6</td>\n",
       "      <td>2021</td>\n",
       "      <td>5</td>\n",
       "      <td>Altitudes extrêmes</td>\n",
       "      <td>682</td>\n",
       "      <td>T</td>\n",
       "      <td>56</td>\n",
       "      <td>10-1-2021</td>\n",
       "      <td>8</td>\n",
       "      <td>...</td>\n",
       "      <td>Nylon web bag perfect for holding several stic...</td>\n",
       "      <td>T</td>\n",
       "      <td>2</td>\n",
       "      <td>Climbing Accessories</td>\n",
       "      <td>T</td>\n",
       "      <td>Mountaineering Equipment</td>\n",
       "      <td>T</td>\n",
       "      <td>33</td>\n",
       "      <td>T</td>\n",
       "      <td>T</td>\n",
       "    </tr>\n",
       "    <tr>\n",
       "      <th>3</th>\n",
       "      <td>4</td>\n",
       "      <td>6</td>\n",
       "      <td>2021</td>\n",
       "      <td>5</td>\n",
       "      <td>Camping Sauvage</td>\n",
       "      <td>3193</td>\n",
       "      <td>T</td>\n",
       "      <td>76</td>\n",
       "      <td>15-2-2011</td>\n",
       "      <td>12</td>\n",
       "      <td>...</td>\n",
       "      <td>Knife is 33 cm long with a 20 cm blade made of...</td>\n",
       "      <td>T</td>\n",
       "      <td>3</td>\n",
       "      <td>Knives</td>\n",
       "      <td>T</td>\n",
       "      <td>Personal Accessories</td>\n",
       "      <td>T</td>\n",
       "      <td>35</td>\n",
       "      <td>T</td>\n",
       "      <td>T</td>\n",
       "    </tr>\n",
       "    <tr>\n",
       "      <th>4</th>\n",
       "      <td>5</td>\n",
       "      <td>6</td>\n",
       "      <td>2021</td>\n",
       "      <td>5</td>\n",
       "      <td>Camping Sauvage</td>\n",
       "      <td>7236</td>\n",
       "      <td>T</td>\n",
       "      <td>85</td>\n",
       "      <td>12-6-2015</td>\n",
       "      <td>14</td>\n",
       "      <td>...</td>\n",
       "      <td>Hand held GPS receiver with color display. Inc...</td>\n",
       "      <td>T</td>\n",
       "      <td>3</td>\n",
       "      <td>Navigation</td>\n",
       "      <td>T</td>\n",
       "      <td>Personal Accessories</td>\n",
       "      <td>T</td>\n",
       "      <td>35</td>\n",
       "      <td>T</td>\n",
       "      <td>T</td>\n",
       "    </tr>\n",
       "  </tbody>\n",
       "</table>\n",
       "<p>5 rows × 25 columns</p>\n",
       "</div>"
      ]
     },
     "execution_count": 31,
     "metadata": {},
     "output_type": "execute_result"
    }
   ],
   "execution_count": 31
  },
  {
   "cell_type": "markdown",
   "id": "d2c2a7365aa32f1",
   "metadata": {
    "collapsed": false
   },
   "source": [
    "### Retailer_segment"
   ]
  },
  {
   "cell_type": "code",
   "id": "d3a3794aa2bcf7c2",
   "metadata": {
    "collapsed": false,
    "ExecuteTime": {
     "end_time": "2024-04-22T13:54:07.347512Z",
     "start_time": "2024-04-22T13:54:07.337294Z"
    }
   },
   "source": [
    "retailer_segment = go_crm_retailer_segment\n",
    "\n",
    "# rename the columns\n",
    "retailer_segment = retailer_segment.rename(columns={'SEGMENT_CODE': 'RETAILER_SEGMENT_segment_code', 'LANGUAGE': 'RETAILER_SEGMENT_language', 'SEGMENT_NAME': 'RETAILER_SEGMENT_segment_name', 'SEGMENT_DESCRIPTION': 'RETAILER_SEGMENT_SEGMENT_DESCRIPTION_description'})\n",
    "\n",
    "all_dataframes.append(retailer_segment)\n",
    "\n",
    "retailer_segment.head()"
   ],
   "outputs": [
    {
     "data": {
      "text/plain": [
       "  RETAILER_SEGMENT_segment_code RETAILER_SEGMENT_language  \\\n",
       "0                             1                        EN   \n",
       "1                            10                        EN   \n",
       "2                            11                        EN   \n",
       "3                            12                        EN   \n",
       "4                             2                        EN   \n",
       "\n",
       "  RETAILER_SEGMENT_segment_name  \\\n",
       "0     Outdoors Shop - Exclusive   \n",
       "1                 Eyewear Store   \n",
       "2      Sports Store - Exclusive   \n",
       "3                  Sports Store   \n",
       "4                 Outdoors Shop   \n",
       "\n",
       "    RETAILER_SEGMENT_SEGMENT_DESCRIPTION_description TRIAL222  \n",
       "0  Primarily offers camping supplies, hiking equi...        T  \n",
       "1  Primarily offers prescription and fashion eyew...        T  \n",
       "2  Primarily offers a wide range of sporting good...        T  \n",
       "3   Primarily offers a wide range of sporting goods.        T  \n",
       "4  Primarily offers camping supplies, hiking equi...        T  "
      ],
      "text/html": [
       "<div>\n",
       "<style scoped>\n",
       "    .dataframe tbody tr th:only-of-type {\n",
       "        vertical-align: middle;\n",
       "    }\n",
       "\n",
       "    .dataframe tbody tr th {\n",
       "        vertical-align: top;\n",
       "    }\n",
       "\n",
       "    .dataframe thead th {\n",
       "        text-align: right;\n",
       "    }\n",
       "</style>\n",
       "<table border=\"1\" class=\"dataframe\">\n",
       "  <thead>\n",
       "    <tr style=\"text-align: right;\">\n",
       "      <th></th>\n",
       "      <th>RETAILER_SEGMENT_segment_code</th>\n",
       "      <th>RETAILER_SEGMENT_language</th>\n",
       "      <th>RETAILER_SEGMENT_segment_name</th>\n",
       "      <th>RETAILER_SEGMENT_SEGMENT_DESCRIPTION_description</th>\n",
       "      <th>TRIAL222</th>\n",
       "    </tr>\n",
       "  </thead>\n",
       "  <tbody>\n",
       "    <tr>\n",
       "      <th>0</th>\n",
       "      <td>1</td>\n",
       "      <td>EN</td>\n",
       "      <td>Outdoors Shop - Exclusive</td>\n",
       "      <td>Primarily offers camping supplies, hiking equi...</td>\n",
       "      <td>T</td>\n",
       "    </tr>\n",
       "    <tr>\n",
       "      <th>1</th>\n",
       "      <td>10</td>\n",
       "      <td>EN</td>\n",
       "      <td>Eyewear Store</td>\n",
       "      <td>Primarily offers prescription and fashion eyew...</td>\n",
       "      <td>T</td>\n",
       "    </tr>\n",
       "    <tr>\n",
       "      <th>2</th>\n",
       "      <td>11</td>\n",
       "      <td>EN</td>\n",
       "      <td>Sports Store - Exclusive</td>\n",
       "      <td>Primarily offers a wide range of sporting good...</td>\n",
       "      <td>T</td>\n",
       "    </tr>\n",
       "    <tr>\n",
       "      <th>3</th>\n",
       "      <td>12</td>\n",
       "      <td>EN</td>\n",
       "      <td>Sports Store</td>\n",
       "      <td>Primarily offers a wide range of sporting goods.</td>\n",
       "      <td>T</td>\n",
       "    </tr>\n",
       "    <tr>\n",
       "      <th>4</th>\n",
       "      <td>2</td>\n",
       "      <td>EN</td>\n",
       "      <td>Outdoors Shop</td>\n",
       "      <td>Primarily offers camping supplies, hiking equi...</td>\n",
       "      <td>T</td>\n",
       "    </tr>\n",
       "  </tbody>\n",
       "</table>\n",
       "</div>"
      ]
     },
     "execution_count": 32,
     "metadata": {},
     "output_type": "execute_result"
    }
   ],
   "execution_count": 32
  },
  {
   "cell_type": "markdown",
   "id": "ccfc75e23ec0cf14",
   "metadata": {
    "collapsed": false
   },
   "source": [
    "### Retailer_headquarters"
   ]
  },
  {
   "cell_type": "code",
   "id": "50382ae176ba25e",
   "metadata": {
    "collapsed": false,
    "ExecuteTime": {
     "end_time": "2024-04-22T13:54:07.865478Z",
     "start_time": "2024-04-22T13:54:07.844933Z"
    }
   },
   "source": [
    "retailer_headquarters = go_crm_retailer_headquarters\n",
    "\n",
    "# rename the columns\n",
    "retailer_headquarters = retailer_headquarters.rename(columns={'RETAILER_CODEMR': 'RETAILER_HEADQUARTER_codemr', 'RETAILER_NAME' : 'RETAIL_HEADQUARTER_retailer_name', 'ADDRESS1' : 'RETAILER_HEADQUARTER_address1_address', 'ADDRESS2' : 'RETAILER_HEADQUARTER_address2_address', 'CITY' : 'RETAILER_HEADQUARTER_city_city', 'REGION' : 'RETAILER_HEADQUARTER_region_region', 'POSTAL_ZONE' : 'RETAILER_HEADQUARTER_postal_zone_postal_zone', 'COUNTRY_CODE' : 'RETAILER_HEADQUARTER_country_code_country', 'PHONE' : 'RETAILER_HEADQUARTER_phone_phone', 'FAX': 'RETAILER_HEADQUARTER_fax_fax', 'SEGMENT_CODE' : 'RETAILER_HEADQUARTER_segment_code'})\n",
    "\n",
    "all_dataframes.append(retailer_headquarters)\n",
    "\n",
    "retailer_headquarters.head()"
   ],
   "outputs": [
    {
     "data": {
      "text/plain": [
       "  RETAILER_HEADQUARTER_codemr RETAIL_HEADQUARTER_retailer_name  \\\n",
       "0                           1                      Rock Steady   \n",
       "1                          10           Excellence en Montagne   \n",
       "2                          11                 Vacation Central   \n",
       "3                          12              Outdoor Central Ltd   \n",
       "4                          13              Precipice Equipment   \n",
       "\n",
       "  RETAILER_HEADQUARTER_address1_address RETAILER_HEADQUARTER_address2_address  \\\n",
       "0                       45, rue Atwater                                  None   \n",
       "1                     160, rue Moureaux                            Bureau 410   \n",
       "2                3000, 58 Merivale Road                                  None   \n",
       "3         Suite 23, 180 McKercher Drive                                  None   \n",
       "4                      23 Blackcomb Way                                  None   \n",
       "\n",
       "  RETAILER_HEADQUARTER_city_city RETAILER_HEADQUARTER_region_region  \\\n",
       "0                       Montréal                             Québec   \n",
       "1                Ville de Québec                             Québec   \n",
       "2                         Ottawa                            Ontario   \n",
       "3                         Regina                       Saskatchewan   \n",
       "4                       Whistler                   British Columbia   \n",
       "\n",
       "  RETAILER_HEADQUARTER_postal_zone_postal_zone  \\\n",
       "0                                      H2T 9K8   \n",
       "1                                      G1B 3L5   \n",
       "2                                      K0T 9R0   \n",
       "3                                      S6J 3G0   \n",
       "4                                      V6T 1Y8   \n",
       "\n",
       "  RETAILER_HEADQUARTER_country_code_country RETAILER_HEADQUARTER_phone_phone  \\\n",
       "0                                         4                 1 (514) 747-4481   \n",
       "1                                         4                 1 (418) 653-6456   \n",
       "2                                         4                 1 (613) 736-6443   \n",
       "3                                         4                 1 (306) 243-8764   \n",
       "4                                         4                 1 (604) 938-7564   \n",
       "\n",
       "  RETAILER_HEADQUARTER_fax_fax RETAILER_HEADQUARTER_segment_code TRIAL222  \n",
       "0             1 (514) 741-2277                                 2        T  \n",
       "1             1 (418) 653-2311                                 2        T  \n",
       "2             1 (613) 736-5593                                 6        T  \n",
       "3             1 (306) 243-5213                                 2        T  \n",
       "4             1 (604) 938-2324                                 1        T  "
      ],
      "text/html": [
       "<div>\n",
       "<style scoped>\n",
       "    .dataframe tbody tr th:only-of-type {\n",
       "        vertical-align: middle;\n",
       "    }\n",
       "\n",
       "    .dataframe tbody tr th {\n",
       "        vertical-align: top;\n",
       "    }\n",
       "\n",
       "    .dataframe thead th {\n",
       "        text-align: right;\n",
       "    }\n",
       "</style>\n",
       "<table border=\"1\" class=\"dataframe\">\n",
       "  <thead>\n",
       "    <tr style=\"text-align: right;\">\n",
       "      <th></th>\n",
       "      <th>RETAILER_HEADQUARTER_codemr</th>\n",
       "      <th>RETAIL_HEADQUARTER_retailer_name</th>\n",
       "      <th>RETAILER_HEADQUARTER_address1_address</th>\n",
       "      <th>RETAILER_HEADQUARTER_address2_address</th>\n",
       "      <th>RETAILER_HEADQUARTER_city_city</th>\n",
       "      <th>RETAILER_HEADQUARTER_region_region</th>\n",
       "      <th>RETAILER_HEADQUARTER_postal_zone_postal_zone</th>\n",
       "      <th>RETAILER_HEADQUARTER_country_code_country</th>\n",
       "      <th>RETAILER_HEADQUARTER_phone_phone</th>\n",
       "      <th>RETAILER_HEADQUARTER_fax_fax</th>\n",
       "      <th>RETAILER_HEADQUARTER_segment_code</th>\n",
       "      <th>TRIAL222</th>\n",
       "    </tr>\n",
       "  </thead>\n",
       "  <tbody>\n",
       "    <tr>\n",
       "      <th>0</th>\n",
       "      <td>1</td>\n",
       "      <td>Rock Steady</td>\n",
       "      <td>45, rue Atwater</td>\n",
       "      <td>None</td>\n",
       "      <td>Montréal</td>\n",
       "      <td>Québec</td>\n",
       "      <td>H2T 9K8</td>\n",
       "      <td>4</td>\n",
       "      <td>1 (514) 747-4481</td>\n",
       "      <td>1 (514) 741-2277</td>\n",
       "      <td>2</td>\n",
       "      <td>T</td>\n",
       "    </tr>\n",
       "    <tr>\n",
       "      <th>1</th>\n",
       "      <td>10</td>\n",
       "      <td>Excellence en Montagne</td>\n",
       "      <td>160, rue Moureaux</td>\n",
       "      <td>Bureau 410</td>\n",
       "      <td>Ville de Québec</td>\n",
       "      <td>Québec</td>\n",
       "      <td>G1B 3L5</td>\n",
       "      <td>4</td>\n",
       "      <td>1 (418) 653-6456</td>\n",
       "      <td>1 (418) 653-2311</td>\n",
       "      <td>2</td>\n",
       "      <td>T</td>\n",
       "    </tr>\n",
       "    <tr>\n",
       "      <th>2</th>\n",
       "      <td>11</td>\n",
       "      <td>Vacation Central</td>\n",
       "      <td>3000, 58 Merivale Road</td>\n",
       "      <td>None</td>\n",
       "      <td>Ottawa</td>\n",
       "      <td>Ontario</td>\n",
       "      <td>K0T 9R0</td>\n",
       "      <td>4</td>\n",
       "      <td>1 (613) 736-6443</td>\n",
       "      <td>1 (613) 736-5593</td>\n",
       "      <td>6</td>\n",
       "      <td>T</td>\n",
       "    </tr>\n",
       "    <tr>\n",
       "      <th>3</th>\n",
       "      <td>12</td>\n",
       "      <td>Outdoor Central Ltd</td>\n",
       "      <td>Suite 23, 180 McKercher Drive</td>\n",
       "      <td>None</td>\n",
       "      <td>Regina</td>\n",
       "      <td>Saskatchewan</td>\n",
       "      <td>S6J 3G0</td>\n",
       "      <td>4</td>\n",
       "      <td>1 (306) 243-8764</td>\n",
       "      <td>1 (306) 243-5213</td>\n",
       "      <td>2</td>\n",
       "      <td>T</td>\n",
       "    </tr>\n",
       "    <tr>\n",
       "      <th>4</th>\n",
       "      <td>13</td>\n",
       "      <td>Precipice Equipment</td>\n",
       "      <td>23 Blackcomb Way</td>\n",
       "      <td>None</td>\n",
       "      <td>Whistler</td>\n",
       "      <td>British Columbia</td>\n",
       "      <td>V6T 1Y8</td>\n",
       "      <td>4</td>\n",
       "      <td>1 (604) 938-7564</td>\n",
       "      <td>1 (604) 938-2324</td>\n",
       "      <td>1</td>\n",
       "      <td>T</td>\n",
       "    </tr>\n",
       "  </tbody>\n",
       "</table>\n",
       "</div>"
      ]
     },
     "execution_count": 33,
     "metadata": {},
     "output_type": "execute_result"
    }
   ],
   "execution_count": 33
  },
  {
   "cell_type": "markdown",
   "id": "fd9a082ad3509fe3",
   "metadata": {
    "collapsed": false
   },
   "source": [
    "### Verwijderen trial kolommen"
   ]
  },
  {
   "cell_type": "code",
   "id": "432bdbbc870f71f6",
   "metadata": {
    "collapsed": false,
    "ExecuteTime": {
     "end_time": "2024-04-22T13:54:08.807236Z",
     "start_time": "2024-04-22T13:54:08.684177Z"
    }
   },
   "source": [
    "for df in all_dataframes:\n",
    "    trial_columns = df.filter(like='TRIAL').columns\n",
    "    df.drop(columns=trial_columns, inplace=True)"
   ],
   "outputs": [],
   "execution_count": 34
  },
  {
   "cell_type": "markdown",
   "id": "2ab8ad37ba912768",
   "metadata": {
    "collapsed": false
   },
   "source": [
    "# Omzetten van de data\n",
    "Omzetten van de data naar de juiste data types.\n",
    "Year en Date zijn al omgezet naar de juiste data types."
   ]
  },
  {
   "metadata": {},
   "cell_type": "markdown",
   "source": "### Sales_demographic",
   "id": "e4ec48e53b4702bd"
  },
  {
   "metadata": {
    "ExecuteTime": {
     "end_time": "2024-04-22T13:54:09.320008Z",
     "start_time": "2024-04-22T13:54:09.301150Z"
    }
   },
   "cell_type": "code",
   "source": [
    "sales_demographic['SALES_DEMOGRAPHIC_code'] = sales_demographic['SALES_DEMOGRAPHIC_code'].astype('int')\n",
    "sales_demographic['SALES_DEMOGRAPHIC_AGE_GROUP_CODE'] = sales_demographic['SALES_DEMOGRAPHIC_AGE_GROUP_CODE'].astype('int')\n",
    "sales_demographic['SALES_DEMOGRAPHIC_RETAILER_CODE'] = sales_demographic['SALES_DEMOGRAPHIC_RETAILER_CODE'].astype('int')\n",
    "sales_demographic['SALES_DEMOGRAPHIC_SALES_PERCENT'] = sales_demographic['SALES_DEMOGRAPHIC_SALES_PERCENT'].astype('int')\n",
    "sales_demographic['SALES_DEMOGRAPHIC_UPPER_AGE'] = sales_demographic['SALES_DEMOGRAPHIC_UPPER_AGE'].astype('int')\n",
    "sales_demographic['SALES_DEMOGRAPHIC_LOWER_AGE'] = sales_demographic['SALES_DEMOGRAPHIC_LOWER_AGE'].astype('int')\n",
    "\n",
    "sales_demographic.dtypes"
   ],
   "id": "2a6a2bc33a5c2da1",
   "outputs": [
    {
     "data": {
      "text/plain": [
       "SALES_DEMOGRAPHIC_code              int32\n",
       "SALES_DEMOGRAPHIC_RETAILER_CODE     int32\n",
       "SALES_DEMOGRAPHIC_AGE_GROUP_CODE    int32\n",
       "SALES_DEMOGRAPHIC_SALES_PERCENT     int32\n",
       "SALES_DEMOGRAPHIC_UPPER_AGE         int32\n",
       "SALES_DEMOGRAPHIC_LOWER_AGE         int32\n",
       "dtype: object"
      ]
     },
     "execution_count": 35,
     "metadata": {},
     "output_type": "execute_result"
    }
   ],
   "execution_count": 35
  },
  {
   "cell_type": "markdown",
   "id": "181c7a93b12d1970",
   "metadata": {
    "collapsed": false
   },
   "source": [
    "### Unit"
   ]
  },
  {
   "cell_type": "code",
   "id": "cacf55cc4c604fca",
   "metadata": {
    "collapsed": false,
    "ExecuteTime": {
     "end_time": "2024-04-22T13:54:09.634372Z",
     "start_time": "2024-04-22T13:54:09.575823Z"
    }
   },
   "source": [
    "unit['UNIT_COST_cost'] = unit['UNIT_COST_cost'].astype('float64')\n",
    "unit['UNIT_PRICE_price'] = unit['UNIT_PRICE_price'].astype('float64')\n",
    "unit['UNIT_SALE_sale'] = unit['UNIT_SALE_sale'].astype('float64')\n",
    "\n",
    "unit.dtypes"
   ],
   "outputs": [
    {
     "data": {
      "text/plain": [
       "UNIT_COST_cost       float64\n",
       "UNIT_PRICE_price     float64\n",
       "UNIT_SALE_sale       float64\n",
       "UNIT_id                int64\n",
       "ORDER_DETAIL_CODE     object\n",
       "dtype: object"
      ]
     },
     "execution_count": 36,
     "metadata": {},
     "output_type": "execute_result"
    }
   ],
   "execution_count": 36
  },
  {
   "cell_type": "markdown",
   "id": "3216e80489a1934d",
   "metadata": {
    "collapsed": false
   },
   "source": [
    "### Sales_staff"
   ]
  },
  {
   "cell_type": "code",
   "id": "a14e6f5e5ef63d79",
   "metadata": {
    "collapsed": false,
    "ExecuteTime": {
     "end_time": "2024-04-22T13:54:10.314810Z",
     "start_time": "2024-04-22T13:54:10.268238Z"
    }
   },
   "source": [
    "sales_staff['SALES_STAFF_code'] = sales_staff['SALES_STAFF_code'].astype('int')\n",
    "sales_staff['SALES_STAFF_email'] = sales_staff['SALES_STAFF_email'].astype('string').replace({np.nan: None})\n",
    "sales_staff['SALES_STAFF_extension'] = sales_staff['SALES_STAFF_extension'].astype('string').replace({np.nan: None})\n",
    "\n",
    "sales_staff['SALES_STAFF_POSITION_EN_position'] = sales_staff['SALES_STAFF_POSITION_EN_position'].astype('string').replace({np.nan: None})\n",
    "sales_staff['SALES_STAFF_WORK_PHONE_work_phone'] = sales_staff['SALES_STAFF_WORK_PHONE_work_phone'].astype('string').replace({np.nan: None})\n",
    "sales_staff['SALES_STAFF_DATE_HIRED_hired'] = pd.to_datetime(sales_staff['SALES_STAFF_DATE_HIRED_hired'], format='mixed')\n",
    "sales_staff['SALES_STAFF_MANAGER_CODE_manager'] = sales_staff['SALES_STAFF_MANAGER_CODE_manager'].astype('int64')\n",
    "sales_staff['SALES_STAFF_FAX'] = sales_staff['SALES_STAFF_FAX'].astype('string').replace({np.nan: None})\n",
    "sales_staff['SALES_STAFF_FIRST_NAME_first_name'] = sales_staff['SALES_STAFF_FIRST_NAME_first_name'].astype('string').replace({np.nan: None})\n",
    "sales_staff['SALES_STAFF_LAST_NAME_last_name'] = sales_staff['SALES_STAFF_LAST_NAME_last_name'].astype('string').replace({np.nan: None})\n",
    "sales_staff['SALES_STAFF_SALES_BRANCH_CODE_branch_code'] = sales_staff['SALES_STAFF_SALES_BRANCH_CODE_branch_code'].astype('int64')\n",
    "sales_staff['SALES_STAFF_SALES_BRANCH_ADDRESS1_address'] = sales_staff['SALES_STAFF_SALES_BRANCH_ADDRESS1_address'].astype('string').replace({np.nan: None})\n",
    "sales_staff['SALES_STAFF_SALES_BRANCH_ADDRESS2_address'] = sales_staff['SALES_STAFF_SALES_BRANCH_ADDRESS2_address'].astype('string').replace({np.nan: None})\n",
    "\n",
    "\n",
    "sales_staff.head()"
   ],
   "outputs": [
    {
     "data": {
      "text/plain": [
       "   SALES_STAFF_code        SALES_STAFF_email SALES_STAFF_extension  \\\n",
       "0               100  TSavolainen@grtd123.com                   825   \n",
       "1               101         CKim@grtd123.com                  1228   \n",
       "2               102        JChoi@grtd123.com                  2641   \n",
       "3               103        KKwao@grtd123.com                  1541   \n",
       "4               104         CFon@grtd123.com                  2311   \n",
       "\n",
       "  SALES_STAFF_POSITION_EN_position SALES_STAFF_WORK_PHONE_work_phone  \\\n",
       "0     Level 2 Sales Representative               +358(0)17 - 433 127   \n",
       "1     Level 2 Sales Representative                     82-2-778-6587   \n",
       "2     Level 3 Sales Representative                     82-2-778-6587   \n",
       "3     Level 2 Sales Representative                   886-2-2975-1988   \n",
       "4     Level 3 Sales Representative                   886-2-2975-1988   \n",
       "\n",
       "  SALES_STAFF_DATE_HIRED_hired  SALES_STAFF_MANAGER_CODE_manager  \\\n",
       "0                   1998-07-23                                18   \n",
       "1                   1998-12-15                                87   \n",
       "2                   1998-11-27                                87   \n",
       "3                   1998-10-07                                87   \n",
       "4                   1996-05-08                                87   \n",
       "\n",
       "       SALES_STAFF_FAX SALES_STAFF_FIRST_NAME_first_name  \\\n",
       "0  +358(0)17 - 433 129                            Tuomas   \n",
       "1        82-2-778-6586                          Chang-ho   \n",
       "2        82-2-778-6586                           Jung-ho   \n",
       "3      886-2-2989-4978                         Kwei-Ping   \n",
       "4      886-2-2989-4978                         Chin-Tsai   \n",
       "\n",
       "  SALES_STAFF_LAST_NAME_last_name SALES_STAFF_SALES_BRANCH_ADDRESS1_address  \\\n",
       "0                      Savolainen                             Kauppakatu 33   \n",
       "1                             Kim                     234-12, Kongdeok-Dong   \n",
       "2                            Choi                     234-12, Kongdeok-Dong   \n",
       "3                             Kao              154, Choung-Cheng South Road   \n",
       "4                            Fang              154, Choung-Cheng South Road   \n",
       "\n",
       "  SALES_STAFF_SALES_BRANCH_ADDRESS2_address  \\\n",
       "0                                      None   \n",
       "1                                   Mapo-Ku   \n",
       "2                                   Mapo-Ku   \n",
       "3                                      None   \n",
       "4                                      None   \n",
       "\n",
       "   SALES_STAFF_SALES_BRANCH_CODE_branch_code  \n",
       "0                                         31  \n",
       "1                                         32  \n",
       "2                                         32  \n",
       "3                                         33  \n",
       "4                                         33  "
      ],
      "text/html": [
       "<div>\n",
       "<style scoped>\n",
       "    .dataframe tbody tr th:only-of-type {\n",
       "        vertical-align: middle;\n",
       "    }\n",
       "\n",
       "    .dataframe tbody tr th {\n",
       "        vertical-align: top;\n",
       "    }\n",
       "\n",
       "    .dataframe thead th {\n",
       "        text-align: right;\n",
       "    }\n",
       "</style>\n",
       "<table border=\"1\" class=\"dataframe\">\n",
       "  <thead>\n",
       "    <tr style=\"text-align: right;\">\n",
       "      <th></th>\n",
       "      <th>SALES_STAFF_code</th>\n",
       "      <th>SALES_STAFF_email</th>\n",
       "      <th>SALES_STAFF_extension</th>\n",
       "      <th>SALES_STAFF_POSITION_EN_position</th>\n",
       "      <th>SALES_STAFF_WORK_PHONE_work_phone</th>\n",
       "      <th>SALES_STAFF_DATE_HIRED_hired</th>\n",
       "      <th>SALES_STAFF_MANAGER_CODE_manager</th>\n",
       "      <th>SALES_STAFF_FAX</th>\n",
       "      <th>SALES_STAFF_FIRST_NAME_first_name</th>\n",
       "      <th>SALES_STAFF_LAST_NAME_last_name</th>\n",
       "      <th>SALES_STAFF_SALES_BRANCH_ADDRESS1_address</th>\n",
       "      <th>SALES_STAFF_SALES_BRANCH_ADDRESS2_address</th>\n",
       "      <th>SALES_STAFF_SALES_BRANCH_CODE_branch_code</th>\n",
       "    </tr>\n",
       "  </thead>\n",
       "  <tbody>\n",
       "    <tr>\n",
       "      <th>0</th>\n",
       "      <td>100</td>\n",
       "      <td>TSavolainen@grtd123.com</td>\n",
       "      <td>825</td>\n",
       "      <td>Level 2 Sales Representative</td>\n",
       "      <td>+358(0)17 - 433 127</td>\n",
       "      <td>1998-07-23</td>\n",
       "      <td>18</td>\n",
       "      <td>+358(0)17 - 433 129</td>\n",
       "      <td>Tuomas</td>\n",
       "      <td>Savolainen</td>\n",
       "      <td>Kauppakatu 33</td>\n",
       "      <td>None</td>\n",
       "      <td>31</td>\n",
       "    </tr>\n",
       "    <tr>\n",
       "      <th>1</th>\n",
       "      <td>101</td>\n",
       "      <td>CKim@grtd123.com</td>\n",
       "      <td>1228</td>\n",
       "      <td>Level 2 Sales Representative</td>\n",
       "      <td>82-2-778-6587</td>\n",
       "      <td>1998-12-15</td>\n",
       "      <td>87</td>\n",
       "      <td>82-2-778-6586</td>\n",
       "      <td>Chang-ho</td>\n",
       "      <td>Kim</td>\n",
       "      <td>234-12, Kongdeok-Dong</td>\n",
       "      <td>Mapo-Ku</td>\n",
       "      <td>32</td>\n",
       "    </tr>\n",
       "    <tr>\n",
       "      <th>2</th>\n",
       "      <td>102</td>\n",
       "      <td>JChoi@grtd123.com</td>\n",
       "      <td>2641</td>\n",
       "      <td>Level 3 Sales Representative</td>\n",
       "      <td>82-2-778-6587</td>\n",
       "      <td>1998-11-27</td>\n",
       "      <td>87</td>\n",
       "      <td>82-2-778-6586</td>\n",
       "      <td>Jung-ho</td>\n",
       "      <td>Choi</td>\n",
       "      <td>234-12, Kongdeok-Dong</td>\n",
       "      <td>Mapo-Ku</td>\n",
       "      <td>32</td>\n",
       "    </tr>\n",
       "    <tr>\n",
       "      <th>3</th>\n",
       "      <td>103</td>\n",
       "      <td>KKwao@grtd123.com</td>\n",
       "      <td>1541</td>\n",
       "      <td>Level 2 Sales Representative</td>\n",
       "      <td>886-2-2975-1988</td>\n",
       "      <td>1998-10-07</td>\n",
       "      <td>87</td>\n",
       "      <td>886-2-2989-4978</td>\n",
       "      <td>Kwei-Ping</td>\n",
       "      <td>Kao</td>\n",
       "      <td>154, Choung-Cheng South Road</td>\n",
       "      <td>None</td>\n",
       "      <td>33</td>\n",
       "    </tr>\n",
       "    <tr>\n",
       "      <th>4</th>\n",
       "      <td>104</td>\n",
       "      <td>CFon@grtd123.com</td>\n",
       "      <td>2311</td>\n",
       "      <td>Level 3 Sales Representative</td>\n",
       "      <td>886-2-2975-1988</td>\n",
       "      <td>1996-05-08</td>\n",
       "      <td>87</td>\n",
       "      <td>886-2-2989-4978</td>\n",
       "      <td>Chin-Tsai</td>\n",
       "      <td>Fang</td>\n",
       "      <td>154, Choung-Cheng South Road</td>\n",
       "      <td>None</td>\n",
       "      <td>33</td>\n",
       "    </tr>\n",
       "  </tbody>\n",
       "</table>\n",
       "</div>"
      ]
     },
     "execution_count": 37,
     "metadata": {},
     "output_type": "execute_result"
    }
   ],
   "execution_count": 37
  },
  {
   "cell_type": "markdown",
   "id": "e8785e20dcda4096",
   "metadata": {
    "collapsed": false
   },
   "source": [
    "### satisfaction_type"
   ]
  },
  {
   "cell_type": "code",
   "id": "cf0c499ca44d0f2c",
   "metadata": {
    "collapsed": false,
    "ExecuteTime": {
     "end_time": "2024-04-22T13:54:10.689928Z",
     "start_time": "2024-04-22T13:54:10.684073Z"
    }
   },
   "source": [
    "satisfaction_type['SATISFACTION_TYPE_code'] = satisfaction_type['SATISFACTION_TYPE_code'].astype('int')\n",
    "satisfaction_type['SATISFACTION_TYPE_DESCRIPTION'] = satisfaction_type['SATISFACTION_TYPE_DESCRIPTION'].astype('string').replace({np.nan: None})\n",
    "\n",
    "satisfaction_type.dtypes"
   ],
   "outputs": [
    {
     "data": {
      "text/plain": [
       "SATISFACTION_TYPE_code                    int32\n",
       "SATISFACTION_TYPE_DESCRIPTION    string[python]\n",
       "dtype: object"
      ]
     },
     "execution_count": 38,
     "metadata": {},
     "output_type": "execute_result"
    }
   ],
   "execution_count": 38
  },
  {
   "cell_type": "markdown",
   "id": "22c6073850c706a6",
   "metadata": {
    "collapsed": false
   },
   "source": [
    "### Course"
   ]
  },
  {
   "cell_type": "code",
   "id": "ba071c23927ffde6",
   "metadata": {
    "collapsed": false,
    "ExecuteTime": {
     "end_time": "2024-04-22T13:54:10.896698Z",
     "start_time": "2024-04-22T13:54:10.889442Z"
    }
   },
   "source": [
    "course['COURSE_code'] = course['COURSE_code'].astype('int')\n",
    "course['COURSE_DESCRIPTION'] = course['COURSE_DESCRIPTION'].astype('string').replace({np.nan: None})\n",
    "\n",
    "course.dtypes"
   ],
   "outputs": [
    {
     "data": {
      "text/plain": [
       "COURSE_code                    int32\n",
       "COURSE_DESCRIPTION    string[python]\n",
       "dtype: object"
      ]
     },
     "execution_count": 39,
     "metadata": {},
     "output_type": "execute_result"
    }
   ],
   "execution_count": 39
  },
  {
   "cell_type": "markdown",
   "id": "dba98d048459e640",
   "metadata": {
    "collapsed": false
   },
   "source": [
    "### Order"
   ]
  },
  {
   "cell_type": "code",
   "id": "3e0fbcf814cc704",
   "metadata": {
    "collapsed": false,
    "ExecuteTime": {
     "end_time": "2024-04-22T13:54:11.067507Z",
     "start_time": "2024-04-22T13:54:11.057695Z"
    }
   },
   "source": [
    "order['ORDER_ORDER_METHOD_CODE_method_code'] = order['ORDER_ORDER_METHOD_CODE_method_code'].astype('int')\n",
    "order['ORDER_order_number'] = order['ORDER_order_number'].astype('int')\n",
    "order['ORDER_ORDER_METHOD_EN_method'] = order['ORDER_ORDER_METHOD_EN_method'].astype('string').replace({np.nan: None})\n",
    "\n",
    "order.dtypes"
   ],
   "outputs": [
    {
     "data": {
      "text/plain": [
       "ORDER_ORDER_METHOD_CODE_method_code             int32\n",
       "ORDER_order_number                              int32\n",
       "ORDER_ORDER_METHOD_EN_method           string[python]\n",
       "dtype: object"
      ]
     },
     "execution_count": 40,
     "metadata": {},
     "output_type": "execute_result"
    }
   ],
   "execution_count": 40
  },
  {
   "cell_type": "markdown",
   "id": "e40a905ea05dfb42",
   "metadata": {
    "collapsed": false
   },
   "source": [
    "### Retailer_site"
   ]
  },
  {
   "cell_type": "code",
   "id": "7862cb29850150bb",
   "metadata": {
    "collapsed": false,
    "ExecuteTime": {
     "end_time": "2024-04-22T13:54:11.547866Z",
     "start_time": "2024-04-22T13:54:11.529818Z"
    }
   },
   "source": [
    "retailer_site['RETAILER_SITE_code'] = retailer_site['RETAILER_SITE_code'].astype('int')\n",
    "retailer_site['RETAILER_SITE_COUNTRY_CODE_country'] = retailer_site['RETAILER_SITE_COUNTRY_CODE_country'].astype('string').replace({np.nan: None})\n",
    "retailer_site['RETAILER_SITE_CITY_city'] = retailer_site['RETAILER_SITE_CITY_city'].astype('string').replace({np.nan: None})\n",
    "retailer_site['RETAILER_SITE_REGION_region'] = retailer_site['RETAILER_SITE_REGION_region'].astype('string').replace({np.nan: None})\n",
    "retailer_site['RETAILER_SITE_POSTAL_ZONE_postal_zone'] = retailer_site['RETAILER_SITE_POSTAL_ZONE_postal_zone'].astype('string').replace({np.nan: None})\n",
    "retailer_site['RETAILER_SITE_RETAILER_CODE_retailer_code'] = retailer_site['RETAILER_SITE_RETAILER_CODE_retailer_code'].astype('int')\n",
    "retailer_site['RETAILER_SITE_ACTIVE_INDICATOR_indicator'] = retailer_site['RETAILER_SITE_ACTIVE_INDICATOR_indicator'].astype('int')\n",
    "retailer_site['RETAILER_SITE_ADDRESS1_address'] = retailer_site['RETAILER_SITE_ADDRESS1_address'].astype('string').replace({np.nan: None})\n",
    "retailer_site['RETAILER_SITE_ADDRESS2_address'] = retailer_site['RETAILER_SITE_ADDRESS2_address'].astype('string').replace({np.nan: None})\n",
    "\n",
    "\n",
    "retailer_site.dtypes"
   ],
   "outputs": [
    {
     "data": {
      "text/plain": [
       "RETAILER_SITE_code                                    int32\n",
       "RETAILER_SITE_RETAILER_CODE_retailer_code             int32\n",
       "RETAILER_SITE_ADDRESS1_address               string[python]\n",
       "RETAILER_SITE_ADDRESS2_address                       object\n",
       "RETAILER_SITE_CITY_city                      string[python]\n",
       "RETAILER_SITE_REGION_region                          object\n",
       "RETAILER_SITE_POSTAL_ZONE_postal_zone                object\n",
       "RETAILER_SITE_COUNTRY_CODE_country           string[python]\n",
       "RETAILER_SITE_ACTIVE_INDICATOR_indicator              int32\n",
       "dtype: object"
      ]
     },
     "execution_count": 41,
     "metadata": {},
     "output_type": "execute_result"
    }
   ],
   "execution_count": 41
  },
  {
   "cell_type": "markdown",
   "id": "7c0d87b818a9d54b",
   "metadata": {
    "collapsed": false
   },
   "source": [
    "### Sales_branch"
   ]
  },
  {
   "cell_type": "code",
   "id": "2ea23e262922c320",
   "metadata": {
    "collapsed": false,
    "ExecuteTime": {
     "end_time": "2024-04-22T13:54:12.494102Z",
     "start_time": "2024-04-22T13:54:11.620631Z"
    }
   },
   "source": [
    "sales_branch['SALES_BRANCH_code'] = sales_branch['SALES_BRANCH_code'].astype('int')\n",
    "sales_branch['SALES_BRANCH_COUNTRY_CODE_country'] = sales_branch['SALES_BRANCH_COUNTRY_CODE_country'].astype('string').replace({np.nan: None})\n",
    "sales_branch['SALES_BRANCH_REGION_region'] = sales_branch['SALES_BRANCH_REGION_region'].astype('string').replace({np.nan: None})\n",
    "sales_branch['SALES_BRANCH_CITY_city'] = sales_branch['SALES_BRANCH_CITY_city'].astype('string').replace({np.nan: None})\n",
    "sales_branch['SALES_BRANCH_POSTAL_ZONE_postal_zone'] = sales_branch['SALES_BRANCH_POSTAL_ZONE_postal_zone'].astype('string').replace({np.nan: None})\n",
    "sales_branch['SALES_BRANCH_ADDRESS1_address'] = sales_branch['SALES_BRANCH_ADDRESS1_address'].astype('string').replace({np.nan: None})\n",
    "sales_branch['SALES_BRANCH_ADDRESS2_address'] = sales_branch['SALES_BRANCH_ADDRESS2_address'].astype('string').replace({np.nan: None})\n",
    "\n",
    "sales_branch.dtypes"
   ],
   "outputs": [
    {
     "data": {
      "text/plain": [
       "SALES_BRANCH_code                                int32\n",
       "SALES_BRANCH_ADDRESS1_address           string[python]\n",
       "SALES_BRANCH_ADDRESS2_address                   object\n",
       "SALES_BRANCH_CITY_city                  string[python]\n",
       "SALES_BRANCH_REGION_region                      object\n",
       "SALES_BRANCH_POSTAL_ZONE_postal_zone    string[python]\n",
       "SALES_BRANCH_COUNTRY_CODE_country       string[python]\n",
       "dtype: object"
      ]
     },
     "execution_count": 42,
     "metadata": {},
     "output_type": "execute_result"
    }
   ],
   "execution_count": 42
  },
  {
   "cell_type": "markdown",
   "id": "65444d58cc211dc9",
   "metadata": {
    "collapsed": false
   },
   "source": [
    "### Retailer_contact"
   ]
  },
  {
   "cell_type": "code",
   "id": "87e46ec67e98c8a6",
   "metadata": {
    "collapsed": false,
    "ExecuteTime": {
     "end_time": "2024-04-22T13:54:12.517291Z",
     "start_time": "2024-04-22T13:54:12.496239Z"
    }
   },
   "source": [
    "retailer_contact['RETAILER_CONTACT_code'] = retailer_contact['RETAILER_CONTACT_code'].astype('int')\n",
    "retailer_contact['RETAILER_CONTACT_email'] = retailer_contact['RETAILER_CONTACT_email'].astype('string').replace({np.nan: None})\n",
    "retailer_contact['RETAILER_CONTACT_RETAILER_SITE_CODE_site_code'] = retailer_contact['RETAILER_CONTACT_RETAILER_SITE_CODE_site_code'].astype('int')\n",
    "retailer_contact['RETAILER_CONTACT_JOB_POSITION_EN_position'] = retailer_contact['RETAILER_CONTACT_JOB_POSITION_EN_position'].astype('string').replace({np.nan: None})\n",
    "retailer_contact['RETAILER_CONTACT_EXTENSION_extension'] = retailer_contact['RETAILER_CONTACT_EXTENSION_extension'].astype('string').replace({np.nan: None})\n",
    "retailer_contact['RETAILER_CONTACT_FAX_fax'] = retailer_contact['RETAILER_CONTACT_FAX_fax'].astype('string').replace({np.nan: None})\n",
    "retailer_contact['RETAILER_CONTACT_GENDER_gender'] = retailer_contact['RETAILER_CONTACT_GENDER_gender'].astype('string').replace({np.nan: None})\n",
    "retailer_contact['RETAILER_CONTACT_FIRST_NAME_first_name'] = retailer_contact['RETAILER_CONTACT_FIRST_NAME_first_name'].astype('string').replace({np.nan: None})\n",
    "retailer_contact['RETAILER_CONTACT_LAST_NAME_last_name'] = retailer_contact['RETAILER_CONTACT_LAST_NAME_last_name'].astype('string').replace({np.nan: None})\n",
    "\n",
    "retailer_contact.dtypes"
   ],
   "outputs": [
    {
     "data": {
      "text/plain": [
       "RETAILER_CONTACT_code                                     int32\n",
       "RETAILER_CONTACT_RETAILER_SITE_CODE_site_code             int32\n",
       "RETAILER_CONTACT_FIRST_NAME_first_name           string[python]\n",
       "RETAILER_CONTACT_LAST_NAME_last_name             string[python]\n",
       "RETAILER_CONTACT_JOB_POSITION_EN_position        string[python]\n",
       "RETAILER_CONTACT_EXTENSION_extension                     object\n",
       "RETAILER_CONTACT_FAX_fax                                 object\n",
       "RETAILER_CONTACT_email                                   object\n",
       "RETAILER_CONTACT_GENDER_gender                   string[python]\n",
       "dtype: object"
      ]
     },
     "execution_count": 43,
     "metadata": {},
     "output_type": "execute_result"
    }
   ],
   "execution_count": 43
  },
  {
   "cell_type": "markdown",
   "id": "450a79f1e889a1ca",
   "metadata": {
    "collapsed": false
   },
   "source": [
    "### Retailer"
   ]
  },
  {
   "cell_type": "code",
   "id": "149548ceecb90c98",
   "metadata": {
    "collapsed": false,
    "ExecuteTime": {
     "end_time": "2024-04-22T13:54:12.534873Z",
     "start_time": "2024-04-22T13:54:12.519408Z"
    }
   },
   "source": [
    "retailer['RETAILER_code'] = retailer['RETAILER_code'].astype('int')\n",
    "retailer['RETAILER_name'] = retailer['RETAILER_name'].astype('string').replace({np.nan: None})\n",
    "retailer['RETAILER_COMPANY_CODE_MR_company'] = retailer['RETAILER_COMPANY_CODE_MR_company'].astype('string').replace({np.nan: None})\n",
    "retailer['RETAILER_RETAILER_TYPE_code'] = retailer['RETAILER_RETAILER_TYPE_code'].astype('int')\n",
    "retailer['RETAILER_RETAILER_TYPE_EN'] = retailer['RETAILER_RETAILER_TYPE_EN'].astype('string').replace({np.nan: None})\n",
    "\n",
    "retailer.dtypes"
   ],
   "outputs": [
    {
     "data": {
      "text/plain": [
       "RETAILER_code                                int32\n",
       "RETAILER_COMPANY_CODE_MR_company            object\n",
       "RETAILER_name                       string[python]\n",
       "RETAILER_RETAILER_TYPE_code                  int32\n",
       "RETAILER_RETAILER_TYPE_EN           string[python]\n",
       "dtype: object"
      ]
     },
     "execution_count": 44,
     "metadata": {},
     "output_type": "execute_result"
    }
   ],
   "execution_count": 44
  },
  {
   "cell_type": "markdown",
   "id": "d677ffe45d5abe42",
   "metadata": {
    "collapsed": false
   },
   "source": [
    "### Product"
   ]
  },
  {
   "cell_type": "code",
   "id": "410a95813646af9d",
   "metadata": {
    "collapsed": false,
    "ExecuteTime": {
     "end_time": "2024-04-22T13:54:12.569165Z",
     "start_time": "2024-04-22T13:54:12.538025Z"
    }
   },
   "source": [
    "product['PRODUCT_number'] = product['PRODUCT_number'].astype('int')\n",
    "product['PRODUCT_name_product'] = product['PRODUCT_name_product'].astype('string').replace({np.nan: None})\n",
    "product['PRODUCT_description_description'] = product['PRODUCT_description_description'].astype('string').replace({np.nan: None})\n",
    "product['PRODUCT_image_image'] = product['PRODUCT_image_image'].astype('string').replace({np.nan: None})\n",
    "product['PRODUCT_INTRODUCTION_DATE_introduced'] = pd.to_datetime(product['PRODUCT_INTRODUCTION_DATE_introduced'], format='mixed')\n",
    "product['PRODUCT_PRODUCTION_COST_cost'] = product['PRODUCT_PRODUCTION_COST_cost'].astype('float')\n",
    "product['PRODUCT_MARGIN_margin'] = product['PRODUCT_MARGIN_margin'].astype('float')\n",
    "product['PRODUCT_LANGUAGE_language'] = product['PRODUCT_LANGUAGE_language'].astype('string').replace({np.nan: None})\n",
    "product['PRODUCT_PRODUCT_LINE_code'] = product['PRODUCT_PRODUCT_LINE_code'].astype('string').replace({np.nan: None})\n",
    "product['PRODUCT_PRODUCT_LINE_code_en'] = product['PRODUCT_PRODUCT_LINE_code_en'].astype('string').replace({np.nan: None})\n",
    "product['PRODUCT_PRODUCT_TYPE_code'] = product['PRODUCT_PRODUCT_TYPE_code'].astype('string').replace({np.nan: None})\n",
    "product['PRODUCT_PRODUCT_TYPE_code_en'] = product['PRODUCT_PRODUCT_TYPE_code_en'].astype('string').replace({np.nan: None})\n",
    "\n",
    "product.dtypes"
   ],
   "outputs": [
    {
     "data": {
      "text/plain": [
       "PRODUCT_number                                   int32\n",
       "PRODUCT_INTRODUCTION_DATE_introduced    datetime64[ns]\n",
       "PRODUCT_PRODUCT_TYPE_code               string[python]\n",
       "PRODUCT_PRODUCTION_COST_cost                   float64\n",
       "PRODUCT_MARGIN_margin                          float64\n",
       "PRODUCT_image_image                     string[python]\n",
       "PRODUCT_LANGUAGE_language               string[python]\n",
       "PRODUCT_name_product                    string[python]\n",
       "PRODUCT_description_description         string[python]\n",
       "PRODUCT_PRODUCT_LINE_code               string[python]\n",
       "PRODUCT_PRODUCT_TYPE_code_en            string[python]\n",
       "PRODUCT_PRODUCT_LINE_code_en            string[python]\n",
       "dtype: object"
      ]
     },
     "execution_count": 45,
     "metadata": {},
     "output_type": "execute_result"
    }
   ],
   "execution_count": 45
  },
  {
   "cell_type": "markdown",
   "source": [
    "### Order_details"
   ],
   "metadata": {
    "collapsed": false
   },
   "id": "655f55aab3323559"
  },
  {
   "cell_type": "code",
   "source": [
    "order_details['ORDER_DETAILS_QUANTITY_quantity'] = order_details['ORDER_DETAILS_QUANTITY_quantity'].astype('int')\n",
    "order_details['ORDER_DETAILS_ORDER_NUMBER_order'] = order_details['ORDER_DETAILS_ORDER_NUMBER_order'].astype('int')\n",
    "order_details['ORDER_DETAILS_PRODUCT_NUMBER_product'] = order_details['ORDER_DETAILS_PRODUCT_NUMBER_product'].astype('int')\n",
    "order_details['UNIT_COST_cost'] = order_details['UNIT_COST_cost'].astype('float64')\n",
    "order_details['UNIT_PRICE_price'] = order_details['UNIT_PRICE_price'].astype('float64')\n",
    "order_details['UNIT_SALE_sale'] = order_details['UNIT_SALE_sale'].astype('float64')\n",
    "order_details['ORDER_DETAIL_code'] = order_details['ORDER_DETAIL_code'].astype('int')\n",
    "\n",
    "# unit is already converted\n",
    "order_details.dtypes"
   ],
   "metadata": {
    "collapsed": false,
    "ExecuteTime": {
     "end_time": "2024-04-22T13:54:12.663462Z",
     "start_time": "2024-04-22T13:54:12.573329Z"
    }
   },
   "id": "346f7927ae20be28",
   "outputs": [
    {
     "data": {
      "text/plain": [
       "ORDER_DETAIL_code                         int32\n",
       "ORDER_DETAILS_ORDER_NUMBER_order          int32\n",
       "ORDER_DETAILS_PRODUCT_NUMBER_product      int32\n",
       "ORDER_DETAILS_QUANTITY_quantity           int32\n",
       "UNIT_id                                   int64\n",
       "UNIT_COST_cost                          float64\n",
       "UNIT_PRICE_price                        float64\n",
       "UNIT_SALE_sale                          float64\n",
       "dtype: object"
      ]
     },
     "execution_count": 46,
     "metadata": {},
     "output_type": "execute_result"
    }
   ],
   "execution_count": 46
  },
  {
   "cell_type": "markdown",
   "id": "65e24f73d68065d5",
   "metadata": {
    "collapsed": false
   },
   "source": [
    "### Returned_item"
   ]
  },
  {
   "cell_type": "code",
   "id": "b96edc784fabbf6c",
   "metadata": {
    "collapsed": false,
    "ExecuteTime": {
     "end_time": "2024-04-22T13:54:12.752856Z",
     "start_time": "2024-04-22T13:54:12.665577Z"
    }
   },
   "source": [
    "returned_item['RETURNED_ITEM_code'] = returned_item['RETURNED_ITEM_code'].astype('int')\n",
    "returned_item['RETURNED_ITEM_DATE'] = pd.to_datetime(returned_item['RETURNED_ITEM_DATE'], format='mixed')\n",
    "returned_item['RETURNED_ITEM_QUANTITY'] = returned_item['RETURNED_ITEM_QUANTITY'].astype('int')\n",
    "returned_item['RETURNED_ITEM_ORDER_DETAIL_CODE'] = returned_item['RETURNED_ITEM_ORDER_DETAIL_CODE'].astype('int')\n",
    "returned_item['RETURNED_ITEM_RETURN_REASON_code'] = returned_item['RETURNED_ITEM_RETURN_REASON_code'].astype('int')\n",
    "returned_item['RETURNED_ITEM_RETURN_REASON_description_en'] = returned_item['RETURNED_ITEM_RETURN_REASON_description_en'].astype('string').replace({np.nan: None})\n",
    "\n",
    "returned_item.dtypes"
   ],
   "outputs": [
    {
     "data": {
      "text/plain": [
       "RETURNED_ITEM_code                                     int32\n",
       "RETURNED_ITEM_DATE                            datetime64[ns]\n",
       "RETURNED_ITEM_QUANTITY                                 int32\n",
       "RETURNED_ITEM_ORDER_DETAIL_CODE                        int32\n",
       "RETURNED_ITEM_RETURN_REASON_code                       int32\n",
       "RETURNED_ITEM_RETURN_REASON_description_en    string[python]\n",
       "dtype: object"
      ]
     },
     "execution_count": 47,
     "metadata": {},
     "output_type": "execute_result"
    }
   ],
   "execution_count": 47
  },
  {
   "cell_type": "markdown",
   "id": "5670721e8fd1c035",
   "metadata": {
    "collapsed": false
   },
   "source": [
    "### Sales_Targetdata"
   ]
  },
  {
   "cell_type": "code",
   "id": "1e1b8f509d6b7f0a",
   "metadata": {
    "collapsed": false,
    "ExecuteTime": {
     "end_time": "2024-04-22T13:54:12.901046Z",
     "start_time": "2024-04-22T13:54:12.754996Z"
    }
   },
   "source": [
    "sales_target_data['SALES_TARGETDATA_SALES_YEAR'] = sales_target_data['SALES_TARGETDATA_SALES_YEAR'].astype('int')\n",
    "sales_target_data['SALES_TARGETDATA_SALES_PERIOD'] = sales_target_data['SALES_TARGETDATA_SALES_PERIOD'].astype('string').replace({np.nan: None})\n",
    "sales_target_data['SALES_TARGETDATA_RETAILER_NAME'] = sales_target_data['SALES_TARGETDATA_RETAILER_NAME'].astype('string').replace({np.nan: None})\n",
    "sales_target_data['SALES_TARGETDATA_SALES_TARGET'] = sales_target_data['SALES_TARGETDATA_SALES_TARGET'].astype('float64')\n",
    "sales_target_data['SALES_TARGETDATA_SALES_STAFF_CODE'] = sales_target_data['SALES_TARGETDATA_SALES_STAFF_CODE'].astype('int')\n",
    "sales_target_data['PRODUCT_number'] = sales_target_data['PRODUCT_number'].astype('int')\n",
    "sales_target_data['PRODUCT_INTRODUCTION_DATE_introduced'] = pd.to_datetime(sales_target_data['PRODUCT_INTRODUCTION_DATE_introduced'], format='mixed')\n",
    "sales_target_data['PRODUCT_PRODUCTION_COST_cost'] = sales_target_data['PRODUCT_PRODUCTION_COST_cost'].astype('float64')\n",
    "sales_target_data['PRODUCT_PRODUCT_TYPE_code'] = sales_target_data['PRODUCT_PRODUCT_TYPE_code'].astype('string').replace({np.nan: None})\n",
    "sales_target_data['PRODUCT_PRODUCT_TYPE_code_en'] = sales_target_data['PRODUCT_PRODUCT_TYPE_code_en'].astype('string').replace({np.nan: None})\n",
    "sales_target_data['PRODUCT_PRODUCT_LINE_code'] = sales_target_data['PRODUCT_PRODUCT_LINE_code'].astype('string').replace({np.nan: None})\n",
    "sales_target_data['PRODUCT_PRODUCT_LINE_code_en'] = sales_target_data['PRODUCT_PRODUCT_LINE_code_en'].astype('string').replace({np.nan: None})\n",
    "sales_target_data['RETAILER_code'] = sales_target_data['RETAILER_code'].astype('int')\n",
    "sales_target_data['PRODUCT_MARGIN_margin'] = sales_target_data['PRODUCT_MARGIN_margin'].astype('float64')\n",
    "sales_target_data['PRODUCT_image_image'] = sales_target_data['PRODUCT_image_image'].astype('string').replace({np.nan: None})\n",
    "sales_target_data['PRODUCT_LANGUAGE_language'] = sales_target_data['PRODUCT_LANGUAGE_language'].astype('string').replace({np.nan: None})\n",
    "sales_target_data['PRODUCT_name_product'] = sales_target_data['PRODUCT_name_product'].astype('string').replace({np.nan: None})\n",
    "sales_target_data['PRODUCT_description_description'] = sales_target_data['PRODUCT_description_description'].astype('string').replace({np.nan: None})\n",
    "\n",
    "sales_target_data.dtypes"
   ],
   "outputs": [
    {
     "data": {
      "text/plain": [
       "Id                                               int64\n",
       "SALES_TARGETDATA_SALES_STAFF_CODE                int32\n",
       "SALES_TARGETDATA_SALES_YEAR                      int32\n",
       "SALES_TARGETDATA_SALES_PERIOD           string[python]\n",
       "SALES_TARGETDATA_RETAILER_NAME          string[python]\n",
       "SALES_TARGETDATA_SALES_TARGET                  float64\n",
       "PRODUCT_number                                   int32\n",
       "PRODUCT_INTRODUCTION_DATE_introduced    datetime64[ns]\n",
       "PRODUCT_PRODUCT_TYPE_code               string[python]\n",
       "PRODUCT_PRODUCTION_COST_cost                   float64\n",
       "PRODUCT_MARGIN_margin                          float64\n",
       "PRODUCT_image_image                     string[python]\n",
       "PRODUCT_LANGUAGE_language               string[python]\n",
       "PRODUCT_name_product                    string[python]\n",
       "PRODUCT_description_description         string[python]\n",
       "PRODUCT_PRODUCT_LINE_code               string[python]\n",
       "PRODUCT_PRODUCT_TYPE_code_en            string[python]\n",
       "PRODUCT_PRODUCT_LINE_code_en            string[python]\n",
       "RETAILER_code                                    int32\n",
       "dtype: object"
      ]
     },
     "execution_count": 48,
     "metadata": {},
     "output_type": "execute_result"
    }
   ],
   "execution_count": 48
  },
  {
   "cell_type": "markdown",
   "id": "2d4e1edb7e7d5926",
   "metadata": {
    "collapsed": false
   },
   "source": [
    "### Training"
   ]
  },
  {
   "cell_type": "code",
   "id": "6c331e4c8861e862",
   "metadata": {
    "collapsed": false,
    "ExecuteTime": {
     "end_time": "2024-04-22T13:54:12.916288Z",
     "start_time": "2024-04-22T13:54:12.903164Z"
    }
   },
   "source": [
    "training['TRAINING_SALES_STAFF_CODE'] = training['TRAINING_SALES_STAFF_CODE'].astype('int')\n",
    "training['TRAINING_COURSE_CODE'] = training['TRAINING_COURSE_CODE'].astype('int')\n",
    "training['TRAINING_YEAR'] = training['TRAINING_YEAR'].astype('int')\n",
    "training['COURSE_code'] = training['COURSE_code'].astype('int')\n",
    "training['COURSE_DESCRIPTION'] = training['COURSE_DESCRIPTION'].astype('string').replace({np.nan: None})\n",
    "\n",
    "training.dtypes"
   ],
   "outputs": [
    {
     "data": {
      "text/plain": [
       "TRAINING_YEAR                         int32\n",
       "TRAINING_SALES_STAFF_CODE             int32\n",
       "TRAINING_COURSE_CODE                  int32\n",
       "COURSE_code                           int32\n",
       "COURSE_DESCRIPTION           string[python]\n",
       "dtype: object"
      ]
     },
     "execution_count": 49,
     "metadata": {},
     "output_type": "execute_result"
    }
   ],
   "execution_count": 49
  },
  {
   "cell_type": "markdown",
   "id": "40f0945d66c7e4f2",
   "metadata": {
    "collapsed": false
   },
   "source": [
    "### Satisfaction"
   ]
  },
  {
   "cell_type": "code",
   "id": "394c97c0d1462b01",
   "metadata": {
    "collapsed": false,
    "ExecuteTime": {
     "end_time": "2024-04-22T13:54:12.936724Z",
     "start_time": "2024-04-22T13:54:12.917476Z"
    }
   },
   "source": [
    "satisfaction['SATISFACTION_SALES_STAFF_CODE'] = satisfaction['SATISFACTION_SALES_STAFF_CODE'].astype('int')\n",
    "satisfaction['SATISFACTION_SATISFACTION_TYPE_CODE'] = satisfaction['SATISFACTION_SATISFACTION_TYPE_CODE'].astype('int')\n",
    "satisfaction['SATISFACTION_YEAR'] = satisfaction['SATISFACTION_YEAR'].astype('int')\n",
    "satisfaction['SATISFACTION_TYPE_code'] = satisfaction['SATISFACTION_TYPE_code'].astype('int')\n",
    "satisfaction['SATISFACTION_TYPE_DESCRIPTION'] = satisfaction['SATISFACTION_TYPE_DESCRIPTION'].astype('string').replace({np.nan: None})\n",
    "\n",
    "satisfaction.dtypes"
   ],
   "outputs": [
    {
     "data": {
      "text/plain": [
       "SATISFACTION_YEAR                               int32\n",
       "SATISFACTION_SALES_STAFF_CODE                   int32\n",
       "SATISFACTION_SATISFACTION_TYPE_CODE             int32\n",
       "SATISFACTION_TYPE_code                          int32\n",
       "SATISFACTION_TYPE_DESCRIPTION          string[python]\n",
       "dtype: object"
      ]
     },
     "execution_count": 50,
     "metadata": {},
     "output_type": "execute_result"
    }
   ],
   "execution_count": 50
  },
  {
   "cell_type": "markdown",
   "id": "f647aa4aa7a525b7",
   "metadata": {
    "collapsed": false
   },
   "source": []
  },
  {
   "cell_type": "markdown",
   "id": "a8d0539a6adbc41a",
   "metadata": {
    "collapsed": false
   },
   "source": [
    "### Order_header"
   ]
  },
  {
   "cell_type": "code",
   "id": "bb316f9b4f8d6522",
   "metadata": {
    "collapsed": false,
    "ExecuteTime": {
     "end_time": "2024-04-22T13:54:13.274793Z",
     "start_time": "2024-04-22T13:54:13.249316Z"
    }
   },
   "source": [
    "order_header['ORDER_HEADER_number'] = order_header['ORDER_HEADER_number'].astype('int')\n",
    "order_header['ORDER_HEADER_SALES_STAFF_CODE'] = order_header['ORDER_HEADER_SALES_STAFF_CODE'].astype('int')\n",
    "order_header['ORDER_HEADER_SALES_BRANCH_CODE'] = order_header['ORDER_HEADER_SALES_BRANCH_CODE'].astype('int')\n",
    "order_header['ORDER_HEADER_RETAILER_SITE_CODE'] = order_header['ORDER_HEADER_RETAILER_SITE_CODE'].astype('int')\n",
    "order_header['ORDER_HEADER_RETAILER_CONTACT_CODE'] = order_header['ORDER_HEADER_RETAILER_CONTACT_CODE'].astype('int')\n",
    "order_header['ORDER_METHOD_CODE'] = order_header['ORDER_METHOD_CODE'].astype('int')\n",
    "order_header['RETAILER_CODE'] = order_header['RETAILER_code'].astype('int')\n",
    "order_header['RETAILER_COMPANY_CODE_MR_company'] = order_header['RETAILER_COMPANY_CODE_MR_company'].astype('string').replace({np.nan: None})\n",
    "order_header['RETAILER_NAME'] = order_header['RETAILER_name'].astype('string').replace({np.nan: None})\n",
    "\n",
    "order_header.dtypes"
   ],
   "outputs": [
    {
     "data": {
      "text/plain": [
       "ORDER_HEADER_number                                       int32\n",
       "RETAILER_NAME                                    string[python]\n",
       "ORDER_HEADER_RETAILER_SITE_CODE                           int32\n",
       "ORDER_HEADER_RETAILER_CONTACT_CODE                        int32\n",
       "ORDER_HEADER_SALES_STAFF_CODE                             int32\n",
       "ORDER_HEADER_SALES_BRANCH_CODE                            int32\n",
       "ORDER_HEADER_ORDER_DATE                          datetime64[ns]\n",
       "ORDER_METHOD_CODE                                         int32\n",
       "RETAILER_code                                            object\n",
       "RETAILER_COMPANY_CODE_MR_company                         object\n",
       "RETAILER_name                                            object\n",
       "RETAILER_RETAILER_TYPE_code                              object\n",
       "RETAILER_RETAILER_TYPE_EN                                object\n",
       "SALES_STAFF_code                                         object\n",
       "SALES_STAFF_email                                        object\n",
       "SALES_STAFF_extension                                    object\n",
       "SALES_STAFF_POSITION_EN_position                         object\n",
       "SALES_STAFF_WORK_PHONE_work_phone                        object\n",
       "SALES_STAFF_DATE_HIRED_hired                             object\n",
       "SALES_STAFF_MANAGER_CODE_manager                         object\n",
       "SALES_STAFF_FAX                                          object\n",
       "SALES_STAFF_FIRST_NAME_first_name                        object\n",
       "SALES_STAFF_LAST_NAME_last_name                          object\n",
       "SALES_STAFF_SALES_BRANCH_ADDRESS1_address                object\n",
       "SALES_STAFF_SALES_BRANCH_ADDRESS2_address                object\n",
       "SALES_STAFF_SALES_BRANCH_CODE_branch_code                object\n",
       "RETAILER_SITE_code                                       object\n",
       "RETAILER_SITE_RETAILER_CODE_retailer_code                object\n",
       "RETAILER_SITE_ADDRESS1_address                           object\n",
       "RETAILER_SITE_ADDRESS2_address                           object\n",
       "RETAILER_SITE_CITY_city                                  object\n",
       "RETAILER_SITE_REGION_region                              object\n",
       "RETAILER_SITE_POSTAL_ZONE_postal_zone                    object\n",
       "RETAILER_SITE_COUNTRY_CODE_country                       object\n",
       "RETAILER_SITE_ACTIVE_INDICATOR_indicator                 object\n",
       "RETAILER_CONTACT_code                                    object\n",
       "RETAILER_CONTACT_RETAILER_SITE_CODE_site_code            object\n",
       "RETAILER_CONTACT_FIRST_NAME_first_name                   object\n",
       "RETAILER_CONTACT_LAST_NAME_last_name                     object\n",
       "RETAILER_CONTACT_JOB_POSITION_EN_position                object\n",
       "RETAILER_CONTACT_EXTENSION_extension                     object\n",
       "RETAILER_CONTACT_FAX_fax                                 object\n",
       "RETAILER_CONTACT_email                                   object\n",
       "RETAILER_CONTACT_GENDER_gender                           object\n",
       "RETAILER_CODE                                             int32\n",
       "dtype: object"
      ]
     },
     "execution_count": 51,
     "metadata": {},
     "output_type": "execute_result"
    }
   ],
   "execution_count": 51
  },
  {
   "cell_type": "markdown",
   "id": "375b6b00aa014745",
   "metadata": {
    "collapsed": false
   },
   "source": [
    "### Retailer_segment"
   ]
  },
  {
   "cell_type": "code",
   "id": "cf3fb7be18baacba",
   "metadata": {
    "collapsed": false,
    "ExecuteTime": {
     "end_time": "2024-04-22T13:54:13.459984Z",
     "start_time": "2024-04-22T13:54:13.446940Z"
    }
   },
   "source": [
    "retailer_segment['RETAILER_SEGMENT_segment_code'] = retailer_segment['RETAILER_SEGMENT_segment_code'].astype('int')\n",
    "retailer_segment['RETAILER_SEGMENT_language'] = retailer_segment['RETAILER_SEGMENT_language'].astype('string').replace({np.nan: None})\n",
    "retailer_segment['RETAILER_SEGMENT_segment_name'] = retailer_segment['RETAILER_SEGMENT_segment_name'].astype('string').replace({np.nan: None})\n",
    "retailer_segment['RETAILER_SEGMENT_SEGMENT_DESCRIPTION_description'] = retailer_segment['RETAILER_SEGMENT_SEGMENT_DESCRIPTION_description'].astype('string').replace({np.nan: None})\n",
    "\n",
    "retailer_segment.dtypes"
   ],
   "outputs": [
    {
     "data": {
      "text/plain": [
       "RETAILER_SEGMENT_segment_code                                int32\n",
       "RETAILER_SEGMENT_language                           string[python]\n",
       "RETAILER_SEGMENT_segment_name                       string[python]\n",
       "RETAILER_SEGMENT_SEGMENT_DESCRIPTION_description    string[python]\n",
       "dtype: object"
      ]
     },
     "execution_count": 52,
     "metadata": {},
     "output_type": "execute_result"
    }
   ],
   "execution_count": 52
  },
  {
   "cell_type": "markdown",
   "id": "c1ea0a7696b9cf03",
   "metadata": {
    "collapsed": false
   },
   "source": [
    "### Retailer_headquarters"
   ]
  },
  {
   "cell_type": "code",
   "id": "da8b1ba4fdcc9623",
   "metadata": {
    "collapsed": false,
    "ExecuteTime": {
     "end_time": "2024-04-22T13:54:14.365907Z",
     "start_time": "2024-04-22T13:54:14.309890Z"
    }
   },
   "source": [
    "retailer_headquarters['RETAILER_HEADQUARTER_codemr'] = retailer_headquarters['RETAILER_HEADQUARTER_codemr'].astype('int')\n",
    "retailer_headquarters['RETAIL_HEADQUARTER_retailer_name'] = retailer_headquarters['RETAIL_HEADQUARTER_retailer_name'].astype('string').replace({np.nan: None})\n",
    "retailer_headquarters['RETAILER_HEADQUARTER_address1_address'] = retailer_headquarters['RETAILER_HEADQUARTER_address1_address'].astype('string').replace({np.nan: None})\n",
    "retailer_headquarters['RETAILER_HEADQUARTER_address2_address'] = retailer_headquarters['RETAILER_HEADQUARTER_address2_address'].astype('string').replace({np.nan: None})\n",
    "\n",
    "retailer_headquarters['RETAILER_HEADQUARTER_city_city'] = retailer_headquarters['RETAILER_HEADQUARTER_city_city'].astype('string').replace({np.nan: None})\n",
    "retailer_headquarters['RETAILER_HEADQUARTER_region_region'] = retailer_headquarters['RETAILER_HEADQUARTER_region_region'].astype('string').replace({np.nan: None})\n",
    "retailer_headquarters['RETAILER_HEADQUARTER_postal_zone_postal_zone'] = retailer_headquarters['RETAILER_HEADQUARTER_postal_zone_postal_zone'].astype('string').replace({np.nan: None})\n",
    "retailer_headquarters['RETAILER_HEADQUARTER_country_code_country'] = retailer_headquarters['RETAILER_HEADQUARTER_country_code_country'].astype('string').replace({np.nan: None})\n",
    "retailer_headquarters['RETAILER_HEADQUARTER_phone_phone'] = retailer_headquarters['RETAILER_HEADQUARTER_phone_phone'].astype('string').replace({np.nan: None})\n",
    "retailer_headquarters['RETAILER_HEADQUARTER_fax_fax'] = retailer_headquarters['RETAILER_HEADQUARTER_fax_fax'].astype('string').replace({np.nan: None})\n",
    "retailer_headquarters['RETAILER_HEADQUARTER_segment_code'] = retailer_headquarters['RETAILER_HEADQUARTER_segment_code'].astype('int')\n",
    "\n",
    "retailer_headquarters\n",
    "\n",
    "#retailer_headquarters.dtypes"
   ],
   "outputs": [
    {
     "data": {
      "text/plain": [
       "     RETAILER_HEADQUARTER_codemr  \\\n",
       "0                              1   \n",
       "1                             10   \n",
       "2                             11   \n",
       "3                             12   \n",
       "4                             13   \n",
       "..                           ...   \n",
       "409                            9   \n",
       "410                           90   \n",
       "411                           91   \n",
       "412                           92   \n",
       "413                           93   \n",
       "\n",
       "                  RETAIL_HEADQUARTER_retailer_name  \\\n",
       "0                                      Rock Steady   \n",
       "1                           Excellence en Montagne   \n",
       "2                                 Vacation Central   \n",
       "3                              Outdoor Central Ltd   \n",
       "4                              Precipice Equipment   \n",
       "..                                             ...   \n",
       "409                            Over the Top Cycles   \n",
       "410                              Weston Outfitters   \n",
       "411  Artículos de Campismo El Aquila, S.A. de C.V.   \n",
       "412                Todo para el Golf, S.A. de C.V.   \n",
       "413                       MER-KA-DOS, S.A. de C.V.   \n",
       "\n",
       "    RETAILER_HEADQUARTER_address1_address  \\\n",
       "0                         45, rue Atwater   \n",
       "1                       160, rue Moureaux   \n",
       "2                  3000, 58 Merivale Road   \n",
       "3           Suite 23, 180 McKercher Drive   \n",
       "4                        23 Blackcomb Way   \n",
       "..                                    ...   \n",
       "409                       23 Nowlan Drive   \n",
       "410                   738 Greyling Street   \n",
       "411             Avda. Chapultepec 246-303   \n",
       "412              Francisco Munguía No. 45   \n",
       "413                   Río Rhin 56, Piso 6   \n",
       "\n",
       "    RETAILER_HEADQUARTER_address2_address RETAILER_HEADQUARTER_city_city  \\\n",
       "0                                    None                       Montréal   \n",
       "1                              Bureau 410                Ville de Québec   \n",
       "2                                    None                         Ottawa   \n",
       "3                                    None                         Regina   \n",
       "4                                    None                       Whistler   \n",
       "..                                    ...                            ...   \n",
       "409                                  None                        Moncton   \n",
       "410                                  None                      San Diego   \n",
       "411                              Virreyes               Distrito Federal   \n",
       "412                             Atahualpa                       Monterey   \n",
       "413                            Cuauhtemoc               Distrito Federal   \n",
       "\n",
       "    RETAILER_HEADQUARTER_region_region  \\\n",
       "0                               Québec   \n",
       "1                               Québec   \n",
       "2                              Ontario   \n",
       "3                         Saskatchewan   \n",
       "4                     British Columbia   \n",
       "..                                 ...   \n",
       "409                      New Brunswick   \n",
       "410                         California   \n",
       "411                             México   \n",
       "412                         Nuevo León   \n",
       "413                             México   \n",
       "\n",
       "    RETAILER_HEADQUARTER_postal_zone_postal_zone  \\\n",
       "0                                        H2T 9K8   \n",
       "1                                        G1B 3L5   \n",
       "2                                        K0T 9R0   \n",
       "3                                        S6J 3G0   \n",
       "4                                        V6T 1Y8   \n",
       "..                                           ...   \n",
       "409                                      E1A 2A7   \n",
       "410                                        92129   \n",
       "411                                        06700   \n",
       "412                                        30530   \n",
       "413                                        06500   \n",
       "\n",
       "    RETAILER_HEADQUARTER_country_code_country  \\\n",
       "0                                           4   \n",
       "1                                           4   \n",
       "2                                           4   \n",
       "3                                           4   \n",
       "4                                           4   \n",
       "..                                        ...   \n",
       "409                                         4   \n",
       "410                                         3   \n",
       "411                                        20   \n",
       "412                                        20   \n",
       "413                                        20   \n",
       "\n",
       "    RETAILER_HEADQUARTER_phone_phone RETAILER_HEADQUARTER_fax_fax  \\\n",
       "0                   1 (514) 747-4481             1 (514) 741-2277   \n",
       "1                   1 (418) 653-6456             1 (418) 653-2311   \n",
       "2                   1 (613) 736-6443             1 (613) 736-5593   \n",
       "3                   1 (306) 243-8764             1 (306) 243-5213   \n",
       "4                   1 (604) 938-7564             1 (604) 938-2324   \n",
       "..                               ...                          ...   \n",
       "409                 1 (506) 849-8756             1 (506) 849-6432   \n",
       "410                 1 (619) 223-1235             1 (619) 223-1245   \n",
       "411                  +(525) 684 7127              +(525) 684 7119   \n",
       "412                  +(528) 366 6773              +(528) 366 6717   \n",
       "413                  +(525) 645 9288              +(525) 645 9200   \n",
       "\n",
       "     RETAILER_HEADQUARTER_segment_code  \n",
       "0                                    2  \n",
       "1                                    2  \n",
       "2                                    6  \n",
       "3                                    2  \n",
       "4                                    1  \n",
       "..                                 ...  \n",
       "409                                  7  \n",
       "410                                  2  \n",
       "411                                  2  \n",
       "412                                  3  \n",
       "413                                  5  \n",
       "\n",
       "[414 rows x 11 columns]"
      ],
      "text/html": [
       "<div>\n",
       "<style scoped>\n",
       "    .dataframe tbody tr th:only-of-type {\n",
       "        vertical-align: middle;\n",
       "    }\n",
       "\n",
       "    .dataframe tbody tr th {\n",
       "        vertical-align: top;\n",
       "    }\n",
       "\n",
       "    .dataframe thead th {\n",
       "        text-align: right;\n",
       "    }\n",
       "</style>\n",
       "<table border=\"1\" class=\"dataframe\">\n",
       "  <thead>\n",
       "    <tr style=\"text-align: right;\">\n",
       "      <th></th>\n",
       "      <th>RETAILER_HEADQUARTER_codemr</th>\n",
       "      <th>RETAIL_HEADQUARTER_retailer_name</th>\n",
       "      <th>RETAILER_HEADQUARTER_address1_address</th>\n",
       "      <th>RETAILER_HEADQUARTER_address2_address</th>\n",
       "      <th>RETAILER_HEADQUARTER_city_city</th>\n",
       "      <th>RETAILER_HEADQUARTER_region_region</th>\n",
       "      <th>RETAILER_HEADQUARTER_postal_zone_postal_zone</th>\n",
       "      <th>RETAILER_HEADQUARTER_country_code_country</th>\n",
       "      <th>RETAILER_HEADQUARTER_phone_phone</th>\n",
       "      <th>RETAILER_HEADQUARTER_fax_fax</th>\n",
       "      <th>RETAILER_HEADQUARTER_segment_code</th>\n",
       "    </tr>\n",
       "  </thead>\n",
       "  <tbody>\n",
       "    <tr>\n",
       "      <th>0</th>\n",
       "      <td>1</td>\n",
       "      <td>Rock Steady</td>\n",
       "      <td>45, rue Atwater</td>\n",
       "      <td>None</td>\n",
       "      <td>Montréal</td>\n",
       "      <td>Québec</td>\n",
       "      <td>H2T 9K8</td>\n",
       "      <td>4</td>\n",
       "      <td>1 (514) 747-4481</td>\n",
       "      <td>1 (514) 741-2277</td>\n",
       "      <td>2</td>\n",
       "    </tr>\n",
       "    <tr>\n",
       "      <th>1</th>\n",
       "      <td>10</td>\n",
       "      <td>Excellence en Montagne</td>\n",
       "      <td>160, rue Moureaux</td>\n",
       "      <td>Bureau 410</td>\n",
       "      <td>Ville de Québec</td>\n",
       "      <td>Québec</td>\n",
       "      <td>G1B 3L5</td>\n",
       "      <td>4</td>\n",
       "      <td>1 (418) 653-6456</td>\n",
       "      <td>1 (418) 653-2311</td>\n",
       "      <td>2</td>\n",
       "    </tr>\n",
       "    <tr>\n",
       "      <th>2</th>\n",
       "      <td>11</td>\n",
       "      <td>Vacation Central</td>\n",
       "      <td>3000, 58 Merivale Road</td>\n",
       "      <td>None</td>\n",
       "      <td>Ottawa</td>\n",
       "      <td>Ontario</td>\n",
       "      <td>K0T 9R0</td>\n",
       "      <td>4</td>\n",
       "      <td>1 (613) 736-6443</td>\n",
       "      <td>1 (613) 736-5593</td>\n",
       "      <td>6</td>\n",
       "    </tr>\n",
       "    <tr>\n",
       "      <th>3</th>\n",
       "      <td>12</td>\n",
       "      <td>Outdoor Central Ltd</td>\n",
       "      <td>Suite 23, 180 McKercher Drive</td>\n",
       "      <td>None</td>\n",
       "      <td>Regina</td>\n",
       "      <td>Saskatchewan</td>\n",
       "      <td>S6J 3G0</td>\n",
       "      <td>4</td>\n",
       "      <td>1 (306) 243-8764</td>\n",
       "      <td>1 (306) 243-5213</td>\n",
       "      <td>2</td>\n",
       "    </tr>\n",
       "    <tr>\n",
       "      <th>4</th>\n",
       "      <td>13</td>\n",
       "      <td>Precipice Equipment</td>\n",
       "      <td>23 Blackcomb Way</td>\n",
       "      <td>None</td>\n",
       "      <td>Whistler</td>\n",
       "      <td>British Columbia</td>\n",
       "      <td>V6T 1Y8</td>\n",
       "      <td>4</td>\n",
       "      <td>1 (604) 938-7564</td>\n",
       "      <td>1 (604) 938-2324</td>\n",
       "      <td>1</td>\n",
       "    </tr>\n",
       "    <tr>\n",
       "      <th>...</th>\n",
       "      <td>...</td>\n",
       "      <td>...</td>\n",
       "      <td>...</td>\n",
       "      <td>...</td>\n",
       "      <td>...</td>\n",
       "      <td>...</td>\n",
       "      <td>...</td>\n",
       "      <td>...</td>\n",
       "      <td>...</td>\n",
       "      <td>...</td>\n",
       "      <td>...</td>\n",
       "    </tr>\n",
       "    <tr>\n",
       "      <th>409</th>\n",
       "      <td>9</td>\n",
       "      <td>Over the Top Cycles</td>\n",
       "      <td>23 Nowlan Drive</td>\n",
       "      <td>None</td>\n",
       "      <td>Moncton</td>\n",
       "      <td>New Brunswick</td>\n",
       "      <td>E1A 2A7</td>\n",
       "      <td>4</td>\n",
       "      <td>1 (506) 849-8756</td>\n",
       "      <td>1 (506) 849-6432</td>\n",
       "      <td>7</td>\n",
       "    </tr>\n",
       "    <tr>\n",
       "      <th>410</th>\n",
       "      <td>90</td>\n",
       "      <td>Weston Outfitters</td>\n",
       "      <td>738 Greyling Street</td>\n",
       "      <td>None</td>\n",
       "      <td>San Diego</td>\n",
       "      <td>California</td>\n",
       "      <td>92129</td>\n",
       "      <td>3</td>\n",
       "      <td>1 (619) 223-1235</td>\n",
       "      <td>1 (619) 223-1245</td>\n",
       "      <td>2</td>\n",
       "    </tr>\n",
       "    <tr>\n",
       "      <th>411</th>\n",
       "      <td>91</td>\n",
       "      <td>Artículos de Campismo El Aquila, S.A. de C.V.</td>\n",
       "      <td>Avda. Chapultepec 246-303</td>\n",
       "      <td>Virreyes</td>\n",
       "      <td>Distrito Federal</td>\n",
       "      <td>México</td>\n",
       "      <td>06700</td>\n",
       "      <td>20</td>\n",
       "      <td>+(525) 684 7127</td>\n",
       "      <td>+(525) 684 7119</td>\n",
       "      <td>2</td>\n",
       "    </tr>\n",
       "    <tr>\n",
       "      <th>412</th>\n",
       "      <td>92</td>\n",
       "      <td>Todo para el Golf, S.A. de C.V.</td>\n",
       "      <td>Francisco Munguía No. 45</td>\n",
       "      <td>Atahualpa</td>\n",
       "      <td>Monterey</td>\n",
       "      <td>Nuevo León</td>\n",
       "      <td>30530</td>\n",
       "      <td>20</td>\n",
       "      <td>+(528) 366 6773</td>\n",
       "      <td>+(528) 366 6717</td>\n",
       "      <td>3</td>\n",
       "    </tr>\n",
       "    <tr>\n",
       "      <th>413</th>\n",
       "      <td>93</td>\n",
       "      <td>MER-KA-DOS, S.A. de C.V.</td>\n",
       "      <td>Río Rhin 56, Piso 6</td>\n",
       "      <td>Cuauhtemoc</td>\n",
       "      <td>Distrito Federal</td>\n",
       "      <td>México</td>\n",
       "      <td>06500</td>\n",
       "      <td>20</td>\n",
       "      <td>+(525) 645 9288</td>\n",
       "      <td>+(525) 645 9200</td>\n",
       "      <td>5</td>\n",
       "    </tr>\n",
       "  </tbody>\n",
       "</table>\n",
       "<p>414 rows × 11 columns</p>\n",
       "</div>"
      ]
     },
     "execution_count": 53,
     "metadata": {},
     "output_type": "execute_result"
    }
   ],
   "execution_count": 53
  },
  {
   "cell_type": "markdown",
   "id": "36159d94f009e1a3",
   "metadata": {
    "collapsed": false
   },
   "source": [
    "# Toevoegen van nieuwe kolommen\n",
    "Toevoegen van de afgeleide informatie die ook in het ETL en de data warehouse moet komen.\n",
    "Full name is al gedaan via sql"
   ]
  },
  {
   "cell_type": "code",
   "id": "a603455041afffbb",
   "metadata": {
    "collapsed": false,
    "ExecuteTime": {
     "end_time": "2024-04-22T13:54:14.723862Z",
     "start_time": "2024-04-22T13:54:14.691536Z"
    }
   },
   "source": [
    "sales_target_data['SALES_TARGET_DATA_TARGET_COST'] = sales_target_data['SALES_TARGETDATA_SALES_TARGET'] * sales_target_data['PRODUCT_PRODUCTION_COST_cost']\n",
    "\n",
    "sales_target_data['SALES_TARGET_DATA_TARGET_MARGIN'] = sales_target_data['SALES_TARGETDATA_SALES_TARGET'] * sales_target_data['PRODUCT_MARGIN_margin']\n",
    "\n",
    "order_details['ORDER_DETAILS_TOTAL_COST_total'] = order_details['ORDER_DETAILS_QUANTITY_quantity'] * order_details['UNIT_COST_cost']\n",
    "\n",
    "order_details['ORDER_DETAILS_TOTAL_MARGIN_margin'] = order_details['ORDER_DETAILS_QUANTITY_quantity'] * order_details['UNIT_SALE_sale']\n",
    "\n",
    "sales_product_forecast['GO_SALES_PRODUCT_FORECAST_EXPECTED_COST'] = sales_product_forecast['GO_SALES_PRODUCT_FORECAST_EXPECTED_VOLUME'].astype('int') * sales_product_forecast['PRODUCT_PRODUCTION_COST_cost'].astype('float')\n",
    "sales_product_forecast['GO_SALES_PRODUCT_FORECAST_EXPECTED_MARGIN'] = sales_product_forecast['GO_SALES_PRODUCT_FORECAST_EXPECTED_VOLUME'].astype('int') * sales_product_forcast['PRODUCT_MARGIN_margin'].astype('float')\n",
    "\n",
    "# Dimensies\n",
    "returned_item['RETURNED_ITEM_RETURNED_ITEMS_TOTAL_PRICE'] = returned_item['RETURNED_ITEM_QUANTITY'] * order_details['UNIT_SALE_sale']\n",
    "course['COURSE_DESCRIPTION_SHORT'] = None\n",
    "retailer_segment['SEGMENT_DESCRIPTION_SHORT'] = None\n",
    "satisfaction_type['SATISFACTION_TYPE_DESCRIPTION_SHORT'] = None\n",
    "\n",
    "# if address2 is empty, main_address should be address1 and vice versa. If both addresses are available, main_address should be null\n",
    "sales_branch['MAIN_ADDRESS'] = np.where(sales_branch['SALES_BRANCH_ADDRESS2_address'].isna(), sales_branch['SALES_BRANCH_ADDRESS1_address'], np.where(sales_branch['SALES_BRANCH_ADDRESS1_address'].isna(), sales_branch['SALES_BRANCH_ADDRESS2_address'], None))\n",
    "\n",
    "retailer_site['MAIN_ADDRESS'] = np.where(retailer_site['RETAILER_SITE_ADDRESS2_address'].isna(), retailer_site['RETAILER_SITE_ADDRESS1_address'], np.where(retailer_site['RETAILER_SITE_ADDRESS1_address'].isna(), retailer_site['RETAILER_SITE_ADDRESS2_address'], None))\n",
    "\n",
    "retailer_headquarters['MAIN_ADDRESS'] = np.where(retailer_headquarters['RETAILER_HEADQUARTER_address2_address'].isna(), retailer_headquarters['RETAILER_HEADQUARTER_address1_address'], np.where(retailer_headquarters['RETAILER_HEADQUARTER_address1_address'].isna(), retailer_headquarters['RETAILER_HEADQUARTER_address2_address'], None))\n"
   ],
   "outputs": [],
   "execution_count": 54
  },
  {
   "cell_type": "markdown",
   "id": "c1b3d912fe9fb5e4",
   "metadata": {
    "collapsed": false
   },
   "source": [
    "### GO_SALES_PRODUCT_FORECAST"
   ]
  },
  {
   "cell_type": "code",
   "id": "e7f3525c915e4606",
   "metadata": {
    "collapsed": false,
    "ExecuteTime": {
     "end_time": "2024-04-22T13:54:14.855929Z",
     "start_time": "2024-04-22T13:54:14.841915Z"
    }
   },
   "source": [
    "sales_product_forcast['YEAR_MONTH'] = sales_product_forcast['YEAR_MONTH'].astype('string')\n",
    "\n",
    "sales_product_forcast.dtypes"
   ],
   "outputs": [
    {
     "data": {
      "text/plain": [
       "PRODUCT_NUMBER                                   int64\n",
       "EXPECTED_VOLUME                                  int64\n",
       "PRODUCT_number                                   int32\n",
       "PRODUCT_INTRODUCTION_DATE_introduced            object\n",
       "PRODUCT_PRODUCT_TYPE_code                       object\n",
       "PRODUCT_PRODUCTION_COST_cost                    object\n",
       "PRODUCT_MARGIN_margin                           object\n",
       "PRODUCT_image_image                             object\n",
       "PRODUCT_LANGUAGE_language                       object\n",
       "PRODUCT_name_product                            object\n",
       "PRODUCT_description_description                 object\n",
       "TRIAL888_x                                      object\n",
       "PRODUCT_PRODUCT_LINE_code                       object\n",
       "PRODUCT_PRODUCT_TYPE_code_en                    object\n",
       "TRIAL888_y                                      object\n",
       "PRODUCT_PRODUCT_LINE_code_en                    object\n",
       "TRIAL888                                        object\n",
       "YEAR_MONTH                              string[python]\n",
       "dtype: object"
      ]
     },
     "execution_count": 55,
     "metadata": {},
     "output_type": "execute_result"
    }
   ],
   "execution_count": 55
  },
  {
   "cell_type": "markdown",
   "id": "71dd5a1828678e63",
   "metadata": {
    "collapsed": false
   },
   "source": [
    "## Opslaan historische data\n",
    "Aan alle tabellen een kolom toevoegen met de datum van de wijziging en of dit de huidige versie is."
   ]
  },
  {
   "cell_type": "code",
   "id": "98ea15746d105183",
   "metadata": {
    "collapsed": false,
    "ExecuteTime": {
     "end_time": "2024-04-22T13:54:15.217556Z",
     "start_time": "2024-04-22T13:54:15.183950Z"
    }
   },
   "source": [
    "for df in all_dataframes:\n",
    "    df['LAST_UPDATED'] = pd.to_datetime('today')\n",
    "    df['CURRENT'] = 1"
   ],
   "outputs": [],
   "execution_count": 56
  },
  {
   "cell_type": "markdown",
   "id": "1d9e99cbed6fa0b5",
   "metadata": {
    "collapsed": false
   },
   "source": []
  },
  {
   "cell_type": "markdown",
   "id": "316c0f3f946ee41e",
   "metadata": {
    "collapsed": false
   },
   "source": [
    "# Data opslaan in de database\n",
    "De pandas dataframes opslaan in de mssql database"
   ]
  },
  {
   "cell_type": "markdown",
   "id": "1d948b50fae4c574",
   "metadata": {
    "collapsed": false
   },
   "source": [
    "## year"
   ]
  },
  {
   "cell_type": "code",
   "id": "460b034332c00887",
   "metadata": {
    "collapsed": false,
    "ExecuteTime": {
     "end_time": "2024-04-22T13:54:15.692496Z",
     "start_time": "2024-04-22T13:54:15.419974Z"
    }
   },
   "source": [
    "print(f\"Rows: {year.shape[0]}\")\n",
    "for index, row in year.iterrows():\n",
    "    query = 'INSERT INTO Year (YEAR) VALUES (?)'\n",
    "    values = index\n",
    "    export_cursor.execute(query, values)"
   ],
   "outputs": [
    {
     "name": "stdout",
     "output_type": "stream",
     "text": [
      "Rows: 301\n"
     ]
    }
   ],
   "execution_count": 57
  },
  {
   "cell_type": "markdown",
   "id": "d7dd5c0a15b3b5b5",
   "metadata": {
    "collapsed": false
   },
   "source": [
    "## Unit"
   ]
  },
  {
   "cell_type": "code",
   "id": "1299e865f912ff25",
   "metadata": {
    "collapsed": false,
    "ExecuteTime": {
     "end_time": "2024-04-22T14:07:17.238441Z",
     "start_time": "2024-04-22T13:54:15.694503Z"
    }
   },
   "source": [
    "print(f\"Rows: {unit.shape[0]}\")\n",
    "\n",
    "unit_code_sk = {}\n",
    "\n",
    "for index, row in unit.iterrows():\n",
    "    query = 'INSERT INTO Unit (UNIT_id, UNIT_COST_cost, UNIT_PRICE_price, UNIT_SALE_sale) VALUES (?,?,?,?);'\n",
    "    values = (row['UNIT_id'], row['UNIT_COST_cost'], row['UNIT_PRICE_price'], row['UNIT_SALE_sale'])\n",
    "    export_cursor.execute(query, values)\n",
    "    \n",
    "    # Execute the SELECT statement to retrieve the generated primary key\n",
    "    query = 'SELECT @@IDENTITY AS GENERATED_KEY'\n",
    "    export_cursor.execute(query)\n",
    "    generated_primary_key = int(export_cursor.fetchval())\n",
    "    unit_code_sk[row['UNIT_id']] = generated_primary_key\n"
   ],
   "outputs": [
    {
     "name": "stdout",
     "output_type": "stream",
     "text": [
      "Rows: 43063\n"
     ]
    }
   ],
   "execution_count": 58
  },
  {
   "cell_type": "markdown",
   "id": "e67742a0825e6c5c",
   "metadata": {
    "collapsed": false
   },
   "source": [
    "## date"
   ]
  },
  {
   "cell_type": "code",
   "id": "47b58c7aeb7c5895",
   "metadata": {
    "collapsed": false,
    "ExecuteTime": {
     "end_time": "2024-04-22T14:08:32.127942Z",
     "start_time": "2024-04-22T14:07:17.240453Z"
    }
   },
   "source": [
    "print(f\"Rows: {date.shape[0]}\")\n",
    "for index, row in date.iterrows():\n",
    "    query = 'INSERT INTO Date (DATE_date) VALUES (?)'\n",
    "    values = index\n",
    "    export_cursor.execute(query, values)"
   ],
   "outputs": [
    {
     "name": "stdout",
     "output_type": "stream",
     "text": [
      "Rows: 109574\n"
     ]
    }
   ],
   "execution_count": 59
  },
  {
   "cell_type": "markdown",
   "id": "520548b62748d4a2",
   "metadata": {
    "collapsed": false
   },
   "source": [
    "## Sales_staff"
   ]
  },
  {
   "cell_type": "code",
   "id": "19168badf65546ea",
   "metadata": {
    "collapsed": false,
    "ExecuteTime": {
     "end_time": "2024-04-22T14:08:33.176948Z",
     "start_time": "2024-04-22T14:08:32.128962Z"
    }
   },
   "source": [
    "print(f\"Rows: {sales_staff.shape[0]}\")\n",
    "\n",
    "sales_staff_code_sk = {}\n",
    "\n",
    "for index, row in sales_staff.iterrows():\n",
    "    query = 'INSERT INTO Sales_staff (SALES_STAFF_code, SALES_STAFF_email, SALES_STAFF_extension, SALES_STAFF_POSITION_EN_position, SALES_STAFF_WORK_PHONE_work_phone, SALES_STAFF_DATE_HIRED_hired, SALES_STAFF_FAX, SALES_STAFF_FIRST_NAME_first_name, SALES_STAFF_LAST_NAME_last_name, SALES_STAFF_SALES_BRANCH_CODE_branch_code, SALES_STAFF_SALES_BRANCH_ADDRESS1_address, SALES_STAFF_SALES_BRANCH_ADDRESS2_address) VALUES (?,?,?,?,?,?,?,?,?,?,?,?)'\n",
    "\n",
    "    values = (row['SALES_STAFF_code'], row['SALES_STAFF_email'], row['SALES_STAFF_extension'], row['SALES_STAFF_POSITION_EN_position'], row['SALES_STAFF_WORK_PHONE_work_phone'], row['SALES_STAFF_DATE_HIRED_hired'], row['SALES_STAFF_FAX'], row['SALES_STAFF_FIRST_NAME_first_name'], row['SALES_STAFF_LAST_NAME_last_name'], row['SALES_STAFF_SALES_BRANCH_CODE_branch_code'], row['SALES_STAFF_SALES_BRANCH_ADDRESS1_address'], row['SALES_STAFF_SALES_BRANCH_ADDRESS2_address'])\n",
    "\n",
    "    export_cursor.execute(query, values)\n",
    "    \n",
    "    # Execute the SELECT statement to retrieve the generated primary key\n",
    "    query = 'SELECT @@IDENTITY AS GENERATED_KEY'\n",
    "    export_cursor.execute(query)\n",
    "    generated_primary_key = int(export_cursor.fetchval())\n",
    "    sales_staff_code_sk[row['SALES_STAFF_code']] = generated_primary_key\n",
    "\n",
    "# foreign key manager SALES_STAFF_MANAGER_CODE_manager\n",
    "for index, row in sales_staff.iterrows():\n",
    "        if pd.notnull(row['SALES_STAFF_MANAGER_CODE_manager']):\n",
    "            query = 'UPDATE Sales_staff SET SALES_STAFF_MANAGER_CODE_manager = ? WHERE SALES_STAFF_SK = ?'\n",
    "            values = (sales_staff_code_sk[row['SALES_STAFF_MANAGER_CODE_manager']], sales_staff_code_sk[row['SALES_STAFF_code']])\n",
    "            export_cursor.execute(query, values)"
   ],
   "outputs": [
    {
     "name": "stdout",
     "output_type": "stream",
     "text": [
      "Rows: 102\n"
     ]
    }
   ],
   "execution_count": 60
  },
  {
   "cell_type": "markdown",
   "id": "32aefe69ea33bca8",
   "metadata": {
    "collapsed": false
   },
   "source": [
    "## satisfaction_type"
   ]
  },
  {
   "cell_type": "code",
   "id": "f40a9c86188addd9",
   "metadata": {
    "collapsed": false,
    "ExecuteTime": {
     "end_time": "2024-04-22T14:08:33.213538Z",
     "start_time": "2024-04-22T14:08:33.178099Z"
    }
   },
   "source": [
    "print(f\"Rows: {satisfaction_type.shape[0]}\")\n",
    "\n",
    "satisfaction_type_code_sk = {}\n",
    "\n",
    "for index, row in satisfaction_type.iterrows():\n",
    "    query = 'INSERT INTO Satisfaction_type (SATISFACTION_TYPE_code, SATISFACTION_TYPE_DESCRIPTION, CURRENT_VALUE) VALUES (?,?,?)'\n",
    "    values = (row['SATISFACTION_TYPE_code'], row['SATISFACTION_TYPE_DESCRIPTION'], 1)\n",
    "    export_cursor.execute(query, values)\n",
    "    \n",
    "    # Execute the SELECT statement to retrieve the generated primary key\n",
    "    query = 'SELECT @@IDENTITY AS GENERATED_KEY'\n",
    "    export_cursor.execute(query)\n",
    "    generated_primary_key = int(export_cursor.fetchval())\n",
    "    satisfaction_type_code_sk[row['SATISFACTION_TYPE_code']] = generated_primary_key"
   ],
   "outputs": [
    {
     "name": "stdout",
     "output_type": "stream",
     "text": [
      "Rows: 5\n"
     ]
    }
   ],
   "execution_count": 61
  },
  {
   "cell_type": "markdown",
   "id": "b23ddea011d31618",
   "metadata": {
    "collapsed": false
   },
   "source": [
    "## Course"
   ]
  },
  {
   "cell_type": "code",
   "id": "3ffbb13607690dc9",
   "metadata": {
    "collapsed": false,
    "ExecuteTime": {
     "end_time": "2024-04-22T14:08:33.251947Z",
     "start_time": "2024-04-22T14:08:33.214683Z"
    }
   },
   "source": [
    "print(f\"Rows: {course.shape[0]}\")\n",
    "\n",
    "course_code_sk = {}\n",
    "\n",
    "for index, row in course.iterrows():\n",
    "    query = 'INSERT INTO Course (COURSE_code, COURSE_DESCRIPTION, CURRENT_VALUE) VALUES (?,?,?)'\n",
    "    values = (row['COURSE_code'], row['COURSE_DESCRIPTION'], 1)\n",
    "    export_cursor.execute(query, values)\n",
    "    \n",
    "    # Execute the SELECT statement to retrieve the generated primary key\n",
    "    query = 'SELECT @@IDENTITY AS GENERATED_KEY'\n",
    "    export_cursor.execute(query)\n",
    "    generated_primary_key = int(export_cursor.fetchval())\n",
    "    course_code_sk[row['COURSE_code']] = generated_primary_key"
   ],
   "outputs": [
    {
     "name": "stdout",
     "output_type": "stream",
     "text": [
      "Rows: 9\n"
     ]
    }
   ],
   "execution_count": 62
  },
  {
   "cell_type": "markdown",
   "id": "377a29d81ea77be7",
   "metadata": {
    "collapsed": false
   },
   "source": [
    "## order"
   ]
  },
  {
   "cell_type": "code",
   "id": "fdeb100a827fd84e",
   "metadata": {
    "collapsed": false,
    "ExecuteTime": {
     "end_time": "2024-04-22T14:08:59.644573Z",
     "start_time": "2024-04-22T14:08:33.252954Z"
    }
   },
   "source": [
    "print(f\"Rows: {order.shape[0]}\")\n",
    "\n",
    "order_code_sk = {}\n",
    "\n",
    "for index, row in order.iterrows():\n",
    "    query = 'INSERT INTO \"Order\" (ORDER_order_number, ORDER_ORDER_METHOD_CODE_method_code, ORDER_ORDER_METHOD_EN_method) VALUES (?,?,?)'\n",
    "    values = (row['ORDER_order_number'], row['ORDER_ORDER_METHOD_CODE_method_code'], row['ORDER_ORDER_METHOD_EN_method'])\n",
    "    export_cursor.execute(query, values)\n",
    "    \n",
    "    # Execute the SELECT statement to retrieve the generated primary key\n",
    "    query = 'SELECT @@IDENTITY AS GENERATED_KEY'\n",
    "    export_cursor.execute(query)\n",
    "    generated_primary_key = int(export_cursor.fetchval())\n",
    "    order_code_sk[row['ORDER_order_number']] = generated_primary_key"
   ],
   "outputs": [
    {
     "name": "stdout",
     "output_type": "stream",
     "text": [
      "Rows: 5360\n"
     ]
    }
   ],
   "execution_count": 63
  },
  {
   "cell_type": "markdown",
   "id": "b2a9f83d65532e57",
   "metadata": {
    "collapsed": false
   },
   "source": [
    "## retailer_site"
   ]
  },
  {
   "cell_type": "code",
   "id": "6ee2bf106a0b6f51",
   "metadata": {
    "collapsed": false,
    "ExecuteTime": {
     "end_time": "2024-04-22T14:09:01.962716Z",
     "start_time": "2024-04-22T14:08:59.645597Z"
    }
   },
   "source": [
    "print(f\"Rows: {retailer_site.shape[0]}\")\n",
    "\n",
    "# dictionary to store the primary key with the surrogate key. To be used for fk reference\n",
    "retailer_site_code_sk_dict = {}\n",
    "\n",
    "for index, row in retailer_site.iterrows():\n",
    "    query = 'INSERT INTO Retailer_site (RETAILER_SITE_code, RETAILER_SITE_COUNTRY_CODE_country, RETAILER_SITE_CITY_city, RETAILER_SITE_REGION_region, RETAILER_SITE_POSTAL_ZONE_postal_zone, RETAILER_SITE_RETAILER_CODE_retailer_code, RETAILER_SITE_ACTIVE_INDICATOR_indicator, RETAILER_SITE_ADDRESS1_address, RETAILER_SITE_ADDRESS2_address) VALUES (?,?,?,?,?,?,?,?,?)'\n",
    "    values = (row['RETAILER_SITE_code'], row['RETAILER_SITE_COUNTRY_CODE_country'], row['RETAILER_SITE_CITY_city'], row['RETAILER_SITE_REGION_region'], row['RETAILER_SITE_POSTAL_ZONE_postal_zone'], row['RETAILER_SITE_RETAILER_CODE_retailer_code'], row['RETAILER_SITE_ACTIVE_INDICATOR_indicator'], row['RETAILER_SITE_ADDRESS1_address'], row['RETAILER_SITE_ADDRESS2_address'])\n",
    "    export_cursor.execute(query, values)\n",
    "    \n",
    "    # Execute the SELECT statement to retrieve the generated primary key\n",
    "    query = 'SELECT @@IDENTITY AS GENERATED_KEY'\n",
    "    export_cursor.execute(query)\n",
    "    generated_primary_key = int(export_cursor.fetchval())\n",
    "    retailer_site_code_sk_dict[row['RETAILER_SITE_code']] = generated_primary_key"
   ],
   "outputs": [
    {
     "name": "stdout",
     "output_type": "stream",
     "text": [
      "Rows: 391\n"
     ]
    }
   ],
   "execution_count": 64
  },
  {
   "cell_type": "markdown",
   "id": "194dd2447bee6bab",
   "metadata": {
    "collapsed": false
   },
   "source": [
    "## sales_branch"
   ]
  },
  {
   "cell_type": "code",
   "id": "ef0f8ea2b12b0ecc",
   "metadata": {
    "collapsed": false,
    "ExecuteTime": {
     "end_time": "2024-04-22T14:09:02.160590Z",
     "start_time": "2024-04-22T14:09:01.963725Z"
    }
   },
   "source": [
    "print(f\"Rows: {sales_branch.shape[0]}\")\n",
    "\n",
    "sales_branch_code_sk = {}\n",
    "\n",
    "for index, row in sales_branch.iterrows():\n",
    "    query = 'INSERT INTO Sales_branch (SALES_BRANCH_code, SALES_BRANCH_COUNTRY_CODE_country, SALES_BRANCH_REGION_region, SALES_BRANCH_CITY_city, SALES_BRANCH_POSTAL_ZONE_postal_zone, SALES_BRANCH_ADDRESS1_address, SALES_BRANCH_ADDRESS2_address) VALUES (?,?,?,?,?,?,?)'\n",
    "    values = (row['SALES_BRANCH_code'], row['SALES_BRANCH_COUNTRY_CODE_country'], row['SALES_BRANCH_REGION_region'], row['SALES_BRANCH_CITY_city'], row['SALES_BRANCH_POSTAL_ZONE_postal_zone'], row['SALES_BRANCH_ADDRESS1_address'], row['SALES_BRANCH_ADDRESS2_address'])\n",
    "    export_cursor.execute(query, values)\n",
    "    \n",
    "    # Execute the SELECT statement to retrieve the generated primary key\n",
    "    query = 'SELECT @@IDENTITY AS GENERATED_KEY'\n",
    "    export_cursor.execute(query)\n",
    "    generated_primary_key = int(export_cursor.fetchval())\n",
    "    sales_branch_code_sk[row['SALES_BRANCH_code']] = generated_primary_key"
   ],
   "outputs": [
    {
     "name": "stdout",
     "output_type": "stream",
     "text": [
      "Rows: 28\n"
     ]
    }
   ],
   "execution_count": 65
  },
  {
   "cell_type": "markdown",
   "id": "35b7b69ca88d61a1",
   "metadata": {
    "collapsed": false
   },
   "source": [
    "## retailer_contact"
   ]
  },
  {
   "cell_type": "code",
   "id": "b4d7b4d3611c17db",
   "metadata": {
    "collapsed": false,
    "ExecuteTime": {
     "end_time": "2024-04-22T14:09:04.659792Z",
     "start_time": "2024-04-22T14:09:02.161600Z"
    }
   },
   "source": [
    "print(f\"Rows: {retailer_contact.shape[0]}\")\n",
    "\n",
    "retailer_contact_code_sk = {}\n",
    "\n",
    "for index, row in retailer_contact.iterrows():\n",
    "    query = 'INSERT INTO Retailer_contact (RETAILER_CONTACT_code, RETAILER_CONTACT_email, RETAILER_CONTACT_RETAILER_SITE_CODE_site_code, RETAILER_CONTACT_JOB_POSITION_EN_position, RETAILER_CONTACT_EXTENSION_extension, RETAILER_CONTACT_FAX_fax, RETAILER_CONTACT_FIRST_NAME_first_name, RETAILER_CONTACT_LAST_NAME_last_name) VALUES (?,?,?,?,?,?,?,?)'\n",
    "    \n",
    "    values = (row['RETAILER_CONTACT_code'], row['RETAILER_CONTACT_email'], retailer_site_code_sk_dict[row['RETAILER_CONTACT_RETAILER_SITE_CODE_site_code']], row['RETAILER_CONTACT_JOB_POSITION_EN_position'], row['RETAILER_CONTACT_EXTENSION_extension'], row['RETAILER_CONTACT_FAX_fax'], row['RETAILER_CONTACT_FIRST_NAME_first_name'], row['RETAILER_CONTACT_LAST_NAME_last_name'])\n",
    "    \n",
    "    export_cursor.execute(query, values)\n",
    "    \n",
    "    # Execute the SELECT statement to retrieve the generated primary key\n",
    "    query = 'SELECT @@IDENTITY AS GENERATED_KEY'\n",
    "    export_cursor.execute(query)\n",
    "    generated_primary_key = int(export_cursor.fetchval())    \n",
    "    retailer_contact_code_sk[row['RETAILER_CONTACT_code']] = generated_primary_key"
   ],
   "outputs": [
    {
     "name": "stdout",
     "output_type": "stream",
     "text": [
      "Rows: 391\n"
     ]
    }
   ],
   "execution_count": 66
  },
  {
   "cell_type": "markdown",
   "id": "9058a5e5a96357fe",
   "metadata": {
    "collapsed": false
   },
   "source": [
    "## retailer"
   ]
  },
  {
   "cell_type": "code",
   "id": "4e537872be1b419a",
   "metadata": {
    "collapsed": false,
    "ExecuteTime": {
     "end_time": "2024-04-22T14:09:05.117317Z",
     "start_time": "2024-04-22T14:09:04.660806Z"
    }
   },
   "source": [
    "print(f\"Rows: {retailer.shape[0]}\")\n",
    "\n",
    "retailer_code_sk = {}\n",
    "\n",
    "for index, row in retailer.iterrows():\n",
    "    query = 'INSERT INTO Retailer (RETAILER_code, RETAILER_name, RETAILER_COMPANY_CODE_MR_company, RETAILER_RETAILER_TYPE_code, RETAILER_RETAILER_TYPE_EN, CURRENT_VALUE) VALUES (?,?,?,?,?,?)'\n",
    "    values = (row['RETAILER_code'], row['RETAILER_name'], row['RETAILER_COMPANY_CODE_MR_company'], row['RETAILER_RETAILER_TYPE_code'], row['RETAILER_RETAILER_TYPE_EN'], 1)\n",
    "    export_cursor.execute(query, values)\n",
    "    \n",
    "    # Execute the SELECT statement to retrieve the generated primary key\n",
    "    query = 'SELECT @@IDENTITY AS GENERATED_KEY'\n",
    "    export_cursor.execute(query)\n",
    "    generated_primary_key = int(export_cursor.fetchval())\n",
    "    retailer_code_sk[row['RETAILER_code']] = generated_primary_key"
   ],
   "outputs": [
    {
     "name": "stdout",
     "output_type": "stream",
     "text": [
      "Rows: 109\n"
     ]
    }
   ],
   "execution_count": 67
  },
  {
   "cell_type": "markdown",
   "id": "f5ce1e4adc2ddc5f",
   "metadata": {
    "collapsed": false
   },
   "source": [
    "## product"
   ]
  },
  {
   "cell_type": "code",
   "id": "75f5141c8a0705d3",
   "metadata": {
    "collapsed": false,
    "ExecuteTime": {
     "end_time": "2024-04-22T14:09:05.838363Z",
     "start_time": "2024-04-22T14:09:05.118324Z"
    }
   },
   "source": [
    "print(f\"Rows: {product.shape[0]}\")\n",
    "\n",
    "product_code_sk = {}\n",
    "\n",
    "for index, row in product.iterrows():\n",
    "    query = 'INSERT INTO Product (PRODUCT_number, PRODUCT_name_product, PRODUCT_description_description, PRODUCT_image_image, PRODUCT_INTRODUCTION_DATE_introduced, PRODUCT_PRODUCTION_COST_cost, PRODUCT_MARGIN_margin, PRODUCT_LANGUAGE_language, PRODUCT_PRODUCT_LINE_code, PRODUCT_PRODUCT_LINE_code_en, PRODUCT_PRODUCT_TYPE_code, PRODUCT_PRODUCT_TYPE_code_en) VALUES (?,?,?,?,?,?,?,?,?,?,?,?)'\n",
    "    values = (row['PRODUCT_number'], row['PRODUCT_name_product'], row['PRODUCT_description_description'], row['PRODUCT_image_image'], row['PRODUCT_INTRODUCTION_DATE_introduced'], row['PRODUCT_PRODUCTION_COST_cost'], row['PRODUCT_MARGIN_margin'], row['PRODUCT_LANGUAGE_language'], row['PRODUCT_PRODUCT_LINE_code'], row['PRODUCT_PRODUCT_LINE_code_en'], row['PRODUCT_PRODUCT_TYPE_code'], row['PRODUCT_PRODUCT_TYPE_code_en'])\n",
    "    export_cursor.execute(query, values)\n",
    "    \n",
    "    # Execute the SELECT statement to retrieve the generated primary key\n",
    "    query = 'SELECT @@IDENTITY AS GENERATED_KEY'\n",
    "    export_cursor.execute(query)\n",
    "    generated_primary_key = int(export_cursor.fetchval())\n",
    "    product_code_sk[row['PRODUCT_number']] = generated_primary_key"
   ],
   "outputs": [
    {
     "name": "stdout",
     "output_type": "stream",
     "text": [
      "Rows: 115\n"
     ]
    }
   ],
   "execution_count": 68
  },
  {
   "cell_type": "markdown",
   "source": [],
   "metadata": {
    "collapsed": false
   },
   "id": "382d944a297b9dbf"
  },
  {
   "cell_type": "markdown",
   "id": "a408fb4f9e86ea9b",
   "metadata": {
    "collapsed": false
   },
   "source": [
    "## order_details"
   ]
  },
  {
   "cell_type": "code",
   "id": "5db1bb611f6e5484",
   "metadata": {
    "collapsed": false,
    "ExecuteTime": {
     "end_time": "2024-04-22T14:21:30.891021Z",
     "start_time": "2024-04-22T14:09:05.839442Z"
    }
   },
   "source": [
    "print(f\"Rows: {order_details.shape[0]}\")\n",
    "\n",
    "order_detail_code_sk = {}\n",
    "\n",
    "for index, row in order_details.iterrows():\n",
    "    query = 'INSERT INTO Order_details (ORDER_DETAILS_code, ORDER_DETAILS_QUANTITY_quantity, ORDER_DETAILS_TOTAL_COST_total, ORDER_DETAILS_TOTAL_MARGIN_margin,  ORDER_DETAILS_ORDER_NUMBER_order, ORDER_DETAILS_PRODUCT_NUMBER_product, ORDER_DETAILS_UNIT_ID_unit) VALUES (?,?,?,?,?,?,?)'\n",
    "    values = (row['ORDER_DETAIL_code'], row['ORDER_DETAILS_QUANTITY_quantity'], row['ORDER_DETAILS_TOTAL_COST_total'], row['ORDER_DETAILS_TOTAL_MARGIN_margin'], order_code_sk[row['ORDER_DETAILS_ORDER_NUMBER_order']], product_code_sk[row['ORDER_DETAILS_PRODUCT_NUMBER_product']], row['UNIT_id'])\n",
    "    export_cursor.execute(query, values)\n",
    "    \n",
    "    # Execute the SELECT statement to retrieve the generated primary key\n",
    "    query = 'SELECT @@IDENTITY AS GENERATED_KEY'\n",
    "    export_cursor.execute(query)\n",
    "    generated_primary_key = int(export_cursor.fetchval())\n",
    "    order_detail_code_sk[row['ORDER_DETAIL_code']] = generated_primary_key\n",
    "    "
   ],
   "outputs": [
    {
     "name": "stdout",
     "output_type": "stream",
     "text": [
      "Rows: 43063\n"
     ]
    }
   ],
   "execution_count": 69
  },
  {
   "cell_type": "markdown",
   "id": "1ae381712a0624f6",
   "metadata": {
    "collapsed": false
   },
   "source": [
    "## returned_item"
   ]
  },
  {
   "cell_type": "code",
   "id": "f7a374b55482409",
   "metadata": {
    "collapsed": false,
    "ExecuteTime": {
     "end_time": "2024-04-22T14:21:32.745913Z",
     "start_time": "2024-04-22T14:21:30.895038Z"
    }
   },
   "source": [
    "print(f\"Rows: {returned_item.shape[0]}\")\n",
    "\n",
    "for index, row in returned_item.iterrows():\n",
    "    query = 'INSERT INTO Returned_item (RETURNED_ITEM_code, RETURNED_ITEM_DATE, RETURNED_ITEM_QUANTITY, RETURNED_ITEM_ORDER_DETAIL_CODE, RETURNED_ITEM_RETURN_REASON_code, RETURNED_ITEM_RETURN_REASON_description_en, RETURNED_ITEM_RETURNED_ITEMS_TOTAL_PRICE) VALUES (?,?,?,?,?,?,?)'\n",
    "    values = (row['RETURNED_ITEM_code'], row['RETURNED_ITEM_DATE'], row['RETURNED_ITEM_QUANTITY'], order_detail_code_sk[row['RETURNED_ITEM_ORDER_DETAIL_CODE']], row['RETURNED_ITEM_RETURN_REASON_code'], row['RETURNED_ITEM_RETURN_REASON_description_en'], row['RETURNED_ITEM_RETURNED_ITEMS_TOTAL_PRICE'])\n",
    "    export_cursor.execute(query, values)"
   ],
   "outputs": [
    {
     "name": "stdout",
     "output_type": "stream",
     "text": [
      "Rows: 706\n"
     ]
    }
   ],
   "execution_count": 70
  },
  {
   "cell_type": "markdown",
   "id": "7d2b2ff236235fdf",
   "metadata": {
    "collapsed": false
   },
   "source": [
    "## sales_target_data"
   ]
  },
  {
   "cell_type": "code",
   "id": "9094928bcff31e64",
   "metadata": {
    "collapsed": false,
    "ExecuteTime": {
     "end_time": "2024-04-22T14:31:47.219075Z",
     "start_time": "2024-04-22T14:21:32.748994Z"
    }
   },
   "source": [
    "print(f\"Rows: {sales_target_data.shape[0]}\")\n",
    "for index, row in sales_target_data.iterrows():\n",
    "    query = 'INSERT INTO SALES_TARGETDATA (SALES_TARGETDATA_SALES_YEAR, SALES_TARGETDATA_SALES_PERIOD, SALES_TARGETDATA_RETAILER_NAME, SALES_TARGETDATA_SALES_TARGET, SALES_TARGETDATA_TARGET_COST, SALES_TARGETDATA_TARGET_MARGIN, SALES_TARGETDATA_SALES_STAFF_CODE, SALES_TARGETDATA_PRODUCT_NUMBER, SALES_TARGETDATA_RETAILER_CODE, SALES_TARGETDATA_SALES_TARGETDATA_ID) VALUES (?,?,?,?,?,?,?,?,?, ?)'\n",
    "    values = (row['SALES_TARGETDATA_SALES_YEAR'], row['SALES_TARGETDATA_SALES_PERIOD'], row['SALES_TARGETDATA_RETAILER_NAME'], row['SALES_TARGETDATA_SALES_TARGET'], row['SALES_TARGET_DATA_TARGET_COST'], row['SALES_TARGET_DATA_TARGET_MARGIN'],  sales_staff_code_sk[row['SALES_TARGETDATA_SALES_STAFF_CODE']], product_code_sk[row['PRODUCT_number']], retailer_code_sk[row['RETAILER_code']], row['Id'])\n",
    "    export_cursor.execute(query, values)"
   ],
   "outputs": [
    {
     "name": "stdout",
     "output_type": "stream",
     "text": [
      "Rows: 39530\n"
     ]
    }
   ],
   "execution_count": 71
  },
  {
   "cell_type": "markdown",
   "id": "d51834d38ef5bd7f",
   "metadata": {
    "collapsed": false
   },
   "source": [
    "## training"
   ]
  },
  {
   "cell_type": "code",
   "id": "203fad21638237ff",
   "metadata": {
    "collapsed": false,
    "ExecuteTime": {
     "end_time": "2024-04-22T14:31:47.983863Z",
     "start_time": "2024-04-22T14:31:47.223259Z"
    }
   },
   "source": [
    "print(f\"Rows: {training.shape[0]}\")\n",
    "for index, row in training.iterrows():\n",
    "    query = 'INSERT INTO Training (TRAINING_SALES_STAFF_CODE, TRAINING_COURSE_CODE, TRAINING_YEAR) VALUES (?,?,?)'\n",
    "    values = (sales_staff_code_sk[row['TRAINING_SALES_STAFF_CODE']], course_code_sk[row['TRAINING_COURSE_CODE']], row['TRAINING_YEAR'])\n",
    "    export_cursor.execute(query, values)"
   ],
   "outputs": [
    {
     "name": "stdout",
     "output_type": "stream",
     "text": [
      "Rows: 402\n"
     ]
    }
   ],
   "execution_count": 72
  },
  {
   "cell_type": "markdown",
   "id": "6809bc76db4bcd3a",
   "metadata": {
    "collapsed": false
   },
   "source": [
    "## satisfaction"
   ]
  },
  {
   "cell_type": "code",
   "id": "db67790698726567",
   "metadata": {
    "collapsed": false,
    "ExecuteTime": {
     "end_time": "2024-04-22T14:31:48.498969Z",
     "start_time": "2024-04-22T14:31:47.986877Z"
    }
   },
   "source": [
    "print(f\"Rows: {satisfaction.shape[0]}\")\n",
    "for index, row in satisfaction.iterrows():\n",
    "    query = 'INSERT INTO Satisfaction (SATISFACTION_SALES_STAFF_CODE, SATISFACTION_SATISFACTION_TYPE_CODE, SATISFACTION_YEAR) VALUES (?,?,?)'\n",
    "    values = (sales_staff_code_sk[row['SATISFACTION_SALES_STAFF_CODE']], satisfaction_type_code_sk[row['SATISFACTION_SATISFACTION_TYPE_CODE']], row['SATISFACTION_YEAR'])\n",
    "    export_cursor.execute(query, values)"
   ],
   "outputs": [
    {
     "name": "stdout",
     "output_type": "stream",
     "text": [
      "Rows: 301\n"
     ]
    }
   ],
   "execution_count": 73
  },
  {
   "cell_type": "markdown",
   "id": "504717807a49344e",
   "metadata": {
    "collapsed": false
   },
   "source": [
    "## order_header"
   ]
  },
  {
   "cell_type": "code",
   "id": "e888ad83b9f74e7d",
   "metadata": {
    "collapsed": false,
    "ExecuteTime": {
     "end_time": "2024-04-22T14:32:07.451217Z",
     "start_time": "2024-04-22T14:31:48.500058Z"
    }
   },
   "source": [
    "print(f\"Rows: {order_header.shape[0]}\")\n",
    "\n",
    "for index, row in order_header.iterrows():\n",
    "    query = 'INSERT INTO Order_header (ORDER_HEADER_number, ORDER_HEADER_SALES_STAFF_CODE, ORDER_HEADER_SALES_BRANCH_CODE, ORDER_HEADER_RETAILER_SITE_CODE, ORDER_HEADER_RETAILER_CONTACT_CODE, ORDER_HEADER_RETAILER_CODE, ORDER_HEADER_ORDER_DATE, ORDER_HEADER_ORDER_order_number) VALUES (?,?,?,?,?,?,?, ?)'\n",
    "    values = (row['ORDER_HEADER_number'], sales_staff_code_sk[row['ORDER_HEADER_SALES_STAFF_CODE']], sales_branch_code_sk[row['ORDER_HEADER_SALES_BRANCH_CODE']], retailer_site_code_sk_dict[row['ORDER_HEADER_RETAILER_SITE_CODE']], retailer_contact_code_sk[row['ORDER_HEADER_RETAILER_CONTACT_CODE']], retailer_code_sk[row['RETAILER_CODE']], row['ORDER_HEADER_ORDER_DATE'], order_code_sk[row['ORDER_HEADER_number']])\n",
    "    export_cursor.execute(query, values)"
   ],
   "outputs": [
    {
     "name": "stdout",
     "output_type": "stream",
     "text": [
      "Rows: 4965\n"
     ]
    }
   ],
   "execution_count": 74
  },
  {
   "cell_type": "markdown",
   "id": "552b4deb1ec12bb7",
   "metadata": {
    "collapsed": false
   },
   "source": [
    "## retailer_segment"
   ]
  },
  {
   "cell_type": "code",
   "id": "11edad547765b506",
   "metadata": {
    "collapsed": false,
    "ExecuteTime": {
     "end_time": "2024-04-22T14:32:07.517196Z",
     "start_time": "2024-04-22T14:32:07.453739Z"
    }
   },
   "source": [
    "print(f\"Rows: {retailer_segment.shape[0]}\")\n",
    "for index, row in retailer_segment.iterrows():\n",
    "    query = 'INSERT INTO Retailer_segment (RETAILER_SEGMENT_segment_code, RETAILER_SEGMENT_language, RETAILER_SEGMENT_segment_name, RETAILER_SEGMENT_SEGMENT_DESCRIPTION_description, SEGMENT_DESCRIPTION_description_short, CURRENT_VALUE) VALUES (?,?,?,?,?,?)'\n",
    "    values = (row['RETAILER_SEGMENT_segment_code'], row['RETAILER_SEGMENT_language'], row['RETAILER_SEGMENT_segment_name'], row['RETAILER_SEGMENT_SEGMENT_DESCRIPTION_description'], row['SEGMENT_DESCRIPTION_SHORT'], 1)\n",
    "    export_cursor.execute(query, values)"
   ],
   "outputs": [
    {
     "name": "stdout",
     "output_type": "stream",
     "text": [
      "Rows: 12\n"
     ]
    }
   ],
   "execution_count": 75
  },
  {
   "cell_type": "markdown",
   "id": "1d762cfc1fa15f4",
   "metadata": {
    "collapsed": false
   },
   "source": [
    "## retailer_headquarters"
   ]
  },
  {
   "cell_type": "code",
   "id": "1c8ffc80dcb80dd3",
   "metadata": {
    "collapsed": false,
    "ExecuteTime": {
     "end_time": "2024-04-22T14:32:09.583126Z",
     "start_time": "2024-04-22T14:32:07.519204Z"
    }
   },
   "source": [
    "print(f\"Rows: {retailer_headquarters.shape[0]}\")\n",
    "\n",
    "retailer_headquarters_code_sk = {}\n",
    "\n",
    "for index, row in retailer_headquarters.iterrows():\n",
    "    query = 'INSERT INTO Retailer_headquarter (RETAILER_HEADQUARTER_codemr, RETAIL_HEADQUARTER_retailer_name, RETAILER_HEADQUARTER_address1_address, RETAILER_HEADQUARTER_address2_address, RETAILER_HEADQUARTER_city_city, RETAILER_HEADQUARTER_region_region, RETAILER_HEADQUARTER_postal_zone_postal_zone, RETAILER_HEADQUARTER_country_code_country, RETAILER_HEADQUARTER_phone_phone, RETAILER_HEADQUARTER_fax_fax, RETAILER_HEADQUARTER_segment_code, RETAILER_HEADQUARTER_main_address_address) VALUES (?,?,?,?,?,?,?,?,?,?,?,?)'\n",
    "    values = (row['RETAILER_HEADQUARTER_codemr'], row['RETAIL_HEADQUARTER_retailer_name'], row['RETAILER_HEADQUARTER_address1_address'], row['RETAILER_HEADQUARTER_address2_address'], row['RETAILER_HEADQUARTER_city_city'], row['RETAILER_HEADQUARTER_region_region'], row['RETAILER_HEADQUARTER_postal_zone_postal_zone'], row['RETAILER_HEADQUARTER_country_code_country'], row['RETAILER_HEADQUARTER_phone_phone'], row['RETAILER_HEADQUARTER_fax_fax'], row['RETAILER_HEADQUARTER_segment_code'], row['MAIN_ADDRESS'])\n",
    "    export_cursor.execute(query, values)\n",
    "    \n",
    "    # Execute the SELECT statement to retrieve the generated primary key\n",
    "    query = 'SELECT @@IDENTITY AS GENERATED_KEY'\n",
    "    export_cursor.execute(query)\n",
    "    generated_primary_key = int(export_cursor.fetchval())\n",
    "    retailer_headquarters_code_sk[row['RETAILER_HEADQUARTER_codemr']] = generated_primary_key"
   ],
   "outputs": [
    {
     "name": "stdout",
     "output_type": "stream",
     "text": [
      "Rows: 414\n"
     ]
    }
   ],
   "execution_count": 76
  },
  {
   "cell_type": "markdown",
   "id": "2d25c6d254bc4e1d",
   "metadata": {
    "collapsed": false
   },
   "source": [
    "## Go_sales_inventory_levels"
   ]
  },
  {
   "cell_type": "code",
   "id": "952c91ad5830a781",
   "metadata": {
    "collapsed": false,
    "ExecuteTime": {
     "end_time": "2024-04-22T14:32:22.077127Z",
     "start_time": "2024-04-22T14:32:09.585135Z"
    }
   },
   "source": [
    "print(f\"Rows: {go_sales_inventory_levels.shape[0]}\")\n",
    "for index, row in go_sales_inventory_levels.iterrows():\n",
    "    query = 'INSERT INTO GO_SALES_INVENTORY_LEVELS (GO_SALES_INVENTORY_LEVELS_PRODUCT_NUMBER, GO_SALES_INVENTORY_LEVELS_YEAR_MONTH, GO_SALES_INVENTORY_LEVELS_INVENTORY_COUNT, GO_SALES_INVENTORY_LEVELS_id) VALUES (?,?,?, ?)'\n",
    "    values = (product_code_sk[row['GO_SALES_INVENTORY_LEVELS_PRODUCT_NUMBER']], row['GO_SALES_INVENTORY_LEVELS_YEAR_MONTH'], row['GO_SALES_INVENTORY_LEVELS_INVENTORY_COUNT'], index)\n",
    "    export_cursor.execute(query, values)"
   ],
   "outputs": [
    {
     "name": "stdout",
     "output_type": "stream",
     "text": [
      "Rows: 3888\n"
     ]
    }
   ],
   "execution_count": 77
  },
  {
   "cell_type": "markdown",
   "id": "52bdff41402b6dcc",
   "metadata": {
    "collapsed": false
   },
   "source": [
    "## Go_sales_product_forecast"
   ]
  },
  {
   "cell_type": "code",
   "id": "f3cfc7bc05d752ab",
   "metadata": {
    "collapsed": false,
    "ExecuteTime": {
     "end_time": "2024-04-22T14:32:34.295100Z",
     "start_time": "2024-04-22T14:32:22.079718Z"
    }
   },
   "source": [
    "print(f\"Rows: {sales_product_forecast.shape[0]}\")\n",
    "\n",
    "# converting expected cost and expected margin to float\n",
    "sales_product_forecast['GO_SALES_PRODUCT_FORECAST_EXPECTED_COST'] = sales_product_forecast['GO_SALES_PRODUCT_FORECAST_EXPECTED_COST'].astype('float')\n",
    "sales_product_forecast['GO_SALES_PRODUCT_FORECAST_EXPECTED_MARGIN'] = sales_product_forecast['GO_SALES_PRODUCT_FORECAST_EXPECTED_MARGIN'].astype('float')\n",
    "\n",
    "for index, row in sales_product_forecast.iterrows():\n",
    "    query = 'INSERT INTO GO_SALES_PRODUCT_FORECAST (GO_SALES_PRODUCT_FORECAST_PRODUCT_NUMBER, GO_SALES_PRODUCT_FORECAST_YEAR_MONTH, GO_SALES_PRODUCT_FORECAST_EXPECTED_VOLUME, GO_SALES_PRODUCT_FORECAST_EXPECTED_COST, GO_SALES_PRODUCT_FORECAST_EXPECTED_MARGIN, GO_SALES_PRODUCT_FORECAST_id) VALUES (?,?,?,?,?,?)'\n",
    "    values = (product_code_sk[row['GO_SALES_PRODUCT_FORECAST_PRODUCT_NUMBER']], row['GO_SALES_PRODUCT_FORECAST_YEAR_MONTH'],row['GO_SALES_PRODUCT_FORECAST_EXPECTED_VOLUME'], row['GO_SALES_PRODUCT_FORECAST_EXPECTED_COST'], row['GO_SALES_PRODUCT_FORECAST_EXPECTED_MARGIN'], index)\n",
    "    export_cursor.execute(query, values)"
   ],
   "outputs": [
    {
     "name": "stdout",
     "output_type": "stream",
     "text": [
      "Rows: 3872\n"
     ]
    }
   ],
   "execution_count": 78
  },
  {
   "metadata": {},
   "cell_type": "markdown",
   "source": "## Sales_demographic",
   "id": "f57f95fc04b2bf6f"
  },
  {
   "metadata": {
    "ExecuteTime": {
     "end_time": "2024-04-22T14:44:44.586538Z",
     "start_time": "2024-04-22T14:44:44.423007Z"
    }
   },
   "cell_type": "code",
   "source": [
    "print(f\"Rows: {sales_demographic.shape[0]}\")\n",
    "\n",
    "for index, row in sales_demographic.iterrows():\n",
    "    query = 'INSERT INTO SALES_DEMOGRAPHIC (SALES_DEMOGRAPHIC_AGE_GROUP_CODE, SALES_DEMOGRAPHIC_UPPER_AGE, SALES_DEMOGRAPHIC_LOWER_AGE, SALES_DEMOGRAPHIC_code,SALES_DEMOGRAPHIC_RETAILER_CODE,SALES_DEMOGRAPHIC_SALES_PERCENT) VALUES (?,?,?,?,?,?)'\n",
    "    values = (row['SALES_DEMOGRAPHIC_AGE_GROUP_CODE'], row['SALES_DEMOGRAPHIC_UPPER_AGE'], row['SALES_DEMOGRAPHIC_LOWER_AGE'], row['SALES_DEMOGRAPHIC_code'], retailer_headquarters_code_sk[row['SALES_DEMOGRAPHIC_RETAILER_CODE']], row['SALES_DEMOGRAPHIC_SALES_PERCENT'])\n",
    "    export_cursor.execute(query, values)   "
   ],
   "id": "78877c2efe7d8c9e",
   "outputs": [
    {
     "name": "stdout",
     "output_type": "stream",
     "text": [
      "Rows: 2484\n"
     ]
    },
    {
     "ename": "KeyError",
     "evalue": "2",
     "output_type": "error",
     "traceback": [
      "\u001B[1;31m---------------------------------------------------------------------------\u001B[0m",
      "\u001B[1;31mKeyError\u001B[0m                                  Traceback (most recent call last)",
      "Cell \u001B[1;32mIn[80], line 5\u001B[0m\n\u001B[0;32m      3\u001B[0m \u001B[38;5;28;01mfor\u001B[39;00m index, row \u001B[38;5;129;01min\u001B[39;00m sales_demographic\u001B[38;5;241m.\u001B[39miterrows():\n\u001B[0;32m      4\u001B[0m     query \u001B[38;5;241m=\u001B[39m \u001B[38;5;124m'\u001B[39m\u001B[38;5;124mINSERT INTO SALES_DEMOGRAPHIC (SALES_DEMOGRAPHIC_AGE_GROUP_CODE, SALES_DEMOGRAPHIC_UPPER_AGE, SALES_DEMOGRAPHIC_LOWER_AGE, SALES_DEMOGRAPHIC_code,SALES_DEMOGRAPHIC_RETAILER_CODE,SALES_DEMOGRAPHIC_SALES_PERCENT) VALUES (?,?,?,?,?,?)\u001B[39m\u001B[38;5;124m'\u001B[39m\n\u001B[1;32m----> 5\u001B[0m     values \u001B[38;5;241m=\u001B[39m (row[\u001B[38;5;124m'\u001B[39m\u001B[38;5;124mSALES_DEMOGRAPHIC_AGE_GROUP_CODE\u001B[39m\u001B[38;5;124m'\u001B[39m], row[\u001B[38;5;124m'\u001B[39m\u001B[38;5;124mSALES_DEMOGRAPHIC_UPPER_AGE\u001B[39m\u001B[38;5;124m'\u001B[39m], row[\u001B[38;5;124m'\u001B[39m\u001B[38;5;124mSALES_DEMOGRAPHIC_LOWER_AGE\u001B[39m\u001B[38;5;124m'\u001B[39m], row[\u001B[38;5;124m'\u001B[39m\u001B[38;5;124mSALES_DEMOGRAPHIC_code\u001B[39m\u001B[38;5;124m'\u001B[39m], \u001B[43mretailer_code_sk\u001B[49m\u001B[43m[\u001B[49m\u001B[43mrow\u001B[49m\u001B[43m[\u001B[49m\u001B[38;5;124;43m'\u001B[39;49m\u001B[38;5;124;43mSALES_DEMOGRAPHIC_RETAILER_CODE\u001B[39;49m\u001B[38;5;124;43m'\u001B[39;49m\u001B[43m]\u001B[49m\u001B[43m]\u001B[49m, row[\u001B[38;5;124m'\u001B[39m\u001B[38;5;124mSALES_DEMOGRAPHIC_SALES_PERCENT\u001B[39m\u001B[38;5;124m'\u001B[39m])\n\u001B[0;32m      6\u001B[0m     export_cursor\u001B[38;5;241m.\u001B[39mexecute(query, values)   \n",
      "\u001B[1;31mKeyError\u001B[0m: 2"
     ]
    }
   ],
   "execution_count": 80
  },
  {
   "cell_type": "markdown",
   "id": "654c186fd2bbe576",
   "metadata": {
    "collapsed": false
   },
   "source": [
    "## clean up"
   ]
  },
  {
   "cell_type": "code",
   "id": "1b07e6b707a7cd6e",
   "metadata": {
    "collapsed": false,
    "ExecuteTime": {
     "end_time": "2024-04-22T14:32:35.365361Z",
     "start_time": "2024-04-22T14:32:35.365361Z"
    }
   },
   "source": [
    "# close cursor\n",
    "export_cursor.close()\n",
    "\n",
    "# close connection\n",
    "export_conn.close()"
   ],
   "outputs": [],
   "execution_count": null
  }
 ],
 "metadata": {
  "kernelspec": {
   "display_name": "Python 3 (ipykernel)",
   "language": "python",
   "name": "python3"
  },
  "language_info": {
   "codemirror_mode": {
    "name": "ipython",
    "version": 3
   },
   "file_extension": ".py",
   "mimetype": "text/x-python",
   "name": "python",
   "nbconvert_exporter": "python",
   "pygments_lexer": "ipython3",
   "version": "3.12.2"
  }
 },
 "nbformat": 4,
 "nbformat_minor": 5
}
