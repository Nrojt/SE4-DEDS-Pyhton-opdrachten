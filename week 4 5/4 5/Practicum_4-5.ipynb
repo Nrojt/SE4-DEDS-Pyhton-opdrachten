{
 "cells": [
  {
   "cell_type": "markdown",
   "id": "d086cc99c4d69011",
   "metadata": {
    "collapsed": false
   },
   "source": [
    "Practicumopdrachten Week 4.3 (eerste kans)"
   ]
  },
  {
   "cell_type": "code",
   "execution_count": 1,
   "id": "53ceadd40e419431",
   "metadata": {
    "collapsed": false,
    "ExecuteTime": {
     "end_time": "2024-03-20T20:46:30.471144Z",
     "start_time": "2024-03-20T20:46:30.141329Z"
    }
   },
   "outputs": [],
   "source": [
    "import pandas as pd\n",
    "import pyodbc\n",
    "import sqlite3\n",
    "import numpy as np\n",
    "import re\n",
    "import sys"
   ]
  },
  {
   "cell_type": "markdown",
   "id": "823d7a97f719ddcb",
   "metadata": {
    "collapsed": false
   },
   "source": [
    "# Mssql database\n",
    "Mssql server database"
   ]
  },
  {
   "cell_type": "code",
   "execution_count": 2,
   "id": "150761955324b009",
   "metadata": {
    "collapsed": false,
    "ExecuteTime": {
     "end_time": "2024-03-20T20:46:30.862151Z",
     "start_time": "2024-03-20T20:46:30.859699Z"
    }
   },
   "outputs": [],
   "source": [
    "# database name\n",
    "DB = {\n",
    "    'servername': '(local)\\\\SQLEXPRESS',\n",
    "    'database': 'DEDS_DataWarehouse'}"
   ]
  },
  {
   "cell_type": "markdown",
   "id": "2786f3955bc198b8",
   "metadata": {
    "collapsed": false
   },
   "source": [
    "## Database aanmaken"
   ]
  },
  {
   "cell_type": "code",
   "execution_count": 60,
   "id": "47dcfac02c67d8e9",
   "metadata": {
    "collapsed": false,
    "ExecuteTime": {
     "end_time": "2024-03-20T20:48:40.064788Z",
     "start_time": "2024-03-20T20:48:39.896886Z"
    }
   },
   "outputs": [],
   "source": [
    "# Connect to the SQL Server database, not a specific database but the master\n",
    "conn = pyodbc.connect('DRIVER={SQL Server};SERVER=' + DB['servername'] + ';DATABASE=master;Trusted_Connection=yes')\n",
    "\n",
    "# Create a cursor object\n",
    "cur = conn.cursor()\n",
    "\n",
    "try:\n",
    "    # Kill all active connections to the database\n",
    "    cur.execute(\"\"\"\n",
    "        DECLARE @kill varchar(8000) = '';\n",
    "        SELECT @kill = @kill + 'kill ' + convert(varchar, spid) + ';'\n",
    "        FROM master.dbo.sysprocesses\n",
    "        WHERE dbid = db_id('{database}')\n",
    "        AND spid <> @@spid;\n",
    "        EXEC(@kill);\n",
    "    \"\"\".format(database=DB['database']))\n",
    "    conn.commit()\n",
    "\n",
    "    # Close the current connection\n",
    "    cur.close()\n",
    "    conn.close()\n",
    "\n",
    "    # Reconnect to the SQL Server database\n",
    "    conn = pyodbc.connect('DRIVER={SQL Server};SERVER=' + DB['servername'] + ';DATABASE=master;Trusted_Connection=yes')\n",
    "    cur = conn.cursor()\n",
    "\n",
    "    # Read the SQL script file\n",
    "    with open('src/DEDS_DataWarehouse_Creation_Script.sql', 'r') as file:\n",
    "        sql_script = file.read()\n",
    "\n",
    "    # Split the SQL script into individual statements\n",
    "    sql_statements = re.split(r'GO\\n', sql_script)\n",
    "\n",
    "    # Execute the DROP DATABASE statement\n",
    "    drop_database_stmt = sql_statements[0]\n",
    "    cur.execute(drop_database_stmt)\n",
    "\n",
    "    # Execute the CREATE DATABASE statement\n",
    "    create_database_stmt = sql_statements[1]\n",
    "    cur.execute(create_database_stmt)\n",
    "\n",
    "    # Start a new transaction\n",
    "    conn.autocommit = False\n",
    "\n",
    "    # Execute the remaining SQL statements within the transaction\n",
    "    for sql_statement in sql_statements[2:]:\n",
    "        cur.execute(sql_statement)\n",
    "    # Commit the transaction\n",
    "    conn.commit()\n",
    "\n",
    "except pyodbc.Error as e:\n",
    "    print(f\"Error: {e}\")\n",
    "    conn.rollback()\n",
    "    sys.exit(1)\n",
    "\n",
    "finally:\n",
    "    # Close the cursor\n",
    "    cur.close()\n",
    "\n",
    "    # Close the connection\n",
    "    conn.close()"
   ]
  },
  {
   "cell_type": "markdown",
   "id": "8ad6ccb5da326445",
   "metadata": {
    "collapsed": false
   },
   "source": [
    "## Database connectie"
   ]
  },
  {
   "cell_type": "code",
   "execution_count": null,
   "id": "948252c29b10a629",
   "metadata": {
    "collapsed": false
   },
   "outputs": [],
   "source": [
    "export_conn = pyodbc.connect('DRIVER={SQL Server};SERVER=' + DB['servername'] + ';DATABASE=' + DB['database'] + ';Trusted_Connection=yes')\n",
    "\n",
    "\n",
    "# Create a cursor from the connection\n",
    "export_cursor = export_conn.cursor()\n",
    "\n",
    "# check if connection is successful, else throw an error\n",
    "if export_conn:\n",
    "    print(\"Connection with database is established\")\n",
    "    # setting the autocommit to True\n",
    "    export_conn.autocommit = True\n",
    "else:\n",
    "    print(\"Connection with database is not established\")\n",
    "    raise Exception(\"Connection with database is not established\")\n"
   ]
  },
  {
   "cell_type": "markdown",
   "id": "9c06294903211408",
   "metadata": {
    "collapsed": false
   },
   "source": [
    "# Brontabellen\n",
    "importeer de brontabellen uit de brondata folder"
   ]
  },
  {
   "cell_type": "code",
   "execution_count": null,
   "id": "7e3485e0d80801c9",
   "metadata": {
    "collapsed": false,
    "ExecuteTime": {
     "start_time": "2024-03-20T20:46:31.365199Z"
    }
   },
   "outputs": [],
   "source": [
    "# Connectie met sqlite databases\n",
    "go_crm_connection = sqlite3.connect('data/raw/go_crm.sqlite')\n",
    "go_sales_connection = sqlite3.connect('data/raw/go_sales.sqlite')\n",
    "go_staff_connection = sqlite3.connect('data/raw/go_staff.sqlite')\n"
   ]
  },
  {
   "cell_type": "code",
   "execution_count": null,
   "id": "80afb12db9f862d",
   "metadata": {
    "collapsed": false,
    "ExecuteTime": {
     "start_time": "2024-03-20T20:46:31.366199Z"
    }
   },
   "outputs": [],
   "source": [
    "# inlezen csv bestanden\n",
    "go_sales_inventory_levels = pd.read_csv('data/raw/GO_SALES_INVENTORY_LEVELSData.csv')\n",
    "go_sales_product_forcast = pd.read_csv('data/raw/GO_SALES_PRODUCT_FORECASTData.csv')"
   ]
  },
  {
   "cell_type": "markdown",
   "id": "e4ca8a748b700495",
   "metadata": {
    "collapsed": false
   },
   "source": [
    "## Inlezen van de sqlite tabellen"
   ]
  },
  {
   "cell_type": "markdown",
   "id": "94c4cad4f19bfd1e",
   "metadata": {
    "collapsed": false
   },
   "source": [
    "### go_crm"
   ]
  },
  {
   "cell_type": "code",
   "execution_count": null,
   "id": "689787d21e2dd6f3",
   "metadata": {
    "collapsed": false,
    "ExecuteTime": {
     "start_time": "2024-03-20T20:46:31.366699Z"
    }
   },
   "outputs": [],
   "source": [
    "go_crm_age_group = pd.read_sql_query(\"SELECT * FROM age_group\", go_crm_connection)\n",
    "go_crm_country = pd.read_sql_query(\"SELECT * FROM country\", go_crm_connection)\n",
    "go_crm_retailer = pd.read_sql_query(\"SELECT * FROM retailer\", go_crm_connection)\n",
    "go_crm_retailer_contact = pd.read_sql_query(\"SELECT * FROM retailer_contact\", go_crm_connection)\n",
    "go_crm_retailer_headquarters = pd.read_sql_query(\"SELECT * FROM retailer_headquarters\", go_crm_connection)\n",
    "go_crm_retailer_segment = pd.read_sql_query(\"SELECT * FROM retailer_segment\", go_crm_connection)\n",
    "go_crm_retailer_site = pd.read_sql_query(\"SELECT * FROM retailer_site\", go_crm_connection)\n",
    "go_crm_retailer_type = pd.read_sql_query(\"SELECT * FROM retailer_type\", go_crm_connection)\n",
    "go_crm_sales_demographic = pd.read_sql_query(\"SELECT * FROM sales_demographic\", go_crm_connection)\n",
    "go_crm_sales_territory = pd.read_sql_query(\"SELECT * FROM sales_territory\", go_crm_connection)"
   ]
  },
  {
   "cell_type": "markdown",
   "id": "c0d3bb6ca017c9f5",
   "metadata": {
    "collapsed": false
   },
   "source": [
    "### go_sales"
   ]
  },
  {
   "cell_type": "code",
   "execution_count": null,
   "id": "57ccae2b6fd7637c",
   "metadata": {
    "collapsed": false
   },
   "outputs": [],
   "source": [
    "go_sales_country = pd.read_sql_query(\"SELECT * FROM country\", go_sales_connection)\n",
    "go_sales_order_details = pd.read_sql_query(\"SELECT * FROM order_details\", go_sales_connection)\n",
    "go_sales_order_header = pd.read_sql_query(\"SELECT * FROM order_header\", go_sales_connection)\n",
    "go_sales_order_method = pd.read_sql_query(\"SELECT * FROM order_method\", go_sales_connection)\n",
    "go_sales_product = pd.read_sql_query(\"SELECT * FROM product\", go_sales_connection)\n",
    "go_sales_product_line = pd.read_sql_query(\"SELECT * FROM product_line\", go_sales_connection)\n",
    "go_sales_product_type = pd.read_sql_query(\"SELECT * FROM product_type\", go_sales_connection)\n",
    "go_sales_retailer_site = pd.read_sql_query(\"SELECT * FROM retailer_site\", go_sales_connection)\n",
    "go_sales_return_reason = pd.read_sql_query(\"SELECT * FROM return_reason\", go_sales_connection)\n",
    "go_sales_returned_item = pd.read_sql_query(\"SELECT * FROM returned_item\", go_sales_connection)\n",
    "go_sales_sales_branch = pd.read_sql_query(\"SELECT * FROM sales_branch\", go_sales_connection)\n",
    "go_sales_sales_staff = pd.read_sql_query(\"SELECT * FROM sales_staff\", go_sales_connection)\n",
    "go_sales_sales_target_data = pd.read_sql(\"SELECT * FROM SALES_TARGETData\", go_sales_connection)"
   ]
  },
  {
   "cell_type": "markdown",
   "id": "169a4aba88468c64",
   "metadata": {
    "collapsed": false
   },
   "source": [
    "### go_staff"
   ]
  },
  {
   "cell_type": "code",
   "execution_count": null,
   "id": "2f2206ef6f8f73ef",
   "metadata": {
    "collapsed": false,
    "ExecuteTime": {
     "start_time": "2024-03-20T20:46:31.368702Z"
    }
   },
   "outputs": [],
   "source": [
    "go_staff_course = pd.read_sql_query(\"SELECT * FROM course\", go_staff_connection)\n",
    "go_staff_sales_branch = pd.read_sql_query(\"SELECT * FROM sales_branch\", go_staff_connection)\n",
    "go_staff_sales_staff = pd.read_sql_query(\"SELECT * FROM sales_staff\", go_staff_connection)\n",
    "go_staff_satisfaction = pd.read_sql_query(\"SELECT * FROM satisfaction\", go_staff_connection)\n",
    "go_staff_satisfaction_type = pd.read_sql_query(\"SELECT * FROM satisfaction_type\", go_staff_connection)\n",
    "go_staff_training = pd.read_sql_query(\"SELECT * FROM training\", go_staff_connection)"
   ]
  },
  {
   "cell_type": "markdown",
   "id": "650835d0566406ab",
   "metadata": {
    "collapsed": false
   },
   "source": []
  },
  {
   "cell_type": "markdown",
   "id": "9519bb1f61aa945f",
   "metadata": {
    "collapsed": false
   },
   "source": [
    "# Combineren van de tabellen\n",
    "Combineren van de brondata om tot ons ETL te komen"
   ]
  },
  {
   "cell_type": "code",
   "execution_count": null,
   "id": "a9d599b20a6c25c0",
   "metadata": {
    "collapsed": false,
    "ExecuteTime": {
     "start_time": "2024-03-20T20:46:31.369200Z"
    }
   },
   "outputs": [],
   "source": [
    "all_dataframes = []"
   ]
  },
  {
   "cell_type": "markdown",
   "id": "e50f788702cce510",
   "metadata": {
    "collapsed": false
   },
   "source": [
    "### returned_item"
   ]
  },
  {
   "cell_type": "code",
   "execution_count": null,
   "id": "5ef006f254269ef",
   "metadata": {
    "collapsed": false
   },
   "outputs": [],
   "source": [
    "# to be used in order details\n",
    "returned_item_columns = ['RETURN_CODE', 'RETURN_DATE', 'RETURN_QUANTITY', 'ORDER_DETAIL_CODE', 'RETURN_REASON_CODE', 'RETURN_DESCRIPTION_EN']\n",
    "returned_item = pd.merge(go_sales_returned_item, go_sales_return_reason, left_on='RETURN_REASON_CODE', right_on='RETURN_REASON_CODE')\n",
    "returned_item = pd.merge(returned_item, go_sales_order_details, left_on='ORDER_DETAIL_CODE', right_on='ORDER_DETAIL_CODE')\n",
    "\n",
    "# filtering the columns\n",
    "returned_item = returned_item[returned_item_columns]\n",
    "\n",
    "# renaming the columns\n",
    "returned_item = returned_item.rename(columns={'RETURN_CODE': 'RETURNED_ITEM_code', 'RETURN_DATE': 'RETURNED_ITEM_DATE', 'RETURN_QUANTITY': 'RETURNED_ITEM_QUANTITY', 'ORDER_DETAIL_CODE': 'RETURNED_ITEM_ORDER_DETAIL_CODE', 'RETURN_REASON_CODE': 'RETURNED_ITEM_RETURN_REASON_code', 'RETURN_DESCRIPTION_EN': 'RETURNED_ITEM_RETURN_REASON_description_en'})\n",
    "\n",
    "all_dataframes.append(returned_item)\n",
    "\n",
    "returned_item.head()"
   ]
  },
  {
   "cell_type": "markdown",
   "id": "1dff53c750360829",
   "metadata": {
    "collapsed": false
   },
   "source": [
    "### Unit"
   ]
  },
  {
   "cell_type": "code",
   "execution_count": null,
   "id": "39396863b4c33a84",
   "metadata": {
    "collapsed": false,
    "ExecuteTime": {
     "start_time": "2024-03-20T20:46:31.370702Z"
    }
   },
   "outputs": [],
   "source": [
    "unit_columns = ['UNIT_COST', 'UNIT_PRICE', 'UNIT_SALE_PRICE', 'UNIT_id', 'ORDER_DETAIL_CODE']\n",
    "unit = go_sales_order_details\n",
    "\n",
    "# make unit_id autoincrement\n",
    "unit['UNIT_id'] = range(1, len(unit) + 1)\n",
    "\n",
    "# filtering the columns\n",
    "unit = unit[unit_columns]\n",
    "\n",
    "# renaming the columns\n",
    "unit = unit.rename(columns={'UNIT_COST': 'UNIT_COST_cost', 'UNIT_PRICE': 'UNIT_PRICE_price', 'UNIT_SALE_PRICE': 'UNIT_SALE_sale'})\n",
    "\n",
    "all_dataframes.append(unit)\n",
    "\n",
    "unit.head()"
   ]
  },
  {
   "cell_type": "markdown",
   "id": "8527a5738e28b03",
   "metadata": {
    "collapsed": false
   },
   "source": [
    "### Sales_staff"
   ]
  },
  {
   "cell_type": "code",
   "execution_count": null,
   "id": "a2a698c093a007aa",
   "metadata": {
    "collapsed": false,
    "ExecuteTime": {
     "start_time": "2024-03-20T20:46:31.371198Z"
    }
   },
   "outputs": [],
   "source": [
    "sales_staff_columns = ['SALES_STAFF_CODE', 'EMAIL', 'EXTENSION', 'POSITION_EN', 'WORK_PHONE', 'DATE_HIRED', 'MANAGER_CODE', 'FAX', 'FIRST_NAME', 'LAST_NAME',  'ADDRESS1', 'ADDRESS2', 'SALES_BRANCH_CODE']\n",
    "\n",
    "sales_staff = pd.merge(go_staff_sales_staff, go_staff_sales_branch, left_on='SALES_BRANCH_CODE', right_on='SALES_BRANCH_CODE')\n",
    "\n",
    "# filtering the columns\n",
    "sales_staff = sales_staff[sales_staff_columns]\n",
    "\n",
    "# renaming the columns\n",
    "sales_staff = sales_staff.rename(columns={'SALES_STAFF_CODE': 'SALES_STAFF_code', 'EMAIL': 'SALES_STAFF_email', 'EXTENSION': 'SALES_STAFF_extension', 'POSITION_EN': 'SALES_STAFF_POSITION_EN_position', 'WORK_PHONE': 'SALES_STAFF_WORK_PHONE_work_phone', 'DATE_HIRED': 'SALES_STAFF_DATE_HIRED_hired', 'MANAGER_CODE': 'SALES_STAFF_MANAGER_CODE_manager', 'FAX': 'SALES_STAFF_FAX', 'FIRST_NAME': 'SALES_STAFF_FIRST_NAME_first_name', 'LAST_NAME': 'SALES_STAFF_LAST_NAME_last_name', 'ADDRESS1': 'SALES_STAFF_SALES_BRANCH_ADDRESS1_address', 'ADDRESS2': 'SALES_STAFF_SALES_BRANCH_ADDRESS2_address', 'SALES_BRANCH_CODE' : 'SALES_STAFF_SALES_BRANCH_CODE_branch_code'})\n",
    "\n",
    "all_dataframes.append(sales_staff)\n",
    "\n",
    "sales_staff.head()"
   ]
  },
  {
   "cell_type": "markdown",
   "id": "b8305c040ff09ac7",
   "metadata": {
    "collapsed": false
   },
   "source": [
    "### Satisfaction_type"
   ]
  },
  {
   "cell_type": "code",
   "execution_count": null,
   "id": "b8cd201811c4486a",
   "metadata": {
    "collapsed": false,
    "ExecuteTime": {
     "start_time": "2024-03-20T20:46:31.371697Z"
    }
   },
   "outputs": [],
   "source": [
    "satisfaction_type = go_staff_satisfaction_type\n",
    "\n",
    "# rename the columns\n",
    "satisfaction_type = satisfaction_type.rename(columns={'SATISFACTION_TYPE_CODE': 'SATISFACTION_TYPE_code', 'DESCRIPTION': 'SATISFACTION_TYPE_description'})\n",
    "\n",
    "all_dataframes.append(satisfaction_type)\n",
    "\n",
    "satisfaction_type.head()"
   ]
  },
  {
   "cell_type": "markdown",
   "id": "8b30a420eb8b3f9c",
   "metadata": {
    "collapsed": false
   },
   "source": [
    "### Course"
   ]
  },
  {
   "cell_type": "code",
   "execution_count": null,
   "id": "9a9a6afb42d95ce5",
   "metadata": {
    "collapsed": false
   },
   "outputs": [],
   "source": [
    "course = go_staff_course\n",
    "\n",
    "# rename the columns\n",
    "course = course.rename(columns={'COURSE_CODE': 'COURSE_code', 'DESCRIPTION': 'COURSE_description'})\n",
    "\n",
    "all_dataframes.append(course)\n",
    "\n",
    "course.head()"
   ]
  },
  {
   "cell_type": "markdown",
   "id": "de6db3d986555551",
   "metadata": {
    "collapsed": false
   },
   "source": [
    "### Year"
   ]
  },
  {
   "cell_type": "code",
   "execution_count": null,
   "id": "c116ecb70b6f2ec7",
   "metadata": {
    "collapsed": false,
    "ExecuteTime": {
     "start_time": "2024-03-20T20:46:31.373200Z"
    }
   },
   "outputs": [],
   "source": [
    "# to be used in training and satisfaction\n",
    "# making year dataframe with year as the primary key\n",
    "year = pd.DataFrame({'YEAR': pd.date_range(start='1/1/1900', end='1/1/2200').year})\n",
    "\n",
    "# Drop duplicates based on 'YEAR' column\n",
    "year = year.drop_duplicates()\n",
    "\n",
    "# Set 'YEAR' as the index again\n",
    "year = year.set_index('YEAR')\n",
    "\n",
    "all_dataframes.append(year)\n",
    "\n",
    "year.head()"
   ]
  },
  {
   "cell_type": "markdown",
   "id": "ce00e33771b2020c",
   "metadata": {
    "collapsed": false
   },
   "source": [
    "### Date"
   ]
  },
  {
   "cell_type": "code",
   "execution_count": null,
   "id": "69d3a65350544b07",
   "metadata": {
    "collapsed": false
   },
   "outputs": [],
   "source": [
    "# to be used in order header\n",
    "date = pd.DataFrame({'DATE_date': pd.date_range(start='1/1/1900', end='1/1/2200')})\n",
    "\n",
    "# drop duplicates\n",
    "date = date.drop_duplicates()\n",
    "\n",
    "date = date.set_index('DATE_date')\n",
    "\n",
    "all_dataframes.append(date)\n",
    "\n",
    "date.head()"
   ]
  },
  {
   "cell_type": "markdown",
   "id": "2bc3e5abc438a754",
   "metadata": {
    "collapsed": false
   },
   "source": [
    "### Order"
   ]
  },
  {
   "cell_type": "code",
   "execution_count": null,
   "id": "8886223a9425e744",
   "metadata": {
    "collapsed": false,
    "ExecuteTime": {
     "start_time": "2024-03-20T20:46:31.374698Z"
    }
   },
   "outputs": [],
   "source": [
    "# to be used in order header\n",
    "order_columns = ['ORDER_METHOD_CODE', 'ORDER_NUMBER', 'ORDER_METHOD_EN']\n",
    "order = pd.merge(go_sales_order_header, go_sales_order_method, left_on='ORDER_METHOD_CODE', right_on='ORDER_METHOD_CODE')\n",
    "\n",
    "#filtering the columns\n",
    "order = order[order_columns]\n",
    "\n",
    "# renaming the columns\n",
    "order = order.rename(columns={'ORDER_METHOD_CODE': 'ORDER_ORDER_METHOD_CODE_method_code', 'ORDER_NUMBER': 'ORDER_order_number', 'ORDER_METHOD_EN': 'ORDER_ORDER_METHOD_EN_method'})\n",
    "\n",
    "\n",
    "all_dataframes.append(order)\n",
    "\n",
    "order.head()"
   ]
  },
  {
   "cell_type": "markdown",
   "id": "3781ed63e51a8050",
   "metadata": {
    "collapsed": false
   },
   "source": [
    "### Retailer_site"
   ]
  },
  {
   "cell_type": "code",
   "execution_count": null,
   "id": "c7039eac9d768041",
   "metadata": {
    "collapsed": false
   },
   "outputs": [],
   "source": [
    "retailer_site = go_sales_retailer_site\n",
    "\n",
    "# rename the columns\n",
    "retailer_site = retailer_site.rename(columns={'RETAILER_SITE_CODE': 'RETAILER_SITE_code', 'COUNTRY_CODE': 'RETAILER_SITE_COUNTRY_CODE_country', 'CITY': 'RETAILER_SITE_CITY_city', 'REGION': 'RETAILER_SITE_REGION_region', 'POSTAL_ZONE': 'RETAILER_SITE_POSTAL_ZONE_postal_zone', 'RETAILER_CODE': 'RETAILER_SITE_RETAILER_CODE_retailer_code', 'ACTIVE_INDICATOR': 'RETAILER_SITE_ACTIVE_INDICATOR_indicator', 'ADDRESS1': 'RETAILER_SITE_ADDRESS1_address', 'ADDRESS2': 'RETAILER_SITE_ADDRESS2_address'})\n",
    "\n",
    "all_dataframes.append(retailer_site)\n",
    "\n",
    "retailer_site.head()"
   ]
  },
  {
   "cell_type": "markdown",
   "id": "a37a2a29eafdf0bd",
   "metadata": {
    "collapsed": false
   },
   "source": [
    "### Sales_branch"
   ]
  },
  {
   "cell_type": "code",
   "execution_count": null,
   "id": "a48bae69916fd694",
   "metadata": {
    "collapsed": false,
    "ExecuteTime": {
     "start_time": "2024-03-20T20:46:31.376200Z"
    }
   },
   "outputs": [],
   "source": [
    "sales_branch = go_sales_sales_branch\n",
    "\n",
    "# rename the columns\n",
    "sales_branch = sales_branch.rename(columns={'SALES_BRANCH_CODE': 'SALES_BRANCH_code', 'COUNTRY_CODE': 'SALES_BRANCH_COUNTRY_CODE_country', 'REGION': 'SALES_BRANCH_REGION_region', 'CITY': 'SALES_BRANCH_CITY_city', 'POSTAL_ZONE': 'SALES_BRANCH_POSTAL_ZONE_postal_zone', 'ADDRESS1': 'SALES_BRANCH_ADDRESS1_address', 'ADDRESS2': 'SALES_BRANCH_ADDRESS2_address', 'MAIN_ADDRESS': 'SALES_BRANCH_MAIN_ADDRESS_address'})\n",
    "\n",
    "all_dataframes.append(sales_branch)\n",
    "\n",
    "sales_branch.head()"
   ]
  },
  {
   "cell_type": "markdown",
   "id": "9f351715913d1fe1",
   "metadata": {
    "collapsed": false
   },
   "source": [
    "### Retailer_contact"
   ]
  },
  {
   "cell_type": "code",
   "execution_count": null,
   "id": "225ad64b29a0ebd3",
   "metadata": {
    "collapsed": false,
    "ExecuteTime": {
     "start_time": "2024-03-20T20:46:31.377199Z"
    }
   },
   "outputs": [],
   "source": [
    "retailer_contact = go_crm_retailer_contact\n",
    "\n",
    "# rename the columns\n",
    "retailer_contact = retailer_contact.rename(columns={'RETAILER_CONTACT_CODE': 'RETAILER_CONTACT_code', 'E_MAIL': 'RETAILER_CONTACT_email', 'RETAILER_SITE_CODE': 'RETAILER_CONTACT_RETAILER_SITE_CODE_site_code', 'JOB_POSITION_EN': 'RETAILER_CONTACT_JOB_POSITION_EN_position', 'EXTENSION': 'RETAILER_CONTACT_EXTENSION_extension', 'FAX': 'RETAILER_CONTACT_FAX_fax', 'GENDER' : 'RETAILER_CONTACT_GENDER_gender', 'FIRST_NAME': 'RETAILER_CONTACT_FIRST_NAME_first_name', 'LAST_NAME': 'RETAILER_CONTACT_LAST_NAME_last_name'})\n",
    "\n",
    "all_dataframes.append(retailer_contact)\n",
    "\n",
    "retailer_contact.head()"
   ]
  },
  {
   "cell_type": "markdown",
   "id": "5440ce379eadccf3",
   "metadata": {
    "collapsed": false
   },
   "source": [
    "### Retailer"
   ]
  },
  {
   "cell_type": "markdown",
   "id": "8b73e9b4b1cca021",
   "metadata": {
    "collapsed": false
   },
   "source": [
    "### Training"
   ]
  },
  {
   "cell_type": "code",
   "execution_count": null,
   "id": "71d9483bff7d0752",
   "metadata": {
    "collapsed": false,
    "ExecuteTime": {
     "start_time": "2024-03-20T20:46:31.377702Z"
    }
   },
   "outputs": [],
   "source": [
    "retailer = pd.merge(go_crm_retailer, go_crm_retailer_type, left_on='RETAILER_TYPE_CODE', right_on='RETAILER_TYPE_CODE')\n",
    "\n",
    "# rename the columns\n",
    "retailer = retailer.rename(columns={'RETAILER_CODE': 'RETAILER_code', 'COMPANY_NAME': 'RETAILER_name', 'RETAILER_CODEMR': 'RETAILER_COMPANY_CODE_MR_company', 'RETAILER_TYPE_CODE': 'RETAILER_RETAILER_TYPE_code', 'RETAILER_TYPE_EN': 'RETAILER_RETAILER_TYPE_EN'})\n",
    "\n",
    "all_dataframes.append(retailer)\n",
    "\n",
    "retailer.head()"
   ]
  },
  {
   "cell_type": "markdown",
   "id": "4294143c48572b68",
   "metadata": {
    "collapsed": false
   },
   "source": [
    "### Product"
   ]
  },
  {
   "cell_type": "code",
   "execution_count": null,
   "id": "edddbd324315ff8e",
   "metadata": {
    "collapsed": false,
    "ExecuteTime": {
     "start_time": "2024-03-20T20:46:31.379201Z"
    }
   },
   "outputs": [],
   "source": [
    "product = pd.merge(go_sales_product, go_sales_product_type, left_on='PRODUCT_TYPE_CODE', right_on='PRODUCT_TYPE_CODE')\n",
    "product = pd.merge(product, go_sales_product_line, left_on='PRODUCT_LINE_CODE', right_on='PRODUCT_LINE_CODE')\n",
    "\n",
    "# rename the columns\n",
    "product = product.rename(columns={'PRODUCT_NUMBER': 'PRODUCT_number', 'PRODUCT_NAME': 'PRODUCT_name_product', 'DESCRIPTION': 'PRODUCT_description_description', 'PRODUCT_IMAGE': 'PRODUCT_image_image', 'INTRODUCTION_DATE': 'PRODUCT_INTRODUCTION_DATE_introduced', 'PRODUCTION_COST': 'PRODUCT_PRODUCTION_COST_cost', 'MARGIN': 'PRODUCT_MARGIN_margin', 'LANGUAGE': 'PRODUCT_LANGUAGE_language',  'PRODUCT_TYPE_CODE': 'PRODUCT_PRODUCT_TYPE_code', 'PRODUCT_TYPE_EN': 'PRODUCT_PRODUCT_TYPE_code_en', 'PRODUCT_LINE_CODE': 'PRODUCT_PRODUCT_LINE_code', 'PRODUCT_LINE_EN': 'PRODUCT_PRODUCT_LINE_code_en'})\n",
    "\n",
    "all_dataframes.append(product)\n",
    "\n",
    "product.head()"
   ]
  },
  {
   "cell_type": "markdown",
   "id": "3dd3f1237cd6217f",
   "metadata": {
    "collapsed": false
   },
   "source": [
    "### Order_details"
   ]
  },
  {
   "cell_type": "code",
   "execution_count": 4,
   "id": "9709a31ccd988768",
   "metadata": {
    "collapsed": false,
    "ExecuteTime": {
     "end_time": "2024-03-20T20:46:31.416089Z",
     "start_time": "2024-03-20T20:46:31.403699Z"
    }
   },
   "outputs": [
    {
     "ename": "NameError",
     "evalue": "name 'go_sales_order_details' is not defined",
     "output_type": "error",
     "traceback": [
      "\u001B[1;31m---------------------------------------------------------------------------\u001B[0m",
      "\u001B[1;31mNameError\u001B[0m                                 Traceback (most recent call last)",
      "Cell \u001B[1;32mIn[4], line 1\u001B[0m\n\u001B[1;32m----> 1\u001B[0m order_details \u001B[38;5;241m=\u001B[39m \u001B[43mgo_sales_order_details\u001B[49m\n\u001B[0;32m      3\u001B[0m \u001B[38;5;66;03m# merging the returned_item and order_details\u001B[39;00m\n\u001B[0;32m      4\u001B[0m order_details \u001B[38;5;241m=\u001B[39m pd\u001B[38;5;241m.\u001B[39mmerge(order_details, returned_item, left_on\u001B[38;5;241m=\u001B[39m\u001B[38;5;124m'\u001B[39m\u001B[38;5;124mORDER_DETAIL_CODE\u001B[39m\u001B[38;5;124m'\u001B[39m, right_on\u001B[38;5;241m=\u001B[39m\u001B[38;5;124m'\u001B[39m\u001B[38;5;124mRETURNED_ITEM_ORDER_DETAIL_CODE\u001B[39m\u001B[38;5;124m'\u001B[39m)\n",
      "\u001B[1;31mNameError\u001B[0m: name 'go_sales_order_details' is not defined"
     ]
    }
   ],
   "source": [
    "order_details = go_sales_order_details\n",
    "\n",
    "# merging the returned_item and order_details\n",
    "order_details = pd.merge(order_details, returned_item, left_on='ORDER_DETAIL_CODE', right_on='RETURNED_ITEM_ORDER_DETAIL_CODE')\n",
    "\n",
    "# merging unit and order_details\n",
    "order_details = pd.merge(order_details, unit, left_on=['ORDER_DETAIL_CODE', 'UNIT_id'], right_on=['ORDER_DETAIL_CODE', 'UNIT_id'])\n",
    "\n",
    "# dropping the columns replaced by unit and returned_item\n",
    "order_details = order_details.drop(columns=['UNIT_COST', 'UNIT_PRICE', 'UNIT_SALE_PRICE']) \n",
    "\n",
    "# rename the columns\n",
    "order_details = order_details.rename(columns={'QUANTITY': 'ORDER_DETAILS_QUANTITY_quantity', 'RETURNED_ITEM_code': 'ORDER_DETAILS_RETURN_CODE_returned', 'ORDER_NUMBER': 'ORDER_DETAILS_ORDER_NUMBER_order', 'PRODUCT_NUMBER': 'ORDER_DETAILS_PRODUCT_NUMBER_product', 'UNIT_ID': 'ORDER_DETAILS_UNIT_ID_unit', 'ORDER_DETAIL_CODE' : 'ORDER_DETAIL_code'})\n",
    "\n",
    "all_dataframes.append(order_details)\n",
    "\n",
    "order_details.head()"
   ]
  },
  {
   "cell_type": "markdown",
   "id": "b87647db90f16e71",
   "metadata": {
    "collapsed": false
   },
   "source": [
    "## training"
   ]
  },
  {
   "cell_type": "code",
   "execution_count": 5,
   "id": "25a1efa0fab720ea",
   "metadata": {
    "collapsed": false,
    "ExecuteTime": {
     "end_time": "2024-03-20T20:46:31.627044Z",
     "start_time": "2024-03-20T20:46:31.615625Z"
    }
   },
   "outputs": [
    {
     "ename": "NameError",
     "evalue": "name 'go_staff_training' is not defined",
     "output_type": "error",
     "traceback": [
      "\u001B[1;31m---------------------------------------------------------------------------\u001B[0m",
      "\u001B[1;31mNameError\u001B[0m                                 Traceback (most recent call last)",
      "Cell \u001B[1;32mIn[5], line 1\u001B[0m\n\u001B[1;32m----> 1\u001B[0m training \u001B[38;5;241m=\u001B[39m \u001B[43mgo_staff_training\u001B[49m\n\u001B[0;32m      3\u001B[0m \u001B[38;5;66;03m# converting the year to int 32\u001B[39;00m\n\u001B[0;32m      4\u001B[0m training[\u001B[38;5;124m'\u001B[39m\u001B[38;5;124mYEAR\u001B[39m\u001B[38;5;124m'\u001B[39m] \u001B[38;5;241m=\u001B[39m training[\u001B[38;5;124m'\u001B[39m\u001B[38;5;124mYEAR\u001B[39m\u001B[38;5;124m'\u001B[39m]\u001B[38;5;241m.\u001B[39mastype(\u001B[38;5;124m'\u001B[39m\u001B[38;5;124mint32\u001B[39m\u001B[38;5;124m'\u001B[39m)\n",
      "\u001B[1;31mNameError\u001B[0m: name 'go_staff_training' is not defined"
     ]
    }
   ],
   "source": [
    "training = go_staff_training\n",
    "\n",
    "# converting the year to int 32\n",
    "training['YEAR'] = training['YEAR'].astype('int32')\n",
    "\n",
    "# replacing the original columns with year and course\n",
    "# merging the year and course\n",
    "training = pd.merge(training, year, left_on='YEAR', right_on='YEAR')\n",
    "training = pd.merge(training, course, left_on='COURSE_CODE', right_on='COURSE_code')\n",
    "\n",
    "# rename the columns\n",
    "training = training.rename(columns={'SALES_STAFF_CODE': 'TRAINING_SALES_STAFF_CODE', 'COURSE_CODE': 'TRAINING_COURSE_CODE', 'YEAR': 'TRAINING_YEAR'})\n",
    "\n",
    "all_dataframes.append(training)\n",
    "\n",
    "training.head()"
   ]
  },
  {
   "cell_type": "markdown",
   "id": "fafe9322068f9bcb",
   "metadata": {
    "collapsed": false
   },
   "source": [
    "### Satisfaction"
   ]
  },
  {
   "cell_type": "code",
   "execution_count": 6,
   "id": "1f79b295694d9060",
   "metadata": {
    "collapsed": false,
    "ExecuteTime": {
     "end_time": "2024-03-20T20:46:32.320394Z",
     "start_time": "2024-03-20T20:46:32.307922Z"
    }
   },
   "outputs": [
    {
     "ename": "NameError",
     "evalue": "name 'go_staff_satisfaction' is not defined",
     "output_type": "error",
     "traceback": [
      "\u001B[1;31m---------------------------------------------------------------------------\u001B[0m",
      "\u001B[1;31mNameError\u001B[0m                                 Traceback (most recent call last)",
      "Cell \u001B[1;32mIn[6], line 1\u001B[0m\n\u001B[1;32m----> 1\u001B[0m satisfaction \u001B[38;5;241m=\u001B[39m \u001B[43mgo_staff_satisfaction\u001B[49m\n\u001B[0;32m      3\u001B[0m \u001B[38;5;66;03m# converting the year to int 32\u001B[39;00m\n\u001B[0;32m      4\u001B[0m satisfaction[\u001B[38;5;124m'\u001B[39m\u001B[38;5;124mYEAR\u001B[39m\u001B[38;5;124m'\u001B[39m] \u001B[38;5;241m=\u001B[39m satisfaction[\u001B[38;5;124m'\u001B[39m\u001B[38;5;124mYEAR\u001B[39m\u001B[38;5;124m'\u001B[39m]\u001B[38;5;241m.\u001B[39mastype(\u001B[38;5;124m'\u001B[39m\u001B[38;5;124mint32\u001B[39m\u001B[38;5;124m'\u001B[39m)\n",
      "\u001B[1;31mNameError\u001B[0m: name 'go_staff_satisfaction' is not defined"
     ]
    }
   ],
   "source": [
    "satisfaction = go_staff_satisfaction\n",
    "\n",
    "# converting the year to int 32\n",
    "satisfaction['YEAR'] = satisfaction['YEAR'].astype('int32')\n",
    "\n",
    "# replacing the original columns with year and satisfaction_type\n",
    "# merging the year and satisfaction_type\n",
    "satisfaction = pd.merge(satisfaction, year, left_on='YEAR', right_on='YEAR')\n",
    "satisfaction = pd.merge(satisfaction, satisfaction_type, left_on='SATISFACTION_TYPE_CODE', right_on='SATISFACTION_TYPE_code')\n",
    "\n",
    "# rename the columns\n",
    "satisfaction = satisfaction.rename(columns={'SALES_STAFF_CODE': 'SATISFACTION_SALES_STAFF_CODE', 'SATISFACTION_TYPE_CODE': 'SATISFACTION_SATISFACTION_TYPE_CODE', 'YEAR': 'SATISFACTION_YEAR'})\n",
    "\n",
    "all_dataframes.append(satisfaction)\n",
    "\n",
    "satisfaction.head()"
   ]
  },
  {
   "cell_type": "markdown",
   "id": "a2de04bb43925941",
   "metadata": {
    "collapsed": false
   },
   "source": [
    "### Order_header"
   ]
  },
  {
   "cell_type": "code",
   "execution_count": 7,
   "id": "1b4956744dca5608",
   "metadata": {
    "collapsed": false,
    "ExecuteTime": {
     "end_time": "2024-03-20T20:46:32.536418Z",
     "start_time": "2024-03-20T20:46:32.523928Z"
    }
   },
   "outputs": [
    {
     "ename": "NameError",
     "evalue": "name 'go_sales_order_header' is not defined",
     "output_type": "error",
     "traceback": [
      "\u001B[1;31m---------------------------------------------------------------------------\u001B[0m",
      "\u001B[1;31mNameError\u001B[0m                                 Traceback (most recent call last)",
      "Cell \u001B[1;32mIn[7], line 1\u001B[0m\n\u001B[1;32m----> 1\u001B[0m order_header \u001B[38;5;241m=\u001B[39m pd\u001B[38;5;241m.\u001B[39mmerge(\u001B[43mgo_sales_order_header\u001B[49m, retailer, left_on\u001B[38;5;241m=\u001B[39m\u001B[38;5;124m'\u001B[39m\u001B[38;5;124mRETAILER_NAME\u001B[39m\u001B[38;5;124m'\u001B[39m, right_on\u001B[38;5;241m=\u001B[39m\u001B[38;5;124m'\u001B[39m\u001B[38;5;124mRETAILER_name\u001B[39m\u001B[38;5;124m'\u001B[39m)\n\u001B[0;32m      3\u001B[0m \u001B[38;5;66;03m# converting the date to datetime\u001B[39;00m\n\u001B[0;32m      4\u001B[0m order_header[\u001B[38;5;124m'\u001B[39m\u001B[38;5;124mORDER_DATE\u001B[39m\u001B[38;5;124m'\u001B[39m] \u001B[38;5;241m=\u001B[39m pd\u001B[38;5;241m.\u001B[39mto_datetime(order_header[\u001B[38;5;124m'\u001B[39m\u001B[38;5;124mORDER_DATE\u001B[39m\u001B[38;5;124m'\u001B[39m], \u001B[38;5;28mformat\u001B[39m\u001B[38;5;241m=\u001B[39m\u001B[38;5;124m'\u001B[39m\u001B[38;5;124mmixed\u001B[39m\u001B[38;5;124m'\u001B[39m)\n",
      "\u001B[1;31mNameError\u001B[0m: name 'go_sales_order_header' is not defined"
     ]
    }
   ],
   "source": [
    "order_header = pd.merge(go_sales_order_header, retailer, left_on='RETAILER_NAME', right_on='RETAILER_name')\n",
    "\n",
    "# converting the date to datetime\n",
    "order_header['ORDER_DATE'] = pd.to_datetime(order_header['ORDER_DATE'], format='mixed')\n",
    "\n",
    "# replacing the original columns with date, sales_staff, retailer_site and retailer_contact\n",
    "# merging the date, sales_staff, retailer_site and retailer_contact\n",
    "order_header = pd.merge(order_header, date, left_on='ORDER_DATE', right_on='DATE_date')\n",
    "order_header = pd.merge(order_header, sales_staff, left_on='SALES_STAFF_CODE', right_on='SALES_STAFF_code')\n",
    "order_header = pd.merge(order_header, retailer_site, left_on='RETAILER_SITE_CODE', right_on='RETAILER_SITE_code')\n",
    "order_header = pd.merge(order_header, retailer_contact, left_on='RETAILER_CONTACT_CODE', right_on='RETAILER_CONTACT_code')\n",
    "\n",
    "# rename the columns\n",
    "order_header = order_header.rename(columns={'ORDER_NUMBER': 'ORDER_HEADER_number', 'SALES_STAFF_CODE': 'ORDER_HEADER_SALES_STAFF_CODE', 'SALES_BRANCH_CODE': 'ORDER_HEADER_SALES_BRANCH_CODE', 'ORDER_DATE': 'ORDER_HEADER_ORDER_DATE', 'RETAILER_SITE_CODE': 'ORDER_HEADER_RETAILER_SITE_CODE', 'RETAILER_CONTACT_CODE': 'ORDER_HEADER_RETAILER_CONTACT_CODE', 'RETAILER_CODE': 'ORDER_HEADER_RETAILER_CODE'})\n",
    "\n",
    "all_dataframes.append(order_header)\n",
    "\n",
    "order_header.head()"
   ]
  },
  {
   "cell_type": "markdown",
   "id": "dc092095fec002b",
   "metadata": {
    "collapsed": false
   },
   "source": [
    "### GO_SALES_INVENTORY_LEVELS"
   ]
  },
  {
   "cell_type": "code",
   "execution_count": 8,
   "id": "9ab2574dc17f0c43",
   "metadata": {
    "collapsed": false,
    "ExecuteTime": {
     "end_time": "2024-03-20T20:46:32.562477Z",
     "start_time": "2024-03-20T20:46:32.550923Z"
    }
   },
   "outputs": [
    {
     "ename": "NameError",
     "evalue": "name 'go_sales_inventory_levels' is not defined",
     "output_type": "error",
     "traceback": [
      "\u001B[1;31m---------------------------------------------------------------------------\u001B[0m",
      "\u001B[1;31mNameError\u001B[0m                                 Traceback (most recent call last)",
      "Cell \u001B[1;32mIn[8], line 2\u001B[0m\n\u001B[0;32m      1\u001B[0m \u001B[38;5;66;03m# adding a leading 0 to the month if it is a single digit\u001B[39;00m\n\u001B[1;32m----> 2\u001B[0m go_sales_inventory_levels[\u001B[38;5;124m'\u001B[39m\u001B[38;5;124mINVENTORY_MONTH\u001B[39m\u001B[38;5;124m'\u001B[39m] \u001B[38;5;241m=\u001B[39m \u001B[43mgo_sales_inventory_levels\u001B[49m[\u001B[38;5;124m'\u001B[39m\u001B[38;5;124mINVENTORY_MONTH\u001B[39m\u001B[38;5;124m'\u001B[39m]\u001B[38;5;241m.\u001B[39mastype(\u001B[38;5;28mstr\u001B[39m)\u001B[38;5;241m.\u001B[39mstr\u001B[38;5;241m.\u001B[39mzfill(\u001B[38;5;241m2\u001B[39m)\n\u001B[0;32m      4\u001B[0m \u001B[38;5;66;03m# combine year and month to one column\u001B[39;00m\n\u001B[0;32m      5\u001B[0m go_sales_inventory_levels[\u001B[38;5;124m'\u001B[39m\u001B[38;5;124mYEAR_MONTH\u001B[39m\u001B[38;5;124m'\u001B[39m] \u001B[38;5;241m=\u001B[39m go_sales_inventory_levels[\u001B[38;5;124m'\u001B[39m\u001B[38;5;124mINVENTORY_YEAR\u001B[39m\u001B[38;5;124m'\u001B[39m]\u001B[38;5;241m.\u001B[39mastype(\u001B[38;5;28mstr\u001B[39m) \u001B[38;5;241m+\u001B[39m \u001B[38;5;124m'\u001B[39m\u001B[38;5;124m-\u001B[39m\u001B[38;5;124m'\u001B[39m \u001B[38;5;241m+\u001B[39m go_sales_inventory_levels[\u001B[38;5;124m'\u001B[39m\u001B[38;5;124mINVENTORY_MONTH\u001B[39m\u001B[38;5;124m'\u001B[39m]\u001B[38;5;241m.\u001B[39mastype(\u001B[38;5;28mstr\u001B[39m)\n",
      "\u001B[1;31mNameError\u001B[0m: name 'go_sales_inventory_levels' is not defined"
     ]
    }
   ],
   "source": [
    "# adding a leading 0 to the month if it is a single digit\n",
    "go_sales_inventory_levels['INVENTORY_MONTH'] = go_sales_inventory_levels['INVENTORY_MONTH'].astype(str).str.zfill(2)\n",
    "\n",
    "# combine year and month to one column\n",
    "go_sales_inventory_levels['YEAR_MONTH'] = go_sales_inventory_levels['INVENTORY_YEAR'].astype(str) + '-' + go_sales_inventory_levels['INVENTORY_MONTH'].astype(str)\n",
    "\n",
    "# dropping the original columns\n",
    "go_sales_inventory_levels = go_sales_inventory_levels.drop(columns=['INVENTORY_YEAR', 'INVENTORY_MONTH'])\n",
    "\n",
    "go_sales_inventory_levels = go_sales_inventory_levels.rename(columns={'INVENTORY_COUNT': 'GO_SALES_INVENTORY_LEVELS_INVENTORY_COUNT', 'PRODUCT_NUMBER': 'GO_SALES_INVENTORY_LEVELS_PRODUCT_NUMBER', 'YEAR_MONTH': 'GO_SALES_INVENTORY_LEVELS_YEAR_MONTH'})\n",
    "\n",
    "all_dataframes.append(go_sales_inventory_levels)\n",
    "\n",
    "go_sales_inventory_levels.head()"
   ]
  },
  {
   "cell_type": "markdown",
   "id": "63ea2b3ff0c095ae",
   "metadata": {
    "collapsed": false
   },
   "source": [
    "### GO_SALES_PRODUCT_FORECAST"
   ]
  },
  {
   "cell_type": "code",
   "execution_count": 9,
   "id": "288d7bec80d4571",
   "metadata": {
    "collapsed": false,
    "ExecuteTime": {
     "end_time": "2024-03-20T20:46:32.639319Z",
     "start_time": "2024-03-20T20:46:32.627001Z"
    }
   },
   "outputs": [
    {
     "ename": "NameError",
     "evalue": "name 'product' is not defined",
     "output_type": "error",
     "traceback": [
      "\u001B[1;31m---------------------------------------------------------------------------\u001B[0m",
      "\u001B[1;31mNameError\u001B[0m                                 Traceback (most recent call last)",
      "Cell \u001B[1;32mIn[9], line 2\u001B[0m\n\u001B[0;32m      1\u001B[0m \u001B[38;5;66;03m# merging the product and go_sales_product_forecast\u001B[39;00m\n\u001B[1;32m----> 2\u001B[0m product[\u001B[38;5;124m'\u001B[39m\u001B[38;5;124mPRODUCT_number\u001B[39m\u001B[38;5;124m'\u001B[39m] \u001B[38;5;241m=\u001B[39m \u001B[43mproduct\u001B[49m[\u001B[38;5;124m'\u001B[39m\u001B[38;5;124mPRODUCT_number\u001B[39m\u001B[38;5;124m'\u001B[39m]\u001B[38;5;241m.\u001B[39mastype(\u001B[38;5;124m'\u001B[39m\u001B[38;5;124mint\u001B[39m\u001B[38;5;124m'\u001B[39m)\n\u001B[0;32m      3\u001B[0m sales_product_forcast \u001B[38;5;241m=\u001B[39m pd\u001B[38;5;241m.\u001B[39mmerge(go_sales_product_forcast, product, left_on\u001B[38;5;241m=\u001B[39m\u001B[38;5;124m'\u001B[39m\u001B[38;5;124mPRODUCT_NUMBER\u001B[39m\u001B[38;5;124m'\u001B[39m, right_on\u001B[38;5;241m=\u001B[39m\u001B[38;5;124m'\u001B[39m\u001B[38;5;124mPRODUCT_number\u001B[39m\u001B[38;5;124m'\u001B[39m)\n\u001B[0;32m      5\u001B[0m \u001B[38;5;66;03m# adding a leading zero to the month if it is a single digit\u001B[39;00m\n",
      "\u001B[1;31mNameError\u001B[0m: name 'product' is not defined"
     ]
    }
   ],
   "source": [
    "# merging the product and go_sales_product_forecast\n",
    "product['PRODUCT_number'] = product['PRODUCT_number'].astype('int')\n",
    "sales_product_forcast = pd.merge(go_sales_product_forcast, product, left_on='PRODUCT_NUMBER', right_on='PRODUCT_number')\n",
    "\n",
    "# adding a leading zero to the month if it is a single digit\n",
    "sales_product_forcast['MONTH'] = sales_product_forcast['MONTH'].astype(str).str.zfill(2)\n",
    "\n",
    "#combine year and month to one column\n",
    "sales_product_forcast['YEAR_MONTH'] = sales_product_forcast['YEAR'].astype(str) + '-' + sales_product_forcast['MONTH'].astype(str)\n",
    "\n",
    "# dropping the original columns\n",
    "sales_product_forcast = sales_product_forcast.drop(columns=['YEAR', 'MONTH'])\n",
    "\n",
    "sales_product_forecast = sales_product_forcast.rename(columns={'EXPECTED_VOLUME': 'GO_SALES_PRODUCT_FORECAST_EXPECTED_VOLUME', 'EXPECTED_COST': 'GO_SALES_PRODUCT_FORECAST_EXPECTED_COST', 'EXPECTED_MARGIN': 'GO_SALES_PRODUCT_FORECAST_EXPECTED_MARGIN', 'PRODUCT_NUMBER': 'GO_SALES_PRODUCT_FORECAST_PRODUCT_NUMBER', 'YEAR_MONTH': 'GO_SALES_PRODUCT_FORECAST_YEAR_MONTH'})\n",
    "\n",
    "all_dataframes.append(sales_product_forecast)\n",
    "\n",
    "sales_product_forecast.head()"
   ]
  },
  {
   "cell_type": "markdown",
   "id": "bbc4cad433e188d7",
   "metadata": {
    "collapsed": false
   },
   "source": [
    "###  SALES_TARGETData"
   ]
  },
  {
   "cell_type": "code",
   "execution_count": 10,
   "id": "c2f565e0160b4bc5",
   "metadata": {
    "collapsed": false,
    "ExecuteTime": {
     "end_time": "2024-03-20T20:46:32.672686Z",
     "start_time": "2024-03-20T20:46:32.658324Z"
    }
   },
   "outputs": [
    {
     "ename": "NameError",
     "evalue": "name 'product' is not defined",
     "output_type": "error",
     "traceback": [
      "\u001B[1;31m---------------------------------------------------------------------------\u001B[0m",
      "\u001B[1;31mNameError\u001B[0m                                 Traceback (most recent call last)",
      "Cell \u001B[1;32mIn[10], line 2\u001B[0m\n\u001B[0;32m      1\u001B[0m \u001B[38;5;66;03m# merge product, retailer and sales_staff\u001B[39;00m\n\u001B[1;32m----> 2\u001B[0m product[\u001B[38;5;124m'\u001B[39m\u001B[38;5;124mPRODUCT_number\u001B[39m\u001B[38;5;124m'\u001B[39m] \u001B[38;5;241m=\u001B[39m \u001B[43mproduct\u001B[49m[\u001B[38;5;124m'\u001B[39m\u001B[38;5;124mPRODUCT_number\u001B[39m\u001B[38;5;124m'\u001B[39m]\u001B[38;5;241m.\u001B[39mastype(\u001B[38;5;124m'\u001B[39m\u001B[38;5;124mint\u001B[39m\u001B[38;5;124m'\u001B[39m)\n\u001B[0;32m      4\u001B[0m go_sales_sales_target_data[\u001B[38;5;124m'\u001B[39m\u001B[38;5;124mPRODUCT_NUMBER\u001B[39m\u001B[38;5;124m'\u001B[39m] \u001B[38;5;241m=\u001B[39m go_sales_sales_target_data[\u001B[38;5;124m'\u001B[39m\u001B[38;5;124mPRODUCT_NUMBER\u001B[39m\u001B[38;5;124m'\u001B[39m]\u001B[38;5;241m.\u001B[39mastype(\u001B[38;5;124m'\u001B[39m\u001B[38;5;124mint\u001B[39m\u001B[38;5;124m'\u001B[39m)\n\u001B[0;32m      6\u001B[0m sales_sales_target_data \u001B[38;5;241m=\u001B[39m pd\u001B[38;5;241m.\u001B[39mmerge(go_sales_sales_target_data, product, left_on\u001B[38;5;241m=\u001B[39m\u001B[38;5;124m'\u001B[39m\u001B[38;5;124mPRODUCT_NUMBER\u001B[39m\u001B[38;5;124m'\u001B[39m, right_on\u001B[38;5;241m=\u001B[39m\u001B[38;5;124m'\u001B[39m\u001B[38;5;124mPRODUCT_number\u001B[39m\u001B[38;5;124m'\u001B[39m, suffixes\u001B[38;5;241m=\u001B[39m(\u001B[38;5;124m'\u001B[39m\u001B[38;5;124m_product\u001B[39m\u001B[38;5;124m'\u001B[39m, \u001B[38;5;124m'\u001B[39m\u001B[38;5;124m_retailer\u001B[39m\u001B[38;5;124m'\u001B[39m))\n",
      "\u001B[1;31mNameError\u001B[0m: name 'product' is not defined"
     ]
    }
   ],
   "source": [
    "# merge product, retailer and sales_staff\n",
    "product['PRODUCT_number'] = product['PRODUCT_number'].astype('int')\n",
    "\n",
    "go_sales_sales_target_data['PRODUCT_NUMBER'] = go_sales_sales_target_data['PRODUCT_NUMBER'].astype('int')\n",
    "\n",
    "sales_sales_target_data = pd.merge(go_sales_sales_target_data, product, left_on='PRODUCT_NUMBER', right_on='PRODUCT_number', suffixes=('_product', '_retailer'))\n",
    "\n",
    "sales_sales_target_data = pd.merge(sales_sales_target_data, retailer, left_on='RETAILER_CODE', right_on='RETAILER_code', suffixes=('_retailer', '_sales_staff'))\n",
    "\n",
    "# delete the original columns that are replaced by product, retailer and sales_staff\n",
    "sales_sales_target_data = sales_sales_target_data.drop(columns=['PRODUCT_NUMBER', 'RETAILER_CODE', 'RETAILER_name', 'RETAILER_COMPANY_CODE_MR_company', 'RETAILER_RETAILER_TYPE_code', 'RETAILER_RETAILER_TYPE_EN'])\n",
    "\n",
    "sales_target_data = sales_sales_target_data.rename(columns={'SALES_YEAR': 'SALES_TARGETDATA_SALES_YEAR', 'SALES_PERIOD': 'SALES_TARGETDATA_SALES_PERIOD', 'RETAILER_NAME': 'SALES_TARGETDATA_RETAILER_NAME', 'SALES_TARGET': 'SALES_TARGETDATA_SALES_TARGET', 'TARGET_COST': 'SALES_TARGETDATA_TARGET_COST', 'TARGET_MARGIN': 'SALES_TARGETDATA_TARGET_MARGIN', 'SALES_STAFF_CODE': 'SALES_TARGETDATA_SALES_STAFF_CODE', 'PRODUCT_NUMBER': 'SALES_TARGETDATA_PRODUCT_NUMBER', 'RETAILER_CODE': 'SALES_TARGETDATA_RETAILER_CODE'})\n",
    "\n",
    "all_dataframes.append(sales_target_data)\n",
    "\n",
    "sales_target_data.head()"
   ]
  },
  {
   "cell_type": "markdown",
   "id": "d2c2a7365aa32f1",
   "metadata": {
    "collapsed": false
   },
   "source": [
    "### Retailer_segment"
   ]
  },
  {
   "cell_type": "code",
   "execution_count": 11,
   "id": "d3a3794aa2bcf7c2",
   "metadata": {
    "collapsed": false,
    "ExecuteTime": {
     "end_time": "2024-03-20T20:46:32.742196Z",
     "start_time": "2024-03-20T20:46:32.731205Z"
    }
   },
   "outputs": [
    {
     "ename": "NameError",
     "evalue": "name 'go_crm_retailer_segment' is not defined",
     "output_type": "error",
     "traceback": [
      "\u001B[1;31m---------------------------------------------------------------------------\u001B[0m",
      "\u001B[1;31mNameError\u001B[0m                                 Traceback (most recent call last)",
      "Cell \u001B[1;32mIn[11], line 1\u001B[0m\n\u001B[1;32m----> 1\u001B[0m retailer_segment \u001B[38;5;241m=\u001B[39m \u001B[43mgo_crm_retailer_segment\u001B[49m\n\u001B[0;32m      3\u001B[0m \u001B[38;5;66;03m# rename the columns\u001B[39;00m\n\u001B[0;32m      4\u001B[0m retailer_segment \u001B[38;5;241m=\u001B[39m retailer_segment\u001B[38;5;241m.\u001B[39mrename(columns\u001B[38;5;241m=\u001B[39m{\u001B[38;5;124m'\u001B[39m\u001B[38;5;124mSEGMENT_CODE\u001B[39m\u001B[38;5;124m'\u001B[39m: \u001B[38;5;124m'\u001B[39m\u001B[38;5;124mRETAILER_SEGMENT_segment_code\u001B[39m\u001B[38;5;124m'\u001B[39m, \u001B[38;5;124m'\u001B[39m\u001B[38;5;124mLANGUAGE\u001B[39m\u001B[38;5;124m'\u001B[39m: \u001B[38;5;124m'\u001B[39m\u001B[38;5;124mRETAILER_SEGMENT_language\u001B[39m\u001B[38;5;124m'\u001B[39m, \u001B[38;5;124m'\u001B[39m\u001B[38;5;124mSEGMENT_NAME\u001B[39m\u001B[38;5;124m'\u001B[39m: \u001B[38;5;124m'\u001B[39m\u001B[38;5;124mRETAILER_SEGMENT_segment_name\u001B[39m\u001B[38;5;124m'\u001B[39m, \u001B[38;5;124m'\u001B[39m\u001B[38;5;124mSEGMENT_DESCRIPTION\u001B[39m\u001B[38;5;124m'\u001B[39m: \u001B[38;5;124m'\u001B[39m\u001B[38;5;124mRETAILER_SEGMENT_SEGMENT_DESCRIPTION_description\u001B[39m\u001B[38;5;124m'\u001B[39m})\n",
      "\u001B[1;31mNameError\u001B[0m: name 'go_crm_retailer_segment' is not defined"
     ]
    }
   ],
   "source": [
    "retailer_segment = go_crm_retailer_segment\n",
    "\n",
    "# rename the columns\n",
    "retailer_segment = retailer_segment.rename(columns={'SEGMENT_CODE': 'RETAILER_SEGMENT_segment_code', 'LANGUAGE': 'RETAILER_SEGMENT_language', 'SEGMENT_NAME': 'RETAILER_SEGMENT_segment_name', 'SEGMENT_DESCRIPTION': 'RETAILER_SEGMENT_SEGMENT_DESCRIPTION_description'})\n",
    "\n",
    "all_dataframes.append(retailer_segment)\n",
    "\n",
    "retailer_segment.head()"
   ]
  },
  {
   "cell_type": "markdown",
   "id": "ccfc75e23ec0cf14",
   "metadata": {
    "collapsed": false
   },
   "source": [
    "### Retailer_headquarters"
   ]
  },
  {
   "cell_type": "code",
   "execution_count": 12,
   "id": "50382ae176ba25e",
   "metadata": {
    "collapsed": false,
    "ExecuteTime": {
     "end_time": "2024-03-20T20:46:32.764175Z",
     "start_time": "2024-03-20T20:46:32.752706Z"
    }
   },
   "outputs": [
    {
     "ename": "NameError",
     "evalue": "name 'go_crm_retailer_headquarters' is not defined",
     "output_type": "error",
     "traceback": [
      "\u001B[1;31m---------------------------------------------------------------------------\u001B[0m",
      "\u001B[1;31mNameError\u001B[0m                                 Traceback (most recent call last)",
      "Cell \u001B[1;32mIn[12], line 1\u001B[0m\n\u001B[1;32m----> 1\u001B[0m retailer_headquarters \u001B[38;5;241m=\u001B[39m \u001B[43mgo_crm_retailer_headquarters\u001B[49m\n\u001B[0;32m      3\u001B[0m \u001B[38;5;66;03m# rename the columns\u001B[39;00m\n\u001B[0;32m      4\u001B[0m retailer_headquarters \u001B[38;5;241m=\u001B[39m retailer_headquarters\u001B[38;5;241m.\u001B[39mrename(columns\u001B[38;5;241m=\u001B[39m{\u001B[38;5;124m'\u001B[39m\u001B[38;5;124mRETAILER_CODEMR\u001B[39m\u001B[38;5;124m'\u001B[39m: \u001B[38;5;124m'\u001B[39m\u001B[38;5;124mRETAILER_HEADQUARTER_codemr\u001B[39m\u001B[38;5;124m'\u001B[39m, \u001B[38;5;124m'\u001B[39m\u001B[38;5;124mRETAILER_NAME\u001B[39m\u001B[38;5;124m'\u001B[39m : \u001B[38;5;124m'\u001B[39m\u001B[38;5;124mRETAIL_HEADQUARTER_retailer_name\u001B[39m\u001B[38;5;124m'\u001B[39m, \u001B[38;5;124m'\u001B[39m\u001B[38;5;124mADDRESS1\u001B[39m\u001B[38;5;124m'\u001B[39m : \u001B[38;5;124m'\u001B[39m\u001B[38;5;124mRETAILER_HEADQUARTER_address1_address\u001B[39m\u001B[38;5;124m'\u001B[39m, \u001B[38;5;124m'\u001B[39m\u001B[38;5;124mADDRESS2\u001B[39m\u001B[38;5;124m'\u001B[39m : \u001B[38;5;124m'\u001B[39m\u001B[38;5;124mRETAILER_HEADQUARTER_address2_address\u001B[39m\u001B[38;5;124m'\u001B[39m, \u001B[38;5;124m'\u001B[39m\u001B[38;5;124mCITY\u001B[39m\u001B[38;5;124m'\u001B[39m : \u001B[38;5;124m'\u001B[39m\u001B[38;5;124mRETAILER_HEADQUARTER_city_city\u001B[39m\u001B[38;5;124m'\u001B[39m, \u001B[38;5;124m'\u001B[39m\u001B[38;5;124mREGION\u001B[39m\u001B[38;5;124m'\u001B[39m : \u001B[38;5;124m'\u001B[39m\u001B[38;5;124mRETAILER_HEADQUARTER_region_region\u001B[39m\u001B[38;5;124m'\u001B[39m, \u001B[38;5;124m'\u001B[39m\u001B[38;5;124mPOSTAL_ZONE\u001B[39m\u001B[38;5;124m'\u001B[39m : \u001B[38;5;124m'\u001B[39m\u001B[38;5;124mRETAILER_HEADQUARTER_postal_zone_postal_zone\u001B[39m\u001B[38;5;124m'\u001B[39m, \u001B[38;5;124m'\u001B[39m\u001B[38;5;124mCOUNTRY_CODE\u001B[39m\u001B[38;5;124m'\u001B[39m : \u001B[38;5;124m'\u001B[39m\u001B[38;5;124mRETAILER_HEADQUARTER_country_code_country\u001B[39m\u001B[38;5;124m'\u001B[39m, \u001B[38;5;124m'\u001B[39m\u001B[38;5;124mPHONE\u001B[39m\u001B[38;5;124m'\u001B[39m : \u001B[38;5;124m'\u001B[39m\u001B[38;5;124mRETAILER_HEADQUARTER_phone_phone\u001B[39m\u001B[38;5;124m'\u001B[39m, \u001B[38;5;124m'\u001B[39m\u001B[38;5;124mFAX\u001B[39m\u001B[38;5;124m'\u001B[39m: \u001B[38;5;124m'\u001B[39m\u001B[38;5;124mRETAILER_HEADQUARTER_fax_fax\u001B[39m\u001B[38;5;124m'\u001B[39m, \u001B[38;5;124m'\u001B[39m\u001B[38;5;124mSEGMENT_CODE\u001B[39m\u001B[38;5;124m'\u001B[39m : \u001B[38;5;124m'\u001B[39m\u001B[38;5;124mRETAILER_HEADQUARTER_segment_code\u001B[39m\u001B[38;5;124m'\u001B[39m})\n",
      "\u001B[1;31mNameError\u001B[0m: name 'go_crm_retailer_headquarters' is not defined"
     ]
    }
   ],
   "source": [
    "retailer_headquarters = go_crm_retailer_headquarters\n",
    "\n",
    "# rename the columns\n",
    "retailer_headquarters = retailer_headquarters.rename(columns={'RETAILER_CODEMR': 'RETAILER_HEADQUARTER_codemr', 'RETAILER_NAME' : 'RETAIL_HEADQUARTER_retailer_name', 'ADDRESS1' : 'RETAILER_HEADQUARTER_address1_address', 'ADDRESS2' : 'RETAILER_HEADQUARTER_address2_address', 'CITY' : 'RETAILER_HEADQUARTER_city_city', 'REGION' : 'RETAILER_HEADQUARTER_region_region', 'POSTAL_ZONE' : 'RETAILER_HEADQUARTER_postal_zone_postal_zone', 'COUNTRY_CODE' : 'RETAILER_HEADQUARTER_country_code_country', 'PHONE' : 'RETAILER_HEADQUARTER_phone_phone', 'FAX': 'RETAILER_HEADQUARTER_fax_fax', 'SEGMENT_CODE' : 'RETAILER_HEADQUARTER_segment_code'})\n",
    "\n",
    "all_dataframes.append(retailer_headquarters)\n",
    "\n",
    "retailer_headquarters.head()"
   ]
  },
  {
   "cell_type": "markdown",
   "id": "fd9a082ad3509fe3",
   "metadata": {
    "collapsed": false
   },
   "source": [
    "### Verwijderen trial kolommen"
   ]
  },
  {
   "cell_type": "code",
   "execution_count": 13,
   "id": "432bdbbc870f71f6",
   "metadata": {
    "collapsed": false,
    "ExecuteTime": {
     "end_time": "2024-03-20T20:46:32.854607Z",
     "start_time": "2024-03-20T20:46:32.844200Z"
    }
   },
   "outputs": [
    {
     "ename": "NameError",
     "evalue": "name 'all_dataframes' is not defined",
     "output_type": "error",
     "traceback": [
      "\u001B[1;31m---------------------------------------------------------------------------\u001B[0m",
      "\u001B[1;31mNameError\u001B[0m                                 Traceback (most recent call last)",
      "Cell \u001B[1;32mIn[13], line 1\u001B[0m\n\u001B[1;32m----> 1\u001B[0m \u001B[38;5;28;01mfor\u001B[39;00m df \u001B[38;5;129;01min\u001B[39;00m \u001B[43mall_dataframes\u001B[49m:\n\u001B[0;32m      2\u001B[0m     trial_columns \u001B[38;5;241m=\u001B[39m df\u001B[38;5;241m.\u001B[39mfilter(like\u001B[38;5;241m=\u001B[39m\u001B[38;5;124m'\u001B[39m\u001B[38;5;124mTRIAL\u001B[39m\u001B[38;5;124m'\u001B[39m)\u001B[38;5;241m.\u001B[39mcolumns\n\u001B[0;32m      3\u001B[0m     df\u001B[38;5;241m.\u001B[39mdrop(columns\u001B[38;5;241m=\u001B[39mtrial_columns, inplace\u001B[38;5;241m=\u001B[39m\u001B[38;5;28;01mTrue\u001B[39;00m)\n",
      "\u001B[1;31mNameError\u001B[0m: name 'all_dataframes' is not defined"
     ]
    }
   ],
   "source": [
    "for df in all_dataframes:\n",
    "    trial_columns = df.filter(like='TRIAL').columns\n",
    "    df.drop(columns=trial_columns, inplace=True)"
   ]
  },
  {
   "cell_type": "markdown",
   "id": "2ab8ad37ba912768",
   "metadata": {
    "collapsed": false
   },
   "source": [
    "# Omzetten van de data\n",
    "Omzetten van de data naar de juiste data types.\n",
    "Year en Date zijn al omgezet naar de juiste data types."
   ]
  },
  {
   "cell_type": "markdown",
   "id": "181c7a93b12d1970",
   "metadata": {
    "collapsed": false
   },
   "source": [
    "### Unit"
   ]
  },
  {
   "cell_type": "code",
   "execution_count": 14,
   "id": "cacf55cc4c604fca",
   "metadata": {
    "collapsed": false,
    "ExecuteTime": {
     "end_time": "2024-03-20T20:46:32.875046Z",
     "start_time": "2024-03-20T20:46:32.865117Z"
    }
   },
   "outputs": [
    {
     "ename": "NameError",
     "evalue": "name 'unit' is not defined",
     "output_type": "error",
     "traceback": [
      "\u001B[1;31m---------------------------------------------------------------------------\u001B[0m",
      "\u001B[1;31mNameError\u001B[0m                                 Traceback (most recent call last)",
      "Cell \u001B[1;32mIn[14], line 1\u001B[0m\n\u001B[1;32m----> 1\u001B[0m unit[\u001B[38;5;124m'\u001B[39m\u001B[38;5;124mUNIT_COST_cost\u001B[39m\u001B[38;5;124m'\u001B[39m] \u001B[38;5;241m=\u001B[39m \u001B[43munit\u001B[49m[\u001B[38;5;124m'\u001B[39m\u001B[38;5;124mUNIT_COST_cost\u001B[39m\u001B[38;5;124m'\u001B[39m]\u001B[38;5;241m.\u001B[39mastype(\u001B[38;5;124m'\u001B[39m\u001B[38;5;124mfloat64\u001B[39m\u001B[38;5;124m'\u001B[39m)\n\u001B[0;32m      2\u001B[0m unit[\u001B[38;5;124m'\u001B[39m\u001B[38;5;124mUNIT_PRICE_price\u001B[39m\u001B[38;5;124m'\u001B[39m] \u001B[38;5;241m=\u001B[39m unit[\u001B[38;5;124m'\u001B[39m\u001B[38;5;124mUNIT_PRICE_price\u001B[39m\u001B[38;5;124m'\u001B[39m]\u001B[38;5;241m.\u001B[39mastype(\u001B[38;5;124m'\u001B[39m\u001B[38;5;124mfloat64\u001B[39m\u001B[38;5;124m'\u001B[39m)\n\u001B[0;32m      3\u001B[0m unit[\u001B[38;5;124m'\u001B[39m\u001B[38;5;124mUNIT_SALE_sale\u001B[39m\u001B[38;5;124m'\u001B[39m] \u001B[38;5;241m=\u001B[39m unit[\u001B[38;5;124m'\u001B[39m\u001B[38;5;124mUNIT_SALE_sale\u001B[39m\u001B[38;5;124m'\u001B[39m]\u001B[38;5;241m.\u001B[39mastype(\u001B[38;5;124m'\u001B[39m\u001B[38;5;124mfloat64\u001B[39m\u001B[38;5;124m'\u001B[39m)\n",
      "\u001B[1;31mNameError\u001B[0m: name 'unit' is not defined"
     ]
    }
   ],
   "source": [
    "unit['UNIT_COST_cost'] = unit['UNIT_COST_cost'].astype('float64')\n",
    "unit['UNIT_PRICE_price'] = unit['UNIT_PRICE_price'].astype('float64')\n",
    "unit['UNIT_SALE_sale'] = unit['UNIT_SALE_sale'].astype('float64')\n",
    "\n",
    "unit.dtypes"
   ]
  },
  {
   "cell_type": "markdown",
   "id": "3216e80489a1934d",
   "metadata": {
    "collapsed": false
   },
   "source": [
    "### Sales_staff"
   ]
  },
  {
   "cell_type": "code",
   "execution_count": 15,
   "id": "a14e6f5e5ef63d79",
   "metadata": {
    "collapsed": false,
    "ExecuteTime": {
     "end_time": "2024-03-20T20:46:32.948621Z",
     "start_time": "2024-03-20T20:46:32.934070Z"
    }
   },
   "outputs": [
    {
     "ename": "NameError",
     "evalue": "name 'sales_staff' is not defined",
     "output_type": "error",
     "traceback": [
      "\u001B[1;31m---------------------------------------------------------------------------\u001B[0m",
      "\u001B[1;31mNameError\u001B[0m                                 Traceback (most recent call last)",
      "Cell \u001B[1;32mIn[15], line 1\u001B[0m\n\u001B[1;32m----> 1\u001B[0m sales_staff[\u001B[38;5;124m'\u001B[39m\u001B[38;5;124mSALES_STAFF_code\u001B[39m\u001B[38;5;124m'\u001B[39m] \u001B[38;5;241m=\u001B[39m \u001B[43msales_staff\u001B[49m[\u001B[38;5;124m'\u001B[39m\u001B[38;5;124mSALES_STAFF_code\u001B[39m\u001B[38;5;124m'\u001B[39m]\u001B[38;5;241m.\u001B[39mastype(\u001B[38;5;124m'\u001B[39m\u001B[38;5;124mint\u001B[39m\u001B[38;5;124m'\u001B[39m)\n\u001B[0;32m      2\u001B[0m sales_staff[\u001B[38;5;124m'\u001B[39m\u001B[38;5;124mSALES_STAFF_email\u001B[39m\u001B[38;5;124m'\u001B[39m] \u001B[38;5;241m=\u001B[39m sales_staff[\u001B[38;5;124m'\u001B[39m\u001B[38;5;124mSALES_STAFF_email\u001B[39m\u001B[38;5;124m'\u001B[39m]\u001B[38;5;241m.\u001B[39mastype(\u001B[38;5;124m'\u001B[39m\u001B[38;5;124mstring\u001B[39m\u001B[38;5;124m'\u001B[39m)\u001B[38;5;241m.\u001B[39mreplace({np\u001B[38;5;241m.\u001B[39mnan: \u001B[38;5;28;01mNone\u001B[39;00m})\n\u001B[0;32m      3\u001B[0m sales_staff[\u001B[38;5;124m'\u001B[39m\u001B[38;5;124mSALES_STAFF_extension\u001B[39m\u001B[38;5;124m'\u001B[39m] \u001B[38;5;241m=\u001B[39m sales_staff[\u001B[38;5;124m'\u001B[39m\u001B[38;5;124mSALES_STAFF_extension\u001B[39m\u001B[38;5;124m'\u001B[39m]\u001B[38;5;241m.\u001B[39mastype(\u001B[38;5;124m'\u001B[39m\u001B[38;5;124mstring\u001B[39m\u001B[38;5;124m'\u001B[39m)\u001B[38;5;241m.\u001B[39mreplace({np\u001B[38;5;241m.\u001B[39mnan: \u001B[38;5;28;01mNone\u001B[39;00m})\n",
      "\u001B[1;31mNameError\u001B[0m: name 'sales_staff' is not defined"
     ]
    }
   ],
   "source": [
    "sales_staff['SALES_STAFF_code'] = sales_staff['SALES_STAFF_code'].astype('int')\n",
    "sales_staff['SALES_STAFF_email'] = sales_staff['SALES_STAFF_email'].astype('string').replace({np.nan: None})\n",
    "sales_staff['SALES_STAFF_extension'] = sales_staff['SALES_STAFF_extension'].astype('string').replace({np.nan: None})\n",
    "\n",
    "sales_staff['SALES_STAFF_POSITION_EN_position'] = sales_staff['SALES_STAFF_POSITION_EN_position'].astype('string').replace({np.nan: None})\n",
    "sales_staff['SALES_STAFF_WORK_PHONE_work_phone'] = sales_staff['SALES_STAFF_WORK_PHONE_work_phone'].astype('string').replace({np.nan: None})\n",
    "sales_staff['SALES_STAFF_DATE_HIRED_hired'] = pd.to_datetime(sales_staff['SALES_STAFF_DATE_HIRED_hired'], format='mixed')\n",
    "sales_staff['SALES_STAFF_MANAGER_CODE_manager'] = sales_staff['SALES_STAFF_MANAGER_CODE_manager'].astype('int64')\n",
    "sales_staff['SALES_STAFF_FAX'] = sales_staff['SALES_STAFF_FAX'].astype('string').replace({np.nan: None})\n",
    "sales_staff['SALES_STAFF_FIRST_NAME_first_name'] = sales_staff['SALES_STAFF_FIRST_NAME_first_name'].astype('string').replace({np.nan: None})\n",
    "sales_staff['SALES_STAFF_LAST_NAME_last_name'] = sales_staff['SALES_STAFF_LAST_NAME_last_name'].astype('string').replace({np.nan: None})\n",
    "sales_staff['SALES_STAFF_SALES_BRANCH_CODE_branch_code'] = sales_staff['SALES_STAFF_SALES_BRANCH_CODE_branch_code'].astype('int64')\n",
    "sales_staff['SALES_STAFF_SALES_BRANCH_ADDRESS1_address'] = sales_staff['SALES_STAFF_SALES_BRANCH_ADDRESS1_address'].astype('string').replace({np.nan: None})\n",
    "sales_staff['SALES_STAFF_SALES_BRANCH_ADDRESS2_address'] = sales_staff['SALES_STAFF_SALES_BRANCH_ADDRESS2_address'].astype('string').replace({np.nan: None})\n",
    "\n",
    "\n",
    "sales_staff.head()"
   ]
  },
  {
   "cell_type": "markdown",
   "id": "e8785e20dcda4096",
   "metadata": {
    "collapsed": false
   },
   "source": [
    "### satisfaction_type"
   ]
  },
  {
   "cell_type": "code",
   "execution_count": 16,
   "id": "cf0c499ca44d0f2c",
   "metadata": {
    "collapsed": false,
    "ExecuteTime": {
     "end_time": "2024-03-20T20:46:32.984896Z",
     "start_time": "2024-03-20T20:46:32.975126Z"
    }
   },
   "outputs": [
    {
     "ename": "NameError",
     "evalue": "name 'satisfaction_type' is not defined",
     "output_type": "error",
     "traceback": [
      "\u001B[1;31m---------------------------------------------------------------------------\u001B[0m",
      "\u001B[1;31mNameError\u001B[0m                                 Traceback (most recent call last)",
      "Cell \u001B[1;32mIn[16], line 1\u001B[0m\n\u001B[1;32m----> 1\u001B[0m satisfaction_type[\u001B[38;5;124m'\u001B[39m\u001B[38;5;124mSATISFACTION_TYPE_code\u001B[39m\u001B[38;5;124m'\u001B[39m] \u001B[38;5;241m=\u001B[39m \u001B[43msatisfaction_type\u001B[49m[\u001B[38;5;124m'\u001B[39m\u001B[38;5;124mSATISFACTION_TYPE_code\u001B[39m\u001B[38;5;124m'\u001B[39m]\u001B[38;5;241m.\u001B[39mastype(\u001B[38;5;124m'\u001B[39m\u001B[38;5;124mint\u001B[39m\u001B[38;5;124m'\u001B[39m)\n\u001B[0;32m      2\u001B[0m satisfaction_type[\u001B[38;5;124m'\u001B[39m\u001B[38;5;124mSATISFACTION_TYPE_DESCRIPTION\u001B[39m\u001B[38;5;124m'\u001B[39m] \u001B[38;5;241m=\u001B[39m satisfaction_type[\u001B[38;5;124m'\u001B[39m\u001B[38;5;124mSATISFACTION_TYPE_DESCRIPTION\u001B[39m\u001B[38;5;124m'\u001B[39m]\u001B[38;5;241m.\u001B[39mastype(\u001B[38;5;124m'\u001B[39m\u001B[38;5;124mstring\u001B[39m\u001B[38;5;124m'\u001B[39m)\u001B[38;5;241m.\u001B[39mreplace({np\u001B[38;5;241m.\u001B[39mnan: \u001B[38;5;28;01mNone\u001B[39;00m})\n\u001B[0;32m      4\u001B[0m satisfaction_type\u001B[38;5;241m.\u001B[39mdtypes\n",
      "\u001B[1;31mNameError\u001B[0m: name 'satisfaction_type' is not defined"
     ]
    }
   ],
   "source": [
    "satisfaction_type['SATISFACTION_TYPE_code'] = satisfaction_type['SATISFACTION_TYPE_code'].astype('int')\n",
    "satisfaction_type['SATISFACTION_TYPE_DESCRIPTION'] = satisfaction_type['SATISFACTION_TYPE_DESCRIPTION'].astype('string').replace({np.nan: None})\n",
    "\n",
    "satisfaction_type.dtypes"
   ]
  },
  {
   "cell_type": "markdown",
   "id": "22c6073850c706a6",
   "metadata": {
    "collapsed": false
   },
   "source": [
    "### Course"
   ]
  },
  {
   "cell_type": "code",
   "execution_count": 17,
   "id": "ba071c23927ffde6",
   "metadata": {
    "collapsed": false,
    "ExecuteTime": {
     "end_time": "2024-03-20T20:46:33.061155Z",
     "start_time": "2024-03-20T20:46:33.050916Z"
    }
   },
   "outputs": [
    {
     "ename": "NameError",
     "evalue": "name 'course' is not defined",
     "output_type": "error",
     "traceback": [
      "\u001B[1;31m---------------------------------------------------------------------------\u001B[0m",
      "\u001B[1;31mNameError\u001B[0m                                 Traceback (most recent call last)",
      "Cell \u001B[1;32mIn[17], line 1\u001B[0m\n\u001B[1;32m----> 1\u001B[0m course[\u001B[38;5;124m'\u001B[39m\u001B[38;5;124mCOURSE_code\u001B[39m\u001B[38;5;124m'\u001B[39m] \u001B[38;5;241m=\u001B[39m \u001B[43mcourse\u001B[49m[\u001B[38;5;124m'\u001B[39m\u001B[38;5;124mCOURSE_code\u001B[39m\u001B[38;5;124m'\u001B[39m]\u001B[38;5;241m.\u001B[39mastype(\u001B[38;5;124m'\u001B[39m\u001B[38;5;124mint\u001B[39m\u001B[38;5;124m'\u001B[39m)\n\u001B[0;32m      2\u001B[0m course[\u001B[38;5;124m'\u001B[39m\u001B[38;5;124mCOURSE_DESCRIPTION\u001B[39m\u001B[38;5;124m'\u001B[39m] \u001B[38;5;241m=\u001B[39m course[\u001B[38;5;124m'\u001B[39m\u001B[38;5;124mCOURSE_DESCRIPTION\u001B[39m\u001B[38;5;124m'\u001B[39m]\u001B[38;5;241m.\u001B[39mastype(\u001B[38;5;124m'\u001B[39m\u001B[38;5;124mstring\u001B[39m\u001B[38;5;124m'\u001B[39m)\u001B[38;5;241m.\u001B[39mreplace({np\u001B[38;5;241m.\u001B[39mnan: \u001B[38;5;28;01mNone\u001B[39;00m})\n\u001B[0;32m      4\u001B[0m course\u001B[38;5;241m.\u001B[39mdtypes\n",
      "\u001B[1;31mNameError\u001B[0m: name 'course' is not defined"
     ]
    }
   ],
   "source": [
    "course['COURSE_code'] = course['COURSE_code'].astype('int')\n",
    "course['COURSE_DESCRIPTION'] = course['COURSE_DESCRIPTION'].astype('string').replace({np.nan: None})\n",
    "\n",
    "course.dtypes"
   ]
  },
  {
   "cell_type": "markdown",
   "id": "dba98d048459e640",
   "metadata": {
    "collapsed": false
   },
   "source": [
    "### Order"
   ]
  },
  {
   "cell_type": "code",
   "execution_count": 18,
   "id": "3e0fbcf814cc704",
   "metadata": {
    "collapsed": false,
    "ExecuteTime": {
     "end_time": "2024-03-20T20:46:33.083832Z",
     "start_time": "2024-03-20T20:46:33.073164Z"
    }
   },
   "outputs": [
    {
     "ename": "NameError",
     "evalue": "name 'order' is not defined",
     "output_type": "error",
     "traceback": [
      "\u001B[1;31m---------------------------------------------------------------------------\u001B[0m",
      "\u001B[1;31mNameError\u001B[0m                                 Traceback (most recent call last)",
      "Cell \u001B[1;32mIn[18], line 1\u001B[0m\n\u001B[1;32m----> 1\u001B[0m order[\u001B[38;5;124m'\u001B[39m\u001B[38;5;124mORDER_ORDER_METHOD_CODE_method_code\u001B[39m\u001B[38;5;124m'\u001B[39m] \u001B[38;5;241m=\u001B[39m \u001B[43morder\u001B[49m[\u001B[38;5;124m'\u001B[39m\u001B[38;5;124mORDER_ORDER_METHOD_CODE_method_code\u001B[39m\u001B[38;5;124m'\u001B[39m]\u001B[38;5;241m.\u001B[39mastype(\u001B[38;5;124m'\u001B[39m\u001B[38;5;124mint\u001B[39m\u001B[38;5;124m'\u001B[39m)\n\u001B[0;32m      2\u001B[0m order[\u001B[38;5;124m'\u001B[39m\u001B[38;5;124mORDER_order_number\u001B[39m\u001B[38;5;124m'\u001B[39m] \u001B[38;5;241m=\u001B[39m order[\u001B[38;5;124m'\u001B[39m\u001B[38;5;124mORDER_order_number\u001B[39m\u001B[38;5;124m'\u001B[39m]\u001B[38;5;241m.\u001B[39mastype(\u001B[38;5;124m'\u001B[39m\u001B[38;5;124mint\u001B[39m\u001B[38;5;124m'\u001B[39m)\n\u001B[0;32m      3\u001B[0m order[\u001B[38;5;124m'\u001B[39m\u001B[38;5;124mORDER_ORDER_METHOD_EN_method\u001B[39m\u001B[38;5;124m'\u001B[39m] \u001B[38;5;241m=\u001B[39m order[\u001B[38;5;124m'\u001B[39m\u001B[38;5;124mORDER_ORDER_METHOD_EN_method\u001B[39m\u001B[38;5;124m'\u001B[39m]\u001B[38;5;241m.\u001B[39mastype(\u001B[38;5;124m'\u001B[39m\u001B[38;5;124mstring\u001B[39m\u001B[38;5;124m'\u001B[39m)\u001B[38;5;241m.\u001B[39mreplace({np\u001B[38;5;241m.\u001B[39mnan: \u001B[38;5;28;01mNone\u001B[39;00m})\n",
      "\u001B[1;31mNameError\u001B[0m: name 'order' is not defined"
     ]
    }
   ],
   "source": [
    "order['ORDER_ORDER_METHOD_CODE_method_code'] = order['ORDER_ORDER_METHOD_CODE_method_code'].astype('int')\n",
    "order['ORDER_order_number'] = order['ORDER_order_number'].astype('int')\n",
    "order['ORDER_ORDER_METHOD_EN_method'] = order['ORDER_ORDER_METHOD_EN_method'].astype('string').replace({np.nan: None})\n",
    "\n",
    "order.dtypes"
   ]
  },
  {
   "cell_type": "markdown",
   "id": "e40a905ea05dfb42",
   "metadata": {
    "collapsed": false
   },
   "source": [
    "### Retailer_site"
   ]
  },
  {
   "cell_type": "code",
   "execution_count": 19,
   "id": "7862cb29850150bb",
   "metadata": {
    "collapsed": false,
    "ExecuteTime": {
     "end_time": "2024-03-20T20:46:33.104719Z",
     "start_time": "2024-03-20T20:46:33.091841Z"
    }
   },
   "outputs": [
    {
     "ename": "NameError",
     "evalue": "name 'retailer_site' is not defined",
     "output_type": "error",
     "traceback": [
      "\u001B[1;31m---------------------------------------------------------------------------\u001B[0m",
      "\u001B[1;31mNameError\u001B[0m                                 Traceback (most recent call last)",
      "Cell \u001B[1;32mIn[19], line 1\u001B[0m\n\u001B[1;32m----> 1\u001B[0m retailer_site[\u001B[38;5;124m'\u001B[39m\u001B[38;5;124mRETAILER_SITE_code\u001B[39m\u001B[38;5;124m'\u001B[39m] \u001B[38;5;241m=\u001B[39m \u001B[43mretailer_site\u001B[49m[\u001B[38;5;124m'\u001B[39m\u001B[38;5;124mRETAILER_SITE_code\u001B[39m\u001B[38;5;124m'\u001B[39m]\u001B[38;5;241m.\u001B[39mastype(\u001B[38;5;124m'\u001B[39m\u001B[38;5;124mint\u001B[39m\u001B[38;5;124m'\u001B[39m)\n\u001B[0;32m      2\u001B[0m retailer_site[\u001B[38;5;124m'\u001B[39m\u001B[38;5;124mRETAILER_SITE_COUNTRY_CODE_country\u001B[39m\u001B[38;5;124m'\u001B[39m] \u001B[38;5;241m=\u001B[39m retailer_site[\u001B[38;5;124m'\u001B[39m\u001B[38;5;124mRETAILER_SITE_COUNTRY_CODE_country\u001B[39m\u001B[38;5;124m'\u001B[39m]\u001B[38;5;241m.\u001B[39mastype(\u001B[38;5;124m'\u001B[39m\u001B[38;5;124mstring\u001B[39m\u001B[38;5;124m'\u001B[39m)\u001B[38;5;241m.\u001B[39mreplace({np\u001B[38;5;241m.\u001B[39mnan: \u001B[38;5;28;01mNone\u001B[39;00m})\n\u001B[0;32m      3\u001B[0m retailer_site[\u001B[38;5;124m'\u001B[39m\u001B[38;5;124mRETAILER_SITE_CITY_city\u001B[39m\u001B[38;5;124m'\u001B[39m] \u001B[38;5;241m=\u001B[39m retailer_site[\u001B[38;5;124m'\u001B[39m\u001B[38;5;124mRETAILER_SITE_CITY_city\u001B[39m\u001B[38;5;124m'\u001B[39m]\u001B[38;5;241m.\u001B[39mastype(\u001B[38;5;124m'\u001B[39m\u001B[38;5;124mstring\u001B[39m\u001B[38;5;124m'\u001B[39m)\u001B[38;5;241m.\u001B[39mreplace({np\u001B[38;5;241m.\u001B[39mnan: \u001B[38;5;28;01mNone\u001B[39;00m})\n",
      "\u001B[1;31mNameError\u001B[0m: name 'retailer_site' is not defined"
     ]
    }
   ],
   "source": [
    "retailer_site['RETAILER_SITE_code'] = retailer_site['RETAILER_SITE_code'].astype('int')\n",
    "retailer_site['RETAILER_SITE_COUNTRY_CODE_country'] = retailer_site['RETAILER_SITE_COUNTRY_CODE_country'].astype('string').replace({np.nan: None})\n",
    "retailer_site['RETAILER_SITE_CITY_city'] = retailer_site['RETAILER_SITE_CITY_city'].astype('string').replace({np.nan: None})\n",
    "retailer_site['RETAILER_SITE_REGION_region'] = retailer_site['RETAILER_SITE_REGION_region'].astype('string').replace({np.nan: None})\n",
    "retailer_site['RETAILER_SITE_POSTAL_ZONE_postal_zone'] = retailer_site['RETAILER_SITE_POSTAL_ZONE_postal_zone'].astype('string').replace({np.nan: None})\n",
    "retailer_site['RETAILER_SITE_RETAILER_CODE_retailer_code'] = retailer_site['RETAILER_SITE_RETAILER_CODE_retailer_code'].astype('int')\n",
    "retailer_site['RETAILER_SITE_ACTIVE_INDICATOR_indicator'] = retailer_site['RETAILER_SITE_ACTIVE_INDICATOR_indicator'].astype('int')\n",
    "retailer_site['RETAILER_SITE_ADDRESS1_address'] = retailer_site['RETAILER_SITE_ADDRESS1_address'].astype('string').replace({np.nan: None})\n",
    "retailer_site['RETAILER_SITE_ADDRESS2_address'] = retailer_site['RETAILER_SITE_ADDRESS2_address'].astype('string').replace({np.nan: None})\n",
    "\n",
    "\n",
    "retailer_site.dtypes"
   ]
  },
  {
   "cell_type": "markdown",
   "id": "7c0d87b818a9d54b",
   "metadata": {
    "collapsed": false
   },
   "source": [
    "### Sales_branch"
   ]
  },
  {
   "cell_type": "code",
   "execution_count": 20,
   "id": "2ea23e262922c320",
   "metadata": {
    "collapsed": false,
    "ExecuteTime": {
     "end_time": "2024-03-20T20:46:33.191580Z",
     "start_time": "2024-03-20T20:46:33.177739Z"
    }
   },
   "outputs": [
    {
     "ename": "NameError",
     "evalue": "name 'sales_branch' is not defined",
     "output_type": "error",
     "traceback": [
      "\u001B[1;31m---------------------------------------------------------------------------\u001B[0m",
      "\u001B[1;31mNameError\u001B[0m                                 Traceback (most recent call last)",
      "Cell \u001B[1;32mIn[20], line 1\u001B[0m\n\u001B[1;32m----> 1\u001B[0m sales_branch[\u001B[38;5;124m'\u001B[39m\u001B[38;5;124mSALES_BRANCH_code\u001B[39m\u001B[38;5;124m'\u001B[39m] \u001B[38;5;241m=\u001B[39m \u001B[43msales_branch\u001B[49m[\u001B[38;5;124m'\u001B[39m\u001B[38;5;124mSALES_BRANCH_code\u001B[39m\u001B[38;5;124m'\u001B[39m]\u001B[38;5;241m.\u001B[39mastype(\u001B[38;5;124m'\u001B[39m\u001B[38;5;124mint\u001B[39m\u001B[38;5;124m'\u001B[39m)\n\u001B[0;32m      2\u001B[0m sales_branch[\u001B[38;5;124m'\u001B[39m\u001B[38;5;124mSALES_BRANCH_COUNTRY_CODE_country\u001B[39m\u001B[38;5;124m'\u001B[39m] \u001B[38;5;241m=\u001B[39m sales_branch[\u001B[38;5;124m'\u001B[39m\u001B[38;5;124mSALES_BRANCH_COUNTRY_CODE_country\u001B[39m\u001B[38;5;124m'\u001B[39m]\u001B[38;5;241m.\u001B[39mastype(\u001B[38;5;124m'\u001B[39m\u001B[38;5;124mstring\u001B[39m\u001B[38;5;124m'\u001B[39m)\u001B[38;5;241m.\u001B[39mreplace({np\u001B[38;5;241m.\u001B[39mnan: \u001B[38;5;28;01mNone\u001B[39;00m})\n\u001B[0;32m      3\u001B[0m sales_branch[\u001B[38;5;124m'\u001B[39m\u001B[38;5;124mSALES_BRANCH_REGION_region\u001B[39m\u001B[38;5;124m'\u001B[39m] \u001B[38;5;241m=\u001B[39m sales_branch[\u001B[38;5;124m'\u001B[39m\u001B[38;5;124mSALES_BRANCH_REGION_region\u001B[39m\u001B[38;5;124m'\u001B[39m]\u001B[38;5;241m.\u001B[39mastype(\u001B[38;5;124m'\u001B[39m\u001B[38;5;124mstring\u001B[39m\u001B[38;5;124m'\u001B[39m)\u001B[38;5;241m.\u001B[39mreplace({np\u001B[38;5;241m.\u001B[39mnan: \u001B[38;5;28;01mNone\u001B[39;00m})\n",
      "\u001B[1;31mNameError\u001B[0m: name 'sales_branch' is not defined"
     ]
    }
   ],
   "source": [
    "sales_branch['SALES_BRANCH_code'] = sales_branch['SALES_BRANCH_code'].astype('int')\n",
    "sales_branch['SALES_BRANCH_COUNTRY_CODE_country'] = sales_branch['SALES_BRANCH_COUNTRY_CODE_country'].astype('string').replace({np.nan: None})\n",
    "sales_branch['SALES_BRANCH_REGION_region'] = sales_branch['SALES_BRANCH_REGION_region'].astype('string').replace({np.nan: None})\n",
    "sales_branch['SALES_BRANCH_CITY_city'] = sales_branch['SALES_BRANCH_CITY_city'].astype('string').replace({np.nan: None})\n",
    "sales_branch['SALES_BRANCH_POSTAL_ZONE_postal_zone'] = sales_branch['SALES_BRANCH_POSTAL_ZONE_postal_zone'].astype('string').replace({np.nan: None})\n",
    "sales_branch['SALES_BRANCH_ADDRESS1_address'] = sales_branch['SALES_BRANCH_ADDRESS1_address'].astype('string').replace({np.nan: None})\n",
    "sales_branch['SALES_BRANCH_ADDRESS2_address'] = sales_branch['SALES_BRANCH_ADDRESS2_address'].astype('string').replace({np.nan: None})\n",
    "\n",
    "sales_branch.dtypes"
   ]
  },
  {
   "cell_type": "markdown",
   "id": "65444d58cc211dc9",
   "metadata": {
    "collapsed": false
   },
   "source": [
    "### Retailer_contact"
   ]
  },
  {
   "cell_type": "code",
   "execution_count": 21,
   "id": "87e46ec67e98c8a6",
   "metadata": {
    "collapsed": false,
    "ExecuteTime": {
     "end_time": "2024-03-20T20:46:33.272753Z",
     "start_time": "2024-03-20T20:46:33.259604Z"
    }
   },
   "outputs": [
    {
     "ename": "NameError",
     "evalue": "name 'retailer_contact' is not defined",
     "output_type": "error",
     "traceback": [
      "\u001B[1;31m---------------------------------------------------------------------------\u001B[0m",
      "\u001B[1;31mNameError\u001B[0m                                 Traceback (most recent call last)",
      "Cell \u001B[1;32mIn[21], line 1\u001B[0m\n\u001B[1;32m----> 1\u001B[0m retailer_contact[\u001B[38;5;124m'\u001B[39m\u001B[38;5;124mRETAILER_CONTACT_code\u001B[39m\u001B[38;5;124m'\u001B[39m] \u001B[38;5;241m=\u001B[39m \u001B[43mretailer_contact\u001B[49m[\u001B[38;5;124m'\u001B[39m\u001B[38;5;124mRETAILER_CONTACT_code\u001B[39m\u001B[38;5;124m'\u001B[39m]\u001B[38;5;241m.\u001B[39mastype(\u001B[38;5;124m'\u001B[39m\u001B[38;5;124mint\u001B[39m\u001B[38;5;124m'\u001B[39m)\n\u001B[0;32m      2\u001B[0m retailer_contact[\u001B[38;5;124m'\u001B[39m\u001B[38;5;124mRETAILER_CONTACT_email\u001B[39m\u001B[38;5;124m'\u001B[39m] \u001B[38;5;241m=\u001B[39m retailer_contact[\u001B[38;5;124m'\u001B[39m\u001B[38;5;124mRETAILER_CONTACT_email\u001B[39m\u001B[38;5;124m'\u001B[39m]\u001B[38;5;241m.\u001B[39mastype(\u001B[38;5;124m'\u001B[39m\u001B[38;5;124mstring\u001B[39m\u001B[38;5;124m'\u001B[39m)\u001B[38;5;241m.\u001B[39mreplace({np\u001B[38;5;241m.\u001B[39mnan: \u001B[38;5;28;01mNone\u001B[39;00m})\n\u001B[0;32m      3\u001B[0m retailer_contact[\u001B[38;5;124m'\u001B[39m\u001B[38;5;124mRETAILER_CONTACT_RETAILER_SITE_CODE_site_code\u001B[39m\u001B[38;5;124m'\u001B[39m] \u001B[38;5;241m=\u001B[39m retailer_contact[\u001B[38;5;124m'\u001B[39m\u001B[38;5;124mRETAILER_CONTACT_RETAILER_SITE_CODE_site_code\u001B[39m\u001B[38;5;124m'\u001B[39m]\u001B[38;5;241m.\u001B[39mastype(\u001B[38;5;124m'\u001B[39m\u001B[38;5;124mint\u001B[39m\u001B[38;5;124m'\u001B[39m)\n",
      "\u001B[1;31mNameError\u001B[0m: name 'retailer_contact' is not defined"
     ]
    }
   ],
   "source": [
    "retailer_contact['RETAILER_CONTACT_code'] = retailer_contact['RETAILER_CONTACT_code'].astype('int')\n",
    "retailer_contact['RETAILER_CONTACT_email'] = retailer_contact['RETAILER_CONTACT_email'].astype('string').replace({np.nan: None})\n",
    "retailer_contact['RETAILER_CONTACT_RETAILER_SITE_CODE_site_code'] = retailer_contact['RETAILER_CONTACT_RETAILER_SITE_CODE_site_code'].astype('int')\n",
    "retailer_contact['RETAILER_CONTACT_JOB_POSITION_EN_position'] = retailer_contact['RETAILER_CONTACT_JOB_POSITION_EN_position'].astype('string').replace({np.nan: None})\n",
    "retailer_contact['RETAILER_CONTACT_EXTENSION_extension'] = retailer_contact['RETAILER_CONTACT_EXTENSION_extension'].astype('string').replace({np.nan: None})\n",
    "retailer_contact['RETAILER_CONTACT_FAX_fax'] = retailer_contact['RETAILER_CONTACT_FAX_fax'].astype('string').replace({np.nan: None})\n",
    "retailer_contact['RETAILER_CONTACT_GENDER_gender'] = retailer_contact['RETAILER_CONTACT_GENDER_gender'].astype('string').replace({np.nan: None})\n",
    "retailer_contact['RETAILER_CONTACT_FIRST_NAME_first_name'] = retailer_contact['RETAILER_CONTACT_FIRST_NAME_first_name'].astype('string').replace({np.nan: None})\n",
    "retailer_contact['RETAILER_CONTACT_LAST_NAME_last_name'] = retailer_contact['RETAILER_CONTACT_LAST_NAME_last_name'].astype('string').replace({np.nan: None})\n",
    "\n",
    "retailer_contact.dtypes"
   ]
  },
  {
   "cell_type": "markdown",
   "id": "450a79f1e889a1ca",
   "metadata": {
    "collapsed": false
   },
   "source": [
    "### Retailer"
   ]
  },
  {
   "cell_type": "code",
   "execution_count": 22,
   "id": "149548ceecb90c98",
   "metadata": {
    "collapsed": false,
    "ExecuteTime": {
     "end_time": "2024-03-20T20:46:33.293872Z",
     "start_time": "2024-03-20T20:46:33.283261Z"
    }
   },
   "outputs": [
    {
     "ename": "NameError",
     "evalue": "name 'retailer' is not defined",
     "output_type": "error",
     "traceback": [
      "\u001B[1;31m---------------------------------------------------------------------------\u001B[0m",
      "\u001B[1;31mNameError\u001B[0m                                 Traceback (most recent call last)",
      "Cell \u001B[1;32mIn[22], line 1\u001B[0m\n\u001B[1;32m----> 1\u001B[0m retailer[\u001B[38;5;124m'\u001B[39m\u001B[38;5;124mRETAILER_code\u001B[39m\u001B[38;5;124m'\u001B[39m] \u001B[38;5;241m=\u001B[39m \u001B[43mretailer\u001B[49m[\u001B[38;5;124m'\u001B[39m\u001B[38;5;124mRETAILER_code\u001B[39m\u001B[38;5;124m'\u001B[39m]\u001B[38;5;241m.\u001B[39mastype(\u001B[38;5;124m'\u001B[39m\u001B[38;5;124mint\u001B[39m\u001B[38;5;124m'\u001B[39m)\n\u001B[0;32m      2\u001B[0m retailer[\u001B[38;5;124m'\u001B[39m\u001B[38;5;124mRETAILER_name\u001B[39m\u001B[38;5;124m'\u001B[39m] \u001B[38;5;241m=\u001B[39m retailer[\u001B[38;5;124m'\u001B[39m\u001B[38;5;124mRETAILER_name\u001B[39m\u001B[38;5;124m'\u001B[39m]\u001B[38;5;241m.\u001B[39mastype(\u001B[38;5;124m'\u001B[39m\u001B[38;5;124mstring\u001B[39m\u001B[38;5;124m'\u001B[39m)\u001B[38;5;241m.\u001B[39mreplace({np\u001B[38;5;241m.\u001B[39mnan: \u001B[38;5;28;01mNone\u001B[39;00m})\n\u001B[0;32m      3\u001B[0m retailer[\u001B[38;5;124m'\u001B[39m\u001B[38;5;124mRETAILER_COMPANY_CODE_MR_company\u001B[39m\u001B[38;5;124m'\u001B[39m] \u001B[38;5;241m=\u001B[39m retailer[\u001B[38;5;124m'\u001B[39m\u001B[38;5;124mRETAILER_COMPANY_CODE_MR_company\u001B[39m\u001B[38;5;124m'\u001B[39m]\u001B[38;5;241m.\u001B[39mastype(\u001B[38;5;124m'\u001B[39m\u001B[38;5;124mstring\u001B[39m\u001B[38;5;124m'\u001B[39m)\u001B[38;5;241m.\u001B[39mreplace({np\u001B[38;5;241m.\u001B[39mnan: \u001B[38;5;28;01mNone\u001B[39;00m})\n",
      "\u001B[1;31mNameError\u001B[0m: name 'retailer' is not defined"
     ]
    }
   ],
   "source": [
    "retailer['RETAILER_code'] = retailer['RETAILER_code'].astype('int')\n",
    "retailer['RETAILER_name'] = retailer['RETAILER_name'].astype('string').replace({np.nan: None})\n",
    "retailer['RETAILER_COMPANY_CODE_MR_company'] = retailer['RETAILER_COMPANY_CODE_MR_company'].astype('string').replace({np.nan: None})\n",
    "retailer['RETAILER_RETAILER_TYPE_code'] = retailer['RETAILER_RETAILER_TYPE_code'].astype('int')\n",
    "retailer['RETAILER_RETAILER_TYPE_EN'] = retailer['RETAILER_RETAILER_TYPE_EN'].astype('string').replace({np.nan: None})\n",
    "\n",
    "retailer.dtypes"
   ]
  },
  {
   "cell_type": "markdown",
   "id": "d677ffe45d5abe42",
   "metadata": {
    "collapsed": false
   },
   "source": [
    "### Product"
   ]
  },
  {
   "cell_type": "code",
   "execution_count": 23,
   "id": "410a95813646af9d",
   "metadata": {
    "collapsed": false,
    "ExecuteTime": {
     "end_time": "2024-03-20T20:46:33.349793Z",
     "start_time": "2024-03-20T20:46:33.337391Z"
    }
   },
   "outputs": [
    {
     "ename": "NameError",
     "evalue": "name 'product' is not defined",
     "output_type": "error",
     "traceback": [
      "\u001B[1;31m---------------------------------------------------------------------------\u001B[0m",
      "\u001B[1;31mNameError\u001B[0m                                 Traceback (most recent call last)",
      "Cell \u001B[1;32mIn[23], line 1\u001B[0m\n\u001B[1;32m----> 1\u001B[0m product[\u001B[38;5;124m'\u001B[39m\u001B[38;5;124mPRODUCT_number\u001B[39m\u001B[38;5;124m'\u001B[39m] \u001B[38;5;241m=\u001B[39m \u001B[43mproduct\u001B[49m[\u001B[38;5;124m'\u001B[39m\u001B[38;5;124mPRODUCT_number\u001B[39m\u001B[38;5;124m'\u001B[39m]\u001B[38;5;241m.\u001B[39mastype(\u001B[38;5;124m'\u001B[39m\u001B[38;5;124mint\u001B[39m\u001B[38;5;124m'\u001B[39m)\n\u001B[0;32m      2\u001B[0m product[\u001B[38;5;124m'\u001B[39m\u001B[38;5;124mPRODUCT_name_product\u001B[39m\u001B[38;5;124m'\u001B[39m] \u001B[38;5;241m=\u001B[39m product[\u001B[38;5;124m'\u001B[39m\u001B[38;5;124mPRODUCT_name_product\u001B[39m\u001B[38;5;124m'\u001B[39m]\u001B[38;5;241m.\u001B[39mastype(\u001B[38;5;124m'\u001B[39m\u001B[38;5;124mstring\u001B[39m\u001B[38;5;124m'\u001B[39m)\u001B[38;5;241m.\u001B[39mreplace({np\u001B[38;5;241m.\u001B[39mnan: \u001B[38;5;28;01mNone\u001B[39;00m})\n\u001B[0;32m      3\u001B[0m product[\u001B[38;5;124m'\u001B[39m\u001B[38;5;124mPRODUCT_description_description\u001B[39m\u001B[38;5;124m'\u001B[39m] \u001B[38;5;241m=\u001B[39m product[\u001B[38;5;124m'\u001B[39m\u001B[38;5;124mPRODUCT_description_description\u001B[39m\u001B[38;5;124m'\u001B[39m]\u001B[38;5;241m.\u001B[39mastype(\u001B[38;5;124m'\u001B[39m\u001B[38;5;124mstring\u001B[39m\u001B[38;5;124m'\u001B[39m)\u001B[38;5;241m.\u001B[39mreplace({np\u001B[38;5;241m.\u001B[39mnan: \u001B[38;5;28;01mNone\u001B[39;00m})\n",
      "\u001B[1;31mNameError\u001B[0m: name 'product' is not defined"
     ]
    }
   ],
   "source": [
    "product['PRODUCT_number'] = product['PRODUCT_number'].astype('int')\n",
    "product['PRODUCT_name_product'] = product['PRODUCT_name_product'].astype('string').replace({np.nan: None})\n",
    "product['PRODUCT_description_description'] = product['PRODUCT_description_description'].astype('string').replace({np.nan: None})\n",
    "product['PRODUCT_image_image'] = product['PRODUCT_image_image'].astype('string').replace({np.nan: None})\n",
    "product['PRODUCT_INTRODUCTION_DATE_introduced'] = pd.to_datetime(product['PRODUCT_INTRODUCTION_DATE_introduced'], format='mixed')\n",
    "product['PRODUCT_PRODUCTION_COST_cost'] = product['PRODUCT_PRODUCTION_COST_cost'].astype('float')\n",
    "product['PRODUCT_MARGIN_margin'] = product['PRODUCT_MARGIN_margin'].astype('float')\n",
    "product['PRODUCT_LANGUAGE_language'] = product['PRODUCT_LANGUAGE_language'].astype('string').replace({np.nan: None})\n",
    "product['PRODUCT_PRODUCT_LINE_code'] = product['PRODUCT_PRODUCT_LINE_code'].astype('string').replace({np.nan: None})\n",
    "product['PRODUCT_PRODUCT_LINE_code_en'] = product['PRODUCT_PRODUCT_LINE_code_en'].astype('string').replace({np.nan: None})\n",
    "product['PRODUCT_PRODUCT_TYPE_code'] = product['PRODUCT_PRODUCT_TYPE_code'].astype('string').replace({np.nan: None})\n",
    "product['PRODUCT_PRODUCT_TYPE_code_en'] = product['PRODUCT_PRODUCT_TYPE_code_en'].astype('string').replace({np.nan: None})\n",
    "\n",
    "product.dtypes"
   ]
  },
  {
   "cell_type": "markdown",
   "id": "655f55aab3323559",
   "metadata": {
    "collapsed": false
   },
   "source": [
    "### Order_details"
   ]
  },
  {
   "cell_type": "code",
   "execution_count": 24,
   "id": "346f7927ae20be28",
   "metadata": {
    "collapsed": false,
    "ExecuteTime": {
     "end_time": "2024-03-20T20:46:33.403517Z",
     "start_time": "2024-03-20T20:46:33.388800Z"
    }
   },
   "outputs": [
    {
     "ename": "NameError",
     "evalue": "name 'order_details' is not defined",
     "output_type": "error",
     "traceback": [
      "\u001B[1;31m---------------------------------------------------------------------------\u001B[0m",
      "\u001B[1;31mNameError\u001B[0m                                 Traceback (most recent call last)",
      "Cell \u001B[1;32mIn[24], line 1\u001B[0m\n\u001B[1;32m----> 1\u001B[0m order_details[\u001B[38;5;124m'\u001B[39m\u001B[38;5;124mORDER_DETAILS_QUANTITY_quantity\u001B[39m\u001B[38;5;124m'\u001B[39m] \u001B[38;5;241m=\u001B[39m \u001B[43morder_details\u001B[49m[\u001B[38;5;124m'\u001B[39m\u001B[38;5;124mORDER_DETAILS_QUANTITY_quantity\u001B[39m\u001B[38;5;124m'\u001B[39m]\u001B[38;5;241m.\u001B[39mastype(\u001B[38;5;124m'\u001B[39m\u001B[38;5;124mint\u001B[39m\u001B[38;5;124m'\u001B[39m)\n\u001B[0;32m      2\u001B[0m order_details[\u001B[38;5;124m'\u001B[39m\u001B[38;5;124mORDER_DETAILS_RETURN_CODE_returned\u001B[39m\u001B[38;5;124m'\u001B[39m] \u001B[38;5;241m=\u001B[39m order_details[\u001B[38;5;124m'\u001B[39m\u001B[38;5;124mORDER_DETAILS_RETURN_CODE_returned\u001B[39m\u001B[38;5;124m'\u001B[39m]\u001B[38;5;241m.\u001B[39mastype(\u001B[38;5;124m'\u001B[39m\u001B[38;5;124mint\u001B[39m\u001B[38;5;124m'\u001B[39m)\n\u001B[0;32m      3\u001B[0m order_details[\u001B[38;5;124m'\u001B[39m\u001B[38;5;124mORDER_DETAILS_ORDER_NUMBER_order\u001B[39m\u001B[38;5;124m'\u001B[39m] \u001B[38;5;241m=\u001B[39m order_details[\u001B[38;5;124m'\u001B[39m\u001B[38;5;124mORDER_DETAILS_ORDER_NUMBER_order\u001B[39m\u001B[38;5;124m'\u001B[39m]\u001B[38;5;241m.\u001B[39mastype(\u001B[38;5;124m'\u001B[39m\u001B[38;5;124mint\u001B[39m\u001B[38;5;124m'\u001B[39m)\n",
      "\u001B[1;31mNameError\u001B[0m: name 'order_details' is not defined"
     ]
    }
   ],
   "source": [
    "order_details['ORDER_DETAILS_QUANTITY_quantity'] = order_details['ORDER_DETAILS_QUANTITY_quantity'].astype('int')\n",
    "order_details['ORDER_DETAILS_RETURN_CODE_returned'] = order_details['ORDER_DETAILS_RETURN_CODE_returned'].astype('int')\n",
    "order_details['ORDER_DETAILS_ORDER_NUMBER_order'] = order_details['ORDER_DETAILS_ORDER_NUMBER_order'].astype('int')\n",
    "order_details['ORDER_DETAILS_PRODUCT_NUMBER_product'] = order_details['ORDER_DETAILS_PRODUCT_NUMBER_product'].astype('int')\n",
    "order_details['RETURNED_ITEM_DATE'] = pd.to_datetime(order_details['RETURNED_ITEM_DATE'], format='mixed')\n",
    "order_details['RETURNED_ITEM_QUANTITY'] = order_details['RETURNED_ITEM_QUANTITY'].astype('int')\n",
    "order_details['RETURNED_ITEM_ORDER_DETAIL_CODE'] = order_details['RETURNED_ITEM_ORDER_DETAIL_CODE'].astype('int')\n",
    "order_details['RETURNED_ITEM_RETURN_REASON_code'] = order_details['RETURNED_ITEM_RETURN_REASON_code'].astype('int')\n",
    "order_details['RETURNED_ITEM_RETURN_REASON_description_en'] = order_details['RETURNED_ITEM_RETURN_REASON_description_en'].astype('string').replace({np.nan: None})\n",
    "order_details['UNIT_COST_cost'] = order_details['UNIT_COST_cost'].astype('float64')\n",
    "order_details['UNIT_PRICE_price'] = order_details['UNIT_PRICE_price'].astype('float64')\n",
    "order_details['UNIT_SALE_sale'] = order_details['UNIT_SALE_sale'].astype('float64')\n",
    "order_details['ORDER_DETAIL_code'] = order_details['ORDER_DETAIL_code'].astype('int')\n",
    "\n",
    "# unit is already converted\n",
    "order_details.dtypes"
   ]
  },
  {
   "cell_type": "markdown",
   "id": "65e24f73d68065d5",
   "metadata": {
    "collapsed": false
   },
   "source": [
    "### Returned_item"
   ]
  },
  {
   "cell_type": "code",
   "execution_count": 25,
   "id": "b96edc784fabbf6c",
   "metadata": {
    "collapsed": false,
    "ExecuteTime": {
     "end_time": "2024-03-20T20:46:33.455461Z",
     "start_time": "2024-03-20T20:46:33.444039Z"
    }
   },
   "outputs": [
    {
     "ename": "NameError",
     "evalue": "name 'returned_item' is not defined",
     "output_type": "error",
     "traceback": [
      "\u001B[1;31m---------------------------------------------------------------------------\u001B[0m",
      "\u001B[1;31mNameError\u001B[0m                                 Traceback (most recent call last)",
      "Cell \u001B[1;32mIn[25], line 1\u001B[0m\n\u001B[1;32m----> 1\u001B[0m returned_item[\u001B[38;5;124m'\u001B[39m\u001B[38;5;124mRETURNED_ITEM_code\u001B[39m\u001B[38;5;124m'\u001B[39m] \u001B[38;5;241m=\u001B[39m \u001B[43mreturned_item\u001B[49m[\u001B[38;5;124m'\u001B[39m\u001B[38;5;124mRETURNED_ITEM_code\u001B[39m\u001B[38;5;124m'\u001B[39m]\u001B[38;5;241m.\u001B[39mastype(\u001B[38;5;124m'\u001B[39m\u001B[38;5;124mint\u001B[39m\u001B[38;5;124m'\u001B[39m)\n\u001B[0;32m      2\u001B[0m returned_item[\u001B[38;5;124m'\u001B[39m\u001B[38;5;124mRETURNED_ITEM_DATE\u001B[39m\u001B[38;5;124m'\u001B[39m] \u001B[38;5;241m=\u001B[39m pd\u001B[38;5;241m.\u001B[39mto_datetime(returned_item[\u001B[38;5;124m'\u001B[39m\u001B[38;5;124mRETURNED_ITEM_DATE\u001B[39m\u001B[38;5;124m'\u001B[39m], \u001B[38;5;28mformat\u001B[39m\u001B[38;5;241m=\u001B[39m\u001B[38;5;124m'\u001B[39m\u001B[38;5;124mmixed\u001B[39m\u001B[38;5;124m'\u001B[39m)\n\u001B[0;32m      3\u001B[0m returned_item[\u001B[38;5;124m'\u001B[39m\u001B[38;5;124mRETURNED_ITEM_QUANTITY\u001B[39m\u001B[38;5;124m'\u001B[39m] \u001B[38;5;241m=\u001B[39m returned_item[\u001B[38;5;124m'\u001B[39m\u001B[38;5;124mRETURNED_ITEM_QUANTITY\u001B[39m\u001B[38;5;124m'\u001B[39m]\u001B[38;5;241m.\u001B[39mastype(\u001B[38;5;124m'\u001B[39m\u001B[38;5;124mint\u001B[39m\u001B[38;5;124m'\u001B[39m)\n",
      "\u001B[1;31mNameError\u001B[0m: name 'returned_item' is not defined"
     ]
    }
   ],
   "source": [
    "returned_item['RETURNED_ITEM_code'] = returned_item['RETURNED_ITEM_code'].astype('int')\n",
    "returned_item['RETURNED_ITEM_DATE'] = pd.to_datetime(returned_item['RETURNED_ITEM_DATE'], format='mixed')\n",
    "returned_item['RETURNED_ITEM_QUANTITY'] = returned_item['RETURNED_ITEM_QUANTITY'].astype('int')\n",
    "returned_item['RETURNED_ITEM_ORDER_DETAIL_CODE'] = returned_item['RETURNED_ITEM_ORDER_DETAIL_CODE'].astype('int')\n",
    "returned_item['RETURNED_ITEM_RETURN_REASON_code'] = returned_item['RETURNED_ITEM_RETURN_REASON_code'].astype('int')\n",
    "returned_item['RETURNED_ITEM_RETURN_REASON_description_en'] = returned_item['RETURNED_ITEM_RETURN_REASON_description_en'].astype('string').replace({np.nan: None})\n",
    "\n",
    "returned_item.dtypes"
   ]
  },
  {
   "cell_type": "markdown",
   "id": "5670721e8fd1c035",
   "metadata": {
    "collapsed": false
   },
   "source": [
    "### Sales_Targetdata"
   ]
  },
  {
   "cell_type": "code",
   "execution_count": 26,
   "id": "1e1b8f509d6b7f0a",
   "metadata": {
    "collapsed": false,
    "ExecuteTime": {
     "end_time": "2024-03-20T20:46:33.511712Z",
     "start_time": "2024-03-20T20:46:33.494985Z"
    }
   },
   "outputs": [
    {
     "ename": "NameError",
     "evalue": "name 'sales_target_data' is not defined",
     "output_type": "error",
     "traceback": [
      "\u001B[1;31m---------------------------------------------------------------------------\u001B[0m",
      "\u001B[1;31mNameError\u001B[0m                                 Traceback (most recent call last)",
      "Cell \u001B[1;32mIn[26], line 1\u001B[0m\n\u001B[1;32m----> 1\u001B[0m sales_target_data[\u001B[38;5;124m'\u001B[39m\u001B[38;5;124mSALES_TARGETDATA_SALES_YEAR\u001B[39m\u001B[38;5;124m'\u001B[39m] \u001B[38;5;241m=\u001B[39m \u001B[43msales_target_data\u001B[49m[\u001B[38;5;124m'\u001B[39m\u001B[38;5;124mSALES_TARGETDATA_SALES_YEAR\u001B[39m\u001B[38;5;124m'\u001B[39m]\u001B[38;5;241m.\u001B[39mastype(\u001B[38;5;124m'\u001B[39m\u001B[38;5;124mint\u001B[39m\u001B[38;5;124m'\u001B[39m)\n\u001B[0;32m      2\u001B[0m sales_target_data[\u001B[38;5;124m'\u001B[39m\u001B[38;5;124mSALES_TARGETDATA_SALES_PERIOD\u001B[39m\u001B[38;5;124m'\u001B[39m] \u001B[38;5;241m=\u001B[39m sales_target_data[\u001B[38;5;124m'\u001B[39m\u001B[38;5;124mSALES_TARGETDATA_SALES_PERIOD\u001B[39m\u001B[38;5;124m'\u001B[39m]\u001B[38;5;241m.\u001B[39mastype(\u001B[38;5;124m'\u001B[39m\u001B[38;5;124mstring\u001B[39m\u001B[38;5;124m'\u001B[39m)\u001B[38;5;241m.\u001B[39mreplace({np\u001B[38;5;241m.\u001B[39mnan: \u001B[38;5;28;01mNone\u001B[39;00m})\n\u001B[0;32m      3\u001B[0m sales_target_data[\u001B[38;5;124m'\u001B[39m\u001B[38;5;124mSALES_TARGETDATA_RETAILER_NAME\u001B[39m\u001B[38;5;124m'\u001B[39m] \u001B[38;5;241m=\u001B[39m sales_target_data[\u001B[38;5;124m'\u001B[39m\u001B[38;5;124mSALES_TARGETDATA_RETAILER_NAME\u001B[39m\u001B[38;5;124m'\u001B[39m]\u001B[38;5;241m.\u001B[39mastype(\u001B[38;5;124m'\u001B[39m\u001B[38;5;124mstring\u001B[39m\u001B[38;5;124m'\u001B[39m)\u001B[38;5;241m.\u001B[39mreplace({np\u001B[38;5;241m.\u001B[39mnan: \u001B[38;5;28;01mNone\u001B[39;00m})\n",
      "\u001B[1;31mNameError\u001B[0m: name 'sales_target_data' is not defined"
     ]
    }
   ],
   "source": [
    "sales_target_data['SALES_TARGETDATA_SALES_YEAR'] = sales_target_data['SALES_TARGETDATA_SALES_YEAR'].astype('int')\n",
    "sales_target_data['SALES_TARGETDATA_SALES_PERIOD'] = sales_target_data['SALES_TARGETDATA_SALES_PERIOD'].astype('string').replace({np.nan: None})\n",
    "sales_target_data['SALES_TARGETDATA_RETAILER_NAME'] = sales_target_data['SALES_TARGETDATA_RETAILER_NAME'].astype('string').replace({np.nan: None})\n",
    "sales_target_data['SALES_TARGETDATA_SALES_TARGET'] = sales_target_data['SALES_TARGETDATA_SALES_TARGET'].astype('float64')\n",
    "sales_target_data['SALES_TARGETDATA_SALES_STAFF_CODE'] = sales_target_data['SALES_TARGETDATA_SALES_STAFF_CODE'].astype('int')\n",
    "sales_target_data['PRODUCT_number'] = sales_target_data['PRODUCT_number'].astype('int')\n",
    "sales_target_data['PRODUCT_INTRODUCTION_DATE_introduced'] = pd.to_datetime(sales_target_data['PRODUCT_INTRODUCTION_DATE_introduced'], format='mixed')\n",
    "sales_target_data['PRODUCT_PRODUCTION_COST_cost'] = sales_target_data['PRODUCT_PRODUCTION_COST_cost'].astype('float64')\n",
    "sales_target_data['PRODUCT_PRODUCT_TYPE_code'] = sales_target_data['PRODUCT_PRODUCT_TYPE_code'].astype('string').replace({np.nan: None})\n",
    "sales_target_data['PRODUCT_PRODUCT_TYPE_code_en'] = sales_target_data['PRODUCT_PRODUCT_TYPE_code_en'].astype('string').replace({np.nan: None})\n",
    "sales_target_data['PRODUCT_PRODUCT_LINE_code'] = sales_target_data['PRODUCT_PRODUCT_LINE_code'].astype('string').replace({np.nan: None})\n",
    "sales_target_data['PRODUCT_PRODUCT_LINE_code_en'] = sales_target_data['PRODUCT_PRODUCT_LINE_code_en'].astype('string').replace({np.nan: None})\n",
    "sales_target_data['RETAILER_code'] = sales_target_data['RETAILER_code'].astype('int')\n",
    "sales_target_data['PRODUCT_MARGIN_margin'] = sales_target_data['PRODUCT_MARGIN_margin'].astype('float64')\n",
    "sales_target_data['PRODUCT_image_image'] = sales_target_data['PRODUCT_image_image'].astype('string').replace({np.nan: None})\n",
    "sales_target_data['PRODUCT_LANGUAGE_language'] = sales_target_data['PRODUCT_LANGUAGE_language'].astype('string').replace({np.nan: None})\n",
    "sales_target_data['PRODUCT_name_product'] = sales_target_data['PRODUCT_name_product'].astype('string').replace({np.nan: None})\n",
    "sales_target_data['PRODUCT_description_description'] = sales_target_data['PRODUCT_description_description'].astype('string').replace({np.nan: None})\n",
    "\n",
    "sales_target_data.dtypes"
   ]
  },
  {
   "cell_type": "markdown",
   "id": "2d4e1edb7e7d5926",
   "metadata": {
    "collapsed": false
   },
   "source": [
    "### Training"
   ]
  },
  {
   "cell_type": "code",
   "execution_count": 27,
   "id": "6c331e4c8861e862",
   "metadata": {
    "collapsed": false,
    "ExecuteTime": {
     "end_time": "2024-03-20T20:46:33.579746Z",
     "start_time": "2024-03-20T20:46:33.567725Z"
    }
   },
   "outputs": [
    {
     "ename": "NameError",
     "evalue": "name 'training' is not defined",
     "output_type": "error",
     "traceback": [
      "\u001B[1;31m---------------------------------------------------------------------------\u001B[0m",
      "\u001B[1;31mNameError\u001B[0m                                 Traceback (most recent call last)",
      "Cell \u001B[1;32mIn[27], line 1\u001B[0m\n\u001B[1;32m----> 1\u001B[0m training[\u001B[38;5;124m'\u001B[39m\u001B[38;5;124mTRAINING_SALES_STAFF_CODE\u001B[39m\u001B[38;5;124m'\u001B[39m] \u001B[38;5;241m=\u001B[39m \u001B[43mtraining\u001B[49m[\u001B[38;5;124m'\u001B[39m\u001B[38;5;124mTRAINING_SALES_STAFF_CODE\u001B[39m\u001B[38;5;124m'\u001B[39m]\u001B[38;5;241m.\u001B[39mastype(\u001B[38;5;124m'\u001B[39m\u001B[38;5;124mint\u001B[39m\u001B[38;5;124m'\u001B[39m)\n\u001B[0;32m      2\u001B[0m training[\u001B[38;5;124m'\u001B[39m\u001B[38;5;124mTRAINING_COURSE_CODE\u001B[39m\u001B[38;5;124m'\u001B[39m] \u001B[38;5;241m=\u001B[39m training[\u001B[38;5;124m'\u001B[39m\u001B[38;5;124mTRAINING_COURSE_CODE\u001B[39m\u001B[38;5;124m'\u001B[39m]\u001B[38;5;241m.\u001B[39mastype(\u001B[38;5;124m'\u001B[39m\u001B[38;5;124mint\u001B[39m\u001B[38;5;124m'\u001B[39m)\n\u001B[0;32m      3\u001B[0m training[\u001B[38;5;124m'\u001B[39m\u001B[38;5;124mTRAINING_YEAR\u001B[39m\u001B[38;5;124m'\u001B[39m] \u001B[38;5;241m=\u001B[39m training[\u001B[38;5;124m'\u001B[39m\u001B[38;5;124mTRAINING_YEAR\u001B[39m\u001B[38;5;124m'\u001B[39m]\u001B[38;5;241m.\u001B[39mastype(\u001B[38;5;124m'\u001B[39m\u001B[38;5;124mint\u001B[39m\u001B[38;5;124m'\u001B[39m)\n",
      "\u001B[1;31mNameError\u001B[0m: name 'training' is not defined"
     ]
    }
   ],
   "source": [
    "training['TRAINING_SALES_STAFF_CODE'] = training['TRAINING_SALES_STAFF_CODE'].astype('int')\n",
    "training['TRAINING_COURSE_CODE'] = training['TRAINING_COURSE_CODE'].astype('int')\n",
    "training['TRAINING_YEAR'] = training['TRAINING_YEAR'].astype('int')\n",
    "training['COURSE_code'] = training['COURSE_code'].astype('int')\n",
    "training['COURSE_DESCRIPTION'] = training['COURSE_DESCRIPTION'].astype('string').replace({np.nan: None})\n",
    "\n",
    "training.dtypes"
   ]
  },
  {
   "cell_type": "markdown",
   "id": "40f0945d66c7e4f2",
   "metadata": {
    "collapsed": false
   },
   "source": [
    "### Satisfaction"
   ]
  },
  {
   "cell_type": "code",
   "execution_count": 28,
   "id": "394c97c0d1462b01",
   "metadata": {
    "collapsed": false,
    "ExecuteTime": {
     "end_time": "2024-03-20T20:46:33.606262Z",
     "start_time": "2024-03-20T20:46:33.596751Z"
    }
   },
   "outputs": [
    {
     "ename": "NameError",
     "evalue": "name 'satisfaction' is not defined",
     "output_type": "error",
     "traceback": [
      "\u001B[1;31m---------------------------------------------------------------------------\u001B[0m",
      "\u001B[1;31mNameError\u001B[0m                                 Traceback (most recent call last)",
      "Cell \u001B[1;32mIn[28], line 1\u001B[0m\n\u001B[1;32m----> 1\u001B[0m satisfaction[\u001B[38;5;124m'\u001B[39m\u001B[38;5;124mSATISFACTION_SALES_STAFF_CODE\u001B[39m\u001B[38;5;124m'\u001B[39m] \u001B[38;5;241m=\u001B[39m \u001B[43msatisfaction\u001B[49m[\u001B[38;5;124m'\u001B[39m\u001B[38;5;124mSATISFACTION_SALES_STAFF_CODE\u001B[39m\u001B[38;5;124m'\u001B[39m]\u001B[38;5;241m.\u001B[39mastype(\u001B[38;5;124m'\u001B[39m\u001B[38;5;124mint\u001B[39m\u001B[38;5;124m'\u001B[39m)\n\u001B[0;32m      2\u001B[0m satisfaction[\u001B[38;5;124m'\u001B[39m\u001B[38;5;124mSATISFACTION_SATISFACTION_TYPE_CODE\u001B[39m\u001B[38;5;124m'\u001B[39m] \u001B[38;5;241m=\u001B[39m satisfaction[\u001B[38;5;124m'\u001B[39m\u001B[38;5;124mSATISFACTION_SATISFACTION_TYPE_CODE\u001B[39m\u001B[38;5;124m'\u001B[39m]\u001B[38;5;241m.\u001B[39mastype(\u001B[38;5;124m'\u001B[39m\u001B[38;5;124mint\u001B[39m\u001B[38;5;124m'\u001B[39m)\n\u001B[0;32m      3\u001B[0m satisfaction[\u001B[38;5;124m'\u001B[39m\u001B[38;5;124mSATISFACTION_YEAR\u001B[39m\u001B[38;5;124m'\u001B[39m] \u001B[38;5;241m=\u001B[39m satisfaction[\u001B[38;5;124m'\u001B[39m\u001B[38;5;124mSATISFACTION_YEAR\u001B[39m\u001B[38;5;124m'\u001B[39m]\u001B[38;5;241m.\u001B[39mastype(\u001B[38;5;124m'\u001B[39m\u001B[38;5;124mint\u001B[39m\u001B[38;5;124m'\u001B[39m)\n",
      "\u001B[1;31mNameError\u001B[0m: name 'satisfaction' is not defined"
     ]
    }
   ],
   "source": [
    "satisfaction['SATISFACTION_SALES_STAFF_CODE'] = satisfaction['SATISFACTION_SALES_STAFF_CODE'].astype('int')\n",
    "satisfaction['SATISFACTION_SATISFACTION_TYPE_CODE'] = satisfaction['SATISFACTION_SATISFACTION_TYPE_CODE'].astype('int')\n",
    "satisfaction['SATISFACTION_YEAR'] = satisfaction['SATISFACTION_YEAR'].astype('int')\n",
    "satisfaction['SATISFACTION_TYPE_code'] = satisfaction['SATISFACTION_TYPE_code'].astype('int')\n",
    "satisfaction['SATISFACTION_TYPE_DESCRIPTION'] = satisfaction['SATISFACTION_TYPE_DESCRIPTION'].astype('string').replace({np.nan: None})\n",
    "\n",
    "satisfaction.dtypes"
   ]
  },
  {
   "cell_type": "markdown",
   "id": "f647aa4aa7a525b7",
   "metadata": {
    "collapsed": false
   },
   "source": []
  },
  {
   "cell_type": "markdown",
   "id": "a8d0539a6adbc41a",
   "metadata": {
    "collapsed": false
   },
   "source": [
    "### Order_header"
   ]
  },
  {
   "cell_type": "code",
   "execution_count": 29,
   "id": "bb316f9b4f8d6522",
   "metadata": {
    "collapsed": false,
    "ExecuteTime": {
     "end_time": "2024-03-20T20:46:33.684640Z",
     "start_time": "2024-03-20T20:46:33.670778Z"
    }
   },
   "outputs": [
    {
     "ename": "NameError",
     "evalue": "name 'order_header' is not defined",
     "output_type": "error",
     "traceback": [
      "\u001B[1;31m---------------------------------------------------------------------------\u001B[0m",
      "\u001B[1;31mNameError\u001B[0m                                 Traceback (most recent call last)",
      "Cell \u001B[1;32mIn[29], line 1\u001B[0m\n\u001B[1;32m----> 1\u001B[0m order_header[\u001B[38;5;124m'\u001B[39m\u001B[38;5;124mORDER_HEADER_number\u001B[39m\u001B[38;5;124m'\u001B[39m] \u001B[38;5;241m=\u001B[39m \u001B[43morder_header\u001B[49m[\u001B[38;5;124m'\u001B[39m\u001B[38;5;124mORDER_HEADER_number\u001B[39m\u001B[38;5;124m'\u001B[39m]\u001B[38;5;241m.\u001B[39mastype(\u001B[38;5;124m'\u001B[39m\u001B[38;5;124mint\u001B[39m\u001B[38;5;124m'\u001B[39m)\n\u001B[0;32m      2\u001B[0m order_header[\u001B[38;5;124m'\u001B[39m\u001B[38;5;124mORDER_HEADER_SALES_STAFF_CODE\u001B[39m\u001B[38;5;124m'\u001B[39m] \u001B[38;5;241m=\u001B[39m order_header[\u001B[38;5;124m'\u001B[39m\u001B[38;5;124mORDER_HEADER_SALES_STAFF_CODE\u001B[39m\u001B[38;5;124m'\u001B[39m]\u001B[38;5;241m.\u001B[39mastype(\u001B[38;5;124m'\u001B[39m\u001B[38;5;124mint\u001B[39m\u001B[38;5;124m'\u001B[39m)\n\u001B[0;32m      3\u001B[0m order_header[\u001B[38;5;124m'\u001B[39m\u001B[38;5;124mORDER_HEADER_SALES_BRANCH_CODE\u001B[39m\u001B[38;5;124m'\u001B[39m] \u001B[38;5;241m=\u001B[39m order_header[\u001B[38;5;124m'\u001B[39m\u001B[38;5;124mORDER_HEADER_SALES_BRANCH_CODE\u001B[39m\u001B[38;5;124m'\u001B[39m]\u001B[38;5;241m.\u001B[39mastype(\u001B[38;5;124m'\u001B[39m\u001B[38;5;124mint\u001B[39m\u001B[38;5;124m'\u001B[39m)\n",
      "\u001B[1;31mNameError\u001B[0m: name 'order_header' is not defined"
     ]
    }
   ],
   "source": [
    "order_header['ORDER_HEADER_number'] = order_header['ORDER_HEADER_number'].astype('int')\n",
    "order_header['ORDER_HEADER_SALES_STAFF_CODE'] = order_header['ORDER_HEADER_SALES_STAFF_CODE'].astype('int')\n",
    "order_header['ORDER_HEADER_SALES_BRANCH_CODE'] = order_header['ORDER_HEADER_SALES_BRANCH_CODE'].astype('int')\n",
    "order_header['ORDER_HEADER_RETAILER_SITE_CODE'] = order_header['ORDER_HEADER_RETAILER_SITE_CODE'].astype('int')\n",
    "order_header['ORDER_HEADER_RETAILER_CONTACT_CODE'] = order_header['ORDER_HEADER_RETAILER_CONTACT_CODE'].astype('int')\n",
    "order_header['ORDER_METHOD_CODE'] = order_header['ORDER_METHOD_CODE'].astype('int')\n",
    "order_header['RETAILER_CODE'] = order_header['RETAILER_code'].astype('int')\n",
    "order_header['RETAILER_COMPANY_CODE_MR_company'] = order_header['RETAILER_COMPANY_CODE_MR_company'].astype('string').replace({np.nan: None})\n",
    "order_header['RETAILER_NAME'] = order_header['RETAILER_name'].astype('string').replace({np.nan: None})\n",
    "\n",
    "order_header.dtypes"
   ]
  },
  {
   "cell_type": "markdown",
   "id": "375b6b00aa014745",
   "metadata": {
    "collapsed": false
   },
   "source": [
    "### Retailer_segment"
   ]
  },
  {
   "cell_type": "code",
   "execution_count": 30,
   "id": "cf3fb7be18baacba",
   "metadata": {
    "collapsed": false,
    "ExecuteTime": {
     "end_time": "2024-03-20T20:46:33.710757Z",
     "start_time": "2024-03-20T20:46:33.699645Z"
    }
   },
   "outputs": [
    {
     "ename": "NameError",
     "evalue": "name 'retailer_segment' is not defined",
     "output_type": "error",
     "traceback": [
      "\u001B[1;31m---------------------------------------------------------------------------\u001B[0m",
      "\u001B[1;31mNameError\u001B[0m                                 Traceback (most recent call last)",
      "Cell \u001B[1;32mIn[30], line 1\u001B[0m\n\u001B[1;32m----> 1\u001B[0m retailer_segment[\u001B[38;5;124m'\u001B[39m\u001B[38;5;124mRETAILER_SEGMENT_segment_code\u001B[39m\u001B[38;5;124m'\u001B[39m] \u001B[38;5;241m=\u001B[39m \u001B[43mretailer_segment\u001B[49m[\u001B[38;5;124m'\u001B[39m\u001B[38;5;124mRETAILER_SEGMENT_segment_code\u001B[39m\u001B[38;5;124m'\u001B[39m]\u001B[38;5;241m.\u001B[39mastype(\u001B[38;5;124m'\u001B[39m\u001B[38;5;124mint\u001B[39m\u001B[38;5;124m'\u001B[39m)\n\u001B[0;32m      2\u001B[0m retailer_segment[\u001B[38;5;124m'\u001B[39m\u001B[38;5;124mRETAILER_SEGMENT_language\u001B[39m\u001B[38;5;124m'\u001B[39m] \u001B[38;5;241m=\u001B[39m retailer_segment[\u001B[38;5;124m'\u001B[39m\u001B[38;5;124mRETAILER_SEGMENT_language\u001B[39m\u001B[38;5;124m'\u001B[39m]\u001B[38;5;241m.\u001B[39mastype(\u001B[38;5;124m'\u001B[39m\u001B[38;5;124mstring\u001B[39m\u001B[38;5;124m'\u001B[39m)\u001B[38;5;241m.\u001B[39mreplace({np\u001B[38;5;241m.\u001B[39mnan: \u001B[38;5;28;01mNone\u001B[39;00m})\n\u001B[0;32m      3\u001B[0m retailer_segment[\u001B[38;5;124m'\u001B[39m\u001B[38;5;124mRETAILER_SEGMENT_segment_name\u001B[39m\u001B[38;5;124m'\u001B[39m] \u001B[38;5;241m=\u001B[39m retailer_segment[\u001B[38;5;124m'\u001B[39m\u001B[38;5;124mRETAILER_SEGMENT_segment_name\u001B[39m\u001B[38;5;124m'\u001B[39m]\u001B[38;5;241m.\u001B[39mastype(\u001B[38;5;124m'\u001B[39m\u001B[38;5;124mstring\u001B[39m\u001B[38;5;124m'\u001B[39m)\u001B[38;5;241m.\u001B[39mreplace({np\u001B[38;5;241m.\u001B[39mnan: \u001B[38;5;28;01mNone\u001B[39;00m})\n",
      "\u001B[1;31mNameError\u001B[0m: name 'retailer_segment' is not defined"
     ]
    }
   ],
   "source": [
    "retailer_segment['RETAILER_SEGMENT_segment_code'] = retailer_segment['RETAILER_SEGMENT_segment_code'].astype('int')\n",
    "retailer_segment['RETAILER_SEGMENT_language'] = retailer_segment['RETAILER_SEGMENT_language'].astype('string').replace({np.nan: None})\n",
    "retailer_segment['RETAILER_SEGMENT_segment_name'] = retailer_segment['RETAILER_SEGMENT_segment_name'].astype('string').replace({np.nan: None})\n",
    "retailer_segment['RETAILER_SEGMENT_SEGMENT_DESCRIPTION_description'] = retailer_segment['RETAILER_SEGMENT_SEGMENT_DESCRIPTION_description'].astype('string').replace({np.nan: None})\n",
    "\n",
    "retailer_segment.dtypes"
   ]
  },
  {
   "cell_type": "markdown",
   "id": "c1ea0a7696b9cf03",
   "metadata": {
    "collapsed": false
   },
   "source": [
    "### Retailer_headquarters"
   ]
  },
  {
   "cell_type": "code",
   "execution_count": null,
   "id": "da8b1ba4fdcc9623",
   "metadata": {
    "collapsed": false,
    "ExecuteTime": {
     "end_time": "2024-03-20T20:46:33.711768Z",
     "start_time": "2024-03-20T20:46:33.711768Z"
    }
   },
   "outputs": [],
   "source": [
    "retailer_headquarters['RETAILER_HEADQUARTER_codemr'] = retailer_headquarters['RETAILER_HEADQUARTER_codemr'].astype('int')\n",
    "retailer_headquarters['RETAIL_HEADQUARTER_retailer_name'] = retailer_headquarters['RETAIL_HEADQUARTER_retailer_name'].astype('string').replace({np.nan: None})\n",
    "retailer_headquarters['RETAILER_HEADQUARTER_address1_address'] = retailer_headquarters['RETAILER_HEADQUARTER_address1_address'].astype('string').replace({np.nan: None})\n",
    "retailer_headquarters['RETAILER_HEADQUARTER_address2_address'] = retailer_headquarters['RETAILER_HEADQUARTER_address2_address'].astype('string').replace({np.nan: None})\n",
    "\n",
    "retailer_headquarters['RETAILER_HEADQUARTER_city_city'] = retailer_headquarters['RETAILER_HEADQUARTER_city_city'].astype('string').replace({np.nan: None})\n",
    "retailer_headquarters['RETAILER_HEADQUARTER_region_region'] = retailer_headquarters['RETAILER_HEADQUARTER_region_region'].astype('string').replace({np.nan: None})\n",
    "retailer_headquarters['RETAILER_HEADQUARTER_postal_zone_postal_zone'] = retailer_headquarters['RETAILER_HEADQUARTER_postal_zone_postal_zone'].astype('string').replace({np.nan: None})\n",
    "retailer_headquarters['RETAILER_HEADQUARTER_country_code_country'] = retailer_headquarters['RETAILER_HEADQUARTER_country_code_country'].astype('string').replace({np.nan: None})\n",
    "retailer_headquarters['RETAILER_HEADQUARTER_phone_phone'] = retailer_headquarters['RETAILER_HEADQUARTER_phone_phone'].astype('string').replace({np.nan: None})\n",
    "retailer_headquarters['RETAILER_HEADQUARTER_fax_fax'] = retailer_headquarters['RETAILER_HEADQUARTER_fax_fax'].astype('string').replace({np.nan: None})\n",
    "retailer_headquarters['RETAILER_HEADQUARTER_segment_code'] = retailer_headquarters['RETAILER_HEADQUARTER_segment_code'].astype('int')\n",
    "\n",
    "retailer_headquarters\n",
    "\n",
    "#retailer_headquarters.dtypes"
   ]
  },
  {
   "cell_type": "markdown",
   "id": "36159d94f009e1a3",
   "metadata": {
    "collapsed": false
   },
   "source": [
    "# Toevoegen van nieuwe kolommen\n",
    "Toevoegen van de afgeleide informatie die ook in het ETL en de data warehouse moet komen.\n",
    "Full name is al gedaan via sql"
   ]
  },
  {
   "cell_type": "code",
   "execution_count": 31,
   "id": "a603455041afffbb",
   "metadata": {
    "collapsed": false,
    "ExecuteTime": {
     "end_time": "2024-03-20T20:46:33.798404Z",
     "start_time": "2024-03-20T20:46:33.781776Z"
    }
   },
   "outputs": [
    {
     "ename": "NameError",
     "evalue": "name 'sales_target_data' is not defined",
     "output_type": "error",
     "traceback": [
      "\u001B[1;31m---------------------------------------------------------------------------\u001B[0m",
      "\u001B[1;31mNameError\u001B[0m                                 Traceback (most recent call last)",
      "Cell \u001B[1;32mIn[31], line 1\u001B[0m\n\u001B[1;32m----> 1\u001B[0m sales_target_data[\u001B[38;5;124m'\u001B[39m\u001B[38;5;124mSALES_TARGET_DATA_TARGET_COST\u001B[39m\u001B[38;5;124m'\u001B[39m] \u001B[38;5;241m=\u001B[39m \u001B[43msales_target_data\u001B[49m[\u001B[38;5;124m'\u001B[39m\u001B[38;5;124mSALES_TARGETDATA_SALES_TARGET\u001B[39m\u001B[38;5;124m'\u001B[39m] \u001B[38;5;241m*\u001B[39m sales_target_data[\u001B[38;5;124m'\u001B[39m\u001B[38;5;124mPRODUCT_PRODUCTION_COST_cost\u001B[39m\u001B[38;5;124m'\u001B[39m]\n\u001B[0;32m      3\u001B[0m sales_target_data[\u001B[38;5;124m'\u001B[39m\u001B[38;5;124mSALES_TARGET_DATA_TARGET_MARGIN\u001B[39m\u001B[38;5;124m'\u001B[39m] \u001B[38;5;241m=\u001B[39m sales_target_data[\u001B[38;5;124m'\u001B[39m\u001B[38;5;124mSALES_TARGETDATA_SALES_TARGET\u001B[39m\u001B[38;5;124m'\u001B[39m] \u001B[38;5;241m*\u001B[39m sales_target_data[\u001B[38;5;124m'\u001B[39m\u001B[38;5;124mPRODUCT_MARGIN_margin\u001B[39m\u001B[38;5;124m'\u001B[39m]\n\u001B[0;32m      5\u001B[0m order_details[\u001B[38;5;124m'\u001B[39m\u001B[38;5;124mORDER_DETAILS_TOTAL_COST_total\u001B[39m\u001B[38;5;124m'\u001B[39m] \u001B[38;5;241m=\u001B[39m order_details[\u001B[38;5;124m'\u001B[39m\u001B[38;5;124mORDER_DETAILS_QUANTITY_quantity\u001B[39m\u001B[38;5;124m'\u001B[39m] \u001B[38;5;241m*\u001B[39m order_details[\u001B[38;5;124m'\u001B[39m\u001B[38;5;124mUNIT_COST_cost\u001B[39m\u001B[38;5;124m'\u001B[39m]\n",
      "\u001B[1;31mNameError\u001B[0m: name 'sales_target_data' is not defined"
     ]
    }
   ],
   "source": [
    "sales_target_data['SALES_TARGET_DATA_TARGET_COST'] = sales_target_data['SALES_TARGETDATA_SALES_TARGET'] * sales_target_data['PRODUCT_PRODUCTION_COST_cost']\n",
    "\n",
    "sales_target_data['SALES_TARGET_DATA_TARGET_MARGIN'] = sales_target_data['SALES_TARGETDATA_SALES_TARGET'] * sales_target_data['PRODUCT_MARGIN_margin']\n",
    "\n",
    "order_details['ORDER_DETAILS_TOTAL_COST_total'] = order_details['ORDER_DETAILS_QUANTITY_quantity'] * order_details['UNIT_COST_cost']\n",
    "\n",
    "order_details['ORDER_DETAILS_TOTAL_MARGIN_margin'] = order_details['ORDER_DETAILS_QUANTITY_quantity'] * order_details['UNIT_SALE_sale']\n",
    "\n",
    "sales_product_forecast['GO_SALES_PRODUCT_FORECAST_EXPECTED_COST'] = sales_product_forecast['GO_SALES_PRODUCT_FORECAST_EXPECTED_VOLUME'].astype('int') * sales_product_forecast['PRODUCT_PRODUCTION_COST_cost'].astype('float')\n",
    "sales_product_forecast['GO_SALES_PRODUCT_FORECAST_EXPECTED_MARGIN'] = sales_product_forecast['GO_SALES_PRODUCT_FORECAST_EXPECTED_VOLUME'].astype('int') * sales_product_forcast['PRODUCT_MARGIN_margin'].astype('float')\n",
    "\n",
    "# Dimensies\n",
    "returned_item['RETURNED_ITEM_RETURNED_ITEMS_TOTAL_PRICE'] = returned_item['RETURNED_ITEM_QUANTITY'] * order_details['UNIT_SALE_sale']\n",
    "course['COURSE_DESCRIPTION_SHORT'] = None\n",
    "retailer_segment['SEGMENT_DESCRIPTION_SHORT'] = None\n",
    "satisfaction_type['SATISFACTION_TYPE_DESCRIPTION_SHORT'] = None\n",
    "\n",
    "# if address2 is empty, main_address should be address1 and vice versa. If both addresses are available, main_address should be null\n",
    "sales_branch['MAIN_ADDRESS'] = np.where(sales_branch['SALES_BRANCH_ADDRESS2_address'].isna(), sales_branch['SALES_BRANCH_ADDRESS1_address'], np.where(sales_branch['SALES_BRANCH_ADDRESS1_address'].isna(), sales_branch['SALES_BRANCH_ADDRESS2_address'], None))\n",
    "\n",
    "retailer_site['MAIN_ADDRESS'] = np.where(retailer_site['RETAILER_SITE_ADDRESS2_address'].isna(), retailer_site['RETAILER_SITE_ADDRESS1_address'], np.where(retailer_site['RETAILER_SITE_ADDRESS1_address'].isna(), retailer_site['RETAILER_SITE_ADDRESS2_address'], None))\n",
    "\n",
    "retailer_headquarters['MAIN_ADDRESS'] = np.where(retailer_headquarters['RETAILER_HEADQUARTER_address2_address'].isna(), retailer_headquarters['RETAILER_HEADQUARTER_address1_address'], np.where(retailer_headquarters['RETAILER_HEADQUARTER_address1_address'].isna(), retailer_headquarters['RETAILER_HEADQUARTER_address2_address'], None))\n"
   ]
  },
  {
   "cell_type": "markdown",
   "id": "c1b3d912fe9fb5e4",
   "metadata": {
    "collapsed": false
   },
   "source": [
    "### GO_SALES_PRODUCT_FORECAST"
   ]
  },
  {
   "cell_type": "code",
   "execution_count": 32,
   "id": "e7f3525c915e4606",
   "metadata": {
    "collapsed": false,
    "ExecuteTime": {
     "end_time": "2024-03-20T20:46:33.864070Z",
     "start_time": "2024-03-20T20:46:33.854423Z"
    }
   },
   "outputs": [
    {
     "ename": "NameError",
     "evalue": "name 'sales_product_forcast' is not defined",
     "output_type": "error",
     "traceback": [
      "\u001B[1;31m---------------------------------------------------------------------------\u001B[0m",
      "\u001B[1;31mNameError\u001B[0m                                 Traceback (most recent call last)",
      "Cell \u001B[1;32mIn[32], line 1\u001B[0m\n\u001B[1;32m----> 1\u001B[0m sales_product_forcast[\u001B[38;5;124m'\u001B[39m\u001B[38;5;124mYEAR_MONTH\u001B[39m\u001B[38;5;124m'\u001B[39m] \u001B[38;5;241m=\u001B[39m \u001B[43msales_product_forcast\u001B[49m[\u001B[38;5;124m'\u001B[39m\u001B[38;5;124mYEAR_MONTH\u001B[39m\u001B[38;5;124m'\u001B[39m]\u001B[38;5;241m.\u001B[39mastype(\u001B[38;5;124m'\u001B[39m\u001B[38;5;124mstring\u001B[39m\u001B[38;5;124m'\u001B[39m)\n\u001B[0;32m      3\u001B[0m sales_product_forcast\u001B[38;5;241m.\u001B[39mdtypes\n",
      "\u001B[1;31mNameError\u001B[0m: name 'sales_product_forcast' is not defined"
     ]
    }
   ],
   "source": [
    "sales_product_forcast['YEAR_MONTH'] = sales_product_forcast['YEAR_MONTH'].astype('string')\n",
    "\n",
    "sales_product_forcast.dtypes"
   ]
  },
  {
   "cell_type": "markdown",
   "id": "71dd5a1828678e63",
   "metadata": {
    "collapsed": false
   },
   "source": [
    "## Opslaan historische data\n",
    "Aan alle tabellen een kolom toevoegen met de datum van de wijziging en of dit de huidige versie is."
   ]
  },
  {
   "cell_type": "code",
   "execution_count": 33,
   "id": "98ea15746d105183",
   "metadata": {
    "collapsed": false,
    "ExecuteTime": {
     "end_time": "2024-03-20T20:46:33.903014Z",
     "start_time": "2024-03-20T20:46:33.893076Z"
    }
   },
   "outputs": [
    {
     "ename": "NameError",
     "evalue": "name 'all_dataframes' is not defined",
     "output_type": "error",
     "traceback": [
      "\u001B[1;31m---------------------------------------------------------------------------\u001B[0m",
      "\u001B[1;31mNameError\u001B[0m                                 Traceback (most recent call last)",
      "Cell \u001B[1;32mIn[33], line 1\u001B[0m\n\u001B[1;32m----> 1\u001B[0m \u001B[38;5;28;01mfor\u001B[39;00m df \u001B[38;5;129;01min\u001B[39;00m \u001B[43mall_dataframes\u001B[49m:\n\u001B[0;32m      2\u001B[0m     df[\u001B[38;5;124m'\u001B[39m\u001B[38;5;124mLAST_UPDATED\u001B[39m\u001B[38;5;124m'\u001B[39m] \u001B[38;5;241m=\u001B[39m pd\u001B[38;5;241m.\u001B[39mto_datetime(\u001B[38;5;124m'\u001B[39m\u001B[38;5;124mtoday\u001B[39m\u001B[38;5;124m'\u001B[39m)\n\u001B[0;32m      3\u001B[0m     df[\u001B[38;5;124m'\u001B[39m\u001B[38;5;124mCURRENT\u001B[39m\u001B[38;5;124m'\u001B[39m] \u001B[38;5;241m=\u001B[39m \u001B[38;5;241m1\u001B[39m\n",
      "\u001B[1;31mNameError\u001B[0m: name 'all_dataframes' is not defined"
     ]
    }
   ],
   "source": [
    "for df in all_dataframes:\n",
    "    df['LAST_UPDATED'] = pd.to_datetime('today')\n",
    "    df['CURRENT'] = 1"
   ]
  },
  {
   "cell_type": "markdown",
   "id": "1d9e99cbed6fa0b5",
   "metadata": {
    "collapsed": false
   },
   "source": []
  },
  {
   "cell_type": "markdown",
   "id": "316c0f3f946ee41e",
   "metadata": {
    "collapsed": false
   },
   "source": [
    "# Data opslaan in de database\n",
    "De pandas dataframes opslaan in de mssql database"
   ]
  },
  {
   "cell_type": "markdown",
   "id": "1d948b50fae4c574",
   "metadata": {
    "collapsed": false
   },
   "source": [
    "## year"
   ]
  },
  {
   "cell_type": "code",
   "execution_count": 34,
   "id": "460b034332c00887",
   "metadata": {
    "collapsed": false,
    "ExecuteTime": {
     "end_time": "2024-03-20T20:46:33.985752Z",
     "start_time": "2024-03-20T20:46:33.974533Z"
    }
   },
   "outputs": [
    {
     "ename": "NameError",
     "evalue": "name 'year' is not defined",
     "output_type": "error",
     "traceback": [
      "\u001B[1;31m---------------------------------------------------------------------------\u001B[0m",
      "\u001B[1;31mNameError\u001B[0m                                 Traceback (most recent call last)",
      "Cell \u001B[1;32mIn[34], line 1\u001B[0m\n\u001B[1;32m----> 1\u001B[0m \u001B[38;5;28mprint\u001B[39m(\u001B[38;5;124mf\u001B[39m\u001B[38;5;124m\"\u001B[39m\u001B[38;5;124mRows: \u001B[39m\u001B[38;5;132;01m{\u001B[39;00m\u001B[43myear\u001B[49m\u001B[38;5;241m.\u001B[39mshape[\u001B[38;5;241m0\u001B[39m]\u001B[38;5;132;01m}\u001B[39;00m\u001B[38;5;124m\"\u001B[39m)\n\u001B[0;32m      2\u001B[0m \u001B[38;5;28;01mfor\u001B[39;00m index, row \u001B[38;5;129;01min\u001B[39;00m year\u001B[38;5;241m.\u001B[39miterrows():\n\u001B[0;32m      3\u001B[0m     query \u001B[38;5;241m=\u001B[39m \u001B[38;5;124m'\u001B[39m\u001B[38;5;124mINSERT INTO Year (YEAR) VALUES (?)\u001B[39m\u001B[38;5;124m'\u001B[39m\n",
      "\u001B[1;31mNameError\u001B[0m: name 'year' is not defined"
     ]
    }
   ],
   "source": [
    "print(f\"Rows: {year.shape[0]}\")\n",
    "for index, row in year.iterrows():\n",
    "    query = 'INSERT INTO Year (YEAR) VALUES (?)'\n",
    "    values = index\n",
    "    export_cursor.execute(query, values)"
   ]
  },
  {
   "cell_type": "markdown",
   "id": "d7dd5c0a15b3b5b5",
   "metadata": {
    "collapsed": false
   },
   "source": [
    "## Unit"
   ]
  },
  {
   "cell_type": "code",
   "execution_count": 35,
   "id": "1299e865f912ff25",
   "metadata": {
    "collapsed": false,
    "ExecuteTime": {
     "end_time": "2024-03-20T20:46:34.007248Z",
     "start_time": "2024-03-20T20:46:33.995256Z"
    }
   },
   "outputs": [
    {
     "ename": "NameError",
     "evalue": "name 'unit' is not defined",
     "output_type": "error",
     "traceback": [
      "\u001B[1;31m---------------------------------------------------------------------------\u001B[0m",
      "\u001B[1;31mNameError\u001B[0m                                 Traceback (most recent call last)",
      "Cell \u001B[1;32mIn[35], line 1\u001B[0m\n\u001B[1;32m----> 1\u001B[0m \u001B[38;5;28mprint\u001B[39m(\u001B[38;5;124mf\u001B[39m\u001B[38;5;124m\"\u001B[39m\u001B[38;5;124mRows: \u001B[39m\u001B[38;5;132;01m{\u001B[39;00m\u001B[43munit\u001B[49m\u001B[38;5;241m.\u001B[39mshape[\u001B[38;5;241m0\u001B[39m]\u001B[38;5;132;01m}\u001B[39;00m\u001B[38;5;124m\"\u001B[39m)\n\u001B[0;32m      3\u001B[0m unit_code_sk \u001B[38;5;241m=\u001B[39m {}\n\u001B[0;32m      5\u001B[0m \u001B[38;5;28;01mfor\u001B[39;00m index, row \u001B[38;5;129;01min\u001B[39;00m unit\u001B[38;5;241m.\u001B[39miterrows():\n",
      "\u001B[1;31mNameError\u001B[0m: name 'unit' is not defined"
     ]
    }
   ],
   "source": [
    "print(f\"Rows: {unit.shape[0]}\")\n",
    "\n",
    "unit_code_sk = {}\n",
    "\n",
    "for index, row in unit.iterrows():\n",
    "    query = 'INSERT INTO Unit (UNIT_id, UNIT_COST_cost, UNIT_PRICE_price, UNIT_SALE_sale) VALUES (?,?,?,?);'\n",
    "    values = (row['UNIT_id'], row['UNIT_COST_cost'], row['UNIT_PRICE_price'], row['UNIT_SALE_sale'])\n",
    "    export_cursor.execute(query, values)\n",
    "    \n",
    "    # Execute the SELECT statement to retrieve the generated primary key\n",
    "    query = 'SELECT @@IDENTITY AS GENERATED_KEY'\n",
    "    export_cursor.execute(query)\n",
    "    generated_primary_key = int(export_cursor.fetchval())\n",
    "    unit_code_sk[row['UNIT_id']] = generated_primary_key\n"
   ]
  },
  {
   "cell_type": "markdown",
   "id": "e67742a0825e6c5c",
   "metadata": {
    "collapsed": false
   },
   "source": [
    "## date"
   ]
  },
  {
   "cell_type": "code",
   "execution_count": 36,
   "id": "47b58c7aeb7c5895",
   "metadata": {
    "collapsed": false,
    "ExecuteTime": {
     "end_time": "2024-03-20T20:46:34.072554Z",
     "start_time": "2024-03-20T20:46:34.062769Z"
    }
   },
   "outputs": [
    {
     "ename": "NameError",
     "evalue": "name 'date' is not defined",
     "output_type": "error",
     "traceback": [
      "\u001B[1;31m---------------------------------------------------------------------------\u001B[0m",
      "\u001B[1;31mNameError\u001B[0m                                 Traceback (most recent call last)",
      "Cell \u001B[1;32mIn[36], line 1\u001B[0m\n\u001B[1;32m----> 1\u001B[0m \u001B[38;5;28mprint\u001B[39m(\u001B[38;5;124mf\u001B[39m\u001B[38;5;124m\"\u001B[39m\u001B[38;5;124mRows: \u001B[39m\u001B[38;5;132;01m{\u001B[39;00m\u001B[43mdate\u001B[49m\u001B[38;5;241m.\u001B[39mshape[\u001B[38;5;241m0\u001B[39m]\u001B[38;5;132;01m}\u001B[39;00m\u001B[38;5;124m\"\u001B[39m)\n\u001B[0;32m      2\u001B[0m \u001B[38;5;28;01mfor\u001B[39;00m index, row \u001B[38;5;129;01min\u001B[39;00m date\u001B[38;5;241m.\u001B[39miterrows():\n\u001B[0;32m      3\u001B[0m     query \u001B[38;5;241m=\u001B[39m \u001B[38;5;124m'\u001B[39m\u001B[38;5;124mINSERT INTO Date (DATE_date) VALUES (?)\u001B[39m\u001B[38;5;124m'\u001B[39m\n",
      "\u001B[1;31mNameError\u001B[0m: name 'date' is not defined"
     ]
    }
   ],
   "source": [
    "print(f\"Rows: {date.shape[0]}\")\n",
    "for index, row in date.iterrows():\n",
    "    query = 'INSERT INTO Date (DATE_date) VALUES (?)'\n",
    "    values = index\n",
    "    export_cursor.execute(query, values)"
   ]
  },
  {
   "cell_type": "markdown",
   "id": "520548b62748d4a2",
   "metadata": {
    "collapsed": false
   },
   "source": [
    "## Sales_staff"
   ]
  },
  {
   "cell_type": "code",
   "execution_count": 37,
   "id": "19168badf65546ea",
   "metadata": {
    "collapsed": false,
    "ExecuteTime": {
     "end_time": "2024-03-20T20:46:34.120835Z",
     "start_time": "2024-03-20T20:46:34.108059Z"
    }
   },
   "outputs": [
    {
     "ename": "NameError",
     "evalue": "name 'sales_staff' is not defined",
     "output_type": "error",
     "traceback": [
      "\u001B[1;31m---------------------------------------------------------------------------\u001B[0m",
      "\u001B[1;31mNameError\u001B[0m                                 Traceback (most recent call last)",
      "Cell \u001B[1;32mIn[37], line 1\u001B[0m\n\u001B[1;32m----> 1\u001B[0m \u001B[38;5;28mprint\u001B[39m(\u001B[38;5;124mf\u001B[39m\u001B[38;5;124m\"\u001B[39m\u001B[38;5;124mRows: \u001B[39m\u001B[38;5;132;01m{\u001B[39;00m\u001B[43msales_staff\u001B[49m\u001B[38;5;241m.\u001B[39mshape[\u001B[38;5;241m0\u001B[39m]\u001B[38;5;132;01m}\u001B[39;00m\u001B[38;5;124m\"\u001B[39m)\n\u001B[0;32m      3\u001B[0m sales_staff_code_sk \u001B[38;5;241m=\u001B[39m {}\n\u001B[0;32m      5\u001B[0m \u001B[38;5;28;01mfor\u001B[39;00m index, row \u001B[38;5;129;01min\u001B[39;00m sales_staff\u001B[38;5;241m.\u001B[39miterrows():\n",
      "\u001B[1;31mNameError\u001B[0m: name 'sales_staff' is not defined"
     ]
    }
   ],
   "source": [
    "print(f\"Rows: {sales_staff.shape[0]}\")\n",
    "\n",
    "sales_staff_code_sk = {}\n",
    "\n",
    "for index, row in sales_staff.iterrows():\n",
    "    query = 'INSERT INTO Sales_staff (SALES_STAFF_code, SALES_STAFF_email, SALES_STAFF_extension, SALES_STAFF_POSITION_EN_position, SALES_STAFF_WORK_PHONE_work_phone, SALES_STAFF_DATE_HIRED_hired, SALES_STAFF_FAX, SALES_STAFF_FIRST_NAME_first_name, SALES_STAFF_LAST_NAME_last_name, SALES_STAFF_SALES_BRANCH_CODE_branch_code, SALES_STAFF_SALES_BRANCH_ADDRESS1_address, SALES_STAFF_SALES_BRANCH_ADDRESS2_address) VALUES (?,?,?,?,?,?,?,?,?,?,?,?)'\n",
    "\n",
    "    values = (row['SALES_STAFF_code'], row['SALES_STAFF_email'], row['SALES_STAFF_extension'], row['SALES_STAFF_POSITION_EN_position'], row['SALES_STAFF_WORK_PHONE_work_phone'], row['SALES_STAFF_DATE_HIRED_hired'], row['SALES_STAFF_FAX'], row['SALES_STAFF_FIRST_NAME_first_name'], row['SALES_STAFF_LAST_NAME_last_name'], row['SALES_STAFF_SALES_BRANCH_CODE_branch_code'], row['SALES_STAFF_SALES_BRANCH_ADDRESS1_address'], row['SALES_STAFF_SALES_BRANCH_ADDRESS2_address'])\n",
    "\n",
    "    export_cursor.execute(query, values)\n",
    "    \n",
    "    # Execute the SELECT statement to retrieve the generated primary key\n",
    "    query = 'SELECT @@IDENTITY AS GENERATED_KEY'\n",
    "    export_cursor.execute(query)\n",
    "    generated_primary_key = int(export_cursor.fetchval())\n",
    "    sales_staff_code_sk[row['SALES_STAFF_code']] = generated_primary_key\n",
    "\n",
    "# foreign key manager SALES_STAFF_MANAGER_CODE_manager\n",
    "for index, row in sales_staff.iterrows():\n",
    "        if pd.notnull(row['SALES_STAFF_MANAGER_CODE_manager']):\n",
    "            query = 'UPDATE Sales_staff SET SALES_STAFF_MANAGER_CODE_manager = ? WHERE SALES_STAFF_SK = ?'\n",
    "            values = (sales_staff_code_sk[row['SALES_STAFF_MANAGER_CODE_manager']], sales_staff_code_sk[row['SALES_STAFF_code']])\n",
    "            export_cursor.execute(query, values)"
   ]
  },
  {
   "cell_type": "markdown",
   "id": "32aefe69ea33bca8",
   "metadata": {
    "collapsed": false
   },
   "source": [
    "## satisfaction_type"
   ]
  },
  {
   "cell_type": "code",
   "execution_count": 38,
   "id": "f40a9c86188addd9",
   "metadata": {
    "collapsed": false,
    "ExecuteTime": {
     "end_time": "2024-03-20T20:46:34.177108Z",
     "start_time": "2024-03-20T20:46:34.165849Z"
    }
   },
   "outputs": [
    {
     "ename": "NameError",
     "evalue": "name 'satisfaction_type' is not defined",
     "output_type": "error",
     "traceback": [
      "\u001B[1;31m---------------------------------------------------------------------------\u001B[0m",
      "\u001B[1;31mNameError\u001B[0m                                 Traceback (most recent call last)",
      "Cell \u001B[1;32mIn[38], line 1\u001B[0m\n\u001B[1;32m----> 1\u001B[0m \u001B[38;5;28mprint\u001B[39m(\u001B[38;5;124mf\u001B[39m\u001B[38;5;124m\"\u001B[39m\u001B[38;5;124mRows: \u001B[39m\u001B[38;5;132;01m{\u001B[39;00m\u001B[43msatisfaction_type\u001B[49m\u001B[38;5;241m.\u001B[39mshape[\u001B[38;5;241m0\u001B[39m]\u001B[38;5;132;01m}\u001B[39;00m\u001B[38;5;124m\"\u001B[39m)\n\u001B[0;32m      3\u001B[0m satisfaction_type_code_sk \u001B[38;5;241m=\u001B[39m {}\n\u001B[0;32m      5\u001B[0m \u001B[38;5;28;01mfor\u001B[39;00m index, row \u001B[38;5;129;01min\u001B[39;00m satisfaction_type\u001B[38;5;241m.\u001B[39miterrows():\n",
      "\u001B[1;31mNameError\u001B[0m: name 'satisfaction_type' is not defined"
     ]
    }
   ],
   "source": [
    "print(f\"Rows: {satisfaction_type.shape[0]}\")\n",
    "\n",
    "satisfaction_type_code_sk = {}\n",
    "\n",
    "for index, row in satisfaction_type.iterrows():\n",
    "    query = 'INSERT INTO Satisfaction_type (SATISFACTION_TYPE_code, SATISFACTION_TYPE_DESCRIPTION, CURRENT_VALUE) VALUES (?,?,?)'\n",
    "    values = (row['SATISFACTION_TYPE_code'], row['SATISFACTION_TYPE_DESCRIPTION'], 1)\n",
    "    export_cursor.execute(query, values)\n",
    "    \n",
    "    # Execute the SELECT statement to retrieve the generated primary key\n",
    "    query = 'SELECT @@IDENTITY AS GENERATED_KEY'\n",
    "    export_cursor.execute(query)\n",
    "    generated_primary_key = int(export_cursor.fetchval())\n",
    "    satisfaction_type_code_sk[row['SATISFACTION_TYPE_code']] = generated_primary_key"
   ]
  },
  {
   "cell_type": "markdown",
   "id": "b23ddea011d31618",
   "metadata": {
    "collapsed": false
   },
   "source": [
    "## Course"
   ]
  },
  {
   "cell_type": "code",
   "execution_count": 39,
   "id": "3ffbb13607690dc9",
   "metadata": {
    "collapsed": false,
    "ExecuteTime": {
     "end_time": "2024-03-20T20:46:34.205205Z",
     "start_time": "2024-03-20T20:46:34.194113Z"
    }
   },
   "outputs": [
    {
     "ename": "NameError",
     "evalue": "name 'course' is not defined",
     "output_type": "error",
     "traceback": [
      "\u001B[1;31m---------------------------------------------------------------------------\u001B[0m",
      "\u001B[1;31mNameError\u001B[0m                                 Traceback (most recent call last)",
      "Cell \u001B[1;32mIn[39], line 1\u001B[0m\n\u001B[1;32m----> 1\u001B[0m \u001B[38;5;28mprint\u001B[39m(\u001B[38;5;124mf\u001B[39m\u001B[38;5;124m\"\u001B[39m\u001B[38;5;124mRows: \u001B[39m\u001B[38;5;132;01m{\u001B[39;00m\u001B[43mcourse\u001B[49m\u001B[38;5;241m.\u001B[39mshape[\u001B[38;5;241m0\u001B[39m]\u001B[38;5;132;01m}\u001B[39;00m\u001B[38;5;124m\"\u001B[39m)\n\u001B[0;32m      3\u001B[0m course_code_sk \u001B[38;5;241m=\u001B[39m {}\n\u001B[0;32m      5\u001B[0m \u001B[38;5;28;01mfor\u001B[39;00m index, row \u001B[38;5;129;01min\u001B[39;00m course\u001B[38;5;241m.\u001B[39miterrows():\n",
      "\u001B[1;31mNameError\u001B[0m: name 'course' is not defined"
     ]
    }
   ],
   "source": [
    "print(f\"Rows: {course.shape[0]}\")\n",
    "\n",
    "course_code_sk = {}\n",
    "\n",
    "for index, row in course.iterrows():\n",
    "    query = 'INSERT INTO Course (COURSE_code, COURSE_DESCRIPTION, CURRENT_VALUE) VALUES (?,?,?)'\n",
    "    values = (row['COURSE_code'], row['COURSE_DESCRIPTION'], 1)\n",
    "    export_cursor.execute(query, values)\n",
    "    \n",
    "    # Execute the SELECT statement to retrieve the generated primary key\n",
    "    query = 'SELECT @@IDENTITY AS GENERATED_KEY'\n",
    "    export_cursor.execute(query)\n",
    "    generated_primary_key = int(export_cursor.fetchval())\n",
    "    course_code_sk[row['COURSE_code']] = generated_primary_key"
   ]
  },
  {
   "cell_type": "markdown",
   "id": "377a29d81ea77be7",
   "metadata": {
    "collapsed": false
   },
   "source": [
    "## order"
   ]
  },
  {
   "cell_type": "code",
   "execution_count": 40,
   "id": "fdeb100a827fd84e",
   "metadata": {
    "collapsed": false,
    "ExecuteTime": {
     "end_time": "2024-03-20T20:46:34.265191Z",
     "start_time": "2024-03-20T20:46:34.251724Z"
    }
   },
   "outputs": [
    {
     "ename": "NameError",
     "evalue": "name 'order' is not defined",
     "output_type": "error",
     "traceback": [
      "\u001B[1;31m---------------------------------------------------------------------------\u001B[0m",
      "\u001B[1;31mNameError\u001B[0m                                 Traceback (most recent call last)",
      "Cell \u001B[1;32mIn[40], line 1\u001B[0m\n\u001B[1;32m----> 1\u001B[0m \u001B[38;5;28mprint\u001B[39m(\u001B[38;5;124mf\u001B[39m\u001B[38;5;124m\"\u001B[39m\u001B[38;5;124mRows: \u001B[39m\u001B[38;5;132;01m{\u001B[39;00m\u001B[43morder\u001B[49m\u001B[38;5;241m.\u001B[39mshape[\u001B[38;5;241m0\u001B[39m]\u001B[38;5;132;01m}\u001B[39;00m\u001B[38;5;124m\"\u001B[39m)\n\u001B[0;32m      3\u001B[0m order_code_sk \u001B[38;5;241m=\u001B[39m {}\n\u001B[0;32m      5\u001B[0m \u001B[38;5;28;01mfor\u001B[39;00m index, row \u001B[38;5;129;01min\u001B[39;00m order\u001B[38;5;241m.\u001B[39miterrows():\n",
      "\u001B[1;31mNameError\u001B[0m: name 'order' is not defined"
     ]
    }
   ],
   "source": [
    "print(f\"Rows: {order.shape[0]}\")\n",
    "\n",
    "order_code_sk = {}\n",
    "\n",
    "for index, row in order.iterrows():\n",
    "    query = 'INSERT INTO \"Order\" (ORDER_order_number, ORDER_ORDER_METHOD_CODE_method_code, ORDER_ORDER_METHOD_EN_method) VALUES (?,?,?)'\n",
    "    values = (row['ORDER_order_number'], row['ORDER_ORDER_METHOD_CODE_method_code'], row['ORDER_ORDER_METHOD_EN_method'])\n",
    "    export_cursor.execute(query, values)\n",
    "    \n",
    "    # Execute the SELECT statement to retrieve the generated primary key\n",
    "    query = 'SELECT @@IDENTITY AS GENERATED_KEY'\n",
    "    export_cursor.execute(query)\n",
    "    generated_primary_key = int(export_cursor.fetchval())\n",
    "    order_code_sk[row['ORDER_order_number']] = generated_primary_key"
   ]
  },
  {
   "cell_type": "markdown",
   "id": "b2a9f83d65532e57",
   "metadata": {
    "collapsed": false
   },
   "source": [
    "## retailer_site"
   ]
  },
  {
   "cell_type": "code",
   "execution_count": 41,
   "id": "6ee2bf106a0b6f51",
   "metadata": {
    "collapsed": false,
    "ExecuteTime": {
     "end_time": "2024-03-20T20:46:34.300827Z",
     "start_time": "2024-03-20T20:46:34.285198Z"
    }
   },
   "outputs": [
    {
     "ename": "NameError",
     "evalue": "name 'retailer_site' is not defined",
     "output_type": "error",
     "traceback": [
      "\u001B[1;31m---------------------------------------------------------------------------\u001B[0m",
      "\u001B[1;31mNameError\u001B[0m                                 Traceback (most recent call last)",
      "Cell \u001B[1;32mIn[41], line 1\u001B[0m\n\u001B[1;32m----> 1\u001B[0m \u001B[38;5;28mprint\u001B[39m(\u001B[38;5;124mf\u001B[39m\u001B[38;5;124m\"\u001B[39m\u001B[38;5;124mRows: \u001B[39m\u001B[38;5;132;01m{\u001B[39;00m\u001B[43mretailer_site\u001B[49m\u001B[38;5;241m.\u001B[39mshape[\u001B[38;5;241m0\u001B[39m]\u001B[38;5;132;01m}\u001B[39;00m\u001B[38;5;124m\"\u001B[39m)\n\u001B[0;32m      3\u001B[0m \u001B[38;5;66;03m# dictionary to store the primary key with the surrogate key. To be used for fk reference\u001B[39;00m\n\u001B[0;32m      4\u001B[0m retailer_site_code_sk_dict \u001B[38;5;241m=\u001B[39m {}\n",
      "\u001B[1;31mNameError\u001B[0m: name 'retailer_site' is not defined"
     ]
    }
   ],
   "source": [
    "print(f\"Rows: {retailer_site.shape[0]}\")\n",
    "\n",
    "# dictionary to store the primary key with the surrogate key. To be used for fk reference\n",
    "retailer_site_code_sk_dict = {}\n",
    "\n",
    "for index, row in retailer_site.iterrows():\n",
    "    query = 'INSERT INTO Retailer_site (RETAILER_SITE_code, RETAILER_SITE_COUNTRY_CODE_country, RETAILER_SITE_CITY_city, RETAILER_SITE_REGION_region, RETAILER_SITE_POSTAL_ZONE_postal_zone, RETAILER_SITE_RETAILER_CODE_retailer_code, RETAILER_SITE_ACTIVE_INDICATOR_indicator, RETAILER_SITE_ADDRESS1_address, RETAILER_SITE_ADDRESS2_address) VALUES (?,?,?,?,?,?,?,?,?)'\n",
    "    values = (row['RETAILER_SITE_code'], row['RETAILER_SITE_COUNTRY_CODE_country'], row['RETAILER_SITE_CITY_city'], row['RETAILER_SITE_REGION_region'], row['RETAILER_SITE_POSTAL_ZONE_postal_zone'], row['RETAILER_SITE_RETAILER_CODE_retailer_code'], row['RETAILER_SITE_ACTIVE_INDICATOR_indicator'], row['RETAILER_SITE_ADDRESS1_address'], row['RETAILER_SITE_ADDRESS2_address'])\n",
    "    export_cursor.execute(query, values)\n",
    "    \n",
    "    # Execute the SELECT statement to retrieve the generated primary key\n",
    "    query = 'SELECT @@IDENTITY AS GENERATED_KEY'\n",
    "    export_cursor.execute(query)\n",
    "    generated_primary_key = int(export_cursor.fetchval())\n",
    "    retailer_site_code_sk_dict[row['RETAILER_SITE_code']] = generated_primary_key"
   ]
  },
  {
   "cell_type": "markdown",
   "id": "194dd2447bee6bab",
   "metadata": {
    "collapsed": false
   },
   "source": [
    "## sales_branch"
   ]
  },
  {
   "cell_type": "code",
   "execution_count": 42,
   "id": "ef0f8ea2b12b0ecc",
   "metadata": {
    "collapsed": false,
    "ExecuteTime": {
     "end_time": "2024-03-20T20:46:34.420788Z",
     "start_time": "2024-03-20T20:46:34.361849Z"
    }
   },
   "outputs": [
    {
     "ename": "NameError",
     "evalue": "name 'sales_branch' is not defined",
     "output_type": "error",
     "traceback": [
      "\u001B[1;31m---------------------------------------------------------------------------\u001B[0m",
      "\u001B[1;31mNameError\u001B[0m                                 Traceback (most recent call last)",
      "Cell \u001B[1;32mIn[42], line 1\u001B[0m\n\u001B[1;32m----> 1\u001B[0m \u001B[38;5;28mprint\u001B[39m(\u001B[38;5;124mf\u001B[39m\u001B[38;5;124m\"\u001B[39m\u001B[38;5;124mRows: \u001B[39m\u001B[38;5;132;01m{\u001B[39;00m\u001B[43msales_branch\u001B[49m\u001B[38;5;241m.\u001B[39mshape[\u001B[38;5;241m0\u001B[39m]\u001B[38;5;132;01m}\u001B[39;00m\u001B[38;5;124m\"\u001B[39m)\n\u001B[0;32m      3\u001B[0m sales_branch_code_sk \u001B[38;5;241m=\u001B[39m {}\n\u001B[0;32m      5\u001B[0m \u001B[38;5;28;01mfor\u001B[39;00m index, row \u001B[38;5;129;01min\u001B[39;00m sales_branch\u001B[38;5;241m.\u001B[39miterrows():\n",
      "\u001B[1;31mNameError\u001B[0m: name 'sales_branch' is not defined"
     ]
    }
   ],
   "source": [
    "print(f\"Rows: {sales_branch.shape[0]}\")\n",
    "\n",
    "sales_branch_code_sk = {}\n",
    "\n",
    "for index, row in sales_branch.iterrows():\n",
    "    query = 'INSERT INTO Sales_branch (SALES_BRANCH_code, SALES_BRANCH_COUNTRY_CODE_country, SALES_BRANCH_REGION_region, SALES_BRANCH_CITY_city, SALES_BRANCH_POSTAL_ZONE_postal_zone, SALES_BRANCH_ADDRESS1_address, SALES_BRANCH_ADDRESS2_address) VALUES (?,?,?,?,?,?,?)'\n",
    "    values = (row['SALES_BRANCH_code'], row['SALES_BRANCH_COUNTRY_CODE_country'], row['SALES_BRANCH_REGION_region'], row['SALES_BRANCH_CITY_city'], row['SALES_BRANCH_POSTAL_ZONE_postal_zone'], row['SALES_BRANCH_ADDRESS1_address'], row['SALES_BRANCH_ADDRESS2_address'])\n",
    "    export_cursor.execute(query, values)\n",
    "    \n",
    "    # Execute the SELECT statement to retrieve the generated primary key\n",
    "    query = 'SELECT @@IDENTITY AS GENERATED_KEY'\n",
    "    export_cursor.execute(query)\n",
    "    generated_primary_key = int(export_cursor.fetchval())\n",
    "    sales_branch_code_sk[row['SALES_BRANCH_code']] = generated_primary_key"
   ]
  },
  {
   "cell_type": "markdown",
   "id": "35b7b69ca88d61a1",
   "metadata": {
    "collapsed": false
   },
   "source": [
    "## retailer_contact"
   ]
  },
  {
   "cell_type": "code",
   "execution_count": null,
   "id": "b4d7b4d3611c17db",
   "metadata": {
    "collapsed": false
   },
   "outputs": [],
   "source": [
    "print(f\"Rows: {retailer_contact.shape[0]}\")\n",
    "\n",
    "retailer_contact_code_sk = {}\n",
    "\n",
    "for index, row in retailer_contact.iterrows():\n",
    "    query = 'INSERT INTO Retailer_contact (RETAILER_CONTACT_code, RETAILER_CONTACT_email, RETAILER_CONTACT_RETAILER_SITE_CODE_site_code, RETAILER_CONTACT_JOB_POSITION_EN_position, RETAILER_CONTACT_EXTENSION_extension, RETAILER_CONTACT_FAX_fax, RETAILER_CONTACT_FIRST_NAME_first_name, RETAILER_CONTACT_LAST_NAME_last_name) VALUES (?,?,?,?,?,?,?,?)'\n",
    "    \n",
    "    values = (row['RETAILER_CONTACT_code'], row['RETAILER_CONTACT_email'], retailer_site_code_sk_dict[row['RETAILER_CONTACT_RETAILER_SITE_CODE_site_code']], row['RETAILER_CONTACT_JOB_POSITION_EN_position'], row['RETAILER_CONTACT_EXTENSION_extension'], row['RETAILER_CONTACT_FAX_fax'], row['RETAILER_CONTACT_FIRST_NAME_first_name'], row['RETAILER_CONTACT_LAST_NAME_last_name'])\n",
    "    \n",
    "    export_cursor.execute(query, values)\n",
    "    \n",
    "    # Execute the SELECT statement to retrieve the generated primary key\n",
    "    query = 'SELECT @@IDENTITY AS GENERATED_KEY'\n",
    "    export_cursor.execute(query)\n",
    "    generated_primary_key = int(export_cursor.fetchval())    \n",
    "    retailer_contact_code_sk[row['RETAILER_CONTACT_code']] = generated_primary_key"
   ]
  },
  {
   "cell_type": "markdown",
   "id": "9058a5e5a96357fe",
   "metadata": {
    "collapsed": false
   },
   "source": [
    "## retailer"
   ]
  },
  {
   "cell_type": "code",
   "execution_count": 43,
   "id": "4e537872be1b419a",
   "metadata": {
    "collapsed": false,
    "ExecuteTime": {
     "end_time": "2024-03-20T20:46:34.499948Z",
     "start_time": "2024-03-20T20:46:34.488300Z"
    }
   },
   "outputs": [
    {
     "ename": "NameError",
     "evalue": "name 'retailer' is not defined",
     "output_type": "error",
     "traceback": [
      "\u001B[1;31m---------------------------------------------------------------------------\u001B[0m",
      "\u001B[1;31mNameError\u001B[0m                                 Traceback (most recent call last)",
      "Cell \u001B[1;32mIn[43], line 1\u001B[0m\n\u001B[1;32m----> 1\u001B[0m \u001B[38;5;28mprint\u001B[39m(\u001B[38;5;124mf\u001B[39m\u001B[38;5;124m\"\u001B[39m\u001B[38;5;124mRows: \u001B[39m\u001B[38;5;132;01m{\u001B[39;00m\u001B[43mretailer\u001B[49m\u001B[38;5;241m.\u001B[39mshape[\u001B[38;5;241m0\u001B[39m]\u001B[38;5;132;01m}\u001B[39;00m\u001B[38;5;124m\"\u001B[39m)\n\u001B[0;32m      3\u001B[0m retailer_code_sk \u001B[38;5;241m=\u001B[39m {}\n\u001B[0;32m      5\u001B[0m \u001B[38;5;28;01mfor\u001B[39;00m index, row \u001B[38;5;129;01min\u001B[39;00m retailer\u001B[38;5;241m.\u001B[39miterrows():\n",
      "\u001B[1;31mNameError\u001B[0m: name 'retailer' is not defined"
     ]
    }
   ],
   "source": [
    "print(f\"Rows: {retailer.shape[0]}\")\n",
    "\n",
    "retailer_code_sk = {}\n",
    "\n",
    "for index, row in retailer.iterrows():\n",
    "    query = 'INSERT INTO Retailer (RETAILER_code, RETAILER_name, RETAILER_COMPANY_CODE_MR_company, RETAILER_RETAILER_TYPE_code, RETAILER_RETAILER_TYPE_EN, CURRENT_VALUE) VALUES (?,?,?,?,?,?)'\n",
    "    values = (row['RETAILER_code'], row['RETAILER_name'], row['RETAILER_COMPANY_CODE_MR_company'], row['RETAILER_RETAILER_TYPE_code'], row['RETAILER_RETAILER_TYPE_EN'], 1)\n",
    "    export_cursor.execute(query, values)\n",
    "    \n",
    "    # Execute the SELECT statement to retrieve the generated primary key\n",
    "    query = 'SELECT @@IDENTITY AS GENERATED_KEY'\n",
    "    export_cursor.execute(query)\n",
    "    generated_primary_key = int(export_cursor.fetchval())\n",
    "    retailer_code_sk[row['RETAILER_code']] = generated_primary_key"
   ]
  },
  {
   "cell_type": "markdown",
   "id": "f5ce1e4adc2ddc5f",
   "metadata": {
    "collapsed": false
   },
   "source": [
    "## product"
   ]
  },
  {
   "cell_type": "code",
   "execution_count": 44,
   "id": "75f5141c8a0705d3",
   "metadata": {
    "collapsed": false,
    "ExecuteTime": {
     "end_time": "2024-03-20T20:46:34.518091Z",
     "start_time": "2024-03-20T20:46:34.504952Z"
    }
   },
   "outputs": [
    {
     "ename": "NameError",
     "evalue": "name 'product' is not defined",
     "output_type": "error",
     "traceback": [
      "\u001B[1;31m---------------------------------------------------------------------------\u001B[0m",
      "\u001B[1;31mNameError\u001B[0m                                 Traceback (most recent call last)",
      "Cell \u001B[1;32mIn[44], line 1\u001B[0m\n\u001B[1;32m----> 1\u001B[0m \u001B[38;5;28mprint\u001B[39m(\u001B[38;5;124mf\u001B[39m\u001B[38;5;124m\"\u001B[39m\u001B[38;5;124mRows: \u001B[39m\u001B[38;5;132;01m{\u001B[39;00m\u001B[43mproduct\u001B[49m\u001B[38;5;241m.\u001B[39mshape[\u001B[38;5;241m0\u001B[39m]\u001B[38;5;132;01m}\u001B[39;00m\u001B[38;5;124m\"\u001B[39m)\n\u001B[0;32m      3\u001B[0m product_code_sk \u001B[38;5;241m=\u001B[39m {}\n\u001B[0;32m      5\u001B[0m \u001B[38;5;28;01mfor\u001B[39;00m index, row \u001B[38;5;129;01min\u001B[39;00m product\u001B[38;5;241m.\u001B[39miterrows():\n",
      "\u001B[1;31mNameError\u001B[0m: name 'product' is not defined"
     ]
    }
   ],
   "source": [
    "print(f\"Rows: {product.shape[0]}\")\n",
    "\n",
    "product_code_sk = {}\n",
    "\n",
    "for index, row in product.iterrows():\n",
    "    query = 'INSERT INTO Product (PRODUCT_number, PRODUCT_name_product, PRODUCT_description_description, PRODUCT_image_image, PRODUCT_INTRODUCTION_DATE_introduced, PRODUCT_PRODUCTION_COST_cost, PRODUCT_MARGIN_margin, PRODUCT_LANGUAGE_language, PRODUCT_PRODUCT_LINE_code, PRODUCT_PRODUCT_LINE_code_en, PRODUCT_PRODUCT_TYPE_code, PRODUCT_PRODUCT_TYPE_code_en) VALUES (?,?,?,?,?,?,?,?,?,?,?,?)'\n",
    "    values = (row['PRODUCT_number'], row['PRODUCT_name_product'], row['PRODUCT_description_description'], row['PRODUCT_image_image'], row['PRODUCT_INTRODUCTION_DATE_introduced'], row['PRODUCT_PRODUCTION_COST_cost'], row['PRODUCT_MARGIN_margin'], row['PRODUCT_LANGUAGE_language'], row['PRODUCT_PRODUCT_LINE_code'], row['PRODUCT_PRODUCT_LINE_code_en'], row['PRODUCT_PRODUCT_TYPE_code'], row['PRODUCT_PRODUCT_TYPE_code_en'])\n",
    "    export_cursor.execute(query, values)\n",
    "    \n",
    "    # Execute the SELECT statement to retrieve the generated primary key\n",
    "    query = 'SELECT @@IDENTITY AS GENERATED_KEY'\n",
    "    export_cursor.execute(query)\n",
    "    generated_primary_key = int(export_cursor.fetchval())\n",
    "    product_code_sk[row['PRODUCT_number']] = generated_primary_key"
   ]
  },
  {
   "cell_type": "markdown",
   "source": [],
   "metadata": {
    "collapsed": false
   },
   "id": "382d944a297b9dbf"
  },
  {
   "cell_type": "markdown",
   "id": "a408fb4f9e86ea9b",
   "metadata": {
    "collapsed": false
   },
   "source": [
    "## order_details"
   ]
  },
  {
   "cell_type": "code",
   "execution_count": 45,
   "id": "5db1bb611f6e5484",
   "metadata": {
    "collapsed": false,
    "ExecuteTime": {
     "end_time": "2024-03-20T20:46:34.554475Z",
     "start_time": "2024-03-20T20:46:34.541605Z"
    }
   },
   "outputs": [
    {
     "ename": "NameError",
     "evalue": "name 'order_details' is not defined",
     "output_type": "error",
     "traceback": [
      "\u001B[1;31m---------------------------------------------------------------------------\u001B[0m",
      "\u001B[1;31mNameError\u001B[0m                                 Traceback (most recent call last)",
      "Cell \u001B[1;32mIn[45], line 1\u001B[0m\n\u001B[1;32m----> 1\u001B[0m \u001B[38;5;28mprint\u001B[39m(\u001B[38;5;124mf\u001B[39m\u001B[38;5;124m\"\u001B[39m\u001B[38;5;124mRows: \u001B[39m\u001B[38;5;132;01m{\u001B[39;00m\u001B[43morder_details\u001B[49m\u001B[38;5;241m.\u001B[39mshape[\u001B[38;5;241m0\u001B[39m]\u001B[38;5;132;01m}\u001B[39;00m\u001B[38;5;124m\"\u001B[39m)\n\u001B[0;32m      3\u001B[0m order_detail_code_sk \u001B[38;5;241m=\u001B[39m {}\n\u001B[0;32m      5\u001B[0m \u001B[38;5;28;01mfor\u001B[39;00m index, row \u001B[38;5;129;01min\u001B[39;00m order_details\u001B[38;5;241m.\u001B[39miterrows():\n",
      "\u001B[1;31mNameError\u001B[0m: name 'order_details' is not defined"
     ]
    }
   ],
   "source": [
    "print(f\"Rows: {order_details.shape[0]}\")\n",
    "\n",
    "order_detail_code_sk = {}\n",
    "\n",
    "for index, row in order_details.iterrows():\n",
    "    query = 'INSERT INTO Order_details (ORDER_DETAILS_code, ORDER_DETAILS_QUANTITY_quantity, ORDER_DETAILS_TOTAL_COST_total, ORDER_DETAILS_TOTAL_MARGIN_margin,  ORDER_DETAILS_ORDER_NUMBER_order, ORDER_DETAILS_PRODUCT_NUMBER_product, ORDER_DETAILS_UNIT_ID_unit) VALUES (?,?,?,?,?,?,?)'\n",
    "    values = (row['ORDER_DETAIL_code'], row['ORDER_DETAILS_QUANTITY_quantity'], row['ORDER_DETAILS_TOTAL_COST_total'], row['ORDER_DETAILS_TOTAL_MARGIN_margin'], order_code_sk[row['ORDER_DETAILS_ORDER_NUMBER_order']], product_code_sk[row['ORDER_DETAILS_PRODUCT_NUMBER_product']], row['UNIT_id'])\n",
    "    export_cursor.execute(query, values)\n",
    "    \n",
    "    # Execute the SELECT statement to retrieve the generated primary key\n",
    "    query = 'SELECT @@IDENTITY AS GENERATED_KEY'\n",
    "    export_cursor.execute(query)\n",
    "    generated_primary_key = int(export_cursor.fetchval())\n",
    "    order_detail_code_sk[row['ORDER_DETAIL_code']] = generated_primary_key\n",
    "    "
   ]
  },
  {
   "cell_type": "markdown",
   "id": "1ae381712a0624f6",
   "metadata": {
    "collapsed": false
   },
   "source": [
    "## returned_item"
   ]
  },
  {
   "cell_type": "code",
   "execution_count": 46,
   "id": "f7a374b55482409",
   "metadata": {
    "collapsed": false,
    "ExecuteTime": {
     "end_time": "2024-03-20T20:46:34.692083Z",
     "start_time": "2024-03-20T20:46:34.680996Z"
    }
   },
   "outputs": [
    {
     "ename": "NameError",
     "evalue": "name 'returned_item' is not defined",
     "output_type": "error",
     "traceback": [
      "\u001B[1;31m---------------------------------------------------------------------------\u001B[0m",
      "\u001B[1;31mNameError\u001B[0m                                 Traceback (most recent call last)",
      "Cell \u001B[1;32mIn[46], line 1\u001B[0m\n\u001B[1;32m----> 1\u001B[0m \u001B[38;5;28mprint\u001B[39m(\u001B[38;5;124mf\u001B[39m\u001B[38;5;124m\"\u001B[39m\u001B[38;5;124mRows: \u001B[39m\u001B[38;5;132;01m{\u001B[39;00m\u001B[43mreturned_item\u001B[49m\u001B[38;5;241m.\u001B[39mshape[\u001B[38;5;241m0\u001B[39m]\u001B[38;5;132;01m}\u001B[39;00m\u001B[38;5;124m\"\u001B[39m)\n\u001B[0;32m      3\u001B[0m \u001B[38;5;28;01mfor\u001B[39;00m index, row \u001B[38;5;129;01min\u001B[39;00m returned_item\u001B[38;5;241m.\u001B[39miterrows():\n\u001B[0;32m      4\u001B[0m     query \u001B[38;5;241m=\u001B[39m \u001B[38;5;124m'\u001B[39m\u001B[38;5;124mINSERT INTO Returned_item (RETURNED_ITEM_code, RETURNED_ITEM_DATE, RETURNED_ITEM_QUANTITY, RETURNED_ITEM_ORDER_DETAIL_CODE, RETURNED_ITEM_RETURN_REASON_code, RETURNED_ITEM_RETURN_REASON_description_en, RETURNED_ITEM_RETURNED_ITEMS_TOTAL_PRICE) VALUES (?,?,?,?,?,?,?)\u001B[39m\u001B[38;5;124m'\u001B[39m\n",
      "\u001B[1;31mNameError\u001B[0m: name 'returned_item' is not defined"
     ]
    }
   ],
   "source": [
    "print(f\"Rows: {returned_item.shape[0]}\")\n",
    "\n",
    "for index, row in returned_item.iterrows():\n",
    "    query = 'INSERT INTO Returned_item (RETURNED_ITEM_code, RETURNED_ITEM_DATE, RETURNED_ITEM_QUANTITY, RETURNED_ITEM_ORDER_DETAIL_CODE, RETURNED_ITEM_RETURN_REASON_code, RETURNED_ITEM_RETURN_REASON_description_en, RETURNED_ITEM_RETURNED_ITEMS_TOTAL_PRICE) VALUES (?,?,?,?,?,?,?)'\n",
    "    values = (row['RETURNED_ITEM_code'], row['RETURNED_ITEM_DATE'], row['RETURNED_ITEM_QUANTITY'], order_detail_code_sk[row['RETURNED_ITEM_ORDER_DETAIL_CODE']], row['RETURNED_ITEM_RETURN_REASON_code'], row['RETURNED_ITEM_RETURN_REASON_description_en'], row['RETURNED_ITEM_RETURNED_ITEMS_TOTAL_PRICE'])\n",
    "    export_cursor.execute(query, values)"
   ]
  },
  {
   "cell_type": "markdown",
   "id": "7d2b2ff236235fdf",
   "metadata": {
    "collapsed": false
   },
   "source": [
    "## sales_target_data"
   ]
  },
  {
   "cell_type": "code",
   "execution_count": 47,
   "id": "9094928bcff31e64",
   "metadata": {
    "collapsed": false,
    "ExecuteTime": {
     "end_time": "2024-03-20T20:46:34.763375Z",
     "start_time": "2024-03-20T20:46:34.752602Z"
    }
   },
   "outputs": [
    {
     "ename": "NameError",
     "evalue": "name 'sales_target_data' is not defined",
     "output_type": "error",
     "traceback": [
      "\u001B[1;31m---------------------------------------------------------------------------\u001B[0m",
      "\u001B[1;31mNameError\u001B[0m                                 Traceback (most recent call last)",
      "Cell \u001B[1;32mIn[47], line 1\u001B[0m\n\u001B[1;32m----> 1\u001B[0m \u001B[38;5;28mprint\u001B[39m(\u001B[38;5;124mf\u001B[39m\u001B[38;5;124m\"\u001B[39m\u001B[38;5;124mRows: \u001B[39m\u001B[38;5;132;01m{\u001B[39;00m\u001B[43msales_target_data\u001B[49m\u001B[38;5;241m.\u001B[39mshape[\u001B[38;5;241m0\u001B[39m]\u001B[38;5;132;01m}\u001B[39;00m\u001B[38;5;124m\"\u001B[39m)\n\u001B[0;32m      2\u001B[0m \u001B[38;5;28;01mfor\u001B[39;00m index, row \u001B[38;5;129;01min\u001B[39;00m sales_target_data\u001B[38;5;241m.\u001B[39miterrows():\n\u001B[0;32m      3\u001B[0m     query \u001B[38;5;241m=\u001B[39m \u001B[38;5;124m'\u001B[39m\u001B[38;5;124mINSERT INTO SALES_TARGETDATA (SALES_TARGETDATA_SALES_YEAR, SALES_TARGETDATA_SALES_PERIOD, SALES_TARGETDATA_RETAILER_NAME, SALES_TARGETDATA_SALES_TARGET, SALES_TARGETDATA_TARGET_COST, SALES_TARGETDATA_TARGET_MARGIN, SALES_TARGETDATA_SALES_STAFF_CODE, SALES_TARGETDATA_PRODUCT_NUMBER, SALES_TARGETDATA_RETAILER_CODE, SALES_TARGETDATA_SALES_TARGETDATA_ID) VALUES (?,?,?,?,?,?,?,?,?, ?)\u001B[39m\u001B[38;5;124m'\u001B[39m\n",
      "\u001B[1;31mNameError\u001B[0m: name 'sales_target_data' is not defined"
     ]
    }
   ],
   "source": [
    "print(f\"Rows: {sales_target_data.shape[0]}\")\n",
    "for index, row in sales_target_data.iterrows():\n",
    "    query = 'INSERT INTO SALES_TARGETDATA (SALES_TARGETDATA_SALES_YEAR, SALES_TARGETDATA_SALES_PERIOD, SALES_TARGETDATA_RETAILER_NAME, SALES_TARGETDATA_SALES_TARGET, SALES_TARGETDATA_TARGET_COST, SALES_TARGETDATA_TARGET_MARGIN, SALES_TARGETDATA_SALES_STAFF_CODE, SALES_TARGETDATA_PRODUCT_NUMBER, SALES_TARGETDATA_RETAILER_CODE, SALES_TARGETDATA_SALES_TARGETDATA_ID) VALUES (?,?,?,?,?,?,?,?,?, ?)'\n",
    "    values = (row['SALES_TARGETDATA_SALES_YEAR'], row['SALES_TARGETDATA_SALES_PERIOD'], row['SALES_TARGETDATA_RETAILER_NAME'], row['SALES_TARGETDATA_SALES_TARGET'], row['SALES_TARGET_DATA_TARGET_COST'], row['SALES_TARGET_DATA_TARGET_MARGIN'],  sales_staff_code_sk[row['SALES_TARGETDATA_SALES_STAFF_CODE']], product_code_sk[row['PRODUCT_number']], retailer_code_sk[row['RETAILER_code']], row['Id'])\n",
    "    export_cursor.execute(query, values)"
   ]
  },
  {
   "cell_type": "markdown",
   "id": "d51834d38ef5bd7f",
   "metadata": {
    "collapsed": false
   },
   "source": [
    "## training"
   ]
  },
  {
   "cell_type": "code",
   "execution_count": 48,
   "id": "203fad21638237ff",
   "metadata": {
    "collapsed": false,
    "ExecuteTime": {
     "end_time": "2024-03-20T20:46:34.784703Z",
     "start_time": "2024-03-20T20:46:34.774381Z"
    }
   },
   "outputs": [
    {
     "ename": "NameError",
     "evalue": "name 'training' is not defined",
     "output_type": "error",
     "traceback": [
      "\u001B[1;31m---------------------------------------------------------------------------\u001B[0m",
      "\u001B[1;31mNameError\u001B[0m                                 Traceback (most recent call last)",
      "Cell \u001B[1;32mIn[48], line 1\u001B[0m\n\u001B[1;32m----> 1\u001B[0m \u001B[38;5;28mprint\u001B[39m(\u001B[38;5;124mf\u001B[39m\u001B[38;5;124m\"\u001B[39m\u001B[38;5;124mRows: \u001B[39m\u001B[38;5;132;01m{\u001B[39;00m\u001B[43mtraining\u001B[49m\u001B[38;5;241m.\u001B[39mshape[\u001B[38;5;241m0\u001B[39m]\u001B[38;5;132;01m}\u001B[39;00m\u001B[38;5;124m\"\u001B[39m)\n\u001B[0;32m      2\u001B[0m \u001B[38;5;28;01mfor\u001B[39;00m index, row \u001B[38;5;129;01min\u001B[39;00m training\u001B[38;5;241m.\u001B[39miterrows():\n\u001B[0;32m      3\u001B[0m     query \u001B[38;5;241m=\u001B[39m \u001B[38;5;124m'\u001B[39m\u001B[38;5;124mINSERT INTO Training (TRAINING_SALES_STAFF_CODE, TRAINING_COURSE_CODE, TRAINING_YEAR) VALUES (?,?,?)\u001B[39m\u001B[38;5;124m'\u001B[39m\n",
      "\u001B[1;31mNameError\u001B[0m: name 'training' is not defined"
     ]
    }
   ],
   "source": [
    "print(f\"Rows: {training.shape[0]}\")\n",
    "for index, row in training.iterrows():\n",
    "    query = 'INSERT INTO Training (TRAINING_SALES_STAFF_CODE, TRAINING_COURSE_CODE, TRAINING_YEAR) VALUES (?,?,?)'\n",
    "    values = (sales_staff_code_sk[row['TRAINING_SALES_STAFF_CODE']], course_code_sk[row['TRAINING_COURSE_CODE']], row['TRAINING_YEAR'])\n",
    "    export_cursor.execute(query, values)"
   ]
  },
  {
   "cell_type": "markdown",
   "id": "6809bc76db4bcd3a",
   "metadata": {
    "collapsed": false
   },
   "source": [
    "## satisfaction"
   ]
  },
  {
   "cell_type": "code",
   "execution_count": 49,
   "id": "db67790698726567",
   "metadata": {
    "collapsed": false,
    "ExecuteTime": {
     "end_time": "2024-03-20T20:46:34.859291Z",
     "start_time": "2024-03-20T20:46:34.849221Z"
    }
   },
   "outputs": [
    {
     "ename": "NameError",
     "evalue": "name 'satisfaction' is not defined",
     "output_type": "error",
     "traceback": [
      "\u001B[1;31m---------------------------------------------------------------------------\u001B[0m",
      "\u001B[1;31mNameError\u001B[0m                                 Traceback (most recent call last)",
      "Cell \u001B[1;32mIn[49], line 1\u001B[0m\n\u001B[1;32m----> 1\u001B[0m \u001B[38;5;28mprint\u001B[39m(\u001B[38;5;124mf\u001B[39m\u001B[38;5;124m\"\u001B[39m\u001B[38;5;124mRows: \u001B[39m\u001B[38;5;132;01m{\u001B[39;00m\u001B[43msatisfaction\u001B[49m\u001B[38;5;241m.\u001B[39mshape[\u001B[38;5;241m0\u001B[39m]\u001B[38;5;132;01m}\u001B[39;00m\u001B[38;5;124m\"\u001B[39m)\n\u001B[0;32m      2\u001B[0m \u001B[38;5;28;01mfor\u001B[39;00m index, row \u001B[38;5;129;01min\u001B[39;00m satisfaction\u001B[38;5;241m.\u001B[39miterrows():\n\u001B[0;32m      3\u001B[0m     query \u001B[38;5;241m=\u001B[39m \u001B[38;5;124m'\u001B[39m\u001B[38;5;124mINSERT INTO Satisfaction (SATISFACTION_SALES_STAFF_CODE, SATISFACTION_SATISFACTION_TYPE_CODE, SATISFACTION_YEAR) VALUES (?,?,?)\u001B[39m\u001B[38;5;124m'\u001B[39m\n",
      "\u001B[1;31mNameError\u001B[0m: name 'satisfaction' is not defined"
     ]
    }
   ],
   "source": [
    "print(f\"Rows: {satisfaction.shape[0]}\")\n",
    "for index, row in satisfaction.iterrows():\n",
    "    query = 'INSERT INTO Satisfaction (SATISFACTION_SALES_STAFF_CODE, SATISFACTION_SATISFACTION_TYPE_CODE, SATISFACTION_YEAR) VALUES (?,?,?)'\n",
    "    values = (sales_staff_code_sk[row['SATISFACTION_SALES_STAFF_CODE']], satisfaction_type_code_sk[row['SATISFACTION_SATISFACTION_TYPE_CODE']], row['SATISFACTION_YEAR'])\n",
    "    export_cursor.execute(query, values)"
   ]
  },
  {
   "cell_type": "markdown",
   "id": "504717807a49344e",
   "metadata": {
    "collapsed": false
   },
   "source": [
    "## order_header"
   ]
  },
  {
   "cell_type": "code",
   "execution_count": 50,
   "id": "e888ad83b9f74e7d",
   "metadata": {
    "collapsed": false,
    "ExecuteTime": {
     "end_time": "2024-03-20T20:46:34.873275Z",
     "start_time": "2024-03-20T20:46:34.863298Z"
    }
   },
   "outputs": [
    {
     "ename": "NameError",
     "evalue": "name 'order_header' is not defined",
     "output_type": "error",
     "traceback": [
      "\u001B[1;31m---------------------------------------------------------------------------\u001B[0m",
      "\u001B[1;31mNameError\u001B[0m                                 Traceback (most recent call last)",
      "Cell \u001B[1;32mIn[50], line 1\u001B[0m\n\u001B[1;32m----> 1\u001B[0m \u001B[38;5;28mprint\u001B[39m(\u001B[38;5;124mf\u001B[39m\u001B[38;5;124m\"\u001B[39m\u001B[38;5;124mRows: \u001B[39m\u001B[38;5;132;01m{\u001B[39;00m\u001B[43morder_header\u001B[49m\u001B[38;5;241m.\u001B[39mshape[\u001B[38;5;241m0\u001B[39m]\u001B[38;5;132;01m}\u001B[39;00m\u001B[38;5;124m\"\u001B[39m)\n\u001B[0;32m      3\u001B[0m \u001B[38;5;28;01mfor\u001B[39;00m index, row \u001B[38;5;129;01min\u001B[39;00m order_header\u001B[38;5;241m.\u001B[39miterrows():\n\u001B[0;32m      4\u001B[0m     query \u001B[38;5;241m=\u001B[39m \u001B[38;5;124m'\u001B[39m\u001B[38;5;124mINSERT INTO Order_header (ORDER_HEADER_number, ORDER_HEADER_SALES_STAFF_CODE, ORDER_HEADER_SALES_BRANCH_CODE, ORDER_HEADER_RETAILER_SITE_CODE, ORDER_HEADER_RETAILER_CONTACT_CODE, ORDER_HEADER_RETAILER_CODE, ORDER_HEADER_ORDER_DATE, ORDER_HEADER_ORDER_order_number) VALUES (?,?,?,?,?,?,?, ?)\u001B[39m\u001B[38;5;124m'\u001B[39m\n",
      "\u001B[1;31mNameError\u001B[0m: name 'order_header' is not defined"
     ]
    }
   ],
   "source": [
    "print(f\"Rows: {order_header.shape[0]}\")\n",
    "\n",
    "for index, row in order_header.iterrows():\n",
    "    query = 'INSERT INTO Order_header (ORDER_HEADER_number, ORDER_HEADER_SALES_STAFF_CODE, ORDER_HEADER_SALES_BRANCH_CODE, ORDER_HEADER_RETAILER_SITE_CODE, ORDER_HEADER_RETAILER_CONTACT_CODE, ORDER_HEADER_RETAILER_CODE, ORDER_HEADER_ORDER_DATE, ORDER_HEADER_ORDER_order_number) VALUES (?,?,?,?,?,?,?, ?)'\n",
    "    values = (row['ORDER_HEADER_number'], sales_staff_code_sk[row['ORDER_HEADER_SALES_STAFF_CODE']], sales_branch_code_sk[row['ORDER_HEADER_SALES_BRANCH_CODE']], retailer_site_code_sk_dict[row['ORDER_HEADER_RETAILER_SITE_CODE']], retailer_contact_code_sk[row['ORDER_HEADER_RETAILER_CONTACT_CODE']], retailer_code_sk[row['RETAILER_CODE']], row['ORDER_HEADER_ORDER_DATE'], order_code_sk[row['ORDER_HEADER_number']])\n",
    "    export_cursor.execute(query, values)"
   ]
  },
  {
   "cell_type": "markdown",
   "id": "552b4deb1ec12bb7",
   "metadata": {
    "collapsed": false
   },
   "source": [
    "## retailer_segment"
   ]
  },
  {
   "cell_type": "code",
   "execution_count": 51,
   "id": "11edad547765b506",
   "metadata": {
    "collapsed": false,
    "ExecuteTime": {
     "end_time": "2024-03-20T20:46:34.888997Z",
     "start_time": "2024-03-20T20:46:34.878782Z"
    }
   },
   "outputs": [
    {
     "ename": "NameError",
     "evalue": "name 'retailer_segment' is not defined",
     "output_type": "error",
     "traceback": [
      "\u001B[1;31m---------------------------------------------------------------------------\u001B[0m",
      "\u001B[1;31mNameError\u001B[0m                                 Traceback (most recent call last)",
      "Cell \u001B[1;32mIn[51], line 1\u001B[0m\n\u001B[1;32m----> 1\u001B[0m \u001B[38;5;28mprint\u001B[39m(\u001B[38;5;124mf\u001B[39m\u001B[38;5;124m\"\u001B[39m\u001B[38;5;124mRows: \u001B[39m\u001B[38;5;132;01m{\u001B[39;00m\u001B[43mretailer_segment\u001B[49m\u001B[38;5;241m.\u001B[39mshape[\u001B[38;5;241m0\u001B[39m]\u001B[38;5;132;01m}\u001B[39;00m\u001B[38;5;124m\"\u001B[39m)\n\u001B[0;32m      2\u001B[0m \u001B[38;5;28;01mfor\u001B[39;00m index, row \u001B[38;5;129;01min\u001B[39;00m retailer_segment\u001B[38;5;241m.\u001B[39miterrows():\n\u001B[0;32m      3\u001B[0m     query \u001B[38;5;241m=\u001B[39m \u001B[38;5;124m'\u001B[39m\u001B[38;5;124mINSERT INTO Retailer_segment (RETAILER_SEGMENT_segment_code, RETAILER_SEGMENT_language, RETAILER_SEGMENT_segment_name, RETAILER_SEGMENT_SEGMENT_DESCRIPTION_description, SEGMENT_DESCRIPTION_description_short, CURRENT_VALUE) VALUES (?,?,?,?,?,?)\u001B[39m\u001B[38;5;124m'\u001B[39m\n",
      "\u001B[1;31mNameError\u001B[0m: name 'retailer_segment' is not defined"
     ]
    }
   ],
   "source": [
    "print(f\"Rows: {retailer_segment.shape[0]}\")\n",
    "for index, row in retailer_segment.iterrows():\n",
    "    query = 'INSERT INTO Retailer_segment (RETAILER_SEGMENT_segment_code, RETAILER_SEGMENT_language, RETAILER_SEGMENT_segment_name, RETAILER_SEGMENT_SEGMENT_DESCRIPTION_description, SEGMENT_DESCRIPTION_description_short, CURRENT_VALUE) VALUES (?,?,?,?,?,?)'\n",
    "    values = (row['RETAILER_SEGMENT_segment_code'], row['RETAILER_SEGMENT_language'], row['RETAILER_SEGMENT_segment_name'], row['RETAILER_SEGMENT_SEGMENT_DESCRIPTION_description'], row['SEGMENT_DESCRIPTION_SHORT'], 1)\n",
    "    export_cursor.execute(query, values)"
   ]
  },
  {
   "cell_type": "markdown",
   "id": "1d762cfc1fa15f4",
   "metadata": {
    "collapsed": false
   },
   "source": [
    "## retailer_headquarters"
   ]
  },
  {
   "cell_type": "code",
   "execution_count": 52,
   "id": "1c8ffc80dcb80dd3",
   "metadata": {
    "collapsed": false,
    "ExecuteTime": {
     "end_time": "2024-03-20T20:46:34.965387Z",
     "start_time": "2024-03-20T20:46:34.952511Z"
    }
   },
   "outputs": [
    {
     "ename": "NameError",
     "evalue": "name 'retailer_headquarters' is not defined",
     "output_type": "error",
     "traceback": [
      "\u001B[1;31m---------------------------------------------------------------------------\u001B[0m",
      "\u001B[1;31mNameError\u001B[0m                                 Traceback (most recent call last)",
      "Cell \u001B[1;32mIn[52], line 1\u001B[0m\n\u001B[1;32m----> 1\u001B[0m \u001B[38;5;28mprint\u001B[39m(\u001B[38;5;124mf\u001B[39m\u001B[38;5;124m\"\u001B[39m\u001B[38;5;124mRows: \u001B[39m\u001B[38;5;132;01m{\u001B[39;00m\u001B[43mretailer_headquarters\u001B[49m\u001B[38;5;241m.\u001B[39mshape[\u001B[38;5;241m0\u001B[39m]\u001B[38;5;132;01m}\u001B[39;00m\u001B[38;5;124m\"\u001B[39m)\n\u001B[0;32m      3\u001B[0m \u001B[38;5;28;01mfor\u001B[39;00m index, row \u001B[38;5;129;01min\u001B[39;00m retailer_headquarters\u001B[38;5;241m.\u001B[39miterrows():\n\u001B[0;32m      4\u001B[0m     query \u001B[38;5;241m=\u001B[39m \u001B[38;5;124m'\u001B[39m\u001B[38;5;124mINSERT INTO Retailer_headquarter (RETAILER_HEADQUARTER_codemr, RETAIL_HEADQUARTER_retailer_name, RETAILER_HEADQUARTER_address1_address, RETAILER_HEADQUARTER_address2_address, RETAILER_HEADQUARTER_city_city, RETAILER_HEADQUARTER_region_region, RETAILER_HEADQUARTER_postal_zone_postal_zone, RETAILER_HEADQUARTER_country_code_country, RETAILER_HEADQUARTER_phone_phone, RETAILER_HEADQUARTER_fax_fax, RETAILER_HEADQUARTER_segment_code, RETAILER_HEADQUARTER_main_address_address) VALUES (?,?,?,?,?,?,?,?,?,?,?,?)\u001B[39m\u001B[38;5;124m'\u001B[39m\n",
      "\u001B[1;31mNameError\u001B[0m: name 'retailer_headquarters' is not defined"
     ]
    }
   ],
   "source": [
    "print(f\"Rows: {retailer_headquarters.shape[0]}\")\n",
    "\n",
    "for index, row in retailer_headquarters.iterrows():\n",
    "    query = 'INSERT INTO Retailer_headquarter (RETAILER_HEADQUARTER_codemr, RETAIL_HEADQUARTER_retailer_name, RETAILER_HEADQUARTER_address1_address, RETAILER_HEADQUARTER_address2_address, RETAILER_HEADQUARTER_city_city, RETAILER_HEADQUARTER_region_region, RETAILER_HEADQUARTER_postal_zone_postal_zone, RETAILER_HEADQUARTER_country_code_country, RETAILER_HEADQUARTER_phone_phone, RETAILER_HEADQUARTER_fax_fax, RETAILER_HEADQUARTER_segment_code, RETAILER_HEADQUARTER_main_address_address) VALUES (?,?,?,?,?,?,?,?,?,?,?,?)'\n",
    "    values = (row['RETAILER_HEADQUARTER_codemr'], row['RETAIL_HEADQUARTER_retailer_name'], row['RETAILER_HEADQUARTER_address1_address'], row['RETAILER_HEADQUARTER_address2_address'], row['RETAILER_HEADQUARTER_city_city'], row['RETAILER_HEADQUARTER_region_region'], row['RETAILER_HEADQUARTER_postal_zone_postal_zone'], row['RETAILER_HEADQUARTER_country_code_country'], row['RETAILER_HEADQUARTER_phone_phone'], row['RETAILER_HEADQUARTER_fax_fax'], row['RETAILER_HEADQUARTER_segment_code'], row['MAIN_ADDRESS'])\n",
    "    export_cursor.execute(query, values)"
   ]
  },
  {
   "cell_type": "markdown",
   "id": "2d25c6d254bc4e1d",
   "metadata": {
    "collapsed": false
   },
   "source": [
    "## Go_sales_inventory_levels"
   ]
  },
  {
   "cell_type": "code",
   "execution_count": 53,
   "id": "952c91ad5830a781",
   "metadata": {
    "collapsed": false,
    "ExecuteTime": {
     "end_time": "2024-03-20T20:46:34.996285Z",
     "start_time": "2024-03-20T20:46:34.985893Z"
    }
   },
   "outputs": [
    {
     "ename": "NameError",
     "evalue": "name 'go_sales_inventory_levels' is not defined",
     "output_type": "error",
     "traceback": [
      "\u001B[1;31m---------------------------------------------------------------------------\u001B[0m",
      "\u001B[1;31mNameError\u001B[0m                                 Traceback (most recent call last)",
      "Cell \u001B[1;32mIn[53], line 1\u001B[0m\n\u001B[1;32m----> 1\u001B[0m \u001B[38;5;28mprint\u001B[39m(\u001B[38;5;124mf\u001B[39m\u001B[38;5;124m\"\u001B[39m\u001B[38;5;124mRows: \u001B[39m\u001B[38;5;132;01m{\u001B[39;00m\u001B[43mgo_sales_inventory_levels\u001B[49m\u001B[38;5;241m.\u001B[39mshape[\u001B[38;5;241m0\u001B[39m]\u001B[38;5;132;01m}\u001B[39;00m\u001B[38;5;124m\"\u001B[39m)\n\u001B[0;32m      2\u001B[0m \u001B[38;5;28;01mfor\u001B[39;00m index, row \u001B[38;5;129;01min\u001B[39;00m go_sales_inventory_levels\u001B[38;5;241m.\u001B[39miterrows():\n\u001B[0;32m      3\u001B[0m     query \u001B[38;5;241m=\u001B[39m \u001B[38;5;124m'\u001B[39m\u001B[38;5;124mINSERT INTO GO_SALES_INVENTORY_LEVELS (GO_SALES_INVENTORY_LEVELS_PRODUCT_NUMBER, GO_SALES_INVENTORY_LEVELS_YEAR_MONTH, GO_SALES_INVENTORY_LEVELS_INVENTORY_COUNT, GO_SALES_INVENTORY_LEVELS_id) VALUES (?,?,?, ?)\u001B[39m\u001B[38;5;124m'\u001B[39m\n",
      "\u001B[1;31mNameError\u001B[0m: name 'go_sales_inventory_levels' is not defined"
     ]
    }
   ],
   "source": [
    "print(f\"Rows: {go_sales_inventory_levels.shape[0]}\")\n",
    "for index, row in go_sales_inventory_levels.iterrows():\n",
    "    query = 'INSERT INTO GO_SALES_INVENTORY_LEVELS (GO_SALES_INVENTORY_LEVELS_PRODUCT_NUMBER, GO_SALES_INVENTORY_LEVELS_YEAR_MONTH, GO_SALES_INVENTORY_LEVELS_INVENTORY_COUNT, GO_SALES_INVENTORY_LEVELS_id) VALUES (?,?,?, ?)'\n",
    "    values = (product_code_sk[row['GO_SALES_INVENTORY_LEVELS_PRODUCT_NUMBER']], row['GO_SALES_INVENTORY_LEVELS_YEAR_MONTH'], row['GO_SALES_INVENTORY_LEVELS_INVENTORY_COUNT'], index)\n",
    "    export_cursor.execute(query, values)"
   ]
  },
  {
   "cell_type": "markdown",
   "id": "52bdff41402b6dcc",
   "metadata": {
    "collapsed": false
   },
   "source": [
    "## Go_sales_product_forecast"
   ]
  },
  {
   "cell_type": "code",
   "execution_count": 54,
   "id": "f3cfc7bc05d752ab",
   "metadata": {
    "collapsed": false,
    "ExecuteTime": {
     "end_time": "2024-03-20T20:46:35.090304Z",
     "start_time": "2024-03-20T20:46:35.079302Z"
    }
   },
   "outputs": [
    {
     "ename": "NameError",
     "evalue": "name 'sales_product_forecast' is not defined",
     "output_type": "error",
     "traceback": [
      "\u001B[1;31m---------------------------------------------------------------------------\u001B[0m",
      "\u001B[1;31mNameError\u001B[0m                                 Traceback (most recent call last)",
      "Cell \u001B[1;32mIn[54], line 1\u001B[0m\n\u001B[1;32m----> 1\u001B[0m \u001B[38;5;28mprint\u001B[39m(\u001B[38;5;124mf\u001B[39m\u001B[38;5;124m\"\u001B[39m\u001B[38;5;124mRows: \u001B[39m\u001B[38;5;132;01m{\u001B[39;00m\u001B[43msales_product_forecast\u001B[49m\u001B[38;5;241m.\u001B[39mshape[\u001B[38;5;241m0\u001B[39m]\u001B[38;5;132;01m}\u001B[39;00m\u001B[38;5;124m\"\u001B[39m)\n\u001B[0;32m      3\u001B[0m \u001B[38;5;66;03m# converting expected cost and expected margin to float\u001B[39;00m\n\u001B[0;32m      4\u001B[0m sales_product_forecast[\u001B[38;5;124m'\u001B[39m\u001B[38;5;124mGO_SALES_PRODUCT_FORECAST_EXPECTED_COST\u001B[39m\u001B[38;5;124m'\u001B[39m] \u001B[38;5;241m=\u001B[39m sales_product_forecast[\u001B[38;5;124m'\u001B[39m\u001B[38;5;124mGO_SALES_PRODUCT_FORECAST_EXPECTED_COST\u001B[39m\u001B[38;5;124m'\u001B[39m]\u001B[38;5;241m.\u001B[39mastype(\u001B[38;5;124m'\u001B[39m\u001B[38;5;124mfloat\u001B[39m\u001B[38;5;124m'\u001B[39m)\n",
      "\u001B[1;31mNameError\u001B[0m: name 'sales_product_forecast' is not defined"
     ]
    }
   ],
   "source": [
    "print(f\"Rows: {sales_product_forecast.shape[0]}\")\n",
    "\n",
    "# converting expected cost and expected margin to float\n",
    "sales_product_forecast['GO_SALES_PRODUCT_FORECAST_EXPECTED_COST'] = sales_product_forecast['GO_SALES_PRODUCT_FORECAST_EXPECTED_COST'].astype('float')\n",
    "sales_product_forecast['GO_SALES_PRODUCT_FORECAST_EXPECTED_MARGIN'] = sales_product_forecast['GO_SALES_PRODUCT_FORECAST_EXPECTED_MARGIN'].astype('float')\n",
    "\n",
    "for index, row in sales_product_forecast.iterrows():\n",
    "    query = 'INSERT INTO GO_SALES_PRODUCT_FORECAST (GO_SALES_PRODUCT_FORECAST_PRODUCT_NUMBER, GO_SALES_PRODUCT_FORECAST_YEAR_MONTH, GO_SALES_PRODUCT_FORECAST_EXPECTED_VOLUME, GO_SALES_PRODUCT_FORECAST_EXPECTED_COST, GO_SALES_PRODUCT_FORECAST_EXPECTED_MARGIN, GO_SALES_PRODUCT_FORECAST_id) VALUES (?,?,?,?,?,?)'\n",
    "    values = (product_code_sk[row['GO_SALES_PRODUCT_FORECAST_PRODUCT_NUMBER']], row['GO_SALES_PRODUCT_FORECAST_YEAR_MONTH'],row['GO_SALES_PRODUCT_FORECAST_EXPECTED_VOLUME'], row['GO_SALES_PRODUCT_FORECAST_EXPECTED_COST'], row['GO_SALES_PRODUCT_FORECAST_EXPECTED_MARGIN'], index)\n",
    "    export_cursor.execute(query, values)"
   ]
  },
  {
   "cell_type": "markdown",
   "id": "654c186fd2bbe576",
   "metadata": {
    "collapsed": false
   },
   "source": [
    "## clean up"
   ]
  },
  {
   "cell_type": "code",
   "execution_count": 55,
   "id": "1b07e6b707a7cd6e",
   "metadata": {
    "collapsed": false,
    "ExecuteTime": {
     "end_time": "2024-03-20T20:46:35.121080Z",
     "start_time": "2024-03-20T20:46:35.111810Z"
    }
   },
   "outputs": [
    {
     "ename": "NameError",
     "evalue": "name 'export_cursor' is not defined",
     "output_type": "error",
     "traceback": [
      "\u001B[1;31m---------------------------------------------------------------------------\u001B[0m",
      "\u001B[1;31mNameError\u001B[0m                                 Traceback (most recent call last)",
      "Cell \u001B[1;32mIn[55], line 2\u001B[0m\n\u001B[0;32m      1\u001B[0m \u001B[38;5;66;03m# close cursor\u001B[39;00m\n\u001B[1;32m----> 2\u001B[0m \u001B[43mexport_cursor\u001B[49m\u001B[38;5;241m.\u001B[39mclose()\n\u001B[0;32m      4\u001B[0m \u001B[38;5;66;03m# close connection\u001B[39;00m\n\u001B[0;32m      5\u001B[0m export_conn\u001B[38;5;241m.\u001B[39mclose()\n",
      "\u001B[1;31mNameError\u001B[0m: name 'export_cursor' is not defined"
     ]
    }
   ],
   "source": [
    "# close cursor\n",
    "export_cursor.close()\n",
    "\n",
    "# close connection\n",
    "export_conn.close()"
   ]
  }
 ],
 "metadata": {
  "kernelspec": {
   "display_name": "Python 3 (ipykernel)",
   "language": "python",
   "name": "python3"
  },
  "language_info": {
   "codemirror_mode": {
    "name": "ipython",
    "version": 3
   },
   "file_extension": ".py",
   "mimetype": "text/x-python",
   "name": "python",
   "nbconvert_exporter": "python",
   "pygments_lexer": "ipython3",
   "version": "3.12.2"
  }
 },
 "nbformat": 4,
 "nbformat_minor": 5
}
