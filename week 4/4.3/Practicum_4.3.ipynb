{
 "cells": [
  {
   "cell_type": "markdown",
   "source": [
    "Practicumopdrachten Week 4.3 (eerste kans)"
   ],
   "metadata": {
    "collapsed": false
   },
   "id": "d086cc99c4d69011"
  },
  {
   "cell_type": "markdown",
   "source": [
    "Dependecies"
   ],
   "metadata": {
    "collapsed": false
   },
   "id": "c899ef6a9a61a928"
  },
  {
   "cell_type": "code",
   "outputs": [],
   "source": [
    "import pandas as pd\n",
    "import pyodbc\n",
    "import sqlite3"
   ],
   "metadata": {
    "collapsed": false,
    "ExecuteTime": {
     "end_time": "2024-03-11T14:05:23.005200Z",
     "start_time": "2024-03-11T14:05:22.193562Z"
    }
   },
   "id": "53ceadd40e419431",
   "execution_count": 1
  },
  {
   "cell_type": "markdown",
   "source": [
    "Connectie met smss database"
   ],
   "metadata": {
    "collapsed": false
   },
   "id": "823d7a97f719ddcb"
  },
  {
   "cell_type": "code",
   "outputs": [
    {
     "name": "stdout",
     "output_type": "stream",
     "text": [
      "Connection with database is established\n"
     ]
    }
   ],
   "source": [
    "DB = {\n",
    "    'servername': '(local)\\\\SQLEXPRESS',\n",
    "    'database': 'DEDS_DataWarehouse',}\n",
    "\n",
    "export_conn = pyodbc.connect('DRIVER={SQL Server};SERVER=' + DB['servername'] + ';DATABASE=' + DB['database'] + ';Trusted_Connection=yes')\n",
    "\n",
    "export_cursor = export_conn.cursor()\n",
    "\n",
    "# check if connection is successful, else throw an error\n",
    "if export_conn:\n",
    "    print(\"Connection with database is established\")\n",
    "else:\n",
    "    print(\"Connection with database is not established\")\n",
    "    raise Exception(\"Connection with database is not established\")"
   ],
   "metadata": {
    "collapsed": false,
    "ExecuteTime": {
     "end_time": "2024-03-11T14:05:23.216576Z",
     "start_time": "2024-03-11T14:05:23.006308Z"
    }
   },
   "id": "948252c29b10a629",
   "execution_count": 2
  },
  {
   "cell_type": "markdown",
   "source": [
    "# Brontabellen\n",
    "importeer de brontabellen uit de brondata foler"
   ],
   "metadata": {
    "collapsed": false
   },
   "id": "9c06294903211408"
  },
  {
   "cell_type": "code",
   "outputs": [
    {
     "name": "stdout",
     "output_type": "stream",
     "text": [
      "   INVENTORY_YEAR  INVENTORY_MONTH  PRODUCT_NUMBER  INVENTORY_COUNT\n",
      "0            2021                4              48             1932\n",
      "1            2021                4              49             1400\n",
      "2            2021                4              50            21705\n",
      "3            2021                4              51             9710\n",
      "4            2021                4              52             5616\n",
      "   PRODUCT_NUMBER  YEAR  MONTH  EXPECTED_VOLUME\n",
      "0              44  2022     12              383\n",
      "1              45  2021      1               80\n",
      "2              45  2021      2               51\n",
      "3              45  2021      3              214\n",
      "4              45  2021      4              300\n"
     ]
    }
   ],
   "source": [
    "# connectie met de csv bestanden\n",
    "go_sales_inventory_levels = pd.read_csv('brondata/GO_SALES_INVENTORY_LEVELSData.csv')\n",
    "go_sales_product_forcast = pd.read_csv('brondata/GO_SALES_PRODUCT_FORECASTData.csv')\n",
    "    \n",
    "print (go_sales_inventory_levels.head())\n",
    "print (go_sales_product_forcast.head())\n",
    "\n",
    "# Connectie met sqlite databases\n",
    "go_crm_connection = sqlite3.connect('brondata/go_crm.sqlite')\n",
    "go_sales_connection = sqlite3.connect('brondata/go_sales.sqlite')\n",
    "go_staff_connection = sqlite3.connect('brondata/go_staff.sqlite')\n"
   ],
   "metadata": {
    "collapsed": false,
    "ExecuteTime": {
     "end_time": "2024-03-11T14:07:46.526055Z",
     "start_time": "2024-03-11T14:07:46.512130Z"
    }
   },
   "id": "7e3485e0d80801c9",
   "execution_count": 8
  },
  {
   "cell_type": "markdown",
   "source": [
    "## Inlezen van de sqlite tabellen"
   ],
   "metadata": {
    "collapsed": false
   },
   "id": "e4ca8a748b700495"
  },
  {
   "cell_type": "code",
   "outputs": [],
   "source": [
    "# go_crm\n",
    "go_crm_age_group = pd.read_sql_query(\"SELECT * FROM age_group\", go_crm_connection)\n",
    "\n",
    "go_crm_country = pd.read_sql_query(\"SELECT * FROM country\", go_crm_connection)\n",
    "\n",
    "go_crm_retailer = pd.read_sql_query(\"SELECT * FROM retailer\", go_crm_connection)\n",
    "\n",
    "go_crm_retailer_contact = pd.read_sql_query(\"SELECT * FROM retailer_contact\", go_crm_connection)\n",
    "\n",
    "go_crm_retailer_headquarters = pd.read_sql_query(\"SELECT * FROM retailer_headquarters\", go_crm_connection)\n",
    "\n",
    "go_crm_retailer_segment = pd.read_sql_query(\"SELECT * FROM retailer_segment\", go_crm_connection)\n",
    "\n",
    "go_crm_retailer_site = pd.read_sql_query(\"SELECT * FROM retailer_site\", go_crm_connection)\n",
    "\n",
    "go_crm_retailer_type = pd.read_sql_query(\"SELECT * FROM retailer_type\", go_crm_connection)\n",
    "\n",
    "go_crm_sales_demographic = pd.read_sql_query(\"SELECT * FROM sales_demographic\", go_crm_connection)\n",
    "\n",
    "go_crm_sales_territory = pd.read_sql_query(\"SELECT * FROM sales_territory\", go_crm_connection)\n",
    "\n",
    "# go sales\n",
    "go_sales_country = pd.read_sql_query(\"SELECT * FROM country\", go_sales_connection)\n",
    "\n",
    "go_sales_order_details = pd.read_sql_query(\"SELECT * FROM order_details\", go_sales_connection)\n",
    "\n",
    "go_sales_order_header = pd.read_sql_query(\"SELECT * FROM order_header\", go_sales_connection)\n",
    "\n",
    "go_sales_order_method = pd.read_sql_query(\"SELECT * FROM order_method\", go_sales_connection)\n",
    "\n",
    "go_sales_product = pd.read_sql_query(\"SELECT * FROM product\", go_sales_connection)\n",
    "\n",
    "go_sales_product_line = pd.read_sql_query(\"SELECT * FROM product_line\", go_sales_connection)\n",
    "\n",
    "go_sales_product_type = pd.read_sql_query(\"SELECT * FROM product_type\", go_sales_connection)\n",
    "\n",
    "go_sales_retailer_site = pd.read_sql_query(\"SELECT * FROM retailer_site\", go_sales_connection)\n",
    "\n",
    "go_sales_return_reason = pd.read_sql_query(\"SELECT * FROM return_reason\", go_sales_connection)\n",
    "\n",
    "go_sales_returned_item = pd.read_sql_query(\"SELECT * FROM returned_item\", go_sales_connection)\n",
    "\n",
    "go_sales_sales_branch = pd.read_sql_query(\"SELECT * FROM sales_branch\", go_sales_connection)\n",
    "\n",
    "go_sales_sales_staff = pd.read_sql_query(\"SELECT * FROM sales_staff\", go_sales_connection)\n",
    "\n",
    "# go staff\n",
    "go_staff_course = pd.read_sql_query(\"SELECT * FROM course\", go_staff_connection)\n",
    "\n",
    "go_staff_sales_branch = pd.read_sql_query(\"SELECT * FROM sales_branch\", go_staff_connection)\n",
    "\n",
    "go_staff_sales_staff = pd.read_sql_query(\"SELECT * FROM sales_staff\", go_staff_connection)\n",
    "\n",
    "go_staff_satisfaction = pd.read_sql_query(\"SELECT * FROM satisfaction\", go_staff_connection)\n",
    "\n",
    "go_staff_satisfaction_type = pd.read_sql_query(\"SELECT * FROM satisfaction_type\", go_staff_connection)\n",
    "\n",
    "go_staff_training = pd.read_sql_query(\"SELECT * FROM training\", go_staff_connection)"
   ],
   "metadata": {
    "collapsed": false,
    "ExecuteTime": {
     "end_time": "2024-03-11T14:05:23.447558Z",
     "start_time": "2024-03-11T14:05:23.246530Z"
    }
   },
   "id": "2f2206ef6f8f73ef",
   "execution_count": 4
  },
  {
   "cell_type": "markdown",
   "source": [],
   "metadata": {
    "collapsed": false
   },
   "id": "650835d0566406ab"
  }
 ],
 "metadata": {
  "kernelspec": {
   "display_name": "Python 3",
   "language": "python",
   "name": "python3"
  },
  "language_info": {
   "codemirror_mode": {
    "name": "ipython",
    "version": 2
   },
   "file_extension": ".py",
   "mimetype": "text/x-python",
   "name": "python",
   "nbconvert_exporter": "python",
   "pygments_lexer": "ipython2",
   "version": "2.7.6"
  }
 },
 "nbformat": 4,
 "nbformat_minor": 5
}
