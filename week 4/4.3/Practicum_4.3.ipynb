{
 "cells": [
  {
   "cell_type": "markdown",
   "source": [
    "Practicumopdrachten Week 4.3 (eerste kans)"
   ],
   "metadata": {
    "collapsed": false
   },
   "id": "d086cc99c4d69011"
  },
  {
   "cell_type": "markdown",
   "source": [
    "Dependecies"
   ],
   "metadata": {
    "collapsed": false
   },
   "id": "c899ef6a9a61a928"
  },
  {
   "cell_type": "code",
   "outputs": [],
   "source": [
    "import pandas as pd\n",
    "import pyodbc\n",
    "import sqlite3"
   ],
   "metadata": {
    "collapsed": false,
    "ExecuteTime": {
     "end_time": "2024-03-12T15:58:11.258115Z",
     "start_time": "2024-03-12T15:58:10.546584Z"
    }
   },
   "id": "53ceadd40e419431",
   "execution_count": 1
  },
  {
   "cell_type": "markdown",
   "source": [
    "Connectie met smss database"
   ],
   "metadata": {
    "collapsed": false
   },
   "id": "823d7a97f719ddcb"
  },
  {
   "cell_type": "code",
   "outputs": [
    {
     "name": "stdout",
     "output_type": "stream",
     "text": [
      "Connection with database is established\n"
     ]
    }
   ],
   "source": [
    "DB = {\n",
    "    'servername': '(local)\\\\SQLEXPRESS',\n",
    "    'database': 'DEDS_DataWarehouse',}\n",
    "\n",
    "export_conn = pyodbc.connect('DRIVER={SQL Server};SERVER=' + DB['servername'] + ';DATABASE=' + DB['database'] + ';Trusted_Connection=yes')\n",
    "\n",
    "export_cursor = export_conn.cursor()\n",
    "\n",
    "# check if connection is successful, else throw an error\n",
    "if export_conn:\n",
    "    print(\"Connection with database is established\")\n",
    "else:\n",
    "    print(\"Connection with database is not established\")\n",
    "    #raise Exception(\"Connection with database is not established\")"
   ],
   "metadata": {
    "collapsed": false,
    "ExecuteTime": {
     "end_time": "2024-03-12T15:58:11.446315Z",
     "start_time": "2024-03-12T15:58:11.259126Z"
    }
   },
   "id": "948252c29b10a629",
   "execution_count": 2
  },
  {
   "cell_type": "markdown",
   "source": [
    "# Brontabellen\n",
    "importeer de brontabellen uit de brondata foler"
   ],
   "metadata": {
    "collapsed": false
   },
   "id": "9c06294903211408"
  },
  {
   "cell_type": "code",
   "outputs": [],
   "source": [
    "# Connectie met sqlite databases\n",
    "go_crm_connection = sqlite3.connect('brondata/go_crm.sqlite')\n",
    "go_sales_connection = sqlite3.connect('brondata/go_sales.sqlite')\n",
    "go_staff_connection = sqlite3.connect('brondata/go_staff.sqlite')\n"
   ],
   "metadata": {
    "collapsed": false,
    "ExecuteTime": {
     "end_time": "2024-03-12T15:58:11.452120Z",
     "start_time": "2024-03-12T15:58:11.447440Z"
    }
   },
   "id": "7e3485e0d80801c9",
   "execution_count": 3
  },
  {
   "cell_type": "code",
   "outputs": [],
   "source": [
    "# inlezen csv bestanden\n",
    "go_sales_inventory_levels = pd.read_csv('brondata/GO_SALES_INVENTORY_LEVELSData.csv')\n",
    "go_sales_product_forcast = pd.read_csv('brondata/GO_SALES_PRODUCT_FORECASTData.csv')"
   ],
   "metadata": {
    "collapsed": false,
    "ExecuteTime": {
     "end_time": "2024-03-12T15:58:11.468978Z",
     "start_time": "2024-03-12T15:58:11.454130Z"
    }
   },
   "id": "80afb12db9f862d",
   "execution_count": 4
  },
  {
   "cell_type": "markdown",
   "source": [
    "## Inlezen van de sqlite tabellen"
   ],
   "metadata": {
    "collapsed": false
   },
   "id": "e4ca8a748b700495"
  },
  {
   "cell_type": "markdown",
   "source": [
    "### go_crm"
   ],
   "metadata": {
    "collapsed": false
   },
   "id": "94c4cad4f19bfd1e"
  },
  {
   "cell_type": "code",
   "outputs": [],
   "source": [
    "go_crm_age_group = pd.read_sql_query(\"SELECT * FROM age_group\", go_crm_connection)\n",
    "go_crm_country = pd.read_sql_query(\"SELECT * FROM country\", go_crm_connection)\n",
    "go_crm_retailer = pd.read_sql_query(\"SELECT * FROM retailer\", go_crm_connection)\n",
    "go_crm_retailer_contact = pd.read_sql_query(\"SELECT * FROM retailer_contact\", go_crm_connection)\n",
    "go_crm_retailer_headquarters = pd.read_sql_query(\"SELECT * FROM retailer_headquarters\", go_crm_connection)\n",
    "go_crm_retailer_segment = pd.read_sql_query(\"SELECT * FROM retailer_segment\", go_crm_connection)\n",
    "go_crm_retailer_site = pd.read_sql_query(\"SELECT * FROM retailer_site\", go_crm_connection)\n",
    "go_crm_retailer_type = pd.read_sql_query(\"SELECT * FROM retailer_type\", go_crm_connection)\n",
    "go_crm_sales_demographic = pd.read_sql_query(\"SELECT * FROM sales_demographic\", go_crm_connection)\n",
    "go_crm_sales_territory = pd.read_sql_query(\"SELECT * FROM sales_territory\", go_crm_connection)"
   ],
   "metadata": {
    "collapsed": false,
    "ExecuteTime": {
     "end_time": "2024-03-12T15:58:11.489961Z",
     "start_time": "2024-03-12T15:58:11.469991Z"
    }
   },
   "id": "689787d21e2dd6f3",
   "execution_count": 5
  },
  {
   "cell_type": "markdown",
   "source": [
    "### go_sales"
   ],
   "metadata": {
    "collapsed": false
   },
   "id": "c0d3bb6ca017c9f5"
  },
  {
   "cell_type": "code",
   "outputs": [],
   "source": [
    "go_sales_country = pd.read_sql_query(\"SELECT * FROM country\", go_sales_connection)\n",
    "go_sales_order_details = pd.read_sql_query(\"SELECT * FROM order_details\", go_sales_connection)\n",
    "go_sales_order_header = pd.read_sql_query(\"SELECT * FROM order_header\", go_sales_connection)\n",
    "go_sales_order_method = pd.read_sql_query(\"SELECT * FROM order_method\", go_sales_connection)\n",
    "go_sales_product = pd.read_sql_query(\"SELECT * FROM product\", go_sales_connection)\n",
    "go_sales_product_line = pd.read_sql_query(\"SELECT * FROM product_line\", go_sales_connection)\n",
    "go_sales_product_type = pd.read_sql_query(\"SELECT * FROM product_type\", go_sales_connection)\n",
    "go_sales_retailer_site = pd.read_sql_query(\"SELECT * FROM retailer_site\", go_sales_connection)\n",
    "go_sales_return_reason = pd.read_sql_query(\"SELECT * FROM return_reason\", go_sales_connection)\n",
    "go_sales_returned_item = pd.read_sql_query(\"SELECT * FROM returned_item\", go_sales_connection)\n",
    "go_sales_sales_branch = pd.read_sql_query(\"SELECT * FROM sales_branch\", go_sales_connection)\n",
    "go_sales_sales_staff = pd.read_sql_query(\"SELECT * FROM sales_staff\", go_sales_connection)\n",
    "go_sales_sales_target_data = pd.read_sql(\"SELECT * FROM SALES_TARGETData\", go_sales_connection)"
   ],
   "metadata": {
    "collapsed": false,
    "ExecuteTime": {
     "end_time": "2024-03-12T15:58:11.745095Z",
     "start_time": "2024-03-12T15:58:11.490999Z"
    }
   },
   "id": "57ccae2b6fd7637c",
   "execution_count": 6
  },
  {
   "cell_type": "markdown",
   "source": [
    "### go_staff"
   ],
   "metadata": {
    "collapsed": false
   },
   "id": "169a4aba88468c64"
  },
  {
   "cell_type": "code",
   "outputs": [],
   "source": [
    "go_staff_course = pd.read_sql_query(\"SELECT * FROM course\", go_staff_connection)\n",
    "go_staff_sales_branch = pd.read_sql_query(\"SELECT * FROM sales_branch\", go_staff_connection)\n",
    "go_staff_sales_staff = pd.read_sql_query(\"SELECT * FROM sales_staff\", go_staff_connection)\n",
    "go_staff_satisfaction = pd.read_sql_query(\"SELECT * FROM satisfaction\", go_staff_connection)\n",
    "go_staff_satisfaction_type = pd.read_sql_query(\"SELECT * FROM satisfaction_type\", go_staff_connection)\n",
    "go_staff_training = pd.read_sql_query(\"SELECT * FROM training\", go_staff_connection)"
   ],
   "metadata": {
    "collapsed": false,
    "ExecuteTime": {
     "end_time": "2024-03-12T15:58:11.755952Z",
     "start_time": "2024-03-12T15:58:11.746133Z"
    }
   },
   "id": "2f2206ef6f8f73ef",
   "execution_count": 7
  },
  {
   "cell_type": "markdown",
   "source": [],
   "metadata": {
    "collapsed": false
   },
   "id": "650835d0566406ab"
  },
  {
   "cell_type": "markdown",
   "source": [
    "# Combineren van de tabellen\n",
    "Combineren van de brondata om tot ons ETL te komen\n",
    "\n",
    "| Returned_item |\n",
    "| --- |\n",
    "| RETURNED_ITEM_code |\n",
    "| RETURNED_ITEM_DATE_date |\n",
    "| RETURNED_ITEM_QUANTITY_quantity |\n",
    "| RETURNED_ITEM_ORDER_DETAIL_CODE_detail_code |\n",
    "| RETURNED_ITEM_RETURN_REASON_code |\n",
    "| RETURNED_ITEM_RETURN_REASON_desctiption_en |\n",
    "| RETURNED_ITEM_RETURNED_ITEMS_TOTAL_PRICE_total |\n",
    "\n",
    "| Unit |\n",
    "| --- |\n",
    "| UNIT_id |\n",
    "| UNIT_COST_cost |\n",
    "| UNIT_PRICE_price |\n",
    "| UNIT_SALE_sale |\n",
    "\n",
    "| Sales_staff |\n",
    "| --- |\n",
    "| SALES_STAFF__code |\n",
    "| SALES_STAFF_email |\n",
    "| SALES_STAFF_extension |\n",
    "| SALES_STAFF_POSITION_EN_position |\n",
    "| SALES_STAFF_WORK_PHONE_work_phone |\n",
    "| SALES_STAFF_DATE_HIRED_hired |\n",
    "| SALES_STAFF_MANAGER_CODE_manager |\n",
    "| SALES_STAFF_FAX_fax |\n",
    "| SALES_STAFF_FIRST_NAME_first_name |\n",
    "| SALES_STAFF_LAST_NAME_last_name |\n",
    "| SALES_STAFF_FULL_NAME__full_name |\n",
    "| SALES_STAFF_SALES_BRANCH_CODE_branch_code |\n",
    "| SALES_STAFF_SALES_BRANCH_ADDRESS_address |\n",
    "| SALES_STAFF_SALES_BRANCH_ADDRESS_EXTRA_address_extra |\n",
    "\n",
    "| Satisfaction_type |\n",
    "| --- |\n",
    "| SATISFACTION_TYPE_code |\n",
    "| SATISFACTION_TYPE_description |\n",
    "| SATISFACTION_TYPE_description_short |\n",
    "\n",
    "| Course |\n",
    "| --- |\n",
    "| COURSE_code |\n",
    "| COURSE_description |\n",
    "| COURSE_description_short |\n",
    "\n",
    "| Year |\n",
    "| --- |\n",
    "| YEAR |\n",
    "\n",
    "| Date            | \n",
    "|-----------------|\n",
    "| DATE_date       |\n",
    "| DATE_YEAR_year  |\n",
    "| DATE_MONTH_month |\n",
    "| DATE_DAY_day |\n",
    "\n",
    "| Order |\n",
    "| --- |\n",
    "| ORDER_order_number |\n",
    "| ORDER_ORDER_METHOD_CODE_method_code |\n",
    "| ORDER_ORDER_METHOD_EN_method |\n",
    "\n",
    "| Retailer_site |\n",
    "| --- |\n",
    "| RETAILER_SITE_code |\n",
    "| RETAILER_SITE_COUNTRY_CODE_country |\n",
    "| RETAILER_SITE_CITY_city |\n",
    "| RETAILER_SITE_REGION_region |\n",
    "| RETAILER_SITE_POSTAL_ZONE_postal_zone |\n",
    "| RETAILER_SITE_RETAILER_CODE_retailer_code |\n",
    "| RETAILER_SITE_ACTIVE_INDICATOR_indicator |\n",
    "| RETAILER_SITE_ADDRESS1_address |\n",
    "| RETAILER_SITE_ADDRESS2_address |\n",
    "| RETAILER_SITE_MAIN_ADDRESS__address |\n",
    "\n",
    "| Sales_branch |\n",
    "| --- |\n",
    "| SALES_BRANCH_code |\n",
    "| SALES_BRANCH_COUNTRY_CODE_country |\n",
    "| SALES_BRANCH_REGION_region |\n",
    "| SALES_BRANCH_CITY_city |\n",
    "| SALES_BRANCH_POSTAL_ZONE_postal_zone |\n",
    "| SALES_BRANCH_ADDRESS1_address |\n",
    "| SALES_BRANCH_ADDRESS2_address |\n",
    "| SALES_BRANCH_MAIN_ADDRESS_address |\n",
    "\n",
    "| Retailer_contact |\n",
    "| --- |\n",
    "| RETAILER_CONTACT_code |\n",
    "| RETAILER_CONTACT_email |\n",
    "| RETAILER_CONTACT_RETAILER_SITE_CODE_site_code |\n",
    "| RETAILER_CONTACT_JOB_POSITION_EN_position |\n",
    "| RETAILER_CONTACT_EXTENSION_extension |\n",
    "| RETAILER_CONTACT_FAX_fax |\n",
    "| RETAILER_CONTACT_GENDER_gender |\n",
    "| RETAILER_CONTACT_FIRST_NAME_first_name |\n",
    "| RETAILER_CONTACT_LAST_NAME_last_name |\n",
    "| RETAILER_CONTACT_FULL_NAME_full_name |\n",
    "\n",
    "| Retailer |\n",
    "| --- |\n",
    "| RETAILER_code |\n",
    "| RETAILER__name |\n",
    "| RETAILER_COMPANY_CODEMR_company |\n",
    "| RETAILER_RETAILER_TYPE_retailer_type_code |\n",
    "| RETAILER_RETAILER_TYPE_retailer_type_EN |\n",
    "\n",
    "| Product |\n",
    "| --- |\n",
    "| PRODUCT_number |\n",
    "| PRODUCT_name_product |\n",
    "| PRODUCT_description_description |\n",
    "| PRODUCT_image_image |\n",
    "| PRODUCT_INTRODUCTION_DATE_introduced |\n",
    "| PRODUCT_PRODUCTION_COST_cost |\n",
    "| PRODUCT_MARGIN_margin |\n",
    "| PRODUCT_LANGUAGE_language |\n",
    "| PRODUCT_MINIMUM_SALE_PRICE_minPrice |\n",
    "| PRODUCT_PRODUCT_LINE_code |\n",
    "| PRODUCT_PRODUCT_LINE_code_en |\n",
    "| PRODUCT_PRODUCT_TYPE_code |\n",
    "| PRODUCT_PRODUCT_TYPE_code_en |\n",
    "\n",
    "| Order_details |\n",
    "| --- |\n",
    "| ORDER_DETAILS_code |\n",
    "| ORDER_DETAILS_QUANTITY_quantity |\n",
    "| ORDER_DETAILS_TOTAL_COST_total |\n",
    "| ORDER_DETAILS_TOTAL_MARGIN_margin |\n",
    "| ORDER_DETAILS_RETURN_CODE_returned |\n",
    "| ORDER_DETAILS_ORDER_NUMBER_order |\n",
    "| ORDER_DETAILS_PRODUCT_NUMBER_product |\n",
    "| ORDER_DETAILS_UNIT_ID_unit |\n",
    "\n",
    "| SALES_TARGETData |\n",
    "| --- |\n",
    "| SALES_TARGETDATA_id |\n",
    "| SALES_TARGETDATA_SALES_YEAR |\n",
    "| SALES_TARGETDATA_SALES_PERIOD |\n",
    "| SALES_TARGETDATA_RETAILER_NAME |\n",
    "| SALES_TARGETDATA_SALES_TARGET |\n",
    "| SALES_TARGETDATA_TARGET_COST |\n",
    "| SALES_TARGETDATA_TARGET_MARGIN |\n",
    "| SALES_TARGETDATA_SALES_STAFF_CODE |\n",
    "| SALES_TARGETDATA_PRODUCT_NUMBER |\n",
    "| SALES_TARGETDATA_RETAILER_CODE |\n",
    "\n",
    "| Training |\n",
    "| --- |\n",
    "| TRAINING_SALES_STAFF_CODE |\n",
    "| TRAINING_COURSE_CODE |\n",
    "| TRAINING_YEAR |\n",
    "\n",
    "| Satisfaction |\n",
    "| --- |\n",
    "| SATISFACTION_SALES_STAFF_CODE |\n",
    "| SATISFACTION_SATISFACTION_TYPE_CODE |\n",
    "| SATISFACTION_YEAR |\n",
    "\n",
    "| Order_header |\n",
    "| --- |\n",
    "| ORDER_HEADER_number |\n",
    "| ORDER_HEADER_RETAILER_NAME |\n",
    "| ORDER_HEADER_SALES_STAFF |\n",
    "| ORDER_HEADER_SALES_BRANCH_CODE |\n",
    "| ORDER_HEADER_ORDER_DATE |\n",
    "| ORDER_HEADER_RETAILER_SITE_CODE |\n",
    "| ORDER_HEADER_RETAILER_CONTACT_CODE |\n",
    "\n",
    "| GO_SALES_INVENTORY_LEVELS |\n",
    "| --- |\n",
    "| GO_SALES_INVENTORY_LEVELS_id |\n",
    "| GO_SALES_INVENTORY_LEVELS_INVENTORY_COUNT |\n",
    "| GO_SALES_INVENTORY_LEVELS_PRODUCT_NUMBER |\n",
    "| GO_SALES_INVENTORY_LEVELS_YEAR_MONTH |\n",
    "\n",
    "| GO_SALES_PRODUCT_FORECAST |\n",
    "| --- |\n",
    "| GO_SALES_PRODUCT_FORECAST_id |\n",
    "| GO_SALES_PRODUCT_FORECAST_EXPECTED_VOLUME |\n",
    "| GO_SALES_PRODUCT_FORECAST_EXPECTED_COST |\n",
    "| GO_SALES_PRODUCT_FORECAST_EXPECTED_MARGIN |\n",
    "| GO_SALES_PRODUCT_FORECAST_PRODUCT_NUMBER |\n",
    "| GO_SALES_PRODUCT_FORECAST_YEAR_MONTH |"
   ],
   "metadata": {
    "collapsed": false
   },
   "id": "9519bb1f61aa945f"
  },
  {
   "cell_type": "markdown",
   "source": [
    "### returned_item"
   ],
   "metadata": {
    "collapsed": false
   },
   "id": "e50f788702cce510"
  },
  {
   "cell_type": "code",
   "outputs": [
    {
     "data": {
      "text/plain": "  RETURNED_ITEM_code RETURNED_ITEM_DATE_date RETURNED_ITEM_QUANTITY_quantity  \\\n0               1491       1-8-2021 04:10:24                               8   \n1               1492      6-12-2020 18:46:19                               2   \n2               1493      24-6-2021 09:23:14                              22   \n3               1494      21-7-2021 00:00:09                              20   \n4               1496      7-10-2020 05:13:58                               2   \n\n  RETURNED_ITEM_ORDER_DETAIL_CODE_detail_code  \\\n0                                       84858   \n1                                       84440   \n2                                       84867   \n3                                       84873   \n4                                       84488   \n\n  RETURNED_ITEM_RETURN_REASON_code RETURNED_ITEM_RETURN_REASON_desctiption_en  \n0                                5                     Unsatisfactory product  \n1                                2                         Incomplete product  \n2                                4                      Wrong product shipped  \n3                                3                      Wrong product ordered  \n4                                1                          Defective product  ",
      "text/html": "<div>\n<style scoped>\n    .dataframe tbody tr th:only-of-type {\n        vertical-align: middle;\n    }\n\n    .dataframe tbody tr th {\n        vertical-align: top;\n    }\n\n    .dataframe thead th {\n        text-align: right;\n    }\n</style>\n<table border=\"1\" class=\"dataframe\">\n  <thead>\n    <tr style=\"text-align: right;\">\n      <th></th>\n      <th>RETURNED_ITEM_code</th>\n      <th>RETURNED_ITEM_DATE_date</th>\n      <th>RETURNED_ITEM_QUANTITY_quantity</th>\n      <th>RETURNED_ITEM_ORDER_DETAIL_CODE_detail_code</th>\n      <th>RETURNED_ITEM_RETURN_REASON_code</th>\n      <th>RETURNED_ITEM_RETURN_REASON_desctiption_en</th>\n    </tr>\n  </thead>\n  <tbody>\n    <tr>\n      <th>0</th>\n      <td>1491</td>\n      <td>1-8-2021 04:10:24</td>\n      <td>8</td>\n      <td>84858</td>\n      <td>5</td>\n      <td>Unsatisfactory product</td>\n    </tr>\n    <tr>\n      <th>1</th>\n      <td>1492</td>\n      <td>6-12-2020 18:46:19</td>\n      <td>2</td>\n      <td>84440</td>\n      <td>2</td>\n      <td>Incomplete product</td>\n    </tr>\n    <tr>\n      <th>2</th>\n      <td>1493</td>\n      <td>24-6-2021 09:23:14</td>\n      <td>22</td>\n      <td>84867</td>\n      <td>4</td>\n      <td>Wrong product shipped</td>\n    </tr>\n    <tr>\n      <th>3</th>\n      <td>1494</td>\n      <td>21-7-2021 00:00:09</td>\n      <td>20</td>\n      <td>84873</td>\n      <td>3</td>\n      <td>Wrong product ordered</td>\n    </tr>\n    <tr>\n      <th>4</th>\n      <td>1496</td>\n      <td>7-10-2020 05:13:58</td>\n      <td>2</td>\n      <td>84488</td>\n      <td>1</td>\n      <td>Defective product</td>\n    </tr>\n  </tbody>\n</table>\n</div>"
     },
     "execution_count": 8,
     "metadata": {},
     "output_type": "execute_result"
    }
   ],
   "source": [
    "# to be used in order details\n",
    "returned_item_columns = ['RETURN_CODE', 'RETURN_DATE', 'RETURN_QUANTITY', 'ORDER_DETAIL_CODE', 'RETURN_REASON_CODE', 'RETURN_DESCRIPTION_EN']\n",
    "returned_item = pd.merge(go_sales_returned_item, go_sales_return_reason, left_on='RETURN_REASON_CODE', right_on='RETURN_REASON_CODE')\n",
    "returned_item = pd.merge(returned_item, go_sales_order_details, left_on='ORDER_DETAIL_CODE', right_on='ORDER_DETAIL_CODE')\n",
    "\n",
    "# filtering the columns\n",
    "returned_item = returned_item[returned_item_columns]\n",
    "\n",
    "# renaming the columns\n",
    "returned_item = returned_item.rename(columns={'RETURN_CODE': 'RETURNED_ITEM_code', 'RETURN_DATE': 'RETURNED_ITEM_DATE_date', 'RETURN_QUANTITY': 'RETURNED_ITEM_QUANTITY_quantity', 'ORDER_DETAIL_CODE': 'RETURNED_ITEM_ORDER_DETAIL_CODE_detail_code', 'RETURN_REASON_CODE': 'RETURNED_ITEM_RETURN_REASON_code', 'RETURN_DESCRIPTION_EN': 'RETURNED_ITEM_RETURN_REASON_desctiption_en'})\n",
    "\n",
    "returned_item.head()"
   ],
   "metadata": {
    "collapsed": false,
    "ExecuteTime": {
     "end_time": "2024-03-12T15:58:11.788905Z",
     "start_time": "2024-03-12T15:58:11.756999Z"
    }
   },
   "id": "5ef006f254269ef",
   "execution_count": 8
  },
  {
   "cell_type": "markdown",
   "source": [
    "### Unit"
   ],
   "metadata": {
    "collapsed": false
   },
   "id": "1dff53c750360829"
  },
  {
   "cell_type": "code",
   "outputs": [
    {
     "data": {
      "text/plain": "        UNIT_COST_cost UNIT_PRICE_price UNIT_SALE_sale\nUNIT_ID                                               \n1                 16.1            22.54          22.54\n2                 16.1            22.54          22.54\n3                 16.1            22.54          22.54\n4                 16.1            22.54          22.54\n5                 16.1            22.54          22.54",
      "text/html": "<div>\n<style scoped>\n    .dataframe tbody tr th:only-of-type {\n        vertical-align: middle;\n    }\n\n    .dataframe tbody tr th {\n        vertical-align: top;\n    }\n\n    .dataframe thead th {\n        text-align: right;\n    }\n</style>\n<table border=\"1\" class=\"dataframe\">\n  <thead>\n    <tr style=\"text-align: right;\">\n      <th></th>\n      <th>UNIT_COST_cost</th>\n      <th>UNIT_PRICE_price</th>\n      <th>UNIT_SALE_sale</th>\n    </tr>\n    <tr>\n      <th>UNIT_ID</th>\n      <th></th>\n      <th></th>\n      <th></th>\n    </tr>\n  </thead>\n  <tbody>\n    <tr>\n      <th>1</th>\n      <td>16.1</td>\n      <td>22.54</td>\n      <td>22.54</td>\n    </tr>\n    <tr>\n      <th>2</th>\n      <td>16.1</td>\n      <td>22.54</td>\n      <td>22.54</td>\n    </tr>\n    <tr>\n      <th>3</th>\n      <td>16.1</td>\n      <td>22.54</td>\n      <td>22.54</td>\n    </tr>\n    <tr>\n      <th>4</th>\n      <td>16.1</td>\n      <td>22.54</td>\n      <td>22.54</td>\n    </tr>\n    <tr>\n      <th>5</th>\n      <td>16.1</td>\n      <td>22.54</td>\n      <td>22.54</td>\n    </tr>\n  </tbody>\n</table>\n</div>"
     },
     "execution_count": 9,
     "metadata": {},
     "output_type": "execute_result"
    }
   ],
   "source": [
    "unit_columns = ['UNIT_COST', 'UNIT_PRICE', 'UNIT_SALE_PRICE']\n",
    "unit = go_sales_order_details\n",
    "# make unit_id the primary key, autoincrement\n",
    "unit['UNIT_ID'] = range(1, len(unit) + 1)\n",
    "unit = unit.set_index('UNIT_ID')\n",
    "\n",
    "# filtering the columns\n",
    "unit = unit[unit_columns]\n",
    "\n",
    "# renaming the columns\n",
    "unit = unit.rename(columns={'UNIT_COST': 'UNIT_COST_cost', 'UNIT_PRICE': 'UNIT_PRICE_price', 'UNIT_SALE_PRICE': 'UNIT_SALE_sale'})\n",
    "\n",
    "unit.head()"
   ],
   "metadata": {
    "collapsed": false,
    "ExecuteTime": {
     "end_time": "2024-03-12T15:58:11.808254Z",
     "start_time": "2024-03-12T15:58:11.789922Z"
    }
   },
   "id": "39396863b4c33a84",
   "execution_count": 9
  },
  {
   "cell_type": "markdown",
   "source": [
    "### Sales_staff"
   ],
   "metadata": {
    "collapsed": false
   },
   "id": "8527a5738e28b03"
  },
  {
   "cell_type": "code",
   "outputs": [
    {
     "data": {
      "text/plain": "  SALES_STAFF_code        SALES_STAFF_email SALES_STAFF_extension  \\\n0              100  TSavolainen@grtd123.com                   825   \n1              101         CKim@grtd123.com                  1228   \n2              102        JChoi@grtd123.com                  2641   \n3              103        KKwao@grtd123.com                  1541   \n4              104         CFon@grtd123.com                  2311   \n\n  SALES_STAFF_POSITION_EN_position SALES_STAFF_WORK_PHONE_work_phone  \\\n0     Level 2 Sales Representative               +358(0)17 - 433 127   \n1     Level 2 Sales Representative                     82-2-778-6587   \n2     Level 3 Sales Representative                     82-2-778-6587   \n3     Level 2 Sales Representative                   886-2-2975-1988   \n4     Level 3 Sales Representative                   886-2-2975-1988   \n\n  SALES_STAFF_DATE_HIRED_hired SALES_STAFF_MANAGER_CODE_manager  \\\n0      23-Jul-1998 12:00:00 AM                               18   \n1      15-Dec-1998 12:00:00 AM                               87   \n2      27-Nov-1998 12:00:00 AM                               87   \n3      07-Oct-1998 12:00:00 AM                               87   \n4      08-May-1996 12:00:00 AM                               87   \n\n   SALES_STAFF_FAX_fax SALES_STAFF_FIRST_NAME_first_name  \\\n0  +358(0)17 - 433 129                            Tuomas   \n1        82-2-778-6586                          Chang-ho   \n2        82-2-778-6586                           Jung-ho   \n3      886-2-2989-4978                         Kwei-Ping   \n4      886-2-2989-4978                         Chin-Tsai   \n\n  SALES_STAFF_LAST_NAME_last_name SALES_STAFF_SALES_BRANCH_ADDRESS_address  \\\n0                      Savolainen                            Kauppakatu 33   \n1                             Kim                    234-12, Kongdeok-Dong   \n2                            Choi                    234-12, Kongdeok-Dong   \n3                             Kao             154, Choung-Cheng South Road   \n4                            Fang             154, Choung-Cheng South Road   \n\n  SALES_STAFF_SALES_BRANCH_ADDRESS_EXTRA_address_extra  \\\n0                                               None     \n1                                            Mapo-Ku     \n2                                            Mapo-Ku     \n3                                               None     \n4                                               None     \n\n  SALES_STAFF_SALES_BRANCH_CODE_branch_code  \n0                                        31  \n1                                        32  \n2                                        32  \n3                                        33  \n4                                        33  ",
      "text/html": "<div>\n<style scoped>\n    .dataframe tbody tr th:only-of-type {\n        vertical-align: middle;\n    }\n\n    .dataframe tbody tr th {\n        vertical-align: top;\n    }\n\n    .dataframe thead th {\n        text-align: right;\n    }\n</style>\n<table border=\"1\" class=\"dataframe\">\n  <thead>\n    <tr style=\"text-align: right;\">\n      <th></th>\n      <th>SALES_STAFF_code</th>\n      <th>SALES_STAFF_email</th>\n      <th>SALES_STAFF_extension</th>\n      <th>SALES_STAFF_POSITION_EN_position</th>\n      <th>SALES_STAFF_WORK_PHONE_work_phone</th>\n      <th>SALES_STAFF_DATE_HIRED_hired</th>\n      <th>SALES_STAFF_MANAGER_CODE_manager</th>\n      <th>SALES_STAFF_FAX_fax</th>\n      <th>SALES_STAFF_FIRST_NAME_first_name</th>\n      <th>SALES_STAFF_LAST_NAME_last_name</th>\n      <th>SALES_STAFF_SALES_BRANCH_ADDRESS_address</th>\n      <th>SALES_STAFF_SALES_BRANCH_ADDRESS_EXTRA_address_extra</th>\n      <th>SALES_STAFF_SALES_BRANCH_CODE_branch_code</th>\n    </tr>\n  </thead>\n  <tbody>\n    <tr>\n      <th>0</th>\n      <td>100</td>\n      <td>TSavolainen@grtd123.com</td>\n      <td>825</td>\n      <td>Level 2 Sales Representative</td>\n      <td>+358(0)17 - 433 127</td>\n      <td>23-Jul-1998 12:00:00 AM</td>\n      <td>18</td>\n      <td>+358(0)17 - 433 129</td>\n      <td>Tuomas</td>\n      <td>Savolainen</td>\n      <td>Kauppakatu 33</td>\n      <td>None</td>\n      <td>31</td>\n    </tr>\n    <tr>\n      <th>1</th>\n      <td>101</td>\n      <td>CKim@grtd123.com</td>\n      <td>1228</td>\n      <td>Level 2 Sales Representative</td>\n      <td>82-2-778-6587</td>\n      <td>15-Dec-1998 12:00:00 AM</td>\n      <td>87</td>\n      <td>82-2-778-6586</td>\n      <td>Chang-ho</td>\n      <td>Kim</td>\n      <td>234-12, Kongdeok-Dong</td>\n      <td>Mapo-Ku</td>\n      <td>32</td>\n    </tr>\n    <tr>\n      <th>2</th>\n      <td>102</td>\n      <td>JChoi@grtd123.com</td>\n      <td>2641</td>\n      <td>Level 3 Sales Representative</td>\n      <td>82-2-778-6587</td>\n      <td>27-Nov-1998 12:00:00 AM</td>\n      <td>87</td>\n      <td>82-2-778-6586</td>\n      <td>Jung-ho</td>\n      <td>Choi</td>\n      <td>234-12, Kongdeok-Dong</td>\n      <td>Mapo-Ku</td>\n      <td>32</td>\n    </tr>\n    <tr>\n      <th>3</th>\n      <td>103</td>\n      <td>KKwao@grtd123.com</td>\n      <td>1541</td>\n      <td>Level 2 Sales Representative</td>\n      <td>886-2-2975-1988</td>\n      <td>07-Oct-1998 12:00:00 AM</td>\n      <td>87</td>\n      <td>886-2-2989-4978</td>\n      <td>Kwei-Ping</td>\n      <td>Kao</td>\n      <td>154, Choung-Cheng South Road</td>\n      <td>None</td>\n      <td>33</td>\n    </tr>\n    <tr>\n      <th>4</th>\n      <td>104</td>\n      <td>CFon@grtd123.com</td>\n      <td>2311</td>\n      <td>Level 3 Sales Representative</td>\n      <td>886-2-2975-1988</td>\n      <td>08-May-1996 12:00:00 AM</td>\n      <td>87</td>\n      <td>886-2-2989-4978</td>\n      <td>Chin-Tsai</td>\n      <td>Fang</td>\n      <td>154, Choung-Cheng South Road</td>\n      <td>None</td>\n      <td>33</td>\n    </tr>\n  </tbody>\n</table>\n</div>"
     },
     "execution_count": 10,
     "metadata": {},
     "output_type": "execute_result"
    }
   ],
   "source": [
    "sales_staff_columns = ['SALES_STAFF_CODE', 'EMAIL', 'EXTENSION', 'POSITION_EN', 'WORK_PHONE', 'DATE_HIRED', 'MANAGER_CODE', 'FAX', 'FIRST_NAME', 'LAST_NAME',  'ADDRESS1', 'ADDRESS2', 'SALES_BRANCH_CODE']\n",
    "\n",
    "sales_staff = pd.merge(go_staff_sales_staff, go_staff_sales_branch, left_on='SALES_BRANCH_CODE', right_on='SALES_BRANCH_CODE')\n",
    "\n",
    "# filtering the columns\n",
    "sales_staff = sales_staff[sales_staff_columns]\n",
    "\n",
    "# renaming the columns\n",
    "sales_staff = sales_staff.rename(columns={'SALES_STAFF_CODE': 'SALES_STAFF_code', 'EMAIL': 'SALES_STAFF_email', 'EXTENSION': 'SALES_STAFF_extension', 'POSITION_EN': 'SALES_STAFF_POSITION_EN_position', 'WORK_PHONE': 'SALES_STAFF_WORK_PHONE_work_phone', 'DATE_HIRED': 'SALES_STAFF_DATE_HIRED_hired', 'MANAGER_CODE': 'SALES_STAFF_MANAGER_CODE_manager', 'FAX': 'SALES_STAFF_FAX_fax', 'FIRST_NAME': 'SALES_STAFF_FIRST_NAME_first_name', 'LAST_NAME': 'SALES_STAFF_LAST_NAME_last_name', 'ADDRESS1': 'SALES_STAFF_SALES_BRANCH_ADDRESS_address', 'ADDRESS2': 'SALES_STAFF_SALES_BRANCH_ADDRESS_EXTRA_address_extra', 'SALES_BRANCH_CODE' : 'SALES_STAFF_SALES_BRANCH_CODE_branch_code'})\n",
    "\n",
    "sales_staff.head()"
   ],
   "metadata": {
    "collapsed": false,
    "ExecuteTime": {
     "end_time": "2024-03-12T15:58:11.823748Z",
     "start_time": "2024-03-12T15:58:11.810270Z"
    }
   },
   "id": "a2a698c093a007aa",
   "execution_count": 10
  },
  {
   "cell_type": "markdown",
   "source": [
    "### Satisfaction_type"
   ],
   "metadata": {
    "collapsed": false
   },
   "id": "b8305c040ff09ac7"
  },
  {
   "cell_type": "code",
   "outputs": [
    {
     "data": {
      "text/plain": "  SATISFACTION_TYPE_code SATISFACTION_TYPE_DESCRIPTION\n0                      1                 Not satisfied\n1                      2           Less than satisfied\n2                      3                     Satisfied\n3                      4                Very Satisfied\n4                      5           More than satisfied",
      "text/html": "<div>\n<style scoped>\n    .dataframe tbody tr th:only-of-type {\n        vertical-align: middle;\n    }\n\n    .dataframe tbody tr th {\n        vertical-align: top;\n    }\n\n    .dataframe thead th {\n        text-align: right;\n    }\n</style>\n<table border=\"1\" class=\"dataframe\">\n  <thead>\n    <tr style=\"text-align: right;\">\n      <th></th>\n      <th>SATISFACTION_TYPE_code</th>\n      <th>SATISFACTION_TYPE_DESCRIPTION</th>\n    </tr>\n  </thead>\n  <tbody>\n    <tr>\n      <th>0</th>\n      <td>1</td>\n      <td>Not satisfied</td>\n    </tr>\n    <tr>\n      <th>1</th>\n      <td>2</td>\n      <td>Less than satisfied</td>\n    </tr>\n    <tr>\n      <th>2</th>\n      <td>3</td>\n      <td>Satisfied</td>\n    </tr>\n    <tr>\n      <th>3</th>\n      <td>4</td>\n      <td>Very Satisfied</td>\n    </tr>\n    <tr>\n      <th>4</th>\n      <td>5</td>\n      <td>More than satisfied</td>\n    </tr>\n  </tbody>\n</table>\n</div>"
     },
     "execution_count": 11,
     "metadata": {},
     "output_type": "execute_result"
    }
   ],
   "source": [
    "satisfaction_type = go_staff_satisfaction_type\n",
    "\n",
    "#dropping trial633 column\n",
    "satisfaction_type = satisfaction_type.drop(columns=['TRIAL633'])\n",
    "\n",
    "# rename the columns\n",
    "satisfaction_type = satisfaction_type.rename(columns={'SATISFACTION_TYPE_CODE': 'SATISFACTION_TYPE_code', 'DESCRIPTION': 'SATISFACTION_TYPE_description'})\n",
    "\n",
    "satisfaction_type.head()"
   ],
   "metadata": {
    "collapsed": false,
    "ExecuteTime": {
     "end_time": "2024-03-12T15:58:11.831811Z",
     "start_time": "2024-03-12T15:58:11.824760Z"
    }
   },
   "id": "b8cd201811c4486a",
   "execution_count": 11
  },
  {
   "cell_type": "markdown",
   "source": [
    "### Course"
   ],
   "metadata": {
    "collapsed": false
   },
   "id": "8b30a420eb8b3f9c"
  },
  {
   "cell_type": "code",
   "outputs": [
    {
     "data": {
      "text/plain": "  COURSE_code COURSE_DESCRIPTION\n0           1     GO Orientation\n1           2   GO Communication\n2           3         GO Sales 1\n3           4         GO Sales 2\n4           5     GO Marketing 1",
      "text/html": "<div>\n<style scoped>\n    .dataframe tbody tr th:only-of-type {\n        vertical-align: middle;\n    }\n\n    .dataframe tbody tr th {\n        vertical-align: top;\n    }\n\n    .dataframe thead th {\n        text-align: right;\n    }\n</style>\n<table border=\"1\" class=\"dataframe\">\n  <thead>\n    <tr style=\"text-align: right;\">\n      <th></th>\n      <th>COURSE_code</th>\n      <th>COURSE_DESCRIPTION</th>\n    </tr>\n  </thead>\n  <tbody>\n    <tr>\n      <th>0</th>\n      <td>1</td>\n      <td>GO Orientation</td>\n    </tr>\n    <tr>\n      <th>1</th>\n      <td>2</td>\n      <td>GO Communication</td>\n    </tr>\n    <tr>\n      <th>2</th>\n      <td>3</td>\n      <td>GO Sales 1</td>\n    </tr>\n    <tr>\n      <th>3</th>\n      <td>4</td>\n      <td>GO Sales 2</td>\n    </tr>\n    <tr>\n      <th>4</th>\n      <td>5</td>\n      <td>GO Marketing 1</td>\n    </tr>\n  </tbody>\n</table>\n</div>"
     },
     "execution_count": 12,
     "metadata": {},
     "output_type": "execute_result"
    }
   ],
   "source": [
    "course = go_staff_course\n",
    "\n",
    "# dropping the trial633 column\n",
    "course = course.drop(columns=['TRIAL633'])\n",
    "\n",
    "# rename the columns\n",
    "course = course.rename(columns={'COURSE_CODE': 'COURSE_code', 'DESCRIPTION': 'COURSE_description'})\n",
    "\n",
    "course.head()"
   ],
   "metadata": {
    "collapsed": false,
    "ExecuteTime": {
     "end_time": "2024-03-12T15:58:11.841936Z",
     "start_time": "2024-03-12T15:58:11.832828Z"
    }
   },
   "id": "9a9a6afb42d95ce5",
   "execution_count": 12
  },
  {
   "cell_type": "markdown",
   "source": [
    "### Year"
   ],
   "metadata": {
    "collapsed": false
   },
   "id": "de6db3d986555551"
  },
  {
   "cell_type": "code",
   "outputs": [
    {
     "data": {
      "text/plain": "Empty DataFrame\nColumns: []\nIndex: [1990, 1991, 1992, 1993, 1994]",
      "text/html": "<div>\n<style scoped>\n    .dataframe tbody tr th:only-of-type {\n        vertical-align: middle;\n    }\n\n    .dataframe tbody tr th {\n        vertical-align: top;\n    }\n\n    .dataframe thead th {\n        text-align: right;\n    }\n</style>\n<table border=\"1\" class=\"dataframe\">\n  <thead>\n    <tr style=\"text-align: right;\">\n      <th></th>\n    </tr>\n    <tr>\n      <th>YEAR</th>\n    </tr>\n  </thead>\n  <tbody>\n    <tr>\n      <th>1990</th>\n    </tr>\n    <tr>\n      <th>1991</th>\n    </tr>\n    <tr>\n      <th>1992</th>\n    </tr>\n    <tr>\n      <th>1993</th>\n    </tr>\n    <tr>\n      <th>1994</th>\n    </tr>\n  </tbody>\n</table>\n</div>"
     },
     "execution_count": 13,
     "metadata": {},
     "output_type": "execute_result"
    }
   ],
   "source": [
    "# to be used in training and satisfaction\n",
    "# making year dataframe with year as the primary key\n",
    "year = pd.DataFrame({'YEAR': pd.date_range(start='1/1/1990', end='1/1/2200').year})\n",
    "\n",
    "# adding all the years from the satisfaction and training data.\n",
    "year = pd.concat([year, pd.DataFrame({'YEAR': go_staff_training['YEAR']})])\n",
    "year = pd.concat([year, pd.DataFrame({'YEAR': go_staff_satisfaction['YEAR']})])\n",
    "\n",
    "# drop duplicates\n",
    "year = year.drop_duplicates()\n",
    "\n",
    "# setting the index\n",
    "year = year.set_index('YEAR')\n",
    "\n",
    "year.head()"
   ],
   "metadata": {
    "collapsed": false,
    "ExecuteTime": {
     "end_time": "2024-03-12T15:58:11.861227Z",
     "start_time": "2024-03-12T15:58:11.842956Z"
    }
   },
   "id": "c116ecb70b6f2ec7",
   "execution_count": 13
  },
  {
   "cell_type": "markdown",
   "source": [
    "### Date"
   ],
   "metadata": {
    "collapsed": false
   },
   "id": "ce00e33771b2020c"
  },
  {
   "cell_type": "code",
   "outputs": [
    {
     "data": {
      "text/plain": "Empty DataFrame\nColumns: []\nIndex: [1990-01-01 00:00:00, 1990-01-02 00:00:00, 1990-01-03 00:00:00, 1990-01-04 00:00:00, 1990-01-05 00:00:00]",
      "text/html": "<div>\n<style scoped>\n    .dataframe tbody tr th:only-of-type {\n        vertical-align: middle;\n    }\n\n    .dataframe tbody tr th {\n        vertical-align: top;\n    }\n\n    .dataframe thead th {\n        text-align: right;\n    }\n</style>\n<table border=\"1\" class=\"dataframe\">\n  <thead>\n    <tr style=\"text-align: right;\">\n      <th></th>\n    </tr>\n    <tr>\n      <th>DATE_date</th>\n    </tr>\n  </thead>\n  <tbody>\n    <tr>\n      <th>1990-01-01</th>\n    </tr>\n    <tr>\n      <th>1990-01-02</th>\n    </tr>\n    <tr>\n      <th>1990-01-03</th>\n    </tr>\n    <tr>\n      <th>1990-01-04</th>\n    </tr>\n    <tr>\n      <th>1990-01-05</th>\n    </tr>\n  </tbody>\n</table>\n</div>"
     },
     "execution_count": 14,
     "metadata": {},
     "output_type": "execute_result"
    }
   ],
   "source": [
    "# to be used in order header\n",
    "date = pd.DataFrame({'DATE_date': pd.date_range(start='1/1/1990', end='1/1/2200')})\n",
    "\n",
    "# adding all the years from the order header data\n",
    "date = pd.concat([date, pd.DataFrame({'DATE_date': go_sales_order_header['ORDER_DATE']})])\n",
    "\n",
    "# drop duplicates\n",
    "date = date.drop_duplicates()\n",
    "\n",
    "# setting the index\n",
    "date['DATE_date'] = pd.to_datetime(date['DATE_date']) # convert to datetime\n",
    "date = date.set_index('DATE_date')\n",
    "\n",
    "date.head()"
   ],
   "metadata": {
    "collapsed": false,
    "ExecuteTime": {
     "end_time": "2024-03-12T15:58:11.938791Z",
     "start_time": "2024-03-12T15:58:11.862241Z"
    }
   },
   "id": "69d3a65350544b07",
   "execution_count": 14
  },
  {
   "cell_type": "markdown",
   "source": [
    "### Order"
   ],
   "metadata": {
    "collapsed": false
   },
   "id": "2bc3e5abc438a754"
  },
  {
   "cell_type": "code",
   "outputs": [
    {
     "data": {
      "text/plain": "                   ORDER_ORDER_METHOD_CODE_method_code  \\\nORDER_order_number                                       \n1                                                    1   \n2                                                    2   \n3                                                    3   \n4                                                    4   \n5                                                    5   \n\n                   ORDER_ORDER_METHOD_EN_method  \nORDER_order_number                               \n1                                           Fax  \n2                                     Telephone  \n3                                          Mail  \n4                                        E-mail  \n5                                           Web  ",
      "text/html": "<div>\n<style scoped>\n    .dataframe tbody tr th:only-of-type {\n        vertical-align: middle;\n    }\n\n    .dataframe tbody tr th {\n        vertical-align: top;\n    }\n\n    .dataframe thead th {\n        text-align: right;\n    }\n</style>\n<table border=\"1\" class=\"dataframe\">\n  <thead>\n    <tr style=\"text-align: right;\">\n      <th></th>\n      <th>ORDER_ORDER_METHOD_CODE_method_code</th>\n      <th>ORDER_ORDER_METHOD_EN_method</th>\n    </tr>\n    <tr>\n      <th>ORDER_order_number</th>\n      <th></th>\n      <th></th>\n    </tr>\n  </thead>\n  <tbody>\n    <tr>\n      <th>1</th>\n      <td>1</td>\n      <td>Fax</td>\n    </tr>\n    <tr>\n      <th>2</th>\n      <td>2</td>\n      <td>Telephone</td>\n    </tr>\n    <tr>\n      <th>3</th>\n      <td>3</td>\n      <td>Mail</td>\n    </tr>\n    <tr>\n      <th>4</th>\n      <td>4</td>\n      <td>E-mail</td>\n    </tr>\n    <tr>\n      <th>5</th>\n      <td>5</td>\n      <td>Web</td>\n    </tr>\n  </tbody>\n</table>\n</div>"
     },
     "execution_count": 15,
     "metadata": {},
     "output_type": "execute_result"
    }
   ],
   "source": [
    "# to be used in order header\n",
    "# making order dataframe with order_number as the primary key \n",
    "order = pd.DataFrame({'ORDER_order_number': range(1, len(go_sales_order_method) + 1)})\n",
    "order['ORDER_ORDER_METHOD_CODE_method_code'] = go_sales_order_method['ORDER_METHOD_CODE']\n",
    "order['ORDER_ORDER_METHOD_EN_method'] = go_sales_order_method['ORDER_METHOD_EN']\n",
    "\n",
    "order = order.set_index('ORDER_order_number')\n",
    "\n",
    "order.head()"
   ],
   "metadata": {
    "collapsed": false,
    "ExecuteTime": {
     "end_time": "2024-03-12T15:58:11.949196Z",
     "start_time": "2024-03-12T15:58:11.939936Z"
    }
   },
   "id": "8886223a9425e744",
   "execution_count": 15
  },
  {
   "cell_type": "markdown",
   "source": [
    "### Retailer_site"
   ],
   "metadata": {
    "collapsed": false
   },
   "id": "3781ed63e51a8050"
  },
  {
   "cell_type": "code",
   "outputs": [
    {
     "data": {
      "text/plain": "  RETAILER_SITE_code RETAILER_SITE_RETAILER_CODE_retailer_code  \\\n0                  1                                        89   \n1                 10                                        92   \n2                100                                        95   \n3                101                                        95   \n4                102                                       108   \n\n     RETAILER_SITE_ADDRESS1_address RETAILER_SITE_ADDRESS2_address  \\\n0                1117 Franklin Blvd                           None   \n1  Suite 1500, 802 Docklands Street                           None   \n2                    4830 Princeton                         Unit 2   \n3                  6630 Burnet Road                           None   \n4              2189 Louisville Road                           None   \n\n  RETAILER_SITE_CITY_city RETAILER_SITE_REGION_region  \\\n0                Winnipeg                    Manitoba   \n1               Vancouver            British Columbia   \n2             Albuquerque                  New Mexico   \n3                  Austin                       Texas   \n4            Independence                    Kentucky   \n\n  RETAILER_SITE_POSTAL_ZONE_postal_zone RETAILER_SITE_COUNTRY_CODE_country  \\\n0                               R2C 0M5                                  4   \n1                               V6E 3Z3                                  4   \n2                                 87186                                  3   \n3                                 78769                                  3   \n4                                 41051                                  3   \n\n  RETAILER_SITE_ACTIVE_INDICATOR_indicator  \n0                                        1  \n1                                        1  \n2                                        1  \n3                                        1  \n4                                        0  ",
      "text/html": "<div>\n<style scoped>\n    .dataframe tbody tr th:only-of-type {\n        vertical-align: middle;\n    }\n\n    .dataframe tbody tr th {\n        vertical-align: top;\n    }\n\n    .dataframe thead th {\n        text-align: right;\n    }\n</style>\n<table border=\"1\" class=\"dataframe\">\n  <thead>\n    <tr style=\"text-align: right;\">\n      <th></th>\n      <th>RETAILER_SITE_code</th>\n      <th>RETAILER_SITE_RETAILER_CODE_retailer_code</th>\n      <th>RETAILER_SITE_ADDRESS1_address</th>\n      <th>RETAILER_SITE_ADDRESS2_address</th>\n      <th>RETAILER_SITE_CITY_city</th>\n      <th>RETAILER_SITE_REGION_region</th>\n      <th>RETAILER_SITE_POSTAL_ZONE_postal_zone</th>\n      <th>RETAILER_SITE_COUNTRY_CODE_country</th>\n      <th>RETAILER_SITE_ACTIVE_INDICATOR_indicator</th>\n    </tr>\n  </thead>\n  <tbody>\n    <tr>\n      <th>0</th>\n      <td>1</td>\n      <td>89</td>\n      <td>1117 Franklin Blvd</td>\n      <td>None</td>\n      <td>Winnipeg</td>\n      <td>Manitoba</td>\n      <td>R2C 0M5</td>\n      <td>4</td>\n      <td>1</td>\n    </tr>\n    <tr>\n      <th>1</th>\n      <td>10</td>\n      <td>92</td>\n      <td>Suite 1500, 802 Docklands Street</td>\n      <td>None</td>\n      <td>Vancouver</td>\n      <td>British Columbia</td>\n      <td>V6E 3Z3</td>\n      <td>4</td>\n      <td>1</td>\n    </tr>\n    <tr>\n      <th>2</th>\n      <td>100</td>\n      <td>95</td>\n      <td>4830 Princeton</td>\n      <td>Unit 2</td>\n      <td>Albuquerque</td>\n      <td>New Mexico</td>\n      <td>87186</td>\n      <td>3</td>\n      <td>1</td>\n    </tr>\n    <tr>\n      <th>3</th>\n      <td>101</td>\n      <td>95</td>\n      <td>6630 Burnet Road</td>\n      <td>None</td>\n      <td>Austin</td>\n      <td>Texas</td>\n      <td>78769</td>\n      <td>3</td>\n      <td>1</td>\n    </tr>\n    <tr>\n      <th>4</th>\n      <td>102</td>\n      <td>108</td>\n      <td>2189 Louisville Road</td>\n      <td>None</td>\n      <td>Independence</td>\n      <td>Kentucky</td>\n      <td>41051</td>\n      <td>3</td>\n      <td>0</td>\n    </tr>\n  </tbody>\n</table>\n</div>"
     },
     "execution_count": 16,
     "metadata": {},
     "output_type": "execute_result"
    }
   ],
   "source": [
    "retailer_site = go_sales_retailer_site\n",
    "\n",
    "# dropping the trial888 column\n",
    "retailer_site = retailer_site.drop(columns=['TRIAL888'])\n",
    "\n",
    "# rename the columns\n",
    "retailer_site = retailer_site.rename(columns={'RETAILER_SITE_CODE': 'RETAILER_SITE_code', 'COUNTRY_CODE': 'RETAILER_SITE_COUNTRY_CODE_country', 'CITY': 'RETAILER_SITE_CITY_city', 'REGION': 'RETAILER_SITE_REGION_region', 'POSTAL_ZONE': 'RETAILER_SITE_POSTAL_ZONE_postal_zone', 'RETAILER_CODE': 'RETAILER_SITE_RETAILER_CODE_retailer_code', 'ACTIVE_INDICATOR': 'RETAILER_SITE_ACTIVE_INDICATOR_indicator', 'ADDRESS1': 'RETAILER_SITE_ADDRESS1_address', 'ADDRESS2': 'RETAILER_SITE_ADDRESS2_address'})\n",
    "\n",
    "retailer_site.head()"
   ],
   "metadata": {
    "collapsed": false,
    "ExecuteTime": {
     "end_time": "2024-03-12T15:58:11.962887Z",
     "start_time": "2024-03-12T15:58:11.950335Z"
    }
   },
   "id": "c7039eac9d768041",
   "execution_count": 16
  },
  {
   "cell_type": "markdown",
   "source": [
    "### Sales_branch"
   ],
   "metadata": {
    "collapsed": false
   },
   "id": "a37a2a29eafdf0bd"
  },
  {
   "cell_type": "code",
   "outputs": [
    {
     "data": {
      "text/plain": "  SALES_BRANCH_code SALES_BRANCH_ADDRESS1_address  \\\n0                13                Schwabentor 35   \n1                14              Leopoldstraße 36   \n2                15           Isafjordsgatan 30 C   \n3                17  7800, 756 - 6th Avenue. S.W.   \n4                18              789 Yonge Street   \n\n  SALES_BRANCH_ADDRESS2_address SALES_BRANCH_CITY_city  \\\n0                          None                Hamburg   \n1                          None                München   \n2                          None                  Kista   \n3                          None                Calgary   \n4                          None                Toronto   \n\n  SALES_BRANCH_REGION_region SALES_BRANCH_POSTAL_ZONE_postal_zone  \\\n0                       None                              D-22529   \n1                       None                              D-81241   \n2                       None                             S-164 40   \n3                    Alberta                              T2P 3Z0   \n4                    Ontario                              M2M 4K8   \n\n  SALES_BRANCH_COUNTRY_CODE_country  \n0                                 2  \n1                                 2  \n2                                10  \n3                                 4  \n4                                 4  ",
      "text/html": "<div>\n<style scoped>\n    .dataframe tbody tr th:only-of-type {\n        vertical-align: middle;\n    }\n\n    .dataframe tbody tr th {\n        vertical-align: top;\n    }\n\n    .dataframe thead th {\n        text-align: right;\n    }\n</style>\n<table border=\"1\" class=\"dataframe\">\n  <thead>\n    <tr style=\"text-align: right;\">\n      <th></th>\n      <th>SALES_BRANCH_code</th>\n      <th>SALES_BRANCH_ADDRESS1_address</th>\n      <th>SALES_BRANCH_ADDRESS2_address</th>\n      <th>SALES_BRANCH_CITY_city</th>\n      <th>SALES_BRANCH_REGION_region</th>\n      <th>SALES_BRANCH_POSTAL_ZONE_postal_zone</th>\n      <th>SALES_BRANCH_COUNTRY_CODE_country</th>\n    </tr>\n  </thead>\n  <tbody>\n    <tr>\n      <th>0</th>\n      <td>13</td>\n      <td>Schwabentor 35</td>\n      <td>None</td>\n      <td>Hamburg</td>\n      <td>None</td>\n      <td>D-22529</td>\n      <td>2</td>\n    </tr>\n    <tr>\n      <th>1</th>\n      <td>14</td>\n      <td>Leopoldstraße 36</td>\n      <td>None</td>\n      <td>München</td>\n      <td>None</td>\n      <td>D-81241</td>\n      <td>2</td>\n    </tr>\n    <tr>\n      <th>2</th>\n      <td>15</td>\n      <td>Isafjordsgatan 30 C</td>\n      <td>None</td>\n      <td>Kista</td>\n      <td>None</td>\n      <td>S-164 40</td>\n      <td>10</td>\n    </tr>\n    <tr>\n      <th>3</th>\n      <td>17</td>\n      <td>7800, 756 - 6th Avenue. S.W.</td>\n      <td>None</td>\n      <td>Calgary</td>\n      <td>Alberta</td>\n      <td>T2P 3Z0</td>\n      <td>4</td>\n    </tr>\n    <tr>\n      <th>4</th>\n      <td>18</td>\n      <td>789 Yonge Street</td>\n      <td>None</td>\n      <td>Toronto</td>\n      <td>Ontario</td>\n      <td>M2M 4K8</td>\n      <td>4</td>\n    </tr>\n  </tbody>\n</table>\n</div>"
     },
     "execution_count": 17,
     "metadata": {},
     "output_type": "execute_result"
    }
   ],
   "source": [
    "sales_branch = go_sales_sales_branch\n",
    "\n",
    "# dropping the trial888 column\n",
    "sales_branch = sales_branch.drop(columns=['TRIAL888'])\n",
    "\n",
    "# rename the columns\n",
    "sales_branch = sales_branch.rename(columns={'SALES_BRANCH_CODE': 'SALES_BRANCH_code', 'COUNTRY_CODE': 'SALES_BRANCH_COUNTRY_CODE_country', 'REGION': 'SALES_BRANCH_REGION_region', 'CITY': 'SALES_BRANCH_CITY_city', 'POSTAL_ZONE': 'SALES_BRANCH_POSTAL_ZONE_postal_zone', 'ADDRESS1': 'SALES_BRANCH_ADDRESS1_address', 'ADDRESS2': 'SALES_BRANCH_ADDRESS2_address', 'MAIN_ADDRESS': 'SALES_BRANCH_MAIN_ADDRESS_address'})\n",
    "\n",
    "sales_branch.head()"
   ],
   "metadata": {
    "collapsed": false,
    "ExecuteTime": {
     "end_time": "2024-03-12T15:58:11.973772Z",
     "start_time": "2024-03-12T15:58:11.964026Z"
    }
   },
   "id": "a48bae69916fd694",
   "execution_count": 17
  },
  {
   "cell_type": "markdown",
   "source": [
    "### Retailer_contact"
   ],
   "metadata": {
    "collapsed": false
   },
   "id": "9f351715913d1fe1"
  },
  {
   "cell_type": "code",
   "outputs": [
    {
     "data": {
      "text/plain": "  RETAILER_CONTACT_code RETAILER_CONTACT_RETAILER_SITE_CODE_site_code  \\\n0                    10                                            14   \n1                   100                                            85   \n2                   101                                            84   \n3                   102                                            88   \n4                   103                                            92   \n\n  RETAILER_CONTACT_FIRST_NAME_first_name RETAILER_CONTACT_LAST_NAME_last_name  \\\n0                                  Frank                                Smith   \n1                                 Amanda                                Yates   \n2                                  Paula                              Schmidt   \n3                                Micheal                                  Tao   \n4                                   Jack                               Murphy   \n\n  RETAILER_CONTACT_JOB_POSITION_EN_position  \\\n0                           Chief Purchaser   \n1                             Stock Manager   \n2                       Assistant Purchaser   \n3                          District Manager   \n4                          District Manager   \n\n  RETAILER_CONTACT_EXTENSION_extension RETAILER_CONTACT_FAX_fax  \\\n0                                 2489         1 (514) 741-1610   \n1                                 None         1 (702) 369-2274   \n2                                 None         1 (702) 882-0978   \n3                                  445         1 (713) 524-3215   \n4                                 None         1 (305) 557-5478   \n\n      RETAILER_CONTACT_email RETAILER_CONTACT_GENDER_gender  \n0    FSmith@legolfeurinc.com                              M  \n1          Y2883@emertxe.com                              F  \n2          S8832@emertxe.com                              F  \n3          T8839@emertxe.com                              M  \n4  Murphy@eyedimensions3.com                              M  ",
      "text/html": "<div>\n<style scoped>\n    .dataframe tbody tr th:only-of-type {\n        vertical-align: middle;\n    }\n\n    .dataframe tbody tr th {\n        vertical-align: top;\n    }\n\n    .dataframe thead th {\n        text-align: right;\n    }\n</style>\n<table border=\"1\" class=\"dataframe\">\n  <thead>\n    <tr style=\"text-align: right;\">\n      <th></th>\n      <th>RETAILER_CONTACT_code</th>\n      <th>RETAILER_CONTACT_RETAILER_SITE_CODE_site_code</th>\n      <th>RETAILER_CONTACT_FIRST_NAME_first_name</th>\n      <th>RETAILER_CONTACT_LAST_NAME_last_name</th>\n      <th>RETAILER_CONTACT_JOB_POSITION_EN_position</th>\n      <th>RETAILER_CONTACT_EXTENSION_extension</th>\n      <th>RETAILER_CONTACT_FAX_fax</th>\n      <th>RETAILER_CONTACT_email</th>\n      <th>RETAILER_CONTACT_GENDER_gender</th>\n    </tr>\n  </thead>\n  <tbody>\n    <tr>\n      <th>0</th>\n      <td>10</td>\n      <td>14</td>\n      <td>Frank</td>\n      <td>Smith</td>\n      <td>Chief Purchaser</td>\n      <td>2489</td>\n      <td>1 (514) 741-1610</td>\n      <td>FSmith@legolfeurinc.com</td>\n      <td>M</td>\n    </tr>\n    <tr>\n      <th>1</th>\n      <td>100</td>\n      <td>85</td>\n      <td>Amanda</td>\n      <td>Yates</td>\n      <td>Stock Manager</td>\n      <td>None</td>\n      <td>1 (702) 369-2274</td>\n      <td>Y2883@emertxe.com</td>\n      <td>F</td>\n    </tr>\n    <tr>\n      <th>2</th>\n      <td>101</td>\n      <td>84</td>\n      <td>Paula</td>\n      <td>Schmidt</td>\n      <td>Assistant Purchaser</td>\n      <td>None</td>\n      <td>1 (702) 882-0978</td>\n      <td>S8832@emertxe.com</td>\n      <td>F</td>\n    </tr>\n    <tr>\n      <th>3</th>\n      <td>102</td>\n      <td>88</td>\n      <td>Micheal</td>\n      <td>Tao</td>\n      <td>District Manager</td>\n      <td>445</td>\n      <td>1 (713) 524-3215</td>\n      <td>T8839@emertxe.com</td>\n      <td>M</td>\n    </tr>\n    <tr>\n      <th>4</th>\n      <td>103</td>\n      <td>92</td>\n      <td>Jack</td>\n      <td>Murphy</td>\n      <td>District Manager</td>\n      <td>None</td>\n      <td>1 (305) 557-5478</td>\n      <td>Murphy@eyedimensions3.com</td>\n      <td>M</td>\n    </tr>\n  </tbody>\n</table>\n</div>"
     },
     "execution_count": 18,
     "metadata": {},
     "output_type": "execute_result"
    }
   ],
   "source": [
    "retailer_contact = go_crm_retailer_contact\n",
    "\n",
    "# dropping the trial222 column\n",
    "retailer_contact = retailer_contact.drop(columns=['TRIAL222'])\n",
    "\n",
    "# rename the columns\n",
    "retailer_contact = retailer_contact.rename(columns={'RETAILER_CONTACT_CODE': 'RETAILER_CONTACT_code', 'E_MAIL': 'RETAILER_CONTACT_email', 'RETAILER_SITE_CODE': 'RETAILER_CONTACT_RETAILER_SITE_CODE_site_code', 'JOB_POSITION_EN': 'RETAILER_CONTACT_JOB_POSITION_EN_position', 'EXTENSION': 'RETAILER_CONTACT_EXTENSION_extension', 'FAX': 'RETAILER_CONTACT_FAX_fax', 'GENDER' : 'RETAILER_CONTACT_GENDER_gender', 'FIRST_NAME': 'RETAILER_CONTACT_FIRST_NAME_first_name', 'LAST_NAME': 'RETAILER_CONTACT_LAST_NAME_last_name'})\n",
    "\n",
    "retailer_contact.head()"
   ],
   "metadata": {
    "collapsed": false,
    "ExecuteTime": {
     "end_time": "2024-03-12T15:58:11.986229Z",
     "start_time": "2024-03-12T15:58:11.974912Z"
    }
   },
   "id": "225ad64b29a0ebd3",
   "execution_count": 18
  },
  {
   "cell_type": "markdown",
   "source": [
    "### Retailer"
   ],
   "metadata": {
    "collapsed": false
   },
   "id": "5440ce379eadccf3"
  },
  {
   "cell_type": "code",
   "outputs": [
    {
     "data": {
      "text/plain": "  RETAILER_code RETAILER_COMPANY_CODE_MR_company               RETAILER_name  \\\n0             1                             None                   ActiForme   \n1           100                               70                Golf Masters   \n2           101                               71             The Marketplace   \n3           102                               72    Camping Equipment Online   \n4           103                               73  Tamarack Outfitter Rentals   \n\n  RETAILER_RETAILER_TYPE_retailer_type_code  \\\n0                                         5   \n1                                         1   \n2                                         2   \n3                                         3   \n4                                         5   \n\n  RETAILER_RETAILER_TYPE_retailer_type_EN  \n0                  Equipment Rental Store  \n1                               Golf Shop  \n2                        Department Store  \n3                        Direct Marketing  \n4                  Equipment Rental Store  ",
      "text/html": "<div>\n<style scoped>\n    .dataframe tbody tr th:only-of-type {\n        vertical-align: middle;\n    }\n\n    .dataframe tbody tr th {\n        vertical-align: top;\n    }\n\n    .dataframe thead th {\n        text-align: right;\n    }\n</style>\n<table border=\"1\" class=\"dataframe\">\n  <thead>\n    <tr style=\"text-align: right;\">\n      <th></th>\n      <th>RETAILER_code</th>\n      <th>RETAILER_COMPANY_CODE_MR_company</th>\n      <th>RETAILER_name</th>\n      <th>RETAILER_RETAILER_TYPE_retailer_type_code</th>\n      <th>RETAILER_RETAILER_TYPE_retailer_type_EN</th>\n    </tr>\n  </thead>\n  <tbody>\n    <tr>\n      <th>0</th>\n      <td>1</td>\n      <td>None</td>\n      <td>ActiForme</td>\n      <td>5</td>\n      <td>Equipment Rental Store</td>\n    </tr>\n    <tr>\n      <th>1</th>\n      <td>100</td>\n      <td>70</td>\n      <td>Golf Masters</td>\n      <td>1</td>\n      <td>Golf Shop</td>\n    </tr>\n    <tr>\n      <th>2</th>\n      <td>101</td>\n      <td>71</td>\n      <td>The Marketplace</td>\n      <td>2</td>\n      <td>Department Store</td>\n    </tr>\n    <tr>\n      <th>3</th>\n      <td>102</td>\n      <td>72</td>\n      <td>Camping Equipment Online</td>\n      <td>3</td>\n      <td>Direct Marketing</td>\n    </tr>\n    <tr>\n      <th>4</th>\n      <td>103</td>\n      <td>73</td>\n      <td>Tamarack Outfitter Rentals</td>\n      <td>5</td>\n      <td>Equipment Rental Store</td>\n    </tr>\n  </tbody>\n</table>\n</div>"
     },
     "execution_count": 19,
     "metadata": {},
     "output_type": "execute_result"
    }
   ],
   "source": [
    "retailer = pd.merge(go_crm_retailer, go_crm_retailer_type, left_on='RETAILER_TYPE_CODE', right_on='RETAILER_TYPE_CODE')\n",
    "\n",
    "# dropping the trial219 and trial222 columns\n",
    "retailer = retailer.drop(columns=['TRIAL219', 'TRIAL222'])\n",
    "\n",
    "# rename the columns\n",
    "retailer = retailer.rename(columns={'RETAILER_CODE': 'RETAILER_code', 'COMPANY_NAME': 'RETAILER_name', 'RETAILER_CODEMR': 'RETAILER_COMPANY_CODE_MR_company', 'RETAILER_TYPE_CODE': 'RETAILER_RETAILER_TYPE_retailer_type_code', 'RETAILER_TYPE_EN': 'RETAILER_RETAILER_TYPE_retailer_type_EN'})\n",
    "\n",
    "retailer.head()"
   ],
   "metadata": {
    "collapsed": false,
    "ExecuteTime": {
     "end_time": "2024-03-12T15:58:11.998469Z",
     "start_time": "2024-03-12T15:58:11.987373Z"
    }
   },
   "id": "71d9483bff7d0752",
   "execution_count": 19
  },
  {
   "cell_type": "markdown",
   "source": [
    "### Product"
   ],
   "metadata": {
    "collapsed": false
   },
   "id": "4294143c48572b68"
  },
  {
   "cell_type": "code",
   "outputs": [
    {
     "data": {
      "text/plain": "  PRODUCT_number PRODUCT_INTRODUCTION_DATE_introduced  \\\n0              1                            15-2-2011   \n1             10                            15-2-2011   \n2            100                            15-2-2011   \n3            101                           15-12-2019   \n4            102                           10-12-2019   \n\n  PRODUCT_PRODUCT_TYPE_code PRODUCT_PRODUCTION_COST_cost  \\\n0                         1                            4   \n1                         1                           10   \n2                        17                            3   \n3                        18                       305.54   \n4                        18                       380.95   \n\n  PRODUCT_MARGIN_margin PRODUCT_image_image PRODUCT_LANGUAGE_language  \\\n0                   .33       P01CE1CG1.jpg                        EN   \n1                    .4       P10CE1CG1.jpg                        EN   \n2                    .5     P100OP4FA17.jpg                        EN   \n3                   .43     P101GE5IR18.jpg                        EN   \n4                   .51     P102GE5IR18.jpg                        EN   \n\n       PRODUCT_name_product  \\\n0       TrailChef Water Bag   \n1        TrailChef Utensils   \n2        Insect Bite Relief   \n3     Hailstorm Steel Irons   \n4  Hailstorm Titanium Irons   \n\n                     PRODUCT_description_description TRIAL888_x  \\\n0  Lightweight, collapsible bag to carry liquids ...          T   \n1  Spoon, fork and knife set made of a light yet ...          T   \n2  The Insect Bite Relief helps the itching and s...          T   \n3  Iron is 17-4 stainless steel.  Shafts are grap...          T   \n4  Made entirely of pure titanium. The ultimate i...          T   \n\n  PRODUCT_PRODUCT_LINE_code PRODUCT_PRODUCT_TYPE_code_en TRIAL888_y  \\\n0                         1                 Cooking Gear          T   \n1                         1                 Cooking Gear          T   \n2                         4                    First Aid          T   \n3                         5                        Irons          T   \n4                         5                        Irons          T   \n\n  PRODUCT_PRODUCT_LINE_code_en  \n0            Camping Equipment  \n1            Camping Equipment  \n2           Outdoor Protection  \n3               Golf Equipment  \n4               Golf Equipment  ",
      "text/html": "<div>\n<style scoped>\n    .dataframe tbody tr th:only-of-type {\n        vertical-align: middle;\n    }\n\n    .dataframe tbody tr th {\n        vertical-align: top;\n    }\n\n    .dataframe thead th {\n        text-align: right;\n    }\n</style>\n<table border=\"1\" class=\"dataframe\">\n  <thead>\n    <tr style=\"text-align: right;\">\n      <th></th>\n      <th>PRODUCT_number</th>\n      <th>PRODUCT_INTRODUCTION_DATE_introduced</th>\n      <th>PRODUCT_PRODUCT_TYPE_code</th>\n      <th>PRODUCT_PRODUCTION_COST_cost</th>\n      <th>PRODUCT_MARGIN_margin</th>\n      <th>PRODUCT_image_image</th>\n      <th>PRODUCT_LANGUAGE_language</th>\n      <th>PRODUCT_name_product</th>\n      <th>PRODUCT_description_description</th>\n      <th>TRIAL888_x</th>\n      <th>PRODUCT_PRODUCT_LINE_code</th>\n      <th>PRODUCT_PRODUCT_TYPE_code_en</th>\n      <th>TRIAL888_y</th>\n      <th>PRODUCT_PRODUCT_LINE_code_en</th>\n    </tr>\n  </thead>\n  <tbody>\n    <tr>\n      <th>0</th>\n      <td>1</td>\n      <td>15-2-2011</td>\n      <td>1</td>\n      <td>4</td>\n      <td>.33</td>\n      <td>P01CE1CG1.jpg</td>\n      <td>EN</td>\n      <td>TrailChef Water Bag</td>\n      <td>Lightweight, collapsible bag to carry liquids ...</td>\n      <td>T</td>\n      <td>1</td>\n      <td>Cooking Gear</td>\n      <td>T</td>\n      <td>Camping Equipment</td>\n    </tr>\n    <tr>\n      <th>1</th>\n      <td>10</td>\n      <td>15-2-2011</td>\n      <td>1</td>\n      <td>10</td>\n      <td>.4</td>\n      <td>P10CE1CG1.jpg</td>\n      <td>EN</td>\n      <td>TrailChef Utensils</td>\n      <td>Spoon, fork and knife set made of a light yet ...</td>\n      <td>T</td>\n      <td>1</td>\n      <td>Cooking Gear</td>\n      <td>T</td>\n      <td>Camping Equipment</td>\n    </tr>\n    <tr>\n      <th>2</th>\n      <td>100</td>\n      <td>15-2-2011</td>\n      <td>17</td>\n      <td>3</td>\n      <td>.5</td>\n      <td>P100OP4FA17.jpg</td>\n      <td>EN</td>\n      <td>Insect Bite Relief</td>\n      <td>The Insect Bite Relief helps the itching and s...</td>\n      <td>T</td>\n      <td>4</td>\n      <td>First Aid</td>\n      <td>T</td>\n      <td>Outdoor Protection</td>\n    </tr>\n    <tr>\n      <th>3</th>\n      <td>101</td>\n      <td>15-12-2019</td>\n      <td>18</td>\n      <td>305.54</td>\n      <td>.43</td>\n      <td>P101GE5IR18.jpg</td>\n      <td>EN</td>\n      <td>Hailstorm Steel Irons</td>\n      <td>Iron is 17-4 stainless steel.  Shafts are grap...</td>\n      <td>T</td>\n      <td>5</td>\n      <td>Irons</td>\n      <td>T</td>\n      <td>Golf Equipment</td>\n    </tr>\n    <tr>\n      <th>4</th>\n      <td>102</td>\n      <td>10-12-2019</td>\n      <td>18</td>\n      <td>380.95</td>\n      <td>.51</td>\n      <td>P102GE5IR18.jpg</td>\n      <td>EN</td>\n      <td>Hailstorm Titanium Irons</td>\n      <td>Made entirely of pure titanium. The ultimate i...</td>\n      <td>T</td>\n      <td>5</td>\n      <td>Irons</td>\n      <td>T</td>\n      <td>Golf Equipment</td>\n    </tr>\n  </tbody>\n</table>\n</div>"
     },
     "execution_count": 20,
     "metadata": {},
     "output_type": "execute_result"
    }
   ],
   "source": [
    "product = pd.merge(go_sales_product, go_sales_product_type, left_on='PRODUCT_TYPE_CODE', right_on='PRODUCT_TYPE_CODE')\n",
    "product = pd.merge(product, go_sales_product_line, left_on='PRODUCT_LINE_CODE', right_on='PRODUCT_LINE_CODE')\n",
    "\n",
    "#dropping the trial888 column\n",
    "product = product.drop(columns=['TRIAL888'])\n",
    "\n",
    "# rename the columns\n",
    "product = product.rename(columns={'PRODUCT_NUMBER': 'PRODUCT_number', 'PRODUCT_NAME': 'PRODUCT_name_product', 'DESCRIPTION': 'PRODUCT_description_description', 'PRODUCT_IMAGE': 'PRODUCT_image_image', 'INTRODUCTION_DATE': 'PRODUCT_INTRODUCTION_DATE_introduced', 'PRODUCTION_COST': 'PRODUCT_PRODUCTION_COST_cost', 'MARGIN': 'PRODUCT_MARGIN_margin', 'LANGUAGE': 'PRODUCT_LANGUAGE_language',  'PRODUCT_TYPE_CODE': 'PRODUCT_PRODUCT_TYPE_code', 'PRODUCT_TYPE_EN': 'PRODUCT_PRODUCT_TYPE_code_en', 'PRODUCT_LINE_CODE': 'PRODUCT_PRODUCT_LINE_code', 'PRODUCT_LINE_EN': 'PRODUCT_PRODUCT_LINE_code_en'})\n",
    "\n",
    "product.head()"
   ],
   "metadata": {
    "collapsed": false,
    "ExecuteTime": {
     "end_time": "2024-03-12T15:58:12.016347Z",
     "start_time": "2024-03-12T15:58:12.000568Z"
    }
   },
   "id": "edddbd324315ff8e",
   "execution_count": 20
  },
  {
   "cell_type": "markdown",
   "source": [
    "### Order_details"
   ],
   "metadata": {
    "collapsed": false
   },
   "id": "3dd3f1237cd6217f"
  },
  {
   "cell_type": "code",
   "outputs": [
    {
     "data": {
      "text/plain": "  ORDER_DETAIL_CODE ORDER_DETAILS_ORDER_NUMBER_order  \\\n0            100146                             8465   \n1            100149                             9116   \n2            100199                             9113   \n3            100250                             9254   \n4            100641                             9269   \n\n  ORDER_DETAILS_PRODUCT_NUMBER_product  ORDER_DETAILS_QUANTITY_quantity  \\\n0                                   15                               16   \n1                                   16                               64   \n2                                   30                               22   \n3                                   43                               52   \n4                                  111                                6   \n\n   ORDER_DETAILS_UNIT_ID_unit  ORDER_DETAILS_UNIT_ID_unit  \\\n0                         144                         144   \n1                         147                         147   \n2                         197                         197   \n3                         248                         248   \n4                         635                         635   \n\n  ORDER_DETAILS_RETURN_CODE_returned RETURNED_ITEM_DATE_date  \\\n0                               1975       9-8-2021 18:45:17   \n1                               1976       6-7-2021 13:34:59   \n2                               1979       6-7-2021 07:19:36   \n3                               2298     14-12-2021 11:28:50   \n4                               2301     19-12-2021 04:10:53   \n\n  RETURNED_ITEM_QUANTITY_quantity RETURNED_ITEM_ORDER_DETAIL_CODE_detail_code  \\\n0                              16                                      100146   \n1                              64                                      100149   \n2                              22                                      100199   \n3                               6                                      100250   \n4                               6                                      100641   \n\n  RETURNED_ITEM_RETURN_REASON_code RETURNED_ITEM_RETURN_REASON_desctiption_en  \n0                                4                      Wrong product shipped  \n1                                5                     Unsatisfactory product  \n2                                4                      Wrong product shipped  \n3                                1                          Defective product  \n4                                4                      Wrong product shipped  ",
      "text/html": "<div>\n<style scoped>\n    .dataframe tbody tr th:only-of-type {\n        vertical-align: middle;\n    }\n\n    .dataframe tbody tr th {\n        vertical-align: top;\n    }\n\n    .dataframe thead th {\n        text-align: right;\n    }\n</style>\n<table border=\"1\" class=\"dataframe\">\n  <thead>\n    <tr style=\"text-align: right;\">\n      <th></th>\n      <th>ORDER_DETAIL_CODE</th>\n      <th>ORDER_DETAILS_ORDER_NUMBER_order</th>\n      <th>ORDER_DETAILS_PRODUCT_NUMBER_product</th>\n      <th>ORDER_DETAILS_QUANTITY_quantity</th>\n      <th>ORDER_DETAILS_UNIT_ID_unit</th>\n      <th>ORDER_DETAILS_UNIT_ID_unit</th>\n      <th>ORDER_DETAILS_RETURN_CODE_returned</th>\n      <th>RETURNED_ITEM_DATE_date</th>\n      <th>RETURNED_ITEM_QUANTITY_quantity</th>\n      <th>RETURNED_ITEM_ORDER_DETAIL_CODE_detail_code</th>\n      <th>RETURNED_ITEM_RETURN_REASON_code</th>\n      <th>RETURNED_ITEM_RETURN_REASON_desctiption_en</th>\n    </tr>\n  </thead>\n  <tbody>\n    <tr>\n      <th>0</th>\n      <td>100146</td>\n      <td>8465</td>\n      <td>15</td>\n      <td>16</td>\n      <td>144</td>\n      <td>144</td>\n      <td>1975</td>\n      <td>9-8-2021 18:45:17</td>\n      <td>16</td>\n      <td>100146</td>\n      <td>4</td>\n      <td>Wrong product shipped</td>\n    </tr>\n    <tr>\n      <th>1</th>\n      <td>100149</td>\n      <td>9116</td>\n      <td>16</td>\n      <td>64</td>\n      <td>147</td>\n      <td>147</td>\n      <td>1976</td>\n      <td>6-7-2021 13:34:59</td>\n      <td>64</td>\n      <td>100149</td>\n      <td>5</td>\n      <td>Unsatisfactory product</td>\n    </tr>\n    <tr>\n      <th>2</th>\n      <td>100199</td>\n      <td>9113</td>\n      <td>30</td>\n      <td>22</td>\n      <td>197</td>\n      <td>197</td>\n      <td>1979</td>\n      <td>6-7-2021 07:19:36</td>\n      <td>22</td>\n      <td>100199</td>\n      <td>4</td>\n      <td>Wrong product shipped</td>\n    </tr>\n    <tr>\n      <th>3</th>\n      <td>100250</td>\n      <td>9254</td>\n      <td>43</td>\n      <td>52</td>\n      <td>248</td>\n      <td>248</td>\n      <td>2298</td>\n      <td>14-12-2021 11:28:50</td>\n      <td>6</td>\n      <td>100250</td>\n      <td>1</td>\n      <td>Defective product</td>\n    </tr>\n    <tr>\n      <th>4</th>\n      <td>100641</td>\n      <td>9269</td>\n      <td>111</td>\n      <td>6</td>\n      <td>635</td>\n      <td>635</td>\n      <td>2301</td>\n      <td>19-12-2021 04:10:53</td>\n      <td>6</td>\n      <td>100641</td>\n      <td>4</td>\n      <td>Wrong product shipped</td>\n    </tr>\n  </tbody>\n</table>\n</div>"
     },
     "execution_count": 21,
     "metadata": {},
     "output_type": "execute_result"
    }
   ],
   "source": [
    "order_details = go_sales_order_details\n",
    "\n",
    "# replacing original columns with unit and returned_item\n",
    "order_details['ORDER_DETAILS_UNIT_ID_unit'] = unit.index\n",
    "\n",
    "# merging the returned_item and order_details\n",
    "order_details = pd.merge(order_details, returned_item, left_on='ORDER_DETAIL_CODE', right_on='RETURNED_ITEM_ORDER_DETAIL_CODE_detail_code')\n",
    "\n",
    "# dropping the columns replaced by unit and returned_item\n",
    "order_details = order_details.drop(columns=['UNIT_COST', 'UNIT_PRICE', 'UNIT_SALE_PRICE']) \n",
    "\n",
    "\n",
    "# dropping the trial879 column\n",
    "order_details = order_details.drop(columns=['TRIAL879'])\n",
    "\n",
    "# rename the columns\n",
    "order_details = order_details.rename(columns={'ORDER_DETAILS_CODE': 'ORDER_DETAILS_code', 'QUANTITY': 'ORDER_DETAILS_QUANTITY_quantity', 'RETURNED_ITEM_code': 'ORDER_DETAILS_RETURN_CODE_returned', 'ORDER_NUMBER': 'ORDER_DETAILS_ORDER_NUMBER_order', 'PRODUCT_NUMBER': 'ORDER_DETAILS_PRODUCT_NUMBER_product', 'UNIT_ID': 'ORDER_DETAILS_UNIT_ID_unit'})\n",
    "\n",
    "order_details.head()"
   ],
   "metadata": {
    "collapsed": false,
    "ExecuteTime": {
     "end_time": "2024-03-12T15:58:12.047374Z",
     "start_time": "2024-03-12T15:58:12.017384Z"
    }
   },
   "id": "9709a31ccd988768",
   "execution_count": 21
  },
  {
   "cell_type": "markdown",
   "source": [
    "### Training"
   ],
   "metadata": {
    "collapsed": false
   },
   "id": "8b73e9b4b1cca021"
  },
  {
   "cell_type": "code",
   "outputs": [
    {
     "data": {
      "text/plain": "  TRAINING_YEAR TRAINING_SALES_STAFF_CODE TRAINING_COURSE_CODE COURSE_code  \\\n0          2004                       100                    2           2   \n1          2004                       100                    3           3   \n2          2004                       100                    4           4   \n3          2005                       100                    5           5   \n4          2006                       100                    6           6   \n\n  COURSE_DESCRIPTION  \n0   GO Communication  \n1         GO Sales 1  \n2         GO Sales 2  \n3     GO Marketing 1  \n4     GO Marketing 2  ",
      "text/html": "<div>\n<style scoped>\n    .dataframe tbody tr th:only-of-type {\n        vertical-align: middle;\n    }\n\n    .dataframe tbody tr th {\n        vertical-align: top;\n    }\n\n    .dataframe thead th {\n        text-align: right;\n    }\n</style>\n<table border=\"1\" class=\"dataframe\">\n  <thead>\n    <tr style=\"text-align: right;\">\n      <th></th>\n      <th>TRAINING_YEAR</th>\n      <th>TRAINING_SALES_STAFF_CODE</th>\n      <th>TRAINING_COURSE_CODE</th>\n      <th>COURSE_code</th>\n      <th>COURSE_DESCRIPTION</th>\n    </tr>\n  </thead>\n  <tbody>\n    <tr>\n      <th>0</th>\n      <td>2004</td>\n      <td>100</td>\n      <td>2</td>\n      <td>2</td>\n      <td>GO Communication</td>\n    </tr>\n    <tr>\n      <th>1</th>\n      <td>2004</td>\n      <td>100</td>\n      <td>3</td>\n      <td>3</td>\n      <td>GO Sales 1</td>\n    </tr>\n    <tr>\n      <th>2</th>\n      <td>2004</td>\n      <td>100</td>\n      <td>4</td>\n      <td>4</td>\n      <td>GO Sales 2</td>\n    </tr>\n    <tr>\n      <th>3</th>\n      <td>2005</td>\n      <td>100</td>\n      <td>5</td>\n      <td>5</td>\n      <td>GO Marketing 1</td>\n    </tr>\n    <tr>\n      <th>4</th>\n      <td>2006</td>\n      <td>100</td>\n      <td>6</td>\n      <td>6</td>\n      <td>GO Marketing 2</td>\n    </tr>\n  </tbody>\n</table>\n</div>"
     },
     "execution_count": 22,
     "metadata": {},
     "output_type": "execute_result"
    }
   ],
   "source": [
    "training = go_staff_training\n",
    "\n",
    "# replacing the original columns with year and course\n",
    "# merging the year and course\n",
    "training = pd.merge(training, year, left_on='YEAR', right_on='YEAR')\n",
    "training = pd.merge(training, course, left_on='COURSE_CODE', right_on='COURSE_code')\n",
    "\n",
    "# dropping the trial633 column\n",
    "training = training.drop(columns=['TRIAL633'])\n",
    "\n",
    "# rename the columns\n",
    "training = training.rename(columns={'SALES_STAFF_CODE': 'TRAINING_SALES_STAFF_CODE', 'COURSE_CODE': 'TRAINING_COURSE_CODE', 'YEAR': 'TRAINING_YEAR'})\n",
    "\n",
    "training.head()\n"
   ],
   "metadata": {
    "collapsed": false,
    "ExecuteTime": {
     "end_time": "2024-03-12T15:58:12.059236Z",
     "start_time": "2024-03-12T15:58:12.048489Z"
    }
   },
   "id": "25a1efa0fab720ea",
   "execution_count": 22
  },
  {
   "cell_type": "markdown",
   "source": [
    "### Satisfaction"
   ],
   "metadata": {
    "collapsed": false
   },
   "id": "fafe9322068f9bcb"
  },
  {
   "cell_type": "code",
   "outputs": [
    {
     "data": {
      "text/plain": "  SATISFACTION_YEAR SATISFACTION_SALES_STAFF_CODE  \\\n0              2004                           100   \n1              2004                           101   \n2              2004                           102   \n3              2004                           103   \n4              2004                           104   \n\n  SATISFACTION_SATISFACTION_TYPE_CODE SATISFACTION_TYPE_code  \\\n0                                   1                      1   \n1                                   4                      4   \n2                                   4                      4   \n3                                   3                      3   \n4                                   4                      4   \n\n  SATISFACTION_TYPE_DESCRIPTION  \n0                 Not satisfied  \n1                Very Satisfied  \n2                Very Satisfied  \n3                     Satisfied  \n4                Very Satisfied  ",
      "text/html": "<div>\n<style scoped>\n    .dataframe tbody tr th:only-of-type {\n        vertical-align: middle;\n    }\n\n    .dataframe tbody tr th {\n        vertical-align: top;\n    }\n\n    .dataframe thead th {\n        text-align: right;\n    }\n</style>\n<table border=\"1\" class=\"dataframe\">\n  <thead>\n    <tr style=\"text-align: right;\">\n      <th></th>\n      <th>SATISFACTION_YEAR</th>\n      <th>SATISFACTION_SALES_STAFF_CODE</th>\n      <th>SATISFACTION_SATISFACTION_TYPE_CODE</th>\n      <th>SATISFACTION_TYPE_code</th>\n      <th>SATISFACTION_TYPE_DESCRIPTION</th>\n    </tr>\n  </thead>\n  <tbody>\n    <tr>\n      <th>0</th>\n      <td>2004</td>\n      <td>100</td>\n      <td>1</td>\n      <td>1</td>\n      <td>Not satisfied</td>\n    </tr>\n    <tr>\n      <th>1</th>\n      <td>2004</td>\n      <td>101</td>\n      <td>4</td>\n      <td>4</td>\n      <td>Very Satisfied</td>\n    </tr>\n    <tr>\n      <th>2</th>\n      <td>2004</td>\n      <td>102</td>\n      <td>4</td>\n      <td>4</td>\n      <td>Very Satisfied</td>\n    </tr>\n    <tr>\n      <th>3</th>\n      <td>2004</td>\n      <td>103</td>\n      <td>3</td>\n      <td>3</td>\n      <td>Satisfied</td>\n    </tr>\n    <tr>\n      <th>4</th>\n      <td>2004</td>\n      <td>104</td>\n      <td>4</td>\n      <td>4</td>\n      <td>Very Satisfied</td>\n    </tr>\n  </tbody>\n</table>\n</div>"
     },
     "execution_count": 23,
     "metadata": {},
     "output_type": "execute_result"
    }
   ],
   "source": [
    "satisfaction = go_staff_satisfaction\n",
    "\n",
    "# replacing the original columns with year and satisfaction_type\n",
    "# merging the year and satisfaction_type\n",
    "satisfaction = pd.merge(satisfaction, year, left_on='YEAR', right_on='YEAR')\n",
    "satisfaction = pd.merge(satisfaction, satisfaction_type, left_on='SATISFACTION_TYPE_CODE', right_on='SATISFACTION_TYPE_code')\n",
    "\n",
    "# dropping the trial633 column\n",
    "satisfaction = satisfaction.drop(columns=['TRIAL633'])\n",
    "\n",
    "# rename the columns\n",
    "satisfaction = satisfaction.rename(columns={'SALES_STAFF_CODE': 'SATISFACTION_SALES_STAFF_CODE', 'SATISFACTION_TYPE_CODE': 'SATISFACTION_SATISFACTION_TYPE_CODE', 'YEAR': 'SATISFACTION_YEAR'})\n",
    "\n",
    "satisfaction.head()"
   ],
   "metadata": {
    "collapsed": false,
    "ExecuteTime": {
     "end_time": "2024-03-12T15:58:12.069849Z",
     "start_time": "2024-03-12T15:58:12.060351Z"
    }
   },
   "id": "1f79b295694d9060",
   "execution_count": 23
  },
  {
   "cell_type": "markdown",
   "source": [
    "### Order_header"
   ],
   "metadata": {
    "collapsed": false
   },
   "id": "a2de04bb43925941"
  },
  {
   "cell_type": "code",
   "outputs": [
    {
     "data": {
      "text/plain": "  ORDER_HEADER_number ORDER_HEADER_RETAILER_NAME  \\\n0                1153               Ultra Sports   \n1                1153               Ultra Sports   \n2                1154               Ultra Sports   \n3                1154               Ultra Sports   \n4                1155               Ultra Sports   \n\n  ORDER_HEADER_RETAILER_SITE_CODE ORDER_HEADER_RETAILER_CONTACT_CODE  \\\n0                               4                                  6   \n1                               4                                  6   \n2                               4                                  6   \n3                               4                                  6   \n4                               5                                 65   \n\n  ORDER_HEADER_SALES_STAFF ORDER_HEADER_SALES_BRANCH_CODE  \\\n0                       50                             18   \n1                       50                             18   \n2                       50                             18   \n3                       50                             18   \n4                       49                             18   \n\n  ORDER_HEADER_ORDER_DATE ORDER_METHOD_CODE RETAILER_code  \\\n0              2020-04-14                 7            90   \n1              2020-04-14                 7            90   \n2              2020-10-01                 4            90   \n3              2020-10-01                 4            90   \n4              2020-04-21                 7            90   \n\n  RETAILER_COMPANY_CODE_MR_company  ...  \\\n0                                2  ...   \n1                                2  ...   \n2                                2  ...   \n3                                2  ...   \n4                                2  ...   \n\n  RETAILER_SITE_ACTIVE_INDICATOR_indicator RETAILER_CONTACT_code  \\\n0                                        1                     6   \n1                                        1                     6   \n2                                        1                     6   \n3                                        1                     6   \n4                                        1                    65   \n\n  RETAILER_CONTACT_RETAILER_SITE_CODE_site_code  \\\n0                                             4   \n1                                             4   \n2                                             4   \n3                                             4   \n4                                             5   \n\n  RETAILER_CONTACT_FIRST_NAME_first_name RETAILER_CONTACT_LAST_NAME_last_name  \\\n0                                  Marie                             Turcotte   \n1                                  Marie                             Turcotte   \n2                                  Marie                             Turcotte   \n3                                  Marie                             Turcotte   \n4                                 Andrea                              Martens   \n\n  RETAILER_CONTACT_JOB_POSITION_EN_position  \\\n0                       Assistant Purchaser   \n1                       Assistant Purchaser   \n2                       Assistant Purchaser   \n3                       Assistant Purchaser   \n4                             Stock Manager   \n\n  RETAILER_CONTACT_EXTENSION_extension RETAILER_CONTACT_FAX_fax  \\\n0                                  635         1 (514) 747-2582   \n1                                  635         1 (514) 747-2582   \n2                                  635         1 (514) 747-2582   \n3                                  635         1 (514) 747-2582   \n4                                 None         1 (705) 675-9848   \n\n    RETAILER_CONTACT_email RETAILER_CONTACT_GENDER_gender  \n0  MTurcotte@cybserv19.com                              F  \n1  MTurcotte@cybserv19.com                              F  \n2  MTurcotte@cybserv19.com                              F  \n3  MTurcotte@cybserv19.com                              F  \n4   AMartens@cybserv19.com                              F  \n\n[5 rows x 44 columns]",
      "text/html": "<div>\n<style scoped>\n    .dataframe tbody tr th:only-of-type {\n        vertical-align: middle;\n    }\n\n    .dataframe tbody tr th {\n        vertical-align: top;\n    }\n\n    .dataframe thead th {\n        text-align: right;\n    }\n</style>\n<table border=\"1\" class=\"dataframe\">\n  <thead>\n    <tr style=\"text-align: right;\">\n      <th></th>\n      <th>ORDER_HEADER_number</th>\n      <th>ORDER_HEADER_RETAILER_NAME</th>\n      <th>ORDER_HEADER_RETAILER_SITE_CODE</th>\n      <th>ORDER_HEADER_RETAILER_CONTACT_CODE</th>\n      <th>ORDER_HEADER_SALES_STAFF</th>\n      <th>ORDER_HEADER_SALES_BRANCH_CODE</th>\n      <th>ORDER_HEADER_ORDER_DATE</th>\n      <th>ORDER_METHOD_CODE</th>\n      <th>RETAILER_code</th>\n      <th>RETAILER_COMPANY_CODE_MR_company</th>\n      <th>...</th>\n      <th>RETAILER_SITE_ACTIVE_INDICATOR_indicator</th>\n      <th>RETAILER_CONTACT_code</th>\n      <th>RETAILER_CONTACT_RETAILER_SITE_CODE_site_code</th>\n      <th>RETAILER_CONTACT_FIRST_NAME_first_name</th>\n      <th>RETAILER_CONTACT_LAST_NAME_last_name</th>\n      <th>RETAILER_CONTACT_JOB_POSITION_EN_position</th>\n      <th>RETAILER_CONTACT_EXTENSION_extension</th>\n      <th>RETAILER_CONTACT_FAX_fax</th>\n      <th>RETAILER_CONTACT_email</th>\n      <th>RETAILER_CONTACT_GENDER_gender</th>\n    </tr>\n  </thead>\n  <tbody>\n    <tr>\n      <th>0</th>\n      <td>1153</td>\n      <td>Ultra Sports</td>\n      <td>4</td>\n      <td>6</td>\n      <td>50</td>\n      <td>18</td>\n      <td>2020-04-14</td>\n      <td>7</td>\n      <td>90</td>\n      <td>2</td>\n      <td>...</td>\n      <td>1</td>\n      <td>6</td>\n      <td>4</td>\n      <td>Marie</td>\n      <td>Turcotte</td>\n      <td>Assistant Purchaser</td>\n      <td>635</td>\n      <td>1 (514) 747-2582</td>\n      <td>MTurcotte@cybserv19.com</td>\n      <td>F</td>\n    </tr>\n    <tr>\n      <th>1</th>\n      <td>1153</td>\n      <td>Ultra Sports</td>\n      <td>4</td>\n      <td>6</td>\n      <td>50</td>\n      <td>18</td>\n      <td>2020-04-14</td>\n      <td>7</td>\n      <td>90</td>\n      <td>2</td>\n      <td>...</td>\n      <td>1</td>\n      <td>6</td>\n      <td>4</td>\n      <td>Marie</td>\n      <td>Turcotte</td>\n      <td>Assistant Purchaser</td>\n      <td>635</td>\n      <td>1 (514) 747-2582</td>\n      <td>MTurcotte@cybserv19.com</td>\n      <td>F</td>\n    </tr>\n    <tr>\n      <th>2</th>\n      <td>1154</td>\n      <td>Ultra Sports</td>\n      <td>4</td>\n      <td>6</td>\n      <td>50</td>\n      <td>18</td>\n      <td>2020-10-01</td>\n      <td>4</td>\n      <td>90</td>\n      <td>2</td>\n      <td>...</td>\n      <td>1</td>\n      <td>6</td>\n      <td>4</td>\n      <td>Marie</td>\n      <td>Turcotte</td>\n      <td>Assistant Purchaser</td>\n      <td>635</td>\n      <td>1 (514) 747-2582</td>\n      <td>MTurcotte@cybserv19.com</td>\n      <td>F</td>\n    </tr>\n    <tr>\n      <th>3</th>\n      <td>1154</td>\n      <td>Ultra Sports</td>\n      <td>4</td>\n      <td>6</td>\n      <td>50</td>\n      <td>18</td>\n      <td>2020-10-01</td>\n      <td>4</td>\n      <td>90</td>\n      <td>2</td>\n      <td>...</td>\n      <td>1</td>\n      <td>6</td>\n      <td>4</td>\n      <td>Marie</td>\n      <td>Turcotte</td>\n      <td>Assistant Purchaser</td>\n      <td>635</td>\n      <td>1 (514) 747-2582</td>\n      <td>MTurcotte@cybserv19.com</td>\n      <td>F</td>\n    </tr>\n    <tr>\n      <th>4</th>\n      <td>1155</td>\n      <td>Ultra Sports</td>\n      <td>5</td>\n      <td>65</td>\n      <td>49</td>\n      <td>18</td>\n      <td>2020-04-21</td>\n      <td>7</td>\n      <td>90</td>\n      <td>2</td>\n      <td>...</td>\n      <td>1</td>\n      <td>65</td>\n      <td>5</td>\n      <td>Andrea</td>\n      <td>Martens</td>\n      <td>Stock Manager</td>\n      <td>None</td>\n      <td>1 (705) 675-9848</td>\n      <td>AMartens@cybserv19.com</td>\n      <td>F</td>\n    </tr>\n  </tbody>\n</table>\n<p>5 rows × 44 columns</p>\n</div>"
     },
     "execution_count": 24,
     "metadata": {},
     "output_type": "execute_result"
    }
   ],
   "source": [
    "order_header = pd.merge(go_sales_order_header, retailer, left_on='RETAILER_NAME', right_on='RETAILER_name')\n",
    "\n",
    "# converting the date to datetime\n",
    "order_header['ORDER_DATE'] = pd.to_datetime(order_header['ORDER_DATE'])\n",
    "\n",
    "# replacing the original columns with date, sales_staff, retailer_site and retailer_contact\n",
    "# merging the date, sales_staff, retailer_site and retailer_contact\n",
    "order_header = pd.merge(order_header, date, left_on='ORDER_DATE', right_on='DATE_date')\n",
    "order_header = pd.merge(order_header, sales_staff, left_on='SALES_STAFF_CODE', right_on='SALES_STAFF_code')\n",
    "order_header = pd.merge(order_header, retailer_site, left_on='RETAILER_SITE_CODE', right_on='RETAILER_SITE_code')\n",
    "order_header = pd.merge(order_header, retailer_contact, left_on='RETAILER_CONTACT_CODE', right_on='RETAILER_CONTACT_code')\n",
    "\n",
    "# dropping the trial885 column\n",
    "order_header = order_header.drop(columns=['TRIAL885'])\n",
    "\n",
    "# rename the columns\n",
    "order_header = order_header.rename(columns={'ORDER_NUMBER': 'ORDER_HEADER_number', 'RETAILER_NAME': 'ORDER_HEADER_RETAILER_NAME', 'SALES_STAFF_CODE': 'ORDER_HEADER_SALES_STAFF', 'SALES_BRANCH_CODE': 'ORDER_HEADER_SALES_BRANCH_CODE', 'ORDER_DATE': 'ORDER_HEADER_ORDER_DATE', 'RETAILER_SITE_CODE': 'ORDER_HEADER_RETAILER_SITE_CODE', 'RETAILER_CONTACT_CODE': 'ORDER_HEADER_RETAILER_CONTACT_CODE'})\n",
    "\n",
    "order_header.head()"
   ],
   "metadata": {
    "collapsed": false,
    "ExecuteTime": {
     "end_time": "2024-03-12T15:58:12.136997Z",
     "start_time": "2024-03-12T15:58:12.070957Z"
    }
   },
   "id": "1b4956744dca5608",
   "execution_count": 24
  },
  {
   "cell_type": "markdown",
   "source": [
    "### GO_SALES_INVENTORY_LEVELS"
   ],
   "metadata": {
    "collapsed": false
   },
   "id": "dc092095fec002b"
  },
  {
   "cell_type": "code",
   "outputs": [
    {
     "data": {
      "text/plain": "   INVENTORY_YEAR  INVENTORY_MONTH  GO_SALES_INVENTORY_LEVELS_PRODUCT_NUMBER  \\\n0            2021                4                                        48   \n1            2021                4                                        49   \n2            2021                4                                        50   \n3            2021                4                                        51   \n4            2021                4                                        52   \n\n   GO_SALES_INVENTORY_LEVELS_INVENTORY_COUNT  \n0                                       1932  \n1                                       1400  \n2                                      21705  \n3                                       9710  \n4                                       5616  ",
      "text/html": "<div>\n<style scoped>\n    .dataframe tbody tr th:only-of-type {\n        vertical-align: middle;\n    }\n\n    .dataframe tbody tr th {\n        vertical-align: top;\n    }\n\n    .dataframe thead th {\n        text-align: right;\n    }\n</style>\n<table border=\"1\" class=\"dataframe\">\n  <thead>\n    <tr style=\"text-align: right;\">\n      <th></th>\n      <th>INVENTORY_YEAR</th>\n      <th>INVENTORY_MONTH</th>\n      <th>GO_SALES_INVENTORY_LEVELS_PRODUCT_NUMBER</th>\n      <th>GO_SALES_INVENTORY_LEVELS_INVENTORY_COUNT</th>\n    </tr>\n  </thead>\n  <tbody>\n    <tr>\n      <th>0</th>\n      <td>2021</td>\n      <td>4</td>\n      <td>48</td>\n      <td>1932</td>\n    </tr>\n    <tr>\n      <th>1</th>\n      <td>2021</td>\n      <td>4</td>\n      <td>49</td>\n      <td>1400</td>\n    </tr>\n    <tr>\n      <th>2</th>\n      <td>2021</td>\n      <td>4</td>\n      <td>50</td>\n      <td>21705</td>\n    </tr>\n    <tr>\n      <th>3</th>\n      <td>2021</td>\n      <td>4</td>\n      <td>51</td>\n      <td>9710</td>\n    </tr>\n    <tr>\n      <th>4</th>\n      <td>2021</td>\n      <td>4</td>\n      <td>52</td>\n      <td>5616</td>\n    </tr>\n  </tbody>\n</table>\n</div>"
     },
     "execution_count": 25,
     "metadata": {},
     "output_type": "execute_result"
    }
   ],
   "source": [
    "go_sales_inventory_levels = go_sales_inventory_levels.rename(columns={'INVENTORY_COUNT': 'GO_SALES_INVENTORY_LEVELS_INVENTORY_COUNT', 'PRODUCT_NUMBER': 'GO_SALES_INVENTORY_LEVELS_PRODUCT_NUMBER', 'YEAR_MONTH': 'GO_SALES_INVENTORY_LEVELS_YEAR_MONTH'})\n",
    "\n",
    "go_sales_inventory_levels.head()"
   ],
   "metadata": {
    "collapsed": false,
    "ExecuteTime": {
     "end_time": "2024-03-12T15:58:12.145723Z",
     "start_time": "2024-03-12T15:58:12.138103Z"
    }
   },
   "id": "9ab2574dc17f0c43",
   "execution_count": 25
  },
  {
   "cell_type": "markdown",
   "source": [
    "### GO_SALES_PRODUCT_FORECAST"
   ],
   "metadata": {
    "collapsed": false
   },
   "id": "63ea2b3ff0c095ae"
  },
  {
   "cell_type": "code",
   "outputs": [
    {
     "data": {
      "text/plain": "   GO_SALES_PRODUCT_FORECAST_PRODUCT_NUMBER  YEAR  MONTH  \\\n0                                        44  2022     12   \n1                                        45  2021      1   \n2                                        45  2021      2   \n3                                        45  2021      3   \n4                                        45  2021      4   \n\n   GO_SALES_PRODUCT_FORECAST_EXPECTED_VOLUME  \n0                                        383  \n1                                         80  \n2                                         51  \n3                                        214  \n4                                        300  ",
      "text/html": "<div>\n<style scoped>\n    .dataframe tbody tr th:only-of-type {\n        vertical-align: middle;\n    }\n\n    .dataframe tbody tr th {\n        vertical-align: top;\n    }\n\n    .dataframe thead th {\n        text-align: right;\n    }\n</style>\n<table border=\"1\" class=\"dataframe\">\n  <thead>\n    <tr style=\"text-align: right;\">\n      <th></th>\n      <th>GO_SALES_PRODUCT_FORECAST_PRODUCT_NUMBER</th>\n      <th>YEAR</th>\n      <th>MONTH</th>\n      <th>GO_SALES_PRODUCT_FORECAST_EXPECTED_VOLUME</th>\n    </tr>\n  </thead>\n  <tbody>\n    <tr>\n      <th>0</th>\n      <td>44</td>\n      <td>2022</td>\n      <td>12</td>\n      <td>383</td>\n    </tr>\n    <tr>\n      <th>1</th>\n      <td>45</td>\n      <td>2021</td>\n      <td>1</td>\n      <td>80</td>\n    </tr>\n    <tr>\n      <th>2</th>\n      <td>45</td>\n      <td>2021</td>\n      <td>2</td>\n      <td>51</td>\n    </tr>\n    <tr>\n      <th>3</th>\n      <td>45</td>\n      <td>2021</td>\n      <td>3</td>\n      <td>214</td>\n    </tr>\n    <tr>\n      <th>4</th>\n      <td>45</td>\n      <td>2021</td>\n      <td>4</td>\n      <td>300</td>\n    </tr>\n  </tbody>\n</table>\n</div>"
     },
     "execution_count": 26,
     "metadata": {},
     "output_type": "execute_result"
    }
   ],
   "source": [
    "go_sales_product_forecast = go_sales_product_forcast.rename(columns={'EXPECTED_VOLUME': 'GO_SALES_PRODUCT_FORECAST_EXPECTED_VOLUME', 'EXPECTED_COST': 'GO_SALES_PRODUCT_FORECAST_EXPECTED_COST', 'EXPECTED_MARGIN': 'GO_SALES_PRODUCT_FORECAST_EXPECTED_MARGIN', 'PRODUCT_NUMBER': 'GO_SALES_PRODUCT_FORECAST_PRODUCT_NUMBER', 'YEAR_MONTH': 'GO_SALES_PRODUCT_FORECAST_YEAR_MONTH'})\n",
    "\n",
    "go_sales_product_forecast.head()"
   ],
   "metadata": {
    "collapsed": false,
    "ExecuteTime": {
     "end_time": "2024-03-12T15:58:12.157562Z",
     "start_time": "2024-03-12T15:58:12.146836Z"
    }
   },
   "id": "288d7bec80d4571",
   "execution_count": 26
  },
  {
   "cell_type": "markdown",
   "source": [
    "###  SALES_TARGETData"
   ],
   "metadata": {
    "collapsed": false
   },
   "id": "bbc4cad433e188d7"
  },
  {
   "cell_type": "code",
   "outputs": [
    {
     "data": {
      "text/plain": "   Id SALES_TARGETDATA_SALES_STAFF_CODE SALES_TARGETDATA_SALES_YEAR  \\\n0   1                                 6                        2021   \n1   2                                 6                        2021   \n2   3                                 6                        2021   \n3   4                                 6                        2021   \n4   5                                 6                        2021   \n\n  SALES_TARGETDATA_SALES_PERIOD SALES_TARGETDATA_RETAILER_NAME  \\\n0                             5             Altitudes extrêmes   \n1                             5             Altitudes extrêmes   \n2                             5             Altitudes extrêmes   \n3                             5                Camping Sauvage   \n4                             5                Camping Sauvage   \n\n  SALES_TARGETDATA_SALES_TARGET PRODUCT_number  \\\n0                           489             53   \n1                           666             55   \n2                           682             56   \n3                          3193             76   \n4                          7236             85   \n\n  PRODUCT_INTRODUCTION_DATE_introduced PRODUCT_PRODUCT_TYPE_code  \\\n0                            10-1-2021                         8   \n1                            10-1-2021                         8   \n2                            10-1-2021                         8   \n3                            15-2-2011                        12   \n4                            12-6-2015                        14   \n\n  PRODUCT_PRODUCTION_COST_cost PRODUCT_MARGIN_margin PRODUCT_image_image  \\\n0                        28.55                   .28       P53ME2CA8.jpg   \n1                            4                    .5       P55ME2CA8.jpg   \n2                            9                    .5       P56ME2CA8.jpg   \n3                        23.53                    .4      P76PA3KV12.jpg   \n4                       176.47                    .4      P85PA3NV14.jpg   \n\n  PRODUCT_LANGUAGE_language          PRODUCT_name_product  \\\n0                        EN         Firefly Climbing Lamp   \n1                        EN  Firefly Rechargeable Battery   \n2                        EN             Granite Chalk Bag   \n3                        EN                     Bear Edge   \n4                        EN           Glacier GPS Extreme   \n\n                     PRODUCT_description_description  \\\n0  This climbing lamp is water-resistant. It come...   \n1  Rechargeable battery pack for the Firefly Clim...   \n2  Nylon web bag perfect for holding several stic...   \n3  Knife is 33 cm long with a 20 cm blade made of...   \n4  Hand held GPS receiver with color display. Inc...   \n\n  PRODUCT_PRODUCT_LINE_code PRODUCT_PRODUCT_TYPE_code_en  \\\n0                         2         Climbing Accessories   \n1                         2         Climbing Accessories   \n2                         2         Climbing Accessories   \n3                         3                       Knives   \n4                         3                   Navigation   \n\n  PRODUCT_PRODUCT_LINE_code_en RETAILER_code  \n0     Mountaineering Equipment            33  \n1     Mountaineering Equipment            33  \n2     Mountaineering Equipment            33  \n3         Personal Accessories            35  \n4         Personal Accessories            35  ",
      "text/html": "<div>\n<style scoped>\n    .dataframe tbody tr th:only-of-type {\n        vertical-align: middle;\n    }\n\n    .dataframe tbody tr th {\n        vertical-align: top;\n    }\n\n    .dataframe thead th {\n        text-align: right;\n    }\n</style>\n<table border=\"1\" class=\"dataframe\">\n  <thead>\n    <tr style=\"text-align: right;\">\n      <th></th>\n      <th>Id</th>\n      <th>SALES_TARGETDATA_SALES_STAFF_CODE</th>\n      <th>SALES_TARGETDATA_SALES_YEAR</th>\n      <th>SALES_TARGETDATA_SALES_PERIOD</th>\n      <th>SALES_TARGETDATA_RETAILER_NAME</th>\n      <th>SALES_TARGETDATA_SALES_TARGET</th>\n      <th>PRODUCT_number</th>\n      <th>PRODUCT_INTRODUCTION_DATE_introduced</th>\n      <th>PRODUCT_PRODUCT_TYPE_code</th>\n      <th>PRODUCT_PRODUCTION_COST_cost</th>\n      <th>PRODUCT_MARGIN_margin</th>\n      <th>PRODUCT_image_image</th>\n      <th>PRODUCT_LANGUAGE_language</th>\n      <th>PRODUCT_name_product</th>\n      <th>PRODUCT_description_description</th>\n      <th>PRODUCT_PRODUCT_LINE_code</th>\n      <th>PRODUCT_PRODUCT_TYPE_code_en</th>\n      <th>PRODUCT_PRODUCT_LINE_code_en</th>\n      <th>RETAILER_code</th>\n    </tr>\n  </thead>\n  <tbody>\n    <tr>\n      <th>0</th>\n      <td>1</td>\n      <td>6</td>\n      <td>2021</td>\n      <td>5</td>\n      <td>Altitudes extrêmes</td>\n      <td>489</td>\n      <td>53</td>\n      <td>10-1-2021</td>\n      <td>8</td>\n      <td>28.55</td>\n      <td>.28</td>\n      <td>P53ME2CA8.jpg</td>\n      <td>EN</td>\n      <td>Firefly Climbing Lamp</td>\n      <td>This climbing lamp is water-resistant. It come...</td>\n      <td>2</td>\n      <td>Climbing Accessories</td>\n      <td>Mountaineering Equipment</td>\n      <td>33</td>\n    </tr>\n    <tr>\n      <th>1</th>\n      <td>2</td>\n      <td>6</td>\n      <td>2021</td>\n      <td>5</td>\n      <td>Altitudes extrêmes</td>\n      <td>666</td>\n      <td>55</td>\n      <td>10-1-2021</td>\n      <td>8</td>\n      <td>4</td>\n      <td>.5</td>\n      <td>P55ME2CA8.jpg</td>\n      <td>EN</td>\n      <td>Firefly Rechargeable Battery</td>\n      <td>Rechargeable battery pack for the Firefly Clim...</td>\n      <td>2</td>\n      <td>Climbing Accessories</td>\n      <td>Mountaineering Equipment</td>\n      <td>33</td>\n    </tr>\n    <tr>\n      <th>2</th>\n      <td>3</td>\n      <td>6</td>\n      <td>2021</td>\n      <td>5</td>\n      <td>Altitudes extrêmes</td>\n      <td>682</td>\n      <td>56</td>\n      <td>10-1-2021</td>\n      <td>8</td>\n      <td>9</td>\n      <td>.5</td>\n      <td>P56ME2CA8.jpg</td>\n      <td>EN</td>\n      <td>Granite Chalk Bag</td>\n      <td>Nylon web bag perfect for holding several stic...</td>\n      <td>2</td>\n      <td>Climbing Accessories</td>\n      <td>Mountaineering Equipment</td>\n      <td>33</td>\n    </tr>\n    <tr>\n      <th>3</th>\n      <td>4</td>\n      <td>6</td>\n      <td>2021</td>\n      <td>5</td>\n      <td>Camping Sauvage</td>\n      <td>3193</td>\n      <td>76</td>\n      <td>15-2-2011</td>\n      <td>12</td>\n      <td>23.53</td>\n      <td>.4</td>\n      <td>P76PA3KV12.jpg</td>\n      <td>EN</td>\n      <td>Bear Edge</td>\n      <td>Knife is 33 cm long with a 20 cm blade made of...</td>\n      <td>3</td>\n      <td>Knives</td>\n      <td>Personal Accessories</td>\n      <td>35</td>\n    </tr>\n    <tr>\n      <th>4</th>\n      <td>5</td>\n      <td>6</td>\n      <td>2021</td>\n      <td>5</td>\n      <td>Camping Sauvage</td>\n      <td>7236</td>\n      <td>85</td>\n      <td>12-6-2015</td>\n      <td>14</td>\n      <td>176.47</td>\n      <td>.4</td>\n      <td>P85PA3NV14.jpg</td>\n      <td>EN</td>\n      <td>Glacier GPS Extreme</td>\n      <td>Hand held GPS receiver with color display. Inc...</td>\n      <td>3</td>\n      <td>Navigation</td>\n      <td>Personal Accessories</td>\n      <td>35</td>\n    </tr>\n  </tbody>\n</table>\n</div>"
     },
     "execution_count": 27,
     "metadata": {},
     "output_type": "execute_result"
    }
   ],
   "source": [
    "# merge product, retailer and sales_staff\n",
    "go_sales_sales_target_data = pd.merge(go_sales_sales_target_data, product, left_on='PRODUCT_NUMBER', right_on='PRODUCT_number')\n",
    "\n",
    "go_sales_sales_target_data = pd.merge(go_sales_sales_target_data, retailer, left_on='RETAILER_CODE', right_on='RETAILER_code')\n",
    "\n",
    "# delete the original columns that are replaced by product, retailer and sales_staff\n",
    "go_sales_sales_target_data = go_sales_sales_target_data.drop(columns=['PRODUCT_NUMBER', 'RETAILER_CODE', 'RETAILER_name', 'RETAILER_COMPANY_CODE_MR_company', 'RETAILER_RETAILER_TYPE_retailer_type_code', 'RETAILER_RETAILER_TYPE_retailer_type_EN'])\n",
    "\n",
    "# deleting the trial888 column\n",
    "go_sales_sales_target_data = go_sales_sales_target_data.drop(columns=['TRIAL888_x', 'TRIAL888_y', 'TRIAL888'])\n",
    "\n",
    "sales_target_data = go_sales_sales_target_data.rename(columns={'SALES_YEAR': 'SALES_TARGETDATA_SALES_YEAR', 'SALES_PERIOD': 'SALES_TARGETDATA_SALES_PERIOD', 'RETAILER_NAME': 'SALES_TARGETDATA_RETAILER_NAME', 'SALES_TARGET': 'SALES_TARGETDATA_SALES_TARGET', 'TARGET_COST': 'SALES_TARGETDATA_TARGET_COST', 'TARGET_MARGIN': 'SALES_TARGETDATA_TARGET_MARGIN', 'SALES_STAFF_CODE': 'SALES_TARGETDATA_SALES_STAFF_CODE', 'PRODUCT_NUMBER': 'SALES_TARGETDATA_PRODUCT_NUMBER', 'RETAILER_CODE': 'SALES_TARGETDATA_RETAILER_CODE'})\n",
    "\n",
    "sales_target_data.head()"
   ],
   "metadata": {
    "collapsed": false,
    "ExecuteTime": {
     "end_time": "2024-03-12T15:58:12.257084Z",
     "start_time": "2024-03-12T15:58:12.159502Z"
    }
   },
   "id": "c2f565e0160b4bc5",
   "execution_count": 27
  },
  {
   "cell_type": "markdown",
   "source": [
    "# Omzetten van de data\n",
    "Omzetten van de data naar de juiste data types.\n",
    "Year en Date zijn al omgezet naar de juiste data types.\n",
    "GO_SALES_INVENTORY_LEVELS en GO_SALES_PRODUCT_FORECAST hebben ook al de juiste datatypen"
   ],
   "metadata": {
    "collapsed": false
   },
   "id": "45c89ff036eca58f"
  },
  {
   "cell_type": "markdown",
   "source": [
    "### Unit"
   ],
   "metadata": {
    "collapsed": false
   },
   "id": "181c7a93b12d1970"
  },
  {
   "cell_type": "code",
   "outputs": [
    {
     "data": {
      "text/plain": "UNIT_COST_cost      float64\nUNIT_PRICE_price    float64\nUNIT_SALE_sale      float64\ndtype: object"
     },
     "execution_count": 28,
     "metadata": {},
     "output_type": "execute_result"
    }
   ],
   "source": [
    "unit['UNIT_COST_cost'] = unit['UNIT_COST_cost'].astype('float64')\n",
    "unit['UNIT_PRICE_price'] = unit['UNIT_PRICE_price'].astype('float64')\n",
    "unit['UNIT_SALE_sale'] = unit['UNIT_SALE_sale'].astype('float64')\n",
    "\n",
    "unit.dtypes"
   ],
   "metadata": {
    "collapsed": false,
    "ExecuteTime": {
     "end_time": "2024-03-12T15:58:12.283354Z",
     "start_time": "2024-03-12T15:58:12.259239Z"
    }
   },
   "id": "cacf55cc4c604fca",
   "execution_count": 28
  },
  {
   "cell_type": "markdown",
   "source": [
    "### Sales_staff"
   ],
   "metadata": {
    "collapsed": false
   },
   "id": "3216e80489a1934d"
  },
  {
   "cell_type": "code",
   "outputs": [
    {
     "data": {
      "text/plain": "SALES_STAFF_code                                                 int32\nSALES_STAFF_email                                       string[python]\nSALES_STAFF_extension                                   string[python]\nSALES_STAFF_POSITION_EN_position                        string[python]\nSALES_STAFF_WORK_PHONE_work_phone                       string[python]\nSALES_STAFF_DATE_HIRED_hired                            datetime64[ns]\nSALES_STAFF_MANAGER_CODE_manager                                 int64\nSALES_STAFF_FAX_fax                                     string[python]\nSALES_STAFF_FIRST_NAME_first_name                       string[python]\nSALES_STAFF_LAST_NAME_last_name                         string[python]\nSALES_STAFF_SALES_BRANCH_ADDRESS_address                string[python]\nSALES_STAFF_SALES_BRANCH_ADDRESS_EXTRA_address_extra    string[python]\nSALES_STAFF_SALES_BRANCH_CODE_branch_code                        int64\ndtype: object"
     },
     "execution_count": 29,
     "metadata": {},
     "output_type": "execute_result"
    }
   ],
   "source": [
    "sales_staff['SALES_STAFF_code'] = sales_staff['SALES_STAFF_code'].astype('int')\n",
    "sales_staff['SALES_STAFF_email'] = sales_staff['SALES_STAFF_email'].astype('string')\n",
    "sales_staff['SALES_STAFF_extension'] = sales_staff['SALES_STAFF_extension'].astype('string')\n",
    "sales_staff['SALES_STAFF_POSITION_EN_position'] = sales_staff['SALES_STAFF_POSITION_EN_position'].astype('string')\n",
    "sales_staff['SALES_STAFF_WORK_PHONE_work_phone'] = sales_staff['SALES_STAFF_WORK_PHONE_work_phone'].astype('string')\n",
    "sales_staff['SALES_STAFF_DATE_HIRED_hired'] = pd.to_datetime(sales_staff['SALES_STAFF_DATE_HIRED_hired'], format='mixed')\n",
    "sales_staff['SALES_STAFF_MANAGER_CODE_manager'] = sales_staff['SALES_STAFF_MANAGER_CODE_manager'].astype('int64')\n",
    "sales_staff['SALES_STAFF_FAX_fax'] = sales_staff['SALES_STAFF_FAX_fax'].astype('string')\n",
    "sales_staff['SALES_STAFF_FIRST_NAME_first_name'] = sales_staff['SALES_STAFF_FIRST_NAME_first_name'].astype('string')\n",
    "sales_staff['SALES_STAFF_LAST_NAME_last_name'] = sales_staff['SALES_STAFF_LAST_NAME_last_name'].astype('string')\n",
    "sales_staff['SALES_STAFF_SALES_BRANCH_CODE_branch_code'] = sales_staff['SALES_STAFF_SALES_BRANCH_CODE_branch_code'].astype('int64')\n",
    "sales_staff['SALES_STAFF_SALES_BRANCH_ADDRESS_address'] = sales_staff['SALES_STAFF_SALES_BRANCH_ADDRESS_address'].astype('string')\n",
    "sales_staff['SALES_STAFF_SALES_BRANCH_ADDRESS_EXTRA_address_extra'] = sales_staff['SALES_STAFF_SALES_BRANCH_ADDRESS_EXTRA_address_extra'].astype('string')\n",
    "\n",
    "sales_staff.dtypes"
   ],
   "metadata": {
    "collapsed": false,
    "ExecuteTime": {
     "end_time": "2024-03-12T15:58:12.304562Z",
     "start_time": "2024-03-12T15:58:12.284368Z"
    }
   },
   "id": "a14e6f5e5ef63d79",
   "execution_count": 29
  },
  {
   "cell_type": "markdown",
   "source": [
    "### satisfaction_type"
   ],
   "metadata": {
    "collapsed": false
   },
   "id": "e8785e20dcda4096"
  },
  {
   "cell_type": "code",
   "outputs": [
    {
     "data": {
      "text/plain": "SATISFACTION_TYPE_code                    int32\nSATISFACTION_TYPE_DESCRIPTION    string[python]\ndtype: object"
     },
     "execution_count": 30,
     "metadata": {},
     "output_type": "execute_result"
    }
   ],
   "source": [
    "satisfaction_type['SATISFACTION_TYPE_code'] = satisfaction_type['SATISFACTION_TYPE_code'].astype('int')\n",
    "satisfaction_type['SATISFACTION_TYPE_DESCRIPTION'] = satisfaction_type['SATISFACTION_TYPE_DESCRIPTION'].astype('string')\n",
    "\n",
    "satisfaction_type.dtypes"
   ],
   "metadata": {
    "collapsed": false,
    "ExecuteTime": {
     "end_time": "2024-03-12T15:58:12.311393Z",
     "start_time": "2024-03-12T15:58:12.305604Z"
    }
   },
   "id": "cf0c499ca44d0f2c",
   "execution_count": 30
  },
  {
   "cell_type": "markdown",
   "source": [
    "### Course"
   ],
   "metadata": {
    "collapsed": false
   },
   "id": "22c6073850c706a6"
  },
  {
   "cell_type": "code",
   "outputs": [
    {
     "data": {
      "text/plain": "COURSE_code                    int32\nCOURSE_DESCRIPTION    string[python]\ndtype: object"
     },
     "execution_count": 31,
     "metadata": {},
     "output_type": "execute_result"
    }
   ],
   "source": [
    "course['COURSE_code'] = course['COURSE_code'].astype('int')\n",
    "course['COURSE_DESCRIPTION'] = course['COURSE_DESCRIPTION'].astype('string')\n",
    "\n",
    "course.dtypes"
   ],
   "metadata": {
    "collapsed": false,
    "ExecuteTime": {
     "end_time": "2024-03-12T15:58:12.322636Z",
     "start_time": "2024-03-12T15:58:12.312407Z"
    }
   },
   "id": "ba071c23927ffde6",
   "execution_count": 31
  },
  {
   "cell_type": "markdown",
   "source": [
    "### Order"
   ],
   "metadata": {
    "collapsed": false
   },
   "id": "dba98d048459e640"
  },
  {
   "cell_type": "code",
   "outputs": [
    {
     "data": {
      "text/plain": "ORDER_ORDER_METHOD_CODE_method_code             int32\nORDER_ORDER_METHOD_EN_method           string[python]\ndtype: object"
     },
     "execution_count": 32,
     "metadata": {},
     "output_type": "execute_result"
    }
   ],
   "source": [
    "order['ORDER_ORDER_METHOD_CODE_method_code'] = order['ORDER_ORDER_METHOD_CODE_method_code'].astype('int')\n",
    "order['ORDER_ORDER_METHOD_EN_method'] = order['ORDER_ORDER_METHOD_EN_method'].astype('string')\n",
    "\n",
    "order.dtypes"
   ],
   "metadata": {
    "collapsed": false,
    "ExecuteTime": {
     "end_time": "2024-03-12T15:58:12.725082Z",
     "start_time": "2024-03-12T15:58:12.716238Z"
    }
   },
   "id": "3e0fbcf814cc704",
   "execution_count": 32
  },
  {
   "cell_type": "markdown",
   "source": [
    "### Retailer_site"
   ],
   "metadata": {
    "collapsed": false
   },
   "id": "e40a905ea05dfb42"
  },
  {
   "cell_type": "code",
   "outputs": [
    {
     "data": {
      "text/plain": "RETAILER_SITE_code                                    int32\nRETAILER_SITE_RETAILER_CODE_retailer_code             int32\nRETAILER_SITE_ADDRESS1_address               string[python]\nRETAILER_SITE_ADDRESS2_address               string[python]\nRETAILER_SITE_CITY_city                      string[python]\nRETAILER_SITE_REGION_region                  string[python]\nRETAILER_SITE_POSTAL_ZONE_postal_zone        string[python]\nRETAILER_SITE_COUNTRY_CODE_country           string[python]\nRETAILER_SITE_ACTIVE_INDICATOR_indicator              int32\ndtype: object"
     },
     "execution_count": 33,
     "metadata": {},
     "output_type": "execute_result"
    }
   ],
   "source": [
    "retailer_site['RETAILER_SITE_code'] = retailer_site['RETAILER_SITE_code'].astype('int')\n",
    "retailer_site['RETAILER_SITE_COUNTRY_CODE_country'] = retailer_site['RETAILER_SITE_COUNTRY_CODE_country'].astype('string')\n",
    "retailer_site['RETAILER_SITE_CITY_city'] = retailer_site['RETAILER_SITE_CITY_city'].astype('string')\n",
    "retailer_site['RETAILER_SITE_REGION_region'] = retailer_site['RETAILER_SITE_REGION_region'].astype('string')\n",
    "retailer_site['RETAILER_SITE_POSTAL_ZONE_postal_zone'] = retailer_site['RETAILER_SITE_POSTAL_ZONE_postal_zone'].astype('string')\n",
    "retailer_site['RETAILER_SITE_RETAILER_CODE_retailer_code'] = retailer_site['RETAILER_SITE_RETAILER_CODE_retailer_code'].astype('int')\n",
    "retailer_site['RETAILER_SITE_ACTIVE_INDICATOR_indicator'] = retailer_site['RETAILER_SITE_ACTIVE_INDICATOR_indicator'].astype('int')\n",
    "retailer_site['RETAILER_SITE_ADDRESS1_address'] = retailer_site['RETAILER_SITE_ADDRESS1_address'].astype('string')\n",
    "retailer_site['RETAILER_SITE_ADDRESS2_address'] = retailer_site['RETAILER_SITE_ADDRESS2_address'].astype('string')\n",
    "\n",
    "retailer_site.dtypes"
   ],
   "metadata": {
    "collapsed": false,
    "ExecuteTime": {
     "end_time": "2024-03-12T15:58:13.409197Z",
     "start_time": "2024-03-12T15:58:13.398498Z"
    }
   },
   "id": "7862cb29850150bb",
   "execution_count": 33
  },
  {
   "cell_type": "markdown",
   "source": [
    "### Sales_branch"
   ],
   "metadata": {
    "collapsed": false
   },
   "id": "7c0d87b818a9d54b"
  },
  {
   "cell_type": "code",
   "outputs": [
    {
     "data": {
      "text/plain": "SALES_BRANCH_code                                int32\nSALES_BRANCH_ADDRESS1_address           string[python]\nSALES_BRANCH_ADDRESS2_address           string[python]\nSALES_BRANCH_CITY_city                  string[python]\nSALES_BRANCH_REGION_region              string[python]\nSALES_BRANCH_POSTAL_ZONE_postal_zone    string[python]\nSALES_BRANCH_COUNTRY_CODE_country       string[python]\ndtype: object"
     },
     "execution_count": 34,
     "metadata": {},
     "output_type": "execute_result"
    }
   ],
   "source": [
    "sales_branch['SALES_BRANCH_code'] = sales_branch['SALES_BRANCH_code'].astype('int')\n",
    "sales_branch['SALES_BRANCH_COUNTRY_CODE_country'] = sales_branch['SALES_BRANCH_COUNTRY_CODE_country'].astype('string')\n",
    "sales_branch['SALES_BRANCH_REGION_region'] = sales_branch['SALES_BRANCH_REGION_region'].astype('string')\n",
    "sales_branch['SALES_BRANCH_CITY_city'] = sales_branch['SALES_BRANCH_CITY_city'].astype('string')\n",
    "sales_branch['SALES_BRANCH_POSTAL_ZONE_postal_zone'] = sales_branch['SALES_BRANCH_POSTAL_ZONE_postal_zone'].astype('string')\n",
    "sales_branch['SALES_BRANCH_ADDRESS1_address'] = sales_branch['SALES_BRANCH_ADDRESS1_address'].astype('string')\n",
    "sales_branch['SALES_BRANCH_ADDRESS2_address'] = sales_branch['SALES_BRANCH_ADDRESS2_address'].astype('string')\n",
    "\n",
    "sales_branch.dtypes"
   ],
   "metadata": {
    "collapsed": false,
    "ExecuteTime": {
     "end_time": "2024-03-12T15:58:13.875214Z",
     "start_time": "2024-03-12T15:58:13.865132Z"
    }
   },
   "id": "2ea23e262922c320",
   "execution_count": 34
  },
  {
   "cell_type": "markdown",
   "source": [
    "### Retailer_contact"
   ],
   "metadata": {
    "collapsed": false
   },
   "id": "65444d58cc211dc9"
  },
  {
   "cell_type": "code",
   "outputs": [
    {
     "data": {
      "text/plain": "RETAILER_CONTACT_code                                     int32\nRETAILER_CONTACT_RETAILER_SITE_CODE_site_code             int32\nRETAILER_CONTACT_FIRST_NAME_first_name           string[python]\nRETAILER_CONTACT_LAST_NAME_last_name             string[python]\nRETAILER_CONTACT_JOB_POSITION_EN_position        string[python]\nRETAILER_CONTACT_EXTENSION_extension             string[python]\nRETAILER_CONTACT_FAX_fax                         string[python]\nRETAILER_CONTACT_email                           string[python]\nRETAILER_CONTACT_GENDER_gender                   string[python]\ndtype: object"
     },
     "execution_count": 35,
     "metadata": {},
     "output_type": "execute_result"
    }
   ],
   "source": [
    "retailer_contact['RETAILER_CONTACT_code'] = retailer_contact['RETAILER_CONTACT_code'].astype('int')\n",
    "retailer_contact['RETAILER_CONTACT_email'] = retailer_contact['RETAILER_CONTACT_email'].astype('string')\n",
    "retailer_contact['RETAILER_CONTACT_RETAILER_SITE_CODE_site_code'] = retailer_contact['RETAILER_CONTACT_RETAILER_SITE_CODE_site_code'].astype('int')\n",
    "retailer_contact['RETAILER_CONTACT_JOB_POSITION_EN_position'] = retailer_contact['RETAILER_CONTACT_JOB_POSITION_EN_position'].astype('string')\n",
    "retailer_contact['RETAILER_CONTACT_EXTENSION_extension'] = retailer_contact['RETAILER_CONTACT_EXTENSION_extension'].astype('string')\n",
    "retailer_contact['RETAILER_CONTACT_FAX_fax'] = retailer_contact['RETAILER_CONTACT_FAX_fax'].astype('string')\n",
    "retailer_contact['RETAILER_CONTACT_GENDER_gender'] = retailer_contact['RETAILER_CONTACT_GENDER_gender'].astype('string')\n",
    "retailer_contact['RETAILER_CONTACT_FIRST_NAME_first_name'] = retailer_contact['RETAILER_CONTACT_FIRST_NAME_first_name'].astype('string')\n",
    "retailer_contact['RETAILER_CONTACT_LAST_NAME_last_name'] = retailer_contact['RETAILER_CONTACT_LAST_NAME_last_name'].astype('string')\n",
    "\n",
    "retailer_contact.dtypes"
   ],
   "metadata": {
    "collapsed": false,
    "ExecuteTime": {
     "end_time": "2024-03-12T15:58:14.048689Z",
     "start_time": "2024-03-12T15:58:14.038171Z"
    }
   },
   "id": "87e46ec67e98c8a6",
   "execution_count": 35
  },
  {
   "cell_type": "markdown",
   "source": [
    "### Retailer"
   ],
   "metadata": {
    "collapsed": false
   },
   "id": "450a79f1e889a1ca"
  },
  {
   "cell_type": "code",
   "outputs": [
    {
     "data": {
      "text/plain": "RETAILER_code                                         int32\nRETAILER_COMPANY_CODE_MR_company             string[python]\nRETAILER_name                                string[python]\nRETAILER_RETAILER_TYPE_retailer_type_code             int32\nRETAILER_RETAILER_TYPE_retailer_type_EN      string[python]\ndtype: object"
     },
     "execution_count": 36,
     "metadata": {},
     "output_type": "execute_result"
    }
   ],
   "source": [
    "retailer['RETAILER_code'] = retailer['RETAILER_code'].astype('int')\n",
    "retailer['RETAILER_name'] = retailer['RETAILER_name'].astype('string')\n",
    "retailer['RETAILER_COMPANY_CODE_MR_company'] = retailer['RETAILER_COMPANY_CODE_MR_company'].astype('string')\n",
    "retailer['RETAILER_RETAILER_TYPE_retailer_type_code'] = retailer['RETAILER_RETAILER_TYPE_retailer_type_code'].astype('int')\n",
    "retailer['RETAILER_RETAILER_TYPE_retailer_type_EN'] = retailer['RETAILER_RETAILER_TYPE_retailer_type_EN'].astype('string')\n",
    "\n",
    "retailer.dtypes"
   ],
   "metadata": {
    "collapsed": false,
    "ExecuteTime": {
     "end_time": "2024-03-12T15:58:14.095671Z",
     "start_time": "2024-03-12T15:58:14.058942Z"
    }
   },
   "id": "149548ceecb90c98",
   "execution_count": 36
  },
  {
   "cell_type": "markdown",
   "source": [
    "### Product"
   ],
   "metadata": {
    "collapsed": false
   },
   "id": "d677ffe45d5abe42"
  },
  {
   "cell_type": "code",
   "outputs": [
    {
     "data": {
      "text/plain": "PRODUCT_number                                   int32\nPRODUCT_INTRODUCTION_DATE_introduced    datetime64[ns]\nPRODUCT_PRODUCT_TYPE_code               string[python]\nPRODUCT_PRODUCTION_COST_cost                   float64\nPRODUCT_MARGIN_margin                          float64\nPRODUCT_image_image                     string[python]\nPRODUCT_LANGUAGE_language               string[python]\nPRODUCT_name_product                    string[python]\nPRODUCT_description_description         string[python]\nTRIAL888_x                                      object\nPRODUCT_PRODUCT_LINE_code               string[python]\nPRODUCT_PRODUCT_TYPE_code_en            string[python]\nTRIAL888_y                                      object\nPRODUCT_PRODUCT_LINE_code_en            string[python]\ndtype: object"
     },
     "execution_count": 37,
     "metadata": {},
     "output_type": "execute_result"
    }
   ],
   "source": [
    "product['PRODUCT_number'] = product['PRODUCT_number'].astype('int')\n",
    "product['PRODUCT_name_product'] = product['PRODUCT_name_product'].astype('string')\n",
    "product['PRODUCT_description_description'] = product['PRODUCT_description_description'].astype('string')\n",
    "product['PRODUCT_image_image'] = product['PRODUCT_image_image'].astype('string')\n",
    "product['PRODUCT_INTRODUCTION_DATE_introduced'] = pd.to_datetime(product['PRODUCT_INTRODUCTION_DATE_introduced'], format='mixed')\n",
    "product['PRODUCT_PRODUCTION_COST_cost'] = product['PRODUCT_PRODUCTION_COST_cost'].astype('float')\n",
    "product['PRODUCT_MARGIN_margin'] = product['PRODUCT_MARGIN_margin'].astype('float')\n",
    "product['PRODUCT_LANGUAGE_language'] = product['PRODUCT_LANGUAGE_language'].astype('string')\n",
    "product['PRODUCT_PRODUCT_LINE_code'] = product['PRODUCT_PRODUCT_LINE_code'].astype('string')\n",
    "product['PRODUCT_PRODUCT_LINE_code_en'] = product['PRODUCT_PRODUCT_LINE_code_en'].astype('string')\n",
    "product['PRODUCT_PRODUCT_TYPE_code'] = product['PRODUCT_PRODUCT_TYPE_code'].astype('string')\n",
    "product['PRODUCT_PRODUCT_TYPE_code_en'] = product['PRODUCT_PRODUCT_TYPE_code_en'].astype('string')\n",
    "\n",
    "product.dtypes"
   ],
   "metadata": {
    "collapsed": false,
    "ExecuteTime": {
     "end_time": "2024-03-12T15:58:14.144106Z",
     "start_time": "2024-03-12T15:58:14.131213Z"
    }
   },
   "id": "410a95813646af9d",
   "execution_count": 37
  },
  {
   "cell_type": "markdown",
   "source": [
    "### Order_details"
   ],
   "metadata": {
    "collapsed": false
   },
   "id": "655f55aab3323559"
  },
  {
   "cell_type": "code",
   "outputs": [
    {
     "data": {
      "text/plain": "ORDER_DETAIL_CODE                                      object\nORDER_DETAILS_ORDER_NUMBER_order                        int32\nORDER_DETAILS_PRODUCT_NUMBER_product                    int32\nORDER_DETAILS_QUANTITY_quantity                         int32\nORDER_DETAILS_UNIT_ID_unit                              int64\nORDER_DETAILS_UNIT_ID_unit                              int64\nORDER_DETAILS_RETURN_CODE_returned                      int32\nRETURNED_ITEM_DATE_date                        datetime64[ns]\nRETURNED_ITEM_QUANTITY_quantity                         int32\nRETURNED_ITEM_ORDER_DETAIL_CODE_detail_code             int32\nRETURNED_ITEM_RETURN_REASON_code                        int32\nRETURNED_ITEM_RETURN_REASON_desctiption_en     string[python]\ndtype: object"
     },
     "execution_count": 38,
     "metadata": {},
     "output_type": "execute_result"
    }
   ],
   "source": [
    "order_details['ORDER_DETAILS_QUANTITY_quantity'] = order_details['ORDER_DETAILS_QUANTITY_quantity'].astype('int')\n",
    "order_details['ORDER_DETAILS_RETURN_CODE_returned'] = order_details['ORDER_DETAILS_RETURN_CODE_returned'].astype('int')\n",
    "order_details['ORDER_DETAILS_ORDER_NUMBER_order'] = order_details['ORDER_DETAILS_ORDER_NUMBER_order'].astype('int')\n",
    "order_details['ORDER_DETAILS_PRODUCT_NUMBER_product'] = order_details['ORDER_DETAILS_PRODUCT_NUMBER_product'].astype('int')\n",
    "order_details['RETURNED_ITEM_DATE_date'] = pd.to_datetime(order_details['RETURNED_ITEM_DATE_date'], format='mixed')\n",
    "order_details['RETURNED_ITEM_QUANTITY_quantity'] = order_details['RETURNED_ITEM_QUANTITY_quantity'].astype('int')\n",
    "order_details['RETURNED_ITEM_ORDER_DETAIL_CODE_detail_code'] = order_details['RETURNED_ITEM_ORDER_DETAIL_CODE_detail_code'].astype('int')\n",
    "order_details['RETURNED_ITEM_RETURN_REASON_code'] = order_details['RETURNED_ITEM_RETURN_REASON_code'].astype('int')\n",
    "order_details['RETURNED_ITEM_RETURN_REASON_desctiption_en'] = order_details['RETURNED_ITEM_RETURN_REASON_desctiption_en'].astype('string')\n",
    "\n",
    "# unit is already converted\n",
    "\n",
    "order_details.dtypes"
   ],
   "metadata": {
    "collapsed": false,
    "ExecuteTime": {
     "end_time": "2024-03-12T15:58:14.218903Z",
     "start_time": "2024-03-12T15:58:14.169690Z"
    }
   },
   "id": "346f7927ae20be28",
   "execution_count": 38
  },
  {
   "cell_type": "markdown",
   "source": [
    "### Returned_item"
   ],
   "metadata": {
    "collapsed": false
   },
   "id": "65e24f73d68065d5"
  },
  {
   "cell_type": "code",
   "outputs": [
    {
     "data": {
      "text/plain": "RETURNED_ITEM_code                                      int32\nRETURNED_ITEM_DATE_date                        datetime64[ns]\nRETURNED_ITEM_QUANTITY_quantity                         int32\nRETURNED_ITEM_ORDER_DETAIL_CODE_detail_code             int32\nRETURNED_ITEM_RETURN_REASON_code                        int32\nRETURNED_ITEM_RETURN_REASON_desctiption_en     string[python]\ndtype: object"
     },
     "execution_count": 39,
     "metadata": {},
     "output_type": "execute_result"
    }
   ],
   "source": [
    "returned_item['RETURNED_ITEM_code'] = returned_item['RETURNED_ITEM_code'].astype('int')\n",
    "returned_item['RETURNED_ITEM_DATE_date'] = pd.to_datetime(returned_item['RETURNED_ITEM_DATE_date'], format='mixed')\n",
    "returned_item['RETURNED_ITEM_QUANTITY_quantity'] = returned_item['RETURNED_ITEM_QUANTITY_quantity'].astype('int')\n",
    "returned_item['RETURNED_ITEM_ORDER_DETAIL_CODE_detail_code'] = returned_item['RETURNED_ITEM_ORDER_DETAIL_CODE_detail_code'].astype('int')\n",
    "returned_item['RETURNED_ITEM_RETURN_REASON_code'] = returned_item['RETURNED_ITEM_RETURN_REASON_code'].astype('int')\n",
    "returned_item['RETURNED_ITEM_RETURN_REASON_desctiption_en'] = returned_item['RETURNED_ITEM_RETURN_REASON_desctiption_en'].astype('string')\n",
    "\n",
    "returned_item.dtypes"
   ],
   "metadata": {
    "collapsed": false,
    "ExecuteTime": {
     "end_time": "2024-03-12T15:58:14.300138Z",
     "start_time": "2024-03-12T15:58:14.249399Z"
    }
   },
   "id": "b96edc784fabbf6c",
   "execution_count": 39
  },
  {
   "cell_type": "markdown",
   "source": [
    "### Sales_Targetdata"
   ],
   "metadata": {
    "collapsed": false
   },
   "id": "5670721e8fd1c035"
  },
  {
   "cell_type": "code",
   "outputs": [
    {
     "data": {
      "text/plain": "Id                                               int64\nSALES_TARGETDATA_SALES_STAFF_CODE                int32\nSALES_TARGETDATA_SALES_YEAR                      int32\nSALES_TARGETDATA_SALES_PERIOD           string[python]\nSALES_TARGETDATA_RETAILER_NAME          string[python]\nSALES_TARGETDATA_SALES_TARGET                  float64\nPRODUCT_number                                   int32\nPRODUCT_INTRODUCTION_DATE_introduced    datetime64[ns]\nPRODUCT_PRODUCT_TYPE_code               string[python]\nPRODUCT_PRODUCTION_COST_cost                   float64\nPRODUCT_MARGIN_margin                           object\nPRODUCT_image_image                             object\nPRODUCT_LANGUAGE_language                       object\nPRODUCT_name_product                            object\nPRODUCT_description_description                 object\nPRODUCT_PRODUCT_LINE_code                       object\nPRODUCT_PRODUCT_TYPE_code_en                    object\nPRODUCT_PRODUCT_LINE_code_en                    object\nRETAILER_code                                   object\ndtype: object"
     },
     "execution_count": 40,
     "metadata": {},
     "output_type": "execute_result"
    }
   ],
   "source": [
    "sales_target_data['SALES_TARGETDATA_SALES_YEAR'] = sales_target_data['SALES_TARGETDATA_SALES_YEAR'].astype('int')\n",
    "sales_target_data['SALES_TARGETDATA_SALES_PERIOD'] = sales_target_data['SALES_TARGETDATA_SALES_PERIOD'].astype('string')\n",
    "sales_target_data['SALES_TARGETDATA_RETAILER_NAME'] = sales_target_data['SALES_TARGETDATA_RETAILER_NAME'].astype('string')\n",
    "sales_target_data['SALES_TARGETDATA_SALES_TARGET'] = sales_target_data['SALES_TARGETDATA_SALES_TARGET'].astype('float64')\n",
    "sales_target_data['SALES_TARGETDATA_SALES_STAFF_CODE'] = sales_target_data['SALES_TARGETDATA_SALES_STAFF_CODE'].astype('int')\n",
    "sales_target_data['PRODUCT_number'] = sales_target_data['PRODUCT_number'].astype('int')\n",
    "sales_target_data['PRODUCT_INTRODUCTION_DATE_introduced'] = pd.to_datetime(sales_target_data['PRODUCT_INTRODUCTION_DATE_introduced'], format='mixed')\n",
    "sales_target_data['PRODUCT_PRODUCTION_COST_cost'] = sales_target_data['PRODUCT_PRODUCTION_COST_cost'].astype('float64')\n",
    "sales_target_data['PRODUCT_PRODUCT_TYPE_code'] = sales_target_data['PRODUCT_PRODUCT_TYPE_code'].astype('string')\n",
    "\n",
    "sales_target_data.dtypes"
   ],
   "metadata": {
    "collapsed": false,
    "ExecuteTime": {
     "end_time": "2024-03-12T15:58:14.349456Z",
     "start_time": "2024-03-12T15:58:14.305278Z"
    }
   },
   "id": "1e1b8f509d6b7f0a",
   "execution_count": 40
  },
  {
   "cell_type": "markdown",
   "source": [
    "### Training"
   ],
   "metadata": {
    "collapsed": false
   },
   "id": "2d4e1edb7e7d5926"
  },
  {
   "cell_type": "code",
   "outputs": [
    {
     "data": {
      "text/plain": "TRAINING_YEAR                         int32\nTRAINING_SALES_STAFF_CODE             int32\nTRAINING_COURSE_CODE                  int32\nCOURSE_code                           int32\nCOURSE_DESCRIPTION           string[python]\ndtype: object"
     },
     "execution_count": 41,
     "metadata": {},
     "output_type": "execute_result"
    }
   ],
   "source": [
    "training['TRAINING_SALES_STAFF_CODE'] = training['TRAINING_SALES_STAFF_CODE'].astype('int')\n",
    "training['TRAINING_COURSE_CODE'] = training['TRAINING_COURSE_CODE'].astype('int')\n",
    "training['TRAINING_YEAR'] = training['TRAINING_YEAR'].astype('int')\n",
    "training['COURSE_code'] = training['COURSE_code'].astype('int')\n",
    "training['COURSE_DESCRIPTION'] = training['COURSE_DESCRIPTION'].astype('string')\n",
    "\n",
    "training.dtypes"
   ],
   "metadata": {
    "collapsed": false,
    "ExecuteTime": {
     "end_time": "2024-03-12T15:58:14.371491Z",
     "start_time": "2024-03-12T15:58:14.361061Z"
    }
   },
   "id": "6c331e4c8861e862",
   "execution_count": 41
  },
  {
   "cell_type": "markdown",
   "source": [
    "### Satisfaction"
   ],
   "metadata": {
    "collapsed": false
   },
   "id": "40f0945d66c7e4f2"
  },
  {
   "cell_type": "code",
   "outputs": [
    {
     "data": {
      "text/plain": "SATISFACTION_YEAR                               int32\nSATISFACTION_SALES_STAFF_CODE                   int32\nSATISFACTION_SATISFACTION_TYPE_CODE             int32\nSATISFACTION_TYPE_code                          int32\nSATISFACTION_TYPE_DESCRIPTION          string[python]\ndtype: object"
     },
     "execution_count": 42,
     "metadata": {},
     "output_type": "execute_result"
    }
   ],
   "source": [
    "satisfaction['SATISFACTION_SALES_STAFF_CODE'] = satisfaction['SATISFACTION_SALES_STAFF_CODE'].astype('int')\n",
    "satisfaction['SATISFACTION_SATISFACTION_TYPE_CODE'] = satisfaction['SATISFACTION_SATISFACTION_TYPE_CODE'].astype('int')\n",
    "satisfaction['SATISFACTION_YEAR'] = satisfaction['SATISFACTION_YEAR'].astype('int')\n",
    "satisfaction['SATISFACTION_TYPE_code'] = satisfaction['SATISFACTION_TYPE_code'].astype('int')\n",
    "satisfaction['SATISFACTION_TYPE_DESCRIPTION'] = satisfaction['SATISFACTION_TYPE_DESCRIPTION'].astype('string')\n",
    "\n",
    "satisfaction.dtypes"
   ],
   "metadata": {
    "collapsed": false,
    "ExecuteTime": {
     "end_time": "2024-03-12T15:58:14.393105Z",
     "start_time": "2024-03-12T15:58:14.382772Z"
    }
   },
   "id": "394c97c0d1462b01",
   "execution_count": 42
  },
  {
   "cell_type": "markdown",
   "source": [],
   "metadata": {
    "collapsed": false
   },
   "id": "f647aa4aa7a525b7"
  },
  {
   "cell_type": "markdown",
   "source": [
    "### Order_header"
   ],
   "metadata": {
    "collapsed": false
   },
   "id": "a8d0539a6adbc41a"
  },
  {
   "cell_type": "code",
   "outputs": [
    {
     "data": {
      "text/plain": "ORDER_HEADER_number                                              int32\nORDER_HEADER_RETAILER_NAME                              string[python]\nORDER_HEADER_RETAILER_SITE_CODE                                  int32\nORDER_HEADER_RETAILER_CONTACT_CODE                               int32\nORDER_HEADER_SALES_STAFF                                         int32\nORDER_HEADER_SALES_BRANCH_CODE                                   int32\nORDER_HEADER_ORDER_DATE                                 datetime64[ns]\nORDER_METHOD_CODE                                                int32\nRETAILER_code                                                   object\nRETAILER_COMPANY_CODE_MR_company                        string[python]\nRETAILER_name                                                   object\nRETAILER_RETAILER_TYPE_retailer_type_code                       object\nRETAILER_RETAILER_TYPE_retailer_type_EN                         object\nSALES_STAFF_code                                                object\nSALES_STAFF_email                                               object\nSALES_STAFF_extension                                           object\nSALES_STAFF_POSITION_EN_position                                object\nSALES_STAFF_WORK_PHONE_work_phone                               object\nSALES_STAFF_DATE_HIRED_hired                                    object\nSALES_STAFF_MANAGER_CODE_manager                                object\nSALES_STAFF_FAX_fax                                             object\nSALES_STAFF_FIRST_NAME_first_name                               object\nSALES_STAFF_LAST_NAME_last_name                                 object\nSALES_STAFF_SALES_BRANCH_ADDRESS_address                        object\nSALES_STAFF_SALES_BRANCH_ADDRESS_EXTRA_address_extra            object\nSALES_STAFF_SALES_BRANCH_CODE_branch_code                       object\nRETAILER_SITE_code                                              object\nRETAILER_SITE_RETAILER_CODE_retailer_code                       object\nRETAILER_SITE_ADDRESS1_address                                  object\nRETAILER_SITE_ADDRESS2_address                                  object\nRETAILER_SITE_CITY_city                                         object\nRETAILER_SITE_REGION_region                                     object\nRETAILER_SITE_POSTAL_ZONE_postal_zone                           object\nRETAILER_SITE_COUNTRY_CODE_country                              object\nRETAILER_SITE_ACTIVE_INDICATOR_indicator                        object\nRETAILER_CONTACT_code                                           object\nRETAILER_CONTACT_RETAILER_SITE_CODE_site_code                   object\nRETAILER_CONTACT_FIRST_NAME_first_name                          object\nRETAILER_CONTACT_LAST_NAME_last_name                            object\nRETAILER_CONTACT_JOB_POSITION_EN_position                       object\nRETAILER_CONTACT_EXTENSION_extension                            object\nRETAILER_CONTACT_FAX_fax                                        object\nRETAILER_CONTACT_email                                          object\nRETAILER_CONTACT_GENDER_gender                                  object\nRETAILER_CODE                                                    int32\ndtype: object"
     },
     "execution_count": 43,
     "metadata": {},
     "output_type": "execute_result"
    }
   ],
   "source": [
    "order_header['ORDER_HEADER_number'] = order_header['ORDER_HEADER_number'].astype('int')\n",
    "order_header['ORDER_HEADER_RETAILER_NAME'] = order_header['ORDER_HEADER_RETAILER_NAME'].astype('string')\n",
    "order_header['ORDER_HEADER_SALES_STAFF'] = order_header['ORDER_HEADER_SALES_STAFF'].astype('int')\n",
    "order_header['ORDER_HEADER_SALES_BRANCH_CODE'] = order_header['ORDER_HEADER_SALES_BRANCH_CODE'].astype('int')\n",
    "order_header['ORDER_HEADER_RETAILER_SITE_CODE'] = order_header['ORDER_HEADER_RETAILER_SITE_CODE'].astype('int')\n",
    "order_header['ORDER_HEADER_RETAILER_CONTACT_CODE'] = order_header['ORDER_HEADER_RETAILER_CONTACT_CODE'].astype('int')\n",
    "order_header['ORDER_METHOD_CODE'] = order_header['ORDER_METHOD_CODE'].astype('int')\n",
    "order_header['RETAILER_CODE'] = order_header['RETAILER_code'].astype('int')\n",
    "order_header['RETAILER_COMPANY_CODE_MR_company'] = order_header['RETAILER_COMPANY_CODE_MR_company'].astype('string')\n",
    "\n",
    "order_header.dtypes"
   ],
   "metadata": {
    "collapsed": false,
    "ExecuteTime": {
     "end_time": "2024-03-12T15:58:14.480679Z",
     "start_time": "2024-03-12T15:58:14.463657Z"
    }
   },
   "id": "bb316f9b4f8d6522",
   "execution_count": 43
  },
  {
   "cell_type": "markdown",
   "source": [
    "# Toevoegen van nieuwe kolommen\n",
    "Toevoegen van de afgeleide informatie die ook in het ETL en de data warehouse moet komen.\n",
    "Full name is al gedaan via sql"
   ],
   "metadata": {
    "collapsed": false
   },
   "id": "36159d94f009e1a3"
  },
  {
   "cell_type": "code",
   "outputs": [],
   "source": [
    "#TODO"
   ],
   "metadata": {
    "collapsed": false,
    "ExecuteTime": {
     "end_time": "2024-03-12T15:58:14.508495Z",
     "start_time": "2024-03-12T15:58:14.503855Z"
    }
   },
   "id": "a603455041afffbb",
   "execution_count": 44
  }
 ],
 "metadata": {
  "kernelspec": {
   "display_name": "Python 3",
   "language": "python",
   "name": "python3"
  },
  "language_info": {
   "codemirror_mode": {
    "name": "ipython",
    "version": 2
   },
   "file_extension": ".py",
   "mimetype": "text/x-python",
   "name": "python",
   "nbconvert_exporter": "python",
   "pygments_lexer": "ipython2",
   "version": "2.7.6"
  }
 },
 "nbformat": 4,
 "nbformat_minor": 5
}
