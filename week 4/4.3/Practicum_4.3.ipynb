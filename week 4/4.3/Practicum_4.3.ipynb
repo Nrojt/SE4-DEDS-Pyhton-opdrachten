{
 "cells": [
  {
   "cell_type": "markdown",
   "id": "d086cc99c4d69011",
   "metadata": {
    "collapsed": false
   },
   "source": [
    "Practicumopdrachten Week 4.3 (eerste kans)"
   ]
  },
  {
   "cell_type": "markdown",
   "id": "c899ef6a9a61a928",
   "metadata": {
    "collapsed": false
   },
   "source": [
    "Dependecies"
   ]
  },
  {
   "cell_type": "code",
   "execution_count": 1,
   "id": "53ceadd40e419431",
   "metadata": {
    "collapsed": false,
    "ExecuteTime": {
     "end_time": "2024-03-13T11:46:01.499133Z",
     "start_time": "2024-03-13T11:46:00.489620Z"
    }
   },
   "outputs": [],
   "source": [
    "import pandas as pd\n",
    "import pyodbc\n",
    "import sqlite3"
   ]
  },
  {
   "cell_type": "markdown",
   "id": "823d7a97f719ddcb",
   "metadata": {
    "collapsed": false
   },
   "source": [
    "Connectie met smss database"
   ]
  },
  {
   "cell_type": "code",
   "execution_count": 2,
   "id": "948252c29b10a629",
   "metadata": {
    "collapsed": false,
    "ExecuteTime": {
     "end_time": "2024-03-13T11:46:01.758771Z",
     "start_time": "2024-03-13T11:46:01.534694Z"
    }
   },
   "outputs": [
    {
     "name": "stdout",
     "output_type": "stream",
     "text": [
      "Connection with database is established\n"
     ]
    }
   ],
   "source": [
    "DB = {\n",
    "    'servername': '(local)\\\\SQLEXPRESS',\n",
    "    'database': 'DEDS_DataWarehouse',}\n",
    "\n",
    "export_conn = pyodbc.connect('DRIVER={SQL Server};SERVER=' + DB['servername'] + ';DATABASE=' + DB['database'] + ';Trusted_Connection=yes')\n",
    "\n",
    "export_cursor = export_conn.cursor()\n",
    "\n",
    "# check if connection is successful, else throw an error\n",
    "if export_conn:\n",
    "    print(\"Connection with database is established\")\n",
    "else:\n",
    "    print(\"Connection with database is not established\")\n",
    "    #raise Exception(\"Connection with database is not established\")"
   ]
  },
  {
   "cell_type": "markdown",
   "id": "9c06294903211408",
   "metadata": {
    "collapsed": false
   },
   "source": [
    "# Brontabellen\n",
    "importeer de brontabellen uit de brondata foler"
   ]
  },
  {
   "cell_type": "code",
   "execution_count": 3,
   "id": "7e3485e0d80801c9",
   "metadata": {
    "collapsed": false,
    "ExecuteTime": {
     "end_time": "2024-03-13T11:46:01.961013Z",
     "start_time": "2024-03-13T11:46:01.952290Z"
    }
   },
   "outputs": [],
   "source": [
    "# Connectie met sqlite databases\n",
    "go_crm_connection = sqlite3.connect('brondata/go_crm.sqlite')\n",
    "go_sales_connection = sqlite3.connect('brondata/go_sales.sqlite')\n",
    "go_staff_connection = sqlite3.connect('brondata/go_staff.sqlite')\n"
   ]
  },
  {
   "cell_type": "code",
   "execution_count": 4,
   "id": "80afb12db9f862d",
   "metadata": {
    "collapsed": false,
    "ExecuteTime": {
     "end_time": "2024-03-13T11:46:02.105554Z",
     "start_time": "2024-03-13T11:46:02.090781Z"
    }
   },
   "outputs": [],
   "source": [
    "# inlezen csv bestanden\n",
    "go_sales_inventory_levels = pd.read_csv('brondata/GO_SALES_INVENTORY_LEVELSData.csv')\n",
    "go_sales_product_forcast = pd.read_csv('brondata/GO_SALES_PRODUCT_FORECASTData.csv')"
   ]
  },
  {
   "cell_type": "markdown",
   "id": "e4ca8a748b700495",
   "metadata": {
    "collapsed": false
   },
   "source": [
    "## Inlezen van de sqlite tabellen"
   ]
  },
  {
   "cell_type": "markdown",
   "id": "94c4cad4f19bfd1e",
   "metadata": {
    "collapsed": false
   },
   "source": [
    "### go_crm"
   ]
  },
  {
   "cell_type": "code",
   "execution_count": 5,
   "id": "689787d21e2dd6f3",
   "metadata": {
    "collapsed": false,
    "ExecuteTime": {
     "end_time": "2024-03-13T11:46:02.161430Z",
     "start_time": "2024-03-13T11:46:02.138240Z"
    }
   },
   "outputs": [],
   "source": [
    "go_crm_age_group = pd.read_sql_query(\"SELECT * FROM age_group\", go_crm_connection)\n",
    "go_crm_country = pd.read_sql_query(\"SELECT * FROM country\", go_crm_connection)\n",
    "go_crm_retailer = pd.read_sql_query(\"SELECT * FROM retailer\", go_crm_connection)\n",
    "go_crm_retailer_contact = pd.read_sql_query(\"SELECT * FROM retailer_contact\", go_crm_connection)\n",
    "go_crm_retailer_headquarters = pd.read_sql_query(\"SELECT * FROM retailer_headquarters\", go_crm_connection)\n",
    "go_crm_retailer_segment = pd.read_sql_query(\"SELECT * FROM retailer_segment\", go_crm_connection)\n",
    "go_crm_retailer_site = pd.read_sql_query(\"SELECT * FROM retailer_site\", go_crm_connection)\n",
    "go_crm_retailer_type = pd.read_sql_query(\"SELECT * FROM retailer_type\", go_crm_connection)\n",
    "go_crm_sales_demographic = pd.read_sql_query(\"SELECT * FROM sales_demographic\", go_crm_connection)\n",
    "go_crm_sales_territory = pd.read_sql_query(\"SELECT * FROM sales_territory\", go_crm_connection)"
   ]
  },
  {
   "cell_type": "markdown",
   "id": "c0d3bb6ca017c9f5",
   "metadata": {
    "collapsed": false
   },
   "source": [
    "### go_sales"
   ]
  },
  {
   "cell_type": "code",
   "execution_count": 6,
   "id": "57ccae2b6fd7637c",
   "metadata": {
    "collapsed": false,
    "ExecuteTime": {
     "end_time": "2024-03-13T11:46:02.476032Z",
     "start_time": "2024-03-13T11:46:02.193078Z"
    }
   },
   "outputs": [],
   "source": [
    "go_sales_country = pd.read_sql_query(\"SELECT * FROM country\", go_sales_connection)\n",
    "go_sales_order_details = pd.read_sql_query(\"SELECT * FROM order_details\", go_sales_connection)\n",
    "go_sales_order_header = pd.read_sql_query(\"SELECT * FROM order_header\", go_sales_connection)\n",
    "go_sales_order_method = pd.read_sql_query(\"SELECT * FROM order_method\", go_sales_connection)\n",
    "go_sales_product = pd.read_sql_query(\"SELECT * FROM product\", go_sales_connection)\n",
    "go_sales_product_line = pd.read_sql_query(\"SELECT * FROM product_line\", go_sales_connection)\n",
    "go_sales_product_type = pd.read_sql_query(\"SELECT * FROM product_type\", go_sales_connection)\n",
    "go_sales_retailer_site = pd.read_sql_query(\"SELECT * FROM retailer_site\", go_sales_connection)\n",
    "go_sales_return_reason = pd.read_sql_query(\"SELECT * FROM return_reason\", go_sales_connection)\n",
    "go_sales_returned_item = pd.read_sql_query(\"SELECT * FROM returned_item\", go_sales_connection)\n",
    "go_sales_sales_branch = pd.read_sql_query(\"SELECT * FROM sales_branch\", go_sales_connection)\n",
    "go_sales_sales_staff = pd.read_sql_query(\"SELECT * FROM sales_staff\", go_sales_connection)\n",
    "go_sales_sales_target_data = pd.read_sql(\"SELECT * FROM SALES_TARGETData\", go_sales_connection)"
   ]
  },
  {
   "cell_type": "markdown",
   "id": "169a4aba88468c64",
   "metadata": {
    "collapsed": false
   },
   "source": [
    "### go_staff"
   ]
  },
  {
   "cell_type": "code",
   "execution_count": 7,
   "id": "2f2206ef6f8f73ef",
   "metadata": {
    "collapsed": false,
    "ExecuteTime": {
     "end_time": "2024-03-13T11:46:02.489554Z",
     "start_time": "2024-03-13T11:46:02.477541Z"
    }
   },
   "outputs": [],
   "source": [
    "go_staff_course = pd.read_sql_query(\"SELECT * FROM course\", go_staff_connection)\n",
    "go_staff_sales_branch = pd.read_sql_query(\"SELECT * FROM sales_branch\", go_staff_connection)\n",
    "go_staff_sales_staff = pd.read_sql_query(\"SELECT * FROM sales_staff\", go_staff_connection)\n",
    "go_staff_satisfaction = pd.read_sql_query(\"SELECT * FROM satisfaction\", go_staff_connection)\n",
    "go_staff_satisfaction_type = pd.read_sql_query(\"SELECT * FROM satisfaction_type\", go_staff_connection)\n",
    "go_staff_training = pd.read_sql_query(\"SELECT * FROM training\", go_staff_connection)"
   ]
  },
  {
   "cell_type": "markdown",
   "id": "650835d0566406ab",
   "metadata": {
    "collapsed": false
   },
   "source": []
  },
  {
   "cell_type": "markdown",
   "id": "9519bb1f61aa945f",
   "metadata": {
    "collapsed": false
   },
   "source": [
    "# Combineren van de tabellen\n",
    "Combineren van de brondata om tot ons ETL te komen\n",
    "\n",
    "| Returned_item |\n",
    "| --- |\n",
    "| RETURNED_ITEM_code |\n",
    "| RETURNED_ITEM_DATE_date |\n",
    "| RETURNED_ITEM_QUANTITY_quantity |\n",
    "| RETURNED_ITEM_ORDER_DETAIL_CODE_detail_code |\n",
    "| RETURNED_ITEM_RETURN_REASON_code |\n",
    "| RETURNED_ITEM_RETURN_REASON_desctiption_en |\n",
    "| RETURNED_ITEM_RETURNED_ITEMS_TOTAL_PRICE_total |\n",
    "\n",
    "| Unit |\n",
    "| --- |\n",
    "| UNIT_id |\n",
    "| UNIT_COST_cost |\n",
    "| UNIT_PRICE_price |\n",
    "| UNIT_SALE_sale |\n",
    "\n",
    "| Sales_staff |\n",
    "| --- |\n",
    "| SALES_STAFF__code |\n",
    "| SALES_STAFF_email |\n",
    "| SALES_STAFF_extension |\n",
    "| SALES_STAFF_POSITION_EN_position |\n",
    "| SALES_STAFF_WORK_PHONE_work_phone |\n",
    "| SALES_STAFF_DATE_HIRED_hired |\n",
    "| SALES_STAFF_MANAGER_CODE_manager |\n",
    "| SALES_STAFF_FAX_fax |\n",
    "| SALES_STAFF_FIRST_NAME_first_name |\n",
    "| SALES_STAFF_LAST_NAME_last_name |\n",
    "| SALES_STAFF_FULL_NAME__full_name |\n",
    "| SALES_STAFF_SALES_BRANCH_CODE_branch_code |\n",
    "| SALES_STAFF_SALES_BRANCH_ADDRESS_address |\n",
    "| SALES_STAFF_SALES_BRANCH_ADDRESS_EXTRA_address_extra |\n",
    "\n",
    "| Satisfaction_type |\n",
    "| --- |\n",
    "| SATISFACTION_TYPE_code |\n",
    "| SATISFACTION_TYPE_description |\n",
    "| SATISFACTION_TYPE_description_short |\n",
    "\n",
    "| Course |\n",
    "| --- |\n",
    "| COURSE_code |\n",
    "| COURSE_description |\n",
    "| COURSE_description_short |\n",
    "\n",
    "| Year |\n",
    "| --- |\n",
    "| YEAR |\n",
    "\n",
    "| Date            | \n",
    "|-----------------|\n",
    "| DATE_date       |\n",
    "| DATE_YEAR_year  |\n",
    "| DATE_MONTH_month |\n",
    "| DATE_DAY_day |\n",
    "\n",
    "| Order |\n",
    "| --- |\n",
    "| ORDER_order_number |\n",
    "| ORDER_ORDER_METHOD_CODE_method_code |\n",
    "| ORDER_ORDER_METHOD_EN_method |\n",
    "\n",
    "| Retailer_site |\n",
    "| --- |\n",
    "| RETAILER_SITE_code |\n",
    "| RETAILER_SITE_COUNTRY_CODE_country |\n",
    "| RETAILER_SITE_CITY_city |\n",
    "| RETAILER_SITE_REGION_region |\n",
    "| RETAILER_SITE_POSTAL_ZONE_postal_zone |\n",
    "| RETAILER_SITE_RETAILER_CODE_retailer_code |\n",
    "| RETAILER_SITE_ACTIVE_INDICATOR_indicator |\n",
    "| RETAILER_SITE_ADDRESS1_address |\n",
    "| RETAILER_SITE_ADDRESS2_address |\n",
    "| RETAILER_SITE_MAIN_ADDRESS__address |\n",
    "\n",
    "| Sales_branch |\n",
    "| --- |\n",
    "| SALES_BRANCH_code |\n",
    "| SALES_BRANCH_COUNTRY_CODE_country |\n",
    "| SALES_BRANCH_REGION_region |\n",
    "| SALES_BRANCH_CITY_city |\n",
    "| SALES_BRANCH_POSTAL_ZONE_postal_zone |\n",
    "| SALES_BRANCH_ADDRESS1_address |\n",
    "| SALES_BRANCH_ADDRESS2_address |\n",
    "| SALES_BRANCH_MAIN_ADDRESS_address |\n",
    "\n",
    "| Retailer_contact |\n",
    "| --- |\n",
    "| RETAILER_CONTACT_code |\n",
    "| RETAILER_CONTACT_email |\n",
    "| RETAILER_CONTACT_RETAILER_SITE_CODE_site_code |\n",
    "| RETAILER_CONTACT_JOB_POSITION_EN_position |\n",
    "| RETAILER_CONTACT_EXTENSION_extension |\n",
    "| RETAILER_CONTACT_FAX_fax |\n",
    "| RETAILER_CONTACT_GENDER_gender |\n",
    "| RETAILER_CONTACT_FIRST_NAME_first_name |\n",
    "| RETAILER_CONTACT_LAST_NAME_last_name |\n",
    "| RETAILER_CONTACT_FULL_NAME_full_name |\n",
    "\n",
    "| Retailer |\n",
    "| --- |\n",
    "| RETAILER_code |\n",
    "| RETAILER__name |\n",
    "| RETAILER_COMPANY_CODEMR_company |\n",
    "| RETAILER_RETAILER_TYPE_retailer_type_code |\n",
    "| RETAILER_RETAILER_TYPE_retailer_type_EN |\n",
    "\n",
    "| Product |\n",
    "| --- |\n",
    "| PRODUCT_number |\n",
    "| PRODUCT_name_product |\n",
    "| PRODUCT_description_description |\n",
    "| PRODUCT_image_image |\n",
    "| PRODUCT_INTRODUCTION_DATE_introduced |\n",
    "| PRODUCT_PRODUCTION_COST_cost |\n",
    "| PRODUCT_MARGIN_margin |\n",
    "| PRODUCT_LANGUAGE_language |\n",
    "| PRODUCT_MINIMUM_SALE_PRICE_minPrice |\n",
    "| PRODUCT_PRODUCT_LINE_code |\n",
    "| PRODUCT_PRODUCT_LINE_code_en |\n",
    "| PRODUCT_PRODUCT_TYPE_code |\n",
    "| PRODUCT_PRODUCT_TYPE_code_en |\n",
    "\n",
    "| Order_details |\n",
    "| --- |\n",
    "| ORDER_DETAILS_code |\n",
    "| ORDER_DETAILS_QUANTITY_quantity |\n",
    "| ORDER_DETAILS_TOTAL_COST_total |\n",
    "| ORDER_DETAILS_TOTAL_MARGIN_margin |\n",
    "| ORDER_DETAILS_RETURN_CODE_returned |\n",
    "| ORDER_DETAILS_ORDER_NUMBER_order |\n",
    "| ORDER_DETAILS_PRODUCT_NUMBER_product |\n",
    "| ORDER_DETAILS_UNIT_ID_unit |\n",
    "\n",
    "| SALES_TARGETData |\n",
    "| --- |\n",
    "| SALES_TARGETDATA_id |\n",
    "| SALES_TARGETDATA_SALES_YEAR |\n",
    "| SALES_TARGETDATA_SALES_PERIOD |\n",
    "| SALES_TARGETDATA_RETAILER_NAME |\n",
    "| SALES_TARGETDATA_SALES_TARGET |\n",
    "| SALES_TARGETDATA_TARGET_COST |\n",
    "| SALES_TARGETDATA_TARGET_MARGIN |\n",
    "| SALES_TARGETDATA_SALES_STAFF_CODE |\n",
    "| SALES_TARGETDATA_PRODUCT_NUMBER |\n",
    "| SALES_TARGETDATA_RETAILER_CODE |\n",
    "\n",
    "| Training |\n",
    "| --- |\n",
    "| TRAINING_SALES_STAFF_CODE |\n",
    "| TRAINING_COURSE_CODE |\n",
    "| TRAINING_YEAR |\n",
    "\n",
    "| Satisfaction |\n",
    "| --- |\n",
    "| SATISFACTION_SALES_STAFF_CODE |\n",
    "| SATISFACTION_SATISFACTION_TYPE_CODE |\n",
    "| SATISFACTION_YEAR |\n",
    "\n",
    "| Order_header |\n",
    "| --- |\n",
    "| ORDER_HEADER_number |\n",
    "| ORDER_HEADER_RETAILER_NAME |\n",
    "| ORDER_HEADER_SALES_STAFF |\n",
    "| ORDER_HEADER_SALES_BRANCH_CODE |\n",
    "| ORDER_HEADER_ORDER_DATE |\n",
    "| ORDER_HEADER_RETAILER_SITE_CODE |\n",
    "| ORDER_HEADER_RETAILER_CONTACT_CODE |\n",
    "\n",
    "| GO_SALES_INVENTORY_LEVELS |\n",
    "| --- |\n",
    "| GO_SALES_INVENTORY_LEVELS_id |\n",
    "| GO_SALES_INVENTORY_LEVELS_INVENTORY_COUNT |\n",
    "| GO_SALES_INVENTORY_LEVELS_PRODUCT_NUMBER |\n",
    "| GO_SALES_INVENTORY_LEVELS_YEAR_MONTH |\n",
    "\n",
    "| GO_SALES_PRODUCT_FORECAST |\n",
    "| --- |\n",
    "| GO_SALES_PRODUCT_FORECAST_id |\n",
    "| GO_SALES_PRODUCT_FORECAST_EXPECTED_VOLUME |\n",
    "| GO_SALES_PRODUCT_FORECAST_EXPECTED_COST |\n",
    "| GO_SALES_PRODUCT_FORECAST_EXPECTED_MARGIN |\n",
    "| GO_SALES_PRODUCT_FORECAST_PRODUCT_NUMBER |\n",
    "| GO_SALES_PRODUCT_FORECAST_YEAR_MONTH |"
   ]
  },
  {
   "cell_type": "markdown",
   "id": "e50f788702cce510",
   "metadata": {
    "collapsed": false
   },
   "source": [
    "### returned_item"
   ]
  },
  {
   "cell_type": "code",
   "execution_count": 8,
   "id": "5ef006f254269ef",
   "metadata": {
    "collapsed": false,
    "ExecuteTime": {
     "end_time": "2024-03-13T11:46:02.525242Z",
     "start_time": "2024-03-13T11:46:02.490560Z"
    }
   },
   "outputs": [
    {
     "data": {
      "text/plain": "  RETURNED_ITEM_code RETURNED_ITEM_DATE_date RETURNED_ITEM_QUANTITY_quantity  \\\n0               1491       1-8-2021 04:10:24                               8   \n1               1492      6-12-2020 18:46:19                               2   \n2               1493      24-6-2021 09:23:14                              22   \n3               1494      21-7-2021 00:00:09                              20   \n4               1496      7-10-2020 05:13:58                               2   \n\n  RETURNED_ITEM_ORDER_DETAIL_CODE_detail_code  \\\n0                                       84858   \n1                                       84440   \n2                                       84867   \n3                                       84873   \n4                                       84488   \n\n  RETURNED_ITEM_RETURN_REASON_code RETURNED_ITEM_RETURN_REASON_desctiption_en  \n0                                5                     Unsatisfactory product  \n1                                2                         Incomplete product  \n2                                4                      Wrong product shipped  \n3                                3                      Wrong product ordered  \n4                                1                          Defective product  ",
      "text/html": "<div>\n<style scoped>\n    .dataframe tbody tr th:only-of-type {\n        vertical-align: middle;\n    }\n\n    .dataframe tbody tr th {\n        vertical-align: top;\n    }\n\n    .dataframe thead th {\n        text-align: right;\n    }\n</style>\n<table border=\"1\" class=\"dataframe\">\n  <thead>\n    <tr style=\"text-align: right;\">\n      <th></th>\n      <th>RETURNED_ITEM_code</th>\n      <th>RETURNED_ITEM_DATE_date</th>\n      <th>RETURNED_ITEM_QUANTITY_quantity</th>\n      <th>RETURNED_ITEM_ORDER_DETAIL_CODE_detail_code</th>\n      <th>RETURNED_ITEM_RETURN_REASON_code</th>\n      <th>RETURNED_ITEM_RETURN_REASON_desctiption_en</th>\n    </tr>\n  </thead>\n  <tbody>\n    <tr>\n      <th>0</th>\n      <td>1491</td>\n      <td>1-8-2021 04:10:24</td>\n      <td>8</td>\n      <td>84858</td>\n      <td>5</td>\n      <td>Unsatisfactory product</td>\n    </tr>\n    <tr>\n      <th>1</th>\n      <td>1492</td>\n      <td>6-12-2020 18:46:19</td>\n      <td>2</td>\n      <td>84440</td>\n      <td>2</td>\n      <td>Incomplete product</td>\n    </tr>\n    <tr>\n      <th>2</th>\n      <td>1493</td>\n      <td>24-6-2021 09:23:14</td>\n      <td>22</td>\n      <td>84867</td>\n      <td>4</td>\n      <td>Wrong product shipped</td>\n    </tr>\n    <tr>\n      <th>3</th>\n      <td>1494</td>\n      <td>21-7-2021 00:00:09</td>\n      <td>20</td>\n      <td>84873</td>\n      <td>3</td>\n      <td>Wrong product ordered</td>\n    </tr>\n    <tr>\n      <th>4</th>\n      <td>1496</td>\n      <td>7-10-2020 05:13:58</td>\n      <td>2</td>\n      <td>84488</td>\n      <td>1</td>\n      <td>Defective product</td>\n    </tr>\n  </tbody>\n</table>\n</div>"
     },
     "execution_count": 8,
     "metadata": {},
     "output_type": "execute_result"
    }
   ],
   "source": [
    "# to be used in order details\n",
    "returned_item_columns = ['RETURN_CODE', 'RETURN_DATE', 'RETURN_QUANTITY', 'ORDER_DETAIL_CODE', 'RETURN_REASON_CODE', 'RETURN_DESCRIPTION_EN']\n",
    "returned_item = pd.merge(go_sales_returned_item, go_sales_return_reason, left_on='RETURN_REASON_CODE', right_on='RETURN_REASON_CODE')\n",
    "returned_item = pd.merge(returned_item, go_sales_order_details, left_on='ORDER_DETAIL_CODE', right_on='ORDER_DETAIL_CODE')\n",
    "\n",
    "# filtering the columns\n",
    "returned_item = returned_item[returned_item_columns]\n",
    "\n",
    "# renaming the columns\n",
    "returned_item = returned_item.rename(columns={'RETURN_CODE': 'RETURNED_ITEM_code', 'RETURN_DATE': 'RETURNED_ITEM_DATE_date', 'RETURN_QUANTITY': 'RETURNED_ITEM_QUANTITY_quantity', 'ORDER_DETAIL_CODE': 'RETURNED_ITEM_ORDER_DETAIL_CODE_detail_code', 'RETURN_REASON_CODE': 'RETURNED_ITEM_RETURN_REASON_code', 'RETURN_DESCRIPTION_EN': 'RETURNED_ITEM_RETURN_REASON_desctiption_en'})\n",
    "\n",
    "returned_item.head()"
   ]
  },
  {
   "cell_type": "markdown",
   "id": "1dff53c750360829",
   "metadata": {
    "collapsed": false
   },
   "source": [
    "### Unit"
   ]
  },
  {
   "cell_type": "code",
   "execution_count": 9,
   "id": "39396863b4c33a84",
   "metadata": {
    "collapsed": false,
    "ExecuteTime": {
     "end_time": "2024-03-13T11:46:02.546465Z",
     "start_time": "2024-03-13T11:46:02.526247Z"
    }
   },
   "outputs": [
    {
     "data": {
      "text/plain": "        UNIT_COST_cost UNIT_PRICE_price UNIT_SALE_sale\nUNIT_ID                                               \n1                 16.1            22.54          22.54\n2                 16.1            22.54          22.54\n3                 16.1            22.54          22.54\n4                 16.1            22.54          22.54\n5                 16.1            22.54          22.54",
      "text/html": "<div>\n<style scoped>\n    .dataframe tbody tr th:only-of-type {\n        vertical-align: middle;\n    }\n\n    .dataframe tbody tr th {\n        vertical-align: top;\n    }\n\n    .dataframe thead th {\n        text-align: right;\n    }\n</style>\n<table border=\"1\" class=\"dataframe\">\n  <thead>\n    <tr style=\"text-align: right;\">\n      <th></th>\n      <th>UNIT_COST_cost</th>\n      <th>UNIT_PRICE_price</th>\n      <th>UNIT_SALE_sale</th>\n    </tr>\n    <tr>\n      <th>UNIT_ID</th>\n      <th></th>\n      <th></th>\n      <th></th>\n    </tr>\n  </thead>\n  <tbody>\n    <tr>\n      <th>1</th>\n      <td>16.1</td>\n      <td>22.54</td>\n      <td>22.54</td>\n    </tr>\n    <tr>\n      <th>2</th>\n      <td>16.1</td>\n      <td>22.54</td>\n      <td>22.54</td>\n    </tr>\n    <tr>\n      <th>3</th>\n      <td>16.1</td>\n      <td>22.54</td>\n      <td>22.54</td>\n    </tr>\n    <tr>\n      <th>4</th>\n      <td>16.1</td>\n      <td>22.54</td>\n      <td>22.54</td>\n    </tr>\n    <tr>\n      <th>5</th>\n      <td>16.1</td>\n      <td>22.54</td>\n      <td>22.54</td>\n    </tr>\n  </tbody>\n</table>\n</div>"
     },
     "execution_count": 9,
     "metadata": {},
     "output_type": "execute_result"
    }
   ],
   "source": [
    "unit_columns = ['UNIT_COST', 'UNIT_PRICE', 'UNIT_SALE_PRICE']\n",
    "unit = go_sales_order_details\n",
    "# make unit_id the primary key, autoincrement\n",
    "unit['UNIT_ID'] = range(1, len(unit) + 1)\n",
    "unit = unit.set_index('UNIT_ID')\n",
    "\n",
    "# filtering the columns\n",
    "unit = unit[unit_columns]\n",
    "\n",
    "# renaming the columns\n",
    "unit = unit.rename(columns={'UNIT_COST': 'UNIT_COST_cost', 'UNIT_PRICE': 'UNIT_PRICE_price', 'UNIT_SALE_PRICE': 'UNIT_SALE_sale'})\n",
    "\n",
    "unit.head()"
   ]
  },
  {
   "cell_type": "markdown",
   "id": "8527a5738e28b03",
   "metadata": {
    "collapsed": false
   },
   "source": [
    "### Sales_staff"
   ]
  },
  {
   "cell_type": "code",
   "execution_count": 10,
   "id": "a2a698c093a007aa",
   "metadata": {
    "collapsed": false,
    "ExecuteTime": {
     "end_time": "2024-03-13T11:46:02.562477Z",
     "start_time": "2024-03-13T11:46:02.547988Z"
    }
   },
   "outputs": [
    {
     "data": {
      "text/plain": "  SALES_STAFF_code        SALES_STAFF_email SALES_STAFF_extension  \\\n0              100  TSavolainen@grtd123.com                   825   \n1              101         CKim@grtd123.com                  1228   \n2              102        JChoi@grtd123.com                  2641   \n3              103        KKwao@grtd123.com                  1541   \n4              104         CFon@grtd123.com                  2311   \n\n  SALES_STAFF_POSITION_EN_position SALES_STAFF_WORK_PHONE_work_phone  \\\n0     Level 2 Sales Representative               +358(0)17 - 433 127   \n1     Level 2 Sales Representative                     82-2-778-6587   \n2     Level 3 Sales Representative                     82-2-778-6587   \n3     Level 2 Sales Representative                   886-2-2975-1988   \n4     Level 3 Sales Representative                   886-2-2975-1988   \n\n  SALES_STAFF_DATE_HIRED_hired SALES_STAFF_MANAGER_CODE_manager  \\\n0      23-Jul-1998 12:00:00 AM                               18   \n1      15-Dec-1998 12:00:00 AM                               87   \n2      27-Nov-1998 12:00:00 AM                               87   \n3      07-Oct-1998 12:00:00 AM                               87   \n4      08-May-1996 12:00:00 AM                               87   \n\n   SALES_STAFF_FAX_fax SALES_STAFF_FIRST_NAME_first_name  \\\n0  +358(0)17 - 433 129                            Tuomas   \n1        82-2-778-6586                          Chang-ho   \n2        82-2-778-6586                           Jung-ho   \n3      886-2-2989-4978                         Kwei-Ping   \n4      886-2-2989-4978                         Chin-Tsai   \n\n  SALES_STAFF_LAST_NAME_last_name SALES_STAFF_SALES_BRANCH_ADDRESS_address  \\\n0                      Savolainen                            Kauppakatu 33   \n1                             Kim                    234-12, Kongdeok-Dong   \n2                            Choi                    234-12, Kongdeok-Dong   \n3                             Kao             154, Choung-Cheng South Road   \n4                            Fang             154, Choung-Cheng South Road   \n\n  SALES_STAFF_SALES_BRANCH_ADDRESS_EXTRA_address_extra  \\\n0                                               None     \n1                                            Mapo-Ku     \n2                                            Mapo-Ku     \n3                                               None     \n4                                               None     \n\n  SALES_STAFF_SALES_BRANCH_CODE_branch_code  \n0                                        31  \n1                                        32  \n2                                        32  \n3                                        33  \n4                                        33  ",
      "text/html": "<div>\n<style scoped>\n    .dataframe tbody tr th:only-of-type {\n        vertical-align: middle;\n    }\n\n    .dataframe tbody tr th {\n        vertical-align: top;\n    }\n\n    .dataframe thead th {\n        text-align: right;\n    }\n</style>\n<table border=\"1\" class=\"dataframe\">\n  <thead>\n    <tr style=\"text-align: right;\">\n      <th></th>\n      <th>SALES_STAFF_code</th>\n      <th>SALES_STAFF_email</th>\n      <th>SALES_STAFF_extension</th>\n      <th>SALES_STAFF_POSITION_EN_position</th>\n      <th>SALES_STAFF_WORK_PHONE_work_phone</th>\n      <th>SALES_STAFF_DATE_HIRED_hired</th>\n      <th>SALES_STAFF_MANAGER_CODE_manager</th>\n      <th>SALES_STAFF_FAX_fax</th>\n      <th>SALES_STAFF_FIRST_NAME_first_name</th>\n      <th>SALES_STAFF_LAST_NAME_last_name</th>\n      <th>SALES_STAFF_SALES_BRANCH_ADDRESS_address</th>\n      <th>SALES_STAFF_SALES_BRANCH_ADDRESS_EXTRA_address_extra</th>\n      <th>SALES_STAFF_SALES_BRANCH_CODE_branch_code</th>\n    </tr>\n  </thead>\n  <tbody>\n    <tr>\n      <th>0</th>\n      <td>100</td>\n      <td>TSavolainen@grtd123.com</td>\n      <td>825</td>\n      <td>Level 2 Sales Representative</td>\n      <td>+358(0)17 - 433 127</td>\n      <td>23-Jul-1998 12:00:00 AM</td>\n      <td>18</td>\n      <td>+358(0)17 - 433 129</td>\n      <td>Tuomas</td>\n      <td>Savolainen</td>\n      <td>Kauppakatu 33</td>\n      <td>None</td>\n      <td>31</td>\n    </tr>\n    <tr>\n      <th>1</th>\n      <td>101</td>\n      <td>CKim@grtd123.com</td>\n      <td>1228</td>\n      <td>Level 2 Sales Representative</td>\n      <td>82-2-778-6587</td>\n      <td>15-Dec-1998 12:00:00 AM</td>\n      <td>87</td>\n      <td>82-2-778-6586</td>\n      <td>Chang-ho</td>\n      <td>Kim</td>\n      <td>234-12, Kongdeok-Dong</td>\n      <td>Mapo-Ku</td>\n      <td>32</td>\n    </tr>\n    <tr>\n      <th>2</th>\n      <td>102</td>\n      <td>JChoi@grtd123.com</td>\n      <td>2641</td>\n      <td>Level 3 Sales Representative</td>\n      <td>82-2-778-6587</td>\n      <td>27-Nov-1998 12:00:00 AM</td>\n      <td>87</td>\n      <td>82-2-778-6586</td>\n      <td>Jung-ho</td>\n      <td>Choi</td>\n      <td>234-12, Kongdeok-Dong</td>\n      <td>Mapo-Ku</td>\n      <td>32</td>\n    </tr>\n    <tr>\n      <th>3</th>\n      <td>103</td>\n      <td>KKwao@grtd123.com</td>\n      <td>1541</td>\n      <td>Level 2 Sales Representative</td>\n      <td>886-2-2975-1988</td>\n      <td>07-Oct-1998 12:00:00 AM</td>\n      <td>87</td>\n      <td>886-2-2989-4978</td>\n      <td>Kwei-Ping</td>\n      <td>Kao</td>\n      <td>154, Choung-Cheng South Road</td>\n      <td>None</td>\n      <td>33</td>\n    </tr>\n    <tr>\n      <th>4</th>\n      <td>104</td>\n      <td>CFon@grtd123.com</td>\n      <td>2311</td>\n      <td>Level 3 Sales Representative</td>\n      <td>886-2-2975-1988</td>\n      <td>08-May-1996 12:00:00 AM</td>\n      <td>87</td>\n      <td>886-2-2989-4978</td>\n      <td>Chin-Tsai</td>\n      <td>Fang</td>\n      <td>154, Choung-Cheng South Road</td>\n      <td>None</td>\n      <td>33</td>\n    </tr>\n  </tbody>\n</table>\n</div>"
     },
     "execution_count": 10,
     "metadata": {},
     "output_type": "execute_result"
    }
   ],
   "source": [
    "sales_staff_columns = ['SALES_STAFF_CODE', 'EMAIL', 'EXTENSION', 'POSITION_EN', 'WORK_PHONE', 'DATE_HIRED', 'MANAGER_CODE', 'FAX', 'FIRST_NAME', 'LAST_NAME',  'ADDRESS1', 'ADDRESS2', 'SALES_BRANCH_CODE']\n",
    "\n",
    "sales_staff = pd.merge(go_staff_sales_staff, go_staff_sales_branch, left_on='SALES_BRANCH_CODE', right_on='SALES_BRANCH_CODE')\n",
    "\n",
    "# filtering the columns\n",
    "sales_staff = sales_staff[sales_staff_columns]\n",
    "\n",
    "# renaming the columns\n",
    "sales_staff = sales_staff.rename(columns={'SALES_STAFF_CODE': 'SALES_STAFF_code', 'EMAIL': 'SALES_STAFF_email', 'EXTENSION': 'SALES_STAFF_extension', 'POSITION_EN': 'SALES_STAFF_POSITION_EN_position', 'WORK_PHONE': 'SALES_STAFF_WORK_PHONE_work_phone', 'DATE_HIRED': 'SALES_STAFF_DATE_HIRED_hired', 'MANAGER_CODE': 'SALES_STAFF_MANAGER_CODE_manager', 'FAX': 'SALES_STAFF_FAX_fax', 'FIRST_NAME': 'SALES_STAFF_FIRST_NAME_first_name', 'LAST_NAME': 'SALES_STAFF_LAST_NAME_last_name', 'ADDRESS1': 'SALES_STAFF_SALES_BRANCH_ADDRESS_address', 'ADDRESS2': 'SALES_STAFF_SALES_BRANCH_ADDRESS_EXTRA_address_extra', 'SALES_BRANCH_CODE' : 'SALES_STAFF_SALES_BRANCH_CODE_branch_code'})\n",
    "\n",
    "sales_staff.head()"
   ]
  },
  {
   "cell_type": "markdown",
   "id": "b8305c040ff09ac7",
   "metadata": {
    "collapsed": false
   },
   "source": [
    "### Satisfaction_type"
   ]
  },
  {
   "cell_type": "code",
   "execution_count": 11,
   "id": "b8cd201811c4486a",
   "metadata": {
    "collapsed": false,
    "ExecuteTime": {
     "end_time": "2024-03-13T11:46:02.573684Z",
     "start_time": "2024-03-13T11:46:02.564485Z"
    }
   },
   "outputs": [
    {
     "data": {
      "text/plain": "  SATISFACTION_TYPE_code SATISFACTION_TYPE_DESCRIPTION\n0                      1                 Not satisfied\n1                      2           Less than satisfied\n2                      3                     Satisfied\n3                      4                Very Satisfied\n4                      5           More than satisfied",
      "text/html": "<div>\n<style scoped>\n    .dataframe tbody tr th:only-of-type {\n        vertical-align: middle;\n    }\n\n    .dataframe tbody tr th {\n        vertical-align: top;\n    }\n\n    .dataframe thead th {\n        text-align: right;\n    }\n</style>\n<table border=\"1\" class=\"dataframe\">\n  <thead>\n    <tr style=\"text-align: right;\">\n      <th></th>\n      <th>SATISFACTION_TYPE_code</th>\n      <th>SATISFACTION_TYPE_DESCRIPTION</th>\n    </tr>\n  </thead>\n  <tbody>\n    <tr>\n      <th>0</th>\n      <td>1</td>\n      <td>Not satisfied</td>\n    </tr>\n    <tr>\n      <th>1</th>\n      <td>2</td>\n      <td>Less than satisfied</td>\n    </tr>\n    <tr>\n      <th>2</th>\n      <td>3</td>\n      <td>Satisfied</td>\n    </tr>\n    <tr>\n      <th>3</th>\n      <td>4</td>\n      <td>Very Satisfied</td>\n    </tr>\n    <tr>\n      <th>4</th>\n      <td>5</td>\n      <td>More than satisfied</td>\n    </tr>\n  </tbody>\n</table>\n</div>"
     },
     "execution_count": 11,
     "metadata": {},
     "output_type": "execute_result"
    }
   ],
   "source": [
    "satisfaction_type = go_staff_satisfaction_type\n",
    "\n",
    "#dropping trial633 column\n",
    "satisfaction_type = satisfaction_type.drop(columns=['TRIAL633'])\n",
    "\n",
    "# rename the columns\n",
    "satisfaction_type = satisfaction_type.rename(columns={'SATISFACTION_TYPE_CODE': 'SATISFACTION_TYPE_code', 'DESCRIPTION': 'SATISFACTION_TYPE_description'})\n",
    "\n",
    "satisfaction_type.head()"
   ]
  },
  {
   "cell_type": "markdown",
   "id": "8b30a420eb8b3f9c",
   "metadata": {
    "collapsed": false
   },
   "source": [
    "### Course"
   ]
  },
  {
   "cell_type": "code",
   "execution_count": 12,
   "id": "9a9a6afb42d95ce5",
   "metadata": {
    "collapsed": false,
    "ExecuteTime": {
     "end_time": "2024-03-13T11:46:02.657606Z",
     "start_time": "2024-03-13T11:46:02.648580Z"
    }
   },
   "outputs": [
    {
     "data": {
      "text/plain": "  COURSE_code COURSE_DESCRIPTION\n0           1     GO Orientation\n1           2   GO Communication\n2           3         GO Sales 1\n3           4         GO Sales 2\n4           5     GO Marketing 1",
      "text/html": "<div>\n<style scoped>\n    .dataframe tbody tr th:only-of-type {\n        vertical-align: middle;\n    }\n\n    .dataframe tbody tr th {\n        vertical-align: top;\n    }\n\n    .dataframe thead th {\n        text-align: right;\n    }\n</style>\n<table border=\"1\" class=\"dataframe\">\n  <thead>\n    <tr style=\"text-align: right;\">\n      <th></th>\n      <th>COURSE_code</th>\n      <th>COURSE_DESCRIPTION</th>\n    </tr>\n  </thead>\n  <tbody>\n    <tr>\n      <th>0</th>\n      <td>1</td>\n      <td>GO Orientation</td>\n    </tr>\n    <tr>\n      <th>1</th>\n      <td>2</td>\n      <td>GO Communication</td>\n    </tr>\n    <tr>\n      <th>2</th>\n      <td>3</td>\n      <td>GO Sales 1</td>\n    </tr>\n    <tr>\n      <th>3</th>\n      <td>4</td>\n      <td>GO Sales 2</td>\n    </tr>\n    <tr>\n      <th>4</th>\n      <td>5</td>\n      <td>GO Marketing 1</td>\n    </tr>\n  </tbody>\n</table>\n</div>"
     },
     "execution_count": 12,
     "metadata": {},
     "output_type": "execute_result"
    }
   ],
   "source": [
    "course = go_staff_course\n",
    "\n",
    "# dropping the trial633 column\n",
    "course = course.drop(columns=['TRIAL633'])\n",
    "\n",
    "# rename the columns\n",
    "course = course.rename(columns={'COURSE_CODE': 'COURSE_code', 'DESCRIPTION': 'COURSE_description'})\n",
    "\n",
    "course.head()"
   ]
  },
  {
   "cell_type": "markdown",
   "id": "de6db3d986555551",
   "metadata": {
    "collapsed": false
   },
   "source": [
    "### Year"
   ]
  },
  {
   "cell_type": "code",
   "execution_count": 13,
   "id": "c116ecb70b6f2ec7",
   "metadata": {
    "collapsed": false,
    "ExecuteTime": {
     "end_time": "2024-03-13T11:46:02.839615Z",
     "start_time": "2024-03-13T11:46:02.822911Z"
    }
   },
   "outputs": [
    {
     "data": {
      "text/plain": "Empty DataFrame\nColumns: []\nIndex: [1990, 1991, 1992, 1993, 1994]",
      "text/html": "<div>\n<style scoped>\n    .dataframe tbody tr th:only-of-type {\n        vertical-align: middle;\n    }\n\n    .dataframe tbody tr th {\n        vertical-align: top;\n    }\n\n    .dataframe thead th {\n        text-align: right;\n    }\n</style>\n<table border=\"1\" class=\"dataframe\">\n  <thead>\n    <tr style=\"text-align: right;\">\n      <th></th>\n    </tr>\n    <tr>\n      <th>YEAR</th>\n    </tr>\n  </thead>\n  <tbody>\n    <tr>\n      <th>1990</th>\n    </tr>\n    <tr>\n      <th>1991</th>\n    </tr>\n    <tr>\n      <th>1992</th>\n    </tr>\n    <tr>\n      <th>1993</th>\n    </tr>\n    <tr>\n      <th>1994</th>\n    </tr>\n  </tbody>\n</table>\n</div>"
     },
     "execution_count": 13,
     "metadata": {},
     "output_type": "execute_result"
    }
   ],
   "source": [
    "# to be used in training and satisfaction\n",
    "# making year dataframe with year as the primary key\n",
    "year = pd.DataFrame({'YEAR': pd.date_range(start='1/1/1990', end='1/1/2200').year})\n",
    "\n",
    "# adding all the years from the satisfaction and training data.\n",
    "year = pd.concat([year, pd.DataFrame({'YEAR': go_staff_training['YEAR']})])\n",
    "year = pd.concat([year, pd.DataFrame({'YEAR': go_staff_satisfaction['YEAR']})])\n",
    "\n",
    "# drop duplicates\n",
    "year = year.drop_duplicates()\n",
    "\n",
    "# setting the index\n",
    "year = year.set_index('YEAR')\n",
    "\n",
    "year.head()"
   ]
  },
  {
   "cell_type": "markdown",
   "id": "ce00e33771b2020c",
   "metadata": {
    "collapsed": false
   },
   "source": [
    "### Date"
   ]
  },
  {
   "cell_type": "code",
   "execution_count": 14,
   "id": "69d3a65350544b07",
   "metadata": {
    "collapsed": false,
    "ExecuteTime": {
     "end_time": "2024-03-13T11:46:03.134995Z",
     "start_time": "2024-03-13T11:46:03.046028Z"
    }
   },
   "outputs": [
    {
     "data": {
      "text/plain": "Empty DataFrame\nColumns: []\nIndex: [1990-01-01 00:00:00, 1990-01-02 00:00:00, 1990-01-03 00:00:00, 1990-01-04 00:00:00, 1990-01-05 00:00:00]",
      "text/html": "<div>\n<style scoped>\n    .dataframe tbody tr th:only-of-type {\n        vertical-align: middle;\n    }\n\n    .dataframe tbody tr th {\n        vertical-align: top;\n    }\n\n    .dataframe thead th {\n        text-align: right;\n    }\n</style>\n<table border=\"1\" class=\"dataframe\">\n  <thead>\n    <tr style=\"text-align: right;\">\n      <th></th>\n    </tr>\n    <tr>\n      <th>DATE_date</th>\n    </tr>\n  </thead>\n  <tbody>\n    <tr>\n      <th>1990-01-01</th>\n    </tr>\n    <tr>\n      <th>1990-01-02</th>\n    </tr>\n    <tr>\n      <th>1990-01-03</th>\n    </tr>\n    <tr>\n      <th>1990-01-04</th>\n    </tr>\n    <tr>\n      <th>1990-01-05</th>\n    </tr>\n  </tbody>\n</table>\n</div>"
     },
     "execution_count": 14,
     "metadata": {},
     "output_type": "execute_result"
    }
   ],
   "source": [
    "# to be used in order header\n",
    "date = pd.DataFrame({'DATE_date': pd.date_range(start='1/1/1990', end='1/1/2200')})\n",
    "\n",
    "# adding all the years from the order header data\n",
    "date = pd.concat([date, pd.DataFrame({'DATE_date': go_sales_order_header['ORDER_DATE']})])\n",
    "\n",
    "# drop duplicates\n",
    "date = date.drop_duplicates()\n",
    "\n",
    "# setting the index\n",
    "date['DATE_date'] = pd.to_datetime(date['DATE_date']) # convert to datetime\n",
    "date = date.set_index('DATE_date')\n",
    "\n",
    "date.head()"
   ]
  },
  {
   "cell_type": "markdown",
   "id": "2bc3e5abc438a754",
   "metadata": {
    "collapsed": false
   },
   "source": [
    "### Order"
   ]
  },
  {
   "cell_type": "code",
   "execution_count": 15,
   "id": "8886223a9425e744",
   "metadata": {
    "collapsed": false,
    "ExecuteTime": {
     "end_time": "2024-03-13T11:46:03.397614Z",
     "start_time": "2024-03-13T11:46:03.388484Z"
    }
   },
   "outputs": [
    {
     "data": {
      "text/plain": "                   ORDER_ORDER_METHOD_CODE_method_code  \\\nORDER_order_number                                       \n1                                                    1   \n2                                                    2   \n3                                                    3   \n4                                                    4   \n5                                                    5   \n\n                   ORDER_ORDER_METHOD_EN_method  \nORDER_order_number                               \n1                                           Fax  \n2                                     Telephone  \n3                                          Mail  \n4                                        E-mail  \n5                                           Web  ",
      "text/html": "<div>\n<style scoped>\n    .dataframe tbody tr th:only-of-type {\n        vertical-align: middle;\n    }\n\n    .dataframe tbody tr th {\n        vertical-align: top;\n    }\n\n    .dataframe thead th {\n        text-align: right;\n    }\n</style>\n<table border=\"1\" class=\"dataframe\">\n  <thead>\n    <tr style=\"text-align: right;\">\n      <th></th>\n      <th>ORDER_ORDER_METHOD_CODE_method_code</th>\n      <th>ORDER_ORDER_METHOD_EN_method</th>\n    </tr>\n    <tr>\n      <th>ORDER_order_number</th>\n      <th></th>\n      <th></th>\n    </tr>\n  </thead>\n  <tbody>\n    <tr>\n      <th>1</th>\n      <td>1</td>\n      <td>Fax</td>\n    </tr>\n    <tr>\n      <th>2</th>\n      <td>2</td>\n      <td>Telephone</td>\n    </tr>\n    <tr>\n      <th>3</th>\n      <td>3</td>\n      <td>Mail</td>\n    </tr>\n    <tr>\n      <th>4</th>\n      <td>4</td>\n      <td>E-mail</td>\n    </tr>\n    <tr>\n      <th>5</th>\n      <td>5</td>\n      <td>Web</td>\n    </tr>\n  </tbody>\n</table>\n</div>"
     },
     "execution_count": 15,
     "metadata": {},
     "output_type": "execute_result"
    }
   ],
   "source": [
    "# to be used in order header\n",
    "# making order dataframe with order_number as the primary key \n",
    "order = pd.DataFrame({'ORDER_order_number': range(1, len(go_sales_order_method) + 1)})\n",
    "order['ORDER_ORDER_METHOD_CODE_method_code'] = go_sales_order_method['ORDER_METHOD_CODE']\n",
    "order['ORDER_ORDER_METHOD_EN_method'] = go_sales_order_method['ORDER_METHOD_EN']\n",
    "\n",
    "order = order.set_index('ORDER_order_number')\n",
    "\n",
    "order.head()"
   ]
  },
  {
   "cell_type": "markdown",
   "id": "3781ed63e51a8050",
   "metadata": {
    "collapsed": false
   },
   "source": [
    "### Retailer_site"
   ]
  },
  {
   "cell_type": "code",
   "execution_count": 16,
   "id": "c7039eac9d768041",
   "metadata": {
    "collapsed": false,
    "ExecuteTime": {
     "end_time": "2024-03-13T11:46:03.598379Z",
     "start_time": "2024-03-13T11:46:03.585785Z"
    }
   },
   "outputs": [
    {
     "data": {
      "text/plain": "  RETAILER_SITE_code RETAILER_SITE_RETAILER_CODE_retailer_code  \\\n0                  1                                        89   \n1                 10                                        92   \n2                100                                        95   \n3                101                                        95   \n4                102                                       108   \n\n     RETAILER_SITE_ADDRESS1_address RETAILER_SITE_ADDRESS2_address  \\\n0                1117 Franklin Blvd                           None   \n1  Suite 1500, 802 Docklands Street                           None   \n2                    4830 Princeton                         Unit 2   \n3                  6630 Burnet Road                           None   \n4              2189 Louisville Road                           None   \n\n  RETAILER_SITE_CITY_city RETAILER_SITE_REGION_region  \\\n0                Winnipeg                    Manitoba   \n1               Vancouver            British Columbia   \n2             Albuquerque                  New Mexico   \n3                  Austin                       Texas   \n4            Independence                    Kentucky   \n\n  RETAILER_SITE_POSTAL_ZONE_postal_zone RETAILER_SITE_COUNTRY_CODE_country  \\\n0                               R2C 0M5                                  4   \n1                               V6E 3Z3                                  4   \n2                                 87186                                  3   \n3                                 78769                                  3   \n4                                 41051                                  3   \n\n  RETAILER_SITE_ACTIVE_INDICATOR_indicator  \n0                                        1  \n1                                        1  \n2                                        1  \n3                                        1  \n4                                        0  ",
      "text/html": "<div>\n<style scoped>\n    .dataframe tbody tr th:only-of-type {\n        vertical-align: middle;\n    }\n\n    .dataframe tbody tr th {\n        vertical-align: top;\n    }\n\n    .dataframe thead th {\n        text-align: right;\n    }\n</style>\n<table border=\"1\" class=\"dataframe\">\n  <thead>\n    <tr style=\"text-align: right;\">\n      <th></th>\n      <th>RETAILER_SITE_code</th>\n      <th>RETAILER_SITE_RETAILER_CODE_retailer_code</th>\n      <th>RETAILER_SITE_ADDRESS1_address</th>\n      <th>RETAILER_SITE_ADDRESS2_address</th>\n      <th>RETAILER_SITE_CITY_city</th>\n      <th>RETAILER_SITE_REGION_region</th>\n      <th>RETAILER_SITE_POSTAL_ZONE_postal_zone</th>\n      <th>RETAILER_SITE_COUNTRY_CODE_country</th>\n      <th>RETAILER_SITE_ACTIVE_INDICATOR_indicator</th>\n    </tr>\n  </thead>\n  <tbody>\n    <tr>\n      <th>0</th>\n      <td>1</td>\n      <td>89</td>\n      <td>1117 Franklin Blvd</td>\n      <td>None</td>\n      <td>Winnipeg</td>\n      <td>Manitoba</td>\n      <td>R2C 0M5</td>\n      <td>4</td>\n      <td>1</td>\n    </tr>\n    <tr>\n      <th>1</th>\n      <td>10</td>\n      <td>92</td>\n      <td>Suite 1500, 802 Docklands Street</td>\n      <td>None</td>\n      <td>Vancouver</td>\n      <td>British Columbia</td>\n      <td>V6E 3Z3</td>\n      <td>4</td>\n      <td>1</td>\n    </tr>\n    <tr>\n      <th>2</th>\n      <td>100</td>\n      <td>95</td>\n      <td>4830 Princeton</td>\n      <td>Unit 2</td>\n      <td>Albuquerque</td>\n      <td>New Mexico</td>\n      <td>87186</td>\n      <td>3</td>\n      <td>1</td>\n    </tr>\n    <tr>\n      <th>3</th>\n      <td>101</td>\n      <td>95</td>\n      <td>6630 Burnet Road</td>\n      <td>None</td>\n      <td>Austin</td>\n      <td>Texas</td>\n      <td>78769</td>\n      <td>3</td>\n      <td>1</td>\n    </tr>\n    <tr>\n      <th>4</th>\n      <td>102</td>\n      <td>108</td>\n      <td>2189 Louisville Road</td>\n      <td>None</td>\n      <td>Independence</td>\n      <td>Kentucky</td>\n      <td>41051</td>\n      <td>3</td>\n      <td>0</td>\n    </tr>\n  </tbody>\n</table>\n</div>"
     },
     "execution_count": 16,
     "metadata": {},
     "output_type": "execute_result"
    }
   ],
   "source": [
    "retailer_site = go_sales_retailer_site\n",
    "\n",
    "# dropping the trial888 column\n",
    "retailer_site = retailer_site.drop(columns=['TRIAL888'])\n",
    "\n",
    "# rename the columns\n",
    "retailer_site = retailer_site.rename(columns={'RETAILER_SITE_CODE': 'RETAILER_SITE_code', 'COUNTRY_CODE': 'RETAILER_SITE_COUNTRY_CODE_country', 'CITY': 'RETAILER_SITE_CITY_city', 'REGION': 'RETAILER_SITE_REGION_region', 'POSTAL_ZONE': 'RETAILER_SITE_POSTAL_ZONE_postal_zone', 'RETAILER_CODE': 'RETAILER_SITE_RETAILER_CODE_retailer_code', 'ACTIVE_INDICATOR': 'RETAILER_SITE_ACTIVE_INDICATOR_indicator', 'ADDRESS1': 'RETAILER_SITE_ADDRESS1_address', 'ADDRESS2': 'RETAILER_SITE_ADDRESS2_address'})\n",
    "\n",
    "retailer_site.head()"
   ]
  },
  {
   "cell_type": "markdown",
   "id": "a37a2a29eafdf0bd",
   "metadata": {
    "collapsed": false
   },
   "source": [
    "### Sales_branch"
   ]
  },
  {
   "cell_type": "code",
   "execution_count": 17,
   "id": "a48bae69916fd694",
   "metadata": {
    "collapsed": false,
    "ExecuteTime": {
     "end_time": "2024-03-13T11:46:03.749849Z",
     "start_time": "2024-03-13T11:46:03.740072Z"
    }
   },
   "outputs": [
    {
     "data": {
      "text/plain": "  SALES_BRANCH_code SALES_BRANCH_ADDRESS1_address  \\\n0                13                Schwabentor 35   \n1                14              Leopoldstraße 36   \n2                15           Isafjordsgatan 30 C   \n3                17  7800, 756 - 6th Avenue. S.W.   \n4                18              789 Yonge Street   \n\n  SALES_BRANCH_ADDRESS2_address SALES_BRANCH_CITY_city  \\\n0                          None                Hamburg   \n1                          None                München   \n2                          None                  Kista   \n3                          None                Calgary   \n4                          None                Toronto   \n\n  SALES_BRANCH_REGION_region SALES_BRANCH_POSTAL_ZONE_postal_zone  \\\n0                       None                              D-22529   \n1                       None                              D-81241   \n2                       None                             S-164 40   \n3                    Alberta                              T2P 3Z0   \n4                    Ontario                              M2M 4K8   \n\n  SALES_BRANCH_COUNTRY_CODE_country  \n0                                 2  \n1                                 2  \n2                                10  \n3                                 4  \n4                                 4  ",
      "text/html": "<div>\n<style scoped>\n    .dataframe tbody tr th:only-of-type {\n        vertical-align: middle;\n    }\n\n    .dataframe tbody tr th {\n        vertical-align: top;\n    }\n\n    .dataframe thead th {\n        text-align: right;\n    }\n</style>\n<table border=\"1\" class=\"dataframe\">\n  <thead>\n    <tr style=\"text-align: right;\">\n      <th></th>\n      <th>SALES_BRANCH_code</th>\n      <th>SALES_BRANCH_ADDRESS1_address</th>\n      <th>SALES_BRANCH_ADDRESS2_address</th>\n      <th>SALES_BRANCH_CITY_city</th>\n      <th>SALES_BRANCH_REGION_region</th>\n      <th>SALES_BRANCH_POSTAL_ZONE_postal_zone</th>\n      <th>SALES_BRANCH_COUNTRY_CODE_country</th>\n    </tr>\n  </thead>\n  <tbody>\n    <tr>\n      <th>0</th>\n      <td>13</td>\n      <td>Schwabentor 35</td>\n      <td>None</td>\n      <td>Hamburg</td>\n      <td>None</td>\n      <td>D-22529</td>\n      <td>2</td>\n    </tr>\n    <tr>\n      <th>1</th>\n      <td>14</td>\n      <td>Leopoldstraße 36</td>\n      <td>None</td>\n      <td>München</td>\n      <td>None</td>\n      <td>D-81241</td>\n      <td>2</td>\n    </tr>\n    <tr>\n      <th>2</th>\n      <td>15</td>\n      <td>Isafjordsgatan 30 C</td>\n      <td>None</td>\n      <td>Kista</td>\n      <td>None</td>\n      <td>S-164 40</td>\n      <td>10</td>\n    </tr>\n    <tr>\n      <th>3</th>\n      <td>17</td>\n      <td>7800, 756 - 6th Avenue. S.W.</td>\n      <td>None</td>\n      <td>Calgary</td>\n      <td>Alberta</td>\n      <td>T2P 3Z0</td>\n      <td>4</td>\n    </tr>\n    <tr>\n      <th>4</th>\n      <td>18</td>\n      <td>789 Yonge Street</td>\n      <td>None</td>\n      <td>Toronto</td>\n      <td>Ontario</td>\n      <td>M2M 4K8</td>\n      <td>4</td>\n    </tr>\n  </tbody>\n</table>\n</div>"
     },
     "execution_count": 17,
     "metadata": {},
     "output_type": "execute_result"
    }
   ],
   "source": [
    "sales_branch = go_sales_sales_branch\n",
    "\n",
    "# dropping the trial888 column\n",
    "sales_branch = sales_branch.drop(columns=['TRIAL888'])\n",
    "\n",
    "# rename the columns\n",
    "sales_branch = sales_branch.rename(columns={'SALES_BRANCH_CODE': 'SALES_BRANCH_code', 'COUNTRY_CODE': 'SALES_BRANCH_COUNTRY_CODE_country', 'REGION': 'SALES_BRANCH_REGION_region', 'CITY': 'SALES_BRANCH_CITY_city', 'POSTAL_ZONE': 'SALES_BRANCH_POSTAL_ZONE_postal_zone', 'ADDRESS1': 'SALES_BRANCH_ADDRESS1_address', 'ADDRESS2': 'SALES_BRANCH_ADDRESS2_address', 'MAIN_ADDRESS': 'SALES_BRANCH_MAIN_ADDRESS_address'})\n",
    "\n",
    "sales_branch.head()"
   ]
  },
  {
   "cell_type": "markdown",
   "id": "9f351715913d1fe1",
   "metadata": {
    "collapsed": false
   },
   "source": [
    "### Retailer_contact"
   ]
  },
  {
   "cell_type": "code",
   "execution_count": 18,
   "id": "225ad64b29a0ebd3",
   "metadata": {
    "collapsed": false,
    "ExecuteTime": {
     "end_time": "2024-03-13T11:46:03.902655Z",
     "start_time": "2024-03-13T11:46:03.890327Z"
    }
   },
   "outputs": [
    {
     "data": {
      "text/plain": "  RETAILER_CONTACT_code RETAILER_CONTACT_RETAILER_SITE_CODE_site_code  \\\n0                    10                                            14   \n1                   100                                            85   \n2                   101                                            84   \n3                   102                                            88   \n4                   103                                            92   \n\n  RETAILER_CONTACT_FIRST_NAME_first_name RETAILER_CONTACT_LAST_NAME_last_name  \\\n0                                  Frank                                Smith   \n1                                 Amanda                                Yates   \n2                                  Paula                              Schmidt   \n3                                Micheal                                  Tao   \n4                                   Jack                               Murphy   \n\n  RETAILER_CONTACT_JOB_POSITION_EN_position  \\\n0                           Chief Purchaser   \n1                             Stock Manager   \n2                       Assistant Purchaser   \n3                          District Manager   \n4                          District Manager   \n\n  RETAILER_CONTACT_EXTENSION_extension RETAILER_CONTACT_FAX_fax  \\\n0                                 2489         1 (514) 741-1610   \n1                                 None         1 (702) 369-2274   \n2                                 None         1 (702) 882-0978   \n3                                  445         1 (713) 524-3215   \n4                                 None         1 (305) 557-5478   \n\n      RETAILER_CONTACT_email RETAILER_CONTACT_GENDER_gender  \n0    FSmith@legolfeurinc.com                              M  \n1          Y2883@emertxe.com                              F  \n2          S8832@emertxe.com                              F  \n3          T8839@emertxe.com                              M  \n4  Murphy@eyedimensions3.com                              M  ",
      "text/html": "<div>\n<style scoped>\n    .dataframe tbody tr th:only-of-type {\n        vertical-align: middle;\n    }\n\n    .dataframe tbody tr th {\n        vertical-align: top;\n    }\n\n    .dataframe thead th {\n        text-align: right;\n    }\n</style>\n<table border=\"1\" class=\"dataframe\">\n  <thead>\n    <tr style=\"text-align: right;\">\n      <th></th>\n      <th>RETAILER_CONTACT_code</th>\n      <th>RETAILER_CONTACT_RETAILER_SITE_CODE_site_code</th>\n      <th>RETAILER_CONTACT_FIRST_NAME_first_name</th>\n      <th>RETAILER_CONTACT_LAST_NAME_last_name</th>\n      <th>RETAILER_CONTACT_JOB_POSITION_EN_position</th>\n      <th>RETAILER_CONTACT_EXTENSION_extension</th>\n      <th>RETAILER_CONTACT_FAX_fax</th>\n      <th>RETAILER_CONTACT_email</th>\n      <th>RETAILER_CONTACT_GENDER_gender</th>\n    </tr>\n  </thead>\n  <tbody>\n    <tr>\n      <th>0</th>\n      <td>10</td>\n      <td>14</td>\n      <td>Frank</td>\n      <td>Smith</td>\n      <td>Chief Purchaser</td>\n      <td>2489</td>\n      <td>1 (514) 741-1610</td>\n      <td>FSmith@legolfeurinc.com</td>\n      <td>M</td>\n    </tr>\n    <tr>\n      <th>1</th>\n      <td>100</td>\n      <td>85</td>\n      <td>Amanda</td>\n      <td>Yates</td>\n      <td>Stock Manager</td>\n      <td>None</td>\n      <td>1 (702) 369-2274</td>\n      <td>Y2883@emertxe.com</td>\n      <td>F</td>\n    </tr>\n    <tr>\n      <th>2</th>\n      <td>101</td>\n      <td>84</td>\n      <td>Paula</td>\n      <td>Schmidt</td>\n      <td>Assistant Purchaser</td>\n      <td>None</td>\n      <td>1 (702) 882-0978</td>\n      <td>S8832@emertxe.com</td>\n      <td>F</td>\n    </tr>\n    <tr>\n      <th>3</th>\n      <td>102</td>\n      <td>88</td>\n      <td>Micheal</td>\n      <td>Tao</td>\n      <td>District Manager</td>\n      <td>445</td>\n      <td>1 (713) 524-3215</td>\n      <td>T8839@emertxe.com</td>\n      <td>M</td>\n    </tr>\n    <tr>\n      <th>4</th>\n      <td>103</td>\n      <td>92</td>\n      <td>Jack</td>\n      <td>Murphy</td>\n      <td>District Manager</td>\n      <td>None</td>\n      <td>1 (305) 557-5478</td>\n      <td>Murphy@eyedimensions3.com</td>\n      <td>M</td>\n    </tr>\n  </tbody>\n</table>\n</div>"
     },
     "execution_count": 18,
     "metadata": {},
     "output_type": "execute_result"
    }
   ],
   "source": [
    "retailer_contact = go_crm_retailer_contact\n",
    "\n",
    "# dropping the trial222 column\n",
    "retailer_contact = retailer_contact.drop(columns=['TRIAL222'])\n",
    "\n",
    "# rename the columns\n",
    "retailer_contact = retailer_contact.rename(columns={'RETAILER_CONTACT_CODE': 'RETAILER_CONTACT_code', 'E_MAIL': 'RETAILER_CONTACT_email', 'RETAILER_SITE_CODE': 'RETAILER_CONTACT_RETAILER_SITE_CODE_site_code', 'JOB_POSITION_EN': 'RETAILER_CONTACT_JOB_POSITION_EN_position', 'EXTENSION': 'RETAILER_CONTACT_EXTENSION_extension', 'FAX': 'RETAILER_CONTACT_FAX_fax', 'GENDER' : 'RETAILER_CONTACT_GENDER_gender', 'FIRST_NAME': 'RETAILER_CONTACT_FIRST_NAME_first_name', 'LAST_NAME': 'RETAILER_CONTACT_LAST_NAME_last_name'})\n",
    "\n",
    "retailer_contact.head()"
   ]
  },
  {
   "cell_type": "markdown",
   "id": "5440ce379eadccf3",
   "metadata": {
    "collapsed": false
   },
   "source": [
    "### Retailer"
   ]
  },
  {
   "cell_type": "code",
   "execution_count": 19,
   "id": "71d9483bff7d0752",
   "metadata": {
    "collapsed": false,
    "ExecuteTime": {
     "end_time": "2024-03-13T11:46:04.037517Z",
     "start_time": "2024-03-13T11:46:03.992276Z"
    }
   },
   "outputs": [
    {
     "data": {
      "text/plain": "  RETAILER_code RETAILER_COMPANY_CODE_MR_company               RETAILER_name  \\\n0             1                             None                   ActiForme   \n1           100                               70                Golf Masters   \n2           101                               71             The Marketplace   \n3           102                               72    Camping Equipment Online   \n4           103                               73  Tamarack Outfitter Rentals   \n\n  RETAILER_RETAILER_TYPE_retailer_type_code  \\\n0                                         5   \n1                                         1   \n2                                         2   \n3                                         3   \n4                                         5   \n\n  RETAILER_RETAILER_TYPE_retailer_type_EN  \n0                  Equipment Rental Store  \n1                               Golf Shop  \n2                        Department Store  \n3                        Direct Marketing  \n4                  Equipment Rental Store  ",
      "text/html": "<div>\n<style scoped>\n    .dataframe tbody tr th:only-of-type {\n        vertical-align: middle;\n    }\n\n    .dataframe tbody tr th {\n        vertical-align: top;\n    }\n\n    .dataframe thead th {\n        text-align: right;\n    }\n</style>\n<table border=\"1\" class=\"dataframe\">\n  <thead>\n    <tr style=\"text-align: right;\">\n      <th></th>\n      <th>RETAILER_code</th>\n      <th>RETAILER_COMPANY_CODE_MR_company</th>\n      <th>RETAILER_name</th>\n      <th>RETAILER_RETAILER_TYPE_retailer_type_code</th>\n      <th>RETAILER_RETAILER_TYPE_retailer_type_EN</th>\n    </tr>\n  </thead>\n  <tbody>\n    <tr>\n      <th>0</th>\n      <td>1</td>\n      <td>None</td>\n      <td>ActiForme</td>\n      <td>5</td>\n      <td>Equipment Rental Store</td>\n    </tr>\n    <tr>\n      <th>1</th>\n      <td>100</td>\n      <td>70</td>\n      <td>Golf Masters</td>\n      <td>1</td>\n      <td>Golf Shop</td>\n    </tr>\n    <tr>\n      <th>2</th>\n      <td>101</td>\n      <td>71</td>\n      <td>The Marketplace</td>\n      <td>2</td>\n      <td>Department Store</td>\n    </tr>\n    <tr>\n      <th>3</th>\n      <td>102</td>\n      <td>72</td>\n      <td>Camping Equipment Online</td>\n      <td>3</td>\n      <td>Direct Marketing</td>\n    </tr>\n    <tr>\n      <th>4</th>\n      <td>103</td>\n      <td>73</td>\n      <td>Tamarack Outfitter Rentals</td>\n      <td>5</td>\n      <td>Equipment Rental Store</td>\n    </tr>\n  </tbody>\n</table>\n</div>"
     },
     "execution_count": 19,
     "metadata": {},
     "output_type": "execute_result"
    }
   ],
   "source": [
    "retailer = pd.merge(go_crm_retailer, go_crm_retailer_type, left_on='RETAILER_TYPE_CODE', right_on='RETAILER_TYPE_CODE')\n",
    "\n",
    "# dropping the trial219 and trial222 columns\n",
    "retailer = retailer.drop(columns=['TRIAL219', 'TRIAL222'])\n",
    "\n",
    "# rename the columns\n",
    "retailer = retailer.rename(columns={'RETAILER_CODE': 'RETAILER_code', 'COMPANY_NAME': 'RETAILER_name', 'RETAILER_CODEMR': 'RETAILER_COMPANY_CODE_MR_company', 'RETAILER_TYPE_CODE': 'RETAILER_RETAILER_TYPE_retailer_type_code', 'RETAILER_TYPE_EN': 'RETAILER_RETAILER_TYPE_retailer_type_EN'})\n",
    "\n",
    "retailer.head()"
   ]
  },
  {
   "cell_type": "markdown",
   "id": "4294143c48572b68",
   "metadata": {
    "collapsed": false
   },
   "source": [
    "### Product"
   ]
  },
  {
   "cell_type": "code",
   "execution_count": 20,
   "id": "edddbd324315ff8e",
   "metadata": {
    "collapsed": false,
    "ExecuteTime": {
     "end_time": "2024-03-13T11:46:04.211423Z",
     "start_time": "2024-03-13T11:46:04.195084Z"
    }
   },
   "outputs": [
    {
     "data": {
      "text/plain": "  PRODUCT_number PRODUCT_INTRODUCTION_DATE_introduced  \\\n0              1                            15-2-2011   \n1             10                            15-2-2011   \n2            100                            15-2-2011   \n3            101                           15-12-2019   \n4            102                           10-12-2019   \n\n  PRODUCT_PRODUCT_TYPE_code PRODUCT_PRODUCTION_COST_cost  \\\n0                         1                            4   \n1                         1                           10   \n2                        17                            3   \n3                        18                       305.54   \n4                        18                       380.95   \n\n  PRODUCT_MARGIN_margin PRODUCT_image_image PRODUCT_LANGUAGE_language  \\\n0                   .33       P01CE1CG1.jpg                        EN   \n1                    .4       P10CE1CG1.jpg                        EN   \n2                    .5     P100OP4FA17.jpg                        EN   \n3                   .43     P101GE5IR18.jpg                        EN   \n4                   .51     P102GE5IR18.jpg                        EN   \n\n       PRODUCT_name_product  \\\n0       TrailChef Water Bag   \n1        TrailChef Utensils   \n2        Insect Bite Relief   \n3     Hailstorm Steel Irons   \n4  Hailstorm Titanium Irons   \n\n                     PRODUCT_description_description TRIAL888_x  \\\n0  Lightweight, collapsible bag to carry liquids ...          T   \n1  Spoon, fork and knife set made of a light yet ...          T   \n2  The Insect Bite Relief helps the itching and s...          T   \n3  Iron is 17-4 stainless steel.  Shafts are grap...          T   \n4  Made entirely of pure titanium. The ultimate i...          T   \n\n  PRODUCT_PRODUCT_LINE_code PRODUCT_PRODUCT_TYPE_code_en TRIAL888_y  \\\n0                         1                 Cooking Gear          T   \n1                         1                 Cooking Gear          T   \n2                         4                    First Aid          T   \n3                         5                        Irons          T   \n4                         5                        Irons          T   \n\n  PRODUCT_PRODUCT_LINE_code_en  \n0            Camping Equipment  \n1            Camping Equipment  \n2           Outdoor Protection  \n3               Golf Equipment  \n4               Golf Equipment  ",
      "text/html": "<div>\n<style scoped>\n    .dataframe tbody tr th:only-of-type {\n        vertical-align: middle;\n    }\n\n    .dataframe tbody tr th {\n        vertical-align: top;\n    }\n\n    .dataframe thead th {\n        text-align: right;\n    }\n</style>\n<table border=\"1\" class=\"dataframe\">\n  <thead>\n    <tr style=\"text-align: right;\">\n      <th></th>\n      <th>PRODUCT_number</th>\n      <th>PRODUCT_INTRODUCTION_DATE_introduced</th>\n      <th>PRODUCT_PRODUCT_TYPE_code</th>\n      <th>PRODUCT_PRODUCTION_COST_cost</th>\n      <th>PRODUCT_MARGIN_margin</th>\n      <th>PRODUCT_image_image</th>\n      <th>PRODUCT_LANGUAGE_language</th>\n      <th>PRODUCT_name_product</th>\n      <th>PRODUCT_description_description</th>\n      <th>TRIAL888_x</th>\n      <th>PRODUCT_PRODUCT_LINE_code</th>\n      <th>PRODUCT_PRODUCT_TYPE_code_en</th>\n      <th>TRIAL888_y</th>\n      <th>PRODUCT_PRODUCT_LINE_code_en</th>\n    </tr>\n  </thead>\n  <tbody>\n    <tr>\n      <th>0</th>\n      <td>1</td>\n      <td>15-2-2011</td>\n      <td>1</td>\n      <td>4</td>\n      <td>.33</td>\n      <td>P01CE1CG1.jpg</td>\n      <td>EN</td>\n      <td>TrailChef Water Bag</td>\n      <td>Lightweight, collapsible bag to carry liquids ...</td>\n      <td>T</td>\n      <td>1</td>\n      <td>Cooking Gear</td>\n      <td>T</td>\n      <td>Camping Equipment</td>\n    </tr>\n    <tr>\n      <th>1</th>\n      <td>10</td>\n      <td>15-2-2011</td>\n      <td>1</td>\n      <td>10</td>\n      <td>.4</td>\n      <td>P10CE1CG1.jpg</td>\n      <td>EN</td>\n      <td>TrailChef Utensils</td>\n      <td>Spoon, fork and knife set made of a light yet ...</td>\n      <td>T</td>\n      <td>1</td>\n      <td>Cooking Gear</td>\n      <td>T</td>\n      <td>Camping Equipment</td>\n    </tr>\n    <tr>\n      <th>2</th>\n      <td>100</td>\n      <td>15-2-2011</td>\n      <td>17</td>\n      <td>3</td>\n      <td>.5</td>\n      <td>P100OP4FA17.jpg</td>\n      <td>EN</td>\n      <td>Insect Bite Relief</td>\n      <td>The Insect Bite Relief helps the itching and s...</td>\n      <td>T</td>\n      <td>4</td>\n      <td>First Aid</td>\n      <td>T</td>\n      <td>Outdoor Protection</td>\n    </tr>\n    <tr>\n      <th>3</th>\n      <td>101</td>\n      <td>15-12-2019</td>\n      <td>18</td>\n      <td>305.54</td>\n      <td>.43</td>\n      <td>P101GE5IR18.jpg</td>\n      <td>EN</td>\n      <td>Hailstorm Steel Irons</td>\n      <td>Iron is 17-4 stainless steel.  Shafts are grap...</td>\n      <td>T</td>\n      <td>5</td>\n      <td>Irons</td>\n      <td>T</td>\n      <td>Golf Equipment</td>\n    </tr>\n    <tr>\n      <th>4</th>\n      <td>102</td>\n      <td>10-12-2019</td>\n      <td>18</td>\n      <td>380.95</td>\n      <td>.51</td>\n      <td>P102GE5IR18.jpg</td>\n      <td>EN</td>\n      <td>Hailstorm Titanium Irons</td>\n      <td>Made entirely of pure titanium. The ultimate i...</td>\n      <td>T</td>\n      <td>5</td>\n      <td>Irons</td>\n      <td>T</td>\n      <td>Golf Equipment</td>\n    </tr>\n  </tbody>\n</table>\n</div>"
     },
     "execution_count": 20,
     "metadata": {},
     "output_type": "execute_result"
    }
   ],
   "source": [
    "product = pd.merge(go_sales_product, go_sales_product_type, left_on='PRODUCT_TYPE_CODE', right_on='PRODUCT_TYPE_CODE')\n",
    "product = pd.merge(product, go_sales_product_line, left_on='PRODUCT_LINE_CODE', right_on='PRODUCT_LINE_CODE')\n",
    "\n",
    "#dropping the trial888 column\n",
    "product = product.drop(columns=['TRIAL888'])\n",
    "\n",
    "# rename the columns\n",
    "product = product.rename(columns={'PRODUCT_NUMBER': 'PRODUCT_number', 'PRODUCT_NAME': 'PRODUCT_name_product', 'DESCRIPTION': 'PRODUCT_description_description', 'PRODUCT_IMAGE': 'PRODUCT_image_image', 'INTRODUCTION_DATE': 'PRODUCT_INTRODUCTION_DATE_introduced', 'PRODUCTION_COST': 'PRODUCT_PRODUCTION_COST_cost', 'MARGIN': 'PRODUCT_MARGIN_margin', 'LANGUAGE': 'PRODUCT_LANGUAGE_language',  'PRODUCT_TYPE_CODE': 'PRODUCT_PRODUCT_TYPE_code', 'PRODUCT_TYPE_EN': 'PRODUCT_PRODUCT_TYPE_code_en', 'PRODUCT_LINE_CODE': 'PRODUCT_PRODUCT_LINE_code', 'PRODUCT_LINE_EN': 'PRODUCT_PRODUCT_LINE_code_en'})\n",
    "\n",
    "product.head()"
   ]
  },
  {
   "cell_type": "markdown",
   "id": "3dd3f1237cd6217f",
   "metadata": {
    "collapsed": false
   },
   "source": [
    "### Order_details"
   ]
  },
  {
   "cell_type": "code",
   "execution_count": 21,
   "id": "9709a31ccd988768",
   "metadata": {
    "collapsed": false,
    "ExecuteTime": {
     "end_time": "2024-03-13T11:46:04.336997Z",
     "start_time": "2024-03-13T11:46:04.307526Z"
    }
   },
   "outputs": [
    {
     "data": {
      "text/plain": "  ORDER_DETAIL_CODE ORDER_DETAILS_ORDER_NUMBER_order  \\\n0            100146                             8465   \n1            100149                             9116   \n2            100199                             9113   \n3            100250                             9254   \n4            100641                             9269   \n\n  ORDER_DETAILS_PRODUCT_NUMBER_product  ORDER_DETAILS_QUANTITY_quantity  \\\n0                                   15                               16   \n1                                   16                               64   \n2                                   30                               22   \n3                                   43                               52   \n4                                  111                                6   \n\n   ORDER_DETAILS_UNIT_ID_unit  ORDER_DETAILS_UNIT_ID_unit  \\\n0                         144                         144   \n1                         147                         147   \n2                         197                         197   \n3                         248                         248   \n4                         635                         635   \n\n  ORDER_DETAILS_RETURN_CODE_returned RETURNED_ITEM_DATE_date  \\\n0                               1975       9-8-2021 18:45:17   \n1                               1976       6-7-2021 13:34:59   \n2                               1979       6-7-2021 07:19:36   \n3                               2298     14-12-2021 11:28:50   \n4                               2301     19-12-2021 04:10:53   \n\n  RETURNED_ITEM_QUANTITY_quantity RETURNED_ITEM_ORDER_DETAIL_CODE_detail_code  \\\n0                              16                                      100146   \n1                              64                                      100149   \n2                              22                                      100199   \n3                               6                                      100250   \n4                               6                                      100641   \n\n  RETURNED_ITEM_RETURN_REASON_code RETURNED_ITEM_RETURN_REASON_desctiption_en  \n0                                4                      Wrong product shipped  \n1                                5                     Unsatisfactory product  \n2                                4                      Wrong product shipped  \n3                                1                          Defective product  \n4                                4                      Wrong product shipped  ",
      "text/html": "<div>\n<style scoped>\n    .dataframe tbody tr th:only-of-type {\n        vertical-align: middle;\n    }\n\n    .dataframe tbody tr th {\n        vertical-align: top;\n    }\n\n    .dataframe thead th {\n        text-align: right;\n    }\n</style>\n<table border=\"1\" class=\"dataframe\">\n  <thead>\n    <tr style=\"text-align: right;\">\n      <th></th>\n      <th>ORDER_DETAIL_CODE</th>\n      <th>ORDER_DETAILS_ORDER_NUMBER_order</th>\n      <th>ORDER_DETAILS_PRODUCT_NUMBER_product</th>\n      <th>ORDER_DETAILS_QUANTITY_quantity</th>\n      <th>ORDER_DETAILS_UNIT_ID_unit</th>\n      <th>ORDER_DETAILS_UNIT_ID_unit</th>\n      <th>ORDER_DETAILS_RETURN_CODE_returned</th>\n      <th>RETURNED_ITEM_DATE_date</th>\n      <th>RETURNED_ITEM_QUANTITY_quantity</th>\n      <th>RETURNED_ITEM_ORDER_DETAIL_CODE_detail_code</th>\n      <th>RETURNED_ITEM_RETURN_REASON_code</th>\n      <th>RETURNED_ITEM_RETURN_REASON_desctiption_en</th>\n    </tr>\n  </thead>\n  <tbody>\n    <tr>\n      <th>0</th>\n      <td>100146</td>\n      <td>8465</td>\n      <td>15</td>\n      <td>16</td>\n      <td>144</td>\n      <td>144</td>\n      <td>1975</td>\n      <td>9-8-2021 18:45:17</td>\n      <td>16</td>\n      <td>100146</td>\n      <td>4</td>\n      <td>Wrong product shipped</td>\n    </tr>\n    <tr>\n      <th>1</th>\n      <td>100149</td>\n      <td>9116</td>\n      <td>16</td>\n      <td>64</td>\n      <td>147</td>\n      <td>147</td>\n      <td>1976</td>\n      <td>6-7-2021 13:34:59</td>\n      <td>64</td>\n      <td>100149</td>\n      <td>5</td>\n      <td>Unsatisfactory product</td>\n    </tr>\n    <tr>\n      <th>2</th>\n      <td>100199</td>\n      <td>9113</td>\n      <td>30</td>\n      <td>22</td>\n      <td>197</td>\n      <td>197</td>\n      <td>1979</td>\n      <td>6-7-2021 07:19:36</td>\n      <td>22</td>\n      <td>100199</td>\n      <td>4</td>\n      <td>Wrong product shipped</td>\n    </tr>\n    <tr>\n      <th>3</th>\n      <td>100250</td>\n      <td>9254</td>\n      <td>43</td>\n      <td>52</td>\n      <td>248</td>\n      <td>248</td>\n      <td>2298</td>\n      <td>14-12-2021 11:28:50</td>\n      <td>6</td>\n      <td>100250</td>\n      <td>1</td>\n      <td>Defective product</td>\n    </tr>\n    <tr>\n      <th>4</th>\n      <td>100641</td>\n      <td>9269</td>\n      <td>111</td>\n      <td>6</td>\n      <td>635</td>\n      <td>635</td>\n      <td>2301</td>\n      <td>19-12-2021 04:10:53</td>\n      <td>6</td>\n      <td>100641</td>\n      <td>4</td>\n      <td>Wrong product shipped</td>\n    </tr>\n  </tbody>\n</table>\n</div>"
     },
     "execution_count": 21,
     "metadata": {},
     "output_type": "execute_result"
    }
   ],
   "source": [
    "order_details = go_sales_order_details\n",
    "\n",
    "# replacing original columns with unit and returned_item\n",
    "order_details['ORDER_DETAILS_UNIT_ID_unit'] = unit.index\n",
    "\n",
    "# merging the returned_item and order_details\n",
    "order_details = pd.merge(order_details, returned_item, left_on='ORDER_DETAIL_CODE', right_on='RETURNED_ITEM_ORDER_DETAIL_CODE_detail_code')\n",
    "\n",
    "# dropping the columns replaced by unit and returned_item\n",
    "order_details = order_details.drop(columns=['UNIT_COST', 'UNIT_PRICE', 'UNIT_SALE_PRICE']) \n",
    "\n",
    "\n",
    "# dropping the trial879 column\n",
    "order_details = order_details.drop(columns=['TRIAL879'])\n",
    "\n",
    "# rename the columns\n",
    "order_details = order_details.rename(columns={'ORDER_DETAILS_CODE': 'ORDER_DETAILS_code', 'QUANTITY': 'ORDER_DETAILS_QUANTITY_quantity', 'RETURNED_ITEM_code': 'ORDER_DETAILS_RETURN_CODE_returned', 'ORDER_NUMBER': 'ORDER_DETAILS_ORDER_NUMBER_order', 'PRODUCT_NUMBER': 'ORDER_DETAILS_PRODUCT_NUMBER_product', 'UNIT_ID': 'ORDER_DETAILS_UNIT_ID_unit'})\n",
    "\n",
    "order_details.head()"
   ]
  },
  {
   "cell_type": "markdown",
   "id": "8b73e9b4b1cca021",
   "metadata": {
    "collapsed": false
   },
   "source": [
    "### Training"
   ]
  },
  {
   "cell_type": "code",
   "execution_count": 22,
   "id": "25a1efa0fab720ea",
   "metadata": {
    "collapsed": false,
    "ExecuteTime": {
     "end_time": "2024-03-13T11:46:04.541584Z",
     "start_time": "2024-03-13T11:46:04.525661Z"
    }
   },
   "outputs": [
    {
     "data": {
      "text/plain": "  TRAINING_YEAR TRAINING_SALES_STAFF_CODE TRAINING_COURSE_CODE COURSE_code  \\\n0          2004                       100                    2           2   \n1          2004                       100                    3           3   \n2          2004                       100                    4           4   \n3          2005                       100                    5           5   \n4          2006                       100                    6           6   \n\n  COURSE_DESCRIPTION  \n0   GO Communication  \n1         GO Sales 1  \n2         GO Sales 2  \n3     GO Marketing 1  \n4     GO Marketing 2  ",
      "text/html": "<div>\n<style scoped>\n    .dataframe tbody tr th:only-of-type {\n        vertical-align: middle;\n    }\n\n    .dataframe tbody tr th {\n        vertical-align: top;\n    }\n\n    .dataframe thead th {\n        text-align: right;\n    }\n</style>\n<table border=\"1\" class=\"dataframe\">\n  <thead>\n    <tr style=\"text-align: right;\">\n      <th></th>\n      <th>TRAINING_YEAR</th>\n      <th>TRAINING_SALES_STAFF_CODE</th>\n      <th>TRAINING_COURSE_CODE</th>\n      <th>COURSE_code</th>\n      <th>COURSE_DESCRIPTION</th>\n    </tr>\n  </thead>\n  <tbody>\n    <tr>\n      <th>0</th>\n      <td>2004</td>\n      <td>100</td>\n      <td>2</td>\n      <td>2</td>\n      <td>GO Communication</td>\n    </tr>\n    <tr>\n      <th>1</th>\n      <td>2004</td>\n      <td>100</td>\n      <td>3</td>\n      <td>3</td>\n      <td>GO Sales 1</td>\n    </tr>\n    <tr>\n      <th>2</th>\n      <td>2004</td>\n      <td>100</td>\n      <td>4</td>\n      <td>4</td>\n      <td>GO Sales 2</td>\n    </tr>\n    <tr>\n      <th>3</th>\n      <td>2005</td>\n      <td>100</td>\n      <td>5</td>\n      <td>5</td>\n      <td>GO Marketing 1</td>\n    </tr>\n    <tr>\n      <th>4</th>\n      <td>2006</td>\n      <td>100</td>\n      <td>6</td>\n      <td>6</td>\n      <td>GO Marketing 2</td>\n    </tr>\n  </tbody>\n</table>\n</div>"
     },
     "execution_count": 22,
     "metadata": {},
     "output_type": "execute_result"
    }
   ],
   "source": [
    "training = go_staff_training\n",
    "\n",
    "# replacing the original columns with year and course\n",
    "# merging the year and course\n",
    "training = pd.merge(training, year, left_on='YEAR', right_on='YEAR')\n",
    "training = pd.merge(training, course, left_on='COURSE_CODE', right_on='COURSE_code')\n",
    "\n",
    "# dropping the trial633 column\n",
    "training = training.drop(columns=['TRIAL633'])\n",
    "\n",
    "# rename the columns\n",
    "training = training.rename(columns={'SALES_STAFF_CODE': 'TRAINING_SALES_STAFF_CODE', 'COURSE_CODE': 'TRAINING_COURSE_CODE', 'YEAR': 'TRAINING_YEAR'})\n",
    "\n",
    "training.head()\n"
   ]
  },
  {
   "cell_type": "markdown",
   "id": "fafe9322068f9bcb",
   "metadata": {
    "collapsed": false
   },
   "source": [
    "### Satisfaction"
   ]
  },
  {
   "cell_type": "code",
   "execution_count": 23,
   "id": "1f79b295694d9060",
   "metadata": {
    "collapsed": false,
    "ExecuteTime": {
     "end_time": "2024-03-13T11:46:04.639795Z",
     "start_time": "2024-03-13T11:46:04.625737Z"
    }
   },
   "outputs": [
    {
     "data": {
      "text/plain": "  SATISFACTION_YEAR SATISFACTION_SALES_STAFF_CODE  \\\n0              2004                           100   \n1              2004                           101   \n2              2004                           102   \n3              2004                           103   \n4              2004                           104   \n\n  SATISFACTION_SATISFACTION_TYPE_CODE SATISFACTION_TYPE_code  \\\n0                                   1                      1   \n1                                   4                      4   \n2                                   4                      4   \n3                                   3                      3   \n4                                   4                      4   \n\n  SATISFACTION_TYPE_DESCRIPTION  \n0                 Not satisfied  \n1                Very Satisfied  \n2                Very Satisfied  \n3                     Satisfied  \n4                Very Satisfied  ",
      "text/html": "<div>\n<style scoped>\n    .dataframe tbody tr th:only-of-type {\n        vertical-align: middle;\n    }\n\n    .dataframe tbody tr th {\n        vertical-align: top;\n    }\n\n    .dataframe thead th {\n        text-align: right;\n    }\n</style>\n<table border=\"1\" class=\"dataframe\">\n  <thead>\n    <tr style=\"text-align: right;\">\n      <th></th>\n      <th>SATISFACTION_YEAR</th>\n      <th>SATISFACTION_SALES_STAFF_CODE</th>\n      <th>SATISFACTION_SATISFACTION_TYPE_CODE</th>\n      <th>SATISFACTION_TYPE_code</th>\n      <th>SATISFACTION_TYPE_DESCRIPTION</th>\n    </tr>\n  </thead>\n  <tbody>\n    <tr>\n      <th>0</th>\n      <td>2004</td>\n      <td>100</td>\n      <td>1</td>\n      <td>1</td>\n      <td>Not satisfied</td>\n    </tr>\n    <tr>\n      <th>1</th>\n      <td>2004</td>\n      <td>101</td>\n      <td>4</td>\n      <td>4</td>\n      <td>Very Satisfied</td>\n    </tr>\n    <tr>\n      <th>2</th>\n      <td>2004</td>\n      <td>102</td>\n      <td>4</td>\n      <td>4</td>\n      <td>Very Satisfied</td>\n    </tr>\n    <tr>\n      <th>3</th>\n      <td>2004</td>\n      <td>103</td>\n      <td>3</td>\n      <td>3</td>\n      <td>Satisfied</td>\n    </tr>\n    <tr>\n      <th>4</th>\n      <td>2004</td>\n      <td>104</td>\n      <td>4</td>\n      <td>4</td>\n      <td>Very Satisfied</td>\n    </tr>\n  </tbody>\n</table>\n</div>"
     },
     "execution_count": 23,
     "metadata": {},
     "output_type": "execute_result"
    }
   ],
   "source": [
    "satisfaction = go_staff_satisfaction\n",
    "\n",
    "# replacing the original columns with year and satisfaction_type\n",
    "# merging the year and satisfaction_type\n",
    "satisfaction = pd.merge(satisfaction, year, left_on='YEAR', right_on='YEAR')\n",
    "satisfaction = pd.merge(satisfaction, satisfaction_type, left_on='SATISFACTION_TYPE_CODE', right_on='SATISFACTION_TYPE_code')\n",
    "\n",
    "# dropping the trial633 column\n",
    "satisfaction = satisfaction.drop(columns=['TRIAL633'])\n",
    "\n",
    "# rename the columns\n",
    "satisfaction = satisfaction.rename(columns={'SALES_STAFF_CODE': 'SATISFACTION_SALES_STAFF_CODE', 'SATISFACTION_TYPE_CODE': 'SATISFACTION_SATISFACTION_TYPE_CODE', 'YEAR': 'SATISFACTION_YEAR'})\n",
    "\n",
    "satisfaction.head()"
   ]
  },
  {
   "cell_type": "markdown",
   "id": "a2de04bb43925941",
   "metadata": {
    "collapsed": false
   },
   "source": [
    "### Order_header"
   ]
  },
  {
   "cell_type": "code",
   "execution_count": 24,
   "id": "1b4956744dca5608",
   "metadata": {
    "collapsed": false,
    "ExecuteTime": {
     "end_time": "2024-03-13T11:46:04.891888Z",
     "start_time": "2024-03-13T11:46:04.809449Z"
    }
   },
   "outputs": [
    {
     "data": {
      "text/plain": "  ORDER_HEADER_number ORDER_HEADER_RETAILER_NAME  \\\n0                1153               Ultra Sports   \n1                1153               Ultra Sports   \n2                1154               Ultra Sports   \n3                1154               Ultra Sports   \n4                1155               Ultra Sports   \n\n  ORDER_HEADER_RETAILER_SITE_CODE ORDER_HEADER_RETAILER_CONTACT_CODE  \\\n0                               4                                  6   \n1                               4                                  6   \n2                               4                                  6   \n3                               4                                  6   \n4                               5                                 65   \n\n  ORDER_HEADER_SALES_STAFF ORDER_HEADER_SALES_BRANCH_CODE  \\\n0                       50                             18   \n1                       50                             18   \n2                       50                             18   \n3                       50                             18   \n4                       49                             18   \n\n  ORDER_HEADER_ORDER_DATE ORDER_METHOD_CODE RETAILER_code  \\\n0              2020-04-14                 7            90   \n1              2020-04-14                 7            90   \n2              2020-10-01                 4            90   \n3              2020-10-01                 4            90   \n4              2020-04-21                 7            90   \n\n  RETAILER_COMPANY_CODE_MR_company  ...  \\\n0                                2  ...   \n1                                2  ...   \n2                                2  ...   \n3                                2  ...   \n4                                2  ...   \n\n  RETAILER_SITE_ACTIVE_INDICATOR_indicator RETAILER_CONTACT_code  \\\n0                                        1                     6   \n1                                        1                     6   \n2                                        1                     6   \n3                                        1                     6   \n4                                        1                    65   \n\n  RETAILER_CONTACT_RETAILER_SITE_CODE_site_code  \\\n0                                             4   \n1                                             4   \n2                                             4   \n3                                             4   \n4                                             5   \n\n  RETAILER_CONTACT_FIRST_NAME_first_name RETAILER_CONTACT_LAST_NAME_last_name  \\\n0                                  Marie                             Turcotte   \n1                                  Marie                             Turcotte   \n2                                  Marie                             Turcotte   \n3                                  Marie                             Turcotte   \n4                                 Andrea                              Martens   \n\n  RETAILER_CONTACT_JOB_POSITION_EN_position  \\\n0                       Assistant Purchaser   \n1                       Assistant Purchaser   \n2                       Assistant Purchaser   \n3                       Assistant Purchaser   \n4                             Stock Manager   \n\n  RETAILER_CONTACT_EXTENSION_extension RETAILER_CONTACT_FAX_fax  \\\n0                                  635         1 (514) 747-2582   \n1                                  635         1 (514) 747-2582   \n2                                  635         1 (514) 747-2582   \n3                                  635         1 (514) 747-2582   \n4                                 None         1 (705) 675-9848   \n\n    RETAILER_CONTACT_email RETAILER_CONTACT_GENDER_gender  \n0  MTurcotte@cybserv19.com                              F  \n1  MTurcotte@cybserv19.com                              F  \n2  MTurcotte@cybserv19.com                              F  \n3  MTurcotte@cybserv19.com                              F  \n4   AMartens@cybserv19.com                              F  \n\n[5 rows x 44 columns]",
      "text/html": "<div>\n<style scoped>\n    .dataframe tbody tr th:only-of-type {\n        vertical-align: middle;\n    }\n\n    .dataframe tbody tr th {\n        vertical-align: top;\n    }\n\n    .dataframe thead th {\n        text-align: right;\n    }\n</style>\n<table border=\"1\" class=\"dataframe\">\n  <thead>\n    <tr style=\"text-align: right;\">\n      <th></th>\n      <th>ORDER_HEADER_number</th>\n      <th>ORDER_HEADER_RETAILER_NAME</th>\n      <th>ORDER_HEADER_RETAILER_SITE_CODE</th>\n      <th>ORDER_HEADER_RETAILER_CONTACT_CODE</th>\n      <th>ORDER_HEADER_SALES_STAFF</th>\n      <th>ORDER_HEADER_SALES_BRANCH_CODE</th>\n      <th>ORDER_HEADER_ORDER_DATE</th>\n      <th>ORDER_METHOD_CODE</th>\n      <th>RETAILER_code</th>\n      <th>RETAILER_COMPANY_CODE_MR_company</th>\n      <th>...</th>\n      <th>RETAILER_SITE_ACTIVE_INDICATOR_indicator</th>\n      <th>RETAILER_CONTACT_code</th>\n      <th>RETAILER_CONTACT_RETAILER_SITE_CODE_site_code</th>\n      <th>RETAILER_CONTACT_FIRST_NAME_first_name</th>\n      <th>RETAILER_CONTACT_LAST_NAME_last_name</th>\n      <th>RETAILER_CONTACT_JOB_POSITION_EN_position</th>\n      <th>RETAILER_CONTACT_EXTENSION_extension</th>\n      <th>RETAILER_CONTACT_FAX_fax</th>\n      <th>RETAILER_CONTACT_email</th>\n      <th>RETAILER_CONTACT_GENDER_gender</th>\n    </tr>\n  </thead>\n  <tbody>\n    <tr>\n      <th>0</th>\n      <td>1153</td>\n      <td>Ultra Sports</td>\n      <td>4</td>\n      <td>6</td>\n      <td>50</td>\n      <td>18</td>\n      <td>2020-04-14</td>\n      <td>7</td>\n      <td>90</td>\n      <td>2</td>\n      <td>...</td>\n      <td>1</td>\n      <td>6</td>\n      <td>4</td>\n      <td>Marie</td>\n      <td>Turcotte</td>\n      <td>Assistant Purchaser</td>\n      <td>635</td>\n      <td>1 (514) 747-2582</td>\n      <td>MTurcotte@cybserv19.com</td>\n      <td>F</td>\n    </tr>\n    <tr>\n      <th>1</th>\n      <td>1153</td>\n      <td>Ultra Sports</td>\n      <td>4</td>\n      <td>6</td>\n      <td>50</td>\n      <td>18</td>\n      <td>2020-04-14</td>\n      <td>7</td>\n      <td>90</td>\n      <td>2</td>\n      <td>...</td>\n      <td>1</td>\n      <td>6</td>\n      <td>4</td>\n      <td>Marie</td>\n      <td>Turcotte</td>\n      <td>Assistant Purchaser</td>\n      <td>635</td>\n      <td>1 (514) 747-2582</td>\n      <td>MTurcotte@cybserv19.com</td>\n      <td>F</td>\n    </tr>\n    <tr>\n      <th>2</th>\n      <td>1154</td>\n      <td>Ultra Sports</td>\n      <td>4</td>\n      <td>6</td>\n      <td>50</td>\n      <td>18</td>\n      <td>2020-10-01</td>\n      <td>4</td>\n      <td>90</td>\n      <td>2</td>\n      <td>...</td>\n      <td>1</td>\n      <td>6</td>\n      <td>4</td>\n      <td>Marie</td>\n      <td>Turcotte</td>\n      <td>Assistant Purchaser</td>\n      <td>635</td>\n      <td>1 (514) 747-2582</td>\n      <td>MTurcotte@cybserv19.com</td>\n      <td>F</td>\n    </tr>\n    <tr>\n      <th>3</th>\n      <td>1154</td>\n      <td>Ultra Sports</td>\n      <td>4</td>\n      <td>6</td>\n      <td>50</td>\n      <td>18</td>\n      <td>2020-10-01</td>\n      <td>4</td>\n      <td>90</td>\n      <td>2</td>\n      <td>...</td>\n      <td>1</td>\n      <td>6</td>\n      <td>4</td>\n      <td>Marie</td>\n      <td>Turcotte</td>\n      <td>Assistant Purchaser</td>\n      <td>635</td>\n      <td>1 (514) 747-2582</td>\n      <td>MTurcotte@cybserv19.com</td>\n      <td>F</td>\n    </tr>\n    <tr>\n      <th>4</th>\n      <td>1155</td>\n      <td>Ultra Sports</td>\n      <td>5</td>\n      <td>65</td>\n      <td>49</td>\n      <td>18</td>\n      <td>2020-04-21</td>\n      <td>7</td>\n      <td>90</td>\n      <td>2</td>\n      <td>...</td>\n      <td>1</td>\n      <td>65</td>\n      <td>5</td>\n      <td>Andrea</td>\n      <td>Martens</td>\n      <td>Stock Manager</td>\n      <td>None</td>\n      <td>1 (705) 675-9848</td>\n      <td>AMartens@cybserv19.com</td>\n      <td>F</td>\n    </tr>\n  </tbody>\n</table>\n<p>5 rows × 44 columns</p>\n</div>"
     },
     "execution_count": 24,
     "metadata": {},
     "output_type": "execute_result"
    }
   ],
   "source": [
    "order_header = pd.merge(go_sales_order_header, retailer, left_on='RETAILER_NAME', right_on='RETAILER_name')\n",
    "\n",
    "# converting the date to datetime\n",
    "order_header['ORDER_DATE'] = pd.to_datetime(order_header['ORDER_DATE'])\n",
    "\n",
    "# replacing the original columns with date, sales_staff, retailer_site and retailer_contact\n",
    "# merging the date, sales_staff, retailer_site and retailer_contact\n",
    "order_header = pd.merge(order_header, date, left_on='ORDER_DATE', right_on='DATE_date')\n",
    "order_header = pd.merge(order_header, sales_staff, left_on='SALES_STAFF_CODE', right_on='SALES_STAFF_code')\n",
    "order_header = pd.merge(order_header, retailer_site, left_on='RETAILER_SITE_CODE', right_on='RETAILER_SITE_code')\n",
    "order_header = pd.merge(order_header, retailer_contact, left_on='RETAILER_CONTACT_CODE', right_on='RETAILER_CONTACT_code')\n",
    "\n",
    "# dropping the trial885 column\n",
    "order_header = order_header.drop(columns=['TRIAL885'])\n",
    "\n",
    "# rename the columns\n",
    "order_header = order_header.rename(columns={'ORDER_NUMBER': 'ORDER_HEADER_number', 'RETAILER_NAME': 'ORDER_HEADER_RETAILER_NAME', 'SALES_STAFF_CODE': 'ORDER_HEADER_SALES_STAFF', 'SALES_BRANCH_CODE': 'ORDER_HEADER_SALES_BRANCH_CODE', 'ORDER_DATE': 'ORDER_HEADER_ORDER_DATE', 'RETAILER_SITE_CODE': 'ORDER_HEADER_RETAILER_SITE_CODE', 'RETAILER_CONTACT_CODE': 'ORDER_HEADER_RETAILER_CONTACT_CODE'})\n",
    "\n",
    "order_header.head()"
   ]
  },
  {
   "cell_type": "markdown",
   "id": "dc092095fec002b",
   "metadata": {
    "collapsed": false
   },
   "source": [
    "### GO_SALES_INVENTORY_LEVELS"
   ]
  },
  {
   "cell_type": "code",
   "execution_count": 25,
   "id": "9ab2574dc17f0c43",
   "metadata": {
    "collapsed": false,
    "ExecuteTime": {
     "end_time": "2024-03-13T11:46:04.945319Z",
     "start_time": "2024-03-13T11:46:04.938291Z"
    }
   },
   "outputs": [
    {
     "data": {
      "text/plain": "   INVENTORY_YEAR  INVENTORY_MONTH  GO_SALES_INVENTORY_LEVELS_PRODUCT_NUMBER  \\\n0            2021                4                                        48   \n1            2021                4                                        49   \n2            2021                4                                        50   \n3            2021                4                                        51   \n4            2021                4                                        52   \n\n   GO_SALES_INVENTORY_LEVELS_INVENTORY_COUNT  \n0                                       1932  \n1                                       1400  \n2                                      21705  \n3                                       9710  \n4                                       5616  ",
      "text/html": "<div>\n<style scoped>\n    .dataframe tbody tr th:only-of-type {\n        vertical-align: middle;\n    }\n\n    .dataframe tbody tr th {\n        vertical-align: top;\n    }\n\n    .dataframe thead th {\n        text-align: right;\n    }\n</style>\n<table border=\"1\" class=\"dataframe\">\n  <thead>\n    <tr style=\"text-align: right;\">\n      <th></th>\n      <th>INVENTORY_YEAR</th>\n      <th>INVENTORY_MONTH</th>\n      <th>GO_SALES_INVENTORY_LEVELS_PRODUCT_NUMBER</th>\n      <th>GO_SALES_INVENTORY_LEVELS_INVENTORY_COUNT</th>\n    </tr>\n  </thead>\n  <tbody>\n    <tr>\n      <th>0</th>\n      <td>2021</td>\n      <td>4</td>\n      <td>48</td>\n      <td>1932</td>\n    </tr>\n    <tr>\n      <th>1</th>\n      <td>2021</td>\n      <td>4</td>\n      <td>49</td>\n      <td>1400</td>\n    </tr>\n    <tr>\n      <th>2</th>\n      <td>2021</td>\n      <td>4</td>\n      <td>50</td>\n      <td>21705</td>\n    </tr>\n    <tr>\n      <th>3</th>\n      <td>2021</td>\n      <td>4</td>\n      <td>51</td>\n      <td>9710</td>\n    </tr>\n    <tr>\n      <th>4</th>\n      <td>2021</td>\n      <td>4</td>\n      <td>52</td>\n      <td>5616</td>\n    </tr>\n  </tbody>\n</table>\n</div>"
     },
     "execution_count": 25,
     "metadata": {},
     "output_type": "execute_result"
    }
   ],
   "source": [
    "go_sales_inventory_levels = go_sales_inventory_levels.rename(columns={'INVENTORY_COUNT': 'GO_SALES_INVENTORY_LEVELS_INVENTORY_COUNT', 'PRODUCT_NUMBER': 'GO_SALES_INVENTORY_LEVELS_PRODUCT_NUMBER', 'YEAR_MONTH': 'GO_SALES_INVENTORY_LEVELS_YEAR_MONTH'})\n",
    "\n",
    "go_sales_inventory_levels.head()"
   ]
  },
  {
   "cell_type": "markdown",
   "id": "63ea2b3ff0c095ae",
   "metadata": {
    "collapsed": false
   },
   "source": [
    "### GO_SALES_PRODUCT_FORECAST"
   ]
  },
  {
   "cell_type": "code",
   "execution_count": 26,
   "id": "288d7bec80d4571",
   "metadata": {
    "collapsed": false,
    "ExecuteTime": {
     "end_time": "2024-03-13T11:46:05.109815Z",
     "start_time": "2024-03-13T11:46:05.100372Z"
    }
   },
   "outputs": [
    {
     "data": {
      "text/plain": "   GO_SALES_PRODUCT_FORECAST_PRODUCT_NUMBER  YEAR  MONTH  \\\n0                                        44  2022     12   \n1                                        45  2021      1   \n2                                        45  2021      2   \n3                                        45  2021      3   \n4                                        45  2021      4   \n\n   GO_SALES_PRODUCT_FORECAST_EXPECTED_VOLUME  \n0                                        383  \n1                                         80  \n2                                         51  \n3                                        214  \n4                                        300  ",
      "text/html": "<div>\n<style scoped>\n    .dataframe tbody tr th:only-of-type {\n        vertical-align: middle;\n    }\n\n    .dataframe tbody tr th {\n        vertical-align: top;\n    }\n\n    .dataframe thead th {\n        text-align: right;\n    }\n</style>\n<table border=\"1\" class=\"dataframe\">\n  <thead>\n    <tr style=\"text-align: right;\">\n      <th></th>\n      <th>GO_SALES_PRODUCT_FORECAST_PRODUCT_NUMBER</th>\n      <th>YEAR</th>\n      <th>MONTH</th>\n      <th>GO_SALES_PRODUCT_FORECAST_EXPECTED_VOLUME</th>\n    </tr>\n  </thead>\n  <tbody>\n    <tr>\n      <th>0</th>\n      <td>44</td>\n      <td>2022</td>\n      <td>12</td>\n      <td>383</td>\n    </tr>\n    <tr>\n      <th>1</th>\n      <td>45</td>\n      <td>2021</td>\n      <td>1</td>\n      <td>80</td>\n    </tr>\n    <tr>\n      <th>2</th>\n      <td>45</td>\n      <td>2021</td>\n      <td>2</td>\n      <td>51</td>\n    </tr>\n    <tr>\n      <th>3</th>\n      <td>45</td>\n      <td>2021</td>\n      <td>3</td>\n      <td>214</td>\n    </tr>\n    <tr>\n      <th>4</th>\n      <td>45</td>\n      <td>2021</td>\n      <td>4</td>\n      <td>300</td>\n    </tr>\n  </tbody>\n</table>\n</div>"
     },
     "execution_count": 26,
     "metadata": {},
     "output_type": "execute_result"
    }
   ],
   "source": [
    "go_sales_product_forecast = go_sales_product_forcast.rename(columns={'EXPECTED_VOLUME': 'GO_SALES_PRODUCT_FORECAST_EXPECTED_VOLUME', 'EXPECTED_COST': 'GO_SALES_PRODUCT_FORECAST_EXPECTED_COST', 'EXPECTED_MARGIN': 'GO_SALES_PRODUCT_FORECAST_EXPECTED_MARGIN', 'PRODUCT_NUMBER': 'GO_SALES_PRODUCT_FORECAST_PRODUCT_NUMBER', 'YEAR_MONTH': 'GO_SALES_PRODUCT_FORECAST_YEAR_MONTH'})\n",
    "\n",
    "go_sales_product_forecast.head()"
   ]
  },
  {
   "cell_type": "markdown",
   "id": "bbc4cad433e188d7",
   "metadata": {
    "collapsed": false
   },
   "source": [
    "###  SALES_TARGETData"
   ]
  },
  {
   "cell_type": "code",
   "execution_count": 27,
   "id": "c2f565e0160b4bc5",
   "metadata": {
    "collapsed": false,
    "ExecuteTime": {
     "end_time": "2024-03-13T11:46:05.391551Z",
     "start_time": "2024-03-13T11:46:05.275741Z"
    }
   },
   "outputs": [
    {
     "data": {
      "text/plain": "   Id SALES_TARGETDATA_SALES_STAFF_CODE SALES_TARGETDATA_SALES_YEAR  \\\n0   1                                 6                        2021   \n1   2                                 6                        2021   \n2   3                                 6                        2021   \n3   4                                 6                        2021   \n4   5                                 6                        2021   \n\n  SALES_TARGETDATA_SALES_PERIOD SALES_TARGETDATA_RETAILER_NAME  \\\n0                             5             Altitudes extrêmes   \n1                             5             Altitudes extrêmes   \n2                             5             Altitudes extrêmes   \n3                             5                Camping Sauvage   \n4                             5                Camping Sauvage   \n\n  SALES_TARGETDATA_SALES_TARGET PRODUCT_number  \\\n0                           489             53   \n1                           666             55   \n2                           682             56   \n3                          3193             76   \n4                          7236             85   \n\n  PRODUCT_INTRODUCTION_DATE_introduced PRODUCT_PRODUCT_TYPE_code  \\\n0                            10-1-2021                         8   \n1                            10-1-2021                         8   \n2                            10-1-2021                         8   \n3                            15-2-2011                        12   \n4                            12-6-2015                        14   \n\n  PRODUCT_PRODUCTION_COST_cost PRODUCT_MARGIN_margin PRODUCT_image_image  \\\n0                        28.55                   .28       P53ME2CA8.jpg   \n1                            4                    .5       P55ME2CA8.jpg   \n2                            9                    .5       P56ME2CA8.jpg   \n3                        23.53                    .4      P76PA3KV12.jpg   \n4                       176.47                    .4      P85PA3NV14.jpg   \n\n  PRODUCT_LANGUAGE_language          PRODUCT_name_product  \\\n0                        EN         Firefly Climbing Lamp   \n1                        EN  Firefly Rechargeable Battery   \n2                        EN             Granite Chalk Bag   \n3                        EN                     Bear Edge   \n4                        EN           Glacier GPS Extreme   \n\n                     PRODUCT_description_description  \\\n0  This climbing lamp is water-resistant. It come...   \n1  Rechargeable battery pack for the Firefly Clim...   \n2  Nylon web bag perfect for holding several stic...   \n3  Knife is 33 cm long with a 20 cm blade made of...   \n4  Hand held GPS receiver with color display. Inc...   \n\n  PRODUCT_PRODUCT_LINE_code PRODUCT_PRODUCT_TYPE_code_en  \\\n0                         2         Climbing Accessories   \n1                         2         Climbing Accessories   \n2                         2         Climbing Accessories   \n3                         3                       Knives   \n4                         3                   Navigation   \n\n  PRODUCT_PRODUCT_LINE_code_en RETAILER_code  \n0     Mountaineering Equipment            33  \n1     Mountaineering Equipment            33  \n2     Mountaineering Equipment            33  \n3         Personal Accessories            35  \n4         Personal Accessories            35  ",
      "text/html": "<div>\n<style scoped>\n    .dataframe tbody tr th:only-of-type {\n        vertical-align: middle;\n    }\n\n    .dataframe tbody tr th {\n        vertical-align: top;\n    }\n\n    .dataframe thead th {\n        text-align: right;\n    }\n</style>\n<table border=\"1\" class=\"dataframe\">\n  <thead>\n    <tr style=\"text-align: right;\">\n      <th></th>\n      <th>Id</th>\n      <th>SALES_TARGETDATA_SALES_STAFF_CODE</th>\n      <th>SALES_TARGETDATA_SALES_YEAR</th>\n      <th>SALES_TARGETDATA_SALES_PERIOD</th>\n      <th>SALES_TARGETDATA_RETAILER_NAME</th>\n      <th>SALES_TARGETDATA_SALES_TARGET</th>\n      <th>PRODUCT_number</th>\n      <th>PRODUCT_INTRODUCTION_DATE_introduced</th>\n      <th>PRODUCT_PRODUCT_TYPE_code</th>\n      <th>PRODUCT_PRODUCTION_COST_cost</th>\n      <th>PRODUCT_MARGIN_margin</th>\n      <th>PRODUCT_image_image</th>\n      <th>PRODUCT_LANGUAGE_language</th>\n      <th>PRODUCT_name_product</th>\n      <th>PRODUCT_description_description</th>\n      <th>PRODUCT_PRODUCT_LINE_code</th>\n      <th>PRODUCT_PRODUCT_TYPE_code_en</th>\n      <th>PRODUCT_PRODUCT_LINE_code_en</th>\n      <th>RETAILER_code</th>\n    </tr>\n  </thead>\n  <tbody>\n    <tr>\n      <th>0</th>\n      <td>1</td>\n      <td>6</td>\n      <td>2021</td>\n      <td>5</td>\n      <td>Altitudes extrêmes</td>\n      <td>489</td>\n      <td>53</td>\n      <td>10-1-2021</td>\n      <td>8</td>\n      <td>28.55</td>\n      <td>.28</td>\n      <td>P53ME2CA8.jpg</td>\n      <td>EN</td>\n      <td>Firefly Climbing Lamp</td>\n      <td>This climbing lamp is water-resistant. It come...</td>\n      <td>2</td>\n      <td>Climbing Accessories</td>\n      <td>Mountaineering Equipment</td>\n      <td>33</td>\n    </tr>\n    <tr>\n      <th>1</th>\n      <td>2</td>\n      <td>6</td>\n      <td>2021</td>\n      <td>5</td>\n      <td>Altitudes extrêmes</td>\n      <td>666</td>\n      <td>55</td>\n      <td>10-1-2021</td>\n      <td>8</td>\n      <td>4</td>\n      <td>.5</td>\n      <td>P55ME2CA8.jpg</td>\n      <td>EN</td>\n      <td>Firefly Rechargeable Battery</td>\n      <td>Rechargeable battery pack for the Firefly Clim...</td>\n      <td>2</td>\n      <td>Climbing Accessories</td>\n      <td>Mountaineering Equipment</td>\n      <td>33</td>\n    </tr>\n    <tr>\n      <th>2</th>\n      <td>3</td>\n      <td>6</td>\n      <td>2021</td>\n      <td>5</td>\n      <td>Altitudes extrêmes</td>\n      <td>682</td>\n      <td>56</td>\n      <td>10-1-2021</td>\n      <td>8</td>\n      <td>9</td>\n      <td>.5</td>\n      <td>P56ME2CA8.jpg</td>\n      <td>EN</td>\n      <td>Granite Chalk Bag</td>\n      <td>Nylon web bag perfect for holding several stic...</td>\n      <td>2</td>\n      <td>Climbing Accessories</td>\n      <td>Mountaineering Equipment</td>\n      <td>33</td>\n    </tr>\n    <tr>\n      <th>3</th>\n      <td>4</td>\n      <td>6</td>\n      <td>2021</td>\n      <td>5</td>\n      <td>Camping Sauvage</td>\n      <td>3193</td>\n      <td>76</td>\n      <td>15-2-2011</td>\n      <td>12</td>\n      <td>23.53</td>\n      <td>.4</td>\n      <td>P76PA3KV12.jpg</td>\n      <td>EN</td>\n      <td>Bear Edge</td>\n      <td>Knife is 33 cm long with a 20 cm blade made of...</td>\n      <td>3</td>\n      <td>Knives</td>\n      <td>Personal Accessories</td>\n      <td>35</td>\n    </tr>\n    <tr>\n      <th>4</th>\n      <td>5</td>\n      <td>6</td>\n      <td>2021</td>\n      <td>5</td>\n      <td>Camping Sauvage</td>\n      <td>7236</td>\n      <td>85</td>\n      <td>12-6-2015</td>\n      <td>14</td>\n      <td>176.47</td>\n      <td>.4</td>\n      <td>P85PA3NV14.jpg</td>\n      <td>EN</td>\n      <td>Glacier GPS Extreme</td>\n      <td>Hand held GPS receiver with color display. Inc...</td>\n      <td>3</td>\n      <td>Navigation</td>\n      <td>Personal Accessories</td>\n      <td>35</td>\n    </tr>\n  </tbody>\n</table>\n</div>"
     },
     "execution_count": 27,
     "metadata": {},
     "output_type": "execute_result"
    }
   ],
   "source": [
    "# merge product, retailer and sales_staff\n",
    "go_sales_sales_target_data = pd.merge(go_sales_sales_target_data, product, left_on='PRODUCT_NUMBER', right_on='PRODUCT_number')\n",
    "\n",
    "go_sales_sales_target_data = pd.merge(go_sales_sales_target_data, retailer, left_on='RETAILER_CODE', right_on='RETAILER_code')\n",
    "\n",
    "# delete the original columns that are replaced by product, retailer and sales_staff\n",
    "go_sales_sales_target_data = go_sales_sales_target_data.drop(columns=['PRODUCT_NUMBER', 'RETAILER_CODE', 'RETAILER_name', 'RETAILER_COMPANY_CODE_MR_company', 'RETAILER_RETAILER_TYPE_retailer_type_code', 'RETAILER_RETAILER_TYPE_retailer_type_EN'])\n",
    "\n",
    "# deleting the trial888 column\n",
    "go_sales_sales_target_data = go_sales_sales_target_data.drop(columns=['TRIAL888_x', 'TRIAL888_y', 'TRIAL888'])\n",
    "\n",
    "sales_target_data = go_sales_sales_target_data.rename(columns={'SALES_YEAR': 'SALES_TARGETDATA_SALES_YEAR', 'SALES_PERIOD': 'SALES_TARGETDATA_SALES_PERIOD', 'RETAILER_NAME': 'SALES_TARGETDATA_RETAILER_NAME', 'SALES_TARGET': 'SALES_TARGETDATA_SALES_TARGET', 'TARGET_COST': 'SALES_TARGETDATA_TARGET_COST', 'TARGET_MARGIN': 'SALES_TARGETDATA_TARGET_MARGIN', 'SALES_STAFF_CODE': 'SALES_TARGETDATA_SALES_STAFF_CODE', 'PRODUCT_NUMBER': 'SALES_TARGETDATA_PRODUCT_NUMBER', 'RETAILER_CODE': 'SALES_TARGETDATA_RETAILER_CODE'})\n",
    "\n",
    "sales_target_data.head()"
   ]
  },
  {
   "cell_type": "markdown",
   "source": [
    "### Retailer_segment"
   ],
   "metadata": {
    "collapsed": false
   },
   "id": "d2c2a7365aa32f1"
  },
  {
   "cell_type": "code",
   "outputs": [
    {
     "data": {
      "text/plain": "  RETAILER_SEGMENT_segment_code RETAILER_SEGMENT_language  \\\n0                             1                        EN   \n1                            10                        EN   \n2                            11                        EN   \n3                            12                        EN   \n4                             2                        EN   \n\n  RETAILER_SEGMENT_segment_name  \\\n0     Outdoors Shop - Exclusive   \n1                 Eyewear Store   \n2      Sports Store - Exclusive   \n3                  Sports Store   \n4                 Outdoors Shop   \n\n    RETAILER_SEGMENT_SEGMENT_DESCRIPTION_description  \n0  Primarily offers camping supplies, hiking equi...  \n1  Primarily offers prescription and fashion eyew...  \n2  Primarily offers a wide range of sporting good...  \n3   Primarily offers a wide range of sporting goods.  \n4  Primarily offers camping supplies, hiking equi...  ",
      "text/html": "<div>\n<style scoped>\n    .dataframe tbody tr th:only-of-type {\n        vertical-align: middle;\n    }\n\n    .dataframe tbody tr th {\n        vertical-align: top;\n    }\n\n    .dataframe thead th {\n        text-align: right;\n    }\n</style>\n<table border=\"1\" class=\"dataframe\">\n  <thead>\n    <tr style=\"text-align: right;\">\n      <th></th>\n      <th>RETAILER_SEGMENT_segment_code</th>\n      <th>RETAILER_SEGMENT_language</th>\n      <th>RETAILER_SEGMENT_segment_name</th>\n      <th>RETAILER_SEGMENT_SEGMENT_DESCRIPTION_description</th>\n    </tr>\n  </thead>\n  <tbody>\n    <tr>\n      <th>0</th>\n      <td>1</td>\n      <td>EN</td>\n      <td>Outdoors Shop - Exclusive</td>\n      <td>Primarily offers camping supplies, hiking equi...</td>\n    </tr>\n    <tr>\n      <th>1</th>\n      <td>10</td>\n      <td>EN</td>\n      <td>Eyewear Store</td>\n      <td>Primarily offers prescription and fashion eyew...</td>\n    </tr>\n    <tr>\n      <th>2</th>\n      <td>11</td>\n      <td>EN</td>\n      <td>Sports Store - Exclusive</td>\n      <td>Primarily offers a wide range of sporting good...</td>\n    </tr>\n    <tr>\n      <th>3</th>\n      <td>12</td>\n      <td>EN</td>\n      <td>Sports Store</td>\n      <td>Primarily offers a wide range of sporting goods.</td>\n    </tr>\n    <tr>\n      <th>4</th>\n      <td>2</td>\n      <td>EN</td>\n      <td>Outdoors Shop</td>\n      <td>Primarily offers camping supplies, hiking equi...</td>\n    </tr>\n  </tbody>\n</table>\n</div>"
     },
     "execution_count": 28,
     "metadata": {},
     "output_type": "execute_result"
    }
   ],
   "source": [
    "retailer_segment = go_crm_retailer_segment\n",
    "\n",
    "# dropping trial222 column\n",
    "retailer_segment = retailer_segment.drop(columns=['TRIAL222'])\n",
    "\n",
    "# rename the columns\n",
    "retailer_segment = retailer_segment.rename(columns={'SEGMENT_CODE': 'RETAILER_SEGMENT_segment_code', 'LANGUAGE': 'RETAILER_SEGMENT_language', 'SEGMENT_NAME': 'RETAILER_SEGMENT_segment_name', 'SEGMENT_DESCRIPTION': 'RETAILER_SEGMENT_SEGMENT_DESCRIPTION_description'})\n",
    "\n",
    "retailer_segment.head()"
   ],
   "metadata": {
    "collapsed": false,
    "ExecuteTime": {
     "end_time": "2024-03-13T11:46:05.539033Z",
     "start_time": "2024-03-13T11:46:05.527086Z"
    }
   },
   "id": "d3a3794aa2bcf7c2",
   "execution_count": 28
  },
  {
   "cell_type": "markdown",
   "source": [
    "### Retailer_headquarters"
   ],
   "metadata": {
    "collapsed": false
   },
   "id": "ccfc75e23ec0cf14"
  },
  {
   "cell_type": "code",
   "outputs": [
    {
     "data": {
      "text/plain": "  RETAILER_HEADQUARTER_codemr RETAIL_HEADQUARTER_retailer_name  \\\n0                           1                      Rock Steady   \n1                          10           Excellence en Montagne   \n2                          11                 Vacation Central   \n3                          12              Outdoor Central Ltd   \n4                          13              Precipice Equipment   \n\n  RETAILER_HEADQUARTER_address1_address RETAILER_HEADQUARTER_address2_address  \\\n0                       45, rue Atwater                                  None   \n1                     160, rue Moureaux                            Bureau 410   \n2                3000, 58 Merivale Road                                  None   \n3         Suite 23, 180 McKercher Drive                                  None   \n4                      23 Blackcomb Way                                  None   \n\n  RETAILER_HEADQUARTER_city_city RETAILER_HEADQUARTER_region_region  \\\n0                       Montréal                             Québec   \n1                Ville de Québec                             Québec   \n2                         Ottawa                            Ontario   \n3                         Regina                       Saskatchewan   \n4                       Whistler                   British Columbia   \n\n  RETAILER_HEADQUARTER_postal_zone_postal_zone  \\\n0                                      H2T 9K8   \n1                                      G1B 3L5   \n2                                      K0T 9R0   \n3                                      S6J 3G0   \n4                                      V6T 1Y8   \n\n  RETAILER_HEADQUARTER_country_code_country RETAILER_HEADQUARTER_phone_phone  \\\n0                                         4                 1 (514) 747-4481   \n1                                         4                 1 (418) 653-6456   \n2                                         4                 1 (613) 736-6443   \n3                                         4                 1 (306) 243-8764   \n4                                         4                 1 (604) 938-7564   \n\n  RETAILER_HEADQUARTER_fax_fax RETAILER_HEADQUARTER_segment_code  \n0             1 (514) 741-2277                                 2  \n1             1 (418) 653-2311                                 2  \n2             1 (613) 736-5593                                 6  \n3             1 (306) 243-5213                                 2  \n4             1 (604) 938-2324                                 1  ",
      "text/html": "<div>\n<style scoped>\n    .dataframe tbody tr th:only-of-type {\n        vertical-align: middle;\n    }\n\n    .dataframe tbody tr th {\n        vertical-align: top;\n    }\n\n    .dataframe thead th {\n        text-align: right;\n    }\n</style>\n<table border=\"1\" class=\"dataframe\">\n  <thead>\n    <tr style=\"text-align: right;\">\n      <th></th>\n      <th>RETAILER_HEADQUARTER_codemr</th>\n      <th>RETAIL_HEADQUARTER_retailer_name</th>\n      <th>RETAILER_HEADQUARTER_address1_address</th>\n      <th>RETAILER_HEADQUARTER_address2_address</th>\n      <th>RETAILER_HEADQUARTER_city_city</th>\n      <th>RETAILER_HEADQUARTER_region_region</th>\n      <th>RETAILER_HEADQUARTER_postal_zone_postal_zone</th>\n      <th>RETAILER_HEADQUARTER_country_code_country</th>\n      <th>RETAILER_HEADQUARTER_phone_phone</th>\n      <th>RETAILER_HEADQUARTER_fax_fax</th>\n      <th>RETAILER_HEADQUARTER_segment_code</th>\n    </tr>\n  </thead>\n  <tbody>\n    <tr>\n      <th>0</th>\n      <td>1</td>\n      <td>Rock Steady</td>\n      <td>45, rue Atwater</td>\n      <td>None</td>\n      <td>Montréal</td>\n      <td>Québec</td>\n      <td>H2T 9K8</td>\n      <td>4</td>\n      <td>1 (514) 747-4481</td>\n      <td>1 (514) 741-2277</td>\n      <td>2</td>\n    </tr>\n    <tr>\n      <th>1</th>\n      <td>10</td>\n      <td>Excellence en Montagne</td>\n      <td>160, rue Moureaux</td>\n      <td>Bureau 410</td>\n      <td>Ville de Québec</td>\n      <td>Québec</td>\n      <td>G1B 3L5</td>\n      <td>4</td>\n      <td>1 (418) 653-6456</td>\n      <td>1 (418) 653-2311</td>\n      <td>2</td>\n    </tr>\n    <tr>\n      <th>2</th>\n      <td>11</td>\n      <td>Vacation Central</td>\n      <td>3000, 58 Merivale Road</td>\n      <td>None</td>\n      <td>Ottawa</td>\n      <td>Ontario</td>\n      <td>K0T 9R0</td>\n      <td>4</td>\n      <td>1 (613) 736-6443</td>\n      <td>1 (613) 736-5593</td>\n      <td>6</td>\n    </tr>\n    <tr>\n      <th>3</th>\n      <td>12</td>\n      <td>Outdoor Central Ltd</td>\n      <td>Suite 23, 180 McKercher Drive</td>\n      <td>None</td>\n      <td>Regina</td>\n      <td>Saskatchewan</td>\n      <td>S6J 3G0</td>\n      <td>4</td>\n      <td>1 (306) 243-8764</td>\n      <td>1 (306) 243-5213</td>\n      <td>2</td>\n    </tr>\n    <tr>\n      <th>4</th>\n      <td>13</td>\n      <td>Precipice Equipment</td>\n      <td>23 Blackcomb Way</td>\n      <td>None</td>\n      <td>Whistler</td>\n      <td>British Columbia</td>\n      <td>V6T 1Y8</td>\n      <td>4</td>\n      <td>1 (604) 938-7564</td>\n      <td>1 (604) 938-2324</td>\n      <td>1</td>\n    </tr>\n  </tbody>\n</table>\n</div>"
     },
     "execution_count": 29,
     "metadata": {},
     "output_type": "execute_result"
    }
   ],
   "source": [
    "retailer_headquarters = go_crm_retailer_headquarters\n",
    "\n",
    "# drop trial222 column\n",
    "retailer_headquarters = retailer_headquarters.drop(columns=['TRIAL222'])\n",
    "\n",
    "# rename the columns\n",
    "retailer_headquarters = retailer_headquarters.rename(columns={'RETAILER_CODEMR': 'RETAILER_HEADQUARTER_codemr', 'RETAILER_NAME' : 'RETAIL_HEADQUARTER_retailer_name', 'ADDRESS1' : 'RETAILER_HEADQUARTER_address1_address', 'ADDRESS2' : 'RETAILER_HEADQUARTER_address2_address', 'CITY' : 'RETAILER_HEADQUARTER_city_city', 'REGION' : 'RETAILER_HEADQUARTER_region_region', 'POSTAL_ZONE' : 'RETAILER_HEADQUARTER_postal_zone_postal_zone', 'COUNTRY_CODE' : 'RETAILER_HEADQUARTER_country_code_country', 'PHONE' : 'RETAILER_HEADQUARTER_phone_phone', 'FAX': 'RETAILER_HEADQUARTER_fax_fax', 'SEGMENT_CODE' : 'RETAILER_HEADQUARTER_segment_code'})\n",
    "\n",
    "retailer_headquarters.head()"
   ],
   "metadata": {
    "collapsed": false,
    "ExecuteTime": {
     "end_time": "2024-03-13T11:46:05.759779Z",
     "start_time": "2024-03-13T11:46:05.748390Z"
    }
   },
   "id": "50382ae176ba25e",
   "execution_count": 29
  },
  {
   "cell_type": "markdown",
   "source": [
    "# Omzetten van de data\n",
    "Omzetten van de data naar de juiste data types.\n",
    "Year en Date zijn al omgezet naar de juiste data types.\n",
    "GO_SALES_INVENTORY_LEVELS en GO_SALES_PRODUCT_FORECAST hebben ook al de juiste datatypen"
   ],
   "metadata": {
    "collapsed": false
   },
   "id": "2ab8ad37ba912768"
  },
  {
   "cell_type": "markdown",
   "id": "181c7a93b12d1970",
   "metadata": {
    "collapsed": false
   },
   "source": [
    "### Unit"
   ]
  },
  {
   "cell_type": "code",
   "execution_count": 30,
   "id": "cacf55cc4c604fca",
   "metadata": {
    "collapsed": false,
    "ExecuteTime": {
     "end_time": "2024-03-13T11:46:05.996028Z",
     "start_time": "2024-03-13T11:46:05.968313Z"
    }
   },
   "outputs": [
    {
     "data": {
      "text/plain": "UNIT_COST_cost      float64\nUNIT_PRICE_price    float64\nUNIT_SALE_sale      float64\ndtype: object"
     },
     "execution_count": 30,
     "metadata": {},
     "output_type": "execute_result"
    }
   ],
   "source": [
    "unit['UNIT_COST_cost'] = unit['UNIT_COST_cost'].astype('float64')\n",
    "unit['UNIT_PRICE_price'] = unit['UNIT_PRICE_price'].astype('float64')\n",
    "unit['UNIT_SALE_sale'] = unit['UNIT_SALE_sale'].astype('float64')\n",
    "\n",
    "unit.dtypes"
   ]
  },
  {
   "cell_type": "markdown",
   "id": "3216e80489a1934d",
   "metadata": {
    "collapsed": false
   },
   "source": [
    "### Sales_staff"
   ]
  },
  {
   "cell_type": "code",
   "execution_count": 31,
   "id": "a14e6f5e5ef63d79",
   "metadata": {
    "collapsed": false,
    "ExecuteTime": {
     "end_time": "2024-03-13T11:46:06.182533Z",
     "start_time": "2024-03-13T11:46:06.161132Z"
    }
   },
   "outputs": [
    {
     "data": {
      "text/plain": "SALES_STAFF_code                                                 int32\nSALES_STAFF_email                                       string[python]\nSALES_STAFF_extension                                   string[python]\nSALES_STAFF_POSITION_EN_position                        string[python]\nSALES_STAFF_WORK_PHONE_work_phone                       string[python]\nSALES_STAFF_DATE_HIRED_hired                            datetime64[ns]\nSALES_STAFF_MANAGER_CODE_manager                                 int64\nSALES_STAFF_FAX_fax                                     string[python]\nSALES_STAFF_FIRST_NAME_first_name                       string[python]\nSALES_STAFF_LAST_NAME_last_name                         string[python]\nSALES_STAFF_SALES_BRANCH_ADDRESS_address                string[python]\nSALES_STAFF_SALES_BRANCH_ADDRESS_EXTRA_address_extra    string[python]\nSALES_STAFF_SALES_BRANCH_CODE_branch_code                        int64\ndtype: object"
     },
     "execution_count": 31,
     "metadata": {},
     "output_type": "execute_result"
    }
   ],
   "source": [
    "sales_staff['SALES_STAFF_code'] = sales_staff['SALES_STAFF_code'].astype('int')\n",
    "sales_staff['SALES_STAFF_email'] = sales_staff['SALES_STAFF_email'].astype('string')\n",
    "sales_staff['SALES_STAFF_extension'] = sales_staff['SALES_STAFF_extension'].astype('string')\n",
    "sales_staff['SALES_STAFF_POSITION_EN_position'] = sales_staff['SALES_STAFF_POSITION_EN_position'].astype('string')\n",
    "sales_staff['SALES_STAFF_WORK_PHONE_work_phone'] = sales_staff['SALES_STAFF_WORK_PHONE_work_phone'].astype('string')\n",
    "sales_staff['SALES_STAFF_DATE_HIRED_hired'] = pd.to_datetime(sales_staff['SALES_STAFF_DATE_HIRED_hired'], format='mixed')\n",
    "sales_staff['SALES_STAFF_MANAGER_CODE_manager'] = sales_staff['SALES_STAFF_MANAGER_CODE_manager'].astype('int64')\n",
    "sales_staff['SALES_STAFF_FAX_fax'] = sales_staff['SALES_STAFF_FAX_fax'].astype('string')\n",
    "sales_staff['SALES_STAFF_FIRST_NAME_first_name'] = sales_staff['SALES_STAFF_FIRST_NAME_first_name'].astype('string')\n",
    "sales_staff['SALES_STAFF_LAST_NAME_last_name'] = sales_staff['SALES_STAFF_LAST_NAME_last_name'].astype('string')\n",
    "sales_staff['SALES_STAFF_SALES_BRANCH_CODE_branch_code'] = sales_staff['SALES_STAFF_SALES_BRANCH_CODE_branch_code'].astype('int64')\n",
    "sales_staff['SALES_STAFF_SALES_BRANCH_ADDRESS_address'] = sales_staff['SALES_STAFF_SALES_BRANCH_ADDRESS_address'].astype('string')\n",
    "sales_staff['SALES_STAFF_SALES_BRANCH_ADDRESS_EXTRA_address_extra'] = sales_staff['SALES_STAFF_SALES_BRANCH_ADDRESS_EXTRA_address_extra'].astype('string')\n",
    "\n",
    "sales_staff.dtypes"
   ]
  },
  {
   "cell_type": "markdown",
   "id": "e8785e20dcda4096",
   "metadata": {
    "collapsed": false
   },
   "source": [
    "### satisfaction_type"
   ]
  },
  {
   "cell_type": "code",
   "execution_count": 32,
   "id": "cf0c499ca44d0f2c",
   "metadata": {
    "collapsed": false,
    "ExecuteTime": {
     "end_time": "2024-03-13T11:46:06.403895Z",
     "start_time": "2024-03-13T11:46:06.396057Z"
    }
   },
   "outputs": [
    {
     "data": {
      "text/plain": "SATISFACTION_TYPE_code                    int32\nSATISFACTION_TYPE_DESCRIPTION    string[python]\ndtype: object"
     },
     "execution_count": 32,
     "metadata": {},
     "output_type": "execute_result"
    }
   ],
   "source": [
    "satisfaction_type['SATISFACTION_TYPE_code'] = satisfaction_type['SATISFACTION_TYPE_code'].astype('int')\n",
    "satisfaction_type['SATISFACTION_TYPE_DESCRIPTION'] = satisfaction_type['SATISFACTION_TYPE_DESCRIPTION'].astype('string')\n",
    "\n",
    "satisfaction_type.dtypes"
   ]
  },
  {
   "cell_type": "markdown",
   "id": "22c6073850c706a6",
   "metadata": {
    "collapsed": false
   },
   "source": [
    "### Course"
   ]
  },
  {
   "cell_type": "code",
   "execution_count": 33,
   "id": "ba071c23927ffde6",
   "metadata": {
    "collapsed": false,
    "ExecuteTime": {
     "end_time": "2024-03-13T11:46:06.619488Z",
     "start_time": "2024-03-13T11:46:06.612195Z"
    }
   },
   "outputs": [
    {
     "data": {
      "text/plain": "COURSE_code                    int32\nCOURSE_DESCRIPTION    string[python]\ndtype: object"
     },
     "execution_count": 33,
     "metadata": {},
     "output_type": "execute_result"
    }
   ],
   "source": [
    "course['COURSE_code'] = course['COURSE_code'].astype('int')\n",
    "course['COURSE_DESCRIPTION'] = course['COURSE_DESCRIPTION'].astype('string')\n",
    "\n",
    "course.dtypes"
   ]
  },
  {
   "cell_type": "markdown",
   "id": "dba98d048459e640",
   "metadata": {
    "collapsed": false
   },
   "source": [
    "### Order"
   ]
  },
  {
   "cell_type": "code",
   "execution_count": 34,
   "id": "3e0fbcf814cc704",
   "metadata": {
    "collapsed": false,
    "ExecuteTime": {
     "end_time": "2024-03-13T11:46:06.736294Z",
     "start_time": "2024-03-13T11:46:06.728320Z"
    }
   },
   "outputs": [
    {
     "data": {
      "text/plain": "ORDER_ORDER_METHOD_CODE_method_code             int32\nORDER_ORDER_METHOD_EN_method           string[python]\ndtype: object"
     },
     "execution_count": 34,
     "metadata": {},
     "output_type": "execute_result"
    }
   ],
   "source": [
    "order['ORDER_ORDER_METHOD_CODE_method_code'] = order['ORDER_ORDER_METHOD_CODE_method_code'].astype('int')\n",
    "order['ORDER_ORDER_METHOD_EN_method'] = order['ORDER_ORDER_METHOD_EN_method'].astype('string')\n",
    "\n",
    "order.dtypes"
   ]
  },
  {
   "cell_type": "markdown",
   "id": "e40a905ea05dfb42",
   "metadata": {
    "collapsed": false
   },
   "source": [
    "### Retailer_site"
   ]
  },
  {
   "cell_type": "code",
   "execution_count": 35,
   "id": "7862cb29850150bb",
   "metadata": {
    "collapsed": false,
    "ExecuteTime": {
     "end_time": "2024-03-13T11:46:06.878697Z",
     "start_time": "2024-03-13T11:46:06.867813Z"
    }
   },
   "outputs": [
    {
     "data": {
      "text/plain": "RETAILER_SITE_code                                    int32\nRETAILER_SITE_RETAILER_CODE_retailer_code             int32\nRETAILER_SITE_ADDRESS1_address               string[python]\nRETAILER_SITE_ADDRESS2_address               string[python]\nRETAILER_SITE_CITY_city                      string[python]\nRETAILER_SITE_REGION_region                  string[python]\nRETAILER_SITE_POSTAL_ZONE_postal_zone        string[python]\nRETAILER_SITE_COUNTRY_CODE_country           string[python]\nRETAILER_SITE_ACTIVE_INDICATOR_indicator              int32\ndtype: object"
     },
     "execution_count": 35,
     "metadata": {},
     "output_type": "execute_result"
    }
   ],
   "source": [
    "retailer_site['RETAILER_SITE_code'] = retailer_site['RETAILER_SITE_code'].astype('int')\n",
    "retailer_site['RETAILER_SITE_COUNTRY_CODE_country'] = retailer_site['RETAILER_SITE_COUNTRY_CODE_country'].astype('string')\n",
    "retailer_site['RETAILER_SITE_CITY_city'] = retailer_site['RETAILER_SITE_CITY_city'].astype('string')\n",
    "retailer_site['RETAILER_SITE_REGION_region'] = retailer_site['RETAILER_SITE_REGION_region'].astype('string')\n",
    "retailer_site['RETAILER_SITE_POSTAL_ZONE_postal_zone'] = retailer_site['RETAILER_SITE_POSTAL_ZONE_postal_zone'].astype('string')\n",
    "retailer_site['RETAILER_SITE_RETAILER_CODE_retailer_code'] = retailer_site['RETAILER_SITE_RETAILER_CODE_retailer_code'].astype('int')\n",
    "retailer_site['RETAILER_SITE_ACTIVE_INDICATOR_indicator'] = retailer_site['RETAILER_SITE_ACTIVE_INDICATOR_indicator'].astype('int')\n",
    "retailer_site['RETAILER_SITE_ADDRESS1_address'] = retailer_site['RETAILER_SITE_ADDRESS1_address'].astype('string')\n",
    "retailer_site['RETAILER_SITE_ADDRESS2_address'] = retailer_site['RETAILER_SITE_ADDRESS2_address'].astype('string')\n",
    "\n",
    "retailer_site.dtypes"
   ]
  },
  {
   "cell_type": "markdown",
   "id": "7c0d87b818a9d54b",
   "metadata": {
    "collapsed": false
   },
   "source": [
    "### Sales_branch"
   ]
  },
  {
   "cell_type": "code",
   "execution_count": 36,
   "id": "2ea23e262922c320",
   "metadata": {
    "collapsed": false,
    "ExecuteTime": {
     "end_time": "2024-03-13T11:46:06.911935Z",
     "start_time": "2024-03-13T11:46:06.903197Z"
    }
   },
   "outputs": [
    {
     "data": {
      "text/plain": "SALES_BRANCH_code                                int32\nSALES_BRANCH_ADDRESS1_address           string[python]\nSALES_BRANCH_ADDRESS2_address           string[python]\nSALES_BRANCH_CITY_city                  string[python]\nSALES_BRANCH_REGION_region              string[python]\nSALES_BRANCH_POSTAL_ZONE_postal_zone    string[python]\nSALES_BRANCH_COUNTRY_CODE_country       string[python]\ndtype: object"
     },
     "execution_count": 36,
     "metadata": {},
     "output_type": "execute_result"
    }
   ],
   "source": [
    "sales_branch['SALES_BRANCH_code'] = sales_branch['SALES_BRANCH_code'].astype('int')\n",
    "sales_branch['SALES_BRANCH_COUNTRY_CODE_country'] = sales_branch['SALES_BRANCH_COUNTRY_CODE_country'].astype('string')\n",
    "sales_branch['SALES_BRANCH_REGION_region'] = sales_branch['SALES_BRANCH_REGION_region'].astype('string')\n",
    "sales_branch['SALES_BRANCH_CITY_city'] = sales_branch['SALES_BRANCH_CITY_city'].astype('string')\n",
    "sales_branch['SALES_BRANCH_POSTAL_ZONE_postal_zone'] = sales_branch['SALES_BRANCH_POSTAL_ZONE_postal_zone'].astype('string')\n",
    "sales_branch['SALES_BRANCH_ADDRESS1_address'] = sales_branch['SALES_BRANCH_ADDRESS1_address'].astype('string')\n",
    "sales_branch['SALES_BRANCH_ADDRESS2_address'] = sales_branch['SALES_BRANCH_ADDRESS2_address'].astype('string')\n",
    "\n",
    "sales_branch.dtypes"
   ]
  },
  {
   "cell_type": "markdown",
   "id": "65444d58cc211dc9",
   "metadata": {
    "collapsed": false
   },
   "source": [
    "### Retailer_contact"
   ]
  },
  {
   "cell_type": "code",
   "execution_count": 37,
   "id": "87e46ec67e98c8a6",
   "metadata": {
    "collapsed": false,
    "ExecuteTime": {
     "end_time": "2024-03-13T11:46:06.998220Z",
     "start_time": "2024-03-13T11:46:06.987189Z"
    }
   },
   "outputs": [
    {
     "data": {
      "text/plain": "RETAILER_CONTACT_code                                     int32\nRETAILER_CONTACT_RETAILER_SITE_CODE_site_code             int32\nRETAILER_CONTACT_FIRST_NAME_first_name           string[python]\nRETAILER_CONTACT_LAST_NAME_last_name             string[python]\nRETAILER_CONTACT_JOB_POSITION_EN_position        string[python]\nRETAILER_CONTACT_EXTENSION_extension             string[python]\nRETAILER_CONTACT_FAX_fax                         string[python]\nRETAILER_CONTACT_email                           string[python]\nRETAILER_CONTACT_GENDER_gender                   string[python]\ndtype: object"
     },
     "execution_count": 37,
     "metadata": {},
     "output_type": "execute_result"
    }
   ],
   "source": [
    "retailer_contact['RETAILER_CONTACT_code'] = retailer_contact['RETAILER_CONTACT_code'].astype('int')\n",
    "retailer_contact['RETAILER_CONTACT_email'] = retailer_contact['RETAILER_CONTACT_email'].astype('string')\n",
    "retailer_contact['RETAILER_CONTACT_RETAILER_SITE_CODE_site_code'] = retailer_contact['RETAILER_CONTACT_RETAILER_SITE_CODE_site_code'].astype('int')\n",
    "retailer_contact['RETAILER_CONTACT_JOB_POSITION_EN_position'] = retailer_contact['RETAILER_CONTACT_JOB_POSITION_EN_position'].astype('string')\n",
    "retailer_contact['RETAILER_CONTACT_EXTENSION_extension'] = retailer_contact['RETAILER_CONTACT_EXTENSION_extension'].astype('string')\n",
    "retailer_contact['RETAILER_CONTACT_FAX_fax'] = retailer_contact['RETAILER_CONTACT_FAX_fax'].astype('string')\n",
    "retailer_contact['RETAILER_CONTACT_GENDER_gender'] = retailer_contact['RETAILER_CONTACT_GENDER_gender'].astype('string')\n",
    "retailer_contact['RETAILER_CONTACT_FIRST_NAME_first_name'] = retailer_contact['RETAILER_CONTACT_FIRST_NAME_first_name'].astype('string')\n",
    "retailer_contact['RETAILER_CONTACT_LAST_NAME_last_name'] = retailer_contact['RETAILER_CONTACT_LAST_NAME_last_name'].astype('string')\n",
    "\n",
    "retailer_contact.dtypes"
   ]
  },
  {
   "cell_type": "markdown",
   "id": "450a79f1e889a1ca",
   "metadata": {
    "collapsed": false
   },
   "source": [
    "### Retailer"
   ]
  },
  {
   "cell_type": "code",
   "execution_count": 38,
   "id": "149548ceecb90c98",
   "metadata": {
    "collapsed": false,
    "ExecuteTime": {
     "end_time": "2024-03-13T11:46:07.083409Z",
     "start_time": "2024-03-13T11:46:07.074314Z"
    }
   },
   "outputs": [
    {
     "data": {
      "text/plain": "RETAILER_code                                         int32\nRETAILER_COMPANY_CODE_MR_company             string[python]\nRETAILER_name                                string[python]\nRETAILER_RETAILER_TYPE_retailer_type_code             int32\nRETAILER_RETAILER_TYPE_retailer_type_EN      string[python]\ndtype: object"
     },
     "execution_count": 38,
     "metadata": {},
     "output_type": "execute_result"
    }
   ],
   "source": [
    "retailer['RETAILER_code'] = retailer['RETAILER_code'].astype('int')\n",
    "retailer['RETAILER_name'] = retailer['RETAILER_name'].astype('string')\n",
    "retailer['RETAILER_COMPANY_CODE_MR_company'] = retailer['RETAILER_COMPANY_CODE_MR_company'].astype('string')\n",
    "retailer['RETAILER_RETAILER_TYPE_retailer_type_code'] = retailer['RETAILER_RETAILER_TYPE_retailer_type_code'].astype('int')\n",
    "retailer['RETAILER_RETAILER_TYPE_retailer_type_EN'] = retailer['RETAILER_RETAILER_TYPE_retailer_type_EN'].astype('string')\n",
    "\n",
    "retailer.dtypes"
   ]
  },
  {
   "cell_type": "markdown",
   "id": "d677ffe45d5abe42",
   "metadata": {
    "collapsed": false
   },
   "source": [
    "### Product"
   ]
  },
  {
   "cell_type": "code",
   "execution_count": 39,
   "id": "410a95813646af9d",
   "metadata": {
    "collapsed": false,
    "ExecuteTime": {
     "end_time": "2024-03-13T11:46:07.210727Z",
     "start_time": "2024-03-13T11:46:07.197548Z"
    }
   },
   "outputs": [
    {
     "data": {
      "text/plain": "PRODUCT_number                                   int32\nPRODUCT_INTRODUCTION_DATE_introduced    datetime64[ns]\nPRODUCT_PRODUCT_TYPE_code               string[python]\nPRODUCT_PRODUCTION_COST_cost                   float64\nPRODUCT_MARGIN_margin                          float64\nPRODUCT_image_image                     string[python]\nPRODUCT_LANGUAGE_language               string[python]\nPRODUCT_name_product                    string[python]\nPRODUCT_description_description         string[python]\nTRIAL888_x                                      object\nPRODUCT_PRODUCT_LINE_code               string[python]\nPRODUCT_PRODUCT_TYPE_code_en            string[python]\nTRIAL888_y                                      object\nPRODUCT_PRODUCT_LINE_code_en            string[python]\ndtype: object"
     },
     "execution_count": 39,
     "metadata": {},
     "output_type": "execute_result"
    }
   ],
   "source": [
    "product['PRODUCT_number'] = product['PRODUCT_number'].astype('int')\n",
    "product['PRODUCT_name_product'] = product['PRODUCT_name_product'].astype('string')\n",
    "product['PRODUCT_description_description'] = product['PRODUCT_description_description'].astype('string')\n",
    "product['PRODUCT_image_image'] = product['PRODUCT_image_image'].astype('string')\n",
    "product['PRODUCT_INTRODUCTION_DATE_introduced'] = pd.to_datetime(product['PRODUCT_INTRODUCTION_DATE_introduced'], format='mixed')\n",
    "product['PRODUCT_PRODUCTION_COST_cost'] = product['PRODUCT_PRODUCTION_COST_cost'].astype('float')\n",
    "product['PRODUCT_MARGIN_margin'] = product['PRODUCT_MARGIN_margin'].astype('float')\n",
    "product['PRODUCT_LANGUAGE_language'] = product['PRODUCT_LANGUAGE_language'].astype('string')\n",
    "product['PRODUCT_PRODUCT_LINE_code'] = product['PRODUCT_PRODUCT_LINE_code'].astype('string')\n",
    "product['PRODUCT_PRODUCT_LINE_code_en'] = product['PRODUCT_PRODUCT_LINE_code_en'].astype('string')\n",
    "product['PRODUCT_PRODUCT_TYPE_code'] = product['PRODUCT_PRODUCT_TYPE_code'].astype('string')\n",
    "product['PRODUCT_PRODUCT_TYPE_code_en'] = product['PRODUCT_PRODUCT_TYPE_code_en'].astype('string')\n",
    "\n",
    "product.dtypes"
   ]
  },
  {
   "cell_type": "markdown",
   "id": "655f55aab3323559",
   "metadata": {
    "collapsed": false
   },
   "source": [
    "### Order_details"
   ]
  },
  {
   "cell_type": "code",
   "execution_count": 40,
   "id": "346f7927ae20be28",
   "metadata": {
    "collapsed": false,
    "ExecuteTime": {
     "end_time": "2024-03-13T11:46:07.348308Z",
     "start_time": "2024-03-13T11:46:07.299808Z"
    }
   },
   "outputs": [
    {
     "data": {
      "text/plain": "ORDER_DETAIL_CODE                                      object\nORDER_DETAILS_ORDER_NUMBER_order                        int32\nORDER_DETAILS_PRODUCT_NUMBER_product                    int32\nORDER_DETAILS_QUANTITY_quantity                         int32\nORDER_DETAILS_UNIT_ID_unit                              int64\nORDER_DETAILS_UNIT_ID_unit                              int64\nORDER_DETAILS_RETURN_CODE_returned                      int32\nRETURNED_ITEM_DATE_date                        datetime64[ns]\nRETURNED_ITEM_QUANTITY_quantity                         int32\nRETURNED_ITEM_ORDER_DETAIL_CODE_detail_code             int32\nRETURNED_ITEM_RETURN_REASON_code                        int32\nRETURNED_ITEM_RETURN_REASON_desctiption_en     string[python]\ndtype: object"
     },
     "execution_count": 40,
     "metadata": {},
     "output_type": "execute_result"
    }
   ],
   "source": [
    "order_details['ORDER_DETAILS_QUANTITY_quantity'] = order_details['ORDER_DETAILS_QUANTITY_quantity'].astype('int')\n",
    "order_details['ORDER_DETAILS_RETURN_CODE_returned'] = order_details['ORDER_DETAILS_RETURN_CODE_returned'].astype('int')\n",
    "order_details['ORDER_DETAILS_ORDER_NUMBER_order'] = order_details['ORDER_DETAILS_ORDER_NUMBER_order'].astype('int')\n",
    "order_details['ORDER_DETAILS_PRODUCT_NUMBER_product'] = order_details['ORDER_DETAILS_PRODUCT_NUMBER_product'].astype('int')\n",
    "order_details['RETURNED_ITEM_DATE_date'] = pd.to_datetime(order_details['RETURNED_ITEM_DATE_date'], format='mixed')\n",
    "order_details['RETURNED_ITEM_QUANTITY_quantity'] = order_details['RETURNED_ITEM_QUANTITY_quantity'].astype('int')\n",
    "order_details['RETURNED_ITEM_ORDER_DETAIL_CODE_detail_code'] = order_details['RETURNED_ITEM_ORDER_DETAIL_CODE_detail_code'].astype('int')\n",
    "order_details['RETURNED_ITEM_RETURN_REASON_code'] = order_details['RETURNED_ITEM_RETURN_REASON_code'].astype('int')\n",
    "order_details['RETURNED_ITEM_RETURN_REASON_desctiption_en'] = order_details['RETURNED_ITEM_RETURN_REASON_desctiption_en'].astype('string')\n",
    "\n",
    "# unit is already converted\n",
    "order_details.dtypes"
   ]
  },
  {
   "cell_type": "markdown",
   "id": "65e24f73d68065d5",
   "metadata": {
    "collapsed": false
   },
   "source": [
    "### Returned_item"
   ]
  },
  {
   "cell_type": "code",
   "execution_count": 41,
   "id": "b96edc784fabbf6c",
   "metadata": {
    "collapsed": false,
    "ExecuteTime": {
     "end_time": "2024-03-13T11:46:07.443390Z",
     "start_time": "2024-03-13T11:46:07.396025Z"
    }
   },
   "outputs": [
    {
     "data": {
      "text/plain": "RETURNED_ITEM_code                                      int32\nRETURNED_ITEM_DATE_date                        datetime64[ns]\nRETURNED_ITEM_QUANTITY_quantity                         int32\nRETURNED_ITEM_ORDER_DETAIL_CODE_detail_code             int32\nRETURNED_ITEM_RETURN_REASON_code                        int32\nRETURNED_ITEM_RETURN_REASON_desctiption_en     string[python]\ndtype: object"
     },
     "execution_count": 41,
     "metadata": {},
     "output_type": "execute_result"
    }
   ],
   "source": [
    "returned_item['RETURNED_ITEM_code'] = returned_item['RETURNED_ITEM_code'].astype('int')\n",
    "returned_item['RETURNED_ITEM_DATE_date'] = pd.to_datetime(returned_item['RETURNED_ITEM_DATE_date'], format='mixed')\n",
    "returned_item['RETURNED_ITEM_QUANTITY_quantity'] = returned_item['RETURNED_ITEM_QUANTITY_quantity'].astype('int')\n",
    "returned_item['RETURNED_ITEM_ORDER_DETAIL_CODE_detail_code'] = returned_item['RETURNED_ITEM_ORDER_DETAIL_CODE_detail_code'].astype('int')\n",
    "returned_item['RETURNED_ITEM_RETURN_REASON_code'] = returned_item['RETURNED_ITEM_RETURN_REASON_code'].astype('int')\n",
    "returned_item['RETURNED_ITEM_RETURN_REASON_desctiption_en'] = returned_item['RETURNED_ITEM_RETURN_REASON_desctiption_en'].astype('string')\n",
    "\n",
    "returned_item.dtypes"
   ]
  },
  {
   "cell_type": "markdown",
   "id": "5670721e8fd1c035",
   "metadata": {
    "collapsed": false
   },
   "source": [
    "### Sales_Targetdata"
   ]
  },
  {
   "cell_type": "code",
   "execution_count": 42,
   "id": "1e1b8f509d6b7f0a",
   "metadata": {
    "collapsed": false,
    "ExecuteTime": {
     "end_time": "2024-03-13T11:46:07.488164Z",
     "start_time": "2024-03-13T11:46:07.451981Z"
    }
   },
   "outputs": [
    {
     "data": {
      "text/plain": "Id                                               int64\nSALES_TARGETDATA_SALES_STAFF_CODE                int32\nSALES_TARGETDATA_SALES_YEAR                      int32\nSALES_TARGETDATA_SALES_PERIOD           string[python]\nSALES_TARGETDATA_RETAILER_NAME          string[python]\nSALES_TARGETDATA_SALES_TARGET                  float64\nPRODUCT_number                                   int32\nPRODUCT_INTRODUCTION_DATE_introduced    datetime64[ns]\nPRODUCT_PRODUCT_TYPE_code               string[python]\nPRODUCT_PRODUCTION_COST_cost                   float64\nPRODUCT_MARGIN_margin                           object\nPRODUCT_image_image                             object\nPRODUCT_LANGUAGE_language                       object\nPRODUCT_name_product                            object\nPRODUCT_description_description                 object\nPRODUCT_PRODUCT_LINE_code                       object\nPRODUCT_PRODUCT_TYPE_code_en                    object\nPRODUCT_PRODUCT_LINE_code_en                    object\nRETAILER_code                                   object\ndtype: object"
     },
     "execution_count": 42,
     "metadata": {},
     "output_type": "execute_result"
    }
   ],
   "source": [
    "sales_target_data['SALES_TARGETDATA_SALES_YEAR'] = sales_target_data['SALES_TARGETDATA_SALES_YEAR'].astype('int')\n",
    "sales_target_data['SALES_TARGETDATA_SALES_PERIOD'] = sales_target_data['SALES_TARGETDATA_SALES_PERIOD'].astype('string')\n",
    "sales_target_data['SALES_TARGETDATA_RETAILER_NAME'] = sales_target_data['SALES_TARGETDATA_RETAILER_NAME'].astype('string')\n",
    "sales_target_data['SALES_TARGETDATA_SALES_TARGET'] = sales_target_data['SALES_TARGETDATA_SALES_TARGET'].astype('float64')\n",
    "sales_target_data['SALES_TARGETDATA_SALES_STAFF_CODE'] = sales_target_data['SALES_TARGETDATA_SALES_STAFF_CODE'].astype('int')\n",
    "sales_target_data['PRODUCT_number'] = sales_target_data['PRODUCT_number'].astype('int')\n",
    "sales_target_data['PRODUCT_INTRODUCTION_DATE_introduced'] = pd.to_datetime(sales_target_data['PRODUCT_INTRODUCTION_DATE_introduced'], format='mixed')\n",
    "sales_target_data['PRODUCT_PRODUCTION_COST_cost'] = sales_target_data['PRODUCT_PRODUCTION_COST_cost'].astype('float64')\n",
    "sales_target_data['PRODUCT_PRODUCT_TYPE_code'] = sales_target_data['PRODUCT_PRODUCT_TYPE_code'].astype('string')\n",
    "\n",
    "sales_target_data.dtypes"
   ]
  },
  {
   "cell_type": "markdown",
   "id": "2d4e1edb7e7d5926",
   "metadata": {
    "collapsed": false
   },
   "source": [
    "### Training"
   ]
  },
  {
   "cell_type": "code",
   "execution_count": 43,
   "id": "6c331e4c8861e862",
   "metadata": {
    "collapsed": false,
    "ExecuteTime": {
     "end_time": "2024-03-13T11:46:07.585643Z",
     "start_time": "2024-03-13T11:46:07.576978Z"
    }
   },
   "outputs": [
    {
     "data": {
      "text/plain": "TRAINING_YEAR                         int32\nTRAINING_SALES_STAFF_CODE             int32\nTRAINING_COURSE_CODE                  int32\nCOURSE_code                           int32\nCOURSE_DESCRIPTION           string[python]\ndtype: object"
     },
     "execution_count": 43,
     "metadata": {},
     "output_type": "execute_result"
    }
   ],
   "source": [
    "training['TRAINING_SALES_STAFF_CODE'] = training['TRAINING_SALES_STAFF_CODE'].astype('int')\n",
    "training['TRAINING_COURSE_CODE'] = training['TRAINING_COURSE_CODE'].astype('int')\n",
    "training['TRAINING_YEAR'] = training['TRAINING_YEAR'].astype('int')\n",
    "training['COURSE_code'] = training['COURSE_code'].astype('int')\n",
    "training['COURSE_DESCRIPTION'] = training['COURSE_DESCRIPTION'].astype('string')\n",
    "\n",
    "training.dtypes"
   ]
  },
  {
   "cell_type": "markdown",
   "id": "40f0945d66c7e4f2",
   "metadata": {
    "collapsed": false
   },
   "source": [
    "### Satisfaction"
   ]
  },
  {
   "cell_type": "code",
   "execution_count": 44,
   "id": "394c97c0d1462b01",
   "metadata": {
    "collapsed": false,
    "ExecuteTime": {
     "end_time": "2024-03-13T11:46:07.631208Z",
     "start_time": "2024-03-13T11:46:07.622773Z"
    }
   },
   "outputs": [
    {
     "data": {
      "text/plain": "SATISFACTION_YEAR                               int32\nSATISFACTION_SALES_STAFF_CODE                   int32\nSATISFACTION_SATISFACTION_TYPE_CODE             int32\nSATISFACTION_TYPE_code                          int32\nSATISFACTION_TYPE_DESCRIPTION          string[python]\ndtype: object"
     },
     "execution_count": 44,
     "metadata": {},
     "output_type": "execute_result"
    }
   ],
   "source": [
    "satisfaction['SATISFACTION_SALES_STAFF_CODE'] = satisfaction['SATISFACTION_SALES_STAFF_CODE'].astype('int')\n",
    "satisfaction['SATISFACTION_SATISFACTION_TYPE_CODE'] = satisfaction['SATISFACTION_SATISFACTION_TYPE_CODE'].astype('int')\n",
    "satisfaction['SATISFACTION_YEAR'] = satisfaction['SATISFACTION_YEAR'].astype('int')\n",
    "satisfaction['SATISFACTION_TYPE_code'] = satisfaction['SATISFACTION_TYPE_code'].astype('int')\n",
    "satisfaction['SATISFACTION_TYPE_DESCRIPTION'] = satisfaction['SATISFACTION_TYPE_DESCRIPTION'].astype('string')\n",
    "\n",
    "satisfaction.dtypes"
   ]
  },
  {
   "cell_type": "markdown",
   "id": "f647aa4aa7a525b7",
   "metadata": {
    "collapsed": false
   },
   "source": []
  },
  {
   "cell_type": "markdown",
   "id": "a8d0539a6adbc41a",
   "metadata": {
    "collapsed": false
   },
   "source": [
    "### Order_header"
   ]
  },
  {
   "cell_type": "code",
   "execution_count": 45,
   "id": "bb316f9b4f8d6522",
   "metadata": {
    "collapsed": false,
    "ExecuteTime": {
     "end_time": "2024-03-13T11:46:07.771186Z",
     "start_time": "2024-03-13T11:46:07.754285Z"
    }
   },
   "outputs": [
    {
     "data": {
      "text/plain": "ORDER_HEADER_number                                              int32\nORDER_HEADER_RETAILER_NAME                              string[python]\nORDER_HEADER_RETAILER_SITE_CODE                                  int32\nORDER_HEADER_RETAILER_CONTACT_CODE                               int32\nORDER_HEADER_SALES_STAFF                                         int32\nORDER_HEADER_SALES_BRANCH_CODE                                   int32\nORDER_HEADER_ORDER_DATE                                 datetime64[ns]\nORDER_METHOD_CODE                                                int32\nRETAILER_code                                                   object\nRETAILER_COMPANY_CODE_MR_company                        string[python]\nRETAILER_name                                                   object\nRETAILER_RETAILER_TYPE_retailer_type_code                       object\nRETAILER_RETAILER_TYPE_retailer_type_EN                         object\nSALES_STAFF_code                                                object\nSALES_STAFF_email                                               object\nSALES_STAFF_extension                                           object\nSALES_STAFF_POSITION_EN_position                                object\nSALES_STAFF_WORK_PHONE_work_phone                               object\nSALES_STAFF_DATE_HIRED_hired                                    object\nSALES_STAFF_MANAGER_CODE_manager                                object\nSALES_STAFF_FAX_fax                                             object\nSALES_STAFF_FIRST_NAME_first_name                               object\nSALES_STAFF_LAST_NAME_last_name                                 object\nSALES_STAFF_SALES_BRANCH_ADDRESS_address                        object\nSALES_STAFF_SALES_BRANCH_ADDRESS_EXTRA_address_extra            object\nSALES_STAFF_SALES_BRANCH_CODE_branch_code                       object\nRETAILER_SITE_code                                              object\nRETAILER_SITE_RETAILER_CODE_retailer_code                       object\nRETAILER_SITE_ADDRESS1_address                                  object\nRETAILER_SITE_ADDRESS2_address                                  object\nRETAILER_SITE_CITY_city                                         object\nRETAILER_SITE_REGION_region                                     object\nRETAILER_SITE_POSTAL_ZONE_postal_zone                           object\nRETAILER_SITE_COUNTRY_CODE_country                              object\nRETAILER_SITE_ACTIVE_INDICATOR_indicator                        object\nRETAILER_CONTACT_code                                           object\nRETAILER_CONTACT_RETAILER_SITE_CODE_site_code                   object\nRETAILER_CONTACT_FIRST_NAME_first_name                          object\nRETAILER_CONTACT_LAST_NAME_last_name                            object\nRETAILER_CONTACT_JOB_POSITION_EN_position                       object\nRETAILER_CONTACT_EXTENSION_extension                            object\nRETAILER_CONTACT_FAX_fax                                        object\nRETAILER_CONTACT_email                                          object\nRETAILER_CONTACT_GENDER_gender                                  object\nRETAILER_CODE                                                    int32\ndtype: object"
     },
     "execution_count": 45,
     "metadata": {},
     "output_type": "execute_result"
    }
   ],
   "source": [
    "order_header['ORDER_HEADER_number'] = order_header['ORDER_HEADER_number'].astype('int')\n",
    "order_header['ORDER_HEADER_RETAILER_NAME'] = order_header['ORDER_HEADER_RETAILER_NAME'].astype('string')\n",
    "order_header['ORDER_HEADER_SALES_STAFF'] = order_header['ORDER_HEADER_SALES_STAFF'].astype('int')\n",
    "order_header['ORDER_HEADER_SALES_BRANCH_CODE'] = order_header['ORDER_HEADER_SALES_BRANCH_CODE'].astype('int')\n",
    "order_header['ORDER_HEADER_RETAILER_SITE_CODE'] = order_header['ORDER_HEADER_RETAILER_SITE_CODE'].astype('int')\n",
    "order_header['ORDER_HEADER_RETAILER_CONTACT_CODE'] = order_header['ORDER_HEADER_RETAILER_CONTACT_CODE'].astype('int')\n",
    "order_header['ORDER_METHOD_CODE'] = order_header['ORDER_METHOD_CODE'].astype('int')\n",
    "order_header['RETAILER_CODE'] = order_header['RETAILER_code'].astype('int')\n",
    "order_header['RETAILER_COMPANY_CODE_MR_company'] = order_header['RETAILER_COMPANY_CODE_MR_company'].astype('string')\n",
    "\n",
    "order_header.dtypes"
   ]
  },
  {
   "cell_type": "markdown",
   "source": [
    "### Retailer_segment"
   ],
   "metadata": {
    "collapsed": false
   },
   "id": "375b6b00aa014745"
  },
  {
   "cell_type": "code",
   "outputs": [
    {
     "data": {
      "text/plain": "RETAILER_SEGMENT_segment_code                                int32\nRETAILER_SEGMENT_language                           string[python]\nRETAILER_SEGMENT_segment_name                       string[python]\nRETAILER_SEGMENT_SEGMENT_DESCRIPTION_description    string[python]\ndtype: object"
     },
     "execution_count": 46,
     "metadata": {},
     "output_type": "execute_result"
    }
   ],
   "source": [
    "retailer_segment['RETAILER_SEGMENT_segment_code'] = retailer_segment['RETAILER_SEGMENT_segment_code'].astype('int')\n",
    "retailer_segment['RETAILER_SEGMENT_language'] = retailer_segment['RETAILER_SEGMENT_language'].astype('string')\n",
    "retailer_segment['RETAILER_SEGMENT_segment_name'] = retailer_segment['RETAILER_SEGMENT_segment_name'].astype('string')\n",
    "retailer_segment['RETAILER_SEGMENT_SEGMENT_DESCRIPTION_description'] = retailer_segment['RETAILER_SEGMENT_SEGMENT_DESCRIPTION_description'].astype('string')\n",
    "\n",
    "retailer_segment.dtypes"
   ],
   "metadata": {
    "collapsed": false,
    "ExecuteTime": {
     "end_time": "2024-03-13T11:46:07.869924Z",
     "start_time": "2024-03-13T11:46:07.860804Z"
    }
   },
   "id": "cf3fb7be18baacba",
   "execution_count": 46
  },
  {
   "cell_type": "markdown",
   "source": [
    "### Retailer_headquarters"
   ],
   "metadata": {
    "collapsed": false
   },
   "id": "c1ea0a7696b9cf03"
  },
  {
   "cell_type": "code",
   "outputs": [
    {
     "data": {
      "text/plain": "RETAILER_HEADQUARTER_codemr                              int32\nRETAIL_HEADQUARTER_retailer_name                string[python]\nRETAILER_HEADQUARTER_address1_address           string[python]\nRETAILER_HEADQUARTER_address2_address           string[python]\nRETAILER_HEADQUARTER_city_city                  string[python]\nRETAILER_HEADQUARTER_region_region              string[python]\nRETAILER_HEADQUARTER_postal_zone_postal_zone    string[python]\nRETAILER_HEADQUARTER_country_code_country       string[python]\nRETAILER_HEADQUARTER_phone_phone                string[python]\nRETAILER_HEADQUARTER_fax_fax                    string[python]\nRETAILER_HEADQUARTER_segment_code                        int32\ndtype: object"
     },
     "execution_count": 49,
     "metadata": {},
     "output_type": "execute_result"
    }
   ],
   "source": [
    "retailer_headquarters['RETAILER_HEADQUARTER_codemr'] = retailer_headquarters['RETAILER_HEADQUARTER_codemr'].astype('int')\n",
    "retailer_headquarters['RETAIL_HEADQUARTER_retailer_name'] = retailer_headquarters['RETAIL_HEADQUARTER_retailer_name'].astype('string')\n",
    "retailer_headquarters['RETAILER_HEADQUARTER_address1_address'] = retailer_headquarters['RETAILER_HEADQUARTER_address1_address'].astype('string')\n",
    "retailer_headquarters['RETAILER_HEADQUARTER_address2_address'] = retailer_headquarters['RETAILER_HEADQUARTER_address2_address'].astype('string')\n",
    "retailer_headquarters['RETAILER_HEADQUARTER_city_city'] = retailer_headquarters['RETAILER_HEADQUARTER_city_city'].astype('string')\n",
    "retailer_headquarters['RETAILER_HEADQUARTER_region_region'] = retailer_headquarters['RETAILER_HEADQUARTER_region_region'].astype('string')\n",
    "retailer_headquarters['RETAILER_HEADQUARTER_postal_zone_postal_zone'] = retailer_headquarters['RETAILER_HEADQUARTER_postal_zone_postal_zone'].astype('string')\n",
    "retailer_headquarters['RETAILER_HEADQUARTER_country_code_country'] = retailer_headquarters['RETAILER_HEADQUARTER_country_code_country'].astype('string')\n",
    "retailer_headquarters['RETAILER_HEADQUARTER_phone_phone'] = retailer_headquarters['RETAILER_HEADQUARTER_phone_phone'].astype('string')\n",
    "retailer_headquarters['RETAILER_HEADQUARTER_fax_fax'] = retailer_headquarters['RETAILER_HEADQUARTER_fax_fax'].astype('string')\n",
    "retailer_headquarters['RETAILER_HEADQUARTER_segment_code'] = retailer_headquarters['RETAILER_HEADQUARTER_segment_code'].astype('int')\n",
    "\n",
    "retailer_headquarters.dtypes"
   ],
   "metadata": {
    "collapsed": false,
    "ExecuteTime": {
     "end_time": "2024-03-13T11:47:04.622897Z",
     "start_time": "2024-03-13T11:47:04.612511Z"
    }
   },
   "id": "da8b1ba4fdcc9623",
   "execution_count": 49
  },
  {
   "cell_type": "markdown",
   "id": "36159d94f009e1a3",
   "metadata": {
    "collapsed": false
   },
   "source": [
    "# Toevoegen van nieuwe kolommen\n",
    "Toevoegen van de afgeleide informatie die ook in het ETL en de data warehouse moet komen.\n",
    "Full name is al gedaan via sql"
   ]
  },
  {
   "cell_type": "code",
   "execution_count": 48,
   "id": "a603455041afffbb",
   "metadata": {
    "collapsed": false,
    "ExecuteTime": {
     "end_time": "2024-03-13T11:46:09.291453Z",
     "start_time": "2024-03-13T11:46:07.944621Z"
    }
   },
   "outputs": [
    {
     "ename": "TypeError",
     "evalue": "can't multiply sequence by non-int of type 'float'",
     "output_type": "error",
     "traceback": [
      "\u001B[1;31m---------------------------------------------------------------------------\u001B[0m",
      "\u001B[1;31mTypeError\u001B[0m                                 Traceback (most recent call last)",
      "File \u001B[1;32m~\\AppData\\Local\\pypoetry\\Cache\\virtualenvs\\pythonproject-FRZINkZ2-py3.12\\Lib\\site-packages\\pandas\\core\\ops\\array_ops.py:218\u001B[0m, in \u001B[0;36m_na_arithmetic_op\u001B[1;34m(left, right, op, is_cmp)\u001B[0m\n\u001B[0;32m    217\u001B[0m \u001B[38;5;28;01mtry\u001B[39;00m:\n\u001B[1;32m--> 218\u001B[0m     result \u001B[38;5;241m=\u001B[39m \u001B[43mfunc\u001B[49m\u001B[43m(\u001B[49m\u001B[43mleft\u001B[49m\u001B[43m,\u001B[49m\u001B[43m \u001B[49m\u001B[43mright\u001B[49m\u001B[43m)\u001B[49m\n\u001B[0;32m    219\u001B[0m \u001B[38;5;28;01mexcept\u001B[39;00m \u001B[38;5;167;01mTypeError\u001B[39;00m:\n",
      "File \u001B[1;32m~\\AppData\\Local\\pypoetry\\Cache\\virtualenvs\\pythonproject-FRZINkZ2-py3.12\\Lib\\site-packages\\pandas\\core\\computation\\expressions.py:242\u001B[0m, in \u001B[0;36mevaluate\u001B[1;34m(op, a, b, use_numexpr)\u001B[0m\n\u001B[0;32m    240\u001B[0m     \u001B[38;5;28;01mif\u001B[39;00m use_numexpr:\n\u001B[0;32m    241\u001B[0m         \u001B[38;5;66;03m# error: \"None\" not callable\u001B[39;00m\n\u001B[1;32m--> 242\u001B[0m         \u001B[38;5;28;01mreturn\u001B[39;00m \u001B[43m_evaluate\u001B[49m\u001B[43m(\u001B[49m\u001B[43mop\u001B[49m\u001B[43m,\u001B[49m\u001B[43m \u001B[49m\u001B[43mop_str\u001B[49m\u001B[43m,\u001B[49m\u001B[43m \u001B[49m\u001B[43ma\u001B[49m\u001B[43m,\u001B[49m\u001B[43m \u001B[49m\u001B[43mb\u001B[49m\u001B[43m)\u001B[49m  \u001B[38;5;66;03m# type: ignore[misc]\u001B[39;00m\n\u001B[0;32m    243\u001B[0m \u001B[38;5;28;01mreturn\u001B[39;00m _evaluate_standard(op, op_str, a, b)\n",
      "File \u001B[1;32m~\\AppData\\Local\\pypoetry\\Cache\\virtualenvs\\pythonproject-FRZINkZ2-py3.12\\Lib\\site-packages\\pandas\\core\\computation\\expressions.py:73\u001B[0m, in \u001B[0;36m_evaluate_standard\u001B[1;34m(op, op_str, a, b)\u001B[0m\n\u001B[0;32m     72\u001B[0m     _store_test_result(\u001B[38;5;28;01mFalse\u001B[39;00m)\n\u001B[1;32m---> 73\u001B[0m \u001B[38;5;28;01mreturn\u001B[39;00m \u001B[43mop\u001B[49m\u001B[43m(\u001B[49m\u001B[43ma\u001B[49m\u001B[43m,\u001B[49m\u001B[43m \u001B[49m\u001B[43mb\u001B[49m\u001B[43m)\u001B[49m\n",
      "\u001B[1;31mTypeError\u001B[0m: can't multiply sequence by non-int of type 'float'",
      "\nDuring handling of the above exception, another exception occurred:\n",
      "\u001B[1;31mTypeError\u001B[0m                                 Traceback (most recent call last)",
      "Cell \u001B[1;32mIn[48], line 2\u001B[0m\n\u001B[0;32m      1\u001B[0m sales_target_data[\u001B[38;5;124m'\u001B[39m\u001B[38;5;124mSALES_TARGET_DATA_TARGET_COST\u001B[39m\u001B[38;5;124m'\u001B[39m] \u001B[38;5;241m=\u001B[39m sales_target_data[\u001B[38;5;124m'\u001B[39m\u001B[38;5;124mSALES_TARGETDATA_SALES_TARGET\u001B[39m\u001B[38;5;124m'\u001B[39m] \u001B[38;5;241m*\u001B[39m sales_target_data[\u001B[38;5;124m'\u001B[39m\u001B[38;5;124mPRODUCT_PRODUCTION_COST_cost\u001B[39m\u001B[38;5;124m'\u001B[39m]\n\u001B[1;32m----> 2\u001B[0m sales_target_data[\u001B[38;5;124m'\u001B[39m\u001B[38;5;124mSALES_TARGET_DATA_TARGET_MARGIN\u001B[39m\u001B[38;5;124m'\u001B[39m] \u001B[38;5;241m=\u001B[39m \u001B[43msales_target_data\u001B[49m\u001B[43m[\u001B[49m\u001B[38;5;124;43m'\u001B[39;49m\u001B[38;5;124;43mSALES_TARGETDATA_SALES_TARGET\u001B[39;49m\u001B[38;5;124;43m'\u001B[39;49m\u001B[43m]\u001B[49m\u001B[43m \u001B[49m\u001B[38;5;241;43m*\u001B[39;49m\u001B[43m \u001B[49m\u001B[43msales_target_data\u001B[49m\u001B[43m[\u001B[49m\u001B[38;5;124;43m'\u001B[39;49m\u001B[38;5;124;43mPRODUCT_MARGIN_margin\u001B[39;49m\u001B[38;5;124;43m'\u001B[39;49m\u001B[43m]\u001B[49m\n\u001B[0;32m      4\u001B[0m order_details[\u001B[38;5;124m'\u001B[39m\u001B[38;5;124mORDER_DETAILS_TOTAL_COST\u001B[39m\u001B[38;5;124m'\u001B[39m] \u001B[38;5;241m=\u001B[39m order_details[\u001B[38;5;124m'\u001B[39m\u001B[38;5;124mORDER_DETAILS_QUANTITY_quantity\u001B[39m\u001B[38;5;124m'\u001B[39m] \u001B[38;5;241m*\u001B[39m order_details[\u001B[38;5;124m'\u001B[39m\u001B[38;5;124mUNIT_COST_cost\u001B[39m\u001B[38;5;124m'\u001B[39m]\n\u001B[0;32m      5\u001B[0m order_details[\u001B[38;5;124m'\u001B[39m\u001B[38;5;124mORDER_DETAILS_TOTAL_MARGIN\u001B[39m\u001B[38;5;124m'\u001B[39m] \u001B[38;5;241m=\u001B[39m order_details[\u001B[38;5;124m'\u001B[39m\u001B[38;5;124mORDER_DETAILS_QUANTITY_quantity\u001B[39m\u001B[38;5;124m'\u001B[39m] \u001B[38;5;241m*\u001B[39m order_details[\u001B[38;5;124m'\u001B[39m\u001B[38;5;124mUNIT_SALE_sale\u001B[39m\u001B[38;5;124m'\u001B[39m]\n",
      "File \u001B[1;32m~\\AppData\\Local\\pypoetry\\Cache\\virtualenvs\\pythonproject-FRZINkZ2-py3.12\\Lib\\site-packages\\pandas\\core\\ops\\common.py:76\u001B[0m, in \u001B[0;36m_unpack_zerodim_and_defer.<locals>.new_method\u001B[1;34m(self, other)\u001B[0m\n\u001B[0;32m     72\u001B[0m             \u001B[38;5;28;01mreturn\u001B[39;00m \u001B[38;5;28mNotImplemented\u001B[39m\n\u001B[0;32m     74\u001B[0m other \u001B[38;5;241m=\u001B[39m item_from_zerodim(other)\n\u001B[1;32m---> 76\u001B[0m \u001B[38;5;28;01mreturn\u001B[39;00m \u001B[43mmethod\u001B[49m\u001B[43m(\u001B[49m\u001B[38;5;28;43mself\u001B[39;49m\u001B[43m,\u001B[49m\u001B[43m \u001B[49m\u001B[43mother\u001B[49m\u001B[43m)\u001B[49m\n",
      "File \u001B[1;32m~\\AppData\\Local\\pypoetry\\Cache\\virtualenvs\\pythonproject-FRZINkZ2-py3.12\\Lib\\site-packages\\pandas\\core\\arraylike.py:202\u001B[0m, in \u001B[0;36mOpsMixin.__mul__\u001B[1;34m(self, other)\u001B[0m\n\u001B[0;32m    200\u001B[0m \u001B[38;5;129m@unpack_zerodim_and_defer\u001B[39m(\u001B[38;5;124m\"\u001B[39m\u001B[38;5;124m__mul__\u001B[39m\u001B[38;5;124m\"\u001B[39m)\n\u001B[0;32m    201\u001B[0m \u001B[38;5;28;01mdef\u001B[39;00m \u001B[38;5;21m__mul__\u001B[39m(\u001B[38;5;28mself\u001B[39m, other):\n\u001B[1;32m--> 202\u001B[0m     \u001B[38;5;28;01mreturn\u001B[39;00m \u001B[38;5;28;43mself\u001B[39;49m\u001B[38;5;241;43m.\u001B[39;49m\u001B[43m_arith_method\u001B[49m\u001B[43m(\u001B[49m\u001B[43mother\u001B[49m\u001B[43m,\u001B[49m\u001B[43m \u001B[49m\u001B[43moperator\u001B[49m\u001B[38;5;241;43m.\u001B[39;49m\u001B[43mmul\u001B[49m\u001B[43m)\u001B[49m\n",
      "File \u001B[1;32m~\\AppData\\Local\\pypoetry\\Cache\\virtualenvs\\pythonproject-FRZINkZ2-py3.12\\Lib\\site-packages\\pandas\\core\\series.py:6126\u001B[0m, in \u001B[0;36mSeries._arith_method\u001B[1;34m(self, other, op)\u001B[0m\n\u001B[0;32m   6124\u001B[0m \u001B[38;5;28;01mdef\u001B[39;00m \u001B[38;5;21m_arith_method\u001B[39m(\u001B[38;5;28mself\u001B[39m, other, op):\n\u001B[0;32m   6125\u001B[0m     \u001B[38;5;28mself\u001B[39m, other \u001B[38;5;241m=\u001B[39m \u001B[38;5;28mself\u001B[39m\u001B[38;5;241m.\u001B[39m_align_for_op(other)\n\u001B[1;32m-> 6126\u001B[0m     \u001B[38;5;28;01mreturn\u001B[39;00m \u001B[43mbase\u001B[49m\u001B[38;5;241;43m.\u001B[39;49m\u001B[43mIndexOpsMixin\u001B[49m\u001B[38;5;241;43m.\u001B[39;49m\u001B[43m_arith_method\u001B[49m\u001B[43m(\u001B[49m\u001B[38;5;28;43mself\u001B[39;49m\u001B[43m,\u001B[49m\u001B[43m \u001B[49m\u001B[43mother\u001B[49m\u001B[43m,\u001B[49m\u001B[43m \u001B[49m\u001B[43mop\u001B[49m\u001B[43m)\u001B[49m\n",
      "File \u001B[1;32m~\\AppData\\Local\\pypoetry\\Cache\\virtualenvs\\pythonproject-FRZINkZ2-py3.12\\Lib\\site-packages\\pandas\\core\\base.py:1382\u001B[0m, in \u001B[0;36mIndexOpsMixin._arith_method\u001B[1;34m(self, other, op)\u001B[0m\n\u001B[0;32m   1379\u001B[0m     rvalues \u001B[38;5;241m=\u001B[39m np\u001B[38;5;241m.\u001B[39marange(rvalues\u001B[38;5;241m.\u001B[39mstart, rvalues\u001B[38;5;241m.\u001B[39mstop, rvalues\u001B[38;5;241m.\u001B[39mstep)\n\u001B[0;32m   1381\u001B[0m \u001B[38;5;28;01mwith\u001B[39;00m np\u001B[38;5;241m.\u001B[39merrstate(\u001B[38;5;28mall\u001B[39m\u001B[38;5;241m=\u001B[39m\u001B[38;5;124m\"\u001B[39m\u001B[38;5;124mignore\u001B[39m\u001B[38;5;124m\"\u001B[39m):\n\u001B[1;32m-> 1382\u001B[0m     result \u001B[38;5;241m=\u001B[39m \u001B[43mops\u001B[49m\u001B[38;5;241;43m.\u001B[39;49m\u001B[43marithmetic_op\u001B[49m\u001B[43m(\u001B[49m\u001B[43mlvalues\u001B[49m\u001B[43m,\u001B[49m\u001B[43m \u001B[49m\u001B[43mrvalues\u001B[49m\u001B[43m,\u001B[49m\u001B[43m \u001B[49m\u001B[43mop\u001B[49m\u001B[43m)\u001B[49m\n\u001B[0;32m   1384\u001B[0m \u001B[38;5;28;01mreturn\u001B[39;00m \u001B[38;5;28mself\u001B[39m\u001B[38;5;241m.\u001B[39m_construct_result(result, name\u001B[38;5;241m=\u001B[39mres_name)\n",
      "File \u001B[1;32m~\\AppData\\Local\\pypoetry\\Cache\\virtualenvs\\pythonproject-FRZINkZ2-py3.12\\Lib\\site-packages\\pandas\\core\\ops\\array_ops.py:283\u001B[0m, in \u001B[0;36marithmetic_op\u001B[1;34m(left, right, op)\u001B[0m\n\u001B[0;32m    279\u001B[0m     _bool_arith_check(op, left, right)  \u001B[38;5;66;03m# type: ignore[arg-type]\u001B[39;00m\n\u001B[0;32m    281\u001B[0m     \u001B[38;5;66;03m# error: Argument 1 to \"_na_arithmetic_op\" has incompatible type\u001B[39;00m\n\u001B[0;32m    282\u001B[0m     \u001B[38;5;66;03m# \"Union[ExtensionArray, ndarray[Any, Any]]\"; expected \"ndarray[Any, Any]\"\u001B[39;00m\n\u001B[1;32m--> 283\u001B[0m     res_values \u001B[38;5;241m=\u001B[39m \u001B[43m_na_arithmetic_op\u001B[49m\u001B[43m(\u001B[49m\u001B[43mleft\u001B[49m\u001B[43m,\u001B[49m\u001B[43m \u001B[49m\u001B[43mright\u001B[49m\u001B[43m,\u001B[49m\u001B[43m \u001B[49m\u001B[43mop\u001B[49m\u001B[43m)\u001B[49m  \u001B[38;5;66;03m# type: ignore[arg-type]\u001B[39;00m\n\u001B[0;32m    285\u001B[0m \u001B[38;5;28;01mreturn\u001B[39;00m res_values\n",
      "File \u001B[1;32m~\\AppData\\Local\\pypoetry\\Cache\\virtualenvs\\pythonproject-FRZINkZ2-py3.12\\Lib\\site-packages\\pandas\\core\\ops\\array_ops.py:227\u001B[0m, in \u001B[0;36m_na_arithmetic_op\u001B[1;34m(left, right, op, is_cmp)\u001B[0m\n\u001B[0;32m    219\u001B[0m \u001B[38;5;28;01mexcept\u001B[39;00m \u001B[38;5;167;01mTypeError\u001B[39;00m:\n\u001B[0;32m    220\u001B[0m     \u001B[38;5;28;01mif\u001B[39;00m \u001B[38;5;129;01mnot\u001B[39;00m is_cmp \u001B[38;5;129;01mand\u001B[39;00m (\n\u001B[0;32m    221\u001B[0m         left\u001B[38;5;241m.\u001B[39mdtype \u001B[38;5;241m==\u001B[39m \u001B[38;5;28mobject\u001B[39m \u001B[38;5;129;01mor\u001B[39;00m \u001B[38;5;28mgetattr\u001B[39m(right, \u001B[38;5;124m\"\u001B[39m\u001B[38;5;124mdtype\u001B[39m\u001B[38;5;124m\"\u001B[39m, \u001B[38;5;28;01mNone\u001B[39;00m) \u001B[38;5;241m==\u001B[39m \u001B[38;5;28mobject\u001B[39m\n\u001B[0;32m    222\u001B[0m     ):\n\u001B[1;32m   (...)\u001B[0m\n\u001B[0;32m    225\u001B[0m         \u001B[38;5;66;03m# Don't do this for comparisons, as that will handle complex numbers\u001B[39;00m\n\u001B[0;32m    226\u001B[0m         \u001B[38;5;66;03m#  incorrectly, see GH#32047\u001B[39;00m\n\u001B[1;32m--> 227\u001B[0m         result \u001B[38;5;241m=\u001B[39m \u001B[43m_masked_arith_op\u001B[49m\u001B[43m(\u001B[49m\u001B[43mleft\u001B[49m\u001B[43m,\u001B[49m\u001B[43m \u001B[49m\u001B[43mright\u001B[49m\u001B[43m,\u001B[49m\u001B[43m \u001B[49m\u001B[43mop\u001B[49m\u001B[43m)\u001B[49m\n\u001B[0;32m    228\u001B[0m     \u001B[38;5;28;01melse\u001B[39;00m:\n\u001B[0;32m    229\u001B[0m         \u001B[38;5;28;01mraise\u001B[39;00m\n",
      "File \u001B[1;32m~\\AppData\\Local\\pypoetry\\Cache\\virtualenvs\\pythonproject-FRZINkZ2-py3.12\\Lib\\site-packages\\pandas\\core\\ops\\array_ops.py:163\u001B[0m, in \u001B[0;36m_masked_arith_op\u001B[1;34m(x, y, op)\u001B[0m\n\u001B[0;32m    161\u001B[0m     \u001B[38;5;66;03m# See GH#5284, GH#5035, GH#19448 for historical reference\u001B[39;00m\n\u001B[0;32m    162\u001B[0m     \u001B[38;5;28;01mif\u001B[39;00m mask\u001B[38;5;241m.\u001B[39many():\n\u001B[1;32m--> 163\u001B[0m         result[mask] \u001B[38;5;241m=\u001B[39m \u001B[43mop\u001B[49m\u001B[43m(\u001B[49m\u001B[43mxrav\u001B[49m\u001B[43m[\u001B[49m\u001B[43mmask\u001B[49m\u001B[43m]\u001B[49m\u001B[43m,\u001B[49m\u001B[43m \u001B[49m\u001B[43myrav\u001B[49m\u001B[43m[\u001B[49m\u001B[43mmask\u001B[49m\u001B[43m]\u001B[49m\u001B[43m)\u001B[49m\n\u001B[0;32m    165\u001B[0m \u001B[38;5;28;01melse\u001B[39;00m:\n\u001B[0;32m    166\u001B[0m     \u001B[38;5;28;01mif\u001B[39;00m \u001B[38;5;129;01mnot\u001B[39;00m is_scalar(y):\n",
      "\u001B[1;31mTypeError\u001B[0m: can't multiply sequence by non-int of type 'float'"
     ]
    }
   ],
   "source": [
    "sales_target_data['SALES_TARGET_DATA_TARGET_COST'] = sales_target_data['SALES_TARGETDATA_SALES_TARGET'] * sales_target_data['PRODUCT_PRODUCTION_COST_cost']\n",
    "sales_target_data['SALES_TARGET_DATA_TARGET_MARGIN'] = sales_target_data['SALES_TARGETDATA_SALES_TARGET'] * sales_target_data['PRODUCT_MARGIN_margin']\n",
    "\n",
    "order_details['ORDER_DETAILS_TOTAL_COST'] = order_details['ORDER_DETAILS_QUANTITY_quantity'] * order_details['UNIT_COST_cost']\n",
    "order_details['ORDER_DETAILS_TOTAL_MARGIN'] = order_details['ORDER_DETAILS_QUANTITY_quantity'] * order_details['UNIT_SALE_sale']\n",
    "\n",
    "go_sales_product_forecast['GO_SALES_PRODUCT_FORECAST_EXPECTED_COST'] = go_sales_product_forecast['GO_SALES_PRODUCT_FORECAST_EXPECTED_VOLUME'] * product['PRODUCT_PRODUCTION_COST_cost']\n",
    "go_sales_product_forecast['GO_SALES_PRODUCT_FORECAST_EXPECTED_MARGIN'] = go_sales_product_forecast['GO_SALES_PRODUCT_FORECAST_EXPECTED_VOLUME'] * product['PRODUCT_MARGIN_margin']\n",
    "\n",
    "# Dimensies\n",
    "product['MINIMUM_SALE_PRICE'] = None\n",
    "returned_item['RETURNED_ITEMS_TOTAL_PRICE'] = None\n",
    "course['COURSE_DESCRIPTION_SHORT'] = None\n",
    "retailer_site['MAIN_ADDRESS'] = None\n",
    "retailer_headquarters['MAIN_ADDRESS'] = None\n",
    "retailer_segment['SEGMENT_DESCRIPTION_SHORT'] = None\n",
    "satisfaction_type['SATISFACTION_TYPE_DESCRIPTION_SHORT'] = None\n",
    "sales_branch['MAIN_ADDRESS'] = None\n"
   ]
  }
 ],
 "metadata": {
  "kernelspec": {
   "display_name": "Python 3",
   "language": "python",
   "name": "python3"
  },
  "language_info": {
   "codemirror_mode": {
    "name": "ipython",
    "version": 3
   },
   "file_extension": ".py",
   "mimetype": "text/x-python",
   "name": "python",
   "nbconvert_exporter": "python",
   "pygments_lexer": "ipython3",
   "version": "3.12.2"
  }
 },
 "nbformat": 4,
 "nbformat_minor": 5
}
