{
 "cells": [
  {
   "cell_type": "markdown",
   "source": [
    "Practicumopdrachten Week 4.3 (eerste kans)"
   ],
   "metadata": {
    "collapsed": false
   },
   "id": "d086cc99c4d69011"
  },
  {
   "cell_type": "markdown",
   "source": [
    "Dependecies"
   ],
   "metadata": {
    "collapsed": false
   },
   "id": "c899ef6a9a61a928"
  },
  {
   "cell_type": "code",
   "outputs": [],
   "source": [
    "import pandas as pd\n",
    "import pyodbc\n",
    "import sqlite3"
   ],
   "metadata": {
    "collapsed": false,
    "ExecuteTime": {
     "end_time": "2024-03-07T12:34:55.922514Z",
     "start_time": "2024-03-07T12:34:55.919496Z"
    }
   },
   "id": "53ceadd40e419431",
   "execution_count": 13
  },
  {
   "cell_type": "markdown",
   "source": [
    "Connectie met smss database"
   ],
   "metadata": {
    "collapsed": false
   },
   "id": "823d7a97f719ddcb"
  },
  {
   "cell_type": "code",
   "outputs": [
    {
     "name": "stdout",
     "output_type": "stream",
     "text": [
      "Connection with database is established\n",
      "<pyodbc.Cursor object at 0x00000212D7339830>\n"
     ]
    }
   ],
   "source": [
    "DB = {\n",
    "    'servername': '(local)\\\\SQLEXPRESS',\n",
    "    'database': 'DEDS_DataWarehouse',}\n",
    "\n",
    "export_conn = pyodbc.connect('DRIVER={SQL Server};SERVER=' + DB['servername'] + ';DATABASE=' + DB['database'] + ';Trusted_Connection=yes')\n",
    "\n",
    "export_cursor = export_conn.cursor()\n",
    "\n",
    "# check if connection is successful, else throw an error\n",
    "if export_conn:\n",
    "    print(\"Connection with database is established\")\n",
    "else:\n",
    "    print(\"Connection with database is not established\")\n",
    "    raise Exception(\"Connection with database is not established\")"
   ],
   "metadata": {
    "collapsed": false,
    "ExecuteTime": {
     "end_time": "2024-03-07T12:34:55.942224Z",
     "start_time": "2024-03-07T12:34:55.936647Z"
    }
   },
   "id": "948252c29b10a629",
   "execution_count": 14
  }
 ],
 "metadata": {
  "kernelspec": {
   "display_name": "Python 3",
   "language": "python",
   "name": "python3"
  },
  "language_info": {
   "codemirror_mode": {
    "name": "ipython",
    "version": 2
   },
   "file_extension": ".py",
   "mimetype": "text/x-python",
   "name": "python",
   "nbconvert_exporter": "python",
   "pygments_lexer": "ipython2",
   "version": "2.7.6"
  }
 },
 "nbformat": 4,
 "nbformat_minor": 5
}
