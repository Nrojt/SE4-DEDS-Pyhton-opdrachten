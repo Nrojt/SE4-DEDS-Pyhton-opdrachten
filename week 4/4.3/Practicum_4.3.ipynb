{
 "cells": [
  {
   "cell_type": "markdown",
   "source": [
    "Practicumopdrachten Week 4.3 (eerste kans)"
   ],
   "metadata": {
    "collapsed": false
   },
   "id": "d086cc99c4d69011"
  },
  {
   "cell_type": "markdown",
   "source": [
    "Dependecies"
   ],
   "metadata": {
    "collapsed": false
   },
   "id": "c899ef6a9a61a928"
  },
  {
   "cell_type": "code",
   "outputs": [],
   "source": [
    "import pandas as pd\n",
    "import pyodbc\n",
    "import sqlite3"
   ],
   "metadata": {
    "collapsed": false,
    "ExecuteTime": {
     "end_time": "2024-03-11T15:31:40.701176Z",
     "start_time": "2024-03-11T15:31:39.879490Z"
    }
   },
   "id": "53ceadd40e419431",
   "execution_count": 1
  },
  {
   "cell_type": "markdown",
   "source": [
    "Connectie met smss database"
   ],
   "metadata": {
    "collapsed": false
   },
   "id": "823d7a97f719ddcb"
  },
  {
   "cell_type": "code",
   "outputs": [
    {
     "name": "stdout",
     "output_type": "stream",
     "text": [
      "Connection with database is established\n"
     ]
    }
   ],
   "source": [
    "DB = {\n",
    "    'servername': '(local)\\\\SQLEXPRESS',\n",
    "    'database': 'DEDS_DataWarehouse',}\n",
    "\n",
    "export_conn = pyodbc.connect('DRIVER={SQL Server};SERVER=' + DB['servername'] + ';DATABASE=' + DB['database'] + ';Trusted_Connection=yes')\n",
    "\n",
    "export_cursor = export_conn.cursor()\n",
    "\n",
    "# check if connection is successful, else throw an error\n",
    "if export_conn:\n",
    "    print(\"Connection with database is established\")\n",
    "else:\n",
    "    print(\"Connection with database is not established\")\n",
    "    raise Exception(\"Connection with database is not established\")"
   ],
   "metadata": {
    "collapsed": false,
    "ExecuteTime": {
     "end_time": "2024-03-11T15:31:40.915466Z",
     "start_time": "2024-03-11T15:31:40.703184Z"
    }
   },
   "id": "948252c29b10a629",
   "execution_count": 2
  },
  {
   "cell_type": "markdown",
   "source": [
    "# Brontabellen\n",
    "importeer de brontabellen uit de brondata foler"
   ],
   "metadata": {
    "collapsed": false
   },
   "id": "9c06294903211408"
  },
  {
   "cell_type": "code",
   "outputs": [],
   "source": [
    "# connectie met de csv bestanden\n",
    "go_sales_inventory_levels = pd.read_csv('brondata/GO_SALES_INVENTORY_LEVELSData.csv')\n",
    "go_sales_product_forcast = pd.read_csv('brondata/GO_SALES_PRODUCT_FORECASTData.csv')\n",
    "\n",
    "# Connectie met sqlite databases\n",
    "go_crm_connection = sqlite3.connect('brondata/go_crm.sqlite')\n",
    "go_sales_connection = sqlite3.connect('brondata/go_sales.sqlite')\n",
    "go_staff_connection = sqlite3.connect('brondata/go_staff.sqlite')\n"
   ],
   "metadata": {
    "collapsed": false,
    "ExecuteTime": {
     "end_time": "2024-03-11T15:31:40.931395Z",
     "start_time": "2024-03-11T15:31:40.917483Z"
    }
   },
   "id": "7e3485e0d80801c9",
   "execution_count": 3
  },
  {
   "cell_type": "markdown",
   "source": [
    "## Inlezen van de sqlite tabellen"
   ],
   "metadata": {
    "collapsed": false
   },
   "id": "e4ca8a748b700495"
  },
  {
   "cell_type": "code",
   "outputs": [],
   "source": [
    "# go_crm\n",
    "go_crm_age_group = pd.read_sql_query(\"SELECT * FROM age_group\", go_crm_connection)\n",
    "\n",
    "go_crm_country = pd.read_sql_query(\"SELECT * FROM country\", go_crm_connection)\n",
    "\n",
    "go_crm_retailer = pd.read_sql_query(\"SELECT * FROM retailer\", go_crm_connection)\n",
    "\n",
    "go_crm_retailer_contact = pd.read_sql_query(\"SELECT * FROM retailer_contact\", go_crm_connection)\n",
    "go_crm_retailer_headquarters = pd.read_sql_query(\"SELECT * FROM retailer_headquarters\", go_crm_connection)\n",
    "\n",
    "go_crm_retailer_segment = pd.read_sql_query(\"SELECT * FROM retailer_segment\", go_crm_connection)\n",
    "\n",
    "go_crm_retailer_site = pd.read_sql_query(\"SELECT * FROM retailer_site\", go_crm_connection)\n",
    "\n",
    "go_crm_retailer_type = pd.read_sql_query(\"SELECT * FROM retailer_type\", go_crm_connection)\n",
    "\n",
    "go_crm_sales_demographic = pd.read_sql_query(\"SELECT * FROM sales_demographic\", go_crm_connection)\n",
    "\n",
    "go_crm_sales_territory = pd.read_sql_query(\"SELECT * FROM sales_territory\", go_crm_connection)\n",
    "\n",
    "# go sales\n",
    "go_sales_country = pd.read_sql_query(\"SELECT * FROM country\", go_sales_connection)\n",
    "\n",
    "go_sales_order_details = pd.read_sql_query(\"SELECT * FROM order_details\", go_sales_connection)\n",
    "\n",
    "go_sales_order_header = pd.read_sql_query(\"SELECT * FROM order_header\", go_sales_connection)\n",
    "\n",
    "go_sales_order_method = pd.read_sql_query(\"SELECT * FROM order_method\", go_sales_connection)\n",
    "\n",
    "go_sales_product = pd.read_sql_query(\"SELECT * FROM product\", go_sales_connection)\n",
    "\n",
    "go_sales_product_line = pd.read_sql_query(\"SELECT * FROM product_line\", go_sales_connection)\n",
    "\n",
    "go_sales_product_type = pd.read_sql_query(\"SELECT * FROM product_type\", go_sales_connection)\n",
    "\n",
    "go_sales_retailer_site = pd.read_sql_query(\"SELECT * FROM retailer_site\", go_sales_connection)\n",
    "\n",
    "go_sales_return_reason = pd.read_sql_query(\"SELECT * FROM return_reason\", go_sales_connection)\n",
    "\n",
    "go_sales_returned_item = pd.read_sql_query(\"SELECT * FROM returned_item\", go_sales_connection)\n",
    "\n",
    "go_sales_sales_branch = pd.read_sql_query(\"SELECT * FROM sales_branch\", go_sales_connection)\n",
    "\n",
    "go_sales_sales_staff = pd.read_sql_query(\"SELECT * FROM sales_staff\", go_sales_connection)\n",
    "\n",
    "# go staff\n",
    "go_staff_course = pd.read_sql_query(\"SELECT * FROM course\", go_staff_connection)\n",
    "\n",
    "go_staff_sales_branch = pd.read_sql_query(\"SELECT * FROM sales_branch\", go_staff_connection)\n",
    "\n",
    "go_staff_sales_staff = pd.read_sql_query(\"SELECT * FROM sales_staff\", go_staff_connection)\n",
    "\n",
    "go_staff_satisfaction = pd.read_sql_query(\"SELECT * FROM satisfaction\", go_staff_connection)\n",
    "\n",
    "go_staff_satisfaction_type = pd.read_sql_query(\"SELECT * FROM satisfaction_type\", go_staff_connection)\n",
    "\n",
    "go_staff_training = pd.read_sql_query(\"SELECT * FROM training\", go_staff_connection)"
   ],
   "metadata": {
    "collapsed": false,
    "ExecuteTime": {
     "end_time": "2024-03-11T15:31:41.095625Z",
     "start_time": "2024-03-11T15:31:40.933404Z"
    }
   },
   "id": "2f2206ef6f8f73ef",
   "execution_count": 4
  },
  {
   "cell_type": "markdown",
   "source": [],
   "metadata": {
    "collapsed": false
   },
   "id": "650835d0566406ab"
  },
  {
   "cell_type": "markdown",
   "source": [
    "# Combineren van de tabellen\n",
    "Combineren van de brondata om tot ons ETL te komen\n",
    "\n",
    "| Returned_item |\n",
    "| --- |\n",
    "| RETURNED_ITEM_code |\n",
    "| RETURNED_ITEM_DATE_date |\n",
    "| RETURNED_ITEM_QUANTITY_quantity |\n",
    "| RETURNED_ITEM_ORDER_DETAIL_CODE_detail_code |\n",
    "| RETURNED_ITEM_RETURN_REASON_code |\n",
    "| RETURNED_ITEM_RETURN_REASON_desctiption_en |\n",
    "| RETURNED_ITEM_RETURNED_ITEMS_TOTAL_PRICE_total |\n",
    "\n",
    "| Unit |\n",
    "| --- |\n",
    "| UNIT_id |\n",
    "| UNIT_COST_cost |\n",
    "| UNIT_PRICE_price |\n",
    "| UNIT_SALE_sale |\n",
    "\n",
    "| Sales_staff |\n",
    "| --- |\n",
    "| SALES_STAFF__code |\n",
    "| SALES_STAFF_email |\n",
    "| SALES_STAFF_extension |\n",
    "| SALES_STAFF_POSITION_EN_position |\n",
    "| SALES_STAFF_WORK_PHONE_work_phone |\n",
    "| SALES_STAFF_DATE_HIRED_hired |\n",
    "| SALES_STAFF_MANAGER_CODE_manager |\n",
    "| SALES_STAFF_FAX_fax |\n",
    "| SALES_STAFF_FIRST_NAME_first_name |\n",
    "| SALES_STAFF_LAST_NAME_last_name |\n",
    "| SALES_STAFF_FULL_NAME__full_name |\n",
    "| SALES_STAFF_SALES_BRANCH_CODE_branch_code |\n",
    "| SALES_STAFF_SALES_BRANCH_ADDRESS_address |\n",
    "| SALES_STAFF_SALES_BRANCH_ADDRESS_EXTRA_address_extra |\n",
    "\n",
    "| Satisfaction_type |\n",
    "| --- |\n",
    "| SATISFACTION_TYPE_code |\n",
    "| SATISFACTION_TYPE_description |\n",
    "| SATISFACTION_TYPE_description_short |\n",
    "\n",
    "| Course |\n",
    "| --- |\n",
    "| COURSE_code |\n",
    "| COURSE_description |\n",
    "| COURSE_description_short |\n",
    "\n",
    "| Year |\n",
    "| --- |\n",
    "| YEAR |\n",
    "\n",
    "| Date            | \n",
    "|-----------------|\n",
    "| DATE_date       |\n",
    "| DATE_YEAR_year  |\n",
    "| DATE_MONTH_month |\n",
    "| DATE_DAY_day |\n",
    "\n",
    "| Order |\n",
    "| --- |\n",
    "| ORDER_order_number |\n",
    "| ORDER_ORDER_METHOD_CODE_method_code |\n",
    "| ORDER_ORDER_METHOD_EN_method |\n",
    "\n",
    "| Retailer_site |\n",
    "| --- |\n",
    "| RETAILER_SITE_code |\n",
    "| RETAILER_SITE_COUNTRY_CODE_country |\n",
    "| RETAILER_SITE_CITY_city |\n",
    "| RETAILER_SITE_REGION_region |\n",
    "| RETAILER_SITE_POSTAL_ZONE_postal_zone |\n",
    "| RETAILER_SITE_RETAILER_CODE_retailer_code |\n",
    "| RETAILER_SITE_ACTIVE_INDICATOR_indicator |\n",
    "| RETAILER_SITE_ADDRESS1_address |\n",
    "| RETAILER_SITE_ADDRESS2_address |\n",
    "| RETAILER_SITE_ADDRESS3_address |\n",
    "| RETAILER_SITE_MAIN_ADDRESS__address |\n",
    "\n",
    "| Sales_branch |\n",
    "| --- |\n",
    "| SALES_BRANCH_code |\n",
    "| SALES_BRANCH_COUNTRY_CODE_country |\n",
    "| SALES_BRANCH_REGION_region |\n",
    "| SALES_BRANCH_CITY_city |\n",
    "| SALES_BRANCH_POSTAL_ZONE_postal_zone |\n",
    "| SALES_BRANCH_ADDRESS1_address |\n",
    "| SALES_BRANCH_ADDRESS2_address |\n",
    "| SALES_BRANCH_MAIN_ADDRESS_address |\n",
    "\n",
    "| Retailer_contact |\n",
    "| --- |\n",
    "| RETAILER_CONTACT_code |\n",
    "| RETAILER_CONTACT_email |\n",
    "| RETAILER_CONTACT_RETAILER_SITE_CODE_site_code |\n",
    "| RETAILER_CONTACT_JOB_POSITION_EN_position |\n",
    "| RETAILER_CONTACT_EXTENSION_extension |\n",
    "| RETAILER_CONTACT_FAX_fax |\n",
    "| RETAILER_CONTACT_GENDER_gender |\n",
    "| RETAILER_CONTACT_FIRST_NAME_first_name |\n",
    "| RETAILER_CONTACT_LAST_NAME_last_name |\n",
    "| RETAILER_CONTACT_FULL_NAME_full_name |\n",
    "\n",
    "| Retailer |\n",
    "| --- |\n",
    "| RETAILER_code |\n",
    "| RETAILER__name |\n",
    "| RETAILER_COMPANY_CODEMR_company |\n",
    "| RETAILER_RETAILER_TYPE_retailer_type_code |\n",
    "| RETAILER_RETAILER_TYPE_retailer_type_EN |\n",
    "\n",
    "| Product |\n",
    "| --- |\n",
    "| PRODUCT_number |\n",
    "| PRODUCT_name_product |\n",
    "| PRODUCT_description_description |\n",
    "| PRODUCT_image_image |\n",
    "| PRODUCT_INTRODUCTION_DATE_introduced |\n",
    "| PRODUCT_PRODUCTION_COST_cost |\n",
    "| PRODUCT_MARGIN_margin |\n",
    "| PRODUCT_LANGUAGE_language |\n",
    "| PRODUCT_MINIMUM_SALE_PRICE_minPrice |\n",
    "| PRODUCT_PRODUCT_LINE_code |\n",
    "| PRODUCT_PRODUCT_LINE_code_en |\n",
    "| PRODUCT_PRODUCT_TYPE_code |\n",
    "| PRODUCT_PRODUCT_TYPE_code_en |\n",
    "\n",
    "| Order_details |\n",
    "| --- |\n",
    "| ORDER_DETAILS_code |\n",
    "| ORDER_DETAILS_QUANTITY_quantity |\n",
    "| ORDER_DETAILS_TOTAL_COST_total |\n",
    "| ORDER_DETAILS_TOTAL_MARGIN_margin |\n",
    "| ORDER_DETAILS_RETURN_CODE_returned |\n",
    "| ORDER_DETAILS_ORDER_NUMBER_order |\n",
    "| ORDER_DETAILS_PRODUCT_NUMBER_product |\n",
    "| ORDER_DETAILS_UNIT_ID_unit |\n",
    "\n",
    "| SALES_TARGETData |\n",
    "| --- |\n",
    "| SALES_TARGETDATA_id |\n",
    "| SALES_TARGETDATA_SALES_YEAR |\n",
    "| SALES_TARGETDATA_SALES_PERIOD |\n",
    "| SALES_TARGETDATA_RETAILER_NAME |\n",
    "| SALES_TARGETDATA_SALES_TARGET |\n",
    "| SALES_TARGETDATA_TARGET_COST |\n",
    "| SALES_TARGETDATA_TARGET_MARGIN |\n",
    "| SALES_TARGETDATA_SALES_STAFF_CODE |\n",
    "| SALES_TARGETDATA_PRODUCT_NUMBER |\n",
    "| SALES_TARGETDATA_RETAILER_CODE |\n",
    "\n",
    "| Training |\n",
    "| --- |\n",
    "| TRAINING_SALES_STAFF_CODE |\n",
    "| TRAINING_COURSE_CODE |\n",
    "| TRAINING_YEAR |\n",
    "\n",
    "| Satisfaction |\n",
    "| --- |\n",
    "| SATISFACTION_SALES_STAFF_CODE |\n",
    "| SATISFACTION_SATISFACTION_TYPE_CODE |\n",
    "| SATISFACTION_YEAR |\n",
    "\n",
    "| Order_header |\n",
    "| --- |\n",
    "| ORDER_HEADER_number |\n",
    "| ORDER_HEADER_RETAILER_NAME |\n",
    "| ORDER_HEADER_SALES_STAFF |\n",
    "| ORDER_HEADER_SALES_BRANCH_CODE |\n",
    "| ORDER_HEADER_ORDER_DATE |\n",
    "| ORDER_HEADER_RETAILER_SITE_CODE |\n",
    "| ORDER_HEADER_RETAILER_CONTACT_CODE |\n",
    "\n",
    "| GO_SALES_INVENTORY_LEVELS |\n",
    "| --- |\n",
    "| GO_SALES_INVENTORY_LEVELS_id |\n",
    "| GO_SALES_INVENTORY_LEVELS_INVENTORY_COUNT |\n",
    "| GO_SALES_INVENTORY_LEVELS_PRODUCT_NUMBER |\n",
    "| GO_SALES_INVENTORY_LEVELS_YEAR_MONTH |\n",
    "\n",
    "| GO_SALES_PRODUCT_FORECAST |\n",
    "| --- |\n",
    "| GO_SALES_PRODUCT_FORECAST_id |\n",
    "| GO_SALES_PRODUCT_FORECAST_EXPECTED_VOLUME |\n",
    "| GO_SALES_PRODUCT_FORECAST_EXPECTED_COST |\n",
    "| GO_SALES_PRODUCT_FORECAST_EXPECTED_MARGIN |\n",
    "| GO_SALES_PRODUCT_FORECAST_PRODUCT_NUMBER |\n",
    "| GO_SALES_PRODUCT_FORECAST_YEAR_MONTH |"
   ],
   "metadata": {
    "collapsed": false
   },
   "id": "9519bb1f61aa945f"
  },
  {
   "cell_type": "code",
   "outputs": [
    {
     "name": "stdout",
     "output_type": "stream",
     "text": [
      "        UNIT_COST UNIT_PRICE UNIT_SALE_PRICE\n",
      "UNIT_ID                                     \n",
      "1            16.1      22.54           22.54\n",
      "2            16.1      22.54           22.54\n",
      "3            16.1      22.54           22.54\n",
      "4            16.1      22.54           22.54\n",
      "5            16.1      22.54           22.54\n"
     ]
    },
    {
     "ename": "KeyError",
     "evalue": "'ORDER_DETAIL_CODE'",
     "output_type": "error",
     "traceback": [
      "\u001B[1;31m---------------------------------------------------------------------------\u001B[0m",
      "\u001B[1;31mKeyError\u001B[0m                                  Traceback (most recent call last)",
      "\u001B[1;32m~\\AppData\\Local\\Temp\\ipykernel_12612\\3763091372.py\u001B[0m in \u001B[0;36m?\u001B[1;34m()\u001B[0m\n\u001B[0;32m     49\u001B[0m \u001B[0mproduct\u001B[0m \u001B[1;33m=\u001B[0m \u001B[0mpd\u001B[0m\u001B[1;33m.\u001B[0m\u001B[0mmerge\u001B[0m\u001B[1;33m(\u001B[0m\u001B[0mgo_sales_product\u001B[0m\u001B[1;33m,\u001B[0m \u001B[0mgo_sales_product_type\u001B[0m\u001B[1;33m,\u001B[0m \u001B[0mleft_on\u001B[0m\u001B[1;33m=\u001B[0m\u001B[1;34m'PRODUCT_TYPE_CODE'\u001B[0m\u001B[1;33m,\u001B[0m \u001B[0mright_on\u001B[0m\u001B[1;33m=\u001B[0m\u001B[1;34m'PRODUCT_TYPE_CODE'\u001B[0m\u001B[1;33m)\u001B[0m\u001B[1;33m\u001B[0m\u001B[1;33m\u001B[0m\u001B[0m\n\u001B[0;32m     50\u001B[0m \u001B[0mproduct\u001B[0m \u001B[1;33m=\u001B[0m \u001B[0mpd\u001B[0m\u001B[1;33m.\u001B[0m\u001B[0mmerge\u001B[0m\u001B[1;33m(\u001B[0m\u001B[0mproduct\u001B[0m\u001B[1;33m,\u001B[0m \u001B[0mgo_sales_product_line\u001B[0m\u001B[1;33m,\u001B[0m \u001B[0mleft_on\u001B[0m\u001B[1;33m=\u001B[0m\u001B[1;34m'PRODUCT_LINE_CODE'\u001B[0m\u001B[1;33m,\u001B[0m \u001B[0mright_on\u001B[0m\u001B[1;33m=\u001B[0m\u001B[1;34m'PRODUCT_LINE_CODE'\u001B[0m\u001B[1;33m)\u001B[0m\u001B[1;33m\u001B[0m\u001B[1;33m\u001B[0m\u001B[0m\n\u001B[0;32m     51\u001B[0m \u001B[1;33m\u001B[0m\u001B[0m\n\u001B[0;32m     52\u001B[0m \u001B[1;31m# Order_details\u001B[0m\u001B[1;33m\u001B[0m\u001B[1;33m\u001B[0m\u001B[0m\n\u001B[1;32m---> 53\u001B[1;33m \u001B[0morder_details\u001B[0m \u001B[1;33m=\u001B[0m \u001B[0mpd\u001B[0m\u001B[1;33m.\u001B[0m\u001B[0mmerge\u001B[0m\u001B[1;33m(\u001B[0m\u001B[0mgo_sales_order_details\u001B[0m\u001B[1;33m,\u001B[0m \u001B[0munit\u001B[0m\u001B[1;33m,\u001B[0m \u001B[0mleft_on\u001B[0m\u001B[1;33m=\u001B[0m\u001B[1;34m'ORDER_DETAIL_CODE'\u001B[0m\u001B[1;33m,\u001B[0m \u001B[0mright_on\u001B[0m\u001B[1;33m=\u001B[0m\u001B[1;34m'ORDER_DETAIL_CODE'\u001B[0m\u001B[1;33m)\u001B[0m\u001B[1;33m\u001B[0m\u001B[1;33m\u001B[0m\u001B[0m\n\u001B[0m\u001B[0;32m     54\u001B[0m \u001B[1;33m\u001B[0m\u001B[0m\n\u001B[0;32m     55\u001B[0m \u001B[1;31m# Training\u001B[0m\u001B[1;33m\u001B[0m\u001B[1;33m\u001B[0m\u001B[0m\n\u001B[0;32m     56\u001B[0m \u001B[0mtraining\u001B[0m \u001B[1;33m=\u001B[0m \u001B[0mgo_staff_training\u001B[0m\u001B[1;33m\u001B[0m\u001B[1;33m\u001B[0m\u001B[0m\n",
      "\u001B[1;32m~\\AppData\\Local\\pypoetry\\Cache\\virtualenvs\\pythonproject-FRZINkZ2-py3.12\\Lib\\site-packages\\pandas\\core\\reshape\\merge.py\u001B[0m in \u001B[0;36m?\u001B[1;34m(left, right, how, on, left_on, right_on, left_index, right_index, sort, suffixes, copy, indicator, validate)\u001B[0m\n\u001B[0;32m    166\u001B[0m             \u001B[0mvalidate\u001B[0m\u001B[1;33m=\u001B[0m\u001B[0mvalidate\u001B[0m\u001B[1;33m,\u001B[0m\u001B[1;33m\u001B[0m\u001B[1;33m\u001B[0m\u001B[0m\n\u001B[0;32m    167\u001B[0m             \u001B[0mcopy\u001B[0m\u001B[1;33m=\u001B[0m\u001B[0mcopy\u001B[0m\u001B[1;33m,\u001B[0m\u001B[1;33m\u001B[0m\u001B[1;33m\u001B[0m\u001B[0m\n\u001B[0;32m    168\u001B[0m         \u001B[1;33m)\u001B[0m\u001B[1;33m\u001B[0m\u001B[1;33m\u001B[0m\u001B[0m\n\u001B[0;32m    169\u001B[0m     \u001B[1;32melse\u001B[0m\u001B[1;33m:\u001B[0m\u001B[1;33m\u001B[0m\u001B[1;33m\u001B[0m\u001B[0m\n\u001B[1;32m--> 170\u001B[1;33m         op = _MergeOperation(\n\u001B[0m\u001B[0;32m    171\u001B[0m             \u001B[0mleft_df\u001B[0m\u001B[1;33m,\u001B[0m\u001B[1;33m\u001B[0m\u001B[1;33m\u001B[0m\u001B[0m\n\u001B[0;32m    172\u001B[0m             \u001B[0mright_df\u001B[0m\u001B[1;33m,\u001B[0m\u001B[1;33m\u001B[0m\u001B[1;33m\u001B[0m\u001B[0m\n\u001B[0;32m    173\u001B[0m             \u001B[0mhow\u001B[0m\u001B[1;33m=\u001B[0m\u001B[0mhow\u001B[0m\u001B[1;33m,\u001B[0m\u001B[1;33m\u001B[0m\u001B[1;33m\u001B[0m\u001B[0m\n",
      "\u001B[1;32m~\\AppData\\Local\\pypoetry\\Cache\\virtualenvs\\pythonproject-FRZINkZ2-py3.12\\Lib\\site-packages\\pandas\\core\\reshape\\merge.py\u001B[0m in \u001B[0;36m?\u001B[1;34m(self, left, right, how, on, left_on, right_on, left_index, right_index, sort, suffixes, indicator, validate)\u001B[0m\n\u001B[0;32m    790\u001B[0m             \u001B[0mself\u001B[0m\u001B[1;33m.\u001B[0m\u001B[0mright_join_keys\u001B[0m\u001B[1;33m,\u001B[0m\u001B[1;33m\u001B[0m\u001B[1;33m\u001B[0m\u001B[0m\n\u001B[0;32m    791\u001B[0m             \u001B[0mself\u001B[0m\u001B[1;33m.\u001B[0m\u001B[0mjoin_names\u001B[0m\u001B[1;33m,\u001B[0m\u001B[1;33m\u001B[0m\u001B[1;33m\u001B[0m\u001B[0m\n\u001B[0;32m    792\u001B[0m             \u001B[0mleft_drop\u001B[0m\u001B[1;33m,\u001B[0m\u001B[1;33m\u001B[0m\u001B[1;33m\u001B[0m\u001B[0m\n\u001B[0;32m    793\u001B[0m             \u001B[0mright_drop\u001B[0m\u001B[1;33m,\u001B[0m\u001B[1;33m\u001B[0m\u001B[1;33m\u001B[0m\u001B[0m\n\u001B[1;32m--> 794\u001B[1;33m         \u001B[1;33m)\u001B[0m \u001B[1;33m=\u001B[0m \u001B[0mself\u001B[0m\u001B[1;33m.\u001B[0m\u001B[0m_get_merge_keys\u001B[0m\u001B[1;33m(\u001B[0m\u001B[1;33m)\u001B[0m\u001B[1;33m\u001B[0m\u001B[1;33m\u001B[0m\u001B[0m\n\u001B[0m\u001B[0;32m    795\u001B[0m \u001B[1;33m\u001B[0m\u001B[0m\n\u001B[0;32m    796\u001B[0m         \u001B[1;32mif\u001B[0m \u001B[0mleft_drop\u001B[0m\u001B[1;33m:\u001B[0m\u001B[1;33m\u001B[0m\u001B[1;33m\u001B[0m\u001B[0m\n\u001B[0;32m    797\u001B[0m             \u001B[0mself\u001B[0m\u001B[1;33m.\u001B[0m\u001B[0mleft\u001B[0m \u001B[1;33m=\u001B[0m \u001B[0mself\u001B[0m\u001B[1;33m.\u001B[0m\u001B[0mleft\u001B[0m\u001B[1;33m.\u001B[0m\u001B[0m_drop_labels_or_levels\u001B[0m\u001B[1;33m(\u001B[0m\u001B[0mleft_drop\u001B[0m\u001B[1;33m)\u001B[0m\u001B[1;33m\u001B[0m\u001B[1;33m\u001B[0m\u001B[0m\n",
      "\u001B[1;32m~\\AppData\\Local\\pypoetry\\Cache\\virtualenvs\\pythonproject-FRZINkZ2-py3.12\\Lib\\site-packages\\pandas\\core\\reshape\\merge.py\u001B[0m in \u001B[0;36m?\u001B[1;34m(self)\u001B[0m\n\u001B[0;32m   1293\u001B[0m                         \u001B[1;31m# Then we're either Hashable or a wrong-length arraylike,\u001B[0m\u001B[1;33m\u001B[0m\u001B[1;33m\u001B[0m\u001B[0m\n\u001B[0;32m   1294\u001B[0m                         \u001B[1;31m#  the latter of which will raise\u001B[0m\u001B[1;33m\u001B[0m\u001B[1;33m\u001B[0m\u001B[0m\n\u001B[0;32m   1295\u001B[0m                         \u001B[0mrk\u001B[0m \u001B[1;33m=\u001B[0m \u001B[0mcast\u001B[0m\u001B[1;33m(\u001B[0m\u001B[0mHashable\u001B[0m\u001B[1;33m,\u001B[0m \u001B[0mrk\u001B[0m\u001B[1;33m)\u001B[0m\u001B[1;33m\u001B[0m\u001B[1;33m\u001B[0m\u001B[0m\n\u001B[0;32m   1296\u001B[0m                         \u001B[1;32mif\u001B[0m \u001B[0mrk\u001B[0m \u001B[1;32mis\u001B[0m \u001B[1;32mnot\u001B[0m \u001B[1;32mNone\u001B[0m\u001B[1;33m:\u001B[0m\u001B[1;33m\u001B[0m\u001B[1;33m\u001B[0m\u001B[0m\n\u001B[1;32m-> 1297\u001B[1;33m                             \u001B[0mright_keys\u001B[0m\u001B[1;33m.\u001B[0m\u001B[0mappend\u001B[0m\u001B[1;33m(\u001B[0m\u001B[0mright\u001B[0m\u001B[1;33m.\u001B[0m\u001B[0m_get_label_or_level_values\u001B[0m\u001B[1;33m(\u001B[0m\u001B[0mrk\u001B[0m\u001B[1;33m)\u001B[0m\u001B[1;33m)\u001B[0m\u001B[1;33m\u001B[0m\u001B[1;33m\u001B[0m\u001B[0m\n\u001B[0m\u001B[0;32m   1298\u001B[0m                         \u001B[1;32melse\u001B[0m\u001B[1;33m:\u001B[0m\u001B[1;33m\u001B[0m\u001B[1;33m\u001B[0m\u001B[0m\n\u001B[0;32m   1299\u001B[0m                             \u001B[1;31m# work-around for merge_asof(right_index=True)\u001B[0m\u001B[1;33m\u001B[0m\u001B[1;33m\u001B[0m\u001B[0m\n\u001B[0;32m   1300\u001B[0m                             \u001B[0mright_keys\u001B[0m\u001B[1;33m.\u001B[0m\u001B[0mappend\u001B[0m\u001B[1;33m(\u001B[0m\u001B[0mright\u001B[0m\u001B[1;33m.\u001B[0m\u001B[0mindex\u001B[0m\u001B[1;33m.\u001B[0m\u001B[0m_values\u001B[0m\u001B[1;33m)\u001B[0m\u001B[1;33m\u001B[0m\u001B[1;33m\u001B[0m\u001B[0m\n",
      "\u001B[1;32m~\\AppData\\Local\\pypoetry\\Cache\\virtualenvs\\pythonproject-FRZINkZ2-py3.12\\Lib\\site-packages\\pandas\\core\\generic.py\u001B[0m in \u001B[0;36m?\u001B[1;34m(self, key, axis)\u001B[0m\n\u001B[0;32m   1906\u001B[0m             \u001B[0mvalues\u001B[0m \u001B[1;33m=\u001B[0m \u001B[0mself\u001B[0m\u001B[1;33m.\u001B[0m\u001B[0mxs\u001B[0m\u001B[1;33m(\u001B[0m\u001B[0mkey\u001B[0m\u001B[1;33m,\u001B[0m \u001B[0maxis\u001B[0m\u001B[1;33m=\u001B[0m\u001B[0mother_axes\u001B[0m\u001B[1;33m[\u001B[0m\u001B[1;36m0\u001B[0m\u001B[1;33m]\u001B[0m\u001B[1;33m)\u001B[0m\u001B[1;33m.\u001B[0m\u001B[0m_values\u001B[0m\u001B[1;33m\u001B[0m\u001B[1;33m\u001B[0m\u001B[0m\n\u001B[0;32m   1907\u001B[0m         \u001B[1;32melif\u001B[0m \u001B[0mself\u001B[0m\u001B[1;33m.\u001B[0m\u001B[0m_is_level_reference\u001B[0m\u001B[1;33m(\u001B[0m\u001B[0mkey\u001B[0m\u001B[1;33m,\u001B[0m \u001B[0maxis\u001B[0m\u001B[1;33m=\u001B[0m\u001B[0maxis\u001B[0m\u001B[1;33m)\u001B[0m\u001B[1;33m:\u001B[0m\u001B[1;33m\u001B[0m\u001B[1;33m\u001B[0m\u001B[0m\n\u001B[0;32m   1908\u001B[0m             \u001B[0mvalues\u001B[0m \u001B[1;33m=\u001B[0m \u001B[0mself\u001B[0m\u001B[1;33m.\u001B[0m\u001B[0maxes\u001B[0m\u001B[1;33m[\u001B[0m\u001B[0maxis\u001B[0m\u001B[1;33m]\u001B[0m\u001B[1;33m.\u001B[0m\u001B[0mget_level_values\u001B[0m\u001B[1;33m(\u001B[0m\u001B[0mkey\u001B[0m\u001B[1;33m)\u001B[0m\u001B[1;33m.\u001B[0m\u001B[0m_values\u001B[0m\u001B[1;33m\u001B[0m\u001B[1;33m\u001B[0m\u001B[0m\n\u001B[0;32m   1909\u001B[0m         \u001B[1;32melse\u001B[0m\u001B[1;33m:\u001B[0m\u001B[1;33m\u001B[0m\u001B[1;33m\u001B[0m\u001B[0m\n\u001B[1;32m-> 1910\u001B[1;33m             \u001B[1;32mraise\u001B[0m \u001B[0mKeyError\u001B[0m\u001B[1;33m(\u001B[0m\u001B[0mkey\u001B[0m\u001B[1;33m)\u001B[0m\u001B[1;33m\u001B[0m\u001B[1;33m\u001B[0m\u001B[0m\n\u001B[0m\u001B[0;32m   1911\u001B[0m \u001B[1;33m\u001B[0m\u001B[0m\n\u001B[0;32m   1912\u001B[0m         \u001B[1;31m# Check for duplicates\u001B[0m\u001B[1;33m\u001B[0m\u001B[1;33m\u001B[0m\u001B[0m\n\u001B[0;32m   1913\u001B[0m         \u001B[1;32mif\u001B[0m \u001B[0mvalues\u001B[0m\u001B[1;33m.\u001B[0m\u001B[0mndim\u001B[0m \u001B[1;33m>\u001B[0m \u001B[1;36m1\u001B[0m\u001B[1;33m:\u001B[0m\u001B[1;33m\u001B[0m\u001B[1;33m\u001B[0m\u001B[0m\n",
      "\u001B[1;31mKeyError\u001B[0m: 'ORDER_DETAIL_CODE'"
     ]
    }
   ],
   "source": [
    "# Combineren van de tabellen\n",
    "\n",
    "# Returned_item\n",
    "returned_item = pd.merge(go_sales_returned_item, go_sales_return_reason, left_on='RETURN_REASON_CODE', right_on='RETURN_REASON_CODE')\n",
    "\n",
    "# Unit\n",
    "unit_columns = ['UNIT_COST', 'UNIT_PRICE', 'UNIT_SALE_PRICE']\n",
    "unit = go_sales_order_details\n",
    "# make unit_id the primary key, autoincrement\n",
    "unit['UNIT_ID'] = range(1, len(unit) + 1)\n",
    "unit = unit.set_index('UNIT_ID')\n",
    "\n",
    "# filtering the columns\n",
    "unit = unit[unit_columns]\n",
    "\n",
    "print(unit.head())\n",
    "\n",
    "# Sales_staff\n",
    "sales_staff = pd.merge(go_staff_sales_staff, go_staff_sales_branch, left_on='SALES_BRANCH_CODE', right_on='SALES_BRANCH_CODE')\n",
    "\n",
    "# Satisfaction_type\n",
    "satisfaction_type = go_staff_satisfaction_type\n",
    "\n",
    "# Course\n",
    "course = go_staff_course\n",
    "\n",
    "# Year\n",
    "year = pd.DataFrame({'YEAR': [2019, 2020, 2021, 2022, 2023, 2024, 2025]}) #TODO fix\n",
    "\n",
    "# Date\n",
    "date = pd.DataFrame({'DATE_date': pd.date_range(start='1/1/2019', end='1/1/2025')}) #TODO fix\n",
    "\n",
    "# Order\n",
    "order = pd.merge(go_sales_order_header, go_sales_order_method, left_on='ORDER_METHOD_CODE', right_on='ORDER_METHOD_CODE')\n",
    "\n",
    "# Retailer_site\n",
    "retailer_site = go_sales_retailer_site\n",
    "\n",
    "# Sales_branch\n",
    "sales_branch = go_sales_sales_branch\n",
    "\n",
    "# Retailer_contact\n",
    "retailer_contact = go_crm_retailer_contact\n",
    "\n",
    "# Retailer\n",
    "retailer = pd.merge(go_crm_retailer, go_crm_retailer_type, left_on='RETAILER_TYPE_CODE', right_on='RETAILER_TYPE_CODE')\n",
    "\n",
    "# Product\n",
    "product = pd.merge(go_sales_product, go_sales_product_type, left_on='PRODUCT_TYPE_CODE', right_on='PRODUCT_TYPE_CODE')\n",
    "product = pd.merge(product, go_sales_product_line, left_on='PRODUCT_LINE_CODE', right_on='PRODUCT_LINE_CODE')\n",
    "\n",
    "# Order_details\n",
    "order_details = pd.merge(go_sales_order_details, unit, left_on='ORDER_DETAIL_CODE', right_on='ORDER_DETAIL_CODE')\n",
    "\n",
    "# Training\n",
    "training = go_staff_training\n",
    "\n",
    "# Satisfaction\n",
    "satisfaction = go_staff_satisfaction\n",
    "\n",
    "# Order_header\n",
    "order_header = pd.merge(go_sales_order_header, retailer, left_on='RETAILER_NAME', right_on='COMPANY_NAME')\n",
    "\n",
    "# GO_SALES_INVENTORY_LEVELS\n",
    "go_sales_inventory_levels = go_sales_inventory_levels"
   ],
   "metadata": {
    "collapsed": false,
    "ExecuteTime": {
     "end_time": "2024-03-11T15:31:41.414137Z",
     "start_time": "2024-03-11T15:31:41.096751Z"
    }
   },
   "id": "288d7bec80d4571",
   "execution_count": 5
  },
  {
   "cell_type": "markdown",
   "source": [
    "## Alles uitprinten \n",
    "ter verificatie dat het goed is gegaan"
   ],
   "metadata": {
    "collapsed": false
   },
   "id": "ea55870c557745aa"
  },
  {
   "cell_type": "code",
   "outputs": [],
   "source": [
    "print(returned_item.head())\n",
    "print(unit.head())\n",
    "print(sales_staff.head())\n",
    "print(satisfaction_type.head())\n",
    "print(course.head())\n",
    "print(year.head())\n",
    "print(date.head())\n",
    "print(order.head())\n",
    "print(retailer_site.head())\n",
    "print(sales_branch.head())\n",
    "print(retailer_contact.head())\n",
    "print(retailer.head())\n",
    "print(product.head())\n",
    "print(order_details.head())\n",
    "print(training.head())\n",
    "print(satisfaction.head())\n",
    "print(order_header.head())\n",
    "print(go_sales_inventory_levels.head())\n",
    "\n",
    "print(go_sales_product_forcast.head())\n",
    "print(go_sales_inventory_levels.head())"
   ],
   "metadata": {
    "collapsed": false,
    "ExecuteTime": {
     "end_time": "2024-03-11T15:31:41.416293Z",
     "start_time": "2024-03-11T15:31:41.416293Z"
    }
   },
   "id": "36b7c93f27543a3d",
   "execution_count": null
  },
  {
   "cell_type": "markdown",
   "source": [
    "# Toevoegen van nieuwe kolommen\n",
    "Toevoegen van de afgeleide informatie die ook in het ETL en de data warehouse moet komen"
   ],
   "metadata": {
    "collapsed": false
   },
   "id": "36159d94f009e1a3"
  },
  {
   "cell_type": "markdown",
   "source": [
    "#TODO"
   ],
   "metadata": {
    "collapsed": false
   },
   "id": "6efbbcf0146f92c8"
  }
 ],
 "metadata": {
  "kernelspec": {
   "display_name": "Python 3",
   "language": "python",
   "name": "python3"
  },
  "language_info": {
   "codemirror_mode": {
    "name": "ipython",
    "version": 2
   },
   "file_extension": ".py",
   "mimetype": "text/x-python",
   "name": "python",
   "nbconvert_exporter": "python",
   "pygments_lexer": "ipython2",
   "version": "2.7.6"
  }
 },
 "nbformat": 4,
 "nbformat_minor": 5
}
