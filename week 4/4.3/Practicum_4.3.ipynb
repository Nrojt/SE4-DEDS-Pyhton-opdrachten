{
 "cells": [
  {
   "cell_type": "markdown",
   "source": [
    "Practicumopdrachten Week 4.3 (eerste kans)"
   ],
   "metadata": {
    "collapsed": false
   },
   "id": "d086cc99c4d69011"
  },
  {
   "cell_type": "markdown",
   "source": [
    "Dependecies"
   ],
   "metadata": {
    "collapsed": false
   },
   "id": "c899ef6a9a61a928"
  },
  {
   "cell_type": "code",
   "outputs": [],
   "source": [
    "import pandas as pd\n",
    "import pyodbc\n",
    "import sqlite3"
   ],
   "metadata": {
    "collapsed": false,
    "ExecuteTime": {
     "end_time": "2024-03-11T20:35:39.751391Z",
     "start_time": "2024-03-11T20:35:39.748790Z"
    }
   },
   "id": "53ceadd40e419431",
   "execution_count": 4
  },
  {
   "cell_type": "markdown",
   "source": [
    "Connectie met smss database"
   ],
   "metadata": {
    "collapsed": false
   },
   "id": "823d7a97f719ddcb"
  },
  {
   "cell_type": "code",
   "outputs": [
    {
     "ename": "ProgrammingError",
     "evalue": "('42000', '[42000] [Microsoft][ODBC SQL Server Driver][SQL Server]Cannot open database \"DEDS_DataWarehouse\" requested by the login. The login failed. (4060) (SQLDriverConnect); [42000] [Microsoft][ODBC SQL Server Driver][SQL Server]Cannot open database \"DEDS_DataWarehouse\" requested by the login. The login failed. (4060)')",
     "output_type": "error",
     "traceback": [
      "\u001B[1;31m---------------------------------------------------------------------------\u001B[0m",
      "\u001B[1;31mProgrammingError\u001B[0m                          Traceback (most recent call last)",
      "Cell \u001B[1;32mIn[5], line 5\u001B[0m\n\u001B[0;32m      1\u001B[0m DB \u001B[38;5;241m=\u001B[39m {\n\u001B[0;32m      2\u001B[0m     \u001B[38;5;124m'\u001B[39m\u001B[38;5;124mservername\u001B[39m\u001B[38;5;124m'\u001B[39m: \u001B[38;5;124m'\u001B[39m\u001B[38;5;124m(local)\u001B[39m\u001B[38;5;130;01m\\\\\u001B[39;00m\u001B[38;5;124mSQLEXPRESS\u001B[39m\u001B[38;5;124m'\u001B[39m,\n\u001B[0;32m      3\u001B[0m     \u001B[38;5;124m'\u001B[39m\u001B[38;5;124mdatabase\u001B[39m\u001B[38;5;124m'\u001B[39m: \u001B[38;5;124m'\u001B[39m\u001B[38;5;124mDEDS_DataWarehouse\u001B[39m\u001B[38;5;124m'\u001B[39m,}\n\u001B[1;32m----> 5\u001B[0m export_conn \u001B[38;5;241m=\u001B[39m \u001B[43mpyodbc\u001B[49m\u001B[38;5;241;43m.\u001B[39;49m\u001B[43mconnect\u001B[49m\u001B[43m(\u001B[49m\u001B[38;5;124;43m'\u001B[39;49m\u001B[38;5;124;43mDRIVER=\u001B[39;49m\u001B[38;5;124;43m{\u001B[39;49m\u001B[38;5;124;43mSQL Server};SERVER=\u001B[39;49m\u001B[38;5;124;43m'\u001B[39;49m\u001B[43m \u001B[49m\u001B[38;5;241;43m+\u001B[39;49m\u001B[43m \u001B[49m\u001B[43mDB\u001B[49m\u001B[43m[\u001B[49m\u001B[38;5;124;43m'\u001B[39;49m\u001B[38;5;124;43mservername\u001B[39;49m\u001B[38;5;124;43m'\u001B[39;49m\u001B[43m]\u001B[49m\u001B[43m \u001B[49m\u001B[38;5;241;43m+\u001B[39;49m\u001B[43m \u001B[49m\u001B[38;5;124;43m'\u001B[39;49m\u001B[38;5;124;43m;DATABASE=\u001B[39;49m\u001B[38;5;124;43m'\u001B[39;49m\u001B[43m \u001B[49m\u001B[38;5;241;43m+\u001B[39;49m\u001B[43m \u001B[49m\u001B[43mDB\u001B[49m\u001B[43m[\u001B[49m\u001B[38;5;124;43m'\u001B[39;49m\u001B[38;5;124;43mdatabase\u001B[39;49m\u001B[38;5;124;43m'\u001B[39;49m\u001B[43m]\u001B[49m\u001B[43m \u001B[49m\u001B[38;5;241;43m+\u001B[39;49m\u001B[43m \u001B[49m\u001B[38;5;124;43m'\u001B[39;49m\u001B[38;5;124;43m;Trusted_Connection=yes\u001B[39;49m\u001B[38;5;124;43m'\u001B[39;49m\u001B[43m)\u001B[49m\n\u001B[0;32m      7\u001B[0m export_cursor \u001B[38;5;241m=\u001B[39m export_conn\u001B[38;5;241m.\u001B[39mcursor()\n\u001B[0;32m      9\u001B[0m \u001B[38;5;66;03m# check if connection is successful, else throw an error\u001B[39;00m\n",
      "\u001B[1;31mProgrammingError\u001B[0m: ('42000', '[42000] [Microsoft][ODBC SQL Server Driver][SQL Server]Cannot open database \"DEDS_DataWarehouse\" requested by the login. The login failed. (4060) (SQLDriverConnect); [42000] [Microsoft][ODBC SQL Server Driver][SQL Server]Cannot open database \"DEDS_DataWarehouse\" requested by the login. The login failed. (4060)')"
     ]
    }
   ],
   "source": [
    "DB = {\n",
    "    'servername': '(local)\\\\SQLEXPRESS',\n",
    "    'database': 'DEDS_DataWarehouse',}\n",
    "\n",
    "export_conn = pyodbc.connect('DRIVER={SQL Server};SERVER=' + DB['servername'] + ';DATABASE=' + DB['database'] + ';Trusted_Connection=yes')\n",
    "\n",
    "export_cursor = export_conn.cursor()\n",
    "\n",
    "# check if connection is successful, else throw an error\n",
    "if export_conn:\n",
    "    print(\"Connection with database is established\")\n",
    "else:\n",
    "    print(\"Connection with database is not established\")\n",
    "    #raise Exception(\"Connection with database is not established\")"
   ],
   "metadata": {
    "collapsed": false,
    "ExecuteTime": {
     "end_time": "2024-03-11T20:35:39.784855Z",
     "start_time": "2024-03-11T20:35:39.761410Z"
    }
   },
   "id": "948252c29b10a629",
   "execution_count": 5
  },
  {
   "cell_type": "markdown",
   "source": [
    "# Brontabellen\n",
    "importeer de brontabellen uit de brondata foler"
   ],
   "metadata": {
    "collapsed": false
   },
   "id": "9c06294903211408"
  },
  {
   "cell_type": "code",
   "outputs": [],
   "source": [
    "# Connectie met sqlite databases\n",
    "go_crm_connection = sqlite3.connect('brondata/go_crm.sqlite')\n",
    "go_sales_connection = sqlite3.connect('brondata/go_sales.sqlite')\n",
    "go_staff_connection = sqlite3.connect('brondata/go_staff.sqlite')\n"
   ],
   "metadata": {
    "collapsed": false,
    "ExecuteTime": {
     "end_time": "2024-03-11T20:35:45.852766Z",
     "start_time": "2024-03-11T20:35:45.849516Z"
    }
   },
   "id": "7e3485e0d80801c9",
   "execution_count": 6
  },
  {
   "cell_type": "code",
   "outputs": [],
   "source": [
    "# inlezen csv bestanden\n",
    "go_sales_inventory_levels = pd.read_csv('brondata/GO_SALES_INVENTORY_LEVELSData.csv')\n",
    "go_sales_product_forcast = pd.read_csv('brondata/GO_SALES_PRODUCT_FORECASTData.csv')"
   ],
   "metadata": {
    "collapsed": false,
    "ExecuteTime": {
     "end_time": "2024-03-11T20:35:46.003837Z",
     "start_time": "2024-03-11T20:35:45.995968Z"
    }
   },
   "id": "80afb12db9f862d",
   "execution_count": 7
  },
  {
   "cell_type": "markdown",
   "source": [
    "## Inlezen van de sqlite tabellen"
   ],
   "metadata": {
    "collapsed": false
   },
   "id": "e4ca8a748b700495"
  },
  {
   "cell_type": "markdown",
   "source": [
    "### go_crm"
   ],
   "metadata": {
    "collapsed": false
   },
   "id": "94c4cad4f19bfd1e"
  },
  {
   "cell_type": "code",
   "outputs": [],
   "source": [
    "go_crm_age_group = pd.read_sql_query(\"SELECT * FROM age_group\", go_crm_connection)\n",
    "go_crm_country = pd.read_sql_query(\"SELECT * FROM country\", go_crm_connection)\n",
    "go_crm_retailer = pd.read_sql_query(\"SELECT * FROM retailer\", go_crm_connection)\n",
    "go_crm_retailer_contact = pd.read_sql_query(\"SELECT * FROM retailer_contact\", go_crm_connection)\n",
    "go_crm_retailer_headquarters = pd.read_sql_query(\"SELECT * FROM retailer_headquarters\", go_crm_connection)\n",
    "go_crm_retailer_segment = pd.read_sql_query(\"SELECT * FROM retailer_segment\", go_crm_connection)\n",
    "go_crm_retailer_site = pd.read_sql_query(\"SELECT * FROM retailer_site\", go_crm_connection)\n",
    "go_crm_retailer_type = pd.read_sql_query(\"SELECT * FROM retailer_type\", go_crm_connection)\n",
    "go_crm_sales_demographic = pd.read_sql_query(\"SELECT * FROM sales_demographic\", go_crm_connection)\n",
    "go_crm_sales_territory = pd.read_sql_query(\"SELECT * FROM sales_territory\", go_crm_connection)"
   ],
   "metadata": {
    "collapsed": false,
    "ExecuteTime": {
     "end_time": "2024-03-11T20:35:46.029454Z",
     "start_time": "2024-03-11T20:35:46.016852Z"
    }
   },
   "id": "689787d21e2dd6f3",
   "execution_count": 8
  },
  {
   "cell_type": "markdown",
   "source": [
    "### go_sales"
   ],
   "metadata": {
    "collapsed": false
   },
   "id": "c0d3bb6ca017c9f5"
  },
  {
   "cell_type": "code",
   "outputs": [],
   "source": [
    "go_sales_country = pd.read_sql_query(\"SELECT * FROM country\", go_sales_connection)\n",
    "go_sales_order_details = pd.read_sql_query(\"SELECT * FROM order_details\", go_sales_connection)\n",
    "go_sales_order_header = pd.read_sql_query(\"SELECT * FROM order_header\", go_sales_connection)\n",
    "go_sales_order_method = pd.read_sql_query(\"SELECT * FROM order_method\", go_sales_connection)\n",
    "go_sales_product = pd.read_sql_query(\"SELECT * FROM product\", go_sales_connection)\n",
    "go_sales_product_line = pd.read_sql_query(\"SELECT * FROM product_line\", go_sales_connection)\n",
    "go_sales_product_type = pd.read_sql_query(\"SELECT * FROM product_type\", go_sales_connection)\n",
    "go_sales_retailer_site = pd.read_sql_query(\"SELECT * FROM retailer_site\", go_sales_connection)\n",
    "go_sales_return_reason = pd.read_sql_query(\"SELECT * FROM return_reason\", go_sales_connection)\n",
    "go_sales_returned_item = pd.read_sql_query(\"SELECT * FROM returned_item\", go_sales_connection)\n",
    "go_sales_sales_branch = pd.read_sql_query(\"SELECT * FROM sales_branch\", go_sales_connection)\n",
    "go_sales_sales_staff = pd.read_sql_query(\"SELECT * FROM sales_staff\", go_sales_connection)"
   ],
   "metadata": {
    "collapsed": false,
    "ExecuteTime": {
     "end_time": "2024-03-11T20:35:46.120645Z",
     "start_time": "2024-03-11T20:35:46.046467Z"
    }
   },
   "id": "57ccae2b6fd7637c",
   "execution_count": 9
  },
  {
   "cell_type": "markdown",
   "source": [
    "### go_staff"
   ],
   "metadata": {
    "collapsed": false
   },
   "id": "169a4aba88468c64"
  },
  {
   "cell_type": "code",
   "outputs": [],
   "source": [
    "go_staff_course = pd.read_sql_query(\"SELECT * FROM course\", go_staff_connection)\n",
    "go_staff_sales_branch = pd.read_sql_query(\"SELECT * FROM sales_branch\", go_staff_connection)\n",
    "go_staff_sales_staff = pd.read_sql_query(\"SELECT * FROM sales_staff\", go_staff_connection)\n",
    "go_staff_satisfaction = pd.read_sql_query(\"SELECT * FROM satisfaction\", go_staff_connection)\n",
    "go_staff_satisfaction_type = pd.read_sql_query(\"SELECT * FROM satisfaction_type\", go_staff_connection)\n",
    "go_staff_training = pd.read_sql_query(\"SELECT * FROM training\", go_staff_connection)"
   ],
   "metadata": {
    "collapsed": false,
    "ExecuteTime": {
     "end_time": "2024-03-11T20:35:46.127736Z",
     "start_time": "2024-03-11T20:35:46.121649Z"
    }
   },
   "id": "2f2206ef6f8f73ef",
   "execution_count": 10
  },
  {
   "cell_type": "markdown",
   "source": [],
   "metadata": {
    "collapsed": false
   },
   "id": "650835d0566406ab"
  },
  {
   "cell_type": "markdown",
   "source": [
    "# Combineren van de tabellen\n",
    "Combineren van de brondata om tot ons ETL te komen\n",
    "\n",
    "| Returned_item |\n",
    "| --- |\n",
    "| RETURNED_ITEM_code |\n",
    "| RETURNED_ITEM_DATE_date |\n",
    "| RETURNED_ITEM_QUANTITY_quantity |\n",
    "| RETURNED_ITEM_ORDER_DETAIL_CODE_detail_code |\n",
    "| RETURNED_ITEM_RETURN_REASON_code |\n",
    "| RETURNED_ITEM_RETURN_REASON_desctiption_en |\n",
    "| RETURNED_ITEM_RETURNED_ITEMS_TOTAL_PRICE_total |\n",
    "\n",
    "| Unit |\n",
    "| --- |\n",
    "| UNIT_id |\n",
    "| UNIT_COST_cost |\n",
    "| UNIT_PRICE_price |\n",
    "| UNIT_SALE_sale |\n",
    "\n",
    "| Sales_staff |\n",
    "| --- |\n",
    "| SALES_STAFF__code |\n",
    "| SALES_STAFF_email |\n",
    "| SALES_STAFF_extension |\n",
    "| SALES_STAFF_POSITION_EN_position |\n",
    "| SALES_STAFF_WORK_PHONE_work_phone |\n",
    "| SALES_STAFF_DATE_HIRED_hired |\n",
    "| SALES_STAFF_MANAGER_CODE_manager |\n",
    "| SALES_STAFF_FAX_fax |\n",
    "| SALES_STAFF_FIRST_NAME_first_name |\n",
    "| SALES_STAFF_LAST_NAME_last_name |\n",
    "| SALES_STAFF_FULL_NAME__full_name |\n",
    "| SALES_STAFF_SALES_BRANCH_CODE_branch_code |\n",
    "| SALES_STAFF_SALES_BRANCH_ADDRESS_address |\n",
    "| SALES_STAFF_SALES_BRANCH_ADDRESS_EXTRA_address_extra |\n",
    "\n",
    "| Satisfaction_type |\n",
    "| --- |\n",
    "| SATISFACTION_TYPE_code |\n",
    "| SATISFACTION_TYPE_description |\n",
    "| SATISFACTION_TYPE_description_short |\n",
    "\n",
    "| Course |\n",
    "| --- |\n",
    "| COURSE_code |\n",
    "| COURSE_description |\n",
    "| COURSE_description_short |\n",
    "\n",
    "| Year |\n",
    "| --- |\n",
    "| YEAR |\n",
    "\n",
    "| Date            | \n",
    "|-----------------|\n",
    "| DATE_date       |\n",
    "| DATE_YEAR_year  |\n",
    "| DATE_MONTH_month |\n",
    "| DATE_DAY_day |\n",
    "\n",
    "| Order |\n",
    "| --- |\n",
    "| ORDER_order_number |\n",
    "| ORDER_ORDER_METHOD_CODE_method_code |\n",
    "| ORDER_ORDER_METHOD_EN_method |\n",
    "\n",
    "| Retailer_site |\n",
    "| --- |\n",
    "| RETAILER_SITE_code |\n",
    "| RETAILER_SITE_COUNTRY_CODE_country |\n",
    "| RETAILER_SITE_CITY_city |\n",
    "| RETAILER_SITE_REGION_region |\n",
    "| RETAILER_SITE_POSTAL_ZONE_postal_zone |\n",
    "| RETAILER_SITE_RETAILER_CODE_retailer_code |\n",
    "| RETAILER_SITE_ACTIVE_INDICATOR_indicator |\n",
    "| RETAILER_SITE_ADDRESS1_address |\n",
    "| RETAILER_SITE_ADDRESS2_address |\n",
    "| RETAILER_SITE_MAIN_ADDRESS__address |\n",
    "\n",
    "| Sales_branch |\n",
    "| --- |\n",
    "| SALES_BRANCH_code |\n",
    "| SALES_BRANCH_COUNTRY_CODE_country |\n",
    "| SALES_BRANCH_REGION_region |\n",
    "| SALES_BRANCH_CITY_city |\n",
    "| SALES_BRANCH_POSTAL_ZONE_postal_zone |\n",
    "| SALES_BRANCH_ADDRESS1_address |\n",
    "| SALES_BRANCH_ADDRESS2_address |\n",
    "| SALES_BRANCH_MAIN_ADDRESS_address |\n",
    "\n",
    "| Retailer_contact |\n",
    "| --- |\n",
    "| RETAILER_CONTACT_code |\n",
    "| RETAILER_CONTACT_email |\n",
    "| RETAILER_CONTACT_RETAILER_SITE_CODE_site_code |\n",
    "| RETAILER_CONTACT_JOB_POSITION_EN_position |\n",
    "| RETAILER_CONTACT_EXTENSION_extension |\n",
    "| RETAILER_CONTACT_FAX_fax |\n",
    "| RETAILER_CONTACT_GENDER_gender |\n",
    "| RETAILER_CONTACT_FIRST_NAME_first_name |\n",
    "| RETAILER_CONTACT_LAST_NAME_last_name |\n",
    "| RETAILER_CONTACT_FULL_NAME_full_name |\n",
    "\n",
    "| Retailer |\n",
    "| --- |\n",
    "| RETAILER_code |\n",
    "| RETAILER__name |\n",
    "| RETAILER_COMPANY_CODEMR_company |\n",
    "| RETAILER_RETAILER_TYPE_retailer_type_code |\n",
    "| RETAILER_RETAILER_TYPE_retailer_type_EN |\n",
    "\n",
    "| Product |\n",
    "| --- |\n",
    "| PRODUCT_number |\n",
    "| PRODUCT_name_product |\n",
    "| PRODUCT_description_description |\n",
    "| PRODUCT_image_image |\n",
    "| PRODUCT_INTRODUCTION_DATE_introduced |\n",
    "| PRODUCT_PRODUCTION_COST_cost |\n",
    "| PRODUCT_MARGIN_margin |\n",
    "| PRODUCT_LANGUAGE_language |\n",
    "| PRODUCT_MINIMUM_SALE_PRICE_minPrice |\n",
    "| PRODUCT_PRODUCT_LINE_code |\n",
    "| PRODUCT_PRODUCT_LINE_code_en |\n",
    "| PRODUCT_PRODUCT_TYPE_code |\n",
    "| PRODUCT_PRODUCT_TYPE_code_en |\n",
    "\n",
    "| Order_details |\n",
    "| --- |\n",
    "| ORDER_DETAILS_code |\n",
    "| ORDER_DETAILS_QUANTITY_quantity |\n",
    "| ORDER_DETAILS_TOTAL_COST_total |\n",
    "| ORDER_DETAILS_TOTAL_MARGIN_margin |\n",
    "| ORDER_DETAILS_RETURN_CODE_returned |\n",
    "| ORDER_DETAILS_ORDER_NUMBER_order |\n",
    "| ORDER_DETAILS_PRODUCT_NUMBER_product |\n",
    "| ORDER_DETAILS_UNIT_ID_unit |\n",
    "\n",
    "| SALES_TARGETData |\n",
    "| --- |\n",
    "| SALES_TARGETDATA_id |\n",
    "| SALES_TARGETDATA_SALES_YEAR |\n",
    "| SALES_TARGETDATA_SALES_PERIOD |\n",
    "| SALES_TARGETDATA_RETAILER_NAME |\n",
    "| SALES_TARGETDATA_SALES_TARGET |\n",
    "| SALES_TARGETDATA_TARGET_COST |\n",
    "| SALES_TARGETDATA_TARGET_MARGIN |\n",
    "| SALES_TARGETDATA_SALES_STAFF_CODE |\n",
    "| SALES_TARGETDATA_PRODUCT_NUMBER |\n",
    "| SALES_TARGETDATA_RETAILER_CODE |\n",
    "\n",
    "| Training |\n",
    "| --- |\n",
    "| TRAINING_SALES_STAFF_CODE |\n",
    "| TRAINING_COURSE_CODE |\n",
    "| TRAINING_YEAR |\n",
    "\n",
    "| Satisfaction |\n",
    "| --- |\n",
    "| SATISFACTION_SALES_STAFF_CODE |\n",
    "| SATISFACTION_SATISFACTION_TYPE_CODE |\n",
    "| SATISFACTION_YEAR |\n",
    "\n",
    "| Order_header |\n",
    "| --- |\n",
    "| ORDER_HEADER_number |\n",
    "| ORDER_HEADER_RETAILER_NAME |\n",
    "| ORDER_HEADER_SALES_STAFF |\n",
    "| ORDER_HEADER_SALES_BRANCH_CODE |\n",
    "| ORDER_HEADER_ORDER_DATE |\n",
    "| ORDER_HEADER_RETAILER_SITE_CODE |\n",
    "| ORDER_HEADER_RETAILER_CONTACT_CODE |\n",
    "\n",
    "| GO_SALES_INVENTORY_LEVELS |\n",
    "| --- |\n",
    "| GO_SALES_INVENTORY_LEVELS_id |\n",
    "| GO_SALES_INVENTORY_LEVELS_INVENTORY_COUNT |\n",
    "| GO_SALES_INVENTORY_LEVELS_PRODUCT_NUMBER |\n",
    "| GO_SALES_INVENTORY_LEVELS_YEAR_MONTH |\n",
    "\n",
    "| GO_SALES_PRODUCT_FORECAST |\n",
    "| --- |\n",
    "| GO_SALES_PRODUCT_FORECAST_id |\n",
    "| GO_SALES_PRODUCT_FORECAST_EXPECTED_VOLUME |\n",
    "| GO_SALES_PRODUCT_FORECAST_EXPECTED_COST |\n",
    "| GO_SALES_PRODUCT_FORECAST_EXPECTED_MARGIN |\n",
    "| GO_SALES_PRODUCT_FORECAST_PRODUCT_NUMBER |\n",
    "| GO_SALES_PRODUCT_FORECAST_YEAR_MONTH |"
   ],
   "metadata": {
    "collapsed": false
   },
   "id": "9519bb1f61aa945f"
  },
  {
   "cell_type": "markdown",
   "source": [
    "### returned_item"
   ],
   "metadata": {
    "collapsed": false
   },
   "id": "e50f788702cce510"
  },
  {
   "cell_type": "code",
   "outputs": [
    {
     "name": "stdout",
     "output_type": "stream",
     "text": [
      "  RETURNED_ITEM_code RETURNED_ITEM_DATE_date RETURNED_ITEM_QUANTITY_quantity  \\\n",
      "0               1491       1-8-2021 04:10:24                               8   \n",
      "1               1492      6-12-2020 18:46:19                               2   \n",
      "2               1493      24-6-2021 09:23:14                              22   \n",
      "3               1494      21-7-2021 00:00:09                              20   \n",
      "4               1496      7-10-2020 05:13:58                               2   \n",
      "\n",
      "  RETURNED_ITEM_ORDER_DETAIL_CODE_detail_code  \\\n",
      "0                                       84858   \n",
      "1                                       84440   \n",
      "2                                       84867   \n",
      "3                                       84873   \n",
      "4                                       84488   \n",
      "\n",
      "  RETURNED_ITEM_RETURN_REASON_code RETURNED_ITEM_RETURN_REASON_desctiption_en  \n",
      "0                                5                     Unsatisfactory product  \n",
      "1                                2                         Incomplete product  \n",
      "2                                4                      Wrong product shipped  \n",
      "3                                3                      Wrong product ordered  \n",
      "4                                1                          Defective product  \n"
     ]
    }
   ],
   "source": [
    "# to be used in order details\n",
    "returned_item_columns = ['RETURN_CODE', 'RETURN_DATE', 'RETURN_QUANTITY', 'ORDER_DETAIL_CODE', 'RETURN_REASON_CODE', 'RETURN_DESCRIPTION_EN']\n",
    "returned_item = pd.merge(go_sales_returned_item, go_sales_return_reason, left_on='RETURN_REASON_CODE', right_on='RETURN_REASON_CODE')\n",
    "returned_item = pd.merge(returned_item, go_sales_order_details, left_on='ORDER_DETAIL_CODE', right_on='ORDER_DETAIL_CODE')\n",
    "\n",
    "# filtering the columns\n",
    "returned_item = returned_item[returned_item_columns]\n",
    "\n",
    "# renaming the columns\n",
    "returned_item = returned_item.rename(columns={'RETURN_CODE': 'RETURNED_ITEM_code', 'RETURN_DATE': 'RETURNED_ITEM_DATE_date', 'RETURN_QUANTITY': 'RETURNED_ITEM_QUANTITY_quantity', 'ORDER_DETAIL_CODE': 'RETURNED_ITEM_ORDER_DETAIL_CODE_detail_code', 'RETURN_REASON_CODE': 'RETURNED_ITEM_RETURN_REASON_code', 'RETURN_DESCRIPTION_EN': 'RETURNED_ITEM_RETURN_REASON_desctiption_en'})\n",
    "\n",
    "print(returned_item.head())"
   ],
   "metadata": {
    "collapsed": false,
    "ExecuteTime": {
     "end_time": "2024-03-11T20:35:46.147755Z",
     "start_time": "2024-03-11T20:35:46.128241Z"
    }
   },
   "id": "5ef006f254269ef",
   "execution_count": 11
  },
  {
   "cell_type": "markdown",
   "source": [
    "### Unit"
   ],
   "metadata": {
    "collapsed": false
   },
   "id": "1dff53c750360829"
  },
  {
   "cell_type": "code",
   "outputs": [
    {
     "name": "stdout",
     "output_type": "stream",
     "text": [
      "        UNIT_COST_cost UNIT_PRICE_price UNIT_SALE_sale\n",
      "UNIT_ID                                               \n",
      "1                 16.1            22.54          22.54\n",
      "2                 16.1            22.54          22.54\n",
      "3                 16.1            22.54          22.54\n",
      "4                 16.1            22.54          22.54\n",
      "5                 16.1            22.54          22.54\n"
     ]
    }
   ],
   "source": [
    "unit_columns = ['UNIT_COST', 'UNIT_PRICE', 'UNIT_SALE_PRICE']\n",
    "unit = go_sales_order_details\n",
    "# make unit_id the primary key, autoincrement\n",
    "unit['UNIT_ID'] = range(1, len(unit) + 1)\n",
    "unit = unit.set_index('UNIT_ID')\n",
    "\n",
    "# filtering the columns\n",
    "unit = unit[unit_columns]\n",
    "\n",
    "# renaming the columns\n",
    "unit = unit.rename(columns={'UNIT_COST': 'UNIT_COST_cost', 'UNIT_PRICE': 'UNIT_PRICE_price', 'UNIT_SALE_PRICE': 'UNIT_SALE_sale'})\n",
    "\n",
    "print(unit.head())"
   ],
   "metadata": {
    "collapsed": false,
    "ExecuteTime": {
     "end_time": "2024-03-11T20:35:46.159341Z",
     "start_time": "2024-03-11T20:35:46.149261Z"
    }
   },
   "id": "39396863b4c33a84",
   "execution_count": 12
  },
  {
   "cell_type": "markdown",
   "source": [
    "### Sales_staff"
   ],
   "metadata": {
    "collapsed": false
   },
   "id": "8527a5738e28b03"
  },
  {
   "cell_type": "code",
   "outputs": [
    {
     "name": "stdout",
     "output_type": "stream",
     "text": [
      "  SALES_STAFF_code        SALES_STAFF_email SALES_STAFF_extension  \\\n",
      "0              100  TSavolainen@grtd123.com                   825   \n",
      "1              101         CKim@grtd123.com                  1228   \n",
      "2              102        JChoi@grtd123.com                  2641   \n",
      "3              103        KKwao@grtd123.com                  1541   \n",
      "4              104         CFon@grtd123.com                  2311   \n",
      "\n",
      "  SALES_STAFF_POSITION_EN_position SALES_STAFF_WORK_PHONE_work_phone  \\\n",
      "0     Level 2 Sales Representative               +358(0)17 - 433 127   \n",
      "1     Level 2 Sales Representative                     82-2-778-6587   \n",
      "2     Level 3 Sales Representative                     82-2-778-6587   \n",
      "3     Level 2 Sales Representative                   886-2-2975-1988   \n",
      "4     Level 3 Sales Representative                   886-2-2975-1988   \n",
      "\n",
      "  SALES_STAFF_DATE_HIRED_hired SALES_STAFF_MANAGER_CODE_manager  \\\n",
      "0      23-Jul-1998 12:00:00 AM                               18   \n",
      "1      15-Dec-1998 12:00:00 AM                               87   \n",
      "2      27-Nov-1998 12:00:00 AM                               87   \n",
      "3      07-Oct-1998 12:00:00 AM                               87   \n",
      "4      08-May-1996 12:00:00 AM                               87   \n",
      "\n",
      "   SALES_STAFF_FAX_fax SALES_STAFF_FIRST_NAME_first_name  \\\n",
      "0  +358(0)17 - 433 129                            Tuomas   \n",
      "1        82-2-778-6586                          Chang-ho   \n",
      "2        82-2-778-6586                           Jung-ho   \n",
      "3      886-2-2989-4978                         Kwei-Ping   \n",
      "4      886-2-2989-4978                         Chin-Tsai   \n",
      "\n",
      "  SALES_STAFF_LAST_NAME_last_name SALES_STAFF_SALES_BRANCH_ADDRESS_address  \\\n",
      "0                      Savolainen                            Kauppakatu 33   \n",
      "1                             Kim                    234-12, Kongdeok-Dong   \n",
      "2                            Choi                    234-12, Kongdeok-Dong   \n",
      "3                             Kao             154, Choung-Cheng South Road   \n",
      "4                            Fang             154, Choung-Cheng South Road   \n",
      "\n",
      "  SALES_STAFF_SALES_BRANCH_ADDRESS_EXTRA_address_extra  \n",
      "0                                               None    \n",
      "1                                            Mapo-Ku    \n",
      "2                                            Mapo-Ku    \n",
      "3                                               None    \n",
      "4                                               None    \n"
     ]
    }
   ],
   "source": [
    "sales_staff_columns = ['SALES_STAFF_CODE', 'EMAIL', 'EXTENSION', 'POSITION_EN', 'WORK_PHONE', 'DATE_HIRED', 'MANAGER_CODE', 'FAX', 'FIRST_NAME', 'LAST_NAME',  'ADDRESS1', 'ADDRESS2']\n",
    "\n",
    "sales_staff = pd.merge(go_staff_sales_staff, go_staff_sales_branch, left_on='SALES_BRANCH_CODE', right_on='SALES_BRANCH_CODE')\n",
    "\n",
    "# filtering the columns\n",
    "sales_staff = sales_staff[sales_staff_columns]\n",
    "\n",
    "# renaming the columns\n",
    "sales_staff = sales_staff.rename(columns={'SALES_STAFF_CODE': 'SALES_STAFF_code', 'EMAIL': 'SALES_STAFF_email', 'EXTENSION': 'SALES_STAFF_extension', 'POSITION_EN': 'SALES_STAFF_POSITION_EN_position', 'WORK_PHONE': 'SALES_STAFF_WORK_PHONE_work_phone', 'DATE_HIRED': 'SALES_STAFF_DATE_HIRED_hired', 'MANAGER_CODE': 'SALES_STAFF_MANAGER_CODE_manager', 'FAX': 'SALES_STAFF_FAX_fax', 'FIRST_NAME': 'SALES_STAFF_FIRST_NAME_first_name', 'LAST_NAME': 'SALES_STAFF_LAST_NAME_last_name', 'ADDRESS1': 'SALES_STAFF_SALES_BRANCH_ADDRESS_address', 'ADDRESS2': 'SALES_STAFF_SALES_BRANCH_ADDRESS_EXTRA_address_extra'})\n",
    "\n",
    "print(sales_staff.head())"
   ],
   "metadata": {
    "collapsed": false,
    "ExecuteTime": {
     "end_time": "2024-03-11T20:35:46.169684Z",
     "start_time": "2024-03-11T20:35:46.160347Z"
    }
   },
   "id": "a2a698c093a007aa",
   "execution_count": 13
  },
  {
   "cell_type": "markdown",
   "source": [
    "### Satisfaction_type"
   ],
   "metadata": {
    "collapsed": false
   },
   "id": "b8305c040ff09ac7"
  },
  {
   "cell_type": "code",
   "outputs": [
    {
     "name": "stdout",
     "output_type": "stream",
     "text": [
      "  SATISFACTION_TYPE_code SATISFACTION_TYPE_DESCRIPTION\n",
      "0                      1                 Not satisfied\n",
      "1                      2           Less than satisfied\n",
      "2                      3                     Satisfied\n",
      "3                      4                Very Satisfied\n",
      "4                      5           More than satisfied\n"
     ]
    }
   ],
   "source": [
    "satisfaction_type = go_staff_satisfaction_type\n",
    "\n",
    "#dropping trial633 column\n",
    "satisfaction_type = satisfaction_type.drop(columns=['TRIAL633'])\n",
    "\n",
    "# rename the columns\n",
    "satisfaction_type = satisfaction_type.rename(columns={'SATISFACTION_TYPE_CODE': 'SATISFACTION_TYPE_code', 'DESCRIPTION': 'SATISFACTION_TYPE_description'})\n",
    "\n",
    "print(satisfaction_type.head())"
   ],
   "metadata": {
    "collapsed": false,
    "ExecuteTime": {
     "end_time": "2024-03-11T20:35:46.175198Z",
     "start_time": "2024-03-11T20:35:46.170188Z"
    }
   },
   "id": "b8cd201811c4486a",
   "execution_count": 14
  },
  {
   "cell_type": "markdown",
   "source": [
    "### Course"
   ],
   "metadata": {
    "collapsed": false
   },
   "id": "8b30a420eb8b3f9c"
  },
  {
   "cell_type": "code",
   "outputs": [
    {
     "name": "stdout",
     "output_type": "stream",
     "text": [
      "  COURSE_code COURSE_DESCRIPTION\n",
      "0           1     GO Orientation\n",
      "1           2   GO Communication\n",
      "2           3         GO Sales 1\n",
      "3           4         GO Sales 2\n",
      "4           5     GO Marketing 1\n"
     ]
    }
   ],
   "source": [
    "course = go_staff_course\n",
    "\n",
    "# dropping the trial633 column\n",
    "course = course.drop(columns=['TRIAL633'])\n",
    "\n",
    "# rename the columns\n",
    "course = course.rename(columns={'COURSE_CODE': 'COURSE_code', 'DESCRIPTION': 'COURSE_description'})\n",
    "\n",
    "print(course.head())"
   ],
   "metadata": {
    "collapsed": false,
    "ExecuteTime": {
     "end_time": "2024-03-11T20:35:46.183542Z",
     "start_time": "2024-03-11T20:35:46.176202Z"
    }
   },
   "id": "9a9a6afb42d95ce5",
   "execution_count": 15
  },
  {
   "cell_type": "markdown",
   "source": [
    "### Year"
   ],
   "metadata": {
    "collapsed": false
   },
   "id": "de6db3d986555551"
  },
  {
   "cell_type": "code",
   "outputs": [
    {
     "name": "stdout",
     "output_type": "stream",
     "text": [
      "Empty DataFrame\n",
      "Columns: []\n",
      "Index: [1990, 1991, 1992, 1993, 1994]\n"
     ]
    }
   ],
   "source": [
    "# to be used in training and satisfaction\n",
    "# making year dataframe with year as the primary key\n",
    "year = pd.DataFrame({'YEAR': pd.date_range(start='1/1/1990', end='1/1/2200').year})\n",
    "\n",
    "# adding all the years from the satisfaction and training data.\n",
    "year = pd.concat([year, pd.DataFrame({'YEAR': go_staff_training['YEAR']})])\n",
    "year = pd.concat([year, pd.DataFrame({'YEAR': go_staff_satisfaction['YEAR']})])\n",
    "\n",
    "# drop duplicates\n",
    "year = year.drop_duplicates()\n",
    "\n",
    "# setting the index\n",
    "year = year.set_index('YEAR')\n",
    "\n",
    "print(year.head())"
   ],
   "metadata": {
    "collapsed": false,
    "ExecuteTime": {
     "end_time": "2024-03-11T20:35:46.199694Z",
     "start_time": "2024-03-11T20:35:46.184547Z"
    }
   },
   "id": "c116ecb70b6f2ec7",
   "execution_count": 16
  },
  {
   "cell_type": "markdown",
   "source": [
    "### Date"
   ],
   "metadata": {
    "collapsed": false
   },
   "id": "ce00e33771b2020c"
  },
  {
   "cell_type": "code",
   "outputs": [
    {
     "name": "stdout",
     "output_type": "stream",
     "text": [
      "Empty DataFrame\n",
      "Columns: []\n",
      "Index: [1990-01-01 00:00:00, 1990-01-02 00:00:00, 1990-01-03 00:00:00, 1990-01-04 00:00:00, 1990-01-05 00:00:00]\n"
     ]
    }
   ],
   "source": [
    "# to be used in order header\n",
    "date = pd.DataFrame({'DATE_date': pd.date_range(start='1/1/1990', end='1/1/2200')})\n",
    "\n",
    "# adding all the years from the order header data\n",
    "date = pd.concat([date, pd.DataFrame({'DATE_date': go_sales_order_header['ORDER_DATE']})])\n",
    "\n",
    "# drop duplicates\n",
    "date = date.drop_duplicates()\n",
    "\n",
    "# setting the index\n",
    "date['DATE_date'] = pd.to_datetime(date['DATE_date']) # convert to datetime\n",
    "date = date.set_index('DATE_date')\n",
    "\n",
    "print(date.head())"
   ],
   "metadata": {
    "collapsed": false,
    "ExecuteTime": {
     "end_time": "2024-03-11T20:35:46.266761Z",
     "start_time": "2024-03-11T20:35:46.209206Z"
    }
   },
   "id": "69d3a65350544b07",
   "execution_count": 17
  },
  {
   "cell_type": "markdown",
   "source": [
    "### Order"
   ],
   "metadata": {
    "collapsed": false
   },
   "id": "2bc3e5abc438a754"
  },
  {
   "cell_type": "code",
   "outputs": [
    {
     "name": "stdout",
     "output_type": "stream",
     "text": [
      "                   ORDER_ORDER_METHOD_CODE_method_code  \\\n",
      "ORDER_order_number                                       \n",
      "1                                                    1   \n",
      "2                                                    2   \n",
      "3                                                    3   \n",
      "4                                                    4   \n",
      "5                                                    5   \n",
      "\n",
      "                   ORDER_ORDER_METHOD_EN_method  \n",
      "ORDER_order_number                               \n",
      "1                                           Fax  \n",
      "2                                     Telephone  \n",
      "3                                          Mail  \n",
      "4                                        E-mail  \n",
      "5                                           Web  \n"
     ]
    }
   ],
   "source": [
    "# to be used in order header\n",
    "# making order dataframe with order_number as the primary key \n",
    "order = pd.DataFrame({'ORDER_order_number': range(1, len(go_sales_order_method) + 1)})\n",
    "order['ORDER_ORDER_METHOD_CODE_method_code'] = go_sales_order_method['ORDER_METHOD_CODE']\n",
    "order['ORDER_ORDER_METHOD_EN_method'] = go_sales_order_method['ORDER_METHOD_EN']\n",
    "\n",
    "order = order.set_index('ORDER_order_number')\n",
    "\n",
    "print(order.head())"
   ],
   "metadata": {
    "collapsed": false,
    "ExecuteTime": {
     "end_time": "2024-03-11T20:35:46.279349Z",
     "start_time": "2024-03-11T20:35:46.274775Z"
    }
   },
   "id": "8886223a9425e744",
   "execution_count": 18
  },
  {
   "cell_type": "markdown",
   "source": [
    "### Retailer_site"
   ],
   "metadata": {
    "collapsed": false
   },
   "id": "3781ed63e51a8050"
  },
  {
   "cell_type": "code",
   "outputs": [
    {
     "name": "stdout",
     "output_type": "stream",
     "text": [
      "  RETAILER_SITE_code RETAILER_SITE_RETAILER_CODE_retailer_code  \\\n",
      "0                  1                                        89   \n",
      "1                 10                                        92   \n",
      "2                100                                        95   \n",
      "3                101                                        95   \n",
      "4                102                                       108   \n",
      "\n",
      "     RETAILER_SITE_ADDRESS1_address RETAILER_SITE_ADDRESS2_address  \\\n",
      "0                1117 Franklin Blvd                           None   \n",
      "1  Suite 1500, 802 Docklands Street                           None   \n",
      "2                    4830 Princeton                         Unit 2   \n",
      "3                  6630 Burnet Road                           None   \n",
      "4              2189 Louisville Road                           None   \n",
      "\n",
      "  RETAILER_SITE_CITY_city RETAILER_SITE_REGION_region  \\\n",
      "0                Winnipeg                    Manitoba   \n",
      "1               Vancouver            British Columbia   \n",
      "2             Albuquerque                  New Mexico   \n",
      "3                  Austin                       Texas   \n",
      "4            Independence                    Kentucky   \n",
      "\n",
      "  RETAILER_SITE_POSTAL_ZONE_postal_zone RETAILER_SITE_COUNTRY_CODE_country  \\\n",
      "0                               R2C 0M5                                  4   \n",
      "1                               V6E 3Z3                                  4   \n",
      "2                                 87186                                  3   \n",
      "3                                 78769                                  3   \n",
      "4                                 41051                                  3   \n",
      "\n",
      "  RETAILER_SITE_ACTIVE_INDICATOR_indicator  \n",
      "0                                        1  \n",
      "1                                        1  \n",
      "2                                        1  \n",
      "3                                        1  \n",
      "4                                        0  \n"
     ]
    }
   ],
   "source": [
    "retailer_site = go_sales_retailer_site\n",
    "\n",
    "# dropping the trial888 column\n",
    "retailer_site = retailer_site.drop(columns=['TRIAL888'])\n",
    "\n",
    "# rename the columns\n",
    "retailer_site = retailer_site.rename(columns={'RETAILER_SITE_CODE': 'RETAILER_SITE_code', 'COUNTRY_CODE': 'RETAILER_SITE_COUNTRY_CODE_country', 'CITY': 'RETAILER_SITE_CITY_city', 'REGION': 'RETAILER_SITE_REGION_region', 'POSTAL_ZONE': 'RETAILER_SITE_POSTAL_ZONE_postal_zone', 'RETAILER_CODE': 'RETAILER_SITE_RETAILER_CODE_retailer_code', 'ACTIVE_INDICATOR': 'RETAILER_SITE_ACTIVE_INDICATOR_indicator', 'ADDRESS1': 'RETAILER_SITE_ADDRESS1_address', 'ADDRESS2': 'RETAILER_SITE_ADDRESS2_address'})\n",
    "\n",
    "print(retailer_site.head())"
   ],
   "metadata": {
    "collapsed": false,
    "ExecuteTime": {
     "end_time": "2024-03-11T20:35:46.302758Z",
     "start_time": "2024-03-11T20:35:46.296862Z"
    }
   },
   "id": "c7039eac9d768041",
   "execution_count": 19
  },
  {
   "cell_type": "markdown",
   "source": [
    "### Sales_branch"
   ],
   "metadata": {
    "collapsed": false
   },
   "id": "a37a2a29eafdf0bd"
  },
  {
   "cell_type": "code",
   "outputs": [
    {
     "name": "stdout",
     "output_type": "stream",
     "text": [
      "  SALES_BRANCH_code SALES_BRANCH_ADDRESS1_address  \\\n",
      "0                13                Schwabentor 35   \n",
      "1                14              Leopoldstraße 36   \n",
      "2                15           Isafjordsgatan 30 C   \n",
      "3                17  7800, 756 - 6th Avenue. S.W.   \n",
      "4                18              789 Yonge Street   \n",
      "\n",
      "  SALES_BRANCH_ADDRESS2_address SALES_BRANCH_CITY_city  \\\n",
      "0                          None                Hamburg   \n",
      "1                          None                München   \n",
      "2                          None                  Kista   \n",
      "3                          None                Calgary   \n",
      "4                          None                Toronto   \n",
      "\n",
      "  SALES_BRANCH_REGION_region SALES_BRANCH_POSTAL_ZONE_postal_zone  \\\n",
      "0                       None                              D-22529   \n",
      "1                       None                              D-81241   \n",
      "2                       None                             S-164 40   \n",
      "3                    Alberta                              T2P 3Z0   \n",
      "4                    Ontario                              M2M 4K8   \n",
      "\n",
      "  SALES_BRANCH_COUNTRY_CODE_country  \n",
      "0                                 2  \n",
      "1                                 2  \n",
      "2                                10  \n",
      "3                                 4  \n",
      "4                                 4  \n"
     ]
    }
   ],
   "source": [
    "sales_branch = go_sales_sales_branch\n",
    "\n",
    "# dropping the trial888 column\n",
    "sales_branch = sales_branch.drop(columns=['TRIAL888'])\n",
    "\n",
    "# rename the columns\n",
    "sales_branch = sales_branch.rename(columns={'SALES_BRANCH_CODE': 'SALES_BRANCH_code', 'COUNTRY_CODE': 'SALES_BRANCH_COUNTRY_CODE_country', 'REGION': 'SALES_BRANCH_REGION_region', 'CITY': 'SALES_BRANCH_CITY_city', 'POSTAL_ZONE': 'SALES_BRANCH_POSTAL_ZONE_postal_zone', 'ADDRESS1': 'SALES_BRANCH_ADDRESS1_address', 'ADDRESS2': 'SALES_BRANCH_ADDRESS2_address', 'MAIN_ADDRESS': 'SALES_BRANCH_MAIN_ADDRESS_address'})\n",
    "\n",
    "print(sales_branch.head())"
   ],
   "metadata": {
    "collapsed": false,
    "ExecuteTime": {
     "end_time": "2024-03-11T20:35:46.362577Z",
     "start_time": "2024-03-11T20:35:46.356812Z"
    }
   },
   "id": "a48bae69916fd694",
   "execution_count": 20
  },
  {
   "cell_type": "markdown",
   "source": [
    "### Retailer_contact"
   ],
   "metadata": {
    "collapsed": false
   },
   "id": "9f351715913d1fe1"
  },
  {
   "cell_type": "code",
   "outputs": [
    {
     "name": "stdout",
     "output_type": "stream",
     "text": [
      "  RETAILER_CONTACT_code RETAILER_CONTACT_RETAILER_SITE_CODE_site_code  \\\n",
      "0                    10                                            14   \n",
      "1                   100                                            85   \n",
      "2                   101                                            84   \n",
      "3                   102                                            88   \n",
      "4                   103                                            92   \n",
      "\n",
      "  RETAILER_CONTACT_FIRST_NAME_first_name RETAILER_CONTACT_LAST_NAME_last_name  \\\n",
      "0                                  Frank                                Smith   \n",
      "1                                 Amanda                                Yates   \n",
      "2                                  Paula                              Schmidt   \n",
      "3                                Micheal                                  Tao   \n",
      "4                                   Jack                               Murphy   \n",
      "\n",
      "  RETAILER_CONTACT_JOB_POSITION_EN_position  \\\n",
      "0                           Chief Purchaser   \n",
      "1                             Stock Manager   \n",
      "2                       Assistant Purchaser   \n",
      "3                          District Manager   \n",
      "4                          District Manager   \n",
      "\n",
      "  RETAILER_CONTACT_EXTENSION_extension RETAILER_CONTACT_FAX_fax  \\\n",
      "0                                 2489         1 (514) 741-1610   \n",
      "1                                 None         1 (702) 369-2274   \n",
      "2                                 None         1 (702) 882-0978   \n",
      "3                                  445         1 (713) 524-3215   \n",
      "4                                 None         1 (305) 557-5478   \n",
      "\n",
      "      RETAILER_CONTACT_email RETAILER_CONTACT_GENDER_gender  \n",
      "0    FSmith@legolfeurinc.com                              M  \n",
      "1          Y2883@emertxe.com                              F  \n",
      "2          S8832@emertxe.com                              F  \n",
      "3          T8839@emertxe.com                              M  \n",
      "4  Murphy@eyedimensions3.com                              M  \n"
     ]
    }
   ],
   "source": [
    "retailer_contact = go_crm_retailer_contact\n",
    "\n",
    "# dropping the trial222 column\n",
    "retailer_contact = retailer_contact.drop(columns=['TRIAL222'])\n",
    "\n",
    "# rename the columns\n",
    "retailer_contact = retailer_contact.rename(columns={'RETAILER_CONTACT_CODE': 'RETAILER_CONTACT_code', 'E_MAIL': 'RETAILER_CONTACT_email', 'RETAILER_SITE_CODE': 'RETAILER_CONTACT_RETAILER_SITE_CODE_site_code', 'JOB_POSITION_EN': 'RETAILER_CONTACT_JOB_POSITION_EN_position', 'EXTENSION': 'RETAILER_CONTACT_EXTENSION_extension', 'FAX': 'RETAILER_CONTACT_FAX_fax', 'GENDER' : 'RETAILER_CONTACT_GENDER_gender', 'FIRST_NAME': 'RETAILER_CONTACT_FIRST_NAME_first_name', 'LAST_NAME': 'RETAILER_CONTACT_LAST_NAME_last_name'})\n",
    "\n",
    "print(retailer_contact.head())"
   ],
   "metadata": {
    "collapsed": false,
    "ExecuteTime": {
     "end_time": "2024-03-11T20:35:46.382383Z",
     "start_time": "2024-03-11T20:35:46.376589Z"
    }
   },
   "id": "225ad64b29a0ebd3",
   "execution_count": 21
  },
  {
   "cell_type": "markdown",
   "source": [
    "### Retailer"
   ],
   "metadata": {
    "collapsed": false
   },
   "id": "5440ce379eadccf3"
  },
  {
   "cell_type": "code",
   "outputs": [
    {
     "name": "stdout",
     "output_type": "stream",
     "text": [
      "  RETAILER_code RETAILER_CODEMR                COMPANY_NAME  \\\n",
      "0             1            None                   ActiForme   \n",
      "1           100              70                Golf Masters   \n",
      "2           101              71             The Marketplace   \n",
      "3           102              72    Camping Equipment Online   \n",
      "4           103              73  Tamarack Outfitter Rentals   \n",
      "\n",
      "  RETAILER_RETAILER_TYPE_retailer_type_code  \\\n",
      "0                                         5   \n",
      "1                                         1   \n",
      "2                                         2   \n",
      "3                                         3   \n",
      "4                                         5   \n",
      "\n",
      "  RETAILER_RETAILER_TYPE_retailer_type_EN  \n",
      "0                  Equipment Rental Store  \n",
      "1                               Golf Shop  \n",
      "2                        Department Store  \n",
      "3                        Direct Marketing  \n",
      "4                  Equipment Rental Store  \n"
     ]
    }
   ],
   "source": [
    "retailer = pd.merge(go_crm_retailer, go_crm_retailer_type, left_on='RETAILER_TYPE_CODE', right_on='RETAILER_TYPE_CODE')\n",
    "\n",
    "# dropping the trial219 and trial222 columns\n",
    "retailer = retailer.drop(columns=['TRIAL219', 'TRIAL222'])\n",
    "\n",
    "# rename the columns\n",
    "retailer = retailer.rename(columns={'RETAILER_CODE': 'RETAILER_code', 'RETAILER_NAME': 'RETAILER_name', 'COMPANY_CODEMR': 'RETAILER_COMPANY_CODEMR_company', 'RETAILER_TYPE_CODE': 'RETAILER_RETAILER_TYPE_retailer_type_code', 'RETAILER_TYPE_EN': 'RETAILER_RETAILER_TYPE_retailer_type_EN'})\n",
    "\n",
    "print(retailer.head())"
   ],
   "metadata": {
    "collapsed": false,
    "ExecuteTime": {
     "end_time": "2024-03-11T20:35:46.390183Z",
     "start_time": "2024-03-11T20:35:46.383387Z"
    }
   },
   "id": "71d9483bff7d0752",
   "execution_count": 22
  },
  {
   "cell_type": "markdown",
   "source": [
    "### Product"
   ],
   "metadata": {
    "collapsed": false
   },
   "id": "4294143c48572b68"
  },
  {
   "cell_type": "code",
   "outputs": [
    {
     "name": "stdout",
     "output_type": "stream",
     "text": [
      "  PRODUCT_number PRODUCT_INTRODUCTION_DATE_introduced  \\\n",
      "0              1                            15-2-2011   \n",
      "1             10                            15-2-2011   \n",
      "2            100                            15-2-2011   \n",
      "3            101                           15-12-2019   \n",
      "4            102                           10-12-2019   \n",
      "\n",
      "  PRODUCT_PRODUCT_TYPE_code PRODUCT_PRODUCTION_COST_cost  \\\n",
      "0                         1                            4   \n",
      "1                         1                           10   \n",
      "2                        17                            3   \n",
      "3                        18                       305.54   \n",
      "4                        18                       380.95   \n",
      "\n",
      "  PRODUCT_MARGIN_margin PRODUCT_image_image PRODUCT_LANGUAGE_language  \\\n",
      "0                   .33       P01CE1CG1.jpg                        EN   \n",
      "1                    .4       P10CE1CG1.jpg                        EN   \n",
      "2                    .5     P100OP4FA17.jpg                        EN   \n",
      "3                   .43     P101GE5IR18.jpg                        EN   \n",
      "4                   .51     P102GE5IR18.jpg                        EN   \n",
      "\n",
      "       PRODUCT_name_product  \\\n",
      "0       TrailChef Water Bag   \n",
      "1        TrailChef Utensils   \n",
      "2        Insect Bite Relief   \n",
      "3     Hailstorm Steel Irons   \n",
      "4  Hailstorm Titanium Irons   \n",
      "\n",
      "                     PRODUCT_description_description TRIAL888_x  \\\n",
      "0  Lightweight, collapsible bag to carry liquids ...          T   \n",
      "1  Spoon, fork and knife set made of a light yet ...          T   \n",
      "2  The Insect Bite Relief helps the itching and s...          T   \n",
      "3  Iron is 17-4 stainless steel.  Shafts are grap...          T   \n",
      "4  Made entirely of pure titanium. The ultimate i...          T   \n",
      "\n",
      "  PRODUCT_PRODUCT_LINE_code PRODUCT_PRODUCT_TYPE_code_en TRIAL888_y  \\\n",
      "0                         1                 Cooking Gear          T   \n",
      "1                         1                 Cooking Gear          T   \n",
      "2                         4                    First Aid          T   \n",
      "3                         5                        Irons          T   \n",
      "4                         5                        Irons          T   \n",
      "\n",
      "  PRODUCT_PRODUCT_LINE_code_en  \n",
      "0            Camping Equipment  \n",
      "1            Camping Equipment  \n",
      "2           Outdoor Protection  \n",
      "3               Golf Equipment  \n",
      "4               Golf Equipment  \n"
     ]
    }
   ],
   "source": [
    "product = pd.merge(go_sales_product, go_sales_product_type, left_on='PRODUCT_TYPE_CODE', right_on='PRODUCT_TYPE_CODE')\n",
    "product = pd.merge(product, go_sales_product_line, left_on='PRODUCT_LINE_CODE', right_on='PRODUCT_LINE_CODE')\n",
    "\n",
    "#dropping the trial888 column\n",
    "product = product.drop(columns=['TRIAL888'])\n",
    "\n",
    "# rename the columns\n",
    "product = product.rename(columns={'PRODUCT_NUMBER': 'PRODUCT_number', 'PRODUCT_NAME': 'PRODUCT_name_product', 'DESCRIPTION': 'PRODUCT_description_description', 'PRODUCT_IMAGE': 'PRODUCT_image_image', 'INTRODUCTION_DATE': 'PRODUCT_INTRODUCTION_DATE_introduced', 'PRODUCTION_COST': 'PRODUCT_PRODUCTION_COST_cost', 'MARGIN': 'PRODUCT_MARGIN_margin', 'LANGUAGE': 'PRODUCT_LANGUAGE_language',  'PRODUCT_TYPE_CODE': 'PRODUCT_PRODUCT_TYPE_code', 'PRODUCT_TYPE_EN': 'PRODUCT_PRODUCT_TYPE_code_en', 'PRODUCT_LINE_CODE': 'PRODUCT_PRODUCT_LINE_code', 'PRODUCT_LINE_EN': 'PRODUCT_PRODUCT_LINE_code_en'})\n",
    "\n",
    "print(product.head())"
   ],
   "metadata": {
    "collapsed": false,
    "ExecuteTime": {
     "end_time": "2024-03-11T20:35:46.429881Z",
     "start_time": "2024-03-11T20:35:46.421214Z"
    }
   },
   "id": "edddbd324315ff8e",
   "execution_count": 23
  },
  {
   "cell_type": "markdown",
   "source": [
    "### Order_details"
   ],
   "metadata": {
    "collapsed": false
   },
   "id": "3dd3f1237cd6217f"
  },
  {
   "cell_type": "code",
   "outputs": [
    {
     "name": "stdout",
     "output_type": "stream",
     "text": [
      "  ORDER_DETAIL_CODE ORDER_DETAILS_ORDER_NUMBER_order  \\\n",
      "0            100146                             8465   \n",
      "1            100149                             9116   \n",
      "2            100199                             9113   \n",
      "3            100250                             9254   \n",
      "4            100641                             9269   \n",
      "\n",
      "  ORDER_DETAILS_PRODUCT_NUMBER_product  ORDER_DETAILS_QUANTITY_quantity  \\\n",
      "0                                   15                               16   \n",
      "1                                   16                               64   \n",
      "2                                   30                               22   \n",
      "3                                   43                               52   \n",
      "4                                  111                                6   \n",
      "\n",
      "   ORDER_DETAILS_UNIT_ID_unit  ORDER_DETAILS_UNIT_ID_unit RETURNED_ITEM_code  \\\n",
      "0                         144                         144               1975   \n",
      "1                         147                         147               1976   \n",
      "2                         197                         197               1979   \n",
      "3                         248                         248               2298   \n",
      "4                         635                         635               2301   \n",
      "\n",
      "  RETURNED_ITEM_DATE_date RETURNED_ITEM_QUANTITY_quantity  \\\n",
      "0       9-8-2021 18:45:17                              16   \n",
      "1       6-7-2021 13:34:59                              64   \n",
      "2       6-7-2021 07:19:36                              22   \n",
      "3     14-12-2021 11:28:50                               6   \n",
      "4     19-12-2021 04:10:53                               6   \n",
      "\n",
      "  RETURNED_ITEM_ORDER_DETAIL_CODE_detail_code  \\\n",
      "0                                      100146   \n",
      "1                                      100149   \n",
      "2                                      100199   \n",
      "3                                      100250   \n",
      "4                                      100641   \n",
      "\n",
      "  RETURNED_ITEM_RETURN_REASON_code RETURNED_ITEM_RETURN_REASON_desctiption_en  \n",
      "0                                4                      Wrong product shipped  \n",
      "1                                5                     Unsatisfactory product  \n",
      "2                                4                      Wrong product shipped  \n",
      "3                                1                          Defective product  \n",
      "4                                4                      Wrong product shipped  \n"
     ]
    }
   ],
   "source": [
    "order_details = go_sales_order_details\n",
    "\n",
    "# replacing original columns with unit and returned_item\n",
    "order_details['ORDER_DETAILS_UNIT_ID_unit'] = unit.index\n",
    "\n",
    "# merging the returned_item and order_details\n",
    "order_details = pd.merge(order_details, returned_item, left_on='ORDER_DETAIL_CODE', right_on='RETURNED_ITEM_ORDER_DETAIL_CODE_detail_code')\n",
    "\n",
    "# dropping the columns replaced by unit and returned_item\n",
    "order_details = order_details.drop(columns=['UNIT_COST', 'UNIT_PRICE', 'UNIT_SALE_PRICE']) \n",
    "\n",
    "\n",
    "# dropping the trial879 column\n",
    "order_details = order_details.drop(columns=['TRIAL879'])\n",
    "\n",
    "# rename the columns\n",
    "order_details = order_details.rename(columns={'ORDER_DETAILS_CODE': 'ORDER_DETAILS_code', 'QUANTITY': 'ORDER_DETAILS_QUANTITY_quantity', 'TOTAL_COST': 'ORDER_DETAILS_TOTAL_COST_total', 'TOTAL_MARGIN': 'ORDER_DETAILS_TOTAL_MARGIN_margin', 'RETURN_CODE': 'ORDER_DETAILS_RETURN_CODE_returned', 'ORDER_NUMBER': 'ORDER_DETAILS_ORDER_NUMBER_order', 'PRODUCT_NUMBER': 'ORDER_DETAILS_PRODUCT_NUMBER_product', 'UNIT_ID': 'ORDER_DETAILS_UNIT_ID_unit'})\n",
    "\n",
    "print(order_details.head())"
   ],
   "metadata": {
    "collapsed": false,
    "ExecuteTime": {
     "end_time": "2024-03-11T20:35:46.451461Z",
     "start_time": "2024-03-11T20:35:46.436886Z"
    }
   },
   "id": "9709a31ccd988768",
   "execution_count": 24
  },
  {
   "cell_type": "markdown",
   "source": [
    "### Training"
   ],
   "metadata": {
    "collapsed": false
   },
   "id": "8b73e9b4b1cca021"
  },
  {
   "cell_type": "code",
   "outputs": [
    {
     "name": "stdout",
     "output_type": "stream",
     "text": [
      "  TRAINING_YEAR TRAINING_SALES_STAFF_CODE TRAINING_COURSE_CODE COURSE_code  \\\n",
      "0          2004                       100                    2           2   \n",
      "1          2004                       100                    3           3   \n",
      "2          2004                       100                    4           4   \n",
      "3          2005                       100                    5           5   \n",
      "4          2006                       100                    6           6   \n",
      "\n",
      "  COURSE_DESCRIPTION  \n",
      "0   GO Communication  \n",
      "1         GO Sales 1  \n",
      "2         GO Sales 2  \n",
      "3     GO Marketing 1  \n",
      "4     GO Marketing 2  \n"
     ]
    }
   ],
   "source": [
    "training = go_staff_training\n",
    "\n",
    "# replacing the original columns with year and course\n",
    "# merging the year and course\n",
    "training = pd.merge(training, year, left_on='YEAR', right_on='YEAR')\n",
    "training = pd.merge(training, course, left_on='COURSE_CODE', right_on='COURSE_code')\n",
    "\n",
    "# dropping the trial633 column\n",
    "training = training.drop(columns=['TRIAL633'])\n",
    "\n",
    "# rename the columns\n",
    "training = training.rename(columns={'SALES_STAFF_CODE': 'TRAINING_SALES_STAFF_CODE', 'COURSE_CODE': 'TRAINING_COURSE_CODE', 'YEAR': 'TRAINING_YEAR'})\n",
    "\n",
    "print(training.head())\n"
   ],
   "metadata": {
    "collapsed": false,
    "ExecuteTime": {
     "end_time": "2024-03-11T20:35:46.460620Z",
     "start_time": "2024-03-11T20:35:46.453965Z"
    }
   },
   "id": "25a1efa0fab720ea",
   "execution_count": 25
  },
  {
   "cell_type": "markdown",
   "source": [
    "### Satisfaction"
   ],
   "metadata": {
    "collapsed": false
   },
   "id": "fafe9322068f9bcb"
  },
  {
   "cell_type": "code",
   "outputs": [
    {
     "name": "stdout",
     "output_type": "stream",
     "text": [
      "  SATISFACTION_YEAR SATISFACTION_SALES_STAFF_CODE  \\\n",
      "0              2004                           100   \n",
      "1              2004                           101   \n",
      "2              2004                           102   \n",
      "3              2004                           103   \n",
      "4              2004                           104   \n",
      "\n",
      "  SATISFACTION_SATISFACTION_TYPE_CODE SATISFACTION_TYPE_code  \\\n",
      "0                                   1                      1   \n",
      "1                                   4                      4   \n",
      "2                                   4                      4   \n",
      "3                                   3                      3   \n",
      "4                                   4                      4   \n",
      "\n",
      "  SATISFACTION_TYPE_DESCRIPTION  \n",
      "0                 Not satisfied  \n",
      "1                Very Satisfied  \n",
      "2                Very Satisfied  \n",
      "3                     Satisfied  \n",
      "4                Very Satisfied  \n"
     ]
    }
   ],
   "source": [
    "satisfaction = go_staff_satisfaction\n",
    "\n",
    "# replacing the original columns with year and satisfaction_type\n",
    "# merging the year and satisfaction_type\n",
    "satisfaction = pd.merge(satisfaction, year, left_on='YEAR', right_on='YEAR')\n",
    "satisfaction = pd.merge(satisfaction, satisfaction_type, left_on='SATISFACTION_TYPE_CODE', right_on='SATISFACTION_TYPE_code')\n",
    "\n",
    "# dropping the trial633 column\n",
    "satisfaction = satisfaction.drop(columns=['TRIAL633'])\n",
    "\n",
    "# rename the columns\n",
    "satisfaction = satisfaction.rename(columns={'SALES_STAFF_CODE': 'SATISFACTION_SALES_STAFF_CODE', 'SATISFACTION_TYPE_CODE': 'SATISFACTION_SATISFACTION_TYPE_CODE', 'YEAR': 'SATISFACTION_YEAR'})\n",
    "\n",
    "print(satisfaction.head())"
   ],
   "metadata": {
    "collapsed": false,
    "ExecuteTime": {
     "end_time": "2024-03-11T20:35:46.514438Z",
     "start_time": "2024-03-11T20:35:46.507666Z"
    }
   },
   "id": "1f79b295694d9060",
   "execution_count": 26
  },
  {
   "cell_type": "markdown",
   "source": [
    "### Order_header"
   ],
   "metadata": {
    "collapsed": false
   },
   "id": "a2de04bb43925941"
  },
  {
   "cell_type": "code",
   "outputs": [
    {
     "name": "stdout",
     "output_type": "stream",
     "text": [
      "  ORDER_HEADER_number ORDER_HEADER_RETAILER_NAME  \\\n",
      "0                1153               Ultra Sports   \n",
      "1                1153               Ultra Sports   \n",
      "2                1154               Ultra Sports   \n",
      "3                1154               Ultra Sports   \n",
      "4                1155               Ultra Sports   \n",
      "\n",
      "  ORDER_HEADER_RETAILER_SITE_CODE ORDER_HEADER_RETAILER_CONTACT_CODE  \\\n",
      "0                               4                                  6   \n",
      "1                               4                                  6   \n",
      "2                               4                                  6   \n",
      "3                               4                                  6   \n",
      "4                               5                                 65   \n",
      "\n",
      "  ORDER_HEADER_SALES_STAFF ORDER_HEADER_SALES_BRANCH_CODE  \\\n",
      "0                       50                             18   \n",
      "1                       50                             18   \n",
      "2                       50                             18   \n",
      "3                       50                             18   \n",
      "4                       49                             18   \n",
      "\n",
      "  ORDER_HEADER_ORDER_DATE ORDER_METHOD_CODE RETAILER_code RETAILER_CODEMR  \\\n",
      "0              2020-04-14                 7            90               2   \n",
      "1              2020-04-14                 7            90               2   \n",
      "2              2020-10-01                 4            90               2   \n",
      "3              2020-10-01                 4            90               2   \n",
      "4              2020-04-21                 7            90               2   \n",
      "\n",
      "   ... RETAILER_SITE_ACTIVE_INDICATOR_indicator RETAILER_CONTACT_code  \\\n",
      "0  ...                                        1                     6   \n",
      "1  ...                                        1                     6   \n",
      "2  ...                                        1                     6   \n",
      "3  ...                                        1                     6   \n",
      "4  ...                                        1                    65   \n",
      "\n",
      "  RETAILER_CONTACT_RETAILER_SITE_CODE_site_code  \\\n",
      "0                                             4   \n",
      "1                                             4   \n",
      "2                                             4   \n",
      "3                                             4   \n",
      "4                                             5   \n",
      "\n",
      "  RETAILER_CONTACT_FIRST_NAME_first_name RETAILER_CONTACT_LAST_NAME_last_name  \\\n",
      "0                                  Marie                             Turcotte   \n",
      "1                                  Marie                             Turcotte   \n",
      "2                                  Marie                             Turcotte   \n",
      "3                                  Marie                             Turcotte   \n",
      "4                                 Andrea                              Martens   \n",
      "\n",
      "  RETAILER_CONTACT_JOB_POSITION_EN_position  \\\n",
      "0                       Assistant Purchaser   \n",
      "1                       Assistant Purchaser   \n",
      "2                       Assistant Purchaser   \n",
      "3                       Assistant Purchaser   \n",
      "4                             Stock Manager   \n",
      "\n",
      "  RETAILER_CONTACT_EXTENSION_extension RETAILER_CONTACT_FAX_fax  \\\n",
      "0                                  635         1 (514) 747-2582   \n",
      "1                                  635         1 (514) 747-2582   \n",
      "2                                  635         1 (514) 747-2582   \n",
      "3                                  635         1 (514) 747-2582   \n",
      "4                                 None         1 (705) 675-9848   \n",
      "\n",
      "    RETAILER_CONTACT_email RETAILER_CONTACT_GENDER_gender  \n",
      "0  MTurcotte@cybserv19.com                              F  \n",
      "1  MTurcotte@cybserv19.com                              F  \n",
      "2  MTurcotte@cybserv19.com                              F  \n",
      "3  MTurcotte@cybserv19.com                              F  \n",
      "4   AMartens@cybserv19.com                              F  \n",
      "\n",
      "[5 rows x 43 columns]\n"
     ]
    }
   ],
   "source": [
    "order_header = pd.merge(go_sales_order_header, retailer, left_on='RETAILER_NAME', right_on='COMPANY_NAME')\n",
    "\n",
    "# converting the date to datetime\n",
    "order_header['ORDER_DATE'] = pd.to_datetime(order_header['ORDER_DATE'])\n",
    "\n",
    "# replacing the original columns with date, sales_staff, retailer_site and retailer_contact\n",
    "# merging the date, sales_staff, retailer_site and retailer_contact\n",
    "order_header = pd.merge(order_header, date, left_on='ORDER_DATE', right_on='DATE_date')\n",
    "order_header = pd.merge(order_header, sales_staff, left_on='SALES_STAFF_CODE', right_on='SALES_STAFF_code')\n",
    "order_header = pd.merge(order_header, retailer_site, left_on='RETAILER_SITE_CODE', right_on='RETAILER_SITE_code')\n",
    "order_header = pd.merge(order_header, retailer_contact, left_on='RETAILER_CONTACT_CODE', right_on='RETAILER_CONTACT_code')\n",
    "\n",
    "# dropping the trial885 column\n",
    "order_header = order_header.drop(columns=['TRIAL885'])\n",
    "\n",
    "# rename the columns\n",
    "order_header = order_header.rename(columns={'ORDER_NUMBER': 'ORDER_HEADER_number', 'RETAILER_NAME': 'ORDER_HEADER_RETAILER_NAME', 'SALES_STAFF_CODE': 'ORDER_HEADER_SALES_STAFF', 'SALES_BRANCH_CODE': 'ORDER_HEADER_SALES_BRANCH_CODE', 'ORDER_DATE': 'ORDER_HEADER_ORDER_DATE', 'RETAILER_SITE_CODE': 'ORDER_HEADER_RETAILER_SITE_CODE', 'RETAILER_CONTACT_CODE': 'ORDER_HEADER_RETAILER_CONTACT_CODE'})\n",
    "\n",
    "print(order_header.head())"
   ],
   "metadata": {
    "collapsed": false,
    "ExecuteTime": {
     "end_time": "2024-03-11T20:35:46.577580Z",
     "start_time": "2024-03-11T20:35:46.534033Z"
    }
   },
   "id": "1b4956744dca5608",
   "execution_count": 27
  },
  {
   "cell_type": "markdown",
   "source": [
    "### GO_SALES_INVENTORY_LEVELS"
   ],
   "metadata": {
    "collapsed": false
   },
   "id": "dc092095fec002b"
  },
  {
   "cell_type": "code",
   "outputs": [
    {
     "name": "stdout",
     "output_type": "stream",
     "text": [
      "   INVENTORY_YEAR  INVENTORY_MONTH  GO_SALES_INVENTORY_LEVELS_PRODUCT_NUMBER  \\\n",
      "0            2021                4                                        48   \n",
      "1            2021                4                                        49   \n",
      "2            2021                4                                        50   \n",
      "3            2021                4                                        51   \n",
      "4            2021                4                                        52   \n",
      "\n",
      "   GO_SALES_INVENTORY_LEVELS_INVENTORY_COUNT  \n",
      "0                                       1932  \n",
      "1                                       1400  \n",
      "2                                      21705  \n",
      "3                                       9710  \n",
      "4                                       5616  \n"
     ]
    }
   ],
   "source": [
    "go_sales_inventory_levels = go_sales_inventory_levels.rename(columns={'INVENTORY_COUNT': 'GO_SALES_INVENTORY_LEVELS_INVENTORY_COUNT', 'PRODUCT_NUMBER': 'GO_SALES_INVENTORY_LEVELS_PRODUCT_NUMBER', 'YEAR_MONTH': 'GO_SALES_INVENTORY_LEVELS_YEAR_MONTH'})\n",
    "\n",
    "print(go_sales_inventory_levels.head())"
   ],
   "metadata": {
    "collapsed": false,
    "ExecuteTime": {
     "end_time": "2024-03-11T20:35:46.622646Z",
     "start_time": "2024-03-11T20:35:46.618138Z"
    }
   },
   "id": "9ab2574dc17f0c43",
   "execution_count": 28
  },
  {
   "cell_type": "markdown",
   "source": [
    "### GO_SALES_PRODUCT_FORECAST"
   ],
   "metadata": {
    "collapsed": false
   },
   "id": "63ea2b3ff0c095ae"
  },
  {
   "cell_type": "code",
   "outputs": [
    {
     "name": "stdout",
     "output_type": "stream",
     "text": [
      "   GO_SALES_PRODUCT_FORECAST_PRODUCT_NUMBER  YEAR  MONTH  \\\n",
      "0                                        44  2022     12   \n",
      "1                                        45  2021      1   \n",
      "2                                        45  2021      2   \n",
      "3                                        45  2021      3   \n",
      "4                                        45  2021      4   \n",
      "\n",
      "   GO_SALES_PRODUCT_FORECAST_EXPECTED_VOLUME  \n",
      "0                                        383  \n",
      "1                                         80  \n",
      "2                                         51  \n",
      "3                                        214  \n",
      "4                                        300  \n"
     ]
    }
   ],
   "source": [
    "go_sales_product_forecast = go_sales_product_forcast.rename(columns={'EXPECTED_VOLUME': 'GO_SALES_PRODUCT_FORECAST_EXPECTED_VOLUME', 'EXPECTED_COST': 'GO_SALES_PRODUCT_FORECAST_EXPECTED_COST', 'EXPECTED_MARGIN': 'GO_SALES_PRODUCT_FORECAST_EXPECTED_MARGIN', 'PRODUCT_NUMBER': 'GO_SALES_PRODUCT_FORECAST_PRODUCT_NUMBER', 'YEAR_MONTH': 'GO_SALES_PRODUCT_FORECAST_YEAR_MONTH'})\n",
    "\n",
    "print(go_sales_product_forecast.head())"
   ],
   "metadata": {
    "collapsed": false,
    "ExecuteTime": {
     "end_time": "2024-03-11T20:35:46.651483Z",
     "start_time": "2024-03-11T20:35:46.646683Z"
    }
   },
   "id": "288d7bec80d4571",
   "execution_count": 29
  },
  {
   "cell_type": "markdown",
   "source": [
    "# Omzetten van de data\n",
    "Omzetten van de data naar de juiste data types"
   ],
   "metadata": {
    "collapsed": false
   },
   "id": "45c89ff036eca58f"
  },
  {
   "cell_type": "code",
   "outputs": [],
   "source": [
    "#TODO"
   ],
   "metadata": {
    "collapsed": false,
    "ExecuteTime": {
     "end_time": "2024-03-11T20:35:46.716788Z",
     "start_time": "2024-03-11T20:35:46.714544Z"
    }
   },
   "id": "cacf55cc4c604fca",
   "execution_count": 30
  },
  {
   "cell_type": "markdown",
   "source": [
    "# Toevoegen van nieuwe kolommen\n",
    "Toevoegen van de afgeleide informatie die ook in het ETL en de data warehouse moet komen"
   ],
   "metadata": {
    "collapsed": false
   },
   "id": "36159d94f009e1a3"
  },
  {
   "cell_type": "code",
   "outputs": [],
   "source": [
    "#TODO"
   ],
   "metadata": {
    "collapsed": false,
    "ExecuteTime": {
     "end_time": "2024-03-11T20:35:46.721715Z",
     "start_time": "2024-03-11T20:35:46.718807Z"
    }
   },
   "id": "a603455041afffbb",
   "execution_count": 31
  }
 ],
 "metadata": {
  "kernelspec": {
   "display_name": "Python 3",
   "language": "python",
   "name": "python3"
  },
  "language_info": {
   "codemirror_mode": {
    "name": "ipython",
    "version": 2
   },
   "file_extension": ".py",
   "mimetype": "text/x-python",
   "name": "python",
   "nbconvert_exporter": "python",
   "pygments_lexer": "ipython2",
   "version": "2.7.6"
  }
 },
 "nbformat": 4,
 "nbformat_minor": 5
}
