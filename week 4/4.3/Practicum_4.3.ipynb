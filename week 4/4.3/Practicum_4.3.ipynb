{
 "cells": [
  {
   "cell_type": "markdown",
   "id": "d086cc99c4d69011",
   "metadata": {
    "collapsed": false
   },
   "source": [
    "Practicumopdrachten Week 4.3 (eerste kans)"
   ]
  },
  {
   "cell_type": "code",
   "execution_count": 1,
   "id": "53ceadd40e419431",
   "metadata": {
    "collapsed": false,
    "ExecuteTime": {
     "end_time": "2024-03-14T14:52:21.141323Z",
     "start_time": "2024-03-14T14:52:20.343498Z"
    }
   },
   "outputs": [],
   "source": [
    "import pandas as pd\n",
    "import pyodbc\n",
    "import sqlite3\n",
    "import numpy as np\n",
    "import re\n",
    "import sys"
   ]
  },
  {
   "cell_type": "markdown",
   "id": "823d7a97f719ddcb",
   "metadata": {
    "collapsed": false
   },
   "source": [
    "# Mssql database\n",
    "Mssql server database"
   ]
  },
  {
   "cell_type": "code",
   "execution_count": 2,
   "id": "150761955324b009",
   "metadata": {
    "collapsed": false,
    "ExecuteTime": {
     "end_time": "2024-03-14T14:52:22.106981Z",
     "start_time": "2024-03-14T14:52:22.103344Z"
    }
   },
   "outputs": [],
   "source": [
    "# database name\n",
    "DB = {\n",
    "    'servername': '(local)\\\\SQLEXPRESS',\n",
    "    'database': 'DEDS_DataWarehouse',}"
   ]
  },
  {
   "cell_type": "markdown",
   "id": "2786f3955bc198b8",
   "metadata": {
    "collapsed": false
   },
   "source": [
    "## Database aanmaken"
   ]
  },
  {
   "cell_type": "code",
   "execution_count": 3,
   "id": "47dcfac02c67d8e9",
   "metadata": {
    "collapsed": false,
    "ExecuteTime": {
     "end_time": "2024-03-14T14:52:22.840269Z",
     "start_time": "2024-03-14T14:52:22.174931Z"
    }
   },
   "outputs": [],
   "source": [
    "# Connect to the SQL Server database, not a specific database but the master\n",
    "conn = pyodbc.connect('DRIVER={SQL Server};SERVER=' + DB['servername'] + ';DATABASE=master;Trusted_Connection=yes')\n",
    "\n",
    "# Create a cursor object\n",
    "cur = conn.cursor()\n",
    "\n",
    "try:\n",
    "    # Kill all active connections to the database\n",
    "    cur.execute(\"\"\"\n",
    "        DECLARE @kill varchar(8000) = '';\n",
    "        SELECT @kill = @kill + 'kill ' + convert(varchar, spid) + ';'\n",
    "        FROM master.dbo.sysprocesses\n",
    "        WHERE dbid = db_id('{database}')\n",
    "        AND spid <> @@spid;\n",
    "        EXEC(@kill);\n",
    "    \"\"\".format(database=DB['database']))\n",
    "    conn.commit()\n",
    "\n",
    "    # Close the current connection\n",
    "    cur.close()\n",
    "    conn.close()\n",
    "\n",
    "    # Reconnect to the SQL Server database\n",
    "    conn = pyodbc.connect('DRIVER={SQL Server};SERVER=' + DB['servername'] + ';DATABASE=master;Trusted_Connection=yes')\n",
    "    cur = conn.cursor()\n",
    "\n",
    "    # Read the SQL script file\n",
    "    with open('DEDS_DataWarehouse_Creation_Script.sql', 'r') as file:\n",
    "        sql_script = file.read()\n",
    "\n",
    "    # Split the SQL script into individual statements\n",
    "    sql_statements = re.split(r'GO\\n', sql_script)\n",
    "\n",
    "    # Execute the DROP DATABASE statement\n",
    "    drop_database_stmt = sql_statements[0]\n",
    "    cur.execute(drop_database_stmt)\n",
    "\n",
    "    # Execute the CREATE DATABASE statement\n",
    "    create_database_stmt = sql_statements[1]\n",
    "    cur.execute(create_database_stmt)\n",
    "\n",
    "    # Start a new transaction\n",
    "    conn.autocommit = False\n",
    "\n",
    "    # Execute the remaining SQL statements within the transaction\n",
    "    for sql_statement in sql_statements[2:]:\n",
    "        cur.execute(sql_statement)\n",
    "\n",
    "    # Commit the transaction\n",
    "    conn.commit()\n",
    "\n",
    "except pyodbc.Error as e:\n",
    "    print(f\"Error: {e}\")\n",
    "    conn.rollback()\n",
    "    sys.exit(1)\n",
    "\n",
    "finally:\n",
    "    # Close the cursor\n",
    "    cur.close()\n",
    "\n",
    "    # Close the connection\n",
    "    conn.close()"
   ]
  },
  {
   "cell_type": "markdown",
   "id": "8ad6ccb5da326445",
   "metadata": {
    "collapsed": false
   },
   "source": [
    "## Database connectie"
   ]
  },
  {
   "cell_type": "code",
   "execution_count": 4,
   "id": "948252c29b10a629",
   "metadata": {
    "collapsed": false,
    "ExecuteTime": {
     "end_time": "2024-03-14T14:52:22.897625Z",
     "start_time": "2024-03-14T14:52:22.842395Z"
    }
   },
   "outputs": [
    {
     "name": "stdout",
     "output_type": "stream",
     "text": [
      "Connection with database is established\n"
     ]
    }
   ],
   "source": [
    "export_conn = pyodbc.connect('DRIVER={SQL Server};SERVER=' + DB['servername'] + ';DATABASE=' + DB['database'] + ';Trusted_Connection=yes')\n",
    "\n",
    "\n",
    "# Create a cursor from the connection\n",
    "export_cursor = export_conn.cursor()\n",
    "\n",
    "# check if connection is successful, else throw an error\n",
    "if export_conn:\n",
    "    print(\"Connection with database is established\")\n",
    "    # setting the autocommit to True\n",
    "    export_conn.autocommit = True\n",
    "else:\n",
    "    print(\"Connection with database is not established\")\n",
    "    raise Exception(\"Connection with database is not established\")\n"
   ]
  },
  {
   "cell_type": "markdown",
   "id": "9c06294903211408",
   "metadata": {
    "collapsed": false
   },
   "source": [
    "# Brontabellen\n",
    "importeer de brontabellen uit de brondata folder"
   ]
  },
  {
   "cell_type": "code",
   "execution_count": 5,
   "id": "7e3485e0d80801c9",
   "metadata": {
    "collapsed": false,
    "ExecuteTime": {
     "end_time": "2024-03-14T14:52:22.904179Z",
     "start_time": "2024-03-14T14:52:22.898745Z"
    }
   },
   "outputs": [],
   "source": [
    "# Connectie met sqlite databases\n",
    "go_crm_connection = sqlite3.connect('data/raw/go_crm.sqlite')\n",
    "go_sales_connection = sqlite3.connect('data/raw/go_sales.sqlite')\n",
    "go_staff_connection = sqlite3.connect('data/raw/go_staff.sqlite')\n"
   ]
  },
  {
   "cell_type": "code",
   "execution_count": 6,
   "id": "80afb12db9f862d",
   "metadata": {
    "collapsed": false,
    "ExecuteTime": {
     "end_time": "2024-03-14T14:52:22.922466Z",
     "start_time": "2024-03-14T14:52:22.905301Z"
    }
   },
   "outputs": [],
   "source": [
    "# inlezen csv bestanden\n",
    "go_sales_inventory_levels = pd.read_csv('data/raw/GO_SALES_INVENTORY_LEVELSData.csv')\n",
    "go_sales_product_forcast = pd.read_csv('data/raw/GO_SALES_PRODUCT_FORECASTData.csv')"
   ]
  },
  {
   "cell_type": "markdown",
   "id": "e4ca8a748b700495",
   "metadata": {
    "collapsed": false
   },
   "source": [
    "## Inlezen van de sqlite tabellen"
   ]
  },
  {
   "cell_type": "markdown",
   "id": "94c4cad4f19bfd1e",
   "metadata": {
    "collapsed": false
   },
   "source": [
    "### go_crm"
   ]
  },
  {
   "cell_type": "code",
   "execution_count": 7,
   "id": "689787d21e2dd6f3",
   "metadata": {
    "collapsed": false,
    "ExecuteTime": {
     "end_time": "2024-03-14T14:52:22.944686Z",
     "start_time": "2024-03-14T14:52:22.923588Z"
    }
   },
   "outputs": [],
   "source": [
    "go_crm_age_group = pd.read_sql_query(\"SELECT * FROM age_group\", go_crm_connection)\n",
    "go_crm_country = pd.read_sql_query(\"SELECT * FROM country\", go_crm_connection)\n",
    "go_crm_retailer = pd.read_sql_query(\"SELECT * FROM retailer\", go_crm_connection)\n",
    "go_crm_retailer_contact = pd.read_sql_query(\"SELECT * FROM retailer_contact\", go_crm_connection)\n",
    "go_crm_retailer_headquarters = pd.read_sql_query(\"SELECT * FROM retailer_headquarters\", go_crm_connection)\n",
    "go_crm_retailer_segment = pd.read_sql_query(\"SELECT * FROM retailer_segment\", go_crm_connection)\n",
    "go_crm_retailer_site = pd.read_sql_query(\"SELECT * FROM retailer_site\", go_crm_connection)\n",
    "go_crm_retailer_type = pd.read_sql_query(\"SELECT * FROM retailer_type\", go_crm_connection)\n",
    "go_crm_sales_demographic = pd.read_sql_query(\"SELECT * FROM sales_demographic\", go_crm_connection)\n",
    "go_crm_sales_territory = pd.read_sql_query(\"SELECT * FROM sales_territory\", go_crm_connection)"
   ]
  },
  {
   "cell_type": "markdown",
   "id": "c0d3bb6ca017c9f5",
   "metadata": {
    "collapsed": false
   },
   "source": [
    "### go_sales"
   ]
  },
  {
   "cell_type": "code",
   "execution_count": 8,
   "id": "57ccae2b6fd7637c",
   "metadata": {
    "collapsed": false,
    "ExecuteTime": {
     "end_time": "2024-03-14T14:52:23.210184Z",
     "start_time": "2024-03-14T14:52:22.946821Z"
    }
   },
   "outputs": [],
   "source": [
    "go_sales_country = pd.read_sql_query(\"SELECT * FROM country\", go_sales_connection)\n",
    "go_sales_order_details = pd.read_sql_query(\"SELECT * FROM order_details\", go_sales_connection)\n",
    "go_sales_order_header = pd.read_sql_query(\"SELECT * FROM order_header\", go_sales_connection)\n",
    "go_sales_order_method = pd.read_sql_query(\"SELECT * FROM order_method\", go_sales_connection)\n",
    "go_sales_product = pd.read_sql_query(\"SELECT * FROM product\", go_sales_connection)\n",
    "go_sales_product_line = pd.read_sql_query(\"SELECT * FROM product_line\", go_sales_connection)\n",
    "go_sales_product_type = pd.read_sql_query(\"SELECT * FROM product_type\", go_sales_connection)\n",
    "go_sales_retailer_site = pd.read_sql_query(\"SELECT * FROM retailer_site\", go_sales_connection)\n",
    "go_sales_return_reason = pd.read_sql_query(\"SELECT * FROM return_reason\", go_sales_connection)\n",
    "go_sales_returned_item = pd.read_sql_query(\"SELECT * FROM returned_item\", go_sales_connection)\n",
    "go_sales_sales_branch = pd.read_sql_query(\"SELECT * FROM sales_branch\", go_sales_connection)\n",
    "go_sales_sales_staff = pd.read_sql_query(\"SELECT * FROM sales_staff\", go_sales_connection)\n",
    "go_sales_sales_target_data = pd.read_sql(\"SELECT * FROM SALES_TARGETData\", go_sales_connection)"
   ]
  },
  {
   "cell_type": "markdown",
   "id": "169a4aba88468c64",
   "metadata": {
    "collapsed": false
   },
   "source": [
    "### go_staff"
   ]
  },
  {
   "cell_type": "code",
   "execution_count": 9,
   "id": "2f2206ef6f8f73ef",
   "metadata": {
    "collapsed": false,
    "ExecuteTime": {
     "end_time": "2024-03-14T14:52:23.221943Z",
     "start_time": "2024-03-14T14:52:23.211311Z"
    }
   },
   "outputs": [],
   "source": [
    "go_staff_course = pd.read_sql_query(\"SELECT * FROM course\", go_staff_connection)\n",
    "go_staff_sales_branch = pd.read_sql_query(\"SELECT * FROM sales_branch\", go_staff_connection)\n",
    "go_staff_sales_staff = pd.read_sql_query(\"SELECT * FROM sales_staff\", go_staff_connection)\n",
    "go_staff_satisfaction = pd.read_sql_query(\"SELECT * FROM satisfaction\", go_staff_connection)\n",
    "go_staff_satisfaction_type = pd.read_sql_query(\"SELECT * FROM satisfaction_type\", go_staff_connection)\n",
    "go_staff_training = pd.read_sql_query(\"SELECT * FROM training\", go_staff_connection)"
   ]
  },
  {
   "cell_type": "markdown",
   "id": "650835d0566406ab",
   "metadata": {
    "collapsed": false
   },
   "source": []
  },
  {
   "cell_type": "markdown",
   "id": "9519bb1f61aa945f",
   "metadata": {
    "collapsed": false
   },
   "source": [
    "# Combineren van de tabellen\n",
    "Combineren van de brondata om tot ons ETL te komen\n",
    "\n",
    "| Returned_item                                  |\n",
    "|------------------------------------------------|\n",
    "| RETURNED_ITEM_code                             |\n",
    "| RETURNED_ITEM_DATE_date                        |\n",
    "| RETURNED_ITEM_QUANTITY_quantity                |\n",
    "| RETURNED_ITEM_ORDER_DETAIL_CODE_detail_code    |\n",
    "| RETURNED_ITEM_RETURN_REASON_code               |\n",
    "| RETURNED_ITEM_RETURN_REASON_description_en     |\n",
    "| RETURNED_ITEM_RETURNED_ITEMS_TOTAL_PRICE_total |\n",
    "\n",
    "| Unit             |\n",
    "|------------------|\n",
    "| UNIT_id          |\n",
    "| UNIT_COST_cost   |\n",
    "| UNIT_PRICE_price |\n",
    "| UNIT_SALE_sale   |\n",
    "\n",
    "| Sales_staff                                          |\n",
    "|------------------------------------------------------|\n",
    "| SALES_STAFF__code                                    |\n",
    "| SALES_STAFF_email                                    |\n",
    "| SALES_STAFF_extension                                |\n",
    "| SALES_STAFF_POSITION_EN_position                     |\n",
    "| SALES_STAFF_WORK_PHONE_work_phone                    |\n",
    "| SALES_STAFF_DATE_HIRED_hired                         |\n",
    "| SALES_STAFF_MANAGER_CODE_manager                     |\n",
    "| SALES_STAFF_FAX_fax                                  |\n",
    "| SALES_STAFF_FIRST_NAME_first_name                    |\n",
    "| SALES_STAFF_LAST_NAME_last_name                      |\n",
    "| SALES_STAFF_FULL_NAME__full_name                     |\n",
    "| SALES_STAFF_SALES_BRANCH_CODE_branch_code            |\n",
    "| SALES_STAFF_SALES_BRANCH_ADDRESS_address             |\n",
    "| SALES_STAFF_SALES_BRANCH_ADDRESS_EXTRA_address_extra |\n",
    "\n",
    "| Satisfaction_type                   |\n",
    "|-------------------------------------|\n",
    "| SATISFACTION_TYPE_code              |\n",
    "| SATISFACTION_TYPE_description       |\n",
    "| SATISFACTION_TYPE_description_short |\n",
    "\n",
    "| Course                   |\n",
    "|--------------------------|\n",
    "| COURSE_code              |\n",
    "| COURSE_description       |\n",
    "| COURSE_description_short |\n",
    "\n",
    "| Year |\n",
    "|------|\n",
    "| YEAR |\n",
    "\n",
    "| Date             | \n",
    "|------------------|\n",
    "| DATE_date        |\n",
    "| DATE_YEAR_year   |\n",
    "| DATE_MONTH_month |\n",
    "| DATE_DAY_day     |\n",
    "\n",
    "| Order                               |\n",
    "|-------------------------------------|\n",
    "| ORDER_order_number                  |\n",
    "| ORDER_ORDER_METHOD_CODE_method_code |\n",
    "| ORDER_ORDER_METHOD_EN_method        |\n",
    "\n",
    "| Retailer_site                             |\n",
    "|-------------------------------------------|\n",
    "| RETAILER_SITE_code                        |\n",
    "| RETAILER_SITE_COUNTRY_CODE_country        |\n",
    "| RETAILER_SITE_CITY_city                   |\n",
    "| RETAILER_SITE_REGION_region               |\n",
    "| RETAILER_SITE_POSTAL_ZONE_postal_zone     |\n",
    "| RETAILER_SITE_RETAILER_CODE_retailer_code |\n",
    "| RETAILER_SITE_ACTIVE_INDICATOR_indicator  |\n",
    "| RETAILER_SITE_ADDRESS1_address            |\n",
    "| RETAILER_SITE_ADDRESS2_address            |\n",
    "| RETAILER_SITE_MAIN_ADDRESS__address       |\n",
    "\n",
    "| Sales_branch                         |\n",
    "|--------------------------------------|\n",
    "| SALES_BRANCH_code                    |\n",
    "| SALES_BRANCH_COUNTRY_CODE_country    |\n",
    "| SALES_BRANCH_REGION_region           |\n",
    "| SALES_BRANCH_CITY_city               |\n",
    "| SALES_BRANCH_POSTAL_ZONE_postal_zone |\n",
    "| SALES_BRANCH_ADDRESS1_address        |\n",
    "| SALES_BRANCH_ADDRESS2_address        |\n",
    "| SALES_BRANCH_MAIN_ADDRESS_address    |\n",
    "\n",
    "| Retailer_contact                              |\n",
    "|-----------------------------------------------|\n",
    "| RETAILER_CONTACT_code                         |\n",
    "| RETAILER_CONTACT_email                        |\n",
    "| RETAILER_CONTACT_RETAILER_SITE_CODE_site_code |\n",
    "| RETAILER_CONTACT_JOB_POSITION_EN_position     |\n",
    "| RETAILER_CONTACT_EXTENSION_extension          |\n",
    "| RETAILER_CONTACT_FAX_fax                      |\n",
    "| RETAILER_CONTACT_GENDER_gender                |\n",
    "| RETAILER_CONTACT_FIRST_NAME_first_name        |\n",
    "| RETAILER_CONTACT_LAST_NAME_last_name          |\n",
    "| RETAILER_CONTACT_FULL_NAME_full_name          |\n",
    "\n",
    "| Retailer                                  |\n",
    "|-------------------------------------------|\n",
    "| RETAILER_code                             |\n",
    "| RETAILER__name                            |\n",
    "| RETAILER_COMPANY_CODEMR_company           |\n",
    "| RETAILER_RETAILER_TYPE_retailer_type_code |\n",
    "| RETAILER_RETAILER_TYPE_retailer_type_EN   |\n",
    "\n",
    "| Product                              |\n",
    "|--------------------------------------|\n",
    "| PRODUCT_number                       |\n",
    "| PRODUCT_name_product                 |\n",
    "| PRODUCT_description_description      |\n",
    "| PRODUCT_image_image                  |\n",
    "| PRODUCT_INTRODUCTION_DATE_introduced |\n",
    "| PRODUCT_PRODUCTION_COST_cost         |\n",
    "| PRODUCT_MARGIN_margin                |\n",
    "| PRODUCT_LANGUAGE_language            |\n",
    "| PRODUCT_MINIMUM_SALE_PRICE_minPrice  |\n",
    "| PRODUCT_PRODUCT_LINE_code            |\n",
    "| PRODUCT_PRODUCT_LINE_code_en         |\n",
    "| PRODUCT_PRODUCT_TYPE_code            |\n",
    "| PRODUCT_PRODUCT_TYPE_code_en         |\n",
    "\n",
    "| Order_details                        |\n",
    "|--------------------------------------|\n",
    "| ORDER_DETAILS_code                   |\n",
    "| ORDER_DETAILS_QUANTITY_quantity      |\n",
    "| ORDER_DETAILS_TOTAL_COST_total       |\n",
    "| ORDER_DETAILS_TOTAL_MARGIN_margin    |\n",
    "| ORDER_DETAILS_RETURN_CODE_returned   |\n",
    "| ORDER_DETAILS_ORDER_NUMBER_order     |\n",
    "| ORDER_DETAILS_PRODUCT_NUMBER_product |\n",
    "| ORDER_DETAILS_UNIT_ID_unit           |\n",
    "\n",
    "| SALES_TARGETData                  |\n",
    "|-----------------------------------|\n",
    "| SALES_TARGETDATA_id               |\n",
    "| SALES_TARGETDATA_SALES_YEAR       |\n",
    "| SALES_TARGETDATA_SALES_PERIOD     |\n",
    "| SALES_TARGETDATA_RETAILER_NAME    |\n",
    "| SALES_TARGETDATA_SALES_TARGET     |\n",
    "| SALES_TARGETDATA_TARGET_COST      |\n",
    "| SALES_TARGETDATA_TARGET_MARGIN    |\n",
    "| SALES_TARGETDATA_SALES_STAFF_CODE |\n",
    "| SALES_TARGETDATA_PRODUCT_NUMBER   |\n",
    "| SALES_TARGETDATA_RETAILER_CODE    |\n",
    "\n",
    "| Training                  |\n",
    "|---------------------------|\n",
    "| TRAINING_SALES_STAFF_CODE |\n",
    "| TRAINING_COURSE_CODE      |\n",
    "| TRAINING_YEAR             |\n",
    "\n",
    "| Satisfaction                        |\n",
    "|-------------------------------------|\n",
    "| SATISFACTION_SALES_STAFF_CODE       |\n",
    "| SATISFACTION_SATISFACTION_TYPE_CODE |\n",
    "| SATISFACTION_YEAR                   |\n",
    "\n",
    "| Order_header                       |\n",
    "|------------------------------------|\n",
    "| ORDER_HEADER_number                |\n",
    "| ORDER_HEADER_RETAILER_NAME         |\n",
    "| ORDER_HEADER_SALES_STAFF           |\n",
    "| ORDER_HEADER_SALES_BRANCH_CODE     |\n",
    "| ORDER_HEADER_ORDER_DATE            |\n",
    "| ORDER_HEADER_RETAILER_SITE_CODE    |\n",
    "| ORDER_HEADER_RETAILER_CONTACT_CODE |\n",
    "\n",
    "| GO_SALES_INVENTORY_LEVELS                 |\n",
    "|-------------------------------------------|\n",
    "| GO_SALES_INVENTORY_LEVELS_id              |\n",
    "| GO_SALES_INVENTORY_LEVELS_INVENTORY_COUNT |\n",
    "| GO_SALES_INVENTORY_LEVELS_PRODUCT_NUMBER  |\n",
    "| GO_SALES_INVENTORY_LEVELS_YEAR_MONTH      |\n",
    "\n",
    "| GO_SALES_PRODUCT_FORECAST                 |\n",
    "|-------------------------------------------|\n",
    "| GO_SALES_PRODUCT_FORECAST_id              |\n",
    "| GO_SALES_PRODUCT_FORECAST_EXPECTED_VOLUME |\n",
    "| GO_SALES_PRODUCT_FORECAST_EXPECTED_COST   |\n",
    "| GO_SALES_PRODUCT_FORECAST_EXPECTED_MARGIN |\n",
    "| GO_SALES_PRODUCT_FORECAST_PRODUCT_NUMBER  |\n",
    "| GO_SALES_PRODUCT_FORECAST_YEAR_MONTH      |"
   ]
  },
  {
   "cell_type": "code",
   "execution_count": 10,
   "id": "a9d599b20a6c25c0",
   "metadata": {
    "collapsed": false,
    "ExecuteTime": {
     "end_time": "2024-03-14T14:52:23.227085Z",
     "start_time": "2024-03-14T14:52:23.223075Z"
    }
   },
   "outputs": [],
   "source": [
    "all_dataframes = []"
   ]
  },
  {
   "cell_type": "markdown",
   "id": "e50f788702cce510",
   "metadata": {
    "collapsed": false
   },
   "source": [
    "### returned_item"
   ]
  },
  {
   "cell_type": "code",
   "execution_count": 11,
   "id": "5ef006f254269ef",
   "metadata": {
    "collapsed": false,
    "ExecuteTime": {
     "end_time": "2024-03-14T14:52:23.263612Z",
     "start_time": "2024-03-14T14:52:23.228211Z"
    }
   },
   "outputs": [
    {
     "data": {
      "text/plain": "  RETURNED_ITEM_code RETURNED_ITEM_DATE_date RETURNED_ITEM_QUANTITY_quantity  \\\n0               1491       1-8-2021 04:10:24                               8   \n1               1492      6-12-2020 18:46:19                               2   \n2               1493      24-6-2021 09:23:14                              22   \n3               1494      21-7-2021 00:00:09                              20   \n4               1496      7-10-2020 05:13:58                               2   \n\n  RETURNED_ITEM_ORDER_DETAIL_CODE_detail_code  \\\n0                                       84858   \n1                                       84440   \n2                                       84867   \n3                                       84873   \n4                                       84488   \n\n  RETURNED_ITEM_RETURN_REASON_code RETURNED_ITEM_RETURN_REASON_description_en  \n0                                5                     Unsatisfactory product  \n1                                2                         Incomplete product  \n2                                4                      Wrong product shipped  \n3                                3                      Wrong product ordered  \n4                                1                          Defective product  ",
      "text/html": "<div>\n<style scoped>\n    .dataframe tbody tr th:only-of-type {\n        vertical-align: middle;\n    }\n\n    .dataframe tbody tr th {\n        vertical-align: top;\n    }\n\n    .dataframe thead th {\n        text-align: right;\n    }\n</style>\n<table border=\"1\" class=\"dataframe\">\n  <thead>\n    <tr style=\"text-align: right;\">\n      <th></th>\n      <th>RETURNED_ITEM_code</th>\n      <th>RETURNED_ITEM_DATE_date</th>\n      <th>RETURNED_ITEM_QUANTITY_quantity</th>\n      <th>RETURNED_ITEM_ORDER_DETAIL_CODE_detail_code</th>\n      <th>RETURNED_ITEM_RETURN_REASON_code</th>\n      <th>RETURNED_ITEM_RETURN_REASON_description_en</th>\n    </tr>\n  </thead>\n  <tbody>\n    <tr>\n      <th>0</th>\n      <td>1491</td>\n      <td>1-8-2021 04:10:24</td>\n      <td>8</td>\n      <td>84858</td>\n      <td>5</td>\n      <td>Unsatisfactory product</td>\n    </tr>\n    <tr>\n      <th>1</th>\n      <td>1492</td>\n      <td>6-12-2020 18:46:19</td>\n      <td>2</td>\n      <td>84440</td>\n      <td>2</td>\n      <td>Incomplete product</td>\n    </tr>\n    <tr>\n      <th>2</th>\n      <td>1493</td>\n      <td>24-6-2021 09:23:14</td>\n      <td>22</td>\n      <td>84867</td>\n      <td>4</td>\n      <td>Wrong product shipped</td>\n    </tr>\n    <tr>\n      <th>3</th>\n      <td>1494</td>\n      <td>21-7-2021 00:00:09</td>\n      <td>20</td>\n      <td>84873</td>\n      <td>3</td>\n      <td>Wrong product ordered</td>\n    </tr>\n    <tr>\n      <th>4</th>\n      <td>1496</td>\n      <td>7-10-2020 05:13:58</td>\n      <td>2</td>\n      <td>84488</td>\n      <td>1</td>\n      <td>Defective product</td>\n    </tr>\n  </tbody>\n</table>\n</div>"
     },
     "execution_count": 11,
     "metadata": {},
     "output_type": "execute_result"
    }
   ],
   "source": [
    "# to be used in order details\n",
    "returned_item_columns = ['RETURN_CODE', 'RETURN_DATE', 'RETURN_QUANTITY', 'ORDER_DETAIL_CODE', 'RETURN_REASON_CODE', 'RETURN_DESCRIPTION_EN']\n",
    "returned_item = pd.merge(go_sales_returned_item, go_sales_return_reason, left_on='RETURN_REASON_CODE', right_on='RETURN_REASON_CODE')\n",
    "returned_item = pd.merge(returned_item, go_sales_order_details, left_on='ORDER_DETAIL_CODE', right_on='ORDER_DETAIL_CODE')\n",
    "\n",
    "# filtering the columns\n",
    "returned_item = returned_item[returned_item_columns]\n",
    "\n",
    "# renaming the columns\n",
    "returned_item = returned_item.rename(columns={'RETURN_CODE': 'RETURNED_ITEM_code', 'RETURN_DATE': 'RETURNED_ITEM_DATE', 'RETURN_QUANTITY': 'RETURNED_ITEM_QUANTITY_quantity', 'ORDER_DETAIL_CODE': 'RETURNED_ITEM_ORDER_DETAIL_CODE_detail_code', 'RETURN_REASON_CODE': 'RETURNED_ITEM_RETURN_REASON_code', 'RETURN_DESCRIPTION_EN': 'RETURNED_ITEM_RETURN_REASON_description_en'})\n",
    "\n",
    "all_dataframes.append(returned_item)\n",
    "\n",
    "returned_item.head()"
   ]
  },
  {
   "cell_type": "markdown",
   "id": "1dff53c750360829",
   "metadata": {
    "collapsed": false
   },
   "source": [
    "### Unit"
   ]
  },
  {
   "cell_type": "code",
   "execution_count": 12,
   "id": "39396863b4c33a84",
   "metadata": {
    "collapsed": false,
    "ExecuteTime": {
     "end_time": "2024-03-14T14:52:23.278631Z",
     "start_time": "2024-03-14T14:52:23.264732Z"
    }
   },
   "outputs": [
    {
     "data": {
      "text/plain": "  UNIT_COST_cost UNIT_PRICE_price UNIT_SALE_sale  UNIT_id\n0           16.1            22.54          22.54        1\n1           16.1            22.54          22.54        2\n2           16.1            22.54          22.54        3\n3           16.1            22.54          22.54        4\n4           16.1            22.54          22.54        5",
      "text/html": "<div>\n<style scoped>\n    .dataframe tbody tr th:only-of-type {\n        vertical-align: middle;\n    }\n\n    .dataframe tbody tr th {\n        vertical-align: top;\n    }\n\n    .dataframe thead th {\n        text-align: right;\n    }\n</style>\n<table border=\"1\" class=\"dataframe\">\n  <thead>\n    <tr style=\"text-align: right;\">\n      <th></th>\n      <th>UNIT_COST_cost</th>\n      <th>UNIT_PRICE_price</th>\n      <th>UNIT_SALE_sale</th>\n      <th>UNIT_id</th>\n    </tr>\n  </thead>\n  <tbody>\n    <tr>\n      <th>0</th>\n      <td>16.1</td>\n      <td>22.54</td>\n      <td>22.54</td>\n      <td>1</td>\n    </tr>\n    <tr>\n      <th>1</th>\n      <td>16.1</td>\n      <td>22.54</td>\n      <td>22.54</td>\n      <td>2</td>\n    </tr>\n    <tr>\n      <th>2</th>\n      <td>16.1</td>\n      <td>22.54</td>\n      <td>22.54</td>\n      <td>3</td>\n    </tr>\n    <tr>\n      <th>3</th>\n      <td>16.1</td>\n      <td>22.54</td>\n      <td>22.54</td>\n      <td>4</td>\n    </tr>\n    <tr>\n      <th>4</th>\n      <td>16.1</td>\n      <td>22.54</td>\n      <td>22.54</td>\n      <td>5</td>\n    </tr>\n  </tbody>\n</table>\n</div>"
     },
     "execution_count": 12,
     "metadata": {},
     "output_type": "execute_result"
    }
   ],
   "source": [
    "unit_columns = ['UNIT_COST', 'UNIT_PRICE', 'UNIT_SALE_PRICE', 'UNIT_id']\n",
    "unit = go_sales_order_details\n",
    "\n",
    "# make unit_id autoincrement\n",
    "unit['UNIT_id'] = range(1, len(unit) + 1)\n",
    "\n",
    "# filtering the columns\n",
    "unit = unit[unit_columns]\n",
    "\n",
    "# renaming the columns\n",
    "unit = unit.rename(columns={'UNIT_COST': 'UNIT_COST_cost', 'UNIT_PRICE': 'UNIT_PRICE_price', 'UNIT_SALE_PRICE': 'UNIT_SALE_sale'})\n",
    "\n",
    "all_dataframes.append(unit)\n",
    "\n",
    "unit.head()"
   ]
  },
  {
   "cell_type": "markdown",
   "id": "8527a5738e28b03",
   "metadata": {
    "collapsed": false
   },
   "source": [
    "### Sales_staff"
   ]
  },
  {
   "cell_type": "code",
   "execution_count": 13,
   "id": "a2a698c093a007aa",
   "metadata": {
    "collapsed": false,
    "ExecuteTime": {
     "end_time": "2024-03-14T14:52:23.291832Z",
     "start_time": "2024-03-14T14:52:23.279746Z"
    }
   },
   "outputs": [
    {
     "data": {
      "text/plain": "  SALES_STAFF_code        SALES_STAFF_email SALES_STAFF_extension  \\\n0              100  TSavolainen@grtd123.com                   825   \n1              101         CKim@grtd123.com                  1228   \n2              102        JChoi@grtd123.com                  2641   \n3              103        KKwao@grtd123.com                  1541   \n4              104         CFon@grtd123.com                  2311   \n\n  SALES_STAFF_POSITION_EN_position SALES_STAFF_WORK_PHONE_work_phone  \\\n0     Level 2 Sales Representative               +358(0)17 - 433 127   \n1     Level 2 Sales Representative                     82-2-778-6587   \n2     Level 3 Sales Representative                     82-2-778-6587   \n3     Level 2 Sales Representative                   886-2-2975-1988   \n4     Level 3 Sales Representative                   886-2-2975-1988   \n\n  SALES_STAFF_DATE_HIRED_hired SALES_STAFF_MANAGER_CODE_manager  \\\n0      23-Jul-1998 12:00:00 AM                               18   \n1      15-Dec-1998 12:00:00 AM                               87   \n2      27-Nov-1998 12:00:00 AM                               87   \n3      07-Oct-1998 12:00:00 AM                               87   \n4      08-May-1996 12:00:00 AM                               87   \n\n   SALES_STAFF_FAX_fax SALES_STAFF_FIRST_NAME_first_name  \\\n0  +358(0)17 - 433 129                            Tuomas   \n1        82-2-778-6586                          Chang-ho   \n2        82-2-778-6586                           Jung-ho   \n3      886-2-2989-4978                         Kwei-Ping   \n4      886-2-2989-4978                         Chin-Tsai   \n\n  SALES_STAFF_LAST_NAME_last_name SALES_STAFF_SALES_BRANCH_ADDRESS_address  \\\n0                      Savolainen                            Kauppakatu 33   \n1                             Kim                    234-12, Kongdeok-Dong   \n2                            Choi                    234-12, Kongdeok-Dong   \n3                             Kao             154, Choung-Cheng South Road   \n4                            Fang             154, Choung-Cheng South Road   \n\n  SALES_STAFF_SALES_BRANCH_ADDRESS_EXTRA_address_extra  \\\n0                                               None     \n1                                            Mapo-Ku     \n2                                            Mapo-Ku     \n3                                               None     \n4                                               None     \n\n  SALES_STAFF_SALES_BRANCH_CODE_branch_code  \n0                                        31  \n1                                        32  \n2                                        32  \n3                                        33  \n4                                        33  ",
      "text/html": "<div>\n<style scoped>\n    .dataframe tbody tr th:only-of-type {\n        vertical-align: middle;\n    }\n\n    .dataframe tbody tr th {\n        vertical-align: top;\n    }\n\n    .dataframe thead th {\n        text-align: right;\n    }\n</style>\n<table border=\"1\" class=\"dataframe\">\n  <thead>\n    <tr style=\"text-align: right;\">\n      <th></th>\n      <th>SALES_STAFF_code</th>\n      <th>SALES_STAFF_email</th>\n      <th>SALES_STAFF_extension</th>\n      <th>SALES_STAFF_POSITION_EN_position</th>\n      <th>SALES_STAFF_WORK_PHONE_work_phone</th>\n      <th>SALES_STAFF_DATE_HIRED_hired</th>\n      <th>SALES_STAFF_MANAGER_CODE_manager</th>\n      <th>SALES_STAFF_FAX_fax</th>\n      <th>SALES_STAFF_FIRST_NAME_first_name</th>\n      <th>SALES_STAFF_LAST_NAME_last_name</th>\n      <th>SALES_STAFF_SALES_BRANCH_ADDRESS_address</th>\n      <th>SALES_STAFF_SALES_BRANCH_ADDRESS_EXTRA_address_extra</th>\n      <th>SALES_STAFF_SALES_BRANCH_CODE_branch_code</th>\n    </tr>\n  </thead>\n  <tbody>\n    <tr>\n      <th>0</th>\n      <td>100</td>\n      <td>TSavolainen@grtd123.com</td>\n      <td>825</td>\n      <td>Level 2 Sales Representative</td>\n      <td>+358(0)17 - 433 127</td>\n      <td>23-Jul-1998 12:00:00 AM</td>\n      <td>18</td>\n      <td>+358(0)17 - 433 129</td>\n      <td>Tuomas</td>\n      <td>Savolainen</td>\n      <td>Kauppakatu 33</td>\n      <td>None</td>\n      <td>31</td>\n    </tr>\n    <tr>\n      <th>1</th>\n      <td>101</td>\n      <td>CKim@grtd123.com</td>\n      <td>1228</td>\n      <td>Level 2 Sales Representative</td>\n      <td>82-2-778-6587</td>\n      <td>15-Dec-1998 12:00:00 AM</td>\n      <td>87</td>\n      <td>82-2-778-6586</td>\n      <td>Chang-ho</td>\n      <td>Kim</td>\n      <td>234-12, Kongdeok-Dong</td>\n      <td>Mapo-Ku</td>\n      <td>32</td>\n    </tr>\n    <tr>\n      <th>2</th>\n      <td>102</td>\n      <td>JChoi@grtd123.com</td>\n      <td>2641</td>\n      <td>Level 3 Sales Representative</td>\n      <td>82-2-778-6587</td>\n      <td>27-Nov-1998 12:00:00 AM</td>\n      <td>87</td>\n      <td>82-2-778-6586</td>\n      <td>Jung-ho</td>\n      <td>Choi</td>\n      <td>234-12, Kongdeok-Dong</td>\n      <td>Mapo-Ku</td>\n      <td>32</td>\n    </tr>\n    <tr>\n      <th>3</th>\n      <td>103</td>\n      <td>KKwao@grtd123.com</td>\n      <td>1541</td>\n      <td>Level 2 Sales Representative</td>\n      <td>886-2-2975-1988</td>\n      <td>07-Oct-1998 12:00:00 AM</td>\n      <td>87</td>\n      <td>886-2-2989-4978</td>\n      <td>Kwei-Ping</td>\n      <td>Kao</td>\n      <td>154, Choung-Cheng South Road</td>\n      <td>None</td>\n      <td>33</td>\n    </tr>\n    <tr>\n      <th>4</th>\n      <td>104</td>\n      <td>CFon@grtd123.com</td>\n      <td>2311</td>\n      <td>Level 3 Sales Representative</td>\n      <td>886-2-2975-1988</td>\n      <td>08-May-1996 12:00:00 AM</td>\n      <td>87</td>\n      <td>886-2-2989-4978</td>\n      <td>Chin-Tsai</td>\n      <td>Fang</td>\n      <td>154, Choung-Cheng South Road</td>\n      <td>None</td>\n      <td>33</td>\n    </tr>\n  </tbody>\n</table>\n</div>"
     },
     "execution_count": 13,
     "metadata": {},
     "output_type": "execute_result"
    }
   ],
   "source": [
    "sales_staff_columns = ['SALES_STAFF_CODE', 'EMAIL', 'EXTENSION', 'POSITION_EN', 'WORK_PHONE', 'DATE_HIRED', 'MANAGER_CODE', 'FAX', 'FIRST_NAME', 'LAST_NAME',  'ADDRESS1', 'ADDRESS2', 'SALES_BRANCH_CODE']\n",
    "\n",
    "sales_staff = pd.merge(go_staff_sales_staff, go_staff_sales_branch, left_on='SALES_BRANCH_CODE', right_on='SALES_BRANCH_CODE')\n",
    "\n",
    "# filtering the columns\n",
    "sales_staff = sales_staff[sales_staff_columns]\n",
    "\n",
    "# renaming the columns\n",
    "sales_staff = sales_staff.rename(columns={'SALES_STAFF_CODE': 'SALES_STAFF_code', 'EMAIL': 'SALES_STAFF_email', 'EXTENSION': 'SALES_STAFF_extension', 'POSITION_EN': 'SALES_STAFF_POSITION_EN_position', 'WORK_PHONE': 'SALES_STAFF_WORK_PHONE_work_phone', 'DATE_HIRED': 'SALES_STAFF_DATE_HIRED_hired', 'MANAGER_CODE': 'SALES_STAFF_MANAGER_CODE_manager', 'FAX': 'SALES_STAFF_FAX_fax', 'FIRST_NAME': 'SALES_STAFF_FIRST_NAME_first_name', 'LAST_NAME': 'SALES_STAFF_LAST_NAME_last_name', 'ADDRESS1': 'SALES_STAFF_SALES_BRANCH_ADDRESS_address', 'ADDRESS2': 'SALES_STAFF_SALES_BRANCH_ADDRESS_EXTRA_address_extra', 'SALES_BRANCH_CODE' : 'SALES_STAFF_SALES_BRANCH_CODE_branch_code'})\n",
    "\n",
    "all_dataframes.append(sales_staff)\n",
    "\n",
    "sales_staff.head()"
   ]
  },
  {
   "cell_type": "markdown",
   "id": "b8305c040ff09ac7",
   "metadata": {
    "collapsed": false
   },
   "source": [
    "### Satisfaction_type"
   ]
  },
  {
   "cell_type": "code",
   "execution_count": 14,
   "id": "b8cd201811c4486a",
   "metadata": {
    "collapsed": false,
    "ExecuteTime": {
     "end_time": "2024-03-14T14:52:23.300546Z",
     "start_time": "2024-03-14T14:52:23.292960Z"
    }
   },
   "outputs": [
    {
     "data": {
      "text/plain": "  SATISFACTION_TYPE_code SATISFACTION_TYPE_DESCRIPTION TRIAL633\n0                      1                 Not satisfied        T\n1                      2           Less than satisfied        T\n2                      3                     Satisfied        T\n3                      4                Very Satisfied        T\n4                      5           More than satisfied        T",
      "text/html": "<div>\n<style scoped>\n    .dataframe tbody tr th:only-of-type {\n        vertical-align: middle;\n    }\n\n    .dataframe tbody tr th {\n        vertical-align: top;\n    }\n\n    .dataframe thead th {\n        text-align: right;\n    }\n</style>\n<table border=\"1\" class=\"dataframe\">\n  <thead>\n    <tr style=\"text-align: right;\">\n      <th></th>\n      <th>SATISFACTION_TYPE_code</th>\n      <th>SATISFACTION_TYPE_DESCRIPTION</th>\n      <th>TRIAL633</th>\n    </tr>\n  </thead>\n  <tbody>\n    <tr>\n      <th>0</th>\n      <td>1</td>\n      <td>Not satisfied</td>\n      <td>T</td>\n    </tr>\n    <tr>\n      <th>1</th>\n      <td>2</td>\n      <td>Less than satisfied</td>\n      <td>T</td>\n    </tr>\n    <tr>\n      <th>2</th>\n      <td>3</td>\n      <td>Satisfied</td>\n      <td>T</td>\n    </tr>\n    <tr>\n      <th>3</th>\n      <td>4</td>\n      <td>Very Satisfied</td>\n      <td>T</td>\n    </tr>\n    <tr>\n      <th>4</th>\n      <td>5</td>\n      <td>More than satisfied</td>\n      <td>T</td>\n    </tr>\n  </tbody>\n</table>\n</div>"
     },
     "execution_count": 14,
     "metadata": {},
     "output_type": "execute_result"
    }
   ],
   "source": [
    "satisfaction_type = go_staff_satisfaction_type\n",
    "\n",
    "# rename the columns\n",
    "satisfaction_type = satisfaction_type.rename(columns={'SATISFACTION_TYPE_CODE': 'SATISFACTION_TYPE_code', 'DESCRIPTION': 'SATISFACTION_TYPE_description'})\n",
    "\n",
    "all_dataframes.append(satisfaction_type)\n",
    "\n",
    "satisfaction_type.head()"
   ]
  },
  {
   "cell_type": "markdown",
   "id": "8b30a420eb8b3f9c",
   "metadata": {
    "collapsed": false
   },
   "source": [
    "### Course"
   ]
  },
  {
   "cell_type": "code",
   "execution_count": 15,
   "id": "9a9a6afb42d95ce5",
   "metadata": {
    "collapsed": false,
    "ExecuteTime": {
     "end_time": "2024-03-14T14:52:23.311484Z",
     "start_time": "2024-03-14T14:52:23.301672Z"
    }
   },
   "outputs": [
    {
     "data": {
      "text/plain": "  COURSE_code COURSE_DESCRIPTION TRIAL633\n0           1     GO Orientation        T\n1           2   GO Communication        T\n2           3         GO Sales 1        T\n3           4         GO Sales 2        T\n4           5     GO Marketing 1        T",
      "text/html": "<div>\n<style scoped>\n    .dataframe tbody tr th:only-of-type {\n        vertical-align: middle;\n    }\n\n    .dataframe tbody tr th {\n        vertical-align: top;\n    }\n\n    .dataframe thead th {\n        text-align: right;\n    }\n</style>\n<table border=\"1\" class=\"dataframe\">\n  <thead>\n    <tr style=\"text-align: right;\">\n      <th></th>\n      <th>COURSE_code</th>\n      <th>COURSE_DESCRIPTION</th>\n      <th>TRIAL633</th>\n    </tr>\n  </thead>\n  <tbody>\n    <tr>\n      <th>0</th>\n      <td>1</td>\n      <td>GO Orientation</td>\n      <td>T</td>\n    </tr>\n    <tr>\n      <th>1</th>\n      <td>2</td>\n      <td>GO Communication</td>\n      <td>T</td>\n    </tr>\n    <tr>\n      <th>2</th>\n      <td>3</td>\n      <td>GO Sales 1</td>\n      <td>T</td>\n    </tr>\n    <tr>\n      <th>3</th>\n      <td>4</td>\n      <td>GO Sales 2</td>\n      <td>T</td>\n    </tr>\n    <tr>\n      <th>4</th>\n      <td>5</td>\n      <td>GO Marketing 1</td>\n      <td>T</td>\n    </tr>\n  </tbody>\n</table>\n</div>"
     },
     "execution_count": 15,
     "metadata": {},
     "output_type": "execute_result"
    }
   ],
   "source": [
    "course = go_staff_course\n",
    "\n",
    "# rename the columns\n",
    "course = course.rename(columns={'COURSE_CODE': 'COURSE_code', 'DESCRIPTION': 'COURSE_description'})\n",
    "\n",
    "all_dataframes.append(course)\n",
    "\n",
    "course.head()"
   ]
  },
  {
   "cell_type": "markdown",
   "id": "de6db3d986555551",
   "metadata": {
    "collapsed": false
   },
   "source": [
    "### Year"
   ]
  },
  {
   "cell_type": "code",
   "execution_count": 16,
   "id": "c116ecb70b6f2ec7",
   "metadata": {
    "collapsed": false,
    "ExecuteTime": {
     "end_time": "2024-03-14T14:52:23.336389Z",
     "start_time": "2024-03-14T14:52:23.312610Z"
    }
   },
   "outputs": [
    {
     "data": {
      "text/plain": "      index\nYEAR       \n1990      0\n1991    365\n1992    730\n1993   1096\n1994   1461",
      "text/html": "<div>\n<style scoped>\n    .dataframe tbody tr th:only-of-type {\n        vertical-align: middle;\n    }\n\n    .dataframe tbody tr th {\n        vertical-align: top;\n    }\n\n    .dataframe thead th {\n        text-align: right;\n    }\n</style>\n<table border=\"1\" class=\"dataframe\">\n  <thead>\n    <tr style=\"text-align: right;\">\n      <th></th>\n      <th>index</th>\n    </tr>\n    <tr>\n      <th>YEAR</th>\n      <th></th>\n    </tr>\n  </thead>\n  <tbody>\n    <tr>\n      <th>1990</th>\n      <td>0</td>\n    </tr>\n    <tr>\n      <th>1991</th>\n      <td>365</td>\n    </tr>\n    <tr>\n      <th>1992</th>\n      <td>730</td>\n    </tr>\n    <tr>\n      <th>1993</th>\n      <td>1096</td>\n    </tr>\n    <tr>\n      <th>1994</th>\n      <td>1461</td>\n    </tr>\n  </tbody>\n</table>\n</div>"
     },
     "execution_count": 16,
     "metadata": {},
     "output_type": "execute_result"
    }
   ],
   "source": [
    "# to be used in training and satisfaction\n",
    "# making year dataframe with year as the primary key\n",
    "year = pd.DataFrame({'YEAR': pd.date_range(start='1/1/1990', end='1/1/2200').year})\n",
    "\n",
    "# adding all the years from the satisfaction and training data.\n",
    "year = pd.concat([year, pd.DataFrame({'YEAR': go_staff_training['YEAR']})])\n",
    "year = pd.concat([year, pd.DataFrame({'YEAR': go_staff_satisfaction['YEAR']})])\n",
    "\n",
    "# Reset the index\n",
    "year = year.reset_index()\n",
    "\n",
    "# Drop duplicates based on 'YEAR' column\n",
    "year = year.drop_duplicates(subset='YEAR')\n",
    "\n",
    "# Set 'YEAR' as the index again\n",
    "year = year.set_index('YEAR')\n",
    "\n",
    "all_dataframes.append(year)\n",
    "\n",
    "year.head()"
   ]
  },
  {
   "cell_type": "markdown",
   "id": "ce00e33771b2020c",
   "metadata": {
    "collapsed": false
   },
   "source": [
    "### Date"
   ]
  },
  {
   "cell_type": "code",
   "execution_count": 17,
   "id": "69d3a65350544b07",
   "metadata": {
    "collapsed": false,
    "ExecuteTime": {
     "end_time": "2024-03-14T14:52:23.433157Z",
     "start_time": "2024-03-14T14:52:23.368286Z"
    }
   },
   "outputs": [
    {
     "data": {
      "text/plain": "            index\nDATE_date        \n1990-01-01      0\n1990-01-02      1\n1990-01-03      2\n1990-01-04      3\n1990-01-05      4",
      "text/html": "<div>\n<style scoped>\n    .dataframe tbody tr th:only-of-type {\n        vertical-align: middle;\n    }\n\n    .dataframe tbody tr th {\n        vertical-align: top;\n    }\n\n    .dataframe thead th {\n        text-align: right;\n    }\n</style>\n<table border=\"1\" class=\"dataframe\">\n  <thead>\n    <tr style=\"text-align: right;\">\n      <th></th>\n      <th>index</th>\n    </tr>\n    <tr>\n      <th>DATE_date</th>\n      <th></th>\n    </tr>\n  </thead>\n  <tbody>\n    <tr>\n      <th>1990-01-01</th>\n      <td>0</td>\n    </tr>\n    <tr>\n      <th>1990-01-02</th>\n      <td>1</td>\n    </tr>\n    <tr>\n      <th>1990-01-03</th>\n      <td>2</td>\n    </tr>\n    <tr>\n      <th>1990-01-04</th>\n      <td>3</td>\n    </tr>\n    <tr>\n      <th>1990-01-05</th>\n      <td>4</td>\n    </tr>\n  </tbody>\n</table>\n</div>"
     },
     "execution_count": 17,
     "metadata": {},
     "output_type": "execute_result"
    }
   ],
   "source": [
    "# to be used in order header\n",
    "date = pd.DataFrame({'DATE_date': pd.date_range(start='1/1/1990', end='1/1/2200')})\n",
    "\n",
    "# adding all the years from the order header data\n",
    "date = pd.concat([date, pd.DataFrame({'DATE_date': go_sales_order_header['ORDER_DATE']})])\n",
    "\n",
    "# setting the index\n",
    "date['DATE_date'] = pd.to_datetime(date['DATE_date']) # convert to datetime\n",
    "\n",
    "date = date.reset_index()\n",
    "\n",
    "# drop duplicates\n",
    "date = date.drop_duplicates(subset=\"DATE_date\")\n",
    "\n",
    "date = date.set_index('DATE_date')\n",
    "\n",
    "all_dataframes.append(date)\n",
    "\n",
    "date.head()"
   ]
  },
  {
   "cell_type": "markdown",
   "id": "2bc3e5abc438a754",
   "metadata": {
    "collapsed": false
   },
   "source": [
    "### Order"
   ]
  },
  {
   "cell_type": "code",
   "execution_count": 18,
   "id": "8886223a9425e744",
   "metadata": {
    "collapsed": false,
    "ExecuteTime": {
     "end_time": "2024-03-14T14:52:23.709777Z",
     "start_time": "2024-03-14T14:52:23.699863Z"
    }
   },
   "outputs": [
    {
     "data": {
      "text/plain": "                   ORDER_ORDER_METHOD_CODE_method_code  \\\nORDER_order_number                                       \n1                                                    1   \n2                                                    2   \n3                                                    3   \n4                                                    4   \n5                                                    5   \n\n                   ORDER_ORDER_METHOD_EN_method  \nORDER_order_number                               \n1                                           Fax  \n2                                     Telephone  \n3                                          Mail  \n4                                        E-mail  \n5                                           Web  ",
      "text/html": "<div>\n<style scoped>\n    .dataframe tbody tr th:only-of-type {\n        vertical-align: middle;\n    }\n\n    .dataframe tbody tr th {\n        vertical-align: top;\n    }\n\n    .dataframe thead th {\n        text-align: right;\n    }\n</style>\n<table border=\"1\" class=\"dataframe\">\n  <thead>\n    <tr style=\"text-align: right;\">\n      <th></th>\n      <th>ORDER_ORDER_METHOD_CODE_method_code</th>\n      <th>ORDER_ORDER_METHOD_EN_method</th>\n    </tr>\n    <tr>\n      <th>ORDER_order_number</th>\n      <th></th>\n      <th></th>\n    </tr>\n  </thead>\n  <tbody>\n    <tr>\n      <th>1</th>\n      <td>1</td>\n      <td>Fax</td>\n    </tr>\n    <tr>\n      <th>2</th>\n      <td>2</td>\n      <td>Telephone</td>\n    </tr>\n    <tr>\n      <th>3</th>\n      <td>3</td>\n      <td>Mail</td>\n    </tr>\n    <tr>\n      <th>4</th>\n      <td>4</td>\n      <td>E-mail</td>\n    </tr>\n    <tr>\n      <th>5</th>\n      <td>5</td>\n      <td>Web</td>\n    </tr>\n  </tbody>\n</table>\n</div>"
     },
     "execution_count": 18,
     "metadata": {},
     "output_type": "execute_result"
    }
   ],
   "source": [
    "# to be used in order header\n",
    "# making order dataframe with order_number as the primary key \n",
    "order = pd.DataFrame({'ORDER_order_number': range(1, len(go_sales_order_method) + 1)})\n",
    "order['ORDER_ORDER_METHOD_CODE_method_code'] = go_sales_order_method['ORDER_METHOD_CODE']\n",
    "order['ORDER_ORDER_METHOD_EN_method'] = go_sales_order_method['ORDER_METHOD_EN']\n",
    "\n",
    "order = order.set_index('ORDER_order_number')\n",
    "\n",
    "all_dataframes.append(order)\n",
    "\n",
    "order.head()"
   ]
  },
  {
   "cell_type": "markdown",
   "id": "3781ed63e51a8050",
   "metadata": {
    "collapsed": false
   },
   "source": [
    "### Retailer_site"
   ]
  },
  {
   "cell_type": "code",
   "execution_count": 19,
   "id": "c7039eac9d768041",
   "metadata": {
    "collapsed": false,
    "ExecuteTime": {
     "end_time": "2024-03-14T14:52:24.177415Z",
     "start_time": "2024-03-14T14:52:24.167148Z"
    }
   },
   "outputs": [
    {
     "data": {
      "text/plain": "  RETAILER_SITE_code RETAILER_SITE_RETAILER_CODE_retailer_code  \\\n0                  1                                        89   \n1                 10                                        92   \n2                100                                        95   \n3                101                                        95   \n4                102                                       108   \n\n     RETAILER_SITE_ADDRESS1_address RETAILER_SITE_ADDRESS2_address  \\\n0                1117 Franklin Blvd                           None   \n1  Suite 1500, 802 Docklands Street                           None   \n2                    4830 Princeton                         Unit 2   \n3                  6630 Burnet Road                           None   \n4              2189 Louisville Road                           None   \n\n  RETAILER_SITE_CITY_city RETAILER_SITE_REGION_region  \\\n0                Winnipeg                    Manitoba   \n1               Vancouver            British Columbia   \n2             Albuquerque                  New Mexico   \n3                  Austin                       Texas   \n4            Independence                    Kentucky   \n\n  RETAILER_SITE_POSTAL_ZONE_postal_zone RETAILER_SITE_COUNTRY_CODE_country  \\\n0                               R2C 0M5                                  4   \n1                               V6E 3Z3                                  4   \n2                                 87186                                  3   \n3                                 78769                                  3   \n4                                 41051                                  3   \n\n  RETAILER_SITE_ACTIVE_INDICATOR_indicator TRIAL888  \n0                                        1        T  \n1                                        1        T  \n2                                        1        T  \n3                                        1        T  \n4                                        0        T  ",
      "text/html": "<div>\n<style scoped>\n    .dataframe tbody tr th:only-of-type {\n        vertical-align: middle;\n    }\n\n    .dataframe tbody tr th {\n        vertical-align: top;\n    }\n\n    .dataframe thead th {\n        text-align: right;\n    }\n</style>\n<table border=\"1\" class=\"dataframe\">\n  <thead>\n    <tr style=\"text-align: right;\">\n      <th></th>\n      <th>RETAILER_SITE_code</th>\n      <th>RETAILER_SITE_RETAILER_CODE_retailer_code</th>\n      <th>RETAILER_SITE_ADDRESS1_address</th>\n      <th>RETAILER_SITE_ADDRESS2_address</th>\n      <th>RETAILER_SITE_CITY_city</th>\n      <th>RETAILER_SITE_REGION_region</th>\n      <th>RETAILER_SITE_POSTAL_ZONE_postal_zone</th>\n      <th>RETAILER_SITE_COUNTRY_CODE_country</th>\n      <th>RETAILER_SITE_ACTIVE_INDICATOR_indicator</th>\n      <th>TRIAL888</th>\n    </tr>\n  </thead>\n  <tbody>\n    <tr>\n      <th>0</th>\n      <td>1</td>\n      <td>89</td>\n      <td>1117 Franklin Blvd</td>\n      <td>None</td>\n      <td>Winnipeg</td>\n      <td>Manitoba</td>\n      <td>R2C 0M5</td>\n      <td>4</td>\n      <td>1</td>\n      <td>T</td>\n    </tr>\n    <tr>\n      <th>1</th>\n      <td>10</td>\n      <td>92</td>\n      <td>Suite 1500, 802 Docklands Street</td>\n      <td>None</td>\n      <td>Vancouver</td>\n      <td>British Columbia</td>\n      <td>V6E 3Z3</td>\n      <td>4</td>\n      <td>1</td>\n      <td>T</td>\n    </tr>\n    <tr>\n      <th>2</th>\n      <td>100</td>\n      <td>95</td>\n      <td>4830 Princeton</td>\n      <td>Unit 2</td>\n      <td>Albuquerque</td>\n      <td>New Mexico</td>\n      <td>87186</td>\n      <td>3</td>\n      <td>1</td>\n      <td>T</td>\n    </tr>\n    <tr>\n      <th>3</th>\n      <td>101</td>\n      <td>95</td>\n      <td>6630 Burnet Road</td>\n      <td>None</td>\n      <td>Austin</td>\n      <td>Texas</td>\n      <td>78769</td>\n      <td>3</td>\n      <td>1</td>\n      <td>T</td>\n    </tr>\n    <tr>\n      <th>4</th>\n      <td>102</td>\n      <td>108</td>\n      <td>2189 Louisville Road</td>\n      <td>None</td>\n      <td>Independence</td>\n      <td>Kentucky</td>\n      <td>41051</td>\n      <td>3</td>\n      <td>0</td>\n      <td>T</td>\n    </tr>\n  </tbody>\n</table>\n</div>"
     },
     "execution_count": 19,
     "metadata": {},
     "output_type": "execute_result"
    }
   ],
   "source": [
    "retailer_site = go_sales_retailer_site\n",
    "\n",
    "# rename the columns\n",
    "retailer_site = retailer_site.rename(columns={'RETAILER_SITE_CODE': 'RETAILER_SITE_code', 'COUNTRY_CODE': 'RETAILER_SITE_COUNTRY_CODE_country', 'CITY': 'RETAILER_SITE_CITY_city', 'REGION': 'RETAILER_SITE_REGION_region', 'POSTAL_ZONE': 'RETAILER_SITE_POSTAL_ZONE_postal_zone', 'RETAILER_CODE': 'RETAILER_SITE_RETAILER_CODE_retailer_code', 'ACTIVE_INDICATOR': 'RETAILER_SITE_ACTIVE_INDICATOR_indicator', 'ADDRESS1': 'RETAILER_SITE_ADDRESS1_address', 'ADDRESS2': 'RETAILER_SITE_ADDRESS2_address'})\n",
    "\n",
    "all_dataframes.append(retailer_site)\n",
    "\n",
    "retailer_site.head()"
   ]
  },
  {
   "cell_type": "markdown",
   "id": "a37a2a29eafdf0bd",
   "metadata": {
    "collapsed": false
   },
   "source": [
    "### Sales_branch"
   ]
  },
  {
   "cell_type": "code",
   "execution_count": 20,
   "id": "a48bae69916fd694",
   "metadata": {
    "collapsed": false,
    "ExecuteTime": {
     "end_time": "2024-03-14T14:52:24.591377Z",
     "start_time": "2024-03-14T14:52:24.581503Z"
    }
   },
   "outputs": [
    {
     "data": {
      "text/plain": "  SALES_BRANCH_code SALES_BRANCH_ADDRESS1_address  \\\n0                13                Schwabentor 35   \n1                14              Leopoldstraße 36   \n2                15           Isafjordsgatan 30 C   \n3                17  7800, 756 - 6th Avenue. S.W.   \n4                18              789 Yonge Street   \n\n  SALES_BRANCH_ADDRESS2_address SALES_BRANCH_CITY_city  \\\n0                          None                Hamburg   \n1                          None                München   \n2                          None                  Kista   \n3                          None                Calgary   \n4                          None                Toronto   \n\n  SALES_BRANCH_REGION_region SALES_BRANCH_POSTAL_ZONE_postal_zone  \\\n0                       None                              D-22529   \n1                       None                              D-81241   \n2                       None                             S-164 40   \n3                    Alberta                              T2P 3Z0   \n4                    Ontario                              M2M 4K8   \n\n  SALES_BRANCH_COUNTRY_CODE_country TRIAL888  \n0                                 2        T  \n1                                 2        T  \n2                                10        T  \n3                                 4        T  \n4                                 4        T  ",
      "text/html": "<div>\n<style scoped>\n    .dataframe tbody tr th:only-of-type {\n        vertical-align: middle;\n    }\n\n    .dataframe tbody tr th {\n        vertical-align: top;\n    }\n\n    .dataframe thead th {\n        text-align: right;\n    }\n</style>\n<table border=\"1\" class=\"dataframe\">\n  <thead>\n    <tr style=\"text-align: right;\">\n      <th></th>\n      <th>SALES_BRANCH_code</th>\n      <th>SALES_BRANCH_ADDRESS1_address</th>\n      <th>SALES_BRANCH_ADDRESS2_address</th>\n      <th>SALES_BRANCH_CITY_city</th>\n      <th>SALES_BRANCH_REGION_region</th>\n      <th>SALES_BRANCH_POSTAL_ZONE_postal_zone</th>\n      <th>SALES_BRANCH_COUNTRY_CODE_country</th>\n      <th>TRIAL888</th>\n    </tr>\n  </thead>\n  <tbody>\n    <tr>\n      <th>0</th>\n      <td>13</td>\n      <td>Schwabentor 35</td>\n      <td>None</td>\n      <td>Hamburg</td>\n      <td>None</td>\n      <td>D-22529</td>\n      <td>2</td>\n      <td>T</td>\n    </tr>\n    <tr>\n      <th>1</th>\n      <td>14</td>\n      <td>Leopoldstraße 36</td>\n      <td>None</td>\n      <td>München</td>\n      <td>None</td>\n      <td>D-81241</td>\n      <td>2</td>\n      <td>T</td>\n    </tr>\n    <tr>\n      <th>2</th>\n      <td>15</td>\n      <td>Isafjordsgatan 30 C</td>\n      <td>None</td>\n      <td>Kista</td>\n      <td>None</td>\n      <td>S-164 40</td>\n      <td>10</td>\n      <td>T</td>\n    </tr>\n    <tr>\n      <th>3</th>\n      <td>17</td>\n      <td>7800, 756 - 6th Avenue. S.W.</td>\n      <td>None</td>\n      <td>Calgary</td>\n      <td>Alberta</td>\n      <td>T2P 3Z0</td>\n      <td>4</td>\n      <td>T</td>\n    </tr>\n    <tr>\n      <th>4</th>\n      <td>18</td>\n      <td>789 Yonge Street</td>\n      <td>None</td>\n      <td>Toronto</td>\n      <td>Ontario</td>\n      <td>M2M 4K8</td>\n      <td>4</td>\n      <td>T</td>\n    </tr>\n  </tbody>\n</table>\n</div>"
     },
     "execution_count": 20,
     "metadata": {},
     "output_type": "execute_result"
    }
   ],
   "source": [
    "sales_branch = go_sales_sales_branch\n",
    "\n",
    "# rename the columns\n",
    "sales_branch = sales_branch.rename(columns={'SALES_BRANCH_CODE': 'SALES_BRANCH_code', 'COUNTRY_CODE': 'SALES_BRANCH_COUNTRY_CODE_country', 'REGION': 'SALES_BRANCH_REGION_region', 'CITY': 'SALES_BRANCH_CITY_city', 'POSTAL_ZONE': 'SALES_BRANCH_POSTAL_ZONE_postal_zone', 'ADDRESS1': 'SALES_BRANCH_ADDRESS1_address', 'ADDRESS2': 'SALES_BRANCH_ADDRESS2_address', 'MAIN_ADDRESS': 'SALES_BRANCH_MAIN_ADDRESS_address'})\n",
    "\n",
    "all_dataframes.append(sales_branch)\n",
    "\n",
    "sales_branch.head()"
   ]
  },
  {
   "cell_type": "markdown",
   "id": "9f351715913d1fe1",
   "metadata": {
    "collapsed": false
   },
   "source": [
    "### Retailer_contact"
   ]
  },
  {
   "cell_type": "code",
   "execution_count": 21,
   "id": "225ad64b29a0ebd3",
   "metadata": {
    "collapsed": false,
    "ExecuteTime": {
     "end_time": "2024-03-14T14:52:24.781777Z",
     "start_time": "2024-03-14T14:52:24.771572Z"
    }
   },
   "outputs": [
    {
     "data": {
      "text/plain": "  RETAILER_CONTACT_code RETAILER_CONTACT_RETAILER_SITE_CODE_site_code  \\\n0                    10                                            14   \n1                   100                                            85   \n2                   101                                            84   \n3                   102                                            88   \n4                   103                                            92   \n\n  RETAILER_CONTACT_FIRST_NAME_first_name RETAILER_CONTACT_LAST_NAME_last_name  \\\n0                                  Frank                                Smith   \n1                                 Amanda                                Yates   \n2                                  Paula                              Schmidt   \n3                                Micheal                                  Tao   \n4                                   Jack                               Murphy   \n\n  RETAILER_CONTACT_JOB_POSITION_EN_position  \\\n0                           Chief Purchaser   \n1                             Stock Manager   \n2                       Assistant Purchaser   \n3                          District Manager   \n4                          District Manager   \n\n  RETAILER_CONTACT_EXTENSION_extension RETAILER_CONTACT_FAX_fax  \\\n0                                 2489         1 (514) 741-1610   \n1                                 None         1 (702) 369-2274   \n2                                 None         1 (702) 882-0978   \n3                                  445         1 (713) 524-3215   \n4                                 None         1 (305) 557-5478   \n\n      RETAILER_CONTACT_email RETAILER_CONTACT_GENDER_gender TRIAL222  \n0    FSmith@legolfeurinc.com                              M        T  \n1          Y2883@emertxe.com                              F        T  \n2          S8832@emertxe.com                              F        T  \n3          T8839@emertxe.com                              M        T  \n4  Murphy@eyedimensions3.com                              M        T  ",
      "text/html": "<div>\n<style scoped>\n    .dataframe tbody tr th:only-of-type {\n        vertical-align: middle;\n    }\n\n    .dataframe tbody tr th {\n        vertical-align: top;\n    }\n\n    .dataframe thead th {\n        text-align: right;\n    }\n</style>\n<table border=\"1\" class=\"dataframe\">\n  <thead>\n    <tr style=\"text-align: right;\">\n      <th></th>\n      <th>RETAILER_CONTACT_code</th>\n      <th>RETAILER_CONTACT_RETAILER_SITE_CODE_site_code</th>\n      <th>RETAILER_CONTACT_FIRST_NAME_first_name</th>\n      <th>RETAILER_CONTACT_LAST_NAME_last_name</th>\n      <th>RETAILER_CONTACT_JOB_POSITION_EN_position</th>\n      <th>RETAILER_CONTACT_EXTENSION_extension</th>\n      <th>RETAILER_CONTACT_FAX_fax</th>\n      <th>RETAILER_CONTACT_email</th>\n      <th>RETAILER_CONTACT_GENDER_gender</th>\n      <th>TRIAL222</th>\n    </tr>\n  </thead>\n  <tbody>\n    <tr>\n      <th>0</th>\n      <td>10</td>\n      <td>14</td>\n      <td>Frank</td>\n      <td>Smith</td>\n      <td>Chief Purchaser</td>\n      <td>2489</td>\n      <td>1 (514) 741-1610</td>\n      <td>FSmith@legolfeurinc.com</td>\n      <td>M</td>\n      <td>T</td>\n    </tr>\n    <tr>\n      <th>1</th>\n      <td>100</td>\n      <td>85</td>\n      <td>Amanda</td>\n      <td>Yates</td>\n      <td>Stock Manager</td>\n      <td>None</td>\n      <td>1 (702) 369-2274</td>\n      <td>Y2883@emertxe.com</td>\n      <td>F</td>\n      <td>T</td>\n    </tr>\n    <tr>\n      <th>2</th>\n      <td>101</td>\n      <td>84</td>\n      <td>Paula</td>\n      <td>Schmidt</td>\n      <td>Assistant Purchaser</td>\n      <td>None</td>\n      <td>1 (702) 882-0978</td>\n      <td>S8832@emertxe.com</td>\n      <td>F</td>\n      <td>T</td>\n    </tr>\n    <tr>\n      <th>3</th>\n      <td>102</td>\n      <td>88</td>\n      <td>Micheal</td>\n      <td>Tao</td>\n      <td>District Manager</td>\n      <td>445</td>\n      <td>1 (713) 524-3215</td>\n      <td>T8839@emertxe.com</td>\n      <td>M</td>\n      <td>T</td>\n    </tr>\n    <tr>\n      <th>4</th>\n      <td>103</td>\n      <td>92</td>\n      <td>Jack</td>\n      <td>Murphy</td>\n      <td>District Manager</td>\n      <td>None</td>\n      <td>1 (305) 557-5478</td>\n      <td>Murphy@eyedimensions3.com</td>\n      <td>M</td>\n      <td>T</td>\n    </tr>\n  </tbody>\n</table>\n</div>"
     },
     "execution_count": 21,
     "metadata": {},
     "output_type": "execute_result"
    }
   ],
   "source": [
    "retailer_contact = go_crm_retailer_contact\n",
    "\n",
    "# rename the columns\n",
    "retailer_contact = retailer_contact.rename(columns={'RETAILER_CONTACT_CODE': 'RETAILER_CONTACT_code', 'E_MAIL': 'RETAILER_CONTACT_email', 'RETAILER_SITE_CODE': 'RETAILER_CONTACT_RETAILER_SITE_CODE_site_code', 'JOB_POSITION_EN': 'RETAILER_CONTACT_JOB_POSITION_EN_position', 'EXTENSION': 'RETAILER_CONTACT_EXTENSION_extension', 'FAX': 'RETAILER_CONTACT_FAX_fax', 'GENDER' : 'RETAILER_CONTACT_GENDER_gender', 'FIRST_NAME': 'RETAILER_CONTACT_FIRST_NAME_first_name', 'LAST_NAME': 'RETAILER_CONTACT_LAST_NAME_last_name'})\n",
    "\n",
    "all_dataframes.append(retailer_contact)\n",
    "\n",
    "retailer_contact.head()"
   ]
  },
  {
   "cell_type": "markdown",
   "id": "5440ce379eadccf3",
   "metadata": {
    "collapsed": false
   },
   "source": [
    "### Retailer"
   ]
  },
  {
   "cell_type": "code",
   "execution_count": 22,
   "id": "71d9483bff7d0752",
   "metadata": {
    "collapsed": false,
    "ExecuteTime": {
     "end_time": "2024-03-14T14:52:25.174824Z",
     "start_time": "2024-03-14T14:52:25.164242Z"
    }
   },
   "outputs": [
    {
     "data": {
      "text/plain": "  RETAILER_code RETAILER_COMPANY_CODE_MR_company               RETAILER_name  \\\n0             1                             None                   ActiForme   \n1           100                               70                Golf Masters   \n2           101                               71             The Marketplace   \n3           102                               72    Camping Equipment Online   \n4           103                               73  Tamarack Outfitter Rentals   \n\n  RETAILER_RETAILER_TYPE_retailer_type_code TRIAL219  \\\n0                                         5        T   \n1                                         1        T   \n2                                         2        T   \n3                                         3        T   \n4                                         5        T   \n\n  RETAILER_RETAILER_TYPE_retailer_type_EN TRIAL222  \n0                  Equipment Rental Store        T  \n1                               Golf Shop        T  \n2                        Department Store        T  \n3                        Direct Marketing        T  \n4                  Equipment Rental Store        T  ",
      "text/html": "<div>\n<style scoped>\n    .dataframe tbody tr th:only-of-type {\n        vertical-align: middle;\n    }\n\n    .dataframe tbody tr th {\n        vertical-align: top;\n    }\n\n    .dataframe thead th {\n        text-align: right;\n    }\n</style>\n<table border=\"1\" class=\"dataframe\">\n  <thead>\n    <tr style=\"text-align: right;\">\n      <th></th>\n      <th>RETAILER_code</th>\n      <th>RETAILER_COMPANY_CODE_MR_company</th>\n      <th>RETAILER_name</th>\n      <th>RETAILER_RETAILER_TYPE_retailer_type_code</th>\n      <th>TRIAL219</th>\n      <th>RETAILER_RETAILER_TYPE_retailer_type_EN</th>\n      <th>TRIAL222</th>\n    </tr>\n  </thead>\n  <tbody>\n    <tr>\n      <th>0</th>\n      <td>1</td>\n      <td>None</td>\n      <td>ActiForme</td>\n      <td>5</td>\n      <td>T</td>\n      <td>Equipment Rental Store</td>\n      <td>T</td>\n    </tr>\n    <tr>\n      <th>1</th>\n      <td>100</td>\n      <td>70</td>\n      <td>Golf Masters</td>\n      <td>1</td>\n      <td>T</td>\n      <td>Golf Shop</td>\n      <td>T</td>\n    </tr>\n    <tr>\n      <th>2</th>\n      <td>101</td>\n      <td>71</td>\n      <td>The Marketplace</td>\n      <td>2</td>\n      <td>T</td>\n      <td>Department Store</td>\n      <td>T</td>\n    </tr>\n    <tr>\n      <th>3</th>\n      <td>102</td>\n      <td>72</td>\n      <td>Camping Equipment Online</td>\n      <td>3</td>\n      <td>T</td>\n      <td>Direct Marketing</td>\n      <td>T</td>\n    </tr>\n    <tr>\n      <th>4</th>\n      <td>103</td>\n      <td>73</td>\n      <td>Tamarack Outfitter Rentals</td>\n      <td>5</td>\n      <td>T</td>\n      <td>Equipment Rental Store</td>\n      <td>T</td>\n    </tr>\n  </tbody>\n</table>\n</div>"
     },
     "execution_count": 22,
     "metadata": {},
     "output_type": "execute_result"
    }
   ],
   "source": [
    "retailer = pd.merge(go_crm_retailer, go_crm_retailer_type, left_on='RETAILER_TYPE_CODE', right_on='RETAILER_TYPE_CODE')\n",
    "\n",
    "# rename the columns\n",
    "retailer = retailer.rename(columns={'RETAILER_CODE': 'RETAILER_code', 'COMPANY_NAME': 'RETAILER_name', 'RETAILER_CODEMR': 'RETAILER_COMPANY_CODE_MR_company', 'RETAILER_TYPE_CODE': 'RETAILER_RETAILER_TYPE_retailer_type_code', 'RETAILER_TYPE_EN': 'RETAILER_RETAILER_TYPE_retailer_type_EN'})\n",
    "\n",
    "all_dataframes.append(retailer)\n",
    "\n",
    "retailer.head()"
   ]
  },
  {
   "cell_type": "markdown",
   "id": "4294143c48572b68",
   "metadata": {
    "collapsed": false
   },
   "source": [
    "### Product"
   ]
  },
  {
   "cell_type": "code",
   "execution_count": 23,
   "id": "edddbd324315ff8e",
   "metadata": {
    "collapsed": false,
    "ExecuteTime": {
     "end_time": "2024-03-14T14:52:25.272752Z",
     "start_time": "2024-03-14T14:52:25.256086Z"
    }
   },
   "outputs": [
    {
     "data": {
      "text/plain": "  PRODUCT_number PRODUCT_INTRODUCTION_DATE_introduced  \\\n0              1                            15-2-2011   \n1             10                            15-2-2011   \n2            100                            15-2-2011   \n3            101                           15-12-2019   \n4            102                           10-12-2019   \n\n  PRODUCT_PRODUCT_TYPE_code PRODUCT_PRODUCTION_COST_cost  \\\n0                         1                            4   \n1                         1                           10   \n2                        17                            3   \n3                        18                       305.54   \n4                        18                       380.95   \n\n  PRODUCT_MARGIN_margin PRODUCT_image_image PRODUCT_LANGUAGE_language  \\\n0                   .33       P01CE1CG1.jpg                        EN   \n1                    .4       P10CE1CG1.jpg                        EN   \n2                    .5     P100OP4FA17.jpg                        EN   \n3                   .43     P101GE5IR18.jpg                        EN   \n4                   .51     P102GE5IR18.jpg                        EN   \n\n       PRODUCT_name_product  \\\n0       TrailChef Water Bag   \n1        TrailChef Utensils   \n2        Insect Bite Relief   \n3     Hailstorm Steel Irons   \n4  Hailstorm Titanium Irons   \n\n                     PRODUCT_description_description TRIAL888_x  \\\n0  Lightweight, collapsible bag to carry liquids ...          T   \n1  Spoon, fork and knife set made of a light yet ...          T   \n2  The Insect Bite Relief helps the itching and s...          T   \n3  Iron is 17-4 stainless steel.  Shafts are grap...          T   \n4  Made entirely of pure titanium. The ultimate i...          T   \n\n  PRODUCT_PRODUCT_LINE_code PRODUCT_PRODUCT_TYPE_code_en TRIAL888_y  \\\n0                         1                 Cooking Gear          T   \n1                         1                 Cooking Gear          T   \n2                         4                    First Aid          T   \n3                         5                        Irons          T   \n4                         5                        Irons          T   \n\n  PRODUCT_PRODUCT_LINE_code_en TRIAL888  \n0            Camping Equipment        T  \n1            Camping Equipment        T  \n2           Outdoor Protection        T  \n3               Golf Equipment        T  \n4               Golf Equipment        T  ",
      "text/html": "<div>\n<style scoped>\n    .dataframe tbody tr th:only-of-type {\n        vertical-align: middle;\n    }\n\n    .dataframe tbody tr th {\n        vertical-align: top;\n    }\n\n    .dataframe thead th {\n        text-align: right;\n    }\n</style>\n<table border=\"1\" class=\"dataframe\">\n  <thead>\n    <tr style=\"text-align: right;\">\n      <th></th>\n      <th>PRODUCT_number</th>\n      <th>PRODUCT_INTRODUCTION_DATE_introduced</th>\n      <th>PRODUCT_PRODUCT_TYPE_code</th>\n      <th>PRODUCT_PRODUCTION_COST_cost</th>\n      <th>PRODUCT_MARGIN_margin</th>\n      <th>PRODUCT_image_image</th>\n      <th>PRODUCT_LANGUAGE_language</th>\n      <th>PRODUCT_name_product</th>\n      <th>PRODUCT_description_description</th>\n      <th>TRIAL888_x</th>\n      <th>PRODUCT_PRODUCT_LINE_code</th>\n      <th>PRODUCT_PRODUCT_TYPE_code_en</th>\n      <th>TRIAL888_y</th>\n      <th>PRODUCT_PRODUCT_LINE_code_en</th>\n      <th>TRIAL888</th>\n    </tr>\n  </thead>\n  <tbody>\n    <tr>\n      <th>0</th>\n      <td>1</td>\n      <td>15-2-2011</td>\n      <td>1</td>\n      <td>4</td>\n      <td>.33</td>\n      <td>P01CE1CG1.jpg</td>\n      <td>EN</td>\n      <td>TrailChef Water Bag</td>\n      <td>Lightweight, collapsible bag to carry liquids ...</td>\n      <td>T</td>\n      <td>1</td>\n      <td>Cooking Gear</td>\n      <td>T</td>\n      <td>Camping Equipment</td>\n      <td>T</td>\n    </tr>\n    <tr>\n      <th>1</th>\n      <td>10</td>\n      <td>15-2-2011</td>\n      <td>1</td>\n      <td>10</td>\n      <td>.4</td>\n      <td>P10CE1CG1.jpg</td>\n      <td>EN</td>\n      <td>TrailChef Utensils</td>\n      <td>Spoon, fork and knife set made of a light yet ...</td>\n      <td>T</td>\n      <td>1</td>\n      <td>Cooking Gear</td>\n      <td>T</td>\n      <td>Camping Equipment</td>\n      <td>T</td>\n    </tr>\n    <tr>\n      <th>2</th>\n      <td>100</td>\n      <td>15-2-2011</td>\n      <td>17</td>\n      <td>3</td>\n      <td>.5</td>\n      <td>P100OP4FA17.jpg</td>\n      <td>EN</td>\n      <td>Insect Bite Relief</td>\n      <td>The Insect Bite Relief helps the itching and s...</td>\n      <td>T</td>\n      <td>4</td>\n      <td>First Aid</td>\n      <td>T</td>\n      <td>Outdoor Protection</td>\n      <td>T</td>\n    </tr>\n    <tr>\n      <th>3</th>\n      <td>101</td>\n      <td>15-12-2019</td>\n      <td>18</td>\n      <td>305.54</td>\n      <td>.43</td>\n      <td>P101GE5IR18.jpg</td>\n      <td>EN</td>\n      <td>Hailstorm Steel Irons</td>\n      <td>Iron is 17-4 stainless steel.  Shafts are grap...</td>\n      <td>T</td>\n      <td>5</td>\n      <td>Irons</td>\n      <td>T</td>\n      <td>Golf Equipment</td>\n      <td>T</td>\n    </tr>\n    <tr>\n      <th>4</th>\n      <td>102</td>\n      <td>10-12-2019</td>\n      <td>18</td>\n      <td>380.95</td>\n      <td>.51</td>\n      <td>P102GE5IR18.jpg</td>\n      <td>EN</td>\n      <td>Hailstorm Titanium Irons</td>\n      <td>Made entirely of pure titanium. The ultimate i...</td>\n      <td>T</td>\n      <td>5</td>\n      <td>Irons</td>\n      <td>T</td>\n      <td>Golf Equipment</td>\n      <td>T</td>\n    </tr>\n  </tbody>\n</table>\n</div>"
     },
     "execution_count": 23,
     "metadata": {},
     "output_type": "execute_result"
    }
   ],
   "source": [
    "product = pd.merge(go_sales_product, go_sales_product_type, left_on='PRODUCT_TYPE_CODE', right_on='PRODUCT_TYPE_CODE')\n",
    "product = pd.merge(product, go_sales_product_line, left_on='PRODUCT_LINE_CODE', right_on='PRODUCT_LINE_CODE')\n",
    "\n",
    "# rename the columns\n",
    "product = product.rename(columns={'PRODUCT_NUMBER': 'PRODUCT_number', 'PRODUCT_NAME': 'PRODUCT_name_product', 'DESCRIPTION': 'PRODUCT_description_description', 'PRODUCT_IMAGE': 'PRODUCT_image_image', 'INTRODUCTION_DATE': 'PRODUCT_INTRODUCTION_DATE_introduced', 'PRODUCTION_COST': 'PRODUCT_PRODUCTION_COST_cost', 'MARGIN': 'PRODUCT_MARGIN_margin', 'LANGUAGE': 'PRODUCT_LANGUAGE_language',  'PRODUCT_TYPE_CODE': 'PRODUCT_PRODUCT_TYPE_code', 'PRODUCT_TYPE_EN': 'PRODUCT_PRODUCT_TYPE_code_en', 'PRODUCT_LINE_CODE': 'PRODUCT_PRODUCT_LINE_code', 'PRODUCT_LINE_EN': 'PRODUCT_PRODUCT_LINE_code_en'})\n",
    "\n",
    "all_dataframes.append(product)\n",
    "\n",
    "product.head()"
   ]
  },
  {
   "cell_type": "markdown",
   "id": "3dd3f1237cd6217f",
   "metadata": {
    "collapsed": false
   },
   "source": [
    "### Order_details"
   ]
  },
  {
   "cell_type": "code",
   "execution_count": 24,
   "id": "9709a31ccd988768",
   "metadata": {
    "collapsed": false,
    "ExecuteTime": {
     "end_time": "2024-03-14T14:52:25.539205Z",
     "start_time": "2024-03-14T14:52:25.508643Z"
    }
   },
   "outputs": [
    {
     "data": {
      "text/plain": "  ORDER_DETAIL_CODE ORDER_DETAILS_ORDER_NUMBER_order  \\\n0            100146                             8465   \n1            100149                             9116   \n2            100199                             9113   \n3            100250                             9254   \n4            100641                             9269   \n\n  ORDER_DETAILS_PRODUCT_NUMBER_product  ORDER_DETAILS_QUANTITY_quantity  \\\n0                                   15                               16   \n1                                   16                               64   \n2                                   30                               22   \n3                                   43                               52   \n4                                  111                                6   \n\n  TRIAL879  UNIT_id  ORDER_DETAILS_UNIT_ID_unit  \\\n0        T      144                         143   \n1        T      147                         146   \n2        T      197                         196   \n3        T      248                         247   \n4        T      635                         634   \n\n  ORDER_DETAILS_RETURN_CODE_returned RETURNED_ITEM_DATE_date  \\\n0                               1975       9-8-2021 18:45:17   \n1                               1976       6-7-2021 13:34:59   \n2                               1979       6-7-2021 07:19:36   \n3                               2298     14-12-2021 11:28:50   \n4                               2301     19-12-2021 04:10:53   \n\n  RETURNED_ITEM_QUANTITY_quantity RETURNED_ITEM_ORDER_DETAIL_CODE_detail_code  \\\n0                              16                                      100146   \n1                              64                                      100149   \n2                              22                                      100199   \n3                               6                                      100250   \n4                               6                                      100641   \n\n  RETURNED_ITEM_RETURN_REASON_code RETURNED_ITEM_RETURN_REASON_description_en  \\\n0                                4                      Wrong product shipped   \n1                                5                     Unsatisfactory product   \n2                                4                      Wrong product shipped   \n3                                1                          Defective product   \n4                                4                      Wrong product shipped   \n\n  UNIT_COST_cost UNIT_PRICE_price UNIT_SALE_sale  \n0         504.54           756.82          593.5  \n1           1.02             2.05           2.05  \n2           6.78            13.57          13.57  \n3         126.51           189.77         189.77  \n4          81.87           180.13         180.13  ",
      "text/html": "<div>\n<style scoped>\n    .dataframe tbody tr th:only-of-type {\n        vertical-align: middle;\n    }\n\n    .dataframe tbody tr th {\n        vertical-align: top;\n    }\n\n    .dataframe thead th {\n        text-align: right;\n    }\n</style>\n<table border=\"1\" class=\"dataframe\">\n  <thead>\n    <tr style=\"text-align: right;\">\n      <th></th>\n      <th>ORDER_DETAIL_CODE</th>\n      <th>ORDER_DETAILS_ORDER_NUMBER_order</th>\n      <th>ORDER_DETAILS_PRODUCT_NUMBER_product</th>\n      <th>ORDER_DETAILS_QUANTITY_quantity</th>\n      <th>TRIAL879</th>\n      <th>UNIT_id</th>\n      <th>ORDER_DETAILS_UNIT_ID_unit</th>\n      <th>ORDER_DETAILS_RETURN_CODE_returned</th>\n      <th>RETURNED_ITEM_DATE_date</th>\n      <th>RETURNED_ITEM_QUANTITY_quantity</th>\n      <th>RETURNED_ITEM_ORDER_DETAIL_CODE_detail_code</th>\n      <th>RETURNED_ITEM_RETURN_REASON_code</th>\n      <th>RETURNED_ITEM_RETURN_REASON_description_en</th>\n      <th>UNIT_COST_cost</th>\n      <th>UNIT_PRICE_price</th>\n      <th>UNIT_SALE_sale</th>\n    </tr>\n  </thead>\n  <tbody>\n    <tr>\n      <th>0</th>\n      <td>100146</td>\n      <td>8465</td>\n      <td>15</td>\n      <td>16</td>\n      <td>T</td>\n      <td>144</td>\n      <td>143</td>\n      <td>1975</td>\n      <td>9-8-2021 18:45:17</td>\n      <td>16</td>\n      <td>100146</td>\n      <td>4</td>\n      <td>Wrong product shipped</td>\n      <td>504.54</td>\n      <td>756.82</td>\n      <td>593.5</td>\n    </tr>\n    <tr>\n      <th>1</th>\n      <td>100149</td>\n      <td>9116</td>\n      <td>16</td>\n      <td>64</td>\n      <td>T</td>\n      <td>147</td>\n      <td>146</td>\n      <td>1976</td>\n      <td>6-7-2021 13:34:59</td>\n      <td>64</td>\n      <td>100149</td>\n      <td>5</td>\n      <td>Unsatisfactory product</td>\n      <td>1.02</td>\n      <td>2.05</td>\n      <td>2.05</td>\n    </tr>\n    <tr>\n      <th>2</th>\n      <td>100199</td>\n      <td>9113</td>\n      <td>30</td>\n      <td>22</td>\n      <td>T</td>\n      <td>197</td>\n      <td>196</td>\n      <td>1979</td>\n      <td>6-7-2021 07:19:36</td>\n      <td>22</td>\n      <td>100199</td>\n      <td>4</td>\n      <td>Wrong product shipped</td>\n      <td>6.78</td>\n      <td>13.57</td>\n      <td>13.57</td>\n    </tr>\n    <tr>\n      <th>3</th>\n      <td>100250</td>\n      <td>9254</td>\n      <td>43</td>\n      <td>52</td>\n      <td>T</td>\n      <td>248</td>\n      <td>247</td>\n      <td>2298</td>\n      <td>14-12-2021 11:28:50</td>\n      <td>6</td>\n      <td>100250</td>\n      <td>1</td>\n      <td>Defective product</td>\n      <td>126.51</td>\n      <td>189.77</td>\n      <td>189.77</td>\n    </tr>\n    <tr>\n      <th>4</th>\n      <td>100641</td>\n      <td>9269</td>\n      <td>111</td>\n      <td>6</td>\n      <td>T</td>\n      <td>635</td>\n      <td>634</td>\n      <td>2301</td>\n      <td>19-12-2021 04:10:53</td>\n      <td>6</td>\n      <td>100641</td>\n      <td>4</td>\n      <td>Wrong product shipped</td>\n      <td>81.87</td>\n      <td>180.13</td>\n      <td>180.13</td>\n    </tr>\n  </tbody>\n</table>\n</div>"
     },
     "execution_count": 24,
     "metadata": {},
     "output_type": "execute_result"
    }
   ],
   "source": [
    "order_details = go_sales_order_details\n",
    "\n",
    "# replacing original columns with unit and returned_item\n",
    "order_details['ORDER_DETAILS_UNIT_ID_unit'] = unit.index\n",
    "\n",
    "# merging the returned_item and order_details\n",
    "order_details = pd.merge(order_details, returned_item, left_on='ORDER_DETAIL_CODE', right_on='RETURNED_ITEM_ORDER_DETAIL_CODE_detail_code')\n",
    "\n",
    "# merging unit and order_details\n",
    "order_details = pd.merge(order_details, unit, left_on='UNIT_id', right_on='UNIT_id')\n",
    "\n",
    "# dropping the columns replaced by unit and returned_item\n",
    "order_details = order_details.drop(columns=['UNIT_COST', 'UNIT_PRICE', 'UNIT_SALE_PRICE']) \n",
    "\n",
    "# rename the columns\n",
    "order_details = order_details.rename(columns={'ORDER_DETAILS_CODE': 'ORDER_DETAILS_code', 'QUANTITY': 'ORDER_DETAILS_QUANTITY_quantity', 'RETURNED_ITEM_code': 'ORDER_DETAILS_RETURN_CODE_returned', 'ORDER_NUMBER': 'ORDER_DETAILS_ORDER_NUMBER_order', 'PRODUCT_NUMBER': 'ORDER_DETAILS_PRODUCT_NUMBER_product', 'UNIT_ID': 'ORDER_DETAILS_UNIT_ID_unit'})\n",
    "\n",
    "all_dataframes.append(order_details)\n",
    "\n",
    "order_details.head()"
   ]
  },
  {
   "cell_type": "markdown",
   "id": "8b73e9b4b1cca021",
   "metadata": {
    "collapsed": false
   },
   "source": [
    "### Training"
   ]
  },
  {
   "cell_type": "code",
   "execution_count": 25,
   "id": "25a1efa0fab720ea",
   "metadata": {
    "collapsed": false,
    "ExecuteTime": {
     "end_time": "2024-03-14T14:52:25.679969Z",
     "start_time": "2024-03-14T14:52:25.667874Z"
    }
   },
   "outputs": [
    {
     "data": {
      "text/plain": "  TRAINING_YEAR TRAINING_SALES_STAFF_CODE TRAINING_COURSE_CODE TRIAL633_x  \\\n0          2004                       100                    2          T   \n1          2004                       100                    3          T   \n2          2004                       100                    4          T   \n3          2005                       100                    5          T   \n4          2006                       100                    6          T   \n\n   index COURSE_code COURSE_DESCRIPTION TRIAL633_y  \n0      0           2   GO Communication          T  \n1      0           3         GO Sales 1          T  \n2      0           4         GO Sales 2          T  \n3      3           5     GO Marketing 1          T  \n4      4           6     GO Marketing 2          T  ",
      "text/html": "<div>\n<style scoped>\n    .dataframe tbody tr th:only-of-type {\n        vertical-align: middle;\n    }\n\n    .dataframe tbody tr th {\n        vertical-align: top;\n    }\n\n    .dataframe thead th {\n        text-align: right;\n    }\n</style>\n<table border=\"1\" class=\"dataframe\">\n  <thead>\n    <tr style=\"text-align: right;\">\n      <th></th>\n      <th>TRAINING_YEAR</th>\n      <th>TRAINING_SALES_STAFF_CODE</th>\n      <th>TRAINING_COURSE_CODE</th>\n      <th>TRIAL633_x</th>\n      <th>index</th>\n      <th>COURSE_code</th>\n      <th>COURSE_DESCRIPTION</th>\n      <th>TRIAL633_y</th>\n    </tr>\n  </thead>\n  <tbody>\n    <tr>\n      <th>0</th>\n      <td>2004</td>\n      <td>100</td>\n      <td>2</td>\n      <td>T</td>\n      <td>0</td>\n      <td>2</td>\n      <td>GO Communication</td>\n      <td>T</td>\n    </tr>\n    <tr>\n      <th>1</th>\n      <td>2004</td>\n      <td>100</td>\n      <td>3</td>\n      <td>T</td>\n      <td>0</td>\n      <td>3</td>\n      <td>GO Sales 1</td>\n      <td>T</td>\n    </tr>\n    <tr>\n      <th>2</th>\n      <td>2004</td>\n      <td>100</td>\n      <td>4</td>\n      <td>T</td>\n      <td>0</td>\n      <td>4</td>\n      <td>GO Sales 2</td>\n      <td>T</td>\n    </tr>\n    <tr>\n      <th>3</th>\n      <td>2005</td>\n      <td>100</td>\n      <td>5</td>\n      <td>T</td>\n      <td>3</td>\n      <td>5</td>\n      <td>GO Marketing 1</td>\n      <td>T</td>\n    </tr>\n    <tr>\n      <th>4</th>\n      <td>2006</td>\n      <td>100</td>\n      <td>6</td>\n      <td>T</td>\n      <td>4</td>\n      <td>6</td>\n      <td>GO Marketing 2</td>\n      <td>T</td>\n    </tr>\n  </tbody>\n</table>\n</div>"
     },
     "execution_count": 25,
     "metadata": {},
     "output_type": "execute_result"
    }
   ],
   "source": [
    "training = go_staff_training\n",
    "\n",
    "# replacing the original columns with year and course\n",
    "# merging the year and course\n",
    "training = pd.merge(training, year, left_on='YEAR', right_on='YEAR')\n",
    "training = pd.merge(training, course, left_on='COURSE_CODE', right_on='COURSE_code')\n",
    "\n",
    "# rename the columns\n",
    "training = training.rename(columns={'SALES_STAFF_CODE': 'TRAINING_SALES_STAFF_CODE', 'COURSE_CODE': 'TRAINING_COURSE_CODE', 'YEAR': 'TRAINING_YEAR'})\n",
    "\n",
    "all_dataframes.append(training)\n",
    "\n",
    "training.head()"
   ]
  },
  {
   "cell_type": "markdown",
   "id": "fafe9322068f9bcb",
   "metadata": {
    "collapsed": false
   },
   "source": [
    "### Satisfaction"
   ]
  },
  {
   "cell_type": "code",
   "execution_count": 26,
   "id": "1f79b295694d9060",
   "metadata": {
    "collapsed": false,
    "ExecuteTime": {
     "end_time": "2024-03-14T14:52:25.899705Z",
     "start_time": "2024-03-14T14:52:25.887291Z"
    }
   },
   "outputs": [
    {
     "data": {
      "text/plain": "  SATISFACTION_YEAR SATISFACTION_SALES_STAFF_CODE  \\\n0              2004                           100   \n1              2004                           101   \n2              2004                           102   \n3              2004                           103   \n4              2004                           104   \n\n  SATISFACTION_SATISFACTION_TYPE_CODE TRIAL633_x  index  \\\n0                                   1          T      0   \n1                                   4          T      0   \n2                                   4          T      0   \n3                                   3          T      0   \n4                                   4          T      0   \n\n  SATISFACTION_TYPE_code SATISFACTION_TYPE_DESCRIPTION TRIAL633_y  \n0                      1                 Not satisfied          T  \n1                      4                Very Satisfied          T  \n2                      4                Very Satisfied          T  \n3                      3                     Satisfied          T  \n4                      4                Very Satisfied          T  ",
      "text/html": "<div>\n<style scoped>\n    .dataframe tbody tr th:only-of-type {\n        vertical-align: middle;\n    }\n\n    .dataframe tbody tr th {\n        vertical-align: top;\n    }\n\n    .dataframe thead th {\n        text-align: right;\n    }\n</style>\n<table border=\"1\" class=\"dataframe\">\n  <thead>\n    <tr style=\"text-align: right;\">\n      <th></th>\n      <th>SATISFACTION_YEAR</th>\n      <th>SATISFACTION_SALES_STAFF_CODE</th>\n      <th>SATISFACTION_SATISFACTION_TYPE_CODE</th>\n      <th>TRIAL633_x</th>\n      <th>index</th>\n      <th>SATISFACTION_TYPE_code</th>\n      <th>SATISFACTION_TYPE_DESCRIPTION</th>\n      <th>TRIAL633_y</th>\n    </tr>\n  </thead>\n  <tbody>\n    <tr>\n      <th>0</th>\n      <td>2004</td>\n      <td>100</td>\n      <td>1</td>\n      <td>T</td>\n      <td>0</td>\n      <td>1</td>\n      <td>Not satisfied</td>\n      <td>T</td>\n    </tr>\n    <tr>\n      <th>1</th>\n      <td>2004</td>\n      <td>101</td>\n      <td>4</td>\n      <td>T</td>\n      <td>0</td>\n      <td>4</td>\n      <td>Very Satisfied</td>\n      <td>T</td>\n    </tr>\n    <tr>\n      <th>2</th>\n      <td>2004</td>\n      <td>102</td>\n      <td>4</td>\n      <td>T</td>\n      <td>0</td>\n      <td>4</td>\n      <td>Very Satisfied</td>\n      <td>T</td>\n    </tr>\n    <tr>\n      <th>3</th>\n      <td>2004</td>\n      <td>103</td>\n      <td>3</td>\n      <td>T</td>\n      <td>0</td>\n      <td>3</td>\n      <td>Satisfied</td>\n      <td>T</td>\n    </tr>\n    <tr>\n      <th>4</th>\n      <td>2004</td>\n      <td>104</td>\n      <td>4</td>\n      <td>T</td>\n      <td>0</td>\n      <td>4</td>\n      <td>Very Satisfied</td>\n      <td>T</td>\n    </tr>\n  </tbody>\n</table>\n</div>"
     },
     "execution_count": 26,
     "metadata": {},
     "output_type": "execute_result"
    }
   ],
   "source": [
    "satisfaction = go_staff_satisfaction\n",
    "\n",
    "# replacing the original columns with year and satisfaction_type\n",
    "# merging the year and satisfaction_type\n",
    "satisfaction = pd.merge(satisfaction, year, left_on='YEAR', right_on='YEAR')\n",
    "satisfaction = pd.merge(satisfaction, satisfaction_type, left_on='SATISFACTION_TYPE_CODE', right_on='SATISFACTION_TYPE_code')\n",
    "\n",
    "# rename the columns\n",
    "satisfaction = satisfaction.rename(columns={'SALES_STAFF_CODE': 'SATISFACTION_SALES_STAFF_CODE', 'SATISFACTION_TYPE_CODE': 'SATISFACTION_SATISFACTION_TYPE_CODE', 'YEAR': 'SATISFACTION_YEAR'})\n",
    "\n",
    "all_dataframes.append(satisfaction)\n",
    "\n",
    "satisfaction.head()"
   ]
  },
  {
   "cell_type": "markdown",
   "id": "a2de04bb43925941",
   "metadata": {
    "collapsed": false
   },
   "source": [
    "### Order_header"
   ]
  },
  {
   "cell_type": "code",
   "execution_count": 27,
   "id": "1b4956744dca5608",
   "metadata": {
    "collapsed": false,
    "ExecuteTime": {
     "end_time": "2024-03-14T14:52:26.181870Z",
     "start_time": "2024-03-14T14:52:26.127622Z"
    }
   },
   "outputs": [
    {
     "data": {
      "text/plain": "  ORDER_HEADER_number ORDER_HEADER_RETAILER_NAME  \\\n0                1153               Ultra Sports   \n1                1154               Ultra Sports   \n2                1155               Ultra Sports   \n3                1156               Ultra Sports   \n4                1157               Ultra Sports   \n\n  ORDER_HEADER_RETAILER_SITE_CODE ORDER_HEADER_RETAILER_CONTACT_CODE  \\\n0                               4                                  6   \n1                               4                                  6   \n2                               5                                 65   \n3                               5                                 65   \n4                               6                                 66   \n\n  ORDER_HEADER_SALES_STAFF ORDER_HEADER_SALES_BRANCH_CODE  \\\n0                       50                             18   \n1                       50                             18   \n2                       49                             18   \n3                       49                             18   \n4                       50                             18   \n\n  ORDER_HEADER_ORDER_DATE ORDER_METHOD_CODE TRIAL885 RETAILER_code  ...  \\\n0              2020-04-14                 7        T            90  ...   \n1              2020-10-01                 4        T            90  ...   \n2              2020-04-21                 7        T            90  ...   \n3              2020-09-09                 5        T            90  ...   \n4              2020-04-10                 2        T            90  ...   \n\n  RETAILER_CONTACT_code RETAILER_CONTACT_RETAILER_SITE_CODE_site_code  \\\n0                     6                                             4   \n1                     6                                             4   \n2                    65                                             5   \n3                    65                                             5   \n4                    66                                             6   \n\n  RETAILER_CONTACT_FIRST_NAME_first_name RETAILER_CONTACT_LAST_NAME_last_name  \\\n0                                  Marie                             Turcotte   \n1                                  Marie                             Turcotte   \n2                                 Andrea                              Martens   \n3                                 Andrea                              Martens   \n4                                   Bill                              Follett   \n\n  RETAILER_CONTACT_JOB_POSITION_EN_position  \\\n0                       Assistant Purchaser   \n1                       Assistant Purchaser   \n2                             Stock Manager   \n3                             Stock Manager   \n4                    Site Assistant Manager   \n\n  RETAILER_CONTACT_EXTENSION_extension  RETAILER_CONTACT_FAX_fax  \\\n0                                  635          1 (514) 747-2582   \n1                                  635          1 (514) 747-2582   \n2                                 None          1 (705) 675-9848   \n3                                 None          1 (705) 675-9848   \n4                                 None          1 (819) 427-4397   \n\n    RETAILER_CONTACT_email RETAILER_CONTACT_GENDER_gender TRIAL222_y  \n0  MTurcotte@cybserv19.com                              F          T  \n1  MTurcotte@cybserv19.com                              F          T  \n2   AMartens@cybserv19.com                              F          T  \n3   AMartens@cybserv19.com                              F          T  \n4   BFollett@cybserv19.com                              M          T  \n\n[5 rows x 50 columns]",
      "text/html": "<div>\n<style scoped>\n    .dataframe tbody tr th:only-of-type {\n        vertical-align: middle;\n    }\n\n    .dataframe tbody tr th {\n        vertical-align: top;\n    }\n\n    .dataframe thead th {\n        text-align: right;\n    }\n</style>\n<table border=\"1\" class=\"dataframe\">\n  <thead>\n    <tr style=\"text-align: right;\">\n      <th></th>\n      <th>ORDER_HEADER_number</th>\n      <th>ORDER_HEADER_RETAILER_NAME</th>\n      <th>ORDER_HEADER_RETAILER_SITE_CODE</th>\n      <th>ORDER_HEADER_RETAILER_CONTACT_CODE</th>\n      <th>ORDER_HEADER_SALES_STAFF</th>\n      <th>ORDER_HEADER_SALES_BRANCH_CODE</th>\n      <th>ORDER_HEADER_ORDER_DATE</th>\n      <th>ORDER_METHOD_CODE</th>\n      <th>TRIAL885</th>\n      <th>RETAILER_code</th>\n      <th>...</th>\n      <th>RETAILER_CONTACT_code</th>\n      <th>RETAILER_CONTACT_RETAILER_SITE_CODE_site_code</th>\n      <th>RETAILER_CONTACT_FIRST_NAME_first_name</th>\n      <th>RETAILER_CONTACT_LAST_NAME_last_name</th>\n      <th>RETAILER_CONTACT_JOB_POSITION_EN_position</th>\n      <th>RETAILER_CONTACT_EXTENSION_extension</th>\n      <th>RETAILER_CONTACT_FAX_fax</th>\n      <th>RETAILER_CONTACT_email</th>\n      <th>RETAILER_CONTACT_GENDER_gender</th>\n      <th>TRIAL222_y</th>\n    </tr>\n  </thead>\n  <tbody>\n    <tr>\n      <th>0</th>\n      <td>1153</td>\n      <td>Ultra Sports</td>\n      <td>4</td>\n      <td>6</td>\n      <td>50</td>\n      <td>18</td>\n      <td>2020-04-14</td>\n      <td>7</td>\n      <td>T</td>\n      <td>90</td>\n      <td>...</td>\n      <td>6</td>\n      <td>4</td>\n      <td>Marie</td>\n      <td>Turcotte</td>\n      <td>Assistant Purchaser</td>\n      <td>635</td>\n      <td>1 (514) 747-2582</td>\n      <td>MTurcotte@cybserv19.com</td>\n      <td>F</td>\n      <td>T</td>\n    </tr>\n    <tr>\n      <th>1</th>\n      <td>1154</td>\n      <td>Ultra Sports</td>\n      <td>4</td>\n      <td>6</td>\n      <td>50</td>\n      <td>18</td>\n      <td>2020-10-01</td>\n      <td>4</td>\n      <td>T</td>\n      <td>90</td>\n      <td>...</td>\n      <td>6</td>\n      <td>4</td>\n      <td>Marie</td>\n      <td>Turcotte</td>\n      <td>Assistant Purchaser</td>\n      <td>635</td>\n      <td>1 (514) 747-2582</td>\n      <td>MTurcotte@cybserv19.com</td>\n      <td>F</td>\n      <td>T</td>\n    </tr>\n    <tr>\n      <th>2</th>\n      <td>1155</td>\n      <td>Ultra Sports</td>\n      <td>5</td>\n      <td>65</td>\n      <td>49</td>\n      <td>18</td>\n      <td>2020-04-21</td>\n      <td>7</td>\n      <td>T</td>\n      <td>90</td>\n      <td>...</td>\n      <td>65</td>\n      <td>5</td>\n      <td>Andrea</td>\n      <td>Martens</td>\n      <td>Stock Manager</td>\n      <td>None</td>\n      <td>1 (705) 675-9848</td>\n      <td>AMartens@cybserv19.com</td>\n      <td>F</td>\n      <td>T</td>\n    </tr>\n    <tr>\n      <th>3</th>\n      <td>1156</td>\n      <td>Ultra Sports</td>\n      <td>5</td>\n      <td>65</td>\n      <td>49</td>\n      <td>18</td>\n      <td>2020-09-09</td>\n      <td>5</td>\n      <td>T</td>\n      <td>90</td>\n      <td>...</td>\n      <td>65</td>\n      <td>5</td>\n      <td>Andrea</td>\n      <td>Martens</td>\n      <td>Stock Manager</td>\n      <td>None</td>\n      <td>1 (705) 675-9848</td>\n      <td>AMartens@cybserv19.com</td>\n      <td>F</td>\n      <td>T</td>\n    </tr>\n    <tr>\n      <th>4</th>\n      <td>1157</td>\n      <td>Ultra Sports</td>\n      <td>6</td>\n      <td>66</td>\n      <td>50</td>\n      <td>18</td>\n      <td>2020-04-10</td>\n      <td>2</td>\n      <td>T</td>\n      <td>90</td>\n      <td>...</td>\n      <td>66</td>\n      <td>6</td>\n      <td>Bill</td>\n      <td>Follett</td>\n      <td>Site Assistant Manager</td>\n      <td>None</td>\n      <td>1 (819) 427-4397</td>\n      <td>BFollett@cybserv19.com</td>\n      <td>M</td>\n      <td>T</td>\n    </tr>\n  </tbody>\n</table>\n<p>5 rows × 50 columns</p>\n</div>"
     },
     "execution_count": 27,
     "metadata": {},
     "output_type": "execute_result"
    }
   ],
   "source": [
    "order_header = pd.merge(go_sales_order_header, retailer, left_on='RETAILER_NAME', right_on='RETAILER_name')\n",
    "\n",
    "# converting the date to datetime\n",
    "order_header['ORDER_DATE'] = pd.to_datetime(order_header['ORDER_DATE'])\n",
    "\n",
    "# replacing the original columns with date, sales_staff, retailer_site and retailer_contact\n",
    "# merging the date, sales_staff, retailer_site and retailer_contact\n",
    "order_header = pd.merge(order_header, date, left_on='ORDER_DATE', right_on='DATE_date')\n",
    "order_header = pd.merge(order_header, sales_staff, left_on='SALES_STAFF_CODE', right_on='SALES_STAFF_code')\n",
    "order_header = pd.merge(order_header, retailer_site, left_on='RETAILER_SITE_CODE', right_on='RETAILER_SITE_code')\n",
    "order_header = pd.merge(order_header, retailer_contact, left_on='RETAILER_CONTACT_CODE', right_on='RETAILER_CONTACT_code')\n",
    "\n",
    "# rename the columns\n",
    "order_header = order_header.rename(columns={'ORDER_NUMBER': 'ORDER_HEADER_number', 'RETAILER_NAME': 'ORDER_HEADER_RETAILER_NAME', 'SALES_STAFF_CODE': 'ORDER_HEADER_SALES_STAFF', 'SALES_BRANCH_CODE': 'ORDER_HEADER_SALES_BRANCH_CODE', 'ORDER_DATE': 'ORDER_HEADER_ORDER_DATE', 'RETAILER_SITE_CODE': 'ORDER_HEADER_RETAILER_SITE_CODE', 'RETAILER_CONTACT_CODE': 'ORDER_HEADER_RETAILER_CONTACT_CODE'})\n",
    "\n",
    "all_dataframes.append(order_header)\n",
    "\n",
    "order_header.head()"
   ]
  },
  {
   "cell_type": "markdown",
   "id": "dc092095fec002b",
   "metadata": {
    "collapsed": false
   },
   "source": [
    "### GO_SALES_INVENTORY_LEVELS"
   ]
  },
  {
   "cell_type": "code",
   "execution_count": 28,
   "id": "9ab2574dc17f0c43",
   "metadata": {
    "collapsed": false,
    "ExecuteTime": {
     "end_time": "2024-03-14T14:52:26.322808Z",
     "start_time": "2024-03-14T14:52:26.305907Z"
    }
   },
   "outputs": [
    {
     "data": {
      "text/plain": "   GO_SALES_INVENTORY_LEVELS_PRODUCT_NUMBER  \\\n0                                        48   \n1                                        49   \n2                                        50   \n3                                        51   \n4                                        52   \n\n   GO_SALES_INVENTORY_LEVELS_INVENTORY_COUNT  \\\n0                                       1932   \n1                                       1400   \n2                                      21705   \n3                                       9710   \n4                                       5616   \n\n  GO_SALES_INVENTORY_LEVELS_YEAR_MONTH  \n0                              2021-04  \n1                              2021-04  \n2                              2021-04  \n3                              2021-04  \n4                              2021-04  ",
      "text/html": "<div>\n<style scoped>\n    .dataframe tbody tr th:only-of-type {\n        vertical-align: middle;\n    }\n\n    .dataframe tbody tr th {\n        vertical-align: top;\n    }\n\n    .dataframe thead th {\n        text-align: right;\n    }\n</style>\n<table border=\"1\" class=\"dataframe\">\n  <thead>\n    <tr style=\"text-align: right;\">\n      <th></th>\n      <th>GO_SALES_INVENTORY_LEVELS_PRODUCT_NUMBER</th>\n      <th>GO_SALES_INVENTORY_LEVELS_INVENTORY_COUNT</th>\n      <th>GO_SALES_INVENTORY_LEVELS_YEAR_MONTH</th>\n    </tr>\n  </thead>\n  <tbody>\n    <tr>\n      <th>0</th>\n      <td>48</td>\n      <td>1932</td>\n      <td>2021-04</td>\n    </tr>\n    <tr>\n      <th>1</th>\n      <td>49</td>\n      <td>1400</td>\n      <td>2021-04</td>\n    </tr>\n    <tr>\n      <th>2</th>\n      <td>50</td>\n      <td>21705</td>\n      <td>2021-04</td>\n    </tr>\n    <tr>\n      <th>3</th>\n      <td>51</td>\n      <td>9710</td>\n      <td>2021-04</td>\n    </tr>\n    <tr>\n      <th>4</th>\n      <td>52</td>\n      <td>5616</td>\n      <td>2021-04</td>\n    </tr>\n  </tbody>\n</table>\n</div>"
     },
     "execution_count": 28,
     "metadata": {},
     "output_type": "execute_result"
    }
   ],
   "source": [
    "# adding a leading 0 to the month if it is a single digit\n",
    "go_sales_inventory_levels['INVENTORY_MONTH'] = go_sales_inventory_levels['INVENTORY_MONTH'].astype(str).str.zfill(2)\n",
    "\n",
    "# combine year and month to one column\n",
    "go_sales_inventory_levels['YEAR_MONTH'] = go_sales_inventory_levels['INVENTORY_YEAR'].astype(str) + '-' + go_sales_inventory_levels['INVENTORY_MONTH'].astype(str)\n",
    "\n",
    "# dropping the original columns\n",
    "go_sales_inventory_levels = go_sales_inventory_levels.drop(columns=['INVENTORY_YEAR', 'INVENTORY_MONTH'])\n",
    "\n",
    "go_sales_inventory_levels = go_sales_inventory_levels.rename(columns={'INVENTORY_COUNT': 'GO_SALES_INVENTORY_LEVELS_INVENTORY_COUNT', 'PRODUCT_NUMBER': 'GO_SALES_INVENTORY_LEVELS_PRODUCT_NUMBER', 'YEAR_MONTH': 'GO_SALES_INVENTORY_LEVELS_YEAR_MONTH'})\n",
    "\n",
    "all_dataframes.append(go_sales_inventory_levels)\n",
    "\n",
    "go_sales_inventory_levels.head()"
   ]
  },
  {
   "cell_type": "markdown",
   "id": "63ea2b3ff0c095ae",
   "metadata": {
    "collapsed": false
   },
   "source": [
    "### GO_SALES_PRODUCT_FORECAST"
   ]
  },
  {
   "cell_type": "code",
   "execution_count": 29,
   "id": "288d7bec80d4571",
   "metadata": {
    "collapsed": false,
    "ExecuteTime": {
     "end_time": "2024-03-14T14:52:26.698895Z",
     "start_time": "2024-03-14T14:52:26.684955Z"
    }
   },
   "outputs": [
    {
     "data": {
      "text/plain": "   GO_SALES_PRODUCT_FORECAST_PRODUCT_NUMBER  \\\n0                                        44   \n1                                        45   \n2                                        45   \n3                                        45   \n4                                        45   \n\n   GO_SALES_PRODUCT_FORECAST_EXPECTED_VOLUME  \\\n0                                        383   \n1                                         80   \n2                                         51   \n3                                        214   \n4                                        300   \n\n  GO_SALES_PRODUCT_FORECAST_YEAR_MONTH  \n0                              2022-12  \n1                              2021-01  \n2                              2021-02  \n3                              2021-03  \n4                              2021-04  ",
      "text/html": "<div>\n<style scoped>\n    .dataframe tbody tr th:only-of-type {\n        vertical-align: middle;\n    }\n\n    .dataframe tbody tr th {\n        vertical-align: top;\n    }\n\n    .dataframe thead th {\n        text-align: right;\n    }\n</style>\n<table border=\"1\" class=\"dataframe\">\n  <thead>\n    <tr style=\"text-align: right;\">\n      <th></th>\n      <th>GO_SALES_PRODUCT_FORECAST_PRODUCT_NUMBER</th>\n      <th>GO_SALES_PRODUCT_FORECAST_EXPECTED_VOLUME</th>\n      <th>GO_SALES_PRODUCT_FORECAST_YEAR_MONTH</th>\n    </tr>\n  </thead>\n  <tbody>\n    <tr>\n      <th>0</th>\n      <td>44</td>\n      <td>383</td>\n      <td>2022-12</td>\n    </tr>\n    <tr>\n      <th>1</th>\n      <td>45</td>\n      <td>80</td>\n      <td>2021-01</td>\n    </tr>\n    <tr>\n      <th>2</th>\n      <td>45</td>\n      <td>51</td>\n      <td>2021-02</td>\n    </tr>\n    <tr>\n      <th>3</th>\n      <td>45</td>\n      <td>214</td>\n      <td>2021-03</td>\n    </tr>\n    <tr>\n      <th>4</th>\n      <td>45</td>\n      <td>300</td>\n      <td>2021-04</td>\n    </tr>\n  </tbody>\n</table>\n</div>"
     },
     "execution_count": 29,
     "metadata": {},
     "output_type": "execute_result"
    }
   ],
   "source": [
    "# adding a leading zero to the month if it is a single digit\n",
    "go_sales_product_forcast['MONTH'] = go_sales_product_forcast['MONTH'].astype(str).str.zfill(2)\n",
    "\n",
    "#combine year and month to one column\n",
    "go_sales_product_forcast['YEAR_MONTH'] = go_sales_product_forcast['YEAR'].astype(str) + '-' + go_sales_product_forcast['MONTH'].astype(str)\n",
    "\n",
    "# dropping the original columns\n",
    "go_sales_product_forcast = go_sales_product_forcast.drop(columns=['YEAR', 'MONTH'])\n",
    "\n",
    "go_sales_product_forecast = go_sales_product_forcast.rename(columns={'EXPECTED_VOLUME': 'GO_SALES_PRODUCT_FORECAST_EXPECTED_VOLUME', 'EXPECTED_COST': 'GO_SALES_PRODUCT_FORECAST_EXPECTED_COST', 'EXPECTED_MARGIN': 'GO_SALES_PRODUCT_FORECAST_EXPECTED_MARGIN', 'PRODUCT_NUMBER': 'GO_SALES_PRODUCT_FORECAST_PRODUCT_NUMBER', 'YEAR_MONTH': 'GO_SALES_PRODUCT_FORECAST_YEAR_MONTH'})\n",
    "\n",
    "all_dataframes.append(go_sales_product_forecast)\n",
    "\n",
    "go_sales_product_forecast.head()"
   ]
  },
  {
   "cell_type": "markdown",
   "id": "bbc4cad433e188d7",
   "metadata": {
    "collapsed": false
   },
   "source": [
    "###  SALES_TARGETData"
   ]
  },
  {
   "cell_type": "code",
   "execution_count": 30,
   "id": "c2f565e0160b4bc5",
   "metadata": {
    "collapsed": false,
    "ExecuteTime": {
     "end_time": "2024-03-14T14:52:27.062620Z",
     "start_time": "2024-03-14T14:52:26.928795Z"
    }
   },
   "outputs": [
    {
     "data": {
      "text/plain": "   Id SALES_TARGETDATA_SALES_STAFF_CODE SALES_TARGETDATA_SALES_YEAR  \\\n0   1                                 6                        2021   \n1   2                                 6                        2021   \n2   3                                 6                        2021   \n3   4                                 6                        2021   \n4   5                                 6                        2021   \n\n  SALES_TARGETDATA_SALES_PERIOD SALES_TARGETDATA_RETAILER_NAME  \\\n0                             5             Altitudes extrêmes   \n1                             5             Altitudes extrêmes   \n2                             5             Altitudes extrêmes   \n3                             5                Camping Sauvage   \n4                             5                Camping Sauvage   \n\n  SALES_TARGETDATA_SALES_TARGET TRIAL888_product PRODUCT_number  \\\n0                           489                T             53   \n1                           666                T             55   \n2                           682                T             56   \n3                          3193                T             76   \n4                          7236                T             85   \n\n  PRODUCT_INTRODUCTION_DATE_introduced PRODUCT_PRODUCT_TYPE_code  ...  \\\n0                            10-1-2021                         8  ...   \n1                            10-1-2021                         8  ...   \n2                            10-1-2021                         8  ...   \n3                            15-2-2011                        12  ...   \n4                            12-6-2015                        14  ...   \n\n                     PRODUCT_description_description TRIAL888_x  \\\n0  This climbing lamp is water-resistant. It come...          T   \n1  Rechargeable battery pack for the Firefly Clim...          T   \n2  Nylon web bag perfect for holding several stic...          T   \n3  Knife is 33 cm long with a 20 cm blade made of...          T   \n4  Hand held GPS receiver with color display. Inc...          T   \n\n  PRODUCT_PRODUCT_LINE_code PRODUCT_PRODUCT_TYPE_code_en TRIAL888_y  \\\n0                         2         Climbing Accessories          T   \n1                         2         Climbing Accessories          T   \n2                         2         Climbing Accessories          T   \n3                         3                       Knives          T   \n4                         3                   Navigation          T   \n\n  PRODUCT_PRODUCT_LINE_code_en TRIAL888_retailer RETAILER_code TRIAL219  \\\n0     Mountaineering Equipment                 T            33        T   \n1     Mountaineering Equipment                 T            33        T   \n2     Mountaineering Equipment                 T            33        T   \n3         Personal Accessories                 T            35        T   \n4         Personal Accessories                 T            35        T   \n\n  TRIAL222  \n0        T  \n1        T  \n2        T  \n3        T  \n4        T  \n\n[5 rows x 25 columns]",
      "text/html": "<div>\n<style scoped>\n    .dataframe tbody tr th:only-of-type {\n        vertical-align: middle;\n    }\n\n    .dataframe tbody tr th {\n        vertical-align: top;\n    }\n\n    .dataframe thead th {\n        text-align: right;\n    }\n</style>\n<table border=\"1\" class=\"dataframe\">\n  <thead>\n    <tr style=\"text-align: right;\">\n      <th></th>\n      <th>Id</th>\n      <th>SALES_TARGETDATA_SALES_STAFF_CODE</th>\n      <th>SALES_TARGETDATA_SALES_YEAR</th>\n      <th>SALES_TARGETDATA_SALES_PERIOD</th>\n      <th>SALES_TARGETDATA_RETAILER_NAME</th>\n      <th>SALES_TARGETDATA_SALES_TARGET</th>\n      <th>TRIAL888_product</th>\n      <th>PRODUCT_number</th>\n      <th>PRODUCT_INTRODUCTION_DATE_introduced</th>\n      <th>PRODUCT_PRODUCT_TYPE_code</th>\n      <th>...</th>\n      <th>PRODUCT_description_description</th>\n      <th>TRIAL888_x</th>\n      <th>PRODUCT_PRODUCT_LINE_code</th>\n      <th>PRODUCT_PRODUCT_TYPE_code_en</th>\n      <th>TRIAL888_y</th>\n      <th>PRODUCT_PRODUCT_LINE_code_en</th>\n      <th>TRIAL888_retailer</th>\n      <th>RETAILER_code</th>\n      <th>TRIAL219</th>\n      <th>TRIAL222</th>\n    </tr>\n  </thead>\n  <tbody>\n    <tr>\n      <th>0</th>\n      <td>1</td>\n      <td>6</td>\n      <td>2021</td>\n      <td>5</td>\n      <td>Altitudes extrêmes</td>\n      <td>489</td>\n      <td>T</td>\n      <td>53</td>\n      <td>10-1-2021</td>\n      <td>8</td>\n      <td>...</td>\n      <td>This climbing lamp is water-resistant. It come...</td>\n      <td>T</td>\n      <td>2</td>\n      <td>Climbing Accessories</td>\n      <td>T</td>\n      <td>Mountaineering Equipment</td>\n      <td>T</td>\n      <td>33</td>\n      <td>T</td>\n      <td>T</td>\n    </tr>\n    <tr>\n      <th>1</th>\n      <td>2</td>\n      <td>6</td>\n      <td>2021</td>\n      <td>5</td>\n      <td>Altitudes extrêmes</td>\n      <td>666</td>\n      <td>T</td>\n      <td>55</td>\n      <td>10-1-2021</td>\n      <td>8</td>\n      <td>...</td>\n      <td>Rechargeable battery pack for the Firefly Clim...</td>\n      <td>T</td>\n      <td>2</td>\n      <td>Climbing Accessories</td>\n      <td>T</td>\n      <td>Mountaineering Equipment</td>\n      <td>T</td>\n      <td>33</td>\n      <td>T</td>\n      <td>T</td>\n    </tr>\n    <tr>\n      <th>2</th>\n      <td>3</td>\n      <td>6</td>\n      <td>2021</td>\n      <td>5</td>\n      <td>Altitudes extrêmes</td>\n      <td>682</td>\n      <td>T</td>\n      <td>56</td>\n      <td>10-1-2021</td>\n      <td>8</td>\n      <td>...</td>\n      <td>Nylon web bag perfect for holding several stic...</td>\n      <td>T</td>\n      <td>2</td>\n      <td>Climbing Accessories</td>\n      <td>T</td>\n      <td>Mountaineering Equipment</td>\n      <td>T</td>\n      <td>33</td>\n      <td>T</td>\n      <td>T</td>\n    </tr>\n    <tr>\n      <th>3</th>\n      <td>4</td>\n      <td>6</td>\n      <td>2021</td>\n      <td>5</td>\n      <td>Camping Sauvage</td>\n      <td>3193</td>\n      <td>T</td>\n      <td>76</td>\n      <td>15-2-2011</td>\n      <td>12</td>\n      <td>...</td>\n      <td>Knife is 33 cm long with a 20 cm blade made of...</td>\n      <td>T</td>\n      <td>3</td>\n      <td>Knives</td>\n      <td>T</td>\n      <td>Personal Accessories</td>\n      <td>T</td>\n      <td>35</td>\n      <td>T</td>\n      <td>T</td>\n    </tr>\n    <tr>\n      <th>4</th>\n      <td>5</td>\n      <td>6</td>\n      <td>2021</td>\n      <td>5</td>\n      <td>Camping Sauvage</td>\n      <td>7236</td>\n      <td>T</td>\n      <td>85</td>\n      <td>12-6-2015</td>\n      <td>14</td>\n      <td>...</td>\n      <td>Hand held GPS receiver with color display. Inc...</td>\n      <td>T</td>\n      <td>3</td>\n      <td>Navigation</td>\n      <td>T</td>\n      <td>Personal Accessories</td>\n      <td>T</td>\n      <td>35</td>\n      <td>T</td>\n      <td>T</td>\n    </tr>\n  </tbody>\n</table>\n<p>5 rows × 25 columns</p>\n</div>"
     },
     "execution_count": 30,
     "metadata": {},
     "output_type": "execute_result"
    }
   ],
   "source": [
    "# merge product, retailer and sales_staff\n",
    "go_sales_sales_target_data = pd.merge(go_sales_sales_target_data, product, left_on='PRODUCT_NUMBER', right_on='PRODUCT_number', suffixes=('_product', '_retailer'))\n",
    "\n",
    "go_sales_sales_target_data = pd.merge(go_sales_sales_target_data, retailer, left_on='RETAILER_CODE', right_on='RETAILER_code', suffixes=('_retailer', '_sales_staff'))\n",
    "\n",
    "# delete the original columns that are replaced by product, retailer and sales_staff\n",
    "go_sales_sales_target_data = go_sales_sales_target_data.drop(columns=['PRODUCT_NUMBER', 'RETAILER_CODE', 'RETAILER_name', 'RETAILER_COMPANY_CODE_MR_company', 'RETAILER_RETAILER_TYPE_retailer_type_code', 'RETAILER_RETAILER_TYPE_retailer_type_EN'])\n",
    "\n",
    "sales_target_data = go_sales_sales_target_data.rename(columns={'SALES_YEAR': 'SALES_TARGETDATA_SALES_YEAR', 'SALES_PERIOD': 'SALES_TARGETDATA_SALES_PERIOD', 'RETAILER_NAME': 'SALES_TARGETDATA_RETAILER_NAME', 'SALES_TARGET': 'SALES_TARGETDATA_SALES_TARGET', 'TARGET_COST': 'SALES_TARGETDATA_TARGET_COST', 'TARGET_MARGIN': 'SALES_TARGETDATA_TARGET_MARGIN', 'SALES_STAFF_CODE': 'SALES_TARGETDATA_SALES_STAFF_CODE', 'PRODUCT_NUMBER': 'SALES_TARGETDATA_PRODUCT_NUMBER', 'RETAILER_CODE': 'SALES_TARGETDATA_RETAILER_CODE'})\n",
    "\n",
    "all_dataframes.append(sales_target_data)\n",
    "\n",
    "sales_target_data.head()"
   ]
  },
  {
   "cell_type": "markdown",
   "id": "d2c2a7365aa32f1",
   "metadata": {
    "collapsed": false
   },
   "source": [
    "### Retailer_segment"
   ]
  },
  {
   "cell_type": "code",
   "execution_count": 31,
   "id": "d3a3794aa2bcf7c2",
   "metadata": {
    "collapsed": false,
    "ExecuteTime": {
     "end_time": "2024-03-14T14:52:27.153594Z",
     "start_time": "2024-03-14T14:52:27.145680Z"
    }
   },
   "outputs": [
    {
     "data": {
      "text/plain": "  RETAILER_SEGMENT_segment_code RETAILER_SEGMENT_language  \\\n0                             1                        EN   \n1                            10                        EN   \n2                            11                        EN   \n3                            12                        EN   \n4                             2                        EN   \n\n  RETAILER_SEGMENT_segment_name  \\\n0     Outdoors Shop - Exclusive   \n1                 Eyewear Store   \n2      Sports Store - Exclusive   \n3                  Sports Store   \n4                 Outdoors Shop   \n\n    RETAILER_SEGMENT_SEGMENT_DESCRIPTION_description TRIAL222  \n0  Primarily offers camping supplies, hiking equi...        T  \n1  Primarily offers prescription and fashion eyew...        T  \n2  Primarily offers a wide range of sporting good...        T  \n3   Primarily offers a wide range of sporting goods.        T  \n4  Primarily offers camping supplies, hiking equi...        T  ",
      "text/html": "<div>\n<style scoped>\n    .dataframe tbody tr th:only-of-type {\n        vertical-align: middle;\n    }\n\n    .dataframe tbody tr th {\n        vertical-align: top;\n    }\n\n    .dataframe thead th {\n        text-align: right;\n    }\n</style>\n<table border=\"1\" class=\"dataframe\">\n  <thead>\n    <tr style=\"text-align: right;\">\n      <th></th>\n      <th>RETAILER_SEGMENT_segment_code</th>\n      <th>RETAILER_SEGMENT_language</th>\n      <th>RETAILER_SEGMENT_segment_name</th>\n      <th>RETAILER_SEGMENT_SEGMENT_DESCRIPTION_description</th>\n      <th>TRIAL222</th>\n    </tr>\n  </thead>\n  <tbody>\n    <tr>\n      <th>0</th>\n      <td>1</td>\n      <td>EN</td>\n      <td>Outdoors Shop - Exclusive</td>\n      <td>Primarily offers camping supplies, hiking equi...</td>\n      <td>T</td>\n    </tr>\n    <tr>\n      <th>1</th>\n      <td>10</td>\n      <td>EN</td>\n      <td>Eyewear Store</td>\n      <td>Primarily offers prescription and fashion eyew...</td>\n      <td>T</td>\n    </tr>\n    <tr>\n      <th>2</th>\n      <td>11</td>\n      <td>EN</td>\n      <td>Sports Store - Exclusive</td>\n      <td>Primarily offers a wide range of sporting good...</td>\n      <td>T</td>\n    </tr>\n    <tr>\n      <th>3</th>\n      <td>12</td>\n      <td>EN</td>\n      <td>Sports Store</td>\n      <td>Primarily offers a wide range of sporting goods.</td>\n      <td>T</td>\n    </tr>\n    <tr>\n      <th>4</th>\n      <td>2</td>\n      <td>EN</td>\n      <td>Outdoors Shop</td>\n      <td>Primarily offers camping supplies, hiking equi...</td>\n      <td>T</td>\n    </tr>\n  </tbody>\n</table>\n</div>"
     },
     "execution_count": 31,
     "metadata": {},
     "output_type": "execute_result"
    }
   ],
   "source": [
    "retailer_segment = go_crm_retailer_segment\n",
    "\n",
    "# rename the columns\n",
    "retailer_segment = retailer_segment.rename(columns={'SEGMENT_CODE': 'RETAILER_SEGMENT_segment_code', 'LANGUAGE': 'RETAILER_SEGMENT_language', 'SEGMENT_NAME': 'RETAILER_SEGMENT_segment_name', 'SEGMENT_DESCRIPTION': 'RETAILER_SEGMENT_SEGMENT_DESCRIPTION_description'})\n",
    "\n",
    "all_dataframes.append(retailer_segment)\n",
    "\n",
    "retailer_segment.head()"
   ]
  },
  {
   "cell_type": "markdown",
   "id": "ccfc75e23ec0cf14",
   "metadata": {
    "collapsed": false
   },
   "source": [
    "### Retailer_headquarters"
   ]
  },
  {
   "cell_type": "code",
   "execution_count": 32,
   "id": "50382ae176ba25e",
   "metadata": {
    "collapsed": false,
    "ExecuteTime": {
     "end_time": "2024-03-14T14:52:27.421657Z",
     "start_time": "2024-03-14T14:52:27.411210Z"
    }
   },
   "outputs": [
    {
     "data": {
      "text/plain": "  RETAILER_HEADQUARTER_codemr RETAIL_HEADQUARTER_retailer_name  \\\n0                           1                      Rock Steady   \n1                          10           Excellence en Montagne   \n2                          11                 Vacation Central   \n3                          12              Outdoor Central Ltd   \n4                          13              Precipice Equipment   \n\n  RETAILER_HEADQUARTER_address1_address RETAILER_HEADQUARTER_address2_address  \\\n0                       45, rue Atwater                                  None   \n1                     160, rue Moureaux                            Bureau 410   \n2                3000, 58 Merivale Road                                  None   \n3         Suite 23, 180 McKercher Drive                                  None   \n4                      23 Blackcomb Way                                  None   \n\n  RETAILER_HEADQUARTER_city_city RETAILER_HEADQUARTER_region_region  \\\n0                       Montréal                             Québec   \n1                Ville de Québec                             Québec   \n2                         Ottawa                            Ontario   \n3                         Regina                       Saskatchewan   \n4                       Whistler                   British Columbia   \n\n  RETAILER_HEADQUARTER_postal_zone_postal_zone  \\\n0                                      H2T 9K8   \n1                                      G1B 3L5   \n2                                      K0T 9R0   \n3                                      S6J 3G0   \n4                                      V6T 1Y8   \n\n  RETAILER_HEADQUARTER_country_code_country RETAILER_HEADQUARTER_phone_phone  \\\n0                                         4                 1 (514) 747-4481   \n1                                         4                 1 (418) 653-6456   \n2                                         4                 1 (613) 736-6443   \n3                                         4                 1 (306) 243-8764   \n4                                         4                 1 (604) 938-7564   \n\n  RETAILER_HEADQUARTER_fax_fax RETAILER_HEADQUARTER_segment_code TRIAL222  \n0             1 (514) 741-2277                                 2        T  \n1             1 (418) 653-2311                                 2        T  \n2             1 (613) 736-5593                                 6        T  \n3             1 (306) 243-5213                                 2        T  \n4             1 (604) 938-2324                                 1        T  ",
      "text/html": "<div>\n<style scoped>\n    .dataframe tbody tr th:only-of-type {\n        vertical-align: middle;\n    }\n\n    .dataframe tbody tr th {\n        vertical-align: top;\n    }\n\n    .dataframe thead th {\n        text-align: right;\n    }\n</style>\n<table border=\"1\" class=\"dataframe\">\n  <thead>\n    <tr style=\"text-align: right;\">\n      <th></th>\n      <th>RETAILER_HEADQUARTER_codemr</th>\n      <th>RETAIL_HEADQUARTER_retailer_name</th>\n      <th>RETAILER_HEADQUARTER_address1_address</th>\n      <th>RETAILER_HEADQUARTER_address2_address</th>\n      <th>RETAILER_HEADQUARTER_city_city</th>\n      <th>RETAILER_HEADQUARTER_region_region</th>\n      <th>RETAILER_HEADQUARTER_postal_zone_postal_zone</th>\n      <th>RETAILER_HEADQUARTER_country_code_country</th>\n      <th>RETAILER_HEADQUARTER_phone_phone</th>\n      <th>RETAILER_HEADQUARTER_fax_fax</th>\n      <th>RETAILER_HEADQUARTER_segment_code</th>\n      <th>TRIAL222</th>\n    </tr>\n  </thead>\n  <tbody>\n    <tr>\n      <th>0</th>\n      <td>1</td>\n      <td>Rock Steady</td>\n      <td>45, rue Atwater</td>\n      <td>None</td>\n      <td>Montréal</td>\n      <td>Québec</td>\n      <td>H2T 9K8</td>\n      <td>4</td>\n      <td>1 (514) 747-4481</td>\n      <td>1 (514) 741-2277</td>\n      <td>2</td>\n      <td>T</td>\n    </tr>\n    <tr>\n      <th>1</th>\n      <td>10</td>\n      <td>Excellence en Montagne</td>\n      <td>160, rue Moureaux</td>\n      <td>Bureau 410</td>\n      <td>Ville de Québec</td>\n      <td>Québec</td>\n      <td>G1B 3L5</td>\n      <td>4</td>\n      <td>1 (418) 653-6456</td>\n      <td>1 (418) 653-2311</td>\n      <td>2</td>\n      <td>T</td>\n    </tr>\n    <tr>\n      <th>2</th>\n      <td>11</td>\n      <td>Vacation Central</td>\n      <td>3000, 58 Merivale Road</td>\n      <td>None</td>\n      <td>Ottawa</td>\n      <td>Ontario</td>\n      <td>K0T 9R0</td>\n      <td>4</td>\n      <td>1 (613) 736-6443</td>\n      <td>1 (613) 736-5593</td>\n      <td>6</td>\n      <td>T</td>\n    </tr>\n    <tr>\n      <th>3</th>\n      <td>12</td>\n      <td>Outdoor Central Ltd</td>\n      <td>Suite 23, 180 McKercher Drive</td>\n      <td>None</td>\n      <td>Regina</td>\n      <td>Saskatchewan</td>\n      <td>S6J 3G0</td>\n      <td>4</td>\n      <td>1 (306) 243-8764</td>\n      <td>1 (306) 243-5213</td>\n      <td>2</td>\n      <td>T</td>\n    </tr>\n    <tr>\n      <th>4</th>\n      <td>13</td>\n      <td>Precipice Equipment</td>\n      <td>23 Blackcomb Way</td>\n      <td>None</td>\n      <td>Whistler</td>\n      <td>British Columbia</td>\n      <td>V6T 1Y8</td>\n      <td>4</td>\n      <td>1 (604) 938-7564</td>\n      <td>1 (604) 938-2324</td>\n      <td>1</td>\n      <td>T</td>\n    </tr>\n  </tbody>\n</table>\n</div>"
     },
     "execution_count": 32,
     "metadata": {},
     "output_type": "execute_result"
    }
   ],
   "source": [
    "retailer_headquarters = go_crm_retailer_headquarters\n",
    "\n",
    "# rename the columns\n",
    "retailer_headquarters = retailer_headquarters.rename(columns={'RETAILER_CODEMR': 'RETAILER_HEADQUARTER_codemr', 'RETAILER_NAME' : 'RETAIL_HEADQUARTER_retailer_name', 'ADDRESS1' : 'RETAILER_HEADQUARTER_address1_address', 'ADDRESS2' : 'RETAILER_HEADQUARTER_address2_address', 'CITY' : 'RETAILER_HEADQUARTER_city_city', 'REGION' : 'RETAILER_HEADQUARTER_region_region', 'POSTAL_ZONE' : 'RETAILER_HEADQUARTER_postal_zone_postal_zone', 'COUNTRY_CODE' : 'RETAILER_HEADQUARTER_country_code_country', 'PHONE' : 'RETAILER_HEADQUARTER_phone_phone', 'FAX': 'RETAILER_HEADQUARTER_fax_fax', 'SEGMENT_CODE' : 'RETAILER_HEADQUARTER_segment_code'})\n",
    "\n",
    "all_dataframes.append(retailer_headquarters)\n",
    "\n",
    "retailer_headquarters.head()"
   ]
  },
  {
   "cell_type": "markdown",
   "id": "fd9a082ad3509fe3",
   "metadata": {
    "collapsed": false
   },
   "source": [
    "### Verwijderen trial kolommen"
   ]
  },
  {
   "cell_type": "code",
   "execution_count": 33,
   "id": "432bdbbc870f71f6",
   "metadata": {
    "collapsed": false,
    "ExecuteTime": {
     "end_time": "2024-03-14T14:52:27.651243Z",
     "start_time": "2024-03-14T14:52:27.625353Z"
    }
   },
   "outputs": [],
   "source": [
    "for df in all_dataframes:\n",
    "    trial_columns = df.filter(like='TRIAL').columns\n",
    "    df.drop(columns=trial_columns, inplace=True)"
   ]
  },
  {
   "cell_type": "markdown",
   "id": "2ab8ad37ba912768",
   "metadata": {
    "collapsed": false
   },
   "source": [
    "# Omzetten van de data\n",
    "Omzetten van de data naar de juiste data types.\n",
    "Year en Date zijn al omgezet naar de juiste data types.\n",
    "GO_SALES_INVENTORY_LEVELS en GO_SALES_PRODUCT_FORECAST hebben ook al de juiste datatypen"
   ]
  },
  {
   "cell_type": "markdown",
   "id": "181c7a93b12d1970",
   "metadata": {
    "collapsed": false
   },
   "source": [
    "### Unit"
   ]
  },
  {
   "cell_type": "code",
   "execution_count": 34,
   "id": "cacf55cc4c604fca",
   "metadata": {
    "collapsed": false,
    "ExecuteTime": {
     "end_time": "2024-03-14T14:52:27.831808Z",
     "start_time": "2024-03-14T14:52:27.806894Z"
    }
   },
   "outputs": [
    {
     "data": {
      "text/plain": "UNIT_COST_cost      float64\nUNIT_PRICE_price    float64\nUNIT_SALE_sale      float64\nUNIT_id               int64\ndtype: object"
     },
     "execution_count": 34,
     "metadata": {},
     "output_type": "execute_result"
    }
   ],
   "source": [
    "unit['UNIT_COST_cost'] = unit['UNIT_COST_cost'].astype('float64')\n",
    "unit['UNIT_PRICE_price'] = unit['UNIT_PRICE_price'].astype('float64')\n",
    "unit['UNIT_SALE_sale'] = unit['UNIT_SALE_sale'].astype('float64')\n",
    "\n",
    "unit.dtypes"
   ]
  },
  {
   "cell_type": "markdown",
   "id": "3216e80489a1934d",
   "metadata": {
    "collapsed": false
   },
   "source": [
    "### Sales_staff"
   ]
  },
  {
   "cell_type": "code",
   "execution_count": 35,
   "id": "a14e6f5e5ef63d79",
   "metadata": {
    "collapsed": false,
    "ExecuteTime": {
     "end_time": "2024-03-14T14:52:28.067831Z",
     "start_time": "2024-03-14T14:52:28.048923Z"
    }
   },
   "outputs": [
    {
     "data": {
      "text/plain": "SALES_STAFF_code                                                 int32\nSALES_STAFF_email                                       string[python]\nSALES_STAFF_extension                                   string[python]\nSALES_STAFF_POSITION_EN_position                        string[python]\nSALES_STAFF_WORK_PHONE_work_phone                       string[python]\nSALES_STAFF_DATE_HIRED_hired                            datetime64[ns]\nSALES_STAFF_MANAGER_CODE_manager                                 int64\nSALES_STAFF_FAX_fax                                     string[python]\nSALES_STAFF_FIRST_NAME_first_name                       string[python]\nSALES_STAFF_LAST_NAME_last_name                         string[python]\nSALES_STAFF_SALES_BRANCH_ADDRESS_address                string[python]\nSALES_STAFF_SALES_BRANCH_ADDRESS_EXTRA_address_extra    string[python]\nSALES_STAFF_SALES_BRANCH_CODE_branch_code                        int64\ndtype: object"
     },
     "execution_count": 35,
     "metadata": {},
     "output_type": "execute_result"
    }
   ],
   "source": [
    "sales_staff['SALES_STAFF_code'] = sales_staff['SALES_STAFF_code'].astype('int')\n",
    "sales_staff['SALES_STAFF_email'] = sales_staff['SALES_STAFF_email'].astype('string')\n",
    "sales_staff['SALES_STAFF_extension'] = sales_staff['SALES_STAFF_extension'].astype('string')\n",
    "sales_staff['SALES_STAFF_POSITION_EN_position'] = sales_staff['SALES_STAFF_POSITION_EN_position'].astype('string')\n",
    "sales_staff['SALES_STAFF_WORK_PHONE_work_phone'] = sales_staff['SALES_STAFF_WORK_PHONE_work_phone'].astype('string')\n",
    "sales_staff['SALES_STAFF_DATE_HIRED_hired'] = pd.to_datetime(sales_staff['SALES_STAFF_DATE_HIRED_hired'], format='mixed')\n",
    "sales_staff['SALES_STAFF_MANAGER_CODE_manager'] = sales_staff['SALES_STAFF_MANAGER_CODE_manager'].astype('int64')\n",
    "sales_staff['SALES_STAFF_FAX_fax'] = sales_staff['SALES_STAFF_FAX_fax'].astype('string')\n",
    "sales_staff['SALES_STAFF_FIRST_NAME_first_name'] = sales_staff['SALES_STAFF_FIRST_NAME_first_name'].astype('string')\n",
    "sales_staff['SALES_STAFF_LAST_NAME_last_name'] = sales_staff['SALES_STAFF_LAST_NAME_last_name'].astype('string')\n",
    "sales_staff['SALES_STAFF_SALES_BRANCH_CODE_branch_code'] = sales_staff['SALES_STAFF_SALES_BRANCH_CODE_branch_code'].astype('int64')\n",
    "sales_staff['SALES_STAFF_SALES_BRANCH_ADDRESS_address'] = sales_staff['SALES_STAFF_SALES_BRANCH_ADDRESS_address'].astype('string')\n",
    "sales_staff['SALES_STAFF_SALES_BRANCH_ADDRESS_EXTRA_address_extra'] = sales_staff['SALES_STAFF_SALES_BRANCH_ADDRESS_EXTRA_address_extra'].astype('string')\n",
    "\n",
    "sales_staff.dtypes"
   ]
  },
  {
   "cell_type": "markdown",
   "id": "e8785e20dcda4096",
   "metadata": {
    "collapsed": false
   },
   "source": [
    "### satisfaction_type"
   ]
  },
  {
   "cell_type": "code",
   "execution_count": 36,
   "id": "cf0c499ca44d0f2c",
   "metadata": {
    "collapsed": false,
    "ExecuteTime": {
     "end_time": "2024-03-14T14:52:28.323403Z",
     "start_time": "2024-03-14T14:52:28.313967Z"
    }
   },
   "outputs": [
    {
     "data": {
      "text/plain": "SATISFACTION_TYPE_code                    int32\nSATISFACTION_TYPE_DESCRIPTION    string[python]\ndtype: object"
     },
     "execution_count": 36,
     "metadata": {},
     "output_type": "execute_result"
    }
   ],
   "source": [
    "satisfaction_type['SATISFACTION_TYPE_code'] = satisfaction_type['SATISFACTION_TYPE_code'].astype('int')\n",
    "satisfaction_type['SATISFACTION_TYPE_DESCRIPTION'] = satisfaction_type['SATISFACTION_TYPE_DESCRIPTION'].astype('string')\n",
    "\n",
    "satisfaction_type.dtypes"
   ]
  },
  {
   "cell_type": "markdown",
   "id": "22c6073850c706a6",
   "metadata": {
    "collapsed": false
   },
   "source": [
    "### Course"
   ]
  },
  {
   "cell_type": "code",
   "execution_count": 37,
   "id": "ba071c23927ffde6",
   "metadata": {
    "collapsed": false,
    "ExecuteTime": {
     "end_time": "2024-03-14T14:52:28.429082Z",
     "start_time": "2024-03-14T14:52:28.422606Z"
    }
   },
   "outputs": [
    {
     "data": {
      "text/plain": "COURSE_code                    int32\nCOURSE_DESCRIPTION    string[python]\ndtype: object"
     },
     "execution_count": 37,
     "metadata": {},
     "output_type": "execute_result"
    }
   ],
   "source": [
    "course['COURSE_code'] = course['COURSE_code'].astype('int')\n",
    "course['COURSE_DESCRIPTION'] = course['COURSE_DESCRIPTION'].astype('string')\n",
    "\n",
    "course.dtypes"
   ]
  },
  {
   "cell_type": "markdown",
   "id": "dba98d048459e640",
   "metadata": {
    "collapsed": false
   },
   "source": [
    "### Order"
   ]
  },
  {
   "cell_type": "code",
   "execution_count": 38,
   "id": "3e0fbcf814cc704",
   "metadata": {
    "collapsed": false,
    "ExecuteTime": {
     "end_time": "2024-03-14T14:52:28.579253Z",
     "start_time": "2024-03-14T14:52:28.571481Z"
    }
   },
   "outputs": [
    {
     "data": {
      "text/plain": "ORDER_ORDER_METHOD_CODE_method_code             int32\nORDER_ORDER_METHOD_EN_method           string[python]\ndtype: object"
     },
     "execution_count": 38,
     "metadata": {},
     "output_type": "execute_result"
    }
   ],
   "source": [
    "order['ORDER_ORDER_METHOD_CODE_method_code'] = order['ORDER_ORDER_METHOD_CODE_method_code'].astype('int')\n",
    "order['ORDER_ORDER_METHOD_EN_method'] = order['ORDER_ORDER_METHOD_EN_method'].astype('string')\n",
    "\n",
    "# generating the primary key\n",
    "order['ORDER_order_number'] = range(1, len(order) + 1)\n",
    "\n",
    "# setting the index\n",
    "order = order.set_index('ORDER_order_number')\n",
    "\n",
    "order.dtypes"
   ]
  },
  {
   "cell_type": "markdown",
   "id": "e40a905ea05dfb42",
   "metadata": {
    "collapsed": false
   },
   "source": [
    "### Retailer_site"
   ]
  },
  {
   "cell_type": "code",
   "execution_count": 39,
   "id": "7862cb29850150bb",
   "metadata": {
    "collapsed": false,
    "ExecuteTime": {
     "end_time": "2024-03-14T14:52:28.662561Z",
     "start_time": "2024-03-14T14:52:28.652881Z"
    }
   },
   "outputs": [
    {
     "data": {
      "text/plain": "RETAILER_SITE_code                                    int32\nRETAILER_SITE_RETAILER_CODE_retailer_code             int32\nRETAILER_SITE_ADDRESS1_address               string[python]\nRETAILER_SITE_ADDRESS2_address               string[python]\nRETAILER_SITE_CITY_city                      string[python]\nRETAILER_SITE_REGION_region                  string[python]\nRETAILER_SITE_POSTAL_ZONE_postal_zone        string[python]\nRETAILER_SITE_COUNTRY_CODE_country           string[python]\nRETAILER_SITE_ACTIVE_INDICATOR_indicator              int32\ndtype: object"
     },
     "execution_count": 39,
     "metadata": {},
     "output_type": "execute_result"
    }
   ],
   "source": [
    "retailer_site['RETAILER_SITE_code'] = retailer_site['RETAILER_SITE_code'].astype('int')\n",
    "retailer_site['RETAILER_SITE_COUNTRY_CODE_country'] = retailer_site['RETAILER_SITE_COUNTRY_CODE_country'].astype('string')\n",
    "retailer_site['RETAILER_SITE_CITY_city'] = retailer_site['RETAILER_SITE_CITY_city'].astype('string')\n",
    "retailer_site['RETAILER_SITE_REGION_region'] = retailer_site['RETAILER_SITE_REGION_region'].astype('string')\n",
    "retailer_site['RETAILER_SITE_POSTAL_ZONE_postal_zone'] = retailer_site['RETAILER_SITE_POSTAL_ZONE_postal_zone'].astype('string')\n",
    "retailer_site['RETAILER_SITE_RETAILER_CODE_retailer_code'] = retailer_site['RETAILER_SITE_RETAILER_CODE_retailer_code'].astype('int')\n",
    "retailer_site['RETAILER_SITE_ACTIVE_INDICATOR_indicator'] = retailer_site['RETAILER_SITE_ACTIVE_INDICATOR_indicator'].astype('int')\n",
    "retailer_site['RETAILER_SITE_ADDRESS1_address'] = retailer_site['RETAILER_SITE_ADDRESS1_address'].astype('string')\n",
    "retailer_site['RETAILER_SITE_ADDRESS2_address'] = retailer_site['RETAILER_SITE_ADDRESS2_address'].astype('string')\n",
    "\n",
    "retailer_site.dtypes"
   ]
  },
  {
   "cell_type": "markdown",
   "id": "7c0d87b818a9d54b",
   "metadata": {
    "collapsed": false
   },
   "source": [
    "### Sales_branch"
   ]
  },
  {
   "cell_type": "code",
   "execution_count": 40,
   "id": "2ea23e262922c320",
   "metadata": {
    "collapsed": false,
    "ExecuteTime": {
     "end_time": "2024-03-14T14:52:28.815795Z",
     "start_time": "2024-03-14T14:52:28.806089Z"
    }
   },
   "outputs": [
    {
     "data": {
      "text/plain": "SALES_BRANCH_code                                int32\nSALES_BRANCH_ADDRESS1_address           string[python]\nSALES_BRANCH_ADDRESS2_address           string[python]\nSALES_BRANCH_CITY_city                  string[python]\nSALES_BRANCH_REGION_region              string[python]\nSALES_BRANCH_POSTAL_ZONE_postal_zone    string[python]\nSALES_BRANCH_COUNTRY_CODE_country       string[python]\ndtype: object"
     },
     "execution_count": 40,
     "metadata": {},
     "output_type": "execute_result"
    }
   ],
   "source": [
    "sales_branch['SALES_BRANCH_code'] = sales_branch['SALES_BRANCH_code'].astype('int')\n",
    "sales_branch['SALES_BRANCH_COUNTRY_CODE_country'] = sales_branch['SALES_BRANCH_COUNTRY_CODE_country'].astype('string')\n",
    "sales_branch['SALES_BRANCH_REGION_region'] = sales_branch['SALES_BRANCH_REGION_region'].astype('string')\n",
    "sales_branch['SALES_BRANCH_CITY_city'] = sales_branch['SALES_BRANCH_CITY_city'].astype('string')\n",
    "sales_branch['SALES_BRANCH_POSTAL_ZONE_postal_zone'] = sales_branch['SALES_BRANCH_POSTAL_ZONE_postal_zone'].astype('string')\n",
    "sales_branch['SALES_BRANCH_ADDRESS1_address'] = sales_branch['SALES_BRANCH_ADDRESS1_address'].astype('string')\n",
    "sales_branch['SALES_BRANCH_ADDRESS2_address'] = sales_branch['SALES_BRANCH_ADDRESS2_address'].astype('string')\n",
    "\n",
    "sales_branch.dtypes"
   ]
  },
  {
   "cell_type": "markdown",
   "id": "65444d58cc211dc9",
   "metadata": {
    "collapsed": false
   },
   "source": [
    "### Retailer_contact"
   ]
  },
  {
   "cell_type": "code",
   "execution_count": 41,
   "id": "87e46ec67e98c8a6",
   "metadata": {
    "collapsed": false,
    "ExecuteTime": {
     "end_time": "2024-03-14T14:52:28.919990Z",
     "start_time": "2024-03-14T14:52:28.908375Z"
    }
   },
   "outputs": [
    {
     "data": {
      "text/plain": "RETAILER_CONTACT_code                                     int32\nRETAILER_CONTACT_RETAILER_SITE_CODE_site_code             int32\nRETAILER_CONTACT_FIRST_NAME_first_name           string[python]\nRETAILER_CONTACT_LAST_NAME_last_name             string[python]\nRETAILER_CONTACT_JOB_POSITION_EN_position        string[python]\nRETAILER_CONTACT_EXTENSION_extension             string[python]\nRETAILER_CONTACT_FAX_fax                         string[python]\nRETAILER_CONTACT_email                           string[python]\nRETAILER_CONTACT_GENDER_gender                   string[python]\ndtype: object"
     },
     "execution_count": 41,
     "metadata": {},
     "output_type": "execute_result"
    }
   ],
   "source": [
    "retailer_contact['RETAILER_CONTACT_code'] = retailer_contact['RETAILER_CONTACT_code'].astype('int')\n",
    "retailer_contact['RETAILER_CONTACT_email'] = retailer_contact['RETAILER_CONTACT_email'].astype('string')\n",
    "retailer_contact['RETAILER_CONTACT_RETAILER_SITE_CODE_site_code'] = retailer_contact['RETAILER_CONTACT_RETAILER_SITE_CODE_site_code'].astype('int')\n",
    "retailer_contact['RETAILER_CONTACT_JOB_POSITION_EN_position'] = retailer_contact['RETAILER_CONTACT_JOB_POSITION_EN_position'].astype('string')\n",
    "retailer_contact['RETAILER_CONTACT_EXTENSION_extension'] = retailer_contact['RETAILER_CONTACT_EXTENSION_extension'].astype('string')\n",
    "retailer_contact['RETAILER_CONTACT_FAX_fax'] = retailer_contact['RETAILER_CONTACT_FAX_fax'].astype('string')\n",
    "retailer_contact['RETAILER_CONTACT_GENDER_gender'] = retailer_contact['RETAILER_CONTACT_GENDER_gender'].astype('string')\n",
    "retailer_contact['RETAILER_CONTACT_FIRST_NAME_first_name'] = retailer_contact['RETAILER_CONTACT_FIRST_NAME_first_name'].astype('string')\n",
    "retailer_contact['RETAILER_CONTACT_LAST_NAME_last_name'] = retailer_contact['RETAILER_CONTACT_LAST_NAME_last_name'].astype('string')\n",
    "\n",
    "retailer_contact.dtypes"
   ]
  },
  {
   "cell_type": "markdown",
   "id": "450a79f1e889a1ca",
   "metadata": {
    "collapsed": false
   },
   "source": [
    "### Retailer"
   ]
  },
  {
   "cell_type": "code",
   "execution_count": 42,
   "id": "149548ceecb90c98",
   "metadata": {
    "collapsed": false,
    "ExecuteTime": {
     "end_time": "2024-03-14T14:52:29.084231Z",
     "start_time": "2024-03-14T14:52:29.075550Z"
    }
   },
   "outputs": [
    {
     "data": {
      "text/plain": "RETAILER_code                                         int32\nRETAILER_COMPANY_CODE_MR_company             string[python]\nRETAILER_name                                string[python]\nRETAILER_RETAILER_TYPE_retailer_type_code             int32\nRETAILER_RETAILER_TYPE_retailer_type_EN      string[python]\ndtype: object"
     },
     "execution_count": 42,
     "metadata": {},
     "output_type": "execute_result"
    }
   ],
   "source": [
    "retailer['RETAILER_code'] = retailer['RETAILER_code'].astype('int')\n",
    "retailer['RETAILER_name'] = retailer['RETAILER_name'].astype('string')\n",
    "retailer['RETAILER_COMPANY_CODE_MR_company'] = retailer['RETAILER_COMPANY_CODE_MR_company'].astype('string')\n",
    "retailer['RETAILER_RETAILER_TYPE_retailer_type_code'] = retailer['RETAILER_RETAILER_TYPE_retailer_type_code'].astype('int')\n",
    "retailer['RETAILER_RETAILER_TYPE_retailer_type_EN'] = retailer['RETAILER_RETAILER_TYPE_retailer_type_EN'].astype('string')\n",
    "\n",
    "retailer.dtypes"
   ]
  },
  {
   "cell_type": "markdown",
   "id": "d677ffe45d5abe42",
   "metadata": {
    "collapsed": false
   },
   "source": [
    "### Product"
   ]
  },
  {
   "cell_type": "code",
   "execution_count": 43,
   "id": "410a95813646af9d",
   "metadata": {
    "collapsed": false,
    "ExecuteTime": {
     "end_time": "2024-03-14T14:52:29.170297Z",
     "start_time": "2024-03-14T14:52:29.140858Z"
    }
   },
   "outputs": [
    {
     "data": {
      "text/plain": "PRODUCT_number                                   int32\nPRODUCT_INTRODUCTION_DATE_introduced    datetime64[ns]\nPRODUCT_PRODUCT_TYPE_code               string[python]\nPRODUCT_PRODUCTION_COST_cost                   float64\nPRODUCT_MARGIN_margin                          float64\nPRODUCT_image_image                     string[python]\nPRODUCT_LANGUAGE_language               string[python]\nPRODUCT_name_product                    string[python]\nPRODUCT_description_description         string[python]\nPRODUCT_PRODUCT_LINE_code               string[python]\nPRODUCT_PRODUCT_TYPE_code_en            string[python]\nPRODUCT_PRODUCT_LINE_code_en            string[python]\ndtype: object"
     },
     "execution_count": 43,
     "metadata": {},
     "output_type": "execute_result"
    }
   ],
   "source": [
    "product['PRODUCT_number'] = product['PRODUCT_number'].astype('int')\n",
    "product['PRODUCT_name_product'] = product['PRODUCT_name_product'].astype('string')\n",
    "product['PRODUCT_description_description'] = product['PRODUCT_description_description'].astype('string')\n",
    "product['PRODUCT_image_image'] = product['PRODUCT_image_image'].astype('string')\n",
    "product['PRODUCT_INTRODUCTION_DATE_introduced'] = pd.to_datetime(product['PRODUCT_INTRODUCTION_DATE_introduced'], format='mixed')\n",
    "product['PRODUCT_PRODUCTION_COST_cost'] = product['PRODUCT_PRODUCTION_COST_cost'].astype('float')\n",
    "product['PRODUCT_MARGIN_margin'] = product['PRODUCT_MARGIN_margin'].astype('float')\n",
    "product['PRODUCT_LANGUAGE_language'] = product['PRODUCT_LANGUAGE_language'].astype('string')\n",
    "product['PRODUCT_PRODUCT_LINE_code'] = product['PRODUCT_PRODUCT_LINE_code'].astype('string')\n",
    "product['PRODUCT_PRODUCT_LINE_code_en'] = product['PRODUCT_PRODUCT_LINE_code_en'].astype('string')\n",
    "product['PRODUCT_PRODUCT_TYPE_code'] = product['PRODUCT_PRODUCT_TYPE_code'].astype('string')\n",
    "product['PRODUCT_PRODUCT_TYPE_code_en'] = product['PRODUCT_PRODUCT_TYPE_code_en'].astype('string')\n",
    "\n",
    "product.dtypes"
   ]
  },
  {
   "cell_type": "markdown",
   "id": "655f55aab3323559",
   "metadata": {
    "collapsed": false
   },
   "source": [
    "### Order_details"
   ]
  },
  {
   "cell_type": "code",
   "execution_count": 44,
   "id": "346f7927ae20be28",
   "metadata": {
    "collapsed": false,
    "ExecuteTime": {
     "end_time": "2024-03-14T14:52:29.457362Z",
     "start_time": "2024-03-14T14:52:29.408983Z"
    }
   },
   "outputs": [
    {
     "data": {
      "text/plain": "ORDER_DETAIL_CODE                                      object\nORDER_DETAILS_ORDER_NUMBER_order                        int32\nORDER_DETAILS_PRODUCT_NUMBER_product                    int32\nORDER_DETAILS_QUANTITY_quantity                         int32\nUNIT_id                                                 int64\nORDER_DETAILS_UNIT_ID_unit                              int64\nORDER_DETAILS_RETURN_CODE_returned                      int32\nRETURNED_ITEM_DATE_date                        datetime64[ns]\nRETURNED_ITEM_QUANTITY_quantity                         int32\nRETURNED_ITEM_ORDER_DETAIL_CODE_detail_code             int32\nRETURNED_ITEM_RETURN_REASON_code                        int32\nRETURNED_ITEM_RETURN_REASON_description_en     string[python]\nUNIT_COST_cost                                        float64\nUNIT_PRICE_price                                      float64\nUNIT_SALE_sale                                        float64\ndtype: object"
     },
     "execution_count": 44,
     "metadata": {},
     "output_type": "execute_result"
    }
   ],
   "source": [
    "order_details['ORDER_DETAILS_QUANTITY_quantity'] = order_details['ORDER_DETAILS_QUANTITY_quantity'].astype('int')\n",
    "order_details['ORDER_DETAILS_RETURN_CODE_returned'] = order_details['ORDER_DETAILS_RETURN_CODE_returned'].astype('int')\n",
    "order_details['ORDER_DETAILS_ORDER_NUMBER_order'] = order_details['ORDER_DETAILS_ORDER_NUMBER_order'].astype('int')\n",
    "order_details['ORDER_DETAILS_PRODUCT_NUMBER_product'] = order_details['ORDER_DETAILS_PRODUCT_NUMBER_product'].astype('int')\n",
    "order_details['RETURNED_ITEM_DATE_date'] = pd.to_datetime(order_details['RETURNED_ITEM_DATE_date'], format='mixed')\n",
    "order_details['RETURNED_ITEM_QUANTITY_quantity'] = order_details['RETURNED_ITEM_QUANTITY_quantity'].astype('int')\n",
    "order_details['RETURNED_ITEM_ORDER_DETAIL_CODE_detail_code'] = order_details['RETURNED_ITEM_ORDER_DETAIL_CODE_detail_code'].astype('int')\n",
    "order_details['RETURNED_ITEM_RETURN_REASON_code'] = order_details['RETURNED_ITEM_RETURN_REASON_code'].astype('int')\n",
    "order_details['RETURNED_ITEM_RETURN_REASON_description_en'] = order_details['RETURNED_ITEM_RETURN_REASON_description_en'].astype('string')\n",
    "order_details['UNIT_COST_cost'] = order_details['UNIT_COST_cost'].astype('float64')\n",
    "order_details['UNIT_PRICE_price'] = order_details['UNIT_PRICE_price'].astype('float64')\n",
    "order_details['UNIT_SALE_sale'] = order_details['UNIT_SALE_sale'].astype('float64')\n",
    "\n",
    "# unit is already converted\n",
    "order_details.dtypes"
   ]
  },
  {
   "cell_type": "markdown",
   "id": "65e24f73d68065d5",
   "metadata": {
    "collapsed": false
   },
   "source": [
    "### Returned_item"
   ]
  },
  {
   "cell_type": "code",
   "execution_count": 45,
   "id": "b96edc784fabbf6c",
   "metadata": {
    "collapsed": false,
    "ExecuteTime": {
     "end_time": "2024-03-14T14:52:29.507963Z",
     "start_time": "2024-03-14T14:52:29.469368Z"
    }
   },
   "outputs": [
    {
     "data": {
      "text/plain": "RETURNED_ITEM_code                                      int32\nRETURNED_ITEM_DATE_date                        datetime64[ns]\nRETURNED_ITEM_QUANTITY_quantity                         int32\nRETURNED_ITEM_ORDER_DETAIL_CODE_detail_code             int32\nRETURNED_ITEM_RETURN_REASON_code                        int32\nRETURNED_ITEM_RETURN_REASON_description_en     string[python]\ndtype: object"
     },
     "execution_count": 45,
     "metadata": {},
     "output_type": "execute_result"
    }
   ],
   "source": [
    "returned_item['RETURNED_ITEM_code'] = returned_item['RETURNED_ITEM_code'].astype('int')\n",
    "returned_item['RETURNED_ITEM_DATE'] = pd.to_datetime(returned_item['RETURNED_ITEM_DATE'], format='mixed')\n",
    "returned_item['RETURNED_ITEM_QUANTITY_quantity'] = returned_item['RETURNED_ITEM_QUANTITY_quantity'].astype('int')\n",
    "returned_item['RETURNED_ITEM_ORDER_DETAIL_CODE_detail_code'] = returned_item['RETURNED_ITEM_ORDER_DETAIL_CODE_detail_code'].astype('int')\n",
    "returned_item['RETURNED_ITEM_RETURN_REASON_code'] = returned_item['RETURNED_ITEM_RETURN_REASON_code'].astype('int')\n",
    "returned_item['RETURNED_ITEM_RETURN_REASON_description_en'] = returned_item['RETURNED_ITEM_RETURN_REASON_description_en'].astype('string')\n",
    "\n",
    "returned_item.dtypes"
   ]
  },
  {
   "cell_type": "markdown",
   "id": "5670721e8fd1c035",
   "metadata": {
    "collapsed": false
   },
   "source": [
    "### Sales_Targetdata"
   ]
  },
  {
   "cell_type": "code",
   "execution_count": 46,
   "id": "1e1b8f509d6b7f0a",
   "metadata": {
    "collapsed": false,
    "ExecuteTime": {
     "end_time": "2024-03-14T14:52:29.686136Z",
     "start_time": "2024-03-14T14:52:29.631538Z"
    }
   },
   "outputs": [
    {
     "data": {
      "text/plain": "Id                                               int64\nSALES_TARGETDATA_SALES_STAFF_CODE                int32\nSALES_TARGETDATA_SALES_YEAR                      int32\nSALES_TARGETDATA_SALES_PERIOD           string[python]\nSALES_TARGETDATA_RETAILER_NAME          string[python]\nSALES_TARGETDATA_SALES_TARGET                  float64\nPRODUCT_number                                   int32\nPRODUCT_INTRODUCTION_DATE_introduced    datetime64[ns]\nPRODUCT_PRODUCT_TYPE_code               string[python]\nPRODUCT_PRODUCTION_COST_cost                   float64\nPRODUCT_MARGIN_margin                          float64\nPRODUCT_image_image                     string[python]\nPRODUCT_LANGUAGE_language               string[python]\nPRODUCT_name_product                    string[python]\nPRODUCT_description_description         string[python]\nPRODUCT_PRODUCT_LINE_code               string[python]\nPRODUCT_PRODUCT_TYPE_code_en            string[python]\nPRODUCT_PRODUCT_LINE_code_en            string[python]\nRETAILER_code                                    int32\ndtype: object"
     },
     "execution_count": 46,
     "metadata": {},
     "output_type": "execute_result"
    }
   ],
   "source": [
    "sales_target_data['SALES_TARGETDATA_SALES_YEAR'] = sales_target_data['SALES_TARGETDATA_SALES_YEAR'].astype('int')\n",
    "sales_target_data['SALES_TARGETDATA_SALES_PERIOD'] = sales_target_data['SALES_TARGETDATA_SALES_PERIOD'].astype('string')\n",
    "sales_target_data['SALES_TARGETDATA_RETAILER_NAME'] = sales_target_data['SALES_TARGETDATA_RETAILER_NAME'].astype('string')\n",
    "sales_target_data['SALES_TARGETDATA_SALES_TARGET'] = sales_target_data['SALES_TARGETDATA_SALES_TARGET'].astype('float64')\n",
    "sales_target_data['SALES_TARGETDATA_SALES_STAFF_CODE'] = sales_target_data['SALES_TARGETDATA_SALES_STAFF_CODE'].astype('int')\n",
    "sales_target_data['PRODUCT_number'] = sales_target_data['PRODUCT_number'].astype('int')\n",
    "sales_target_data['PRODUCT_INTRODUCTION_DATE_introduced'] = pd.to_datetime(sales_target_data['PRODUCT_INTRODUCTION_DATE_introduced'], format='mixed')\n",
    "sales_target_data['PRODUCT_PRODUCTION_COST_cost'] = sales_target_data['PRODUCT_PRODUCTION_COST_cost'].astype('float64')\n",
    "sales_target_data['PRODUCT_PRODUCT_TYPE_code'] = sales_target_data['PRODUCT_PRODUCT_TYPE_code'].astype('string')\n",
    "sales_target_data['PRODUCT_PRODUCT_TYPE_code_en'] = sales_target_data['PRODUCT_PRODUCT_TYPE_code_en'].astype('string')\n",
    "sales_target_data['PRODUCT_PRODUCT_LINE_code'] = sales_target_data['PRODUCT_PRODUCT_LINE_code'].astype('string')\n",
    "sales_target_data['PRODUCT_PRODUCT_LINE_code_en'] = sales_target_data['PRODUCT_PRODUCT_LINE_code_en'].astype('string')\n",
    "sales_target_data['RETAILER_code'] = sales_target_data['RETAILER_code'].astype('int')\n",
    "sales_target_data['PRODUCT_MARGIN_margin'] = sales_target_data['PRODUCT_MARGIN_margin'].astype('float64')\n",
    "sales_target_data['PRODUCT_image_image'] = sales_target_data['PRODUCT_image_image'].astype('string')\n",
    "sales_target_data['PRODUCT_LANGUAGE_language'] = sales_target_data['PRODUCT_LANGUAGE_language'].astype('string')\n",
    "sales_target_data['PRODUCT_name_product'] = sales_target_data['PRODUCT_name_product'].astype('string')\n",
    "sales_target_data['PRODUCT_description_description'] = sales_target_data['PRODUCT_description_description'].astype('string')\n",
    "\n",
    "\n",
    "\n",
    "\n",
    "sales_target_data.dtypes"
   ]
  },
  {
   "cell_type": "markdown",
   "id": "2d4e1edb7e7d5926",
   "metadata": {
    "collapsed": false
   },
   "source": [
    "### Training"
   ]
  },
  {
   "cell_type": "code",
   "execution_count": 47,
   "id": "6c331e4c8861e862",
   "metadata": {
    "collapsed": false,
    "ExecuteTime": {
     "end_time": "2024-03-14T14:52:29.777748Z",
     "start_time": "2024-03-14T14:52:29.769826Z"
    }
   },
   "outputs": [
    {
     "data": {
      "text/plain": "TRAINING_YEAR                         int32\nTRAINING_SALES_STAFF_CODE             int32\nTRAINING_COURSE_CODE                  int32\nindex                                 int64\nCOURSE_code                           int32\nCOURSE_DESCRIPTION           string[python]\ndtype: object"
     },
     "execution_count": 47,
     "metadata": {},
     "output_type": "execute_result"
    }
   ],
   "source": [
    "training['TRAINING_SALES_STAFF_CODE'] = training['TRAINING_SALES_STAFF_CODE'].astype('int')\n",
    "training['TRAINING_COURSE_CODE'] = training['TRAINING_COURSE_CODE'].astype('int')\n",
    "training['TRAINING_YEAR'] = training['TRAINING_YEAR'].astype('int')\n",
    "training['COURSE_code'] = training['COURSE_code'].astype('int')\n",
    "training['COURSE_DESCRIPTION'] = training['COURSE_DESCRIPTION'].astype('string')\n",
    "\n",
    "training.dtypes"
   ]
  },
  {
   "cell_type": "markdown",
   "id": "40f0945d66c7e4f2",
   "metadata": {
    "collapsed": false
   },
   "source": [
    "### Satisfaction"
   ]
  },
  {
   "cell_type": "code",
   "execution_count": 48,
   "id": "394c97c0d1462b01",
   "metadata": {
    "collapsed": false,
    "ExecuteTime": {
     "end_time": "2024-03-14T14:52:29.827702Z",
     "start_time": "2024-03-14T14:52:29.819755Z"
    }
   },
   "outputs": [
    {
     "data": {
      "text/plain": "SATISFACTION_YEAR                               int32\nSATISFACTION_SALES_STAFF_CODE                   int32\nSATISFACTION_SATISFACTION_TYPE_CODE             int32\nindex                                           int64\nSATISFACTION_TYPE_code                          int32\nSATISFACTION_TYPE_DESCRIPTION          string[python]\ndtype: object"
     },
     "execution_count": 48,
     "metadata": {},
     "output_type": "execute_result"
    }
   ],
   "source": [
    "satisfaction['SATISFACTION_SALES_STAFF_CODE'] = satisfaction['SATISFACTION_SALES_STAFF_CODE'].astype('int')\n",
    "satisfaction['SATISFACTION_SATISFACTION_TYPE_CODE'] = satisfaction['SATISFACTION_SATISFACTION_TYPE_CODE'].astype('int')\n",
    "satisfaction['SATISFACTION_YEAR'] = satisfaction['SATISFACTION_YEAR'].astype('int')\n",
    "satisfaction['SATISFACTION_TYPE_code'] = satisfaction['SATISFACTION_TYPE_code'].astype('int')\n",
    "satisfaction['SATISFACTION_TYPE_DESCRIPTION'] = satisfaction['SATISFACTION_TYPE_DESCRIPTION'].astype('string')\n",
    "\n",
    "satisfaction.dtypes"
   ]
  },
  {
   "cell_type": "markdown",
   "id": "f647aa4aa7a525b7",
   "metadata": {
    "collapsed": false
   },
   "source": []
  },
  {
   "cell_type": "markdown",
   "id": "a8d0539a6adbc41a",
   "metadata": {
    "collapsed": false
   },
   "source": [
    "### Order_header"
   ]
  },
  {
   "cell_type": "code",
   "execution_count": 49,
   "id": "bb316f9b4f8d6522",
   "metadata": {
    "collapsed": false,
    "ExecuteTime": {
     "end_time": "2024-03-14T14:52:30.014665Z",
     "start_time": "2024-03-14T14:52:29.999320Z"
    }
   },
   "outputs": [
    {
     "data": {
      "text/plain": "ORDER_HEADER_number                                              int32\nORDER_HEADER_RETAILER_NAME                              string[python]\nORDER_HEADER_RETAILER_SITE_CODE                                  int32\nORDER_HEADER_RETAILER_CONTACT_CODE                               int32\nORDER_HEADER_SALES_STAFF                                         int32\nORDER_HEADER_SALES_BRANCH_CODE                                   int32\nORDER_HEADER_ORDER_DATE                                 datetime64[ns]\nORDER_METHOD_CODE                                                int32\nRETAILER_code                                                   object\nRETAILER_COMPANY_CODE_MR_company                        string[python]\nRETAILER_name                                                   object\nRETAILER_RETAILER_TYPE_retailer_type_code                       object\nRETAILER_RETAILER_TYPE_retailer_type_EN                         object\nindex                                                            int64\nSALES_STAFF_code                                                object\nSALES_STAFF_email                                               object\nSALES_STAFF_extension                                           object\nSALES_STAFF_POSITION_EN_position                                object\nSALES_STAFF_WORK_PHONE_work_phone                               object\nSALES_STAFF_DATE_HIRED_hired                                    object\nSALES_STAFF_MANAGER_CODE_manager                                object\nSALES_STAFF_FAX_fax                                             object\nSALES_STAFF_FIRST_NAME_first_name                               object\nSALES_STAFF_LAST_NAME_last_name                                 object\nSALES_STAFF_SALES_BRANCH_ADDRESS_address                        object\nSALES_STAFF_SALES_BRANCH_ADDRESS_EXTRA_address_extra            object\nSALES_STAFF_SALES_BRANCH_CODE_branch_code                       object\nRETAILER_SITE_code                                              object\nRETAILER_SITE_RETAILER_CODE_retailer_code                       object\nRETAILER_SITE_ADDRESS1_address                                  object\nRETAILER_SITE_ADDRESS2_address                                  object\nRETAILER_SITE_CITY_city                                         object\nRETAILER_SITE_REGION_region                                     object\nRETAILER_SITE_POSTAL_ZONE_postal_zone                           object\nRETAILER_SITE_COUNTRY_CODE_country                              object\nRETAILER_SITE_ACTIVE_INDICATOR_indicator                        object\nRETAILER_CONTACT_code                                           object\nRETAILER_CONTACT_RETAILER_SITE_CODE_site_code                   object\nRETAILER_CONTACT_FIRST_NAME_first_name                          object\nRETAILER_CONTACT_LAST_NAME_last_name                            object\nRETAILER_CONTACT_JOB_POSITION_EN_position                       object\nRETAILER_CONTACT_EXTENSION_extension                            object\nRETAILER_CONTACT_FAX_fax                                        object\nRETAILER_CONTACT_email                                          object\nRETAILER_CONTACT_GENDER_gender                                  object\nRETAILER_CODE                                                    int32\ndtype: object"
     },
     "execution_count": 49,
     "metadata": {},
     "output_type": "execute_result"
    }
   ],
   "source": [
    "order_header['ORDER_HEADER_number'] = order_header['ORDER_HEADER_number'].astype('int')\n",
    "order_header['ORDER_HEADER_RETAILER_NAME'] = order_header['ORDER_HEADER_RETAILER_NAME'].astype('string')\n",
    "order_header['ORDER_HEADER_SALES_STAFF'] = order_header['ORDER_HEADER_SALES_STAFF'].astype('int')\n",
    "order_header['ORDER_HEADER_SALES_BRANCH_CODE'] = order_header['ORDER_HEADER_SALES_BRANCH_CODE'].astype('int')\n",
    "order_header['ORDER_HEADER_RETAILER_SITE_CODE'] = order_header['ORDER_HEADER_RETAILER_SITE_CODE'].astype('int')\n",
    "order_header['ORDER_HEADER_RETAILER_CONTACT_CODE'] = order_header['ORDER_HEADER_RETAILER_CONTACT_CODE'].astype('int')\n",
    "order_header['ORDER_METHOD_CODE'] = order_header['ORDER_METHOD_CODE'].astype('int')\n",
    "order_header['RETAILER_CODE'] = order_header['RETAILER_code'].astype('int')\n",
    "order_header['RETAILER_COMPANY_CODE_MR_company'] = order_header['RETAILER_COMPANY_CODE_MR_company'].astype('string')\n",
    "\n",
    "order_header.dtypes"
   ]
  },
  {
   "cell_type": "markdown",
   "id": "375b6b00aa014745",
   "metadata": {
    "collapsed": false
   },
   "source": [
    "### Retailer_segment"
   ]
  },
  {
   "cell_type": "code",
   "execution_count": 50,
   "id": "cf3fb7be18baacba",
   "metadata": {
    "collapsed": false,
    "ExecuteTime": {
     "end_time": "2024-03-14T14:52:30.071959Z",
     "start_time": "2024-03-14T14:52:30.063445Z"
    }
   },
   "outputs": [
    {
     "data": {
      "text/plain": "RETAILER_SEGMENT_segment_code                                int32\nRETAILER_SEGMENT_language                           string[python]\nRETAILER_SEGMENT_segment_name                       string[python]\nRETAILER_SEGMENT_SEGMENT_DESCRIPTION_description    string[python]\ndtype: object"
     },
     "execution_count": 50,
     "metadata": {},
     "output_type": "execute_result"
    }
   ],
   "source": [
    "retailer_segment['RETAILER_SEGMENT_segment_code'] = retailer_segment['RETAILER_SEGMENT_segment_code'].astype('int')\n",
    "retailer_segment['RETAILER_SEGMENT_language'] = retailer_segment['RETAILER_SEGMENT_language'].astype('string')\n",
    "retailer_segment['RETAILER_SEGMENT_segment_name'] = retailer_segment['RETAILER_SEGMENT_segment_name'].astype('string')\n",
    "retailer_segment['RETAILER_SEGMENT_SEGMENT_DESCRIPTION_description'] = retailer_segment['RETAILER_SEGMENT_SEGMENT_DESCRIPTION_description'].astype('string')\n",
    "\n",
    "retailer_segment.dtypes"
   ]
  },
  {
   "cell_type": "markdown",
   "id": "c1ea0a7696b9cf03",
   "metadata": {
    "collapsed": false
   },
   "source": [
    "### Retailer_headquarters"
   ]
  },
  {
   "cell_type": "code",
   "execution_count": 51,
   "id": "da8b1ba4fdcc9623",
   "metadata": {
    "collapsed": false,
    "ExecuteTime": {
     "end_time": "2024-03-14T14:52:30.217921Z",
     "start_time": "2024-03-14T14:52:30.206816Z"
    }
   },
   "outputs": [
    {
     "data": {
      "text/plain": "RETAILER_HEADQUARTER_codemr                              int32\nRETAIL_HEADQUARTER_retailer_name                string[python]\nRETAILER_HEADQUARTER_address1_address           string[python]\nRETAILER_HEADQUARTER_address2_address           string[python]\nRETAILER_HEADQUARTER_city_city                  string[python]\nRETAILER_HEADQUARTER_region_region              string[python]\nRETAILER_HEADQUARTER_postal_zone_postal_zone    string[python]\nRETAILER_HEADQUARTER_country_code_country       string[python]\nRETAILER_HEADQUARTER_phone_phone                string[python]\nRETAILER_HEADQUARTER_fax_fax                    string[python]\nRETAILER_HEADQUARTER_segment_code                        int32\ndtype: object"
     },
     "execution_count": 51,
     "metadata": {},
     "output_type": "execute_result"
    }
   ],
   "source": [
    "retailer_headquarters['RETAILER_HEADQUARTER_codemr'] = retailer_headquarters['RETAILER_HEADQUARTER_codemr'].astype('int')\n",
    "retailer_headquarters['RETAIL_HEADQUARTER_retailer_name'] = retailer_headquarters['RETAIL_HEADQUARTER_retailer_name'].astype('string')\n",
    "retailer_headquarters['RETAILER_HEADQUARTER_address1_address'] = retailer_headquarters['RETAILER_HEADQUARTER_address1_address'].astype('string')\n",
    "retailer_headquarters['RETAILER_HEADQUARTER_address2_address'] = retailer_headquarters['RETAILER_HEADQUARTER_address2_address'].astype('string')\n",
    "retailer_headquarters['RETAILER_HEADQUARTER_city_city'] = retailer_headquarters['RETAILER_HEADQUARTER_city_city'].astype('string')\n",
    "retailer_headquarters['RETAILER_HEADQUARTER_region_region'] = retailer_headquarters['RETAILER_HEADQUARTER_region_region'].astype('string')\n",
    "retailer_headquarters['RETAILER_HEADQUARTER_postal_zone_postal_zone'] = retailer_headquarters['RETAILER_HEADQUARTER_postal_zone_postal_zone'].astype('string')\n",
    "retailer_headquarters['RETAILER_HEADQUARTER_country_code_country'] = retailer_headquarters['RETAILER_HEADQUARTER_country_code_country'].astype('string')\n",
    "retailer_headquarters['RETAILER_HEADQUARTER_phone_phone'] = retailer_headquarters['RETAILER_HEADQUARTER_phone_phone'].astype('string')\n",
    "retailer_headquarters['RETAILER_HEADQUARTER_fax_fax'] = retailer_headquarters['RETAILER_HEADQUARTER_fax_fax'].astype('string')\n",
    "retailer_headquarters['RETAILER_HEADQUARTER_segment_code'] = retailer_headquarters['RETAILER_HEADQUARTER_segment_code'].astype('int')\n",
    "\n",
    "retailer_headquarters.dtypes"
   ]
  },
  {
   "cell_type": "markdown",
   "id": "36159d94f009e1a3",
   "metadata": {
    "collapsed": false
   },
   "source": [
    "# Toevoegen van nieuwe kolommen\n",
    "Toevoegen van de afgeleide informatie die ook in het ETL en de data warehouse moet komen.\n",
    "Full name is al gedaan via sql"
   ]
  },
  {
   "cell_type": "code",
   "execution_count": 52,
   "id": "a603455041afffbb",
   "metadata": {
    "collapsed": false,
    "ExecuteTime": {
     "end_time": "2024-03-14T14:52:30.294508Z",
     "start_time": "2024-03-14T14:52:30.281661Z"
    }
   },
   "outputs": [],
   "source": [
    "sales_target_data['SALES_TARGET_DATA_TARGET_COST'] = sales_target_data['SALES_TARGETDATA_SALES_TARGET'] * sales_target_data['PRODUCT_PRODUCTION_COST_cost']\n",
    "\n",
    "sales_target_data['SALES_TARGET_DATA_TARGET_MARGIN'] = sales_target_data['SALES_TARGETDATA_SALES_TARGET'] * sales_target_data['PRODUCT_MARGIN_margin']\n",
    "\n",
    "order_details['ORDER_DETAILS_TOTAL_COST'] = order_details['ORDER_DETAILS_QUANTITY_quantity'] * order_details['UNIT_COST_cost']\n",
    "\n",
    "order_details['ORDER_DETAILS_TOTAL_MARGIN'] = order_details['ORDER_DETAILS_QUANTITY_quantity'] * order_details['UNIT_SALE_sale']\n",
    "\n",
    "go_sales_product_forecast['GO_SALES_PRODUCT_FORECAST_EXPECTED_COST'] = go_sales_product_forecast['GO_SALES_PRODUCT_FORECAST_EXPECTED_VOLUME'] * product['PRODUCT_PRODUCTION_COST_cost']\n",
    "\n",
    "go_sales_product_forecast['GO_SALES_PRODUCT_FORECAST_EXPECTED_MARGIN'] = go_sales_product_forecast['GO_SALES_PRODUCT_FORECAST_EXPECTED_VOLUME'] * product['PRODUCT_MARGIN_margin']\n",
    "\n",
    "# Dimensies\n",
    "product['MINIMUM_SALE_PRICE'] = product['PRODUCT_PRODUCTION_COST_cost'] + product['PRODUCT_MARGIN_margin']\n",
    "returned_item['RETURNED_ITEMS_TOTAL_PRICE'] = returned_item['RETURNED_ITEM_QUANTITY_quantity'] * order_details['UNIT_SALE_sale']\n",
    "course['COURSE_DESCRIPTION_SHORT'] = None\n",
    "retailer_segment['SEGMENT_DESCRIPTION_SHORT'] = None\n",
    "satisfaction_type['SATISFACTION_TYPE_DESCRIPTION_SHORT'] = None\n",
    "\n",
    "# if address2 is empty, main_address should be address1 and vice versa. If both addresses are available, main_address should be null\n",
    "sales_branch['MAIN_ADDRESS'] = np.where(sales_branch['SALES_BRANCH_ADDRESS2_address'].isna(), sales_branch['SALES_BRANCH_ADDRESS1_address'], np.where(sales_branch['SALES_BRANCH_ADDRESS1_address'].isna(), sales_branch['SALES_BRANCH_ADDRESS2_address'], ''))\n",
    "\n",
    "retailer_site['MAIN_ADDRESS'] = np.where(retailer_site['RETAILER_SITE_ADDRESS2_address'].isna(), retailer_site['RETAILER_SITE_ADDRESS1_address'], np.where(retailer_site['RETAILER_SITE_ADDRESS1_address'].isna(), retailer_site['RETAILER_SITE_ADDRESS2_address'], ''))\n",
    "\n",
    "retailer_headquarters['MAIN_ADDRESS'] = np.where(retailer_headquarters['RETAILER_HEADQUARTER_address2_address'].isna(), retailer_headquarters['RETAILER_HEADQUARTER_address1_address'], np.where(retailer_headquarters['RETAILER_HEADQUARTER_address1_address'].isna(), retailer_headquarters['RETAILER_HEADQUARTER_address2_address'], ''))\n"
   ]
  },
  {
   "cell_type": "code",
   "execution_count": 53,
   "id": "a792e75507d8005e",
   "metadata": {
    "collapsed": false,
    "ExecuteTime": {
     "end_time": "2024-03-14T14:52:30.401701Z",
     "start_time": "2024-03-14T14:52:30.388281Z"
    }
   },
   "outputs": [
    {
     "data": {
      "text/plain": "   PRODUCT_number PRODUCT_INTRODUCTION_DATE_introduced  \\\n0               1                           2011-02-15   \n1              10                           2011-02-15   \n2             100                           2011-02-15   \n3             101                           2019-12-15   \n4             102                           2019-10-12   \n\n  PRODUCT_PRODUCT_TYPE_code  PRODUCT_PRODUCTION_COST_cost  \\\n0                         1                          4.00   \n1                         1                         10.00   \n2                        17                          3.00   \n3                        18                        305.54   \n4                        18                        380.95   \n\n   PRODUCT_MARGIN_margin PRODUCT_image_image PRODUCT_LANGUAGE_language  \\\n0                   0.33       P01CE1CG1.jpg                        EN   \n1                   0.40       P10CE1CG1.jpg                        EN   \n2                   0.50     P100OP4FA17.jpg                        EN   \n3                   0.43     P101GE5IR18.jpg                        EN   \n4                   0.51     P102GE5IR18.jpg                        EN   \n\n       PRODUCT_name_product  \\\n0       TrailChef Water Bag   \n1        TrailChef Utensils   \n2        Insect Bite Relief   \n3     Hailstorm Steel Irons   \n4  Hailstorm Titanium Irons   \n\n                     PRODUCT_description_description  \\\n0  Lightweight, collapsible bag to carry liquids ...   \n1  Spoon, fork and knife set made of a light yet ...   \n2  The Insect Bite Relief helps the itching and s...   \n3  Iron is 17-4 stainless steel.  Shafts are grap...   \n4  Made entirely of pure titanium. The ultimate i...   \n\n  PRODUCT_PRODUCT_LINE_code PRODUCT_PRODUCT_TYPE_code_en  \\\n0                         1                 Cooking Gear   \n1                         1                 Cooking Gear   \n2                         4                    First Aid   \n3                         5                        Irons   \n4                         5                        Irons   \n\n  PRODUCT_PRODUCT_LINE_code_en  MINIMUM_SALE_PRICE  \n0            Camping Equipment                4.33  \n1            Camping Equipment               10.40  \n2           Outdoor Protection                3.50  \n3               Golf Equipment              305.97  \n4               Golf Equipment              381.46  ",
      "text/html": "<div>\n<style scoped>\n    .dataframe tbody tr th:only-of-type {\n        vertical-align: middle;\n    }\n\n    .dataframe tbody tr th {\n        vertical-align: top;\n    }\n\n    .dataframe thead th {\n        text-align: right;\n    }\n</style>\n<table border=\"1\" class=\"dataframe\">\n  <thead>\n    <tr style=\"text-align: right;\">\n      <th></th>\n      <th>PRODUCT_number</th>\n      <th>PRODUCT_INTRODUCTION_DATE_introduced</th>\n      <th>PRODUCT_PRODUCT_TYPE_code</th>\n      <th>PRODUCT_PRODUCTION_COST_cost</th>\n      <th>PRODUCT_MARGIN_margin</th>\n      <th>PRODUCT_image_image</th>\n      <th>PRODUCT_LANGUAGE_language</th>\n      <th>PRODUCT_name_product</th>\n      <th>PRODUCT_description_description</th>\n      <th>PRODUCT_PRODUCT_LINE_code</th>\n      <th>PRODUCT_PRODUCT_TYPE_code_en</th>\n      <th>PRODUCT_PRODUCT_LINE_code_en</th>\n      <th>MINIMUM_SALE_PRICE</th>\n    </tr>\n  </thead>\n  <tbody>\n    <tr>\n      <th>0</th>\n      <td>1</td>\n      <td>2011-02-15</td>\n      <td>1</td>\n      <td>4.00</td>\n      <td>0.33</td>\n      <td>P01CE1CG1.jpg</td>\n      <td>EN</td>\n      <td>TrailChef Water Bag</td>\n      <td>Lightweight, collapsible bag to carry liquids ...</td>\n      <td>1</td>\n      <td>Cooking Gear</td>\n      <td>Camping Equipment</td>\n      <td>4.33</td>\n    </tr>\n    <tr>\n      <th>1</th>\n      <td>10</td>\n      <td>2011-02-15</td>\n      <td>1</td>\n      <td>10.00</td>\n      <td>0.40</td>\n      <td>P10CE1CG1.jpg</td>\n      <td>EN</td>\n      <td>TrailChef Utensils</td>\n      <td>Spoon, fork and knife set made of a light yet ...</td>\n      <td>1</td>\n      <td>Cooking Gear</td>\n      <td>Camping Equipment</td>\n      <td>10.40</td>\n    </tr>\n    <tr>\n      <th>2</th>\n      <td>100</td>\n      <td>2011-02-15</td>\n      <td>17</td>\n      <td>3.00</td>\n      <td>0.50</td>\n      <td>P100OP4FA17.jpg</td>\n      <td>EN</td>\n      <td>Insect Bite Relief</td>\n      <td>The Insect Bite Relief helps the itching and s...</td>\n      <td>4</td>\n      <td>First Aid</td>\n      <td>Outdoor Protection</td>\n      <td>3.50</td>\n    </tr>\n    <tr>\n      <th>3</th>\n      <td>101</td>\n      <td>2019-12-15</td>\n      <td>18</td>\n      <td>305.54</td>\n      <td>0.43</td>\n      <td>P101GE5IR18.jpg</td>\n      <td>EN</td>\n      <td>Hailstorm Steel Irons</td>\n      <td>Iron is 17-4 stainless steel.  Shafts are grap...</td>\n      <td>5</td>\n      <td>Irons</td>\n      <td>Golf Equipment</td>\n      <td>305.97</td>\n    </tr>\n    <tr>\n      <th>4</th>\n      <td>102</td>\n      <td>2019-10-12</td>\n      <td>18</td>\n      <td>380.95</td>\n      <td>0.51</td>\n      <td>P102GE5IR18.jpg</td>\n      <td>EN</td>\n      <td>Hailstorm Titanium Irons</td>\n      <td>Made entirely of pure titanium. The ultimate i...</td>\n      <td>5</td>\n      <td>Irons</td>\n      <td>Golf Equipment</td>\n      <td>381.46</td>\n    </tr>\n  </tbody>\n</table>\n</div>"
     },
     "execution_count": 53,
     "metadata": {},
     "output_type": "execute_result"
    }
   ],
   "source": [
    "product.head()"
   ]
  },
  {
   "cell_type": "markdown",
   "id": "71dd5a1828678e63",
   "metadata": {
    "collapsed": false
   },
   "source": [
    "## Opslaan historische data\n",
    "Aan alle tabellen een kolom toevoegen met de datum van de wijziging en of dit de huidige versie is."
   ]
  },
  {
   "cell_type": "code",
   "execution_count": 54,
   "id": "98ea15746d105183",
   "metadata": {
    "collapsed": false,
    "ExecuteTime": {
     "end_time": "2024-03-14T14:52:30.489174Z",
     "start_time": "2024-03-14T14:52:30.474344Z"
    }
   },
   "outputs": [],
   "source": [
    "for df in all_dataframes:\n",
    "    df['LAST_UPDATED'] = pd.to_datetime('today')\n",
    "    df['CURRENT'] = 1"
   ]
  },
  {
   "cell_type": "markdown",
   "id": "1d9e99cbed6fa0b5",
   "metadata": {
    "collapsed": false
   },
   "source": []
  },
  {
   "cell_type": "markdown",
   "id": "316c0f3f946ee41e",
   "metadata": {
    "collapsed": false
   },
   "source": [
    "# Data opslaan in de database\n",
    "De pandas dataframes opslaan in de mssql database"
   ]
  },
  {
   "cell_type": "markdown",
   "id": "d7dd5c0a15b3b5b5",
   "metadata": {
    "collapsed": false
   },
   "source": [
    "## Unit\n",
    "works"
   ]
  },
  {
   "cell_type": "code",
   "execution_count": 55,
   "id": "1299e865f912ff25",
   "metadata": {
    "collapsed": false,
    "ExecuteTime": {
     "end_time": "2024-03-14T14:52:59.645441Z",
     "start_time": "2024-03-14T14:52:30.599044Z"
    }
   },
   "outputs": [
    {
     "name": "stdout",
     "output_type": "stream",
     "text": [
      "43063\n"
     ]
    }
   ],
   "source": [
    "print(unit.shape[0])\n",
    "for index, row in unit.iterrows():\n",
    "    query = 'INSERT INTO Unit (UNIT_id, UNIT_COST_cost, UNIT_PRICE_price, UNIT_SALE_sale) VALUES (?,?,?,?)'\n",
    "    values = (row['UNIT_id'], row['UNIT_COST_cost'], row['UNIT_PRICE_price'], row['UNIT_SALE_sale'])\n",
    "    export_cursor.execute(query, values)"
   ]
  },
  {
   "cell_type": "markdown",
   "id": "520548b62748d4a2",
   "metadata": {
    "collapsed": false
   },
   "source": [
    "## Sales_staff\n",
    "error related to main adress"
   ]
  },
  {
   "cell_type": "code",
   "execution_count": 56,
   "id": "19168badf65546ea",
   "metadata": {
    "collapsed": false,
    "ExecuteTime": {
     "end_time": "2024-03-14T14:53:00.082371Z",
     "start_time": "2024-03-14T14:52:59.646483Z"
    }
   },
   "outputs": [
    {
     "name": "stdout",
     "output_type": "stream",
     "text": [
      "102\n",
      "string\n"
     ]
    },
    {
     "ename": "ProgrammingError",
     "evalue": "('Invalid parameter type.  param-index=12 param-type=NAType', 'HY105')",
     "output_type": "error",
     "traceback": [
      "\u001B[1;31m---------------------------------------------------------------------------\u001B[0m",
      "\u001B[1;31mProgrammingError\u001B[0m                          Traceback (most recent call last)",
      "Cell \u001B[1;32mIn[56], line 8\u001B[0m\n\u001B[0;32m      4\u001B[0m query \u001B[38;5;241m=\u001B[39m \u001B[38;5;124m'\u001B[39m\u001B[38;5;124mINSERT INTO Sales_staff (SALES_STAFF_code, SALES_STAFF_email, SALES_STAFF_extension, SALES_STAFF_POSITION_EN_position, SALES_STAFF_WORK_PHONE_work_phone, SALES_STAFF_DATE_HIRED_hired, SALES_STAFF_MANAGER_CODE_manager, SALES_STAFF_FAX_fax, SALES_STAFF_FIRST_NAME_first_name, SALES_STAFF_LAST_NAME_last_name, SALES_STAFF_SALES_BRANCH_CODE_branch_code, SALES_STAFF_SALES_BRANCH_ADDRESS_address, SALES_STAFF_SALES_BRANCH_ADDRESS_EXTRA_address_extra) VALUES (?,?,?,?,?,?,?,?,?,?,?,?,?)\u001B[39m\u001B[38;5;124m'\u001B[39m\n\u001B[0;32m      6\u001B[0m values \u001B[38;5;241m=\u001B[39m (row[\u001B[38;5;124m'\u001B[39m\u001B[38;5;124mSALES_STAFF_code\u001B[39m\u001B[38;5;124m'\u001B[39m], row[\u001B[38;5;124m'\u001B[39m\u001B[38;5;124mSALES_STAFF_email\u001B[39m\u001B[38;5;124m'\u001B[39m], row[\u001B[38;5;124m'\u001B[39m\u001B[38;5;124mSALES_STAFF_extension\u001B[39m\u001B[38;5;124m'\u001B[39m], row[\u001B[38;5;124m'\u001B[39m\u001B[38;5;124mSALES_STAFF_POSITION_EN_position\u001B[39m\u001B[38;5;124m'\u001B[39m], row[\u001B[38;5;124m'\u001B[39m\u001B[38;5;124mSALES_STAFF_WORK_PHONE_work_phone\u001B[39m\u001B[38;5;124m'\u001B[39m], row[\u001B[38;5;124m'\u001B[39m\u001B[38;5;124mSALES_STAFF_DATE_HIRED_hired\u001B[39m\u001B[38;5;124m'\u001B[39m], row[\u001B[38;5;124m'\u001B[39m\u001B[38;5;124mSALES_STAFF_MANAGER_CODE_manager\u001B[39m\u001B[38;5;124m'\u001B[39m], row[\u001B[38;5;124m'\u001B[39m\u001B[38;5;124mSALES_STAFF_FAX_fax\u001B[39m\u001B[38;5;124m'\u001B[39m], row[\u001B[38;5;124m'\u001B[39m\u001B[38;5;124mSALES_STAFF_FIRST_NAME_first_name\u001B[39m\u001B[38;5;124m'\u001B[39m], row[\u001B[38;5;124m'\u001B[39m\u001B[38;5;124mSALES_STAFF_LAST_NAME_last_name\u001B[39m\u001B[38;5;124m'\u001B[39m], row[\u001B[38;5;124m'\u001B[39m\u001B[38;5;124mSALES_STAFF_SALES_BRANCH_CODE_branch_code\u001B[39m\u001B[38;5;124m'\u001B[39m], row[\u001B[38;5;124m'\u001B[39m\u001B[38;5;124mSALES_STAFF_SALES_BRANCH_ADDRESS_address\u001B[39m\u001B[38;5;124m'\u001B[39m], row[\u001B[38;5;124m'\u001B[39m\u001B[38;5;124mSALES_STAFF_SALES_BRANCH_ADDRESS_EXTRA_address_extra\u001B[39m\u001B[38;5;124m'\u001B[39m])\n\u001B[1;32m----> 8\u001B[0m \u001B[43mexport_cursor\u001B[49m\u001B[38;5;241;43m.\u001B[39;49m\u001B[43mexecute\u001B[49m\u001B[43m(\u001B[49m\u001B[43mquery\u001B[49m\u001B[43m,\u001B[49m\u001B[43m \u001B[49m\u001B[43mvalues\u001B[49m\u001B[43m)\u001B[49m\n",
      "\u001B[1;31mProgrammingError\u001B[0m: ('Invalid parameter type.  param-index=12 param-type=NAType', 'HY105')"
     ]
    }
   ],
   "source": [
    "print(sales_staff.shape[0])\n",
    "print(sales_staff.dtypes.iloc[11])\n",
    "for index, row in sales_staff.iterrows():\n",
    "    query = 'INSERT INTO Sales_staff (SALES_STAFF_code, SALES_STAFF_email, SALES_STAFF_extension, SALES_STAFF_POSITION_EN_position, SALES_STAFF_WORK_PHONE_work_phone, SALES_STAFF_DATE_HIRED_hired, SALES_STAFF_MANAGER_CODE_manager, SALES_STAFF_FAX_fax, SALES_STAFF_FIRST_NAME_first_name, SALES_STAFF_LAST_NAME_last_name, SALES_STAFF_SALES_BRANCH_CODE_branch_code, SALES_STAFF_SALES_BRANCH_ADDRESS_address, SALES_STAFF_SALES_BRANCH_ADDRESS_EXTRA_address_extra) VALUES (?,?,?,?,?,?,?,?,?,?,?,?,?)'\n",
    "\n",
    "    values = (row['SALES_STAFF_code'], row['SALES_STAFF_email'], row['SALES_STAFF_extension'], row['SALES_STAFF_POSITION_EN_position'], row['SALES_STAFF_WORK_PHONE_work_phone'], row['SALES_STAFF_DATE_HIRED_hired'], row['SALES_STAFF_MANAGER_CODE_manager'], row['SALES_STAFF_FAX_fax'], row['SALES_STAFF_FIRST_NAME_first_name'], row['SALES_STAFF_LAST_NAME_last_name'], row['SALES_STAFF_SALES_BRANCH_CODE_branch_code'], row['SALES_STAFF_SALES_BRANCH_ADDRESS_address'], row['SALES_STAFF_SALES_BRANCH_ADDRESS_EXTRA_address_extra'])\n",
    "\n",
    "    export_cursor.execute(query, values)"
   ]
  },
  {
   "cell_type": "markdown",
   "id": "32aefe69ea33bca8",
   "metadata": {
    "collapsed": false
   },
   "source": [
    "## satisfaction_type\n",
    "works"
   ]
  },
  {
   "cell_type": "code",
   "execution_count": 57,
   "id": "f40a9c86188addd9",
   "metadata": {
    "collapsed": false,
    "ExecuteTime": {
     "end_time": "2024-03-14T14:53:14.679114Z",
     "start_time": "2024-03-14T14:53:14.659994Z"
    }
   },
   "outputs": [
    {
     "name": "stdout",
     "output_type": "stream",
     "text": [
      "5\n"
     ]
    }
   ],
   "source": [
    "print(satisfaction_type.shape[0])\n",
    "for index, row in satisfaction_type.iterrows():\n",
    "    query = 'INSERT INTO Satisfaction_type (SATISFACTION_TYPE_code, SATISFACTION_TYPE_DESCRIPTION, CURRENT_VALUE) VALUES (?,?,?)'\n",
    "    values = (row['SATISFACTION_TYPE_code'], row['SATISFACTION_TYPE_DESCRIPTION'], 1)\n",
    "    export_cursor.execute(query, values)"
   ]
  },
  {
   "cell_type": "markdown",
   "id": "b23ddea011d31618",
   "metadata": {
    "collapsed": false
   },
   "source": [
    "## Course\n",
    "works"
   ]
  },
  {
   "cell_type": "code",
   "execution_count": 58,
   "id": "3ffbb13607690dc9",
   "metadata": {
    "collapsed": false,
    "ExecuteTime": {
     "end_time": "2024-03-14T14:53:19.768831Z",
     "start_time": "2024-03-14T14:53:19.704914Z"
    }
   },
   "outputs": [
    {
     "name": "stdout",
     "output_type": "stream",
     "text": [
      "9\n"
     ]
    }
   ],
   "source": [
    "print(course.shape[0])\n",
    "for index, row in course.iterrows():\n",
    "    query = 'INSERT INTO Course (COURSE_code, COURSE_DESCRIPTION, CURRENT_VALUE) VALUES (?,?,?)'\n",
    "    values = (row['COURSE_code'], row['COURSE_DESCRIPTION'], 1)\n",
    "    export_cursor.execute(query, values)"
   ]
  },
  {
   "cell_type": "markdown",
   "id": "1d948b50fae4c574",
   "metadata": {
    "collapsed": false
   },
   "source": [
    "## year\n",
    "duplicate error"
   ]
  },
  {
   "cell_type": "code",
   "execution_count": 59,
   "id": "460b034332c00887",
   "metadata": {
    "collapsed": false,
    "ExecuteTime": {
     "end_time": "2024-03-14T14:53:23.204079Z",
     "start_time": "2024-03-14T14:53:23.025975Z"
    }
   },
   "outputs": [
    {
     "name": "stdout",
     "output_type": "stream",
     "text": [
      "214\n"
     ]
    },
    {
     "ename": "IntegrityError",
     "evalue": "('23000', \"[23000] [Microsoft][ODBC SQL Server Driver][SQL Server]Violation of PRIMARY KEY constraint 'PK__Year__D4BD6055BF51AF4B'. Cannot insert duplicate key in object 'dbo.Year'. The duplicate key value is (2004). (2627) (SQLExecDirectW); [23000] [Microsoft][ODBC SQL Server Driver][SQL Server]The statement has been terminated. (3621)\")",
     "output_type": "error",
     "traceback": [
      "\u001B[1;31m---------------------------------------------------------------------------\u001B[0m",
      "\u001B[1;31mIntegrityError\u001B[0m                            Traceback (most recent call last)",
      "Cell \u001B[1;32mIn[59], line 5\u001B[0m\n\u001B[0;32m      3\u001B[0m query \u001B[38;5;241m=\u001B[39m \u001B[38;5;124m'\u001B[39m\u001B[38;5;124mINSERT INTO Year (YEAR) VALUES (?)\u001B[39m\u001B[38;5;124m'\u001B[39m\n\u001B[0;32m      4\u001B[0m values \u001B[38;5;241m=\u001B[39m index\n\u001B[1;32m----> 5\u001B[0m \u001B[43mexport_cursor\u001B[49m\u001B[38;5;241;43m.\u001B[39;49m\u001B[43mexecute\u001B[49m\u001B[43m(\u001B[49m\u001B[43mquery\u001B[49m\u001B[43m,\u001B[49m\u001B[43m \u001B[49m\u001B[43mvalues\u001B[49m\u001B[43m)\u001B[49m\n",
      "\u001B[1;31mIntegrityError\u001B[0m: ('23000', \"[23000] [Microsoft][ODBC SQL Server Driver][SQL Server]Violation of PRIMARY KEY constraint 'PK__Year__D4BD6055BF51AF4B'. Cannot insert duplicate key in object 'dbo.Year'. The duplicate key value is (2004). (2627) (SQLExecDirectW); [23000] [Microsoft][ODBC SQL Server Driver][SQL Server]The statement has been terminated. (3621)\")"
     ]
    }
   ],
   "source": [
    "print(year.shape[0])\n",
    "for index, row in year.iterrows():\n",
    "    query = 'INSERT INTO Year (YEAR) VALUES (?)'\n",
    "    values = index\n",
    "    export_cursor.execute(query, values)"
   ]
  },
  {
   "cell_type": "markdown",
   "id": "e67742a0825e6c5c",
   "metadata": {
    "collapsed": false
   },
   "source": [
    "## date\n",
    "works"
   ]
  },
  {
   "cell_type": "code",
   "execution_count": 60,
   "id": "47b58c7aeb7c5895",
   "metadata": {
    "collapsed": false,
    "ExecuteTime": {
     "end_time": "2024-03-14T14:54:16.138040Z",
     "start_time": "2024-03-14T14:53:28.383862Z"
    }
   },
   "outputs": [
    {
     "name": "stdout",
     "output_type": "stream",
     "text": [
      "76702\n"
     ]
    }
   ],
   "source": [
    "print(date.shape[0])\n",
    "for index, row in date.iterrows():\n",
    "    query = 'INSERT INTO Date (DATE_date) VALUES (?)'\n",
    "    values = index\n",
    "    export_cursor.execute(query, values)"
   ]
  },
  {
   "cell_type": "markdown",
   "id": "377a29d81ea77be7",
   "metadata": {
    "collapsed": false
   },
   "source": [
    "## order\n",
    "works"
   ]
  },
  {
   "cell_type": "code",
   "execution_count": 61,
   "id": "fdeb100a827fd84e",
   "metadata": {
    "collapsed": false,
    "ExecuteTime": {
     "end_time": "2024-03-14T14:54:48.473424Z",
     "start_time": "2024-03-14T14:54:48.447749Z"
    }
   },
   "outputs": [
    {
     "name": "stdout",
     "output_type": "stream",
     "text": [
      "7\n"
     ]
    }
   ],
   "source": [
    "print(order.shape[0])\n",
    "for index, row in order.iterrows():\n",
    "    query = 'INSERT INTO \"Order\" (ORDER_order_number, ORDER_ORDER_METHOD_CODE_method_code, ORDER_ORDER_METHOD_EN_method) VALUES (?,?,?)'\n",
    "    values = (index,row['ORDER_ORDER_METHOD_CODE_method_code'], row['ORDER_ORDER_METHOD_EN_method'])\n",
    "    export_cursor.execute(query, values)"
   ]
  },
  {
   "cell_type": "markdown",
   "id": "b2a9f83d65532e57",
   "metadata": {
    "collapsed": false
   },
   "source": [
    "## retailer_site\n",
    "error related to adress 2"
   ]
  },
  {
   "cell_type": "code",
   "execution_count": 62,
   "id": "6ee2bf106a0b6f51",
   "metadata": {
    "collapsed": false,
    "ExecuteTime": {
     "end_time": "2024-03-14T14:54:51.842182Z",
     "start_time": "2024-03-14T14:54:51.823620Z"
    }
   },
   "outputs": [
    {
     "name": "stdout",
     "output_type": "stream",
     "text": [
      "391\n"
     ]
    },
    {
     "ename": "ProgrammingError",
     "evalue": "('Invalid parameter type.  param-index=8 param-type=NAType', 'HY105')",
     "output_type": "error",
     "traceback": [
      "\u001B[1;31m---------------------------------------------------------------------------\u001B[0m",
      "\u001B[1;31mProgrammingError\u001B[0m                          Traceback (most recent call last)",
      "Cell \u001B[1;32mIn[62], line 5\u001B[0m\n\u001B[0;32m      3\u001B[0m query \u001B[38;5;241m=\u001B[39m \u001B[38;5;124m'\u001B[39m\u001B[38;5;124mINSERT INTO Retailer_site (RETAILER_SITE_code, RETAILER_SITE_COUNTRY_CODE_country, RETAILER_SITE_CITY_city, RETAILER_SITE_REGION_region, RETAILER_SITE_POSTAL_ZONE_postal_zone, RETAILER_SITE_RETAILER_CODE_retailer_code, RETAILER_SITE_ACTIVE_INDICATOR_indicator, RETAILER_SITE_ADDRESS1_address, RETAILER_SITE_ADDRESS2_address) VALUES (?,?,?,?,?,?,?,?,?)\u001B[39m\u001B[38;5;124m'\u001B[39m\n\u001B[0;32m      4\u001B[0m values \u001B[38;5;241m=\u001B[39m (row[\u001B[38;5;124m'\u001B[39m\u001B[38;5;124mRETAILER_SITE_code\u001B[39m\u001B[38;5;124m'\u001B[39m], row[\u001B[38;5;124m'\u001B[39m\u001B[38;5;124mRETAILER_SITE_COUNTRY_CODE_country\u001B[39m\u001B[38;5;124m'\u001B[39m], row[\u001B[38;5;124m'\u001B[39m\u001B[38;5;124mRETAILER_SITE_CITY_city\u001B[39m\u001B[38;5;124m'\u001B[39m], row[\u001B[38;5;124m'\u001B[39m\u001B[38;5;124mRETAILER_SITE_REGION_region\u001B[39m\u001B[38;5;124m'\u001B[39m], row[\u001B[38;5;124m'\u001B[39m\u001B[38;5;124mRETAILER_SITE_POSTAL_ZONE_postal_zone\u001B[39m\u001B[38;5;124m'\u001B[39m], row[\u001B[38;5;124m'\u001B[39m\u001B[38;5;124mRETAILER_SITE_RETAILER_CODE_retailer_code\u001B[39m\u001B[38;5;124m'\u001B[39m], row[\u001B[38;5;124m'\u001B[39m\u001B[38;5;124mRETAILER_SITE_ACTIVE_INDICATOR_indicator\u001B[39m\u001B[38;5;124m'\u001B[39m], row[\u001B[38;5;124m'\u001B[39m\u001B[38;5;124mRETAILER_SITE_ADDRESS1_address\u001B[39m\u001B[38;5;124m'\u001B[39m], row[\u001B[38;5;124m'\u001B[39m\u001B[38;5;124mRETAILER_SITE_ADDRESS2_address\u001B[39m\u001B[38;5;124m'\u001B[39m])\n\u001B[1;32m----> 5\u001B[0m \u001B[43mexport_cursor\u001B[49m\u001B[38;5;241;43m.\u001B[39;49m\u001B[43mexecute\u001B[49m\u001B[43m(\u001B[49m\u001B[43mquery\u001B[49m\u001B[43m,\u001B[49m\u001B[43m \u001B[49m\u001B[43mvalues\u001B[49m\u001B[43m)\u001B[49m\n",
      "\u001B[1;31mProgrammingError\u001B[0m: ('Invalid parameter type.  param-index=8 param-type=NAType', 'HY105')"
     ]
    }
   ],
   "source": [
    "print(retailer_site.shape[0])\n",
    "for index, row in retailer_site.iterrows():\n",
    "    query = 'INSERT INTO Retailer_site (RETAILER_SITE_code, RETAILER_SITE_COUNTRY_CODE_country, RETAILER_SITE_CITY_city, RETAILER_SITE_REGION_region, RETAILER_SITE_POSTAL_ZONE_postal_zone, RETAILER_SITE_RETAILER_CODE_retailer_code, RETAILER_SITE_ACTIVE_INDICATOR_indicator, RETAILER_SITE_ADDRESS1_address, RETAILER_SITE_ADDRESS2_address) VALUES (?,?,?,?,?,?,?,?,?)'\n",
    "    values = (row['RETAILER_SITE_code'], row['RETAILER_SITE_COUNTRY_CODE_country'], row['RETAILER_SITE_CITY_city'], row['RETAILER_SITE_REGION_region'], row['RETAILER_SITE_POSTAL_ZONE_postal_zone'], row['RETAILER_SITE_RETAILER_CODE_retailer_code'], row['RETAILER_SITE_ACTIVE_INDICATOR_indicator'], row['RETAILER_SITE_ADDRESS1_address'], row['RETAILER_SITE_ADDRESS2_address'])\n",
    "    export_cursor.execute(query, values)"
   ]
  },
  {
   "cell_type": "markdown",
   "id": "194dd2447bee6bab",
   "metadata": {
    "collapsed": false
   },
   "source": [
    "## sales_branch\n",
    "error related to country"
   ]
  },
  {
   "cell_type": "code",
   "execution_count": 63,
   "id": "ef0f8ea2b12b0ecc",
   "metadata": {
    "collapsed": false,
    "ExecuteTime": {
     "end_time": "2024-03-14T14:54:56.515631Z",
     "start_time": "2024-03-14T14:54:56.490537Z"
    }
   },
   "outputs": [
    {
     "name": "stdout",
     "output_type": "stream",
     "text": [
      "28\n"
     ]
    },
    {
     "ename": "ProgrammingError",
     "evalue": "('Invalid parameter type.  param-index=2 param-type=NAType', 'HY105')",
     "output_type": "error",
     "traceback": [
      "\u001B[1;31m---------------------------------------------------------------------------\u001B[0m",
      "\u001B[1;31mProgrammingError\u001B[0m                          Traceback (most recent call last)",
      "Cell \u001B[1;32mIn[63], line 5\u001B[0m\n\u001B[0;32m      3\u001B[0m query \u001B[38;5;241m=\u001B[39m \u001B[38;5;124m'\u001B[39m\u001B[38;5;124mINSERT INTO Sales_branch (SALES_BRANCH_code, SALES_BRANCH_COUNTRY_CODE_country, SALES_BRANCH_REGION_region, SALES_BRANCH_CITY_city, SALES_BRANCH_POSTAL_ZONE_postal_zone, SALES_BRANCH_ADDRESS1_address, SALES_BRANCH_ADDRESS2_address, CURRENT_VALUE) VALUES (?,?,?,?,?,?,?)\u001B[39m\u001B[38;5;124m'\u001B[39m\n\u001B[0;32m      4\u001B[0m values \u001B[38;5;241m=\u001B[39m (row[\u001B[38;5;124m'\u001B[39m\u001B[38;5;124mSALES_BRANCH_code\u001B[39m\u001B[38;5;124m'\u001B[39m], row[\u001B[38;5;124m'\u001B[39m\u001B[38;5;124mSALES_BRANCH_COUNTRY_CODE_country\u001B[39m\u001B[38;5;124m'\u001B[39m], row[\u001B[38;5;124m'\u001B[39m\u001B[38;5;124mSALES_BRANCH_REGION_region\u001B[39m\u001B[38;5;124m'\u001B[39m], row[\u001B[38;5;124m'\u001B[39m\u001B[38;5;124mSALES_BRANCH_CITY_city\u001B[39m\u001B[38;5;124m'\u001B[39m], row[\u001B[38;5;124m'\u001B[39m\u001B[38;5;124mSALES_BRANCH_POSTAL_ZONE_postal_zone\u001B[39m\u001B[38;5;124m'\u001B[39m], row[\u001B[38;5;124m'\u001B[39m\u001B[38;5;124mSALES_BRANCH_ADDRESS1_address\u001B[39m\u001B[38;5;124m'\u001B[39m], row[\u001B[38;5;124m'\u001B[39m\u001B[38;5;124mSALES_BRANCH_ADDRESS2_address\u001B[39m\u001B[38;5;124m'\u001B[39m])\n\u001B[1;32m----> 5\u001B[0m \u001B[43mexport_cursor\u001B[49m\u001B[38;5;241;43m.\u001B[39;49m\u001B[43mexecute\u001B[49m\u001B[43m(\u001B[49m\u001B[43mquery\u001B[49m\u001B[43m,\u001B[49m\u001B[43m \u001B[49m\u001B[43mvalues\u001B[49m\u001B[43m)\u001B[49m\n",
      "\u001B[1;31mProgrammingError\u001B[0m: ('Invalid parameter type.  param-index=2 param-type=NAType', 'HY105')"
     ]
    }
   ],
   "source": [
    "print(sales_branch.shape[0])\n",
    "for index, row in sales_branch.iterrows():\n",
    "    query = 'INSERT INTO Sales_branch (SALES_BRANCH_code, SALES_BRANCH_COUNTRY_CODE_country, SALES_BRANCH_REGION_region, SALES_BRANCH_CITY_city, SALES_BRANCH_POSTAL_ZONE_postal_zone, SALES_BRANCH_ADDRESS1_address, SALES_BRANCH_ADDRESS2_address, CURRENT_VALUE) VALUES (?,?,?,?,?,?,?)'\n",
    "    values = (row['SALES_BRANCH_code'], row['SALES_BRANCH_COUNTRY_CODE_country'], row['SALES_BRANCH_REGION_region'], row['SALES_BRANCH_CITY_city'], row['SALES_BRANCH_POSTAL_ZONE_postal_zone'], row['SALES_BRANCH_ADDRESS1_address'], row['SALES_BRANCH_ADDRESS2_address'])\n",
    "    export_cursor.execute(query, values)"
   ]
  },
  {
   "cell_type": "markdown",
   "id": "35b7b69ca88d61a1",
   "metadata": {
    "collapsed": false
   },
   "source": [
    "## retailer_contact\n",
    "foreign key error (retailer_site_code)"
   ]
  },
  {
   "cell_type": "code",
   "execution_count": 64,
   "id": "b4d7b4d3611c17db",
   "metadata": {
    "collapsed": false,
    "ExecuteTime": {
     "end_time": "2024-03-14T14:55:02.265764Z",
     "start_time": "2024-03-14T14:55:02.236476Z"
    }
   },
   "outputs": [
    {
     "name": "stdout",
     "output_type": "stream",
     "text": [
      "391\n"
     ]
    },
    {
     "ename": "IntegrityError",
     "evalue": "('23000', '[23000] [Microsoft][ODBC SQL Server Driver][SQL Server]The INSERT statement conflicted with the FOREIGN KEY constraint \"FK__Retailer___RETAI__68487DD7\". The conflict occurred in database \"DEDS_DataWarehouse\", table \"dbo.Retailer_site\", column \\'RETAILER_SITE_code\\'. (547) (SQLExecDirectW); [23000] [Microsoft][ODBC SQL Server Driver][SQL Server]The statement has been terminated. (3621)')",
     "output_type": "error",
     "traceback": [
      "\u001B[1;31m---------------------------------------------------------------------------\u001B[0m",
      "\u001B[1;31mIntegrityError\u001B[0m                            Traceback (most recent call last)",
      "Cell \u001B[1;32mIn[64], line 7\u001B[0m\n\u001B[0;32m      3\u001B[0m query \u001B[38;5;241m=\u001B[39m \u001B[38;5;124m'\u001B[39m\u001B[38;5;124mINSERT INTO Retailer_contact (RETAILER_CONTACT_code, RETAILER_CONTACT_email, RETAILER_CONTACT_RETAILER_SITE_CODE_site_code, RETAILER_CONTACT_JOB_POSITION_EN_position, RETAILER_CONTACT_EXTENSION_extension, RETAILER_CONTACT_FAX_fax, RETAILER_CONTACT_FIRST_NAME_first_name, RETAILER_CONTACT_LAST_NAME_last_name) VALUES (?,?,?,?,?,?,?,?)\u001B[39m\u001B[38;5;124m'\u001B[39m\n\u001B[0;32m      5\u001B[0m values \u001B[38;5;241m=\u001B[39m (row[\u001B[38;5;124m'\u001B[39m\u001B[38;5;124mRETAILER_CONTACT_code\u001B[39m\u001B[38;5;124m'\u001B[39m], row[\u001B[38;5;124m'\u001B[39m\u001B[38;5;124mRETAILER_CONTACT_email\u001B[39m\u001B[38;5;124m'\u001B[39m], row[\u001B[38;5;124m'\u001B[39m\u001B[38;5;124mRETAILER_CONTACT_RETAILER_SITE_CODE_site_code\u001B[39m\u001B[38;5;124m'\u001B[39m], row[\u001B[38;5;124m'\u001B[39m\u001B[38;5;124mRETAILER_CONTACT_JOB_POSITION_EN_position\u001B[39m\u001B[38;5;124m'\u001B[39m], row[\u001B[38;5;124m'\u001B[39m\u001B[38;5;124mRETAILER_CONTACT_EXTENSION_extension\u001B[39m\u001B[38;5;124m'\u001B[39m], row[\u001B[38;5;124m'\u001B[39m\u001B[38;5;124mRETAILER_CONTACT_FAX_fax\u001B[39m\u001B[38;5;124m'\u001B[39m], row[\u001B[38;5;124m'\u001B[39m\u001B[38;5;124mRETAILER_CONTACT_FIRST_NAME_first_name\u001B[39m\u001B[38;5;124m'\u001B[39m], row[\u001B[38;5;124m'\u001B[39m\u001B[38;5;124mRETAILER_CONTACT_LAST_NAME_last_name\u001B[39m\u001B[38;5;124m'\u001B[39m])\n\u001B[1;32m----> 7\u001B[0m \u001B[43mexport_cursor\u001B[49m\u001B[38;5;241;43m.\u001B[39;49m\u001B[43mexecute\u001B[49m\u001B[43m(\u001B[49m\u001B[43mquery\u001B[49m\u001B[43m,\u001B[49m\u001B[43m \u001B[49m\u001B[43mvalues\u001B[49m\u001B[43m)\u001B[49m\n",
      "\u001B[1;31mIntegrityError\u001B[0m: ('23000', '[23000] [Microsoft][ODBC SQL Server Driver][SQL Server]The INSERT statement conflicted with the FOREIGN KEY constraint \"FK__Retailer___RETAI__68487DD7\". The conflict occurred in database \"DEDS_DataWarehouse\", table \"dbo.Retailer_site\", column \\'RETAILER_SITE_code\\'. (547) (SQLExecDirectW); [23000] [Microsoft][ODBC SQL Server Driver][SQL Server]The statement has been terminated. (3621)')"
     ]
    }
   ],
   "source": [
    "print(retailer_contact.shape[0])\n",
    "for index, row in retailer_contact.iterrows():\n",
    "    query = 'INSERT INTO Retailer_contact (RETAILER_CONTACT_code, RETAILER_CONTACT_email, RETAILER_CONTACT_RETAILER_SITE_CODE_site_code, RETAILER_CONTACT_JOB_POSITION_EN_position, RETAILER_CONTACT_EXTENSION_extension, RETAILER_CONTACT_FAX_fax, RETAILER_CONTACT_FIRST_NAME_first_name, RETAILER_CONTACT_LAST_NAME_last_name) VALUES (?,?,?,?,?,?,?,?)'\n",
    "    \n",
    "    values = (row['RETAILER_CONTACT_code'], row['RETAILER_CONTACT_email'], row['RETAILER_CONTACT_RETAILER_SITE_CODE_site_code'], row['RETAILER_CONTACT_JOB_POSITION_EN_position'], row['RETAILER_CONTACT_EXTENSION_extension'], row['RETAILER_CONTACT_FAX_fax'], row['RETAILER_CONTACT_FIRST_NAME_first_name'], row['RETAILER_CONTACT_LAST_NAME_last_name'])\n",
    "    \n",
    "    export_cursor.execute(query, values)"
   ]
  },
  {
   "cell_type": "markdown",
   "id": "9058a5e5a96357fe",
   "metadata": {
    "collapsed": false
   },
   "source": [
    "## retailer\n",
    "na error in code_mr_company"
   ]
  },
  {
   "cell_type": "code",
   "execution_count": 65,
   "id": "4e537872be1b419a",
   "metadata": {
    "collapsed": false,
    "ExecuteTime": {
     "end_time": "2024-03-14T14:55:08.900578Z",
     "start_time": "2024-03-14T14:55:08.884966Z"
    }
   },
   "outputs": [
    {
     "name": "stdout",
     "output_type": "stream",
     "text": [
      "109\n"
     ]
    },
    {
     "ename": "ProgrammingError",
     "evalue": "('Invalid parameter type.  param-index=2 param-type=NAType', 'HY105')",
     "output_type": "error",
     "traceback": [
      "\u001B[1;31m---------------------------------------------------------------------------\u001B[0m",
      "\u001B[1;31mProgrammingError\u001B[0m                          Traceback (most recent call last)",
      "Cell \u001B[1;32mIn[65], line 5\u001B[0m\n\u001B[0;32m      3\u001B[0m query \u001B[38;5;241m=\u001B[39m \u001B[38;5;124m'\u001B[39m\u001B[38;5;124mINSERT INTO Retailer (RETAILER_code, RETAILER_name, RETAILER_COMPANY_CODE_MR_company, RETAILER_RETAILER_TYPE_retailer_type_code, RETAILER_RETAILER_TYPE_retailer_type_EN, CURRENT_VALUE) VALUES (?,?,?,?,?,?)\u001B[39m\u001B[38;5;124m'\u001B[39m\n\u001B[0;32m      4\u001B[0m values \u001B[38;5;241m=\u001B[39m (row[\u001B[38;5;124m'\u001B[39m\u001B[38;5;124mRETAILER_code\u001B[39m\u001B[38;5;124m'\u001B[39m], row[\u001B[38;5;124m'\u001B[39m\u001B[38;5;124mRETAILER_name\u001B[39m\u001B[38;5;124m'\u001B[39m], row[\u001B[38;5;124m'\u001B[39m\u001B[38;5;124mRETAILER_COMPANY_CODE_MR_company\u001B[39m\u001B[38;5;124m'\u001B[39m], row[\u001B[38;5;124m'\u001B[39m\u001B[38;5;124mRETAILER_RETAILER_TYPE_retailer_type_code\u001B[39m\u001B[38;5;124m'\u001B[39m], row[\u001B[38;5;124m'\u001B[39m\u001B[38;5;124mRETAILER_RETAILER_TYPE_retailer_type_EN\u001B[39m\u001B[38;5;124m'\u001B[39m], \u001B[38;5;241m1\u001B[39m)\n\u001B[1;32m----> 5\u001B[0m \u001B[43mexport_cursor\u001B[49m\u001B[38;5;241;43m.\u001B[39;49m\u001B[43mexecute\u001B[49m\u001B[43m(\u001B[49m\u001B[43mquery\u001B[49m\u001B[43m,\u001B[49m\u001B[43m \u001B[49m\u001B[43mvalues\u001B[49m\u001B[43m)\u001B[49m\n",
      "\u001B[1;31mProgrammingError\u001B[0m: ('Invalid parameter type.  param-index=2 param-type=NAType', 'HY105')"
     ]
    }
   ],
   "source": [
    "print(retailer.shape[0])\n",
    "for index, row in retailer.iterrows():\n",
    "    query = 'INSERT INTO Retailer (RETAILER_code, RETAILER_name, RETAILER_COMPANY_CODE_MR_company, RETAILER_RETAILER_TYPE_retailer_type_code, RETAILER_RETAILER_TYPE_retailer_type_EN, CURRENT_VALUE) VALUES (?,?,?,?,?,?)'\n",
    "    values = (row['RETAILER_code'], row['RETAILER_name'], row['RETAILER_COMPANY_CODE_MR_company'], row['RETAILER_RETAILER_TYPE_retailer_type_code'], row['RETAILER_RETAILER_TYPE_retailer_type_EN'], 1)\n",
    "    export_cursor.execute(query, values)"
   ]
  },
  {
   "cell_type": "markdown",
   "id": "f5ce1e4adc2ddc5f",
   "metadata": {
    "collapsed": false
   },
   "source": [
    "## product\n",
    "truncation error (line code is too short?)"
   ]
  },
  {
   "cell_type": "code",
   "execution_count": 66,
   "id": "75f5141c8a0705d3",
   "metadata": {
    "collapsed": false,
    "ExecuteTime": {
     "end_time": "2024-03-14T14:55:13.143625Z",
     "start_time": "2024-03-14T14:55:13.106594Z"
    }
   },
   "outputs": [
    {
     "name": "stdout",
     "output_type": "stream",
     "text": [
      "115\n"
     ]
    },
    {
     "ename": "IntegrityError",
     "evalue": "('23000', \"[23000] [Microsoft][ODBC SQL Server Driver][SQL Server]Cannot insert the value NULL into column 'PRODUCT_MINIMUM_SALE_PRICE_minPrice', table 'DEDS_DataWarehouse.dbo.Product'; column does not allow nulls. INSERT fails. (515) (SQLExecDirectW); [23000] [Microsoft][ODBC SQL Server Driver][SQL Server]The statement has been terminated. (3621)\")",
     "output_type": "error",
     "traceback": [
      "\u001B[1;31m---------------------------------------------------------------------------\u001B[0m",
      "\u001B[1;31mIntegrityError\u001B[0m                            Traceback (most recent call last)",
      "Cell \u001B[1;32mIn[66], line 5\u001B[0m\n\u001B[0;32m      3\u001B[0m query \u001B[38;5;241m=\u001B[39m \u001B[38;5;124m'\u001B[39m\u001B[38;5;124mINSERT INTO Product (PRODUCT_number, PRODUCT_name_product, PRODUCT_description_description, PRODUCT_image_image, PRODUCT_INTRODUCTION_DATE_introduced, PRODUCT_PRODUCTION_COST_cost, PRODUCT_MARGIN_margin, PRODUCT_LANGUAGE_language, PRODUCT_PRODUCT_LINE_code, PRODUCT_PRODUCT_LINE_code_en, PRODUCT_PRODUCT_TYPE_code, PRODUCT_PRODUCT_TYPE_code_en) VALUES (?,?,?,?,?,?,?,?,?,?,?,?)\u001B[39m\u001B[38;5;124m'\u001B[39m\n\u001B[0;32m      4\u001B[0m values \u001B[38;5;241m=\u001B[39m (row[\u001B[38;5;124m'\u001B[39m\u001B[38;5;124mPRODUCT_number\u001B[39m\u001B[38;5;124m'\u001B[39m], row[\u001B[38;5;124m'\u001B[39m\u001B[38;5;124mPRODUCT_name_product\u001B[39m\u001B[38;5;124m'\u001B[39m], row[\u001B[38;5;124m'\u001B[39m\u001B[38;5;124mPRODUCT_description_description\u001B[39m\u001B[38;5;124m'\u001B[39m], row[\u001B[38;5;124m'\u001B[39m\u001B[38;5;124mPRODUCT_image_image\u001B[39m\u001B[38;5;124m'\u001B[39m], row[\u001B[38;5;124m'\u001B[39m\u001B[38;5;124mPRODUCT_INTRODUCTION_DATE_introduced\u001B[39m\u001B[38;5;124m'\u001B[39m], row[\u001B[38;5;124m'\u001B[39m\u001B[38;5;124mPRODUCT_PRODUCTION_COST_cost\u001B[39m\u001B[38;5;124m'\u001B[39m], row[\u001B[38;5;124m'\u001B[39m\u001B[38;5;124mPRODUCT_MARGIN_margin\u001B[39m\u001B[38;5;124m'\u001B[39m], row[\u001B[38;5;124m'\u001B[39m\u001B[38;5;124mPRODUCT_LANGUAGE_language\u001B[39m\u001B[38;5;124m'\u001B[39m], row[\u001B[38;5;124m'\u001B[39m\u001B[38;5;124mPRODUCT_PRODUCT_LINE_code\u001B[39m\u001B[38;5;124m'\u001B[39m], row[\u001B[38;5;124m'\u001B[39m\u001B[38;5;124mPRODUCT_PRODUCT_LINE_code_en\u001B[39m\u001B[38;5;124m'\u001B[39m], row[\u001B[38;5;124m'\u001B[39m\u001B[38;5;124mPRODUCT_PRODUCT_TYPE_code\u001B[39m\u001B[38;5;124m'\u001B[39m], row[\u001B[38;5;124m'\u001B[39m\u001B[38;5;124mPRODUCT_PRODUCT_TYPE_code_en\u001B[39m\u001B[38;5;124m'\u001B[39m])\n\u001B[1;32m----> 5\u001B[0m \u001B[43mexport_cursor\u001B[49m\u001B[38;5;241;43m.\u001B[39;49m\u001B[43mexecute\u001B[49m\u001B[43m(\u001B[49m\u001B[43mquery\u001B[49m\u001B[43m,\u001B[49m\u001B[43m \u001B[49m\u001B[43mvalues\u001B[49m\u001B[43m)\u001B[49m\n",
      "\u001B[1;31mIntegrityError\u001B[0m: ('23000', \"[23000] [Microsoft][ODBC SQL Server Driver][SQL Server]Cannot insert the value NULL into column 'PRODUCT_MINIMUM_SALE_PRICE_minPrice', table 'DEDS_DataWarehouse.dbo.Product'; column does not allow nulls. INSERT fails. (515) (SQLExecDirectW); [23000] [Microsoft][ODBC SQL Server Driver][SQL Server]The statement has been terminated. (3621)\")"
     ]
    }
   ],
   "source": [
    "print(product.shape[0])\n",
    "for index, row in product.iterrows():\n",
    "    query = 'INSERT INTO Product (PRODUCT_number, PRODUCT_name_product, PRODUCT_description_description, PRODUCT_image_image, PRODUCT_INTRODUCTION_DATE_introduced, PRODUCT_PRODUCTION_COST_cost, PRODUCT_MARGIN_margin, PRODUCT_LANGUAGE_language, PRODUCT_PRODUCT_LINE_code, PRODUCT_PRODUCT_LINE_code_en, PRODUCT_PRODUCT_TYPE_code, PRODUCT_PRODUCT_TYPE_code_en) VALUES (?,?,?,?,?,?,?,?,?,?,?,?)'\n",
    "    values = (row['PRODUCT_number'], row['PRODUCT_name_product'], row['PRODUCT_description_description'], row['PRODUCT_image_image'], row['PRODUCT_INTRODUCTION_DATE_introduced'], row['PRODUCT_PRODUCTION_COST_cost'], row['PRODUCT_MARGIN_margin'], row['PRODUCT_LANGUAGE_language'], row['PRODUCT_PRODUCT_LINE_code'], row['PRODUCT_PRODUCT_LINE_code_en'], row['PRODUCT_PRODUCT_TYPE_code'], row['PRODUCT_PRODUCT_TYPE_code_en'])\n",
    "    export_cursor.execute(query, values)"
   ]
  },
  {
   "cell_type": "markdown",
   "id": "a408fb4f9e86ea9b",
   "metadata": {
    "collapsed": false
   },
   "source": [
    "## order_details\n",
    "error in column names"
   ]
  },
  {
   "cell_type": "code",
   "execution_count": 67,
   "id": "5db1bb611f6e5484",
   "metadata": {
    "collapsed": false,
    "ExecuteTime": {
     "end_time": "2024-03-14T14:55:40.877122Z",
     "start_time": "2024-03-14T14:55:40.546102Z"
    }
   },
   "outputs": [
    {
     "name": "stdout",
     "output_type": "stream",
     "text": [
      "706\n"
     ]
    },
    {
     "ename": "KeyError",
     "evalue": "'ORDER_DETAILS_code'",
     "output_type": "error",
     "traceback": [
      "\u001B[1;31m---------------------------------------------------------------------------\u001B[0m",
      "\u001B[1;31mKeyError\u001B[0m                                  Traceback (most recent call last)",
      "File \u001B[1;32m~\\AppData\\Local\\pypoetry\\Cache\\virtualenvs\\pythonproject-FRZINkZ2-py3.12\\Lib\\site-packages\\pandas\\core\\indexes\\base.py:3805\u001B[0m, in \u001B[0;36mIndex.get_loc\u001B[1;34m(self, key)\u001B[0m\n\u001B[0;32m   3804\u001B[0m \u001B[38;5;28;01mtry\u001B[39;00m:\n\u001B[1;32m-> 3805\u001B[0m     \u001B[38;5;28;01mreturn\u001B[39;00m \u001B[38;5;28;43mself\u001B[39;49m\u001B[38;5;241;43m.\u001B[39;49m\u001B[43m_engine\u001B[49m\u001B[38;5;241;43m.\u001B[39;49m\u001B[43mget_loc\u001B[49m\u001B[43m(\u001B[49m\u001B[43mcasted_key\u001B[49m\u001B[43m)\u001B[49m\n\u001B[0;32m   3806\u001B[0m \u001B[38;5;28;01mexcept\u001B[39;00m \u001B[38;5;167;01mKeyError\u001B[39;00m \u001B[38;5;28;01mas\u001B[39;00m err:\n",
      "File \u001B[1;32mindex.pyx:167\u001B[0m, in \u001B[0;36mpandas._libs.index.IndexEngine.get_loc\u001B[1;34m()\u001B[0m\n",
      "File \u001B[1;32mindex.pyx:196\u001B[0m, in \u001B[0;36mpandas._libs.index.IndexEngine.get_loc\u001B[1;34m()\u001B[0m\n",
      "File \u001B[1;32mpandas\\\\_libs\\\\hashtable_class_helper.pxi:7081\u001B[0m, in \u001B[0;36mpandas._libs.hashtable.PyObjectHashTable.get_item\u001B[1;34m()\u001B[0m\n",
      "File \u001B[1;32mpandas\\\\_libs\\\\hashtable_class_helper.pxi:7089\u001B[0m, in \u001B[0;36mpandas._libs.hashtable.PyObjectHashTable.get_item\u001B[1;34m()\u001B[0m\n",
      "\u001B[1;31mKeyError\u001B[0m: 'ORDER_DETAILS_code'",
      "\nThe above exception was the direct cause of the following exception:\n",
      "\u001B[1;31mKeyError\u001B[0m                                  Traceback (most recent call last)",
      "Cell \u001B[1;32mIn[67], line 4\u001B[0m\n\u001B[0;32m      2\u001B[0m \u001B[38;5;28;01mfor\u001B[39;00m index, row \u001B[38;5;129;01min\u001B[39;00m order_details\u001B[38;5;241m.\u001B[39miterrows():\n\u001B[0;32m      3\u001B[0m     query \u001B[38;5;241m=\u001B[39m \u001B[38;5;124m'\u001B[39m\u001B[38;5;124mINSERT INTO Order_details (ORDER_DETAILS_code, ORDER_DETAILS_QUANTITY_quantity, ORDER_DETAILS_TOTAL_COST_total, ORDER_DETAILS_TOTAL_MARGIN_margin, ORDER_DETAILS_RETURN_CODE_returned, ORDER_DETAILS_ORDER_NUMBER_order, ORDER_DETAILS_PRODUCT_NUMBER_product, ORDER_DETAILS_UNIT_ID_unit) VALUES (?,?,?,?,?,?,?,?)\u001B[39m\u001B[38;5;124m'\u001B[39m\n\u001B[1;32m----> 4\u001B[0m     values \u001B[38;5;241m=\u001B[39m (\u001B[43mrow\u001B[49m\u001B[43m[\u001B[49m\u001B[38;5;124;43m'\u001B[39;49m\u001B[38;5;124;43mORDER_DETAILS_code\u001B[39;49m\u001B[38;5;124;43m'\u001B[39;49m\u001B[43m]\u001B[49m, row[\u001B[38;5;124m'\u001B[39m\u001B[38;5;124mORDER_DETAILS_QUANTITY_quantity\u001B[39m\u001B[38;5;124m'\u001B[39m], row[\u001B[38;5;124m'\u001B[39m\u001B[38;5;124mORDER_DETAILS_TOTAL_COST_total\u001B[39m\u001B[38;5;124m'\u001B[39m], row[\u001B[38;5;124m'\u001B[39m\u001B[38;5;124mORDER_DETAILS_TOTAL_MARGIN_margin\u001B[39m\u001B[38;5;124m'\u001B[39m], row[\u001B[38;5;124m'\u001B[39m\u001B[38;5;124mORDER_DETAILS_RETURN_CODE_returned\u001B[39m\u001B[38;5;124m'\u001B[39m], row[\u001B[38;5;124m'\u001B[39m\u001B[38;5;124mORDER_DETAILS_ORDER_NUMBER_order\u001B[39m\u001B[38;5;124m'\u001B[39m], row[\u001B[38;5;124m'\u001B[39m\u001B[38;5;124mORDER_DETAILS_PRODUCT_NUMBER_product\u001B[39m\u001B[38;5;124m'\u001B[39m], row[\u001B[38;5;124m'\u001B[39m\u001B[38;5;124mORDER_DETAILS_UNIT_ID_unit\u001B[39m\u001B[38;5;124m'\u001B[39m])\n\u001B[0;32m      5\u001B[0m     export_cursor\u001B[38;5;241m.\u001B[39mexecute(query, values)\n",
      "File \u001B[1;32m~\\AppData\\Local\\pypoetry\\Cache\\virtualenvs\\pythonproject-FRZINkZ2-py3.12\\Lib\\site-packages\\pandas\\core\\series.py:1112\u001B[0m, in \u001B[0;36mSeries.__getitem__\u001B[1;34m(self, key)\u001B[0m\n\u001B[0;32m   1109\u001B[0m     \u001B[38;5;28;01mreturn\u001B[39;00m \u001B[38;5;28mself\u001B[39m\u001B[38;5;241m.\u001B[39m_values[key]\n\u001B[0;32m   1111\u001B[0m \u001B[38;5;28;01melif\u001B[39;00m key_is_scalar:\n\u001B[1;32m-> 1112\u001B[0m     \u001B[38;5;28;01mreturn\u001B[39;00m \u001B[38;5;28;43mself\u001B[39;49m\u001B[38;5;241;43m.\u001B[39;49m\u001B[43m_get_value\u001B[49m\u001B[43m(\u001B[49m\u001B[43mkey\u001B[49m\u001B[43m)\u001B[49m\n\u001B[0;32m   1114\u001B[0m \u001B[38;5;66;03m# Convert generator to list before going through hashable part\u001B[39;00m\n\u001B[0;32m   1115\u001B[0m \u001B[38;5;66;03m# (We will iterate through the generator there to check for slices)\u001B[39;00m\n\u001B[0;32m   1116\u001B[0m \u001B[38;5;28;01mif\u001B[39;00m is_iterator(key):\n",
      "File \u001B[1;32m~\\AppData\\Local\\pypoetry\\Cache\\virtualenvs\\pythonproject-FRZINkZ2-py3.12\\Lib\\site-packages\\pandas\\core\\series.py:1228\u001B[0m, in \u001B[0;36mSeries._get_value\u001B[1;34m(self, label, takeable)\u001B[0m\n\u001B[0;32m   1225\u001B[0m     \u001B[38;5;28;01mreturn\u001B[39;00m \u001B[38;5;28mself\u001B[39m\u001B[38;5;241m.\u001B[39m_values[label]\n\u001B[0;32m   1227\u001B[0m \u001B[38;5;66;03m# Similar to Index.get_value, but we do not fall back to positional\u001B[39;00m\n\u001B[1;32m-> 1228\u001B[0m loc \u001B[38;5;241m=\u001B[39m \u001B[38;5;28;43mself\u001B[39;49m\u001B[38;5;241;43m.\u001B[39;49m\u001B[43mindex\u001B[49m\u001B[38;5;241;43m.\u001B[39;49m\u001B[43mget_loc\u001B[49m\u001B[43m(\u001B[49m\u001B[43mlabel\u001B[49m\u001B[43m)\u001B[49m\n\u001B[0;32m   1230\u001B[0m \u001B[38;5;28;01mif\u001B[39;00m is_integer(loc):\n\u001B[0;32m   1231\u001B[0m     \u001B[38;5;28;01mreturn\u001B[39;00m \u001B[38;5;28mself\u001B[39m\u001B[38;5;241m.\u001B[39m_values[loc]\n",
      "File \u001B[1;32m~\\AppData\\Local\\pypoetry\\Cache\\virtualenvs\\pythonproject-FRZINkZ2-py3.12\\Lib\\site-packages\\pandas\\core\\indexes\\base.py:3812\u001B[0m, in \u001B[0;36mIndex.get_loc\u001B[1;34m(self, key)\u001B[0m\n\u001B[0;32m   3807\u001B[0m     \u001B[38;5;28;01mif\u001B[39;00m \u001B[38;5;28misinstance\u001B[39m(casted_key, \u001B[38;5;28mslice\u001B[39m) \u001B[38;5;129;01mor\u001B[39;00m (\n\u001B[0;32m   3808\u001B[0m         \u001B[38;5;28misinstance\u001B[39m(casted_key, abc\u001B[38;5;241m.\u001B[39mIterable)\n\u001B[0;32m   3809\u001B[0m         \u001B[38;5;129;01mand\u001B[39;00m \u001B[38;5;28many\u001B[39m(\u001B[38;5;28misinstance\u001B[39m(x, \u001B[38;5;28mslice\u001B[39m) \u001B[38;5;28;01mfor\u001B[39;00m x \u001B[38;5;129;01min\u001B[39;00m casted_key)\n\u001B[0;32m   3810\u001B[0m     ):\n\u001B[0;32m   3811\u001B[0m         \u001B[38;5;28;01mraise\u001B[39;00m InvalidIndexError(key)\n\u001B[1;32m-> 3812\u001B[0m     \u001B[38;5;28;01mraise\u001B[39;00m \u001B[38;5;167;01mKeyError\u001B[39;00m(key) \u001B[38;5;28;01mfrom\u001B[39;00m \u001B[38;5;21;01merr\u001B[39;00m\n\u001B[0;32m   3813\u001B[0m \u001B[38;5;28;01mexcept\u001B[39;00m \u001B[38;5;167;01mTypeError\u001B[39;00m:\n\u001B[0;32m   3814\u001B[0m     \u001B[38;5;66;03m# If we have a listlike key, _check_indexing_error will raise\u001B[39;00m\n\u001B[0;32m   3815\u001B[0m     \u001B[38;5;66;03m#  InvalidIndexError. Otherwise we fall through and re-raise\u001B[39;00m\n\u001B[0;32m   3816\u001B[0m     \u001B[38;5;66;03m#  the TypeError.\u001B[39;00m\n\u001B[0;32m   3817\u001B[0m     \u001B[38;5;28mself\u001B[39m\u001B[38;5;241m.\u001B[39m_check_indexing_error(key)\n",
      "\u001B[1;31mKeyError\u001B[0m: 'ORDER_DETAILS_code'"
     ]
    }
   ],
   "source": [
    "print(order_details.shape[0])\n",
    "for index, row in order_details.iterrows():\n",
    "    query = 'INSERT INTO Order_details (ORDER_DETAILS_code, ORDER_DETAILS_QUANTITY_quantity, ORDER_DETAILS_TOTAL_COST_total, ORDER_DETAILS_TOTAL_MARGIN_margin, ORDER_DETAILS_RETURN_CODE_returned, ORDER_DETAILS_ORDER_NUMBER_order, ORDER_DETAILS_PRODUCT_NUMBER_product, ORDER_DETAILS_UNIT_ID_unit) VALUES (?,?,?,?,?,?,?,?)'\n",
    "    values = (row['ORDER_DETAILS_code'], row['ORDER_DETAILS_QUANTITY_quantity'], row['ORDER_DETAILS_TOTAL_COST_total'], row['ORDER_DETAILS_TOTAL_MARGIN_margin'], row['ORDER_DETAILS_RETURN_CODE_returned'], row['ORDER_DETAILS_ORDER_NUMBER_order'], row['ORDER_DETAILS_PRODUCT_NUMBER_product'], row['ORDER_DETAILS_UNIT_ID_unit'])\n",
    "    export_cursor.execute(query, values)"
   ]
  },
  {
   "cell_type": "markdown",
   "id": "1ae381712a0624f6",
   "metadata": {
    "collapsed": false
   },
   "source": [
    "## returned_item\n",
    "column name error"
   ]
  },
  {
   "cell_type": "code",
   "execution_count": 68,
   "id": "f7a374b55482409",
   "metadata": {
    "collapsed": false,
    "ExecuteTime": {
     "end_time": "2024-03-14T14:55:44.125503Z",
     "start_time": "2024-03-14T14:55:44.069403Z"
    }
   },
   "outputs": [
    {
     "name": "stdout",
     "output_type": "stream",
     "text": [
      "706\n"
     ]
    },
    {
     "ename": "KeyError",
     "evalue": "'RETURNED_ITEM_DATE'",
     "output_type": "error",
     "traceback": [
      "\u001B[1;31m---------------------------------------------------------------------------\u001B[0m",
      "\u001B[1;31mKeyError\u001B[0m                                  Traceback (most recent call last)",
      "File \u001B[1;32m~\\AppData\\Local\\pypoetry\\Cache\\virtualenvs\\pythonproject-FRZINkZ2-py3.12\\Lib\\site-packages\\pandas\\core\\indexes\\base.py:3805\u001B[0m, in \u001B[0;36mIndex.get_loc\u001B[1;34m(self, key)\u001B[0m\n\u001B[0;32m   3804\u001B[0m \u001B[38;5;28;01mtry\u001B[39;00m:\n\u001B[1;32m-> 3805\u001B[0m     \u001B[38;5;28;01mreturn\u001B[39;00m \u001B[38;5;28;43mself\u001B[39;49m\u001B[38;5;241;43m.\u001B[39;49m\u001B[43m_engine\u001B[49m\u001B[38;5;241;43m.\u001B[39;49m\u001B[43mget_loc\u001B[49m\u001B[43m(\u001B[49m\u001B[43mcasted_key\u001B[49m\u001B[43m)\u001B[49m\n\u001B[0;32m   3806\u001B[0m \u001B[38;5;28;01mexcept\u001B[39;00m \u001B[38;5;167;01mKeyError\u001B[39;00m \u001B[38;5;28;01mas\u001B[39;00m err:\n",
      "File \u001B[1;32mindex.pyx:167\u001B[0m, in \u001B[0;36mpandas._libs.index.IndexEngine.get_loc\u001B[1;34m()\u001B[0m\n",
      "File \u001B[1;32mindex.pyx:196\u001B[0m, in \u001B[0;36mpandas._libs.index.IndexEngine.get_loc\u001B[1;34m()\u001B[0m\n",
      "File \u001B[1;32mpandas\\\\_libs\\\\hashtable_class_helper.pxi:7081\u001B[0m, in \u001B[0;36mpandas._libs.hashtable.PyObjectHashTable.get_item\u001B[1;34m()\u001B[0m\n",
      "File \u001B[1;32mpandas\\\\_libs\\\\hashtable_class_helper.pxi:7089\u001B[0m, in \u001B[0;36mpandas._libs.hashtable.PyObjectHashTable.get_item\u001B[1;34m()\u001B[0m\n",
      "\u001B[1;31mKeyError\u001B[0m: 'RETURNED_ITEM_DATE'",
      "\nThe above exception was the direct cause of the following exception:\n",
      "\u001B[1;31mKeyError\u001B[0m                                  Traceback (most recent call last)",
      "Cell \u001B[1;32mIn[68], line 4\u001B[0m\n\u001B[0;32m      2\u001B[0m \u001B[38;5;28;01mfor\u001B[39;00m index, row \u001B[38;5;129;01min\u001B[39;00m returned_item\u001B[38;5;241m.\u001B[39miterrows():\n\u001B[0;32m      3\u001B[0m     query \u001B[38;5;241m=\u001B[39m \u001B[38;5;124m'\u001B[39m\u001B[38;5;124mINSERT INTO Returned_item (RETURNED_ITEM_code, RETURNED_ITEM_DATE, RETURNED_ITEM_QUANTITY, RETURNED_ITEM_ORDER_DETAIL_CODE, RETURNED_ITEM_RETURN_REASON_code, RETURNED_ITEM_RETURN_REASON_description_en, RETURNED_ITEM_RETURNED_ITEMS_TOTAL_PRICE) VALUES (?,?,?,?,?,?,?)\u001B[39m\u001B[38;5;124m'\u001B[39m\n\u001B[1;32m----> 4\u001B[0m     values \u001B[38;5;241m=\u001B[39m (row[\u001B[38;5;124m'\u001B[39m\u001B[38;5;124mRETURNED_ITEM_code\u001B[39m\u001B[38;5;124m'\u001B[39m], \u001B[43mrow\u001B[49m\u001B[43m[\u001B[49m\u001B[38;5;124;43m'\u001B[39;49m\u001B[38;5;124;43mRETURNED_ITEM_DATE\u001B[39;49m\u001B[38;5;124;43m'\u001B[39;49m\u001B[43m]\u001B[49m, row[\u001B[38;5;124m'\u001B[39m\u001B[38;5;124mRETURNED_ITEM_QUANTITY\u001B[39m\u001B[38;5;124m'\u001B[39m], row[\u001B[38;5;124m'\u001B[39m\u001B[38;5;124mRETURNED_ITEM_ORDER_DETAIL_CODE\u001B[39m\u001B[38;5;124m'\u001B[39m], row[\u001B[38;5;124m'\u001B[39m\u001B[38;5;124mRETURNED_ITEM_RETURN_REASON_code\u001B[39m\u001B[38;5;124m'\u001B[39m], row[\u001B[38;5;124m'\u001B[39m\u001B[38;5;124mRETURNED_ITEM_RETURN_REASON_description_en\u001B[39m\u001B[38;5;124m'\u001B[39m], row[\u001B[38;5;124m'\u001B[39m\u001B[38;5;124mRETURNED_ITEM_RETURNED_ITEMS_TOTAL_PRICE\u001B[39m\u001B[38;5;124m'\u001B[39m])\n\u001B[0;32m      5\u001B[0m     export_cursor\u001B[38;5;241m.\u001B[39mexecute(query, values)\n",
      "File \u001B[1;32m~\\AppData\\Local\\pypoetry\\Cache\\virtualenvs\\pythonproject-FRZINkZ2-py3.12\\Lib\\site-packages\\pandas\\core\\series.py:1112\u001B[0m, in \u001B[0;36mSeries.__getitem__\u001B[1;34m(self, key)\u001B[0m\n\u001B[0;32m   1109\u001B[0m     \u001B[38;5;28;01mreturn\u001B[39;00m \u001B[38;5;28mself\u001B[39m\u001B[38;5;241m.\u001B[39m_values[key]\n\u001B[0;32m   1111\u001B[0m \u001B[38;5;28;01melif\u001B[39;00m key_is_scalar:\n\u001B[1;32m-> 1112\u001B[0m     \u001B[38;5;28;01mreturn\u001B[39;00m \u001B[38;5;28;43mself\u001B[39;49m\u001B[38;5;241;43m.\u001B[39;49m\u001B[43m_get_value\u001B[49m\u001B[43m(\u001B[49m\u001B[43mkey\u001B[49m\u001B[43m)\u001B[49m\n\u001B[0;32m   1114\u001B[0m \u001B[38;5;66;03m# Convert generator to list before going through hashable part\u001B[39;00m\n\u001B[0;32m   1115\u001B[0m \u001B[38;5;66;03m# (We will iterate through the generator there to check for slices)\u001B[39;00m\n\u001B[0;32m   1116\u001B[0m \u001B[38;5;28;01mif\u001B[39;00m is_iterator(key):\n",
      "File \u001B[1;32m~\\AppData\\Local\\pypoetry\\Cache\\virtualenvs\\pythonproject-FRZINkZ2-py3.12\\Lib\\site-packages\\pandas\\core\\series.py:1228\u001B[0m, in \u001B[0;36mSeries._get_value\u001B[1;34m(self, label, takeable)\u001B[0m\n\u001B[0;32m   1225\u001B[0m     \u001B[38;5;28;01mreturn\u001B[39;00m \u001B[38;5;28mself\u001B[39m\u001B[38;5;241m.\u001B[39m_values[label]\n\u001B[0;32m   1227\u001B[0m \u001B[38;5;66;03m# Similar to Index.get_value, but we do not fall back to positional\u001B[39;00m\n\u001B[1;32m-> 1228\u001B[0m loc \u001B[38;5;241m=\u001B[39m \u001B[38;5;28;43mself\u001B[39;49m\u001B[38;5;241;43m.\u001B[39;49m\u001B[43mindex\u001B[49m\u001B[38;5;241;43m.\u001B[39;49m\u001B[43mget_loc\u001B[49m\u001B[43m(\u001B[49m\u001B[43mlabel\u001B[49m\u001B[43m)\u001B[49m\n\u001B[0;32m   1230\u001B[0m \u001B[38;5;28;01mif\u001B[39;00m is_integer(loc):\n\u001B[0;32m   1231\u001B[0m     \u001B[38;5;28;01mreturn\u001B[39;00m \u001B[38;5;28mself\u001B[39m\u001B[38;5;241m.\u001B[39m_values[loc]\n",
      "File \u001B[1;32m~\\AppData\\Local\\pypoetry\\Cache\\virtualenvs\\pythonproject-FRZINkZ2-py3.12\\Lib\\site-packages\\pandas\\core\\indexes\\base.py:3812\u001B[0m, in \u001B[0;36mIndex.get_loc\u001B[1;34m(self, key)\u001B[0m\n\u001B[0;32m   3807\u001B[0m     \u001B[38;5;28;01mif\u001B[39;00m \u001B[38;5;28misinstance\u001B[39m(casted_key, \u001B[38;5;28mslice\u001B[39m) \u001B[38;5;129;01mor\u001B[39;00m (\n\u001B[0;32m   3808\u001B[0m         \u001B[38;5;28misinstance\u001B[39m(casted_key, abc\u001B[38;5;241m.\u001B[39mIterable)\n\u001B[0;32m   3809\u001B[0m         \u001B[38;5;129;01mand\u001B[39;00m \u001B[38;5;28many\u001B[39m(\u001B[38;5;28misinstance\u001B[39m(x, \u001B[38;5;28mslice\u001B[39m) \u001B[38;5;28;01mfor\u001B[39;00m x \u001B[38;5;129;01min\u001B[39;00m casted_key)\n\u001B[0;32m   3810\u001B[0m     ):\n\u001B[0;32m   3811\u001B[0m         \u001B[38;5;28;01mraise\u001B[39;00m InvalidIndexError(key)\n\u001B[1;32m-> 3812\u001B[0m     \u001B[38;5;28;01mraise\u001B[39;00m \u001B[38;5;167;01mKeyError\u001B[39;00m(key) \u001B[38;5;28;01mfrom\u001B[39;00m \u001B[38;5;21;01merr\u001B[39;00m\n\u001B[0;32m   3813\u001B[0m \u001B[38;5;28;01mexcept\u001B[39;00m \u001B[38;5;167;01mTypeError\u001B[39;00m:\n\u001B[0;32m   3814\u001B[0m     \u001B[38;5;66;03m# If we have a listlike key, _check_indexing_error will raise\u001B[39;00m\n\u001B[0;32m   3815\u001B[0m     \u001B[38;5;66;03m#  InvalidIndexError. Otherwise we fall through and re-raise\u001B[39;00m\n\u001B[0;32m   3816\u001B[0m     \u001B[38;5;66;03m#  the TypeError.\u001B[39;00m\n\u001B[0;32m   3817\u001B[0m     \u001B[38;5;28mself\u001B[39m\u001B[38;5;241m.\u001B[39m_check_indexing_error(key)\n",
      "\u001B[1;31mKeyError\u001B[0m: 'RETURNED_ITEM_DATE'"
     ]
    }
   ],
   "source": [
    "print(returned_item.shapqe[0])\n",
    "for index, row in returned_item.iterrows():\n",
    "    query = 'INSERT INTO Returned_item (RETURNED_ITEM_code, RETURNED_ITEM_DATE, RETURNED_ITEM_QUANTITY, RETURNED_ITEM_ORDER_DETAIL_CODE, RETURNED_ITEM_RETURN_REASON_code, RETURNED_ITEM_RETURN_REASON_description_en, RETURNED_ITEM_RETURNED_ITEMS_TOTAL_PRICE) VALUES (?,?,?,?,?,?,?)'\n",
    "    values = (row['RETURNED_ITEM_code'], row['RETURNED_ITEM_DATE'], row['RETURNED_ITEM_QUANTITY'], row['RETURNED_ITEM_ORDER_DETAIL_CODE'], row['RETURNED_ITEM_RETURN_REASON_code'], row['RETURNED_ITEM_RETURN_REASON_description_en'], row['RETURNED_ITEM_RETURNED_ITEMS_TOTAL_PRICE'])\n",
    "    export_cursor.execute(query, values)"
   ]
  },
  {
   "cell_type": "markdown",
   "id": "7d2b2ff236235fdf",
   "metadata": {
    "collapsed": false
   },
   "source": [
    "## sales_target_data\n",
    "KeyError: 'SALES_TARGETDATA_TARGET_COST'"
   ]
  },
  {
   "cell_type": "code",
   "execution_count": 76,
   "id": "9094928bcff31e64",
   "metadata": {
    "collapsed": false,
    "ExecuteTime": {
     "end_time": "2024-03-14T15:04:22.019090Z",
     "start_time": "2024-03-14T15:04:21.921314Z"
    }
   },
   "outputs": [
    {
     "name": "stdout",
     "output_type": "stream",
     "text": [
      "39530\n"
     ]
    },
    {
     "ename": "IntegrityError",
     "evalue": "('23000', \"[23000] [Microsoft][ODBC SQL Server Driver][SQL Server]Cannot insert the value NULL into column 'SALES_TARGETDATA_id', table 'DEDS_DataWarehouse.dbo.SALES_TARGETDATA'; column does not allow nulls. INSERT fails. (515) (SQLExecDirectW); [23000] [Microsoft][ODBC SQL Server Driver][SQL Server]The statement has been terminated. (3621)\")",
     "output_type": "error",
     "traceback": [
      "\u001B[1;31m---------------------------------------------------------------------------\u001B[0m",
      "\u001B[1;31mIntegrityError\u001B[0m                            Traceback (most recent call last)",
      "Cell \u001B[1;32mIn[76], line 5\u001B[0m\n\u001B[0;32m      3\u001B[0m query \u001B[38;5;241m=\u001B[39m \u001B[38;5;124m'\u001B[39m\u001B[38;5;124mINSERT INTO SALES_TARGETDATA (SALES_TARGETDATA_SALES_YEAR, SALES_TARGETDATA_SALES_PERIOD, SALES_TARGETDATA_RETAILER_NAME, SALES_TARGETDATA_SALES_TARGET, SALES_TARGETDATA_TARGET_COST, SALES_TARGETDATA_TARGET_MARGIN, SALES_TARGETDATA_SALES_STAFF_CODE, SALES_TARGETDATA_PRODUCT_NUMBER, SALES_TARGETDATA_RETAILER_CODE) VALUES (?,?,?,?,?,?,?,?,?)\u001B[39m\u001B[38;5;124m'\u001B[39m\n\u001B[0;32m      4\u001B[0m values \u001B[38;5;241m=\u001B[39m (row[\u001B[38;5;124m'\u001B[39m\u001B[38;5;124mSALES_TARGETDATA_SALES_YEAR\u001B[39m\u001B[38;5;124m'\u001B[39m], row[\u001B[38;5;124m'\u001B[39m\u001B[38;5;124mSALES_TARGETDATA_SALES_PERIOD\u001B[39m\u001B[38;5;124m'\u001B[39m], row[\u001B[38;5;124m'\u001B[39m\u001B[38;5;124mSALES_TARGETDATA_RETAILER_NAME\u001B[39m\u001B[38;5;124m'\u001B[39m], row[\u001B[38;5;124m'\u001B[39m\u001B[38;5;124mSALES_TARGETDATA_SALES_TARGET\u001B[39m\u001B[38;5;124m'\u001B[39m], row[\u001B[38;5;124m'\u001B[39m\u001B[38;5;124mSALES_TARGET_DATA_TARGET_COST\u001B[39m\u001B[38;5;124m'\u001B[39m], row[\u001B[38;5;124m'\u001B[39m\u001B[38;5;124mSALES_TARGET_DATA_TARGET_MARGIN\u001B[39m\u001B[38;5;124m'\u001B[39m], row[\u001B[38;5;124m'\u001B[39m\u001B[38;5;124mSALES_TARGETDATA_SALES_STAFF_CODE\u001B[39m\u001B[38;5;124m'\u001B[39m], row[\u001B[38;5;124m'\u001B[39m\u001B[38;5;124mPRODUCT_number\u001B[39m\u001B[38;5;124m'\u001B[39m], row[\u001B[38;5;124m'\u001B[39m\u001B[38;5;124mRETAILER_code\u001B[39m\u001B[38;5;124m'\u001B[39m])\n\u001B[1;32m----> 5\u001B[0m \u001B[43mexport_cursor\u001B[49m\u001B[38;5;241;43m.\u001B[39;49m\u001B[43mexecute\u001B[49m\u001B[43m(\u001B[49m\u001B[43mquery\u001B[49m\u001B[43m,\u001B[49m\u001B[43m \u001B[49m\u001B[43mvalues\u001B[49m\u001B[43m)\u001B[49m\n",
      "\u001B[1;31mIntegrityError\u001B[0m: ('23000', \"[23000] [Microsoft][ODBC SQL Server Driver][SQL Server]Cannot insert the value NULL into column 'SALES_TARGETDATA_id', table 'DEDS_DataWarehouse.dbo.SALES_TARGETDATA'; column does not allow nulls. INSERT fails. (515) (SQLExecDirectW); [23000] [Microsoft][ODBC SQL Server Driver][SQL Server]The statement has been terminated. (3621)\")"
     ]
    }
   ],
   "source": [
    "print(sales_target_data.shape[0])\n",
    "for index, row in sales_target_data.iterrows():\n",
    "    query = 'INSERT INTO SALES_TARGETDATA (SALES_TARGETDATA_SALES_YEAR, SALES_TARGETDATA_SALES_PERIOD, SALES_TARGETDATA_RETAILER_NAME, SALES_TARGETDATA_SALES_TARGET, SALES_TARGETDATA_TARGET_COST, SALES_TARGETDATA_TARGET_MARGIN, SALES_TARGETDATA_SALES_STAFF_CODE, SALES_TARGETDATA_PRODUCT_NUMBER, SALES_TARGETDATA_RETAILER_CODE) VALUES (?,?,?,?,?,?,?,?,?)'\n",
    "    values = (row['SALES_TARGETDATA_SALES_YEAR'], row['SALES_TARGETDATA_SALES_PERIOD'], row['SALES_TARGETDATA_RETAILER_NAME'], row['SALES_TARGETDATA_SALES_TARGET'], row['SALES_TARGET_DATA_TARGET_COST'], row['SALES_TARGET_DATA_TARGET_MARGIN'], row['SALES_TARGETDATA_SALES_STAFF_CODE'], row['PRODUCT_number'], row['RETAILER_code'])\n",
    "    export_cursor.execute(query, values)"
   ]
  },
  {
   "cell_type": "markdown",
   "id": "d51834d38ef5bd7f",
   "metadata": {
    "collapsed": false
   },
   "source": [
    "## training\n",
    "foreign key constraint, sales_staff"
   ]
  },
  {
   "cell_type": "code",
   "execution_count": 77,
   "id": "203fad21638237ff",
   "metadata": {
    "collapsed": false,
    "ExecuteTime": {
     "end_time": "2024-03-14T15:04:35.031063Z",
     "start_time": "2024-03-14T15:04:34.950122Z"
    }
   },
   "outputs": [
    {
     "name": "stdout",
     "output_type": "stream",
     "text": [
      "402\n"
     ]
    },
    {
     "ename": "IntegrityError",
     "evalue": "('23000', '[23000] [Microsoft][ODBC SQL Server Driver][SQL Server]The INSERT statement conflicted with the FOREIGN KEY constraint \"FK__Training__TRAINI__0A9D95DB\". The conflict occurred in database \"DEDS_DataWarehouse\", table \"dbo.Sales_staff\", column \\'SALES_STAFF_code\\'. (547) (SQLExecDirectW); [23000] [Microsoft][ODBC SQL Server Driver][SQL Server]The statement has been terminated. (3621)')",
     "output_type": "error",
     "traceback": [
      "\u001B[1;31m---------------------------------------------------------------------------\u001B[0m",
      "\u001B[1;31mIntegrityError\u001B[0m                            Traceback (most recent call last)",
      "Cell \u001B[1;32mIn[77], line 5\u001B[0m\n\u001B[0;32m      3\u001B[0m query \u001B[38;5;241m=\u001B[39m \u001B[38;5;124m'\u001B[39m\u001B[38;5;124mINSERT INTO Training (TRAINING_SALES_STAFF_CODE, TRAINING_COURSE_CODE, TRAINING_YEAR) VALUES (?,?,?)\u001B[39m\u001B[38;5;124m'\u001B[39m\n\u001B[0;32m      4\u001B[0m values \u001B[38;5;241m=\u001B[39m (row[\u001B[38;5;124m'\u001B[39m\u001B[38;5;124mTRAINING_SALES_STAFF_CODE\u001B[39m\u001B[38;5;124m'\u001B[39m], row[\u001B[38;5;124m'\u001B[39m\u001B[38;5;124mTRAINING_COURSE_CODE\u001B[39m\u001B[38;5;124m'\u001B[39m], row[\u001B[38;5;124m'\u001B[39m\u001B[38;5;124mTRAINING_YEAR\u001B[39m\u001B[38;5;124m'\u001B[39m])\n\u001B[1;32m----> 5\u001B[0m \u001B[43mexport_cursor\u001B[49m\u001B[38;5;241;43m.\u001B[39;49m\u001B[43mexecute\u001B[49m\u001B[43m(\u001B[49m\u001B[43mquery\u001B[49m\u001B[43m,\u001B[49m\u001B[43m \u001B[49m\u001B[43mvalues\u001B[49m\u001B[43m)\u001B[49m\n",
      "\u001B[1;31mIntegrityError\u001B[0m: ('23000', '[23000] [Microsoft][ODBC SQL Server Driver][SQL Server]The INSERT statement conflicted with the FOREIGN KEY constraint \"FK__Training__TRAINI__0A9D95DB\". The conflict occurred in database \"DEDS_DataWarehouse\", table \"dbo.Sales_staff\", column \\'SALES_STAFF_code\\'. (547) (SQLExecDirectW); [23000] [Microsoft][ODBC SQL Server Driver][SQL Server]The statement has been terminated. (3621)')"
     ]
    }
   ],
   "source": [
    "print(training.shape[0])\n",
    "for index, row in training.iterrows():\n",
    "    query = 'INSERT INTO Training (TRAINING_SALES_STAFF_CODE, TRAINING_COURSE_CODE, TRAINING_YEAR) VALUES (?,?,?)'\n",
    "    values = (row['TRAINING_SALES_STAFF_CODE'], row['TRAINING_COURSE_CODE'], row['TRAINING_YEAR'])\n",
    "    export_cursor.execute(query, values)"
   ]
  },
  {
   "cell_type": "markdown",
   "id": "6809bc76db4bcd3a",
   "metadata": {
    "collapsed": false
   },
   "source": [
    "## satisfaction\n",
    "foreign key constraint, sales_staff"
   ]
  },
  {
   "cell_type": "code",
   "execution_count": 78,
   "id": "db67790698726567",
   "metadata": {
    "collapsed": false,
    "ExecuteTime": {
     "end_time": "2024-03-14T15:04:53.429310Z",
     "start_time": "2024-03-14T15:04:53.410068Z"
    }
   },
   "outputs": [
    {
     "name": "stdout",
     "output_type": "stream",
     "text": [
      "301\n"
     ]
    },
    {
     "ename": "IntegrityError",
     "evalue": "('23000', '[23000] [Microsoft][ODBC SQL Server Driver][SQL Server]The INSERT statement conflicted with the FOREIGN KEY constraint \"FK__Satisfact__SATIS__114A936A\". The conflict occurred in database \"DEDS_DataWarehouse\", table \"dbo.Sales_staff\", column \\'SALES_STAFF_code\\'. (547) (SQLExecDirectW); [23000] [Microsoft][ODBC SQL Server Driver][SQL Server]The statement has been terminated. (3621)')",
     "output_type": "error",
     "traceback": [
      "\u001B[1;31m---------------------------------------------------------------------------\u001B[0m",
      "\u001B[1;31mIntegrityError\u001B[0m                            Traceback (most recent call last)",
      "Cell \u001B[1;32mIn[78], line 5\u001B[0m\n\u001B[0;32m      3\u001B[0m query \u001B[38;5;241m=\u001B[39m \u001B[38;5;124m'\u001B[39m\u001B[38;5;124mINSERT INTO Satisfaction (SATISFACTION_SALES_STAFF_CODE, SATISFACTION_SATISFACTION_TYPE_CODE, SATISFACTION_YEAR) VALUES (?,?,?)\u001B[39m\u001B[38;5;124m'\u001B[39m\n\u001B[0;32m      4\u001B[0m values \u001B[38;5;241m=\u001B[39m (row[\u001B[38;5;124m'\u001B[39m\u001B[38;5;124mSATISFACTION_SALES_STAFF_CODE\u001B[39m\u001B[38;5;124m'\u001B[39m], row[\u001B[38;5;124m'\u001B[39m\u001B[38;5;124mSATISFACTION_SATISFACTION_TYPE_CODE\u001B[39m\u001B[38;5;124m'\u001B[39m], row[\u001B[38;5;124m'\u001B[39m\u001B[38;5;124mSATISFACTION_YEAR\u001B[39m\u001B[38;5;124m'\u001B[39m])\n\u001B[1;32m----> 5\u001B[0m \u001B[43mexport_cursor\u001B[49m\u001B[38;5;241;43m.\u001B[39;49m\u001B[43mexecute\u001B[49m\u001B[43m(\u001B[49m\u001B[43mquery\u001B[49m\u001B[43m,\u001B[49m\u001B[43m \u001B[49m\u001B[43mvalues\u001B[49m\u001B[43m)\u001B[49m\n",
      "\u001B[1;31mIntegrityError\u001B[0m: ('23000', '[23000] [Microsoft][ODBC SQL Server Driver][SQL Server]The INSERT statement conflicted with the FOREIGN KEY constraint \"FK__Satisfact__SATIS__114A936A\". The conflict occurred in database \"DEDS_DataWarehouse\", table \"dbo.Sales_staff\", column \\'SALES_STAFF_code\\'. (547) (SQLExecDirectW); [23000] [Microsoft][ODBC SQL Server Driver][SQL Server]The statement has been terminated. (3621)')"
     ]
    }
   ],
   "source": [
    "print(satisfaction.shape[0])\n",
    "for index, row in satisfaction.iterrows():\n",
    "    query = 'INSERT INTO Satisfaction (SATISFACTION_SALES_STAFF_CODE, SATISFACTION_SATISFACTION_TYPE_CODE, SATISFACTION_YEAR) VALUES (?,?,?)'\n",
    "    values = (row['SATISFACTION_SALES_STAFF_CODE'], row['SATISFACTION_SATISFACTION_TYPE_CODE'], row['SATISFACTION_YEAR'])\n",
    "    export_cursor.execute(query, values)"
   ]
  },
  {
   "cell_type": "markdown",
   "id": "504717807a49344e",
   "metadata": {
    "collapsed": false
   },
   "source": [
    "## order_header\n",
    "key errors"
   ]
  },
  {
   "cell_type": "code",
   "execution_count": 79,
   "id": "e888ad83b9f74e7d",
   "metadata": {
    "collapsed": false,
    "ExecuteTime": {
     "end_time": "2024-03-14T15:05:11.062096Z",
     "start_time": "2024-03-14T15:05:11.013794Z"
    }
   },
   "outputs": [
    {
     "name": "stdout",
     "output_type": "stream",
     "text": [
      "4965\n"
     ]
    },
    {
     "ename": "KeyError",
     "evalue": "'ORDER_HEADER_SALES_STAFF_CODE'",
     "output_type": "error",
     "traceback": [
      "\u001B[1;31m---------------------------------------------------------------------------\u001B[0m",
      "\u001B[1;31mKeyError\u001B[0m                                  Traceback (most recent call last)",
      "File \u001B[1;32m~\\AppData\\Local\\pypoetry\\Cache\\virtualenvs\\pythonproject-FRZINkZ2-py3.12\\Lib\\site-packages\\pandas\\core\\indexes\\base.py:3805\u001B[0m, in \u001B[0;36mIndex.get_loc\u001B[1;34m(self, key)\u001B[0m\n\u001B[0;32m   3804\u001B[0m \u001B[38;5;28;01mtry\u001B[39;00m:\n\u001B[1;32m-> 3805\u001B[0m     \u001B[38;5;28;01mreturn\u001B[39;00m \u001B[38;5;28;43mself\u001B[39;49m\u001B[38;5;241;43m.\u001B[39;49m\u001B[43m_engine\u001B[49m\u001B[38;5;241;43m.\u001B[39;49m\u001B[43mget_loc\u001B[49m\u001B[43m(\u001B[49m\u001B[43mcasted_key\u001B[49m\u001B[43m)\u001B[49m\n\u001B[0;32m   3806\u001B[0m \u001B[38;5;28;01mexcept\u001B[39;00m \u001B[38;5;167;01mKeyError\u001B[39;00m \u001B[38;5;28;01mas\u001B[39;00m err:\n",
      "File \u001B[1;32mindex.pyx:167\u001B[0m, in \u001B[0;36mpandas._libs.index.IndexEngine.get_loc\u001B[1;34m()\u001B[0m\n",
      "File \u001B[1;32mindex.pyx:196\u001B[0m, in \u001B[0;36mpandas._libs.index.IndexEngine.get_loc\u001B[1;34m()\u001B[0m\n",
      "File \u001B[1;32mpandas\\\\_libs\\\\hashtable_class_helper.pxi:7081\u001B[0m, in \u001B[0;36mpandas._libs.hashtable.PyObjectHashTable.get_item\u001B[1;34m()\u001B[0m\n",
      "File \u001B[1;32mpandas\\\\_libs\\\\hashtable_class_helper.pxi:7089\u001B[0m, in \u001B[0;36mpandas._libs.hashtable.PyObjectHashTable.get_item\u001B[1;34m()\u001B[0m\n",
      "\u001B[1;31mKeyError\u001B[0m: 'ORDER_HEADER_SALES_STAFF_CODE'",
      "\nThe above exception was the direct cause of the following exception:\n",
      "\u001B[1;31mKeyError\u001B[0m                                  Traceback (most recent call last)",
      "Cell \u001B[1;32mIn[79], line 4\u001B[0m\n\u001B[0;32m      2\u001B[0m \u001B[38;5;28;01mfor\u001B[39;00m index, row \u001B[38;5;129;01min\u001B[39;00m order_header\u001B[38;5;241m.\u001B[39miterrows():\n\u001B[0;32m      3\u001B[0m     query \u001B[38;5;241m=\u001B[39m \u001B[38;5;124m'\u001B[39m\u001B[38;5;124mINSERT INTO Order_header (ORDER_HEADER_number, ORDER_HEADER_SALES_STAFF_CODE, ORDER_HEADER_SALES_BRANCH_CODE, ORDER_HEADER_RETAILER_SITE_CODE, ORDER_HEADER_RETAILER_CONTACT_CODE, ORDER_HEADER_RETAILER_CODE, ORDER_DATE) VALUES (?,?,?,?,?,?,?)\u001B[39m\u001B[38;5;124m'\u001B[39m\n\u001B[1;32m----> 4\u001B[0m     values \u001B[38;5;241m=\u001B[39m (row[\u001B[38;5;124m'\u001B[39m\u001B[38;5;124mORDER_HEADER_number\u001B[39m\u001B[38;5;124m'\u001B[39m], \u001B[43mrow\u001B[49m\u001B[43m[\u001B[49m\u001B[38;5;124;43m'\u001B[39;49m\u001B[38;5;124;43mORDER_HEADER_SALES_STAFF_CODE\u001B[39;49m\u001B[38;5;124;43m'\u001B[39;49m\u001B[43m]\u001B[49m, row[\u001B[38;5;124m'\u001B[39m\u001B[38;5;124mORDER_HEADER_SALES_BRANCH_CODE\u001B[39m\u001B[38;5;124m'\u001B[39m], row[\u001B[38;5;124m'\u001B[39m\u001B[38;5;124mORDER_HEADER_RETAILER_SITE_CODE\u001B[39m\u001B[38;5;124m'\u001B[39m], row[\u001B[38;5;124m'\u001B[39m\u001B[38;5;124mORDER_HEADER_RETAILER_CONTACT_CODE\u001B[39m\u001B[38;5;124m'\u001B[39m], row[\u001B[38;5;124m'\u001B[39m\u001B[38;5;124mORDER_HEADER_RETAILER_CODE\u001B[39m\u001B[38;5;124m'\u001B[39m], row[\u001B[38;5;124m'\u001B[39m\u001B[38;5;124mORDER_DATE\u001B[39m\u001B[38;5;124m'\u001B[39m])\n\u001B[0;32m      5\u001B[0m     export_cursor\u001B[38;5;241m.\u001B[39mexecute(query, values)\n",
      "File \u001B[1;32m~\\AppData\\Local\\pypoetry\\Cache\\virtualenvs\\pythonproject-FRZINkZ2-py3.12\\Lib\\site-packages\\pandas\\core\\series.py:1112\u001B[0m, in \u001B[0;36mSeries.__getitem__\u001B[1;34m(self, key)\u001B[0m\n\u001B[0;32m   1109\u001B[0m     \u001B[38;5;28;01mreturn\u001B[39;00m \u001B[38;5;28mself\u001B[39m\u001B[38;5;241m.\u001B[39m_values[key]\n\u001B[0;32m   1111\u001B[0m \u001B[38;5;28;01melif\u001B[39;00m key_is_scalar:\n\u001B[1;32m-> 1112\u001B[0m     \u001B[38;5;28;01mreturn\u001B[39;00m \u001B[38;5;28;43mself\u001B[39;49m\u001B[38;5;241;43m.\u001B[39;49m\u001B[43m_get_value\u001B[49m\u001B[43m(\u001B[49m\u001B[43mkey\u001B[49m\u001B[43m)\u001B[49m\n\u001B[0;32m   1114\u001B[0m \u001B[38;5;66;03m# Convert generator to list before going through hashable part\u001B[39;00m\n\u001B[0;32m   1115\u001B[0m \u001B[38;5;66;03m# (We will iterate through the generator there to check for slices)\u001B[39;00m\n\u001B[0;32m   1116\u001B[0m \u001B[38;5;28;01mif\u001B[39;00m is_iterator(key):\n",
      "File \u001B[1;32m~\\AppData\\Local\\pypoetry\\Cache\\virtualenvs\\pythonproject-FRZINkZ2-py3.12\\Lib\\site-packages\\pandas\\core\\series.py:1228\u001B[0m, in \u001B[0;36mSeries._get_value\u001B[1;34m(self, label, takeable)\u001B[0m\n\u001B[0;32m   1225\u001B[0m     \u001B[38;5;28;01mreturn\u001B[39;00m \u001B[38;5;28mself\u001B[39m\u001B[38;5;241m.\u001B[39m_values[label]\n\u001B[0;32m   1227\u001B[0m \u001B[38;5;66;03m# Similar to Index.get_value, but we do not fall back to positional\u001B[39;00m\n\u001B[1;32m-> 1228\u001B[0m loc \u001B[38;5;241m=\u001B[39m \u001B[38;5;28;43mself\u001B[39;49m\u001B[38;5;241;43m.\u001B[39;49m\u001B[43mindex\u001B[49m\u001B[38;5;241;43m.\u001B[39;49m\u001B[43mget_loc\u001B[49m\u001B[43m(\u001B[49m\u001B[43mlabel\u001B[49m\u001B[43m)\u001B[49m\n\u001B[0;32m   1230\u001B[0m \u001B[38;5;28;01mif\u001B[39;00m is_integer(loc):\n\u001B[0;32m   1231\u001B[0m     \u001B[38;5;28;01mreturn\u001B[39;00m \u001B[38;5;28mself\u001B[39m\u001B[38;5;241m.\u001B[39m_values[loc]\n",
      "File \u001B[1;32m~\\AppData\\Local\\pypoetry\\Cache\\virtualenvs\\pythonproject-FRZINkZ2-py3.12\\Lib\\site-packages\\pandas\\core\\indexes\\base.py:3812\u001B[0m, in \u001B[0;36mIndex.get_loc\u001B[1;34m(self, key)\u001B[0m\n\u001B[0;32m   3807\u001B[0m     \u001B[38;5;28;01mif\u001B[39;00m \u001B[38;5;28misinstance\u001B[39m(casted_key, \u001B[38;5;28mslice\u001B[39m) \u001B[38;5;129;01mor\u001B[39;00m (\n\u001B[0;32m   3808\u001B[0m         \u001B[38;5;28misinstance\u001B[39m(casted_key, abc\u001B[38;5;241m.\u001B[39mIterable)\n\u001B[0;32m   3809\u001B[0m         \u001B[38;5;129;01mand\u001B[39;00m \u001B[38;5;28many\u001B[39m(\u001B[38;5;28misinstance\u001B[39m(x, \u001B[38;5;28mslice\u001B[39m) \u001B[38;5;28;01mfor\u001B[39;00m x \u001B[38;5;129;01min\u001B[39;00m casted_key)\n\u001B[0;32m   3810\u001B[0m     ):\n\u001B[0;32m   3811\u001B[0m         \u001B[38;5;28;01mraise\u001B[39;00m InvalidIndexError(key)\n\u001B[1;32m-> 3812\u001B[0m     \u001B[38;5;28;01mraise\u001B[39;00m \u001B[38;5;167;01mKeyError\u001B[39;00m(key) \u001B[38;5;28;01mfrom\u001B[39;00m \u001B[38;5;21;01merr\u001B[39;00m\n\u001B[0;32m   3813\u001B[0m \u001B[38;5;28;01mexcept\u001B[39;00m \u001B[38;5;167;01mTypeError\u001B[39;00m:\n\u001B[0;32m   3814\u001B[0m     \u001B[38;5;66;03m# If we have a listlike key, _check_indexing_error will raise\u001B[39;00m\n\u001B[0;32m   3815\u001B[0m     \u001B[38;5;66;03m#  InvalidIndexError. Otherwise we fall through and re-raise\u001B[39;00m\n\u001B[0;32m   3816\u001B[0m     \u001B[38;5;66;03m#  the TypeError.\u001B[39;00m\n\u001B[0;32m   3817\u001B[0m     \u001B[38;5;28mself\u001B[39m\u001B[38;5;241m.\u001B[39m_check_indexing_error(key)\n",
      "\u001B[1;31mKeyError\u001B[0m: 'ORDER_HEADER_SALES_STAFF_CODE'"
     ]
    }
   ],
   "source": [
    "print(order_header.shape[0])\n",
    "for index, row in order_header.iterrows():\n",
    "    query = 'INSERT INTO Order_header (ORDER_HEADER_number, ORDER_HEADER_SALES_STAFF_CODE, ORDER_HEADER_SALES_BRANCH_CODE, ORDER_HEADER_RETAILER_SITE_CODE, ORDER_HEADER_RETAILER_CONTACT_CODE, ORDER_HEADER_RETAILER_CODE, ORDER_DATE) VALUES (?,?,?,?,?,?,?)'\n",
    "    values = (row['ORDER_HEADER_number'], row['ORDER_HEADER_SALES_STAFF_CODE'], row['ORDER_HEADER_SALES_BRANCH_CODE'], row['ORDER_HEADER_RETAILER_SITE_CODE'], row['ORDER_HEADER_RETAILER_CONTACT_CODE'], row['ORDER_HEADER_RETAILER_CODE'], row['ORDER_DATE'])\n",
    "    export_cursor.execute(query, values)"
   ]
  },
  {
   "cell_type": "markdown",
   "id": "552b4deb1ec12bb7",
   "metadata": {
    "collapsed": false
   },
   "source": [
    "## retailer_segment\n",
    "works"
   ]
  },
  {
   "cell_type": "code",
   "execution_count": 80,
   "id": "11edad547765b506",
   "metadata": {
    "collapsed": false,
    "ExecuteTime": {
     "end_time": "2024-03-14T15:05:23.266388Z",
     "start_time": "2024-03-14T15:05:23.212822Z"
    }
   },
   "outputs": [
    {
     "name": "stdout",
     "output_type": "stream",
     "text": [
      "12\n"
     ]
    }
   ],
   "source": [
    "print(retailer_segment.shape[0])\n",
    "for index, row in retailer_segment.iterrows():\n",
    "    query = 'INSERT INTO Retailer_segment (RETAILER_SEGMENT_segment_code, RETAILER_SEGMENT_language, RETAILER_SEGMENT_segment_name, RETAILER_SEGMENT_SEGMENT_DESCRIPTION_description, SEGMENT_DESCRIPTION_description_short, CURRENT_VALUE) VALUES (?,?,?,?,?,?)'\n",
    "    values = (row['RETAILER_SEGMENT_segment_code'], row['RETAILER_SEGMENT_language'], row['RETAILER_SEGMENT_segment_name'], row['RETAILER_SEGMENT_SEGMENT_DESCRIPTION_description'], row['SEGMENT_DESCRIPTION_SHORT'], 1)\n",
    "    export_cursor.execute(query, values)"
   ]
  },
  {
   "cell_type": "markdown",
   "id": "1d762cfc1fa15f4",
   "metadata": {
    "collapsed": false
   },
   "source": [
    "## retailer_headquarters\n",
    "na problem with adres 2"
   ]
  },
  {
   "cell_type": "code",
   "execution_count": 81,
   "id": "1c8ffc80dcb80dd3",
   "metadata": {
    "collapsed": false,
    "ExecuteTime": {
     "end_time": "2024-03-14T15:05:30.286784Z",
     "start_time": "2024-03-14T15:05:30.270334Z"
    }
   },
   "outputs": [
    {
     "name": "stdout",
     "output_type": "stream",
     "text": [
      "414\n"
     ]
    },
    {
     "ename": "ProgrammingError",
     "evalue": "('Invalid parameter type.  param-index=3 param-type=NAType', 'HY105')",
     "output_type": "error",
     "traceback": [
      "\u001B[1;31m---------------------------------------------------------------------------\u001B[0m",
      "\u001B[1;31mProgrammingError\u001B[0m                          Traceback (most recent call last)",
      "Cell \u001B[1;32mIn[81], line 5\u001B[0m\n\u001B[0;32m      3\u001B[0m query \u001B[38;5;241m=\u001B[39m \u001B[38;5;124m'\u001B[39m\u001B[38;5;124mINSERT INTO Retailer_headquarters (RETAILER_HEADQUARTER_codemr, RETAIL_HEADQUARTER_retailer_name, RETAILER_HEADQUARTER_address1_address, RETAILER_HEADQUARTER_address2_address, RETAILER_HEADQUARTER_city_city, RETAILER_HEADQUARTER_region_region, RETAILER_HEADQUARTER_postal_zone_postal_zone, RETAILER_HEADQUARTER_country_code_country, RETAILER_HEADQUARTER_phone_phone, RETAILER_HEADQUARTER_fax_fax, RETAILER_HEADQUARTER_segment_code, MAIN_ADDRESS, CURRENT_VALUE) VALUES (?,?,?,?,?,?,?,?,?,?,?,?,?)\u001B[39m\u001B[38;5;124m'\u001B[39m\n\u001B[0;32m      4\u001B[0m values \u001B[38;5;241m=\u001B[39m (row[\u001B[38;5;124m'\u001B[39m\u001B[38;5;124mRETAILER_HEADQUARTER_codemr\u001B[39m\u001B[38;5;124m'\u001B[39m], row[\u001B[38;5;124m'\u001B[39m\u001B[38;5;124mRETAIL_HEADQUARTER_retailer_name\u001B[39m\u001B[38;5;124m'\u001B[39m], row[\u001B[38;5;124m'\u001B[39m\u001B[38;5;124mRETAILER_HEADQUARTER_address1_address\u001B[39m\u001B[38;5;124m'\u001B[39m], row[\u001B[38;5;124m'\u001B[39m\u001B[38;5;124mRETAILER_HEADQUARTER_address2_address\u001B[39m\u001B[38;5;124m'\u001B[39m], row[\u001B[38;5;124m'\u001B[39m\u001B[38;5;124mRETAILER_HEADQUARTER_city_city\u001B[39m\u001B[38;5;124m'\u001B[39m], row[\u001B[38;5;124m'\u001B[39m\u001B[38;5;124mRETAILER_HEADQUARTER_region_region\u001B[39m\u001B[38;5;124m'\u001B[39m], row[\u001B[38;5;124m'\u001B[39m\u001B[38;5;124mRETAILER_HEADQUARTER_postal_zone_postal_zone\u001B[39m\u001B[38;5;124m'\u001B[39m], row[\u001B[38;5;124m'\u001B[39m\u001B[38;5;124mRETAILER_HEADQUARTER_country_code_country\u001B[39m\u001B[38;5;124m'\u001B[39m], row[\u001B[38;5;124m'\u001B[39m\u001B[38;5;124mRETAILER_HEADQUARTER_phone_phone\u001B[39m\u001B[38;5;124m'\u001B[39m], row[\u001B[38;5;124m'\u001B[39m\u001B[38;5;124mRETAILER_HEADQUARTER_fax_fax\u001B[39m\u001B[38;5;124m'\u001B[39m], row[\u001B[38;5;124m'\u001B[39m\u001B[38;5;124mRETAILER_HEADQUARTER_segment_code\u001B[39m\u001B[38;5;124m'\u001B[39m], row[\u001B[38;5;124m'\u001B[39m\u001B[38;5;124mMAIN_ADDRESS\u001B[39m\u001B[38;5;124m'\u001B[39m], \u001B[38;5;241m1\u001B[39m)\n\u001B[1;32m----> 5\u001B[0m \u001B[43mexport_cursor\u001B[49m\u001B[38;5;241;43m.\u001B[39;49m\u001B[43mexecute\u001B[49m\u001B[43m(\u001B[49m\u001B[43mquery\u001B[49m\u001B[43m,\u001B[49m\u001B[43m \u001B[49m\u001B[43mvalues\u001B[49m\u001B[43m)\u001B[49m\n",
      "\u001B[1;31mProgrammingError\u001B[0m: ('Invalid parameter type.  param-index=3 param-type=NAType', 'HY105')"
     ]
    }
   ],
   "source": [
    "print(retailer_headquarters.shape[0])\n",
    "for index, row in retailer_headquarters.iterrows():\n",
    "    query = 'INSERT INTO Retailer_headquarters (RETAILER_HEADQUARTER_codemr, RETAIL_HEADQUARTER_retailer_name, RETAILER_HEADQUARTER_address1_address, RETAILER_HEADQUARTER_address2_address, RETAILER_HEADQUARTER_city_city, RETAILER_HEADQUARTER_region_region, RETAILER_HEADQUARTER_postal_zone_postal_zone, RETAILER_HEADQUARTER_country_code_country, RETAILER_HEADQUARTER_phone_phone, RETAILER_HEADQUARTER_fax_fax, RETAILER_HEADQUARTER_segment_code, MAIN_ADDRESS, CURRENT_VALUE) VALUES (?,?,?,?,?,?,?,?,?,?,?,?,?)'\n",
    "    values = (row['RETAILER_HEADQUARTER_codemr'], row['RETAIL_HEADQUARTER_retailer_name'], row['RETAILER_HEADQUARTER_address1_address'], row['RETAILER_HEADQUARTER_address2_address'], row['RETAILER_HEADQUARTER_city_city'], row['RETAILER_HEADQUARTER_region_region'], row['RETAILER_HEADQUARTER_postal_zone_postal_zone'], row['RETAILER_HEADQUARTER_country_code_country'], row['RETAILER_HEADQUARTER_phone_phone'], row['RETAILER_HEADQUARTER_fax_fax'], row['RETAILER_HEADQUARTER_segment_code'], row['MAIN_ADDRESS'], 1)\n",
    "    export_cursor.execute(query, values)"
   ]
  },
  {
   "cell_type": "markdown",
   "id": "2d25c6d254bc4e1d",
   "metadata": {
    "collapsed": false
   },
   "source": [
    "## Go_sales_inventory_levels\n",
    "foreign key constraint, product"
   ]
  },
  {
   "cell_type": "code",
   "execution_count": 82,
   "id": "952c91ad5830a781",
   "metadata": {
    "collapsed": false,
    "ExecuteTime": {
     "end_time": "2024-03-14T15:05:38.523756Z",
     "start_time": "2024-03-14T15:05:38.501342Z"
    }
   },
   "outputs": [
    {
     "name": "stdout",
     "output_type": "stream",
     "text": [
      "3888\n"
     ]
    },
    {
     "ename": "IntegrityError",
     "evalue": "('23000', '[23000] [Microsoft][ODBC SQL Server Driver][SQL Server]The INSERT statement conflicted with the FOREIGN KEY constraint \"FK__GO_SALES___GO_SA__208CD6FA\". The conflict occurred in database \"DEDS_DataWarehouse\", table \"dbo.Product\", column \\'PRODUCT_number\\'. (547) (SQLExecDirectW); [23000] [Microsoft][ODBC SQL Server Driver][SQL Server]The statement has been terminated. (3621)')",
     "output_type": "error",
     "traceback": [
      "\u001B[1;31m---------------------------------------------------------------------------\u001B[0m",
      "\u001B[1;31mIntegrityError\u001B[0m                            Traceback (most recent call last)",
      "Cell \u001B[1;32mIn[82], line 5\u001B[0m\n\u001B[0;32m      3\u001B[0m query \u001B[38;5;241m=\u001B[39m \u001B[38;5;124m'\u001B[39m\u001B[38;5;124mINSERT INTO GO_SALES_INVENTORY_LEVELS (GO_SALES_INVENTORY_LEVELS_PRODUCT_NUMBER, GO_SALES_INVENTORY_LEVELS_YEAR_MONTH, GO_SALES_INVENTORY_LEVELS_INVENTORY_COUNT) VALUES (?,?,?)\u001B[39m\u001B[38;5;124m'\u001B[39m\n\u001B[0;32m      4\u001B[0m values \u001B[38;5;241m=\u001B[39m (row[\u001B[38;5;124m'\u001B[39m\u001B[38;5;124mGO_SALES_INVENTORY_LEVELS_PRODUCT_NUMBER\u001B[39m\u001B[38;5;124m'\u001B[39m], row[\u001B[38;5;124m'\u001B[39m\u001B[38;5;124mGO_SALES_INVENTORY_LEVELS_YEAR_MONTH\u001B[39m\u001B[38;5;124m'\u001B[39m], row[\u001B[38;5;124m'\u001B[39m\u001B[38;5;124mGO_SALES_INVENTORY_LEVELS_INVENTORY_COUNT\u001B[39m\u001B[38;5;124m'\u001B[39m])\n\u001B[1;32m----> 5\u001B[0m \u001B[43mexport_cursor\u001B[49m\u001B[38;5;241;43m.\u001B[39;49m\u001B[43mexecute\u001B[49m\u001B[43m(\u001B[49m\u001B[43mquery\u001B[49m\u001B[43m,\u001B[49m\u001B[43m \u001B[49m\u001B[43mvalues\u001B[49m\u001B[43m)\u001B[49m\n",
      "\u001B[1;31mIntegrityError\u001B[0m: ('23000', '[23000] [Microsoft][ODBC SQL Server Driver][SQL Server]The INSERT statement conflicted with the FOREIGN KEY constraint \"FK__GO_SALES___GO_SA__208CD6FA\". The conflict occurred in database \"DEDS_DataWarehouse\", table \"dbo.Product\", column \\'PRODUCT_number\\'. (547) (SQLExecDirectW); [23000] [Microsoft][ODBC SQL Server Driver][SQL Server]The statement has been terminated. (3621)')"
     ]
    }
   ],
   "source": [
    "print(go_sales_inventory_levels.shape[0])\n",
    "for index, row in go_sales_inventory_levels.iterrows():\n",
    "    query = 'INSERT INTO GO_SALES_INVENTORY_LEVELS (GO_SALES_INVENTORY_LEVELS_PRODUCT_NUMBER, GO_SALES_INVENTORY_LEVELS_YEAR_MONTH, GO_SALES_INVENTORY_LEVELS_INVENTORY_COUNT) VALUES (?,?,?)'\n",
    "    values = (row['GO_SALES_INVENTORY_LEVELS_PRODUCT_NUMBER'], row['GO_SALES_INVENTORY_LEVELS_YEAR_MONTH'], row['GO_SALES_INVENTORY_LEVELS_INVENTORY_COUNT'])\n",
    "    export_cursor.execute(query, values)"
   ]
  },
  {
   "cell_type": "markdown",
   "id": "52bdff41402b6dcc",
   "metadata": {
    "collapsed": false
   },
   "source": [
    "## Go_sales_product_forecast\n",
    "foreign key constraint, product"
   ]
  },
  {
   "cell_type": "code",
   "execution_count": 83,
   "id": "f3cfc7bc05d752ab",
   "metadata": {
    "collapsed": false,
    "ExecuteTime": {
     "end_time": "2024-03-14T15:05:52.479524Z",
     "start_time": "2024-03-14T15:05:52.456651Z"
    }
   },
   "outputs": [
    {
     "name": "stdout",
     "output_type": "stream",
     "text": [
      "3872\n"
     ]
    },
    {
     "ename": "IntegrityError",
     "evalue": "('23000', '[23000] [Microsoft][ODBC SQL Server Driver][SQL Server]The INSERT statement conflicted with the FOREIGN KEY constraint \"FK__GO_SALES___GO_SA__25518C17\". The conflict occurred in database \"DEDS_DataWarehouse\", table \"dbo.Product\", column \\'PRODUCT_number\\'. (547) (SQLExecDirectW); [23000] [Microsoft][ODBC SQL Server Driver][SQL Server]The statement has been terminated. (3621)')",
     "output_type": "error",
     "traceback": [
      "\u001B[1;31m---------------------------------------------------------------------------\u001B[0m",
      "\u001B[1;31mIntegrityError\u001B[0m                            Traceback (most recent call last)",
      "Cell \u001B[1;32mIn[83], line 5\u001B[0m\n\u001B[0;32m      3\u001B[0m query \u001B[38;5;241m=\u001B[39m \u001B[38;5;124m'\u001B[39m\u001B[38;5;124mINSERT INTO GO_SALES_PRODUCT_FORECAST (GO_SALES_PRODUCT_FORECAST_PRODUCT_NUMBER, GO_SALES_PRODUCT_FORECAST_YEAR_MONTH, GO_SALES_PRODUCT_FORECAST_EXPECTED_VOLUME, GO_SALES_PRODUCT_FORECAST_EXPECTED_COST, GO_SALES_PRODUCT_FORECAST_EXPECTED_MARGIN) VALUES (?,?,?,?,?)\u001B[39m\u001B[38;5;124m'\u001B[39m\n\u001B[0;32m      4\u001B[0m values \u001B[38;5;241m=\u001B[39m (row[\u001B[38;5;124m'\u001B[39m\u001B[38;5;124mGO_SALES_PRODUCT_FORECAST_PRODUCT_NUMBER\u001B[39m\u001B[38;5;124m'\u001B[39m], row[\u001B[38;5;124m'\u001B[39m\u001B[38;5;124mGO_SALES_PRODUCT_FORECAST_YEAR_MONTH\u001B[39m\u001B[38;5;124m'\u001B[39m], row[\u001B[38;5;124m'\u001B[39m\u001B[38;5;124mGO_SALES_PRODUCT_FORECAST_EXPECTED_VOLUME\u001B[39m\u001B[38;5;124m'\u001B[39m], row[\u001B[38;5;124m'\u001B[39m\u001B[38;5;124mGO_SALES_PRODUCT_FORECAST_EXPECTED_COST\u001B[39m\u001B[38;5;124m'\u001B[39m], row[\u001B[38;5;124m'\u001B[39m\u001B[38;5;124mGO_SALES_PRODUCT_FORECAST_EXPECTED_MARGIN\u001B[39m\u001B[38;5;124m'\u001B[39m])\n\u001B[1;32m----> 5\u001B[0m \u001B[43mexport_cursor\u001B[49m\u001B[38;5;241;43m.\u001B[39;49m\u001B[43mexecute\u001B[49m\u001B[43m(\u001B[49m\u001B[43mquery\u001B[49m\u001B[43m,\u001B[49m\u001B[43m \u001B[49m\u001B[43mvalues\u001B[49m\u001B[43m)\u001B[49m\n",
      "\u001B[1;31mIntegrityError\u001B[0m: ('23000', '[23000] [Microsoft][ODBC SQL Server Driver][SQL Server]The INSERT statement conflicted with the FOREIGN KEY constraint \"FK__GO_SALES___GO_SA__25518C17\". The conflict occurred in database \"DEDS_DataWarehouse\", table \"dbo.Product\", column \\'PRODUCT_number\\'. (547) (SQLExecDirectW); [23000] [Microsoft][ODBC SQL Server Driver][SQL Server]The statement has been terminated. (3621)')"
     ]
    }
   ],
   "source": [
    "print(go_sales_product_forecast.shape[0])\n",
    "for index, row in go_sales_product_forecast.iterrows():\n",
    "    query = 'INSERT INTO GO_SALES_PRODUCT_FORECAST (GO_SALES_PRODUCT_FORECAST_PRODUCT_NUMBER, GO_SALES_PRODUCT_FORECAST_YEAR_MONTH, GO_SALES_PRODUCT_FORECAST_EXPECTED_VOLUME, GO_SALES_PRODUCT_FORECAST_EXPECTED_COST, GO_SALES_PRODUCT_FORECAST_EXPECTED_MARGIN) VALUES (?,?,?,?,?)'\n",
    "    values = (row['GO_SALES_PRODUCT_FORECAST_PRODUCT_NUMBER'], row['GO_SALES_PRODUCT_FORECAST_YEAR_MONTH'], row['GO_SALES_PRODUCT_FORECAST_EXPECTED_VOLUME'], row['GO_SALES_PRODUCT_FORECAST_EXPECTED_COST'], row['GO_SALES_PRODUCT_FORECAST_EXPECTED_MARGIN'])\n",
    "    export_cursor.execute(query, values)"
   ]
  },
  {
   "cell_type": "markdown",
   "id": "654c186fd2bbe576",
   "metadata": {
    "collapsed": false
   },
   "source": [
    "## clean up"
   ]
  },
  {
   "cell_type": "code",
   "execution_count": null,
   "id": "1b07e6b707a7cd6e",
   "metadata": {
    "collapsed": false
   },
   "outputs": [],
   "source": [
    "# close cursor\n",
    "export_conn.close()\n",
    "\n",
    "# close connection\n",
    "export_conn.close()"
   ]
  }
 ],
 "metadata": {
  "kernelspec": {
   "display_name": "Python 3 (ipykernel)",
   "language": "python",
   "name": "python3"
  },
  "language_info": {
   "codemirror_mode": {
    "name": "ipython",
    "version": 3
   },
   "file_extension": ".py",
   "mimetype": "text/x-python",
   "name": "python",
   "nbconvert_exporter": "python",
   "pygments_lexer": "ipython3",
   "version": "3.12.2"
  }
 },
 "nbformat": 4,
 "nbformat_minor": 5
}
