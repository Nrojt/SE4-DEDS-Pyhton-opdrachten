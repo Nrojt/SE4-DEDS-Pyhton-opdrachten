{
 "cells": [
  {
   "cell_type": "markdown",
   "source": [
    "# Practicumopdrachten Week 3.1 (eerste kans)"
   ],
   "metadata": {
    "collapsed": false
   },
   "id": "728a0b8206fbb786"
  },
  {
   "cell_type": "markdown",
   "source": [
    "## List met buble sort\n",
    "Lijsten worden in veel algoritmes gebruikt. Wij hebben gekozen voor buble sort. Dit is een sorteer algoritme, maar kan ook gebruikt worden om het kleinste of grootste getal te vinden. Het kleinste getal is te vinden door de lijst te sorteren en het eerste getal te pakken. Het grootste getal is te vinden door de lijst te sorteren en het laatste getal te pakken.\n",
    "\n",
    "Tuples worden gebruikt om de waardes om te wisselen. Hierdoor hoeven er niet aparte temp variabelen aangemaakt te worden om de waardes om te wisselen.\n",
    "\n",
    "### Big O onderbouwing\n",
    "De big O van bubble sort is O( n<sup>2</sup>) , omdat er twee geneste loops zijn.\n",
    "De buitenste lus herhaalt zich n-1 keer, en de binnenste lus herhaalt zich n keer in elke iteratie van de buitenste lus. Dit resulteert in een totaal van n*(n-1) = n<sup>2</sup> - n operaties. De -n is verwaarloosbaar in de big O-notatie, dus de big O van bubble sort is O(n<sup>2</sup>)."
   ],
   "metadata": {
    "collapsed": false
   },
   "id": "47621a5c789168b8"
  },
  {
   "cell_type": "code",
   "outputs": [
    {
     "name": "stdout",
     "output_type": "stream",
     "text": [
      "Smallest number: 1\n",
      "Largest number: 6\n"
     ]
    }
   ],
   "source": [
    "# Bubble sort with using list\n",
    "def bubble_sort(list):\n",
    "  for i in range(len(list) - 1):\n",
    "    for j in range(len(list) - i - 1):\n",
    "      if list[j] > list[j + 1]:\n",
    "          # swithing the values, tuple\n",
    "        list[j], list[j + 1] = list[j + 1], list[j]\n",
    "\n",
    "# sorting the list\n",
    "list = [5, 2, 4, 6, 1, 3]\n",
    "bubble_sort(list)\n",
    "\n",
    "# printing out the smallest and largest number\n",
    "print(f\"Smallest number: {list[0]}\")\n",
    "print(f\"Largest number: {list[-1]}\")"
   ],
   "metadata": {
    "collapsed": false,
    "ExecuteTime": {
     "end_time": "2024-02-28T12:08:50.774686Z",
     "start_time": "2024-02-28T12:08:50.766172Z"
    }
   },
   "id": "4be076f7b22d9ec",
   "execution_count": 1
  },
  {
   "cell_type": "markdown",
   "source": [
    "## Dictionary met hashing\n",
    "Wij hebben gekozen voor het hashing algoritme. Dit algoritme wordt gebruikt om een waarde op te slaan in een dictionary. \n",
    "### Big O onderbouwing\n",
    "De big O van hashing is O(1), omdat het een constante tijd kost om een waarde op te slaan in een dictionary."
   ],
   "metadata": {
    "collapsed": false
   },
   "id": "fec4fd77ad9c73c9"
  },
  {
   "cell_type": "code",
   "outputs": [
    {
     "name": "stdout",
     "output_type": "stream",
     "text": [
      "m\n",
      "M not found\n",
      "m\n"
     ]
    }
   ],
   "source": [
    "# Hashing with using dictionary\n",
    "def hashing(dictionary, key, value):\n",
    "  dictionary[key] = value\n",
    "  \n",
    "# creating a dictionary\n",
    "dictionary = {}\n",
    "\n",
    "# adding the entire alphabet to the dictionary. Using ord to get the ascii value of the character\n",
    "for char in \"abcdefghijklmnopqrstuvwxyz\":\n",
    "  hashing(dictionary, ord(char), char)\n",
    "  \n",
    "# retrieving a letter by its ascii value\n",
    "print(dictionary[ord(\"m\")])\n",
    "\n",
    "# retrieving a letter that doesn't exist in the dictionary (like a capital letter)\n",
    "try:\n",
    "  print(dictionary[ord(\"M\")])\n",
    "except KeyError:\n",
    "  print(\"M not found\")\n",
    "  \n",
    "# search the dictionary by value, not key\n",
    "for key, value in dictionary.items():\n",
    "  if value == \"m\":\n",
    "    print(chr(key))\n",
    "    break\n",
    "else:\n",
    "  print(\"Not found\")\n",
    "  "
   ],
   "metadata": {
    "collapsed": false,
    "ExecuteTime": {
     "end_time": "2024-02-28T12:08:50.781966Z",
     "start_time": "2024-02-28T12:08:50.776748Z"
    }
   },
   "id": "2c0f36bbfc5920fb",
   "execution_count": 2
  },
  {
   "cell_type": "markdown",
   "source": [
    "## Binary tree met binary search\n",
    "Wij hebben gekozen voor het binary search algoritme. Dit algoritme wordt gebruikt om een waarde op te zoeken in een binary tree.\n",
    "### Big O onderbouwing\n",
    "De big O van binary search is O(log n), omdat het aantal operaties dat nodig is om een waarde op te zoeken in een binary tree exponentieel afneemt naarmate de grootte van de boom toeneemt. Dit is omdat de boom wordt opgedeeld in twee helften bij elke stap, waardoor het aantal mogelijke waarden dat moet worden doorzocht halveert."
   ],
   "metadata": {
    "collapsed": false
   },
   "id": "97046a3ac8cf968c"
  },
  {
   "cell_type": "code",
   "outputs": [
    {
     "name": "stdout",
     "output_type": "stream",
     "text": [
      "Found: m\n",
      "Not found\n"
     ]
    }
   ],
   "source": [
    "# Binary search with using binary tree\n",
    "# node from binary tree\n",
    "class Node:\n",
    "  def __init__(self, value):\n",
    "    self.value = value\n",
    "    self.left = None\n",
    "    self.right = None\n",
    "    \n",
    "# creating a binary tree class for easy incertion of values\n",
    "class BinaryTree:\n",
    "  # constructor\n",
    "    def __init__(self):\n",
    "      # root of the binary tree\n",
    "        self.root = None\n",
    "\n",
    "    # method to insert a value into the tree\n",
    "    def insert(self, value):\n",
    "      # if the root is not set yet, create a new node and set it as the root\n",
    "        if self.root is None:\n",
    "            self.root = Node(value)\n",
    "        # if the root is already set, call the helper method to insert the value\n",
    "        else:\n",
    "            self._insert_recursively(self.root, value)\n",
    "\n",
    "    # helper method to insert a value into the tree. It uses recursion to find the correct place for the value.\n",
    "    def _insert_recursively(self, node, value):\n",
    "        if value < node.value:\n",
    "            if node.left is None:\n",
    "                node.left = Node(value)\n",
    "            else:\n",
    "                self._insert_recursively(node.left, value)\n",
    "        elif value > node.value:\n",
    "            if node.right is None:\n",
    "                node.right = Node(value)\n",
    "            else:\n",
    "                self._insert_recursively(node.right, value)\n",
    "                \n",
    "# adding the entire alphabet to the binary tree\n",
    "tree = BinaryTree()\n",
    "for char in \"abcdefghijklmnopqrstuvwxyz\":\n",
    "    tree.insert(char)\n",
    "\n",
    "# binary search algorithm. Works by recursively searching the left or right subtree of the current node, depending on the value of the node and the value being searched for.\n",
    "def binary_search(node, value):\n",
    "    if node is None or node.value == value:\n",
    "        return node\n",
    "    if node.value < value:\n",
    "        return binary_search(node.right, value)\n",
    "    return binary_search(node.left, value)\n",
    "\n",
    "# using binary search to find the letter \"m\"\n",
    "resultExists = binary_search(tree.root, \"m\")\n",
    "\n",
    "# using binary search to find something that doesn't exist\n",
    "resultNotExists = binary_search(tree.root, \"1\")\n",
    "\n",
    "# printing the result\n",
    "if resultExists is not None:\n",
    "    print(f\"Found: {resultExists.value}\")\n",
    "else:\n",
    "    print(\"Not found\")\n",
    "    \n",
    "if resultNotExists is not None:\n",
    "    print(f\"Found: {resultNotExists.value}\")\n",
    "else:\n",
    "    print(\"Not found\")"
   ],
   "metadata": {
    "collapsed": false,
    "ExecuteTime": {
     "end_time": "2024-02-28T12:08:50.792450Z",
     "start_time": "2024-02-28T12:08:50.782974Z"
    }
   },
   "id": "c37f364097d2dd69",
   "execution_count": 3
  }
 ],
 "metadata": {
  "kernelspec": {
   "display_name": "Python 3",
   "language": "python",
   "name": "python3"
  },
  "language_info": {
   "codemirror_mode": {
    "name": "ipython",
    "version": 2
   },
   "file_extension": ".py",
   "mimetype": "text/x-python",
   "name": "python",
   "nbconvert_exporter": "python",
   "pygments_lexer": "ipython2",
   "version": "2.7.6"
  }
 },
 "nbformat": 4,
 "nbformat_minor": 5
}
