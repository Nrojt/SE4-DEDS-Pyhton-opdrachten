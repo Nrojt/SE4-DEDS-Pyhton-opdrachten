{
 "cells": [
  {
   "cell_type": "markdown",
   "metadata": {},
   "source": [
    "# Practicumopdrachten Week 2.2 (eerste kans)"
   ]
  },
  {
   "cell_type": "markdown",
   "metadata": {},
   "source": [
    "## Dependencies importeren"
   ]
  },
  {
   "cell_type": "markdown",
   "metadata": {},
   "source": [
    "Importeer in het codeblok hieronder de packages die worden gebruikt om data in te lezen. Geef er ook de gebruikelijke aliassen aan.<br>\n",
    "N.B.: de 2 reeds geschreven coderegels zorgen ervoor dat eventuele warnings, die code-outputs lelijker maken, uitgezet worden."
   ]
  },
  {
   "cell_type": "code",
   "execution_count": 1,
   "metadata": {
    "ExecuteTime": {
     "end_time": "2024-02-13T14:56:33.402363300Z",
     "start_time": "2024-02-13T14:56:32.822197400Z"
    }
   },
   "outputs": [
    {
     "name": "stderr",
     "output_type": "stream",
     "text": [
      "C:\\Users\\tjorn\\AppData\\Local\\Temp\\ipykernel_33212\\2821951215.py:1: DeprecationWarning: \n",
      "Pyarrow will become a required dependency of pandas in the next major release of pandas (pandas 3.0),\n",
      "(to allow more performant data types, such as the Arrow string type, and better interoperability with other libraries)\n",
      "but was not found to be installed on your system.\n",
      "If this would cause problems for you,\n",
      "please provide us feedback at https://github.com/pandas-dev/pandas/issues/54466\n",
      "        \n",
      "  import pandas as pd\n"
     ]
    }
   ],
   "source": [
    "import pandas as pd\n",
    "import sqlite3\n",
    "import warnings\n",
    "warnings.simplefilter('ignore')"
   ]
  },
  {
   "cell_type": "markdown",
   "metadata": {},
   "source": [
    "Zet het bestand go_sales.sqlite in hetzelfde mapje als dit notebook."
   ]
  },
  {
   "cell_type": "markdown",
   "metadata": {},
   "source": [
    "## Databasetabel inlezen"
   ]
  },
  {
   "cell_type": "markdown",
   "metadata": {},
   "source": [
    "Creëer een databaseconnectie met het bestand go_sales.sqlite."
   ]
  },
  {
   "cell_type": "code",
   "outputs": [],
   "source": [
    "dbconnection = sqlite3.connect('go_sales.sqlite')"
   ],
   "metadata": {
    "collapsed": false,
    "ExecuteTime": {
     "end_time": "2024-02-13T14:56:33.403362Z",
     "start_time": "2024-02-13T14:56:33.396093500Z"
    }
   },
   "execution_count": 2
  },
  {
   "cell_type": "markdown",
   "metadata": {},
   "source": [
    "Gebruik de onderstaande sql_query om te achterhalen welke databasetabellen in go_sales zitten."
   ]
  },
  {
   "cell_type": "code",
   "execution_count": 3,
   "metadata": {
    "ExecuteTime": {
     "end_time": "2024-02-13T14:56:33.413400600Z",
     "start_time": "2024-02-13T14:56:33.402363300Z"
    }
   },
   "outputs": [
    {
     "name": "stdout",
     "output_type": "stream",
     "text": [
      "                name\n",
      "0            country\n",
      "1      order_details\n",
      "2       order_header\n",
      "3       order_method\n",
      "4            product\n",
      "5       product_line\n",
      "6       product_type\n",
      "7      retailer_site\n",
      "8      return_reason\n",
      "9      returned_item\n",
      "10      sales_branch\n",
      "11       sales_staff\n",
      "12  SALES_TARGETData\n",
      "13   sqlite_sequence\n"
     ]
    }
   ],
   "source": [
    "sql_query = \"SELECT name FROM sqlite_master WHERE type='table';\"\n",
    "tables = pd.read_sql_query(sql_query, dbconnection)\n",
    "print (tables)"
   ]
  },
  {
   "cell_type": "markdown",
   "metadata": {},
   "source": [
    "Gebruik de gecreëerde databaseconnectie om de resultaten van de volgende query in een DataFrame te zetten:<br>\n",
    "*SELECT * FROM sales_staff* "
   ]
  },
  {
   "cell_type": "code",
   "execution_count": 4,
   "metadata": {
    "ExecuteTime": {
     "end_time": "2024-02-13T14:56:33.469544700Z",
     "start_time": "2024-02-13T14:56:33.415442800Z"
    }
   },
   "outputs": [],
   "source": [
    "sales_staff = pd.read_sql_query(\"SELECT * FROM sales_staff\", dbconnection)"
   ]
  },
  {
   "cell_type": "markdown",
   "metadata": {},
   "source": [
    "## DataFrames uitsplitsen en opbouwen met Series"
   ]
  },
  {
   "cell_type": "markdown",
   "metadata": {},
   "source": [
    "De volgende 5 kolommen hebben betrekking op de contactdetails van elke medewerker in dit DataFrame:\n",
    "- SALES_STAFF_CODE\n",
    "- WORK_PHONE\n",
    "- EXTENSION\n",
    "- FAX\n",
    "- EMAIL\n",
    "\n",
    "Maak van elk van deze 5 kolommen een serie."
   ]
  },
  {
   "cell_type": "code",
   "execution_count": 5,
   "metadata": {
    "ExecuteTime": {
     "end_time": "2024-02-13T14:56:33.470548800Z",
     "start_time": "2024-02-13T14:56:33.421915200Z"
    }
   },
   "outputs": [],
   "source": [
    "# converting to panda series\n",
    "sales_staff_code = sales_staff['SALES_STAFF_CODE']\n",
    "work_phone = sales_staff['WORK_PHONE']\n",
    "extension = sales_staff['EXTENSION']\n",
    "fax = sales_staff['FAX']\n",
    "email = sales_staff['EMAIL']"
   ]
  },
  {
   "cell_type": "markdown",
   "metadata": {},
   "source": [
    "Zet allevijf gecreëerde series als kolommen naast elkaar in een DataFrame (*contact_details*). Gebruik pd.concat(...)<br>\n",
    "Hulpvraag: welke waarde geef je aan de axis-parameter?"
   ]
  },
  {
   "cell_type": "code",
   "execution_count": 6,
   "metadata": {
    "ExecuteTime": {
     "end_time": "2024-02-13T14:56:33.471546400Z",
     "start_time": "2024-02-13T14:56:33.429441600Z"
    }
   },
   "outputs": [
    {
     "name": "stdout",
     "output_type": "stream",
     "text": [
      "    SALES_STAFF_CODE           WORK_PHONE EXTENSION                  FAX  \\\n",
      "0                100  +358(0)17 - 433 127       825  +358(0)17 - 433 129   \n",
      "1                101        82-2-778-6587      1228        82-2-778-6586   \n",
      "2                102        82-2-778-6587      2641        82-2-778-6586   \n",
      "3                103      886-2-2975-1988      1541      886-2-2989-4978   \n",
      "4                104      886-2-2975-1988      2311      886-2-2989-4978   \n",
      "..               ...                  ...       ...                  ...   \n",
      "97                95      +35 94 322 3540       325      +35 91 548 1637   \n",
      "98                96    +55 (11) 344-4444      3490    +55 (11) 333-2223   \n",
      "99                97    +55 (11) 344-4444      3364    +55 (11) 333-2223   \n",
      "100               98    +55 (11) 344-4444      1442    +55 (11) 333-2223   \n",
      "101               99  +358(0)17 - 433 127       489  +358(0)17 - 433 129   \n",
      "\n",
      "                       EMAIL  \n",
      "0    TSavolainen@grtd123.com  \n",
      "1           CKim@grtd123.com  \n",
      "2          JChoi@grtd123.com  \n",
      "3          KKwao@grtd123.com  \n",
      "4           CFon@grtd123.com  \n",
      "..                       ...  \n",
      "97     TIglesias@grtd123.com  \n",
      "98        BLopes@grtd123.com  \n",
      "99       VBarros@grtd123.com  \n",
      "100   EGuimaraes@grtd123.com  \n",
      "101    HLindholm@grtd123.com  \n",
      "\n",
      "[102 rows x 5 columns]\n"
     ]
    }
   ],
   "source": [
    "contact_details = pd.concat([sales_staff_code, work_phone, extension, fax, email], axis=1) #axis 1 is for columns\n",
    "print(contact_details)"
   ]
  },
  {
   "cell_type": "markdown",
   "metadata": {},
   "source": [
    "## Series en DataFrames maken vanuit lists en dictionaries"
   ]
  },
  {
   "cell_type": "markdown",
   "metadata": {},
   "source": [
    "Met .head(*getal*) kan je de bovenste *getal* rijen van een tabel selecteren.<br>\n",
    "Selecteer op deze manier de bovenste 5 rijen van *contact_details*.<br>\n",
    "Sla dit resultaat op in een nieuw DataFrame."
   ]
  },
  {
   "cell_type": "code",
   "execution_count": 7,
   "metadata": {
    "ExecuteTime": {
     "end_time": "2024-02-13T14:56:33.550287400Z",
     "start_time": "2024-02-13T14:56:33.441615900Z"
    }
   },
   "outputs": [
    {
     "name": "stdout",
     "output_type": "stream",
     "text": [
      "  SALES_STAFF_CODE           WORK_PHONE EXTENSION                  FAX  \\\n",
      "0              100  +358(0)17 - 433 127       825  +358(0)17 - 433 129   \n",
      "1              101        82-2-778-6587      1228        82-2-778-6586   \n",
      "2              102        82-2-778-6587      2641        82-2-778-6586   \n",
      "3              103      886-2-2975-1988      1541      886-2-2989-4978   \n",
      "4              104      886-2-2975-1988      2311      886-2-2989-4978   \n",
      "\n",
      "                     EMAIL  \n",
      "0  TSavolainen@grtd123.com  \n",
      "1         CKim@grtd123.com  \n",
      "2        JChoi@grtd123.com  \n",
      "3        KKwao@grtd123.com  \n",
      "4         CFon@grtd123.com  \n"
     ]
    }
   ],
   "source": [
    "contact_details_head = contact_details.head(5)\n",
    "print(contact_details_head)"
   ]
  },
  {
   "cell_type": "markdown",
   "metadata": {},
   "source": [
    "Aan deze 5 rijen met contactdetails willen we 3 kolommen toevoegen: 'FIRST_LANGUAGE', 'SECOND_LANGUAGE' & 'THIRD_LANGUAGE'.<br>\n",
    "Iedereens 'First Language' is Engels, afgekort 'EN'. Maak een lijst waarin 5x 'EN' staat.<br>\n",
    "Converteer deze lijst vervolgens naar een serie en voeg deze horizontaal samen met het resultaat van de vorige opdracht.<br>\n",
    "Vergeet niet een passende naam te geven aan de nieuw ontstane kolom."
   ]
  },
  {
   "cell_type": "code",
   "execution_count": 8,
   "metadata": {
    "ExecuteTime": {
     "end_time": "2024-02-13T14:56:33.552287100Z",
     "start_time": "2024-02-13T14:56:33.452626Z"
    }
   },
   "outputs": [],
   "source": [
    "first_language = ['EN', 'EN', 'EN', 'EN', 'EN']\n",
    "first_language_series = pd.Series(first_language, name='FIRST_LANGUAGE')\n",
    "contact_details_head = pd.concat([contact_details_head, first_language_series], axis=1)"
   ]
  },
  {
   "cell_type": "markdown",
   "metadata": {},
   "source": [
    "Maak nu de tweede kolom ('SECOND_LANGUAGE'). Maak daarvoor een dictionary, met daarin...\n",
    "- Als keys: alle indexen uit het resultaat van het vorige codeblok.\n",
    "- Als values: bij de eerste 3 elementen 'FR' (Frankrijk), bij de laatste 2 'DE' (Duitsland).\n",
    "\n",
    "Maak vervolgens ook hier weer een serie van en voeg ook deze weer horizontaal samen met het rsultaat van de vorige opdracht.<br>\n",
    "Vergeet niet een passende naam te geven aan de nieuw ontstane kolom."
   ]
  },
  {
   "cell_type": "code",
   "execution_count": 9,
   "metadata": {
    "ExecuteTime": {
     "end_time": "2024-02-13T14:56:33.553791400Z",
     "start_time": "2024-02-13T14:56:33.461627200Z"
    }
   },
   "outputs": [],
   "source": [
    "second_language = {0: 'FR', 1: 'FR', 2: 'FR', 3: 'DE', 4: 'DE'}\n",
    "second_language_series = pd.Series(second_language, name='SECOND_LANGUAGE')\n",
    "contact_details_head = pd.concat([contact_details_head, second_language_series], axis=1)"
   ]
  },
  {
   "cell_type": "markdown",
   "metadata": {},
   "source": [
    "Maak ten slotte de derde kolom ('THIRD_LANGUAGE') door een dictionary te maken met daarin...\n",
    "- Als key: de naam van de nieuwe kolom. Zie je het verschil qua keys met de vorige opdracht?\n",
    "- Als waarde: een lijst met daarin 'NL', 'NL', 'JPN', 'JPN', 'KOR'.\n",
    "\n",
    "Converteer deze dictionary nu naar een DataFrame en voeg deze horizontaal samen met het resultaat van de vorige opdracht.<br>\n",
    "Waarom hoef je hierna de nieuw ontstane kolom geen passende naam meer te geven?\n",
    "- Omdat de naam van de kolom al in de dictionary staat."
   ]
  },
  {
   "cell_type": "code",
   "execution_count": 10,
   "metadata": {
    "ExecuteTime": {
     "end_time": "2024-02-13T14:56:33.571186700Z",
     "start_time": "2024-02-13T14:56:33.472684400Z"
    }
   },
   "outputs": [
    {
     "name": "stdout",
     "output_type": "stream",
     "text": [
      "  SALES_STAFF_CODE           WORK_PHONE EXTENSION                  FAX  \\\n",
      "0              100  +358(0)17 - 433 127       825  +358(0)17 - 433 129   \n",
      "1              101        82-2-778-6587      1228        82-2-778-6586   \n",
      "2              102        82-2-778-6587      2641        82-2-778-6586   \n",
      "3              103      886-2-2975-1988      1541      886-2-2989-4978   \n",
      "4              104      886-2-2975-1988      2311      886-2-2989-4978   \n",
      "\n",
      "                     EMAIL FIRST_LANGUAGE SECOND_LANGUAGE THIRD_LANGUAGE  \n",
      "0  TSavolainen@grtd123.com             EN              FR             NL  \n",
      "1         CKim@grtd123.com             EN              FR             NL  \n",
      "2        JChoi@grtd123.com             EN              FR            JPN  \n",
      "3        KKwao@grtd123.com             EN              DE            JPN  \n",
      "4         CFon@grtd123.com             EN              DE            KOR  \n"
     ]
    }
   ],
   "source": [
    "third_language = {'THIRD_LANGUAGE': ['NL', 'NL', 'JPN', 'JPN', 'KOR']}\n",
    "third_language_df = pd.DataFrame(third_language)\n",
    "contact_details_head = pd.concat([contact_details_head, third_language_df], axis=1)\n",
    "\n",
    "print(contact_details_head)"
   ]
  },
  {
   "cell_type": "markdown",
   "metadata": {},
   "source": [
    "## Data toevoegen"
   ]
  },
  {
   "cell_type": "markdown",
   "metadata": {},
   "source": [
    "### Rijen"
   ]
  },
  {
   "cell_type": "markdown",
   "metadata": {},
   "source": [
    "Gebruik de originele databasetabel *sales_staff*.<br>\n",
    "Voeg een extra rij toe met eigen invulling. Zorg ervoor dat de index netjes doorloopt.<br>\n",
    "Hulpvraag: welke waarde geef je nu aan axis?\n",
    "- axis=0, want we voegen een rij toe."
   ]
  },
  {
   "cell_type": "markdown",
   "source": [
    "- SALES_STAFF_CODE\n",
    "- WORK_PHONE\n",
    "- EXTENSION\n",
    "- FAX\n",
    "- EMAIL"
   ],
   "metadata": {
    "collapsed": false
   }
  },
  {
   "cell_type": "code",
   "execution_count": 11,
   "metadata": {
    "ExecuteTime": {
     "end_time": "2024-02-13T14:56:33.572187400Z",
     "start_time": "2024-02-13T14:56:33.480890100Z"
    }
   },
   "outputs": [],
   "source": [
    "new_row_dict = {'SALES_STAFF_CODE': 999, 'WORK_PHONE': '123456789', 'EXTENSION': 123, 'FAX': '987654321', 'EMAIL': 'test@email.com'}\n",
    "\n",
    "new_row_df = pd.DataFrame(new_row_dict, index=[len(sales_staff)]) # index is the length of the dataframe, so it will be added at the end\n",
    "\n",
    "sales_staff = pd.concat([sales_staff, new_row_df], ignore_index=True)"
   ]
  },
  {
   "cell_type": "markdown",
   "metadata": {},
   "source": [
    "### Kolommen"
   ]
  },
  {
   "cell_type": "markdown",
   "metadata": {},
   "source": [
    "Voeg een kolom *FULL_NAME* toe die de waarden van *FIRST_NAME* en *LAST_NAME* achter elkaar zet, gescheiden door een spatie."
   ]
  },
  {
   "cell_type": "code",
   "execution_count": 12,
   "metadata": {
    "ExecuteTime": {
     "end_time": "2024-02-13T14:56:33.643383600Z",
     "start_time": "2024-02-13T14:56:33.493309500Z"
    }
   },
   "outputs": [
    {
     "name": "stdout",
     "output_type": "stream",
     "text": [
      "    SALES_STAFF_CODE FIRST_NAME   LAST_NAME                   POSITION_EN  \\\n",
      "0                100     Tuomas  Savolainen  Level 2 Sales Representative   \n",
      "1                101   Chang-ho         Kim  Level 2 Sales Representative   \n",
      "2                102    Jung-ho        Choi  Level 3 Sales Representative   \n",
      "3                103  Kwei-Ping         Kao  Level 2 Sales Representative   \n",
      "4                104  Chin-Tsai        Fang  Level 3 Sales Representative   \n",
      "..               ...        ...         ...                           ...   \n",
      "98                96     Bayard       Lopes                Branch Manager   \n",
      "99                97     Viviam      Barros  Level 3 Sales Representative   \n",
      "100               98    Eduardo   Guimarães  Level 2 Sales Representative   \n",
      "101               99     Helena    Lindholm  Level 3 Sales Representative   \n",
      "102              999        NaN         NaN                           NaN   \n",
      "\n",
      "              WORK_PHONE EXTENSION                  FAX  \\\n",
      "0    +358(0)17 - 433 127       825  +358(0)17 - 433 129   \n",
      "1          82-2-778-6587      1228        82-2-778-6586   \n",
      "2          82-2-778-6587      2641        82-2-778-6586   \n",
      "3        886-2-2975-1988      1541      886-2-2989-4978   \n",
      "4        886-2-2975-1988      2311      886-2-2989-4978   \n",
      "..                   ...       ...                  ...   \n",
      "98     +55 (11) 344-4444      3490    +55 (11) 333-2223   \n",
      "99     +55 (11) 344-4444      3364    +55 (11) 333-2223   \n",
      "100    +55 (11) 344-4444      1442    +55 (11) 333-2223   \n",
      "101  +358(0)17 - 433 127       489  +358(0)17 - 433 129   \n",
      "102            123456789       123            987654321   \n",
      "\n",
      "                       EMAIL  DATE_HIRED SALES_BRANCH_CODE TRIAL888  \\\n",
      "0    TSavolainen@grtd123.com   23-7-2014                31        T   \n",
      "1           CKim@grtd123.com  15-12-2014                32        T   \n",
      "2          JChoi@grtd123.com  27-11-2014                32        T   \n",
      "3          KKwao@grtd123.com   7-10-2014                33        T   \n",
      "4           CFon@grtd123.com    8-5-2012                33        T   \n",
      "..                       ...         ...               ...      ...   \n",
      "98        BLopes@grtd123.com   12-8-2013                30        T   \n",
      "99       VBarros@grtd123.com   10-2-2017                30        T   \n",
      "100   EGuimaraes@grtd123.com   14-2-2015                30        T   \n",
      "101    HLindholm@grtd123.com   17-8-2013                31        T   \n",
      "102           test@email.com         NaN               NaN      NaN   \n",
      "\n",
      "             FULL_NAME  \n",
      "0    Tuomas Savolainen  \n",
      "1         Chang-ho Kim  \n",
      "2         Jung-ho Choi  \n",
      "3        Kwei-Ping Kao  \n",
      "4       Chin-Tsai Fang  \n",
      "..                 ...  \n",
      "98        Bayard Lopes  \n",
      "99       Viviam Barros  \n",
      "100  Eduardo Guimarães  \n",
      "101    Helena Lindholm  \n",
      "102                NaN  \n",
      "\n",
      "[103 rows x 12 columns]\n"
     ]
    }
   ],
   "source": [
    "first_name = sales_staff['FIRST_NAME']\n",
    "last_name = sales_staff['LAST_NAME']\n",
    "full_name = first_name + ' ' + last_name\n",
    "full_name_series = pd.Series(full_name, name='FULL_NAME')\n",
    "sales_staff = pd.concat([sales_staff, full_name_series], axis=1)\n",
    "print (sales_staff)"
   ]
  },
  {
   "cell_type": "markdown",
   "metadata": {},
   "source": [
    "## Data wijzigen"
   ]
  },
  {
   "cell_type": "markdown",
   "metadata": {},
   "source": [
    "### Datatypen"
   ]
  },
  {
   "cell_type": "markdown",
   "metadata": {},
   "source": [
    "Door het attribuut .dtypes van een DataFrame op te vragen krijg je een serie die per kolom het datatype weergeeft. Doe dit bij de originele databasetabel *sales_staff*"
   ]
  },
  {
   "cell_type": "code",
   "execution_count": 13,
   "metadata": {
    "ExecuteTime": {
     "end_time": "2024-02-13T14:56:33.644657200Z",
     "start_time": "2024-02-13T14:56:33.503846400Z"
    }
   },
   "outputs": [
    {
     "data": {
      "text/plain": "SALES_STAFF_CODE     object\nFIRST_NAME           object\nLAST_NAME            object\nPOSITION_EN          object\nWORK_PHONE           object\nEXTENSION            object\nFAX                  object\nEMAIL                object\nDATE_HIRED           object\nSALES_BRANCH_CODE    object\nTRIAL888             object\nFULL_NAME            object\ndtype: object"
     },
     "execution_count": 13,
     "metadata": {},
     "output_type": "execute_result"
    }
   ],
   "source": [
    "sales_staff.dtypes"
   ]
  },
  {
   "cell_type": "markdown",
   "metadata": {},
   "source": [
    "Hier valt op dat elke kolom het datatype 'object' heeft: Python leest dus alles als string. Wiskundige operaties zijn hierdoor niet mogelijk.<br>\n",
    "We kunnen proberen om kolommen met getallen, bijvoorbeeld de 'extension', te converteren naar een int. Zie onderstaande code."
   ]
  },
  {
   "cell_type": "code",
   "execution_count": 14,
   "metadata": {
    "ExecuteTime": {
     "end_time": "2024-02-13T14:56:33.645656400Z",
     "start_time": "2024-02-13T14:56:33.515661700Z"
    }
   },
   "outputs": [],
   "source": [
    "#sales_staff['EXTENSION'] = sales_staff['EXTENSION'].astype(int)\n",
    "#sales_staff.dtypes"
   ]
  },
  {
   "cell_type": "markdown",
   "metadata": {},
   "source": [
    "Dit lukt echter niet, omdat er in de kolom 'EXTENSION' lege waarden zitten die niet geconverteerd kunnen worden naar een int.<br>\n",
    "Wél kan je deze naar een float converteren, zie onderstaande code:"
   ]
  },
  {
   "cell_type": "code",
   "execution_count": 15,
   "metadata": {
    "ExecuteTime": {
     "end_time": "2024-02-13T14:56:33.645656400Z",
     "start_time": "2024-02-13T14:56:33.521666200Z"
    }
   },
   "outputs": [
    {
     "data": {
      "text/plain": "SALES_STAFF_CODE      object\nFIRST_NAME            object\nLAST_NAME             object\nPOSITION_EN           object\nWORK_PHONE            object\nEXTENSION            float64\nFAX                   object\nEMAIL                 object\nDATE_HIRED            object\nSALES_BRANCH_CODE     object\nTRIAL888              object\nFULL_NAME             object\ndtype: object"
     },
     "execution_count": 15,
     "metadata": {},
     "output_type": "execute_result"
    }
   ],
   "source": [
    "sales_staff['EXTENSION'] = sales_staff['EXTENSION'].astype(float)\n",
    "sales_staff.dtypes"
   ]
  },
  {
   "cell_type": "code",
   "outputs": [],
   "source": [],
   "metadata": {
    "collapsed": false,
    "ExecuteTime": {
     "end_time": "2024-02-13T14:56:33.646688Z",
     "start_time": "2024-02-13T14:56:33.533991600Z"
    }
   },
   "execution_count": 15
  },
  {
   "cell_type": "markdown",
   "metadata": {},
   "source": [
    "Als we in de rij van 'EXTENSION' kijken zien we dat de conversie van het datatype nu is gelukt.<br>\n",
    "Dit is <b>randvoorwaardelijk</b> voor het uitvoeren van wiskundige operaties.<br>"
   ]
  },
  {
   "cell_type": "markdown",
   "metadata": {},
   "source": [
    "### Rijen"
   ]
  },
  {
   "cell_type": "markdown",
   "metadata": {},
   "source": [
    "Zorg er nu voor dat bij alle extensions 1 wordt opgeteld."
   ]
  },
  {
   "cell_type": "code",
   "execution_count": 16,
   "metadata": {
    "ExecuteTime": {
     "end_time": "2024-02-13T14:56:33.646688Z",
     "start_time": "2024-02-13T14:56:33.537547900Z"
    }
   },
   "outputs": [],
   "source": [
    "sales_staff['EXTENSION'] = sales_staff['EXTENSION'] + 1"
   ]
  },
  {
   "cell_type": "markdown",
   "metadata": {},
   "source": [
    "Elke 'Branch Manager' wordt nu 'General Manager'. Schrijf code zodat deze wijziging doorgevoerd wordt in het DataFrame."
   ]
  },
  {
   "cell_type": "code",
   "execution_count": 17,
   "metadata": {
    "ExecuteTime": {
     "end_time": "2024-02-13T14:56:33.648677900Z",
     "start_time": "2024-02-13T14:56:33.541777900Z"
    }
   },
   "outputs": [
    {
     "name": "stdout",
     "output_type": "stream",
     "text": [
      "   SALES_STAFF_CODE FIRST_NAME      LAST_NAME      POSITION_EN  \\\n",
      "7               107     Walter         Taylor  General Manager   \n",
      "8               108   Penelope        Tamrine  General Manager   \n",
      "11              111      Polly         Linton  General Manager   \n",
      "19              119      Gracy        Gellens  General Manager   \n",
      "27               14      Frank          Fuchs  General Manager   \n",
      "30               17      Fritz         Hirsch  General Manager   \n",
      "33               20      Maria      Iacobucci  General Manager   \n",
      "38               25       Kick        Kalkman  General Manager   \n",
      "43               30      Karin      Bergström  General Manager   \n",
      "44                4      Denis           Pagé  General Manager   \n",
      "47               45      Sally          White  General Manager   \n",
      "50               48    Georges  Saint-Germain  General Manager   \n",
      "56               53       Alex      Rodriguez  General Manager   \n",
      "60               57   Samantha          Floyd  General Manager   \n",
      "65               61      Julie          Olsen  General Manager   \n",
      "69               65      Corey         Wright  General Manager   \n",
      "80               75      Julie        Béchard  General Manager   \n",
      "84               79      Lucía          Reyna  General Manager   \n",
      "91               89      Alice         Walter  General Manager   \n",
      "98               96     Bayard          Lopes  General Manager   \n",
      "\n",
      "             WORK_PHONE  EXTENSION                  FAX  \\\n",
      "7     +(44) 181 2033144     3548.0    +(44) 181 5030282   \n",
      "8     +(44) 181 2033144     3543.0    +(44) 181 5030282   \n",
      "11    +(44) 121 3505267     1217.0    +(44) 121 3583843   \n",
      "19      +32 16 20.73.21     1350.0      +32 16 20.73.32   \n",
      "27    +(49) 40 663 1990     1848.0    +(49) 40 663 4571   \n",
      "30    +(49) 89 882 3456      226.0    +(49) 89 882 3455   \n",
      "33   +(39) 02 41 05 400        NaN   +(39) 02 41 20 549   \n",
      "38  +31 (0)20 692 93 94      198.0  +31 (0)20 692 93 06   \n",
      "43     +(46) 08 753 116      216.0     +(46) 08 752 592   \n",
      "44    +33 1 68 94 52 20      326.0    +33 1 68 94 56 60   \n",
      "47     1 (403) 232-5986      318.0     1 (403) 232-5831   \n",
      "50     1 (416) 493-5595     1246.0     1 (416) 496-9667   \n",
      "56     1 (617) 268-6754     1335.0     1 (617) 268-3464   \n",
      "60     1 (206) 292-0012      332.0     1 (206) 292-3312   \n",
      "65     1 (310) 281-5722     2046.0     1 (310) 281-9087   \n",
      "69     1 (305) 557-4810     3491.0     1 (305) 557-7650   \n",
      "80    +33 4 52 26 33 88     1316.0    +33 4 66 35 98 95   \n",
      "84      +(525) 549 6090      453.0       +(52) 549 6088   \n",
      "91  +(61) 03 2982  4242     1846.0  +(61) 03 2982  4243   \n",
      "98    +55 (11) 344-4444     3491.0    +55 (11) 333-2223   \n",
      "\n",
      "                        EMAIL  DATE_HIRED SALES_BRANCH_CODE TRIAL888  \\\n",
      "7         WTaylor@grtd123.com    9-6-2011                35        T   \n",
      "8        PTamrine@grtd123.com  18-12-2014                35        T   \n",
      "11        PLinton@grtd123.com   18-6-2012                36        T   \n",
      "19       GGellens@grtd123.com   10-9-2015                38        T   \n",
      "27         FFuchs@grtd123.com   12-1-2013                13        T   \n",
      "30        FHirsch@grtd123.com   12-9-2012                14        T   \n",
      "33     MIacobucci@grtd123.com   18-8-2012                 7        T   \n",
      "38       KKalkman@grtd123.com    6-9-2011                 9        T   \n",
      "43     KBergstrom@grtd123.com   27-4-2014                15        T   \n",
      "44          DPage@grtd123.com   3-11-2012                 6        T   \n",
      "47         SWhite@grtd123.com   26-3-2008                17        T   \n",
      "50  GSaintgermain@grtd123.com  27-10-2007                18        T   \n",
      "56     ARodriguez@grtd123.com    7-2-2008                19        T   \n",
      "60         SFloyd@grtd123.com   17-7-2011                20        T   \n",
      "65         JOlsen@grtd123.com   18-2-2014                22        T   \n",
      "69        CWright@grtd123.com  11-10-2011                21        T   \n",
      "80       JBechard@grtd123.com    3-9-2010                23        T   \n",
      "84         LReyna@grtd123.com   10-3-2013                24        T   \n",
      "91        AWalter@grtd123.com    8-9-2015                28        T   \n",
      "98         BLopes@grtd123.com   12-8-2013                30        T   \n",
      "\n",
      "                FULL_NAME  \n",
      "7           Walter Taylor  \n",
      "8        Penelope Tamrine  \n",
      "11           Polly Linton  \n",
      "19          Gracy Gellens  \n",
      "27            Frank Fuchs  \n",
      "30           Fritz Hirsch  \n",
      "33        Maria Iacobucci  \n",
      "38           Kick Kalkman  \n",
      "43        Karin Bergström  \n",
      "44             Denis Pagé  \n",
      "47            Sally White  \n",
      "50  Georges Saint-Germain  \n",
      "56         Alex Rodriguez  \n",
      "60         Samantha Floyd  \n",
      "65            Julie Olsen  \n",
      "69           Corey Wright  \n",
      "80          Julie Béchard  \n",
      "84            Lucía Reyna  \n",
      "91           Alice Walter  \n",
      "98           Bayard Lopes  \n",
      "0\n"
     ]
    }
   ],
   "source": [
    "position_en = sales_staff['POSITION_EN']\n",
    "position_en = position_en.replace('Branch Manager', 'General Manager')\n",
    "sales_staff['POSITION_EN'] = position_en\n",
    "\n",
    "# printing out the dataframe where the position is General Manager\n",
    "print(sales_staff[sales_staff['POSITION_EN'] == 'General Manager'])\n",
    "\n",
    "# printing out how many Branch managers there are (should be 0)\n",
    "print(len(sales_staff[sales_staff['POSITION_EN'] == 'Branch Manager']))"
   ]
  },
  {
   "cell_type": "markdown",
   "metadata": {},
   "source": [
    "### Kolommen"
   ]
  },
  {
   "cell_type": "markdown",
   "metadata": {},
   "source": [
    "Verander de kolomnaam 'POSITION_EN' naar 'POSITION'."
   ]
  },
  {
   "cell_type": "code",
   "execution_count": 18,
   "metadata": {
    "ExecuteTime": {
     "end_time": "2024-02-13T14:56:33.661683300Z",
     "start_time": "2024-02-13T14:56:33.557675600Z"
    }
   },
   "outputs": [],
   "source": [
    "sales_staff = sales_staff.rename(columns={'POSITION_EN': 'POSITION'})"
   ]
  },
  {
   "cell_type": "markdown",
   "metadata": {},
   "source": [
    "## Data verwijderen"
   ]
  },
  {
   "cell_type": "markdown",
   "metadata": {},
   "source": [
    "### Rijen"
   ]
  },
  {
   "cell_type": "markdown",
   "metadata": {},
   "source": [
    "De medewerkers op indexen 99, 100 en 101 hebben helaas ontslag genomen.<br>\n",
    "Verwijder de bijbehorende rijen uit het DataFrame. Gebruik slechts één keer de .drop()-methode."
   ]
  },
  {
   "cell_type": "code",
   "execution_count": 19,
   "metadata": {
    "ExecuteTime": {
     "end_time": "2024-02-13T14:56:33.663682400Z",
     "start_time": "2024-02-13T14:56:33.567185600Z"
    }
   },
   "outputs": [],
   "source": [
    "sales_staff = sales_staff.drop([99, 100, 101])"
   ]
  },
  {
   "cell_type": "markdown",
   "metadata": {},
   "source": [
    "### Kolommen"
   ]
  },
  {
   "cell_type": "markdown",
   "metadata": {},
   "source": [
    "Faxen zijn inmiddels ouderwets: niemand gebruikt zijn/haar faxnummer nog.<br>\n",
    "Verwijder de bijbehorende kolom uit het DataFrame."
   ]
  },
  {
   "cell_type": "code",
   "execution_count": 20,
   "metadata": {
    "ExecuteTime": {
     "end_time": "2024-02-13T14:56:33.664186500Z",
     "start_time": "2024-02-13T14:56:33.576717200Z"
    }
   },
   "outputs": [
    {
     "data": {
      "text/plain": "SALES_STAFF_CODE      object\nFIRST_NAME            object\nLAST_NAME             object\nPOSITION              object\nWORK_PHONE            object\nEXTENSION            float64\nEMAIL                 object\nDATE_HIRED            object\nSALES_BRANCH_CODE     object\nTRIAL888              object\nFULL_NAME             object\ndtype: object"
     },
     "execution_count": 20,
     "metadata": {},
     "output_type": "execute_result"
    }
   ],
   "source": [
    "sales_staff = sales_staff.drop(columns=['FAX'])\n",
    "\n",
    "sales_staff.dtypes"
   ]
  }
 ],
 "metadata": {
  "kernelspec": {
   "display_name": "python-in-deds-P4iSP_yI-py3.11",
   "language": "python",
   "name": "python3"
  },
  "language_info": {
   "codemirror_mode": {
    "name": "ipython",
    "version": 3
   },
   "file_extension": ".py",
   "mimetype": "text/x-python",
   "name": "python",
   "nbconvert_exporter": "python",
   "pygments_lexer": "ipython3",
   "version": "3.11.4"
  }
 },
 "nbformat": 4,
 "nbformat_minor": 2
}
