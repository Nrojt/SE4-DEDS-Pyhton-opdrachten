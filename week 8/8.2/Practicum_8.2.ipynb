{
 "cells": [
  {
   "cell_type": "markdown",
   "source": [
    "# Classificatie modellen"
   ],
   "metadata": {
    "collapsed": false
   },
   "id": "6226e23a5ab9cbde"
  },
  {
   "cell_type": "code",
   "outputs": [],
   "source": [
    "import pandas as pd\n",
    "import pyodbc\n",
    "from sklearn.model_selection import train_test_split\n",
    "from sklearn.tree import DecisionTreeClassifier, plot_tree\n",
    "from sklearn.metrics import accuracy_score\n",
    "from sklearn.metrics import mean_squared_error\n",
    "import matplotlib.pyplot as plt"
   ],
   "metadata": {
    "collapsed": false
   },
   "id": "30479a19f5a73aa2",
   "execution_count": null
  },
  {
   "cell_type": "markdown",
   "source": [
    "# Connectie maken met de database"
   ],
   "metadata": {
    "collapsed": false
   },
   "id": "2b24c277b6026f00"
  },
  {
   "cell_type": "code",
   "outputs": [],
   "source": [
    "# database name\n",
    "DB = {\n",
    "    'servername': '(local)\\\\SQLEXPRESS',\n",
    "    'database': 'DEDS_DataWarehouse'}"
   ],
   "metadata": {
    "collapsed": false
   },
   "id": "3eed412f456d3dab",
   "execution_count": null
  },
  {
   "cell_type": "code",
   "outputs": [],
   "source": [
    "export_conn = pyodbc.connect('DRIVER={SQL Server};SERVER=' + DB['servername'] + ';DATABASE=' + DB['database'] + ';Trusted_Connection=yes')\n",
    "\n",
    "\n",
    "# Create a cursor from the connection\n",
    "export_cursor = export_conn.cursor()\n",
    "\n",
    "# check if connection is successful, else throw an error\n",
    "if export_conn:\n",
    "    print(\"Connection with database is established\")\n",
    "else:\n",
    "    print(\"Connection with database is not established\")\n",
    "    raise Exception(\"Connection with database is not established\")"
   ],
   "metadata": {
    "collapsed": false
   },
   "id": "e40ed3010b4adfc4",
   "execution_count": null
  },
  {
   "cell_type": "markdown",
   "source": [
    "# Tabellen inlezen"
   ],
   "metadata": {
    "collapsed": false
   },
   "id": "cc65bf39c81f8653"
  },
  {
   "cell_type": "code",
   "outputs": [],
   "source": [
    "returned_item_query = \"SELECT * FROM Returned_item WHERE CURRENT_VALUE = 1\"\n",
    "\n",
    "returned_item_result = export_cursor.execute(returned_item_query)\n",
    "returned_item_fetch = returned_item_result.fetchall()\n",
    "returned_item_columns = [column[0] for column in returned_item_result.description]\n",
    "returned_item = pd.DataFrame.from_records(returned_item_fetch, columns=returned_item_columns)\n",
    "\n",
    "# Dropping current_value and last_updated columns\n",
    "returned_item = returned_item.drop(columns=['CURRENT_VALUE', 'LAST_UPDATED'])\n",
    "\n",
    "returned_item"
   ],
   "metadata": {
    "collapsed": false
   },
   "id": "5b6f714b3681757f",
   "execution_count": null
  },
  {
   "cell_type": "code",
   "outputs": [],
   "source": [
    "order_details_query = \"SELECT * FROM Order_details WHERE CURRENT_VALUE = 1\"\n",
    "\n",
    "order_details_result = export_cursor.execute(order_details_query)\n",
    "order_details_fetch = order_details_result.fetchall()\n",
    "order_details_columns = [column[0] for column in order_details_result.description]\n",
    "order_details = pd.DataFrame.from_records(order_details_fetch, columns=order_details_columns)\n",
    "\n",
    "# dropping current value and last updated columns\n",
    "order_details = order_details.drop(columns=['CURRENT_VALUE', 'LAST_UPDATED'])\n",
    "\n",
    "order_details"
   ],
   "metadata": {
    "collapsed": false
   },
   "id": "294c837debfeca76",
   "execution_count": null
  },
  {
   "cell_type": "code",
   "outputs": [],
   "source": [
    "unit_query = \"SELECT * FROM Unit WHERE CURRENT_VALUE = 1\"\n",
    "\n",
    "unit_result = export_cursor.execute(unit_query)\n",
    "unit_fetch = unit_result.fetchall()\n",
    "unit_columns = [column[0] for column in unit_result.description]\n",
    "unit = pd.DataFrame.from_records(unit_fetch, columns=unit_columns)\n",
    "\n",
    "# dropping current value and last updated columns\n",
    "unit = unit.drop(columns=['CURRENT_VALUE', 'LAST_UPDATED'])\n",
    "\n",
    "unit"
   ],
   "metadata": {
    "collapsed": false
   },
   "id": "202df4811c8a8d27",
   "execution_count": null
  },
  {
   "cell_type": "markdown",
   "source": [
    "# Database connectie sluiten"
   ],
   "metadata": {
    "collapsed": false
   },
   "id": "98900d58469bc77a"
  },
  {
   "cell_type": "code",
   "outputs": [],
   "source": [
    "export_cursor.close()\n",
    "export_conn.close()"
   ],
   "metadata": {
    "collapsed": false
   },
   "id": "6d3416ce31e82f97",
   "execution_count": null
  },
  {
   "cell_type": "markdown",
   "source": [
    "# Data samenvoegen"
   ],
   "metadata": {
    "collapsed": false
   },
   "id": "643878c0691588be"
  },
  {
   "cell_type": "code",
   "outputs": [],
   "source": [
    "data = pd.merge(unit, order_details, left_on='UNIT_SK', right_on='ORDER_DETAILS_UNIT_ID_unit')\n",
    "data = pd.merge(returned_item, data, how='right', left_on='RETURNED_ITEM_ORDER_DETAIL_CODE', right_on='ORDER_DETAILS_SK')\n",
    "\n",
    "data"
   ],
   "metadata": {
    "collapsed": false
   },
   "id": "fe2241d56a0f262",
   "execution_count": null
  },
  {
   "cell_type": "markdown",
   "source": [
    "# Data voorbereiden"
   ],
   "metadata": {
    "collapsed": false
   },
   "id": "361f3a07449227f8"
  },
  {
   "cell_type": "code",
   "outputs": [],
   "source": [
    "# removing the sk columns\n",
    "sk_columns = data.filter(like='SK').columns\n",
    "data.drop(columns=sk_columns, inplace=True)\n",
    "\n",
    "#removing unnecessary columns\n",
    "drop_columns = ['RETURNED_ITEM_RETURN_REASON_description_en', 'ORDER_DETAILS_UNIT_ID_unit', 'RETURNED_ITEM_code', 'ORDER_DETAILS_code', 'ORDER_DETAILS_ORDER_NUMBER_order', 'RETURNED_ITEM_ORDER_DETAIL_CODE', 'RETURNED_ITEM_DATE', 'RETURNED_ITEM_QUANTITY', 'RETURNED_ITEM_RETURNED_ITEMS_TOTAL_PRICE', 'UNIT_id', 'ORDER_DETAILS_TOTAL_COST_total', 'ORDER_DETAILS_TOTAL_MARGIN_margin']\n",
    "data.drop(columns=drop_columns, inplace=True)\n",
    "\n",
    "data"
   ],
   "metadata": {
    "collapsed": false
   },
   "id": "3d51f78c6112a128",
   "execution_count": null
  },
  {
   "cell_type": "code",
   "outputs": [],
   "source": [
    "# converting the columns to the correct datatypes\n",
    "data['RETURNED_ITEM_RETURN_REASON_code'] = data['RETURNED_ITEM_RETURN_REASON_code'].fillna(-1).astype('category')\n",
    "data['UNIT_COST_cost'] = data['UNIT_COST_cost'].astype('float')\n",
    "data['UNIT_PRICE_price'] = data['UNIT_PRICE_price'].astype('float')\n",
    "data['UNIT_SALE_sale'] = data['UNIT_SALE_sale'].astype('float')\n",
    "data['ORDER_DETAILS_QUANTITY_quantity'] = data['ORDER_DETAILS_QUANTITY_quantity'].astype('int')\n",
    "data['ORDER_DETAILS_PRODUCT_NUMBER_product'] = data['ORDER_DETAILS_PRODUCT_NUMBER_product'].astype('int')\n",
    "\n",
    "data.dtypes"
   ],
   "metadata": {
    "collapsed": false
   },
   "id": "9300dd67765591e6",
   "execution_count": null
  },
  {
   "cell_type": "markdown",
   "source": [
    "# Classificatie model trainen"
   ],
   "metadata": {
    "collapsed": false
   },
   "id": "c3ae916387d8c4bd"
  },
  {
   "cell_type": "code",
   "outputs": [],
   "source": [
    "# Splitting the data\n",
    "X = data.drop(columns=['RETURNED_ITEM_RETURN_REASON_code'])\n",
    "y = data['RETURNED_ITEM_RETURN_REASON_code']\n",
    "\n",
    "# splitting with a seed value, so it is always the same\n",
    "X_train, X_test, y_train, y_test = train_test_split(X, y, test_size=0.2)"
   ],
   "metadata": {
    "collapsed": false
   },
   "id": "9593da36bcea3276",
   "execution_count": null
  },
  {
   "cell_type": "code",
   "outputs": [],
   "source": [
    "# Training the model\n",
    "model = DecisionTreeClassifier()\n",
    "model.fit(X_train, y_train)\n",
    "\n",
    "# Making predictions\n",
    "y_pred = model.predict(X_test)"
   ],
   "metadata": {
    "collapsed": false
   },
   "id": "6c95381390210ac9",
   "execution_count": null
  },
  {
   "cell_type": "code",
   "outputs": [],
   "source": [
    "# Convert column names to strings\n",
    "X.columns = X.columns.astype(str)\n",
    "\n",
    "# Convert target classes to string representation\n",
    "class_names = [str(cls) for cls in model.classes_]\n",
    "\n",
    "# Plot the decision tree\n",
    "plt.figure(figsize=(100,100))  # Set the figure size\n",
    "plot_tree(model, filled=True, feature_names=X.columns, class_names=class_names)\n",
    "\n",
    "# Save the plot as SVG file\n",
    "plt.savefig('decision_tree.svg', format='svg')  # Save as SVG format"
   ],
   "metadata": {
    "collapsed": false
   },
   "id": "8c7d4e13b0b4025a",
   "execution_count": null
  },
  {
   "cell_type": "code",
   "outputs": [],
   "source": [
    "# Evaluating the model\n",
    "accuracy = accuracy_score(y_test, y_pred)\n",
    "mse = mean_squared_error(y_test, y_pred)\n",
    "sse = mse * len(y_test)\n",
    "\n",
    "print(f'Accuracy: {accuracy}')\n",
    "print(f'Mean Squared Error: {mse}')\n",
    "print(f'Sum of Squared Errors: {sse}')"
   ],
   "metadata": {
    "collapsed": false
   },
   "id": "276a061752ccae28",
   "execution_count": null
  },
  {
   "cell_type": "markdown",
   "source": [
    "# Confusion matrix"
   ],
   "metadata": {
    "collapsed": false
   },
   "id": "b2cd5319ac3ce5a5"
  },
  {
   "cell_type": "code",
   "outputs": [],
   "source": [
    "# Importing the confusion matrix\n",
    "from sklearn.metrics import confusion_matrix\n",
    "\n",
    "# Creating the confusion matrix\n",
    "conf_matrix = confusion_matrix(y_test, y_pred)\n",
    "\n",
    "# Generate confusion matrix\n",
    "cm = confusion_matrix(y_test, y_pred)\n",
    "\n",
    "# Extract TP, TN, FP, FN\n",
    "TN = cm[0, 0]\n",
    "FP = cm[0, 1]\n",
    "FN = cm[1, 0]\n",
    "TP = cm[1, 1]\n",
    "\n",
    "print(\"True Positives:\", TP)\n",
    "print(\"True Negatives:\", TN)\n",
    "print(\"False Positives:\", FP)\n",
    "print(\"False Negatives:\", FN)"
   ],
   "metadata": {
    "collapsed": false
   },
   "id": "83b968f652ce342f",
   "execution_count": null
  }
 ],
 "metadata": {
  "kernelspec": {
   "display_name": "Python 3",
   "language": "python",
   "name": "python3"
  },
  "language_info": {
   "codemirror_mode": {
    "name": "ipython",
    "version": 2
   },
   "file_extension": ".py",
   "mimetype": "text/x-python",
   "name": "python",
   "nbconvert_exporter": "python",
   "pygments_lexer": "ipython2",
   "version": "2.7.6"
  }
 },
 "nbformat": 4,
 "nbformat_minor": 5
}
