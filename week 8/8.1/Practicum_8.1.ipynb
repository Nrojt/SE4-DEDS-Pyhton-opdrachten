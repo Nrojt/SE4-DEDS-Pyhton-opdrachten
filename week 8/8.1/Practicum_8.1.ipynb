{
 "cells": [
  {
   "cell_type": "markdown",
   "source": [
    "# Regressiemodellen"
   ],
   "metadata": {
    "collapsed": false
   },
   "id": "83def59703172eb4"
  },
  {
   "cell_type": "code",
   "outputs": [],
   "source": [
    "import pandas as pd\n",
    "from sklearn.linear_model import LinearRegression\n",
    "from sklearn.model_selection import train_test_split\n",
    "from sklearn.metrics import mean_squared_error, r2_score\n",
    "import pyodbc\n",
    "import matplotlib.pyplot as plt"
   ],
   "metadata": {
    "collapsed": false,
    "ExecuteTime": {
     "end_time": "2024-04-03T13:16:54.272534Z",
     "start_time": "2024-04-03T13:16:48.804726Z"
    }
   },
   "id": "685129aa61058789",
   "execution_count": 1
  },
  {
   "cell_type": "markdown",
   "source": [
    "# Database connectie\n",
    "De data komt uit de datawarehouse."
   ],
   "metadata": {
    "collapsed": false
   },
   "id": "ce869e42dffa39f"
  },
  {
   "cell_type": "code",
   "outputs": [],
   "source": [
    "# database name\n",
    "DB = {\n",
    "    'servername': '(local)\\\\SQLEXPRESS',\n",
    "    'database': 'DEDS_DataWarehouse'}"
   ],
   "metadata": {
    "collapsed": false,
    "ExecuteTime": {
     "end_time": "2024-04-03T13:16:54.277817Z",
     "start_time": "2024-04-03T13:16:54.273557Z"
    }
   },
   "id": "e70367b9dc6ad957",
   "execution_count": 2
  },
  {
   "cell_type": "code",
   "outputs": [
    {
     "name": "stdout",
     "output_type": "stream",
     "text": [
      "Connection with database is established\n"
     ]
    }
   ],
   "source": [
    "export_conn = pyodbc.connect('DRIVER={SQL Server};SERVER=' + DB['servername'] + ';DATABASE=' + DB['database'] + ';Trusted_Connection=yes')\n",
    "\n",
    "\n",
    "# Create a cursor from the connection\n",
    "export_cursor = export_conn.cursor()\n",
    "\n",
    "# check if connection is successful, else throw an error\n",
    "if export_conn:\n",
    "    print(\"Connection with database is established\")\n",
    "else:\n",
    "    print(\"Connection with database is not established\")\n",
    "    raise Exception(\"Connection with database is not established\")"
   ],
   "metadata": {
    "collapsed": false,
    "ExecuteTime": {
     "end_time": "2024-04-03T13:16:54.420701Z",
     "start_time": "2024-04-03T13:16:54.278822Z"
    }
   },
   "id": "d8e513fe0c207351",
   "execution_count": 3
  },
  {
   "cell_type": "markdown",
   "source": [
    "# Tabellen inlezen\n",
    "We hebben de order_header, order_details en order tabellen nodig"
   ],
   "metadata": {
    "collapsed": false
   },
   "id": "bc2907ac48ad9d0"
  },
  {
   "cell_type": "code",
   "outputs": [
    {
     "data": {
      "text/plain": "   ORDER_SK  ORDER_order_number  ORDER_ORDER_METHOD_CODE_method_code  \\\n0         1                1153                                    7   \n1         2                1154                                    4   \n2         3                1155                                    7   \n3         4                1156                                    5   \n4         5                1157                                    2   \n\n  ORDER_ORDER_METHOD_EN_method  \n0                  Sales visit  \n1                       E-mail  \n2                  Sales visit  \n3                          Web  \n4                    Telephone  ",
      "text/html": "<div>\n<style scoped>\n    .dataframe tbody tr th:only-of-type {\n        vertical-align: middle;\n    }\n\n    .dataframe tbody tr th {\n        vertical-align: top;\n    }\n\n    .dataframe thead th {\n        text-align: right;\n    }\n</style>\n<table border=\"1\" class=\"dataframe\">\n  <thead>\n    <tr style=\"text-align: right;\">\n      <th></th>\n      <th>ORDER_SK</th>\n      <th>ORDER_order_number</th>\n      <th>ORDER_ORDER_METHOD_CODE_method_code</th>\n      <th>ORDER_ORDER_METHOD_EN_method</th>\n    </tr>\n  </thead>\n  <tbody>\n    <tr>\n      <th>0</th>\n      <td>1</td>\n      <td>1153</td>\n      <td>7</td>\n      <td>Sales visit</td>\n    </tr>\n    <tr>\n      <th>1</th>\n      <td>2</td>\n      <td>1154</td>\n      <td>4</td>\n      <td>E-mail</td>\n    </tr>\n    <tr>\n      <th>2</th>\n      <td>3</td>\n      <td>1155</td>\n      <td>7</td>\n      <td>Sales visit</td>\n    </tr>\n    <tr>\n      <th>3</th>\n      <td>4</td>\n      <td>1156</td>\n      <td>5</td>\n      <td>Web</td>\n    </tr>\n    <tr>\n      <th>4</th>\n      <td>5</td>\n      <td>1157</td>\n      <td>2</td>\n      <td>Telephone</td>\n    </tr>\n  </tbody>\n</table>\n</div>"
     },
     "execution_count": 4,
     "metadata": {},
     "output_type": "execute_result"
    }
   ],
   "source": [
    "order_query = \"SELECT * FROM [Order]\"\n",
    "\n",
    "order_result = export_cursor.execute(order_query)\n",
    "order_fetch = order_result.fetchall()\n",
    "order_columns = [column[0] for column in order_result.description]\n",
    "order = pd.DataFrame.from_records(order_fetch, columns=order_columns)\n",
    "\n",
    "# dropping current value and last updated columns\n",
    "order = order.drop(columns=['CURRENT_VALUE', 'LAST_UPDATED'])\n",
    "\n",
    "order.head()"
   ],
   "metadata": {
    "collapsed": false,
    "ExecuteTime": {
     "end_time": "2024-04-03T13:16:54.465430Z",
     "start_time": "2024-04-03T13:16:54.421710Z"
    }
   },
   "id": "d4d767e798cf2fe",
   "execution_count": 4
  },
  {
   "cell_type": "code",
   "outputs": [
    {
     "data": {
      "text/plain": "   ORDER_HEADER_SK  ORDER_HEADER_number  ORDER_HEADER_RETAILER_CODE  \\\n0                1                 1153                         100   \n1                2                 1154                         100   \n2                3                 1155                         100   \n3                4                 1156                         100   \n4                5                 1157                         100   \n\n   ORDER_HEADER_SALES_STAFF_CODE  ORDER_HEADER_SALES_BRANCH_CODE  \\\n0                             54                               5   \n1                             54                               5   \n2                             52                               5   \n3                             52                               5   \n4                             54                               5   \n\n  ORDER_HEADER_ORDER_DATE  ORDER_HEADER_RETAILER_SITE_CODE  \\\n0              2020-04-14                              285   \n1              2020-10-01                              285   \n2              2020-04-21                              340   \n3              2020-09-09                              340   \n4              2020-04-10                              351   \n\n   ORDER_HEADER_RETAILER_CONTACT_CODE  ORDER_HEADER_ORDER_order_number  \n0                                 349                                1  \n1                                 349                                2  \n2                                 355                                3  \n3                                 355                                4  \n4                                 356                                5  ",
      "text/html": "<div>\n<style scoped>\n    .dataframe tbody tr th:only-of-type {\n        vertical-align: middle;\n    }\n\n    .dataframe tbody tr th {\n        vertical-align: top;\n    }\n\n    .dataframe thead th {\n        text-align: right;\n    }\n</style>\n<table border=\"1\" class=\"dataframe\">\n  <thead>\n    <tr style=\"text-align: right;\">\n      <th></th>\n      <th>ORDER_HEADER_SK</th>\n      <th>ORDER_HEADER_number</th>\n      <th>ORDER_HEADER_RETAILER_CODE</th>\n      <th>ORDER_HEADER_SALES_STAFF_CODE</th>\n      <th>ORDER_HEADER_SALES_BRANCH_CODE</th>\n      <th>ORDER_HEADER_ORDER_DATE</th>\n      <th>ORDER_HEADER_RETAILER_SITE_CODE</th>\n      <th>ORDER_HEADER_RETAILER_CONTACT_CODE</th>\n      <th>ORDER_HEADER_ORDER_order_number</th>\n    </tr>\n  </thead>\n  <tbody>\n    <tr>\n      <th>0</th>\n      <td>1</td>\n      <td>1153</td>\n      <td>100</td>\n      <td>54</td>\n      <td>5</td>\n      <td>2020-04-14</td>\n      <td>285</td>\n      <td>349</td>\n      <td>1</td>\n    </tr>\n    <tr>\n      <th>1</th>\n      <td>2</td>\n      <td>1154</td>\n      <td>100</td>\n      <td>54</td>\n      <td>5</td>\n      <td>2020-10-01</td>\n      <td>285</td>\n      <td>349</td>\n      <td>2</td>\n    </tr>\n    <tr>\n      <th>2</th>\n      <td>3</td>\n      <td>1155</td>\n      <td>100</td>\n      <td>52</td>\n      <td>5</td>\n      <td>2020-04-21</td>\n      <td>340</td>\n      <td>355</td>\n      <td>3</td>\n    </tr>\n    <tr>\n      <th>3</th>\n      <td>4</td>\n      <td>1156</td>\n      <td>100</td>\n      <td>52</td>\n      <td>5</td>\n      <td>2020-09-09</td>\n      <td>340</td>\n      <td>355</td>\n      <td>4</td>\n    </tr>\n    <tr>\n      <th>4</th>\n      <td>5</td>\n      <td>1157</td>\n      <td>100</td>\n      <td>54</td>\n      <td>5</td>\n      <td>2020-04-10</td>\n      <td>351</td>\n      <td>356</td>\n      <td>5</td>\n    </tr>\n  </tbody>\n</table>\n</div>"
     },
     "execution_count": 5,
     "metadata": {},
     "output_type": "execute_result"
    }
   ],
   "source": [
    "order_header_query = \"SELECT * FROM Order_header\"\n",
    "\n",
    "order_header_result = export_cursor.execute(order_header_query)\n",
    "order_header_fetch = order_header_result.fetchall()\n",
    "order_header_columns = [column[0] for column in order_header_result.description]\n",
    "order_header = pd.DataFrame.from_records(order_header_fetch, columns=order_header_columns)\n",
    "\n",
    "# dropping current value and last updated columns\n",
    "order_header = order_header.drop(columns=['CURRENT_VALUE', 'LAST_UPDATED'])\n",
    "\n",
    "order_header.head()"
   ],
   "metadata": {
    "collapsed": false,
    "ExecuteTime": {
     "end_time": "2024-04-03T13:16:54.508402Z",
     "start_time": "2024-04-03T13:16:54.466435Z"
    }
   },
   "id": "7280bfe19753d6fe",
   "execution_count": 5
  },
  {
   "cell_type": "code",
   "outputs": [
    {
     "data": {
      "text/plain": "   ORDER_DETAILS_SK  ORDER_DETAILS_code  ORDER_DETAILS_QUANTITY_quantity  \\\n0                 1              100146                               16   \n1                 2              100149                               64   \n2                 3              100199                               22   \n3                 4              100250                               52   \n4                 5              100641                                6   \n\n  ORDER_DETAILS_TOTAL_COST_total ORDER_DETAILS_TOTAL_MARGIN_margin  \\\n0                      8072.6400                         9496.0000   \n1                        65.2800                          131.2000   \n2                       149.1600                          298.5400   \n3                      6578.5200                         9868.0400   \n4                       491.2200                         1080.7800   \n\n  ORDER_DETAILS_RETURN_CODE_returned  ORDER_DETAILS_ORDER_NUMBER_order  \\\n0                               1975                              4408   \n1                               1976                              5013   \n2                               1979                              5010   \n3                               2298                              5135   \n4                               2301                              5150   \n\n   ORDER_DETAILS_PRODUCT_NUMBER_product  ORDER_DETAILS_UNIT_ID_unit  \n0                                    23                         144  \n1                                    24                         147  \n2                                    40                         197  \n3                                    54                         248  \n4                                    15                         635  ",
      "text/html": "<div>\n<style scoped>\n    .dataframe tbody tr th:only-of-type {\n        vertical-align: middle;\n    }\n\n    .dataframe tbody tr th {\n        vertical-align: top;\n    }\n\n    .dataframe thead th {\n        text-align: right;\n    }\n</style>\n<table border=\"1\" class=\"dataframe\">\n  <thead>\n    <tr style=\"text-align: right;\">\n      <th></th>\n      <th>ORDER_DETAILS_SK</th>\n      <th>ORDER_DETAILS_code</th>\n      <th>ORDER_DETAILS_QUANTITY_quantity</th>\n      <th>ORDER_DETAILS_TOTAL_COST_total</th>\n      <th>ORDER_DETAILS_TOTAL_MARGIN_margin</th>\n      <th>ORDER_DETAILS_RETURN_CODE_returned</th>\n      <th>ORDER_DETAILS_ORDER_NUMBER_order</th>\n      <th>ORDER_DETAILS_PRODUCT_NUMBER_product</th>\n      <th>ORDER_DETAILS_UNIT_ID_unit</th>\n    </tr>\n  </thead>\n  <tbody>\n    <tr>\n      <th>0</th>\n      <td>1</td>\n      <td>100146</td>\n      <td>16</td>\n      <td>8072.6400</td>\n      <td>9496.0000</td>\n      <td>1975</td>\n      <td>4408</td>\n      <td>23</td>\n      <td>144</td>\n    </tr>\n    <tr>\n      <th>1</th>\n      <td>2</td>\n      <td>100149</td>\n      <td>64</td>\n      <td>65.2800</td>\n      <td>131.2000</td>\n      <td>1976</td>\n      <td>5013</td>\n      <td>24</td>\n      <td>147</td>\n    </tr>\n    <tr>\n      <th>2</th>\n      <td>3</td>\n      <td>100199</td>\n      <td>22</td>\n      <td>149.1600</td>\n      <td>298.5400</td>\n      <td>1979</td>\n      <td>5010</td>\n      <td>40</td>\n      <td>197</td>\n    </tr>\n    <tr>\n      <th>3</th>\n      <td>4</td>\n      <td>100250</td>\n      <td>52</td>\n      <td>6578.5200</td>\n      <td>9868.0400</td>\n      <td>2298</td>\n      <td>5135</td>\n      <td>54</td>\n      <td>248</td>\n    </tr>\n    <tr>\n      <th>4</th>\n      <td>5</td>\n      <td>100641</td>\n      <td>6</td>\n      <td>491.2200</td>\n      <td>1080.7800</td>\n      <td>2301</td>\n      <td>5150</td>\n      <td>15</td>\n      <td>635</td>\n    </tr>\n  </tbody>\n</table>\n</div>"
     },
     "execution_count": 6,
     "metadata": {},
     "output_type": "execute_result"
    }
   ],
   "source": [
    "order_details_query = \"SELECT * FROM Order_details\"\n",
    "\n",
    "order_details_result = export_cursor.execute(order_details_query)\n",
    "order_details_fetch = order_details_result.fetchall()\n",
    "order_details_columns = [column[0] for column in order_details_result.description]\n",
    "order_details = pd.DataFrame.from_records(order_details_fetch, columns=order_details_columns)\n",
    "\n",
    "# dropping current value and last updated columns\n",
    "order_details = order_details.drop(columns=['CURRENT_VALUE', 'LAST_UPDATED'])\n",
    "\n",
    "order_details.head()"
   ],
   "metadata": {
    "collapsed": false,
    "ExecuteTime": {
     "end_time": "2024-04-03T13:16:54.528150Z",
     "start_time": "2024-04-03T13:16:54.509418Z"
    }
   },
   "id": "3c7db2486b2e6312",
   "execution_count": 6
  },
  {
   "cell_type": "code",
   "outputs": [
    {
     "data": {
      "text/plain": "   UNIT_SK  UNIT_id UNIT_COST_cost UNIT_PRICE_price UNIT_SALE_sale\n0        1        1        16.1000          22.5400        22.5400\n1        2        2        16.1000          22.5400        22.5400\n2        3        3        16.1000          22.5400        22.5400\n3        4        4        16.1000          22.5400        22.5400\n4        5        5        16.1000          22.5400        22.5400",
      "text/html": "<div>\n<style scoped>\n    .dataframe tbody tr th:only-of-type {\n        vertical-align: middle;\n    }\n\n    .dataframe tbody tr th {\n        vertical-align: top;\n    }\n\n    .dataframe thead th {\n        text-align: right;\n    }\n</style>\n<table border=\"1\" class=\"dataframe\">\n  <thead>\n    <tr style=\"text-align: right;\">\n      <th></th>\n      <th>UNIT_SK</th>\n      <th>UNIT_id</th>\n      <th>UNIT_COST_cost</th>\n      <th>UNIT_PRICE_price</th>\n      <th>UNIT_SALE_sale</th>\n    </tr>\n  </thead>\n  <tbody>\n    <tr>\n      <th>0</th>\n      <td>1</td>\n      <td>1</td>\n      <td>16.1000</td>\n      <td>22.5400</td>\n      <td>22.5400</td>\n    </tr>\n    <tr>\n      <th>1</th>\n      <td>2</td>\n      <td>2</td>\n      <td>16.1000</td>\n      <td>22.5400</td>\n      <td>22.5400</td>\n    </tr>\n    <tr>\n      <th>2</th>\n      <td>3</td>\n      <td>3</td>\n      <td>16.1000</td>\n      <td>22.5400</td>\n      <td>22.5400</td>\n    </tr>\n    <tr>\n      <th>3</th>\n      <td>4</td>\n      <td>4</td>\n      <td>16.1000</td>\n      <td>22.5400</td>\n      <td>22.5400</td>\n    </tr>\n    <tr>\n      <th>4</th>\n      <td>5</td>\n      <td>5</td>\n      <td>16.1000</td>\n      <td>22.5400</td>\n      <td>22.5400</td>\n    </tr>\n  </tbody>\n</table>\n</div>"
     },
     "execution_count": 7,
     "metadata": {},
     "output_type": "execute_result"
    }
   ],
   "source": [
    "unit_query = \"SELECT * FROM Unit\"\n",
    "\n",
    "unit_result = export_cursor.execute(unit_query)\n",
    "unit_fetch = unit_result.fetchall()\n",
    "unit_columns = [column[0] for column in unit_result.description]\n",
    "unit = pd.DataFrame.from_records(unit_fetch, columns=unit_columns)\n",
    "\n",
    "# dropping current value and last updated columns\n",
    "unit = unit.drop(columns=['CURRENT_VALUE', 'LAST_UPDATED'])\n",
    "\n",
    "unit.head()"
   ],
   "metadata": {
    "collapsed": false,
    "ExecuteTime": {
     "end_time": "2024-04-03T13:16:54.778046Z",
     "start_time": "2024-04-03T13:16:54.529158Z"
    }
   },
   "id": "2ae7226246c9f37c",
   "execution_count": 7
  },
  {
   "cell_type": "code",
   "outputs": [
    {
     "data": {
      "text/plain": "   PRODUCT_SK  PRODUCT_number      PRODUCT_name_product  \\\n0           1               1       TrailChef Water Bag   \n1           2              10        TrailChef Utensils   \n2           3             100        Insect Bite Relief   \n3           4             101     Hailstorm Steel Irons   \n4           5             102  Hailstorm Titanium Irons   \n\n                     PRODUCT_description_description PRODUCT_image_image  \\\n0  Lightweight, collapsible bag to carry liquids ...       P01CE1CG1.jpg   \n1  Spoon, fork and knife set made of a light yet ...       P10CE1CG1.jpg   \n2  The Insect Bite Relief helps the itching and s...     P100OP4FA17.jpg   \n3  Iron is 17-4 stainless steel.  Shafts are grap...     P101GE5IR18.jpg   \n4  Made entirely of pure titanium. The ultimate i...     P102GE5IR18.jpg   \n\n  PRODUCT_INTRODUCTION_DATE_introduced PRODUCT_PRODUCTION_COST_cost  \\\n0                           2011-02-15                       4.0000   \n1                           2011-02-15                      10.0000   \n2                           2011-02-15                       3.0000   \n3                           2019-12-15                     305.5400   \n4                           2019-10-12                     380.9500   \n\n  PRODUCT_MARGIN_margin PRODUCT_LANGUAGE_language  \\\n0                0.3300                        EN   \n1                0.4000                        EN   \n2                0.5000                        EN   \n3                0.4300                        EN   \n4                0.5100                        EN   \n\n  PRODUCT_MINIMUM_SALE_PRICE_minPrice PRODUCT_PRODUCT_LINE_code  \\\n0                              4.3300                         1   \n1                             10.4000                         1   \n2                              3.5000                         4   \n3                            305.9700                         5   \n4                            381.4600                         5   \n\n  PRODUCT_PRODUCT_LINE_code_en PRODUCT_PRODUCT_TYPE_code  \\\n0            Camping Equipment                         1   \n1            Camping Equipment                         1   \n2           Outdoor Protection                        17   \n3               Golf Equipment                        18   \n4               Golf Equipment                        18   \n\n  PRODUCT_PRODUCT_TYPE_code_en  \n0                 Cooking Gear  \n1                 Cooking Gear  \n2                    First Aid  \n3                        Irons  \n4                        Irons  ",
      "text/html": "<div>\n<style scoped>\n    .dataframe tbody tr th:only-of-type {\n        vertical-align: middle;\n    }\n\n    .dataframe tbody tr th {\n        vertical-align: top;\n    }\n\n    .dataframe thead th {\n        text-align: right;\n    }\n</style>\n<table border=\"1\" class=\"dataframe\">\n  <thead>\n    <tr style=\"text-align: right;\">\n      <th></th>\n      <th>PRODUCT_SK</th>\n      <th>PRODUCT_number</th>\n      <th>PRODUCT_name_product</th>\n      <th>PRODUCT_description_description</th>\n      <th>PRODUCT_image_image</th>\n      <th>PRODUCT_INTRODUCTION_DATE_introduced</th>\n      <th>PRODUCT_PRODUCTION_COST_cost</th>\n      <th>PRODUCT_MARGIN_margin</th>\n      <th>PRODUCT_LANGUAGE_language</th>\n      <th>PRODUCT_MINIMUM_SALE_PRICE_minPrice</th>\n      <th>PRODUCT_PRODUCT_LINE_code</th>\n      <th>PRODUCT_PRODUCT_LINE_code_en</th>\n      <th>PRODUCT_PRODUCT_TYPE_code</th>\n      <th>PRODUCT_PRODUCT_TYPE_code_en</th>\n    </tr>\n  </thead>\n  <tbody>\n    <tr>\n      <th>0</th>\n      <td>1</td>\n      <td>1</td>\n      <td>TrailChef Water Bag</td>\n      <td>Lightweight, collapsible bag to carry liquids ...</td>\n      <td>P01CE1CG1.jpg</td>\n      <td>2011-02-15</td>\n      <td>4.0000</td>\n      <td>0.3300</td>\n      <td>EN</td>\n      <td>4.3300</td>\n      <td>1</td>\n      <td>Camping Equipment</td>\n      <td>1</td>\n      <td>Cooking Gear</td>\n    </tr>\n    <tr>\n      <th>1</th>\n      <td>2</td>\n      <td>10</td>\n      <td>TrailChef Utensils</td>\n      <td>Spoon, fork and knife set made of a light yet ...</td>\n      <td>P10CE1CG1.jpg</td>\n      <td>2011-02-15</td>\n      <td>10.0000</td>\n      <td>0.4000</td>\n      <td>EN</td>\n      <td>10.4000</td>\n      <td>1</td>\n      <td>Camping Equipment</td>\n      <td>1</td>\n      <td>Cooking Gear</td>\n    </tr>\n    <tr>\n      <th>2</th>\n      <td>3</td>\n      <td>100</td>\n      <td>Insect Bite Relief</td>\n      <td>The Insect Bite Relief helps the itching and s...</td>\n      <td>P100OP4FA17.jpg</td>\n      <td>2011-02-15</td>\n      <td>3.0000</td>\n      <td>0.5000</td>\n      <td>EN</td>\n      <td>3.5000</td>\n      <td>4</td>\n      <td>Outdoor Protection</td>\n      <td>17</td>\n      <td>First Aid</td>\n    </tr>\n    <tr>\n      <th>3</th>\n      <td>4</td>\n      <td>101</td>\n      <td>Hailstorm Steel Irons</td>\n      <td>Iron is 17-4 stainless steel.  Shafts are grap...</td>\n      <td>P101GE5IR18.jpg</td>\n      <td>2019-12-15</td>\n      <td>305.5400</td>\n      <td>0.4300</td>\n      <td>EN</td>\n      <td>305.9700</td>\n      <td>5</td>\n      <td>Golf Equipment</td>\n      <td>18</td>\n      <td>Irons</td>\n    </tr>\n    <tr>\n      <th>4</th>\n      <td>5</td>\n      <td>102</td>\n      <td>Hailstorm Titanium Irons</td>\n      <td>Made entirely of pure titanium. The ultimate i...</td>\n      <td>P102GE5IR18.jpg</td>\n      <td>2019-10-12</td>\n      <td>380.9500</td>\n      <td>0.5100</td>\n      <td>EN</td>\n      <td>381.4600</td>\n      <td>5</td>\n      <td>Golf Equipment</td>\n      <td>18</td>\n      <td>Irons</td>\n    </tr>\n  </tbody>\n</table>\n</div>"
     },
     "execution_count": 8,
     "metadata": {},
     "output_type": "execute_result"
    }
   ],
   "source": [
    "product_query = \"SELECT * FROM Product\"\n",
    "\n",
    "product_result = export_cursor.execute(product_query)\n",
    "product_fetch = product_result.fetchall()\n",
    "product_columns = [column[0] for column in product_result.description]\n",
    "product = pd.DataFrame.from_records(product_fetch, columns=product_columns)\n",
    "\n",
    "# dropping current value and last updated columns\n",
    "product = product.drop(columns=['CURRENT_VALUE', 'LAST_UPDATED'])\n",
    "\n",
    "product.head()"
   ],
   "metadata": {
    "collapsed": false,
    "ExecuteTime": {
     "end_time": "2024-04-03T13:16:54.792795Z",
     "start_time": "2024-04-03T13:16:54.779050Z"
    }
   },
   "id": "7dd30c1ac0789236",
   "execution_count": 8
  },
  {
   "cell_type": "markdown",
   "source": [
    "## De tabellen samenvoegen tot 1 dataframe"
   ],
   "metadata": {
    "collapsed": false
   },
   "id": "4889f531c73e2ed8"
  },
  {
   "cell_type": "code",
   "outputs": [
    {
     "data": {
      "text/plain": "   ORDER_HEADER_SK  ORDER_HEADER_number  ORDER_HEADER_RETAILER_CODE  \\\n0                8                 1160                         102   \n1               14                 1167                         105   \n2               49                 1207                         107   \n3               59                 1217                         102   \n4               61                 1219                         102   \n\n   ORDER_HEADER_SALES_STAFF_CODE  ORDER_HEADER_SALES_BRANCH_CODE  \\\n0                             55                               5   \n1                             54                               5   \n2                             49                               4   \n3                             47                               4   \n4                             46                               4   \n\n  ORDER_HEADER_ORDER_DATE  ORDER_HEADER_RETAILER_SITE_CODE  \\\n0              2020-09-28                              381   \n1              2020-03-14                               77   \n2              2020-04-04                              173   \n3              2021-03-26                               13   \n4              2021-03-29                               24   \n\n   ORDER_HEADER_RETAILER_CONTACT_CODE  ORDER_HEADER_ORDER_order_number  \\\n0                                 358                                8   \n1                                 364                               14   \n2                                 208                               49   \n3                                 128                               59   \n4                                 359                               61   \n\n   ORDER_SK  ...  PRODUCT_image_image  PRODUCT_INTRODUCTION_DATE_introduced  \\\n0         8  ...       P70PA3EW11.jpg                            2013-05-03   \n1        14  ...        P04CE1CG1.jpg                            2011-02-15   \n2        49  ...       P63PA3WT10.jpg                            2011-02-15   \n3        59  ...       P65PA3WT10.jpg                            2013-05-03   \n4        61  ...        P29CE1PK4.jpg                            2013-05-03   \n\n  PRODUCT_PRODUCTION_COST_cost  PRODUCT_MARGIN_margin  \\\n0                      80.0000                 0.3300   \n1                       5.0000                 0.2800   \n2                      30.0000                 0.3300   \n3                      39.0000                 0.5000   \n4                      41.1800                 0.4000   \n\n   PRODUCT_LANGUAGE_language  PRODUCT_MINIMUM_SALE_PRICE_minPrice  \\\n0                         EN                              80.3300   \n1                         EN                               5.2800   \n2                         EN                              30.3300   \n3                         EN                              39.5000   \n4                         EN                              41.5800   \n\n  PRODUCT_PRODUCT_LINE_code PRODUCT_PRODUCT_LINE_code_en  \\\n0                         3         Personal Accessories   \n1                         1            Camping Equipment   \n2                         3         Personal Accessories   \n3                         3         Personal Accessories   \n4                         1            Camping Equipment   \n\n  PRODUCT_PRODUCT_TYPE_code  PRODUCT_PRODUCT_TYPE_code_en  \n0                        11                       Eyewear  \n1                         1                  Cooking Gear  \n2                        10                       Watches  \n3                        10                       Watches  \n4                         4                         Packs  \n\n[5 rows x 41 columns]",
      "text/html": "<div>\n<style scoped>\n    .dataframe tbody tr th:only-of-type {\n        vertical-align: middle;\n    }\n\n    .dataframe tbody tr th {\n        vertical-align: top;\n    }\n\n    .dataframe thead th {\n        text-align: right;\n    }\n</style>\n<table border=\"1\" class=\"dataframe\">\n  <thead>\n    <tr style=\"text-align: right;\">\n      <th></th>\n      <th>ORDER_HEADER_SK</th>\n      <th>ORDER_HEADER_number</th>\n      <th>ORDER_HEADER_RETAILER_CODE</th>\n      <th>ORDER_HEADER_SALES_STAFF_CODE</th>\n      <th>ORDER_HEADER_SALES_BRANCH_CODE</th>\n      <th>ORDER_HEADER_ORDER_DATE</th>\n      <th>ORDER_HEADER_RETAILER_SITE_CODE</th>\n      <th>ORDER_HEADER_RETAILER_CONTACT_CODE</th>\n      <th>ORDER_HEADER_ORDER_order_number</th>\n      <th>ORDER_SK</th>\n      <th>...</th>\n      <th>PRODUCT_image_image</th>\n      <th>PRODUCT_INTRODUCTION_DATE_introduced</th>\n      <th>PRODUCT_PRODUCTION_COST_cost</th>\n      <th>PRODUCT_MARGIN_margin</th>\n      <th>PRODUCT_LANGUAGE_language</th>\n      <th>PRODUCT_MINIMUM_SALE_PRICE_minPrice</th>\n      <th>PRODUCT_PRODUCT_LINE_code</th>\n      <th>PRODUCT_PRODUCT_LINE_code_en</th>\n      <th>PRODUCT_PRODUCT_TYPE_code</th>\n      <th>PRODUCT_PRODUCT_TYPE_code_en</th>\n    </tr>\n  </thead>\n  <tbody>\n    <tr>\n      <th>0</th>\n      <td>8</td>\n      <td>1160</td>\n      <td>102</td>\n      <td>55</td>\n      <td>5</td>\n      <td>2020-09-28</td>\n      <td>381</td>\n      <td>358</td>\n      <td>8</td>\n      <td>8</td>\n      <td>...</td>\n      <td>P70PA3EW11.jpg</td>\n      <td>2013-05-03</td>\n      <td>80.0000</td>\n      <td>0.3300</td>\n      <td>EN</td>\n      <td>80.3300</td>\n      <td>3</td>\n      <td>Personal Accessories</td>\n      <td>11</td>\n      <td>Eyewear</td>\n    </tr>\n    <tr>\n      <th>1</th>\n      <td>14</td>\n      <td>1167</td>\n      <td>105</td>\n      <td>54</td>\n      <td>5</td>\n      <td>2020-03-14</td>\n      <td>77</td>\n      <td>364</td>\n      <td>14</td>\n      <td>14</td>\n      <td>...</td>\n      <td>P04CE1CG1.jpg</td>\n      <td>2011-02-15</td>\n      <td>5.0000</td>\n      <td>0.2800</td>\n      <td>EN</td>\n      <td>5.2800</td>\n      <td>1</td>\n      <td>Camping Equipment</td>\n      <td>1</td>\n      <td>Cooking Gear</td>\n    </tr>\n    <tr>\n      <th>2</th>\n      <td>49</td>\n      <td>1207</td>\n      <td>107</td>\n      <td>49</td>\n      <td>4</td>\n      <td>2020-04-04</td>\n      <td>173</td>\n      <td>208</td>\n      <td>49</td>\n      <td>49</td>\n      <td>...</td>\n      <td>P63PA3WT10.jpg</td>\n      <td>2011-02-15</td>\n      <td>30.0000</td>\n      <td>0.3300</td>\n      <td>EN</td>\n      <td>30.3300</td>\n      <td>3</td>\n      <td>Personal Accessories</td>\n      <td>10</td>\n      <td>Watches</td>\n    </tr>\n    <tr>\n      <th>3</th>\n      <td>59</td>\n      <td>1217</td>\n      <td>102</td>\n      <td>47</td>\n      <td>4</td>\n      <td>2021-03-26</td>\n      <td>13</td>\n      <td>128</td>\n      <td>59</td>\n      <td>59</td>\n      <td>...</td>\n      <td>P65PA3WT10.jpg</td>\n      <td>2013-05-03</td>\n      <td>39.0000</td>\n      <td>0.5000</td>\n      <td>EN</td>\n      <td>39.5000</td>\n      <td>3</td>\n      <td>Personal Accessories</td>\n      <td>10</td>\n      <td>Watches</td>\n    </tr>\n    <tr>\n      <th>4</th>\n      <td>61</td>\n      <td>1219</td>\n      <td>102</td>\n      <td>46</td>\n      <td>4</td>\n      <td>2021-03-29</td>\n      <td>24</td>\n      <td>359</td>\n      <td>61</td>\n      <td>61</td>\n      <td>...</td>\n      <td>P29CE1PK4.jpg</td>\n      <td>2013-05-03</td>\n      <td>41.1800</td>\n      <td>0.4000</td>\n      <td>EN</td>\n      <td>41.5800</td>\n      <td>1</td>\n      <td>Camping Equipment</td>\n      <td>4</td>\n      <td>Packs</td>\n    </tr>\n  </tbody>\n</table>\n<p>5 rows × 41 columns</p>\n</div>"
     },
     "execution_count": 9,
     "metadata": {},
     "output_type": "execute_result"
    }
   ],
   "source": [
    "order_combined = pd.merge(order_header, order, left_on='ORDER_HEADER_ORDER_order_number', right_on='ORDER_SK')\n",
    "order_combined = pd.merge(order_combined, order_details, left_on='ORDER_SK', right_on='ORDER_DETAILS_ORDER_NUMBER_order')\n",
    "order_combined = pd.merge(order_combined, unit, left_on='ORDER_DETAILS_UNIT_ID_unit', right_on='UNIT_SK')\n",
    "order_combined = pd.merge(order_combined, product, left_on='ORDER_DETAILS_PRODUCT_NUMBER_product', right_on='PRODUCT_SK')\n",
    "\n",
    "order_combined.head()"
   ],
   "metadata": {
    "collapsed": false,
    "ExecuteTime": {
     "end_time": "2024-04-03T13:16:54.980059Z",
     "start_time": "2024-04-03T13:16:54.793801Z"
    }
   },
   "id": "d63b03731f99acbb",
   "execution_count": 9
  },
  {
   "cell_type": "markdown",
   "source": [
    "# Data voorbereiden\n",
    "Om de verkopen te kunnen voorspellen, moeten we de data voorbereiden. We willen de verkopen voorspellen op basis van de orderdatum en een aantal orderdetails."
   ],
   "metadata": {
    "collapsed": false
   },
   "id": "d830366d69d2f631"
  },
  {
   "cell_type": "code",
   "outputs": [
    {
     "data": {
      "text/plain": "  ORDER_HEADER_ORDER_DATE  ORDER_ORDER_METHOD_CODE_method_code  \\\n0              2020-09-28                                    5   \n1              2020-03-14                                    7   \n2              2020-04-04                                    2   \n3              2021-03-26                                    4   \n4              2021-03-29                                    7   \n\n   ORDER_DETAILS_QUANTITY_quantity ORDER_DETAILS_TOTAL_COST_total  \\\n0                               24                      1963.2000   \n1                               84                       439.3200   \n2                               68                      2216.1200   \n3                               40                      1560.0000   \n4                              152                      6349.0400   \n\n  ORDER_DETAILS_TOTAL_MARGIN_margin UNIT_COST_cost UNIT_PRICE_price  \\\n0                         2944.8000        81.8000         122.7000   \n1                          571.2000         5.2300           7.3200   \n2                         3323.8400        32.5900          48.8800   \n3                         3120.0000        39.0000          78.0000   \n4                        10795.0400        41.7700          71.0200   \n\n  UNIT_SALE_sale  PRODUCT_number PRODUCT_INTRODUCTION_DATE_introduced  \\\n0       122.7000              70                           2013-05-03   \n1         6.8000               4                           2011-02-15   \n2        48.8800              63                           2011-02-15   \n3        78.0000              65                           2013-05-03   \n4        71.0200              29                           2013-05-03   \n\n  PRODUCT_PRODUCTION_COST_cost PRODUCT_MARGIN_margin  \\\n0                      80.0000                0.3300   \n1                       5.0000                0.2800   \n2                      30.0000                0.3300   \n3                      39.0000                0.5000   \n4                      41.1800                0.4000   \n\n  PRODUCT_MINIMUM_SALE_PRICE_minPrice PRODUCT_PRODUCT_LINE_code  \\\n0                             80.3300                         3   \n1                              5.2800                         1   \n2                             30.3300                         3   \n3                             39.5000                         3   \n4                             41.5800                         1   \n\n  PRODUCT_PRODUCT_TYPE_code  \n0                        11  \n1                         1  \n2                        10  \n3                        10  \n4                         4  ",
      "text/html": "<div>\n<style scoped>\n    .dataframe tbody tr th:only-of-type {\n        vertical-align: middle;\n    }\n\n    .dataframe tbody tr th {\n        vertical-align: top;\n    }\n\n    .dataframe thead th {\n        text-align: right;\n    }\n</style>\n<table border=\"1\" class=\"dataframe\">\n  <thead>\n    <tr style=\"text-align: right;\">\n      <th></th>\n      <th>ORDER_HEADER_ORDER_DATE</th>\n      <th>ORDER_ORDER_METHOD_CODE_method_code</th>\n      <th>ORDER_DETAILS_QUANTITY_quantity</th>\n      <th>ORDER_DETAILS_TOTAL_COST_total</th>\n      <th>ORDER_DETAILS_TOTAL_MARGIN_margin</th>\n      <th>UNIT_COST_cost</th>\n      <th>UNIT_PRICE_price</th>\n      <th>UNIT_SALE_sale</th>\n      <th>PRODUCT_number</th>\n      <th>PRODUCT_INTRODUCTION_DATE_introduced</th>\n      <th>PRODUCT_PRODUCTION_COST_cost</th>\n      <th>PRODUCT_MARGIN_margin</th>\n      <th>PRODUCT_MINIMUM_SALE_PRICE_minPrice</th>\n      <th>PRODUCT_PRODUCT_LINE_code</th>\n      <th>PRODUCT_PRODUCT_TYPE_code</th>\n    </tr>\n  </thead>\n  <tbody>\n    <tr>\n      <th>0</th>\n      <td>2020-09-28</td>\n      <td>5</td>\n      <td>24</td>\n      <td>1963.2000</td>\n      <td>2944.8000</td>\n      <td>81.8000</td>\n      <td>122.7000</td>\n      <td>122.7000</td>\n      <td>70</td>\n      <td>2013-05-03</td>\n      <td>80.0000</td>\n      <td>0.3300</td>\n      <td>80.3300</td>\n      <td>3</td>\n      <td>11</td>\n    </tr>\n    <tr>\n      <th>1</th>\n      <td>2020-03-14</td>\n      <td>7</td>\n      <td>84</td>\n      <td>439.3200</td>\n      <td>571.2000</td>\n      <td>5.2300</td>\n      <td>7.3200</td>\n      <td>6.8000</td>\n      <td>4</td>\n      <td>2011-02-15</td>\n      <td>5.0000</td>\n      <td>0.2800</td>\n      <td>5.2800</td>\n      <td>1</td>\n      <td>1</td>\n    </tr>\n    <tr>\n      <th>2</th>\n      <td>2020-04-04</td>\n      <td>2</td>\n      <td>68</td>\n      <td>2216.1200</td>\n      <td>3323.8400</td>\n      <td>32.5900</td>\n      <td>48.8800</td>\n      <td>48.8800</td>\n      <td>63</td>\n      <td>2011-02-15</td>\n      <td>30.0000</td>\n      <td>0.3300</td>\n      <td>30.3300</td>\n      <td>3</td>\n      <td>10</td>\n    </tr>\n    <tr>\n      <th>3</th>\n      <td>2021-03-26</td>\n      <td>4</td>\n      <td>40</td>\n      <td>1560.0000</td>\n      <td>3120.0000</td>\n      <td>39.0000</td>\n      <td>78.0000</td>\n      <td>78.0000</td>\n      <td>65</td>\n      <td>2013-05-03</td>\n      <td>39.0000</td>\n      <td>0.5000</td>\n      <td>39.5000</td>\n      <td>3</td>\n      <td>10</td>\n    </tr>\n    <tr>\n      <th>4</th>\n      <td>2021-03-29</td>\n      <td>7</td>\n      <td>152</td>\n      <td>6349.0400</td>\n      <td>10795.0400</td>\n      <td>41.7700</td>\n      <td>71.0200</td>\n      <td>71.0200</td>\n      <td>29</td>\n      <td>2013-05-03</td>\n      <td>41.1800</td>\n      <td>0.4000</td>\n      <td>41.5800</td>\n      <td>1</td>\n      <td>4</td>\n    </tr>\n  </tbody>\n</table>\n</div>"
     },
     "execution_count": 10,
     "metadata": {},
     "output_type": "execute_result"
    }
   ],
   "source": [
    "# removing the sk columns\n",
    "sk_columns = order_combined.filter(like='SK').columns\n",
    "order_combined.drop(columns=sk_columns, inplace=True)\n",
    "\n",
    "# removing columns we won't need\n",
    "remove_columns = ['ORDER_HEADER_number', 'ORDER_HEADER_RETAILER_CODE', 'ORDER_HEADER_SALES_STAFF_CODE', 'ORDER_HEADER_SALES_BRANCH_CODE', 'ORDER_HEADER_RETAILER_SITE_CODE', 'ORDER_HEADER_RETAILER_CONTACT_CODE', 'ORDER_HEADER_ORDER_order_number', 'ORDER_order_number', 'ORDER_ORDER_METHOD_EN_method', 'ORDER_DETAILS_code', 'ORDER_DETAILS_RETURN_CODE_returned', 'ORDER_DETAILS_ORDER_NUMBER_order', 'ORDER_DETAILS_PRODUCT_NUMBER_product', 'ORDER_DETAILS_UNIT_ID_unit', 'UNIT_id', 'PRODUCT_image_image', 'PRODUCT_PRODUCT_LINE_code_en', 'PRODUCT_PRODUCT_TYPE_code_en', 'PRODUCT_name_product', 'PRODUCT_description_description', 'PRODUCT_LANGUAGE_language']\n",
    "\n",
    "order_combined.drop(columns=remove_columns, inplace=True)\n",
    "\n",
    "order_combined.head()"
   ],
   "metadata": {
    "collapsed": false,
    "ExecuteTime": {
     "end_time": "2024-04-03T13:16:54.992174Z",
     "start_time": "2024-04-03T13:16:54.981065Z"
    }
   },
   "id": "fe7421a0dc687167",
   "execution_count": 10
  },
  {
   "cell_type": "code",
   "outputs": [],
   "source": [
    "# converting the columns to the right data types\n",
    "order_combined['ORDER_HEADER_ORDER_DATE'] = pd.to_datetime(order_combined['ORDER_HEADER_ORDER_DATE'], format='%Y-%m-%d')\n",
    "order_combined['ORDER_ORDER_METHOD_CODE_method_code'] = order_combined['ORDER_DETAILS_QUANTITY_quantity'].astype(int)\n",
    "order_combined['ORDER_DETAILS_QUANTITY_quantity'] = order_combined['ORDER_DETAILS_QUANTITY_quantity'].astype(int)\n",
    "order_combined['ORDER_DETAILS_TOTAL_COST_total'] = order_combined['ORDER_DETAILS_TOTAL_COST_total'].astype(float)\n",
    "order_combined['ORDER_DETAILS_TOTAL_MARGIN_margin'] = order_combined['ORDER_DETAILS_TOTAL_MARGIN_margin'].astype(float)\n",
    "order_combined['UNIT_COST_cost'] = order_combined['UNIT_COST_cost'].astype(float)\n",
    "order_combined['UNIT_PRICE_price'] = order_combined['UNIT_PRICE_price'].astype(float)\n",
    "order_combined['UNIT_SALE_sale'] = order_combined['UNIT_SALE_sale'].astype(float)\n",
    "order_combined[ 'PRODUCT_number'] = order_combined[ 'PRODUCT_number'].astype(int)\n",
    "order_combined['PRODUCT_INTRODUCTION_DATE_introduced'] = pd.to_datetime(order_combined['PRODUCT_INTRODUCTION_DATE_introduced'], format='%Y-%m-%d')\n",
    "order_combined['PRODUCT_PRODUCTION_COST_cost'] = order_combined['PRODUCT_PRODUCTION_COST_cost'].astype(float)\n",
    "order_combined['PRODUCT_MARGIN_margin'] = order_combined['PRODUCT_MARGIN_margin'].astype(float)\n",
    "order_combined['PRODUCT_MINIMUM_SALE_PRICE_minPrice'] = order_combined['PRODUCT_MINIMUM_SALE_PRICE_minPrice'].astype(float)\n",
    "order_combined['PRODUCT_PRODUCT_LINE_code'] = order_combined['PRODUCT_PRODUCT_LINE_code'].astype(int)\n",
    "order_combined['PRODUCT_PRODUCT_TYPE_code'] = order_combined['PRODUCT_PRODUCT_TYPE_code'].astype(int)\n",
    "\n",
    "# Convert datetime objects to numeric representation\n",
    "order_combined['ORDER_HEADER_ORDER_DATE'] = order_combined['ORDER_HEADER_ORDER_DATE'].apply(lambda x: x.toordinal())\n",
    "order_combined['PRODUCT_INTRODUCTION_DATE_introduced'] = order_combined['PRODUCT_INTRODUCTION_DATE_introduced'].apply(lambda x: x.toordinal())"
   ],
   "metadata": {
    "collapsed": false,
    "ExecuteTime": {
     "end_time": "2024-04-03T13:16:55.012157Z",
     "start_time": "2024-04-03T13:16:54.993187Z"
    }
   },
   "id": "bab17fe388eb29f6",
   "execution_count": 11
  },
  {
   "cell_type": "markdown",
   "source": [
    "# Voorspellen\n",
    "We willen de ORDER_DETAILS_QUANTITY_quantity voorspellen op basis van de andere kolommen."
   ],
   "metadata": {
    "collapsed": false
   },
   "id": "a41a34aa22f5afde"
  },
  {
   "cell_type": "code",
   "outputs": [],
   "source": [
    "# split the data\n",
    "x = order_combined.drop(columns=['ORDER_DETAILS_QUANTITY_quantity'], axis=1)\n",
    "y = order_combined['ORDER_DETAILS_QUANTITY_quantity']\n",
    "\n",
    "# split the data into training and testing data. Randomly so it changes every time\n",
    "x_train, x_test, y_train, y_test = train_test_split(x, y, test_size=0.2, random_state=0)"
   ],
   "metadata": {
    "collapsed": false,
    "ExecuteTime": {
     "end_time": "2024-04-03T13:16:55.024668Z",
     "start_time": "2024-04-03T13:16:55.013161Z"
    }
   },
   "id": "bae939d8d51c29",
   "execution_count": 12
  },
  {
   "cell_type": "markdown",
   "source": [
    "## Regressie model trainen"
   ],
   "metadata": {
    "collapsed": false
   },
   "id": "72aec4421c07efa6"
  },
  {
   "cell_type": "code",
   "outputs": [],
   "source": [
    "# create the model\n",
    "model = LinearRegression()\n",
    "model.fit(x_train, y_train)\n",
    "\n",
    "# predict the test data\n",
    "y_pred = model.predict(x_test)"
   ],
   "metadata": {
    "collapsed": false,
    "ExecuteTime": {
     "end_time": "2024-04-03T13:16:55.035055Z",
     "start_time": "2024-04-03T13:16:55.025675Z"
    }
   },
   "id": "2a8e98b4523759f7",
   "execution_count": 13
  },
  {
   "cell_type": "code",
   "outputs": [
    {
     "name": "stdout",
     "output_type": "stream",
     "text": [
      "Mean Squared Error: 1.997879846026993e-24\n"
     ]
    }
   ],
   "source": [
    "# Evaluate the model\n",
    "mse = mean_squared_error(y_test, y_pred)\n",
    "\n",
    "print('Mean Squared Error:', mse)"
   ],
   "metadata": {
    "collapsed": false,
    "ExecuteTime": {
     "end_time": "2024-04-03T13:16:55.044079Z",
     "start_time": "2024-04-03T13:16:55.037063Z"
    }
   },
   "id": "4541562d6293a93d",
   "execution_count": 14
  }
 ],
 "metadata": {
  "kernelspec": {
   "display_name": "Python 3",
   "language": "python",
   "name": "python3"
  },
  "language_info": {
   "codemirror_mode": {
    "name": "ipython",
    "version": 2
   },
   "file_extension": ".py",
   "mimetype": "text/x-python",
   "name": "python",
   "nbconvert_exporter": "python",
   "pygments_lexer": "ipython2",
   "version": "2.7.6"
  }
 },
 "nbformat": 4,
 "nbformat_minor": 5
}
