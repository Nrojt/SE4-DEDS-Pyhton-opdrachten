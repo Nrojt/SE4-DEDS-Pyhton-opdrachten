{
 "cells": [
  {
   "cell_type": "markdown",
   "source": [
    "# Regressiemodellen"
   ],
   "metadata": {
    "collapsed": false
   },
   "id": "83def59703172eb4"
  },
  {
   "cell_type": "code",
   "outputs": [],
   "source": [
    "import pandas as pd\n",
    "from sklearn.linear_model import LinearRegression\n",
    "from sklearn.model_selection import train_test_split\n",
    "from sklearn.metrics import mean_squared_error\n",
    "import pyodbc\n",
    "import matplotlib.pyplot as plt\n",
    "import numpy as np"
   ],
   "metadata": {
    "collapsed": false,
    "ExecuteTime": {
     "end_time": "2024-04-04T10:11:51.023160Z",
     "start_time": "2024-04-04T10:11:51.018934Z"
    }
   },
   "id": "685129aa61058789",
   "execution_count": 16
  },
  {
   "cell_type": "markdown",
   "source": [
    "# Database connectie\n",
    "De data komt uit de datawarehouse."
   ],
   "metadata": {
    "collapsed": false
   },
   "id": "ce869e42dffa39f"
  },
  {
   "cell_type": "code",
   "outputs": [],
   "source": [
    "# database name\n",
    "DB = {\n",
    "    'servername': '(local)\\\\SQLEXPRESS',\n",
    "    'database': 'DEDS_DataWarehouse'}"
   ],
   "metadata": {
    "collapsed": false,
    "ExecuteTime": {
     "end_time": "2024-04-04T10:11:51.108726Z",
     "start_time": "2024-04-04T10:11:51.104839Z"
    }
   },
   "id": "e70367b9dc6ad957",
   "execution_count": 17
  },
  {
   "cell_type": "code",
   "outputs": [
    {
     "name": "stdout",
     "output_type": "stream",
     "text": [
      "Connection with database is established\n"
     ]
    }
   ],
   "source": [
    "export_conn = pyodbc.connect('DRIVER={SQL Server};SERVER=' + DB['servername'] + ';DATABASE=' + DB['database'] + ';Trusted_Connection=yes')\n",
    "\n",
    "\n",
    "# Create a cursor from the connection\n",
    "export_cursor = export_conn.cursor()\n",
    "\n",
    "# check if connection is successful, else throw an error\n",
    "if export_conn:\n",
    "    print(\"Connection with database is established\")\n",
    "else:\n",
    "    print(\"Connection with database is not established\")\n",
    "    raise Exception(\"Connection with database is not established\")"
   ],
   "metadata": {
    "collapsed": false,
    "ExecuteTime": {
     "end_time": "2024-04-04T10:11:51.135826Z",
     "start_time": "2024-04-04T10:11:51.110741Z"
    }
   },
   "id": "d8e513fe0c207351",
   "execution_count": 18
  },
  {
   "cell_type": "markdown",
   "source": [
    "# Tabellen inlezen\n",
    "We hebben de order_header, order_details en order tabellen nodig"
   ],
   "metadata": {
    "collapsed": false
   },
   "id": "bc2907ac48ad9d0"
  },
  {
   "cell_type": "code",
   "outputs": [
    {
     "data": {
      "text/plain": "      ORDER_SK  ORDER_order_number  ORDER_ORDER_METHOD_CODE_method_code  \\\n0            1                1153                                    7   \n1            2                1154                                    4   \n2            3                1155                                    7   \n3            4                1156                                    5   \n4            5                1157                                    2   \n...        ...                 ...                                  ...   \n5355      5356                9475                                    4   \n5356      5357                9476                                    5   \n5357      5358                9477                                    2   \n5358      5359                9478                                    7   \n5359      5360                9479                                    5   \n\n     ORDER_ORDER_METHOD_EN_method  \n0                     Sales visit  \n1                          E-mail  \n2                     Sales visit  \n3                             Web  \n4                       Telephone  \n...                           ...  \n5355                       E-mail  \n5356                          Web  \n5357                    Telephone  \n5358                  Sales visit  \n5359                          Web  \n\n[5360 rows x 4 columns]",
      "text/html": "<div>\n<style scoped>\n    .dataframe tbody tr th:only-of-type {\n        vertical-align: middle;\n    }\n\n    .dataframe tbody tr th {\n        vertical-align: top;\n    }\n\n    .dataframe thead th {\n        text-align: right;\n    }\n</style>\n<table border=\"1\" class=\"dataframe\">\n  <thead>\n    <tr style=\"text-align: right;\">\n      <th></th>\n      <th>ORDER_SK</th>\n      <th>ORDER_order_number</th>\n      <th>ORDER_ORDER_METHOD_CODE_method_code</th>\n      <th>ORDER_ORDER_METHOD_EN_method</th>\n    </tr>\n  </thead>\n  <tbody>\n    <tr>\n      <th>0</th>\n      <td>1</td>\n      <td>1153</td>\n      <td>7</td>\n      <td>Sales visit</td>\n    </tr>\n    <tr>\n      <th>1</th>\n      <td>2</td>\n      <td>1154</td>\n      <td>4</td>\n      <td>E-mail</td>\n    </tr>\n    <tr>\n      <th>2</th>\n      <td>3</td>\n      <td>1155</td>\n      <td>7</td>\n      <td>Sales visit</td>\n    </tr>\n    <tr>\n      <th>3</th>\n      <td>4</td>\n      <td>1156</td>\n      <td>5</td>\n      <td>Web</td>\n    </tr>\n    <tr>\n      <th>4</th>\n      <td>5</td>\n      <td>1157</td>\n      <td>2</td>\n      <td>Telephone</td>\n    </tr>\n    <tr>\n      <th>...</th>\n      <td>...</td>\n      <td>...</td>\n      <td>...</td>\n      <td>...</td>\n    </tr>\n    <tr>\n      <th>5355</th>\n      <td>5356</td>\n      <td>9475</td>\n      <td>4</td>\n      <td>E-mail</td>\n    </tr>\n    <tr>\n      <th>5356</th>\n      <td>5357</td>\n      <td>9476</td>\n      <td>5</td>\n      <td>Web</td>\n    </tr>\n    <tr>\n      <th>5357</th>\n      <td>5358</td>\n      <td>9477</td>\n      <td>2</td>\n      <td>Telephone</td>\n    </tr>\n    <tr>\n      <th>5358</th>\n      <td>5359</td>\n      <td>9478</td>\n      <td>7</td>\n      <td>Sales visit</td>\n    </tr>\n    <tr>\n      <th>5359</th>\n      <td>5360</td>\n      <td>9479</td>\n      <td>5</td>\n      <td>Web</td>\n    </tr>\n  </tbody>\n</table>\n<p>5360 rows × 4 columns</p>\n</div>"
     },
     "execution_count": 19,
     "metadata": {},
     "output_type": "execute_result"
    }
   ],
   "source": [
    "order_query = \"SELECT * FROM [Order] WHERE CURRENT_VALUE = 1\"\n",
    "\n",
    "order_result = export_cursor.execute(order_query)\n",
    "order_fetch = order_result.fetchall()\n",
    "order_columns = [column[0] for column in order_result.description]\n",
    "order = pd.DataFrame.from_records(order_fetch, columns=order_columns)\n",
    "\n",
    "# dropping current value and last updated columns\n",
    "order = order.drop(columns=['CURRENT_VALUE', 'LAST_UPDATED'])\n",
    "\n",
    "order"
   ],
   "metadata": {
    "collapsed": false,
    "ExecuteTime": {
     "end_time": "2024-04-04T10:11:51.162312Z",
     "start_time": "2024-04-04T10:11:51.136836Z"
    }
   },
   "id": "d4d767e798cf2fe",
   "execution_count": 19
  },
  {
   "cell_type": "code",
   "outputs": [
    {
     "data": {
      "text/plain": "      ORDER_HEADER_SK  ORDER_HEADER_number  ORDER_HEADER_RETAILER_CODE  \\\n0                   1                 1153                         100   \n1                   2                 1154                         100   \n2                   3                 1155                         100   \n3                   4                 1156                         100   \n4                   5                 1157                         100   \n...               ...                  ...                         ...   \n4960             4961                 9430                          89   \n4961             4962                 9431                          89   \n4962             4963                 9447                          89   \n4963             4964                 9448                          89   \n4964             4965                 9449                          89   \n\n      ORDER_HEADER_SALES_STAFF_CODE  ORDER_HEADER_SALES_BRANCH_CODE  \\\n0                                54                               5   \n1                                54                               5   \n2                                52                               5   \n3                                52                               5   \n4                                54                               5   \n...                             ...                             ...   \n4960                             41                               3   \n4961                             41                               3   \n4962                             43                               3   \n4963                             41                               3   \n4964                             43                               3   \n\n     ORDER_HEADER_ORDER_DATE  ORDER_HEADER_RETAILER_SITE_CODE  \\\n0                 2020-04-14                              285   \n1                 2020-10-01                              285   \n2                 2020-04-21                              340   \n3                 2020-09-09                              340   \n4                 2020-04-10                              351   \n...                      ...                              ...   \n4960              2022-09-15                              225   \n4961              2022-12-02                              225   \n4962              2020-10-08                              225   \n4963              2021-10-14                              225   \n4964              2022-10-06                              225   \n\n      ORDER_HEADER_RETAILER_CONTACT_CODE  ORDER_HEADER_ORDER_order_number  \n0                                    349                                1  \n1                                    349                                2  \n2                                    355                                3  \n3                                    355                                4  \n4                                    356                                5  \n...                                  ...                              ...  \n4960                                 222                             5311  \n4961                                 222                             5312  \n4962                                 222                             5328  \n4963                                 222                             5329  \n4964                                 222                             5330  \n\n[4965 rows x 9 columns]",
      "text/html": "<div>\n<style scoped>\n    .dataframe tbody tr th:only-of-type {\n        vertical-align: middle;\n    }\n\n    .dataframe tbody tr th {\n        vertical-align: top;\n    }\n\n    .dataframe thead th {\n        text-align: right;\n    }\n</style>\n<table border=\"1\" class=\"dataframe\">\n  <thead>\n    <tr style=\"text-align: right;\">\n      <th></th>\n      <th>ORDER_HEADER_SK</th>\n      <th>ORDER_HEADER_number</th>\n      <th>ORDER_HEADER_RETAILER_CODE</th>\n      <th>ORDER_HEADER_SALES_STAFF_CODE</th>\n      <th>ORDER_HEADER_SALES_BRANCH_CODE</th>\n      <th>ORDER_HEADER_ORDER_DATE</th>\n      <th>ORDER_HEADER_RETAILER_SITE_CODE</th>\n      <th>ORDER_HEADER_RETAILER_CONTACT_CODE</th>\n      <th>ORDER_HEADER_ORDER_order_number</th>\n    </tr>\n  </thead>\n  <tbody>\n    <tr>\n      <th>0</th>\n      <td>1</td>\n      <td>1153</td>\n      <td>100</td>\n      <td>54</td>\n      <td>5</td>\n      <td>2020-04-14</td>\n      <td>285</td>\n      <td>349</td>\n      <td>1</td>\n    </tr>\n    <tr>\n      <th>1</th>\n      <td>2</td>\n      <td>1154</td>\n      <td>100</td>\n      <td>54</td>\n      <td>5</td>\n      <td>2020-10-01</td>\n      <td>285</td>\n      <td>349</td>\n      <td>2</td>\n    </tr>\n    <tr>\n      <th>2</th>\n      <td>3</td>\n      <td>1155</td>\n      <td>100</td>\n      <td>52</td>\n      <td>5</td>\n      <td>2020-04-21</td>\n      <td>340</td>\n      <td>355</td>\n      <td>3</td>\n    </tr>\n    <tr>\n      <th>3</th>\n      <td>4</td>\n      <td>1156</td>\n      <td>100</td>\n      <td>52</td>\n      <td>5</td>\n      <td>2020-09-09</td>\n      <td>340</td>\n      <td>355</td>\n      <td>4</td>\n    </tr>\n    <tr>\n      <th>4</th>\n      <td>5</td>\n      <td>1157</td>\n      <td>100</td>\n      <td>54</td>\n      <td>5</td>\n      <td>2020-04-10</td>\n      <td>351</td>\n      <td>356</td>\n      <td>5</td>\n    </tr>\n    <tr>\n      <th>...</th>\n      <td>...</td>\n      <td>...</td>\n      <td>...</td>\n      <td>...</td>\n      <td>...</td>\n      <td>...</td>\n      <td>...</td>\n      <td>...</td>\n      <td>...</td>\n    </tr>\n    <tr>\n      <th>4960</th>\n      <td>4961</td>\n      <td>9430</td>\n      <td>89</td>\n      <td>41</td>\n      <td>3</td>\n      <td>2022-09-15</td>\n      <td>225</td>\n      <td>222</td>\n      <td>5311</td>\n    </tr>\n    <tr>\n      <th>4961</th>\n      <td>4962</td>\n      <td>9431</td>\n      <td>89</td>\n      <td>41</td>\n      <td>3</td>\n      <td>2022-12-02</td>\n      <td>225</td>\n      <td>222</td>\n      <td>5312</td>\n    </tr>\n    <tr>\n      <th>4962</th>\n      <td>4963</td>\n      <td>9447</td>\n      <td>89</td>\n      <td>43</td>\n      <td>3</td>\n      <td>2020-10-08</td>\n      <td>225</td>\n      <td>222</td>\n      <td>5328</td>\n    </tr>\n    <tr>\n      <th>4963</th>\n      <td>4964</td>\n      <td>9448</td>\n      <td>89</td>\n      <td>41</td>\n      <td>3</td>\n      <td>2021-10-14</td>\n      <td>225</td>\n      <td>222</td>\n      <td>5329</td>\n    </tr>\n    <tr>\n      <th>4964</th>\n      <td>4965</td>\n      <td>9449</td>\n      <td>89</td>\n      <td>43</td>\n      <td>3</td>\n      <td>2022-10-06</td>\n      <td>225</td>\n      <td>222</td>\n      <td>5330</td>\n    </tr>\n  </tbody>\n</table>\n<p>4965 rows × 9 columns</p>\n</div>"
     },
     "execution_count": 20,
     "metadata": {},
     "output_type": "execute_result"
    }
   ],
   "source": [
    "order_header_query = \"SELECT * FROM Order_header WHERE CURRENT_VALUE = 1\"\n",
    "\n",
    "order_header_result = export_cursor.execute(order_header_query)\n",
    "order_header_fetch = order_header_result.fetchall()\n",
    "order_header_columns = [column[0] for column in order_header_result.description]\n",
    "order_header = pd.DataFrame.from_records(order_header_fetch, columns=order_header_columns)\n",
    "\n",
    "# dropping current value and last updated columns\n",
    "order_header = order_header.drop(columns=['CURRENT_VALUE', 'LAST_UPDATED'])\n",
    "\n",
    "order_header"
   ],
   "metadata": {
    "collapsed": false,
    "ExecuteTime": {
     "end_time": "2024-04-04T10:11:51.200270Z",
     "start_time": "2024-04-04T10:11:51.163324Z"
    }
   },
   "id": "7280bfe19753d6fe",
   "execution_count": 20
  },
  {
   "cell_type": "code",
   "outputs": [
    {
     "data": {
      "text/plain": "       ORDER_DETAILS_SK  ORDER_DETAILS_code  ORDER_DETAILS_QUANTITY_quantity  \\\n0                     1              100000                               16   \n1                     2              100001                               20   \n2                     3              100002                               24   \n3                     4              100003                               18   \n4                     5              100004                               20   \n...                 ...                 ...                              ...   \n43058             43059               99995                              146   \n43059             43060               99996                              172   \n43060             43061               99997                              192   \n43061             43062               99998                              192   \n43062             43063               99999                               22   \n\n      ORDER_DETAILS_TOTAL_COST_total ORDER_DETAILS_TOTAL_MARGIN_margin  \\\n0                           257.6000                          360.6400   \n1                           322.0000                          450.8000   \n2                           386.4000                          540.9600   \n3                           289.8000                          405.7200   \n4                           322.0000                          450.8000   \n...                              ...                               ...   \n43058                       402.9600                          810.3000   \n43059                       474.7200                          954.6000   \n43060                       529.9200                         1065.6000   \n43061                       529.9200                         1065.6000   \n43062                       354.2000                          495.8800   \n\n       ORDER_DETAILS_ORDER_NUMBER_order  ORDER_DETAILS_PRODUCT_NUMBER_product  \\\n0                                  4405                                   112   \n1                                  5008                                   112   \n2                                  4394                                   112   \n3                                  4396                                   112   \n4                                  4382                                   112   \n...                                 ...                                   ...   \n43058                              4402                                   111   \n43059                              4400                                   111   \n43060                              5148                                   111   \n43061                              4384                                   111   \n43062                              4383                                   112   \n\n       ORDER_DETAILS_UNIT_ID_unit  \n0                               1  \n1                               2  \n2                               3  \n3                               4  \n4                               5  \n...                           ...  \n43058                       43059  \n43059                       43060  \n43060                       43061  \n43061                       43062  \n43062                       43063  \n\n[43063 rows x 8 columns]",
      "text/html": "<div>\n<style scoped>\n    .dataframe tbody tr th:only-of-type {\n        vertical-align: middle;\n    }\n\n    .dataframe tbody tr th {\n        vertical-align: top;\n    }\n\n    .dataframe thead th {\n        text-align: right;\n    }\n</style>\n<table border=\"1\" class=\"dataframe\">\n  <thead>\n    <tr style=\"text-align: right;\">\n      <th></th>\n      <th>ORDER_DETAILS_SK</th>\n      <th>ORDER_DETAILS_code</th>\n      <th>ORDER_DETAILS_QUANTITY_quantity</th>\n      <th>ORDER_DETAILS_TOTAL_COST_total</th>\n      <th>ORDER_DETAILS_TOTAL_MARGIN_margin</th>\n      <th>ORDER_DETAILS_ORDER_NUMBER_order</th>\n      <th>ORDER_DETAILS_PRODUCT_NUMBER_product</th>\n      <th>ORDER_DETAILS_UNIT_ID_unit</th>\n    </tr>\n  </thead>\n  <tbody>\n    <tr>\n      <th>0</th>\n      <td>1</td>\n      <td>100000</td>\n      <td>16</td>\n      <td>257.6000</td>\n      <td>360.6400</td>\n      <td>4405</td>\n      <td>112</td>\n      <td>1</td>\n    </tr>\n    <tr>\n      <th>1</th>\n      <td>2</td>\n      <td>100001</td>\n      <td>20</td>\n      <td>322.0000</td>\n      <td>450.8000</td>\n      <td>5008</td>\n      <td>112</td>\n      <td>2</td>\n    </tr>\n    <tr>\n      <th>2</th>\n      <td>3</td>\n      <td>100002</td>\n      <td>24</td>\n      <td>386.4000</td>\n      <td>540.9600</td>\n      <td>4394</td>\n      <td>112</td>\n      <td>3</td>\n    </tr>\n    <tr>\n      <th>3</th>\n      <td>4</td>\n      <td>100003</td>\n      <td>18</td>\n      <td>289.8000</td>\n      <td>405.7200</td>\n      <td>4396</td>\n      <td>112</td>\n      <td>4</td>\n    </tr>\n    <tr>\n      <th>4</th>\n      <td>5</td>\n      <td>100004</td>\n      <td>20</td>\n      <td>322.0000</td>\n      <td>450.8000</td>\n      <td>4382</td>\n      <td>112</td>\n      <td>5</td>\n    </tr>\n    <tr>\n      <th>...</th>\n      <td>...</td>\n      <td>...</td>\n      <td>...</td>\n      <td>...</td>\n      <td>...</td>\n      <td>...</td>\n      <td>...</td>\n      <td>...</td>\n    </tr>\n    <tr>\n      <th>43058</th>\n      <td>43059</td>\n      <td>99995</td>\n      <td>146</td>\n      <td>402.9600</td>\n      <td>810.3000</td>\n      <td>4402</td>\n      <td>111</td>\n      <td>43059</td>\n    </tr>\n    <tr>\n      <th>43059</th>\n      <td>43060</td>\n      <td>99996</td>\n      <td>172</td>\n      <td>474.7200</td>\n      <td>954.6000</td>\n      <td>4400</td>\n      <td>111</td>\n      <td>43060</td>\n    </tr>\n    <tr>\n      <th>43060</th>\n      <td>43061</td>\n      <td>99997</td>\n      <td>192</td>\n      <td>529.9200</td>\n      <td>1065.6000</td>\n      <td>5148</td>\n      <td>111</td>\n      <td>43061</td>\n    </tr>\n    <tr>\n      <th>43061</th>\n      <td>43062</td>\n      <td>99998</td>\n      <td>192</td>\n      <td>529.9200</td>\n      <td>1065.6000</td>\n      <td>4384</td>\n      <td>111</td>\n      <td>43062</td>\n    </tr>\n    <tr>\n      <th>43062</th>\n      <td>43063</td>\n      <td>99999</td>\n      <td>22</td>\n      <td>354.2000</td>\n      <td>495.8800</td>\n      <td>4383</td>\n      <td>112</td>\n      <td>43063</td>\n    </tr>\n  </tbody>\n</table>\n<p>43063 rows × 8 columns</p>\n</div>"
     },
     "execution_count": 21,
     "metadata": {},
     "output_type": "execute_result"
    }
   ],
   "source": [
    "order_details_query = \"SELECT * FROM Order_details WHERE CURRENT_VALUE = 1\"\n",
    "\n",
    "order_details_result = export_cursor.execute(order_details_query)\n",
    "order_details_fetch = order_details_result.fetchall()\n",
    "order_details_columns = [column[0] for column in order_details_result.description]\n",
    "order_details = pd.DataFrame.from_records(order_details_fetch, columns=order_details_columns)\n",
    "\n",
    "# dropping current value and last updated columns\n",
    "order_details = order_details.drop(columns=['CURRENT_VALUE', 'LAST_UPDATED'])\n",
    "\n",
    "order_details"
   ],
   "metadata": {
    "collapsed": false,
    "ExecuteTime": {
     "end_time": "2024-04-04T10:11:51.588169Z",
     "start_time": "2024-04-04T10:11:51.201278Z"
    }
   },
   "id": "3c7db2486b2e6312",
   "execution_count": 21
  },
  {
   "cell_type": "code",
   "outputs": [
    {
     "data": {
      "text/plain": "       UNIT_SK  UNIT_id UNIT_COST_cost UNIT_PRICE_price UNIT_SALE_sale\n0            1        1        16.1000          22.5400        22.5400\n1            2        2        16.1000          22.5400        22.5400\n2            3        3        16.1000          22.5400        22.5400\n3            4        4        16.1000          22.5400        22.5400\n4            5        5        16.1000          22.5400        22.5400\n...        ...      ...            ...              ...            ...\n43058    43059    43059         2.7600           5.5500         5.5500\n43059    43060    43060         2.7600           5.5500         5.5500\n43060    43061    43061         2.7600           5.5500         5.5500\n43061    43062    43062         2.7600           5.5500         5.5500\n43062    43063    43063        16.1000          22.5400        22.5400\n\n[43063 rows x 5 columns]",
      "text/html": "<div>\n<style scoped>\n    .dataframe tbody tr th:only-of-type {\n        vertical-align: middle;\n    }\n\n    .dataframe tbody tr th {\n        vertical-align: top;\n    }\n\n    .dataframe thead th {\n        text-align: right;\n    }\n</style>\n<table border=\"1\" class=\"dataframe\">\n  <thead>\n    <tr style=\"text-align: right;\">\n      <th></th>\n      <th>UNIT_SK</th>\n      <th>UNIT_id</th>\n      <th>UNIT_COST_cost</th>\n      <th>UNIT_PRICE_price</th>\n      <th>UNIT_SALE_sale</th>\n    </tr>\n  </thead>\n  <tbody>\n    <tr>\n      <th>0</th>\n      <td>1</td>\n      <td>1</td>\n      <td>16.1000</td>\n      <td>22.5400</td>\n      <td>22.5400</td>\n    </tr>\n    <tr>\n      <th>1</th>\n      <td>2</td>\n      <td>2</td>\n      <td>16.1000</td>\n      <td>22.5400</td>\n      <td>22.5400</td>\n    </tr>\n    <tr>\n      <th>2</th>\n      <td>3</td>\n      <td>3</td>\n      <td>16.1000</td>\n      <td>22.5400</td>\n      <td>22.5400</td>\n    </tr>\n    <tr>\n      <th>3</th>\n      <td>4</td>\n      <td>4</td>\n      <td>16.1000</td>\n      <td>22.5400</td>\n      <td>22.5400</td>\n    </tr>\n    <tr>\n      <th>4</th>\n      <td>5</td>\n      <td>5</td>\n      <td>16.1000</td>\n      <td>22.5400</td>\n      <td>22.5400</td>\n    </tr>\n    <tr>\n      <th>...</th>\n      <td>...</td>\n      <td>...</td>\n      <td>...</td>\n      <td>...</td>\n      <td>...</td>\n    </tr>\n    <tr>\n      <th>43058</th>\n      <td>43059</td>\n      <td>43059</td>\n      <td>2.7600</td>\n      <td>5.5500</td>\n      <td>5.5500</td>\n    </tr>\n    <tr>\n      <th>43059</th>\n      <td>43060</td>\n      <td>43060</td>\n      <td>2.7600</td>\n      <td>5.5500</td>\n      <td>5.5500</td>\n    </tr>\n    <tr>\n      <th>43060</th>\n      <td>43061</td>\n      <td>43061</td>\n      <td>2.7600</td>\n      <td>5.5500</td>\n      <td>5.5500</td>\n    </tr>\n    <tr>\n      <th>43061</th>\n      <td>43062</td>\n      <td>43062</td>\n      <td>2.7600</td>\n      <td>5.5500</td>\n      <td>5.5500</td>\n    </tr>\n    <tr>\n      <th>43062</th>\n      <td>43063</td>\n      <td>43063</td>\n      <td>16.1000</td>\n      <td>22.5400</td>\n      <td>22.5400</td>\n    </tr>\n  </tbody>\n</table>\n<p>43063 rows × 5 columns</p>\n</div>"
     },
     "execution_count": 22,
     "metadata": {},
     "output_type": "execute_result"
    }
   ],
   "source": [
    "unit_query = \"SELECT * FROM Unit WHERE CURRENT_VALUE = 1\"\n",
    "\n",
    "unit_result = export_cursor.execute(unit_query)\n",
    "unit_fetch = unit_result.fetchall()\n",
    "unit_columns = [column[0] for column in unit_result.description]\n",
    "unit = pd.DataFrame.from_records(unit_fetch, columns=unit_columns)\n",
    "\n",
    "# dropping current value and last updated columns\n",
    "unit = unit.drop(columns=['CURRENT_VALUE', 'LAST_UPDATED'])\n",
    "\n",
    "unit"
   ],
   "metadata": {
    "collapsed": false,
    "ExecuteTime": {
     "end_time": "2024-04-04T10:11:51.924787Z",
     "start_time": "2024-04-04T10:11:51.589181Z"
    }
   },
   "id": "30b79de98a111b3",
   "execution_count": 22
  },
  {
   "cell_type": "code",
   "outputs": [
    {
     "data": {
      "text/plain": "     PRODUCT_SK  PRODUCT_number      PRODUCT_name_product  \\\n0             1               1       TrailChef Water Bag   \n1             2              10        TrailChef Utensils   \n2             3             100        Insect Bite Relief   \n3             4             101     Hailstorm Steel Irons   \n4             5             102  Hailstorm Titanium Irons   \n..          ...             ...                       ...   \n110         111              95                Sun Shield   \n111         112              96        Compact Relief Kit   \n112         113              97  Deluxe Family Relief Kit   \n113         114              98           Calamine Relief   \n114         115              99               Aloe Relief   \n\n                       PRODUCT_description_description PRODUCT_image_image  \\\n0    Lightweight, collapsible bag to carry liquids ...       P01CE1CG1.jpg   \n1    Spoon, fork and knife set made of a light yet ...       P10CE1CG1.jpg   \n2    The Insect Bite Relief helps the itching and s...     P100OP4FA17.jpg   \n3    Iron is 17-4 stainless steel.  Shafts are grap...     P101GE5IR18.jpg   \n4    Made entirely of pure titanium. The ultimate i...     P102GE5IR18.jpg   \n..                                                 ...                 ...   \n110  PABA free sunscreen, SPF 30, poison oak and iv...      P91OP4SS16.jpg   \n111  A personal first aid kit is recommended for ev...      P96OP4FA17.jpg   \n112  A complete medical kit suitable for families w...      P96OP4FA17.jpg   \n113  Use the Calamine Relief for allergic skin reac...      P98OP4FA17.jpg   \n114  Perfect for minor burns and sunburn, the aloe ...      P99OP4FA17.jpg   \n\n    PRODUCT_INTRODUCTION_DATE_introduced PRODUCT_PRODUCTION_COST_cost  \\\n0                             2011-02-15                       4.0000   \n1                             2011-02-15                      10.0000   \n2                             2011-02-15                       3.0000   \n3                             2019-12-15                     305.5400   \n4                             2019-10-12                     380.9500   \n..                                   ...                          ...   \n110                           2011-02-15                       3.0000   \n111                           2011-02-15                      16.4300   \n112                           2013-05-03                      25.0000   \n113                           2011-02-15                       3.0000   \n114                           2011-02-15                       2.0000   \n\n    PRODUCT_MARGIN_margin PRODUCT_LANGUAGE_language  \\\n0                  0.3300                        EN   \n1                  0.4000                        EN   \n2                  0.5000                        EN   \n3                  0.4300                        EN   \n4                  0.5100                        EN   \n..                    ...                       ...   \n110                0.5000                        EN   \n111                0.2800                        EN   \n112                0.2800                        EN   \n113                0.5000                        EN   \n114                0.6000                        EN   \n\n    PRODUCT_MINIMUM_SALE_PRICE_minPrice PRODUCT_PRODUCT_LINE_code  \\\n0                                4.3300                         1   \n1                               10.4000                         1   \n2                                3.5000                         4   \n3                              305.9700                         5   \n4                              381.4600                         5   \n..                                  ...                       ...   \n110                              3.5000                         4   \n111                             16.7100                         4   \n112                             25.2800                         4   \n113                              3.5000                         4   \n114                              2.6000                         4   \n\n    PRODUCT_PRODUCT_LINE_code_en PRODUCT_PRODUCT_TYPE_code  \\\n0              Camping Equipment                         1   \n1              Camping Equipment                         1   \n2             Outdoor Protection                        17   \n3                 Golf Equipment                        18   \n4                 Golf Equipment                        18   \n..                           ...                       ...   \n110           Outdoor Protection                        16   \n111           Outdoor Protection                        17   \n112           Outdoor Protection                        17   \n113           Outdoor Protection                        17   \n114           Outdoor Protection                        17   \n\n    PRODUCT_PRODUCT_TYPE_code_en  \n0                   Cooking Gear  \n1                   Cooking Gear  \n2                      First Aid  \n3                          Irons  \n4                          Irons  \n..                           ...  \n110                    Sunscreen  \n111                    First Aid  \n112                    First Aid  \n113                    First Aid  \n114                    First Aid  \n\n[115 rows x 14 columns]",
      "text/html": "<div>\n<style scoped>\n    .dataframe tbody tr th:only-of-type {\n        vertical-align: middle;\n    }\n\n    .dataframe tbody tr th {\n        vertical-align: top;\n    }\n\n    .dataframe thead th {\n        text-align: right;\n    }\n</style>\n<table border=\"1\" class=\"dataframe\">\n  <thead>\n    <tr style=\"text-align: right;\">\n      <th></th>\n      <th>PRODUCT_SK</th>\n      <th>PRODUCT_number</th>\n      <th>PRODUCT_name_product</th>\n      <th>PRODUCT_description_description</th>\n      <th>PRODUCT_image_image</th>\n      <th>PRODUCT_INTRODUCTION_DATE_introduced</th>\n      <th>PRODUCT_PRODUCTION_COST_cost</th>\n      <th>PRODUCT_MARGIN_margin</th>\n      <th>PRODUCT_LANGUAGE_language</th>\n      <th>PRODUCT_MINIMUM_SALE_PRICE_minPrice</th>\n      <th>PRODUCT_PRODUCT_LINE_code</th>\n      <th>PRODUCT_PRODUCT_LINE_code_en</th>\n      <th>PRODUCT_PRODUCT_TYPE_code</th>\n      <th>PRODUCT_PRODUCT_TYPE_code_en</th>\n    </tr>\n  </thead>\n  <tbody>\n    <tr>\n      <th>0</th>\n      <td>1</td>\n      <td>1</td>\n      <td>TrailChef Water Bag</td>\n      <td>Lightweight, collapsible bag to carry liquids ...</td>\n      <td>P01CE1CG1.jpg</td>\n      <td>2011-02-15</td>\n      <td>4.0000</td>\n      <td>0.3300</td>\n      <td>EN</td>\n      <td>4.3300</td>\n      <td>1</td>\n      <td>Camping Equipment</td>\n      <td>1</td>\n      <td>Cooking Gear</td>\n    </tr>\n    <tr>\n      <th>1</th>\n      <td>2</td>\n      <td>10</td>\n      <td>TrailChef Utensils</td>\n      <td>Spoon, fork and knife set made of a light yet ...</td>\n      <td>P10CE1CG1.jpg</td>\n      <td>2011-02-15</td>\n      <td>10.0000</td>\n      <td>0.4000</td>\n      <td>EN</td>\n      <td>10.4000</td>\n      <td>1</td>\n      <td>Camping Equipment</td>\n      <td>1</td>\n      <td>Cooking Gear</td>\n    </tr>\n    <tr>\n      <th>2</th>\n      <td>3</td>\n      <td>100</td>\n      <td>Insect Bite Relief</td>\n      <td>The Insect Bite Relief helps the itching and s...</td>\n      <td>P100OP4FA17.jpg</td>\n      <td>2011-02-15</td>\n      <td>3.0000</td>\n      <td>0.5000</td>\n      <td>EN</td>\n      <td>3.5000</td>\n      <td>4</td>\n      <td>Outdoor Protection</td>\n      <td>17</td>\n      <td>First Aid</td>\n    </tr>\n    <tr>\n      <th>3</th>\n      <td>4</td>\n      <td>101</td>\n      <td>Hailstorm Steel Irons</td>\n      <td>Iron is 17-4 stainless steel.  Shafts are grap...</td>\n      <td>P101GE5IR18.jpg</td>\n      <td>2019-12-15</td>\n      <td>305.5400</td>\n      <td>0.4300</td>\n      <td>EN</td>\n      <td>305.9700</td>\n      <td>5</td>\n      <td>Golf Equipment</td>\n      <td>18</td>\n      <td>Irons</td>\n    </tr>\n    <tr>\n      <th>4</th>\n      <td>5</td>\n      <td>102</td>\n      <td>Hailstorm Titanium Irons</td>\n      <td>Made entirely of pure titanium. The ultimate i...</td>\n      <td>P102GE5IR18.jpg</td>\n      <td>2019-10-12</td>\n      <td>380.9500</td>\n      <td>0.5100</td>\n      <td>EN</td>\n      <td>381.4600</td>\n      <td>5</td>\n      <td>Golf Equipment</td>\n      <td>18</td>\n      <td>Irons</td>\n    </tr>\n    <tr>\n      <th>...</th>\n      <td>...</td>\n      <td>...</td>\n      <td>...</td>\n      <td>...</td>\n      <td>...</td>\n      <td>...</td>\n      <td>...</td>\n      <td>...</td>\n      <td>...</td>\n      <td>...</td>\n      <td>...</td>\n      <td>...</td>\n      <td>...</td>\n      <td>...</td>\n    </tr>\n    <tr>\n      <th>110</th>\n      <td>111</td>\n      <td>95</td>\n      <td>Sun Shield</td>\n      <td>PABA free sunscreen, SPF 30, poison oak and iv...</td>\n      <td>P91OP4SS16.jpg</td>\n      <td>2011-02-15</td>\n      <td>3.0000</td>\n      <td>0.5000</td>\n      <td>EN</td>\n      <td>3.5000</td>\n      <td>4</td>\n      <td>Outdoor Protection</td>\n      <td>16</td>\n      <td>Sunscreen</td>\n    </tr>\n    <tr>\n      <th>111</th>\n      <td>112</td>\n      <td>96</td>\n      <td>Compact Relief Kit</td>\n      <td>A personal first aid kit is recommended for ev...</td>\n      <td>P96OP4FA17.jpg</td>\n      <td>2011-02-15</td>\n      <td>16.4300</td>\n      <td>0.2800</td>\n      <td>EN</td>\n      <td>16.7100</td>\n      <td>4</td>\n      <td>Outdoor Protection</td>\n      <td>17</td>\n      <td>First Aid</td>\n    </tr>\n    <tr>\n      <th>112</th>\n      <td>113</td>\n      <td>97</td>\n      <td>Deluxe Family Relief Kit</td>\n      <td>A complete medical kit suitable for families w...</td>\n      <td>P96OP4FA17.jpg</td>\n      <td>2013-05-03</td>\n      <td>25.0000</td>\n      <td>0.2800</td>\n      <td>EN</td>\n      <td>25.2800</td>\n      <td>4</td>\n      <td>Outdoor Protection</td>\n      <td>17</td>\n      <td>First Aid</td>\n    </tr>\n    <tr>\n      <th>113</th>\n      <td>114</td>\n      <td>98</td>\n      <td>Calamine Relief</td>\n      <td>Use the Calamine Relief for allergic skin reac...</td>\n      <td>P98OP4FA17.jpg</td>\n      <td>2011-02-15</td>\n      <td>3.0000</td>\n      <td>0.5000</td>\n      <td>EN</td>\n      <td>3.5000</td>\n      <td>4</td>\n      <td>Outdoor Protection</td>\n      <td>17</td>\n      <td>First Aid</td>\n    </tr>\n    <tr>\n      <th>114</th>\n      <td>115</td>\n      <td>99</td>\n      <td>Aloe Relief</td>\n      <td>Perfect for minor burns and sunburn, the aloe ...</td>\n      <td>P99OP4FA17.jpg</td>\n      <td>2011-02-15</td>\n      <td>2.0000</td>\n      <td>0.6000</td>\n      <td>EN</td>\n      <td>2.6000</td>\n      <td>4</td>\n      <td>Outdoor Protection</td>\n      <td>17</td>\n      <td>First Aid</td>\n    </tr>\n  </tbody>\n</table>\n<p>115 rows × 14 columns</p>\n</div>"
     },
     "execution_count": 23,
     "metadata": {},
     "output_type": "execute_result"
    }
   ],
   "source": [
    "product_query = \"SELECT * FROM Product WHERE CURRENT_VALUE = 1\"\n",
    "\n",
    "product_result = export_cursor.execute(product_query)\n",
    "product_fetch = product_result.fetchall()\n",
    "product_columns = [column[0] for column in product_result.description]\n",
    "product = pd.DataFrame.from_records(product_fetch, columns=product_columns)\n",
    "\n",
    "# dropping current value and last updated columns\n",
    "product = product.drop(columns=['CURRENT_VALUE', 'LAST_UPDATED'])\n",
    "\n",
    "product"
   ],
   "metadata": {
    "collapsed": false,
    "ExecuteTime": {
     "end_time": "2024-04-04T10:11:51.943953Z",
     "start_time": "2024-04-04T10:11:51.926794Z"
    }
   },
   "id": "8299b470d2018371",
   "execution_count": 23
  },
  {
   "cell_type": "markdown",
   "source": [
    "# Database connectie sluiten"
   ],
   "metadata": {
    "collapsed": false
   },
   "id": "2f93c3f6a4135ab5"
  },
  {
   "cell_type": "code",
   "outputs": [],
   "source": [
    "export_cursor.close()\n",
    "export_conn.close()"
   ],
   "metadata": {
    "collapsed": false
   },
   "id": "30f36c5cf7650a19"
  },
  {
   "cell_type": "markdown",
   "source": [
    "## De tabellen samenvoegen tot 1 dataframe"
   ],
   "metadata": {
    "collapsed": false
   },
   "id": "4889f531c73e2ed8"
  },
  {
   "cell_type": "code",
   "outputs": [
    {
     "data": {
      "text/plain": "       ORDER_HEADER_SK  ORDER_HEADER_number  ORDER_HEADER_RETAILER_CODE  \\\n0                    1                 1153                         100   \n1                    1                 1153                         100   \n2                    1                 1153                         100   \n3                    1                 1153                         100   \n4                    1                 1153                         100   \n...                ...                  ...                         ...   \n37788             4965                 9449                          89   \n37789             4965                 9449                          89   \n37790             4965                 9449                          89   \n37791             4965                 9449                          89   \n37792             4965                 9449                          89   \n\n       ORDER_HEADER_SALES_STAFF_CODE  ORDER_HEADER_SALES_BRANCH_CODE  \\\n0                                 54                               5   \n1                                 54                               5   \n2                                 54                               5   \n3                                 54                               5   \n4                                 54                               5   \n...                              ...                             ...   \n37788                             43                               3   \n37789                             43                               3   \n37790                             43                               3   \n37791                             43                               3   \n37792                             43                               3   \n\n      ORDER_HEADER_ORDER_DATE  ORDER_HEADER_RETAILER_SITE_CODE  \\\n0                  2020-04-14                              285   \n1                  2020-04-14                              285   \n2                  2020-04-14                              285   \n3                  2020-04-14                              285   \n4                  2020-04-14                              285   \n...                       ...                              ...   \n37788              2022-10-06                              225   \n37789              2022-10-06                              225   \n37790              2022-10-06                              225   \n37791              2022-10-06                              225   \n37792              2022-10-06                              225   \n\n       ORDER_HEADER_RETAILER_CONTACT_CODE  ORDER_HEADER_ORDER_order_number  \\\n0                                     349                                1   \n1                                     349                                1   \n2                                     349                                1   \n3                                     349                                1   \n4                                     349                                1   \n...                                   ...                              ...   \n37788                                 222                             5330   \n37789                                 222                             5330   \n37790                                 222                             5330   \n37791                                 222                             5330   \n37792                                 222                             5330   \n\n       ORDER_SK  ...  PRODUCT_image_image  \\\n0             1  ...        P02CE1CG1.jpg   \n1             1  ...        P32CE1LT5.jpg   \n2             1  ...        P35CE1LT5.jpg   \n3             1  ...        P36CE1LT5.jpg   \n4             1  ...        P39CE1LT5.jpg   \n...         ...  ...                  ...   \n37788      5330  ...       P64PA3WT10.jpg   \n37789      5330  ...       P65PA3WT10.jpg   \n37790      5330  ...       P86OP4IR15.jpg   \n37791      5330  ...      P109GE5PT20.jpg   \n37792      5330  ...      P110GE5PT20.jpg   \n\n       PRODUCT_INTRODUCTION_DATE_introduced PRODUCT_PRODUCTION_COST_cost  \\\n0                                2011-02-15                       9.2200   \n1                                2011-02-15                      16.6700   \n2                                2016-10-26                      17.7800   \n3                                2011-02-15                      18.0500   \n4                                2013-05-03                      40.6300   \n...                                     ...                          ...   \n37788                            2011-02-15                      20.0000   \n37789                            2013-05-03                      39.0000   \n37790                            2011-02-15                       2.0000   \n37791                            2019-10-12                      35.0000   \n37792                            2019-10-12                      60.0000   \n\n       PRODUCT_MARGIN_margin  PRODUCT_LANGUAGE_language  \\\n0                     0.2300                         EN   \n1                     0.3300                         EN   \n2                     0.2500                         EN   \n3                     0.4000                         EN   \n4                     0.3700                         EN   \n...                      ...                        ...   \n37788                 0.5000                         EN   \n37789                 0.5000                         EN   \n37790                 0.6700                         EN   \n37791                 0.4300                         EN   \n37792                 0.5000                         EN   \n\n       PRODUCT_MINIMUM_SALE_PRICE_minPrice PRODUCT_PRODUCT_LINE_code  \\\n0                                   9.4500                         1   \n1                                  17.0000                         1   \n2                                  18.0300                         1   \n3                                  18.4500                         1   \n4                                  41.0000                         1   \n...                                    ...                       ...   \n37788                              20.5000                         3   \n37789                              39.5000                         3   \n37790                               2.6700                         4   \n37791                              35.4300                         5   \n37792                              60.5000                         5   \n\n      PRODUCT_PRODUCT_LINE_code_en  PRODUCT_PRODUCT_TYPE_code  \\\n0                Camping Equipment                          1   \n1                Camping Equipment                          5   \n2                Camping Equipment                          5   \n3                Camping Equipment                          5   \n4                Camping Equipment                          5   \n...                            ...                        ...   \n37788         Personal Accessories                         10   \n37789         Personal Accessories                         10   \n37790           Outdoor Protection                         15   \n37791               Golf Equipment                         20   \n37792               Golf Equipment                         20   \n\n       PRODUCT_PRODUCT_TYPE_code_en  \n0                      Cooking Gear  \n1                          Lanterns  \n2                          Lanterns  \n3                          Lanterns  \n4                          Lanterns  \n...                             ...  \n37788                       Watches  \n37789                       Watches  \n37790             Insect Repellents  \n37791                       Putters  \n37792                       Putters  \n\n[37793 rows x 40 columns]",
      "text/html": "<div>\n<style scoped>\n    .dataframe tbody tr th:only-of-type {\n        vertical-align: middle;\n    }\n\n    .dataframe tbody tr th {\n        vertical-align: top;\n    }\n\n    .dataframe thead th {\n        text-align: right;\n    }\n</style>\n<table border=\"1\" class=\"dataframe\">\n  <thead>\n    <tr style=\"text-align: right;\">\n      <th></th>\n      <th>ORDER_HEADER_SK</th>\n      <th>ORDER_HEADER_number</th>\n      <th>ORDER_HEADER_RETAILER_CODE</th>\n      <th>ORDER_HEADER_SALES_STAFF_CODE</th>\n      <th>ORDER_HEADER_SALES_BRANCH_CODE</th>\n      <th>ORDER_HEADER_ORDER_DATE</th>\n      <th>ORDER_HEADER_RETAILER_SITE_CODE</th>\n      <th>ORDER_HEADER_RETAILER_CONTACT_CODE</th>\n      <th>ORDER_HEADER_ORDER_order_number</th>\n      <th>ORDER_SK</th>\n      <th>...</th>\n      <th>PRODUCT_image_image</th>\n      <th>PRODUCT_INTRODUCTION_DATE_introduced</th>\n      <th>PRODUCT_PRODUCTION_COST_cost</th>\n      <th>PRODUCT_MARGIN_margin</th>\n      <th>PRODUCT_LANGUAGE_language</th>\n      <th>PRODUCT_MINIMUM_SALE_PRICE_minPrice</th>\n      <th>PRODUCT_PRODUCT_LINE_code</th>\n      <th>PRODUCT_PRODUCT_LINE_code_en</th>\n      <th>PRODUCT_PRODUCT_TYPE_code</th>\n      <th>PRODUCT_PRODUCT_TYPE_code_en</th>\n    </tr>\n  </thead>\n  <tbody>\n    <tr>\n      <th>0</th>\n      <td>1</td>\n      <td>1153</td>\n      <td>100</td>\n      <td>54</td>\n      <td>5</td>\n      <td>2020-04-14</td>\n      <td>285</td>\n      <td>349</td>\n      <td>1</td>\n      <td>1</td>\n      <td>...</td>\n      <td>P02CE1CG1.jpg</td>\n      <td>2011-02-15</td>\n      <td>9.2200</td>\n      <td>0.2300</td>\n      <td>EN</td>\n      <td>9.4500</td>\n      <td>1</td>\n      <td>Camping Equipment</td>\n      <td>1</td>\n      <td>Cooking Gear</td>\n    </tr>\n    <tr>\n      <th>1</th>\n      <td>1</td>\n      <td>1153</td>\n      <td>100</td>\n      <td>54</td>\n      <td>5</td>\n      <td>2020-04-14</td>\n      <td>285</td>\n      <td>349</td>\n      <td>1</td>\n      <td>1</td>\n      <td>...</td>\n      <td>P32CE1LT5.jpg</td>\n      <td>2011-02-15</td>\n      <td>16.6700</td>\n      <td>0.3300</td>\n      <td>EN</td>\n      <td>17.0000</td>\n      <td>1</td>\n      <td>Camping Equipment</td>\n      <td>5</td>\n      <td>Lanterns</td>\n    </tr>\n    <tr>\n      <th>2</th>\n      <td>1</td>\n      <td>1153</td>\n      <td>100</td>\n      <td>54</td>\n      <td>5</td>\n      <td>2020-04-14</td>\n      <td>285</td>\n      <td>349</td>\n      <td>1</td>\n      <td>1</td>\n      <td>...</td>\n      <td>P35CE1LT5.jpg</td>\n      <td>2016-10-26</td>\n      <td>17.7800</td>\n      <td>0.2500</td>\n      <td>EN</td>\n      <td>18.0300</td>\n      <td>1</td>\n      <td>Camping Equipment</td>\n      <td>5</td>\n      <td>Lanterns</td>\n    </tr>\n    <tr>\n      <th>3</th>\n      <td>1</td>\n      <td>1153</td>\n      <td>100</td>\n      <td>54</td>\n      <td>5</td>\n      <td>2020-04-14</td>\n      <td>285</td>\n      <td>349</td>\n      <td>1</td>\n      <td>1</td>\n      <td>...</td>\n      <td>P36CE1LT5.jpg</td>\n      <td>2011-02-15</td>\n      <td>18.0500</td>\n      <td>0.4000</td>\n      <td>EN</td>\n      <td>18.4500</td>\n      <td>1</td>\n      <td>Camping Equipment</td>\n      <td>5</td>\n      <td>Lanterns</td>\n    </tr>\n    <tr>\n      <th>4</th>\n      <td>1</td>\n      <td>1153</td>\n      <td>100</td>\n      <td>54</td>\n      <td>5</td>\n      <td>2020-04-14</td>\n      <td>285</td>\n      <td>349</td>\n      <td>1</td>\n      <td>1</td>\n      <td>...</td>\n      <td>P39CE1LT5.jpg</td>\n      <td>2013-05-03</td>\n      <td>40.6300</td>\n      <td>0.3700</td>\n      <td>EN</td>\n      <td>41.0000</td>\n      <td>1</td>\n      <td>Camping Equipment</td>\n      <td>5</td>\n      <td>Lanterns</td>\n    </tr>\n    <tr>\n      <th>...</th>\n      <td>...</td>\n      <td>...</td>\n      <td>...</td>\n      <td>...</td>\n      <td>...</td>\n      <td>...</td>\n      <td>...</td>\n      <td>...</td>\n      <td>...</td>\n      <td>...</td>\n      <td>...</td>\n      <td>...</td>\n      <td>...</td>\n      <td>...</td>\n      <td>...</td>\n      <td>...</td>\n      <td>...</td>\n      <td>...</td>\n      <td>...</td>\n      <td>...</td>\n      <td>...</td>\n    </tr>\n    <tr>\n      <th>37788</th>\n      <td>4965</td>\n      <td>9449</td>\n      <td>89</td>\n      <td>43</td>\n      <td>3</td>\n      <td>2022-10-06</td>\n      <td>225</td>\n      <td>222</td>\n      <td>5330</td>\n      <td>5330</td>\n      <td>...</td>\n      <td>P64PA3WT10.jpg</td>\n      <td>2011-02-15</td>\n      <td>20.0000</td>\n      <td>0.5000</td>\n      <td>EN</td>\n      <td>20.5000</td>\n      <td>3</td>\n      <td>Personal Accessories</td>\n      <td>10</td>\n      <td>Watches</td>\n    </tr>\n    <tr>\n      <th>37789</th>\n      <td>4965</td>\n      <td>9449</td>\n      <td>89</td>\n      <td>43</td>\n      <td>3</td>\n      <td>2022-10-06</td>\n      <td>225</td>\n      <td>222</td>\n      <td>5330</td>\n      <td>5330</td>\n      <td>...</td>\n      <td>P65PA3WT10.jpg</td>\n      <td>2013-05-03</td>\n      <td>39.0000</td>\n      <td>0.5000</td>\n      <td>EN</td>\n      <td>39.5000</td>\n      <td>3</td>\n      <td>Personal Accessories</td>\n      <td>10</td>\n      <td>Watches</td>\n    </tr>\n    <tr>\n      <th>37790</th>\n      <td>4965</td>\n      <td>9449</td>\n      <td>89</td>\n      <td>43</td>\n      <td>3</td>\n      <td>2022-10-06</td>\n      <td>225</td>\n      <td>222</td>\n      <td>5330</td>\n      <td>5330</td>\n      <td>...</td>\n      <td>P86OP4IR15.jpg</td>\n      <td>2011-02-15</td>\n      <td>2.0000</td>\n      <td>0.6700</td>\n      <td>EN</td>\n      <td>2.6700</td>\n      <td>4</td>\n      <td>Outdoor Protection</td>\n      <td>15</td>\n      <td>Insect Repellents</td>\n    </tr>\n    <tr>\n      <th>37791</th>\n      <td>4965</td>\n      <td>9449</td>\n      <td>89</td>\n      <td>43</td>\n      <td>3</td>\n      <td>2022-10-06</td>\n      <td>225</td>\n      <td>222</td>\n      <td>5330</td>\n      <td>5330</td>\n      <td>...</td>\n      <td>P109GE5PT20.jpg</td>\n      <td>2019-10-12</td>\n      <td>35.0000</td>\n      <td>0.4300</td>\n      <td>EN</td>\n      <td>35.4300</td>\n      <td>5</td>\n      <td>Golf Equipment</td>\n      <td>20</td>\n      <td>Putters</td>\n    </tr>\n    <tr>\n      <th>37792</th>\n      <td>4965</td>\n      <td>9449</td>\n      <td>89</td>\n      <td>43</td>\n      <td>3</td>\n      <td>2022-10-06</td>\n      <td>225</td>\n      <td>222</td>\n      <td>5330</td>\n      <td>5330</td>\n      <td>...</td>\n      <td>P110GE5PT20.jpg</td>\n      <td>2019-10-12</td>\n      <td>60.0000</td>\n      <td>0.5000</td>\n      <td>EN</td>\n      <td>60.5000</td>\n      <td>5</td>\n      <td>Golf Equipment</td>\n      <td>20</td>\n      <td>Putters</td>\n    </tr>\n  </tbody>\n</table>\n<p>37793 rows × 40 columns</p>\n</div>"
     },
     "execution_count": 24,
     "metadata": {},
     "output_type": "execute_result"
    }
   ],
   "source": [
    "order_combined = pd.merge(order_header, order, left_on='ORDER_HEADER_ORDER_order_number', right_on='ORDER_SK')\n",
    "order_combined = pd.merge(order_combined, order_details, left_on='ORDER_SK', right_on='ORDER_DETAILS_ORDER_NUMBER_order')\n",
    "order_combined = pd.merge(order_combined, unit, left_on='ORDER_DETAILS_UNIT_ID_unit', right_on='UNIT_SK')\n",
    "order_combined = pd.merge(order_combined, product, left_on='ORDER_DETAILS_PRODUCT_NUMBER_product', right_on='PRODUCT_SK')\n",
    "\n",
    "order_combined"
   ],
   "metadata": {
    "collapsed": false,
    "ExecuteTime": {
     "end_time": "2024-04-04T10:11:52.032225Z",
     "start_time": "2024-04-04T10:11:51.944963Z"
    }
   },
   "id": "d63b03731f99acbb",
   "execution_count": 24
  },
  {
   "cell_type": "markdown",
   "source": [
    "# Data voorbereiden\n",
    "Om de verkopen te kunnen voorspellen, moeten we de data voorbereiden. We willen de verkopen voorspellen op basis van de orderdatum en een aantal orderdetails."
   ],
   "metadata": {
    "collapsed": false
   },
   "id": "d830366d69d2f631"
  },
  {
   "cell_type": "code",
   "outputs": [
    {
     "data": {
      "text/plain": "      ORDER_HEADER_ORDER_DATE  ORDER_ORDER_METHOD_CODE_method_code  \\\n0                  2020-04-14                                    7   \n1                  2020-04-14                                    7   \n2                  2020-04-14                                    7   \n3                  2020-04-14                                    7   \n4                  2020-04-14                                    7   \n...                       ...                                  ...   \n37788              2022-10-06                                    2   \n37789              2022-10-06                                    2   \n37790              2022-10-06                                    2   \n37791              2022-10-06                                    2   \n37792              2022-10-06                                    2   \n\n       ORDER_DETAILS_QUANTITY_quantity UNIT_PRICE_price UNIT_SALE_sale  \\\n0                                  100          12.5300        11.8100   \n1                                  254          27.3700        25.1000   \n2                                  114          26.5400        24.8200   \n3                                  130          34.9000        31.4400   \n4                                   74          67.7300        61.3800   \n...                                ...              ...            ...   \n37788                              120          40.0000        40.0000   \n37789                              146          78.0000        75.6900   \n37790                               66           6.0000         6.0000   \n37791                               70          63.0000        63.0000   \n37792                               36         120.0000       120.0000   \n\n       PRODUCT_number PRODUCT_INTRODUCTION_DATE_introduced  \\\n0                   2                           2011-02-15   \n1                  32                           2011-02-15   \n2                  35                           2016-10-26   \n3                  36                           2011-02-15   \n4                  39                           2013-05-03   \n...               ...                                  ...   \n37788              64                           2011-02-15   \n37789              65                           2013-05-03   \n37790              87                           2011-02-15   \n37791             109                           2019-10-12   \n37792             110                           2019-10-12   \n\n      PRODUCT_PRODUCT_LINE_code PRODUCT_PRODUCT_TYPE_code  \n0                             1                         1  \n1                             1                         5  \n2                             1                         5  \n3                             1                         5  \n4                             1                         5  \n...                         ...                       ...  \n37788                         3                        10  \n37789                         3                        10  \n37790                         4                        15  \n37791                         5                        20  \n37792                         5                        20  \n\n[37793 rows x 9 columns]",
      "text/html": "<div>\n<style scoped>\n    .dataframe tbody tr th:only-of-type {\n        vertical-align: middle;\n    }\n\n    .dataframe tbody tr th {\n        vertical-align: top;\n    }\n\n    .dataframe thead th {\n        text-align: right;\n    }\n</style>\n<table border=\"1\" class=\"dataframe\">\n  <thead>\n    <tr style=\"text-align: right;\">\n      <th></th>\n      <th>ORDER_HEADER_ORDER_DATE</th>\n      <th>ORDER_ORDER_METHOD_CODE_method_code</th>\n      <th>ORDER_DETAILS_QUANTITY_quantity</th>\n      <th>UNIT_PRICE_price</th>\n      <th>UNIT_SALE_sale</th>\n      <th>PRODUCT_number</th>\n      <th>PRODUCT_INTRODUCTION_DATE_introduced</th>\n      <th>PRODUCT_PRODUCT_LINE_code</th>\n      <th>PRODUCT_PRODUCT_TYPE_code</th>\n    </tr>\n  </thead>\n  <tbody>\n    <tr>\n      <th>0</th>\n      <td>2020-04-14</td>\n      <td>7</td>\n      <td>100</td>\n      <td>12.5300</td>\n      <td>11.8100</td>\n      <td>2</td>\n      <td>2011-02-15</td>\n      <td>1</td>\n      <td>1</td>\n    </tr>\n    <tr>\n      <th>1</th>\n      <td>2020-04-14</td>\n      <td>7</td>\n      <td>254</td>\n      <td>27.3700</td>\n      <td>25.1000</td>\n      <td>32</td>\n      <td>2011-02-15</td>\n      <td>1</td>\n      <td>5</td>\n    </tr>\n    <tr>\n      <th>2</th>\n      <td>2020-04-14</td>\n      <td>7</td>\n      <td>114</td>\n      <td>26.5400</td>\n      <td>24.8200</td>\n      <td>35</td>\n      <td>2016-10-26</td>\n      <td>1</td>\n      <td>5</td>\n    </tr>\n    <tr>\n      <th>3</th>\n      <td>2020-04-14</td>\n      <td>7</td>\n      <td>130</td>\n      <td>34.9000</td>\n      <td>31.4400</td>\n      <td>36</td>\n      <td>2011-02-15</td>\n      <td>1</td>\n      <td>5</td>\n    </tr>\n    <tr>\n      <th>4</th>\n      <td>2020-04-14</td>\n      <td>7</td>\n      <td>74</td>\n      <td>67.7300</td>\n      <td>61.3800</td>\n      <td>39</td>\n      <td>2013-05-03</td>\n      <td>1</td>\n      <td>5</td>\n    </tr>\n    <tr>\n      <th>...</th>\n      <td>...</td>\n      <td>...</td>\n      <td>...</td>\n      <td>...</td>\n      <td>...</td>\n      <td>...</td>\n      <td>...</td>\n      <td>...</td>\n      <td>...</td>\n    </tr>\n    <tr>\n      <th>37788</th>\n      <td>2022-10-06</td>\n      <td>2</td>\n      <td>120</td>\n      <td>40.0000</td>\n      <td>40.0000</td>\n      <td>64</td>\n      <td>2011-02-15</td>\n      <td>3</td>\n      <td>10</td>\n    </tr>\n    <tr>\n      <th>37789</th>\n      <td>2022-10-06</td>\n      <td>2</td>\n      <td>146</td>\n      <td>78.0000</td>\n      <td>75.6900</td>\n      <td>65</td>\n      <td>2013-05-03</td>\n      <td>3</td>\n      <td>10</td>\n    </tr>\n    <tr>\n      <th>37790</th>\n      <td>2022-10-06</td>\n      <td>2</td>\n      <td>66</td>\n      <td>6.0000</td>\n      <td>6.0000</td>\n      <td>87</td>\n      <td>2011-02-15</td>\n      <td>4</td>\n      <td>15</td>\n    </tr>\n    <tr>\n      <th>37791</th>\n      <td>2022-10-06</td>\n      <td>2</td>\n      <td>70</td>\n      <td>63.0000</td>\n      <td>63.0000</td>\n      <td>109</td>\n      <td>2019-10-12</td>\n      <td>5</td>\n      <td>20</td>\n    </tr>\n    <tr>\n      <th>37792</th>\n      <td>2022-10-06</td>\n      <td>2</td>\n      <td>36</td>\n      <td>120.0000</td>\n      <td>120.0000</td>\n      <td>110</td>\n      <td>2019-10-12</td>\n      <td>5</td>\n      <td>20</td>\n    </tr>\n  </tbody>\n</table>\n<p>37793 rows × 9 columns</p>\n</div>"
     },
     "execution_count": 25,
     "metadata": {},
     "output_type": "execute_result"
    }
   ],
   "source": [
    "# removing the sk columns\n",
    "sk_columns = order_combined.filter(like='SK').columns\n",
    "order_combined.drop(columns=sk_columns, inplace=True)\n",
    "\n",
    "# removing columns we won't need\n",
    "remove_columns = ['ORDER_HEADER_number', 'ORDER_HEADER_RETAILER_CODE', 'ORDER_HEADER_SALES_STAFF_CODE', 'ORDER_HEADER_SALES_BRANCH_CODE', 'ORDER_HEADER_RETAILER_SITE_CODE', 'ORDER_HEADER_RETAILER_CONTACT_CODE', 'ORDER_HEADER_ORDER_order_number', 'ORDER_order_number', 'ORDER_ORDER_METHOD_EN_method', 'ORDER_DETAILS_code', 'ORDER_DETAILS_ORDER_NUMBER_order', 'ORDER_DETAILS_PRODUCT_NUMBER_product', 'ORDER_DETAILS_UNIT_ID_unit', 'UNIT_id', 'PRODUCT_image_image', 'PRODUCT_PRODUCT_LINE_code_en', 'PRODUCT_PRODUCT_TYPE_code_en', 'PRODUCT_name_product', 'PRODUCT_description_description', 'PRODUCT_LANGUAGE_language', 'ORDER_DETAILS_TOTAL_COST_total', 'ORDER_DETAILS_TOTAL_MARGIN_margin', 'PRODUCT_PRODUCTION_COST_cost', 'PRODUCT_MARGIN_margin', 'PRODUCT_MINIMUM_SALE_PRICE_minPrice', 'UNIT_COST_cost']\n",
    "\n",
    "order_combined.drop(columns=remove_columns, inplace=True)\n",
    "\n",
    "order_combined"
   ],
   "metadata": {
    "collapsed": false,
    "ExecuteTime": {
     "end_time": "2024-04-04T10:11:52.063135Z",
     "start_time": "2024-04-04T10:11:52.033246Z"
    }
   },
   "id": "fe7421a0dc687167",
   "execution_count": 25
  },
  {
   "cell_type": "code",
   "outputs": [],
   "source": [
    "# converting the columns to the right data types\n",
    "order_combined['ORDER_HEADER_ORDER_DATE'] = pd.to_datetime(order_combined['ORDER_HEADER_ORDER_DATE'], format='%Y-%m-%d')\n",
    "order_combined['ORDER_ORDER_METHOD_CODE_method_code'] = order_combined['ORDER_DETAILS_QUANTITY_quantity'].astype(int)\n",
    "order_combined['ORDER_DETAILS_QUANTITY_quantity'] = order_combined['ORDER_DETAILS_QUANTITY_quantity'].astype(int)\n",
    "order_combined['UNIT_PRICE_price'] = order_combined['UNIT_PRICE_price'].astype(float)\n",
    "order_combined['UNIT_SALE_sale'] = order_combined['UNIT_SALE_sale'].astype(float)\n",
    "order_combined[ 'PRODUCT_number'] = order_combined[ 'PRODUCT_number'].astype(int)\n",
    "order_combined['PRODUCT_INTRODUCTION_DATE_introduced'] = pd.to_datetime(order_combined['PRODUCT_INTRODUCTION_DATE_introduced'], format='%Y-%m-%d')\n",
    "order_combined['PRODUCT_PRODUCT_LINE_code'] = order_combined['PRODUCT_PRODUCT_LINE_code'].astype(int)\n",
    "order_combined['PRODUCT_PRODUCT_TYPE_code'] = order_combined['PRODUCT_PRODUCT_TYPE_code'].astype(int)\n",
    "\n",
    "# Convert datetime objects to numeric representation\n",
    "order_combined['ORDER_HEADER_ORDER_DATE'] = order_combined['ORDER_HEADER_ORDER_DATE'].apply(lambda x: x.toordinal())\n",
    "order_combined['PRODUCT_INTRODUCTION_DATE_introduced'] = order_combined['PRODUCT_INTRODUCTION_DATE_introduced'].apply(lambda x: x.toordinal())"
   ],
   "metadata": {
    "collapsed": false,
    "ExecuteTime": {
     "end_time": "2024-04-04T10:11:52.206476Z",
     "start_time": "2024-04-04T10:11:52.064148Z"
    }
   },
   "id": "bab17fe388eb29f6",
   "execution_count": 26
  },
  {
   "cell_type": "markdown",
   "source": [
    "# Voorspellen\n",
    "We willen de ORDER_DETAILS_QUANTITY_quantity voorspellen op basis van de andere kolommen."
   ],
   "metadata": {
    "collapsed": false
   },
   "id": "a41a34aa22f5afde"
  },
  {
   "cell_type": "code",
   "outputs": [
    {
     "name": "stdout",
     "output_type": "stream",
     "text": [
      "Index(['ORDER_HEADER_ORDER_DATE', 'ORDER_ORDER_METHOD_CODE_method_code',\n",
      "       'UNIT_PRICE_price', 'UNIT_SALE_sale', 'PRODUCT_number',\n",
      "       'PRODUCT_INTRODUCTION_DATE_introduced', 'PRODUCT_PRODUCT_LINE_code',\n",
      "       'PRODUCT_PRODUCT_TYPE_code'],\n",
      "      dtype='object')\n"
     ]
    }
   ],
   "source": [
    "# split the data\n",
    "x = order_combined.drop(columns=['ORDER_DETAILS_QUANTITY_quantity'])\n",
    "y = order_combined['ORDER_DETAILS_QUANTITY_quantity']\n",
    "\n",
    "# split the data into training and testing data. Randomly so it changes every time\n",
    "x_train, x_test, y_train, y_test = train_test_split(x, y, test_size=0.2)\n",
    "\n",
    "print(x.columns)"
   ],
   "metadata": {
    "collapsed": false,
    "ExecuteTime": {
     "end_time": "2024-04-04T10:11:52.219057Z",
     "start_time": "2024-04-04T10:11:52.207485Z"
    }
   },
   "id": "bae939d8d51c29",
   "execution_count": 27
  },
  {
   "cell_type": "markdown",
   "source": [
    "## Regressie model trainen"
   ],
   "metadata": {
    "collapsed": false
   },
   "id": "72aec4421c07efa6"
  },
  {
   "cell_type": "code",
   "outputs": [],
   "source": [
    "# create the model\n",
    "model = LinearRegression()\n",
    "model.fit(x_train, y_train)\n",
    "\n",
    "# predict the test data\n",
    "y_pred = model.predict(x_test)"
   ],
   "metadata": {
    "collapsed": false,
    "ExecuteTime": {
     "end_time": "2024-04-04T10:11:52.282644Z",
     "start_time": "2024-04-04T10:11:52.221066Z"
    }
   },
   "id": "2a8e98b4523759f7",
   "execution_count": 28
  },
  {
   "cell_type": "code",
   "outputs": [
    {
     "data": {
      "text/plain": "<Figure size 640x480 with 1 Axes>",
      "image/png": "[encoded data removed]"
     },
     "metadata": {},
     "output_type": "display_data"
    }
   ],
   "source": [
    "# Scatter plot of actual test data vs predicted values\n",
    "plt.scatter(y_test, y_pred, color='blue', label='Predicted vs Actual')\n",
    "\n",
    "# Line of best fit\n",
    "m, b = np.polyfit(y_test, y_pred, 1)\n",
    "plt.plot(y_test, m*y_test + b, color='red', label='Line of Best Fit')\n",
    "\n",
    "plt.xlabel('Actual')\n",
    "plt.ylabel('Predicted')\n",
    "plt.title('Actual vs Predicted')\n",
    "plt.legend()\n",
    "\n",
    "# Show the plot\n",
    "plt.show()"
   ],
   "metadata": {
    "collapsed": false,
    "ExecuteTime": {
     "end_time": "2024-04-04T10:11:52.489845Z",
     "start_time": "2024-04-04T10:11:52.283656Z"
    }
   },
   "id": "a85853057f325133",
   "execution_count": 29
  },
  {
   "cell_type": "code",
   "outputs": [
    {
     "name": "stdout",
     "output_type": "stream",
     "text": [
      "Mean Squared Error: 9.579795735362859e-26\n",
      "Sum of Squared Error: 7.241367596360785e-22\n",
      "Mean Absolute Error: 2.514159449928234e-13\n"
     ]
    }
   ],
   "source": [
    "# Evaluate the model\n",
    "mse = mean_squared_error(y_test, y_pred)\n",
    "sse = mse * len(y_test)\n",
    "mae = np.mean(np.abs(y_test - y_pred))\n",
    "\n",
    "# way to low, idk how to fix this\n",
    "print('Mean Squared Error:', mse)\n",
    "print('Sum of Squared Error:', sse)\n",
    "print('Mean Absolute Error:', mae)"
   ],
   "metadata": {
    "collapsed": false,
    "ExecuteTime": {
     "end_time": "2024-04-04T10:11:52.495614Z",
     "start_time": "2024-04-04T10:11:52.490852Z"
    }
   },
   "id": "4541562d6293a93d",
   "execution_count": 30
  }
 ],
 "metadata": {
  "kernelspec": {
   "display_name": "Python 3",
   "language": "python",
   "name": "python3"
  },
  "language_info": {
   "codemirror_mode": {
    "name": "ipython",
    "version": 2
   },
   "file_extension": ".py",
   "mimetype": "text/x-python",
   "name": "python",
   "nbconvert_exporter": "python",
   "pygments_lexer": "ipython2",
   "version": "2.7.6"
  }
 },
 "nbformat": 4,
 "nbformat_minor": 5
}
