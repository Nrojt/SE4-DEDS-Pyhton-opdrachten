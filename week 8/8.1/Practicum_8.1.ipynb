{
 "cells": [
  {
   "cell_type": "markdown",
   "source": [
    "# Regressiemodellen"
   ],
   "metadata": {
    "collapsed": false
   },
   "id": "83def59703172eb4"
  },
  {
   "cell_type": "code",
   "outputs": [],
   "source": [
    "import pandas as pd\n",
    "from sklearn.linear_model import LinearRegression\n",
    "from sklearn.model_selection import train_test_split\n",
    "from sklearn.metrics import mean_squared_error\n",
    "import pyodbc\n",
    "import matplotlib.pyplot as plt\n",
    "import numpy as np"
   ],
   "metadata": {
    "collapsed": false,
    "ExecuteTime": {
     "end_time": "2024-04-03T13:55:37.378952Z",
     "start_time": "2024-04-03T13:55:35.502273Z"
    }
   },
   "id": "685129aa61058789",
   "execution_count": 1
  },
  {
   "cell_type": "markdown",
   "source": [
    "# Database connectie\n",
    "De data komt uit de datawarehouse."
   ],
   "metadata": {
    "collapsed": false
   },
   "id": "ce869e42dffa39f"
  },
  {
   "cell_type": "code",
   "outputs": [],
   "source": [
    "# database name\n",
    "DB = {\n",
    "    'servername': '(local)\\\\SQLEXPRESS',\n",
    "    'database': 'DEDS_DataWarehouse'}"
   ],
   "metadata": {
    "collapsed": false,
    "ExecuteTime": {
     "end_time": "2024-04-03T13:55:37.383843Z",
     "start_time": "2024-04-03T13:55:37.380014Z"
    }
   },
   "id": "e70367b9dc6ad957",
   "execution_count": 2
  },
  {
   "cell_type": "code",
   "outputs": [
    {
     "name": "stdout",
     "output_type": "stream",
     "text": [
      "Connection with database is established\n"
     ]
    }
   ],
   "source": [
    "export_conn = pyodbc.connect('DRIVER={SQL Server};SERVER=' + DB['servername'] + ';DATABASE=' + DB['database'] + ';Trusted_Connection=yes')\n",
    "\n",
    "\n",
    "# Create a cursor from the connection\n",
    "export_cursor = export_conn.cursor()\n",
    "\n",
    "# check if connection is successful, else throw an error\n",
    "if export_conn:\n",
    "    print(\"Connection with database is established\")\n",
    "else:\n",
    "    print(\"Connection with database is not established\")\n",
    "    raise Exception(\"Connection with database is not established\")"
   ],
   "metadata": {
    "collapsed": false,
    "ExecuteTime": {
     "end_time": "2024-04-03T13:55:37.498205Z",
     "start_time": "2024-04-03T13:55:37.384861Z"
    }
   },
   "id": "d8e513fe0c207351",
   "execution_count": 3
  },
  {
   "cell_type": "markdown",
   "source": [
    "# Tabellen inlezen\n",
    "We hebben de order_header, order_details en order tabellen nodig"
   ],
   "metadata": {
    "collapsed": false
   },
   "id": "bc2907ac48ad9d0"
  },
  {
   "cell_type": "code",
   "outputs": [
    {
     "data": {
      "text/plain": "      ORDER_SK  ORDER_order_number  ORDER_ORDER_METHOD_CODE_method_code  \\\n0            1                1153                                    7   \n1            2                1154                                    4   \n2            3                1155                                    7   \n3            4                1156                                    5   \n4            5                1157                                    2   \n...        ...                 ...                                  ...   \n5355      5356                9475                                    4   \n5356      5357                9476                                    5   \n5357      5358                9477                                    2   \n5358      5359                9478                                    7   \n5359      5360                9479                                    5   \n\n     ORDER_ORDER_METHOD_EN_method  \n0                     Sales visit  \n1                          E-mail  \n2                     Sales visit  \n3                             Web  \n4                       Telephone  \n...                           ...  \n5355                       E-mail  \n5356                          Web  \n5357                    Telephone  \n5358                  Sales visit  \n5359                          Web  \n\n[5360 rows x 4 columns]",
      "text/html": "<div>\n<style scoped>\n    .dataframe tbody tr th:only-of-type {\n        vertical-align: middle;\n    }\n\n    .dataframe tbody tr th {\n        vertical-align: top;\n    }\n\n    .dataframe thead th {\n        text-align: right;\n    }\n</style>\n<table border=\"1\" class=\"dataframe\">\n  <thead>\n    <tr style=\"text-align: right;\">\n      <th></th>\n      <th>ORDER_SK</th>\n      <th>ORDER_order_number</th>\n      <th>ORDER_ORDER_METHOD_CODE_method_code</th>\n      <th>ORDER_ORDER_METHOD_EN_method</th>\n    </tr>\n  </thead>\n  <tbody>\n    <tr>\n      <th>0</th>\n      <td>1</td>\n      <td>1153</td>\n      <td>7</td>\n      <td>Sales visit</td>\n    </tr>\n    <tr>\n      <th>1</th>\n      <td>2</td>\n      <td>1154</td>\n      <td>4</td>\n      <td>E-mail</td>\n    </tr>\n    <tr>\n      <th>2</th>\n      <td>3</td>\n      <td>1155</td>\n      <td>7</td>\n      <td>Sales visit</td>\n    </tr>\n    <tr>\n      <th>3</th>\n      <td>4</td>\n      <td>1156</td>\n      <td>5</td>\n      <td>Web</td>\n    </tr>\n    <tr>\n      <th>4</th>\n      <td>5</td>\n      <td>1157</td>\n      <td>2</td>\n      <td>Telephone</td>\n    </tr>\n    <tr>\n      <th>...</th>\n      <td>...</td>\n      <td>...</td>\n      <td>...</td>\n      <td>...</td>\n    </tr>\n    <tr>\n      <th>5355</th>\n      <td>5356</td>\n      <td>9475</td>\n      <td>4</td>\n      <td>E-mail</td>\n    </tr>\n    <tr>\n      <th>5356</th>\n      <td>5357</td>\n      <td>9476</td>\n      <td>5</td>\n      <td>Web</td>\n    </tr>\n    <tr>\n      <th>5357</th>\n      <td>5358</td>\n      <td>9477</td>\n      <td>2</td>\n      <td>Telephone</td>\n    </tr>\n    <tr>\n      <th>5358</th>\n      <td>5359</td>\n      <td>9478</td>\n      <td>7</td>\n      <td>Sales visit</td>\n    </tr>\n    <tr>\n      <th>5359</th>\n      <td>5360</td>\n      <td>9479</td>\n      <td>5</td>\n      <td>Web</td>\n    </tr>\n  </tbody>\n</table>\n<p>5360 rows × 4 columns</p>\n</div>"
     },
     "execution_count": 4,
     "metadata": {},
     "output_type": "execute_result"
    }
   ],
   "source": [
    "order_query = \"SELECT * FROM [Order]\"\n",
    "\n",
    "order_result = export_cursor.execute(order_query)\n",
    "order_fetch = order_result.fetchall()\n",
    "order_columns = [column[0] for column in order_result.description]\n",
    "order = pd.DataFrame.from_records(order_fetch, columns=order_columns)\n",
    "\n",
    "# dropping current value and last updated columns\n",
    "order = order.drop(columns=['CURRENT_VALUE', 'LAST_UPDATED'])\n",
    "\n",
    "order"
   ],
   "metadata": {
    "collapsed": false,
    "ExecuteTime": {
     "end_time": "2024-04-03T13:55:37.542463Z",
     "start_time": "2024-04-03T13:55:37.499215Z"
    }
   },
   "id": "d4d767e798cf2fe",
   "execution_count": 4
  },
  {
   "cell_type": "code",
   "outputs": [
    {
     "data": {
      "text/plain": "      ORDER_HEADER_SK  ORDER_HEADER_number  ORDER_HEADER_RETAILER_CODE  \\\n0                   1                 1153                         100   \n1                   2                 1154                         100   \n2                   3                 1155                         100   \n3                   4                 1156                         100   \n4                   5                 1157                         100   \n...               ...                  ...                         ...   \n4960             4961                 9430                          89   \n4961             4962                 9431                          89   \n4962             4963                 9447                          89   \n4963             4964                 9448                          89   \n4964             4965                 9449                          89   \n\n      ORDER_HEADER_SALES_STAFF_CODE  ORDER_HEADER_SALES_BRANCH_CODE  \\\n0                                54                               5   \n1                                54                               5   \n2                                52                               5   \n3                                52                               5   \n4                                54                               5   \n...                             ...                             ...   \n4960                             41                               3   \n4961                             41                               3   \n4962                             43                               3   \n4963                             41                               3   \n4964                             43                               3   \n\n     ORDER_HEADER_ORDER_DATE  ORDER_HEADER_RETAILER_SITE_CODE  \\\n0                 2020-04-14                              285   \n1                 2020-10-01                              285   \n2                 2020-04-21                              340   \n3                 2020-09-09                              340   \n4                 2020-04-10                              351   \n...                      ...                              ...   \n4960              2022-09-15                              225   \n4961              2022-12-02                              225   \n4962              2020-10-08                              225   \n4963              2021-10-14                              225   \n4964              2022-10-06                              225   \n\n      ORDER_HEADER_RETAILER_CONTACT_CODE  ORDER_HEADER_ORDER_order_number  \n0                                    349                                1  \n1                                    349                                2  \n2                                    355                                3  \n3                                    355                                4  \n4                                    356                                5  \n...                                  ...                              ...  \n4960                                 222                             5311  \n4961                                 222                             5312  \n4962                                 222                             5328  \n4963                                 222                             5329  \n4964                                 222                             5330  \n\n[4965 rows x 9 columns]",
      "text/html": "<div>\n<style scoped>\n    .dataframe tbody tr th:only-of-type {\n        vertical-align: middle;\n    }\n\n    .dataframe tbody tr th {\n        vertical-align: top;\n    }\n\n    .dataframe thead th {\n        text-align: right;\n    }\n</style>\n<table border=\"1\" class=\"dataframe\">\n  <thead>\n    <tr style=\"text-align: right;\">\n      <th></th>\n      <th>ORDER_HEADER_SK</th>\n      <th>ORDER_HEADER_number</th>\n      <th>ORDER_HEADER_RETAILER_CODE</th>\n      <th>ORDER_HEADER_SALES_STAFF_CODE</th>\n      <th>ORDER_HEADER_SALES_BRANCH_CODE</th>\n      <th>ORDER_HEADER_ORDER_DATE</th>\n      <th>ORDER_HEADER_RETAILER_SITE_CODE</th>\n      <th>ORDER_HEADER_RETAILER_CONTACT_CODE</th>\n      <th>ORDER_HEADER_ORDER_order_number</th>\n    </tr>\n  </thead>\n  <tbody>\n    <tr>\n      <th>0</th>\n      <td>1</td>\n      <td>1153</td>\n      <td>100</td>\n      <td>54</td>\n      <td>5</td>\n      <td>2020-04-14</td>\n      <td>285</td>\n      <td>349</td>\n      <td>1</td>\n    </tr>\n    <tr>\n      <th>1</th>\n      <td>2</td>\n      <td>1154</td>\n      <td>100</td>\n      <td>54</td>\n      <td>5</td>\n      <td>2020-10-01</td>\n      <td>285</td>\n      <td>349</td>\n      <td>2</td>\n    </tr>\n    <tr>\n      <th>2</th>\n      <td>3</td>\n      <td>1155</td>\n      <td>100</td>\n      <td>52</td>\n      <td>5</td>\n      <td>2020-04-21</td>\n      <td>340</td>\n      <td>355</td>\n      <td>3</td>\n    </tr>\n    <tr>\n      <th>3</th>\n      <td>4</td>\n      <td>1156</td>\n      <td>100</td>\n      <td>52</td>\n      <td>5</td>\n      <td>2020-09-09</td>\n      <td>340</td>\n      <td>355</td>\n      <td>4</td>\n    </tr>\n    <tr>\n      <th>4</th>\n      <td>5</td>\n      <td>1157</td>\n      <td>100</td>\n      <td>54</td>\n      <td>5</td>\n      <td>2020-04-10</td>\n      <td>351</td>\n      <td>356</td>\n      <td>5</td>\n    </tr>\n    <tr>\n      <th>...</th>\n      <td>...</td>\n      <td>...</td>\n      <td>...</td>\n      <td>...</td>\n      <td>...</td>\n      <td>...</td>\n      <td>...</td>\n      <td>...</td>\n      <td>...</td>\n    </tr>\n    <tr>\n      <th>4960</th>\n      <td>4961</td>\n      <td>9430</td>\n      <td>89</td>\n      <td>41</td>\n      <td>3</td>\n      <td>2022-09-15</td>\n      <td>225</td>\n      <td>222</td>\n      <td>5311</td>\n    </tr>\n    <tr>\n      <th>4961</th>\n      <td>4962</td>\n      <td>9431</td>\n      <td>89</td>\n      <td>41</td>\n      <td>3</td>\n      <td>2022-12-02</td>\n      <td>225</td>\n      <td>222</td>\n      <td>5312</td>\n    </tr>\n    <tr>\n      <th>4962</th>\n      <td>4963</td>\n      <td>9447</td>\n      <td>89</td>\n      <td>43</td>\n      <td>3</td>\n      <td>2020-10-08</td>\n      <td>225</td>\n      <td>222</td>\n      <td>5328</td>\n    </tr>\n    <tr>\n      <th>4963</th>\n      <td>4964</td>\n      <td>9448</td>\n      <td>89</td>\n      <td>41</td>\n      <td>3</td>\n      <td>2021-10-14</td>\n      <td>225</td>\n      <td>222</td>\n      <td>5329</td>\n    </tr>\n    <tr>\n      <th>4964</th>\n      <td>4965</td>\n      <td>9449</td>\n      <td>89</td>\n      <td>43</td>\n      <td>3</td>\n      <td>2022-10-06</td>\n      <td>225</td>\n      <td>222</td>\n      <td>5330</td>\n    </tr>\n  </tbody>\n</table>\n<p>4965 rows × 9 columns</p>\n</div>"
     },
     "execution_count": 5,
     "metadata": {},
     "output_type": "execute_result"
    }
   ],
   "source": [
    "order_header_query = \"SELECT * FROM Order_header\"\n",
    "\n",
    "order_header_result = export_cursor.execute(order_header_query)\n",
    "order_header_fetch = order_header_result.fetchall()\n",
    "order_header_columns = [column[0] for column in order_header_result.description]\n",
    "order_header = pd.DataFrame.from_records(order_header_fetch, columns=order_header_columns)\n",
    "\n",
    "# dropping current value and last updated columns\n",
    "order_header = order_header.drop(columns=['CURRENT_VALUE', 'LAST_UPDATED'])\n",
    "\n",
    "order_header"
   ],
   "metadata": {
    "collapsed": false,
    "ExecuteTime": {
     "end_time": "2024-04-03T13:55:37.581274Z",
     "start_time": "2024-04-03T13:55:37.543486Z"
    }
   },
   "id": "7280bfe19753d6fe",
   "execution_count": 5
  },
  {
   "cell_type": "code",
   "outputs": [
    {
     "data": {
      "text/plain": "     ORDER_DETAILS_SK  ORDER_DETAILS_code  ORDER_DETAILS_QUANTITY_quantity  \\\n0                   1              100146                               16   \n1                   2              100149                               64   \n2                   3              100199                               22   \n3                   4              100250                               52   \n4                   5              100641                                6   \n..                ...                 ...                              ...   \n701               702               99739                               16   \n702               703               99746                               34   \n703               704               99807                               70   \n704               705               99810                               54   \n705               706               99817                               42   \n\n    ORDER_DETAILS_TOTAL_COST_total ORDER_DETAILS_TOTAL_MARGIN_margin  \\\n0                        8072.6400                         9496.0000   \n1                          65.2800                          131.2000   \n2                         149.1600                          298.5400   \n3                        6578.5200                         9868.0400   \n4                         491.2200                         1080.7800   \n..                             ...                               ...   \n701                      8873.4400                        10031.0400   \n702                      2188.2400                         3063.0600   \n703                      1373.4000                         2060.8000   \n704                      1729.0800                         2766.9600   \n705                       883.2600                         1465.8000   \n\n    ORDER_DETAILS_RETURN_CODE_returned  ORDER_DETAILS_ORDER_NUMBER_order  \\\n0                                 1975                              4408   \n1                                 1976                              5013   \n2                                 1979                              5010   \n3                                 2298                              5135   \n4                                 2301                              5150   \n..                                 ...                               ...   \n701                               1974                              5131   \n702                               1977                              4387   \n703                               1980                              4383   \n704                               1981                              5132   \n705                               1982                              5008   \n\n     ORDER_DETAILS_PRODUCT_NUMBER_product  ORDER_DETAILS_UNIT_ID_unit  \n0                                      23                         144  \n1                                      24                         147  \n2                                      40                         197  \n3                                      54                         248  \n4                                      15                         635  \n..                                    ...                         ...  \n701                                    23                       42810  \n702                                    25                       42817  \n703                                    43                       42877  \n704                                    44                       42880  \n705                                    46                       42887  \n\n[706 rows x 9 columns]",
      "text/html": "<div>\n<style scoped>\n    .dataframe tbody tr th:only-of-type {\n        vertical-align: middle;\n    }\n\n    .dataframe tbody tr th {\n        vertical-align: top;\n    }\n\n    .dataframe thead th {\n        text-align: right;\n    }\n</style>\n<table border=\"1\" class=\"dataframe\">\n  <thead>\n    <tr style=\"text-align: right;\">\n      <th></th>\n      <th>ORDER_DETAILS_SK</th>\n      <th>ORDER_DETAILS_code</th>\n      <th>ORDER_DETAILS_QUANTITY_quantity</th>\n      <th>ORDER_DETAILS_TOTAL_COST_total</th>\n      <th>ORDER_DETAILS_TOTAL_MARGIN_margin</th>\n      <th>ORDER_DETAILS_RETURN_CODE_returned</th>\n      <th>ORDER_DETAILS_ORDER_NUMBER_order</th>\n      <th>ORDER_DETAILS_PRODUCT_NUMBER_product</th>\n      <th>ORDER_DETAILS_UNIT_ID_unit</th>\n    </tr>\n  </thead>\n  <tbody>\n    <tr>\n      <th>0</th>\n      <td>1</td>\n      <td>100146</td>\n      <td>16</td>\n      <td>8072.6400</td>\n      <td>9496.0000</td>\n      <td>1975</td>\n      <td>4408</td>\n      <td>23</td>\n      <td>144</td>\n    </tr>\n    <tr>\n      <th>1</th>\n      <td>2</td>\n      <td>100149</td>\n      <td>64</td>\n      <td>65.2800</td>\n      <td>131.2000</td>\n      <td>1976</td>\n      <td>5013</td>\n      <td>24</td>\n      <td>147</td>\n    </tr>\n    <tr>\n      <th>2</th>\n      <td>3</td>\n      <td>100199</td>\n      <td>22</td>\n      <td>149.1600</td>\n      <td>298.5400</td>\n      <td>1979</td>\n      <td>5010</td>\n      <td>40</td>\n      <td>197</td>\n    </tr>\n    <tr>\n      <th>3</th>\n      <td>4</td>\n      <td>100250</td>\n      <td>52</td>\n      <td>6578.5200</td>\n      <td>9868.0400</td>\n      <td>2298</td>\n      <td>5135</td>\n      <td>54</td>\n      <td>248</td>\n    </tr>\n    <tr>\n      <th>4</th>\n      <td>5</td>\n      <td>100641</td>\n      <td>6</td>\n      <td>491.2200</td>\n      <td>1080.7800</td>\n      <td>2301</td>\n      <td>5150</td>\n      <td>15</td>\n      <td>635</td>\n    </tr>\n    <tr>\n      <th>...</th>\n      <td>...</td>\n      <td>...</td>\n      <td>...</td>\n      <td>...</td>\n      <td>...</td>\n      <td>...</td>\n      <td>...</td>\n      <td>...</td>\n      <td>...</td>\n    </tr>\n    <tr>\n      <th>701</th>\n      <td>702</td>\n      <td>99739</td>\n      <td>16</td>\n      <td>8873.4400</td>\n      <td>10031.0400</td>\n      <td>1974</td>\n      <td>5131</td>\n      <td>23</td>\n      <td>42810</td>\n    </tr>\n    <tr>\n      <th>702</th>\n      <td>703</td>\n      <td>99746</td>\n      <td>34</td>\n      <td>2188.2400</td>\n      <td>3063.0600</td>\n      <td>1977</td>\n      <td>4387</td>\n      <td>25</td>\n      <td>42817</td>\n    </tr>\n    <tr>\n      <th>703</th>\n      <td>704</td>\n      <td>99807</td>\n      <td>70</td>\n      <td>1373.4000</td>\n      <td>2060.8000</td>\n      <td>1980</td>\n      <td>4383</td>\n      <td>43</td>\n      <td>42877</td>\n    </tr>\n    <tr>\n      <th>704</th>\n      <td>705</td>\n      <td>99810</td>\n      <td>54</td>\n      <td>1729.0800</td>\n      <td>2766.9600</td>\n      <td>1981</td>\n      <td>5132</td>\n      <td>44</td>\n      <td>42880</td>\n    </tr>\n    <tr>\n      <th>705</th>\n      <td>706</td>\n      <td>99817</td>\n      <td>42</td>\n      <td>883.2600</td>\n      <td>1465.8000</td>\n      <td>1982</td>\n      <td>5008</td>\n      <td>46</td>\n      <td>42887</td>\n    </tr>\n  </tbody>\n</table>\n<p>706 rows × 9 columns</p>\n</div>"
     },
     "execution_count": 6,
     "metadata": {},
     "output_type": "execute_result"
    }
   ],
   "source": [
    "order_details_query = \"SELECT * FROM Order_details\"\n",
    "\n",
    "order_details_result = export_cursor.execute(order_details_query)\n",
    "order_details_fetch = order_details_result.fetchall()\n",
    "order_details_columns = [column[0] for column in order_details_result.description]\n",
    "order_details = pd.DataFrame.from_records(order_details_fetch, columns=order_details_columns)\n",
    "\n",
    "# dropping current value and last updated columns\n",
    "order_details = order_details.drop(columns=['CURRENT_VALUE', 'LAST_UPDATED'])\n",
    "\n",
    "order_details"
   ],
   "metadata": {
    "collapsed": false,
    "ExecuteTime": {
     "end_time": "2024-04-03T13:55:37.602873Z",
     "start_time": "2024-04-03T13:55:37.582827Z"
    }
   },
   "id": "3c7db2486b2e6312",
   "execution_count": 6
  },
  {
   "cell_type": "code",
   "outputs": [
    {
     "data": {
      "text/plain": "       UNIT_SK  UNIT_id UNIT_COST_cost UNIT_PRICE_price UNIT_SALE_sale\n0            1        1        16.1000          22.5400        22.5400\n1            2        2        16.1000          22.5400        22.5400\n2            3        3        16.1000          22.5400        22.5400\n3            4        4        16.1000          22.5400        22.5400\n4            5        5        16.1000          22.5400        22.5400\n...        ...      ...            ...              ...            ...\n43058    43059    43059         2.7600           5.5500         5.5500\n43059    43060    43060         2.7600           5.5500         5.5500\n43060    43061    43061         2.7600           5.5500         5.5500\n43061    43062    43062         2.7600           5.5500         5.5500\n43062    43063    43063        16.1000          22.5400        22.5400\n\n[43063 rows x 5 columns]",
      "text/html": "<div>\n<style scoped>\n    .dataframe tbody tr th:only-of-type {\n        vertical-align: middle;\n    }\n\n    .dataframe tbody tr th {\n        vertical-align: top;\n    }\n\n    .dataframe thead th {\n        text-align: right;\n    }\n</style>\n<table border=\"1\" class=\"dataframe\">\n  <thead>\n    <tr style=\"text-align: right;\">\n      <th></th>\n      <th>UNIT_SK</th>\n      <th>UNIT_id</th>\n      <th>UNIT_COST_cost</th>\n      <th>UNIT_PRICE_price</th>\n      <th>UNIT_SALE_sale</th>\n    </tr>\n  </thead>\n  <tbody>\n    <tr>\n      <th>0</th>\n      <td>1</td>\n      <td>1</td>\n      <td>16.1000</td>\n      <td>22.5400</td>\n      <td>22.5400</td>\n    </tr>\n    <tr>\n      <th>1</th>\n      <td>2</td>\n      <td>2</td>\n      <td>16.1000</td>\n      <td>22.5400</td>\n      <td>22.5400</td>\n    </tr>\n    <tr>\n      <th>2</th>\n      <td>3</td>\n      <td>3</td>\n      <td>16.1000</td>\n      <td>22.5400</td>\n      <td>22.5400</td>\n    </tr>\n    <tr>\n      <th>3</th>\n      <td>4</td>\n      <td>4</td>\n      <td>16.1000</td>\n      <td>22.5400</td>\n      <td>22.5400</td>\n    </tr>\n    <tr>\n      <th>4</th>\n      <td>5</td>\n      <td>5</td>\n      <td>16.1000</td>\n      <td>22.5400</td>\n      <td>22.5400</td>\n    </tr>\n    <tr>\n      <th>...</th>\n      <td>...</td>\n      <td>...</td>\n      <td>...</td>\n      <td>...</td>\n      <td>...</td>\n    </tr>\n    <tr>\n      <th>43058</th>\n      <td>43059</td>\n      <td>43059</td>\n      <td>2.7600</td>\n      <td>5.5500</td>\n      <td>5.5500</td>\n    </tr>\n    <tr>\n      <th>43059</th>\n      <td>43060</td>\n      <td>43060</td>\n      <td>2.7600</td>\n      <td>5.5500</td>\n      <td>5.5500</td>\n    </tr>\n    <tr>\n      <th>43060</th>\n      <td>43061</td>\n      <td>43061</td>\n      <td>2.7600</td>\n      <td>5.5500</td>\n      <td>5.5500</td>\n    </tr>\n    <tr>\n      <th>43061</th>\n      <td>43062</td>\n      <td>43062</td>\n      <td>2.7600</td>\n      <td>5.5500</td>\n      <td>5.5500</td>\n    </tr>\n    <tr>\n      <th>43062</th>\n      <td>43063</td>\n      <td>43063</td>\n      <td>16.1000</td>\n      <td>22.5400</td>\n      <td>22.5400</td>\n    </tr>\n  </tbody>\n</table>\n<p>43063 rows × 5 columns</p>\n</div>"
     },
     "execution_count": 7,
     "metadata": {},
     "output_type": "execute_result"
    }
   ],
   "source": [
    "unit_query = \"SELECT * FROM Unit\"\n",
    "\n",
    "unit_result = export_cursor.execute(unit_query)\n",
    "unit_fetch = unit_result.fetchall()\n",
    "unit_columns = [column[0] for column in unit_result.description]\n",
    "unit = pd.DataFrame.from_records(unit_fetch, columns=unit_columns)\n",
    "\n",
    "# dropping current value and last updated columns\n",
    "unit = unit.drop(columns=['CURRENT_VALUE', 'LAST_UPDATED'])\n",
    "\n",
    "unit"
   ],
   "metadata": {
    "collapsed": false,
    "ExecuteTime": {
     "end_time": "2024-04-03T13:55:37.887276Z",
     "start_time": "2024-04-03T13:55:37.604881Z"
    }
   },
   "id": "30b79de98a111b3",
   "execution_count": 7
  },
  {
   "cell_type": "code",
   "outputs": [
    {
     "data": {
      "text/plain": "     PRODUCT_SK  PRODUCT_number      PRODUCT_name_product  \\\n0             1               1       TrailChef Water Bag   \n1             2              10        TrailChef Utensils   \n2             3             100        Insect Bite Relief   \n3             4             101     Hailstorm Steel Irons   \n4             5             102  Hailstorm Titanium Irons   \n..          ...             ...                       ...   \n110         111              95                Sun Shield   \n111         112              96        Compact Relief Kit   \n112         113              97  Deluxe Family Relief Kit   \n113         114              98           Calamine Relief   \n114         115              99               Aloe Relief   \n\n                       PRODUCT_description_description PRODUCT_image_image  \\\n0    Lightweight, collapsible bag to carry liquids ...       P01CE1CG1.jpg   \n1    Spoon, fork and knife set made of a light yet ...       P10CE1CG1.jpg   \n2    The Insect Bite Relief helps the itching and s...     P100OP4FA17.jpg   \n3    Iron is 17-4 stainless steel.  Shafts are grap...     P101GE5IR18.jpg   \n4    Made entirely of pure titanium. The ultimate i...     P102GE5IR18.jpg   \n..                                                 ...                 ...   \n110  PABA free sunscreen, SPF 30, poison oak and iv...      P91OP4SS16.jpg   \n111  A personal first aid kit is recommended for ev...      P96OP4FA17.jpg   \n112  A complete medical kit suitable for families w...      P96OP4FA17.jpg   \n113  Use the Calamine Relief for allergic skin reac...      P98OP4FA17.jpg   \n114  Perfect for minor burns and sunburn, the aloe ...      P99OP4FA17.jpg   \n\n    PRODUCT_INTRODUCTION_DATE_introduced PRODUCT_PRODUCTION_COST_cost  \\\n0                             2011-02-15                       4.0000   \n1                             2011-02-15                      10.0000   \n2                             2011-02-15                       3.0000   \n3                             2019-12-15                     305.5400   \n4                             2019-10-12                     380.9500   \n..                                   ...                          ...   \n110                           2011-02-15                       3.0000   \n111                           2011-02-15                      16.4300   \n112                           2013-05-03                      25.0000   \n113                           2011-02-15                       3.0000   \n114                           2011-02-15                       2.0000   \n\n    PRODUCT_MARGIN_margin PRODUCT_LANGUAGE_language  \\\n0                  0.3300                        EN   \n1                  0.4000                        EN   \n2                  0.5000                        EN   \n3                  0.4300                        EN   \n4                  0.5100                        EN   \n..                    ...                       ...   \n110                0.5000                        EN   \n111                0.2800                        EN   \n112                0.2800                        EN   \n113                0.5000                        EN   \n114                0.6000                        EN   \n\n    PRODUCT_MINIMUM_SALE_PRICE_minPrice PRODUCT_PRODUCT_LINE_code  \\\n0                                4.3300                         1   \n1                               10.4000                         1   \n2                                3.5000                         4   \n3                              305.9700                         5   \n4                              381.4600                         5   \n..                                  ...                       ...   \n110                              3.5000                         4   \n111                             16.7100                         4   \n112                             25.2800                         4   \n113                              3.5000                         4   \n114                              2.6000                         4   \n\n    PRODUCT_PRODUCT_LINE_code_en PRODUCT_PRODUCT_TYPE_code  \\\n0              Camping Equipment                         1   \n1              Camping Equipment                         1   \n2             Outdoor Protection                        17   \n3                 Golf Equipment                        18   \n4                 Golf Equipment                        18   \n..                           ...                       ...   \n110           Outdoor Protection                        16   \n111           Outdoor Protection                        17   \n112           Outdoor Protection                        17   \n113           Outdoor Protection                        17   \n114           Outdoor Protection                        17   \n\n    PRODUCT_PRODUCT_TYPE_code_en  \n0                   Cooking Gear  \n1                   Cooking Gear  \n2                      First Aid  \n3                          Irons  \n4                          Irons  \n..                           ...  \n110                    Sunscreen  \n111                    First Aid  \n112                    First Aid  \n113                    First Aid  \n114                    First Aid  \n\n[115 rows x 14 columns]",
      "text/html": "<div>\n<style scoped>\n    .dataframe tbody tr th:only-of-type {\n        vertical-align: middle;\n    }\n\n    .dataframe tbody tr th {\n        vertical-align: top;\n    }\n\n    .dataframe thead th {\n        text-align: right;\n    }\n</style>\n<table border=\"1\" class=\"dataframe\">\n  <thead>\n    <tr style=\"text-align: right;\">\n      <th></th>\n      <th>PRODUCT_SK</th>\n      <th>PRODUCT_number</th>\n      <th>PRODUCT_name_product</th>\n      <th>PRODUCT_description_description</th>\n      <th>PRODUCT_image_image</th>\n      <th>PRODUCT_INTRODUCTION_DATE_introduced</th>\n      <th>PRODUCT_PRODUCTION_COST_cost</th>\n      <th>PRODUCT_MARGIN_margin</th>\n      <th>PRODUCT_LANGUAGE_language</th>\n      <th>PRODUCT_MINIMUM_SALE_PRICE_minPrice</th>\n      <th>PRODUCT_PRODUCT_LINE_code</th>\n      <th>PRODUCT_PRODUCT_LINE_code_en</th>\n      <th>PRODUCT_PRODUCT_TYPE_code</th>\n      <th>PRODUCT_PRODUCT_TYPE_code_en</th>\n    </tr>\n  </thead>\n  <tbody>\n    <tr>\n      <th>0</th>\n      <td>1</td>\n      <td>1</td>\n      <td>TrailChef Water Bag</td>\n      <td>Lightweight, collapsible bag to carry liquids ...</td>\n      <td>P01CE1CG1.jpg</td>\n      <td>2011-02-15</td>\n      <td>4.0000</td>\n      <td>0.3300</td>\n      <td>EN</td>\n      <td>4.3300</td>\n      <td>1</td>\n      <td>Camping Equipment</td>\n      <td>1</td>\n      <td>Cooking Gear</td>\n    </tr>\n    <tr>\n      <th>1</th>\n      <td>2</td>\n      <td>10</td>\n      <td>TrailChef Utensils</td>\n      <td>Spoon, fork and knife set made of a light yet ...</td>\n      <td>P10CE1CG1.jpg</td>\n      <td>2011-02-15</td>\n      <td>10.0000</td>\n      <td>0.4000</td>\n      <td>EN</td>\n      <td>10.4000</td>\n      <td>1</td>\n      <td>Camping Equipment</td>\n      <td>1</td>\n      <td>Cooking Gear</td>\n    </tr>\n    <tr>\n      <th>2</th>\n      <td>3</td>\n      <td>100</td>\n      <td>Insect Bite Relief</td>\n      <td>The Insect Bite Relief helps the itching and s...</td>\n      <td>P100OP4FA17.jpg</td>\n      <td>2011-02-15</td>\n      <td>3.0000</td>\n      <td>0.5000</td>\n      <td>EN</td>\n      <td>3.5000</td>\n      <td>4</td>\n      <td>Outdoor Protection</td>\n      <td>17</td>\n      <td>First Aid</td>\n    </tr>\n    <tr>\n      <th>3</th>\n      <td>4</td>\n      <td>101</td>\n      <td>Hailstorm Steel Irons</td>\n      <td>Iron is 17-4 stainless steel.  Shafts are grap...</td>\n      <td>P101GE5IR18.jpg</td>\n      <td>2019-12-15</td>\n      <td>305.5400</td>\n      <td>0.4300</td>\n      <td>EN</td>\n      <td>305.9700</td>\n      <td>5</td>\n      <td>Golf Equipment</td>\n      <td>18</td>\n      <td>Irons</td>\n    </tr>\n    <tr>\n      <th>4</th>\n      <td>5</td>\n      <td>102</td>\n      <td>Hailstorm Titanium Irons</td>\n      <td>Made entirely of pure titanium. The ultimate i...</td>\n      <td>P102GE5IR18.jpg</td>\n      <td>2019-10-12</td>\n      <td>380.9500</td>\n      <td>0.5100</td>\n      <td>EN</td>\n      <td>381.4600</td>\n      <td>5</td>\n      <td>Golf Equipment</td>\n      <td>18</td>\n      <td>Irons</td>\n    </tr>\n    <tr>\n      <th>...</th>\n      <td>...</td>\n      <td>...</td>\n      <td>...</td>\n      <td>...</td>\n      <td>...</td>\n      <td>...</td>\n      <td>...</td>\n      <td>...</td>\n      <td>...</td>\n      <td>...</td>\n      <td>...</td>\n      <td>...</td>\n      <td>...</td>\n      <td>...</td>\n    </tr>\n    <tr>\n      <th>110</th>\n      <td>111</td>\n      <td>95</td>\n      <td>Sun Shield</td>\n      <td>PABA free sunscreen, SPF 30, poison oak and iv...</td>\n      <td>P91OP4SS16.jpg</td>\n      <td>2011-02-15</td>\n      <td>3.0000</td>\n      <td>0.5000</td>\n      <td>EN</td>\n      <td>3.5000</td>\n      <td>4</td>\n      <td>Outdoor Protection</td>\n      <td>16</td>\n      <td>Sunscreen</td>\n    </tr>\n    <tr>\n      <th>111</th>\n      <td>112</td>\n      <td>96</td>\n      <td>Compact Relief Kit</td>\n      <td>A personal first aid kit is recommended for ev...</td>\n      <td>P96OP4FA17.jpg</td>\n      <td>2011-02-15</td>\n      <td>16.4300</td>\n      <td>0.2800</td>\n      <td>EN</td>\n      <td>16.7100</td>\n      <td>4</td>\n      <td>Outdoor Protection</td>\n      <td>17</td>\n      <td>First Aid</td>\n    </tr>\n    <tr>\n      <th>112</th>\n      <td>113</td>\n      <td>97</td>\n      <td>Deluxe Family Relief Kit</td>\n      <td>A complete medical kit suitable for families w...</td>\n      <td>P96OP4FA17.jpg</td>\n      <td>2013-05-03</td>\n      <td>25.0000</td>\n      <td>0.2800</td>\n      <td>EN</td>\n      <td>25.2800</td>\n      <td>4</td>\n      <td>Outdoor Protection</td>\n      <td>17</td>\n      <td>First Aid</td>\n    </tr>\n    <tr>\n      <th>113</th>\n      <td>114</td>\n      <td>98</td>\n      <td>Calamine Relief</td>\n      <td>Use the Calamine Relief for allergic skin reac...</td>\n      <td>P98OP4FA17.jpg</td>\n      <td>2011-02-15</td>\n      <td>3.0000</td>\n      <td>0.5000</td>\n      <td>EN</td>\n      <td>3.5000</td>\n      <td>4</td>\n      <td>Outdoor Protection</td>\n      <td>17</td>\n      <td>First Aid</td>\n    </tr>\n    <tr>\n      <th>114</th>\n      <td>115</td>\n      <td>99</td>\n      <td>Aloe Relief</td>\n      <td>Perfect for minor burns and sunburn, the aloe ...</td>\n      <td>P99OP4FA17.jpg</td>\n      <td>2011-02-15</td>\n      <td>2.0000</td>\n      <td>0.6000</td>\n      <td>EN</td>\n      <td>2.6000</td>\n      <td>4</td>\n      <td>Outdoor Protection</td>\n      <td>17</td>\n      <td>First Aid</td>\n    </tr>\n  </tbody>\n</table>\n<p>115 rows × 14 columns</p>\n</div>"
     },
     "execution_count": 8,
     "metadata": {},
     "output_type": "execute_result"
    }
   ],
   "source": [
    "product_query = \"SELECT * FROM Product\"\n",
    "\n",
    "product_result = export_cursor.execute(product_query)\n",
    "product_fetch = product_result.fetchall()\n",
    "product_columns = [column[0] for column in product_result.description]\n",
    "product = pd.DataFrame.from_records(product_fetch, columns=product_columns)\n",
    "\n",
    "# dropping current value and last updated columns\n",
    "product = product.drop(columns=['CURRENT_VALUE', 'LAST_UPDATED'])\n",
    "\n",
    "product"
   ],
   "metadata": {
    "collapsed": false,
    "ExecuteTime": {
     "end_time": "2024-04-03T13:55:37.906236Z",
     "start_time": "2024-04-03T13:55:37.888280Z"
    }
   },
   "id": "8299b470d2018371",
   "execution_count": 8
  },
  {
   "cell_type": "markdown",
   "source": [
    "## De tabellen samenvoegen tot 1 dataframe"
   ],
   "metadata": {
    "collapsed": false
   },
   "id": "4889f531c73e2ed8"
  },
  {
   "cell_type": "code",
   "outputs": [
    {
     "data": {
      "text/plain": "     ORDER_HEADER_SK  ORDER_HEADER_number  ORDER_HEADER_RETAILER_CODE  \\\n0                8.0               1160.0                       102.0   \n1               14.0               1167.0                       105.0   \n2               49.0               1207.0                       107.0   \n3               59.0               1217.0                       102.0   \n4               61.0               1219.0                       102.0   \n..               ...                  ...                         ...   \n701              NaN                  NaN                         NaN   \n702              NaN                  NaN                         NaN   \n703              NaN                  NaN                         NaN   \n704              NaN                  NaN                         NaN   \n705              NaN                  NaN                         NaN   \n\n     ORDER_HEADER_SALES_STAFF_CODE  ORDER_HEADER_SALES_BRANCH_CODE  \\\n0                             55.0                             5.0   \n1                             54.0                             5.0   \n2                             49.0                             4.0   \n3                             47.0                             4.0   \n4                             46.0                             4.0   \n..                             ...                             ...   \n701                            NaN                             NaN   \n702                            NaN                             NaN   \n703                            NaN                             NaN   \n704                            NaN                             NaN   \n705                            NaN                             NaN   \n\n    ORDER_HEADER_ORDER_DATE  ORDER_HEADER_RETAILER_SITE_CODE  \\\n0                2020-09-28                            381.0   \n1                2020-03-14                             77.0   \n2                2020-04-04                            173.0   \n3                2021-03-26                             13.0   \n4                2021-03-29                             24.0   \n..                      ...                              ...   \n701                     NaN                              NaN   \n702                     NaN                              NaN   \n703                     NaN                              NaN   \n704                     NaN                              NaN   \n705                     NaN                              NaN   \n\n     ORDER_HEADER_RETAILER_CONTACT_CODE  ORDER_HEADER_ORDER_order_number  \\\n0                                 358.0                              8.0   \n1                                 364.0                             14.0   \n2                                 208.0                             49.0   \n3                                 128.0                             59.0   \n4                                 359.0                             61.0   \n..                                  ...                              ...   \n701                                 NaN                              NaN   \n702                                 NaN                              NaN   \n703                                 NaN                              NaN   \n704                                 NaN                              NaN   \n705                                 NaN                              NaN   \n\n     ORDER_SK  ...  PRODUCT_image_image  PRODUCT_INTRODUCTION_DATE_introduced  \\\n0           8  ...       P70PA3EW11.jpg                            2013-05-03   \n1          14  ...        P04CE1CG1.jpg                            2011-02-15   \n2          49  ...       P63PA3WT10.jpg                            2011-02-15   \n3          59  ...       P65PA3WT10.jpg                            2013-05-03   \n4          61  ...        P29CE1PK4.jpg                            2013-05-03   \n..        ...  ...                  ...                                   ...   \n701      5327  ...        P36CE1LT5.jpg                            2011-02-15   \n702      5348  ...       P91OP4SS16.jpg                            2011-02-15   \n703      5352  ...        P15CE1TN2.jpg                            2013-05-03   \n704      5358  ...        P40CE1LT5.jpg                            2011-02-15   \n705      5359  ...        P34CE1LT5.jpg                            2016-10-26   \n\n    PRODUCT_PRODUCTION_COST_cost  PRODUCT_MARGIN_margin  \\\n0                        80.0000                 0.3300   \n1                         5.0000                 0.2800   \n2                        30.0000                 0.3300   \n3                        39.0000                 0.5000   \n4                        41.1800                 0.4000   \n..                           ...                    ...   \n701                      18.0500                 0.4000   \n702                       2.0000                 0.6000   \n703                     490.0000                 0.3300   \n704                      17.9700                 0.2800   \n705                      28.1200                 0.3700   \n\n     PRODUCT_LANGUAGE_language  PRODUCT_MINIMUM_SALE_PRICE_minPrice  \\\n0                           EN                              80.3300   \n1                           EN                               5.2800   \n2                           EN                              30.3300   \n3                           EN                              39.5000   \n4                           EN                              41.5800   \n..                         ...                                  ...   \n701                         EN                              18.4500   \n702                         EN                               2.6000   \n703                         EN                             490.3300   \n704                         EN                              18.2500   \n705                         EN                              28.4900   \n\n    PRODUCT_PRODUCT_LINE_code PRODUCT_PRODUCT_LINE_code_en  \\\n0                           3         Personal Accessories   \n1                           1            Camping Equipment   \n2                           3         Personal Accessories   \n3                           3         Personal Accessories   \n4                           1            Camping Equipment   \n..                        ...                          ...   \n701                         1            Camping Equipment   \n702                         4           Outdoor Protection   \n703                         1            Camping Equipment   \n704                         1            Camping Equipment   \n705                         1            Camping Equipment   \n\n    PRODUCT_PRODUCT_TYPE_code  PRODUCT_PRODUCT_TYPE_code_en  \n0                          11                       Eyewear  \n1                           1                  Cooking Gear  \n2                          10                       Watches  \n3                          10                       Watches  \n4                           4                         Packs  \n..                        ...                           ...  \n701                         5                      Lanterns  \n702                        16                     Sunscreen  \n703                         2                         Tents  \n704                         5                      Lanterns  \n705                         5                      Lanterns  \n\n[706 rows x 41 columns]",
      "text/html": "<div>\n<style scoped>\n    .dataframe tbody tr th:only-of-type {\n        vertical-align: middle;\n    }\n\n    .dataframe tbody tr th {\n        vertical-align: top;\n    }\n\n    .dataframe thead th {\n        text-align: right;\n    }\n</style>\n<table border=\"1\" class=\"dataframe\">\n  <thead>\n    <tr style=\"text-align: right;\">\n      <th></th>\n      <th>ORDER_HEADER_SK</th>\n      <th>ORDER_HEADER_number</th>\n      <th>ORDER_HEADER_RETAILER_CODE</th>\n      <th>ORDER_HEADER_SALES_STAFF_CODE</th>\n      <th>ORDER_HEADER_SALES_BRANCH_CODE</th>\n      <th>ORDER_HEADER_ORDER_DATE</th>\n      <th>ORDER_HEADER_RETAILER_SITE_CODE</th>\n      <th>ORDER_HEADER_RETAILER_CONTACT_CODE</th>\n      <th>ORDER_HEADER_ORDER_order_number</th>\n      <th>ORDER_SK</th>\n      <th>...</th>\n      <th>PRODUCT_image_image</th>\n      <th>PRODUCT_INTRODUCTION_DATE_introduced</th>\n      <th>PRODUCT_PRODUCTION_COST_cost</th>\n      <th>PRODUCT_MARGIN_margin</th>\n      <th>PRODUCT_LANGUAGE_language</th>\n      <th>PRODUCT_MINIMUM_SALE_PRICE_minPrice</th>\n      <th>PRODUCT_PRODUCT_LINE_code</th>\n      <th>PRODUCT_PRODUCT_LINE_code_en</th>\n      <th>PRODUCT_PRODUCT_TYPE_code</th>\n      <th>PRODUCT_PRODUCT_TYPE_code_en</th>\n    </tr>\n  </thead>\n  <tbody>\n    <tr>\n      <th>0</th>\n      <td>8.0</td>\n      <td>1160.0</td>\n      <td>102.0</td>\n      <td>55.0</td>\n      <td>5.0</td>\n      <td>2020-09-28</td>\n      <td>381.0</td>\n      <td>358.0</td>\n      <td>8.0</td>\n      <td>8</td>\n      <td>...</td>\n      <td>P70PA3EW11.jpg</td>\n      <td>2013-05-03</td>\n      <td>80.0000</td>\n      <td>0.3300</td>\n      <td>EN</td>\n      <td>80.3300</td>\n      <td>3</td>\n      <td>Personal Accessories</td>\n      <td>11</td>\n      <td>Eyewear</td>\n    </tr>\n    <tr>\n      <th>1</th>\n      <td>14.0</td>\n      <td>1167.0</td>\n      <td>105.0</td>\n      <td>54.0</td>\n      <td>5.0</td>\n      <td>2020-03-14</td>\n      <td>77.0</td>\n      <td>364.0</td>\n      <td>14.0</td>\n      <td>14</td>\n      <td>...</td>\n      <td>P04CE1CG1.jpg</td>\n      <td>2011-02-15</td>\n      <td>5.0000</td>\n      <td>0.2800</td>\n      <td>EN</td>\n      <td>5.2800</td>\n      <td>1</td>\n      <td>Camping Equipment</td>\n      <td>1</td>\n      <td>Cooking Gear</td>\n    </tr>\n    <tr>\n      <th>2</th>\n      <td>49.0</td>\n      <td>1207.0</td>\n      <td>107.0</td>\n      <td>49.0</td>\n      <td>4.0</td>\n      <td>2020-04-04</td>\n      <td>173.0</td>\n      <td>208.0</td>\n      <td>49.0</td>\n      <td>49</td>\n      <td>...</td>\n      <td>P63PA3WT10.jpg</td>\n      <td>2011-02-15</td>\n      <td>30.0000</td>\n      <td>0.3300</td>\n      <td>EN</td>\n      <td>30.3300</td>\n      <td>3</td>\n      <td>Personal Accessories</td>\n      <td>10</td>\n      <td>Watches</td>\n    </tr>\n    <tr>\n      <th>3</th>\n      <td>59.0</td>\n      <td>1217.0</td>\n      <td>102.0</td>\n      <td>47.0</td>\n      <td>4.0</td>\n      <td>2021-03-26</td>\n      <td>13.0</td>\n      <td>128.0</td>\n      <td>59.0</td>\n      <td>59</td>\n      <td>...</td>\n      <td>P65PA3WT10.jpg</td>\n      <td>2013-05-03</td>\n      <td>39.0000</td>\n      <td>0.5000</td>\n      <td>EN</td>\n      <td>39.5000</td>\n      <td>3</td>\n      <td>Personal Accessories</td>\n      <td>10</td>\n      <td>Watches</td>\n    </tr>\n    <tr>\n      <th>4</th>\n      <td>61.0</td>\n      <td>1219.0</td>\n      <td>102.0</td>\n      <td>46.0</td>\n      <td>4.0</td>\n      <td>2021-03-29</td>\n      <td>24.0</td>\n      <td>359.0</td>\n      <td>61.0</td>\n      <td>61</td>\n      <td>...</td>\n      <td>P29CE1PK4.jpg</td>\n      <td>2013-05-03</td>\n      <td>41.1800</td>\n      <td>0.4000</td>\n      <td>EN</td>\n      <td>41.5800</td>\n      <td>1</td>\n      <td>Camping Equipment</td>\n      <td>4</td>\n      <td>Packs</td>\n    </tr>\n    <tr>\n      <th>...</th>\n      <td>...</td>\n      <td>...</td>\n      <td>...</td>\n      <td>...</td>\n      <td>...</td>\n      <td>...</td>\n      <td>...</td>\n      <td>...</td>\n      <td>...</td>\n      <td>...</td>\n      <td>...</td>\n      <td>...</td>\n      <td>...</td>\n      <td>...</td>\n      <td>...</td>\n      <td>...</td>\n      <td>...</td>\n      <td>...</td>\n      <td>...</td>\n      <td>...</td>\n      <td>...</td>\n    </tr>\n    <tr>\n      <th>701</th>\n      <td>NaN</td>\n      <td>NaN</td>\n      <td>NaN</td>\n      <td>NaN</td>\n      <td>NaN</td>\n      <td>NaN</td>\n      <td>NaN</td>\n      <td>NaN</td>\n      <td>NaN</td>\n      <td>5327</td>\n      <td>...</td>\n      <td>P36CE1LT5.jpg</td>\n      <td>2011-02-15</td>\n      <td>18.0500</td>\n      <td>0.4000</td>\n      <td>EN</td>\n      <td>18.4500</td>\n      <td>1</td>\n      <td>Camping Equipment</td>\n      <td>5</td>\n      <td>Lanterns</td>\n    </tr>\n    <tr>\n      <th>702</th>\n      <td>NaN</td>\n      <td>NaN</td>\n      <td>NaN</td>\n      <td>NaN</td>\n      <td>NaN</td>\n      <td>NaN</td>\n      <td>NaN</td>\n      <td>NaN</td>\n      <td>NaN</td>\n      <td>5348</td>\n      <td>...</td>\n      <td>P91OP4SS16.jpg</td>\n      <td>2011-02-15</td>\n      <td>2.0000</td>\n      <td>0.6000</td>\n      <td>EN</td>\n      <td>2.6000</td>\n      <td>4</td>\n      <td>Outdoor Protection</td>\n      <td>16</td>\n      <td>Sunscreen</td>\n    </tr>\n    <tr>\n      <th>703</th>\n      <td>NaN</td>\n      <td>NaN</td>\n      <td>NaN</td>\n      <td>NaN</td>\n      <td>NaN</td>\n      <td>NaN</td>\n      <td>NaN</td>\n      <td>NaN</td>\n      <td>NaN</td>\n      <td>5352</td>\n      <td>...</td>\n      <td>P15CE1TN2.jpg</td>\n      <td>2013-05-03</td>\n      <td>490.0000</td>\n      <td>0.3300</td>\n      <td>EN</td>\n      <td>490.3300</td>\n      <td>1</td>\n      <td>Camping Equipment</td>\n      <td>2</td>\n      <td>Tents</td>\n    </tr>\n    <tr>\n      <th>704</th>\n      <td>NaN</td>\n      <td>NaN</td>\n      <td>NaN</td>\n      <td>NaN</td>\n      <td>NaN</td>\n      <td>NaN</td>\n      <td>NaN</td>\n      <td>NaN</td>\n      <td>NaN</td>\n      <td>5358</td>\n      <td>...</td>\n      <td>P40CE1LT5.jpg</td>\n      <td>2011-02-15</td>\n      <td>17.9700</td>\n      <td>0.2800</td>\n      <td>EN</td>\n      <td>18.2500</td>\n      <td>1</td>\n      <td>Camping Equipment</td>\n      <td>5</td>\n      <td>Lanterns</td>\n    </tr>\n    <tr>\n      <th>705</th>\n      <td>NaN</td>\n      <td>NaN</td>\n      <td>NaN</td>\n      <td>NaN</td>\n      <td>NaN</td>\n      <td>NaN</td>\n      <td>NaN</td>\n      <td>NaN</td>\n      <td>NaN</td>\n      <td>5359</td>\n      <td>...</td>\n      <td>P34CE1LT5.jpg</td>\n      <td>2016-10-26</td>\n      <td>28.1200</td>\n      <td>0.3700</td>\n      <td>EN</td>\n      <td>28.4900</td>\n      <td>1</td>\n      <td>Camping Equipment</td>\n      <td>5</td>\n      <td>Lanterns</td>\n    </tr>\n  </tbody>\n</table>\n<p>706 rows × 41 columns</p>\n</div>"
     },
     "execution_count": 9,
     "metadata": {},
     "output_type": "execute_result"
    }
   ],
   "source": [
    "order_combined = pd.merge(order_header, order, left_on='ORDER_HEADER_ORDER_order_number', right_on='ORDER_SK')\n",
    "order_combined = pd.merge(order_combined, order_details, left_on='ORDER_SK', right_on='ORDER_DETAILS_ORDER_NUMBER_order')\n",
    "order_combined = pd.merge(order_combined, unit, left_on='ORDER_DETAILS_UNIT_ID_unit', right_on='UNIT_SK')\n",
    "order_combined = pd.merge(order_combined, product, left_on='ORDER_DETAILS_PRODUCT_NUMBER_product', right_on='PRODUCT_SK')\n",
    "\n",
    "order_combined"
   ],
   "metadata": {
    "collapsed": false,
    "ExecuteTime": {
     "end_time": "2024-04-03T13:55:37.930428Z",
     "start_time": "2024-04-03T13:55:37.907248Z"
    }
   },
   "id": "d63b03731f99acbb",
   "execution_count": 9
  },
  {
   "cell_type": "markdown",
   "source": [
    "# Data voorbereiden\n",
    "Om de verkopen te kunnen voorspellen, moeten we de data voorbereiden. We willen de verkopen voorspellen op basis van de orderdatum en een aantal orderdetails."
   ],
   "metadata": {
    "collapsed": false
   },
   "id": "d830366d69d2f631"
  },
  {
   "cell_type": "code",
   "outputs": [
    {
     "data": {
      "text/plain": "  ORDER_HEADER_ORDER_DATE  ORDER_ORDER_METHOD_CODE_method_code  \\\n0              2020-09-28                                    5   \n1              2020-03-14                                    7   \n2              2020-04-04                                    2   \n3              2021-03-26                                    4   \n4              2021-03-29                                    7   \n\n   ORDER_DETAILS_QUANTITY_quantity ORDER_DETAILS_TOTAL_COST_total  \\\n0                               24                      1963.2000   \n1                               84                       439.3200   \n2                               68                      2216.1200   \n3                               40                      1560.0000   \n4                              152                      6349.0400   \n\n  ORDER_DETAILS_TOTAL_MARGIN_margin UNIT_COST_cost UNIT_PRICE_price  \\\n0                         2944.8000        81.8000         122.7000   \n1                          571.2000         5.2300           7.3200   \n2                         3323.8400        32.5900          48.8800   \n3                         3120.0000        39.0000          78.0000   \n4                        10795.0400        41.7700          71.0200   \n\n  UNIT_SALE_sale  PRODUCT_number PRODUCT_INTRODUCTION_DATE_introduced  \\\n0       122.7000              70                           2013-05-03   \n1         6.8000               4                           2011-02-15   \n2        48.8800              63                           2011-02-15   \n3        78.0000              65                           2013-05-03   \n4        71.0200              29                           2013-05-03   \n\n  PRODUCT_PRODUCTION_COST_cost PRODUCT_MARGIN_margin  \\\n0                      80.0000                0.3300   \n1                       5.0000                0.2800   \n2                      30.0000                0.3300   \n3                      39.0000                0.5000   \n4                      41.1800                0.4000   \n\n  PRODUCT_MINIMUM_SALE_PRICE_minPrice PRODUCT_PRODUCT_LINE_code  \\\n0                             80.3300                         3   \n1                              5.2800                         1   \n2                             30.3300                         3   \n3                             39.5000                         3   \n4                             41.5800                         1   \n\n  PRODUCT_PRODUCT_TYPE_code  \n0                        11  \n1                         1  \n2                        10  \n3                        10  \n4                         4  ",
      "text/html": "<div>\n<style scoped>\n    .dataframe tbody tr th:only-of-type {\n        vertical-align: middle;\n    }\n\n    .dataframe tbody tr th {\n        vertical-align: top;\n    }\n\n    .dataframe thead th {\n        text-align: right;\n    }\n</style>\n<table border=\"1\" class=\"dataframe\">\n  <thead>\n    <tr style=\"text-align: right;\">\n      <th></th>\n      <th>ORDER_HEADER_ORDER_DATE</th>\n      <th>ORDER_ORDER_METHOD_CODE_method_code</th>\n      <th>ORDER_DETAILS_QUANTITY_quantity</th>\n      <th>ORDER_DETAILS_TOTAL_COST_total</th>\n      <th>ORDER_DETAILS_TOTAL_MARGIN_margin</th>\n      <th>UNIT_COST_cost</th>\n      <th>UNIT_PRICE_price</th>\n      <th>UNIT_SALE_sale</th>\n      <th>PRODUCT_number</th>\n      <th>PRODUCT_INTRODUCTION_DATE_introduced</th>\n      <th>PRODUCT_PRODUCTION_COST_cost</th>\n      <th>PRODUCT_MARGIN_margin</th>\n      <th>PRODUCT_MINIMUM_SALE_PRICE_minPrice</th>\n      <th>PRODUCT_PRODUCT_LINE_code</th>\n      <th>PRODUCT_PRODUCT_TYPE_code</th>\n    </tr>\n  </thead>\n  <tbody>\n    <tr>\n      <th>0</th>\n      <td>2020-09-28</td>\n      <td>5</td>\n      <td>24</td>\n      <td>1963.2000</td>\n      <td>2944.8000</td>\n      <td>81.8000</td>\n      <td>122.7000</td>\n      <td>122.7000</td>\n      <td>70</td>\n      <td>2013-05-03</td>\n      <td>80.0000</td>\n      <td>0.3300</td>\n      <td>80.3300</td>\n      <td>3</td>\n      <td>11</td>\n    </tr>\n    <tr>\n      <th>1</th>\n      <td>2020-03-14</td>\n      <td>7</td>\n      <td>84</td>\n      <td>439.3200</td>\n      <td>571.2000</td>\n      <td>5.2300</td>\n      <td>7.3200</td>\n      <td>6.8000</td>\n      <td>4</td>\n      <td>2011-02-15</td>\n      <td>5.0000</td>\n      <td>0.2800</td>\n      <td>5.2800</td>\n      <td>1</td>\n      <td>1</td>\n    </tr>\n    <tr>\n      <th>2</th>\n      <td>2020-04-04</td>\n      <td>2</td>\n      <td>68</td>\n      <td>2216.1200</td>\n      <td>3323.8400</td>\n      <td>32.5900</td>\n      <td>48.8800</td>\n      <td>48.8800</td>\n      <td>63</td>\n      <td>2011-02-15</td>\n      <td>30.0000</td>\n      <td>0.3300</td>\n      <td>30.3300</td>\n      <td>3</td>\n      <td>10</td>\n    </tr>\n    <tr>\n      <th>3</th>\n      <td>2021-03-26</td>\n      <td>4</td>\n      <td>40</td>\n      <td>1560.0000</td>\n      <td>3120.0000</td>\n      <td>39.0000</td>\n      <td>78.0000</td>\n      <td>78.0000</td>\n      <td>65</td>\n      <td>2013-05-03</td>\n      <td>39.0000</td>\n      <td>0.5000</td>\n      <td>39.5000</td>\n      <td>3</td>\n      <td>10</td>\n    </tr>\n    <tr>\n      <th>4</th>\n      <td>2021-03-29</td>\n      <td>7</td>\n      <td>152</td>\n      <td>6349.0400</td>\n      <td>10795.0400</td>\n      <td>41.7700</td>\n      <td>71.0200</td>\n      <td>71.0200</td>\n      <td>29</td>\n      <td>2013-05-03</td>\n      <td>41.1800</td>\n      <td>0.4000</td>\n      <td>41.5800</td>\n      <td>1</td>\n      <td>4</td>\n    </tr>\n  </tbody>\n</table>\n</div>"
     },
     "execution_count": 10,
     "metadata": {},
     "output_type": "execute_result"
    }
   ],
   "source": [
    "# removing the sk columns\n",
    "sk_columns = order_combined.filter(like='SK').columns\n",
    "order_combined.drop(columns=sk_columns, inplace=True)\n",
    "\n",
    "# removing columns we won't need\n",
    "remove_columns = ['ORDER_HEADER_number', 'ORDER_HEADER_RETAILER_CODE', 'ORDER_HEADER_SALES_STAFF_CODE', 'ORDER_HEADER_SALES_BRANCH_CODE', 'ORDER_HEADER_RETAILER_SITE_CODE', 'ORDER_HEADER_RETAILER_CONTACT_CODE', 'ORDER_HEADER_ORDER_order_number', 'ORDER_order_number', 'ORDER_ORDER_METHOD_EN_method', 'ORDER_DETAILS_code', 'ORDER_DETAILS_RETURN_CODE_returned', 'ORDER_DETAILS_ORDER_NUMBER_order', 'ORDER_DETAILS_PRODUCT_NUMBER_product', 'ORDER_DETAILS_UNIT_ID_unit', 'UNIT_id', 'PRODUCT_image_image', 'PRODUCT_PRODUCT_LINE_code_en', 'PRODUCT_PRODUCT_TYPE_code_en', 'PRODUCT_name_product', 'PRODUCT_description_description', 'PRODUCT_LANGUAGE_language']\n",
    "\n",
    "order_combined.drop(columns=remove_columns, inplace=True)\n",
    "\n",
    "order_combined.head()"
   ],
   "metadata": {
    "collapsed": false,
    "ExecuteTime": {
     "end_time": "2024-04-03T13:55:37.943560Z",
     "start_time": "2024-04-03T13:55:37.932440Z"
    }
   },
   "id": "fe7421a0dc687167",
   "execution_count": 10
  },
  {
   "cell_type": "code",
   "outputs": [
    {
     "ename": "ValueError",
     "evalue": "NaTType does not support toordinal",
     "output_type": "error",
     "traceback": [
      "\u001B[1;31m---------------------------------------------------------------------------\u001B[0m",
      "\u001B[1;31mValueError\u001B[0m                                Traceback (most recent call last)",
      "Cell \u001B[1;32mIn[11], line 19\u001B[0m\n\u001B[0;32m     16\u001B[0m order_combined[\u001B[38;5;124m'\u001B[39m\u001B[38;5;124mPRODUCT_PRODUCT_TYPE_code\u001B[39m\u001B[38;5;124m'\u001B[39m] \u001B[38;5;241m=\u001B[39m order_combined[\u001B[38;5;124m'\u001B[39m\u001B[38;5;124mPRODUCT_PRODUCT_TYPE_code\u001B[39m\u001B[38;5;124m'\u001B[39m]\u001B[38;5;241m.\u001B[39mastype(\u001B[38;5;28mint\u001B[39m)\n\u001B[0;32m     18\u001B[0m \u001B[38;5;66;03m# Convert datetime objects to numeric representation\u001B[39;00m\n\u001B[1;32m---> 19\u001B[0m order_combined[\u001B[38;5;124m'\u001B[39m\u001B[38;5;124mORDER_HEADER_ORDER_DATE\u001B[39m\u001B[38;5;124m'\u001B[39m] \u001B[38;5;241m=\u001B[39m \u001B[43morder_combined\u001B[49m\u001B[43m[\u001B[49m\u001B[38;5;124;43m'\u001B[39;49m\u001B[38;5;124;43mORDER_HEADER_ORDER_DATE\u001B[39;49m\u001B[38;5;124;43m'\u001B[39;49m\u001B[43m]\u001B[49m\u001B[38;5;241;43m.\u001B[39;49m\u001B[43mapply\u001B[49m\u001B[43m(\u001B[49m\u001B[38;5;28;43;01mlambda\u001B[39;49;00m\u001B[43m \u001B[49m\u001B[43mx\u001B[49m\u001B[43m:\u001B[49m\u001B[43m \u001B[49m\u001B[43mx\u001B[49m\u001B[38;5;241;43m.\u001B[39;49m\u001B[43mtoordinal\u001B[49m\u001B[43m(\u001B[49m\u001B[43m)\u001B[49m\u001B[43m)\u001B[49m\n\u001B[0;32m     20\u001B[0m order_combined[\u001B[38;5;124m'\u001B[39m\u001B[38;5;124mPRODUCT_INTRODUCTION_DATE_introduced\u001B[39m\u001B[38;5;124m'\u001B[39m] \u001B[38;5;241m=\u001B[39m order_combined[\u001B[38;5;124m'\u001B[39m\u001B[38;5;124mPRODUCT_INTRODUCTION_DATE_introduced\u001B[39m\u001B[38;5;124m'\u001B[39m]\u001B[38;5;241m.\u001B[39mapply(\u001B[38;5;28;01mlambda\u001B[39;00m x: x\u001B[38;5;241m.\u001B[39mtoordinal())\n",
      "File \u001B[1;32m~\\AppData\\Local\\pypoetry\\Cache\\virtualenvs\\pythonproject-FRZINkZ2-py3.12\\Lib\\site-packages\\pandas\\core\\series.py:4915\u001B[0m, in \u001B[0;36mSeries.apply\u001B[1;34m(self, func, convert_dtype, args, by_row, **kwargs)\u001B[0m\n\u001B[0;32m   4780\u001B[0m \u001B[38;5;28;01mdef\u001B[39;00m \u001B[38;5;21mapply\u001B[39m(\n\u001B[0;32m   4781\u001B[0m     \u001B[38;5;28mself\u001B[39m,\n\u001B[0;32m   4782\u001B[0m     func: AggFuncType,\n\u001B[1;32m   (...)\u001B[0m\n\u001B[0;32m   4787\u001B[0m     \u001B[38;5;241m*\u001B[39m\u001B[38;5;241m*\u001B[39mkwargs,\n\u001B[0;32m   4788\u001B[0m ) \u001B[38;5;241m-\u001B[39m\u001B[38;5;241m>\u001B[39m DataFrame \u001B[38;5;241m|\u001B[39m Series:\n\u001B[0;32m   4789\u001B[0m \u001B[38;5;250m    \u001B[39m\u001B[38;5;124;03m\"\"\"\u001B[39;00m\n\u001B[0;32m   4790\u001B[0m \u001B[38;5;124;03m    Invoke function on values of Series.\u001B[39;00m\n\u001B[0;32m   4791\u001B[0m \n\u001B[1;32m   (...)\u001B[0m\n\u001B[0;32m   4906\u001B[0m \u001B[38;5;124;03m    dtype: float64\u001B[39;00m\n\u001B[0;32m   4907\u001B[0m \u001B[38;5;124;03m    \"\"\"\u001B[39;00m\n\u001B[0;32m   4908\u001B[0m     \u001B[38;5;28;01mreturn\u001B[39;00m \u001B[43mSeriesApply\u001B[49m\u001B[43m(\u001B[49m\n\u001B[0;32m   4909\u001B[0m \u001B[43m        \u001B[49m\u001B[38;5;28;43mself\u001B[39;49m\u001B[43m,\u001B[49m\n\u001B[0;32m   4910\u001B[0m \u001B[43m        \u001B[49m\u001B[43mfunc\u001B[49m\u001B[43m,\u001B[49m\n\u001B[0;32m   4911\u001B[0m \u001B[43m        \u001B[49m\u001B[43mconvert_dtype\u001B[49m\u001B[38;5;241;43m=\u001B[39;49m\u001B[43mconvert_dtype\u001B[49m\u001B[43m,\u001B[49m\n\u001B[0;32m   4912\u001B[0m \u001B[43m        \u001B[49m\u001B[43mby_row\u001B[49m\u001B[38;5;241;43m=\u001B[39;49m\u001B[43mby_row\u001B[49m\u001B[43m,\u001B[49m\n\u001B[0;32m   4913\u001B[0m \u001B[43m        \u001B[49m\u001B[43margs\u001B[49m\u001B[38;5;241;43m=\u001B[39;49m\u001B[43margs\u001B[49m\u001B[43m,\u001B[49m\n\u001B[0;32m   4914\u001B[0m \u001B[43m        \u001B[49m\u001B[43mkwargs\u001B[49m\u001B[38;5;241;43m=\u001B[39;49m\u001B[43mkwargs\u001B[49m\u001B[43m,\u001B[49m\n\u001B[1;32m-> 4915\u001B[0m \u001B[43m    \u001B[49m\u001B[43m)\u001B[49m\u001B[38;5;241;43m.\u001B[39;49m\u001B[43mapply\u001B[49m\u001B[43m(\u001B[49m\u001B[43m)\u001B[49m\n",
      "File \u001B[1;32m~\\AppData\\Local\\pypoetry\\Cache\\virtualenvs\\pythonproject-FRZINkZ2-py3.12\\Lib\\site-packages\\pandas\\core\\apply.py:1427\u001B[0m, in \u001B[0;36mSeriesApply.apply\u001B[1;34m(self)\u001B[0m\n\u001B[0;32m   1424\u001B[0m     \u001B[38;5;28;01mreturn\u001B[39;00m \u001B[38;5;28mself\u001B[39m\u001B[38;5;241m.\u001B[39mapply_compat()\n\u001B[0;32m   1426\u001B[0m \u001B[38;5;66;03m# self.func is Callable\u001B[39;00m\n\u001B[1;32m-> 1427\u001B[0m \u001B[38;5;28;01mreturn\u001B[39;00m \u001B[38;5;28;43mself\u001B[39;49m\u001B[38;5;241;43m.\u001B[39;49m\u001B[43mapply_standard\u001B[49m\u001B[43m(\u001B[49m\u001B[43m)\u001B[49m\n",
      "File \u001B[1;32m~\\AppData\\Local\\pypoetry\\Cache\\virtualenvs\\pythonproject-FRZINkZ2-py3.12\\Lib\\site-packages\\pandas\\core\\apply.py:1507\u001B[0m, in \u001B[0;36mSeriesApply.apply_standard\u001B[1;34m(self)\u001B[0m\n\u001B[0;32m   1501\u001B[0m \u001B[38;5;66;03m# row-wise access\u001B[39;00m\n\u001B[0;32m   1502\u001B[0m \u001B[38;5;66;03m# apply doesn't have a `na_action` keyword and for backward compat reasons\u001B[39;00m\n\u001B[0;32m   1503\u001B[0m \u001B[38;5;66;03m# we need to give `na_action=\"ignore\"` for categorical data.\u001B[39;00m\n\u001B[0;32m   1504\u001B[0m \u001B[38;5;66;03m# TODO: remove the `na_action=\"ignore\"` when that default has been changed in\u001B[39;00m\n\u001B[0;32m   1505\u001B[0m \u001B[38;5;66;03m#  Categorical (GH51645).\u001B[39;00m\n\u001B[0;32m   1506\u001B[0m action \u001B[38;5;241m=\u001B[39m \u001B[38;5;124m\"\u001B[39m\u001B[38;5;124mignore\u001B[39m\u001B[38;5;124m\"\u001B[39m \u001B[38;5;28;01mif\u001B[39;00m \u001B[38;5;28misinstance\u001B[39m(obj\u001B[38;5;241m.\u001B[39mdtype, CategoricalDtype) \u001B[38;5;28;01melse\u001B[39;00m \u001B[38;5;28;01mNone\u001B[39;00m\n\u001B[1;32m-> 1507\u001B[0m mapped \u001B[38;5;241m=\u001B[39m \u001B[43mobj\u001B[49m\u001B[38;5;241;43m.\u001B[39;49m\u001B[43m_map_values\u001B[49m\u001B[43m(\u001B[49m\n\u001B[0;32m   1508\u001B[0m \u001B[43m    \u001B[49m\u001B[43mmapper\u001B[49m\u001B[38;5;241;43m=\u001B[39;49m\u001B[43mcurried\u001B[49m\u001B[43m,\u001B[49m\u001B[43m \u001B[49m\u001B[43mna_action\u001B[49m\u001B[38;5;241;43m=\u001B[39;49m\u001B[43maction\u001B[49m\u001B[43m,\u001B[49m\u001B[43m \u001B[49m\u001B[43mconvert\u001B[49m\u001B[38;5;241;43m=\u001B[39;49m\u001B[38;5;28;43mself\u001B[39;49m\u001B[38;5;241;43m.\u001B[39;49m\u001B[43mconvert_dtype\u001B[49m\n\u001B[0;32m   1509\u001B[0m \u001B[43m\u001B[49m\u001B[43m)\u001B[49m\n\u001B[0;32m   1511\u001B[0m \u001B[38;5;28;01mif\u001B[39;00m \u001B[38;5;28mlen\u001B[39m(mapped) \u001B[38;5;129;01mand\u001B[39;00m \u001B[38;5;28misinstance\u001B[39m(mapped[\u001B[38;5;241m0\u001B[39m], ABCSeries):\n\u001B[0;32m   1512\u001B[0m     \u001B[38;5;66;03m# GH#43986 Need to do list(mapped) in order to get treated as nested\u001B[39;00m\n\u001B[0;32m   1513\u001B[0m     \u001B[38;5;66;03m#  See also GH#25959 regarding EA support\u001B[39;00m\n\u001B[0;32m   1514\u001B[0m     \u001B[38;5;28;01mreturn\u001B[39;00m obj\u001B[38;5;241m.\u001B[39m_constructor_expanddim(\u001B[38;5;28mlist\u001B[39m(mapped), index\u001B[38;5;241m=\u001B[39mobj\u001B[38;5;241m.\u001B[39mindex)\n",
      "File \u001B[1;32m~\\AppData\\Local\\pypoetry\\Cache\\virtualenvs\\pythonproject-FRZINkZ2-py3.12\\Lib\\site-packages\\pandas\\core\\base.py:919\u001B[0m, in \u001B[0;36mIndexOpsMixin._map_values\u001B[1;34m(self, mapper, na_action, convert)\u001B[0m\n\u001B[0;32m    916\u001B[0m arr \u001B[38;5;241m=\u001B[39m \u001B[38;5;28mself\u001B[39m\u001B[38;5;241m.\u001B[39m_values\n\u001B[0;32m    918\u001B[0m \u001B[38;5;28;01mif\u001B[39;00m \u001B[38;5;28misinstance\u001B[39m(arr, ExtensionArray):\n\u001B[1;32m--> 919\u001B[0m     \u001B[38;5;28;01mreturn\u001B[39;00m \u001B[43marr\u001B[49m\u001B[38;5;241;43m.\u001B[39;49m\u001B[43mmap\u001B[49m\u001B[43m(\u001B[49m\u001B[43mmapper\u001B[49m\u001B[43m,\u001B[49m\u001B[43m \u001B[49m\u001B[43mna_action\u001B[49m\u001B[38;5;241;43m=\u001B[39;49m\u001B[43mna_action\u001B[49m\u001B[43m)\u001B[49m\n\u001B[0;32m    921\u001B[0m \u001B[38;5;28;01mreturn\u001B[39;00m algorithms\u001B[38;5;241m.\u001B[39mmap_array(arr, mapper, na_action\u001B[38;5;241m=\u001B[39mna_action, convert\u001B[38;5;241m=\u001B[39mconvert)\n",
      "File \u001B[1;32m~\\AppData\\Local\\pypoetry\\Cache\\virtualenvs\\pythonproject-FRZINkZ2-py3.12\\Lib\\site-packages\\pandas\\core\\arrays\\_mixins.py:81\u001B[0m, in \u001B[0;36mravel_compat.<locals>.method\u001B[1;34m(self, *args, **kwargs)\u001B[0m\n\u001B[0;32m     78\u001B[0m \u001B[38;5;129m@wraps\u001B[39m(meth)\n\u001B[0;32m     79\u001B[0m \u001B[38;5;28;01mdef\u001B[39;00m \u001B[38;5;21mmethod\u001B[39m(\u001B[38;5;28mself\u001B[39m, \u001B[38;5;241m*\u001B[39margs, \u001B[38;5;241m*\u001B[39m\u001B[38;5;241m*\u001B[39mkwargs):\n\u001B[0;32m     80\u001B[0m     \u001B[38;5;28;01mif\u001B[39;00m \u001B[38;5;28mself\u001B[39m\u001B[38;5;241m.\u001B[39mndim \u001B[38;5;241m==\u001B[39m \u001B[38;5;241m1\u001B[39m:\n\u001B[1;32m---> 81\u001B[0m         \u001B[38;5;28;01mreturn\u001B[39;00m \u001B[43mmeth\u001B[49m\u001B[43m(\u001B[49m\u001B[38;5;28;43mself\u001B[39;49m\u001B[43m,\u001B[49m\u001B[43m \u001B[49m\u001B[38;5;241;43m*\u001B[39;49m\u001B[43margs\u001B[49m\u001B[43m,\u001B[49m\u001B[43m \u001B[49m\u001B[38;5;241;43m*\u001B[39;49m\u001B[38;5;241;43m*\u001B[39;49m\u001B[43mkwargs\u001B[49m\u001B[43m)\u001B[49m\n\u001B[0;32m     83\u001B[0m     flags \u001B[38;5;241m=\u001B[39m \u001B[38;5;28mself\u001B[39m\u001B[38;5;241m.\u001B[39m_ndarray\u001B[38;5;241m.\u001B[39mflags\n\u001B[0;32m     84\u001B[0m     flat \u001B[38;5;241m=\u001B[39m \u001B[38;5;28mself\u001B[39m\u001B[38;5;241m.\u001B[39mravel(\u001B[38;5;124m\"\u001B[39m\u001B[38;5;124mK\u001B[39m\u001B[38;5;124m\"\u001B[39m)\n",
      "File \u001B[1;32m~\\AppData\\Local\\pypoetry\\Cache\\virtualenvs\\pythonproject-FRZINkZ2-py3.12\\Lib\\site-packages\\pandas\\core\\arrays\\datetimelike.py:738\u001B[0m, in \u001B[0;36mDatetimeLikeArrayMixin.map\u001B[1;34m(self, mapper, na_action)\u001B[0m\n\u001B[0;32m    734\u001B[0m \u001B[38;5;129m@ravel_compat\u001B[39m\n\u001B[0;32m    735\u001B[0m \u001B[38;5;28;01mdef\u001B[39;00m \u001B[38;5;21mmap\u001B[39m(\u001B[38;5;28mself\u001B[39m, mapper, na_action\u001B[38;5;241m=\u001B[39m\u001B[38;5;28;01mNone\u001B[39;00m):\n\u001B[0;32m    736\u001B[0m     \u001B[38;5;28;01mfrom\u001B[39;00m \u001B[38;5;21;01mpandas\u001B[39;00m \u001B[38;5;28;01mimport\u001B[39;00m Index\n\u001B[1;32m--> 738\u001B[0m     result \u001B[38;5;241m=\u001B[39m \u001B[43mmap_array\u001B[49m\u001B[43m(\u001B[49m\u001B[38;5;28;43mself\u001B[39;49m\u001B[43m,\u001B[49m\u001B[43m \u001B[49m\u001B[43mmapper\u001B[49m\u001B[43m,\u001B[49m\u001B[43m \u001B[49m\u001B[43mna_action\u001B[49m\u001B[38;5;241;43m=\u001B[39;49m\u001B[43mna_action\u001B[49m\u001B[43m)\u001B[49m\n\u001B[0;32m    739\u001B[0m     result \u001B[38;5;241m=\u001B[39m Index(result)\n\u001B[0;32m    741\u001B[0m     \u001B[38;5;28;01mif\u001B[39;00m \u001B[38;5;28misinstance\u001B[39m(result, ABCMultiIndex):\n",
      "File \u001B[1;32m~\\AppData\\Local\\pypoetry\\Cache\\virtualenvs\\pythonproject-FRZINkZ2-py3.12\\Lib\\site-packages\\pandas\\core\\algorithms.py:1743\u001B[0m, in \u001B[0;36mmap_array\u001B[1;34m(arr, mapper, na_action, convert)\u001B[0m\n\u001B[0;32m   1741\u001B[0m values \u001B[38;5;241m=\u001B[39m arr\u001B[38;5;241m.\u001B[39mastype(\u001B[38;5;28mobject\u001B[39m, copy\u001B[38;5;241m=\u001B[39m\u001B[38;5;28;01mFalse\u001B[39;00m)\n\u001B[0;32m   1742\u001B[0m \u001B[38;5;28;01mif\u001B[39;00m na_action \u001B[38;5;129;01mis\u001B[39;00m \u001B[38;5;28;01mNone\u001B[39;00m:\n\u001B[1;32m-> 1743\u001B[0m     \u001B[38;5;28;01mreturn\u001B[39;00m \u001B[43mlib\u001B[49m\u001B[38;5;241;43m.\u001B[39;49m\u001B[43mmap_infer\u001B[49m\u001B[43m(\u001B[49m\u001B[43mvalues\u001B[49m\u001B[43m,\u001B[49m\u001B[43m \u001B[49m\u001B[43mmapper\u001B[49m\u001B[43m,\u001B[49m\u001B[43m \u001B[49m\u001B[43mconvert\u001B[49m\u001B[38;5;241;43m=\u001B[39;49m\u001B[43mconvert\u001B[49m\u001B[43m)\u001B[49m\n\u001B[0;32m   1744\u001B[0m \u001B[38;5;28;01melse\u001B[39;00m:\n\u001B[0;32m   1745\u001B[0m     \u001B[38;5;28;01mreturn\u001B[39;00m lib\u001B[38;5;241m.\u001B[39mmap_infer_mask(\n\u001B[0;32m   1746\u001B[0m         values, mapper, mask\u001B[38;5;241m=\u001B[39misna(values)\u001B[38;5;241m.\u001B[39mview(np\u001B[38;5;241m.\u001B[39muint8), convert\u001B[38;5;241m=\u001B[39mconvert\n\u001B[0;32m   1747\u001B[0m     )\n",
      "File \u001B[1;32mlib.pyx:2972\u001B[0m, in \u001B[0;36mpandas._libs.lib.map_infer\u001B[1;34m()\u001B[0m\n",
      "Cell \u001B[1;32mIn[11], line 19\u001B[0m, in \u001B[0;36m<lambda>\u001B[1;34m(x)\u001B[0m\n\u001B[0;32m     16\u001B[0m order_combined[\u001B[38;5;124m'\u001B[39m\u001B[38;5;124mPRODUCT_PRODUCT_TYPE_code\u001B[39m\u001B[38;5;124m'\u001B[39m] \u001B[38;5;241m=\u001B[39m order_combined[\u001B[38;5;124m'\u001B[39m\u001B[38;5;124mPRODUCT_PRODUCT_TYPE_code\u001B[39m\u001B[38;5;124m'\u001B[39m]\u001B[38;5;241m.\u001B[39mastype(\u001B[38;5;28mint\u001B[39m)\n\u001B[0;32m     18\u001B[0m \u001B[38;5;66;03m# Convert datetime objects to numeric representation\u001B[39;00m\n\u001B[1;32m---> 19\u001B[0m order_combined[\u001B[38;5;124m'\u001B[39m\u001B[38;5;124mORDER_HEADER_ORDER_DATE\u001B[39m\u001B[38;5;124m'\u001B[39m] \u001B[38;5;241m=\u001B[39m order_combined[\u001B[38;5;124m'\u001B[39m\u001B[38;5;124mORDER_HEADER_ORDER_DATE\u001B[39m\u001B[38;5;124m'\u001B[39m]\u001B[38;5;241m.\u001B[39mapply(\u001B[38;5;28;01mlambda\u001B[39;00m x: \u001B[43mx\u001B[49m\u001B[38;5;241;43m.\u001B[39;49m\u001B[43mtoordinal\u001B[49m\u001B[43m(\u001B[49m\u001B[43m)\u001B[49m)\n\u001B[0;32m     20\u001B[0m order_combined[\u001B[38;5;124m'\u001B[39m\u001B[38;5;124mPRODUCT_INTRODUCTION_DATE_introduced\u001B[39m\u001B[38;5;124m'\u001B[39m] \u001B[38;5;241m=\u001B[39m order_combined[\u001B[38;5;124m'\u001B[39m\u001B[38;5;124mPRODUCT_INTRODUCTION_DATE_introduced\u001B[39m\u001B[38;5;124m'\u001B[39m]\u001B[38;5;241m.\u001B[39mapply(\u001B[38;5;28;01mlambda\u001B[39;00m x: x\u001B[38;5;241m.\u001B[39mtoordinal())\n",
      "File \u001B[1;32mnattype.pyx:54\u001B[0m, in \u001B[0;36mpandas._libs.tslibs.nattype._make_error_func.f\u001B[1;34m()\u001B[0m\n",
      "\u001B[1;31mValueError\u001B[0m: NaTType does not support toordinal"
     ]
    }
   ],
   "source": [
    "# converting the columns to the right data types\n",
    "order_combined['ORDER_HEADER_ORDER_DATE'] = pd.to_datetime(order_combined['ORDER_HEADER_ORDER_DATE'], format='%Y-%m-%d')\n",
    "order_combined['ORDER_ORDER_METHOD_CODE_method_code'] = order_combined['ORDER_DETAILS_QUANTITY_quantity'].astype(int)\n",
    "order_combined['ORDER_DETAILS_QUANTITY_quantity'] = order_combined['ORDER_DETAILS_QUANTITY_quantity'].astype(int)\n",
    "order_combined['ORDER_DETAILS_TOTAL_COST_total'] = order_combined['ORDER_DETAILS_TOTAL_COST_total'].astype(float)\n",
    "order_combined['ORDER_DETAILS_TOTAL_MARGIN_margin'] = order_combined['ORDER_DETAILS_TOTAL_MARGIN_margin'].astype(float)\n",
    "order_combined['UNIT_COST_cost'] = order_combined['UNIT_COST_cost'].astype(float)\n",
    "order_combined['UNIT_PRICE_price'] = order_combined['UNIT_PRICE_price'].astype(float)\n",
    "order_combined['UNIT_SALE_sale'] = order_combined['UNIT_SALE_sale'].astype(float)\n",
    "order_combined[ 'PRODUCT_number'] = order_combined[ 'PRODUCT_number'].astype(int)\n",
    "order_combined['PRODUCT_INTRODUCTION_DATE_introduced'] = pd.to_datetime(order_combined['PRODUCT_INTRODUCTION_DATE_introduced'], format='%Y-%m-%d')\n",
    "order_combined['PRODUCT_PRODUCTION_COST_cost'] = order_combined['PRODUCT_PRODUCTION_COST_cost'].astype(float)\n",
    "order_combined['PRODUCT_MARGIN_margin'] = order_combined['PRODUCT_MARGIN_margin'].astype(float)\n",
    "order_combined['PRODUCT_MINIMUM_SALE_PRICE_minPrice'] = order_combined['PRODUCT_MINIMUM_SALE_PRICE_minPrice'].astype(float)\n",
    "order_combined['PRODUCT_PRODUCT_LINE_code'] = order_combined['PRODUCT_PRODUCT_LINE_code'].astype(int)\n",
    "order_combined['PRODUCT_PRODUCT_TYPE_code'] = order_combined['PRODUCT_PRODUCT_TYPE_code'].astype(int)\n",
    "\n",
    "# Convert datetime objects to numeric representation\n",
    "order_combined['ORDER_HEADER_ORDER_DATE'] = order_combined['ORDER_HEADER_ORDER_DATE'].apply(lambda x: x.toordinal())\n",
    "order_combined['PRODUCT_INTRODUCTION_DATE_introduced'] = order_combined['PRODUCT_INTRODUCTION_DATE_introduced'].apply(lambda x: x.toordinal())"
   ],
   "metadata": {
    "collapsed": false,
    "ExecuteTime": {
     "end_time": "2024-04-03T13:55:39.157195Z",
     "start_time": "2024-04-03T13:55:37.944575Z"
    }
   },
   "id": "bab17fe388eb29f6",
   "execution_count": 11
  },
  {
   "cell_type": "markdown",
   "source": [
    "# Voorspellen\n",
    "We willen de ORDER_DETAILS_QUANTITY_quantity voorspellen op basis van de andere kolommen."
   ],
   "metadata": {
    "collapsed": false
   },
   "id": "a41a34aa22f5afde"
  },
  {
   "cell_type": "code",
   "outputs": [],
   "source": [
    "# split the data\n",
    "x = order_combined.drop(columns=['ORDER_DETAILS_QUANTITY_quantity'])\n",
    "y = order_combined['ORDER_DETAILS_QUANTITY_quantity']\n",
    "\n",
    "# split the data into training and testing data. Randomly so it changes every time\n",
    "x_train, x_test, y_train, y_test = train_test_split(x, y, test_size=0.2)"
   ],
   "metadata": {
    "collapsed": false,
    "ExecuteTime": {
     "end_time": "2024-04-03T13:55:39.159204Z",
     "start_time": "2024-04-03T13:55:39.159204Z"
    }
   },
   "id": "bae939d8d51c29",
   "execution_count": null
  },
  {
   "cell_type": "markdown",
   "source": [
    "## Regressie model trainen"
   ],
   "metadata": {
    "collapsed": false
   },
   "id": "72aec4421c07efa6"
  },
  {
   "cell_type": "code",
   "outputs": [],
   "source": [
    "# create the model\n",
    "model = LinearRegression()\n",
    "model.fit(x_train, y_train)\n",
    "\n",
    "# predict the test data\n",
    "y_pred = model.predict(x_test)"
   ],
   "metadata": {
    "collapsed": false,
    "ExecuteTime": {
     "start_time": "2024-04-03T13:55:39.160204Z"
    }
   },
   "id": "2a8e98b4523759f7",
   "execution_count": null
  },
  {
   "cell_type": "code",
   "outputs": [],
   "source": [
    "# Scatter plot of actual test data vs predicted values\n",
    "plt.scatter(y_test, y_pred, color='blue', label='Predicted vs Actual')\n",
    "\n",
    "# Line of best fit\n",
    "m, b = np.polyfit(y_test, y_pred, 1)\n",
    "plt.plot(y_test, m*y_test + b, color='red', label='Line of Best Fit')\n",
    "\n",
    "plt.xlabel('Actual')\n",
    "plt.ylabel('Predicted')\n",
    "plt.title('Actual vs Predicted')\n",
    "plt.legend()\n",
    "\n",
    "# Show the plot\n",
    "plt.show()"
   ],
   "metadata": {
    "collapsed": false
   },
   "id": "a85853057f325133",
   "execution_count": null
  },
  {
   "cell_type": "code",
   "outputs": [],
   "source": [
    "# Evaluate the model\n",
    "mse = mean_squared_error(y_test, y_pred)\n",
    "sse = mse * len(y_test)\n",
    "mae = np.mean(np.abs(y_test - y_pred))\n",
    "\n",
    "\n",
    "print('Mean Squared Error:', mse)\n",
    "print('Sum of Squared Error:', sse)\n",
    "print('Mean Absolute Error:', mae)"
   ],
   "metadata": {
    "collapsed": false,
    "ExecuteTime": {
     "start_time": "2024-04-03T13:55:39.161204Z"
    }
   },
   "id": "4541562d6293a93d",
   "execution_count": null
  }
 ],
 "metadata": {
  "kernelspec": {
   "display_name": "Python 3",
   "language": "python",
   "name": "python3"
  },
  "language_info": {
   "codemirror_mode": {
    "name": "ipython",
    "version": 2
   },
   "file_extension": ".py",
   "mimetype": "text/x-python",
   "name": "python",
   "nbconvert_exporter": "python",
   "pygments_lexer": "ipython2",
   "version": "2.7.6"
  }
 },
 "nbformat": 4,
 "nbformat_minor": 5
}
