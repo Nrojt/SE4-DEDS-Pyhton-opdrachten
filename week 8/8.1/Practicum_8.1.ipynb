{
 "cells": [
  {
   "cell_type": "markdown",
   "source": [
    "# Regressiemodellen"
   ],
   "metadata": {
    "collapsed": false
   },
   "id": "83def59703172eb4"
  },
  {
   "cell_type": "code",
   "outputs": [],
   "source": [
    "import pandas as pd\n",
    "from sklearn.linear_model import LinearRegression\n",
    "from sklearn.model_selection import train_test_split\n",
    "import pyodbc\n",
    "from sqlalchemy import create_engine"
   ],
   "metadata": {
    "collapsed": false,
    "ExecuteTime": {
     "end_time": "2024-04-03T11:56:55.212244Z",
     "start_time": "2024-04-03T11:56:52.826099Z"
    }
   },
   "id": "685129aa61058789",
   "execution_count": 1
  },
  {
   "cell_type": "markdown",
   "source": [
    "# Database connectie\n",
    "De data komt uit de datawarehouse."
   ],
   "metadata": {
    "collapsed": false
   },
   "id": "ce869e42dffa39f"
  },
  {
   "cell_type": "code",
   "outputs": [],
   "source": [
    "# database name\n",
    "DB = {\n",
    "    'servername': '(local)\\\\SQLEXPRESS',\n",
    "    'database': 'DEDS_DataWarehouse'}"
   ],
   "metadata": {
    "collapsed": false,
    "ExecuteTime": {
     "end_time": "2024-04-03T11:56:55.221697Z",
     "start_time": "2024-04-03T11:56:55.213799Z"
    }
   },
   "id": "e70367b9dc6ad957",
   "execution_count": 2
  },
  {
   "cell_type": "code",
   "outputs": [
    {
     "name": "stdout",
     "output_type": "stream",
     "text": [
      "Connection with database is established\n"
     ]
    }
   ],
   "source": [
    "export_conn = pyodbc.connect('DRIVER={SQL Server};SERVER=' + DB['servername'] + ';DATABASE=' + DB['database'] + ';Trusted_Connection=yes')\n",
    "\n",
    "\n",
    "# Create a cursor from the connection\n",
    "export_cursor = export_conn.cursor()\n",
    "\n",
    "# check if connection is successful, else throw an error\n",
    "if export_conn:\n",
    "    print(\"Connection with database is established\")\n",
    "else:\n",
    "    print(\"Connection with database is not established\")\n",
    "    raise Exception(\"Connection with database is not established\")"
   ],
   "metadata": {
    "collapsed": false,
    "ExecuteTime": {
     "end_time": "2024-04-03T11:56:55.370394Z",
     "start_time": "2024-04-03T11:56:55.223697Z"
    }
   },
   "id": "d8e513fe0c207351",
   "execution_count": 3
  },
  {
   "cell_type": "markdown",
   "source": [
    "# Tabellen inlezen\n",
    "We hebben de order_header, order_details en order tabellen nodig"
   ],
   "metadata": {
    "collapsed": false
   },
   "id": "bc2907ac48ad9d0"
  },
  {
   "cell_type": "code",
   "outputs": [
    {
     "data": {
      "text/plain": "   ORDER_SK  ORDER_order_number  ORDER_ORDER_METHOD_CODE_method_code  \\\n0         1                1153                                    7   \n1         2                1154                                    4   \n2         3                1155                                    7   \n3         4                1156                                    5   \n4         5                1157                                    2   \n\n  ORDER_ORDER_METHOD_EN_method                 LAST_UPDATED  CURRENT_VALUE  \n0                  Sales visit  2024-03-20 13:22:18.9210287           True  \n1                       E-mail  2024-03-20 13:22:18.9362991           True  \n2                  Sales visit  2024-03-20 13:22:18.9378535           True  \n3                          Web  2024-03-20 13:22:18.9414257           True  \n4                    Telephone  2024-03-20 13:22:18.9439944           True  ",
      "text/html": "<div>\n<style scoped>\n    .dataframe tbody tr th:only-of-type {\n        vertical-align: middle;\n    }\n\n    .dataframe tbody tr th {\n        vertical-align: top;\n    }\n\n    .dataframe thead th {\n        text-align: right;\n    }\n</style>\n<table border=\"1\" class=\"dataframe\">\n  <thead>\n    <tr style=\"text-align: right;\">\n      <th></th>\n      <th>ORDER_SK</th>\n      <th>ORDER_order_number</th>\n      <th>ORDER_ORDER_METHOD_CODE_method_code</th>\n      <th>ORDER_ORDER_METHOD_EN_method</th>\n      <th>LAST_UPDATED</th>\n      <th>CURRENT_VALUE</th>\n    </tr>\n  </thead>\n  <tbody>\n    <tr>\n      <th>0</th>\n      <td>1</td>\n      <td>1153</td>\n      <td>7</td>\n      <td>Sales visit</td>\n      <td>2024-03-20 13:22:18.9210287</td>\n      <td>True</td>\n    </tr>\n    <tr>\n      <th>1</th>\n      <td>2</td>\n      <td>1154</td>\n      <td>4</td>\n      <td>E-mail</td>\n      <td>2024-03-20 13:22:18.9362991</td>\n      <td>True</td>\n    </tr>\n    <tr>\n      <th>2</th>\n      <td>3</td>\n      <td>1155</td>\n      <td>7</td>\n      <td>Sales visit</td>\n      <td>2024-03-20 13:22:18.9378535</td>\n      <td>True</td>\n    </tr>\n    <tr>\n      <th>3</th>\n      <td>4</td>\n      <td>1156</td>\n      <td>5</td>\n      <td>Web</td>\n      <td>2024-03-20 13:22:18.9414257</td>\n      <td>True</td>\n    </tr>\n    <tr>\n      <th>4</th>\n      <td>5</td>\n      <td>1157</td>\n      <td>2</td>\n      <td>Telephone</td>\n      <td>2024-03-20 13:22:18.9439944</td>\n      <td>True</td>\n    </tr>\n  </tbody>\n</table>\n</div>"
     },
     "execution_count": 4,
     "metadata": {},
     "output_type": "execute_result"
    }
   ],
   "source": [
    "order_query = \"SELECT * FROM [Order]\"\n",
    "\n",
    "order_result = export_cursor.execute(order_query)\n",
    "order_fetch = order_result.fetchall()\n",
    "order_columns = [column[0] for column in order_result.description]\n",
    "order = pd.DataFrame.from_records(order_fetch, columns=order_columns)\n",
    "\n",
    "order.head()"
   ],
   "metadata": {
    "collapsed": false,
    "ExecuteTime": {
     "end_time": "2024-04-03T11:56:55.411474Z",
     "start_time": "2024-04-03T11:56:55.372400Z"
    }
   },
   "id": "d4d767e798cf2fe",
   "execution_count": 4
  },
  {
   "cell_type": "code",
   "outputs": [
    {
     "data": {
      "text/plain": "   ORDER_HEADER_SK  ORDER_HEADER_number  ORDER_HEADER_RETAILER_CODE  \\\n0                1                 1153                         100   \n1                2                 1154                         100   \n2                3                 1155                         100   \n3                4                 1156                         100   \n4                5                 1157                         100   \n\n   ORDER_HEADER_SALES_STAFF_CODE  ORDER_HEADER_SALES_BRANCH_CODE  \\\n0                             54                               5   \n1                             54                               5   \n2                             52                               5   \n3                             52                               5   \n4                             54                               5   \n\n  ORDER_HEADER_ORDER_DATE  ORDER_HEADER_RETAILER_SITE_CODE  \\\n0              2020-04-14                              285   \n1              2020-10-01                              285   \n2              2020-04-21                              340   \n3              2020-09-09                              340   \n4              2020-04-10                              351   \n\n   ORDER_HEADER_RETAILER_CONTACT_CODE  ORDER_HEADER_ORDER_order_number  \\\n0                                 349                                1   \n1                                 349                                2   \n2                                 355                                3   \n3                                 355                                4   \n4                                 356                                5   \n\n                  LAST_UPDATED  CURRENT_VALUE  \n0  2024-03-20 13:32:41.5863889           True  \n1  2024-03-20 13:32:41.5997189           True  \n2  2024-03-20 13:32:41.5997189           True  \n3  2024-03-20 13:32:41.6013817           True  \n4  2024-03-20 13:32:41.6032862           True  ",
      "text/html": "<div>\n<style scoped>\n    .dataframe tbody tr th:only-of-type {\n        vertical-align: middle;\n    }\n\n    .dataframe tbody tr th {\n        vertical-align: top;\n    }\n\n    .dataframe thead th {\n        text-align: right;\n    }\n</style>\n<table border=\"1\" class=\"dataframe\">\n  <thead>\n    <tr style=\"text-align: right;\">\n      <th></th>\n      <th>ORDER_HEADER_SK</th>\n      <th>ORDER_HEADER_number</th>\n      <th>ORDER_HEADER_RETAILER_CODE</th>\n      <th>ORDER_HEADER_SALES_STAFF_CODE</th>\n      <th>ORDER_HEADER_SALES_BRANCH_CODE</th>\n      <th>ORDER_HEADER_ORDER_DATE</th>\n      <th>ORDER_HEADER_RETAILER_SITE_CODE</th>\n      <th>ORDER_HEADER_RETAILER_CONTACT_CODE</th>\n      <th>ORDER_HEADER_ORDER_order_number</th>\n      <th>LAST_UPDATED</th>\n      <th>CURRENT_VALUE</th>\n    </tr>\n  </thead>\n  <tbody>\n    <tr>\n      <th>0</th>\n      <td>1</td>\n      <td>1153</td>\n      <td>100</td>\n      <td>54</td>\n      <td>5</td>\n      <td>2020-04-14</td>\n      <td>285</td>\n      <td>349</td>\n      <td>1</td>\n      <td>2024-03-20 13:32:41.5863889</td>\n      <td>True</td>\n    </tr>\n    <tr>\n      <th>1</th>\n      <td>2</td>\n      <td>1154</td>\n      <td>100</td>\n      <td>54</td>\n      <td>5</td>\n      <td>2020-10-01</td>\n      <td>285</td>\n      <td>349</td>\n      <td>2</td>\n      <td>2024-03-20 13:32:41.5997189</td>\n      <td>True</td>\n    </tr>\n    <tr>\n      <th>2</th>\n      <td>3</td>\n      <td>1155</td>\n      <td>100</td>\n      <td>52</td>\n      <td>5</td>\n      <td>2020-04-21</td>\n      <td>340</td>\n      <td>355</td>\n      <td>3</td>\n      <td>2024-03-20 13:32:41.5997189</td>\n      <td>True</td>\n    </tr>\n    <tr>\n      <th>3</th>\n      <td>4</td>\n      <td>1156</td>\n      <td>100</td>\n      <td>52</td>\n      <td>5</td>\n      <td>2020-09-09</td>\n      <td>340</td>\n      <td>355</td>\n      <td>4</td>\n      <td>2024-03-20 13:32:41.6013817</td>\n      <td>True</td>\n    </tr>\n    <tr>\n      <th>4</th>\n      <td>5</td>\n      <td>1157</td>\n      <td>100</td>\n      <td>54</td>\n      <td>5</td>\n      <td>2020-04-10</td>\n      <td>351</td>\n      <td>356</td>\n      <td>5</td>\n      <td>2024-03-20 13:32:41.6032862</td>\n      <td>True</td>\n    </tr>\n  </tbody>\n</table>\n</div>"
     },
     "execution_count": 5,
     "metadata": {},
     "output_type": "execute_result"
    }
   ],
   "source": [
    "order_header_query = \"SELECT * FROM Order_header\"\n",
    "\n",
    "order_header_result = export_cursor.execute(order_header_query)\n",
    "order_header_fetch = order_header_result.fetchall()\n",
    "order_header_columns = [column[0] for column in order_header_result.description]\n",
    "order_header = pd.DataFrame.from_records(order_header_fetch, columns=order_header_columns)\n",
    "\n",
    "order_header.head()"
   ],
   "metadata": {
    "collapsed": false,
    "ExecuteTime": {
     "end_time": "2024-04-03T11:56:55.455739Z",
     "start_time": "2024-04-03T11:56:55.412481Z"
    }
   },
   "id": "7280bfe19753d6fe",
   "execution_count": 5
  },
  {
   "cell_type": "code",
   "outputs": [
    {
     "data": {
      "text/plain": "   ORDER_DETAILS_SK  ORDER_DETAILS_code  ORDER_DETAILS_QUANTITY_quantity  \\\n0                 1              100146                               16   \n1                 2              100149                               64   \n2                 3              100199                               22   \n3                 4              100250                               52   \n4                 5              100641                                6   \n\n  ORDER_DETAILS_TOTAL_COST_total ORDER_DETAILS_TOTAL_MARGIN_margin  \\\n0                      8072.6400                         9496.0000   \n1                        65.2800                          131.2000   \n2                       149.1600                          298.5400   \n3                      6578.5200                         9868.0400   \n4                       491.2200                         1080.7800   \n\n  ORDER_DETAILS_RETURN_CODE_returned  ORDER_DETAILS_ORDER_NUMBER_order  \\\n0                               1975                              4408   \n1                               1976                              5013   \n2                               1979                              5010   \n3                               2298                              5135   \n4                               2301                              5150   \n\n   ORDER_DETAILS_PRODUCT_NUMBER_product  ORDER_DETAILS_UNIT_ID_unit  \\\n0                                    23                         144   \n1                                    24                         147   \n2                                    40                         197   \n3                                    54                         248   \n4                                    15                         635   \n\n                  LAST_UPDATED  CURRENT_VALUE  \n0  2024-03-20 13:22:40.1478376           True  \n1  2024-03-20 13:22:40.1630588           True  \n2  2024-03-20 13:22:40.1645917           True  \n3  2024-03-20 13:22:40.1656051           True  \n4  2024-03-20 13:22:40.1671101           True  ",
      "text/html": "<div>\n<style scoped>\n    .dataframe tbody tr th:only-of-type {\n        vertical-align: middle;\n    }\n\n    .dataframe tbody tr th {\n        vertical-align: top;\n    }\n\n    .dataframe thead th {\n        text-align: right;\n    }\n</style>\n<table border=\"1\" class=\"dataframe\">\n  <thead>\n    <tr style=\"text-align: right;\">\n      <th></th>\n      <th>ORDER_DETAILS_SK</th>\n      <th>ORDER_DETAILS_code</th>\n      <th>ORDER_DETAILS_QUANTITY_quantity</th>\n      <th>ORDER_DETAILS_TOTAL_COST_total</th>\n      <th>ORDER_DETAILS_TOTAL_MARGIN_margin</th>\n      <th>ORDER_DETAILS_RETURN_CODE_returned</th>\n      <th>ORDER_DETAILS_ORDER_NUMBER_order</th>\n      <th>ORDER_DETAILS_PRODUCT_NUMBER_product</th>\n      <th>ORDER_DETAILS_UNIT_ID_unit</th>\n      <th>LAST_UPDATED</th>\n      <th>CURRENT_VALUE</th>\n    </tr>\n  </thead>\n  <tbody>\n    <tr>\n      <th>0</th>\n      <td>1</td>\n      <td>100146</td>\n      <td>16</td>\n      <td>8072.6400</td>\n      <td>9496.0000</td>\n      <td>1975</td>\n      <td>4408</td>\n      <td>23</td>\n      <td>144</td>\n      <td>2024-03-20 13:22:40.1478376</td>\n      <td>True</td>\n    </tr>\n    <tr>\n      <th>1</th>\n      <td>2</td>\n      <td>100149</td>\n      <td>64</td>\n      <td>65.2800</td>\n      <td>131.2000</td>\n      <td>1976</td>\n      <td>5013</td>\n      <td>24</td>\n      <td>147</td>\n      <td>2024-03-20 13:22:40.1630588</td>\n      <td>True</td>\n    </tr>\n    <tr>\n      <th>2</th>\n      <td>3</td>\n      <td>100199</td>\n      <td>22</td>\n      <td>149.1600</td>\n      <td>298.5400</td>\n      <td>1979</td>\n      <td>5010</td>\n      <td>40</td>\n      <td>197</td>\n      <td>2024-03-20 13:22:40.1645917</td>\n      <td>True</td>\n    </tr>\n    <tr>\n      <th>3</th>\n      <td>4</td>\n      <td>100250</td>\n      <td>52</td>\n      <td>6578.5200</td>\n      <td>9868.0400</td>\n      <td>2298</td>\n      <td>5135</td>\n      <td>54</td>\n      <td>248</td>\n      <td>2024-03-20 13:22:40.1656051</td>\n      <td>True</td>\n    </tr>\n    <tr>\n      <th>4</th>\n      <td>5</td>\n      <td>100641</td>\n      <td>6</td>\n      <td>491.2200</td>\n      <td>1080.7800</td>\n      <td>2301</td>\n      <td>5150</td>\n      <td>15</td>\n      <td>635</td>\n      <td>2024-03-20 13:22:40.1671101</td>\n      <td>True</td>\n    </tr>\n  </tbody>\n</table>\n</div>"
     },
     "execution_count": 6,
     "metadata": {},
     "output_type": "execute_result"
    }
   ],
   "source": [
    "order_details_query = \"SELECT * FROM Order_details\"\n",
    "\n",
    "order_details_result = export_cursor.execute(order_details_query)\n",
    "order_details_fetch = order_details_result.fetchall()\n",
    "order_details_columns = [column[0] for column in order_details_result.description]\n",
    "order_details = pd.DataFrame.from_records(order_details_fetch, columns=order_details_columns)\n",
    "\n",
    "order_details.head()"
   ],
   "metadata": {
    "collapsed": false,
    "ExecuteTime": {
     "end_time": "2024-04-03T11:56:55.477544Z",
     "start_time": "2024-04-03T11:56:55.457745Z"
    }
   },
   "id": "3c7db2486b2e6312",
   "execution_count": 6
  },
  {
   "cell_type": "markdown",
   "source": [
    "## De tabellen samenvoegen tot 1 dataframe"
   ],
   "metadata": {
    "collapsed": false
   },
   "id": "4889f531c73e2ed8"
  },
  {
   "cell_type": "code",
   "outputs": [
    {
     "data": {
      "text/plain": "   ORDER_HEADER_SK  ORDER_HEADER_number  ORDER_HEADER_RETAILER_CODE  \\\n0             1132                 2423                          26   \n1             1145                 2438                          85   \n2             1156                 2449                          84   \n3             1157                 2450                          88   \n4             1160                 2453                          88   \n\n   ORDER_HEADER_SALES_STAFF_CODE  ORDER_HEADER_SALES_BRANCH_CODE  \\\n0                             75                              26   \n1                             64                              26   \n2                             64                              26   \n3                             75                              26   \n4                             53                              26   \n\n  ORDER_HEADER_ORDER_DATE  ORDER_HEADER_RETAILER_SITE_CODE  \\\n0              2021-10-12                              111   \n1              2020-02-13                               91   \n2              2020-09-25                               87   \n3              2020-09-19                              101   \n4              2021-10-04                              101   \n\n   ORDER_HEADER_RETAILER_CONTACT_CODE  ORDER_HEADER_ORDER_order_number  \\\n0                                 111                             1159   \n1                                  94                             1174   \n2                                  92                             1185   \n3                                 104                             1186   \n4                                 104                             1189   \n\n                LAST_UPDATED_x  ...  ORDER_DETAILS_PRODUCT_NUMBER_product  \\\n0  2024-03-20 13:32:43.7943092  ...                                    81   \n1  2024-03-20 13:32:43.8266467  ...                                    43   \n2  2024-03-20 13:32:43.8580160  ...                                    84   \n3  2024-03-20 13:32:43.8605420  ...                                    41   \n4  2024-03-20 13:32:43.8682479  ...                                    87   \n\n   ORDER_DETAILS_UNIT_ID_unit               LAST_UPDATED_y  CURRENT_VALUE_y  \\\n0                       20769  2024-03-20 13:22:40.5689616             True   \n1                       19871  2024-03-20 13:22:40.5475428             True   \n2                       19969  2024-03-20 13:22:40.5495860             True   \n3                       19848  2024-03-20 13:22:40.5449854             True   \n4                       20803  2024-03-20 13:22:40.5730802             True   \n\n  ORDER_SK ORDER_order_number ORDER_ORDER_METHOD_CODE_method_code  \\\n0        7               1159                                   7   \n1       21               1174                                   2   \n2       31               1185                                   2   \n3       32               1186                                   1   \n4       35               1189                                   2   \n\n   ORDER_ORDER_METHOD_EN_method                 LAST_UPDATED  CURRENT_VALUE  \n0                   Sales visit  2024-03-20 13:22:18.9465432           True  \n1                     Telephone  2024-03-20 13:22:18.9622595           True  \n2                     Telephone  2024-03-20 13:22:18.9744354           True  \n3                           Fax  2024-03-20 13:22:18.9744354           True  \n4                     Telephone  2024-03-20 13:22:18.9779648           True  \n\n[5 rows x 28 columns]",
      "text/html": "<div>\n<style scoped>\n    .dataframe tbody tr th:only-of-type {\n        vertical-align: middle;\n    }\n\n    .dataframe tbody tr th {\n        vertical-align: top;\n    }\n\n    .dataframe thead th {\n        text-align: right;\n    }\n</style>\n<table border=\"1\" class=\"dataframe\">\n  <thead>\n    <tr style=\"text-align: right;\">\n      <th></th>\n      <th>ORDER_HEADER_SK</th>\n      <th>ORDER_HEADER_number</th>\n      <th>ORDER_HEADER_RETAILER_CODE</th>\n      <th>ORDER_HEADER_SALES_STAFF_CODE</th>\n      <th>ORDER_HEADER_SALES_BRANCH_CODE</th>\n      <th>ORDER_HEADER_ORDER_DATE</th>\n      <th>ORDER_HEADER_RETAILER_SITE_CODE</th>\n      <th>ORDER_HEADER_RETAILER_CONTACT_CODE</th>\n      <th>ORDER_HEADER_ORDER_order_number</th>\n      <th>LAST_UPDATED_x</th>\n      <th>...</th>\n      <th>ORDER_DETAILS_PRODUCT_NUMBER_product</th>\n      <th>ORDER_DETAILS_UNIT_ID_unit</th>\n      <th>LAST_UPDATED_y</th>\n      <th>CURRENT_VALUE_y</th>\n      <th>ORDER_SK</th>\n      <th>ORDER_order_number</th>\n      <th>ORDER_ORDER_METHOD_CODE_method_code</th>\n      <th>ORDER_ORDER_METHOD_EN_method</th>\n      <th>LAST_UPDATED</th>\n      <th>CURRENT_VALUE</th>\n    </tr>\n  </thead>\n  <tbody>\n    <tr>\n      <th>0</th>\n      <td>1132</td>\n      <td>2423</td>\n      <td>26</td>\n      <td>75</td>\n      <td>26</td>\n      <td>2021-10-12</td>\n      <td>111</td>\n      <td>111</td>\n      <td>1159</td>\n      <td>2024-03-20 13:32:43.7943092</td>\n      <td>...</td>\n      <td>81</td>\n      <td>20769</td>\n      <td>2024-03-20 13:22:40.5689616</td>\n      <td>True</td>\n      <td>7</td>\n      <td>1159</td>\n      <td>7</td>\n      <td>Sales visit</td>\n      <td>2024-03-20 13:22:18.9465432</td>\n      <td>True</td>\n    </tr>\n    <tr>\n      <th>1</th>\n      <td>1145</td>\n      <td>2438</td>\n      <td>85</td>\n      <td>64</td>\n      <td>26</td>\n      <td>2020-02-13</td>\n      <td>91</td>\n      <td>94</td>\n      <td>1174</td>\n      <td>2024-03-20 13:32:43.8266467</td>\n      <td>...</td>\n      <td>43</td>\n      <td>19871</td>\n      <td>2024-03-20 13:22:40.5475428</td>\n      <td>True</td>\n      <td>21</td>\n      <td>1174</td>\n      <td>2</td>\n      <td>Telephone</td>\n      <td>2024-03-20 13:22:18.9622595</td>\n      <td>True</td>\n    </tr>\n    <tr>\n      <th>2</th>\n      <td>1156</td>\n      <td>2449</td>\n      <td>84</td>\n      <td>64</td>\n      <td>26</td>\n      <td>2020-09-25</td>\n      <td>87</td>\n      <td>92</td>\n      <td>1185</td>\n      <td>2024-03-20 13:32:43.8580160</td>\n      <td>...</td>\n      <td>84</td>\n      <td>19969</td>\n      <td>2024-03-20 13:22:40.5495860</td>\n      <td>True</td>\n      <td>31</td>\n      <td>1185</td>\n      <td>2</td>\n      <td>Telephone</td>\n      <td>2024-03-20 13:22:18.9744354</td>\n      <td>True</td>\n    </tr>\n    <tr>\n      <th>3</th>\n      <td>1157</td>\n      <td>2450</td>\n      <td>88</td>\n      <td>75</td>\n      <td>26</td>\n      <td>2020-09-19</td>\n      <td>101</td>\n      <td>104</td>\n      <td>1186</td>\n      <td>2024-03-20 13:32:43.8605420</td>\n      <td>...</td>\n      <td>41</td>\n      <td>19848</td>\n      <td>2024-03-20 13:22:40.5449854</td>\n      <td>True</td>\n      <td>32</td>\n      <td>1186</td>\n      <td>1</td>\n      <td>Fax</td>\n      <td>2024-03-20 13:22:18.9744354</td>\n      <td>True</td>\n    </tr>\n    <tr>\n      <th>4</th>\n      <td>1160</td>\n      <td>2453</td>\n      <td>88</td>\n      <td>53</td>\n      <td>26</td>\n      <td>2021-10-04</td>\n      <td>101</td>\n      <td>104</td>\n      <td>1189</td>\n      <td>2024-03-20 13:32:43.8682479</td>\n      <td>...</td>\n      <td>87</td>\n      <td>20803</td>\n      <td>2024-03-20 13:22:40.5730802</td>\n      <td>True</td>\n      <td>35</td>\n      <td>1189</td>\n      <td>2</td>\n      <td>Telephone</td>\n      <td>2024-03-20 13:22:18.9779648</td>\n      <td>True</td>\n    </tr>\n  </tbody>\n</table>\n<p>5 rows × 28 columns</p>\n</div>"
     },
     "execution_count": 7,
     "metadata": {},
     "output_type": "execute_result"
    }
   ],
   "source": [
    "order_combined = pd.merge(order_header, order_details, left_on='ORDER_HEADER_ORDER_order_number', right_on='ORDER_DETAILS_ORDER_NUMBER_order')\n",
    "order_combined = pd.merge(order_combined, order, left_on='ORDER_HEADER_ORDER_order_number', right_on='ORDER_order_number')\n",
    "\n",
    "order_combined.head()"
   ],
   "metadata": {
    "collapsed": false,
    "ExecuteTime": {
     "end_time": "2024-04-03T11:56:55.506488Z",
     "start_time": "2024-04-03T11:56:55.478559Z"
    }
   },
   "id": "d63b03731f99acbb",
   "execution_count": 7
  }
 ],
 "metadata": {
  "kernelspec": {
   "display_name": "Python 3",
   "language": "python",
   "name": "python3"
  },
  "language_info": {
   "codemirror_mode": {
    "name": "ipython",
    "version": 2
   },
   "file_extension": ".py",
   "mimetype": "text/x-python",
   "name": "python",
   "nbconvert_exporter": "python",
   "pygments_lexer": "ipython2",
   "version": "2.7.6"
  }
 },
 "nbformat": 4,
 "nbformat_minor": 5
}
