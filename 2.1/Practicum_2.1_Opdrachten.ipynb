{
 "cells": [
  {
   "cell_type": "markdown",
   "metadata": {},
   "source": [
    "# Practicumopdrachten Week 2.1 (eerste kans)"
   ]
  },
  {
   "cell_type": "markdown",
   "metadata": {},
   "source": [
    "## Maak een virtual environment"
   ]
  },
  {
   "cell_type": "markdown",
   "source": [
    "Zorg dat je met behulp van de handleiding *Bouw en gebruik van virtual environments - Handleiding* een virtual environment hebt gemaakt, dat jou en je duopartner garandeert altijd dezelfde versie van geïmporteerde dependencies te gebruiken.<br>\n",
    "Voeg hier vervolgens met *poetry add pandas* de pandas-dependency aan toe.<br>\n",
    "Als je dit allemaal goed hebt gedaan moet de onderstaande code bij jullie allebei succesvol runnen:"
   ],
   "metadata": {
    "collapsed": false
   }
  },
  {
   "cell_type": "markdown",
   "source": [
    "import pandas as pd"
   ],
   "metadata": {
    "collapsed": false
   }
  },
  {
   "cell_type": "markdown",
   "metadata": {},
   "source": [
    "Zorg er daarnaast voor dat je...\n",
    "- Het bestand Waarheidstabel_1.png in hetzelfde mapje als dit notebook hebt staan.\n",
    "- Het bestand Prinstabel.png in hetzelfde mapje als dit notebook hebt staan.\n",
    "- Alle informatie onder het kopje *Basisoperaties* van de cheatsheet *Van Java naar Python - Cheatsheet* bij de hand hebt."
   ]
  },
  {
   "cell_type": "markdown",
   "metadata": {},
   "source": [
    "## 1.1: Output, variabelen en input"
   ]
  },
  {
   "cell_type": "markdown",
   "metadata": {},
   "source": [
    "Geef code waarmee het volgende op het scherm komt te staan:<br>\n",
    "geef me je geld <br>\n",
    "of ik gebruik geweld, <br>\n",
    "toen kwam de controle aangesneld"
   ]
  },
  {
   "cell_type": "code",
   "execution_count": 27,
   "metadata": {
    "ExecuteTime": {
     "end_time": "2024-02-12T13:57:35.558375800Z",
     "start_time": "2024-02-12T13:57:35.521899400Z"
    }
   },
   "outputs": [
    {
     "name": "stdout",
     "output_type": "stream",
     "text": [
      "geef me je geld\n",
      "of ik gebruik geweld,\n",
      "toen kwam de controle aangesneld\n"
     ]
    }
   ],
   "source": [
    "print(\"geef me je geld\")\n",
    "print(\"of ik gebruik geweld,\")\n",
    "print(\"toen kwam de controle aangesneld\")"
   ]
  },
  {
   "cell_type": "markdown",
   "metadata": {},
   "source": [
    "Declareer 2 variabelen zodat de volgende tekst geprint wordt:<br>\n",
    "Apenhoofd<br>\n",
    "Paardenstaart"
   ]
  },
  {
   "cell_type": "code",
   "outputs": [
    {
     "name": "stdout",
     "output_type": "stream",
     "text": [
      "Apenhoofd\n",
      "Paardenstaart\n"
     ]
    }
   ],
   "source": [
    "apeString = \"Apenhoofd\"\n",
    "horseString = \"Paardenstaart\" \n",
    "print(f\"{apeString}\\n{horseString}\")"
   ],
   "metadata": {
    "collapsed": false,
    "ExecuteTime": {
     "end_time": "2024-02-12T13:57:35.649024200Z",
     "start_time": "2024-02-12T13:57:35.560375400Z"
    }
   },
   "execution_count": 28
  },
  {
   "cell_type": "markdown",
   "metadata": {},
   "source": [
    "Voeg code toe zodat het programma het volgende doet:<br>\n",
    "1): Op het scherm komt A, B, C, D, ..., F, G te staan<br>\n",
    "2): De gebruiker voert een letter in<br>\n",
    "3): Op het scherm komt te staan:<br>\n",
    "Het is inderdaad:<br>\n",
    "*ingevoerde letter*"
   ]
  },
  {
   "cell_type": "code",
   "outputs": [
    {
     "name": "stdout",
     "output_type": "stream",
     "text": [
      "A, B, C, D, E, F, G\n",
      "Het is inderdaad:\n",
      "trdyug\n"
     ]
    }
   ],
   "source": [
    "print(\"A, B, C, D, E, F, G\")\n",
    "letter = input()\n",
    "print(f\"Het is inderdaad:\\n{letter}\")"
   ],
   "metadata": {
    "collapsed": false,
    "ExecuteTime": {
     "end_time": "2024-02-12T14:07:02.332085100Z",
     "start_time": "2024-02-12T14:06:59.009523Z"
    }
   },
   "execution_count": 50
  },
  {
   "cell_type": "markdown",
   "metadata": {},
   "source": [
    "## 1.2: Stringconcatenatie en Rekenen"
   ]
  },
  {
   "cell_type": "markdown",
   "metadata": {},
   "source": [
    "Schrijf code dat een inkomen inleest en het volgende uitprint:<br>\n",
    "Uw inkomen (*ingelezen inkomen*) is zeer acceptabel."
   ]
  },
  {
   "cell_type": "code",
   "execution_count": 30,
   "metadata": {
    "ExecuteTime": {
     "end_time": "2024-02-12T13:57:41.732709100Z",
     "start_time": "2024-02-12T13:57:40.122702300Z"
    }
   },
   "outputs": [
    {
     "name": "stdout",
     "output_type": "stream",
     "text": [
      "Uw inkomen 3 is zeer acceptabel.\n"
     ]
    }
   ],
   "source": [
    "# make sure the input is a number (integer)\n",
    "# python does not have do while loops sadly\n",
    "while True:\n",
    "    inkomen = input(\"Voer een geheel getal in\")\n",
    "    try:\n",
    "        inkomen = int(inkomen)\n",
    "        break\n",
    "    except ValueError:\n",
    "        print(\"Dit is geen geheel getal\")\n",
    "\n",
    "print(f\"Uw inkomen {inkomen} is zeer acceptabel.\")"
   ]
  },
  {
   "cell_type": "markdown",
   "metadata": {},
   "source": [
    "De oppervlakte van een driehoek is 1/2 * hoogte * basis<br>\n",
    "Schrijf code zodat het programma het volgende doet:<br>\n",
    "1): Op het scherm komt Wat is de basis? te staan<br>\n",
    "2): De gebruiker voert een basis in<br>\n",
    "3): Op het scherm komt Wat is de hoogte? te staan<br>\n",
    "4): De gebruiker voert een hoogte in<br>\n",
    "5): Op het scherm komt: De oppervlakte van de driehoek is *berekende oppervlakte* te staan"
   ]
  },
  {
   "cell_type": "code",
   "execution_count": 31,
   "metadata": {
    "ExecuteTime": {
     "end_time": "2024-02-12T13:57:44.376597Z",
     "start_time": "2024-02-12T13:57:41.693189900Z"
    }
   },
   "outputs": [
    {
     "name": "stdout",
     "output_type": "stream",
     "text": [
      "De oppervlakte van de driehoek is 10.0\n"
     ]
    }
   ],
   "source": [
    "basis = int(input(\"Wat is de basis?\"))\n",
    "hoogte = int(input(\"Wat is de hoogte?\"))\n",
    "\n",
    "oppervlakte = 1/2 * basis * hoogte\n",
    "print(f\"De oppervlakte van de driehoek is {oppervlakte}\")"
   ]
  },
  {
   "cell_type": "markdown",
   "metadata": {},
   "source": [
    "## 1.3: if() en booleans"
   ]
  },
  {
   "cell_type": "markdown",
   "metadata": {},
   "source": [
    "Schrijf code dat het volgende doet:<br>\n",
    "1): De gebruiker voert in hoe oud iemand is<br>\n",
    "2): De gebruiker voert in of de ouders meegekomen zijn (input is J of N)<br><br>\n",
    "\n",
    "Als...\n",
    "- Jonger dan 6, wel ouders: op het scherm staat Je mag het zwembad in\n",
    "- Jonger dan 6, geen ouders: op het scherm staat Je mag het niet zwembad in\n",
    "- Leeftijd vanaf 6, geen ouders: op het scherm staat Je mag het zwembad in als je een diploma hebt\n",
    "- Leeftijd vanaf 6, wel ouders: op het scherm staat Waarom neem je nog je ouders mee?"
   ]
  },
  {
   "cell_type": "code",
   "execution_count": 32,
   "metadata": {
    "ExecuteTime": {
     "end_time": "2024-02-12T13:57:48.905401Z",
     "start_time": "2024-02-12T13:57:44.366006500Z"
    }
   },
   "outputs": [
    {
     "name": "stdout",
     "output_type": "stream",
     "text": [
      "Waarom neem je nog je ouders mee?\n"
     ]
    }
   ],
   "source": [
    "leeftijd = int(input(\"Hoe oud ben je?\"))\n",
    "ouders = input(\"Zijn je ouders meegekomen? (J/N)\")\n",
    "\n",
    "# verify ouders is either J or N\n",
    "while ouders != \"J\" and ouders != \"N\":\n",
    "    ouders = input(\"Zijn je ouders meegekomen? (J/N)\")\n",
    "\n",
    "if leeftijd < 6:\n",
    "    if ouders == \"J\":\n",
    "        print(\"Je mag het zwembad in\")\n",
    "    else:\n",
    "        print(\"Je mag het niet zwembad in\")\n",
    "else:\n",
    "    if ouders == \"J\":\n",
    "        print(\"Waarom neem je nog je ouders mee?\")\n",
    "    else:\n",
    "        print(\"Je mag het zwembad in als je een diploma hebt\")"
   ]
  },
  {
   "cell_type": "markdown",
   "metadata": {},
   "source": [
    "Schrijf code zodat de boolean-variabelen een en twee aangemaakt worden en waarmee de juiste waarde in de boolean-variabele uitkomst komt te staan. In de waarheidstabel hieronder staat wat de waarde van uitkomst is bij de verschillende mogelijke combinaties van een en twee.<br><br>\n",
    "<img src=\"Waarheidstabel_1.png\">"
   ]
  },
  {
   "cell_type": "code",
   "execution_count": 49,
   "metadata": {
    "ExecuteTime": {
     "end_time": "2024-02-12T14:06:52.610968400Z",
     "start_time": "2024-02-12T14:06:52.583476100Z"
    }
   },
   "outputs": [],
   "source": [
    "een = True\n",
    "twee = False\n",
    "\n",
    "# TODO afbeelding is er niet\n"
   ]
  },
  {
   "cell_type": "markdown",
   "metadata": {},
   "source": [
    "## 1.4: Methoden"
   ]
  },
  {
   "cell_type": "markdown",
   "metadata": {},
   "source": [
    "Schrijf een methode wachtwoord die als parameters twee woorden meekrijgt en het volgende controleert:\n",
    "- Als de woorden gelijk zijn, print het programma gelijk.\n",
    "- Als de woorden ongelijk zijn print het programma ongelijk.\n",
    "\n",
    "Vergeet niet dat je de methode niet alleen aan moet maken, maar ook aan moet roepen om output te krijgen."
   ]
  },
  {
   "cell_type": "code",
   "execution_count": 34,
   "metadata": {
    "ExecuteTime": {
     "end_time": "2024-02-12T13:57:52.423791200Z",
     "start_time": "2024-02-12T13:57:48.901400900Z"
    }
   },
   "outputs": [
    {
     "name": "stdout",
     "output_type": "stream",
     "text": [
      "gelijk\n"
     ]
    }
   ],
   "source": [
    "def wachtwoord(wachtwoord1: str, wachtwoord2: str):\n",
    "    if wachtwoord1 == wachtwoord2:\n",
    "        print(\"gelijk\")\n",
    "    else:\n",
    "        print(\"ongelijk\")\n",
    "        \n",
    "wachtwoord1 = input(\"Voer een wachtwoord in\")\n",
    "wachtwoord2 = input(\"Voer het wachtwoord opnieuw in\")\n",
    "wachtwoord(wachtwoord1, wachtwoord2)"
   ]
  },
  {
   "cell_type": "markdown",
   "metadata": {},
   "source": [
    "Schrijf de methode zoekPrins die als parameter een prinses meekrijgt en vervolgens de bijbehorende prins teruggeeft, volgens de volgende tabel:<br><br>\n",
    "<img src=\"Prinstabel.png\"><br>\n",
    "Als de naam van de prinses niet in de tabel staat wordt het volgende door de methode teruggegeven: naamloos.<br>\n",
    "Roep ten slotte de gemaakte methode ook daadwerkelijk aan met een zelfgekozen prinsessennaam."
   ]
  },
  {
   "cell_type": "code",
   "execution_count": 35,
   "metadata": {
    "ExecuteTime": {
     "end_time": "2024-02-12T13:57:52.426790400Z",
     "start_time": "2024-02-12T13:57:52.395508300Z"
    }
   },
   "outputs": [],
   "source": [
    "# TODO afbeelding is er niet"
   ]
  },
  {
   "cell_type": "markdown",
   "metadata": {},
   "source": [
    "## 1.5: While"
   ]
  },
  {
   "cell_type": "markdown",
   "metadata": {},
   "source": [
    "Schrijf de inhoud van de methode wachtwoord. Deze heeft geen parameters en laat de gebruiker twee wachtwoorden invoeren, waarna hij bekijkt of deze gelijk zijn. Zolang dat niet het geval is wordt er eerst Fout, probeer het opnieuw! uitgeprint en moet de gebruiker het opnieuw proberen.<br>Als de gebruiker het goed doet, komt er Succes! op het scherm te staan."
   ]
  },
  {
   "cell_type": "code",
   "execution_count": 36,
   "metadata": {
    "ExecuteTime": {
     "end_time": "2024-02-12T13:57:55.016619900Z",
     "start_time": "2024-02-12T13:57:52.401517100Z"
    }
   },
   "outputs": [
    {
     "name": "stdout",
     "output_type": "stream",
     "text": [
      "Succes!\n"
     ]
    }
   ],
   "source": [
    "def wachtwoord():\n",
    "    while True:\n",
    "        wachtwoord1 = input(\"Voer een wachtwoord in\")\n",
    "        wachtwoord2 = input(\"Voer het wachtwoord opnieuw in\")\n",
    "        if wachtwoord1 == wachtwoord2:\n",
    "            print(\"Succes!\")\n",
    "            break\n",
    "        print(\"Fout, probeer het opnieuw!\")\n",
    "    \n",
    "wachtwoord()"
   ]
  },
  {
   "cell_type": "markdown",
   "metadata": {},
   "source": [
    "Schrijf de inhoud van de methode tafels. De methode print alle tafels vanaf 1 (dus inclusief de tafel van 1) tot en met de tafel van het meegekregen getal (dus inclusief de tafel van getal).  Zet een witregel tussen alle tafels in. <br>\n",
    "Let op:\n",
    "- Gebruik een while-loop\n",
    "- Gebruik de reeds geschreven methode tafel om een tafel uit te printen"
   ]
  },
  {
   "cell_type": "code",
   "execution_count": 37,
   "metadata": {
    "ExecuteTime": {
     "end_time": "2024-02-12T13:57:57.761526100Z",
     "start_time": "2024-02-12T13:57:54.990428400Z"
    }
   },
   "outputs": [
    {
     "name": "stdout",
     "output_type": "stream",
     "text": [
      "1 x 1 = 1\n",
      "2 x 1 = 2\n",
      "3 x 1 = 3\n",
      "4 x 1 = 4\n",
      "5 x 1 = 5\n",
      "6 x 1 = 6\n",
      "7 x 1 = 7\n",
      "8 x 1 = 8\n",
      "9 x 1 = 9\n",
      "10 x 1 = 10\n",
      "\n",
      "1 x 2 = 2\n",
      "2 x 2 = 4\n",
      "3 x 2 = 6\n",
      "4 x 2 = 8\n",
      "5 x 2 = 10\n",
      "6 x 2 = 12\n",
      "7 x 2 = 14\n",
      "8 x 2 = 16\n",
      "9 x 2 = 18\n",
      "10 x 2 = 20\n",
      "\n",
      "1 x 3 = 3\n",
      "2 x 3 = 6\n",
      "3 x 3 = 9\n",
      "4 x 3 = 12\n",
      "5 x 3 = 15\n",
      "6 x 3 = 18\n",
      "7 x 3 = 21\n",
      "8 x 3 = 24\n",
      "9 x 3 = 27\n",
      "10 x 3 = 30\n",
      "\n",
      "1 x 4 = 4\n",
      "2 x 4 = 8\n",
      "3 x 4 = 12\n",
      "4 x 4 = 16\n",
      "5 x 4 = 20\n",
      "6 x 4 = 24\n",
      "7 x 4 = 28\n",
      "8 x 4 = 32\n",
      "9 x 4 = 36\n",
      "10 x 4 = 40\n",
      "\n",
      "1 x 5 = 5\n",
      "2 x 5 = 10\n",
      "3 x 5 = 15\n",
      "4 x 5 = 20\n",
      "5 x 5 = 25\n",
      "6 x 5 = 30\n",
      "7 x 5 = 35\n",
      "8 x 5 = 40\n",
      "9 x 5 = 45\n",
      "10 x 5 = 50\n",
      "\n",
      "1 x 6 = 6\n",
      "2 x 6 = 12\n",
      "3 x 6 = 18\n",
      "4 x 6 = 24\n",
      "5 x 6 = 30\n",
      "6 x 6 = 36\n",
      "7 x 6 = 42\n",
      "8 x 6 = 48\n",
      "9 x 6 = 54\n",
      "10 x 6 = 60\n",
      "\n",
      "1 x 7 = 7\n",
      "2 x 7 = 14\n",
      "3 x 7 = 21\n",
      "4 x 7 = 28\n",
      "5 x 7 = 35\n",
      "6 x 7 = 42\n",
      "7 x 7 = 49\n",
      "8 x 7 = 56\n",
      "9 x 7 = 63\n",
      "10 x 7 = 70\n",
      "\n",
      "1 x 8 = 8\n",
      "2 x 8 = 16\n",
      "3 x 8 = 24\n",
      "4 x 8 = 32\n",
      "5 x 8 = 40\n",
      "6 x 8 = 48\n",
      "7 x 8 = 56\n",
      "8 x 8 = 64\n",
      "9 x 8 = 72\n",
      "10 x 8 = 80\n",
      "\n",
      "1 x 9 = 9\n",
      "2 x 9 = 18\n",
      "3 x 9 = 27\n",
      "4 x 9 = 36\n",
      "5 x 9 = 45\n",
      "6 x 9 = 54\n",
      "7 x 9 = 63\n",
      "8 x 9 = 72\n",
      "9 x 9 = 81\n",
      "10 x 9 = 90\n",
      "\n",
      "1 x 10 = 10\n",
      "2 x 10 = 20\n",
      "3 x 10 = 30\n",
      "4 x 10 = 40\n",
      "5 x 10 = 50\n",
      "6 x 10 = 60\n",
      "7 x 10 = 70\n",
      "8 x 10 = 80\n",
      "9 x 10 = 90\n",
      "10 x 10 = 100\n",
      "\n",
      "1 x 11 = 11\n",
      "2 x 11 = 22\n",
      "3 x 11 = 33\n",
      "4 x 11 = 44\n",
      "5 x 11 = 55\n",
      "6 x 11 = 66\n",
      "7 x 11 = 77\n",
      "8 x 11 = 88\n",
      "9 x 11 = 99\n",
      "10 x 11 = 110\n",
      "\n",
      "1 x 12 = 12\n",
      "2 x 12 = 24\n",
      "3 x 12 = 36\n",
      "4 x 12 = 48\n",
      "5 x 12 = 60\n",
      "6 x 12 = 72\n",
      "7 x 12 = 84\n",
      "8 x 12 = 96\n",
      "9 x 12 = 108\n",
      "10 x 12 = 120\n",
      "\n",
      "1 x 13 = 13\n",
      "2 x 13 = 26\n",
      "3 x 13 = 39\n",
      "4 x 13 = 52\n",
      "5 x 13 = 65\n",
      "6 x 13 = 78\n",
      "7 x 13 = 91\n",
      "8 x 13 = 104\n",
      "9 x 13 = 117\n",
      "10 x 13 = 130\n",
      "\n",
      "1 x 14 = 14\n",
      "2 x 14 = 28\n",
      "3 x 14 = 42\n",
      "4 x 14 = 56\n",
      "5 x 14 = 70\n",
      "6 x 14 = 84\n",
      "7 x 14 = 98\n",
      "8 x 14 = 112\n",
      "9 x 14 = 126\n",
      "10 x 14 = 140\n",
      "\n",
      "1 x 15 = 15\n",
      "2 x 15 = 30\n",
      "3 x 15 = 45\n",
      "4 x 15 = 60\n",
      "5 x 15 = 75\n",
      "6 x 15 = 90\n",
      "7 x 15 = 105\n",
      "8 x 15 = 120\n",
      "9 x 15 = 135\n",
      "10 x 15 = 150\n",
      "\n",
      "1 x 16 = 16\n",
      "2 x 16 = 32\n",
      "3 x 16 = 48\n",
      "4 x 16 = 64\n",
      "5 x 16 = 80\n",
      "6 x 16 = 96\n",
      "7 x 16 = 112\n",
      "8 x 16 = 128\n",
      "9 x 16 = 144\n",
      "10 x 16 = 160\n",
      "\n",
      "1 x 17 = 17\n",
      "2 x 17 = 34\n",
      "3 x 17 = 51\n",
      "4 x 17 = 68\n",
      "5 x 17 = 85\n",
      "6 x 17 = 102\n",
      "7 x 17 = 119\n",
      "8 x 17 = 136\n",
      "9 x 17 = 153\n",
      "10 x 17 = 170\n",
      "\n",
      "1 x 18 = 18\n",
      "2 x 18 = 36\n",
      "3 x 18 = 54\n",
      "4 x 18 = 72\n",
      "5 x 18 = 90\n",
      "6 x 18 = 108\n",
      "7 x 18 = 126\n",
      "8 x 18 = 144\n",
      "9 x 18 = 162\n",
      "10 x 18 = 180\n",
      "\n",
      "1 x 19 = 19\n",
      "2 x 19 = 38\n",
      "3 x 19 = 57\n",
      "4 x 19 = 76\n",
      "5 x 19 = 95\n",
      "6 x 19 = 114\n",
      "7 x 19 = 133\n",
      "8 x 19 = 152\n",
      "9 x 19 = 171\n",
      "10 x 19 = 190\n",
      "\n",
      "1 x 20 = 20\n",
      "2 x 20 = 40\n",
      "3 x 20 = 60\n",
      "4 x 20 = 80\n",
      "5 x 20 = 100\n",
      "6 x 20 = 120\n",
      "7 x 20 = 140\n",
      "8 x 20 = 160\n",
      "9 x 20 = 180\n",
      "10 x 20 = 200\n",
      "\n",
      "1 x 21 = 21\n",
      "2 x 21 = 42\n",
      "3 x 21 = 63\n",
      "4 x 21 = 84\n",
      "5 x 21 = 105\n",
      "6 x 21 = 126\n",
      "7 x 21 = 147\n",
      "8 x 21 = 168\n",
      "9 x 21 = 189\n",
      "10 x 21 = 210\n",
      "\n",
      "1 x 22 = 22\n",
      "2 x 22 = 44\n",
      "3 x 22 = 66\n",
      "4 x 22 = 88\n",
      "5 x 22 = 110\n",
      "6 x 22 = 132\n",
      "7 x 22 = 154\n",
      "8 x 22 = 176\n",
      "9 x 22 = 198\n",
      "10 x 22 = 220\n",
      "\n",
      "1 x 23 = 23\n",
      "2 x 23 = 46\n",
      "3 x 23 = 69\n",
      "4 x 23 = 92\n",
      "5 x 23 = 115\n",
      "6 x 23 = 138\n",
      "7 x 23 = 161\n",
      "8 x 23 = 184\n",
      "9 x 23 = 207\n",
      "10 x 23 = 230\n",
      "\n",
      "1 x 24 = 24\n",
      "2 x 24 = 48\n",
      "3 x 24 = 72\n",
      "4 x 24 = 96\n",
      "5 x 24 = 120\n",
      "6 x 24 = 144\n",
      "7 x 24 = 168\n",
      "8 x 24 = 192\n",
      "9 x 24 = 216\n",
      "10 x 24 = 240\n",
      "\n",
      "1 x 25 = 25\n",
      "2 x 25 = 50\n",
      "3 x 25 = 75\n",
      "4 x 25 = 100\n",
      "5 x 25 = 125\n",
      "6 x 25 = 150\n",
      "7 x 25 = 175\n",
      "8 x 25 = 200\n",
      "9 x 25 = 225\n",
      "10 x 25 = 250\n",
      "\n",
      "1 x 26 = 26\n",
      "2 x 26 = 52\n",
      "3 x 26 = 78\n",
      "4 x 26 = 104\n",
      "5 x 26 = 130\n",
      "6 x 26 = 156\n",
      "7 x 26 = 182\n",
      "8 x 26 = 208\n",
      "9 x 26 = 234\n",
      "10 x 26 = 260\n",
      "\n",
      "1 x 27 = 27\n",
      "2 x 27 = 54\n",
      "3 x 27 = 81\n",
      "4 x 27 = 108\n",
      "5 x 27 = 135\n",
      "6 x 27 = 162\n",
      "7 x 27 = 189\n",
      "8 x 27 = 216\n",
      "9 x 27 = 243\n",
      "10 x 27 = 270\n",
      "\n",
      "1 x 28 = 28\n",
      "2 x 28 = 56\n",
      "3 x 28 = 84\n",
      "4 x 28 = 112\n",
      "5 x 28 = 140\n",
      "6 x 28 = 168\n",
      "7 x 28 = 196\n",
      "8 x 28 = 224\n",
      "9 x 28 = 252\n",
      "10 x 28 = 280\n",
      "\n",
      "1 x 29 = 29\n",
      "2 x 29 = 58\n",
      "3 x 29 = 87\n",
      "4 x 29 = 116\n",
      "5 x 29 = 145\n",
      "6 x 29 = 174\n",
      "7 x 29 = 203\n",
      "8 x 29 = 232\n",
      "9 x 29 = 261\n",
      "10 x 29 = 290\n",
      "\n",
      "1 x 30 = 30\n",
      "2 x 30 = 60\n",
      "3 x 30 = 90\n",
      "4 x 30 = 120\n",
      "5 x 30 = 150\n",
      "6 x 30 = 180\n",
      "7 x 30 = 210\n",
      "8 x 30 = 240\n",
      "9 x 30 = 270\n",
      "10 x 30 = 300\n",
      "\n",
      "1 x 31 = 31\n",
      "2 x 31 = 62\n",
      "3 x 31 = 93\n",
      "4 x 31 = 124\n",
      "5 x 31 = 155\n",
      "6 x 31 = 186\n",
      "7 x 31 = 217\n",
      "8 x 31 = 248\n",
      "9 x 31 = 279\n",
      "10 x 31 = 310\n",
      "\n",
      "1 x 32 = 32\n",
      "2 x 32 = 64\n",
      "3 x 32 = 96\n",
      "4 x 32 = 128\n",
      "5 x 32 = 160\n",
      "6 x 32 = 192\n",
      "7 x 32 = 224\n",
      "8 x 32 = 256\n",
      "9 x 32 = 288\n",
      "10 x 32 = 320\n",
      "\n",
      "1 x 33 = 33\n",
      "2 x 33 = 66\n",
      "3 x 33 = 99\n",
      "4 x 33 = 132\n",
      "5 x 33 = 165\n",
      "6 x 33 = 198\n",
      "7 x 33 = 231\n",
      "8 x 33 = 264\n",
      "9 x 33 = 297\n",
      "10 x 33 = 330\n",
      "\n",
      "1 x 34 = 34\n",
      "2 x 34 = 68\n",
      "3 x 34 = 102\n",
      "4 x 34 = 136\n",
      "5 x 34 = 170\n",
      "6 x 34 = 204\n",
      "7 x 34 = 238\n",
      "8 x 34 = 272\n",
      "9 x 34 = 306\n",
      "10 x 34 = 340\n",
      "\n",
      "1 x 35 = 35\n",
      "2 x 35 = 70\n",
      "3 x 35 = 105\n",
      "4 x 35 = 140\n",
      "5 x 35 = 175\n",
      "6 x 35 = 210\n",
      "7 x 35 = 245\n",
      "8 x 35 = 280\n",
      "9 x 35 = 315\n",
      "10 x 35 = 350\n",
      "\n",
      "1 x 36 = 36\n",
      "2 x 36 = 72\n",
      "3 x 36 = 108\n",
      "4 x 36 = 144\n",
      "5 x 36 = 180\n",
      "6 x 36 = 216\n",
      "7 x 36 = 252\n",
      "8 x 36 = 288\n",
      "9 x 36 = 324\n",
      "10 x 36 = 360\n",
      "\n",
      "1 x 37 = 37\n",
      "2 x 37 = 74\n",
      "3 x 37 = 111\n",
      "4 x 37 = 148\n",
      "5 x 37 = 185\n",
      "6 x 37 = 222\n",
      "7 x 37 = 259\n",
      "8 x 37 = 296\n",
      "9 x 37 = 333\n",
      "10 x 37 = 370\n",
      "\n",
      "1 x 38 = 38\n",
      "2 x 38 = 76\n",
      "3 x 38 = 114\n",
      "4 x 38 = 152\n",
      "5 x 38 = 190\n",
      "6 x 38 = 228\n",
      "7 x 38 = 266\n",
      "8 x 38 = 304\n",
      "9 x 38 = 342\n",
      "10 x 38 = 380\n",
      "\n",
      "1 x 39 = 39\n",
      "2 x 39 = 78\n",
      "3 x 39 = 117\n",
      "4 x 39 = 156\n",
      "5 x 39 = 195\n",
      "6 x 39 = 234\n",
      "7 x 39 = 273\n",
      "8 x 39 = 312\n",
      "9 x 39 = 351\n",
      "10 x 39 = 390\n",
      "\n",
      "1 x 40 = 40\n",
      "2 x 40 = 80\n",
      "3 x 40 = 120\n",
      "4 x 40 = 160\n",
      "5 x 40 = 200\n",
      "6 x 40 = 240\n",
      "7 x 40 = 280\n",
      "8 x 40 = 320\n",
      "9 x 40 = 360\n",
      "10 x 40 = 400\n",
      "\n",
      "1 x 41 = 41\n",
      "2 x 41 = 82\n",
      "3 x 41 = 123\n",
      "4 x 41 = 164\n",
      "5 x 41 = 205\n",
      "6 x 41 = 246\n",
      "7 x 41 = 287\n",
      "8 x 41 = 328\n",
      "9 x 41 = 369\n",
      "10 x 41 = 410\n",
      "\n",
      "1 x 42 = 42\n",
      "2 x 42 = 84\n",
      "3 x 42 = 126\n",
      "4 x 42 = 168\n",
      "5 x 42 = 210\n",
      "6 x 42 = 252\n",
      "7 x 42 = 294\n",
      "8 x 42 = 336\n",
      "9 x 42 = 378\n",
      "10 x 42 = 420\n",
      "\n",
      "1 x 43 = 43\n",
      "2 x 43 = 86\n",
      "3 x 43 = 129\n",
      "4 x 43 = 172\n",
      "5 x 43 = 215\n",
      "6 x 43 = 258\n",
      "7 x 43 = 301\n",
      "8 x 43 = 344\n",
      "9 x 43 = 387\n",
      "10 x 43 = 430\n",
      "\n",
      "1 x 44 = 44\n",
      "2 x 44 = 88\n",
      "3 x 44 = 132\n",
      "4 x 44 = 176\n",
      "5 x 44 = 220\n",
      "6 x 44 = 264\n",
      "7 x 44 = 308\n",
      "8 x 44 = 352\n",
      "9 x 44 = 396\n",
      "10 x 44 = 440\n",
      "\n",
      "1 x 45 = 45\n",
      "2 x 45 = 90\n",
      "3 x 45 = 135\n",
      "4 x 45 = 180\n",
      "5 x 45 = 225\n",
      "6 x 45 = 270\n",
      "7 x 45 = 315\n",
      "8 x 45 = 360\n",
      "9 x 45 = 405\n",
      "10 x 45 = 450\n"
     ]
    }
   ],
   "source": [
    "def tafel(getal: int):\n",
    "    teller: int = 1\n",
    "\n",
    "    while teller <= 10:\n",
    "        print(f'{teller} x {getal} = {teller * getal}')\n",
    "        teller += 1\n",
    "\n",
    "def tafels(getal: int):\n",
    "    teller: int = 1\n",
    "\n",
    "    while teller <= getal:\n",
    "        tafel(teller)\n",
    "        print() # for a new line\n",
    "        teller += 1\n",
    "\n",
    "x: int = int(input(\"Voer een getal in\"))\n",
    "\n",
    "# validate x is a positive number\n",
    "while x <= 0:\n",
    "    x = int(input(\"Voer een positief getal in\"))\n",
    "\n",
    "tafels(x)"
   ]
  },
  {
   "cell_type": "markdown",
   "metadata": {},
   "source": [
    "## For-loop"
   ]
  },
  {
   "cell_type": "markdown",
   "metadata": {},
   "source": [
    "Vervang de while-loop door een werkende for-loop. De uitkomst van het programma mag daarbij niet veranderen."
   ]
  },
  {
   "cell_type": "code",
   "execution_count": 38,
   "metadata": {
    "ExecuteTime": {
     "end_time": "2024-02-12T13:57:57.764413Z",
     "start_time": "2024-02-12T13:57:57.713613700Z"
    }
   },
   "outputs": [
    {
     "name": "stdout",
     "output_type": "stream",
     "text": [
      "huidige getal: 1\n",
      "huidige getal: 2\n",
      "huidige getal: 3\n",
      "huidige getal: 4\n",
      "huidige getal: 5\n",
      "huidige getal: 6\n",
      "huidige getal: 7\n",
      "huidige getal: 8\n",
      "huidige getal: 9\n",
      "huidige getal: 10\n"
     ]
    }
   ],
   "source": [
    "def loopje():\n",
    "    for aantal in range (1 , 11):\n",
    "        print(f\"huidige getal: {aantal}\")\n",
    "\n",
    "loopje()"
   ]
  },
  {
   "cell_type": "markdown",
   "metadata": {},
   "source": [
    "Schrijf de methode checkEven die achtereenvolgens 12 getallen inleest en afdrukt hoe vaak het ingevoerde getal even was."
   ]
  },
  {
   "cell_type": "code",
   "execution_count": 39,
   "metadata": {
    "ExecuteTime": {
     "end_time": "2024-02-12T13:58:07.174760700Z",
     "start_time": "2024-02-12T13:57:57.723069Z"
    }
   },
   "outputs": [
    {
     "name": "stdout",
     "output_type": "stream",
     "text": [
      "Er waren 8 even getallen\n"
     ]
    }
   ],
   "source": [
    "def checkeven():\n",
    "    even = 0\n",
    "    for i in range(12):\n",
    "        getal = int(input(\"Voer een getal in. Dit is getal nummer \" + str(i + 1) + \" van de 12\"))\n",
    "        if getal % 2 == 0:\n",
    "            even += 1\n",
    "    print(f\"Er waren {even} even getallen\")\n",
    "\n",
    "checkeven()"
   ]
  },
  {
   "cell_type": "markdown",
   "metadata": {},
   "source": [
    "## Objectoriëntatie"
   ]
  },
  {
   "cell_type": "markdown",
   "metadata": {},
   "source": [
    "Maak een minisysteem voor een kledingwinkel. Maak verschillende klassen voor verschillende soorten kledingstukken, waarbij sommige klassen geërfd worden van andere klassen.\n",
    "- Maak een klasse Kledingstuk aan, waarin door de constructor een merk, een maat en een prijs geïnitialiseerd worden.\n",
    "- Maak een klasse Broek en een klasse Shirt, beide erven van de klasse Kledingstuk. Voeg aan Broek een broek_type, en aan Shirt een shirt_type toe (d.m.v. constructorgebruik).\n",
    "- Maak een klasse Spijkerbroek die erft van broek en een klasse Poloshirt die erft van shirt. Voeg aan Spijkerbroek een blauwtint toe, en aan Poloshirt een kraagsoort (d.m.v. constructorgebruik).\n",
    "- Implementeer in elke klasse een beschrijf-methode, waarmee alle informatie over het betreffende kledingstuk wordt afgedrukt.\n",
    "- Maak van elke klasse een object aan en roep de beschrijfmethode aan. Controleer nauwkeurig of alles naar behoren werkt."
   ]
  },
  {
   "cell_type": "code",
   "outputs": [
    {
     "name": "stdout",
     "output_type": "stream",
     "text": [
      "Merk: Levi's\n",
      "Maat: M\n",
      "Prijs: 50.0\n",
      "Broek type: Skinny\n",
      "\n",
      "Merk: H&M\n",
      "Maat: S\n",
      "Prijs: 20.0\n",
      "Shirt type: T-shirt\n",
      "\n",
      "Merk: Levi's\n",
      "Maat: M\n",
      "Prijs: 50.0\n",
      "Broek type: Skinny\n",
      "Blauwtint: Donkerblauw\n",
      "\n",
      "Merk: H&M\n",
      "Maat: S\n",
      "Prijs: 20.0\n",
      "Shirt type: Polo\n",
      "Kraagsoort: Kraag met knoopjes\n"
     ]
    }
   ],
   "source": [
    "class Kledingstuk:\n",
    "    def __init__(self, merk: str, maat: str, prijs: float):\n",
    "        self.merk = merk\n",
    "        self.maat = maat\n",
    "        self.prijs = prijs\n",
    "\n",
    "    def beschrijf(self):\n",
    "        print(f\"Merk: {self.merk}\\nMaat: {self.maat}\\nPrijs: {self.prijs}\")\n",
    "        \n",
    "class Broek(Kledingstuk):\n",
    "    def __init__(self, merk: str, maat: str, prijs: float, broek_type: str):\n",
    "        super().__init__(merk, maat, prijs)\n",
    "        self.broek_type = broek_type\n",
    "\n",
    "    def beschrijf(self):\n",
    "        super().beschrijf()\n",
    "        print(f\"Broek type: {self.broek_type}\")\n",
    "        \n",
    "        \n",
    "class Shirt(Kledingstuk):\n",
    "    def __init__(self, merk: str, maat: str, prijs: float, shirt_type: str):\n",
    "        super().__init__(merk, maat, prijs)\n",
    "        self.shirt_type = shirt_type\n",
    "\n",
    "    def beschrijf(self):\n",
    "        super().beschrijf()\n",
    "        print(f\"Shirt type: {self.shirt_type}\")\n",
    "        \n",
    "class Spijkerbroek(Broek):\n",
    "    def __init__(self, merk: str, maat: str, prijs: float, broek_type: str, blauwtint: str):\n",
    "        super().__init__(merk, maat, prijs, broek_type)\n",
    "        self.blauwtint = blauwtint\n",
    "\n",
    "    def beschrijf(self):\n",
    "        super().beschrijf()\n",
    "        print(f\"Blauwtint: {self.blauwtint}\")\n",
    "        \n",
    "class Poloshirt(Shirt):\n",
    "    def __init__(self, merk: str, maat: str, prijs: float, shirt_type: str, kraagsoort: str):\n",
    "        super().__init__(merk, maat, prijs, shirt_type)\n",
    "        self.kraagsoort = kraagsoort\n",
    "\n",
    "    def beschrijf(self):\n",
    "        super().beschrijf()\n",
    "        print(f\"Kraagsoort: {self.kraagsoort}\")\n",
    "        \n",
    "broek = Broek(\"Levi's\", \"M\", 50.0, \"Skinny\")\n",
    "broek.beschrijf()\n",
    "\n",
    "print() # for a new line\n",
    "\n",
    "shirt = Shirt(\"H&M\", \"S\", 20.0, \"T-shirt\")\n",
    "shirt.beschrijf()\n",
    "\n",
    "print() # for a new line\n",
    "\n",
    "spijkerbroek = Spijkerbroek(\"Levi's\", \"M\", 50.0, \"Skinny\", \"Donkerblauw\")\n",
    "spijkerbroek.beschrijf()\n",
    "\n",
    "print() # for a new line\n",
    "\n",
    "poloshirt = Poloshirt(\"H&M\", \"S\", 20.0, \"Polo\", \"Kraag met knoopjes\")\n",
    "poloshirt.beschrijf()"
   ],
   "metadata": {
    "collapsed": false,
    "ExecuteTime": {
     "end_time": "2024-02-12T13:58:07.176759300Z",
     "start_time": "2024-02-12T13:58:07.173246300Z"
    }
   },
   "execution_count": 40
  },
  {
   "cell_type": "markdown",
   "metadata": {},
   "source": [
    "Opmerking: in themaweken 2 t/m 8 ga je objectoriëntatie waarschijnlijk veel minder vaak gebruiken dan de andere boven- en ondergenoemde programmeertechnieken.<br>\n",
    "Maar let op: in themaweken 9 en 10 komt objectoriëntatie <b><u>uitvoerig</u></b> aan de orde. Zorg dus dat je deze kennis niet vergeet!"
   ]
  },
  {
   "cell_type": "markdown",
   "metadata": {},
   "source": [
    "## Verzamelingen"
   ]
  },
  {
   "cell_type": "markdown",
   "metadata": {},
   "source": [
    "Kijk nu naar alle info onder het kopje *Verzamelingen* van de cheatsheet *Van Java naar Python - Cheatsheet*."
   ]
  },
  {
   "cell_type": "markdown",
   "metadata": {},
   "source": [
    "Initialiseer een lijst met de naam mijn_lijst met de volgende waarden:<br>\n",
    "Jelle, Marleen, Henk, Fatima, Jelle, Henk"
   ]
  },
  {
   "cell_type": "code",
   "execution_count": 41,
   "metadata": {
    "ExecuteTime": {
     "end_time": "2024-02-12T13:58:07.244812700Z",
     "start_time": "2024-02-12T13:58:07.176759300Z"
    }
   },
   "outputs": [],
   "source": [
    "mijn_lijst = [\"Jelle\", \"Marleen\", \"Henk\", \"Fatima\", \"Jelle\", \"Henk\"]"
   ]
  },
  {
   "cell_type": "markdown",
   "metadata": {},
   "source": [
    "Probeer nu de eerste waarde uit te lijst te veranderen in een naam naar keuze. Lukt dat?"
   ]
  },
  {
   "cell_type": "code",
   "execution_count": 42,
   "metadata": {
    "ExecuteTime": {
     "end_time": "2024-02-12T13:58:07.245363600Z",
     "start_time": "2024-02-12T13:58:07.198432Z"
    }
   },
   "outputs": [
    {
     "name": "stdout",
     "output_type": "stream",
     "text": [
      "['Jelle2', 'Marleen', 'Henk', 'Fatima', 'Jelle', 'Henk']\n"
     ]
    }
   ],
   "source": [
    "mijn_lijst[0] = \"Jelle2\"\n",
    "print(mijn_lijst)"
   ]
  },
  {
   "cell_type": "markdown",
   "metadata": {},
   "source": [
    "Maak van bovengenoemde lijst nu een tupel, genaamd: mijn_tupel."
   ]
  },
  {
   "cell_type": "code",
   "execution_count": 43,
   "metadata": {
    "ExecuteTime": {
     "end_time": "2024-02-12T13:58:07.246371200Z",
     "start_time": "2024-02-12T13:58:07.209541300Z"
    }
   },
   "outputs": [
    {
     "name": "stdout",
     "output_type": "stream",
     "text": [
      "('Jelle2', 'Marleen', 'Henk', 'Fatima', 'Jelle', 'Henk')\n"
     ]
    }
   ],
   "source": [
    "mijn_tupple = tuple(mijn_lijst)\n",
    "print(mijn_tupple)"
   ]
  },
  {
   "cell_type": "markdown",
   "metadata": {},
   "source": [
    "Probeer nu de eerste waarde uit te tupel te veranderen in een naam naar keuze. Lukt dat?"
   ]
  },
  {
   "cell_type": "code",
   "execution_count": 44,
   "metadata": {
    "ExecuteTime": {
     "end_time": "2024-02-12T13:58:07.247371Z",
     "start_time": "2024-02-12T13:58:07.218918Z"
    }
   },
   "outputs": [
    {
     "name": "stdout",
     "output_type": "stream",
     "text": [
      "Kan niet, een tupel is immutable\n"
     ]
    }
   ],
   "source": [
    "try:\n",
    "    mijn_tupple[0] = \"Jelle3\"\n",
    "except TypeError: print(\"Kan niet, een tupel is immutable\")"
   ]
  },
  {
   "cell_type": "markdown",
   "metadata": {},
   "source": [
    "Initialiseer een dictionary met de volgende key-value-combinaties:\n",
    "- naam: \"Jelle\"\n",
    "- leeftijd: 28\n",
    "- beroep: \"Docent\"\n",
    "- hobby: \"Volleybal\""
   ]
  },
  {
   "cell_type": "code",
   "execution_count": 47,
   "metadata": {
    "ExecuteTime": {
     "end_time": "2024-02-12T13:59:51.394832900Z",
     "start_time": "2024-02-12T13:59:51.362641300Z"
    }
   },
   "outputs": [],
   "source": [
    "mijn_dictionary = {\"naam\": \"Jelle\", \"leeftijd\": 28, \"beroep\": \"Docent\", \"hobby\": \"Volleybal\"}"
   ]
  },
  {
   "cell_type": "markdown",
   "metadata": {},
   "source": [
    "Probeer nu de naam te veranderen naar een naam naar keuze. Lukt dat?"
   ]
  },
  {
   "cell_type": "code",
   "execution_count": 48,
   "metadata": {
    "ExecuteTime": {
     "end_time": "2024-02-12T13:59:54.009290400Z",
     "start_time": "2024-02-12T13:59:54.000554200Z"
    }
   },
   "outputs": [
    {
     "name": "stdout",
     "output_type": "stream",
     "text": [
      "{'naam': 'Jelle2', 'leeftijd': 28, 'beroep': 'Docent', 'hobby': 'Volleybal'}\n"
     ]
    }
   ],
   "source": [
    "mijn_dictionary[\"naam\"] = \"Jelle2\"\n",
    "print(mijn_dictionary)"
   ]
  }
 ],
 "metadata": {
  "kernelspec": {
   "display_name": "python-in-deds-P4iSP_yI-py3.11",
   "language": "python",
   "name": "python3"
  },
  "language_info": {
   "codemirror_mode": {
    "name": "ipython",
    "version": 3
   },
   "file_extension": ".py",
   "mimetype": "text/x-python",
   "name": "python",
   "nbconvert_exporter": "python",
   "pygments_lexer": "ipython3",
   "version": "3.11.4"
  }
 },
 "nbformat": 4,
 "nbformat_minor": 2
}
