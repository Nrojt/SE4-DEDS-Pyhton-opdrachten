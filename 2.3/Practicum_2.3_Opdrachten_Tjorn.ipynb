{
 "cells": [
  {
   "cell_type": "markdown",
   "metadata": {},
   "source": [
    "# Practicumopdrachten Week 2.3 (eerste kans)"
   ]
  },
  {
   "cell_type": "markdown",
   "metadata": {},
   "source": [
    "## Dependencies importeren"
   ]
  },
  {
   "cell_type": "markdown",
   "metadata": {},
   "source": [
    "Kopieer in het codeblok hieronder van het vorige practicum de import-code voor de dependencies die het vaakst worden gebruikt om data in te lezen. Geef er ook de gebruikelijke aliassen aan.<br>\n",
    "Zet eventuele warnings uit."
   ]
  },
  {
   "cell_type": "code",
   "execution_count": 1,
   "metadata": {
    "ExecuteTime": {
     "end_time": "2024-02-16T13:37:49.705272900Z",
     "start_time": "2024-02-16T13:37:48.773972600Z"
    }
   },
   "outputs": [
    {
     "name": "stderr",
     "output_type": "stream",
     "text": [
      "C:\\Users\\tjorn\\AppData\\Local\\Temp\\ipykernel_23416\\2821951215.py:1: DeprecationWarning: \n",
      "Pyarrow will become a required dependency of pandas in the next major release of pandas (pandas 3.0),\n",
      "(to allow more performant data types, such as the Arrow string type, and better interoperability with other libraries)\n",
      "but was not found to be installed on your system.\n",
      "If this would cause problems for you,\n",
      "please provide us feedback at https://github.com/pandas-dev/pandas/issues/54466\n",
      "        \n",
      "  import pandas as pd\n"
     ]
    }
   ],
   "source": [
    "import pandas as pd\n",
    "import sqlite3\n",
    "import warnings\n",
    "warnings.simplefilter('ignore')"
   ]
  },
  {
   "cell_type": "markdown",
   "metadata": {},
   "source": [
    "Zet het bestand go_sales.sqlite in hetzelfde mapje als dit notebook."
   ]
  },
  {
   "cell_type": "markdown",
   "metadata": {},
   "source": [
    "## Databasetabellen inlezen"
   ]
  },
  {
   "cell_type": "markdown",
   "metadata": {},
   "source": [
    "Kopieer in het codeblok hieronder van het vorige practicum de code om een connectie met het bestand go_sales.sqlite te maken."
   ]
  },
  {
   "cell_type": "code",
   "execution_count": 2,
   "metadata": {
    "ExecuteTime": {
     "end_time": "2024-02-16T13:37:49.719271300Z",
     "start_time": "2024-02-16T13:37:49.692293500Z"
    }
   },
   "outputs": [],
   "source": [
    "dbconnection = sqlite3.connect('go_sales.sqlite')"
   ]
  },
  {
   "cell_type": "markdown",
   "metadata": {},
   "source": [
    "Lees van de ingelezen go_sales-database te volgende tabellen in met behulp van \"SELECT * FROM *tabel*\".\n",
    "- product\n",
    "- product_type\n",
    "- product_line\n",
    "- sales_staff\n",
    "- sales_branch\n",
    "- retailer_site\n",
    "- country\n",
    "- order_header\n",
    "- order_details\n",
    "- returned_item\n",
    "- return_reason\n",
    "- SALESTargetData"
   ]
  },
  {
   "cell_type": "code",
   "execution_count": 3,
   "metadata": {
    "ExecuteTime": {
     "end_time": "2024-02-16T13:37:49.985236300Z",
     "start_time": "2024-02-16T13:37:49.700275300Z"
    }
   },
   "outputs": [],
   "source": [
    "product = pd.read_sql(\"SELECT * FROM product\", dbconnection)\n",
    "product_type = pd.read_sql(\"SELECT * FROM product_type\", dbconnection)\n",
    "product_line = pd.read_sql(\"SELECT * FROM product_line\", dbconnection)\n",
    "sales_staff = pd.read_sql(\"SELECT * FROM sales_staff\", dbconnection)\n",
    "sales_branch = pd.read_sql(\"SELECT * FROM sales_branch\", dbconnection)\n",
    "retailer_site = pd.read_sql(\"SELECT * FROM retailer_site\", dbconnection)\n",
    "country = pd.read_sql(\"SELECT * FROM country\", dbconnection)\n",
    "order_header = pd.read_sql(\"SELECT * FROM order_header\", dbconnection)\n",
    "order_details = pd.read_sql(\"SELECT * FROM order_details\", dbconnection)\n",
    "returned_item = pd.read_sql(\"SELECT * FROM returned_item\", dbconnection)\n",
    "return_reason = pd.read_sql(\"SELECT * FROM return_reason\", dbconnection)\n",
    "sales_target_data = pd.read_sql(\"SELECT * FROM SALES_TARGETData\", dbconnection)"
   ]
  },
  {
   "cell_type": "markdown",
   "metadata": {},
   "source": [
    "Let op! Voor alle onderstaande opdrachten mag je <u>alleen Python</u> gebruiken, <u>geen SQL!</u>"
   ]
  },
  {
   "cell_type": "markdown",
   "metadata": {},
   "source": [
    "## Selecties op één tabel zonder functies"
   ]
  },
  {
   "cell_type": "markdown",
   "metadata": {},
   "source": [
    "Geef een overzicht met daarin de producten en hun productiekosten waarvan de productiekosten lager dan 100 dollar en hoger dan 50 dollar ligt. (2 kolommen, 23 rijen)"
   ]
  },
  {
   "cell_type": "code",
   "execution_count": 4,
   "metadata": {
    "ExecuteTime": {
     "end_time": "2024-02-16T13:37:50.004763500Z",
     "start_time": "2024-02-16T13:37:49.987238Z"
    }
   },
   "outputs": [
    {
     "data": {
      "text/plain": "                       PRODUCT_NAME  PRODUCTION_COST\n13                Blue Steel Putter            60.00\n14            Blue Steel Max Putter            81.80\n17              Course Pro Golf Bag            80.00\n24                  Hibernator Lite            60.00\n25                       Hibernator            86.00\n28  Hibernator Self - Inflating Mat            78.55\n31              Hibernator Camp Cot            65.33\n32     Canyon Mule Climber Backpack            62.50\n56          Granite Climbing Helmet            52.86\n58            Husky Harness Extreme            55.00\n69                   Granite Hammer            57.13\n71        TrailChef Deluxe Cook Set            85.11\n81                        Polar Ice            73.33\n83                     Polar Sports            80.00\n84                       Polar Wave            60.00\n85                    Polar Extreme            72.50\n88                     Edge Extreme            80.00\n91                        Seeker 35            79.19\n92                        Seeker 50            92.58\n93           TrailChef Double Flame            75.00\n94                   Seeker Extreme            94.12\n97                   Glacier Deluxe            56.25\n98                      Glacier GPS            78.55",
      "text/html": "<div>\n<style scoped>\n    .dataframe tbody tr th:only-of-type {\n        vertical-align: middle;\n    }\n\n    .dataframe tbody tr th {\n        vertical-align: top;\n    }\n\n    .dataframe thead th {\n        text-align: right;\n    }\n</style>\n<table border=\"1\" class=\"dataframe\">\n  <thead>\n    <tr style=\"text-align: right;\">\n      <th></th>\n      <th>PRODUCT_NAME</th>\n      <th>PRODUCTION_COST</th>\n    </tr>\n  </thead>\n  <tbody>\n    <tr>\n      <th>13</th>\n      <td>Blue Steel Putter</td>\n      <td>60.00</td>\n    </tr>\n    <tr>\n      <th>14</th>\n      <td>Blue Steel Max Putter</td>\n      <td>81.80</td>\n    </tr>\n    <tr>\n      <th>17</th>\n      <td>Course Pro Golf Bag</td>\n      <td>80.00</td>\n    </tr>\n    <tr>\n      <th>24</th>\n      <td>Hibernator Lite</td>\n      <td>60.00</td>\n    </tr>\n    <tr>\n      <th>25</th>\n      <td>Hibernator</td>\n      <td>86.00</td>\n    </tr>\n    <tr>\n      <th>28</th>\n      <td>Hibernator Self - Inflating Mat</td>\n      <td>78.55</td>\n    </tr>\n    <tr>\n      <th>31</th>\n      <td>Hibernator Camp Cot</td>\n      <td>65.33</td>\n    </tr>\n    <tr>\n      <th>32</th>\n      <td>Canyon Mule Climber Backpack</td>\n      <td>62.50</td>\n    </tr>\n    <tr>\n      <th>56</th>\n      <td>Granite Climbing Helmet</td>\n      <td>52.86</td>\n    </tr>\n    <tr>\n      <th>58</th>\n      <td>Husky Harness Extreme</td>\n      <td>55.00</td>\n    </tr>\n    <tr>\n      <th>69</th>\n      <td>Granite Hammer</td>\n      <td>57.13</td>\n    </tr>\n    <tr>\n      <th>71</th>\n      <td>TrailChef Deluxe Cook Set</td>\n      <td>85.11</td>\n    </tr>\n    <tr>\n      <th>81</th>\n      <td>Polar Ice</td>\n      <td>73.33</td>\n    </tr>\n    <tr>\n      <th>83</th>\n      <td>Polar Sports</td>\n      <td>80.00</td>\n    </tr>\n    <tr>\n      <th>84</th>\n      <td>Polar Wave</td>\n      <td>60.00</td>\n    </tr>\n    <tr>\n      <th>85</th>\n      <td>Polar Extreme</td>\n      <td>72.50</td>\n    </tr>\n    <tr>\n      <th>88</th>\n      <td>Edge Extreme</td>\n      <td>80.00</td>\n    </tr>\n    <tr>\n      <th>91</th>\n      <td>Seeker 35</td>\n      <td>79.19</td>\n    </tr>\n    <tr>\n      <th>92</th>\n      <td>Seeker 50</td>\n      <td>92.58</td>\n    </tr>\n    <tr>\n      <th>93</th>\n      <td>TrailChef Double Flame</td>\n      <td>75.00</td>\n    </tr>\n    <tr>\n      <th>94</th>\n      <td>Seeker Extreme</td>\n      <td>94.12</td>\n    </tr>\n    <tr>\n      <th>97</th>\n      <td>Glacier Deluxe</td>\n      <td>56.25</td>\n    </tr>\n    <tr>\n      <th>98</th>\n      <td>Glacier GPS</td>\n      <td>78.55</td>\n    </tr>\n  </tbody>\n</table>\n</div>"
     },
     "execution_count": 4,
     "metadata": {},
     "output_type": "execute_result"
    }
   ],
   "source": [
    "product['PRODUCTION_COST'] = product['PRODUCTION_COST'].astype(float)\n",
    "\n",
    "condition = (product['PRODUCTION_COST'] > 50) & (product['PRODUCTION_COST'] < 100)\n",
    "\n",
    "product.loc[condition, ['PRODUCT_NAME', 'PRODUCTION_COST']]"
   ]
  },
  {
   "cell_type": "markdown",
   "metadata": {},
   "source": [
    "Geef een overzicht met daarin de producten en hun marge waarvan de marge lager dan 20 % of hoger dan 60 % ligt. (2 kolommen, 7 rijen) "
   ]
  },
  {
   "cell_type": "code",
   "execution_count": 5,
   "metadata": {
    "ExecuteTime": {
     "end_time": "2024-02-16T13:37:50.036480100Z",
     "start_time": "2024-02-16T13:37:50.005760300Z"
    }
   },
   "outputs": [
    {
     "data": {
      "text/plain": "                     PRODUCT_NAME  MARGIN\n29                 Hibernator Pad    0.17\n32   Canyon Mule Climber Backpack    0.17\n100             BugShield Natural    0.67\n101               BugShield Spray    0.67\n102         BugShield Lotion Lite    0.70\n103              BugShield Lotion    0.63\n105             BugShield Extreme    0.63",
      "text/html": "<div>\n<style scoped>\n    .dataframe tbody tr th:only-of-type {\n        vertical-align: middle;\n    }\n\n    .dataframe tbody tr th {\n        vertical-align: top;\n    }\n\n    .dataframe thead th {\n        text-align: right;\n    }\n</style>\n<table border=\"1\" class=\"dataframe\">\n  <thead>\n    <tr style=\"text-align: right;\">\n      <th></th>\n      <th>PRODUCT_NAME</th>\n      <th>MARGIN</th>\n    </tr>\n  </thead>\n  <tbody>\n    <tr>\n      <th>29</th>\n      <td>Hibernator Pad</td>\n      <td>0.17</td>\n    </tr>\n    <tr>\n      <th>32</th>\n      <td>Canyon Mule Climber Backpack</td>\n      <td>0.17</td>\n    </tr>\n    <tr>\n      <th>100</th>\n      <td>BugShield Natural</td>\n      <td>0.67</td>\n    </tr>\n    <tr>\n      <th>101</th>\n      <td>BugShield Spray</td>\n      <td>0.67</td>\n    </tr>\n    <tr>\n      <th>102</th>\n      <td>BugShield Lotion Lite</td>\n      <td>0.70</td>\n    </tr>\n    <tr>\n      <th>103</th>\n      <td>BugShield Lotion</td>\n      <td>0.63</td>\n    </tr>\n    <tr>\n      <th>105</th>\n      <td>BugShield Extreme</td>\n      <td>0.63</td>\n    </tr>\n  </tbody>\n</table>\n</div>"
     },
     "execution_count": 5,
     "metadata": {},
     "output_type": "execute_result"
    }
   ],
   "source": [
    "product['MARGIN'] = product['MARGIN'].astype(float)\n",
    "\n",
    "condition = (product['MARGIN'] < 0.2) | (product['MARGIN'] > 0.6)\n",
    "\n",
    "product.loc[condition, ['PRODUCT_NAME', 'MARGIN']]"
   ]
  },
  {
   "cell_type": "markdown",
   "metadata": {},
   "source": [
    "Geef een overzicht met daarin de landen waar met francs wordt betaald. Sorteer de uitkomst op land.  (1 kolom, 3 rijen)"
   ]
  },
  {
   "cell_type": "code",
   "execution_count": 6,
   "metadata": {
    "ExecuteTime": {
     "end_time": "2024-02-16T13:37:50.073211600Z",
     "start_time": "2024-02-16T13:37:50.016982800Z"
    }
   },
   "outputs": [
    {
     "data": {
      "text/plain": "        COUNTRY\n7       Belgium\n0        France\n19  Switzerland",
      "text/html": "<div>\n<style scoped>\n    .dataframe tbody tr th:only-of-type {\n        vertical-align: middle;\n    }\n\n    .dataframe tbody tr th {\n        vertical-align: top;\n    }\n\n    .dataframe thead th {\n        text-align: right;\n    }\n</style>\n<table border=\"1\" class=\"dataframe\">\n  <thead>\n    <tr style=\"text-align: right;\">\n      <th></th>\n      <th>COUNTRY</th>\n    </tr>\n  </thead>\n  <tbody>\n    <tr>\n      <th>7</th>\n      <td>Belgium</td>\n    </tr>\n    <tr>\n      <th>0</th>\n      <td>France</td>\n    </tr>\n    <tr>\n      <th>19</th>\n      <td>Switzerland</td>\n    </tr>\n  </tbody>\n</table>\n</div>"
     },
     "execution_count": 6,
     "metadata": {},
     "output_type": "execute_result"
    }
   ],
   "source": [
    "condition = country['CURRENCY_NAME'] == 'francs'\n",
    "\n",
    "country.loc[condition, ['COUNTRY']].sort_values(by='COUNTRY')"
   ]
  },
  {
   "cell_type": "markdown",
   "metadata": {},
   "source": [
    "Geef een overzicht met daarin de verschillende introductiedatums waarop producten met meer dan 50% marge worden geïntroduceerd (1 kolom, 7 rijen) "
   ]
  },
  {
   "cell_type": "code",
   "execution_count": 7,
   "metadata": {
    "ExecuteTime": {
     "end_time": "2024-02-16T13:37:50.194904800Z",
     "start_time": "2024-02-16T13:37:50.027607600Z"
    }
   },
   "outputs": [
    {
     "data": {
      "text/plain": "    INTRODUCTION_DATE\n4          10-12-2019\n6          18-12-2019\n7          27-12-2019\n9           13-1-2020\n14         15-12-2019\n79         26-10-2016\n100         15-2-2011",
      "text/html": "<div>\n<style scoped>\n    .dataframe tbody tr th:only-of-type {\n        vertical-align: middle;\n    }\n\n    .dataframe tbody tr th {\n        vertical-align: top;\n    }\n\n    .dataframe thead th {\n        text-align: right;\n    }\n</style>\n<table border=\"1\" class=\"dataframe\">\n  <thead>\n    <tr style=\"text-align: right;\">\n      <th></th>\n      <th>INTRODUCTION_DATE</th>\n    </tr>\n  </thead>\n  <tbody>\n    <tr>\n      <th>4</th>\n      <td>10-12-2019</td>\n    </tr>\n    <tr>\n      <th>6</th>\n      <td>18-12-2019</td>\n    </tr>\n    <tr>\n      <th>7</th>\n      <td>27-12-2019</td>\n    </tr>\n    <tr>\n      <th>9</th>\n      <td>13-1-2020</td>\n    </tr>\n    <tr>\n      <th>14</th>\n      <td>15-12-2019</td>\n    </tr>\n    <tr>\n      <th>79</th>\n      <td>26-10-2016</td>\n    </tr>\n    <tr>\n      <th>100</th>\n      <td>15-2-2011</td>\n    </tr>\n  </tbody>\n</table>\n</div>"
     },
     "execution_count": 7,
     "metadata": {},
     "output_type": "execute_result"
    }
   ],
   "source": [
    "condition = product['MARGIN'] > 0.5\n",
    "\n",
    "product.loc[condition, ['INTRODUCTION_DATE']].drop_duplicates()"
   ]
  },
  {
   "cell_type": "markdown",
   "metadata": {},
   "source": [
    "Geef een overzicht met daarin het eerste adres en de stad van verkoopafdelingen waarvan zowel het tweede adres als de regio bekend is (2 kolommen, 28 rijen)"
   ]
  },
  {
   "cell_type": "code",
   "execution_count": 8,
   "metadata": {
    "ExecuteTime": {
     "end_time": "2024-02-16T13:37:50.223217Z",
     "start_time": "2024-02-16T13:37:50.040494100Z"
    }
   },
   "outputs": [
    {
     "data": {
      "text/plain": "                            ADDRESS1              CITY\n10  Prol. Paseo de la Reforma No. 51  Distrito Federal\n11               202-2-3 Hyakunincho             Tokyo\n12                     543-225 Asahi        Osaka City\n13                  2315 Queen's Ave         Melbourne\n15             Avenida Paulista, 333         São Paulo\n21                    3 Albany Court        Birmingham\n27               Singelgravenplein 4         Amsterdam",
      "text/html": "<div>\n<style scoped>\n    .dataframe tbody tr th:only-of-type {\n        vertical-align: middle;\n    }\n\n    .dataframe tbody tr th {\n        vertical-align: top;\n    }\n\n    .dataframe thead th {\n        text-align: right;\n    }\n</style>\n<table border=\"1\" class=\"dataframe\">\n  <thead>\n    <tr style=\"text-align: right;\">\n      <th></th>\n      <th>ADDRESS1</th>\n      <th>CITY</th>\n    </tr>\n  </thead>\n  <tbody>\n    <tr>\n      <th>10</th>\n      <td>Prol. Paseo de la Reforma No. 51</td>\n      <td>Distrito Federal</td>\n    </tr>\n    <tr>\n      <th>11</th>\n      <td>202-2-3 Hyakunincho</td>\n      <td>Tokyo</td>\n    </tr>\n    <tr>\n      <th>12</th>\n      <td>543-225 Asahi</td>\n      <td>Osaka City</td>\n    </tr>\n    <tr>\n      <th>13</th>\n      <td>2315 Queen's Ave</td>\n      <td>Melbourne</td>\n    </tr>\n    <tr>\n      <th>15</th>\n      <td>Avenida Paulista, 333</td>\n      <td>São Paulo</td>\n    </tr>\n    <tr>\n      <th>21</th>\n      <td>3 Albany Court</td>\n      <td>Birmingham</td>\n    </tr>\n    <tr>\n      <th>27</th>\n      <td>Singelgravenplein 4</td>\n      <td>Amsterdam</td>\n    </tr>\n  </tbody>\n</table>\n</div>"
     },
     "execution_count": 8,
     "metadata": {},
     "output_type": "execute_result"
    }
   ],
   "source": [
    "sales_branch.loc[(sales_branch['ADDRESS2'].notnull()) & (sales_branch['REGION'].notnull()), ['ADDRESS1', 'CITY']]"
   ]
  },
  {
   "cell_type": "markdown",
   "metadata": {},
   "source": [
    "Geef een overzicht met daarin de landen waar met dollars (dollars of new dollar) wordt betaald. Sorteer de uitkomst op land. (1 kolom, 4 rijen) "
   ]
  },
  {
   "cell_type": "code",
   "execution_count": 9,
   "metadata": {
    "ExecuteTime": {
     "end_time": "2024-02-16T13:37:50.252124700Z",
     "start_time": "2024-02-16T13:37:50.055217Z"
    }
   },
   "outputs": [
    {
     "data": {
      "text/plain": "          COUNTRY\n6       Australia\n15         Canada\n3          Taiwan\n14  United States",
      "text/html": "<div>\n<style scoped>\n    .dataframe tbody tr th:only-of-type {\n        vertical-align: middle;\n    }\n\n    .dataframe tbody tr th {\n        vertical-align: top;\n    }\n\n    .dataframe thead th {\n        text-align: right;\n    }\n</style>\n<table border=\"1\" class=\"dataframe\">\n  <thead>\n    <tr style=\"text-align: right;\">\n      <th></th>\n      <th>COUNTRY</th>\n    </tr>\n  </thead>\n  <tbody>\n    <tr>\n      <th>6</th>\n      <td>Australia</td>\n    </tr>\n    <tr>\n      <th>15</th>\n      <td>Canada</td>\n    </tr>\n    <tr>\n      <th>3</th>\n      <td>Taiwan</td>\n    </tr>\n    <tr>\n      <th>14</th>\n      <td>United States</td>\n    </tr>\n  </tbody>\n</table>\n</div>"
     },
     "execution_count": 9,
     "metadata": {},
     "output_type": "execute_result"
    }
   ],
   "source": [
    "condition = country['CURRENCY_NAME'].str.contains('dollar', case=False)\n",
    "country.loc[condition, ['COUNTRY']].sort_values(by='COUNTRY')"
   ]
  },
  {
   "cell_type": "markdown",
   "metadata": {},
   "source": [
    "Geef een overzicht met daarin beide adressen en de stad van vestigingen van klanten waarvan de postcode begint met een ‘D’ (van duitsland). Filter op vestigingen die een tweede adres hebben. (3 kolommen, 2 rijen) "
   ]
  },
  {
   "cell_type": "code",
   "execution_count": 10,
   "metadata": {
    "ExecuteTime": {
     "end_time": "2024-02-16T13:37:50.263379500Z",
     "start_time": "2024-02-16T13:37:50.069209400Z"
    }
   },
   "outputs": [
    {
     "data": {
      "text/plain": "             ADDRESS1       ADDRESS2       CITY\n205  Röntgenstraße 90  3. Tür rechts  Frankfurt\n351   Grubesallee 141       4. Stock    Hamburg",
      "text/html": "<div>\n<style scoped>\n    .dataframe tbody tr th:only-of-type {\n        vertical-align: middle;\n    }\n\n    .dataframe tbody tr th {\n        vertical-align: top;\n    }\n\n    .dataframe thead th {\n        text-align: right;\n    }\n</style>\n<table border=\"1\" class=\"dataframe\">\n  <thead>\n    <tr style=\"text-align: right;\">\n      <th></th>\n      <th>ADDRESS1</th>\n      <th>ADDRESS2</th>\n      <th>CITY</th>\n    </tr>\n  </thead>\n  <tbody>\n    <tr>\n      <th>205</th>\n      <td>Röntgenstraße 90</td>\n      <td>3. Tür rechts</td>\n      <td>Frankfurt</td>\n    </tr>\n    <tr>\n      <th>351</th>\n      <td>Grubesallee 141</td>\n      <td>4. Stock</td>\n      <td>Hamburg</td>\n    </tr>\n  </tbody>\n</table>\n</div>"
     },
     "execution_count": 10,
     "metadata": {},
     "output_type": "execute_result"
    }
   ],
   "source": [
    "condition = retailer_site['POSTAL_ZONE'].str.startswith('D') & retailer_site['ADDRESS2'].notnull()\n",
    "\n",
    "retailer_site.loc[condition, ['ADDRESS1', 'ADDRESS2', 'CITY']]"
   ]
  },
  {
   "cell_type": "markdown",
   "metadata": {},
   "source": [
    "## Selecties op één tabel met functies"
   ]
  },
  {
   "cell_type": "markdown",
   "metadata": {},
   "source": [
    "Geef het totaal aantal producten dat is teruggebracht (1 waarde) "
   ]
  },
  {
   "cell_type": "code",
   "execution_count": 11,
   "metadata": {
    "ExecuteTime": {
     "end_time": "2024-02-16T13:37:50.264380400Z",
     "start_time": "2024-02-16T13:37:50.083002500Z"
    }
   },
   "outputs": [
    {
     "data": {
      "text/plain": "14306"
     },
     "execution_count": 11,
     "metadata": {},
     "output_type": "execute_result"
    }
   ],
   "source": [
    "returned_item['RETURN_QUANTITY'] = returned_item['RETURN_QUANTITY'].astype(int)\n",
    "\n",
    "returned_item['RETURN_QUANTITY'].sum()"
   ]
  },
  {
   "cell_type": "markdown",
   "metadata": {},
   "source": [
    "Geef het aantal regio’s waarin verkoopafdelingen gevestigd zijn. (1 waarde)"
   ]
  },
  {
   "cell_type": "code",
   "execution_count": 12,
   "metadata": {
    "ExecuteTime": {
     "end_time": "2024-02-16T13:37:50.266380100Z",
     "start_time": "2024-02-16T13:37:50.094432Z"
    }
   },
   "outputs": [
    {
     "data": {
      "text/plain": "15"
     },
     "execution_count": 12,
     "metadata": {},
     "output_type": "execute_result"
    }
   ],
   "source": [
    "sales_branch['REGION'].drop_duplicates().count()"
   ]
  },
  {
   "cell_type": "markdown",
   "metadata": {},
   "source": [
    "Maak 3 variabelen:\n",
    "- Een met de laagste\n",
    "- Een met de hoogste\n",
    "- Een met de gemiddelde (afgerond op 2 decimalen)\n",
    "\n",
    "marge van producten (3 kolommen, 1 rij) "
   ]
  },
  {
   "cell_type": "code",
   "execution_count": 13,
   "metadata": {
    "ExecuteTime": {
     "end_time": "2024-02-16T13:37:50.267584200Z",
     "start_time": "2024-02-16T13:37:50.105291200Z"
    }
   },
   "outputs": [
    {
     "data": {
      "text/plain": "   min_marge  max_marge  avg_marge\n0       0.17        0.7        0.4",
      "text/html": "<div>\n<style scoped>\n    .dataframe tbody tr th:only-of-type {\n        vertical-align: middle;\n    }\n\n    .dataframe tbody tr th {\n        vertical-align: top;\n    }\n\n    .dataframe thead th {\n        text-align: right;\n    }\n</style>\n<table border=\"1\" class=\"dataframe\">\n  <thead>\n    <tr style=\"text-align: right;\">\n      <th></th>\n      <th>min_marge</th>\n      <th>max_marge</th>\n      <th>avg_marge</th>\n    </tr>\n  </thead>\n  <tbody>\n    <tr>\n      <th>0</th>\n      <td>0.17</td>\n      <td>0.7</td>\n      <td>0.4</td>\n    </tr>\n  </tbody>\n</table>\n</div>"
     },
     "execution_count": 13,
     "metadata": {},
     "output_type": "execute_result"
    }
   ],
   "source": [
    "marge = product['MARGIN']\n",
    "min_marge = marge.min()\n",
    "max_marge = marge.max()\n",
    "avg_marge = marge.mean()\n",
    "\n",
    "# omzetten in een dataframe\n",
    "pd.DataFrame({'min_marge': [min_marge], 'max_marge': [max_marge], 'avg_marge': [round(avg_marge, 2)]})"
   ]
  },
  {
   "cell_type": "markdown",
   "metadata": {},
   "source": [
    "Geef het aantal vestigingen van klanten waarvan het 2e adres niet bekend is (1 waarde)"
   ]
  },
  {
   "cell_type": "code",
   "execution_count": 14,
   "metadata": {
    "ExecuteTime": {
     "end_time": "2024-02-16T13:37:50.323715100Z",
     "start_time": "2024-02-16T13:37:50.120760800Z"
    }
   },
   "outputs": [
    {
     "data": {
      "text/plain": "286"
     },
     "execution_count": 14,
     "metadata": {},
     "output_type": "execute_result"
    }
   ],
   "source": [
    "condition = retailer_site['ADDRESS2'].isnull()\n",
    "\n",
    "retailer_site.loc[condition, 'RETAILER_SITE_CODE'].count()"
   ]
  },
  {
   "cell_type": "markdown",
   "metadata": {},
   "source": [
    "Geef de gemiddelde kostprijs van de verkochte producten waarop korting (unit_sale_price < unit_price) is verleend (1 waarde) "
   ]
  },
  {
   "cell_type": "code",
   "execution_count": 15,
   "metadata": {
    "ExecuteTime": {
     "end_time": "2024-02-16T13:37:50.612773700Z",
     "start_time": "2024-02-16T13:37:50.131350900Z"
    }
   },
   "outputs": [
    {
     "data": {
      "text/plain": "125.42305809556548"
     },
     "execution_count": 15,
     "metadata": {},
     "output_type": "execute_result"
    }
   ],
   "source": [
    "# strings (varchar) omzetten naar floats\n",
    "order_details['UNIT_PRICE'] = order_details['UNIT_PRICE'].astype(float)\n",
    "order_details['UNIT_SALE_PRICE'] = order_details['UNIT_SALE_PRICE'].astype(float)\n",
    "order_details['UNIT_COST'] = order_details['UNIT_COST'].astype(float)\n",
    "\n",
    "condition = order_details['UNIT_SALE_PRICE'] < order_details['UNIT_PRICE']\n",
    "\n",
    "order_details.loc[condition, 'UNIT_COST'].mean()\n"
   ]
  },
  {
   "cell_type": "markdown",
   "metadata": {},
   "source": [
    "Geef een overzicht met daarin het aantal medewerkers per medewerkersfunctie (2 kolommen, 7 rijen) "
   ]
  },
  {
   "cell_type": "code",
   "execution_count": 16,
   "metadata": {
    "ExecuteTime": {
     "end_time": "2024-02-16T13:37:50.615777800Z",
     "start_time": "2024-02-16T13:37:50.193904800Z"
    }
   },
   "outputs": [
    {
     "data": {
      "text/plain": "POSITION_EN\nLevel 2 Sales Representative    39\nLevel 3 Sales Representative    24\nBranch Manager                  19\nLevel 1 Sales Representative    13\nDistrict Manager                 4\nRegional Manager                 2\nGeneral Manager                  1\nName: count, dtype: int64"
     },
     "execution_count": 16,
     "metadata": {},
     "output_type": "execute_result"
    }
   ],
   "source": [
    "sales_staff['POSITION_EN'].value_counts()"
   ]
  },
  {
   "cell_type": "markdown",
   "metadata": {},
   "source": [
    "Geef een overzicht met daarin per telefoonnummer het aantal medewerkers dat op dat telefoonnummer bereikbaar is. Toon alleen de telefoonnummer waarop meer dan 4 medewerkers bereikbaar zijn. (2 kolommen, 10 rijen) "
   ]
  },
  {
   "cell_type": "code",
   "execution_count": 17,
   "metadata": {
    "ExecuteTime": {
     "end_time": "2024-02-16T13:37:50.616776300Z",
     "start_time": "2024-02-16T13:37:50.202662300Z"
    }
   },
   "outputs": [
    {
     "data": {
      "text/plain": "WORK_PHONE\n1 (305) 557-4810       6\n1 (617) 268-6754       6\n+31 (0)20 692 93 94    5\n1 (403) 232-5986       5\n+(61) 03 2982  4242    5\n+(44) 121 3505267      5\n1 (310) 281-5722       5\n+33 1 68 94 52 20      5\n1 (206) 292-0012       5\n1 (416) 493-5595       5\nName: count, dtype: int64"
     },
     "execution_count": 17,
     "metadata": {},
     "output_type": "execute_result"
    }
   ],
   "source": [
    "phone_counts = sales_staff['WORK_PHONE'].value_counts()\n",
    "filtered_phone_counts = phone_counts[phone_counts > 4].dropna() #dropna() is nodig om de NaN-waarde te verwijderen\n",
    "\n",
    "filtered_phone_counts"
   ]
  },
  {
   "cell_type": "markdown",
   "metadata": {},
   "source": [
    "## Selecties op meerdere tabellen zonder functies"
   ]
  },
  {
   "cell_type": "markdown",
   "metadata": {},
   "source": [
    "Geef een overzicht met daarin het eerste adres en de stad van vestigingen van klanten uit ‘Netherlands’ (2 kolommen, 20 rijen) "
   ]
  },
  {
   "cell_type": "code",
   "execution_count": 18,
   "metadata": {
    "ExecuteTime": {
     "end_time": "2024-02-16T13:37:50.651781500Z",
     "start_time": "2024-02-16T13:37:50.214214700Z"
    }
   },
   "outputs": [
    {
     "data": {
      "text/plain": "                      ADDRESS1          CITY\n164                   Beets 36         Beets\n165               Perestraat 1      Deventer\n166  Laan van Meerdervoort 966      Den Haag\n167             Kalfjeslaan 47    Amstelveen\n168               Startbaan 11    Amstelveen\n169      Noorderspoorsingel 28     Groningen\n170              Hogehilweg 13     Amsterdam\n171             Spoorstraat 43    Varsseveld\n173             Westhavenweg 8     Amsterdam\n174              Westzeedijk 4        Muiden\n175            Gooiergracht 91         Laren\n176            Hoofdstraat 150   Pieterburen\n177                Olde Diek 2         Laren\n178     Amsterdamsestraatweg 8      Maarssen\n179        Krayenhoffstraat 11     Amsterdam\n180         Overschiestraat 19     Amsterdam\n181              Havenbuurt 12        Marken\n182               Duivendaal 1    Wageningen\n184              Voorstraat 37  Nieuweschans\n185         Stadhouderslaan 18     Rotterdam",
      "text/html": "<div>\n<style scoped>\n    .dataframe tbody tr th:only-of-type {\n        vertical-align: middle;\n    }\n\n    .dataframe tbody tr th {\n        vertical-align: top;\n    }\n\n    .dataframe thead th {\n        text-align: right;\n    }\n</style>\n<table border=\"1\" class=\"dataframe\">\n  <thead>\n    <tr style=\"text-align: right;\">\n      <th></th>\n      <th>ADDRESS1</th>\n      <th>CITY</th>\n    </tr>\n  </thead>\n  <tbody>\n    <tr>\n      <th>164</th>\n      <td>Beets 36</td>\n      <td>Beets</td>\n    </tr>\n    <tr>\n      <th>165</th>\n      <td>Perestraat 1</td>\n      <td>Deventer</td>\n    </tr>\n    <tr>\n      <th>166</th>\n      <td>Laan van Meerdervoort 966</td>\n      <td>Den Haag</td>\n    </tr>\n    <tr>\n      <th>167</th>\n      <td>Kalfjeslaan 47</td>\n      <td>Amstelveen</td>\n    </tr>\n    <tr>\n      <th>168</th>\n      <td>Startbaan 11</td>\n      <td>Amstelveen</td>\n    </tr>\n    <tr>\n      <th>169</th>\n      <td>Noorderspoorsingel 28</td>\n      <td>Groningen</td>\n    </tr>\n    <tr>\n      <th>170</th>\n      <td>Hogehilweg 13</td>\n      <td>Amsterdam</td>\n    </tr>\n    <tr>\n      <th>171</th>\n      <td>Spoorstraat 43</td>\n      <td>Varsseveld</td>\n    </tr>\n    <tr>\n      <th>173</th>\n      <td>Westhavenweg 8</td>\n      <td>Amsterdam</td>\n    </tr>\n    <tr>\n      <th>174</th>\n      <td>Westzeedijk 4</td>\n      <td>Muiden</td>\n    </tr>\n    <tr>\n      <th>175</th>\n      <td>Gooiergracht 91</td>\n      <td>Laren</td>\n    </tr>\n    <tr>\n      <th>176</th>\n      <td>Hoofdstraat 150</td>\n      <td>Pieterburen</td>\n    </tr>\n    <tr>\n      <th>177</th>\n      <td>Olde Diek 2</td>\n      <td>Laren</td>\n    </tr>\n    <tr>\n      <th>178</th>\n      <td>Amsterdamsestraatweg 8</td>\n      <td>Maarssen</td>\n    </tr>\n    <tr>\n      <th>179</th>\n      <td>Krayenhoffstraat 11</td>\n      <td>Amsterdam</td>\n    </tr>\n    <tr>\n      <th>180</th>\n      <td>Overschiestraat 19</td>\n      <td>Amsterdam</td>\n    </tr>\n    <tr>\n      <th>181</th>\n      <td>Havenbuurt 12</td>\n      <td>Marken</td>\n    </tr>\n    <tr>\n      <th>182</th>\n      <td>Duivendaal 1</td>\n      <td>Wageningen</td>\n    </tr>\n    <tr>\n      <th>184</th>\n      <td>Voorstraat 37</td>\n      <td>Nieuweschans</td>\n    </tr>\n    <tr>\n      <th>185</th>\n      <td>Stadhouderslaan 18</td>\n      <td>Rotterdam</td>\n    </tr>\n  </tbody>\n</table>\n</div>"
     },
     "execution_count": 18,
     "metadata": {},
     "output_type": "execute_result"
    }
   ],
   "source": [
    "# retailer_site['COUNTRY_CODE'] is een foreign key naar country['COUNTRY_CODE']\n",
    "\n",
    "merged_df = pd.merge(retailer_site, country, on='COUNTRY_CODE')\n",
    "condition = merged_df['COUNTRY'] == 'Netherlands'\n",
    "\n",
    "merged_df.loc[condition, ['ADDRESS1', 'CITY']]\n"
   ]
  },
  {
   "cell_type": "markdown",
   "metadata": {},
   "source": [
    "Geef een overzicht met daarin de productnamen die tot het producttype ‘Eyewear’ behoren. (1 kolom, 5 rijen) "
   ]
  },
  {
   "cell_type": "code",
   "execution_count": 19,
   "metadata": {
    "ExecuteTime": {
     "end_time": "2024-02-16T13:37:50.653777800Z",
     "start_time": "2024-02-16T13:37:50.230188900Z"
    }
   },
   "outputs": [
    {
     "data": {
      "text/plain": "80        Polar Sun\n81        Polar Ice\n83     Polar Sports\n84       Polar Wave\n85    Polar Extreme\nName: PRODUCT_NAME, dtype: object"
     },
     "execution_count": 19,
     "metadata": {},
     "output_type": "execute_result"
    }
   ],
   "source": [
    "merged_df = pd.merge(product, product_type, on='PRODUCT_TYPE_CODE')\n",
    "condition = merged_df['PRODUCT_TYPE_EN'] == 'Eyewear'\n",
    "merged_df.loc[condition, 'PRODUCT_NAME']"
   ]
  },
  {
   "cell_type": "markdown",
   "metadata": {},
   "source": [
    "Geef een overzicht met daarin alle unieke eerste adressen van klantvestigingen en de voornaam en achternaam van de verkopers die ‘Branch Manager’ zijn en aan deze vestigingen hebben verkocht (3 kolommen, 1 rij) "
   ]
  },
  {
   "cell_type": "code",
   "execution_count": 20,
   "metadata": {
    "ExecuteTime": {
     "end_time": "2024-02-16T13:37:50.681496800Z",
     "start_time": "2024-02-16T13:37:50.242921500Z"
    }
   },
   "outputs": [
    {
     "data": {
      "text/plain": "                  ADDRESS1 FIRST_NAME LAST_NAME\n3058  Alameda Santos, 9876     Bayard     Lopes",
      "text/html": "<div>\n<style scoped>\n    .dataframe tbody tr th:only-of-type {\n        vertical-align: middle;\n    }\n\n    .dataframe tbody tr th {\n        vertical-align: top;\n    }\n\n    .dataframe thead th {\n        text-align: right;\n    }\n</style>\n<table border=\"1\" class=\"dataframe\">\n  <thead>\n    <tr style=\"text-align: right;\">\n      <th></th>\n      <th>ADDRESS1</th>\n      <th>FIRST_NAME</th>\n      <th>LAST_NAME</th>\n    </tr>\n  </thead>\n  <tbody>\n    <tr>\n      <th>3058</th>\n      <td>Alameda Santos, 9876</td>\n      <td>Bayard</td>\n      <td>Lopes</td>\n    </tr>\n  </tbody>\n</table>\n</div>"
     },
     "execution_count": 20,
     "metadata": {},
     "output_type": "execute_result"
    }
   ],
   "source": [
    "merged_df_retailer_sales = pd.merge(retailer_site, order_header, on='RETAILER_SITE_CODE')\n",
    "\n",
    "merged_df_sales_staff = pd.merge(merged_df_retailer_sales, sales_staff, on='SALES_STAFF_CODE')\n",
    "\n",
    "condition = merged_df_sales_staff['POSITION_EN'] == 'Branch Manager'\n",
    "\n",
    "merged_df_sales_staff.loc[condition, ['ADDRESS1', 'FIRST_NAME', 'LAST_NAME']].drop_duplicates()"
   ]
  },
  {
   "cell_type": "markdown",
   "metadata": {},
   "source": [
    "Geef een overzicht met daarin van de verkopers hun functie en indien zij iets hebben verkocht de datum waarop de verkoop heeft plaatsgevonden. Laat alleen de verschillende namen van de posities zien van de verkopers die het woord ‘Manager’ in hun positienaam hebben staan. (2 kolommen, 9 rijen) "
   ]
  },
  {
   "cell_type": "code",
   "execution_count": 21,
   "metadata": {
    "ExecuteTime": {
     "end_time": "2024-02-16T13:37:50.693496600Z",
     "start_time": "2024-02-16T13:37:50.266380100Z"
    }
   },
   "outputs": [
    {
     "data": {
      "text/plain": "           POSITION_EN  ORDER_DATE\n421     Branch Manager         NaN\n422    General Manager         NaN\n1276  Regional Manager         NaN\n1643  District Manager         NaN\n5325    Branch Manager  2022-09-09\n5326    Branch Manager  2022-10-31\n5327    Branch Manager  2022-12-13\n5328    Branch Manager  2022-03-13\n5329    Branch Manager  2022-01-09",
      "text/html": "<div>\n<style scoped>\n    .dataframe tbody tr th:only-of-type {\n        vertical-align: middle;\n    }\n\n    .dataframe tbody tr th {\n        vertical-align: top;\n    }\n\n    .dataframe thead th {\n        text-align: right;\n    }\n</style>\n<table border=\"1\" class=\"dataframe\">\n  <thead>\n    <tr style=\"text-align: right;\">\n      <th></th>\n      <th>POSITION_EN</th>\n      <th>ORDER_DATE</th>\n    </tr>\n  </thead>\n  <tbody>\n    <tr>\n      <th>421</th>\n      <td>Branch Manager</td>\n      <td>NaN</td>\n    </tr>\n    <tr>\n      <th>422</th>\n      <td>General Manager</td>\n      <td>NaN</td>\n    </tr>\n    <tr>\n      <th>1276</th>\n      <td>Regional Manager</td>\n      <td>NaN</td>\n    </tr>\n    <tr>\n      <th>1643</th>\n      <td>District Manager</td>\n      <td>NaN</td>\n    </tr>\n    <tr>\n      <th>5325</th>\n      <td>Branch Manager</td>\n      <td>2022-09-09</td>\n    </tr>\n    <tr>\n      <th>5326</th>\n      <td>Branch Manager</td>\n      <td>2022-10-31</td>\n    </tr>\n    <tr>\n      <th>5327</th>\n      <td>Branch Manager</td>\n      <td>2022-12-13</td>\n    </tr>\n    <tr>\n      <th>5328</th>\n      <td>Branch Manager</td>\n      <td>2022-03-13</td>\n    </tr>\n    <tr>\n      <th>5329</th>\n      <td>Branch Manager</td>\n      <td>2022-01-09</td>\n    </tr>\n  </tbody>\n</table>\n</div>"
     },
     "execution_count": 21,
     "metadata": {},
     "output_type": "execute_result"
    }
   ],
   "source": [
    "merged_df = pd.merge(order_header, sales_staff, on='SALES_STAFF_CODE', how=\"outer\")\n",
    "\n",
    "condition = merged_df['POSITION_EN'].str.contains('Manager', case=False)\n",
    "\n",
    "merged_df.loc[condition,['POSITION_EN', 'ORDER_DATE']].drop_duplicates()"
   ]
  },
  {
   "cell_type": "markdown",
   "metadata": {},
   "source": [
    "Geef een overzicht met daarin de verschillende namen van producten en bijbehorende namen van producttypen van de producten waarvoor ooit meer dan 750 stuks tegelijk verkocht zijn. (2 kolommen, 9 rijen) "
   ]
  },
  {
   "cell_type": "code",
   "execution_count": 22,
   "metadata": {
    "ExecuteTime": {
     "end_time": "2024-02-16T13:37:50.734496900Z",
     "start_time": "2024-02-16T13:37:50.286332500Z"
    }
   },
   "outputs": [
    {
     "data": {
      "text/plain": "                PRODUCT_NAME    PRODUCT_TYPE_EN\n8616                Star Peg              Tents\n15975              Firefly 2           Lanterns\n37903        BugShield Spray  Insect Repellents\n38313  BugShield Lotion Lite  Insect Repellents\n38770       BugShield Lotion  Insect Repellents\n39618      BugShield Extreme  Insect Repellents\n40754         Sun Shelter 15          Sunscreen\n41106         Sun Shelter 30          Sunscreen\n41681             Sun Shield          Sunscreen",
      "text/html": "<div>\n<style scoped>\n    .dataframe tbody tr th:only-of-type {\n        vertical-align: middle;\n    }\n\n    .dataframe tbody tr th {\n        vertical-align: top;\n    }\n\n    .dataframe thead th {\n        text-align: right;\n    }\n</style>\n<table border=\"1\" class=\"dataframe\">\n  <thead>\n    <tr style=\"text-align: right;\">\n      <th></th>\n      <th>PRODUCT_NAME</th>\n      <th>PRODUCT_TYPE_EN</th>\n    </tr>\n  </thead>\n  <tbody>\n    <tr>\n      <th>8616</th>\n      <td>Star Peg</td>\n      <td>Tents</td>\n    </tr>\n    <tr>\n      <th>15975</th>\n      <td>Firefly 2</td>\n      <td>Lanterns</td>\n    </tr>\n    <tr>\n      <th>37903</th>\n      <td>BugShield Spray</td>\n      <td>Insect Repellents</td>\n    </tr>\n    <tr>\n      <th>38313</th>\n      <td>BugShield Lotion Lite</td>\n      <td>Insect Repellents</td>\n    </tr>\n    <tr>\n      <th>38770</th>\n      <td>BugShield Lotion</td>\n      <td>Insect Repellents</td>\n    </tr>\n    <tr>\n      <th>39618</th>\n      <td>BugShield Extreme</td>\n      <td>Insect Repellents</td>\n    </tr>\n    <tr>\n      <th>40754</th>\n      <td>Sun Shelter 15</td>\n      <td>Sunscreen</td>\n    </tr>\n    <tr>\n      <th>41106</th>\n      <td>Sun Shelter 30</td>\n      <td>Sunscreen</td>\n    </tr>\n    <tr>\n      <th>41681</th>\n      <td>Sun Shield</td>\n      <td>Sunscreen</td>\n    </tr>\n  </tbody>\n</table>\n</div>"
     },
     "execution_count": 22,
     "metadata": {},
     "output_type": "execute_result"
    }
   ],
   "source": [
    "merged_df_product_order = pd.merge(product, order_details, on='PRODUCT_NUMBER')\n",
    "\n",
    "merged_df = pd.merge(merged_df_product_order, product_type, on='PRODUCT_TYPE_CODE')\n",
    "\n",
    "condition = merged_df['QUANTITY'] > 750\n",
    "\n",
    "merged_df.loc[condition, ['PRODUCT_NAME', 'PRODUCT_TYPE_EN']].drop_duplicates()"
   ]
  },
  {
   "cell_type": "markdown",
   "metadata": {},
   "source": [
    "Geef een overzicht met daarin de productnamen waarvan ooit meer dan 40% korting is verleend. De formule voor korting is: (unit_price - unit_sale_price) / unit_price (1 kolom, 8 rijen) "
   ]
  },
  {
   "cell_type": "code",
   "execution_count": 23,
   "metadata": {
    "ExecuteTime": {
     "end_time": "2024-02-16T13:37:50.783011500Z",
     "start_time": "2024-02-16T13:37:50.348977400Z"
    }
   },
   "outputs": [
    {
     "data": {
      "text/plain": "2765     Hailstorm Titanium Woods Set\n37446               BugShield Natural\n37967                 BugShield Spray\n38306           BugShield Lotion Lite\n38772                BugShield Lotion\n39561               BugShield Extreme\n40799                  Sun Shelter 15\n41194                  Sun Shelter 30\nName: PRODUCT_NAME, dtype: object"
     },
     "execution_count": 23,
     "metadata": {},
     "output_type": "execute_result"
    }
   ],
   "source": [
    "merged_df = pd.merge(product, order_details, on='PRODUCT_NUMBER')\n",
    "\n",
    "merged_df['DISCOUNT'] = ((merged_df['UNIT_PRICE'] - merged_df['UNIT_SALE_PRICE']) / merged_df['UNIT_PRICE']) * 100\n",
    "\n",
    "merged_df.loc[merged_df['DISCOUNT'] > 40, 'PRODUCT_NAME'].drop_duplicates()"
   ]
  },
  {
   "cell_type": "markdown",
   "metadata": {},
   "source": [
    "Geef een overzicht met daarin de retourreden van producten waarvan ooit meer dan 90% van de aangeschafte hoeveelheid is teruggebracht (return_quantity/quantity). (1 kolom, 3 rijen) "
   ]
  },
  {
   "cell_type": "code",
   "execution_count": 24,
   "metadata": {
    "ExecuteTime": {
     "end_time": "2024-02-16T13:37:50.890141800Z",
     "start_time": "2024-02-16T13:37:50.391948100Z"
    }
   },
   "outputs": [
    {
     "data": {
      "text/plain": "0     4\n1     5\n15    3\nName: RETURN_REASON_CODE, dtype: object"
     },
     "execution_count": 24,
     "metadata": {},
     "output_type": "execute_result"
    }
   ],
   "source": [
    "merged_df = pd.merge(order_details, returned_item, on='ORDER_DETAIL_CODE')\n",
    "\n",
    "merged_df['RETURN_PERCENTAGE'] = (merged_df['RETURN_QUANTITY'] / merged_df['QUANTITY']) * 100\n",
    "\n",
    "condition = merged_df['RETURN_PERCENTAGE'] > 90\n",
    "\n",
    "merged_df.loc[condition, 'RETURN_REASON_CODE'].drop_duplicates()"
   ]
  },
  {
   "cell_type": "markdown",
   "metadata": {},
   "source": [
    "## Selecties op meerdere tabellen met functies"
   ]
  },
  {
   "cell_type": "markdown",
   "metadata": {},
   "source": [
    "Geef een overzicht met daarin per producttype het aantal producten die tot dat producttype behoren. (2 kolommen, 21 rijen) "
   ]
  },
  {
   "cell_type": "code",
   "execution_count": 25,
   "metadata": {
    "ExecuteTime": {
     "end_time": "2024-02-16T13:37:51.097665600Z",
     "start_time": "2024-02-16T13:37:50.411553100Z"
    }
   },
   "outputs": [
    {
     "data": {
      "text/plain": "PRODUCT_TYPE_EN\nLanterns                12\nCooking Gear            10\nClimbing Accessories     7\nSleeping Bags            7\nTents                    6\nPacks                    6\nTools                    6\nInsect Repellents        5\nKnives                   5\nEyewear                  5\nWatches                  5\nSunscreen                5\nFirst Aid                5\nSafety                   4\nGolf Accessories         4\nWoods                    4\nBinoculars               4\nNavigation               4\nIrons                    4\nRope                     4\nPutters                  3\nName: count, dtype: int64"
     },
     "execution_count": 25,
     "metadata": {},
     "output_type": "execute_result"
    }
   ],
   "source": [
    "merged_df = pd.merge(product, product_type, on='PRODUCT_TYPE_CODE')\n",
    "\n",
    "merged_df['PRODUCT_TYPE_EN'].value_counts()"
   ]
  },
  {
   "cell_type": "markdown",
   "metadata": {},
   "source": [
    "Geef een overzicht met daarin per land het aantal vestigingen van klanten die zich in dat land bevinden. (2 kolommen, 21 rijen) "
   ]
  },
  {
   "cell_type": "code",
   "execution_count": 26,
   "metadata": {
    "ExecuteTime": {
     "end_time": "2024-02-16T13:37:51.165488300Z",
     "start_time": "2024-02-16T13:37:50.418638500Z"
    }
   },
   "outputs": [
    {
     "data": {
      "text/plain": "COUNTRY\nUnited States     101\nGermany            32\nCanada             31\nFrance             29\nJapan              25\nUnited Kingdom     25\nNetherlands        20\nSwitzerland        13\nSweden             12\nItaly              12\nKorea              10\nBelgium            10\nChina              10\nTaiwan             10\nAustria            10\nAustralia          10\nMexico             10\nSpain               9\nDenmark             6\nFinland             5\nBrazil              1\nName: count, dtype: int64"
     },
     "execution_count": 26,
     "metadata": {},
     "output_type": "execute_result"
    }
   ],
   "source": [
    "merged_df = pd.merge(retailer_site, country, on='COUNTRY_CODE')\n",
    "\n",
    "merged_df['COUNTRY'].value_counts()"
   ]
  },
  {
   "cell_type": "markdown",
   "metadata": {},
   "source": [
    "Geef een overzicht met daarin van de producten behorend tot het producttype ‘Cooking Gear’ per productnaam de totaal verkochte hoeveelheid en de gemiddelde verkoopprijs. Sorteer de uitkomst op totaal verkochte hoeveelheid. (4 kolommen, 10 rijen) "
   ]
  },
  {
   "cell_type": "code",
   "execution_count": 27,
   "metadata": {
    "ExecuteTime": {
     "end_time": "2024-02-16T13:37:51.230926600Z",
     "start_time": "2024-02-16T13:37:50.431616100Z"
    }
   },
   "outputs": [
    {
     "data": {
      "text/plain": "                           TOTAL_QUANTITY  AVG_SALE_PRICE\nPRODUCT_NAME                                             \nTrailChef Deluxe Cook Set            3744      120.303667\nTrailChef Kettle                     9900       12.130783\nTrailChef Single Flame              10614       63.572397\nTrailChef Cook Set                  12700       51.204554\nTrailChef Double Flame              14510      131.348013\nTrailChef Utensils                  15928       17.132397\nTrailChef Kitchen Kit               25964       22.210198\nTrailChef Canteen                   31712       11.930119\nTrailChef Cup                       31834        6.945976\nTrailChef Water Bag                 41770        5.999266",
      "text/html": "<div>\n<style scoped>\n    .dataframe tbody tr th:only-of-type {\n        vertical-align: middle;\n    }\n\n    .dataframe tbody tr th {\n        vertical-align: top;\n    }\n\n    .dataframe thead th {\n        text-align: right;\n    }\n</style>\n<table border=\"1\" class=\"dataframe\">\n  <thead>\n    <tr style=\"text-align: right;\">\n      <th></th>\n      <th>TOTAL_QUANTITY</th>\n      <th>AVG_SALE_PRICE</th>\n    </tr>\n    <tr>\n      <th>PRODUCT_NAME</th>\n      <th></th>\n      <th></th>\n    </tr>\n  </thead>\n  <tbody>\n    <tr>\n      <th>TrailChef Deluxe Cook Set</th>\n      <td>3744</td>\n      <td>120.303667</td>\n    </tr>\n    <tr>\n      <th>TrailChef Kettle</th>\n      <td>9900</td>\n      <td>12.130783</td>\n    </tr>\n    <tr>\n      <th>TrailChef Single Flame</th>\n      <td>10614</td>\n      <td>63.572397</td>\n    </tr>\n    <tr>\n      <th>TrailChef Cook Set</th>\n      <td>12700</td>\n      <td>51.204554</td>\n    </tr>\n    <tr>\n      <th>TrailChef Double Flame</th>\n      <td>14510</td>\n      <td>131.348013</td>\n    </tr>\n    <tr>\n      <th>TrailChef Utensils</th>\n      <td>15928</td>\n      <td>17.132397</td>\n    </tr>\n    <tr>\n      <th>TrailChef Kitchen Kit</th>\n      <td>25964</td>\n      <td>22.210198</td>\n    </tr>\n    <tr>\n      <th>TrailChef Canteen</th>\n      <td>31712</td>\n      <td>11.930119</td>\n    </tr>\n    <tr>\n      <th>TrailChef Cup</th>\n      <td>31834</td>\n      <td>6.945976</td>\n    </tr>\n    <tr>\n      <th>TrailChef Water Bag</th>\n      <td>41770</td>\n      <td>5.999266</td>\n    </tr>\n  </tbody>\n</table>\n</div>"
     },
     "execution_count": 27,
     "metadata": {},
     "output_type": "execute_result"
    }
   ],
   "source": [
    "merged_df = pd.merge(product, product_type, on='PRODUCT_TYPE_CODE')\n",
    "merged_df = pd.merge(merged_df, order_details, on='PRODUCT_NUMBER')\n",
    "\n",
    "condition = merged_df['PRODUCT_TYPE_EN'] == 'Cooking Gear'\n",
    "\n",
    "temp_df = merged_df.loc[condition, ['PRODUCT_NAME', 'QUANTITY', 'UNIT_SALE_PRICE']].groupby('PRODUCT_NAME').agg({'QUANTITY': 'sum', 'UNIT_SALE_PRICE': 'mean'}).sort_values(by='QUANTITY')\n",
    "\n",
    "# herbenoemen van kolommen\n",
    "temp_df.rename(columns={'QUANTITY': 'TOTAL_QUANTITY', 'UNIT_SALE_PRICE': 'AVG_SALE_PRICE'})\n"
   ]
  },
  {
   "cell_type": "markdown",
   "metadata": {},
   "source": [
    "Geef een overzicht met daarin van de verkopers behorend tot de verkoopafdeling uit ‘Amsterdam’ de voornaam en achternaam van de verkoper en zijn laagste en hoogste verkooptarget van 2006. (4 kolommen, 4 rijen) "
   ]
  },
  {
   "cell_type": "code",
   "execution_count": 29,
   "metadata": {
    "ExecuteTime": {
     "end_time": "2024-02-16T13:40:37.323243800Z",
     "start_time": "2024-02-16T13:40:37.238060700Z"
    }
   },
   "outputs": [
    {
     "ename": "AttributeError",
     "evalue": "'DataFrame' object has no attribute 'name'",
     "output_type": "error",
     "traceback": [
      "\u001B[1;31m---------------------------------------------------------------------------\u001B[0m",
      "\u001B[1;31mAttributeError\u001B[0m                            Traceback (most recent call last)",
      "\u001B[1;32m~\\AppData\\Local\\Temp\\ipykernel_23416\\2632719278.py\u001B[0m in \u001B[0;36m?\u001B[1;34m()\u001B[0m\n\u001B[0;32m      4\u001B[0m \u001B[0mcondition\u001B[0m \u001B[1;33m=\u001B[0m \u001B[1;33m(\u001B[0m\u001B[0mmerged_df\u001B[0m\u001B[1;33m[\u001B[0m\u001B[1;34m'CITY'\u001B[0m\u001B[1;33m]\u001B[0m \u001B[1;33m==\u001B[0m \u001B[1;34m'Amsterdam'\u001B[0m\u001B[1;33m)\u001B[0m \u001B[1;33m&\u001B[0m \u001B[1;33m(\u001B[0m\u001B[0mmerged_df\u001B[0m\u001B[1;33m[\u001B[0m\u001B[1;34m'SALES_YEAR'\u001B[0m\u001B[1;33m]\u001B[0m \u001B[1;33m==\u001B[0m \u001B[1;36m2006\u001B[0m\u001B[1;33m)\u001B[0m\u001B[1;33m\u001B[0m\u001B[1;33m\u001B[0m\u001B[0m\n\u001B[0;32m      5\u001B[0m \u001B[1;33m\u001B[0m\u001B[0m\n\u001B[0;32m      6\u001B[0m \u001B[0mmerged_df\u001B[0m \u001B[1;33m=\u001B[0m \u001B[0mmerged_df\u001B[0m\u001B[1;33m.\u001B[0m\u001B[0mloc\u001B[0m\u001B[1;33m[\u001B[0m\u001B[0mcondition\u001B[0m\u001B[1;33m,\u001B[0m \u001B[1;33m[\u001B[0m\u001B[1;34m'FIRST_NAME'\u001B[0m\u001B[1;33m,\u001B[0m \u001B[1;34m'LAST_NAME'\u001B[0m\u001B[1;33m,\u001B[0m \u001B[1;34m'SALES_TARGET'\u001B[0m\u001B[1;33m,\u001B[0m \u001B[1;34m'SALES_TARGET'\u001B[0m\u001B[1;33m]\u001B[0m\u001B[1;33m]\u001B[0m\u001B[1;33m.\u001B[0m\u001B[0mgroupby\u001B[0m\u001B[1;33m(\u001B[0m\u001B[1;33m[\u001B[0m\u001B[1;34m'FIRST_NAME'\u001B[0m\u001B[1;33m,\u001B[0m \u001B[1;34m'LAST_NAME'\u001B[0m\u001B[1;33m]\u001B[0m\u001B[1;33m)\u001B[0m\u001B[1;33m\u001B[0m\u001B[1;33m\u001B[0m\u001B[0m\n\u001B[0;32m      7\u001B[0m \u001B[1;33m\u001B[0m\u001B[0m\n\u001B[1;32m----> 8\u001B[1;33m \u001B[0mmerged_df\u001B[0m\u001B[1;33m.\u001B[0m\u001B[0magg\u001B[0m\u001B[1;33m(\u001B[0m\u001B[1;33m{\u001B[0m\u001B[1;34m'SALES_TARGET'\u001B[0m\u001B[1;33m:\u001B[0m \u001B[1;33m[\u001B[0m\u001B[1;34m'min'\u001B[0m\u001B[1;33m,\u001B[0m \u001B[1;34m'max'\u001B[0m\u001B[1;33m]\u001B[0m\u001B[1;33m}\u001B[0m\u001B[1;33m)\u001B[0m\u001B[1;33m\u001B[0m\u001B[1;33m\u001B[0m\u001B[0m\n\u001B[0m\u001B[0;32m      9\u001B[0m \u001B[1;33m\u001B[0m\u001B[0m\n\u001B[0;32m     10\u001B[0m \u001B[1;33m\u001B[0m\u001B[0m\n",
      "\u001B[1;32m~\\AppData\\Local\\pypoetry\\Cache\\virtualenvs\\pythonproject-Yk73UFpO-py3.12\\Lib\\site-packages\\pandas\\core\\groupby\\generic.py\u001B[0m in \u001B[0;36m?\u001B[1;34m(self, func, engine, engine_kwargs, *args, **kwargs)\u001B[0m\n\u001B[0;32m   1428\u001B[0m             \u001B[0mkwargs\u001B[0m\u001B[1;33m[\u001B[0m\u001B[1;34m\"engine\"\u001B[0m\u001B[1;33m]\u001B[0m \u001B[1;33m=\u001B[0m \u001B[0mengine\u001B[0m\u001B[1;33m\u001B[0m\u001B[1;33m\u001B[0m\u001B[0m\n\u001B[0;32m   1429\u001B[0m             \u001B[0mkwargs\u001B[0m\u001B[1;33m[\u001B[0m\u001B[1;34m\"engine_kwargs\"\u001B[0m\u001B[1;33m]\u001B[0m \u001B[1;33m=\u001B[0m \u001B[0mengine_kwargs\u001B[0m\u001B[1;33m\u001B[0m\u001B[1;33m\u001B[0m\u001B[0m\n\u001B[0;32m   1430\u001B[0m \u001B[1;33m\u001B[0m\u001B[0m\n\u001B[0;32m   1431\u001B[0m         \u001B[0mop\u001B[0m \u001B[1;33m=\u001B[0m \u001B[0mGroupByApply\u001B[0m\u001B[1;33m(\u001B[0m\u001B[0mself\u001B[0m\u001B[1;33m,\u001B[0m \u001B[0mfunc\u001B[0m\u001B[1;33m,\u001B[0m \u001B[0margs\u001B[0m\u001B[1;33m=\u001B[0m\u001B[0margs\u001B[0m\u001B[1;33m,\u001B[0m \u001B[0mkwargs\u001B[0m\u001B[1;33m=\u001B[0m\u001B[0mkwargs\u001B[0m\u001B[1;33m)\u001B[0m\u001B[1;33m\u001B[0m\u001B[1;33m\u001B[0m\u001B[0m\n\u001B[1;32m-> 1432\u001B[1;33m         \u001B[0mresult\u001B[0m \u001B[1;33m=\u001B[0m \u001B[0mop\u001B[0m\u001B[1;33m.\u001B[0m\u001B[0magg\u001B[0m\u001B[1;33m(\u001B[0m\u001B[1;33m)\u001B[0m\u001B[1;33m\u001B[0m\u001B[1;33m\u001B[0m\u001B[0m\n\u001B[0m\u001B[0;32m   1433\u001B[0m         \u001B[1;32mif\u001B[0m \u001B[1;32mnot\u001B[0m \u001B[0mis_dict_like\u001B[0m\u001B[1;33m(\u001B[0m\u001B[0mfunc\u001B[0m\u001B[1;33m)\u001B[0m \u001B[1;32mand\u001B[0m \u001B[0mresult\u001B[0m \u001B[1;32mis\u001B[0m \u001B[1;32mnot\u001B[0m \u001B[1;32mNone\u001B[0m\u001B[1;33m:\u001B[0m\u001B[1;33m\u001B[0m\u001B[1;33m\u001B[0m\u001B[0m\n\u001B[0;32m   1434\u001B[0m             \u001B[1;31m# GH #52849\u001B[0m\u001B[1;33m\u001B[0m\u001B[1;33m\u001B[0m\u001B[0m\n\u001B[0;32m   1435\u001B[0m             \u001B[1;32mif\u001B[0m \u001B[1;32mnot\u001B[0m \u001B[0mself\u001B[0m\u001B[1;33m.\u001B[0m\u001B[0mas_index\u001B[0m \u001B[1;32mand\u001B[0m \u001B[0mis_list_like\u001B[0m\u001B[1;33m(\u001B[0m\u001B[0mfunc\u001B[0m\u001B[1;33m)\u001B[0m\u001B[1;33m:\u001B[0m\u001B[1;33m\u001B[0m\u001B[1;33m\u001B[0m\u001B[0m\n",
      "\u001B[1;32m~\\AppData\\Local\\pypoetry\\Cache\\virtualenvs\\pythonproject-Yk73UFpO-py3.12\\Lib\\site-packages\\pandas\\core\\apply.py\u001B[0m in \u001B[0;36m?\u001B[1;34m(self)\u001B[0m\n\u001B[0;32m    186\u001B[0m         \u001B[1;32mif\u001B[0m \u001B[0misinstance\u001B[0m\u001B[1;33m(\u001B[0m\u001B[0mfunc\u001B[0m\u001B[1;33m,\u001B[0m \u001B[0mstr\u001B[0m\u001B[1;33m)\u001B[0m\u001B[1;33m:\u001B[0m\u001B[1;33m\u001B[0m\u001B[1;33m\u001B[0m\u001B[0m\n\u001B[0;32m    187\u001B[0m             \u001B[1;32mreturn\u001B[0m \u001B[0mself\u001B[0m\u001B[1;33m.\u001B[0m\u001B[0mapply_str\u001B[0m\u001B[1;33m(\u001B[0m\u001B[1;33m)\u001B[0m\u001B[1;33m\u001B[0m\u001B[1;33m\u001B[0m\u001B[0m\n\u001B[0;32m    188\u001B[0m \u001B[1;33m\u001B[0m\u001B[0m\n\u001B[0;32m    189\u001B[0m         \u001B[1;32mif\u001B[0m \u001B[0mis_dict_like\u001B[0m\u001B[1;33m(\u001B[0m\u001B[0mfunc\u001B[0m\u001B[1;33m)\u001B[0m\u001B[1;33m:\u001B[0m\u001B[1;33m\u001B[0m\u001B[1;33m\u001B[0m\u001B[0m\n\u001B[1;32m--> 190\u001B[1;33m             \u001B[1;32mreturn\u001B[0m \u001B[0mself\u001B[0m\u001B[1;33m.\u001B[0m\u001B[0magg_dict_like\u001B[0m\u001B[1;33m(\u001B[0m\u001B[1;33m)\u001B[0m\u001B[1;33m\u001B[0m\u001B[1;33m\u001B[0m\u001B[0m\n\u001B[0m\u001B[0;32m    191\u001B[0m         \u001B[1;32melif\u001B[0m \u001B[0mis_list_like\u001B[0m\u001B[1;33m(\u001B[0m\u001B[0mfunc\u001B[0m\u001B[1;33m)\u001B[0m\u001B[1;33m:\u001B[0m\u001B[1;33m\u001B[0m\u001B[1;33m\u001B[0m\u001B[0m\n\u001B[0;32m    192\u001B[0m             \u001B[1;31m# we require a list, but not a 'str'\u001B[0m\u001B[1;33m\u001B[0m\u001B[1;33m\u001B[0m\u001B[0m\n\u001B[0;32m    193\u001B[0m             \u001B[1;32mreturn\u001B[0m \u001B[0mself\u001B[0m\u001B[1;33m.\u001B[0m\u001B[0magg_list_like\u001B[0m\u001B[1;33m(\u001B[0m\u001B[1;33m)\u001B[0m\u001B[1;33m\u001B[0m\u001B[1;33m\u001B[0m\u001B[0m\n",
      "\u001B[1;32m~\\AppData\\Local\\pypoetry\\Cache\\virtualenvs\\pythonproject-Yk73UFpO-py3.12\\Lib\\site-packages\\pandas\\core\\apply.py\u001B[0m in \u001B[0;36m?\u001B[1;34m(self)\u001B[0m\n\u001B[0;32m    419\u001B[0m         \u001B[0mReturns\u001B[0m\u001B[1;33m\u001B[0m\u001B[1;33m\u001B[0m\u001B[0m\n\u001B[0;32m    420\u001B[0m         \u001B[1;33m-\u001B[0m\u001B[1;33m-\u001B[0m\u001B[1;33m-\u001B[0m\u001B[1;33m-\u001B[0m\u001B[1;33m-\u001B[0m\u001B[1;33m-\u001B[0m\u001B[1;33m-\u001B[0m\u001B[1;33m\u001B[0m\u001B[1;33m\u001B[0m\u001B[0m\n\u001B[0;32m    421\u001B[0m         \u001B[0mResult\u001B[0m \u001B[0mof\u001B[0m \u001B[0maggregation\u001B[0m\u001B[1;33m.\u001B[0m\u001B[1;33m\u001B[0m\u001B[1;33m\u001B[0m\u001B[0m\n\u001B[0;32m    422\u001B[0m         \"\"\"\n\u001B[1;32m--> 423\u001B[1;33m         \u001B[1;32mreturn\u001B[0m \u001B[0mself\u001B[0m\u001B[1;33m.\u001B[0m\u001B[0magg_or_apply_dict_like\u001B[0m\u001B[1;33m(\u001B[0m\u001B[0mop_name\u001B[0m\u001B[1;33m=\u001B[0m\u001B[1;34m\"agg\"\u001B[0m\u001B[1;33m)\u001B[0m\u001B[1;33m\u001B[0m\u001B[1;33m\u001B[0m\u001B[0m\n\u001B[0m",
      "\u001B[1;32m~\\AppData\\Local\\pypoetry\\Cache\\virtualenvs\\pythonproject-Yk73UFpO-py3.12\\Lib\\site-packages\\pandas\\core\\apply.py\u001B[0m in \u001B[0;36m?\u001B[1;34m(self, op_name)\u001B[0m\n\u001B[0;32m   1604\u001B[0m \u001B[1;33m\u001B[0m\u001B[0m\n\u001B[0;32m   1605\u001B[0m         with com.temp_setattr(\n\u001B[0;32m   1606\u001B[0m             \u001B[0mobj\u001B[0m\u001B[1;33m,\u001B[0m \u001B[1;34m\"as_index\"\u001B[0m\u001B[1;33m,\u001B[0m \u001B[1;32mTrue\u001B[0m\u001B[1;33m,\u001B[0m \u001B[0mcondition\u001B[0m\u001B[1;33m=\u001B[0m\u001B[0mhasattr\u001B[0m\u001B[1;33m(\u001B[0m\u001B[0mobj\u001B[0m\u001B[1;33m,\u001B[0m \u001B[1;34m\"as_index\"\u001B[0m\u001B[1;33m)\u001B[0m\u001B[1;33m\u001B[0m\u001B[1;33m\u001B[0m\u001B[0m\n\u001B[0;32m   1607\u001B[0m         \u001B[1;33m)\u001B[0m\u001B[1;33m:\u001B[0m\u001B[1;33m\u001B[0m\u001B[1;33m\u001B[0m\u001B[0m\n\u001B[1;32m-> 1608\u001B[1;33m             result_index, result_data = self.compute_dict_like(\n\u001B[0m\u001B[0;32m   1609\u001B[0m                 \u001B[0mop_name\u001B[0m\u001B[1;33m,\u001B[0m \u001B[0mselected_obj\u001B[0m\u001B[1;33m,\u001B[0m \u001B[0mselection\u001B[0m\u001B[1;33m,\u001B[0m \u001B[0mkwargs\u001B[0m\u001B[1;33m\u001B[0m\u001B[1;33m\u001B[0m\u001B[0m\n\u001B[0;32m   1610\u001B[0m             \u001B[1;33m)\u001B[0m\u001B[1;33m\u001B[0m\u001B[1;33m\u001B[0m\u001B[0m\n\u001B[0;32m   1611\u001B[0m         \u001B[0mresult\u001B[0m \u001B[1;33m=\u001B[0m \u001B[0mself\u001B[0m\u001B[1;33m.\u001B[0m\u001B[0mwrap_results_dict_like\u001B[0m\u001B[1;33m(\u001B[0m\u001B[0mselected_obj\u001B[0m\u001B[1;33m,\u001B[0m \u001B[0mresult_index\u001B[0m\u001B[1;33m,\u001B[0m \u001B[0mresult_data\u001B[0m\u001B[1;33m)\u001B[0m\u001B[1;33m\u001B[0m\u001B[1;33m\u001B[0m\u001B[0m\n",
      "\u001B[1;32m~\\AppData\\Local\\pypoetry\\Cache\\virtualenvs\\pythonproject-Yk73UFpO-py3.12\\Lib\\site-packages\\pandas\\core\\apply.py\u001B[0m in \u001B[0;36m?\u001B[1;34m(self, op_name, selected_obj, selection, kwargs)\u001B[0m\n\u001B[0;32m    492\u001B[0m                 \u001B[0mkeys\u001B[0m \u001B[1;33m+=\u001B[0m \u001B[1;33m[\u001B[0m\u001B[0mkey\u001B[0m\u001B[1;33m]\u001B[0m \u001B[1;33m*\u001B[0m \u001B[0mlen\u001B[0m\u001B[1;33m(\u001B[0m\u001B[0mkey_data\u001B[0m\u001B[1;33m)\u001B[0m\u001B[1;33m\u001B[0m\u001B[1;33m\u001B[0m\u001B[0m\n\u001B[0;32m    493\u001B[0m                 \u001B[0mresults\u001B[0m \u001B[1;33m+=\u001B[0m \u001B[0mkey_data\u001B[0m\u001B[1;33m\u001B[0m\u001B[1;33m\u001B[0m\u001B[0m\n\u001B[0;32m    494\u001B[0m         \u001B[1;32melse\u001B[0m\u001B[1;33m:\u001B[0m\u001B[1;33m\u001B[0m\u001B[1;33m\u001B[0m\u001B[0m\n\u001B[0;32m    495\u001B[0m             \u001B[1;31m# key used for column selection and output\u001B[0m\u001B[1;33m\u001B[0m\u001B[1;33m\u001B[0m\u001B[0m\n\u001B[1;32m--> 496\u001B[1;33m             results = [\n\u001B[0m\u001B[0;32m    497\u001B[0m                 \u001B[0mgetattr\u001B[0m\u001B[1;33m(\u001B[0m\u001B[0mobj\u001B[0m\u001B[1;33m.\u001B[0m\u001B[0m_gotitem\u001B[0m\u001B[1;33m(\u001B[0m\u001B[0mkey\u001B[0m\u001B[1;33m,\u001B[0m \u001B[0mndim\u001B[0m\u001B[1;33m=\u001B[0m\u001B[1;36m1\u001B[0m\u001B[1;33m)\u001B[0m\u001B[1;33m,\u001B[0m \u001B[0mop_name\u001B[0m\u001B[1;33m)\u001B[0m\u001B[1;33m(\u001B[0m\u001B[0mhow\u001B[0m\u001B[1;33m,\u001B[0m \u001B[1;33m**\u001B[0m\u001B[0mkwargs\u001B[0m\u001B[1;33m)\u001B[0m\u001B[1;33m\u001B[0m\u001B[1;33m\u001B[0m\u001B[0m\n\u001B[0;32m    498\u001B[0m                 \u001B[1;32mfor\u001B[0m \u001B[0mkey\u001B[0m\u001B[1;33m,\u001B[0m \u001B[0mhow\u001B[0m \u001B[1;32min\u001B[0m \u001B[0mfunc\u001B[0m\u001B[1;33m.\u001B[0m\u001B[0mitems\u001B[0m\u001B[1;33m(\u001B[0m\u001B[1;33m)\u001B[0m\u001B[1;33m\u001B[0m\u001B[1;33m\u001B[0m\u001B[0m\n\u001B[0;32m    499\u001B[0m             \u001B[1;33m]\u001B[0m\u001B[1;33m\u001B[0m\u001B[1;33m\u001B[0m\u001B[0m\n",
      "\u001B[1;32m~\\AppData\\Local\\pypoetry\\Cache\\virtualenvs\\pythonproject-Yk73UFpO-py3.12\\Lib\\site-packages\\pandas\\core\\groupby\\generic.py\u001B[0m in \u001B[0;36m?\u001B[1;34m(self, func, engine, engine_kwargs, *args, **kwargs)\u001B[0m\n\u001B[0;32m    253\u001B[0m             \u001B[1;31m# but not the class list / tuple itself.\u001B[0m\u001B[1;33m\u001B[0m\u001B[1;33m\u001B[0m\u001B[0m\n\u001B[0;32m    254\u001B[0m             \u001B[0mfunc\u001B[0m \u001B[1;33m=\u001B[0m \u001B[0mmaybe_mangle_lambdas\u001B[0m\u001B[1;33m(\u001B[0m\u001B[0mfunc\u001B[0m\u001B[1;33m)\u001B[0m\u001B[1;33m\u001B[0m\u001B[1;33m\u001B[0m\u001B[0m\n\u001B[0;32m    255\u001B[0m             \u001B[0mkwargs\u001B[0m\u001B[1;33m[\u001B[0m\u001B[1;34m\"engine\"\u001B[0m\u001B[1;33m]\u001B[0m \u001B[1;33m=\u001B[0m \u001B[0mengine\u001B[0m\u001B[1;33m\u001B[0m\u001B[1;33m\u001B[0m\u001B[0m\n\u001B[0;32m    256\u001B[0m             \u001B[0mkwargs\u001B[0m\u001B[1;33m[\u001B[0m\u001B[1;34m\"engine_kwargs\"\u001B[0m\u001B[1;33m]\u001B[0m \u001B[1;33m=\u001B[0m \u001B[0mengine_kwargs\u001B[0m\u001B[1;33m\u001B[0m\u001B[1;33m\u001B[0m\u001B[0m\n\u001B[1;32m--> 257\u001B[1;33m             \u001B[0mret\u001B[0m \u001B[1;33m=\u001B[0m \u001B[0mself\u001B[0m\u001B[1;33m.\u001B[0m\u001B[0m_aggregate_multiple_funcs\u001B[0m\u001B[1;33m(\u001B[0m\u001B[0mfunc\u001B[0m\u001B[1;33m,\u001B[0m \u001B[1;33m*\u001B[0m\u001B[0margs\u001B[0m\u001B[1;33m,\u001B[0m \u001B[1;33m**\u001B[0m\u001B[0mkwargs\u001B[0m\u001B[1;33m)\u001B[0m\u001B[1;33m\u001B[0m\u001B[1;33m\u001B[0m\u001B[0m\n\u001B[0m\u001B[0;32m    258\u001B[0m             \u001B[1;32mif\u001B[0m \u001B[0mrelabeling\u001B[0m\u001B[1;33m:\u001B[0m\u001B[1;33m\u001B[0m\u001B[1;33m\u001B[0m\u001B[0m\n\u001B[0;32m    259\u001B[0m                 \u001B[1;31m# columns is not narrowed by mypy from relabeling flag\u001B[0m\u001B[1;33m\u001B[0m\u001B[1;33m\u001B[0m\u001B[0m\n\u001B[0;32m    260\u001B[0m                 \u001B[1;32massert\u001B[0m \u001B[0mcolumns\u001B[0m \u001B[1;32mis\u001B[0m \u001B[1;32mnot\u001B[0m \u001B[1;32mNone\u001B[0m  \u001B[1;31m# for mypy\u001B[0m\u001B[1;33m\u001B[0m\u001B[1;33m\u001B[0m\u001B[0m\n",
      "\u001B[1;32m~\\AppData\\Local\\pypoetry\\Cache\\virtualenvs\\pythonproject-Yk73UFpO-py3.12\\Lib\\site-packages\\pandas\\core\\groupby\\generic.py\u001B[0m in \u001B[0;36m?\u001B[1;34m(self, arg, *args, **kwargs)\u001B[0m\n\u001B[0;32m    358\u001B[0m             \u001B[1;31m# Combine results using the index, need to adjust index after\u001B[0m\u001B[1;33m\u001B[0m\u001B[1;33m\u001B[0m\u001B[0m\n\u001B[0;32m    359\u001B[0m             \u001B[1;31m# if as_index=False (GH#50724)\u001B[0m\u001B[1;33m\u001B[0m\u001B[1;33m\u001B[0m\u001B[0m\n\u001B[0;32m    360\u001B[0m             \u001B[1;32mfor\u001B[0m \u001B[0midx\u001B[0m\u001B[1;33m,\u001B[0m \u001B[1;33m(\u001B[0m\u001B[0mname\u001B[0m\u001B[1;33m,\u001B[0m \u001B[0mfunc\u001B[0m\u001B[1;33m)\u001B[0m \u001B[1;32min\u001B[0m \u001B[0menumerate\u001B[0m\u001B[1;33m(\u001B[0m\u001B[0marg\u001B[0m\u001B[1;33m)\u001B[0m\u001B[1;33m:\u001B[0m\u001B[1;33m\u001B[0m\u001B[1;33m\u001B[0m\u001B[0m\n\u001B[0;32m    361\u001B[0m                 \u001B[0mkey\u001B[0m \u001B[1;33m=\u001B[0m \u001B[0mbase\u001B[0m\u001B[1;33m.\u001B[0m\u001B[0mOutputKey\u001B[0m\u001B[1;33m(\u001B[0m\u001B[0mlabel\u001B[0m\u001B[1;33m=\u001B[0m\u001B[0mname\u001B[0m\u001B[1;33m,\u001B[0m \u001B[0mposition\u001B[0m\u001B[1;33m=\u001B[0m\u001B[0midx\u001B[0m\u001B[1;33m)\u001B[0m\u001B[1;33m\u001B[0m\u001B[1;33m\u001B[0m\u001B[0m\n\u001B[1;32m--> 362\u001B[1;33m                 \u001B[0mresults\u001B[0m\u001B[1;33m[\u001B[0m\u001B[0mkey\u001B[0m\u001B[1;33m]\u001B[0m \u001B[1;33m=\u001B[0m \u001B[0mself\u001B[0m\u001B[1;33m.\u001B[0m\u001B[0maggregate\u001B[0m\u001B[1;33m(\u001B[0m\u001B[0mfunc\u001B[0m\u001B[1;33m,\u001B[0m \u001B[1;33m*\u001B[0m\u001B[0margs\u001B[0m\u001B[1;33m,\u001B[0m \u001B[1;33m**\u001B[0m\u001B[0mkwargs\u001B[0m\u001B[1;33m)\u001B[0m\u001B[1;33m\u001B[0m\u001B[1;33m\u001B[0m\u001B[0m\n\u001B[0m\u001B[0;32m    363\u001B[0m \u001B[1;33m\u001B[0m\u001B[0m\n\u001B[0;32m    364\u001B[0m         \u001B[1;32mif\u001B[0m \u001B[0many\u001B[0m\u001B[1;33m(\u001B[0m\u001B[0misinstance\u001B[0m\u001B[1;33m(\u001B[0m\u001B[0mx\u001B[0m\u001B[1;33m,\u001B[0m \u001B[0mDataFrame\u001B[0m\u001B[1;33m)\u001B[0m \u001B[1;32mfor\u001B[0m \u001B[0mx\u001B[0m \u001B[1;32min\u001B[0m \u001B[0mresults\u001B[0m\u001B[1;33m.\u001B[0m\u001B[0mvalues\u001B[0m\u001B[1;33m(\u001B[0m\u001B[1;33m)\u001B[0m\u001B[1;33m)\u001B[0m\u001B[1;33m:\u001B[0m\u001B[1;33m\u001B[0m\u001B[1;33m\u001B[0m\u001B[0m\n\u001B[0;32m    365\u001B[0m             \u001B[1;32mfrom\u001B[0m \u001B[0mpandas\u001B[0m \u001B[1;32mimport\u001B[0m \u001B[0mconcat\u001B[0m\u001B[1;33m\u001B[0m\u001B[1;33m\u001B[0m\u001B[0m\n",
      "\u001B[1;32m~\\AppData\\Local\\pypoetry\\Cache\\virtualenvs\\pythonproject-Yk73UFpO-py3.12\\Lib\\site-packages\\pandas\\core\\groupby\\generic.py\u001B[0m in \u001B[0;36m?\u001B[1;34m(self, func, engine, engine_kwargs, *args, **kwargs)\u001B[0m\n\u001B[0;32m    245\u001B[0m                 \u001B[1;31m# numba is requested via the global option)\u001B[0m\u001B[1;33m\u001B[0m\u001B[1;33m\u001B[0m\u001B[0m\n\u001B[0;32m    246\u001B[0m                 \u001B[0mkwargs\u001B[0m\u001B[1;33m[\u001B[0m\u001B[1;34m\"engine\"\u001B[0m\u001B[1;33m]\u001B[0m \u001B[1;33m=\u001B[0m \u001B[0mengine\u001B[0m\u001B[1;33m\u001B[0m\u001B[1;33m\u001B[0m\u001B[0m\n\u001B[0;32m    247\u001B[0m             \u001B[1;32mif\u001B[0m \u001B[0mengine_kwargs\u001B[0m \u001B[1;32mis\u001B[0m \u001B[1;32mnot\u001B[0m \u001B[1;32mNone\u001B[0m\u001B[1;33m:\u001B[0m\u001B[1;33m\u001B[0m\u001B[1;33m\u001B[0m\u001B[0m\n\u001B[0;32m    248\u001B[0m                 \u001B[0mkwargs\u001B[0m\u001B[1;33m[\u001B[0m\u001B[1;34m\"engine_kwargs\"\u001B[0m\u001B[1;33m]\u001B[0m \u001B[1;33m=\u001B[0m \u001B[0mengine_kwargs\u001B[0m\u001B[1;33m\u001B[0m\u001B[1;33m\u001B[0m\u001B[0m\n\u001B[1;32m--> 249\u001B[1;33m             \u001B[1;32mreturn\u001B[0m \u001B[0mgetattr\u001B[0m\u001B[1;33m(\u001B[0m\u001B[0mself\u001B[0m\u001B[1;33m,\u001B[0m \u001B[0mfunc\u001B[0m\u001B[1;33m)\u001B[0m\u001B[1;33m(\u001B[0m\u001B[1;33m*\u001B[0m\u001B[0margs\u001B[0m\u001B[1;33m,\u001B[0m \u001B[1;33m**\u001B[0m\u001B[0mkwargs\u001B[0m\u001B[1;33m)\u001B[0m\u001B[1;33m\u001B[0m\u001B[1;33m\u001B[0m\u001B[0m\n\u001B[0m\u001B[0;32m    250\u001B[0m \u001B[1;33m\u001B[0m\u001B[0m\n\u001B[0;32m    251\u001B[0m         \u001B[1;32melif\u001B[0m \u001B[0misinstance\u001B[0m\u001B[1;33m(\u001B[0m\u001B[0mfunc\u001B[0m\u001B[1;33m,\u001B[0m \u001B[0mabc\u001B[0m\u001B[1;33m.\u001B[0m\u001B[0mIterable\u001B[0m\u001B[1;33m)\u001B[0m\u001B[1;33m:\u001B[0m\u001B[1;33m\u001B[0m\u001B[1;33m\u001B[0m\u001B[0m\n\u001B[0;32m    252\u001B[0m             \u001B[1;31m# Catch instances of lists / tuples\u001B[0m\u001B[1;33m\u001B[0m\u001B[1;33m\u001B[0m\u001B[0m\n",
      "\u001B[1;32m~\\AppData\\Local\\pypoetry\\Cache\\virtualenvs\\pythonproject-Yk73UFpO-py3.12\\Lib\\site-packages\\pandas\\core\\groupby\\groupby.py\u001B[0m in \u001B[0;36m?\u001B[1;34m(self, numeric_only, min_count, engine, engine_kwargs)\u001B[0m\n\u001B[0;32m   3258\u001B[0m                 \u001B[0mmin_periods\u001B[0m\u001B[1;33m=\u001B[0m\u001B[0mmin_count\u001B[0m\u001B[1;33m,\u001B[0m\u001B[1;33m\u001B[0m\u001B[1;33m\u001B[0m\u001B[0m\n\u001B[0;32m   3259\u001B[0m                 \u001B[0mis_max\u001B[0m\u001B[1;33m=\u001B[0m\u001B[1;32mFalse\u001B[0m\u001B[1;33m,\u001B[0m\u001B[1;33m\u001B[0m\u001B[1;33m\u001B[0m\u001B[0m\n\u001B[0;32m   3260\u001B[0m             \u001B[1;33m)\u001B[0m\u001B[1;33m\u001B[0m\u001B[1;33m\u001B[0m\u001B[0m\n\u001B[0;32m   3261\u001B[0m         \u001B[1;32melse\u001B[0m\u001B[1;33m:\u001B[0m\u001B[1;33m\u001B[0m\u001B[1;33m\u001B[0m\u001B[0m\n\u001B[1;32m-> 3262\u001B[1;33m             return self._agg_general(\n\u001B[0m\u001B[0;32m   3263\u001B[0m                 \u001B[0mnumeric_only\u001B[0m\u001B[1;33m=\u001B[0m\u001B[0mnumeric_only\u001B[0m\u001B[1;33m,\u001B[0m\u001B[1;33m\u001B[0m\u001B[1;33m\u001B[0m\u001B[0m\n\u001B[0;32m   3264\u001B[0m                 \u001B[0mmin_count\u001B[0m\u001B[1;33m=\u001B[0m\u001B[0mmin_count\u001B[0m\u001B[1;33m,\u001B[0m\u001B[1;33m\u001B[0m\u001B[1;33m\u001B[0m\u001B[0m\n\u001B[0;32m   3265\u001B[0m                 \u001B[0malias\u001B[0m\u001B[1;33m=\u001B[0m\u001B[1;34m\"min\"\u001B[0m\u001B[1;33m,\u001B[0m\u001B[1;33m\u001B[0m\u001B[1;33m\u001B[0m\u001B[0m\n",
      "\u001B[1;32m~\\AppData\\Local\\pypoetry\\Cache\\virtualenvs\\pythonproject-Yk73UFpO-py3.12\\Lib\\site-packages\\pandas\\core\\groupby\\groupby.py\u001B[0m in \u001B[0;36m?\u001B[1;34m(self, numeric_only, min_count, alias, npfunc, **kwargs)\u001B[0m\n\u001B[0;32m   1902\u001B[0m         \u001B[0malias\u001B[0m\u001B[1;33m:\u001B[0m \u001B[0mstr\u001B[0m\u001B[1;33m,\u001B[0m\u001B[1;33m\u001B[0m\u001B[1;33m\u001B[0m\u001B[0m\n\u001B[0;32m   1903\u001B[0m         \u001B[0mnpfunc\u001B[0m\u001B[1;33m:\u001B[0m \u001B[0mCallable\u001B[0m \u001B[1;33m|\u001B[0m \u001B[1;32mNone\u001B[0m \u001B[1;33m=\u001B[0m \u001B[1;32mNone\u001B[0m\u001B[1;33m,\u001B[0m\u001B[1;33m\u001B[0m\u001B[1;33m\u001B[0m\u001B[0m\n\u001B[0;32m   1904\u001B[0m         \u001B[1;33m**\u001B[0m\u001B[0mkwargs\u001B[0m\u001B[1;33m,\u001B[0m\u001B[1;33m\u001B[0m\u001B[1;33m\u001B[0m\u001B[0m\n\u001B[0;32m   1905\u001B[0m     \u001B[1;33m)\u001B[0m\u001B[1;33m:\u001B[0m\u001B[1;33m\u001B[0m\u001B[1;33m\u001B[0m\u001B[0m\n\u001B[1;32m-> 1906\u001B[1;33m         result = self._cython_agg_general(\n\u001B[0m\u001B[0;32m   1907\u001B[0m             \u001B[0mhow\u001B[0m\u001B[1;33m=\u001B[0m\u001B[0malias\u001B[0m\u001B[1;33m,\u001B[0m\u001B[1;33m\u001B[0m\u001B[1;33m\u001B[0m\u001B[0m\n\u001B[0;32m   1908\u001B[0m             \u001B[0malt\u001B[0m\u001B[1;33m=\u001B[0m\u001B[0mnpfunc\u001B[0m\u001B[1;33m,\u001B[0m\u001B[1;33m\u001B[0m\u001B[1;33m\u001B[0m\u001B[0m\n\u001B[0;32m   1909\u001B[0m             \u001B[0mnumeric_only\u001B[0m\u001B[1;33m=\u001B[0m\u001B[0mnumeric_only\u001B[0m\u001B[1;33m,\u001B[0m\u001B[1;33m\u001B[0m\u001B[1;33m\u001B[0m\u001B[0m\n",
      "\u001B[1;32m~\\AppData\\Local\\pypoetry\\Cache\\virtualenvs\\pythonproject-Yk73UFpO-py3.12\\Lib\\site-packages\\pandas\\core\\groupby\\groupby.py\u001B[0m in \u001B[0;36m?\u001B[1;34m(self, how, alt, numeric_only, min_count, **kwargs)\u001B[0m\n\u001B[0;32m   1995\u001B[0m             \u001B[0mresult\u001B[0m \u001B[1;33m=\u001B[0m \u001B[0mself\u001B[0m\u001B[1;33m.\u001B[0m\u001B[0m_agg_py_fallback\u001B[0m\u001B[1;33m(\u001B[0m\u001B[0mhow\u001B[0m\u001B[1;33m,\u001B[0m \u001B[0mvalues\u001B[0m\u001B[1;33m,\u001B[0m \u001B[0mndim\u001B[0m\u001B[1;33m=\u001B[0m\u001B[0mdata\u001B[0m\u001B[1;33m.\u001B[0m\u001B[0mndim\u001B[0m\u001B[1;33m,\u001B[0m \u001B[0malt\u001B[0m\u001B[1;33m=\u001B[0m\u001B[0malt\u001B[0m\u001B[1;33m)\u001B[0m\u001B[1;33m\u001B[0m\u001B[1;33m\u001B[0m\u001B[0m\n\u001B[0;32m   1996\u001B[0m             \u001B[1;32mreturn\u001B[0m \u001B[0mresult\u001B[0m\u001B[1;33m\u001B[0m\u001B[1;33m\u001B[0m\u001B[0m\n\u001B[0;32m   1997\u001B[0m \u001B[1;33m\u001B[0m\u001B[0m\n\u001B[0;32m   1998\u001B[0m         \u001B[0mnew_mgr\u001B[0m \u001B[1;33m=\u001B[0m \u001B[0mdata\u001B[0m\u001B[1;33m.\u001B[0m\u001B[0mgrouped_reduce\u001B[0m\u001B[1;33m(\u001B[0m\u001B[0marray_func\u001B[0m\u001B[1;33m)\u001B[0m\u001B[1;33m\u001B[0m\u001B[1;33m\u001B[0m\u001B[0m\n\u001B[1;32m-> 1999\u001B[1;33m         \u001B[0mres\u001B[0m \u001B[1;33m=\u001B[0m \u001B[0mself\u001B[0m\u001B[1;33m.\u001B[0m\u001B[0m_wrap_agged_manager\u001B[0m\u001B[1;33m(\u001B[0m\u001B[0mnew_mgr\u001B[0m\u001B[1;33m)\u001B[0m\u001B[1;33m\u001B[0m\u001B[1;33m\u001B[0m\u001B[0m\n\u001B[0m\u001B[0;32m   2000\u001B[0m         \u001B[1;32mif\u001B[0m \u001B[0mhow\u001B[0m \u001B[1;32min\u001B[0m \u001B[1;33m[\u001B[0m\u001B[1;34m\"idxmin\"\u001B[0m\u001B[1;33m,\u001B[0m \u001B[1;34m\"idxmax\"\u001B[0m\u001B[1;33m]\u001B[0m\u001B[1;33m:\u001B[0m\u001B[1;33m\u001B[0m\u001B[1;33m\u001B[0m\u001B[0m\n\u001B[0;32m   2001\u001B[0m             \u001B[0mres\u001B[0m \u001B[1;33m=\u001B[0m \u001B[0mself\u001B[0m\u001B[1;33m.\u001B[0m\u001B[0m_wrap_idxmax_idxmin\u001B[0m\u001B[1;33m(\u001B[0m\u001B[0mres\u001B[0m\u001B[1;33m)\u001B[0m\u001B[1;33m\u001B[0m\u001B[1;33m\u001B[0m\u001B[0m\n\u001B[0;32m   2002\u001B[0m         \u001B[0mout\u001B[0m \u001B[1;33m=\u001B[0m \u001B[0mself\u001B[0m\u001B[1;33m.\u001B[0m\u001B[0m_wrap_aggregated_output\u001B[0m\u001B[1;33m(\u001B[0m\u001B[0mres\u001B[0m\u001B[1;33m)\u001B[0m\u001B[1;33m\u001B[0m\u001B[1;33m\u001B[0m\u001B[0m\n",
      "\u001B[1;32m~\\AppData\\Local\\pypoetry\\Cache\\virtualenvs\\pythonproject-Yk73UFpO-py3.12\\Lib\\site-packages\\pandas\\core\\groupby\\generic.py\u001B[0m in \u001B[0;36m?\u001B[1;34m(self, mgr)\u001B[0m\n\u001B[0;32m    155\u001B[0m     \u001B[1;32mdef\u001B[0m \u001B[0m_wrap_agged_manager\u001B[0m\u001B[1;33m(\u001B[0m\u001B[0mself\u001B[0m\u001B[1;33m,\u001B[0m \u001B[0mmgr\u001B[0m\u001B[1;33m:\u001B[0m \u001B[0mManager\u001B[0m\u001B[1;33m)\u001B[0m \u001B[1;33m->\u001B[0m \u001B[0mSeries\u001B[0m\u001B[1;33m:\u001B[0m\u001B[1;33m\u001B[0m\u001B[1;33m\u001B[0m\u001B[0m\n\u001B[0;32m    156\u001B[0m         \u001B[0mout\u001B[0m \u001B[1;33m=\u001B[0m \u001B[0mself\u001B[0m\u001B[1;33m.\u001B[0m\u001B[0mobj\u001B[0m\u001B[1;33m.\u001B[0m\u001B[0m_constructor_from_mgr\u001B[0m\u001B[1;33m(\u001B[0m\u001B[0mmgr\u001B[0m\u001B[1;33m,\u001B[0m \u001B[0maxes\u001B[0m\u001B[1;33m=\u001B[0m\u001B[0mmgr\u001B[0m\u001B[1;33m.\u001B[0m\u001B[0maxes\u001B[0m\u001B[1;33m)\u001B[0m\u001B[1;33m\u001B[0m\u001B[1;33m\u001B[0m\u001B[0m\n\u001B[1;32m--> 157\u001B[1;33m         \u001B[0mout\u001B[0m\u001B[1;33m.\u001B[0m\u001B[0m_name\u001B[0m \u001B[1;33m=\u001B[0m \u001B[0mself\u001B[0m\u001B[1;33m.\u001B[0m\u001B[0mobj\u001B[0m\u001B[1;33m.\u001B[0m\u001B[0mname\u001B[0m\u001B[1;33m\u001B[0m\u001B[1;33m\u001B[0m\u001B[0m\n\u001B[0m\u001B[0;32m    158\u001B[0m         \u001B[1;32mreturn\u001B[0m \u001B[0mout\u001B[0m\u001B[1;33m\u001B[0m\u001B[1;33m\u001B[0m\u001B[0m\n",
      "\u001B[1;32m~\\AppData\\Local\\pypoetry\\Cache\\virtualenvs\\pythonproject-Yk73UFpO-py3.12\\Lib\\site-packages\\pandas\\core\\generic.py\u001B[0m in \u001B[0;36m?\u001B[1;34m(self, name)\u001B[0m\n\u001B[0;32m   6289\u001B[0m             \u001B[1;32mand\u001B[0m \u001B[0mname\u001B[0m \u001B[1;32mnot\u001B[0m \u001B[1;32min\u001B[0m \u001B[0mself\u001B[0m\u001B[1;33m.\u001B[0m\u001B[0m_accessors\u001B[0m\u001B[1;33m\u001B[0m\u001B[1;33m\u001B[0m\u001B[0m\n\u001B[0;32m   6290\u001B[0m             \u001B[1;32mand\u001B[0m \u001B[0mself\u001B[0m\u001B[1;33m.\u001B[0m\u001B[0m_info_axis\u001B[0m\u001B[1;33m.\u001B[0m\u001B[0m_can_hold_identifiers_and_holds_name\u001B[0m\u001B[1;33m(\u001B[0m\u001B[0mname\u001B[0m\u001B[1;33m)\u001B[0m\u001B[1;33m\u001B[0m\u001B[1;33m\u001B[0m\u001B[0m\n\u001B[0;32m   6291\u001B[0m         \u001B[1;33m)\u001B[0m\u001B[1;33m:\u001B[0m\u001B[1;33m\u001B[0m\u001B[1;33m\u001B[0m\u001B[0m\n\u001B[0;32m   6292\u001B[0m             \u001B[1;32mreturn\u001B[0m \u001B[0mself\u001B[0m\u001B[1;33m[\u001B[0m\u001B[0mname\u001B[0m\u001B[1;33m]\u001B[0m\u001B[1;33m\u001B[0m\u001B[1;33m\u001B[0m\u001B[0m\n\u001B[1;32m-> 6293\u001B[1;33m         \u001B[1;32mreturn\u001B[0m \u001B[0mobject\u001B[0m\u001B[1;33m.\u001B[0m\u001B[0m__getattribute__\u001B[0m\u001B[1;33m(\u001B[0m\u001B[0mself\u001B[0m\u001B[1;33m,\u001B[0m \u001B[0mname\u001B[0m\u001B[1;33m)\u001B[0m\u001B[1;33m\u001B[0m\u001B[1;33m\u001B[0m\u001B[0m\n\u001B[0m",
      "\u001B[1;31mAttributeError\u001B[0m: 'DataFrame' object has no attribute 'name'"
     ]
    }
   ],
   "source": [
    "merged_df = pd.merge(sales_staff, sales_branch, on='SALES_BRANCH_CODE')\n",
    "merged_df = pd.merge(merged_df, sales_target_data, on='SALES_STAFF_CODE')\n",
    "\n",
    "condition = (merged_df['CITY'] == 'Amsterdam') & (merged_df['SALES_YEAR'] == 2006)\n",
    "\n",
    "merged_df = merged_df.loc[condition, ['FIRST_NAME', 'LAST_NAME', 'SALES_TARGET', 'SALES_TARGET']].groupby(['FIRST_NAME', 'LAST_NAME'])\n",
    "\n",
    "merged_df.agg({'SALES_TARGET': ['min', 'max']})\n",
    "\n"
   ]
  },
  {
   "cell_type": "markdown",
   "metadata": {},
   "source": [
    "Geef een overzicht met daarin per land de naam van het land, de naam van de stad waar de verkoopafdeling is gevestigd (noem de kolomnaam in het overzicht ‘verkoper’) en het aantal steden waar zich klanten bevinden in dat land (noem de kolomnaam in het overzicht ‘klanten’) (3 kolommen, 29 rijen) "
   ]
  },
  {
   "cell_type": "code",
   "execution_count": 30,
   "metadata": {
    "ExecuteTime": {
     "end_time": "2024-02-16T13:43:50.185777Z",
     "start_time": "2024-02-16T13:43:50.152148400Z"
    }
   },
   "outputs": [
    {
     "data": {
      "text/plain": "           COUNTRY CITY_sales_branch  CITY_retailer_site\n0        Australia         Melbourne                   6\n1          Austria              Wien                   9\n2          Belgium          Heverlee                   8\n3           Brazil         São Paulo                   1\n4           Canada           Calgary                  16\n5           Canada           Toronto                  16\n6            China          Shanghai                   7\n7          Finland            Kuopio                   5\n8           France              Lyon                  14\n9           France             Paris                  14\n10         Germany           Hamburg                  18\n11         Germany           München                  18\n12           Italy            Milano                   9\n13           Japan        Osaka City                   5\n14           Japan             Tokyo                   5\n15           Korea             Seoul                   6\n16          Mexico  Distrito Federal                   6\n17     Netherlands         Amsterdam                  15\n18           Spain            Bilbao                   5\n19          Sweden             Kista                  10\n20     Switzerland            Zürich                   9\n21          Taiwan         San Chung                   9\n22  United Kingdom        Birmingham                   9\n23  United Kingdom            London                   9\n24   United States            Boston                  62\n25   United States       Los Angeles                  62\n26   United States             Miami                  62\n27   United States           Seattle                  62",
      "text/html": "<div>\n<style scoped>\n    .dataframe tbody tr th:only-of-type {\n        vertical-align: middle;\n    }\n\n    .dataframe tbody tr th {\n        vertical-align: top;\n    }\n\n    .dataframe thead th {\n        text-align: right;\n    }\n</style>\n<table border=\"1\" class=\"dataframe\">\n  <thead>\n    <tr style=\"text-align: right;\">\n      <th></th>\n      <th>COUNTRY</th>\n      <th>CITY_sales_branch</th>\n      <th>CITY_retailer_site</th>\n    </tr>\n  </thead>\n  <tbody>\n    <tr>\n      <th>0</th>\n      <td>Australia</td>\n      <td>Melbourne</td>\n      <td>6</td>\n    </tr>\n    <tr>\n      <th>1</th>\n      <td>Austria</td>\n      <td>Wien</td>\n      <td>9</td>\n    </tr>\n    <tr>\n      <th>2</th>\n      <td>Belgium</td>\n      <td>Heverlee</td>\n      <td>8</td>\n    </tr>\n    <tr>\n      <th>3</th>\n      <td>Brazil</td>\n      <td>São Paulo</td>\n      <td>1</td>\n    </tr>\n    <tr>\n      <th>4</th>\n      <td>Canada</td>\n      <td>Calgary</td>\n      <td>16</td>\n    </tr>\n    <tr>\n      <th>5</th>\n      <td>Canada</td>\n      <td>Toronto</td>\n      <td>16</td>\n    </tr>\n    <tr>\n      <th>6</th>\n      <td>China</td>\n      <td>Shanghai</td>\n      <td>7</td>\n    </tr>\n    <tr>\n      <th>7</th>\n      <td>Finland</td>\n      <td>Kuopio</td>\n      <td>5</td>\n    </tr>\n    <tr>\n      <th>8</th>\n      <td>France</td>\n      <td>Lyon</td>\n      <td>14</td>\n    </tr>\n    <tr>\n      <th>9</th>\n      <td>France</td>\n      <td>Paris</td>\n      <td>14</td>\n    </tr>\n    <tr>\n      <th>10</th>\n      <td>Germany</td>\n      <td>Hamburg</td>\n      <td>18</td>\n    </tr>\n    <tr>\n      <th>11</th>\n      <td>Germany</td>\n      <td>München</td>\n      <td>18</td>\n    </tr>\n    <tr>\n      <th>12</th>\n      <td>Italy</td>\n      <td>Milano</td>\n      <td>9</td>\n    </tr>\n    <tr>\n      <th>13</th>\n      <td>Japan</td>\n      <td>Osaka City</td>\n      <td>5</td>\n    </tr>\n    <tr>\n      <th>14</th>\n      <td>Japan</td>\n      <td>Tokyo</td>\n      <td>5</td>\n    </tr>\n    <tr>\n      <th>15</th>\n      <td>Korea</td>\n      <td>Seoul</td>\n      <td>6</td>\n    </tr>\n    <tr>\n      <th>16</th>\n      <td>Mexico</td>\n      <td>Distrito Federal</td>\n      <td>6</td>\n    </tr>\n    <tr>\n      <th>17</th>\n      <td>Netherlands</td>\n      <td>Amsterdam</td>\n      <td>15</td>\n    </tr>\n    <tr>\n      <th>18</th>\n      <td>Spain</td>\n      <td>Bilbao</td>\n      <td>5</td>\n    </tr>\n    <tr>\n      <th>19</th>\n      <td>Sweden</td>\n      <td>Kista</td>\n      <td>10</td>\n    </tr>\n    <tr>\n      <th>20</th>\n      <td>Switzerland</td>\n      <td>Zürich</td>\n      <td>9</td>\n    </tr>\n    <tr>\n      <th>21</th>\n      <td>Taiwan</td>\n      <td>San Chung</td>\n      <td>9</td>\n    </tr>\n    <tr>\n      <th>22</th>\n      <td>United Kingdom</td>\n      <td>Birmingham</td>\n      <td>9</td>\n    </tr>\n    <tr>\n      <th>23</th>\n      <td>United Kingdom</td>\n      <td>London</td>\n      <td>9</td>\n    </tr>\n    <tr>\n      <th>24</th>\n      <td>United States</td>\n      <td>Boston</td>\n      <td>62</td>\n    </tr>\n    <tr>\n      <th>25</th>\n      <td>United States</td>\n      <td>Los Angeles</td>\n      <td>62</td>\n    </tr>\n    <tr>\n      <th>26</th>\n      <td>United States</td>\n      <td>Miami</td>\n      <td>62</td>\n    </tr>\n    <tr>\n      <th>27</th>\n      <td>United States</td>\n      <td>Seattle</td>\n      <td>62</td>\n    </tr>\n  </tbody>\n</table>\n</div>"
     },
     "execution_count": 30,
     "metadata": {},
     "output_type": "execute_result"
    }
   ],
   "source": [
    "# TODO 28 ipv 29 rijen\n",
    "merged_df = pd.merge(sales_branch, retailer_site, on='COUNTRY_CODE', suffixes=('_sales_branch', '_retailer_site'))\n",
    "\n",
    "merged_df = pd.merge(merged_df, country, on='COUNTRY_CODE')\n",
    "\n",
    "merged_df.groupby(['COUNTRY', 'CITY_sales_branch']).agg({'CITY_retailer_site': 'nunique'}).reset_index()\n",
    "\n",
    "\n",
    "\n"
   ]
  },
  {
   "cell_type": "markdown",
   "metadata": {},
   "source": [
    "## Pythonvertalingen van SUBSELECT en UNION met o.a. for-loops"
   ]
  },
  {
   "cell_type": "markdown",
   "metadata": {},
   "source": [
    "Geef een overzicht met daarin de voornaam en de achternaam van de medewerkers die nog nooit wat hebben verkocht (2 kolommen, 25 rijen) "
   ]
  },
  {
   "cell_type": "code",
   "execution_count": 31,
   "metadata": {
    "ExecuteTime": {
     "end_time": "2024-02-16T13:44:16.012391Z",
     "start_time": "2024-02-16T13:44:15.989185900Z"
    }
   },
   "outputs": [
    {
     "data": {
      "text/plain": "   FIRST_NAME      LAST_NAME\n7      Walter         Taylor\n8    Penelope        Tamrine\n11      Polly         Linton\n19      Gracy        Gellens\n26       Else         Mörike\n27      Frank          Fuchs\n30      Fritz         Hirsch\n31       Jörg          Kunze\n33      Maria      Iacobucci\n38       Kick        Kalkman\n43      Karin      Bergström\n44      Denis           Pagé\n47      Sally          White\n49      Frank        Bretton\n50    Georges  Saint-Germain\n56       Alex      Rodriguez\n60   Samantha          Floyd\n65      Julie          Olsen\n69      Corey         Wright\n76    Estelle        Johnson\n77       Greg        Belding\n80      Julie        Béchard\n84      Lucía          Reyna\n89     Kazumi        Uragome\n91      Alice         Walter",
      "text/html": "<div>\n<style scoped>\n    .dataframe tbody tr th:only-of-type {\n        vertical-align: middle;\n    }\n\n    .dataframe tbody tr th {\n        vertical-align: top;\n    }\n\n    .dataframe thead th {\n        text-align: right;\n    }\n</style>\n<table border=\"1\" class=\"dataframe\">\n  <thead>\n    <tr style=\"text-align: right;\">\n      <th></th>\n      <th>FIRST_NAME</th>\n      <th>LAST_NAME</th>\n    </tr>\n  </thead>\n  <tbody>\n    <tr>\n      <th>7</th>\n      <td>Walter</td>\n      <td>Taylor</td>\n    </tr>\n    <tr>\n      <th>8</th>\n      <td>Penelope</td>\n      <td>Tamrine</td>\n    </tr>\n    <tr>\n      <th>11</th>\n      <td>Polly</td>\n      <td>Linton</td>\n    </tr>\n    <tr>\n      <th>19</th>\n      <td>Gracy</td>\n      <td>Gellens</td>\n    </tr>\n    <tr>\n      <th>26</th>\n      <td>Else</td>\n      <td>Mörike</td>\n    </tr>\n    <tr>\n      <th>27</th>\n      <td>Frank</td>\n      <td>Fuchs</td>\n    </tr>\n    <tr>\n      <th>30</th>\n      <td>Fritz</td>\n      <td>Hirsch</td>\n    </tr>\n    <tr>\n      <th>31</th>\n      <td>Jörg</td>\n      <td>Kunze</td>\n    </tr>\n    <tr>\n      <th>33</th>\n      <td>Maria</td>\n      <td>Iacobucci</td>\n    </tr>\n    <tr>\n      <th>38</th>\n      <td>Kick</td>\n      <td>Kalkman</td>\n    </tr>\n    <tr>\n      <th>43</th>\n      <td>Karin</td>\n      <td>Bergström</td>\n    </tr>\n    <tr>\n      <th>44</th>\n      <td>Denis</td>\n      <td>Pagé</td>\n    </tr>\n    <tr>\n      <th>47</th>\n      <td>Sally</td>\n      <td>White</td>\n    </tr>\n    <tr>\n      <th>49</th>\n      <td>Frank</td>\n      <td>Bretton</td>\n    </tr>\n    <tr>\n      <th>50</th>\n      <td>Georges</td>\n      <td>Saint-Germain</td>\n    </tr>\n    <tr>\n      <th>56</th>\n      <td>Alex</td>\n      <td>Rodriguez</td>\n    </tr>\n    <tr>\n      <th>60</th>\n      <td>Samantha</td>\n      <td>Floyd</td>\n    </tr>\n    <tr>\n      <th>65</th>\n      <td>Julie</td>\n      <td>Olsen</td>\n    </tr>\n    <tr>\n      <th>69</th>\n      <td>Corey</td>\n      <td>Wright</td>\n    </tr>\n    <tr>\n      <th>76</th>\n      <td>Estelle</td>\n      <td>Johnson</td>\n    </tr>\n    <tr>\n      <th>77</th>\n      <td>Greg</td>\n      <td>Belding</td>\n    </tr>\n    <tr>\n      <th>80</th>\n      <td>Julie</td>\n      <td>Béchard</td>\n    </tr>\n    <tr>\n      <th>84</th>\n      <td>Lucía</td>\n      <td>Reyna</td>\n    </tr>\n    <tr>\n      <th>89</th>\n      <td>Kazumi</td>\n      <td>Uragome</td>\n    </tr>\n    <tr>\n      <th>91</th>\n      <td>Alice</td>\n      <td>Walter</td>\n    </tr>\n  </tbody>\n</table>\n</div>"
     },
     "execution_count": 31,
     "metadata": {},
     "output_type": "execute_result"
    }
   ],
   "source": [
    "# alle medewerkers\n",
    "all_staff = sales_staff['SALES_STAFF_CODE']\n",
    "\n",
    "# Lijst met medewerkers die iets hebben verkocht\n",
    "sales_staff_with_sales = order_header['SALES_STAFF_CODE'].unique()\n",
    "\n",
    "# Lijst met medewerkers die nog nooit iets hebben verkocht\n",
    "staff_without_sales = [staff for staff in all_staff if staff not in sales_staff_with_sales]\n",
    "\n",
    "# dataframe met de voornaam en achternaam van de medewerkers die nog nooit iets hebben verkocht\n",
    "sales_staff.loc[sales_staff['SALES_STAFF_CODE'].isin(staff_without_sales), ['FIRST_NAME', 'LAST_NAME']]\n"
   ]
  },
  {
   "cell_type": "markdown",
   "metadata": {},
   "source": [
    "Geef een overzicht met daarin het aantal producten waarvan de marge lager is dan de gemiddelde marge van alle producten samen. Geef in het overzicht tevens aan wat de gemiddelde marge is van dit aantal producten waarvan de marge lager dan de gemiddelde marge van alle producten samen is. (1 kolom, 2 rijen) "
   ]
  },
  {
   "cell_type": "code",
   "execution_count": 32,
   "metadata": {
    "ExecuteTime": {
     "end_time": "2024-02-16T13:44:20.201739Z",
     "start_time": "2024-02-16T13:44:20.189208Z"
    }
   },
   "outputs": [
    {
     "data": {
      "text/plain": "   products_with_lower_marge  avg_marge_products_with_lower_marge\n0                         59                             0.292203",
      "text/html": "<div>\n<style scoped>\n    .dataframe tbody tr th:only-of-type {\n        vertical-align: middle;\n    }\n\n    .dataframe tbody tr th {\n        vertical-align: top;\n    }\n\n    .dataframe thead th {\n        text-align: right;\n    }\n</style>\n<table border=\"1\" class=\"dataframe\">\n  <thead>\n    <tr style=\"text-align: right;\">\n      <th></th>\n      <th>products_with_lower_marge</th>\n      <th>avg_marge_products_with_lower_marge</th>\n    </tr>\n  </thead>\n  <tbody>\n    <tr>\n      <th>0</th>\n      <td>59</td>\n      <td>0.292203</td>\n    </tr>\n  </tbody>\n</table>\n</div>"
     },
     "execution_count": 32,
     "metadata": {},
     "output_type": "execute_result"
    }
   ],
   "source": [
    "# alle producten\n",
    "all_products = product['PRODUCT_NUMBER']\n",
    "\n",
    "# gemiddelde marge van alle producten\n",
    "avg_marge_all_products = product['MARGIN'].mean()\n",
    "\n",
    "# producten met een marge lager dan de gemiddelde marge van alle producten\n",
    "products_with_lower_marge = product.loc[product['MARGIN'] < avg_marge_all_products, 'PRODUCT_NUMBER']\n",
    "\n",
    "# gemiddelde marge van producten met een marge lager dan de gemiddelde marge van alle producten\n",
    "avg_marge_products_with_lower_marge = product.loc[product['PRODUCT_NUMBER'].isin(products_with_lower_marge), 'MARGIN'].mean()\n",
    "\n",
    "# dataframe met het aantal producten waarvan de marge lager is dan de gemiddelde marge van alle producten samen en de gemiddelde marge van dit aantal producten\n",
    "pd.DataFrame({'products_with_lower_marge': [products_with_lower_marge.count()], 'avg_marge_products_with_lower_marge': [avg_marge_products_with_lower_marge]})"
   ]
  },
  {
   "cell_type": "markdown",
   "metadata": {},
   "source": [
    "Geef een overzicht met daarin de namen van de producten die voor meer dan 500 (verkoopprijs) zijn verkocht maar nooit zijn teruggebracht. (1 kolom, 13 rijen) "
   ]
  },
  {
   "cell_type": "code",
   "execution_count": 39,
   "metadata": {
    "ExecuteTime": {
     "end_time": "2024-02-16T13:50:38.401712Z",
     "start_time": "2024-02-16T13:50:38.325366200Z"
    }
   },
   "outputs": [
    {
     "data": {
      "text/plain": "                         PRODUCT_NAME\n3               Hailstorm Steel Irons\n4            Hailstorm Titanium Irons\n5          Lady Hailstorm Steel Irons\n6       Lady Hailstorm Titanium Irons\n7        Hailstorm Titanium Woods Set\n8           Hailstorm Steel Woods Set\n9   Lady Hailstorm Titanium Woods Set\n10     Lady Hailstorm Steel Woods Set\n19                          Star Dome\n20                       Star Gazer 2\n21                       Star Gazer 3\n22                       Star Gazer 6\n55                     Husky Rope 200",
      "text/html": "<div>\n<style scoped>\n    .dataframe tbody tr th:only-of-type {\n        vertical-align: middle;\n    }\n\n    .dataframe tbody tr th {\n        vertical-align: top;\n    }\n\n    .dataframe thead th {\n        text-align: right;\n    }\n</style>\n<table border=\"1\" class=\"dataframe\">\n  <thead>\n    <tr style=\"text-align: right;\">\n      <th></th>\n      <th>PRODUCT_NAME</th>\n    </tr>\n  </thead>\n  <tbody>\n    <tr>\n      <th>3</th>\n      <td>Hailstorm Steel Irons</td>\n    </tr>\n    <tr>\n      <th>4</th>\n      <td>Hailstorm Titanium Irons</td>\n    </tr>\n    <tr>\n      <th>5</th>\n      <td>Lady Hailstorm Steel Irons</td>\n    </tr>\n    <tr>\n      <th>6</th>\n      <td>Lady Hailstorm Titanium Irons</td>\n    </tr>\n    <tr>\n      <th>7</th>\n      <td>Hailstorm Titanium Woods Set</td>\n    </tr>\n    <tr>\n      <th>8</th>\n      <td>Hailstorm Steel Woods Set</td>\n    </tr>\n    <tr>\n      <th>9</th>\n      <td>Lady Hailstorm Titanium Woods Set</td>\n    </tr>\n    <tr>\n      <th>10</th>\n      <td>Lady Hailstorm Steel Woods Set</td>\n    </tr>\n    <tr>\n      <th>19</th>\n      <td>Star Dome</td>\n    </tr>\n    <tr>\n      <th>20</th>\n      <td>Star Gazer 2</td>\n    </tr>\n    <tr>\n      <th>21</th>\n      <td>Star Gazer 3</td>\n    </tr>\n    <tr>\n      <th>22</th>\n      <td>Star Gazer 6</td>\n    </tr>\n    <tr>\n      <th>55</th>\n      <td>Husky Rope 200</td>\n    </tr>\n  </tbody>\n</table>\n</div>"
     },
     "execution_count": 39,
     "metadata": {},
     "output_type": "execute_result"
    }
   ],
   "source": [
    "# producten die voor meer dan 500 (verkoopprijs) zijn verkocht\n",
    "products_with_high_sales = order_details.loc[order_details['UNIT_SALE_PRICE'] > 500, 'PRODUCT_NUMBER']\n",
    "\n",
    "# merge order details met returned item\n",
    "# right join zodat we alle producten hebben die zijn teruggebracht\n",
    "merged_df = pd.merge(order_details, returned_item, on='ORDER_DETAIL_CODE', how='right')\n",
    "\n",
    "# producten die nooit zijn teruggebracht\n",
    "products_never_returned = merged_df['PRODUCT_NUMBER'].loc[merged_df['RETURN_QUANTITY'].isnull()].unique()\n",
    "\n",
    "# producten die voor meer dan 500 (verkoopprijs) zijn verkocht maar nooit zijn teruggebracht\n",
    "products_with_high_sales_never_returned = [product for product in products_with_high_sales if product not in products_never_returned]\n",
    "\n",
    "# series met de namen van de producten die voor meer dan 500 (verkoopprijs) zijn verkocht, maar nooit zijn teruggebracht\n",
    "product_series = product.loc[product['PRODUCT_NUMBER'].isin(products_with_high_sales_never_returned), 'PRODUCT_NAME']\n",
    "\n",
    "# series omzetten naar dataframe\n",
    "product_series.to_frame()"
   ]
  },
  {
   "cell_type": "markdown",
   "metadata": {},
   "source": [
    "Geef een overzicht met daarin per (achternaam van) medewerker of hij/zij manager is of niet, door deze informatie toe te voegen als extra 'Ja/Nee'-kolom.<br>\n",
    "Hint: gebruik een for-loop waarin je o.a. bepaalt of het woord 'Manager' in de functie (position_en) staat. (2 kolommen, 102 rijen)."
   ]
  },
  {
   "cell_type": "code",
   "execution_count": 34,
   "metadata": {
    "ExecuteTime": {
     "end_time": "2024-02-16T13:45:01.691914700Z",
     "start_time": "2024-02-16T13:45:01.656811900Z"
    }
   },
   "outputs": [
    {
     "data": {
      "text/plain": "      LAST_NAME MANAGER\n0    Savolainen   False\n1           Kim   False\n2          Choi   False\n3           Kao   False\n4          Fang   False\n..          ...     ...\n97     Iglesias   False\n98        Lopes    True\n99       Barros   False\n100   Guimarães   False\n101    Lindholm   False\n\n[102 rows x 2 columns]",
      "text/html": "<div>\n<style scoped>\n    .dataframe tbody tr th:only-of-type {\n        vertical-align: middle;\n    }\n\n    .dataframe tbody tr th {\n        vertical-align: top;\n    }\n\n    .dataframe thead th {\n        text-align: right;\n    }\n</style>\n<table border=\"1\" class=\"dataframe\">\n  <thead>\n    <tr style=\"text-align: right;\">\n      <th></th>\n      <th>LAST_NAME</th>\n      <th>MANAGER</th>\n    </tr>\n  </thead>\n  <tbody>\n    <tr>\n      <th>0</th>\n      <td>Savolainen</td>\n      <td>False</td>\n    </tr>\n    <tr>\n      <th>1</th>\n      <td>Kim</td>\n      <td>False</td>\n    </tr>\n    <tr>\n      <th>2</th>\n      <td>Choi</td>\n      <td>False</td>\n    </tr>\n    <tr>\n      <th>3</th>\n      <td>Kao</td>\n      <td>False</td>\n    </tr>\n    <tr>\n      <th>4</th>\n      <td>Fang</td>\n      <td>False</td>\n    </tr>\n    <tr>\n      <th>...</th>\n      <td>...</td>\n      <td>...</td>\n    </tr>\n    <tr>\n      <th>97</th>\n      <td>Iglesias</td>\n      <td>False</td>\n    </tr>\n    <tr>\n      <th>98</th>\n      <td>Lopes</td>\n      <td>True</td>\n    </tr>\n    <tr>\n      <th>99</th>\n      <td>Barros</td>\n      <td>False</td>\n    </tr>\n    <tr>\n      <th>100</th>\n      <td>Guimarães</td>\n      <td>False</td>\n    </tr>\n    <tr>\n      <th>101</th>\n      <td>Lindholm</td>\n      <td>False</td>\n    </tr>\n  </tbody>\n</table>\n<p>102 rows × 2 columns</p>\n</div>"
     },
     "execution_count": 34,
     "metadata": {},
     "output_type": "execute_result"
    }
   ],
   "source": [
    "for index, row in sales_staff.iterrows():\n",
    "    if 'Manager' in row['POSITION_EN']:\n",
    "        sales_staff.loc[index, 'MANAGER'] = True\n",
    "    else:\n",
    "        sales_staff.loc[index, 'MANAGER'] = False\n",
    "        \n",
    "sales_staff[['LAST_NAME', 'MANAGER']]"
   ]
  },
  {
   "cell_type": "markdown",
   "metadata": {},
   "source": [
    "Met de onderstaande code laat je Python het huidige jaar uitrekenen."
   ]
  },
  {
   "cell_type": "code",
   "execution_count": 35,
   "metadata": {
    "ExecuteTime": {
     "end_time": "2024-02-16T13:45:11.446891400Z",
     "start_time": "2024-02-16T13:45:11.354697500Z"
    }
   },
   "outputs": [
    {
     "data": {
      "text/plain": "2024"
     },
     "execution_count": 35,
     "metadata": {},
     "output_type": "execute_result"
    }
   ],
   "source": [
    "from datetime import date\n",
    "date.today().year"
   ]
  },
  {
   "cell_type": "markdown",
   "metadata": {},
   "source": [
    "Met de onderstaande code selecteer je op een bepaald jaartal uit een datum."
   ]
  },
  {
   "cell_type": "code",
   "execution_count": 36,
   "metadata": {
    "ExecuteTime": {
     "end_time": "2024-02-16T13:45:11.456889700Z",
     "start_time": "2024-02-16T13:45:11.420628600Z"
    }
   },
   "outputs": [
    {
     "data": {
      "text/plain": "2013"
     },
     "execution_count": 36,
     "metadata": {},
     "output_type": "execute_result"
    }
   ],
   "source": [
    "from datetime import datetime\n",
    "\n",
    "date_str = '16-8-2013'\n",
    "date_format = '%d-%m-%Y'\n",
    "date_obj = datetime.strptime(date_str, date_format)\n",
    "\n",
    "date_obj.year"
   ]
  },
  {
   "cell_type": "markdown",
   "metadata": {},
   "source": [
    "Geef met behulp van bovenstaande hulpcode een overzicht met daarin op basis van het aantal jaar dat iemand in dienst is of een medewerker ‘kort in dienst’ (minder dan 25 jaar in dienst) of een ‘lang in dienst’ (groter gelijk dan 12 jaar in dienst) is. Geef daarbij per medewerker in een aparte kolom zowel ‘kort in dienst’ als ‘lang in dienst’ aan. Gebruik (wederom) een for-loop.<br>\n",
    "(2 kolommen, 102 rijen) "
   ]
  },
  {
   "cell_type": "code",
   "execution_count": 37,
   "metadata": {
    "ExecuteTime": {
     "end_time": "2024-02-16T13:45:11.577310300Z",
     "start_time": "2024-02-16T13:45:11.460897600Z"
    }
   },
   "outputs": [],
   "source": [
    "# varchar omzetten naar datetime\n",
    "current_year = date.today().year\n",
    "\n",
    "for index, row in sales_staff.iterrows():\n",
    "    date_hired = datetime.strptime(row['DATE_HIRED'], '%d-%m-%Y')\n",
    "    years_in_service = current_year - date_hired.year\n",
    "\n",
    "    if years_in_service < 25:\n",
    "        sales_staff.loc[index, 'SHORT_IN_SERVICE'] = True\n",
    "        sales_staff.loc[index, 'LONG_IN_SERVICE'] = False\n",
    "    elif years_in_service >= 12:\n",
    "        sales_staff.loc[index, 'SHORT_IN_SERVICE'] = False\n",
    "        sales_staff.loc[index, 'LONG_IN_SERVICE'] = True"
   ]
  }
 ],
 "metadata": {
  "kernelspec": {
   "display_name": "python-in-deds-P4iSP_yI-py3.11",
   "language": "python",
   "name": "python3"
  },
  "language_info": {
   "codemirror_mode": {
    "name": "ipython",
    "version": 3
   },
   "file_extension": ".py",
   "mimetype": "text/x-python",
   "name": "python",
   "nbconvert_exporter": "python",
   "pygments_lexer": "ipython3",
   "version": "3.11.4"
  }
 },
 "nbformat": 4,
 "nbformat_minor": 2
}
