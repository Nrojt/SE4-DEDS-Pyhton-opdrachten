{
 "cells": [
  {
   "metadata": {},
   "cell_type": "markdown",
   "source": [
    "# Cluster modellen\n",
    "Unsupervised learning"
   ],
   "id": "1bcb439bbd782722"
  },
  {
   "metadata": {
    "ExecuteTime": {
     "end_time": "2024-04-08T12:47:43.216270Z",
     "start_time": "2024-04-08T12:47:43.211202Z"
    }
   },
   "cell_type": "code",
   "source": [
    "import pyodbc\n",
    "import pandas as pd\n",
    "from sklearn.cluster import KMeans\n",
    "from sklearn.metrics import pairwise_distances\n",
    "from sklearn.decomposition import PCA\n",
    "import numpy as np\n",
    "import matplotlib.pyplot as plt"
   ],
   "id": "157030d01ca3b9f6",
   "outputs": [],
   "execution_count": 10
  },
  {
   "metadata": {},
   "cell_type": "markdown",
   "source": "# Database connectie",
   "id": "efca0e3e86352041"
  },
  {
   "metadata": {
    "ExecuteTime": {
     "end_time": "2024-04-08T12:47:43.518470Z",
     "start_time": "2024-04-08T12:47:43.246211Z"
    }
   },
   "cell_type": "code",
   "source": [
    "# database name\n",
    "DB = {\n",
    "    'servername': '(local)\\\\SQLEXPRESS',\n",
    "    'database': 'DEDS_DataWarehouse'}"
   ],
   "id": "315243e82518bbc2",
   "outputs": [],
   "execution_count": 11
  },
  {
   "metadata": {
    "ExecuteTime": {
     "end_time": "2024-04-08T12:47:43.556405Z",
     "start_time": "2024-04-08T12:47:43.520971Z"
    }
   },
   "cell_type": "code",
   "source": [
    "export_conn = pyodbc.connect('DRIVER={SQL Server};SERVER=' + DB['servername'] + ';DATABASE=' + DB['database'] + ';Trusted_Connection=yes')\n",
    "\n",
    "\n",
    "# Create a cursor from the connection\n",
    "export_cursor = export_conn.cursor()\n",
    "\n",
    "# check if connection is successful, else throw an error\n",
    "if export_conn:\n",
    "    print(\"Connection with database is established\")\n",
    "else:\n",
    "    print(\"Connection with database is not established\")\n",
    "    raise Exception(\"Connection with database is not established\")"
   ],
   "id": "b9d2336ecd11b043",
   "outputs": [
    {
     "name": "stdout",
     "output_type": "stream",
     "text": [
      "Connection with database is established\n"
     ]
    }
   ],
   "execution_count": 12
  },
  {
   "metadata": {},
   "cell_type": "markdown",
   "source": [
    "# Tabellen Inlezen\n",
    "We hebben data nodig uit de volgende tabellen:\n",
    "- Sales_branch"
   ],
   "id": "8c94540cf625ec2a"
  },
  {
   "metadata": {
    "ExecuteTime": {
     "end_time": "2024-04-08T12:47:43.572802Z",
     "start_time": "2024-04-08T12:47:43.557921Z"
    }
   },
   "cell_type": "code",
   "source": [
    "# Query om data uit de tabel te halen\n",
    "query = \"SELECT * FROM Sales_branch\"\n",
    "\n",
    "# Execute the query\n",
    "result = export_cursor.execute(query)\n",
    "\n",
    "# Fetch the data from the executed query\n",
    "data_fetch = result.fetchall()\n",
    "\n",
    "# converting to dataframe\n",
    "sales_branch_columns = [column[0] for column in result.description]\n",
    "sales_branch = pd.DataFrame.from_records(data_fetch, columns=sales_branch_columns)\n",
    "\n",
    "# dropping columns that are not needed\n",
    "sales_branch.drop(columns=['CURRENT_VALUE', 'LAST_UPDATED', 'SALES_BRANCH_SK', 'SALES_BRANCH_code', 'SALES_BRANCH_MAIN_ADDRESS_address', 'SALES_BRANCH_ADDRESS1_address', 'SALES_BRANCH_ADDRESS2_address'], inplace=True)\n",
    "\n",
    "# display the data\n",
    "sales_branch"
   ],
   "id": "4d2ddd0056e881be",
   "outputs": [
    {
     "data": {
      "text/plain": [
       "    SALES_BRANCH_COUNTRY_CODE_country SALES_BRANCH_REGION_region  \\\n",
       "0                                   2                       None   \n",
       "1                                   2                       None   \n",
       "2                                  10                       None   \n",
       "3                                   4                    Alberta   \n",
       "4                                   4                    Ontario   \n",
       "5                                   3              Massachusetts   \n",
       "6                                   3                 Washington   \n",
       "7                                   3                 California   \n",
       "8                                   3                    Florida   \n",
       "9                                   1                       None   \n",
       "10                                 20                     México   \n",
       "11                                 11                      Tokyo   \n",
       "12                                 11                      Osaka   \n",
       "13                                 16                        VIC   \n",
       "14                                 19                    Vizcaya   \n",
       "15                                 21                         SP   \n",
       "16                                 22                       None   \n",
       "17                                 13                       None   \n",
       "18                                 12                     Taipei   \n",
       "19                                 14                       None   \n",
       "20                                  9                       None   \n",
       "21                                  9              West Midlands   \n",
       "22                                  8                       None   \n",
       "23                                 17                       None   \n",
       "24                                  5                       None   \n",
       "25                                  1                       None   \n",
       "26                                  6                       None   \n",
       "27                                  7              Noord-Holland   \n",
       "\n",
       "   SALES_BRANCH_CITY_city SALES_BRANCH_POSTAL_ZONE_postal_zone  \n",
       "0                 Hamburg                              D-22529  \n",
       "1                 München                              D-81241  \n",
       "2                   Kista                             S-164 40  \n",
       "3                 Calgary                              T2P 3Z0  \n",
       "4                 Toronto                              M2M 4K8  \n",
       "5                  Boston                                02133  \n",
       "6                 Seattle                                98139  \n",
       "7             Los Angeles                                90072  \n",
       "8                   Miami                                33024  \n",
       "9                    Lyon                              F-69002  \n",
       "10       Distrito Federal                                01219  \n",
       "11                  Tokyo                             681-3187  \n",
       "12             Osaka City                             616-5698  \n",
       "13              Melbourne                                 2088  \n",
       "14                 Bilbao                                48223  \n",
       "15              São Paulo                            01403-090  \n",
       "16                 Kuopio                            FIN-73100  \n",
       "17                  Seoul                              121-020  \n",
       "18              San Chung                                  241  \n",
       "19               Shanghai                               200040  \n",
       "20                 London                              N17 7LX  \n",
       "21             Birmingham                              B43 7NP  \n",
       "22                 Zürich                              CH-8057  \n",
       "23               Heverlee                               B-3001  \n",
       "24                   Wien                               A-1210  \n",
       "25                  Paris                              F-75008  \n",
       "26                 Milano                              I-20121  \n",
       "27              Amsterdam                              1233 BW  "
      ],
      "text/html": [
       "<div>\n",
       "<style scoped>\n",
       "    .dataframe tbody tr th:only-of-type {\n",
       "        vertical-align: middle;\n",
       "    }\n",
       "\n",
       "    .dataframe tbody tr th {\n",
       "        vertical-align: top;\n",
       "    }\n",
       "\n",
       "    .dataframe thead th {\n",
       "        text-align: right;\n",
       "    }\n",
       "</style>\n",
       "<table border=\"1\" class=\"dataframe\">\n",
       "  <thead>\n",
       "    <tr style=\"text-align: right;\">\n",
       "      <th></th>\n",
       "      <th>SALES_BRANCH_COUNTRY_CODE_country</th>\n",
       "      <th>SALES_BRANCH_REGION_region</th>\n",
       "      <th>SALES_BRANCH_CITY_city</th>\n",
       "      <th>SALES_BRANCH_POSTAL_ZONE_postal_zone</th>\n",
       "    </tr>\n",
       "  </thead>\n",
       "  <tbody>\n",
       "    <tr>\n",
       "      <th>0</th>\n",
       "      <td>2</td>\n",
       "      <td>None</td>\n",
       "      <td>Hamburg</td>\n",
       "      <td>D-22529</td>\n",
       "    </tr>\n",
       "    <tr>\n",
       "      <th>1</th>\n",
       "      <td>2</td>\n",
       "      <td>None</td>\n",
       "      <td>München</td>\n",
       "      <td>D-81241</td>\n",
       "    </tr>\n",
       "    <tr>\n",
       "      <th>2</th>\n",
       "      <td>10</td>\n",
       "      <td>None</td>\n",
       "      <td>Kista</td>\n",
       "      <td>S-164 40</td>\n",
       "    </tr>\n",
       "    <tr>\n",
       "      <th>3</th>\n",
       "      <td>4</td>\n",
       "      <td>Alberta</td>\n",
       "      <td>Calgary</td>\n",
       "      <td>T2P 3Z0</td>\n",
       "    </tr>\n",
       "    <tr>\n",
       "      <th>4</th>\n",
       "      <td>4</td>\n",
       "      <td>Ontario</td>\n",
       "      <td>Toronto</td>\n",
       "      <td>M2M 4K8</td>\n",
       "    </tr>\n",
       "    <tr>\n",
       "      <th>5</th>\n",
       "      <td>3</td>\n",
       "      <td>Massachusetts</td>\n",
       "      <td>Boston</td>\n",
       "      <td>02133</td>\n",
       "    </tr>\n",
       "    <tr>\n",
       "      <th>6</th>\n",
       "      <td>3</td>\n",
       "      <td>Washington</td>\n",
       "      <td>Seattle</td>\n",
       "      <td>98139</td>\n",
       "    </tr>\n",
       "    <tr>\n",
       "      <th>7</th>\n",
       "      <td>3</td>\n",
       "      <td>California</td>\n",
       "      <td>Los Angeles</td>\n",
       "      <td>90072</td>\n",
       "    </tr>\n",
       "    <tr>\n",
       "      <th>8</th>\n",
       "      <td>3</td>\n",
       "      <td>Florida</td>\n",
       "      <td>Miami</td>\n",
       "      <td>33024</td>\n",
       "    </tr>\n",
       "    <tr>\n",
       "      <th>9</th>\n",
       "      <td>1</td>\n",
       "      <td>None</td>\n",
       "      <td>Lyon</td>\n",
       "      <td>F-69002</td>\n",
       "    </tr>\n",
       "    <tr>\n",
       "      <th>10</th>\n",
       "      <td>20</td>\n",
       "      <td>México</td>\n",
       "      <td>Distrito Federal</td>\n",
       "      <td>01219</td>\n",
       "    </tr>\n",
       "    <tr>\n",
       "      <th>11</th>\n",
       "      <td>11</td>\n",
       "      <td>Tokyo</td>\n",
       "      <td>Tokyo</td>\n",
       "      <td>681-3187</td>\n",
       "    </tr>\n",
       "    <tr>\n",
       "      <th>12</th>\n",
       "      <td>11</td>\n",
       "      <td>Osaka</td>\n",
       "      <td>Osaka City</td>\n",
       "      <td>616-5698</td>\n",
       "    </tr>\n",
       "    <tr>\n",
       "      <th>13</th>\n",
       "      <td>16</td>\n",
       "      <td>VIC</td>\n",
       "      <td>Melbourne</td>\n",
       "      <td>2088</td>\n",
       "    </tr>\n",
       "    <tr>\n",
       "      <th>14</th>\n",
       "      <td>19</td>\n",
       "      <td>Vizcaya</td>\n",
       "      <td>Bilbao</td>\n",
       "      <td>48223</td>\n",
       "    </tr>\n",
       "    <tr>\n",
       "      <th>15</th>\n",
       "      <td>21</td>\n",
       "      <td>SP</td>\n",
       "      <td>São Paulo</td>\n",
       "      <td>01403-090</td>\n",
       "    </tr>\n",
       "    <tr>\n",
       "      <th>16</th>\n",
       "      <td>22</td>\n",
       "      <td>None</td>\n",
       "      <td>Kuopio</td>\n",
       "      <td>FIN-73100</td>\n",
       "    </tr>\n",
       "    <tr>\n",
       "      <th>17</th>\n",
       "      <td>13</td>\n",
       "      <td>None</td>\n",
       "      <td>Seoul</td>\n",
       "      <td>121-020</td>\n",
       "    </tr>\n",
       "    <tr>\n",
       "      <th>18</th>\n",
       "      <td>12</td>\n",
       "      <td>Taipei</td>\n",
       "      <td>San Chung</td>\n",
       "      <td>241</td>\n",
       "    </tr>\n",
       "    <tr>\n",
       "      <th>19</th>\n",
       "      <td>14</td>\n",
       "      <td>None</td>\n",
       "      <td>Shanghai</td>\n",
       "      <td>200040</td>\n",
       "    </tr>\n",
       "    <tr>\n",
       "      <th>20</th>\n",
       "      <td>9</td>\n",
       "      <td>None</td>\n",
       "      <td>London</td>\n",
       "      <td>N17 7LX</td>\n",
       "    </tr>\n",
       "    <tr>\n",
       "      <th>21</th>\n",
       "      <td>9</td>\n",
       "      <td>West Midlands</td>\n",
       "      <td>Birmingham</td>\n",
       "      <td>B43 7NP</td>\n",
       "    </tr>\n",
       "    <tr>\n",
       "      <th>22</th>\n",
       "      <td>8</td>\n",
       "      <td>None</td>\n",
       "      <td>Zürich</td>\n",
       "      <td>CH-8057</td>\n",
       "    </tr>\n",
       "    <tr>\n",
       "      <th>23</th>\n",
       "      <td>17</td>\n",
       "      <td>None</td>\n",
       "      <td>Heverlee</td>\n",
       "      <td>B-3001</td>\n",
       "    </tr>\n",
       "    <tr>\n",
       "      <th>24</th>\n",
       "      <td>5</td>\n",
       "      <td>None</td>\n",
       "      <td>Wien</td>\n",
       "      <td>A-1210</td>\n",
       "    </tr>\n",
       "    <tr>\n",
       "      <th>25</th>\n",
       "      <td>1</td>\n",
       "      <td>None</td>\n",
       "      <td>Paris</td>\n",
       "      <td>F-75008</td>\n",
       "    </tr>\n",
       "    <tr>\n",
       "      <th>26</th>\n",
       "      <td>6</td>\n",
       "      <td>None</td>\n",
       "      <td>Milano</td>\n",
       "      <td>I-20121</td>\n",
       "    </tr>\n",
       "    <tr>\n",
       "      <th>27</th>\n",
       "      <td>7</td>\n",
       "      <td>Noord-Holland</td>\n",
       "      <td>Amsterdam</td>\n",
       "      <td>1233 BW</td>\n",
       "    </tr>\n",
       "  </tbody>\n",
       "</table>\n",
       "</div>"
      ]
     },
     "execution_count": 13,
     "metadata": {},
     "output_type": "execute_result"
    }
   ],
   "execution_count": 13
  },
  {
   "metadata": {},
   "cell_type": "markdown",
   "source": [
    "# Data Preprocessing\n",
    "Null waarden vervangen en alles omzetten naar numerieke waarden"
   ],
   "id": "71803b8d7c62f828"
  },
  {
   "metadata": {
    "ExecuteTime": {
     "end_time": "2024-04-08T12:47:43.584194Z",
     "start_time": "2024-04-08T12:47:43.574820Z"
    }
   },
   "cell_type": "code",
   "source": [
    "# filling the null values in the region column\n",
    "sales_branch['SALES_BRANCH_REGION_region'].fillna('Unknown')\n",
    "\n",
    "# converting the string columns to numerical values\n",
    "sales_branch['SALES_BRANCH_REGION_region'] = sales_branch['SALES_BRANCH_REGION_region'].astype('category').cat.codes\n",
    "sales_branch['SALES_BRANCH_CITY_city'] = sales_branch['SALES_BRANCH_CITY_city'].astype('category').cat.codes\n",
    "sales_branch['SALES_BRANCH_POSTAL_ZONE_postal_zone'] = sales_branch['SALES_BRANCH_POSTAL_ZONE_postal_zone'].astype('category').cat.codes\n",
    "\n",
    "sales_branch.head()"
   ],
   "id": "1d4a7010d42f6081",
   "outputs": [
    {
     "data": {
      "text/plain": [
       "   SALES_BRANCH_COUNTRY_CODE_country  SALES_BRANCH_REGION_region  \\\n",
       "0                                  2                          -1   \n",
       "1                                  2                          -1   \n",
       "2                                 10                          -1   \n",
       "3                                  4                           0   \n",
       "4                                  4                           6   \n",
       "\n",
       "   SALES_BRANCH_CITY_city  SALES_BRANCH_POSTAL_ZONE_postal_zone  \n",
       "0                       6                                    18  \n",
       "1                      16                                    19  \n",
       "2                       8                                    26  \n",
       "3                       4                                    27  \n",
       "4                      25                                    24  "
      ],
      "text/html": [
       "<div>\n",
       "<style scoped>\n",
       "    .dataframe tbody tr th:only-of-type {\n",
       "        vertical-align: middle;\n",
       "    }\n",
       "\n",
       "    .dataframe tbody tr th {\n",
       "        vertical-align: top;\n",
       "    }\n",
       "\n",
       "    .dataframe thead th {\n",
       "        text-align: right;\n",
       "    }\n",
       "</style>\n",
       "<table border=\"1\" class=\"dataframe\">\n",
       "  <thead>\n",
       "    <tr style=\"text-align: right;\">\n",
       "      <th></th>\n",
       "      <th>SALES_BRANCH_COUNTRY_CODE_country</th>\n",
       "      <th>SALES_BRANCH_REGION_region</th>\n",
       "      <th>SALES_BRANCH_CITY_city</th>\n",
       "      <th>SALES_BRANCH_POSTAL_ZONE_postal_zone</th>\n",
       "    </tr>\n",
       "  </thead>\n",
       "  <tbody>\n",
       "    <tr>\n",
       "      <th>0</th>\n",
       "      <td>2</td>\n",
       "      <td>-1</td>\n",
       "      <td>6</td>\n",
       "      <td>18</td>\n",
       "    </tr>\n",
       "    <tr>\n",
       "      <th>1</th>\n",
       "      <td>2</td>\n",
       "      <td>-1</td>\n",
       "      <td>16</td>\n",
       "      <td>19</td>\n",
       "    </tr>\n",
       "    <tr>\n",
       "      <th>2</th>\n",
       "      <td>10</td>\n",
       "      <td>-1</td>\n",
       "      <td>8</td>\n",
       "      <td>26</td>\n",
       "    </tr>\n",
       "    <tr>\n",
       "      <th>3</th>\n",
       "      <td>4</td>\n",
       "      <td>0</td>\n",
       "      <td>4</td>\n",
       "      <td>27</td>\n",
       "    </tr>\n",
       "    <tr>\n",
       "      <th>4</th>\n",
       "      <td>4</td>\n",
       "      <td>6</td>\n",
       "      <td>25</td>\n",
       "      <td>24</td>\n",
       "    </tr>\n",
       "  </tbody>\n",
       "</table>\n",
       "</div>"
      ]
     },
     "execution_count": 14,
     "metadata": {},
     "output_type": "execute_result"
    }
   ],
   "execution_count": 14
  },
  {
   "metadata": {},
   "cell_type": "markdown",
   "source": "",
   "id": "8c696149db1b1ef7"
  },
  {
   "metadata": {},
   "cell_type": "markdown",
   "source": [
    "# KMeans\n",
    "cluster model using KMeans"
   ],
   "id": "29c1e0c5389a3f65"
  },
  {
   "metadata": {
    "ExecuteTime": {
     "end_time": "2024-04-08T12:47:43.704906Z",
     "start_time": "2024-04-08T12:47:43.585206Z"
    }
   },
   "cell_type": "code",
   "source": [
    "# Define a range of k values to try\n",
    "ks = range(2, 21)\n",
    "\n",
    "# Empty list to store the intra- and inter cluster distances\n",
    "intra_distances = []\n",
    "inter_distances = []\n",
    "\n",
    "for k in ks:\n",
    "    # Train een KMeans-model voor deze k\n",
    "    kmeans = KMeans(n_clusters=k)\n",
    "    kmeans.fit(sales_branch)\n",
    "    \n",
    "    # Calculate the intra cluster distance as the sum of the distances of the samples to their closest cluster center. This is done by kmeans.inertia_\n",
    "    intra_distance = kmeans.inertia_\n",
    "    intra_distances.append(intra_distance)\n",
    "    \n",
    "    # Calculate the inter cluster distance as the mean distance between the cluster centers. this is done by pairwise_distances(kmeans.cluster_centers_)\n",
    "    cluster_centers = kmeans.cluster_centers_\n",
    "    inter_distance = np.mean(pairwise_distances(cluster_centers))\n",
    "    inter_distances.append(inter_distance)\n",
    "\n",
    "# Printing the results. Zip combines the lists so that we can iterate over them together\n",
    "for k, intra, inter in zip(ks, intra_distances, inter_distances):\n",
    "    print(f\"For k={k}, intra-cluster distance={intra}, inter-cluster distance={inter}\")"
   ],
   "id": "94cf70159a629441",
   "outputs": [
    {
     "name": "stdout",
     "output_type": "stream",
     "text": [
      "For k=2, intra-cluster distance=3765.4285714285725, inter-cluster distance=7.950099473129445\n",
      "For k=3, intra-cluster distance=3015.924242424242, inter-cluster distance=11.010147644246246\n",
      "For k=4, intra-cluster distance=2290.1357142857146, inter-cluster distance=13.617558167650145\n",
      "For k=5, intra-cluster distance=2016.1166666666663, inter-cluster distance=14.423409609311648\n",
      "For k=6, intra-cluster distance=1593.6428571428573, inter-cluster distance=15.28581343760272\n",
      "For k=7, intra-cluster distance=1489.8833333333334, inter-cluster distance=16.086711641881838\n",
      "For k=8, intra-cluster distance=1173.642857142857, inter-cluster distance=16.742569473231654\n",
      "For k=9, intra-cluster distance=1014.9999999999999, inter-cluster distance=17.0853578307389\n",
      "For k=10, intra-cluster distance=899.9166666666666, inter-cluster distance=18.38701631803195\n"
     ]
    }
   ],
   "execution_count": 15
  },
  {
   "metadata": {},
   "cell_type": "markdown",
   "source": "## Plotting the intra- and inter-cluster distances",
   "id": "730427af1117fa16"
  },
  {
   "metadata": {
    "ExecuteTime": {
     "end_time": "2024-04-08T12:47:43.947574Z",
     "start_time": "2024-04-08T12:47:43.705911Z"
    }
   },
   "cell_type": "code",
   "source": [
    "# Plotting the intra-cluster distances\n",
    "plt.figure(figsize=(10, 5))\n",
    "plt.plot(ks, intra_distances, marker='o')\n",
    "plt.title('Intra-cluster distances for different values of k')\n",
    "plt.xlabel('Number of clusters (k)')\n",
    "plt.ylabel('Intra-cluster distance (inertia)')\n",
    "plt.grid(True)\n",
    "plt.show()\n",
    "\n",
    "# Plotting the inter-cluster distances\n",
    "plt.figure(figsize=(10, 5))\n",
    "plt.plot(ks, inter_distances, marker='o')\n",
    "plt.title('Inter-cluster distances for different values of k')\n",
    "plt.xlabel('Number of clusters (k)')\n",
    "plt.ylabel('Inter-cluster distance')\n",
    "plt.grid(True)\n",
    "plt.show()"
   ],
   "id": "b2ab85841b9e24c",
   "outputs": [
    {
     "data": {
      "text/plain": [
       "<Figure size 1000x500 with 1 Axes>"
      ],
      "image/png": "[encoded data removed]"
     },
     "metadata": {},
     "output_type": "display_data"
    },
    {
     "data": {
      "text/plain": [
       "<Figure size 1000x500 with 1 Axes>"
      ],
      "image/png": "[encoded data removed]"
     },
     "metadata": {},
     "output_type": "display_data"
    }
   ],
   "execution_count": 16
  },
  {
   "metadata": {},
   "cell_type": "markdown",
   "source": "## Finding the optimal k",
   "id": "2e478c1d30da01d5"
  },
  {
   "metadata": {
    "ExecuteTime": {
     "end_time": "2024-04-08T12:47:43.953066Z",
     "start_time": "2024-04-08T12:47:43.948580Z"
    }
   },
   "cell_type": "code",
   "source": [
    "# Calculate the difference between subsequent elements in intra_distances\n",
    "diff = np.diff(intra_distances)\n",
    "# Calculate the difference between subsequent elements in diff\n",
    "diff2 = np.diff(diff)\n",
    "# The elbow is where the difference starts to increase\n",
    "elbow = np.where(diff2 > 0)[0][0] + 1"
   ],
   "id": "7671ad0bf604c492",
   "outputs": [],
   "execution_count": 17
  },
  {
   "metadata": {},
   "cell_type": "markdown",
   "source": "### Plotting the elbow",
   "id": "c3d1ed8765037eb3"
  },
  {
   "metadata": {
    "ExecuteTime": {
     "end_time": "2024-04-08T12:47:44.097393Z",
     "start_time": "2024-04-08T12:47:43.954074Z"
    }
   },
   "cell_type": "code",
   "source": [
    "# Train a KMeans model with the optimal number of clusters\n",
    "kmeans_optimal = KMeans(n_clusters=elbow)\n",
    "kmeans_optimal.fit(sales_branch)\n",
    "\n",
    "# Get the cluster assignments for each data point\n",
    "cluster_assignments = kmeans_optimal.labels_\n",
    "\n",
    "# Reduce the data to two dimensions using PCA\n",
    "pca = PCA(n_components=2)\n",
    "sales_branch_pca = pca.fit_transform(sales_branch)\n",
    "\n",
    "# Create a scatter plot of the reduced data, colored by cluster assignment\n",
    "plt.figure(figsize=(10, 5))\n",
    "plt.scatter(sales_branch_pca[:, 0], sales_branch_pca[:, 1], c=cluster_assignments, cmap='viridis')\n",
    "plt.title('Visualization of clusters')\n",
    "plt.xlabel('PCA 1')\n",
    "plt.ylabel('PCA 2')\n",
    "plt.show()"
   ],
   "id": "5219a0da9fc8423a",
   "outputs": [
    {
     "data": {
      "text/plain": [
       "<Figure size 1000x500 with 1 Axes>"
      ],
      "image/png": "[encoded data removed]"
     },
     "metadata": {},
     "output_type": "display_data"
    }
   ],
   "execution_count": 18
  }
 ],
 "metadata": {
  "kernelspec": {
   "display_name": "Python 3",
   "language": "python",
   "name": "python3"
  },
  "language_info": {
   "codemirror_mode": {
    "name": "ipython",
    "version": 2
   },
   "file_extension": ".py",
   "mimetype": "text/x-python",
   "name": "python",
   "nbconvert_exporter": "python",
   "pygments_lexer": "ipython2",
   "version": "2.7.6"
  }
 },
 "nbformat": 4,
 "nbformat_minor": 5
}
